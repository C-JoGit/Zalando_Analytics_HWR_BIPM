{
 "metadata": {
  "language_info": {
   "codemirror_mode": {
    "name": "ipython",
    "version": 3
   },
   "file_extension": ".py",
   "mimetype": "text/x-python",
   "name": "python",
   "nbconvert_exporter": "python",
   "pygments_lexer": "ipython3",
   "version": "3.8.2"
  },
  "orig_nbformat": 2,
  "kernelspec": {
   "name": "python3",
   "display_name": "Python 3.8.2 64-bit"
  },
  "interpreter": {
   "hash": "1baa965d5efe3ac65b79dfc60c0d706280b1da80fedb7760faf2759126c4f253"
  }
 },
 "nbformat": 4,
 "nbformat_minor": 2,
 "cells": [
  {
   "cell_type": "code",
   "execution_count": 1,
   "metadata": {},
   "outputs": [
    {
     "output_type": "stream",
     "name": "stderr",
     "text": [
      "C:\\Users\\Annelie Schridde\\AppData\\Roaming\\Python\\Python38\\site-packages\\gensim\\similarities\\__init__.py:15: UserWarning: The gensim.similarities.levenshtein submodule is disabled, because the optional Levenshtein package <https://pypi.org/project/python-Levenshtein/> is unavailable. Install Levenhstein (e.g. `pip install python-Levenshtein`) to suppress this warning.\n",
      "  warnings.warn(msg)\n",
      "[nltk_data] Downloading package stopwords to C:\\Users\\Annelie\n",
      "[nltk_data]     Schridde\\AppData\\Roaming\\nltk_data...\n",
      "[nltk_data]   Package stopwords is already up-to-date!\n",
      "[nltk_data] Downloading package vader_lexicon to C:\\Users\\Annelie\n",
      "[nltk_data]     Schridde\\AppData\\Roaming\\nltk_data...\n",
      "[nltk_data]   Package vader_lexicon is already up-to-date!\n",
      "[nltk_data] Downloading package punkt to C:\\Users\\Annelie\n",
      "[nltk_data]     Schridde\\AppData\\Roaming\\nltk_data...\n",
      "[nltk_data]   Package punkt is already up-to-date!\n"
     ]
    }
   ],
   "source": [
    "import sys\n",
    "sys.path.append('../')\n",
    "#import functions\n",
    "#exec(open('./functions.py').read())\n",
    "%run functions.py\n",
    "import demoji\n",
    "#demoji.download_codes()"
   ]
  },
  {
   "cell_type": "code",
   "execution_count": 2,
   "metadata": {},
   "outputs": [],
   "source": [
    "def classify_bots(df):\n",
    "    #collect all the account names related to bots and scripts\n",
    "    names = []\n",
    "    pat = r'(bot\\s|script|bot_)'\n",
    "    for name in df.name.unique():\n",
    "        match = re.findall(pat, name, re.IGNORECASE) \n",
    "        if len(match) > 0:\n",
    "            names.append(name)\n",
    "    #look for a key words to identify a tweet related to bots and scripts\n",
    "    pattern = r\"(script|bot\\s|bots\\s|bot_|cook|cop^e|destroy|proxy)\"\n",
    "    df['bot'] = False\n",
    "    for i, row in df.iterrows():\n",
    "        match = re.findall(pattern, row.tweet, re.IGNORECASE) \n",
    "        if len(match) > 0 or row.isin(names)['name'] == True:\n",
    "            df['bot'].loc[i] = True\n",
    "    return df"
   ]
  },
  {
   "cell_type": "code",
   "execution_count": 32,
   "metadata": {},
   "outputs": [
    {
     "output_type": "stream",
     "name": "stderr",
     "text": [
      "C:\\Users\\Annelie Schridde\\AppData\\Roaming\\Python\\Python38\\site-packages\\ipykernel\\ipkernel.py:283: DeprecationWarning: `should_run_async` will not call `transform_cell` automatically in the future. Please pass the result to `transformed_cell` argument and any exception that happen during thetransform in `preprocessing_exc_tuple` in IPython 7.17 and above.\n",
      "  and should_run_async(code)\n",
      "C:\\Users\\Annelie Schridde\\AppData\\Roaming\\Python\\Python38\\site-packages\\pandas\\core\\indexing.py:1637: SettingWithCopyWarning: \n",
      "A value is trying to be set on a copy of a slice from a DataFrame\n",
      "\n",
      "See the caveats in the documentation: https://pandas.pydata.org/pandas-docs/stable/user_guide/indexing.html#returning-a-view-versus-a-copy\n",
      "  self._setitem_single_block(indexer, value, name)\n"
     ]
    },
    {
     "output_type": "execute_result",
     "data": {
      "text/plain": [
       "   index              user_id  user_statuses             name  \\\n",
       "0      0   819101311715131392             77      Ali09685762   \n",
       "1      1  1189512849472643072            105       Labellerr1   \n",
       "3      3  1125728513666048000           9604    DommeLineCoUk   \n",
       "4      4           2614256724          35470         medboyUK   \n",
       "5      5   978410484155199488           1549  missbellalugosi   \n",
       "\n",
       "                                               tweet  retweets  \\\n",
       "0            @Zalando give me my money you owe me!!!         0   \n",
       "1  #VirtualStyling and try-on increases the conve...         0   \n",
       "3  @missbellalugosi @Zalando Problem starts at Ad...         0   \n",
       "4  @missbellalugosi @Zalando Welcome to my world ...         0   \n",
       "5  Hey @Zalando these clothes are not  made of la...         0   \n",
       "\n",
       "             location      created  followers  is_user_verified  \\\n",
       "0                      07-Mar-2021          6             False   \n",
       "1          chandigarh  06-Mar-2021         18             False   \n",
       "3                      06-Mar-2021       2193             False   \n",
       "4   West Midlands, UK  06-Mar-2021       2503             False   \n",
       "5  GERMANY / UK / USA  06-Mar-2021      13827             False   \n",
       "\n",
       "   favorite_count  in_reply_to_status_id  keyword language  \\\n",
       "0             0.0                    NaN  zalando       en   \n",
       "1             0.0                    NaN  zalando       en   \n",
       "3             1.0           1.368196e+18  zalando       en   \n",
       "4             1.0           1.368196e+18  zalando       en   \n",
       "5            17.0                    NaN  zalando       en   \n",
       "\n",
       "                                               clean  \\\n",
       "0                                          money owe   \n",
       "1  virtualstyling try increases conversion rate l...   \n",
       "3       problem starts adidas selling latex websites   \n",
       "4                     welcome world sneering disdain   \n",
       "5  hey clothes latex plastic latex rubber stitche...   \n",
       "\n",
       "                                         clean_vader  compound  \\\n",
       "0                           give money you owe me!!!    0.0000   \n",
       "1  VirtualStyling and try-on increases the conver...    0.7650   \n",
       "3  Problem starts Adidas. They're selling latex t...   -0.4019   \n",
       "4                Welcome world sneering and disdain!   -0.1007   \n",
       "5  Hey these clothes are not made latex, they are...    0.5362   \n",
       "\n",
       "                                               lemma    bot  \n",
       "0                                          money owe  False  \n",
       "1  virtualstyle try increase conversion rate larg...  False  \n",
       "3             problem start adida sell latex website  False  \n",
       "4                        welcome world sneer disdain  False  \n",
       "5  hey clothe latex plastic latex rubber stitch r...  False  "
      ],
      "text/html": "<div>\n<style scoped>\n    .dataframe tbody tr th:only-of-type {\n        vertical-align: middle;\n    }\n\n    .dataframe tbody tr th {\n        vertical-align: top;\n    }\n\n    .dataframe thead th {\n        text-align: right;\n    }\n</style>\n<table border=\"1\" class=\"dataframe\">\n  <thead>\n    <tr style=\"text-align: right;\">\n      <th></th>\n      <th>index</th>\n      <th>user_id</th>\n      <th>user_statuses</th>\n      <th>name</th>\n      <th>tweet</th>\n      <th>retweets</th>\n      <th>location</th>\n      <th>created</th>\n      <th>followers</th>\n      <th>is_user_verified</th>\n      <th>favorite_count</th>\n      <th>in_reply_to_status_id</th>\n      <th>keyword</th>\n      <th>language</th>\n      <th>clean</th>\n      <th>clean_vader</th>\n      <th>compound</th>\n      <th>lemma</th>\n      <th>bot</th>\n    </tr>\n  </thead>\n  <tbody>\n    <tr>\n      <th>0</th>\n      <td>0</td>\n      <td>819101311715131392</td>\n      <td>77</td>\n      <td>Ali09685762</td>\n      <td>@Zalando give me my money you owe me!!!</td>\n      <td>0</td>\n      <td></td>\n      <td>07-Mar-2021</td>\n      <td>6</td>\n      <td>False</td>\n      <td>0.0</td>\n      <td>NaN</td>\n      <td>zalando</td>\n      <td>en</td>\n      <td>money owe</td>\n      <td>give money you owe me!!!</td>\n      <td>0.0000</td>\n      <td>money owe</td>\n      <td>False</td>\n    </tr>\n    <tr>\n      <th>1</th>\n      <td>1</td>\n      <td>1189512849472643072</td>\n      <td>105</td>\n      <td>Labellerr1</td>\n      <td>#VirtualStyling and try-on increases the conve...</td>\n      <td>0</td>\n      <td>chandigarh</td>\n      <td>06-Mar-2021</td>\n      <td>18</td>\n      <td>False</td>\n      <td>0.0</td>\n      <td>NaN</td>\n      <td>zalando</td>\n      <td>en</td>\n      <td>virtualstyling try increases conversion rate l...</td>\n      <td>VirtualStyling and try-on increases the conver...</td>\n      <td>0.7650</td>\n      <td>virtualstyle try increase conversion rate larg...</td>\n      <td>False</td>\n    </tr>\n    <tr>\n      <th>3</th>\n      <td>3</td>\n      <td>1125728513666048000</td>\n      <td>9604</td>\n      <td>DommeLineCoUk</td>\n      <td>@missbellalugosi @Zalando Problem starts at Ad...</td>\n      <td>0</td>\n      <td></td>\n      <td>06-Mar-2021</td>\n      <td>2193</td>\n      <td>False</td>\n      <td>1.0</td>\n      <td>1.368196e+18</td>\n      <td>zalando</td>\n      <td>en</td>\n      <td>problem starts adidas selling latex websites</td>\n      <td>Problem starts Adidas. They're selling latex t...</td>\n      <td>-0.4019</td>\n      <td>problem start adida sell latex website</td>\n      <td>False</td>\n    </tr>\n    <tr>\n      <th>4</th>\n      <td>4</td>\n      <td>2614256724</td>\n      <td>35470</td>\n      <td>medboyUK</td>\n      <td>@missbellalugosi @Zalando Welcome to my world ...</td>\n      <td>0</td>\n      <td>West Midlands, UK</td>\n      <td>06-Mar-2021</td>\n      <td>2503</td>\n      <td>False</td>\n      <td>1.0</td>\n      <td>1.368196e+18</td>\n      <td>zalando</td>\n      <td>en</td>\n      <td>welcome world sneering disdain</td>\n      <td>Welcome world sneering and disdain!</td>\n      <td>-0.1007</td>\n      <td>welcome world sneer disdain</td>\n      <td>False</td>\n    </tr>\n    <tr>\n      <th>5</th>\n      <td>5</td>\n      <td>978410484155199488</td>\n      <td>1549</td>\n      <td>missbellalugosi</td>\n      <td>Hey @Zalando these clothes are not  made of la...</td>\n      <td>0</td>\n      <td>GERMANY / UK / USA</td>\n      <td>06-Mar-2021</td>\n      <td>13827</td>\n      <td>False</td>\n      <td>17.0</td>\n      <td>NaN</td>\n      <td>zalando</td>\n      <td>en</td>\n      <td>hey clothes latex plastic latex rubber stitche...</td>\n      <td>Hey these clothes are not made latex, they are...</td>\n      <td>0.5362</td>\n      <td>hey clothe latex plastic latex rubber stitch r...</td>\n      <td>False</td>\n    </tr>\n  </tbody>\n</table>\n</div>"
     },
     "metadata": {},
     "execution_count": 32
    }
   ],
   "source": [
    "#load labelled data (generated in file 2.preprocessing_en)\n",
    "data = pickle.load(open('data_n_models/eng_df_labelled.pkl', \"rb\"))\n",
    "\n",
    "#filter out bot reated data\n",
    "data = classify_bots(data)\n",
    "data = data[data['bot']==False]\n",
    "data = data[data['keyword']=='zalando']\n",
    "data = data.drop_duplicates(subset=['lemma'])\n",
    "data.head()\n"
   ]
  },
  {
   "cell_type": "code",
   "execution_count": 4,
   "metadata": {},
   "outputs": [
    {
     "output_type": "stream",
     "name": "stdout",
     "text": [
      "12 send delivery paper bag\n13 order eventually thing happen expectation feed information whomever concerned zalando\n14 hey order product web shop item \" fast delivery \" suppose arrive today unfortunately ship parcel time happen sad\n15 zalando think big pregnant suggest lovely maternity clothe ️ ️ ️ ️ ️ ️ ️ thank love ️ ️ ️ ️\n16 think belong sport shoe section\n17 new redezign circularity pilot product product pilot equip digital tag save product datum scan able discover product history digital product site ️ ️\n18 zalando ride cargo bike delivery service netherland\n19 order ship able provide status update\n20 check new cto cto podcast format dedicate impactful tech in episode victoria schmierer share story implement pre own give new life clothe ecommerce sustainability reuse rewear\n21 stay informed circular csnew energylabel come force march help consumer cut energy bill footprint zircle wardrobe future list ️ circulareconomy sdg\n"
     ]
    }
   ],
   "source": [
    "for i, value in data[10:20].lemma.iteritems():\n",
    "    print(i, value)"
   ]
  },
  {
   "source": [
    "# clustering with LatentDirichletAllocation\n",
    "\n",
    "https://ourcodingclub.github.io/tutorials/topic-modelling-python/"
   ],
   "cell_type": "markdown",
   "metadata": {}
  },
  {
   "source": [
    "# on the whole dataset"
   ],
   "cell_type": "markdown",
   "metadata": {}
  },
  {
   "cell_type": "code",
   "execution_count": 5,
   "metadata": {},
   "outputs": [],
   "source": [
    "# the vectorizer object will be used to transform text to vector form\n",
    "vectorizer = CountVectorizer(max_df=0.9, min_df=30, token_pattern='\\w+|\\$[\\d\\.]+|\\S+')\n",
    "\n",
    "# apply transformation\n",
    "tf = vectorizer.fit_transform(data['lemma']).toarray()\n",
    "\n",
    "# tf_feature_names tells us what word each column in the matric represents\n",
    "tf_feature_names = vectorizer.get_feature_names()"
   ]
  },
  {
   "source": [
    " # Each row is a tweet and each column is a word. The numbers in each position tell us how many times this word appears in this tweet.\n",
    " tf"
   ],
   "cell_type": "code",
   "metadata": {},
   "execution_count": 6,
   "outputs": [
    {
     "output_type": "execute_result",
     "data": {
      "text/plain": [
       "array([[0, 0, 0, ..., 0, 0, 0],\n",
       "       [0, 0, 0, ..., 0, 0, 0],\n",
       "       [0, 0, 0, ..., 0, 0, 0],\n",
       "       ...,\n",
       "       [0, 0, 0, ..., 0, 0, 0],\n",
       "       [0, 0, 0, ..., 0, 0, 0],\n",
       "       [0, 0, 0, ..., 0, 0, 0]], dtype=int64)"
      ]
     },
     "metadata": {},
     "execution_count": 6
    }
   ]
  },
  {
   "cell_type": "code",
   "execution_count": 7,
   "metadata": {
    "tags": []
   },
   "outputs": [
    {
     "output_type": "stream",
     "name": "stdout",
     "text": [
      "['\"', \"'\", 'a', 'able', 'absolute', 'absolutely', 'abt', 'abuse', 'acc', 'accept', 'access', 'accessory', 'accident', 'accidentally', 'accord', 'account', 'act', 'action', 'active', 'actual', 'actually', 'ad', 'add', 'addict', 'addiction', 'address', 'adida', 'admin', 'admire', 'admit', 'adorable', 'adult', 'advert', 'advertise', 'advertising', 'advice', 'advise', 'adwd', 'affect', 'afford', 'affordable', 'afraid', 'afternoon', 'age', 'agent', 'ago', 'agree', 'ahead', 'ahh', 'ahhh', 'ai', 'aid', 'ain', 'air', 'airport', 'album', 'aliexpress', 'all', 'allow', 'alright', 'alternative', 'amazing', 'amazon', 'america', 'american', 'angel', 'angry', 'animal', 'ankle', 'announce', 'annoy', 'annoyed', 'annoying', 'answer', 'anthropologie', 'anti', 'anybody', 'anymore', 'anyways', 'apart', 'apology', 'app', 'apparently', 'appear', 'apple', 'application', 'apply', 'appreciate', 'approach', 'april', 'area', 'aren', 'argo', 'argue', 'argument', 'arm', 'arrive', 'art', 'article', 'artist', 'asap', 'asc', 'asian', 'ask', 'asos', 'asosiwd', 'asostreatme', 'ass', 'asshole', 'assist', 'assistant', 'assume', 'aswell', 'atm', 'attack', 'attempt', 'attention', 'attitude', 'auto', 'available', 'average', 'avoid', 'away', 'awe', 'awesome', 'awful', 'awos', 'aww', 'awww', 'babe', 'baby', 'bad', 'bag', 'balance', 'ball', 'ban', 'band', 'bang', 'bank', 'bar', 'barely', 'bargain', 'base', 'basic', 'basically', 'basket', 'bath', 'battle', 'bbc', 'bday', 'be', 'beach', 'bear', 'beat', 'beautiful', 'beauty', 'bed', 'beer', 'beg', 'begin', 'believe', 'belt', 'benefit', 'bershka', 'bestie', 'bet', 'biden', 'big', 'bikini', 'bill', 'billion', 'bin', 'bio', 'birthday', 'biscuit', 'bit', 'bitch', 'bkn', 'black', 'blame', 'blazer', 'bless', 'block', 'blog', 'blood', 'bloody', 'blow', 'blue', 'board', 'body', 'bohoo', 'boo', 'boob', 'boohoo', 'boohooluckydip', 'boohooman', 'boohootreat', 'book', 'boost', 'boot', 'bored', 'boss', 'bother', 'bottle', 'bottom', 'bout', 'boutique', 'box', 'boy', 'boyfriend', 'bra', 'brain', 'brand', 'break', 'brick', 'bright', 'brilliant', 'bring', 'british', 'bro', 'brother', 'brown', 'browse', 'bruh', 'brunch', 'bts', 'btw', 'buddy', 'budget', 'build', 'bullshit', 'bully', 'bunch', 'burn', 'bus', 'business', 'bust', 'busy', 'button', 'buy', 'buying', 'bye', 'ca', 'cake', 'call', 'camera', 'campaign', 'cancel', 'cancer', 'cap', 'capitalism', 'car', 'card', 'care', 'career', 'carry', 'cart', 'case', 'cash', 'casual', 'cat', 'catch', 'cause', 'celebrate', 'centre', 'ceo', 'certain', 'chain', 'challenge', 'champion', 'chance', 'change', 'channel', 'chapter', 'character', 'charge', 'charity', 'charm', 'chase', 'chat', 'cheap', 'cheat', 'check', 'checkout', 'cheeky', 'cheer', 'chest', 'chicken', 'child', 'china', 'chocolate', 'choice', 'choose', 'christmas', 'circle', 'city', 'claim', 'class', 'clean', 'clear', 'clearly', 'click', 'client', 'close', 'closet', 'clothe', 'clothing', 'cloud', 'clown', 'clr', 'club', 'coach', 'coast', 'coat', 'cochlear', 'cocktail', 'code', 'coffee', 'cold', 'collab', 'collaboration', 'collect', 'collection', 'college', 'collusion', 'color', 'colour', 'com', 'combine', 'come', 'comfortable', 'comfy', 'comment', 'commerce', 'commit', 'common', 'community', 'comp', 'company', 'compare', 'competition', 'complain', 'complaint', 'complete', 'completely', 'concern', 'condition', 'confidence', 'confirm', 'confirmation', 'confused', 'congrat', 'congratulation', 'connect', 'consequence', 'consider', 'constantly', 'consumer', 'contact', 'content', 'continue', 'contract', 'control', 'conversation', 'converse', 'cool', 'cop', 'cope', 'copy', 'corner', 'correct', 'cos', 'cost', 'cotton', 'could', 'couldn', 'count', 'country', 'couple', 'coupon', 'courier', 'course', 'cover', 'covid', 'coz', 'cracker', 'crap', 'crash', 'crazy', 'cream', 'create', 'creative', 'credit', 'crime', 'criminal', 'crop', 'cross', 'cry', 'crybaby', 'crying', 'cuddle', 'culture', 'cuppy', 'current', 'currently', 'curve', 'cus', 'custom', 'customer', 'cut', 'cute', 'cuz', 'dad', 'daddy', 'daily', 'damage', 'damn', 'dance', 'dangerous', 'dare', 'dark', 'date', 'datum', 'daughter', 'day', 'dead', 'deal', 'dear', 'death', 'debenham', 'december', 'decent', 'decide', 'decision', 'deep', 'def', 'defend', 'definitely', 'degree', 'delay', 'delete', 'deliver', 'delivery', 'demand', 'denim', 'department', 'depend', 'depop', 'deserve', 'design', 'designer', 'desperate', 'despite', 'detail', 'dey', 'dhl', 'dick', 'die', 'difference', 'different', 'difficult', 'digital', 'dinner', 'direct', 'directly', 'dirty', 'disappear', 'disappoint', 'disappointed', 'discount', 'discover', 'discuss', 'disgusting', 'disney', 'dispatch', 'dm', 'dms', 'do', 'doctor', 'dog', 'dollar', 'donate', 'donation', 'door', 'dorothy', 'dot', 'double', 'doubt', 'download', 'dpd', 'drag', 'draw', 'dream', 'dress', 'drink', 'drive', 'driver', 'drop', 'drunk', 'dry', 'dude', 'dumb', 'dunk', 'ear', 'early', 'earn', 'earring', 'earth', 'easily', 'easter', 'easy', 'eat', 'ebay', 'ecommerce', 'edit', 'effect', 'effort', 'egg', 'ego', 'else', 'email', 'employee', 'end', 'energy', 'engineer', 'england', 'english', 'enjoy', 'enter', 'entire', 'entitle', 'episode', 'error', 'especially', 'essential', 'etsy', 'europe', 'european', 'evening', 'event', 'eventually', 'everybody', 'everyday', 'everytime', 'evil', 'exact', 'exactly', 'example', 'exchange', 'excited', 'exciting', 'exclusive', 'excuse', 'exist', 'expect', 'expensive', 'experience', 'expire', 'explain', 'exploit', 'expose', 'express', 'extra', 'extremely', 'eye', 'fab', 'fabulous', 'face', 'facebook', 'fact', 'factory', 'fail', 'fair', 'fake', 'fall', 'family', 'fan', 'fancy', 'fantastic', 'far', 'fashion', 'fashionnova', 'fast', 'fat', 'father', 'fault', 'faulty', 'fav', 'fave', 'favorite', 'favourite', 'fear', 'feature', 'feb', 'february', 'fedex', 'fee', 'feed', 'feel', 'feeling', 'fellow', 'female', 'festival', 'ffs', 'field', 'fight', 'figure', 'fill', 'film', 'filter', 'final', 'finally', 'finance', 'financial', 'find', 'findom', 'fine', 'finger', 'finish', 'finna', 'finsub', 'firm', 'fit', 'fitting', 'fix', 'flare', 'flash', 'flat', 'flea', 'floor', 'floral', 'fly', 'focus', 'folk', 'follow', 'follower', 'food', 'fool', 'foot', 'football', 'force', 'forever', 'forget', 'forgot', 'form', 'forward', 'frame', 'free', 'freepeople', 'fresh', 'friday', 'friend', 'frustrating', 'fuck', 'fuckin', 'fucking', 'full', 'fully', 'fume', 'fun', 'fund', 'funeral', 'funny', 'fur', 'future', 'fzfg', 'fzrano', 'gain', 'gal', 'game', 'garden', 'garment', 'gay', 'gear', 'gender', 'general', 'genuine', 'genuinely', 'george', 'germany', 'get', 'gets', 'getting', 'giant', 'gift', 'giftcard', 'girl', 'girlfriend', 'give', 'giveaway', 'gkt', 'glad', 'glass', 'global', 'go', 'goal', 'god', 'going', 'gold', 'gon', 'good', 'google', 'gorgeous', 'got', 'government', 'grab', 'grateful', 'great', 'green', 'grey', 'gross', 'group', 'grow', 'growth', 'gst', 'guess', 'guide', 'gun', 'gust', 'gutte', 'guy', 'gym', 'haha', 'hahaha', 'hair', 'half', 'hand', 'handle', 'hang', 'happen', 'happy', 'hard', 'harry', 'hasn', 'hat', 'hate', 'haul', 'have', 'haven', 'having', 'he', 'head', 'health', 'hear', 'hearing', 'heart', 'heat', 'heel', 'height', 'hell', 'hello', 'help', 'helpful', 'here', 'herme', 'hermes', 'hero', 'hey', 'hide', 'high', 'highly', 'hire', 'history', 'hit', 'hiya', 'hoe', 'hold', 'hole', 'holiday', 'home', 'honest', 'honestly', 'honey', 'hoo', 'hoodie', 'hoop', 'hope', 'hopefully', 'horrible', 'hospital', 'hot', 'hour', 'house', 'hrs', 'hug', 'huge', 'huh', 'human', 'humanatm', 'hun', 'hundred', 'hurry', 'hurt', 'husband', 'hype', 'i', 'ice', 'idc', 'idea', 'idiot', 'idk', 'ignore', 'ill', 'image', 'imagine', 'imma', 'immediately', 'impact', 'implant', 'important', 'impossible', 'impressed', 'improve', 'inch', 'include', 'incorrect', 'increase', 'incredible', 'industry', 'influencer', 'info', 'inform', 'information', 'insane', 'inside', 'inspiration', 'inspirational', 'inspire', 'insta', 'instagram', 'instead', 'insult', 'interested', 'interesting', 'international', 'internationalwomensday', 'internet', 'interview', 'invest', 'involve', 'ion', 'ireland', 'irish', 'isis', 'island', 'isn', 'isolate', 'issue', 'it', 'item', 'jack', 'jacket', 'jail', 'jaime', 'jan', 'january', 'jealous', 'jean', 'jesus', 'job', 'jogger', 'john', 'join', 'joke', 'jon', 'jordan', 'joy', 'jump', 'jumper', 'jumpsuit', 'june', 'justify', 'karen', 'keep', 'key', 'kick', 'kid', 'kidd', 'kill', 'kind', 'kinda', 'kindly', 'king', 'kiss', 'klarna', 'kmwn', 'knee', 'knock', 'knot', 'know', 'label', 'labour', 'lace', 'lack', 'lad', 'lady', 'land', 'large', 'late', 'lately', 'later', 'laugh', 'launch', 'law', 'lazy', 'lead', 'learn', 'leather', 'leave', 'left', 'leg', 'legging', 'legit', 'leicester', 'lemme', 'length', 'leopard', 'let', 'level', 'lie', 'life', 'lift', 'light', 'like', 'likely', 'lil', 'limit', 'limited', 'line', 'link', 'lip', 'list', 'listen', 'literal', 'literally', 'little', 'live', 'living', 'lmao', 'lmaoo', 'lmaooo', 'lmfao', 'load', 'local', 'location', 'lock', 'lockdown', 'log', 'logistic', 'lol', 'london', 'long', 'look', 'loose', 'lord', 'lose', 'loser', 'loss', 'lot', 'lounge', 'love', 'lovely', 'low', 'luck', 'lucky', 'm', 'machine', 'mad', 'mail', 'main', 'major', 'make', 'makeup', 'male', 'mama', 'man', 'manage', 'manager', 'manifest', 'manufacturer', 'march', 'mark', 'market', 'marketing', 'marketplace', 'marry', 'mask', 'massive', 'master', 'match', 'mate', 'material', 'maternity', 'matter', 'max', 'maxi', 'maybe', 'mean', 'medium', 'meet', 'member', 'men', 'mental', 'mention', 'mesh', 'mess', 'message', 'method', 'mfs', 'mid', 'middle', 'midi', 'mile', 'millen', 'million', 'min', 'mind', 'mini', 'minimum', 'minor', 'minority', 'minute', 'mirror', 'misguide', 'miss', 'missguide', 'mistake', 'mix', 'model', 'modern', 'mom', 'moment', 'monday', 'money', 'monki', 'month', 'mood', 'morning', 'mother', 'mount', 'mouth', 'move', 'movie', 'mph', 'multiple', 'mum', 'murder', 'music', 'mwn', 'my', 'myasosluck', 'n', 'na', 'nah', 'nail', 'name', 'nasty', 'national', 'nationalpetday', 'nationalpuppyday', 'navy', 'near', 'nearly', 'neck', 'need', 'negative', 'neighbour', 'network', 'new', 'news', 'ngl', 'nhs', 'nice', 'nigeria', 'nigga', 'niggas', 'night', 'nightmare', 'nike', 'nominate', 'non', 'nope', 'normal', 'normally', 'north', 'note', 'notice', 'notification', 'nova', 'now', 'nt', 'number', 'nurse', 'nwt', 'oasis', 'obsess', 'obviously', 'occasion', 'offend', 'offer', 'office', 'official', 'oh', 'ohh', 'ohhh', 'okay', 'old', 'omg', 'one', 'online', 'ooh', 'ooo', 'ootd', 'open', 'opening', 'operation', 'opinion', 'opportunity', 'oppress', 'option', 'orange', 'order', 'ordering', 'original', 'out', 'outfit', 'outfitter', 'outlet', 'outside', 'outta', 'ovc', 'oversized', 'owe', 'own', 'owner', 'pack', 'package', 'packaging', 'paddy', 'page', 'pain', 'paint', 'pair', 'pal', 'pandemic', 'pant', 'paper', 'parcel', 'parent', 'park', 'partner', 'partnership', 'party', 'pass', 'password', 'past', 'pathetic', 'patrick', 'pay', 'payment', 'paypal', 'paypig', 'peace', 'peak', 'pen', 'pende', 'penny', 'people', 'perfect', 'perfectly', 'performance', 'period', 'perkin', 'person', 'personal', 'personally', 'pet', 'petite', 'phone', 'photo', 'pic', 'pick', 'picture', 'piece', 'pink', 'piss', 'pity', 'place', 'plain', 'plan', 'planet', 'plastic', 'platform', 'play', 'player', 'playing', 'plc', 'please', 'plenty', 'pls', 'plt', 'plus', 'plz', 'pocket', 'point', 'police', 'policy', 'polly', 'poor', 'pop', 'popular', 'pose', 'poshmark', 'position', 'positive', 'possible', 'possibly', 'post', 'potential', 'pound', 'power', 'ppl', 'practice', 'praise', 'pray', 'pre', 'prefer', 'pregnant', 'premier', 'premium', 'prepare', 'present', 'press', 'pretend', 'pretty', 'prettylittlethe', 'previous', 'price', 'primark', 'prince', 'princess', 'print', 'private', 'prize', 'probably', 'probe', 'problem', 'process', 'product', 'profile', 'profit', 'project', 'promise', 'promo', 'promote', 'proof', 'proper', 'properly', 'protect', 'proud', 'prove', 'provide', 'pub', 'public', 'publish', 'pull', 'pup', 'puppy', 'purchase', 'pure', 'purple', 'push', 'pussy', 'put', 'quality', 'queen', 'query', 'question', 'quick', 'quickly', 'quid', 'quit', 'quote', 'race', 'racism', 'racist', 'rain', 'rainbow', 'raise', 'random', 'range', 'rate', 're', 'reach', 'reaction', 'read', 'reading', 'ready', 'real', 'realise', 'reality', 'realize', 'reason', 'receipt', 'receive', 'recent', 'recently', 'recommend', 'record', 'red', 'reduce', 'refund', 'refunded', 'refuse', 'regard', 'register', 'regret', 'regular', 'relate', 'relationship', 'release', 'remain', 'remember', 'remind', 'remove', 'reopen', 'reorder', 'rep', 'replace', 'replacement', 'reply', 'report', 'representation', 'republican', 'request', 'require', 'rescue', 'research', 'resolve', 'respect', 'respond', 'response', 'responsibility', 'responsible', 'rest', 'restock', 'restriction', 'result', 'retail', 'retailer', 'return', 'retweet', 'reveal', 'revenue', 'review', 'rich', 'ridiculous', 'right', 'ring', 'rip', 'rise', 'risk', 'river', 'rlly', 'rmk', 'road', 'rock', 'role', 'roll', 'room', 'round', 'row', 'royal', 'rubbish', 'rude', 'ruin', 'rule', 'run', 'rush', 's', 'sad', 'sadly', 'safe', 'sale', 'sandal', 'saturday', 'save', 'saving', 'say', 'scam', 'scan', 'scandal', 'scare', 'scared', 'scary', 'scene', 'school', 'scratch', 'scream', 'screen', 'scroll', 'sct', 'search', 'season', 'second', 'section', 'see', 'select', 'selection', 'self', 'selfridge', 'sell', 'send', 'senior', 'sense', 'sensitive', 'separate', 'series', 'seriously', 'serve', 'service', 'set', 'sex', 'sexy', 'shall', 'shame', 'shape', 'share', 'she', 'shein', 'shift', 'shine', 'ship', 'shipment', 'shipping', 'shirt', 'shit', 'shite', 'shitty', 'shock', 'shocking', 'shoe', 'shoot', 'shop', 'shopmycloset', 'shopper', 'shopping', 'short', 'shot', 'should', 'shoulder', 'shouldn', 'shout', 'show', 'shower', 'shut', 'sick', 'sign', 'silver', 'similar', 'simple', 'simply', 'single', 'sis', 'sister', 'sit', 'site', 'situation', 'size', 'sized', 'skin', 'skinny', 'skirt', 'slave', 'sleep', 'sleeve', 'slide', 'slip', 'slow', 'slowfashion', 'slp', 'slur', 'small', 'smart', 'smash', 'smell', 'smh', 'smile', 'smock', 'snap', 'sneaker', 'snipe', 'snow', 'snowflake', 'sob', 'social', 'society', 'sock', 'soft', 'solution', 'solve', 'somebody', 'someone', 'son', 'song', 'soon', 'sooo', 'soooo', 'sorry', 'sort', 'soul', 'sound', 'source', 'south', 'space', 'speak', 'special', 'specific', 'specifically', 'spend', 'spending', 'split', 'spoil', 'sponsor', 'sport', 'spot', 'spread', 'spree', 'spring', 'staff', 'stage', 'stain', 'stan', 'stand', 'standard', 'star', 'stare', 'start', 'state', 'statement', 'station', 'status', 'stay', 'steal', 'step', 'stfu', 'stick', 'stock', 'stone', 'stop', 'store', 'story', 'stpatricksday', 'stradivarius', 'straight', 'strange', 'strategy', 'stream', 'street', 'stress', 'strike', 'strong', 'struggle', 'student', 'study', 'stuff', 'stunning', 'stupid', 'style', 'sub', 'success', 'successful', 'suck', 'suddenly', 'suffer', 'suggest', 'suggestion', 'suit', 'sum', 'summer', 'sun', 'sunday', 'sunglass', 'super', 'supplier', 'supply', 'support', 'suppose', 'sur', 'sure', 'surely', 'surprise', 'surprised', 'survive', 'sustainability', 'sustainable', 'swear', 'sweat', 'sweater', 'sweatshirt', 'sweet', 'swimsuit', 'switch', 'sympathy', 'ta', 'tag', 'tagging', 'take', 'talk', 'tall', 'target', 'taste', 'tax', 'tbh', 'tea', 'teach', 'teacher', 'team', 'tear', 'tech', 'technical', 'teddy', 'tee', 'tell', 'tempt', 'term', 'terrible', 'test', 'text', 'thank', 'that', 'the', 'therapy', 'there', 'they', 'thigh', 'thing', 'think', 'thinking', 'this', 'tho', 'thought', 'thousand', 'thread', 'thrift', 'thrifte', 'throw', 'thursday', 'ticket', 'tie', 'tight', 'tiktok', 'til', 'till', 'time', 'tiny', 'tip', 'tired', 'today', 'toe', 'toilet', 'tommy', 'tomorrow', 'ton', 'tonight', 'tooth', 'top', 'topman', 'topshop', 'torrid', 'total', 'totally', 'touch', 'tough', 'town', 'toxic', 'track', 'tracking', 'tracksuit', 'trade', 'trading', 'train', 'trainer', 'tran', 'transparency', 'trash', 'travel', 'treat', 'trend', 'trendy', 'trigger', 'trip', 'triple', 'trouble', 'trouser', 'true', 'truly', 'trump', 'trust', 'truth', 'try', 'tryna', 'tstm', 'tuesday', 'turn', 'tweet', 'twice', 'twitter', 'type', 'ugly', 'unable', 'understand', 'underwear', 'unfortunately', 'uni', 'uniday', 'unique', 'university', 'unlucky', 'up', 'update', 'upset', 'urban', 'usa', 'use', 'useless', 'user', 'usual', 'usually', 'vaccine', 'valid', 'value', 'van', 've', 'version', 'vibe', 'victim', 'video', 'view', 'vintage', 'vinte', 'visit', 'voice', 'vote', 'voucher', 'wage', 'wah', 'waist', 'wait', 'waiting', 'wake', 'wale', 'walk', 'wall', 'wanna', 'want', 'war', 'wardrobe', 'warehouse', 'warm', 'wash', 'washington', 'wasn', 'waste', 'watch', 'water', 'wave', 'way', 'we', 'weak', 'wear', 'weather', 'website', 'wedding', 'wednesday', 'wee', 'week', 'weekend', 'weekly', 'weight', 'weird', 'welcome', 'well', 'what', 'where', 'whilst', 'whine', 'white', 'who', 'wide', 'wife', 'wild', 'win', 'wind', 'window', 'wine', 'winner', 'winter', 'wish', 'wishlist', 'wnd', 'wo', 'woman', 'women', 'wonder', 'wonderful', 'word', 'work', 'worker', 'working', 'workout', 'world', 'worry', 'worth', 'would', 'wouldn', 'wow', 'wrap', 'write', 'wrong', 'wsw', 'wtf', 'xxx', 'xxxx', 'y', 'yay', 'yea', 'yeah', 'year', 'yellow', 'yep', 'yes', 'yesterday', 'you', 'young', 'youtube', 'zalando', 'zara', 'zero', 'zip', 'zoom', '£', '\\u200d', '—', '’', '’d', '’ll', '’m', '’re', '’s', '’t', '’ve', '…', '️']\n"
     ]
    }
   ],
   "source": [
    "print(tf_feature_names)"
   ]
  },
  {
   "cell_type": "code",
   "execution_count": null,
   "metadata": {},
   "outputs": [],
   "source": [
    "from sklearn.decomposition import LatentDirichletAllocation\n",
    "\n",
    "number_of_topics = 9\n",
    "\n",
    "model = LatentDirichletAllocation(n_components=number_of_topics, random_state=0)"
   ]
  },
  {
   "cell_type": "code",
   "execution_count": null,
   "metadata": {},
   "outputs": [],
   "source": [
    "model.fit(tf)"
   ]
  },
  {
   "source": [
    "a function which takes in our model object model, the order of the words in our matrix tf_feature_names and the number of words we would like to show. Use this function, which returns a dataframe, to show you the topics we created. Remember that each topic is a list of words/tokens and weights"
   ],
   "cell_type": "markdown",
   "metadata": {}
  },
  {
   "cell_type": "code",
   "execution_count": null,
   "metadata": {},
   "outputs": [],
   "source": [
    "def display_topics(model, feature_names, no_top_words):\n",
    "    topic_dict = {}\n",
    "    for topic_idx, topic in enumerate(model.components_):\n",
    "        topic_dict[\"Topic %d words\" % (topic_idx)]= ['{}'.format(feature_names[i])\n",
    "                        for i in topic.argsort()[:-no_top_words - 1:-1]]\n",
    "        topic_dict[\"Topic %d weights\" % (topic_idx)]= ['{:.1f}'.format(topic[i])\n",
    "                        for i in topic.argsort()[:-no_top_words - 1:-1]]\n",
    "    return pd.DataFrame(topic_dict)"
   ]
  },
  {
   "cell_type": "code",
   "execution_count": null,
   "metadata": {},
   "outputs": [],
   "source": [
    "no_top_words = 10\n",
    "display_topics(model, tf_feature_names, no_top_words)"
   ]
  },
  {
   "source": [
    "# Zalando only"
   ],
   "cell_type": "markdown",
   "metadata": {}
  },
  {
   "cell_type": "code",
   "execution_count": null,
   "metadata": {},
   "outputs": [],
   "source": [
    "data_zal = data[data['keyword']=='zalando']\n",
    "\n",
    "# the vectorizer object will be used to transform text to vector form\n",
    "vectorizer = CountVectorizer(max_df=0.9, min_df=30, token_pattern='\\w+|\\$[\\d\\.]+|\\S+')\n",
    "\n",
    "# apply transformation\n",
    "tf = vectorizer.fit_transform(data_zal['lemma']).toarray()\n",
    "\n",
    "# tf_feature_names tells us what word each column in the matric represents\n",
    "tf_feature_names = vectorizer.get_feature_names()\n",
    "\n",
    "number_of_topics = 9\n",
    "\n",
    "model = LatentDirichletAllocation(n_components=number_of_topics, random_state=0)\n",
    "model.fit(tf)\n",
    "\n",
    "no_top_words = 10\n",
    "display_topics(model, tf_feature_names, no_top_words)"
   ]
  },
  {
   "source": [
    "# Zalando positive"
   ],
   "cell_type": "markdown",
   "metadata": {}
  },
  {
   "cell_type": "code",
   "execution_count": null,
   "metadata": {},
   "outputs": [],
   "source": [
    "data_zal_pos = data[data['compound'] > 0.5]\n",
    "\n",
    "# the vectorizer object will be used to transform text to vector form\n",
    "vectorizer = CountVectorizer(max_df=0.9, min_df=30, token_pattern='\\w+|\\$[\\d\\.]+|\\S+')\n",
    "\n",
    "# apply transformation\n",
    "tf = vectorizer.fit_transform(data_zal['lemma']).toarray()\n",
    "\n",
    "# tf_feature_names tells us what word each column in the matric represents\n",
    "tf_feature_names = vectorizer.get_feature_names()\n",
    "\n",
    "number_of_topics = 9\n",
    "\n",
    "model = LatentDirichletAllocation(n_components=number_of_topics, random_state=0)\n",
    "model.fit(tf)\n",
    "\n",
    "no_top_words = 10\n",
    "display_topics(model, tf_feature_names, no_top_words)"
   ]
  },
  {
   "cell_type": "code",
   "execution_count": null,
   "metadata": {},
   "outputs": [],
   "source": [
    "def define_team(df):\n",
    "    pattern_payment = r\"(voucher|pay|money|klarna|amount|refund|PayPal|bank|£|loan)\"\n",
    "    pattern_logistics= r\"(\\sship|parcel|cargo|delivery|return)\"\n",
    "    pattern_weather = r\"(Iembot|Iem)\"\n",
    "    pattern_fit = r\"(size|fit)\"\n",
    "\n",
    "    df['team'] = 'Other'\n",
    "    for i, row in df.iterrows():\n",
    "        \n",
    "        match_logistics = re.findall(pattern_logistics, row.lemma, re.IGNORECASE) \n",
    "        if len(match_logistics) > 0:\n",
    "            df['team'].loc[i] = 'Logistics'\n",
    "\n",
    "        match_payment = re.findall(pattern_payment, row.lemma, re.IGNORECASE) \n",
    "        if len(match_payment) > 0:\n",
    "            df['team'].loc[i] = 'Payment'\n",
    "\n",
    "        match_weather = re.findall(pattern_weather, row['name'], re.IGNORECASE) \n",
    "        if len(match_weather) > 0:\n",
    "            df['team'].loc[i] = 'Weather'\n",
    "\n",
    "        match_fit = re.findall(pattern_fit, row.lemma, re.IGNORECASE) \n",
    "        if len(match_fit) > 0:\n",
    "            df['team'].loc[i] = 'Fit'\n",
    "\n",
    "    return df"
   ]
  },
  {
   "cell_type": "code",
   "execution_count": null,
   "metadata": {},
   "outputs": [],
   "source": [
    "teams = define_team(data)"
   ]
  },
  {
   "cell_type": "code",
   "execution_count": null,
   "metadata": {},
   "outputs": [],
   "source": [
    "teams.loc[14903]"
   ]
  },
  {
   "cell_type": "code",
   "execution_count": null,
   "metadata": {},
   "outputs": [],
   "source": [
    "#testing results by checking random 10 tweets\n",
    "sample = teams[teams.team == 'Fit'].sample(n=10)\n",
    "for i, row in sample.iterrows():\n",
    "    print(str(i) + ' ' + sample.name[i] + ' ' + sample.tweet[i])"
   ]
  },
  {
   "cell_type": "code",
   "execution_count": null,
   "metadata": {},
   "outputs": [],
   "source": [
    "sns.countplot(data=teams, x='team')"
   ]
  },
  {
   "source": [
    "## New try\n"
   ],
   "cell_type": "markdown",
   "metadata": {}
  },
  {
   "cell_type": "code",
   "execution_count": 33,
   "metadata": {},
   "outputs": [
    {
     "output_type": "stream",
     "name": "stderr",
     "text": [
      "C:\\Users\\Annelie Schridde\\AppData\\Roaming\\Python\\Python38\\site-packages\\ipykernel\\ipkernel.py:283: DeprecationWarning: `should_run_async` will not call `transform_cell` automatically in the future. Please pass the result to `transformed_cell` argument and any exception that happen during thetransform in `preprocessing_exc_tuple` in IPython 7.17 and above.\n  and should_run_async(code)\n"
     ]
    }
   ],
   "source": [
    "# new try with only nouns\n",
    "df = list(data['lemma'])"
   ]
  },
  {
   "cell_type": "code",
   "execution_count": 34,
   "metadata": {},
   "outputs": [
    {
     "output_type": "stream",
     "name": "stderr",
     "text": [
      "C:\\Users\\Annelie Schridde\\AppData\\Roaming\\Python\\Python38\\site-packages\\ipykernel\\ipkernel.py:283: DeprecationWarning: `should_run_async` will not call `transform_cell` automatically in the future. Please pass the result to `transformed_cell` argument and any exception that happen during thetransform in `preprocessing_exc_tuple` in IPython 7.17 and above.\n  and should_run_async(code)\n[nltk_data] Downloading package averaged_perceptron_tagger to\n[nltk_data]     C:\\Users\\Annelie Schridde\\AppData\\Roaming\\nltk_data...\n[nltk_data]   Package averaged_perceptron_tagger is already up-to-\n[nltk_data]       date!\n"
     ]
    }
   ],
   "source": [
    "# Extracting the nouns from the text data \n",
    "from nltk.tag import pos_tag\n",
    "from nltk.tokenize import word_tokenize\n",
    "# Tokenize\n",
    "from nltk.tokenize import RegexpTokenizer\n",
    "tokenizer = RegexpTokenizer(r'\\w+')\n",
    "import nltk\n",
    "nltk.download('averaged_perceptron_tagger')\n",
    "data = data.iloc[0:1000]\n"
   ]
  },
  {
   "cell_type": "code",
   "execution_count": 35,
   "metadata": {},
   "outputs": [
    {
     "output_type": "stream",
     "name": "stderr",
     "text": [
      "C:\\Users\\Annelie Schridde\\AppData\\Roaming\\Python\\Python38\\site-packages\\ipykernel\\ipkernel.py:283: DeprecationWarning: `should_run_async` will not call `transform_cell` automatically in the future. Please pass the result to `transformed_cell` argument and any exception that happen during thetransform in `preprocessing_exc_tuple` in IPython 7.17 and above.\n  and should_run_async(code)\n"
     ]
    }
   ],
   "source": [
    "data['tokens'] = data['lemma'].apply(lambda x: tokenizer.tokenize(x.lower()))\n",
    "noun= []\n",
    "for row in data['tokens']:\n",
    "    noun.append([word for word,pos in pos_tag(row) if pos == 'NN'])"
   ]
  },
  {
   "cell_type": "code",
   "execution_count": 36,
   "metadata": {},
   "outputs": [
    {
     "output_type": "stream",
     "name": "stderr",
     "text": [
      "C:\\Users\\Annelie Schridde\\AppData\\Roaming\\Python\\Python38\\site-packages\\ipykernel\\ipkernel.py:283: DeprecationWarning: `should_run_async` will not call `transform_cell` automatically in the future. Please pass the result to `transformed_cell` argument and any exception that happen during thetransform in `preprocessing_exc_tuple` in IPython 7.17 and above.\n  and should_run_async(code)\n"
     ]
    }
   ],
   "source": [
    "# Create bigrams\n",
    "# Gensim\n",
    "import gensim\n",
    "import gensim.corpora as corpora\n",
    "from gensim.utils import simple_preprocess\n",
    "from gensim.models import CoherenceModel\n",
    "bigram = gensim.models.Phrases(noun, min_count=5, threshold=100)\n",
    "bigram_mod = gensim.models.phrases.Phraser(bigram)"
   ]
  },
  {
   "cell_type": "code",
   "execution_count": 37,
   "metadata": {},
   "outputs": [
    {
     "output_type": "stream",
     "name": "stderr",
     "text": [
      "C:\\Users\\Annelie Schridde\\AppData\\Roaming\\Python\\Python38\\site-packages\\ipykernel\\ipkernel.py:283: DeprecationWarning: `should_run_async` will not call `transform_cell` automatically in the future. Please pass the result to `transformed_cell` argument and any exception that happen during thetransform in `preprocessing_exc_tuple` in IPython 7.17 and above.\n  and should_run_async(code)\n"
     ]
    }
   ],
   "source": [
    "def make_bigrams(texts):\n",
    "    return [bigram_mod[doc] for doc in texts]"
   ]
  },
  {
   "cell_type": "code",
   "execution_count": 38,
   "metadata": {},
   "outputs": [
    {
     "output_type": "stream",
     "name": "stderr",
     "text": [
      "C:\\Users\\Annelie Schridde\\AppData\\Roaming\\Python\\Python38\\site-packages\\ipykernel\\ipkernel.py:283: DeprecationWarning: `should_run_async` will not call `transform_cell` automatically in the future. Please pass the result to `transformed_cell` argument and any exception that happen during thetransform in `preprocessing_exc_tuple` in IPython 7.17 and above.\n  and should_run_async(code)\n"
     ]
    }
   ],
   "source": [
    "words = make_bigrams(noun)"
   ]
  },
  {
   "cell_type": "code",
   "execution_count": 39,
   "metadata": {},
   "outputs": [
    {
     "output_type": "stream",
     "name": "stdout",
     "text": [
      "[[(0, 1), (1, 1)]]\n",
      "C:\\Users\\Annelie Schridde\\AppData\\Roaming\\Python\\Python38\\site-packages\\ipykernel\\ipkernel.py:283: DeprecationWarning: `should_run_async` will not call `transform_cell` automatically in the future. Please pass the result to `transformed_cell` argument and any exception that happen during thetransform in `preprocessing_exc_tuple` in IPython 7.17 and above.\n",
      "  and should_run_async(code)\n"
     ]
    },
    {
     "output_type": "execute_result",
     "data": {
      "text/plain": [
       "'money'"
      ]
     },
     "metadata": {},
     "execution_count": 39
    }
   ],
   "source": [
    "# Step 1: create dicationary and corpus for topic modeling\n",
    "\n",
    "# Create Dictionary\n",
    "id2word = corpora.Dictionary(words)\n",
    "\n",
    "# Create Corpus\n",
    "texts = words\n",
    "\n",
    "# Term Document Frequency\n",
    "corpus = [id2word.doc2bow(text) for text in texts]\n",
    "\n",
    "# View\n",
    "print(corpus[:1])\n",
    "id2word[0]"
   ]
  },
  {
   "cell_type": "code",
   "execution_count": 40,
   "metadata": {},
   "outputs": [
    {
     "output_type": "stream",
     "name": "stderr",
     "text": [
      "C:\\Users\\Annelie Schridde\\AppData\\Roaming\\Python\\Python38\\site-packages\\ipykernel\\ipkernel.py:283: DeprecationWarning: `should_run_async` will not call `transform_cell` automatically in the future. Please pass the result to `transformed_cell` argument and any exception that happen during thetransform in `preprocessing_exc_tuple` in IPython 7.17 and above.\n  and should_run_async(code)\n"
     ]
    }
   ],
   "source": [
    "# Define the optimal number of topics\n",
    "def compute_coherence_values(dictionary, corpus, texts, limit, start=5, step=5):\n",
    "\n",
    "    coherence_values = []\n",
    "    model_list = []\n",
    "    for num_topics in range(start, limit, step):\n",
    "        model = gensim.models.ldamodel.LdaModel(corpus=corpus,\n",
    "                                           id2word=id2word,\n",
    "                                           num_topics=num_topics, \n",
    "                                           random_state=100,\n",
    "                                           update_every=1,\n",
    "                                           chunksize=100,\n",
    "                                           passes=10,\n",
    "                                           alpha='auto',\n",
    "                                           per_word_topics=True)\n",
    "        model_list.append(model)\n",
    "        coherencemodel = CoherenceModel(model=model, texts=texts, dictionary=dictionary, coherence='c_v')\n",
    "        coherence_values.append(coherencemodel.get_coherence())\n",
    "\n",
    "    return model_list, coherence_values"
   ]
  },
  {
   "cell_type": "code",
   "execution_count": 41,
   "metadata": {},
   "outputs": [
    {
     "output_type": "stream",
     "name": "stderr",
     "text": [
      "C:\\Users\\Annelie Schridde\\AppData\\Roaming\\Python\\Python38\\site-packages\\ipykernel\\ipkernel.py:283: DeprecationWarning: `should_run_async` will not call `transform_cell` automatically in the future. Please pass the result to `transformed_cell` argument and any exception that happen during thetransform in `preprocessing_exc_tuple` in IPython 7.17 and above.\n  and should_run_async(code)\n"
     ]
    }
   ],
   "source": [
    "# Can take a long time to run (!!!)\n",
    "model_list, coherence_values = compute_coherence_values(dictionary=id2word, corpus=corpus, texts=words, start=5, limit=35, step=5)"
   ]
  },
  {
   "cell_type": "code",
   "execution_count": 42,
   "metadata": {},
   "outputs": [
    {
     "output_type": "stream",
     "name": "stderr",
     "text": [
      "C:\\Users\\Annelie Schridde\\AppData\\Roaming\\Python\\Python38\\site-packages\\ipykernel\\ipkernel.py:283: DeprecationWarning: `should_run_async` will not call `transform_cell` automatically in the future. Please pass the result to `transformed_cell` argument and any exception that happen during thetransform in `preprocessing_exc_tuple` in IPython 7.17 and above.\n  and should_run_async(code)\n"
     ]
    },
    {
     "output_type": "display_data",
     "data": {
      "text/plain": "<Figure size 432x288 with 1 Axes>",
      "image/svg+xml": "<?xml version=\"1.0\" encoding=\"utf-8\" standalone=\"no\"?>\r\n<!DOCTYPE svg PUBLIC \"-//W3C//DTD SVG 1.1//EN\"\r\n  \"http://www.w3.org/Graphics/SVG/1.1/DTD/svg11.dtd\">\r\n<svg height=\"262.19625pt\" version=\"1.1\" viewBox=\"0 0 392.14375 262.19625\" width=\"392.14375pt\" xmlns=\"http://www.w3.org/2000/svg\" xmlns:xlink=\"http://www.w3.org/1999/xlink\">\r\n <metadata>\r\n  <rdf:RDF xmlns:cc=\"http://creativecommons.org/ns#\" xmlns:dc=\"http://purl.org/dc/elements/1.1/\" xmlns:rdf=\"http://www.w3.org/1999/02/22-rdf-syntax-ns#\">\r\n   <cc:Work>\r\n    <dc:type rdf:resource=\"http://purl.org/dc/dcmitype/StillImage\"/>\r\n    <dc:date>2021-06-22T17:29:59.319135</dc:date>\r\n    <dc:format>image/svg+xml</dc:format>\r\n    <dc:creator>\r\n     <cc:Agent>\r\n      <dc:title>Matplotlib v3.4.2, https://matplotlib.org/</dc:title>\r\n     </cc:Agent>\r\n    </dc:creator>\r\n   </cc:Work>\r\n  </rdf:RDF>\r\n </metadata>\r\n <defs>\r\n  <style type=\"text/css\">*{stroke-linecap:butt;stroke-linejoin:round;}</style>\r\n </defs>\r\n <g id=\"figure_1\">\r\n  <g id=\"patch_1\">\r\n   <path d=\"M 0 262.19625 \r\nL 392.14375 262.19625 \r\nL 392.14375 0 \r\nL 0 0 \r\nz\r\n\" style=\"fill:none;\"/>\r\n  </g>\r\n  <g id=\"axes_1\">\r\n   <g id=\"patch_2\">\r\n    <path d=\"M 50.14375 224.64 \r\nL 384.94375 224.64 \r\nL 384.94375 7.2 \r\nL 50.14375 7.2 \r\nz\r\n\" style=\"fill:#ffffff;\"/>\r\n   </g>\r\n   <g id=\"matplotlib.axis_1\">\r\n    <g id=\"xtick_1\">\r\n     <g id=\"line2d_1\">\r\n      <defs>\r\n       <path d=\"M 0 0 \r\nL 0 3.5 \r\n\" id=\"m280f685f1a\" style=\"stroke:#000000;stroke-width:0.8;\"/>\r\n      </defs>\r\n      <g>\r\n       <use style=\"stroke:#000000;stroke-width:0.8;\" x=\"65.361932\" xlink:href=\"#m280f685f1a\" y=\"224.64\"/>\r\n      </g>\r\n     </g>\r\n     <g id=\"text_1\">\r\n      <!-- 20 -->\r\n      <g transform=\"translate(58.999432 239.238437)scale(0.1 -0.1)\">\r\n       <defs>\r\n        <path d=\"M 1228 531 \r\nL 3431 531 \r\nL 3431 0 \r\nL 469 0 \r\nL 469 531 \r\nQ 828 903 1448 1529 \r\nQ 2069 2156 2228 2338 \r\nQ 2531 2678 2651 2914 \r\nQ 2772 3150 2772 3378 \r\nQ 2772 3750 2511 3984 \r\nQ 2250 4219 1831 4219 \r\nQ 1534 4219 1204 4116 \r\nQ 875 4013 500 3803 \r\nL 500 4441 \r\nQ 881 4594 1212 4672 \r\nQ 1544 4750 1819 4750 \r\nQ 2544 4750 2975 4387 \r\nQ 3406 4025 3406 3419 \r\nQ 3406 3131 3298 2873 \r\nQ 3191 2616 2906 2266 \r\nQ 2828 2175 2409 1742 \r\nQ 1991 1309 1228 531 \r\nz\r\n\" id=\"DejaVuSans-32\" transform=\"scale(0.015625)\"/>\r\n        <path d=\"M 2034 4250 \r\nQ 1547 4250 1301 3770 \r\nQ 1056 3291 1056 2328 \r\nQ 1056 1369 1301 889 \r\nQ 1547 409 2034 409 \r\nQ 2525 409 2770 889 \r\nQ 3016 1369 3016 2328 \r\nQ 3016 3291 2770 3770 \r\nQ 2525 4250 2034 4250 \r\nz\r\nM 2034 4750 \r\nQ 2819 4750 3233 4129 \r\nQ 3647 3509 3647 2328 \r\nQ 3647 1150 3233 529 \r\nQ 2819 -91 2034 -91 \r\nQ 1250 -91 836 529 \r\nQ 422 1150 422 2328 \r\nQ 422 3509 836 4129 \r\nQ 1250 4750 2034 4750 \r\nz\r\n\" id=\"DejaVuSans-30\" transform=\"scale(0.015625)\"/>\r\n       </defs>\r\n       <use xlink:href=\"#DejaVuSans-32\"/>\r\n       <use x=\"63.623047\" xlink:href=\"#DejaVuSans-30\"/>\r\n      </g>\r\n     </g>\r\n    </g>\r\n    <g id=\"xtick_2\">\r\n     <g id=\"line2d_2\">\r\n      <g>\r\n       <use style=\"stroke:#000000;stroke-width:0.8;\" x=\"126.234659\" xlink:href=\"#m280f685f1a\" y=\"224.64\"/>\r\n      </g>\r\n     </g>\r\n     <g id=\"text_2\">\r\n      <!-- 40 -->\r\n      <g transform=\"translate(119.872159 239.238437)scale(0.1 -0.1)\">\r\n       <defs>\r\n        <path d=\"M 2419 4116 \r\nL 825 1625 \r\nL 2419 1625 \r\nL 2419 4116 \r\nz\r\nM 2253 4666 \r\nL 3047 4666 \r\nL 3047 1625 \r\nL 3713 1625 \r\nL 3713 1100 \r\nL 3047 1100 \r\nL 3047 0 \r\nL 2419 0 \r\nL 2419 1100 \r\nL 313 1100 \r\nL 313 1709 \r\nL 2253 4666 \r\nz\r\n\" id=\"DejaVuSans-34\" transform=\"scale(0.015625)\"/>\r\n       </defs>\r\n       <use xlink:href=\"#DejaVuSans-34\"/>\r\n       <use x=\"63.623047\" xlink:href=\"#DejaVuSans-30\"/>\r\n      </g>\r\n     </g>\r\n    </g>\r\n    <g id=\"xtick_3\">\r\n     <g id=\"line2d_3\">\r\n      <g>\r\n       <use style=\"stroke:#000000;stroke-width:0.8;\" x=\"187.107386\" xlink:href=\"#m280f685f1a\" y=\"224.64\"/>\r\n      </g>\r\n     </g>\r\n     <g id=\"text_3\">\r\n      <!-- 60 -->\r\n      <g transform=\"translate(180.744886 239.238437)scale(0.1 -0.1)\">\r\n       <defs>\r\n        <path d=\"M 2113 2584 \r\nQ 1688 2584 1439 2293 \r\nQ 1191 2003 1191 1497 \r\nQ 1191 994 1439 701 \r\nQ 1688 409 2113 409 \r\nQ 2538 409 2786 701 \r\nQ 3034 994 3034 1497 \r\nQ 3034 2003 2786 2293 \r\nQ 2538 2584 2113 2584 \r\nz\r\nM 3366 4563 \r\nL 3366 3988 \r\nQ 3128 4100 2886 4159 \r\nQ 2644 4219 2406 4219 \r\nQ 1781 4219 1451 3797 \r\nQ 1122 3375 1075 2522 \r\nQ 1259 2794 1537 2939 \r\nQ 1816 3084 2150 3084 \r\nQ 2853 3084 3261 2657 \r\nQ 3669 2231 3669 1497 \r\nQ 3669 778 3244 343 \r\nQ 2819 -91 2113 -91 \r\nQ 1303 -91 875 529 \r\nQ 447 1150 447 2328 \r\nQ 447 3434 972 4092 \r\nQ 1497 4750 2381 4750 \r\nQ 2619 4750 2861 4703 \r\nQ 3103 4656 3366 4563 \r\nz\r\n\" id=\"DejaVuSans-36\" transform=\"scale(0.015625)\"/>\r\n       </defs>\r\n       <use xlink:href=\"#DejaVuSans-36\"/>\r\n       <use x=\"63.623047\" xlink:href=\"#DejaVuSans-30\"/>\r\n      </g>\r\n     </g>\r\n    </g>\r\n    <g id=\"xtick_4\">\r\n     <g id=\"line2d_4\">\r\n      <g>\r\n       <use style=\"stroke:#000000;stroke-width:0.8;\" x=\"247.980114\" xlink:href=\"#m280f685f1a\" y=\"224.64\"/>\r\n      </g>\r\n     </g>\r\n     <g id=\"text_4\">\r\n      <!-- 80 -->\r\n      <g transform=\"translate(241.617614 239.238437)scale(0.1 -0.1)\">\r\n       <defs>\r\n        <path d=\"M 2034 2216 \r\nQ 1584 2216 1326 1975 \r\nQ 1069 1734 1069 1313 \r\nQ 1069 891 1326 650 \r\nQ 1584 409 2034 409 \r\nQ 2484 409 2743 651 \r\nQ 3003 894 3003 1313 \r\nQ 3003 1734 2745 1975 \r\nQ 2488 2216 2034 2216 \r\nz\r\nM 1403 2484 \r\nQ 997 2584 770 2862 \r\nQ 544 3141 544 3541 \r\nQ 544 4100 942 4425 \r\nQ 1341 4750 2034 4750 \r\nQ 2731 4750 3128 4425 \r\nQ 3525 4100 3525 3541 \r\nQ 3525 3141 3298 2862 \r\nQ 3072 2584 2669 2484 \r\nQ 3125 2378 3379 2068 \r\nQ 3634 1759 3634 1313 \r\nQ 3634 634 3220 271 \r\nQ 2806 -91 2034 -91 \r\nQ 1263 -91 848 271 \r\nQ 434 634 434 1313 \r\nQ 434 1759 690 2068 \r\nQ 947 2378 1403 2484 \r\nz\r\nM 1172 3481 \r\nQ 1172 3119 1398 2916 \r\nQ 1625 2713 2034 2713 \r\nQ 2441 2713 2670 2916 \r\nQ 2900 3119 2900 3481 \r\nQ 2900 3844 2670 4047 \r\nQ 2441 4250 2034 4250 \r\nQ 1625 4250 1398 4047 \r\nQ 1172 3844 1172 3481 \r\nz\r\n\" id=\"DejaVuSans-38\" transform=\"scale(0.015625)\"/>\r\n       </defs>\r\n       <use xlink:href=\"#DejaVuSans-38\"/>\r\n       <use x=\"63.623047\" xlink:href=\"#DejaVuSans-30\"/>\r\n      </g>\r\n     </g>\r\n    </g>\r\n    <g id=\"xtick_5\">\r\n     <g id=\"line2d_5\">\r\n      <g>\r\n       <use style=\"stroke:#000000;stroke-width:0.8;\" x=\"308.852841\" xlink:href=\"#m280f685f1a\" y=\"224.64\"/>\r\n      </g>\r\n     </g>\r\n     <g id=\"text_5\">\r\n      <!-- 100 -->\r\n      <g transform=\"translate(299.309091 239.238437)scale(0.1 -0.1)\">\r\n       <defs>\r\n        <path d=\"M 794 531 \r\nL 1825 531 \r\nL 1825 4091 \r\nL 703 3866 \r\nL 703 4441 \r\nL 1819 4666 \r\nL 2450 4666 \r\nL 2450 531 \r\nL 3481 531 \r\nL 3481 0 \r\nL 794 0 \r\nL 794 531 \r\nz\r\n\" id=\"DejaVuSans-31\" transform=\"scale(0.015625)\"/>\r\n       </defs>\r\n       <use xlink:href=\"#DejaVuSans-31\"/>\r\n       <use x=\"63.623047\" xlink:href=\"#DejaVuSans-30\"/>\r\n       <use x=\"127.246094\" xlink:href=\"#DejaVuSans-30\"/>\r\n      </g>\r\n     </g>\r\n    </g>\r\n    <g id=\"xtick_6\">\r\n     <g id=\"line2d_6\">\r\n      <g>\r\n       <use style=\"stroke:#000000;stroke-width:0.8;\" x=\"369.725568\" xlink:href=\"#m280f685f1a\" y=\"224.64\"/>\r\n      </g>\r\n     </g>\r\n     <g id=\"text_6\">\r\n      <!-- 120 -->\r\n      <g transform=\"translate(360.181818 239.238437)scale(0.1 -0.1)\">\r\n       <use xlink:href=\"#DejaVuSans-31\"/>\r\n       <use x=\"63.623047\" xlink:href=\"#DejaVuSans-32\"/>\r\n       <use x=\"127.246094\" xlink:href=\"#DejaVuSans-30\"/>\r\n      </g>\r\n     </g>\r\n    </g>\r\n    <g id=\"text_7\">\r\n     <!-- Num Topics -->\r\n     <g transform=\"translate(188.994531 252.916562)scale(0.1 -0.1)\">\r\n      <defs>\r\n       <path d=\"M 628 4666 \r\nL 1478 4666 \r\nL 3547 763 \r\nL 3547 4666 \r\nL 4159 4666 \r\nL 4159 0 \r\nL 3309 0 \r\nL 1241 3903 \r\nL 1241 0 \r\nL 628 0 \r\nL 628 4666 \r\nz\r\n\" id=\"DejaVuSans-4e\" transform=\"scale(0.015625)\"/>\r\n       <path d=\"M 544 1381 \r\nL 544 3500 \r\nL 1119 3500 \r\nL 1119 1403 \r\nQ 1119 906 1312 657 \r\nQ 1506 409 1894 409 \r\nQ 2359 409 2629 706 \r\nQ 2900 1003 2900 1516 \r\nL 2900 3500 \r\nL 3475 3500 \r\nL 3475 0 \r\nL 2900 0 \r\nL 2900 538 \r\nQ 2691 219 2414 64 \r\nQ 2138 -91 1772 -91 \r\nQ 1169 -91 856 284 \r\nQ 544 659 544 1381 \r\nz\r\nM 1991 3584 \r\nL 1991 3584 \r\nz\r\n\" id=\"DejaVuSans-75\" transform=\"scale(0.015625)\"/>\r\n       <path d=\"M 3328 2828 \r\nQ 3544 3216 3844 3400 \r\nQ 4144 3584 4550 3584 \r\nQ 5097 3584 5394 3201 \r\nQ 5691 2819 5691 2113 \r\nL 5691 0 \r\nL 5113 0 \r\nL 5113 2094 \r\nQ 5113 2597 4934 2840 \r\nQ 4756 3084 4391 3084 \r\nQ 3944 3084 3684 2787 \r\nQ 3425 2491 3425 1978 \r\nL 3425 0 \r\nL 2847 0 \r\nL 2847 2094 \r\nQ 2847 2600 2669 2842 \r\nQ 2491 3084 2119 3084 \r\nQ 1678 3084 1418 2786 \r\nQ 1159 2488 1159 1978 \r\nL 1159 0 \r\nL 581 0 \r\nL 581 3500 \r\nL 1159 3500 \r\nL 1159 2956 \r\nQ 1356 3278 1631 3431 \r\nQ 1906 3584 2284 3584 \r\nQ 2666 3584 2933 3390 \r\nQ 3200 3197 3328 2828 \r\nz\r\n\" id=\"DejaVuSans-6d\" transform=\"scale(0.015625)\"/>\r\n       <path id=\"DejaVuSans-20\" transform=\"scale(0.015625)\"/>\r\n       <path d=\"M -19 4666 \r\nL 3928 4666 \r\nL 3928 4134 \r\nL 2272 4134 \r\nL 2272 0 \r\nL 1638 0 \r\nL 1638 4134 \r\nL -19 4134 \r\nL -19 4666 \r\nz\r\n\" id=\"DejaVuSans-54\" transform=\"scale(0.015625)\"/>\r\n       <path d=\"M 1959 3097 \r\nQ 1497 3097 1228 2736 \r\nQ 959 2375 959 1747 \r\nQ 959 1119 1226 758 \r\nQ 1494 397 1959 397 \r\nQ 2419 397 2687 759 \r\nQ 2956 1122 2956 1747 \r\nQ 2956 2369 2687 2733 \r\nQ 2419 3097 1959 3097 \r\nz\r\nM 1959 3584 \r\nQ 2709 3584 3137 3096 \r\nQ 3566 2609 3566 1747 \r\nQ 3566 888 3137 398 \r\nQ 2709 -91 1959 -91 \r\nQ 1206 -91 779 398 \r\nQ 353 888 353 1747 \r\nQ 353 2609 779 3096 \r\nQ 1206 3584 1959 3584 \r\nz\r\n\" id=\"DejaVuSans-6f\" transform=\"scale(0.015625)\"/>\r\n       <path d=\"M 1159 525 \r\nL 1159 -1331 \r\nL 581 -1331 \r\nL 581 3500 \r\nL 1159 3500 \r\nL 1159 2969 \r\nQ 1341 3281 1617 3432 \r\nQ 1894 3584 2278 3584 \r\nQ 2916 3584 3314 3078 \r\nQ 3713 2572 3713 1747 \r\nQ 3713 922 3314 415 \r\nQ 2916 -91 2278 -91 \r\nQ 1894 -91 1617 61 \r\nQ 1341 213 1159 525 \r\nz\r\nM 3116 1747 \r\nQ 3116 2381 2855 2742 \r\nQ 2594 3103 2138 3103 \r\nQ 1681 3103 1420 2742 \r\nQ 1159 2381 1159 1747 \r\nQ 1159 1113 1420 752 \r\nQ 1681 391 2138 391 \r\nQ 2594 391 2855 752 \r\nQ 3116 1113 3116 1747 \r\nz\r\n\" id=\"DejaVuSans-70\" transform=\"scale(0.015625)\"/>\r\n       <path d=\"M 603 3500 \r\nL 1178 3500 \r\nL 1178 0 \r\nL 603 0 \r\nL 603 3500 \r\nz\r\nM 603 4863 \r\nL 1178 4863 \r\nL 1178 4134 \r\nL 603 4134 \r\nL 603 4863 \r\nz\r\n\" id=\"DejaVuSans-69\" transform=\"scale(0.015625)\"/>\r\n       <path d=\"M 3122 3366 \r\nL 3122 2828 \r\nQ 2878 2963 2633 3030 \r\nQ 2388 3097 2138 3097 \r\nQ 1578 3097 1268 2742 \r\nQ 959 2388 959 1747 \r\nQ 959 1106 1268 751 \r\nQ 1578 397 2138 397 \r\nQ 2388 397 2633 464 \r\nQ 2878 531 3122 666 \r\nL 3122 134 \r\nQ 2881 22 2623 -34 \r\nQ 2366 -91 2075 -91 \r\nQ 1284 -91 818 406 \r\nQ 353 903 353 1747 \r\nQ 353 2603 823 3093 \r\nQ 1294 3584 2113 3584 \r\nQ 2378 3584 2631 3529 \r\nQ 2884 3475 3122 3366 \r\nz\r\n\" id=\"DejaVuSans-63\" transform=\"scale(0.015625)\"/>\r\n       <path d=\"M 2834 3397 \r\nL 2834 2853 \r\nQ 2591 2978 2328 3040 \r\nQ 2066 3103 1784 3103 \r\nQ 1356 3103 1142 2972 \r\nQ 928 2841 928 2578 \r\nQ 928 2378 1081 2264 \r\nQ 1234 2150 1697 2047 \r\nL 1894 2003 \r\nQ 2506 1872 2764 1633 \r\nQ 3022 1394 3022 966 \r\nQ 3022 478 2636 193 \r\nQ 2250 -91 1575 -91 \r\nQ 1294 -91 989 -36 \r\nQ 684 19 347 128 \r\nL 347 722 \r\nQ 666 556 975 473 \r\nQ 1284 391 1588 391 \r\nQ 1994 391 2212 530 \r\nQ 2431 669 2431 922 \r\nQ 2431 1156 2273 1281 \r\nQ 2116 1406 1581 1522 \r\nL 1381 1569 \r\nQ 847 1681 609 1914 \r\nQ 372 2147 372 2553 \r\nQ 372 3047 722 3315 \r\nQ 1072 3584 1716 3584 \r\nQ 2034 3584 2315 3537 \r\nQ 2597 3491 2834 3397 \r\nz\r\n\" id=\"DejaVuSans-73\" transform=\"scale(0.015625)\"/>\r\n      </defs>\r\n      <use xlink:href=\"#DejaVuSans-4e\"/>\r\n      <use x=\"74.804688\" xlink:href=\"#DejaVuSans-75\"/>\r\n      <use x=\"138.183594\" xlink:href=\"#DejaVuSans-6d\"/>\r\n      <use x=\"235.595703\" xlink:href=\"#DejaVuSans-20\"/>\r\n      <use x=\"267.382812\" xlink:href=\"#DejaVuSans-54\"/>\r\n      <use x=\"311.466797\" xlink:href=\"#DejaVuSans-6f\"/>\r\n      <use x=\"372.648438\" xlink:href=\"#DejaVuSans-70\"/>\r\n      <use x=\"436.125\" xlink:href=\"#DejaVuSans-69\"/>\r\n      <use x=\"463.908203\" xlink:href=\"#DejaVuSans-63\"/>\r\n      <use x=\"518.888672\" xlink:href=\"#DejaVuSans-73\"/>\r\n     </g>\r\n    </g>\r\n   </g>\r\n   <g id=\"matplotlib.axis_2\">\r\n    <g id=\"ytick_1\">\r\n     <g id=\"line2d_7\">\r\n      <defs>\r\n       <path d=\"M 0 0 \r\nL -3.5 0 \r\n\" id=\"m681931b566\" style=\"stroke:#000000;stroke-width:0.8;\"/>\r\n      </defs>\r\n      <g>\r\n       <use style=\"stroke:#000000;stroke-width:0.8;\" x=\"50.14375\" xlink:href=\"#m681931b566\" y=\"210.820164\"/>\r\n      </g>\r\n     </g>\r\n     <g id=\"text_8\">\r\n      <!-- 0.44 -->\r\n      <g transform=\"translate(20.878125 214.619382)scale(0.1 -0.1)\">\r\n       <defs>\r\n        <path d=\"M 684 794 \r\nL 1344 794 \r\nL 1344 0 \r\nL 684 0 \r\nL 684 794 \r\nz\r\n\" id=\"DejaVuSans-2e\" transform=\"scale(0.015625)\"/>\r\n       </defs>\r\n       <use xlink:href=\"#DejaVuSans-30\"/>\r\n       <use x=\"63.623047\" xlink:href=\"#DejaVuSans-2e\"/>\r\n       <use x=\"95.410156\" xlink:href=\"#DejaVuSans-34\"/>\r\n       <use x=\"159.033203\" xlink:href=\"#DejaVuSans-34\"/>\r\n      </g>\r\n     </g>\r\n    </g>\r\n    <g id=\"ytick_2\">\r\n     <g id=\"line2d_8\">\r\n      <g>\r\n       <use style=\"stroke:#000000;stroke-width:0.8;\" x=\"50.14375\" xlink:href=\"#m681931b566\" y=\"174.252016\"/>\r\n      </g>\r\n     </g>\r\n     <g id=\"text_9\">\r\n      <!-- 0.46 -->\r\n      <g transform=\"translate(20.878125 178.051235)scale(0.1 -0.1)\">\r\n       <use xlink:href=\"#DejaVuSans-30\"/>\r\n       <use x=\"63.623047\" xlink:href=\"#DejaVuSans-2e\"/>\r\n       <use x=\"95.410156\" xlink:href=\"#DejaVuSans-34\"/>\r\n       <use x=\"159.033203\" xlink:href=\"#DejaVuSans-36\"/>\r\n      </g>\r\n     </g>\r\n    </g>\r\n    <g id=\"ytick_3\">\r\n     <g id=\"line2d_9\">\r\n      <g>\r\n       <use style=\"stroke:#000000;stroke-width:0.8;\" x=\"50.14375\" xlink:href=\"#m681931b566\" y=\"137.683869\"/>\r\n      </g>\r\n     </g>\r\n     <g id=\"text_10\">\r\n      <!-- 0.48 -->\r\n      <g transform=\"translate(20.878125 141.483088)scale(0.1 -0.1)\">\r\n       <use xlink:href=\"#DejaVuSans-30\"/>\r\n       <use x=\"63.623047\" xlink:href=\"#DejaVuSans-2e\"/>\r\n       <use x=\"95.410156\" xlink:href=\"#DejaVuSans-34\"/>\r\n       <use x=\"159.033203\" xlink:href=\"#DejaVuSans-38\"/>\r\n      </g>\r\n     </g>\r\n    </g>\r\n    <g id=\"ytick_4\">\r\n     <g id=\"line2d_10\">\r\n      <g>\r\n       <use style=\"stroke:#000000;stroke-width:0.8;\" x=\"50.14375\" xlink:href=\"#m681931b566\" y=\"101.115722\"/>\r\n      </g>\r\n     </g>\r\n     <g id=\"text_11\">\r\n      <!-- 0.50 -->\r\n      <g transform=\"translate(20.878125 104.914941)scale(0.1 -0.1)\">\r\n       <defs>\r\n        <path d=\"M 691 4666 \r\nL 3169 4666 \r\nL 3169 4134 \r\nL 1269 4134 \r\nL 1269 2991 \r\nQ 1406 3038 1543 3061 \r\nQ 1681 3084 1819 3084 \r\nQ 2600 3084 3056 2656 \r\nQ 3513 2228 3513 1497 \r\nQ 3513 744 3044 326 \r\nQ 2575 -91 1722 -91 \r\nQ 1428 -91 1123 -41 \r\nQ 819 9 494 109 \r\nL 494 744 \r\nQ 775 591 1075 516 \r\nQ 1375 441 1709 441 \r\nQ 2250 441 2565 725 \r\nQ 2881 1009 2881 1497 \r\nQ 2881 1984 2565 2268 \r\nQ 2250 2553 1709 2553 \r\nQ 1456 2553 1204 2497 \r\nQ 953 2441 691 2322 \r\nL 691 4666 \r\nz\r\n\" id=\"DejaVuSans-35\" transform=\"scale(0.015625)\"/>\r\n       </defs>\r\n       <use xlink:href=\"#DejaVuSans-30\"/>\r\n       <use x=\"63.623047\" xlink:href=\"#DejaVuSans-2e\"/>\r\n       <use x=\"95.410156\" xlink:href=\"#DejaVuSans-35\"/>\r\n       <use x=\"159.033203\" xlink:href=\"#DejaVuSans-30\"/>\r\n      </g>\r\n     </g>\r\n    </g>\r\n    <g id=\"ytick_5\">\r\n     <g id=\"line2d_11\">\r\n      <g>\r\n       <use style=\"stroke:#000000;stroke-width:0.8;\" x=\"50.14375\" xlink:href=\"#m681931b566\" y=\"64.547575\"/>\r\n      </g>\r\n     </g>\r\n     <g id=\"text_12\">\r\n      <!-- 0.52 -->\r\n      <g transform=\"translate(20.878125 68.346794)scale(0.1 -0.1)\">\r\n       <use xlink:href=\"#DejaVuSans-30\"/>\r\n       <use x=\"63.623047\" xlink:href=\"#DejaVuSans-2e\"/>\r\n       <use x=\"95.410156\" xlink:href=\"#DejaVuSans-35\"/>\r\n       <use x=\"159.033203\" xlink:href=\"#DejaVuSans-32\"/>\r\n      </g>\r\n     </g>\r\n    </g>\r\n    <g id=\"ytick_6\">\r\n     <g id=\"line2d_12\">\r\n      <g>\r\n       <use style=\"stroke:#000000;stroke-width:0.8;\" x=\"50.14375\" xlink:href=\"#m681931b566\" y=\"27.979428\"/>\r\n      </g>\r\n     </g>\r\n     <g id=\"text_13\">\r\n      <!-- 0.54 -->\r\n      <g transform=\"translate(20.878125 31.778647)scale(0.1 -0.1)\">\r\n       <use xlink:href=\"#DejaVuSans-30\"/>\r\n       <use x=\"63.623047\" xlink:href=\"#DejaVuSans-2e\"/>\r\n       <use x=\"95.410156\" xlink:href=\"#DejaVuSans-35\"/>\r\n       <use x=\"159.033203\" xlink:href=\"#DejaVuSans-34\"/>\r\n      </g>\r\n     </g>\r\n    </g>\r\n    <g id=\"text_14\">\r\n     <!-- Coherence score -->\r\n     <g transform=\"translate(14.798438 157.752031)rotate(-90)scale(0.1 -0.1)\">\r\n      <defs>\r\n       <path d=\"M 4122 4306 \r\nL 4122 3641 \r\nQ 3803 3938 3442 4084 \r\nQ 3081 4231 2675 4231 \r\nQ 1875 4231 1450 3742 \r\nQ 1025 3253 1025 2328 \r\nQ 1025 1406 1450 917 \r\nQ 1875 428 2675 428 \r\nQ 3081 428 3442 575 \r\nQ 3803 722 4122 1019 \r\nL 4122 359 \r\nQ 3791 134 3420 21 \r\nQ 3050 -91 2638 -91 \r\nQ 1578 -91 968 557 \r\nQ 359 1206 359 2328 \r\nQ 359 3453 968 4101 \r\nQ 1578 4750 2638 4750 \r\nQ 3056 4750 3426 4639 \r\nQ 3797 4528 4122 4306 \r\nz\r\n\" id=\"DejaVuSans-43\" transform=\"scale(0.015625)\"/>\r\n       <path d=\"M 3513 2113 \r\nL 3513 0 \r\nL 2938 0 \r\nL 2938 2094 \r\nQ 2938 2591 2744 2837 \r\nQ 2550 3084 2163 3084 \r\nQ 1697 3084 1428 2787 \r\nQ 1159 2491 1159 1978 \r\nL 1159 0 \r\nL 581 0 \r\nL 581 4863 \r\nL 1159 4863 \r\nL 1159 2956 \r\nQ 1366 3272 1645 3428 \r\nQ 1925 3584 2291 3584 \r\nQ 2894 3584 3203 3211 \r\nQ 3513 2838 3513 2113 \r\nz\r\n\" id=\"DejaVuSans-68\" transform=\"scale(0.015625)\"/>\r\n       <path d=\"M 3597 1894 \r\nL 3597 1613 \r\nL 953 1613 \r\nQ 991 1019 1311 708 \r\nQ 1631 397 2203 397 \r\nQ 2534 397 2845 478 \r\nQ 3156 559 3463 722 \r\nL 3463 178 \r\nQ 3153 47 2828 -22 \r\nQ 2503 -91 2169 -91 \r\nQ 1331 -91 842 396 \r\nQ 353 884 353 1716 \r\nQ 353 2575 817 3079 \r\nQ 1281 3584 2069 3584 \r\nQ 2775 3584 3186 3129 \r\nQ 3597 2675 3597 1894 \r\nz\r\nM 3022 2063 \r\nQ 3016 2534 2758 2815 \r\nQ 2500 3097 2075 3097 \r\nQ 1594 3097 1305 2825 \r\nQ 1016 2553 972 2059 \r\nL 3022 2063 \r\nz\r\n\" id=\"DejaVuSans-65\" transform=\"scale(0.015625)\"/>\r\n       <path d=\"M 2631 2963 \r\nQ 2534 3019 2420 3045 \r\nQ 2306 3072 2169 3072 \r\nQ 1681 3072 1420 2755 \r\nQ 1159 2438 1159 1844 \r\nL 1159 0 \r\nL 581 0 \r\nL 581 3500 \r\nL 1159 3500 \r\nL 1159 2956 \r\nQ 1341 3275 1631 3429 \r\nQ 1922 3584 2338 3584 \r\nQ 2397 3584 2469 3576 \r\nQ 2541 3569 2628 3553 \r\nL 2631 2963 \r\nz\r\n\" id=\"DejaVuSans-72\" transform=\"scale(0.015625)\"/>\r\n       <path d=\"M 3513 2113 \r\nL 3513 0 \r\nL 2938 0 \r\nL 2938 2094 \r\nQ 2938 2591 2744 2837 \r\nQ 2550 3084 2163 3084 \r\nQ 1697 3084 1428 2787 \r\nQ 1159 2491 1159 1978 \r\nL 1159 0 \r\nL 581 0 \r\nL 581 3500 \r\nL 1159 3500 \r\nL 1159 2956 \r\nQ 1366 3272 1645 3428 \r\nQ 1925 3584 2291 3584 \r\nQ 2894 3584 3203 3211 \r\nQ 3513 2838 3513 2113 \r\nz\r\n\" id=\"DejaVuSans-6e\" transform=\"scale(0.015625)\"/>\r\n      </defs>\r\n      <use xlink:href=\"#DejaVuSans-43\"/>\r\n      <use x=\"69.824219\" xlink:href=\"#DejaVuSans-6f\"/>\r\n      <use x=\"131.005859\" xlink:href=\"#DejaVuSans-68\"/>\r\n      <use x=\"194.384766\" xlink:href=\"#DejaVuSans-65\"/>\r\n      <use x=\"255.908203\" xlink:href=\"#DejaVuSans-72\"/>\r\n      <use x=\"294.771484\" xlink:href=\"#DejaVuSans-65\"/>\r\n      <use x=\"356.294922\" xlink:href=\"#DejaVuSans-6e\"/>\r\n      <use x=\"419.673828\" xlink:href=\"#DejaVuSans-63\"/>\r\n      <use x=\"474.654297\" xlink:href=\"#DejaVuSans-65\"/>\r\n      <use x=\"536.177734\" xlink:href=\"#DejaVuSans-20\"/>\r\n      <use x=\"567.964844\" xlink:href=\"#DejaVuSans-73\"/>\r\n      <use x=\"620.064453\" xlink:href=\"#DejaVuSans-63\"/>\r\n      <use x=\"675.044922\" xlink:href=\"#DejaVuSans-6f\"/>\r\n      <use x=\"736.226562\" xlink:href=\"#DejaVuSans-72\"/>\r\n      <use x=\"775.089844\" xlink:href=\"#DejaVuSans-65\"/>\r\n     </g>\r\n    </g>\r\n   </g>\r\n   <g id=\"line2d_13\">\r\n    <path clip-path=\"url(#p8e433cc6b0)\" d=\"M 65.361932 38.852803 \r\nL 126.234659 17.083636 \r\nL 187.107386 207.721816 \r\nL 247.980114 214.756364 \r\nL 308.852841 211.949163 \r\nL 369.725568 72.274073 \r\n\" style=\"fill:none;stroke:#1f77b4;stroke-linecap:square;stroke-width:1.5;\"/>\r\n   </g>\r\n   <g id=\"patch_3\">\r\n    <path d=\"M 50.14375 224.64 \r\nL 50.14375 7.2 \r\n\" style=\"fill:none;stroke:#000000;stroke-linecap:square;stroke-linejoin:miter;stroke-width:0.8;\"/>\r\n   </g>\r\n   <g id=\"patch_4\">\r\n    <path d=\"M 384.94375 224.64 \r\nL 384.94375 7.2 \r\n\" style=\"fill:none;stroke:#000000;stroke-linecap:square;stroke-linejoin:miter;stroke-width:0.8;\"/>\r\n   </g>\r\n   <g id=\"patch_5\">\r\n    <path d=\"M 50.14375 224.64 \r\nL 384.94375 224.64 \r\n\" style=\"fill:none;stroke:#000000;stroke-linecap:square;stroke-linejoin:miter;stroke-width:0.8;\"/>\r\n   </g>\r\n   <g id=\"patch_6\">\r\n    <path d=\"M 50.14375 7.2 \r\nL 384.94375 7.2 \r\n\" style=\"fill:none;stroke:#000000;stroke-linecap:square;stroke-linejoin:miter;stroke-width:0.8;\"/>\r\n   </g>\r\n   <g id=\"legend_1\">\r\n    <g id=\"patch_7\">\r\n     <path d=\"M 340.445312 29.878125 \r\nL 377.94375 29.878125 \r\nQ 379.94375 29.878125 379.94375 27.878125 \r\nL 379.94375 14.2 \r\nQ 379.94375 12.2 377.94375 12.2 \r\nL 340.445312 12.2 \r\nQ 338.445312 12.2 338.445312 14.2 \r\nL 338.445312 27.878125 \r\nQ 338.445312 29.878125 340.445312 29.878125 \r\nz\r\n\" style=\"fill:#ffffff;opacity:0.8;stroke:#cccccc;stroke-linejoin:miter;\"/>\r\n    </g>\r\n    <g id=\"line2d_14\">\r\n     <path d=\"M 342.445312 20.298437 \r\nL 362.445312 20.298437 \r\n\" style=\"fill:none;stroke:#1f77b4;stroke-linecap:square;stroke-width:1.5;\"/>\r\n    </g>\r\n    <g id=\"line2d_15\"/>\r\n    <g id=\"text_15\">\r\n     <!-- c -->\r\n     <g transform=\"translate(370.445312 23.798437)scale(0.1 -0.1)\">\r\n      <use xlink:href=\"#DejaVuSans-63\"/>\r\n     </g>\r\n    </g>\r\n   </g>\r\n  </g>\r\n </g>\r\n <defs>\r\n  <clipPath id=\"p8e433cc6b0\">\r\n   <rect height=\"217.44\" width=\"334.8\" x=\"50.14375\" y=\"7.2\"/>\r\n  </clipPath>\r\n </defs>\r\n</svg>\r\n",
      "image/png": "[encoded data removed]"
     },
     "metadata": {
      "needs_background": "light"
     }
    }
   ],
   "source": [
    "# Show graph\n",
    "limit=140; start=20; step=20;\n",
    "x = range(start, limit, step)\n",
    "plt.plot(x, coherence_values)\n",
    "plt.xlabel(\"Num Topics\")\n",
    "plt.ylabel(\"Coherence score\")\n",
    "plt.legend((\"coherence_values\"), loc='best')\n",
    "plt.show()"
   ]
  },
  {
   "cell_type": "code",
   "execution_count": 43,
   "metadata": {},
   "outputs": [
    {
     "output_type": "stream",
     "name": "stderr",
     "text": [
      "C:\\Users\\Annelie Schridde\\AppData\\Roaming\\Python\\Python38\\site-packages\\ipykernel\\ipkernel.py:283: DeprecationWarning: `should_run_async` will not call `transform_cell` automatically in the future. Please pass the result to `transformed_cell` argument and any exception that happen during thetransform in `preprocessing_exc_tuple` in IPython 7.17 and above.\n  and should_run_async(code)\n"
     ]
    }
   ],
   "source": [
    "## Step 2: build LDA model\n",
    "lda_model = gensim.models.ldamodel.LdaModel(corpus=corpus,\n",
    "                                           id2word=id2word,\n",
    "                                           num_topics=3, \n",
    "                                           random_state=40,\n",
    "                                           update_every=1, # how often the model parameters should be updated\n",
    "                                           chunksize=100, # number of texts to be used in each training chunk\n",
    "                                           passes=10, # total number of training passes\n",
    "                                           alpha='auto',\n",
    "                                           per_word_topics=True)"
   ]
  },
  {
   "cell_type": "code",
   "execution_count": 44,
   "metadata": {},
   "outputs": [
    {
     "output_type": "stream",
     "name": "stderr",
     "text": [
      "C:\\Users\\Annelie Schridde\\AppData\\Roaming\\Python\\Python38\\site-packages\\ipykernel\\ipkernel.py:283: DeprecationWarning: `should_run_async` will not call `transform_cell` automatically in the future. Please pass the result to `transformed_cell` argument and any exception that happen during thetransform in `preprocessing_exc_tuple` in IPython 7.17 and above.\n  and should_run_async(code)\n"
     ]
    }
   ],
   "source": [
    "# Visualize the topics\n",
    "import pyLDAvis\n",
    "import pyLDAvis.gensim_models  # don't skip this\n"
   ]
  },
  {
   "cell_type": "code",
   "execution_count": 45,
   "metadata": {},
   "outputs": [
    {
     "output_type": "stream",
     "name": "stderr",
     "text": [
      "C:\\Users\\Annelie Schridde\\AppData\\Roaming\\Python\\Python38\\site-packages\\ipykernel\\ipkernel.py:283: DeprecationWarning: `should_run_async` will not call `transform_cell` automatically in the future. Please pass the result to `transformed_cell` argument and any exception that happen during thetransform in `preprocessing_exc_tuple` in IPython 7.17 and above.\n  and should_run_async(code)\n"
     ]
    },
    {
     "output_type": "execute_result",
     "data": {
      "text/plain": [
       "PreparedData(topic_coordinates=              x         y  topics  cluster       Freq\n",
       "topic                                                \n",
       "0      0.097653  0.144797       1        1  36.208418\n",
       "2     -0.177608  0.009950       2        1  34.116052\n",
       "1      0.079954 -0.154747       3        1  29.675530, topic_info=          Term        Freq       Total Category  logprob  loglift\n",
       "234    account   47.000000   47.000000  Default  30.0000  30.0000\n",
       "46       order   37.000000   37.000000  Default  29.0000  29.0000\n",
       "172     market   37.000000   37.000000  Default  28.0000  28.0000\n",
       "74     zalando  455.000000  455.000000  Default  27.0000  27.0000\n",
       "41        time   32.000000   32.000000  Default  26.0000  26.0000\n",
       "...        ...         ...         ...      ...      ...      ...\n",
       "74     zalando  193.864371  455.971275   Topic3  -2.1958   0.3596\n",
       "449       sell    5.446894    6.416657   Topic3  -5.7679   1.0510\n",
       "719      think    6.023557    7.538162   Topic3  -5.6673   0.9905\n",
       "375   shopping    5.130104    6.045597   Topic3  -5.8278   1.0506\n",
       "1834     sorry    5.144372    8.763298   Topic3  -5.8250   0.6822\n",
       "\n",
       "[140 rows x 6 columns], token_table=      Topic      Freq     Term\n",
       "term                          \n",
       "234       3  0.985215  account\n",
       "884       1  0.942239   amazon\n",
       "66        3  0.939858      bag\n",
       "324       2  0.947733   berlin\n",
       "308       3  0.946970     body\n",
       "...     ...       ...      ...\n",
       "232       1  0.960273     work\n",
       "64        2  0.960709     year\n",
       "74        1  0.324582  zalando\n",
       "74        2  0.250016  zalando\n",
       "74        3  0.425465  zalando\n",
       "\n",
       "[129 rows x 3 columns], R=30, lambda_step=0.01, plot_opts={'xlab': 'PC1', 'ylab': 'PC2'}, topic_order=[1, 3, 2])"
      ],
      "text/html": "\n<link rel=\"stylesheet\" type=\"text/css\" href=\"https://cdn.jsdelivr.net/gh/bmabey/pyLDAvis@3.3.1/pyLDAvis/js/ldavis.v1.0.0.css\">\n\n\n<div id=\"ldavis_el1941217956170106249839357155\"></div>\n<script type=\"text/javascript\">\n\nvar ldavis_el1941217956170106249839357155_data = {\"mdsDat\": {\"x\": [0.09765340096939547, -0.17760753426360798, 0.07995413329421243], \"y\": [0.14479667464308266, 0.009950219406810195, -0.15474689404989292], \"topics\": [1, 2, 3], \"cluster\": [1, 1, 1], \"Freq\": [36.20841837372052, 34.11605160258452, 29.67553002369496]}, \"tinfo\": {\"Term\": [\"account\", \"order\", \"market\", \"zalando\", \"time\", \"day\", \"look\", \"growth\", \"stock\", \"work\", \"brand\", \"size\", \"team\", \"fashion\", \"delivery\", \"sale\", \"today\", \"join\", \"restock\", \"year\", \"customer\", \"target\", \"need\", \"launch\", \"product\", \"item\", \"sustainability\", \"return\", \"retailer\", \"woman\", \"look\", \"stock\", \"work\", \"team\", \"time\", \"delivery\", \"today\", \"join\", \"sale\", \"sustainability\", \"pair\", \"service\", \"buy\", \"morning\", \"customer\", \"news\", \"thing\", \"check\", \"stay\", \"issue\", \"week\", \"ecommerce\", \"shirt\", \"dress\", \"try\", \"rise_upbeat\", \"grow\", \"amazon\", \"post\", \"dunk\", \"help\", \"drop\", \"thank\", \"zalando\", \"fashion\", \"market\", \"growth\", \"day\", \"brand\", \"year\", \"target\", \"item\", \"champion\", \"launch\", \"return\", \"spring_campaign\", \"revenue\", \"share\", \"retailer\", \"society\", \"product\", \"talk\", \"shop\", \"celebrate_value\", \"support\", \"europe\", \"money\", \"event\", \"berlin\", \"purchase\", \"marketplace\", \"price\", \"business\", \"ship\", \"end\", \"tomorrow\", \"online\", \"s\", \"fashion\", \"zalando\", \"company\", \"account\", \"order\", \"restock\", \"size\", \"need\", \"shoe\", \"body\", \"show\", \"success\", \"woman\", \"get\", \"cop\", \"giftcard\", \"findom\", \"retweet\", \"test\", \"postgre_operator\", \"discount\", \"bag\", \"ticket\", \"snipe\", \"eur\", \"lounge\", \"trading\", \"t\", \"cart\", \"mid\", \"halo\", \"send\", \"dhl\", \"slot\", \"plan\", \"winner\", \"package\", \"zalando\", \"sell\", \"think\", \"shopping\", \"sorry\"], \"Freq\": [47.0, 37.0, 37.0, 455.0, 32.0, 29.0, 29.0, 25.0, 26.0, 26.0, 20.0, 17.0, 21.0, 56.0, 20.0, 20.0, 20.0, 20.0, 15.0, 16.0, 18.0, 16.0, 13.0, 15.0, 16.0, 15.0, 16.0, 14.0, 14.0, 13.0, 29.158001635657186, 26.123755064099285, 25.4172211337166, 20.506266762909473, 31.89567584286663, 19.856852100905193, 19.715527892570787, 19.66078834623289, 20.0805241948911, 15.629928240702474, 14.917942925429143, 13.162949395403437, 12.639482809264639, 12.531494507517722, 17.924476228165823, 11.725578474814167, 11.535107660877681, 12.18139324577295, 11.54008290338002, 11.09999963935461, 11.271214898743649, 14.01684395051115, 8.06496560153913, 9.223853113980997, 11.592252666682485, 7.873139613112852, 8.154424936083748, 11.97091554241849, 8.211808508033211, 7.097585824347159, 9.838241118463845, 15.777123551957963, 15.859658528901337, 147.80828172171726, 27.265516794027885, 37.13255950375551, 25.328251520123718, 28.52151983604754, 19.641206567084645, 16.11431782495516, 15.552233992098426, 14.75910504493061, 13.618780254291472, 15.210677239852677, 14.183340399950705, 13.240471475804835, 12.463873665402156, 13.156506284192064, 14.26688960832057, 11.785605526262433, 15.48997454494505, 11.992026484528806, 11.363503785434705, 9.583257795227151, 11.045017314608819, 9.229533999475352, 13.686619100007762, 9.564907897646622, 7.944253971849426, 9.876318922551704, 7.752382633757267, 7.798466768376826, 8.128492577052986, 7.534910138618286, 7.139956434228318, 10.66487391944327, 14.602750374771652, 14.638878426148182, 28.55781670573565, 114.2986225311705, 9.190430641944412, 47.16308550974803, 36.660355236735306, 14.654104384523562, 16.888487115599297, 13.19218009593727, 11.184487971593283, 8.943136185979613, 8.551406360571074, 11.70237634400505, 12.683845575241302, 7.835896208446669, 7.71228757278369, 6.828585495820165, 6.215834012292659, 6.149000049105184, 5.9120607134502166, 5.825123989160509, 5.749278932986674, 5.830345100974114, 5.336612331567287, 5.105882675008169, 6.294282931160265, 5.351390540290887, 5.305075534361403, 5.0127707518109546, 4.843211383267098, 4.666727987254791, 4.717493371376107, 4.614867755741281, 4.413004101563964, 4.544376053044577, 8.255787829096272, 5.449481808334035, 13.394314318180758, 193.86437055404025, 5.446894171611248, 6.023557473071658, 5.130103993195596, 5.144371895131727], \"Total\": [47.0, 37.0, 37.0, 455.0, 32.0, 29.0, 29.0, 25.0, 26.0, 26.0, 20.0, 17.0, 21.0, 56.0, 20.0, 20.0, 20.0, 20.0, 15.0, 16.0, 18.0, 16.0, 13.0, 15.0, 16.0, 15.0, 16.0, 14.0, 14.0, 13.0, 29.698139400708882, 26.68449886799253, 26.034261665346982, 21.008554871927583, 32.704583619270146, 20.391722050799, 20.271159993210176, 20.215728551969782, 20.690980971549532, 16.19825564211017, 15.471830827979355, 13.686065857170059, 13.185541615342332, 13.089706547588293, 18.73496243438435, 12.272499300317051, 12.092432290730953, 12.781536226882736, 12.143911725224246, 11.699055250135533, 11.914951006727218, 14.844309423349124, 8.557509959685527, 9.799334141451952, 12.316931872196099, 8.367277137105512, 8.67418904204617, 12.735622995437959, 8.769393310482956, 7.623043814580264, 10.709785561922178, 18.368026882045953, 19.439093205363537, 455.971274806928, 56.06999102579668, 37.87984753277007, 25.846127815815212, 29.1785980139552, 20.19592559324086, 16.65436434049842, 16.09169489681878, 15.287621161936814, 14.120155016305587, 15.777338414713878, 14.715487942944577, 13.745569013730032, 12.968297065707533, 13.702148836240035, 14.858905435313158, 12.283943573512492, 16.163250762183438, 12.520328691982366, 11.921423530484594, 10.073104822042355, 11.61207866014834, 9.735157876261956, 14.436657979287249, 10.114740821982245, 8.441193725256966, 10.50596425950076, 8.259333099153677, 8.319014599736615, 8.683785791490028, 8.075024936081977, 7.661702555002241, 11.508461857223578, 18.17321952243365, 20.79467011677129, 56.06999102579668, 455.971274806928, 16.191318491440732, 47.705336332077565, 37.20742410266546, 15.195541714803873, 17.52333075022525, 13.782882824075553, 11.71380932292055, 9.503995832945474, 9.096568512380077, 12.472280437345615, 13.518994331650177, 8.364203355335201, 8.242323506839151, 7.367678840779631, 6.730628597856212, 6.671570891756815, 6.435760061243986, 6.3511564752491125, 6.288353443513188, 6.38394374501626, 5.8705140325686935, 5.619409685472686, 6.936782041089759, 5.903621528476647, 5.859265541130021, 5.549070960737559, 5.376025545898691, 5.185665180090872, 5.246384336149922, 5.152298545219211, 4.934532891973303, 5.0858698209136115, 9.474201472526547, 6.146116577744499, 16.66185981322969, 455.971274806928, 6.416656713831926, 7.538161941378522, 6.045597397348578, 8.763298277888378], \"Category\": [\"Default\", \"Default\", \"Default\", \"Default\", \"Default\", \"Default\", \"Default\", \"Default\", \"Default\", \"Default\", \"Default\", \"Default\", \"Default\", \"Default\", \"Default\", \"Default\", \"Default\", \"Default\", \"Default\", \"Default\", \"Default\", \"Default\", \"Default\", \"Default\", \"Default\", \"Default\", \"Default\", \"Default\", \"Default\", \"Default\", \"Topic1\", \"Topic1\", \"Topic1\", \"Topic1\", \"Topic1\", \"Topic1\", \"Topic1\", \"Topic1\", \"Topic1\", \"Topic1\", \"Topic1\", \"Topic1\", \"Topic1\", \"Topic1\", \"Topic1\", \"Topic1\", \"Topic1\", \"Topic1\", \"Topic1\", \"Topic1\", \"Topic1\", \"Topic1\", \"Topic1\", \"Topic1\", \"Topic1\", \"Topic1\", \"Topic1\", \"Topic1\", \"Topic1\", \"Topic1\", \"Topic1\", \"Topic1\", \"Topic1\", \"Topic1\", \"Topic1\", \"Topic2\", \"Topic2\", \"Topic2\", \"Topic2\", \"Topic2\", \"Topic2\", \"Topic2\", \"Topic2\", \"Topic2\", \"Topic2\", \"Topic2\", \"Topic2\", \"Topic2\", \"Topic2\", \"Topic2\", \"Topic2\", \"Topic2\", \"Topic2\", \"Topic2\", \"Topic2\", \"Topic2\", \"Topic2\", \"Topic2\", \"Topic2\", \"Topic2\", \"Topic2\", \"Topic2\", \"Topic2\", \"Topic2\", \"Topic2\", \"Topic2\", \"Topic2\", \"Topic2\", \"Topic2\", \"Topic2\", \"Topic2\", \"Topic3\", \"Topic3\", \"Topic3\", \"Topic3\", \"Topic3\", \"Topic3\", \"Topic3\", \"Topic3\", \"Topic3\", \"Topic3\", \"Topic3\", \"Topic3\", \"Topic3\", \"Topic3\", \"Topic3\", \"Topic3\", \"Topic3\", \"Topic3\", \"Topic3\", \"Topic3\", \"Topic3\", \"Topic3\", \"Topic3\", \"Topic3\", \"Topic3\", \"Topic3\", \"Topic3\", \"Topic3\", \"Topic3\", \"Topic3\", \"Topic3\", \"Topic3\", \"Topic3\", \"Topic3\", \"Topic3\", \"Topic3\", \"Topic3\", \"Topic3\", \"Topic3\"], \"logprob\": [30.0, 29.0, 28.0, 27.0, 26.0, 25.0, 24.0, 23.0, 22.0, 21.0, 20.0, 19.0, 18.0, 17.0, 16.0, 15.0, 14.0, 13.0, 12.0, 11.0, 10.0, 9.0, 8.0, 7.0, 6.0, 5.0, 4.0, 3.0, 2.0, 1.0, -4.2892, -4.3991, -4.4265, -4.6412, -4.1994, -4.6734, -4.6805, -4.6833, -4.6622, -4.9127, -4.9593, -5.0845, -5.1251, -5.1337, -4.7757, -5.2001, -5.2165, -5.162, -5.2161, -5.255, -5.2396, -5.0216, -5.5744, -5.4401, -5.2116, -5.5984, -5.5633, -5.1794, -5.5563, -5.7021, -5.3756, -4.9033, -4.8981, -2.666, -4.3563, -3.9879, -4.3705, -4.2517, -4.6247, -4.8227, -4.8582, -4.9105, -4.9909, -4.8804, -4.9503, -5.0191, -5.0795, -5.0255, -4.9444, -5.1355, -4.8622, -5.1181, -5.172, -5.3424, -5.2004, -5.38, -4.986, -5.3443, -5.5299, -5.3122, -5.5544, -5.5485, -5.507, -5.5828, -5.6367, -5.2354, -4.9212, -4.9187, -4.2504, -2.8636, -5.3842, -3.6093, -3.8612, -4.7782, -4.6363, -4.8833, -5.0484, -5.272, -5.3168, -5.0031, -4.9226, -5.4042, -5.4201, -5.5418, -5.6358, -5.6466, -5.6859, -5.7008, -5.7139, -5.6999, -5.7883, -5.8325, -5.6233, -5.7856, -5.7943, -5.8509, -5.8854, -5.9225, -5.9117, -5.9336, -5.9784, -5.949, -5.352, -5.7674, -4.8681, -2.1958, -5.7679, -5.6673, -5.8278, -5.825], \"loglift\": [30.0, 29.0, 28.0, 27.0, 26.0, 25.0, 24.0, 23.0, 22.0, 21.0, 20.0, 19.0, 18.0, 17.0, 16.0, 15.0, 14.0, 13.0, 12.0, 11.0, 10.0, 9.0, 8.0, 7.0, 6.0, 5.0, 4.0, 3.0, 2.0, 1.0, 0.9975, 0.9946, 0.9919, 0.9917, 0.9908, 0.9893, 0.9881, 0.988, 0.9859, 0.9802, 0.9794, 0.9769, 0.9736, 0.9723, 0.9717, 0.9703, 0.9687, 0.9678, 0.9649, 0.9633, 0.9603, 0.9585, 0.9566, 0.9554, 0.9552, 0.955, 0.9541, 0.954, 0.9502, 0.9445, 0.931, 0.8638, 0.8124, -0.1106, 0.2949, 1.0555, 1.0552, 1.0526, 1.0476, 1.0424, 1.0413, 1.0402, 1.0392, 1.0388, 1.0386, 1.038, 1.0357, 1.0348, 1.0347, 1.034, 1.0329, 1.0323, 1.0275, 1.0256, 1.0253, 1.0221, 1.0221, 1.0195, 1.0147, 1.0136, 1.0121, 1.0108, 1.0093, 1.0062, 1.0049, 0.9993, 0.8567, 0.7244, 0.4007, -0.3082, 0.5091, 1.2034, 1.2, 1.1786, 1.1779, 1.171, 1.1686, 1.154, 1.153, 1.1511, 1.1511, 1.1496, 1.1484, 1.1389, 1.1353, 1.1333, 1.13, 1.1284, 1.1252, 1.1241, 1.1195, 1.119, 1.1177, 1.1166, 1.1155, 1.1132, 1.1105, 1.1094, 1.1086, 1.1047, 1.1031, 1.1023, 1.0772, 1.0945, 0.9966, 0.3596, 1.051, 0.9905, 1.0506, 0.6822]}, \"token.table\": {\"Topic\": [3, 1, 3, 2, 3, 2, 2, 1, 3, 2, 2, 1, 1, 2, 3, 1, 3, 2, 1, 3, 3, 1, 1, 3, 1, 1, 2, 2, 3, 2, 2, 1, 2, 3, 3, 3, 1, 2, 3, 1, 2, 1, 2, 1, 2, 1, 3, 1, 2, 2, 3, 2, 1, 3, 1, 1, 2, 3, 1, 2, 3, 1, 1, 3, 1, 3, 2, 2, 2, 3, 2, 2, 3, 2, 1, 1, 2, 3, 1, 2, 3, 3, 1, 2, 2, 1, 3, 2, 1, 3, 3, 3, 3, 3, 2, 1, 2, 3, 2, 1, 1, 3, 2, 1, 3, 2, 2, 1, 3, 1, 3, 1, 1, 3, 3, 1, 1, 2, 3, 3, 1, 1, 3, 3, 1, 2, 1, 2, 3], \"Freq\": [0.9852147288687432, 0.9422389469520677, 0.9398579059666695, 0.9477332543693594, 0.946970112171306, 0.9902987564330088, 0.9212571788493301, 0.9859284039476663, 0.9300551043352916, 0.9927425730860674, 0.9914905313598303, 0.938854280658457, 0.43233044941339593, 0.5558534349600806, 0.9706000975770873, 0.9607705413363695, 0.053376141185353866, 0.9938791434095023, 0.9807901436757936, 0.8106137070251473, 0.954144841554566, 0.9184297494183093, 0.8710788645262377, 0.10888485806577972, 0.9182683676317596, 0.9431223508436788, 0.06736588220311991, 0.913635050401399, 0.864954378623868, 0.9244842368653771, 0.988656078885098, 0.48154100805148764, 0.5172107123515979, 0.8914471973555448, 0.9564568985397887, 0.9500957019537073, 0.9222764181437376, 0.9672628789176897, 0.9530373071503313, 0.9337255113262243, 0.09337255113262243, 0.9402468630851679, 0.9811860093280612, 0.9893286778453125, 0.9507307003069075, 0.9764921501886338, 0.8469377611491612, 0.02639926148422045, 0.9767726749161567, 0.9686012059278429, 0.9641964581894548, 0.9697535274497923, 0.9931467869610247, 0.9431989059133525, 0.9777959408553389, 0.1650780697551524, 0.8253903487757621, 0.9944251958401333, 0.06001730966467438, 0.18005192899402317, 0.780225025640767, 0.9695038788088289, 0.1055497925497803, 0.8443983403982424, 0.9122637925746561, 0.944709837237109, 0.9616523572699686, 0.9280311380860926, 0.9518402835757598, 0.9871316391035029, 0.942195914830179, 0.9513785784257585, 0.89933841629614, 0.9253335221423921, 0.9561055369521841, 0.28853547405692614, 0.7213386851423154, 0.04808924567615436, 0.966604726353978, 0.15584439757301835, 0.7792219878650917, 0.970440659856458, 0.9498712146843402, 0.9487562976704091, 0.9907090149348344, 0.9348513805637435, 0.9390625796235362, 0.9227085986729355, 0.16540962526525016, 0.8270481263262508, 0.9893840724391124, 0.970135201025152, 0.9831160010111729, 0.8897731754504418, 0.9768849822686624, 0.3423368582089261, 0.11411228606964204, 0.5705614303482102, 0.9457593197498549, 0.9881494753518897, 0.9743484458382101, 0.9621335937948067, 0.9472894838157666, 0.98776067951448, 0.9010517319705389, 0.9584412913763544, 0.9943017253678538, 0.9995927910329989, 0.9322908161433606, 0.8230836608975854, 0.1543281864182973, 0.9923561870342823, 0.13265833339435099, 0.7959500003661059, 0.8517141722617103, 0.9784561201734734, 0.9866233608091002, 0.9558184348584838, 0.0868925849871349, 0.8533492747344742, 0.9742686023203935, 0.9232098389485082, 0.8135218290693242, 0.9616099896990765, 0.9602730556125723, 0.9607091374296884, 0.32458185016735464, 0.2500157494532326, 0.42546539819234325], \"Term\": [\"account\", \"amazon\", \"bag\", \"berlin\", \"body\", \"brand\", \"business\", \"buy\", \"cart\", \"celebrate_value\", \"champion\", \"check\", \"company\", \"company\", \"cop\", \"customer\", \"customer\", \"day\", \"delivery\", \"dhl\", \"discount\", \"dress\", \"drop\", \"drop\", \"dunk\", \"ecommerce\", \"ecommerce\", \"end\", \"eur\", \"europe\", \"event\", \"fashion\", \"fashion\", \"findom\", \"get\", \"giftcard\", \"grow\", \"growth\", \"halo\", \"help\", \"help\", \"issue\", \"item\", \"join\", \"launch\", \"look\", \"lounge\", \"market\", \"market\", \"marketplace\", \"mid\", \"money\", \"morning\", \"need\", \"news\", \"online\", \"online\", \"order\", \"package\", \"package\", \"package\", \"pair\", \"plan\", \"plan\", \"post\", \"postgre_operator\", \"price\", \"product\", \"purchase\", \"restock\", \"retailer\", \"return\", \"retweet\", \"revenue\", \"rise_upbeat\", \"s\", \"s\", \"s\", \"sale\", \"sell\", \"sell\", \"send\", \"service\", \"share\", \"ship\", \"shirt\", \"shoe\", \"shop\", \"shopping\", \"shopping\", \"show\", \"size\", \"slot\", \"snipe\", \"society\", \"sorry\", \"sorry\", \"sorry\", \"spring_campaign\", \"stay\", \"stock\", \"success\", \"support\", \"sustainability\", \"t\", \"talk\", \"target\", \"team\", \"test\", \"thank\", \"thank\", \"thing\", \"think\", \"think\", \"ticket\", \"time\", \"today\", \"tomorrow\", \"tomorrow\", \"trading\", \"try\", \"week\", \"winner\", \"woman\", \"work\", \"year\", \"zalando\", \"zalando\", \"zalando\"]}, \"R\": 30, \"lambda.step\": 0.01, \"plot.opts\": {\"xlab\": \"PC1\", \"ylab\": \"PC2\"}, \"topic.order\": [1, 3, 2]};\n\nfunction LDAvis_load_lib(url, callback){\n  var s = document.createElement('script');\n  s.src = url;\n  s.async = true;\n  s.onreadystatechange = s.onload = callback;\n  s.onerror = function(){console.warn(\"failed to load library \" + url);};\n  document.getElementsByTagName(\"head\")[0].appendChild(s);\n}\n\nif(typeof(LDAvis) !== \"undefined\"){\n   // already loaded: just create the visualization\n   !function(LDAvis){\n       new LDAvis(\"#\" + \"ldavis_el1941217956170106249839357155\", ldavis_el1941217956170106249839357155_data);\n   }(LDAvis);\n}else if(typeof define === \"function\" && define.amd){\n   // require.js is available: use it to load d3/LDAvis\n   require.config({paths: {d3: \"https://d3js.org/d3.v5\"}});\n   require([\"d3\"], function(d3){\n      window.d3 = d3;\n      LDAvis_load_lib(\"https://cdn.jsdelivr.net/gh/bmabey/pyLDAvis@3.3.1/pyLDAvis/js/ldavis.v3.0.0.js\", function(){\n        new LDAvis(\"#\" + \"ldavis_el1941217956170106249839357155\", ldavis_el1941217956170106249839357155_data);\n      });\n    });\n}else{\n    // require.js not available: dynamically load d3 & LDAvis\n    LDAvis_load_lib(\"https://d3js.org/d3.v5.js\", function(){\n         LDAvis_load_lib(\"https://cdn.jsdelivr.net/gh/bmabey/pyLDAvis@3.3.1/pyLDAvis/js/ldavis.v3.0.0.js\", function(){\n                 new LDAvis(\"#\" + \"ldavis_el1941217956170106249839357155\", ldavis_el1941217956170106249839357155_data);\n            })\n         });\n}\n</script>"
     },
     "metadata": {},
     "execution_count": 45
    }
   ],
   "source": [
    "pyLDAvis.enable_notebook()\n",
    "vis = pyLDAvis.gensim_models.prepare(lda_model, corpus, id2word)\n",
    "vis"
   ]
  },
  {
   "cell_type": "code",
   "execution_count": 46,
   "metadata": {},
   "outputs": [
    {
     "output_type": "stream",
     "name": "stderr",
     "text": [
      "C:\\Users\\Annelie Schridde\\AppData\\Roaming\\Python\\Python38\\site-packages\\ipykernel\\ipkernel.py:283: DeprecationWarning: `should_run_async` will not call `transform_cell` automatically in the future. Please pass the result to `transformed_cell` argument and any exception that happen during thetransform in `preprocessing_exc_tuple` in IPython 7.17 and above.\n  and should_run_async(code)\n"
     ]
    },
    {
     "output_type": "execute_result",
     "data": {
      "text/plain": [
       "     Document_No  Dominant_Topic  Topic_Perc_Contrib  \\\n",
       "0              0             2.0              0.7428   \n",
       "1              1             2.0              0.8813   \n",
       "2              2             0.0              0.8422   \n",
       "3              3             0.0              0.5666   \n",
       "4              4             0.0              0.8752   \n",
       "..           ...             ...                 ...   \n",
       "995          995             0.0              0.8122   \n",
       "996          996             0.0              0.7244   \n",
       "997          997             1.0              0.8140   \n",
       "998          998             2.0              0.7486   \n",
       "999          999             1.0              0.6183   \n",
       "\n",
       "                                              Keywords  \\\n",
       "0    zalando, market, fashion, day, growth, brand, ...   \n",
       "1    zalando, market, fashion, day, growth, brand, ...   \n",
       "2    zalando, time, look, fashion, stock, work, tea...   \n",
       "3    zalando, time, look, fashion, stock, work, tea...   \n",
       "4    zalando, time, look, fashion, stock, work, tea...   \n",
       "..                                                 ...   \n",
       "995  zalando, time, look, fashion, stock, work, tea...   \n",
       "996  zalando, time, look, fashion, stock, work, tea...   \n",
       "997  zalando, account, order, size, restock, packag...   \n",
       "998  zalando, market, fashion, day, growth, brand, ...   \n",
       "999  zalando, account, order, size, restock, packag...   \n",
       "\n",
       "                                                  Text  \n",
       "0                                         [money, owe]  \n",
       "1    [try, increase, conversion, rate, return, rate...  \n",
       "2                     [problem, start, adida, website]  \n",
       "3                              [world, sneer, disdain]  \n",
       "4    [hey, clothe, latex, plastic, latex, rubber, s...  \n",
       "..                                                 ...  \n",
       "995                             [zalando, drop, start]  \n",
       "996                                   [zalando, thank]  \n",
       "997                           [zalando, order, arrive]  \n",
       "998                                  [ship, worldwide]  \n",
       "999                   [restock, snipe, today, zalando]  \n",
       "\n",
       "[1000 rows x 5 columns]"
      ],
      "text/html": "<div>\n<style scoped>\n    .dataframe tbody tr th:only-of-type {\n        vertical-align: middle;\n    }\n\n    .dataframe tbody tr th {\n        vertical-align: top;\n    }\n\n    .dataframe thead th {\n        text-align: right;\n    }\n</style>\n<table border=\"1\" class=\"dataframe\">\n  <thead>\n    <tr style=\"text-align: right;\">\n      <th></th>\n      <th>Document_No</th>\n      <th>Dominant_Topic</th>\n      <th>Topic_Perc_Contrib</th>\n      <th>Keywords</th>\n      <th>Text</th>\n    </tr>\n  </thead>\n  <tbody>\n    <tr>\n      <th>0</th>\n      <td>0</td>\n      <td>2.0</td>\n      <td>0.7428</td>\n      <td>zalando, market, fashion, day, growth, brand, ...</td>\n      <td>[money, owe]</td>\n    </tr>\n    <tr>\n      <th>1</th>\n      <td>1</td>\n      <td>2.0</td>\n      <td>0.8813</td>\n      <td>zalando, market, fashion, day, growth, brand, ...</td>\n      <td>[try, increase, conversion, rate, return, rate...</td>\n    </tr>\n    <tr>\n      <th>2</th>\n      <td>2</td>\n      <td>0.0</td>\n      <td>0.8422</td>\n      <td>zalando, time, look, fashion, stock, work, tea...</td>\n      <td>[problem, start, adida, website]</td>\n    </tr>\n    <tr>\n      <th>3</th>\n      <td>3</td>\n      <td>0.0</td>\n      <td>0.5666</td>\n      <td>zalando, time, look, fashion, stock, work, tea...</td>\n      <td>[world, sneer, disdain]</td>\n    </tr>\n    <tr>\n      <th>4</th>\n      <td>4</td>\n      <td>0.0</td>\n      <td>0.8752</td>\n      <td>zalando, time, look, fashion, stock, work, tea...</td>\n      <td>[hey, clothe, latex, plastic, latex, rubber, s...</td>\n    </tr>\n    <tr>\n      <th>...</th>\n      <td>...</td>\n      <td>...</td>\n      <td>...</td>\n      <td>...</td>\n      <td>...</td>\n    </tr>\n    <tr>\n      <th>995</th>\n      <td>995</td>\n      <td>0.0</td>\n      <td>0.8122</td>\n      <td>zalando, time, look, fashion, stock, work, tea...</td>\n      <td>[zalando, drop, start]</td>\n    </tr>\n    <tr>\n      <th>996</th>\n      <td>996</td>\n      <td>0.0</td>\n      <td>0.7244</td>\n      <td>zalando, time, look, fashion, stock, work, tea...</td>\n      <td>[zalando, thank]</td>\n    </tr>\n    <tr>\n      <th>997</th>\n      <td>997</td>\n      <td>1.0</td>\n      <td>0.8140</td>\n      <td>zalando, account, order, size, restock, packag...</td>\n      <td>[zalando, order, arrive]</td>\n    </tr>\n    <tr>\n      <th>998</th>\n      <td>998</td>\n      <td>2.0</td>\n      <td>0.7486</td>\n      <td>zalando, market, fashion, day, growth, brand, ...</td>\n      <td>[ship, worldwide]</td>\n    </tr>\n    <tr>\n      <th>999</th>\n      <td>999</td>\n      <td>1.0</td>\n      <td>0.6183</td>\n      <td>zalando, account, order, size, restock, packag...</td>\n      <td>[restock, snipe, today, zalando]</td>\n    </tr>\n  </tbody>\n</table>\n<p>1000 rows × 5 columns</p>\n</div>"
     },
     "metadata": {},
     "execution_count": 46
    }
   ],
   "source": [
    "def format_topics_sentences(ldamodel=None, corpus=corpus, texts=data):\n",
    "    # Init output\n",
    "    sent_topics_df = pd.DataFrame()\n",
    "\n",
    "    # Get main topic in each document\n",
    "    for i, row_list in enumerate(ldamodel[corpus]):\n",
    "        row = row_list[0] if ldamodel.per_word_topics else row_list            \n",
    "        # print(row)\n",
    "        row = sorted(row, key=lambda x: (x[1]), reverse=True)\n",
    "        # Get the Dominant topic, Perc Contribution and Keywords for each document\n",
    "        for j, (topic_num, prop_topic) in enumerate(row):\n",
    "            if j == 0:  # => dominant topic\n",
    "                wp = ldamodel.show_topic(topic_num)\n",
    "                topic_keywords = \", \".join([word for word, prop in wp])\n",
    "                sent_topics_df = sent_topics_df.append(pd.Series([int(topic_num), round(prop_topic,4), topic_keywords]), ignore_index=True)\n",
    "            else:\n",
    "                break\n",
    "    sent_topics_df.columns = ['Dominant_Topic', 'Perc_Contribution', 'Topic_Keywords']\n",
    "\n",
    "    # Add original text to the end of the output\n",
    "    contents = pd.Series(texts)\n",
    "    sent_topics_df = pd.concat([sent_topics_df, contents], axis=1)\n",
    "    return(sent_topics_df)\n",
    "\n",
    "\n",
    "df_topic_sents_keywords = format_topics_sentences(ldamodel=lda_model, corpus=corpus, texts=words)\n",
    "\n",
    "# Format\n",
    "df_dominant_topic = df_topic_sents_keywords.reset_index()\n",
    "df_dominant_topic.columns = ['Document_No', 'Dominant_Topic', 'Topic_Perc_Contrib', 'Keywords', 'Text']\n",
    "df_dominant_topic"
   ]
  },
  {
   "cell_type": "code",
   "execution_count": 47,
   "metadata": {},
   "outputs": [
    {
     "output_type": "stream",
     "name": "stderr",
     "text": [
      "C:\\Users\\Annelie Schridde\\AppData\\Roaming\\Python\\Python38\\site-packages\\ipykernel\\ipkernel.py:283: DeprecationWarning: `should_run_async` will not call `transform_cell` automatically in the future. Please pass the result to `transformed_cell` argument and any exception that happen during thetransform in `preprocessing_exc_tuple` in IPython 7.17 and above.\n  and should_run_async(code)\n"
     ]
    }
   ],
   "source": [
    "# Build topic column for test set\n",
    "Topics = df_dominant_topic['Dominant_Topic']\n",
    "data['Topics'] = Topics"
   ]
  },
  {
   "cell_type": "code",
   "execution_count": null,
   "metadata": {},
   "outputs": [],
   "source": []
  },
  {
   "cell_type": "code",
   "execution_count": null,
   "metadata": {},
   "outputs": [],
   "source": []
  }
 ]
}