{
 "metadata": {
  "language_info": {
   "codemirror_mode": {
    "name": "ipython",
    "version": 3
   },
   "file_extension": ".py",
   "mimetype": "text/x-python",
   "name": "python",
   "nbconvert_exporter": "python",
   "pygments_lexer": "ipython3",
   "version": "3.7.10"
  },
  "orig_nbformat": 2,
  "kernelspec": {
   "name": "python3710jvsc74a57bd022a63b945ad88ad6aa60a7f3f570c70abf6faa8a03284077614716ef20649993",
   "display_name": "Python 3.7.10 64-bit ('uni': conda)"
  }
 },
 "nbformat": 4,
 "nbformat_minor": 2,
 "cells": [
  {
   "cell_type": "code",
   "execution_count": 54,
   "metadata": {},
   "outputs": [
    {
     "output_type": "stream",
     "name": "stderr",
     "text": [
      "[nltk_data] Downloading package stopwords to\n[nltk_data]     C:\\Users\\home\\AppData\\Roaming\\nltk_data...\n[nltk_data]   Package stopwords is already up-to-date!\n[nltk_data] Downloading package vader_lexicon to\n[nltk_data]     C:\\Users\\home\\AppData\\Roaming\\nltk_data...\n[nltk_data]   Package vader_lexicon is already up-to-date!\n[nltk_data] Downloading package punkt to\n[nltk_data]     C:\\Users\\home\\AppData\\Roaming\\nltk_data...\n[nltk_data]   Package punkt is already up-to-date!\n"
     ]
    }
   ],
   "source": [
    "import sys\n",
    "sys.path.append('../')\n",
    "import functions\n",
    "exec(open('./functions.py').read())\n",
    "import demoji\n",
    "#demoji.download_codes()"
   ]
  },
  {
   "cell_type": "code",
   "execution_count": 78,
   "metadata": {},
   "outputs": [
    {
     "output_type": "stream",
     "name": "stderr",
     "text": [
      "C:\\Anaconda\\envs\\uni\\lib\\site-packages\\ipykernel_launcher.py:57: FutureWarning: The default value of regex will change from True to False in a future version.\n",
      "C:\\Anaconda\\envs\\uni\\lib\\site-packages\\ipykernel_launcher.py:64: FutureWarning: The default value of regex will change from True to False in a future version.\n",
      "C:\\Anaconda\\envs\\uni\\lib\\site-packages\\ipykernel_launcher.py:65: FutureWarning: The default value of regex will change from True to False in a future version.\n",
      "C:\\Anaconda\\envs\\uni\\lib\\site-packages\\ipykernel_launcher.py:66: FutureWarning: The default value of regex will change from True to False in a future version.\n",
      "C:\\Anaconda\\envs\\uni\\lib\\site-packages\\ipykernel_launcher.py:76: FutureWarning: The default value of regex will change from True to False in a future version.\n",
      "C:\\Anaconda\\envs\\uni\\lib\\site-packages\\ipykernel_launcher.py:82: FutureWarning: The default value of regex will change from True to False in a future version.\n"
     ]
    },
    {
     "output_type": "execute_result",
     "data": {
      "text/plain": [
       "   index              user_id  user_statuses             name  \\\n",
       "0      0   819101311715131392             77      Ali09685762   \n",
       "1      1  1189512849472643072            105       Labellerr1   \n",
       "3      3  1125728513666048000           9604    DommeLineCoUk   \n",
       "4      4           2614256724          35470         medboyUK   \n",
       "5      5   978410484155199488           1549  missbellalugosi   \n",
       "\n",
       "                                               tweet  retweets  \\\n",
       "0            @Zalando give me my money you owe me!!!         0   \n",
       "1  #VirtualStyling and try-on increases the conve...         0   \n",
       "3  @missbellalugosi @Zalando Problem starts at Ad...         0   \n",
       "4  @missbellalugosi @Zalando Welcome to my world ...         0   \n",
       "5  Hey @Zalando these clothes are not  made of la...         0   \n",
       "\n",
       "             location      created  followers  is_user_verified  \\\n",
       "0                      07-Mar-2021          6             False   \n",
       "1          chandigarh  06-Mar-2021         18             False   \n",
       "3                      06-Mar-2021       2193             False   \n",
       "4   West Midlands, UK  06-Mar-2021       2503             False   \n",
       "5  GERMANY / UK / USA  06-Mar-2021      13827             False   \n",
       "\n",
       "   favorite_count  in_reply_to_status_id  keyword language  \\\n",
       "0             0.0                    NaN  zalando       en   \n",
       "1             0.0                    NaN  zalando       en   \n",
       "3             1.0           1.368196e+18  zalando       en   \n",
       "4             1.0           1.368196e+18  zalando       en   \n",
       "5            17.0                    NaN  zalando       en   \n",
       "\n",
       "                                               clean  \\\n",
       "0                                          money owe   \n",
       "1  virtualstyling try increases conversion rate l...   \n",
       "3       problem starts adidas selling latex websites   \n",
       "4                     welcome world sneering disdain   \n",
       "5  hey clothes latex plastic latex rubber stitche...   \n",
       "\n",
       "                                         clean_vader  compound  \\\n",
       "0                           give money you owe me!!!    0.0000   \n",
       "1  VirtualStyling and try-on increases the conver...    0.7650   \n",
       "3  Problem starts Adidas. They're selling latex t...   -0.4019   \n",
       "4                Welcome world sneering and disdain!   -0.1007   \n",
       "5  Hey these clothes are not made latex, they are...    0.5362   \n",
       "\n",
       "                                               lemma    bot  \n",
       "0                                          money owe  False  \n",
       "1  virtualstyle try increase conversion rate larg...  False  \n",
       "3             problem start adida sell latex website  False  \n",
       "4                        welcome world sneer disdain  False  \n",
       "5  hey clothe latex plastic latex rubber stitch r...  False  "
      ],
      "text/html": "<div>\n<style scoped>\n    .dataframe tbody tr th:only-of-type {\n        vertical-align: middle;\n    }\n\n    .dataframe tbody tr th {\n        vertical-align: top;\n    }\n\n    .dataframe thead th {\n        text-align: right;\n    }\n</style>\n<table border=\"1\" class=\"dataframe\">\n  <thead>\n    <tr style=\"text-align: right;\">\n      <th></th>\n      <th>index</th>\n      <th>user_id</th>\n      <th>user_statuses</th>\n      <th>name</th>\n      <th>tweet</th>\n      <th>retweets</th>\n      <th>location</th>\n      <th>created</th>\n      <th>followers</th>\n      <th>is_user_verified</th>\n      <th>favorite_count</th>\n      <th>in_reply_to_status_id</th>\n      <th>keyword</th>\n      <th>language</th>\n      <th>clean</th>\n      <th>clean_vader</th>\n      <th>compound</th>\n      <th>lemma</th>\n      <th>bot</th>\n    </tr>\n  </thead>\n  <tbody>\n    <tr>\n      <th>0</th>\n      <td>0</td>\n      <td>819101311715131392</td>\n      <td>77</td>\n      <td>Ali09685762</td>\n      <td>@Zalando give me my money you owe me!!!</td>\n      <td>0</td>\n      <td></td>\n      <td>07-Mar-2021</td>\n      <td>6</td>\n      <td>False</td>\n      <td>0.0</td>\n      <td>NaN</td>\n      <td>zalando</td>\n      <td>en</td>\n      <td>money owe</td>\n      <td>give money you owe me!!!</td>\n      <td>0.0000</td>\n      <td>money owe</td>\n      <td>False</td>\n    </tr>\n    <tr>\n      <th>1</th>\n      <td>1</td>\n      <td>1189512849472643072</td>\n      <td>105</td>\n      <td>Labellerr1</td>\n      <td>#VirtualStyling and try-on increases the conve...</td>\n      <td>0</td>\n      <td>chandigarh</td>\n      <td>06-Mar-2021</td>\n      <td>18</td>\n      <td>False</td>\n      <td>0.0</td>\n      <td>NaN</td>\n      <td>zalando</td>\n      <td>en</td>\n      <td>virtualstyling try increases conversion rate l...</td>\n      <td>VirtualStyling and try-on increases the conver...</td>\n      <td>0.7650</td>\n      <td>virtualstyle try increase conversion rate larg...</td>\n      <td>False</td>\n    </tr>\n    <tr>\n      <th>3</th>\n      <td>3</td>\n      <td>1125728513666048000</td>\n      <td>9604</td>\n      <td>DommeLineCoUk</td>\n      <td>@missbellalugosi @Zalando Problem starts at Ad...</td>\n      <td>0</td>\n      <td></td>\n      <td>06-Mar-2021</td>\n      <td>2193</td>\n      <td>False</td>\n      <td>1.0</td>\n      <td>1.368196e+18</td>\n      <td>zalando</td>\n      <td>en</td>\n      <td>problem starts adidas selling latex websites</td>\n      <td>Problem starts Adidas. They're selling latex t...</td>\n      <td>-0.4019</td>\n      <td>problem start adida sell latex website</td>\n      <td>False</td>\n    </tr>\n    <tr>\n      <th>4</th>\n      <td>4</td>\n      <td>2614256724</td>\n      <td>35470</td>\n      <td>medboyUK</td>\n      <td>@missbellalugosi @Zalando Welcome to my world ...</td>\n      <td>0</td>\n      <td>West Midlands, UK</td>\n      <td>06-Mar-2021</td>\n      <td>2503</td>\n      <td>False</td>\n      <td>1.0</td>\n      <td>1.368196e+18</td>\n      <td>zalando</td>\n      <td>en</td>\n      <td>welcome world sneering disdain</td>\n      <td>Welcome world sneering and disdain!</td>\n      <td>-0.1007</td>\n      <td>welcome world sneer disdain</td>\n      <td>False</td>\n    </tr>\n    <tr>\n      <th>5</th>\n      <td>5</td>\n      <td>978410484155199488</td>\n      <td>1549</td>\n      <td>missbellalugosi</td>\n      <td>Hey @Zalando these clothes are not  made of la...</td>\n      <td>0</td>\n      <td>GERMANY / UK / USA</td>\n      <td>06-Mar-2021</td>\n      <td>13827</td>\n      <td>False</td>\n      <td>17.0</td>\n      <td>NaN</td>\n      <td>zalando</td>\n      <td>en</td>\n      <td>hey clothes latex plastic latex rubber stitche...</td>\n      <td>Hey these clothes are not made latex, they are...</td>\n      <td>0.5362</td>\n      <td>hey clothe latex plastic latex rubber stitch r...</td>\n      <td>False</td>\n    </tr>\n  </tbody>\n</table>\n</div>"
     },
     "metadata": {},
     "execution_count": 78
    }
   ],
   "source": [
    "#load labelled data (generated in file 2.preprocessing_en)\n",
    "data = pickle.load(open('data_n_models/4.eng_df_bot_classified.pkl', \"rb\"))\n",
    "\n",
    "#filter out bot reated data\n",
    "data = data[data['bot']==False]\n",
    "data['lemma']=[strip_multiple_whitespaces(c) for c in data['lemma']]\n",
    "data['lemma']=clean_complete(data.lemma)\n",
    "data = data.drop_duplicates(subset=['lemma'])\n",
    "data.head()"
   ]
  },
  {
   "cell_type": "code",
   "execution_count": 41,
   "metadata": {},
   "outputs": [
    {
     "output_type": "stream",
     "name": "stdout",
     "text": [
      "11 recieve wrong item do n’t know item cheap item want\n",
      "12 send delivery paper bag\n",
      "13 order eventually thing happen expectation feed information whomever concerned zalando\n",
      "14 hey order product web shop item \" fast delivery \" suppose arrive today unfortunately ship parcel time happen sad\n",
      "15 zalando think big pregnant suggest lovely maternity clothe ️ ️ ️ ️ ️ ️ ️ thank love ️ ️ ️ ️\n",
      "16 think belong sport shoe section\n",
      "17 new redezign circularity pilot product product pilot equip digital tag save product datum scan able discover product history digital product site ️ ️\n",
      "18 zalando ride cargo bike delivery service netherland\n",
      "19 order ship able provide status update\n",
      "20 check new cto cto podcast format dedicate impactful tech in episode victoria schmierer share story implement pre own give new life clothe ecommerce sustainability reuse rewear\n"
     ]
    }
   ],
   "source": [
    "for i, value in data[10:20].lemma.iteritems():\n",
    "    print(i, value)"
   ]
  },
  {
   "source": [
    "# clustering with LatentDirichletAllocation\n",
    "\n",
    "https://ourcodingclub.github.io/tutorials/topic-modelling-python/"
   ],
   "cell_type": "markdown",
   "metadata": {}
  },
  {
   "source": [
    "# on the whole dataset"
   ],
   "cell_type": "markdown",
   "metadata": {}
  },
  {
   "cell_type": "code",
   "execution_count": 59,
   "metadata": {},
   "outputs": [],
   "source": [
    "# the vectorizer object will be used to transform text to vector form\n",
    "vectorizer = CountVectorizer(max_df=0.9, min_df=30, token_pattern='\\w+|\\$[\\d\\.]+|\\S+')\n",
    "\n",
    "# apply transformation\n",
    "tf = vectorizer.fit_transform(data['lemma']).toarray()\n",
    "\n",
    "# tf_feature_names tells us what word each column in the matric represents\n",
    "tf_feature_names = vectorizer.get_feature_names()"
   ]
  },
  {
   "source": [
    " # Each row is a tweet and each column is a word. The numbers in each position tell us how many times this word appears in this tweet.\n",
    " tf"
   ],
   "cell_type": "code",
   "metadata": {},
   "execution_count": 49,
   "outputs": [
    {
     "output_type": "execute_result",
     "data": {
      "text/plain": [
       "array([[0, 0, 0, ..., 0, 0, 0],\n",
       "       [0, 0, 0, ..., 0, 0, 0],\n",
       "       [0, 0, 0, ..., 0, 0, 0],\n",
       "       ...,\n",
       "       [0, 0, 0, ..., 0, 0, 0],\n",
       "       [0, 0, 0, ..., 0, 0, 0],\n",
       "       [0, 0, 0, ..., 0, 0, 0]], dtype=int64)"
      ]
     },
     "metadata": {},
     "execution_count": 49
    }
   ]
  },
  {
   "cell_type": "code",
   "execution_count": 60,
   "metadata": {
    "tags": []
   },
   "outputs": [
    {
     "output_type": "stream",
     "name": "stdout",
     "text": [
      "['able', 'absolute', 'absolutely', 'abt', 'abuse', 'acc', 'accept', 'access', 'accessory', 'accident', 'accidentally', 'accord', 'account', 'act', 'action', 'active', 'actual', 'actually', 'add', 'addict', 'addiction', 'address', 'adida', 'admin', 'admire', 'admit', 'adorable', 'adult', 'advert', 'advertise', 'advertising', 'advice', 'advise', 'adwd', 'affect', 'afford', 'affordable', 'afraid', 'afternoon', 'age', 'agent', 'ago', 'agree', 'ahead', 'ahh', 'ahhh', 'aid', 'ain', 'air', 'airport', 'album', 'aliexpress', 'allow', 'alright', 'alternative', 'amazing', 'amazon', 'america', 'american', 'angel', 'angry', 'animal', 'ankle', 'announce', 'annoy', 'annoyed', 'annoying', 'answer', 'anthropologie', 'anti', 'anybody', 'anymore', 'anyways', 'apart', 'apology', 'app', 'apparently', 'appear', 'apple', 'application', 'apply', 'appreciate', 'approach', 'april', 'area', 'aren', 'argo', 'argue', 'argument', 'arm', 'arrive', 'art', 'article', 'artist', 'asap', 'asc', 'asian', 'ask', 'asos', 'asosiwd', 'asostreatme', 'ass', 'asshole', 'assist', 'assistant', 'assume', 'aswell', 'atm', 'attack', 'attempt', 'attention', 'attitude', 'auto', 'available', 'average', 'avoid', 'away', 'awe', 'awesome', 'awful', 'awos', 'aww', 'awww', 'babe', 'baby', 'bad', 'bag', 'balance', 'ball', 'ban', 'band', 'bang', 'bank', 'bar', 'barely', 'bargain', 'base', 'basic', 'basically', 'basket', 'bath', 'battle', 'bbc', 'bday', 'beach', 'bear', 'beat', 'beautiful', 'beauty', 'bed', 'beer', 'beg', 'begin', 'believe', 'belt', 'benefit', 'bershka', 'bestie', 'bet', 'biden', 'big', 'bikini', 'billion', 'bin', 'bio', 'birthday', 'biscuit', 'bit', 'bitch', 'bkn', 'black', 'blame', 'blazer', 'bless', 'block', 'blog', 'blood', 'bloody', 'blow', 'blue', 'board', 'body', 'bohoo', 'boo', 'boob', 'boohoo', 'boohooluckydip', 'boohooman', 'boohootreat', 'book', 'boost', 'boot', 'bored', 'boss', 'bother', 'bottle', 'bout', 'boutique', 'box', 'boy', 'boyfriend', 'bra', 'brain', 'brand', 'break', 'brick', 'bright', 'brilliant', 'bring', 'british', 'bro', 'brother', 'brown', 'browse', 'bruh', 'brunch', 'bts', 'btw', 'buddy', 'budget', 'build', 'bullshit', 'bully', 'bunch', 'burn', 'bus', 'business', 'bust', 'busy', 'button', 'buy', 'buying', 'bye', 'cake', 'camera', 'campaign', 'cancel', 'cancer', 'cap', 'capitalism', 'car', 'card', 'care', 'career', 'carry', 'cart', 'case', 'cash', 'casual', 'cat', 'catch', 'cause', 'celebrate', 'centre', 'ceo', 'certain', 'chain', 'challenge', 'champion', 'chance', 'change', 'channel', 'chapter', 'character', 'charge', 'charity', 'charm', 'chase', 'chat', 'cheap', 'cheat', 'check', 'checkout', 'cheeky', 'cheer', 'chest', 'chicken', 'child', 'china', 'chocolate', 'choice', 'choose', 'christmas', 'circle', 'city', 'claim', 'class', 'clean', 'clear', 'clearly', 'click', 'client', 'close', 'closet', 'clothe', 'clothing', 'cloud', 'clown', 'clr', 'club', 'coach', 'coast', 'coat', 'cochlear', 'cocktail', 'code', 'coffee', 'cold', 'collab', 'collaboration', 'collect', 'collection', 'college', 'collusion', 'color', 'colour', 'com', 'combine', 'come', 'comfortable', 'comfy', 'comment', 'commerce', 'commit', 'common', 'community', 'comp', 'company', 'compare', 'competition', 'complain', 'complaint', 'complete', 'completely', 'concern', 'condition', 'confidence', 'confirm', 'confirmation', 'confused', 'congrat', 'connect', 'consequence', 'consider', 'constantly', 'consumer', 'contact', 'content', 'continue', 'contract', 'control', 'conversation', 'converse', 'cool', 'cop', 'cope', 'copy', 'corner', 'correct', 'cos', 'cost', 'cotton', 'couldn', 'count', 'country', 'couple', 'coupon', 'courier', 'course', 'cover', 'covid', 'coz', 'cracker', 'crap', 'crash', 'crazy', 'cream', 'create', 'creative', 'credit', 'crime', 'criminal', 'crop', 'cross', 'crybaby', 'crying', 'cuddle', 'culture', 'cuppy', 'current', 'currently', 'curve', 'cus', 'custom', 'customer', 'cut', 'cute', 'cuz', 'dad', 'daddy', 'daily', 'damage', 'damn', 'dance', 'dangerous', 'dare', 'dark', 'date', 'datum', 'daughter', 'day', 'dead', 'deal', 'dear', 'death', 'debenham', 'december', 'decent', 'decide', 'decision', 'deep', 'def', 'defend', 'definitely', 'defo', 'degree', 'delay', 'delete', 'deliver', 'delivery', 'demand', 'denim', 'department', 'depend', 'depop', 'deserve', 'design', 'designer', 'desperate', 'despite', 'destroy', 'dey', 'dhl', 'dick', 'die', 'difference', 'different', 'difficult', 'digital', 'dinner', 'direct', 'directly', 'dirty', 'disappear', 'disappoint', 'disappointed', 'discount', 'discover', 'discuss', 'disgusting', 'disney', 'dispatch', 'dms', 'doctor', 'dog', 'dollar', 'donate', 'donation', 'door', 'dorothy', 'dot', 'double', 'doubt', 'download', 'dpd', 'drag', 'draw', 'dream', 'dress', 'drink', 'drive', 'driver', 'drop', 'drunk', 'dry', 'dude', 'dumb', 'dunk', 'ear', 'early', 'earn', 'earring', 'earth', 'easily', 'easter', 'easy', 'eat', 'ebay', 'ecommerce', 'edit', 'effect', 'effort', 'egg', 'ego', 'email', 'employee', 'end', 'energy', 'engineer', 'england', 'english', 'enjoy', 'enter', 'entire', 'entitle', 'episode', 'error', 'especially', 'essential', 'etsy', 'europe', 'european', 'evening', 'event', 'eventually', 'everybody', 'everyday', 'everytime', 'evil', 'exact', 'exactly', 'example', 'exchange', 'excited', 'exciting', 'exclusive', 'excuse', 'exist', 'expect', 'expensive', 'experience', 'expire', 'explain', 'exploit', 'expose', 'express', 'extra', 'extremely', 'eye', 'fab', 'fabulous', 'face', 'facebook', 'fact', 'factory', 'fail', 'fair', 'fake', 'fall', 'family', 'fan', 'fancy', 'fantastic', 'far', 'fashion', 'fashionnova', 'fast', 'fat', 'father', 'fault', 'faulty', 'fav', 'fave', 'favorite', 'favourite', 'fear', 'feature', 'feb', 'february', 'fedex', 'fee', 'feed', 'feel', 'feeling', 'fellow', 'female', 'festival', 'ffs', 'field', 'fight', 'figure', 'film', 'filter', 'final', 'finally', 'finance', 'financial', 'findom', 'fine', 'finger', 'finish', 'finna', 'finsub', 'firm', 'fit', 'fitting', 'fix', 'flare', 'flash', 'flat', 'flea', 'floor', 'floral', 'fly', 'focus', 'folk', 'follow', 'follower', 'food', 'fool', 'foot', 'football', 'force', 'forever', 'forget', 'forgot', 'form', 'forward', 'frame', 'free', 'freepeople', 'fresh', 'friday', 'friend', 'frustrating', 'fuck', 'fuckin', 'fucking', 'fully', 'fume', 'fun', 'fund', 'funeral', 'funny', 'fur', 'future', 'fzfg', 'fzrano', 'gain', 'gal', 'game', 'garden', 'garment', 'gay', 'gear', 'gender', 'general', 'genuine', 'genuinely', 'george', 'germany', 'gets', 'getting', 'giant', 'gift', 'giftcard', 'girl', 'girlfriend', 'giveaway', 'gkt', 'glad', 'glass', 'global', 'goal', 'god', 'going', 'gold', 'gon', 'good', 'google', 'gorgeous', 'got', 'government', 'grab', 'grateful', 'great', 'green', 'grey', 'gross', 'group', 'grow', 'growth', 'gst', 'guess', 'guide', 'gun', 'gust', 'gutte', 'guy', 'gym', 'haha', 'hahaha', 'hair', 'half', 'hand', 'handle', 'hang', 'happen', 'happy', 'hard', 'harry', 'hasn', 'hat', 'hate', 'haul', 'haven', 'having', 'head', 'health', 'hear', 'hearing', 'heart', 'heat', 'heel', 'height', 'hell', 'hello', 'help', 'helpful', 'herme', 'hermes', 'hero', 'hey', 'hide', 'high', 'highly', 'hire', 'history', 'hit', 'hiya', 'hoe', 'hold', 'hole', 'holiday', 'home', 'honest', 'honestly', 'honey', 'hoo', 'hoodie', 'hoop', 'hope', 'hopefully', 'horrible', 'hospital', 'hot', 'hour', 'house', 'hrs', 'hug', 'huge', 'huh', 'human', 'humanatm', 'hun', 'hurry', 'hurt', 'husband', 'hype', 'ice', 'idc', 'idea', 'idiot', 'idk', 'ignore', 'ill', 'image', 'imagine', 'imma', 'immediately', 'impact', 'implant', 'important', 'impossible', 'impressed', 'improve', 'inch', 'include', 'incorrect', 'increase', 'incredible', 'industry', 'influencer', 'info', 'inform', 'information', 'insane', 'inside', 'inspiration', 'inspirational', 'inspire', 'insta', 'instagram', 'instead', 'insult', 'interested', 'interesting', 'international', 'internationalwomensday', 'internet', 'interview', 'invest', 'invite', 'involve', 'ion', 'ireland', 'irish', 'isis', 'island', 'isn', 'isolate', 'issue', 'item', 'jack', 'jacket', 'jail', 'jaime', 'jan', 'january', 'jealous', 'jean', 'jesus', 'job', 'jogger', 'john', 'join', 'joke', 'jon', 'jordan', 'joy', 'jump', 'jumper', 'jumpsuit', 'june', 'justify', 'karen', 'key', 'kick', 'kid', 'kidd', 'kill', 'kind', 'kinda', 'kindly', 'king', 'kiss', 'klarna', 'kmwn', 'knee', 'knock', 'knot', 'know', 'label', 'labour', 'lace', 'lack', 'lad', 'lady', 'land', 'large', 'late', 'lately', 'later', 'laugh', 'launch', 'law', 'lazy', 'lead', 'learn', 'leather', 'leave', 'left', 'leg', 'legging', 'legit', 'leicester', 'lemme', 'length', 'leopard', 'let', 'level', 'lie', 'life', 'lift', 'light', 'like', 'likely', 'lil', 'limit', 'limited', 'line', 'link', 'lip', 'list', 'listen', 'literal', 'literally', 'little', 'live', 'living', 'lmao', 'lmaoo', 'lmaooo', 'lmfao', 'load', 'local', 'location', 'lock', 'lockdown', 'log', 'logistic', 'lol', 'london', 'long', 'look', 'loose', 'lord', 'lose', 'loser', 'loss', 'lot', 'lounge', 'love', 'lovely', 'low', 'luck', 'lucky', 'machine', 'mad', 'mail', 'main', 'major', 'makeup', 'male', 'mama', 'man', 'manage', 'manager', 'manifest', 'manufacturer', 'mar', 'march', 'mark', 'market', 'marketing', 'marketplace', 'marry', 'mask', 'massive', 'master', 'match', 'mate', 'material', 'maternity', 'matter', 'max', 'maxi', 'maybe', 'mean', 'medium', 'meet', 'member', 'men', 'mental', 'mention', 'mesh', 'mess', 'message', 'method', 'mfs', 'mid', 'middle', 'midi', 'mile', 'millen', 'million', 'min', 'mind', 'mini', 'minimum', 'minor', 'minority', 'minute', 'mirror', 'misguide', 'miss', 'missguide', 'mistake', 'mix', 'model', 'modern', 'mom', 'moment', 'monday', 'money', 'monki', 'month', 'monthly', 'mood', 'morning', 'mother', 'mount', 'mouth', 'movie', 'mph', 'multiple', 'mum', 'murder', 'music', 'mwn', 'myasosluck', 'n', 'nah', 'nail', 'nasty', 'national', 'nationalpetday', 'nationalpuppyday', 'navy', 'near', 'nearly', 'neck', 'need', 'negative', 'neighbour', 'network', 'new', 'news', 'ngl', 'nhs', 'nice', 'nigeria', 'nigga', 'niggas', 'night', 'nightmare', 'nike', 'nominate', 'non', 'nope', 'normal', 'normally', 'north', 'note', 'notice', 'notification', 'nova', 'number', 'nurse', 'nwt', 'oasis', 'obsess', 'obviously', 'occasion', 'offend', 'offer', 'office', 'official', 'ohh', 'ohhh', 'okay', 'old', 'omg', 'online', 'ooh', 'ooo', 'ootd', 'open', 'opening', 'operation', 'opinion', 'opportunity', 'oppress', 'option', 'orange', 'order', 'ordering', 'original', 'outfit', 'outfitter', 'outlet', 'outside', 'outta', 'ovc', 'oversized', 'owe', 'owner', 'pack', 'package', 'packaging', 'paddy', 'page', 'pain', 'paint', 'pair', 'pal', 'pandemic', 'pant', 'paper', 'parcel', 'parent', 'park', 'partner', 'partnership', 'party', 'pass', 'password', 'past', 'pathetic', 'patrick', 'pay', 'payment', 'paypal', 'paypig', 'peace', 'peak', 'pen', 'pende', 'penny', 'people', 'perfect', 'perfectly', 'performance', 'period', 'perkin', 'person', 'personal', 'personally', 'pet', 'petite', 'phone', 'photo', 'pic', 'pick', 'picture', 'piece', 'pink', 'piss', 'pity', 'place', 'plain', 'plan', 'planet', 'plastic', 'platform', 'play', 'player', 'playing', 'plc', 'plenty', 'pls', 'plt', 'plus', 'plz', 'pocket', 'point', 'police', 'policy', 'polly', 'poor', 'pop', 'popular', 'pose', 'poshmark', 'position', 'positive', 'possible', 'possibly', 'post', 'potential', 'pound', 'power', 'ppl', 'practice', 'praise', 'pray', 'pre', 'prefer', 'pregnant', 'premier', 'premium', 'prepare', 'present', 'press', 'pretend', 'pretty', 'prettylittlethe', 'previous', 'price', 'primark', 'prince', 'princess', 'print', 'private', 'prize', 'probably', 'probe', 'problem', 'process', 'product', 'profile', 'profit', 'project', 'promise', 'promo', 'promote', 'proof', 'proper', 'properly', 'protect', 'proud', 'prove', 'provide', 'proxy', 'pub', 'public', 'publish', 'pull', 'pup', 'puppy', 'purchase', 'pure', 'purple', 'push', 'pussy', 'quality', 'queen', 'query', 'question', 'quick', 'quickly', 'quid', 'quit', 'quote', 'race', 'racism', 'racist', 'rain', 'rainbow', 'raise', 'random', 'range', 'rate', 'reach', 'reaction', 'read', 'reading', 'ready', 'real', 'realise', 'reality', 'realize', 'reason', 'receipt', 'receive', 'recent', 'recently', 'recommend', 'record', 'red', 'reduce', 'refund', 'refunded', 'refuse', 'regard', 'register', 'regret', 'regular', 'relate', 'relationship', 'release', 'remain', 'remember', 'remind', 'remove', 'reopen', 'reorder', 'rep', 'replace', 'replacement', 'reply', 'report', 'representation', 'republican', 'request', 'require', 'rescue', 'research', 'resolve', 'respect', 'respond', 'response', 'responsibility', 'responsible', 'rest', 'restock', 'restriction', 'result', 'retail', 'retailer', 'return', 'retweet', 'reveal', 'revenue', 'review', 'rich', 'ridiculous', 'right', 'ring', 'rip', 'rise', 'risk', 'river', 'rlly', 'rmk', 'road', 'rock', 'role', 'roll', 'room', 'round', 'row', 'royal', 'rubbish', 'rude', 'ruin', 'rule', 'run', 'rush', 'sad', 'sadly', 'safe', 'sale', 'sandal', 'saturday', 'save', 'saving', 'scam', 'scan', 'scandal', 'scare', 'scared', 'scary', 'scene', 'school', 'scratch', 'scream', 'screen', 'scroll', 'sct', 'search', 'season', 'second', 'section', 'select', 'selection', 'self', 'selfridge', 'sell', 'send', 'senior', 'sense', 'sensitive', 'separate', 'series', 'seriously', 'serve', 'service', 'set', 'sex', 'sexy', 'shall', 'shame', 'shape', 'share', 'shein', 'shift', 'shine', 'ship', 'shipment', 'shipping', 'shirt', 'shit', 'shite', 'shitty', 'shock', 'shocking', 'shoe', 'shoot', 'shop', 'shopmycloset', 'shopper', 'shopping', 'short', 'shot', 'shoulder', 'shouldn', 'shout', 'shower', 'shut', 'sick', 'sign', 'silver', 'similar', 'simple', 'simply', 'single', 'sis', 'sister', 'sit', 'site', 'situation', 'size', 'sized', 'skin', 'skinny', 'skirt', 'slave', 'sleep', 'sleeve', 'slide', 'slip', 'slow', 'slowfashion', 'slp', 'slur', 'small', 'smart', 'smash', 'smell', 'smh', 'smile', 'smock', 'snap', 'sneaker', 'snipe', 'snow', 'snowflake', 'sob', 'social', 'society', 'sock', 'soft', 'solution', 'solve', 'somebody', 'son', 'song', 'soon', 'sooo', 'soooo', 'sorry', 'sort', 'soul', 'sound', 'source', 'south', 'space', 'speak', 'special', 'specific', 'specifically', 'spend', 'spending', 'split', 'spoil', 'sponsor', 'sport', 'spot', 'spread', 'spree', 'spring', 'staff', 'stage', 'stain', 'stan', 'stand', 'standard', 'star', 'stare', 'start', 'state', 'statement', 'station', 'status', 'stay', 'steal', 'step', 'stfu', 'stick', 'stock', 'stone', 'stop', 'store', 'story', 'stpatricksday', 'stradivarius', 'straight', 'strange', 'strategy', 'stream', 'street', 'stress', 'stretch', 'strike', 'strong', 'struggle', 'student', 'study', 'stuff', 'stunning', 'stupid', 'style', 'sub', 'success', 'successful', 'suck', 'suddenly', 'suffer', 'suggest', 'suggestion', 'suit', 'sum', 'summer', 'sun', 'sunday', 'sunglass', 'super', 'supplier', 'supply', 'support', 'suppose', 'sur', 'sure', 'surely', 'surprise', 'surprised', 'survive', 'sustainability', 'sustainable', 'swear', 'sweat', 'sweater', 'sweatshirt', 'sweet', 'swimsuit', 'switch', 'sympathy', 'tag', 'tagging', 'talk', 'tall', 'target', 'taste', 'tax', 'tbh', 'tea', 'teach', 'teacher', 'team', 'tear', 'tech', 'technical', 'teddy', 'tee', 'tell', 'tempt', 'term', 'terrible', 'test', 'text', 'thank', 'therapy', 'thigh', 'thing', 'think', 'thinking', 'tho', 'thought', 'thousand', 'thread', 'thrift', 'thrifte', 'throw', 'thursday', 'ticket', 'tie', 'tight', 'tiktok', 'til', 'till', 'time', 'tiny', 'tip', 'tired', 'today', 'toe', 'toilet', 'tommy', 'tomorrow', 'ton', 'tonight', 'tooth', 'topman', 'topshop', 'torrid', 'total', 'totally', 'touch', 'tough', 'town', 'toxic', 'toy', 'track', 'tracking', 'tracksuit', 'trade', 'trading', 'train', 'trainer', 'tran', 'transparency', 'trash', 'travel', 'treat', 'trend', 'trendy', 'trigger', 'trip', 'triple', 'trouble', 'trouser', 'true', 'truly', 'trump', 'trust', 'truth', 'try', 'tryna', 'tstm', 'tuesday', 'turn', 'tweet', 'twice', 'twitter', 'type', 'ugly', 'unable', 'understand', 'underwear', 'unfortunately', 'uni', 'uniday', 'unique', 'university', 'unlucky', 'update', 'upset', 'urban', 'usa', 'use', 'useless', 'user', 'usual', 'usually', 'vaccine', 'valid', 'value', 'van', 'version', 'vibe', 'victim', 'video', 'view', 'vintage', 'vinte', 'visit', 'voice', 'vote', 'voucher', 'wage', 'wah', 'waist', 'wait', 'waiting', 'wake', 'wale', 'walk', 'wall', 'wanna', 'want', 'war', 'wardrobe', 'warehouse', 'warm', 'wash', 'washington', 'wasn', 'waste', 'watch', 'water', 'wave', 'way', 'weak', 'wear', 'weather', 'website', 'wedding', 'wednesday', 'wee', 'week', 'weekend', 'weekly', 'weight', 'weird', 'welcome', 'whilst', 'whine', 'white', 'wide', 'wife', 'wild', 'win', 'wind', 'window', 'wine', 'winner', 'winter', 'wish', 'wishlist', 'wnd', 'woman', 'women', 'wonder', 'wonderful', 'word', 'work', 'worker', 'working', 'workout', 'world', 'worry', 'worth', 'wouldn', 'wow', 'wrap', 'write', 'wrong', 'wsw', 'wtf', 'xxx', 'xxxx', 'yay', 'yea', 'yeah', 'year', 'yellow', 'yep', 'yes', 'yesterday', 'young', 'youtube', 'zalando', 'zara', 'zero', 'zip', 'zoom', '’d', '’ll', '’re', '’t', '’ve']\n"
     ]
    }
   ],
   "source": [
    "print(tf_feature_names)"
   ]
  },
  {
   "cell_type": "code",
   "execution_count": 66,
   "metadata": {},
   "outputs": [],
   "source": [
    "from sklearn.decomposition import LatentDirichletAllocation\n",
    "\n",
    "number_of_topics = 9\n",
    "\n",
    "model = LatentDirichletAllocation(n_components=number_of_topics, random_state=0)"
   ]
  },
  {
   "cell_type": "code",
   "execution_count": 67,
   "metadata": {},
   "outputs": [
    {
     "output_type": "execute_result",
     "data": {
      "text/plain": [
       "LatentDirichletAllocation(n_components=9, random_state=0)"
      ]
     },
     "metadata": {},
     "execution_count": 67
    }
   ],
   "source": [
    "model.fit(tf)"
   ]
  },
  {
   "source": [
    "a function which takes in our model object model, the order of the words in our matrix tf_feature_names and the number of words we would like to show. Use this function, which returns a dataframe, to show you the topics we created. Remember that each topic is a list of words/tokens and weights"
   ],
   "cell_type": "markdown",
   "metadata": {}
  },
  {
   "cell_type": "code",
   "execution_count": 68,
   "metadata": {},
   "outputs": [],
   "source": [
    "def display_topics(model, feature_names, no_top_words):\n",
    "    topic_dict = {}\n",
    "    for topic_idx, topic in enumerate(model.components_):\n",
    "        topic_dict[\"Topic %d words\" % (topic_idx)]= ['{}'.format(feature_names[i])\n",
    "                        for i in topic.argsort()[:-no_top_words - 1:-1]]\n",
    "        topic_dict[\"Topic %d weights\" % (topic_idx)]= ['{:.1f}'.format(topic[i])\n",
    "                        for i in topic.argsort()[:-no_top_words - 1:-1]]\n",
    "    return pd.DataFrame(topic_dict)"
   ]
  },
  {
   "cell_type": "code",
   "execution_count": 73,
   "metadata": {},
   "outputs": [
    {
     "output_type": "execute_result",
     "data": {
      "text/plain": [
       "  Topic 0 words Topic 0 weights   Topic 1 words Topic 1 weights Topic 2 words  \\\n",
       "0         order          5308.0          boohoo          1363.9          asos   \n",
       "1           day          2073.7         zalando          1290.0           buy   \n",
       "2      delivery          1798.1            girl          1276.1          size   \n",
       "3        return          1746.1  boohooluckydip           637.0          code   \n",
       "4          help          1443.7             let           603.7          jean   \n",
       "5          send          1442.8            city           582.5      discount   \n",
       "6            ’t          1395.1           happy           403.1         thank   \n",
       "7             n          1392.5             omg           390.9          shoe   \n",
       "8          asos          1307.3      collection           355.1           fit   \n",
       "9        refund          1184.1            luck           305.5          pair   \n",
       "\n",
       "  Topic 2 weights Topic 3 words Topic 3 weights Topic 4 words Topic 4 weights  \\\n",
       "0          6091.7          year          1263.7          asos          3221.1   \n",
       "1          1300.7    myasosluck          1062.6         check          2185.9   \n",
       "2          1192.9          asos           770.9       fashion          2041.4   \n",
       "3           843.0          come           684.6          good          1944.4   \n",
       "4           798.0           old           585.6          love          1930.2   \n",
       "5           663.6          week           564.3      poshmark          1467.1   \n",
       "6           593.1         month           542.5  shopmycloset          1456.1   \n",
       "7           574.8           day           534.2          item          1428.7   \n",
       "8           572.7          work           524.0         share          1305.1   \n",
       "9           565.1          time           501.4         style          1304.1   \n",
       "\n",
       "    Topic 5 words Topic 5 weights Topic 6 words Topic 6 weights Topic 7 words  \\\n",
       "0             win          1177.6       asosiwd          1243.1        boohoo   \n",
       "1     boohootreat          1003.0          asos          1079.6        people   \n",
       "2            asos           994.8           buy           624.5          like   \n",
       "3            need           700.1         woman           578.6           man   \n",
       "4             new           683.4        friend           502.2          fuck   \n",
       "5            love           672.9          good           492.7          shit   \n",
       "6           spend           576.5         model           469.6          want   \n",
       "7        birthday           572.5          wear           468.1           bad   \n",
       "8             yes           548.5          work           410.1       fucking   \n",
       "9  nationalpetday           463.1           man           406.9         bitch   \n",
       "\n",
       "  Topic 7 weights Topic 8 words Topic 8 weights  \n",
       "0          9861.4            ’t          4483.0  \n",
       "1          1403.8             n          4479.6  \n",
       "2          1125.6          like          2853.7  \n",
       "3           688.2          asos          2674.9  \n",
       "4           669.8        boohoo          1353.3  \n",
       "5           662.3          look          1142.4  \n",
       "6           595.1        clothe          1087.6  \n",
       "7           533.6          shop           700.7  \n",
       "8           502.4          feel           683.9  \n",
       "9           411.0          know           576.4  "
      ],
      "text/html": "<div>\n<style scoped>\n    .dataframe tbody tr th:only-of-type {\n        vertical-align: middle;\n    }\n\n    .dataframe tbody tr th {\n        vertical-align: top;\n    }\n\n    .dataframe thead th {\n        text-align: right;\n    }\n</style>\n<table border=\"1\" class=\"dataframe\">\n  <thead>\n    <tr style=\"text-align: right;\">\n      <th></th>\n      <th>Topic 0 words</th>\n      <th>Topic 0 weights</th>\n      <th>Topic 1 words</th>\n      <th>Topic 1 weights</th>\n      <th>Topic 2 words</th>\n      <th>Topic 2 weights</th>\n      <th>Topic 3 words</th>\n      <th>Topic 3 weights</th>\n      <th>Topic 4 words</th>\n      <th>Topic 4 weights</th>\n      <th>Topic 5 words</th>\n      <th>Topic 5 weights</th>\n      <th>Topic 6 words</th>\n      <th>Topic 6 weights</th>\n      <th>Topic 7 words</th>\n      <th>Topic 7 weights</th>\n      <th>Topic 8 words</th>\n      <th>Topic 8 weights</th>\n    </tr>\n  </thead>\n  <tbody>\n    <tr>\n      <th>0</th>\n      <td>order</td>\n      <td>5308.0</td>\n      <td>boohoo</td>\n      <td>1363.9</td>\n      <td>asos</td>\n      <td>6091.7</td>\n      <td>year</td>\n      <td>1263.7</td>\n      <td>asos</td>\n      <td>3221.1</td>\n      <td>win</td>\n      <td>1177.6</td>\n      <td>asosiwd</td>\n      <td>1243.1</td>\n      <td>boohoo</td>\n      <td>9861.4</td>\n      <td>’t</td>\n      <td>4483.0</td>\n    </tr>\n    <tr>\n      <th>1</th>\n      <td>day</td>\n      <td>2073.7</td>\n      <td>zalando</td>\n      <td>1290.0</td>\n      <td>buy</td>\n      <td>1300.7</td>\n      <td>myasosluck</td>\n      <td>1062.6</td>\n      <td>check</td>\n      <td>2185.9</td>\n      <td>boohootreat</td>\n      <td>1003.0</td>\n      <td>asos</td>\n      <td>1079.6</td>\n      <td>people</td>\n      <td>1403.8</td>\n      <td>n</td>\n      <td>4479.6</td>\n    </tr>\n    <tr>\n      <th>2</th>\n      <td>delivery</td>\n      <td>1798.1</td>\n      <td>girl</td>\n      <td>1276.1</td>\n      <td>size</td>\n      <td>1192.9</td>\n      <td>asos</td>\n      <td>770.9</td>\n      <td>fashion</td>\n      <td>2041.4</td>\n      <td>asos</td>\n      <td>994.8</td>\n      <td>buy</td>\n      <td>624.5</td>\n      <td>like</td>\n      <td>1125.6</td>\n      <td>like</td>\n      <td>2853.7</td>\n    </tr>\n    <tr>\n      <th>3</th>\n      <td>return</td>\n      <td>1746.1</td>\n      <td>boohooluckydip</td>\n      <td>637.0</td>\n      <td>code</td>\n      <td>843.0</td>\n      <td>come</td>\n      <td>684.6</td>\n      <td>good</td>\n      <td>1944.4</td>\n      <td>need</td>\n      <td>700.1</td>\n      <td>woman</td>\n      <td>578.6</td>\n      <td>man</td>\n      <td>688.2</td>\n      <td>asos</td>\n      <td>2674.9</td>\n    </tr>\n    <tr>\n      <th>4</th>\n      <td>help</td>\n      <td>1443.7</td>\n      <td>let</td>\n      <td>603.7</td>\n      <td>jean</td>\n      <td>798.0</td>\n      <td>old</td>\n      <td>585.6</td>\n      <td>love</td>\n      <td>1930.2</td>\n      <td>new</td>\n      <td>683.4</td>\n      <td>friend</td>\n      <td>502.2</td>\n      <td>fuck</td>\n      <td>669.8</td>\n      <td>boohoo</td>\n      <td>1353.3</td>\n    </tr>\n    <tr>\n      <th>5</th>\n      <td>send</td>\n      <td>1442.8</td>\n      <td>city</td>\n      <td>582.5</td>\n      <td>discount</td>\n      <td>663.6</td>\n      <td>week</td>\n      <td>564.3</td>\n      <td>poshmark</td>\n      <td>1467.1</td>\n      <td>love</td>\n      <td>672.9</td>\n      <td>good</td>\n      <td>492.7</td>\n      <td>shit</td>\n      <td>662.3</td>\n      <td>look</td>\n      <td>1142.4</td>\n    </tr>\n    <tr>\n      <th>6</th>\n      <td>’t</td>\n      <td>1395.1</td>\n      <td>happy</td>\n      <td>403.1</td>\n      <td>thank</td>\n      <td>593.1</td>\n      <td>month</td>\n      <td>542.5</td>\n      <td>shopmycloset</td>\n      <td>1456.1</td>\n      <td>spend</td>\n      <td>576.5</td>\n      <td>model</td>\n      <td>469.6</td>\n      <td>want</td>\n      <td>595.1</td>\n      <td>clothe</td>\n      <td>1087.6</td>\n    </tr>\n    <tr>\n      <th>7</th>\n      <td>n</td>\n      <td>1392.5</td>\n      <td>omg</td>\n      <td>390.9</td>\n      <td>shoe</td>\n      <td>574.8</td>\n      <td>day</td>\n      <td>534.2</td>\n      <td>item</td>\n      <td>1428.7</td>\n      <td>birthday</td>\n      <td>572.5</td>\n      <td>wear</td>\n      <td>468.1</td>\n      <td>bad</td>\n      <td>533.6</td>\n      <td>shop</td>\n      <td>700.7</td>\n    </tr>\n    <tr>\n      <th>8</th>\n      <td>asos</td>\n      <td>1307.3</td>\n      <td>collection</td>\n      <td>355.1</td>\n      <td>fit</td>\n      <td>572.7</td>\n      <td>work</td>\n      <td>524.0</td>\n      <td>share</td>\n      <td>1305.1</td>\n      <td>yes</td>\n      <td>548.5</td>\n      <td>work</td>\n      <td>410.1</td>\n      <td>fucking</td>\n      <td>502.4</td>\n      <td>feel</td>\n      <td>683.9</td>\n    </tr>\n    <tr>\n      <th>9</th>\n      <td>refund</td>\n      <td>1184.1</td>\n      <td>luck</td>\n      <td>305.5</td>\n      <td>pair</td>\n      <td>565.1</td>\n      <td>time</td>\n      <td>501.4</td>\n      <td>style</td>\n      <td>1304.1</td>\n      <td>nationalpetday</td>\n      <td>463.1</td>\n      <td>man</td>\n      <td>406.9</td>\n      <td>bitch</td>\n      <td>411.0</td>\n      <td>know</td>\n      <td>576.4</td>\n    </tr>\n  </tbody>\n</table>\n</div>"
     },
     "metadata": {},
     "execution_count": 73
    }
   ],
   "source": [
    "no_top_words = 10\n",
    "display_topics(model, tf_feature_names, no_top_words)"
   ]
  },
  {
   "source": [
    "# Zalando only"
   ],
   "cell_type": "markdown",
   "metadata": {}
  },
  {
   "cell_type": "code",
   "execution_count": 80,
   "metadata": {},
   "outputs": [
    {
     "output_type": "execute_result",
     "data": {
      "text/plain": [
       "  Topic 0 words Topic 0 weights Topic 1 words Topic 1 weights Topic 2 words  \\\n",
       "0       zalando            97.0       zalando           167.1       zalando   \n",
       "1          good            87.1         order           109.1         thank   \n",
       "2          work            59.1       account           105.8           day   \n",
       "3        return            56.1           buy            91.0          nike   \n",
       "4         brand            47.8          drop            38.1          sell   \n",
       "5         think            31.0          week            29.9       success   \n",
       "6          item            26.1           try            28.2       account   \n",
       "7          team            13.4          come            27.1           cop   \n",
       "8          help            11.7          send            14.5        people   \n",
       "9           try            11.4          help             5.8          pair   \n",
       "\n",
       "  Topic 2 weights Topic 3 words Topic 3 weights Topic 4 words Topic 4 weights  \\\n",
       "0           129.2       zalando           519.3          want            70.1   \n",
       "1            85.1          like           110.1       zalando            63.8   \n",
       "2            62.1           cop            24.8            ’t            44.1   \n",
       "3            40.1          help            18.9             n            44.1   \n",
       "4            39.1       account             9.9         stock            41.1   \n",
       "5            33.1          look             0.3      european            16.2   \n",
       "6            16.7           try             0.3           buy             7.2   \n",
       "7             9.4       company             0.1          item             5.7   \n",
       "8             8.5          pair             0.1          know             3.2   \n",
       "9             8.2          need             0.1          look             0.2   \n",
       "\n",
       "  Topic 5 words Topic 5 weights Topic 6 words Topic 6 weights Topic 7 words  \\\n",
       "0       zalando           138.1       zalando           128.3       zalando   \n",
       "1       fashion           101.7          look            69.7          time   \n",
       "2          need            70.1        retail            46.1         today   \n",
       "3        online            67.7        growth            40.1          join   \n",
       "4        market            48.8          size            37.1       company   \n",
       "5         check            48.1          shoe            34.1          team   \n",
       "6        europe            36.1          pair            32.0          know   \n",
       "7      platform            30.1           run            31.1      delivery   \n",
       "8      european            21.0         great            31.1          come   \n",
       "9          look            17.4         think             9.3           big   \n",
       "\n",
       "  Topic 7 weights Topic 8 words Topic 8 weights  \n",
       "0           102.8       zalando            94.5  \n",
       "1            67.1           new            86.1  \n",
       "2            57.1      customer            50.1  \n",
       "3            48.2          love            48.4  \n",
       "4            45.9       product            40.1  \n",
       "5            37.9        clothe            38.1  \n",
       "6            37.0           big            35.9  \n",
       "7            33.0        people            31.7  \n",
       "8             6.1          send            24.7  \n",
       "9             5.6          help             8.0  "
      ],
      "text/html": "<div>\n<style scoped>\n    .dataframe tbody tr th:only-of-type {\n        vertical-align: middle;\n    }\n\n    .dataframe tbody tr th {\n        vertical-align: top;\n    }\n\n    .dataframe thead th {\n        text-align: right;\n    }\n</style>\n<table border=\"1\" class=\"dataframe\">\n  <thead>\n    <tr style=\"text-align: right;\">\n      <th></th>\n      <th>Topic 0 words</th>\n      <th>Topic 0 weights</th>\n      <th>Topic 1 words</th>\n      <th>Topic 1 weights</th>\n      <th>Topic 2 words</th>\n      <th>Topic 2 weights</th>\n      <th>Topic 3 words</th>\n      <th>Topic 3 weights</th>\n      <th>Topic 4 words</th>\n      <th>Topic 4 weights</th>\n      <th>Topic 5 words</th>\n      <th>Topic 5 weights</th>\n      <th>Topic 6 words</th>\n      <th>Topic 6 weights</th>\n      <th>Topic 7 words</th>\n      <th>Topic 7 weights</th>\n      <th>Topic 8 words</th>\n      <th>Topic 8 weights</th>\n    </tr>\n  </thead>\n  <tbody>\n    <tr>\n      <th>0</th>\n      <td>zalando</td>\n      <td>97.0</td>\n      <td>zalando</td>\n      <td>167.1</td>\n      <td>zalando</td>\n      <td>129.2</td>\n      <td>zalando</td>\n      <td>519.3</td>\n      <td>want</td>\n      <td>70.1</td>\n      <td>zalando</td>\n      <td>138.1</td>\n      <td>zalando</td>\n      <td>128.3</td>\n      <td>zalando</td>\n      <td>102.8</td>\n      <td>zalando</td>\n      <td>94.5</td>\n    </tr>\n    <tr>\n      <th>1</th>\n      <td>good</td>\n      <td>87.1</td>\n      <td>order</td>\n      <td>109.1</td>\n      <td>thank</td>\n      <td>85.1</td>\n      <td>like</td>\n      <td>110.1</td>\n      <td>zalando</td>\n      <td>63.8</td>\n      <td>fashion</td>\n      <td>101.7</td>\n      <td>look</td>\n      <td>69.7</td>\n      <td>time</td>\n      <td>67.1</td>\n      <td>new</td>\n      <td>86.1</td>\n    </tr>\n    <tr>\n      <th>2</th>\n      <td>work</td>\n      <td>59.1</td>\n      <td>account</td>\n      <td>105.8</td>\n      <td>day</td>\n      <td>62.1</td>\n      <td>cop</td>\n      <td>24.8</td>\n      <td>’t</td>\n      <td>44.1</td>\n      <td>need</td>\n      <td>70.1</td>\n      <td>retail</td>\n      <td>46.1</td>\n      <td>today</td>\n      <td>57.1</td>\n      <td>customer</td>\n      <td>50.1</td>\n    </tr>\n    <tr>\n      <th>3</th>\n      <td>return</td>\n      <td>56.1</td>\n      <td>buy</td>\n      <td>91.0</td>\n      <td>nike</td>\n      <td>40.1</td>\n      <td>help</td>\n      <td>18.9</td>\n      <td>n</td>\n      <td>44.1</td>\n      <td>online</td>\n      <td>67.7</td>\n      <td>growth</td>\n      <td>40.1</td>\n      <td>join</td>\n      <td>48.2</td>\n      <td>love</td>\n      <td>48.4</td>\n    </tr>\n    <tr>\n      <th>4</th>\n      <td>brand</td>\n      <td>47.8</td>\n      <td>drop</td>\n      <td>38.1</td>\n      <td>sell</td>\n      <td>39.1</td>\n      <td>account</td>\n      <td>9.9</td>\n      <td>stock</td>\n      <td>41.1</td>\n      <td>market</td>\n      <td>48.8</td>\n      <td>size</td>\n      <td>37.1</td>\n      <td>company</td>\n      <td>45.9</td>\n      <td>product</td>\n      <td>40.1</td>\n    </tr>\n    <tr>\n      <th>5</th>\n      <td>think</td>\n      <td>31.0</td>\n      <td>week</td>\n      <td>29.9</td>\n      <td>success</td>\n      <td>33.1</td>\n      <td>look</td>\n      <td>0.3</td>\n      <td>european</td>\n      <td>16.2</td>\n      <td>check</td>\n      <td>48.1</td>\n      <td>shoe</td>\n      <td>34.1</td>\n      <td>team</td>\n      <td>37.9</td>\n      <td>clothe</td>\n      <td>38.1</td>\n    </tr>\n    <tr>\n      <th>6</th>\n      <td>item</td>\n      <td>26.1</td>\n      <td>try</td>\n      <td>28.2</td>\n      <td>account</td>\n      <td>16.7</td>\n      <td>try</td>\n      <td>0.3</td>\n      <td>buy</td>\n      <td>7.2</td>\n      <td>europe</td>\n      <td>36.1</td>\n      <td>pair</td>\n      <td>32.0</td>\n      <td>know</td>\n      <td>37.0</td>\n      <td>big</td>\n      <td>35.9</td>\n    </tr>\n    <tr>\n      <th>7</th>\n      <td>team</td>\n      <td>13.4</td>\n      <td>come</td>\n      <td>27.1</td>\n      <td>cop</td>\n      <td>9.4</td>\n      <td>company</td>\n      <td>0.1</td>\n      <td>item</td>\n      <td>5.7</td>\n      <td>platform</td>\n      <td>30.1</td>\n      <td>run</td>\n      <td>31.1</td>\n      <td>delivery</td>\n      <td>33.0</td>\n      <td>people</td>\n      <td>31.7</td>\n    </tr>\n    <tr>\n      <th>8</th>\n      <td>help</td>\n      <td>11.7</td>\n      <td>send</td>\n      <td>14.5</td>\n      <td>people</td>\n      <td>8.5</td>\n      <td>pair</td>\n      <td>0.1</td>\n      <td>know</td>\n      <td>3.2</td>\n      <td>european</td>\n      <td>21.0</td>\n      <td>great</td>\n      <td>31.1</td>\n      <td>come</td>\n      <td>6.1</td>\n      <td>send</td>\n      <td>24.7</td>\n    </tr>\n    <tr>\n      <th>9</th>\n      <td>try</td>\n      <td>11.4</td>\n      <td>help</td>\n      <td>5.8</td>\n      <td>pair</td>\n      <td>8.2</td>\n      <td>need</td>\n      <td>0.1</td>\n      <td>look</td>\n      <td>0.2</td>\n      <td>look</td>\n      <td>17.4</td>\n      <td>think</td>\n      <td>9.3</td>\n      <td>big</td>\n      <td>5.6</td>\n      <td>help</td>\n      <td>8.0</td>\n    </tr>\n  </tbody>\n</table>\n</div>"
     },
     "metadata": {},
     "execution_count": 80
    }
   ],
   "source": [
    "data_zal = data[data['keyword']=='zalando']\n",
    "\n",
    "# the vectorizer object will be used to transform text to vector form\n",
    "vectorizer = CountVectorizer(max_df=0.9, min_df=30, token_pattern='\\w+|\\$[\\d\\.]+|\\S+')\n",
    "\n",
    "# apply transformation\n",
    "tf = vectorizer.fit_transform(data_zal['lemma']).toarray()\n",
    "\n",
    "# tf_feature_names tells us what word each column in the matric represents\n",
    "tf_feature_names = vectorizer.get_feature_names()\n",
    "\n",
    "number_of_topics = 9\n",
    "\n",
    "model = LatentDirichletAllocation(n_components=number_of_topics, random_state=0)\n",
    "model.fit(tf)\n",
    "\n",
    "no_top_words = 10\n",
    "display_topics(model, tf_feature_names, no_top_words)"
   ]
  },
  {
   "source": [
    "# Zalando positive"
   ],
   "cell_type": "markdown",
   "metadata": {}
  },
  {
   "cell_type": "code",
   "execution_count": 81,
   "metadata": {},
   "outputs": [
    {
     "output_type": "execute_result",
     "data": {
      "text/plain": [
       "  Topic 0 words Topic 0 weights Topic 1 words Topic 1 weights Topic 2 words  \\\n",
       "0       zalando            97.0       zalando           167.1       zalando   \n",
       "1          good            87.1         order           109.1         thank   \n",
       "2          work            59.1       account           105.8           day   \n",
       "3        return            56.1           buy            91.0          nike   \n",
       "4         brand            47.8          drop            38.1          sell   \n",
       "5         think            31.0          week            29.9       success   \n",
       "6          item            26.1           try            28.2       account   \n",
       "7          team            13.4          come            27.1           cop   \n",
       "8          help            11.7          send            14.5        people   \n",
       "9           try            11.4          help             5.8          pair   \n",
       "\n",
       "  Topic 2 weights Topic 3 words Topic 3 weights Topic 4 words Topic 4 weights  \\\n",
       "0           129.2       zalando           519.3          want            70.1   \n",
       "1            85.1          like           110.1       zalando            63.8   \n",
       "2            62.1           cop            24.8            ’t            44.1   \n",
       "3            40.1          help            18.9             n            44.1   \n",
       "4            39.1       account             9.9         stock            41.1   \n",
       "5            33.1          look             0.3      european            16.2   \n",
       "6            16.7           try             0.3           buy             7.2   \n",
       "7             9.4       company             0.1          item             5.7   \n",
       "8             8.5          pair             0.1          know             3.2   \n",
       "9             8.2          need             0.1          look             0.2   \n",
       "\n",
       "  Topic 5 words Topic 5 weights Topic 6 words Topic 6 weights Topic 7 words  \\\n",
       "0       zalando           138.1       zalando           128.3       zalando   \n",
       "1       fashion           101.7          look            69.7          time   \n",
       "2          need            70.1        retail            46.1         today   \n",
       "3        online            67.7        growth            40.1          join   \n",
       "4        market            48.8          size            37.1       company   \n",
       "5         check            48.1          shoe            34.1          team   \n",
       "6        europe            36.1          pair            32.0          know   \n",
       "7      platform            30.1           run            31.1      delivery   \n",
       "8      european            21.0         great            31.1          come   \n",
       "9          look            17.4         think             9.3           big   \n",
       "\n",
       "  Topic 7 weights Topic 8 words Topic 8 weights  \n",
       "0           102.8       zalando            94.5  \n",
       "1            67.1           new            86.1  \n",
       "2            57.1      customer            50.1  \n",
       "3            48.2          love            48.4  \n",
       "4            45.9       product            40.1  \n",
       "5            37.9        clothe            38.1  \n",
       "6            37.0           big            35.9  \n",
       "7            33.0        people            31.7  \n",
       "8             6.1          send            24.7  \n",
       "9             5.6          help             8.0  "
      ],
      "text/html": "<div>\n<style scoped>\n    .dataframe tbody tr th:only-of-type {\n        vertical-align: middle;\n    }\n\n    .dataframe tbody tr th {\n        vertical-align: top;\n    }\n\n    .dataframe thead th {\n        text-align: right;\n    }\n</style>\n<table border=\"1\" class=\"dataframe\">\n  <thead>\n    <tr style=\"text-align: right;\">\n      <th></th>\n      <th>Topic 0 words</th>\n      <th>Topic 0 weights</th>\n      <th>Topic 1 words</th>\n      <th>Topic 1 weights</th>\n      <th>Topic 2 words</th>\n      <th>Topic 2 weights</th>\n      <th>Topic 3 words</th>\n      <th>Topic 3 weights</th>\n      <th>Topic 4 words</th>\n      <th>Topic 4 weights</th>\n      <th>Topic 5 words</th>\n      <th>Topic 5 weights</th>\n      <th>Topic 6 words</th>\n      <th>Topic 6 weights</th>\n      <th>Topic 7 words</th>\n      <th>Topic 7 weights</th>\n      <th>Topic 8 words</th>\n      <th>Topic 8 weights</th>\n    </tr>\n  </thead>\n  <tbody>\n    <tr>\n      <th>0</th>\n      <td>zalando</td>\n      <td>97.0</td>\n      <td>zalando</td>\n      <td>167.1</td>\n      <td>zalando</td>\n      <td>129.2</td>\n      <td>zalando</td>\n      <td>519.3</td>\n      <td>want</td>\n      <td>70.1</td>\n      <td>zalando</td>\n      <td>138.1</td>\n      <td>zalando</td>\n      <td>128.3</td>\n      <td>zalando</td>\n      <td>102.8</td>\n      <td>zalando</td>\n      <td>94.5</td>\n    </tr>\n    <tr>\n      <th>1</th>\n      <td>good</td>\n      <td>87.1</td>\n      <td>order</td>\n      <td>109.1</td>\n      <td>thank</td>\n      <td>85.1</td>\n      <td>like</td>\n      <td>110.1</td>\n      <td>zalando</td>\n      <td>63.8</td>\n      <td>fashion</td>\n      <td>101.7</td>\n      <td>look</td>\n      <td>69.7</td>\n      <td>time</td>\n      <td>67.1</td>\n      <td>new</td>\n      <td>86.1</td>\n    </tr>\n    <tr>\n      <th>2</th>\n      <td>work</td>\n      <td>59.1</td>\n      <td>account</td>\n      <td>105.8</td>\n      <td>day</td>\n      <td>62.1</td>\n      <td>cop</td>\n      <td>24.8</td>\n      <td>’t</td>\n      <td>44.1</td>\n      <td>need</td>\n      <td>70.1</td>\n      <td>retail</td>\n      <td>46.1</td>\n      <td>today</td>\n      <td>57.1</td>\n      <td>customer</td>\n      <td>50.1</td>\n    </tr>\n    <tr>\n      <th>3</th>\n      <td>return</td>\n      <td>56.1</td>\n      <td>buy</td>\n      <td>91.0</td>\n      <td>nike</td>\n      <td>40.1</td>\n      <td>help</td>\n      <td>18.9</td>\n      <td>n</td>\n      <td>44.1</td>\n      <td>online</td>\n      <td>67.7</td>\n      <td>growth</td>\n      <td>40.1</td>\n      <td>join</td>\n      <td>48.2</td>\n      <td>love</td>\n      <td>48.4</td>\n    </tr>\n    <tr>\n      <th>4</th>\n      <td>brand</td>\n      <td>47.8</td>\n      <td>drop</td>\n      <td>38.1</td>\n      <td>sell</td>\n      <td>39.1</td>\n      <td>account</td>\n      <td>9.9</td>\n      <td>stock</td>\n      <td>41.1</td>\n      <td>market</td>\n      <td>48.8</td>\n      <td>size</td>\n      <td>37.1</td>\n      <td>company</td>\n      <td>45.9</td>\n      <td>product</td>\n      <td>40.1</td>\n    </tr>\n    <tr>\n      <th>5</th>\n      <td>think</td>\n      <td>31.0</td>\n      <td>week</td>\n      <td>29.9</td>\n      <td>success</td>\n      <td>33.1</td>\n      <td>look</td>\n      <td>0.3</td>\n      <td>european</td>\n      <td>16.2</td>\n      <td>check</td>\n      <td>48.1</td>\n      <td>shoe</td>\n      <td>34.1</td>\n      <td>team</td>\n      <td>37.9</td>\n      <td>clothe</td>\n      <td>38.1</td>\n    </tr>\n    <tr>\n      <th>6</th>\n      <td>item</td>\n      <td>26.1</td>\n      <td>try</td>\n      <td>28.2</td>\n      <td>account</td>\n      <td>16.7</td>\n      <td>try</td>\n      <td>0.3</td>\n      <td>buy</td>\n      <td>7.2</td>\n      <td>europe</td>\n      <td>36.1</td>\n      <td>pair</td>\n      <td>32.0</td>\n      <td>know</td>\n      <td>37.0</td>\n      <td>big</td>\n      <td>35.9</td>\n    </tr>\n    <tr>\n      <th>7</th>\n      <td>team</td>\n      <td>13.4</td>\n      <td>come</td>\n      <td>27.1</td>\n      <td>cop</td>\n      <td>9.4</td>\n      <td>company</td>\n      <td>0.1</td>\n      <td>item</td>\n      <td>5.7</td>\n      <td>platform</td>\n      <td>30.1</td>\n      <td>run</td>\n      <td>31.1</td>\n      <td>delivery</td>\n      <td>33.0</td>\n      <td>people</td>\n      <td>31.7</td>\n    </tr>\n    <tr>\n      <th>8</th>\n      <td>help</td>\n      <td>11.7</td>\n      <td>send</td>\n      <td>14.5</td>\n      <td>people</td>\n      <td>8.5</td>\n      <td>pair</td>\n      <td>0.1</td>\n      <td>know</td>\n      <td>3.2</td>\n      <td>european</td>\n      <td>21.0</td>\n      <td>great</td>\n      <td>31.1</td>\n      <td>come</td>\n      <td>6.1</td>\n      <td>send</td>\n      <td>24.7</td>\n    </tr>\n    <tr>\n      <th>9</th>\n      <td>try</td>\n      <td>11.4</td>\n      <td>help</td>\n      <td>5.8</td>\n      <td>pair</td>\n      <td>8.2</td>\n      <td>need</td>\n      <td>0.1</td>\n      <td>look</td>\n      <td>0.2</td>\n      <td>look</td>\n      <td>17.4</td>\n      <td>think</td>\n      <td>9.3</td>\n      <td>big</td>\n      <td>5.6</td>\n      <td>help</td>\n      <td>8.0</td>\n    </tr>\n  </tbody>\n</table>\n</div>"
     },
     "metadata": {},
     "execution_count": 81
    }
   ],
   "source": [
    "data_zal_pos = data[data['compound'] > 0.5]\n",
    "\n",
    "# the vectorizer object will be used to transform text to vector form\n",
    "vectorizer = CountVectorizer(max_df=0.9, min_df=30, token_pattern='\\w+|\\$[\\d\\.]+|\\S+')\n",
    "\n",
    "# apply transformation\n",
    "tf = vectorizer.fit_transform(data_zal['lemma']).toarray()\n",
    "\n",
    "# tf_feature_names tells us what word each column in the matric represents\n",
    "tf_feature_names = vectorizer.get_feature_names()\n",
    "\n",
    "number_of_topics = 9\n",
    "\n",
    "model = LatentDirichletAllocation(n_components=number_of_topics, random_state=0)\n",
    "model.fit(tf)\n",
    "\n",
    "no_top_words = 10\n",
    "display_topics(model, tf_feature_names, no_top_words)"
   ]
  },
  {
   "cell_type": "code",
   "execution_count": 122,
   "metadata": {},
   "outputs": [],
   "source": [
    "def define_team(df):\n",
    "    pattern_payment = r\"(voucher|pay|money|klarna|amount|refund|PayPal|bank|£|loan)\"\n",
    "    pattern_logistics= r\"(\\sship|parcel|cargo|delivery|return)\"\n",
    "    pattern_weather = r\"(Iembot|Iem)\"\n",
    "    pattern_fit = r\"(size|fit)\"\n",
    "\n",
    "    df['team'] = 'Other'\n",
    "    for i, row in df.iterrows():\n",
    "        \n",
    "        match_logistics = re.findall(pattern_logistics, row.lemma, re.IGNORECASE) \n",
    "        if len(match_logistics) > 0:\n",
    "            df['team'].loc[i] = 'Logistics'\n",
    "\n",
    "        match_payment = re.findall(pattern_payment, row.lemma, re.IGNORECASE) \n",
    "        if len(match_payment) > 0:\n",
    "            df['team'].loc[i] = 'Payment'\n",
    "\n",
    "        match_weather = re.findall(pattern_weather, row['name'], re.IGNORECASE) \n",
    "        if len(match_weather) > 0:\n",
    "            df['team'].loc[i] = 'Weather'\n",
    "\n",
    "        match_fit = re.findall(pattern_fit, row.lemma, re.IGNORECASE) \n",
    "        if len(match_fit) > 0:\n",
    "            df['team'].loc[i] = 'Fit'\n",
    "\n",
    "    return df"
   ]
  },
  {
   "cell_type": "code",
   "execution_count": 123,
   "metadata": {},
   "outputs": [
    {
     "output_type": "stream",
     "name": "stderr",
     "text": [
      "C:\\Anaconda\\envs\\uni\\lib\\site-packages\\pandas\\core\\indexing.py:1637: SettingWithCopyWarning: \nA value is trying to be set on a copy of a slice from a DataFrame\n\nSee the caveats in the documentation: https://pandas.pydata.org/pandas-docs/stable/user_guide/indexing.html#returning-a-view-versus-a-copy\n  self._setitem_single_block(indexer, value, name)\n"
     ]
    }
   ],
   "source": [
    "teams = define_team(data)"
   ]
  },
  {
   "cell_type": "code",
   "execution_count": 119,
   "metadata": {},
   "outputs": [
    {
     "output_type": "execute_result",
     "data": {
      "text/plain": [
       "index                                                                  901\n",
       "user_id                                                1298832973912051712\n",
       "user_statuses                                                        90865\n",
       "name                                                            IembotMega\n",
       "tweet                    CAPE NEWENHAM(AWOS),AK (PAEH) ASOS reports gus...\n",
       "retweets                                                                 0\n",
       "location                                                                  \n",
       "created                                                        13-Mar-2021\n",
       "followers                                                               47\n",
       "is_user_verified                                                     False\n",
       "favorite_count                                                         0.0\n",
       "in_reply_to_status_id                                                  NaN\n",
       "keyword                                                               asos\n",
       "language                                                                en\n",
       "clean                    cape newenham awos paeh asos reports gust knot...\n",
       "clean_vader              CAPE NEWENHAM(AWOS),AK (PAEH) ASOS reports gus...\n",
       "compound                                                               0.0\n",
       "lemma                    cape newenham awos paeh asos report gust knot ...\n",
       "bot                                                                  False\n",
       "team                                                               Weather\n",
       "Name: 14903, dtype: object"
      ]
     },
     "metadata": {},
     "execution_count": 119
    }
   ],
   "source": [
    "teams.loc[14903]"
   ]
  },
  {
   "cell_type": "code",
   "execution_count": 124,
   "metadata": {},
   "outputs": [
    {
     "output_type": "stream",
     "name": "stdout",
     "text": [
      "77287 SophieH95757128 @boohoo Birthday tomorrow!!! 😂😂 Your girl could do with an outfit for the house 🎉🎉\n",
      "940 ZULIBLU Check out this listing I just added to my #Poshmark closet: ASOS Gold Yellow Fitted Hoodie XS. https://t.co/aZdwtYhAa8 #shopmycloset @poshmarkapp\n",
      "42411 TheSoleWomens Brand new to ASOS! Cop the ultra-clean Nike AF1 Pixel Sail in every size now ✨\n",
      "\n",
      "Link &gt; https://t.co/Mz8JqkDyk1 https://t.co/icKpWV1YO6\n",
      "28878 saffkeeble @egirlmols Wtf that’s literally an average size i hate when clothing companies have 3 options for sizes because you order your size and it’s either far too big or too small so i tend to just shop on asos because it’s the only online clothing company i trust these days x\n",
      "83655 HaniyaHussainy Can’t believe god really put me out here being broke , ugly and not skinny. Like you could’ve ATLEAST made me skinny so I could buy clothes from the clearance @asos  in my size.\n",
      "99534 HolliexMay @boohoo Here’s Hendrix testing out his outfits for when lockdown ends 💅🏼 https://t.co/qQieOAfknn\n",
      "88360 bizdailies Asos triples profits as Covid crisis boosts online sales - The Guardian\n",
      "\n",
      "https://t.co/Z9j769HL8L https://t.co/isvgJr5Mkc\n",
      "61789 AndrewAsAlways_ Clothing sizing is so weird. I’m wearing a medium jacket from H&amp;M and it fits great. But an XL on ASOS makes me look like a suffocating sausage link.\n",
      "75309 Jenny_Stanton @RoseStokes Yes to nice new clothes. Also yes to beautiful plus-sized bodies which have carried us through the last year but understandably look a little different. I like @ASOS curve. It’s a great price\n",
      "75303 LunaJay Patchwork Denim has Once Again Emerged for Spring - https://t.co/dOjhR1dOB3 #patchworkdenim #patchworkjeans #patchwork #freepeople #anthropologie #asos #misguided #urbanoutfitters https://t.co/ZesGOh04X4\n"
     ]
    }
   ],
   "source": [
    "#testing results by checking random 10 tweets\n",
    "sample = teams[teams.team == 'Fit'].sample(n=10)\n",
    "for i, row in sample.iterrows():\n",
    "    print(str(i) + ' ' + sample.name[i] + ' ' + sample.tweet[i])"
   ]
  },
  {
   "cell_type": "code",
   "execution_count": 125,
   "metadata": {},
   "outputs": [
    {
     "output_type": "execute_result",
     "data": {
      "text/plain": [
       "<AxesSubplot:xlabel='team', ylabel='count'>"
      ]
     },
     "metadata": {},
     "execution_count": 125
    },
    {
     "output_type": "display_data",
     "data": {
      "text/plain": "<Figure size 432x288 with 1 Axes>",
      "image/svg+xml": "<?xml version=\"1.0\" encoding=\"utf-8\" standalone=\"no\"?>\r\n<!DOCTYPE svg PUBLIC \"-//W3C//DTD SVG 1.1//EN\"\r\n  \"http://www.w3.org/Graphics/SVG/1.1/DTD/svg11.dtd\">\r\n<svg height=\"262.19625pt\" version=\"1.1\" viewBox=\"0 0 401.690625 262.19625\" width=\"401.690625pt\" xmlns=\"http://www.w3.org/2000/svg\" xmlns:xlink=\"http://www.w3.org/1999/xlink\">\r\n <metadata>\r\n  <rdf:RDF xmlns:cc=\"http://creativecommons.org/ns#\" xmlns:dc=\"http://purl.org/dc/elements/1.1/\" xmlns:rdf=\"http://www.w3.org/1999/02/22-rdf-syntax-ns#\">\r\n   <cc:Work>\r\n    <dc:type rdf:resource=\"http://purl.org/dc/dcmitype/StillImage\"/>\r\n    <dc:date>2021-06-21T18:10:20.515261</dc:date>\r\n    <dc:format>image/svg+xml</dc:format>\r\n    <dc:creator>\r\n     <cc:Agent>\r\n      <dc:title>Matplotlib v3.4.1, https://matplotlib.org/</dc:title>\r\n     </cc:Agent>\r\n    </dc:creator>\r\n   </cc:Work>\r\n  </rdf:RDF>\r\n </metadata>\r\n <defs>\r\n  <style type=\"text/css\">*{stroke-linecap:butt;stroke-linejoin:round;}</style>\r\n </defs>\r\n <g id=\"figure_1\">\r\n  <g id=\"patch_1\">\r\n   <path d=\"M 0 262.19625 \r\nL 401.690625 262.19625 \r\nL 401.690625 0 \r\nL 0 0 \r\nz\r\n\" style=\"fill:none;\"/>\r\n  </g>\r\n  <g id=\"axes_1\">\r\n   <g id=\"patch_2\">\r\n    <path d=\"M 59.690625 224.64 \r\nL 394.490625 224.64 \r\nL 394.490625 7.2 \r\nL 59.690625 7.2 \r\nz\r\n\" style=\"fill:#ffffff;\"/>\r\n   </g>\r\n   <g id=\"patch_3\">\r\n    <path clip-path=\"url(#p2d10672c5e)\" d=\"M 66.386625 224.64 \r\nL 119.954625 224.64 \r\nL 119.954625 206.582622 \r\nL 66.386625 206.582622 \r\nz\r\n\" style=\"fill:#3274a1;\"/>\r\n   </g>\r\n   <g id=\"patch_4\">\r\n    <path clip-path=\"url(#p2d10672c5e)\" d=\"M 133.346625 224.64 \r\nL 186.914625 224.64 \r\nL 186.914625 211.286801 \r\nL 133.346625 211.286801 \r\nz\r\n\" style=\"fill:#e1812c;\"/>\r\n   </g>\r\n   <g id=\"patch_5\">\r\n    <path clip-path=\"url(#p2d10672c5e)\" d=\"M 200.306625 224.64 \r\nL 253.874625 224.64 \r\nL 253.874625 17.554286 \r\nL 200.306625 17.554286 \r\nz\r\n\" style=\"fill:#3a923a;\"/>\r\n   </g>\r\n   <g id=\"patch_6\">\r\n    <path clip-path=\"url(#p2d10672c5e)\" d=\"M 267.266625 224.64 \r\nL 320.834625 224.64 \r\nL 320.834625 210.874722 \r\nL 267.266625 210.874722 \r\nz\r\n\" style=\"fill:#c03d3e;\"/>\r\n   </g>\r\n   <g id=\"patch_7\">\r\n    <path clip-path=\"url(#p2d10672c5e)\" d=\"M 334.226625 224.64 \r\nL 387.794625 224.64 \r\nL 387.794625 223.269491 \r\nL 334.226625 223.269491 \r\nz\r\n\" style=\"fill:#9372b2;\"/>\r\n   </g>\r\n   <g id=\"matplotlib.axis_1\">\r\n    <g id=\"xtick_1\">\r\n     <g id=\"line2d_1\">\r\n      <defs>\r\n       <path d=\"M 0 0 \r\nL 0 3.5 \r\n\" id=\"m699bcdefde\" style=\"stroke:#000000;stroke-width:0.8;\"/>\r\n      </defs>\r\n      <g>\r\n       <use style=\"stroke:#000000;stroke-width:0.8;\" x=\"93.170625\" xlink:href=\"#m699bcdefde\" y=\"224.64\"/>\r\n      </g>\r\n     </g>\r\n     <g id=\"text_1\">\r\n      <!-- Payment -->\r\n      <g transform=\"translate(71.281563 239.238437)scale(0.1 -0.1)\">\r\n       <defs>\r\n        <path d=\"M 1259 4147 \r\nL 1259 2394 \r\nL 2053 2394 \r\nQ 2494 2394 2734 2622 \r\nQ 2975 2850 2975 3272 \r\nQ 2975 3691 2734 3919 \r\nQ 2494 4147 2053 4147 \r\nL 1259 4147 \r\nz\r\nM 628 4666 \r\nL 2053 4666 \r\nQ 2838 4666 3239 4311 \r\nQ 3641 3956 3641 3272 \r\nQ 3641 2581 3239 2228 \r\nQ 2838 1875 2053 1875 \r\nL 1259 1875 \r\nL 1259 0 \r\nL 628 0 \r\nL 628 4666 \r\nz\r\n\" id=\"DejaVuSans-50\" transform=\"scale(0.015625)\"/>\r\n        <path d=\"M 2194 1759 \r\nQ 1497 1759 1228 1600 \r\nQ 959 1441 959 1056 \r\nQ 959 750 1161 570 \r\nQ 1363 391 1709 391 \r\nQ 2188 391 2477 730 \r\nQ 2766 1069 2766 1631 \r\nL 2766 1759 \r\nL 2194 1759 \r\nz\r\nM 3341 1997 \r\nL 3341 0 \r\nL 2766 0 \r\nL 2766 531 \r\nQ 2569 213 2275 61 \r\nQ 1981 -91 1556 -91 \r\nQ 1019 -91 701 211 \r\nQ 384 513 384 1019 \r\nQ 384 1609 779 1909 \r\nQ 1175 2209 1959 2209 \r\nL 2766 2209 \r\nL 2766 2266 \r\nQ 2766 2663 2505 2880 \r\nQ 2244 3097 1772 3097 \r\nQ 1472 3097 1187 3025 \r\nQ 903 2953 641 2809 \r\nL 641 3341 \r\nQ 956 3463 1253 3523 \r\nQ 1550 3584 1831 3584 \r\nQ 2591 3584 2966 3190 \r\nQ 3341 2797 3341 1997 \r\nz\r\n\" id=\"DejaVuSans-61\" transform=\"scale(0.015625)\"/>\r\n        <path d=\"M 2059 -325 \r\nQ 1816 -950 1584 -1140 \r\nQ 1353 -1331 966 -1331 \r\nL 506 -1331 \r\nL 506 -850 \r\nL 844 -850 \r\nQ 1081 -850 1212 -737 \r\nQ 1344 -625 1503 -206 \r\nL 1606 56 \r\nL 191 3500 \r\nL 800 3500 \r\nL 1894 763 \r\nL 2988 3500 \r\nL 3597 3500 \r\nL 2059 -325 \r\nz\r\n\" id=\"DejaVuSans-79\" transform=\"scale(0.015625)\"/>\r\n        <path d=\"M 3328 2828 \r\nQ 3544 3216 3844 3400 \r\nQ 4144 3584 4550 3584 \r\nQ 5097 3584 5394 3201 \r\nQ 5691 2819 5691 2113 \r\nL 5691 0 \r\nL 5113 0 \r\nL 5113 2094 \r\nQ 5113 2597 4934 2840 \r\nQ 4756 3084 4391 3084 \r\nQ 3944 3084 3684 2787 \r\nQ 3425 2491 3425 1978 \r\nL 3425 0 \r\nL 2847 0 \r\nL 2847 2094 \r\nQ 2847 2600 2669 2842 \r\nQ 2491 3084 2119 3084 \r\nQ 1678 3084 1418 2786 \r\nQ 1159 2488 1159 1978 \r\nL 1159 0 \r\nL 581 0 \r\nL 581 3500 \r\nL 1159 3500 \r\nL 1159 2956 \r\nQ 1356 3278 1631 3431 \r\nQ 1906 3584 2284 3584 \r\nQ 2666 3584 2933 3390 \r\nQ 3200 3197 3328 2828 \r\nz\r\n\" id=\"DejaVuSans-6d\" transform=\"scale(0.015625)\"/>\r\n        <path d=\"M 3597 1894 \r\nL 3597 1613 \r\nL 953 1613 \r\nQ 991 1019 1311 708 \r\nQ 1631 397 2203 397 \r\nQ 2534 397 2845 478 \r\nQ 3156 559 3463 722 \r\nL 3463 178 \r\nQ 3153 47 2828 -22 \r\nQ 2503 -91 2169 -91 \r\nQ 1331 -91 842 396 \r\nQ 353 884 353 1716 \r\nQ 353 2575 817 3079 \r\nQ 1281 3584 2069 3584 \r\nQ 2775 3584 3186 3129 \r\nQ 3597 2675 3597 1894 \r\nz\r\nM 3022 2063 \r\nQ 3016 2534 2758 2815 \r\nQ 2500 3097 2075 3097 \r\nQ 1594 3097 1305 2825 \r\nQ 1016 2553 972 2059 \r\nL 3022 2063 \r\nz\r\n\" id=\"DejaVuSans-65\" transform=\"scale(0.015625)\"/>\r\n        <path d=\"M 3513 2113 \r\nL 3513 0 \r\nL 2938 0 \r\nL 2938 2094 \r\nQ 2938 2591 2744 2837 \r\nQ 2550 3084 2163 3084 \r\nQ 1697 3084 1428 2787 \r\nQ 1159 2491 1159 1978 \r\nL 1159 0 \r\nL 581 0 \r\nL 581 3500 \r\nL 1159 3500 \r\nL 1159 2956 \r\nQ 1366 3272 1645 3428 \r\nQ 1925 3584 2291 3584 \r\nQ 2894 3584 3203 3211 \r\nQ 3513 2838 3513 2113 \r\nz\r\n\" id=\"DejaVuSans-6e\" transform=\"scale(0.015625)\"/>\r\n        <path d=\"M 1172 4494 \r\nL 1172 3500 \r\nL 2356 3500 \r\nL 2356 3053 \r\nL 1172 3053 \r\nL 1172 1153 \r\nQ 1172 725 1289 603 \r\nQ 1406 481 1766 481 \r\nL 2356 481 \r\nL 2356 0 \r\nL 1766 0 \r\nQ 1100 0 847 248 \r\nQ 594 497 594 1153 \r\nL 594 3053 \r\nL 172 3053 \r\nL 172 3500 \r\nL 594 3500 \r\nL 594 4494 \r\nL 1172 4494 \r\nz\r\n\" id=\"DejaVuSans-74\" transform=\"scale(0.015625)\"/>\r\n       </defs>\r\n       <use xlink:href=\"#DejaVuSans-50\"/>\r\n       <use x=\"55.802734\" xlink:href=\"#DejaVuSans-61\"/>\r\n       <use x=\"117.082031\" xlink:href=\"#DejaVuSans-79\"/>\r\n       <use x=\"176.261719\" xlink:href=\"#DejaVuSans-6d\"/>\r\n       <use x=\"273.673828\" xlink:href=\"#DejaVuSans-65\"/>\r\n       <use x=\"335.197266\" xlink:href=\"#DejaVuSans-6e\"/>\r\n       <use x=\"398.576172\" xlink:href=\"#DejaVuSans-74\"/>\r\n      </g>\r\n     </g>\r\n    </g>\r\n    <g id=\"xtick_2\">\r\n     <g id=\"line2d_2\">\r\n      <g>\r\n       <use style=\"stroke:#000000;stroke-width:0.8;\" x=\"160.130625\" xlink:href=\"#m699bcdefde\" y=\"224.64\"/>\r\n      </g>\r\n     </g>\r\n     <g id=\"text_2\">\r\n      <!-- Logistics -->\r\n      <g transform=\"translate(138.501719 239.238437)scale(0.1 -0.1)\">\r\n       <defs>\r\n        <path d=\"M 628 4666 \r\nL 1259 4666 \r\nL 1259 531 \r\nL 3531 531 \r\nL 3531 0 \r\nL 628 0 \r\nL 628 4666 \r\nz\r\n\" id=\"DejaVuSans-4c\" transform=\"scale(0.015625)\"/>\r\n        <path d=\"M 1959 3097 \r\nQ 1497 3097 1228 2736 \r\nQ 959 2375 959 1747 \r\nQ 959 1119 1226 758 \r\nQ 1494 397 1959 397 \r\nQ 2419 397 2687 759 \r\nQ 2956 1122 2956 1747 \r\nQ 2956 2369 2687 2733 \r\nQ 2419 3097 1959 3097 \r\nz\r\nM 1959 3584 \r\nQ 2709 3584 3137 3096 \r\nQ 3566 2609 3566 1747 \r\nQ 3566 888 3137 398 \r\nQ 2709 -91 1959 -91 \r\nQ 1206 -91 779 398 \r\nQ 353 888 353 1747 \r\nQ 353 2609 779 3096 \r\nQ 1206 3584 1959 3584 \r\nz\r\n\" id=\"DejaVuSans-6f\" transform=\"scale(0.015625)\"/>\r\n        <path d=\"M 2906 1791 \r\nQ 2906 2416 2648 2759 \r\nQ 2391 3103 1925 3103 \r\nQ 1463 3103 1205 2759 \r\nQ 947 2416 947 1791 \r\nQ 947 1169 1205 825 \r\nQ 1463 481 1925 481 \r\nQ 2391 481 2648 825 \r\nQ 2906 1169 2906 1791 \r\nz\r\nM 3481 434 \r\nQ 3481 -459 3084 -895 \r\nQ 2688 -1331 1869 -1331 \r\nQ 1566 -1331 1297 -1286 \r\nQ 1028 -1241 775 -1147 \r\nL 775 -588 \r\nQ 1028 -725 1275 -790 \r\nQ 1522 -856 1778 -856 \r\nQ 2344 -856 2625 -561 \r\nQ 2906 -266 2906 331 \r\nL 2906 616 \r\nQ 2728 306 2450 153 \r\nQ 2172 0 1784 0 \r\nQ 1141 0 747 490 \r\nQ 353 981 353 1791 \r\nQ 353 2603 747 3093 \r\nQ 1141 3584 1784 3584 \r\nQ 2172 3584 2450 3431 \r\nQ 2728 3278 2906 2969 \r\nL 2906 3500 \r\nL 3481 3500 \r\nL 3481 434 \r\nz\r\n\" id=\"DejaVuSans-67\" transform=\"scale(0.015625)\"/>\r\n        <path d=\"M 603 3500 \r\nL 1178 3500 \r\nL 1178 0 \r\nL 603 0 \r\nL 603 3500 \r\nz\r\nM 603 4863 \r\nL 1178 4863 \r\nL 1178 4134 \r\nL 603 4134 \r\nL 603 4863 \r\nz\r\n\" id=\"DejaVuSans-69\" transform=\"scale(0.015625)\"/>\r\n        <path d=\"M 2834 3397 \r\nL 2834 2853 \r\nQ 2591 2978 2328 3040 \r\nQ 2066 3103 1784 3103 \r\nQ 1356 3103 1142 2972 \r\nQ 928 2841 928 2578 \r\nQ 928 2378 1081 2264 \r\nQ 1234 2150 1697 2047 \r\nL 1894 2003 \r\nQ 2506 1872 2764 1633 \r\nQ 3022 1394 3022 966 \r\nQ 3022 478 2636 193 \r\nQ 2250 -91 1575 -91 \r\nQ 1294 -91 989 -36 \r\nQ 684 19 347 128 \r\nL 347 722 \r\nQ 666 556 975 473 \r\nQ 1284 391 1588 391 \r\nQ 1994 391 2212 530 \r\nQ 2431 669 2431 922 \r\nQ 2431 1156 2273 1281 \r\nQ 2116 1406 1581 1522 \r\nL 1381 1569 \r\nQ 847 1681 609 1914 \r\nQ 372 2147 372 2553 \r\nQ 372 3047 722 3315 \r\nQ 1072 3584 1716 3584 \r\nQ 2034 3584 2315 3537 \r\nQ 2597 3491 2834 3397 \r\nz\r\n\" id=\"DejaVuSans-73\" transform=\"scale(0.015625)\"/>\r\n        <path d=\"M 3122 3366 \r\nL 3122 2828 \r\nQ 2878 2963 2633 3030 \r\nQ 2388 3097 2138 3097 \r\nQ 1578 3097 1268 2742 \r\nQ 959 2388 959 1747 \r\nQ 959 1106 1268 751 \r\nQ 1578 397 2138 397 \r\nQ 2388 397 2633 464 \r\nQ 2878 531 3122 666 \r\nL 3122 134 \r\nQ 2881 22 2623 -34 \r\nQ 2366 -91 2075 -91 \r\nQ 1284 -91 818 406 \r\nQ 353 903 353 1747 \r\nQ 353 2603 823 3093 \r\nQ 1294 3584 2113 3584 \r\nQ 2378 3584 2631 3529 \r\nQ 2884 3475 3122 3366 \r\nz\r\n\" id=\"DejaVuSans-63\" transform=\"scale(0.015625)\"/>\r\n       </defs>\r\n       <use xlink:href=\"#DejaVuSans-4c\"/>\r\n       <use x=\"53.962891\" xlink:href=\"#DejaVuSans-6f\"/>\r\n       <use x=\"115.144531\" xlink:href=\"#DejaVuSans-67\"/>\r\n       <use x=\"178.621094\" xlink:href=\"#DejaVuSans-69\"/>\r\n       <use x=\"206.404297\" xlink:href=\"#DejaVuSans-73\"/>\r\n       <use x=\"258.503906\" xlink:href=\"#DejaVuSans-74\"/>\r\n       <use x=\"297.712891\" xlink:href=\"#DejaVuSans-69\"/>\r\n       <use x=\"325.496094\" xlink:href=\"#DejaVuSans-63\"/>\r\n       <use x=\"380.476562\" xlink:href=\"#DejaVuSans-73\"/>\r\n      </g>\r\n     </g>\r\n    </g>\r\n    <g id=\"xtick_3\">\r\n     <g id=\"line2d_3\">\r\n      <g>\r\n       <use style=\"stroke:#000000;stroke-width:0.8;\" x=\"227.090625\" xlink:href=\"#m699bcdefde\" y=\"224.64\"/>\r\n      </g>\r\n     </g>\r\n     <g id=\"text_3\">\r\n      <!-- Other -->\r\n      <g transform=\"translate(212.89375 239.238437)scale(0.1 -0.1)\">\r\n       <defs>\r\n        <path d=\"M 2522 4238 \r\nQ 1834 4238 1429 3725 \r\nQ 1025 3213 1025 2328 \r\nQ 1025 1447 1429 934 \r\nQ 1834 422 2522 422 \r\nQ 3209 422 3611 934 \r\nQ 4013 1447 4013 2328 \r\nQ 4013 3213 3611 3725 \r\nQ 3209 4238 2522 4238 \r\nz\r\nM 2522 4750 \r\nQ 3503 4750 4090 4092 \r\nQ 4678 3434 4678 2328 \r\nQ 4678 1225 4090 567 \r\nQ 3503 -91 2522 -91 \r\nQ 1538 -91 948 565 \r\nQ 359 1222 359 2328 \r\nQ 359 3434 948 4092 \r\nQ 1538 4750 2522 4750 \r\nz\r\n\" id=\"DejaVuSans-4f\" transform=\"scale(0.015625)\"/>\r\n        <path d=\"M 3513 2113 \r\nL 3513 0 \r\nL 2938 0 \r\nL 2938 2094 \r\nQ 2938 2591 2744 2837 \r\nQ 2550 3084 2163 3084 \r\nQ 1697 3084 1428 2787 \r\nQ 1159 2491 1159 1978 \r\nL 1159 0 \r\nL 581 0 \r\nL 581 4863 \r\nL 1159 4863 \r\nL 1159 2956 \r\nQ 1366 3272 1645 3428 \r\nQ 1925 3584 2291 3584 \r\nQ 2894 3584 3203 3211 \r\nQ 3513 2838 3513 2113 \r\nz\r\n\" id=\"DejaVuSans-68\" transform=\"scale(0.015625)\"/>\r\n        <path d=\"M 2631 2963 \r\nQ 2534 3019 2420 3045 \r\nQ 2306 3072 2169 3072 \r\nQ 1681 3072 1420 2755 \r\nQ 1159 2438 1159 1844 \r\nL 1159 0 \r\nL 581 0 \r\nL 581 3500 \r\nL 1159 3500 \r\nL 1159 2956 \r\nQ 1341 3275 1631 3429 \r\nQ 1922 3584 2338 3584 \r\nQ 2397 3584 2469 3576 \r\nQ 2541 3569 2628 3553 \r\nL 2631 2963 \r\nz\r\n\" id=\"DejaVuSans-72\" transform=\"scale(0.015625)\"/>\r\n       </defs>\r\n       <use xlink:href=\"#DejaVuSans-4f\"/>\r\n       <use x=\"78.710938\" xlink:href=\"#DejaVuSans-74\"/>\r\n       <use x=\"117.919922\" xlink:href=\"#DejaVuSans-68\"/>\r\n       <use x=\"181.298828\" xlink:href=\"#DejaVuSans-65\"/>\r\n       <use x=\"242.822266\" xlink:href=\"#DejaVuSans-72\"/>\r\n      </g>\r\n     </g>\r\n    </g>\r\n    <g id=\"xtick_4\">\r\n     <g id=\"line2d_4\">\r\n      <g>\r\n       <use style=\"stroke:#000000;stroke-width:0.8;\" x=\"294.050625\" xlink:href=\"#m699bcdefde\" y=\"224.64\"/>\r\n      </g>\r\n     </g>\r\n     <g id=\"text_4\">\r\n      <!-- Fit -->\r\n      <g transform=\"translate(288.188125 239.238437)scale(0.1 -0.1)\">\r\n       <defs>\r\n        <path d=\"M 628 4666 \r\nL 3309 4666 \r\nL 3309 4134 \r\nL 1259 4134 \r\nL 1259 2759 \r\nL 3109 2759 \r\nL 3109 2228 \r\nL 1259 2228 \r\nL 1259 0 \r\nL 628 0 \r\nL 628 4666 \r\nz\r\n\" id=\"DejaVuSans-46\" transform=\"scale(0.015625)\"/>\r\n       </defs>\r\n       <use xlink:href=\"#DejaVuSans-46\"/>\r\n       <use x=\"50.269531\" xlink:href=\"#DejaVuSans-69\"/>\r\n       <use x=\"78.052734\" xlink:href=\"#DejaVuSans-74\"/>\r\n      </g>\r\n     </g>\r\n    </g>\r\n    <g id=\"xtick_5\">\r\n     <g id=\"line2d_5\">\r\n      <g>\r\n       <use style=\"stroke:#000000;stroke-width:0.8;\" x=\"361.010625\" xlink:href=\"#m699bcdefde\" y=\"224.64\"/>\r\n      </g>\r\n     </g>\r\n     <g id=\"text_5\">\r\n      <!-- Weather -->\r\n      <g transform=\"translate(339.959063 239.238437)scale(0.1 -0.1)\">\r\n       <defs>\r\n        <path d=\"M 213 4666 \r\nL 850 4666 \r\nL 1831 722 \r\nL 2809 4666 \r\nL 3519 4666 \r\nL 4500 722 \r\nL 5478 4666 \r\nL 6119 4666 \r\nL 4947 0 \r\nL 4153 0 \r\nL 3169 4050 \r\nL 2175 0 \r\nL 1381 0 \r\nL 213 4666 \r\nz\r\n\" id=\"DejaVuSans-57\" transform=\"scale(0.015625)\"/>\r\n       </defs>\r\n       <use xlink:href=\"#DejaVuSans-57\"/>\r\n       <use x=\"93.001953\" xlink:href=\"#DejaVuSans-65\"/>\r\n       <use x=\"154.525391\" xlink:href=\"#DejaVuSans-61\"/>\r\n       <use x=\"215.804688\" xlink:href=\"#DejaVuSans-74\"/>\r\n       <use x=\"255.013672\" xlink:href=\"#DejaVuSans-68\"/>\r\n       <use x=\"318.392578\" xlink:href=\"#DejaVuSans-65\"/>\r\n       <use x=\"379.916016\" xlink:href=\"#DejaVuSans-72\"/>\r\n      </g>\r\n     </g>\r\n    </g>\r\n    <g id=\"text_6\">\r\n     <!-- team -->\r\n     <g transform=\"translate(214.119531 252.916562)scale(0.1 -0.1)\">\r\n      <use xlink:href=\"#DejaVuSans-74\"/>\r\n      <use x=\"39.208984\" xlink:href=\"#DejaVuSans-65\"/>\r\n      <use x=\"100.732422\" xlink:href=\"#DejaVuSans-61\"/>\r\n      <use x=\"162.011719\" xlink:href=\"#DejaVuSans-6d\"/>\r\n     </g>\r\n    </g>\r\n   </g>\r\n   <g id=\"matplotlib.axis_2\">\r\n    <g id=\"ytick_1\">\r\n     <g id=\"line2d_6\">\r\n      <defs>\r\n       <path d=\"M 0 0 \r\nL -3.5 0 \r\n\" id=\"mc2765a24e9\" style=\"stroke:#000000;stroke-width:0.8;\"/>\r\n      </defs>\r\n      <g>\r\n       <use style=\"stroke:#000000;stroke-width:0.8;\" x=\"59.690625\" xlink:href=\"#mc2765a24e9\" y=\"224.64\"/>\r\n      </g>\r\n     </g>\r\n     <g id=\"text_7\">\r\n      <!-- 0 -->\r\n      <g transform=\"translate(46.328125 228.439219)scale(0.1 -0.1)\">\r\n       <defs>\r\n        <path d=\"M 2034 4250 \r\nQ 1547 4250 1301 3770 \r\nQ 1056 3291 1056 2328 \r\nQ 1056 1369 1301 889 \r\nQ 1547 409 2034 409 \r\nQ 2525 409 2770 889 \r\nQ 3016 1369 3016 2328 \r\nQ 3016 3291 2770 3770 \r\nQ 2525 4250 2034 4250 \r\nz\r\nM 2034 4750 \r\nQ 2819 4750 3233 4129 \r\nQ 3647 3509 3647 2328 \r\nQ 3647 1150 3233 529 \r\nQ 2819 -91 2034 -91 \r\nQ 1250 -91 836 529 \r\nQ 422 1150 422 2328 \r\nQ 422 3509 836 4129 \r\nQ 1250 4750 2034 4750 \r\nz\r\n\" id=\"DejaVuSans-30\" transform=\"scale(0.015625)\"/>\r\n       </defs>\r\n       <use xlink:href=\"#DejaVuSans-30\"/>\r\n      </g>\r\n     </g>\r\n    </g>\r\n    <g id=\"ytick_2\">\r\n     <g id=\"line2d_7\">\r\n      <g>\r\n       <use style=\"stroke:#000000;stroke-width:0.8;\" x=\"59.690625\" xlink:href=\"#mc2765a24e9\" y=\"178.339031\"/>\r\n      </g>\r\n     </g>\r\n     <g id=\"text_8\">\r\n      <!-- 10000 -->\r\n      <g transform=\"translate(20.878125 182.13825)scale(0.1 -0.1)\">\r\n       <defs>\r\n        <path d=\"M 794 531 \r\nL 1825 531 \r\nL 1825 4091 \r\nL 703 3866 \r\nL 703 4441 \r\nL 1819 4666 \r\nL 2450 4666 \r\nL 2450 531 \r\nL 3481 531 \r\nL 3481 0 \r\nL 794 0 \r\nL 794 531 \r\nz\r\n\" id=\"DejaVuSans-31\" transform=\"scale(0.015625)\"/>\r\n       </defs>\r\n       <use xlink:href=\"#DejaVuSans-31\"/>\r\n       <use x=\"63.623047\" xlink:href=\"#DejaVuSans-30\"/>\r\n       <use x=\"127.246094\" xlink:href=\"#DejaVuSans-30\"/>\r\n       <use x=\"190.869141\" xlink:href=\"#DejaVuSans-30\"/>\r\n       <use x=\"254.492188\" xlink:href=\"#DejaVuSans-30\"/>\r\n      </g>\r\n     </g>\r\n    </g>\r\n    <g id=\"ytick_3\">\r\n     <g id=\"line2d_8\">\r\n      <g>\r\n       <use style=\"stroke:#000000;stroke-width:0.8;\" x=\"59.690625\" xlink:href=\"#mc2765a24e9\" y=\"132.038062\"/>\r\n      </g>\r\n     </g>\r\n     <g id=\"text_9\">\r\n      <!-- 20000 -->\r\n      <g transform=\"translate(20.878125 135.837281)scale(0.1 -0.1)\">\r\n       <defs>\r\n        <path d=\"M 1228 531 \r\nL 3431 531 \r\nL 3431 0 \r\nL 469 0 \r\nL 469 531 \r\nQ 828 903 1448 1529 \r\nQ 2069 2156 2228 2338 \r\nQ 2531 2678 2651 2914 \r\nQ 2772 3150 2772 3378 \r\nQ 2772 3750 2511 3984 \r\nQ 2250 4219 1831 4219 \r\nQ 1534 4219 1204 4116 \r\nQ 875 4013 500 3803 \r\nL 500 4441 \r\nQ 881 4594 1212 4672 \r\nQ 1544 4750 1819 4750 \r\nQ 2544 4750 2975 4387 \r\nQ 3406 4025 3406 3419 \r\nQ 3406 3131 3298 2873 \r\nQ 3191 2616 2906 2266 \r\nQ 2828 2175 2409 1742 \r\nQ 1991 1309 1228 531 \r\nz\r\n\" id=\"DejaVuSans-32\" transform=\"scale(0.015625)\"/>\r\n       </defs>\r\n       <use xlink:href=\"#DejaVuSans-32\"/>\r\n       <use x=\"63.623047\" xlink:href=\"#DejaVuSans-30\"/>\r\n       <use x=\"127.246094\" xlink:href=\"#DejaVuSans-30\"/>\r\n       <use x=\"190.869141\" xlink:href=\"#DejaVuSans-30\"/>\r\n       <use x=\"254.492188\" xlink:href=\"#DejaVuSans-30\"/>\r\n      </g>\r\n     </g>\r\n    </g>\r\n    <g id=\"ytick_4\">\r\n     <g id=\"line2d_9\">\r\n      <g>\r\n       <use style=\"stroke:#000000;stroke-width:0.8;\" x=\"59.690625\" xlink:href=\"#mc2765a24e9\" y=\"85.737093\"/>\r\n      </g>\r\n     </g>\r\n     <g id=\"text_10\">\r\n      <!-- 30000 -->\r\n      <g transform=\"translate(20.878125 89.536312)scale(0.1 -0.1)\">\r\n       <defs>\r\n        <path d=\"M 2597 2516 \r\nQ 3050 2419 3304 2112 \r\nQ 3559 1806 3559 1356 \r\nQ 3559 666 3084 287 \r\nQ 2609 -91 1734 -91 \r\nQ 1441 -91 1130 -33 \r\nQ 819 25 488 141 \r\nL 488 750 \r\nQ 750 597 1062 519 \r\nQ 1375 441 1716 441 \r\nQ 2309 441 2620 675 \r\nQ 2931 909 2931 1356 \r\nQ 2931 1769 2642 2001 \r\nQ 2353 2234 1838 2234 \r\nL 1294 2234 \r\nL 1294 2753 \r\nL 1863 2753 \r\nQ 2328 2753 2575 2939 \r\nQ 2822 3125 2822 3475 \r\nQ 2822 3834 2567 4026 \r\nQ 2313 4219 1838 4219 \r\nQ 1578 4219 1281 4162 \r\nQ 984 4106 628 3988 \r\nL 628 4550 \r\nQ 988 4650 1302 4700 \r\nQ 1616 4750 1894 4750 \r\nQ 2613 4750 3031 4423 \r\nQ 3450 4097 3450 3541 \r\nQ 3450 3153 3228 2886 \r\nQ 3006 2619 2597 2516 \r\nz\r\n\" id=\"DejaVuSans-33\" transform=\"scale(0.015625)\"/>\r\n       </defs>\r\n       <use xlink:href=\"#DejaVuSans-33\"/>\r\n       <use x=\"63.623047\" xlink:href=\"#DejaVuSans-30\"/>\r\n       <use x=\"127.246094\" xlink:href=\"#DejaVuSans-30\"/>\r\n       <use x=\"190.869141\" xlink:href=\"#DejaVuSans-30\"/>\r\n       <use x=\"254.492188\" xlink:href=\"#DejaVuSans-30\"/>\r\n      </g>\r\n     </g>\r\n    </g>\r\n    <g id=\"ytick_5\">\r\n     <g id=\"line2d_10\">\r\n      <g>\r\n       <use style=\"stroke:#000000;stroke-width:0.8;\" x=\"59.690625\" xlink:href=\"#mc2765a24e9\" y=\"39.436124\"/>\r\n      </g>\r\n     </g>\r\n     <g id=\"text_11\">\r\n      <!-- 40000 -->\r\n      <g transform=\"translate(20.878125 43.235342)scale(0.1 -0.1)\">\r\n       <defs>\r\n        <path d=\"M 2419 4116 \r\nL 825 1625 \r\nL 2419 1625 \r\nL 2419 4116 \r\nz\r\nM 2253 4666 \r\nL 3047 4666 \r\nL 3047 1625 \r\nL 3713 1625 \r\nL 3713 1100 \r\nL 3047 1100 \r\nL 3047 0 \r\nL 2419 0 \r\nL 2419 1100 \r\nL 313 1100 \r\nL 313 1709 \r\nL 2253 4666 \r\nz\r\n\" id=\"DejaVuSans-34\" transform=\"scale(0.015625)\"/>\r\n       </defs>\r\n       <use xlink:href=\"#DejaVuSans-34\"/>\r\n       <use x=\"63.623047\" xlink:href=\"#DejaVuSans-30\"/>\r\n       <use x=\"127.246094\" xlink:href=\"#DejaVuSans-30\"/>\r\n       <use x=\"190.869141\" xlink:href=\"#DejaVuSans-30\"/>\r\n       <use x=\"254.492188\" xlink:href=\"#DejaVuSans-30\"/>\r\n      </g>\r\n     </g>\r\n    </g>\r\n    <g id=\"text_12\">\r\n     <!-- count -->\r\n     <g transform=\"translate(14.798438 130.02625)rotate(-90)scale(0.1 -0.1)\">\r\n      <defs>\r\n       <path d=\"M 544 1381 \r\nL 544 3500 \r\nL 1119 3500 \r\nL 1119 1403 \r\nQ 1119 906 1312 657 \r\nQ 1506 409 1894 409 \r\nQ 2359 409 2629 706 \r\nQ 2900 1003 2900 1516 \r\nL 2900 3500 \r\nL 3475 3500 \r\nL 3475 0 \r\nL 2900 0 \r\nL 2900 538 \r\nQ 2691 219 2414 64 \r\nQ 2138 -91 1772 -91 \r\nQ 1169 -91 856 284 \r\nQ 544 659 544 1381 \r\nz\r\nM 1991 3584 \r\nL 1991 3584 \r\nz\r\n\" id=\"DejaVuSans-75\" transform=\"scale(0.015625)\"/>\r\n      </defs>\r\n      <use xlink:href=\"#DejaVuSans-63\"/>\r\n      <use x=\"54.980469\" xlink:href=\"#DejaVuSans-6f\"/>\r\n      <use x=\"116.162109\" xlink:href=\"#DejaVuSans-75\"/>\r\n      <use x=\"179.541016\" xlink:href=\"#DejaVuSans-6e\"/>\r\n      <use x=\"242.919922\" xlink:href=\"#DejaVuSans-74\"/>\r\n     </g>\r\n    </g>\r\n   </g>\r\n   <g id=\"patch_8\">\r\n    <path d=\"M 59.690625 224.64 \r\nL 59.690625 7.2 \r\n\" style=\"fill:none;stroke:#000000;stroke-linecap:square;stroke-linejoin:miter;stroke-width:0.8;\"/>\r\n   </g>\r\n   <g id=\"patch_9\">\r\n    <path d=\"M 394.490625 224.64 \r\nL 394.490625 7.2 \r\n\" style=\"fill:none;stroke:#000000;stroke-linecap:square;stroke-linejoin:miter;stroke-width:0.8;\"/>\r\n   </g>\r\n   <g id=\"patch_10\">\r\n    <path d=\"M 59.690625 224.64 \r\nL 394.490625 224.64 \r\n\" style=\"fill:none;stroke:#000000;stroke-linecap:square;stroke-linejoin:miter;stroke-width:0.8;\"/>\r\n   </g>\r\n   <g id=\"patch_11\">\r\n    <path d=\"M 59.690625 7.2 \r\nL 394.490625 7.2 \r\n\" style=\"fill:none;stroke:#000000;stroke-linecap:square;stroke-linejoin:miter;stroke-width:0.8;\"/>\r\n   </g>\r\n  </g>\r\n </g>\r\n <defs>\r\n  <clipPath id=\"p2d10672c5e\">\r\n   <rect height=\"217.44\" width=\"334.8\" x=\"59.690625\" y=\"7.2\"/>\r\n  </clipPath>\r\n </defs>\r\n</svg>\r\n",
      "image/png": "[encoded data removed]"
     },
     "metadata": {
      "needs_background": "light"
     }
    }
   ],
   "source": [
    "sns.countplot(data=teams, x='team')"
   ]
  }
 ]
}