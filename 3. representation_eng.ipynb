{
 "metadata": {
  "language_info": {
   "codemirror_mode": {
    "name": "ipython",
    "version": 3
   },
   "file_extension": ".py",
   "mimetype": "text/x-python",
   "name": "python",
   "nbconvert_exporter": "python",
   "pygments_lexer": "ipython3",
   "version": "3.7.10"
  },
  "orig_nbformat": 2,
  "kernelspec": {
   "name": "python3710jvsc74a57bd022a63b945ad88ad6aa60a7f3f570c70abf6faa8a03284077614716ef20649993",
   "display_name": "Python 3.7.10 64-bit ('uni': conda)"
  }
 },
 "nbformat": 4,
 "nbformat_minor": 2,
 "cells": [
  {
   "cell_type": "code",
   "execution_count": 70,
   "metadata": {},
   "outputs": [
    {
     "output_type": "stream",
     "name": "stdout",
     "text": [
      "Downloading emoji data ...\n",
      "[nltk_data] Downloading package stopwords to\n",
      "[nltk_data]     C:\\Users\\home\\AppData\\Roaming\\nltk_data...\n",
      "[nltk_data]   Package stopwords is already up-to-date!\n",
      "[nltk_data] Downloading package punkt to\n",
      "[nltk_data]     C:\\Users\\home\\AppData\\Roaming\\nltk_data...\n",
      "[nltk_data]   Package punkt is already up-to-date!\n",
      "... OK (Got response in 0.62 seconds)\n",
      "Writing emoji data to C:\\Users\\home\\.demoji\\codes.json ...\n",
      "... OK\n",
      "Downloading emoji data ...\n",
      "... OK (Got response in 0.51 seconds)\n",
      "Writing emoji data to C:\\Users\\home\\.demoji\\codes.json ...\n",
      "... OK\n"
     ]
    }
   ],
   "source": [
    "import sys\n",
    "sys.path.append('../')\n",
    "import functions\n",
    "exec(open('./functions.py').read())\n",
    "\n",
    "demoji.download_codes()"
   ]
  },
  {
   "cell_type": "code",
   "execution_count": 10,
   "metadata": {},
   "outputs": [],
   "source": [
    "#load labelled data (generated in file 2.preprocessing)\r\n",
    "data = pickle.load(open('eng_df_labelled.pkl', \"rb\"))"
   ]
  },
  {
   "cell_type": "code",
   "execution_count": 12,
   "metadata": {},
   "outputs": [
    {
     "output_type": "execute_result",
     "data": {
      "text/plain": [
       "ry', 'asos'], tags=[853]),\n",
       " TaggedDocument(words=['I', 've', 'live', 'sweatpant', 'jammie', 'long', 'I', 've', 'go', 'asos', 'buy', 'bit', 'world', 'open', 'work', 'zero', 'idea', 'style', 'anymore'], tags=[854]),\n",
       " TaggedDocument(words=['amazing', 'friend'], tags=[855]),\n",
       " TaggedDocument(words=['it', '’', 'birth', 'week', 'cry', 'face', 'face', 'blowing', 'kiss'], tags=[856]),\n",
       " TaggedDocument(words=['wing', 'way', 'asos', 'today', 'wear', 'black', 'legging', 'shirt', 'laptop'], tags=[857]),\n",
       " TaggedDocument(words=['nordstrom', 'asos', 'want', 'build', 'powerful', 'partnership', 'topshop', 'plan'], tags=[858]),\n",
       " TaggedDocument(words=['joke', 'parcel'], tags=[859]),\n",
       " TaggedDocument(words=['spend', 'entire', 'paycheck', 'asos', 'regularly', 'skull'], tags=[860]),\n",
       " TaggedDocument(words=['apparently', 'converse', 'want', 'asos', 'shipping', 'restriction', 'smh'], tags=[861]),\n",
       " TaggedDocument(words=['would', 'n’t', 'add', 'wardrobe', 'need', 'basic'], tags=[862]),\n",
       " TaggedDocument(words=['I', '’ve', 'stare', 'asos', 'basket', 'day', 'ca', 'n’t', 'press'], tags=[863]),\n",
       " TaggedDocument(words=['gift', 'card', 'I', '’ll'], tags=[864]),\n",
       " TaggedDocument(words=['buy', 'dress', 'funeral', 'pay', 'delivery', 'today', 'thur', 'hasn', 'arrive', 'obviously', 'need', 'soon', 'order', 'help'], tags=[865]),\n",
       " TaggedDocument(words=['good', 'share', 'check', 'item', 'love', 'poshmark', 'fashion', 'style', 'shopmycloset', 'missguide', 'asos', 'hollister'], tags=[866]),\n",
       " TaggedDocument(words=['good', 'share', 'check', 'item', 'love', 'poshmark', 'fashion', 'style', 'shopmycloset', 'pendleton', 'asos', 'newbalance'], tags=[867]),\n",
       " TaggedDocument(words=['asos', 'stand', '\"', 'as', 'see', 'screen', '\"', 'explode', 'head', 'explode', 'head'], tags=[868]),\n",
       " TaggedDocument(words=['redundant'], tags=[869]),\n",
       " TaggedDocument(words=['disappointed', 'asos', 'customer', 'care', 'I', '’ve', 'contact', 'multiple', 'non', 'delivery', 'parcel', 'avail', 'like', 'asoscustomercareless'], tags=[870]),\n",
       " TaggedDocument(words=['spend', 'hour', 'asos', 'bored', 'need', 'refresh', 'closet', 'asostreatme'], tags=[871]),\n",
       " TaggedDocument(words=['genuinely', 'deserve', 'face', 'tear', 'joy', 'weary', 'face', 'glad'], tags=[872]),\n",
       " TaggedDocument(words=['asos', 'wanna', 'hour', 'look'], tags=[873]),\n",
       " TaggedDocument(words=['imma', 'start', 'youtube', 'thing', 'wanna', 'know', 'rise', 'short', 'blazer', 'shoe', 'face'], tags=[874]),\n",
       " TaggedDocument(words=['mum', 'let', 'know', 'dad', 'accidentally', 'sign', 'asos', 'parcel', 'parent', 'address', 'date', 'parcel', 'proceed'], tags=[875]),\n",
       " TaggedDocument(words=['good', 'little', 'fuck', 'asos', 'gift'], tags=[876]),\n",
       " TaggedDocument(words=['ruin', 'white', 'asos', 'sneaker', 'do', 'n’t', 'money', 'loudly', 'cry', 'face', 'loudly', 'cry', 'face'], tags=[877]),\n",
       " TaggedDocument(words=['I', '’ll', 'go', 'work', 'soon', 'maternity', 'leave', 'desperate', 'need', 'new', 'work', 'wardrobe', 'asostreatme'], tags=[878]),\n",
       " TaggedDocument(words=['totally', 'broken', 'home', 'schooling', 'loudly', 'cry', 'face'], tags=[879]),\n",
       " TaggedDocument(words=['buy', 'boot', 'end', 'year', 'recently', 'start', 'wear', 'expect', 'long', 'couple', 'week'], tags=[880]),\n",
       " TaggedDocument(words=['wait', 'bonus', 'stimmy', 'rolling', 'floor', 'laugh', 'rolling', 'floor', 'laugh', 'owkay', 'owkayclothe', 'asos', 'asosman', 'zeroclothinguk'], tags=[881]),\n",
       " TaggedDocument(words=['like', 'mom', 'jean', 'perfect', 'pair', 'asos', 'cut', 'bit', 'catch', 'completely', 'rip', 'get', 'year', 'ago', 'pair', 'try', 'hip', 'look', 'huge', 'do', 'n’t', 'weary', 'face'], tags=[882]),\n",
       " TaggedDocument(words=['number', 'impress', 'ceo'], tags=[883]),\n",
       " TaggedDocument(words=['cold', 'bay', 'pacd', 'asos', 'report', 'gust', 'knot', 'mph', 'sse', 'pacd', 'gkt', 'sct', 'ovc'], tags=[884]),\n",
       " TaggedDocument(words=['cold', 'bay', 'pacd', 'asos', 'report', 'gust', 'knot', 'mph', 'sse', 'pacd', 'gkt', 'sct', 'ovc'], tags=[885]),\n",
       " TaggedDocument(words=['cold', 'bay', 'pacd', 'asos', 'report', 'gust', 'knot', 'mph', 'sse', 'pacd', 'gkt', 'sct', 'ovc'], tags=[886]),\n",
       " TaggedDocument(words=['buy', 'clothe', 'fit', 'return', 'post', 'office', 'lady', 'hate', 'code', 'print', 'wish', 'fit'], tags=[887]),\n",
       " TaggedDocument(words=['haven', 'order', 'asos', 'long', 'thank', 'reminder'], tags=[888]),\n",
       " TaggedDocument(words=['work', 'way', 'pandemic', 'pay', 'tax', 'people', 'get', 'month', 'glorious', 'sunshine', 'sun', 'paleandskint', 'asostreatme'], tags=[889]),\n",
       " TaggedDocument(words=['chica', 'sparkle', 'star', 'strike', 'kiss', 'face', 'close', 'eye'], tags=[890]),\n",
       " TaggedDocument(words=['cold', 'bay', 'pacd', 'asos', 'report', 'gust', 'knot', 'mph', 'sse', 'pacd', 'gkt', 'ovc', 'rmk', 'wnd', 'presrr'], tags=[891]),\n",
       " TaggedDocument(words=['cold', 'bay', 'pacd', 'asos', 'report', 'gust', 'knot', 'mph', 'sse', 'pacd', 'gkt', 'ovc', 'rmk', 'wnd', 'presrr'], tags=[892]),\n",
       " TaggedDocument(words=['cold', 'bay', 'pacd', 'asos', 'report', 'gust', 'knot', 'mph', 'sse', 'pacd', 'gkt', 'ovc', 'rmk', 'wnd', 'presrr'], tags=[893]),\n",
       " TaggedDocument(words=['asos', 'jean', 'bad', 'fit', 'ca', 'n’t', 'pair', 'size', 'jean', 'wtf'], tags=[894]),\n",
       " TaggedDocument(words=['order', 'place', 'day', 'ago', 'premier', 'delivery', 'sign', 'come', 'real', 'example', 'asos', 'true', 'reality', 'harass', 'customer', 'make', 'wait', 'order'], tags=[895]),\n",
       " TaggedDocument(words=['let', 'model', 'wear', 'clothe', 'smile', 'face', 'heart'], tags=[896]),\n",
       " TaggedDocument(words=['deserve', 'asos', 'gift', 'voucher', 'buy', 'topshop', 'leave', 'unemployed', 'say', 'family', 'do', 'n’t', 'loyalty', 'discount', 'eye', 'asostreatme'], tags=[897]),\n",
       " TaggedDocument(words=['have', 'n’t', 'give', 'stripper'], tags=[898]),\n",
       " TaggedDocument(words=['deserve', 'asos', 'gift', 'voucher', 'I', 've', 'covid', 'face', 'thermometer', 'sweaty', 'pant', 'fit', 'fight', 'nail', 'polish', 'light', 'skin', 'tone', 'woman', 'light', 'skin', 'tone', 'blond', 'hair', 'woman', 'light', 'skin', 'tone', 'woman', 'light', 'skin', 'tone', '\\u200d', '🦰', 'asostreatme'], tags=[899]),\n",
       " TaggedDocument(words=['company', 'get', 'big', 'flip', 'service', 'standard', 'fall', 'low', 'level', 'real', 'nightmare', 'deal', 'shit', 'organisation'], tags=[900]),\n",
       " TaggedDocument(words=['wale', 'paiw', 'asos', 'report', 'gust', 'knot', 'mph', 'paiw', 'auto', 'gkt', 'fzfg', 'ovc', 'rmk', 'cig', 'presfr', 'slp', 'fzrano'], tags=[901]),\n",
       " TaggedDocument(words=['wale', 'paiw', 'asos', 'report', 'gust', 'knot', 'mph', 'paiw', 'auto', 'gkt', 'fzfg', 'ovc', 'rmk', 'cig', 'presfr', 'slp', 'fzrano'], tags=[902]),\n",
       " TaggedDocument(words=['wale', 'paiw', 'asos', 'report', 'gust', 'knot', 'mph', 'paiw', 'auto', 'gkt', 'fzfg', 'ovc', 'rmk', 'cig', 'presfr', 'slp', 'fzrano'], tags=[903]),\n",
       " TaggedDocument(words=['audacity', 'beth', 'word', 'think', 'friend', 'smillenialsarethebestmillenial'], tags=[904]),\n",
       " TaggedDocument(words=['bit', 'snack', 'lockdown', 'need', 'wardrobe', 'change', 'evil', 'monkey', 'smile', 'face', 'heart', 'eye'], tags=[905]),\n",
       " TaggedDocument(words=['ready', 'rock', 'new', 'jogger', 'friday', 'wfh', 'wardrobe', 'disappoint', 'right', 'face', 'tear', 'joy'], tags=[906]),\n",
       " TaggedDocument(words=['pocket', 'square', 'that', 's', 'requirement'], tags=[907]),\n",
       " TaggedDocument(words=['cold', 'bay', 'pacd', 'asos', 'report', 'gust', 'knot', 'mph', 'sse', 'pacd', 'gkt', 'sct', 'ovc'], tags=[908]),\n",
       " TaggedDocument(words=['cold', 'bay', 'pacd', 'asos', 'report', 'gust', 'knot', 'mph', 'sse', 'pacd', 'gkt', 'sct', 'ovc'], tags=[909]),\n",
       " TaggedDocument(words=['cold', 'bay', 'pacd', 'asos', 'report', 'gust', 'knot', 'mph', 'sse', 'pacd', 'gkt', 'sct', 'ovc'], tags=[910]),\n",
       " TaggedDocument(words=['payout', 'send', 'asos', 'order', 'smile', 'face', 'heart', 'smile', 'face', 'heart', 'smile', 'face', 'heart', 'smile', 'face', 'heart', 'smile', 'face', 'heart'], tags=[911]),\n",
       " TaggedDocument(words=['hey', 'receive', 'order', 'it', '’s', 'miss', 'item', 'contact', 'report', 'appreciate', 'money'], tags=[912]),\n",
       " TaggedDocument(words=['face', 'tear', 'joy', 'face', 'tear', 'joy', 'yeah', 'imagine', 'be', 'n’t'], tags=[913]),\n",
       " TaggedDocument(words=['feral', 'year', 'old', 'send', 'help', 'voucher', 'raise', 'hand'], tags=[914]),\n",
       " TaggedDocument(words=['guadalupe', 'pass', 'amos', 'gdp', 'asos', 'report', 'gust', 'knot', 'mph', 'wsw', 'kgdp', 'auto', 'gkt', 'clr', 'rmk', 'wnd', 'slp'], tags=[915]),\n",
       " TaggedDocument(words=['guadalupe', 'pass', 'amos', 'gdp', 'asos', 'report', 'gust', 'knot', 'mph', 'wsw', 'kgdp', 'auto', 'gkt', 'clr', 'rmk', 'wnd', 'slp'], tags=[916]),\n",
       " TaggedDocument(words=['guadalupe', 'pass', 'amos', 'gdp', 'asos', 'report', 'gust', 'knot', 'mph', 'wsw', 'kgdp', 'auto', 'gkt', 'clr', 'rmk', 'wnd', 'slp'], tags=[917]),\n",
       " TaggedDocument(words=['guadalupe', 'pass', 'amos', 'gdp', 'asos', 'report', 'gust', 'knot', 'mph', 'wsw', 'kgdp', 'auto', 'gkt', 'clr', 'rmk', 'wnd', 'slp'], tags=[918]),\n",
       " TaggedDocument(words=['I', '’m', 'actually', 'addict', 'window', 'shopping', 'boohoo', 'asos', 'ordering', 'need', 'save'], tags=[919]),\n",
       " TaggedDocument(words=['check', 'money', 'I', '’ve', 'spend', 'y’', 'all', 'asostreatme'], tags=[920]),\n",
       " TaggedDocument(words=['mount', 'washington', 'mwn', 'asos', 'report', 'gust', 'knot', 'mph', 'kmwn', 'gkt', 'fzfg', 'blsn', 'rmk', 'vry', 'lgt', 'icg', 'sun', 'dmly', 'vsbl'], tags=[921]),\n",
       " TaggedDocument(words=['mount', 'washington', 'mwn', 'asos', 'report', 'gust', 'knot', 'mph', 'kmwn', 'gkt', 'fzfg', 'blsn', 'rmk', 'vry', 'lgt', 'icg', 'sun', 'dmly', 'vsbl'], tags=[922]),\n",
       " TaggedDocument(words=['mount', 'washington', 'mwn', 'asos', 'report', 'gust', 'knot', 'mph', 'kmwn', 'gkt', 'fzfg', 'blsn', 'rmk', 'vry', 'lgt', 'icg', 'sun', 'dmly', 'vsbl'], tags=[923]),\n",
       " TaggedDocument(words=['twitter', 'direct', 'message', 'bank', 'utility', 'check', 'message', 'couple', 'time', 'day', 'thing', 'sort', 'fairly', 'quick', 'response', 'mean', 'organisation', 'complaint', 'good', 'measure'], tags=[924]),\n",
       " TaggedDocument(words=['world', 'away', 'leather', 'jogger'], tags=[925]),\n",
       " TaggedDocument(words=['joe', 'might', '’ve', 'wear', 'asttina', 'might', '’ve', 'wear', 'asos', 'queen', 'wear', 'quiz', 'runway', 'routine', 'relieve', 'face'], tags=[926]),\n",
       " TaggedDocument(words=['sis', 'take', 'makeup', 'clothe', 'help', 'girl', 'loudly', 'cry', 'face'], tags=[927]),\n",
       " TaggedDocument(words=['floral', 'dress', 'denim', 'dungaree', 'dress', 'baby', 'pink', 'jumper', 'woman', 'shrug', 'medium', 'light', 'skin', 'tone'], tags=[928]),\n",
       " TaggedDocument(words=['need', 'new', 'wardrobe', 'maternity', 'clothe', 'spring', 'summer', 'baby', 'medium', 'light', 'skin', 'tone'], tags=[929]),\n",
       " TaggedDocument(words=['wanna', 'know', 'order', 'knit', 'skirt', 'adida', 'popper', 'jogger', 'think', 'face', 'face', 'tear', 'joy'], tags=[930]),\n",
       " TaggedDocument(words=['spend', 'money', 'need', 'treat', 'plz', 'thank'], tags=[931]),\n",
       " TaggedDocument(words=['know', 'wink', 'face', 'tongue', 'promise', 'dress', 'amusement'], tags=[932]),\n",
       " TaggedDocument(words=['order', 'today', 'dpd', 'tracking', 'show', 'they', '’re', 'expect'], tags=[933]),\n",
       " TaggedDocument(words=['absolute', 'shit', 'service', 'asos', 'bad', 'people', 'deal', 'real', 'mixture', 'crap', 'organisation', 'shit', 'service'], tags=[934]),\n",
       " TaggedDocument(words=['need', 'rock', 'street', 'shift', 'hospital', 'clown', 'face', 'asostreatme'], tags=[935]),\n",
       " TaggedDocument(words=['know', 'entirely', 'idea', 'fact', 'happen'], tags=[936]),\n",
       " TaggedDocument(words=['I', '’ll', 'people', 'need', 'nerd', 'face', 'asostreatme'], tags=[937]),\n",
       " TaggedDocument(words=['mix', 'order', 'taste', 'could', 'n’t', 'different', 'think', 'horrified', 'leather', 'jogger', 'they', '’ve', 'receive', 'evil', 'monkey'], tags=[938]),\n",
       " TaggedDocument(words=['work', 'anymore', 'there', '’', 'asosnewhere', 'code'], tags=[939]),\n",
       " TaggedDocument(words=['ahh', 'thank', 'share', 'annoying', 'waste', 'money', 'cry', 'face', 'surprised', 'spend', 'arcadia', 'store'], tags=[940]),\n",
       " TaggedDocument(words=['email', 'confirm', 'asos', 'delivery', 'maisha', 'house', 'look', 'delivery', 'picture', 'pretend', 'I', '’m', 'walk', 'house'], tags=[941]),\n",
       " TaggedDocument(words=['save', 'asos', 'discount', 'sale', 'bestprice'], tags=[942]),\n",
       " TaggedDocument(words=['hello', 'need', 'help', 'asos', 'command'], tags=[943]),\n",
       " TaggedDocument(words=['new', 'asos', 'order', 'have', 'n’t', 'arrive', 'I', '’m', 'make', 'evil', 'monkey', 'issue'], tags=[944]),\n",
       " TaggedDocument(words=['marketing', 'connoisseur', 'repulse'], tags=[945]),\n",
       " TaggedDocument(words=['like', 'encourage', 'promo', 'code', 'asap'], tags=[946]),\n",
       " TaggedDocument(words=['see', 'asos', 'think', 'street', 'super', 'cute'], tags=[947]),\n",
       " TaggedDocument(words=['literally', 'unhelpful', 'pouting', 'face'], tags=[948]),\n",
       " TaggedDocument(words=['send', 'item', 'week', 'ago', 'I', '’m', 'get', 'late', 'fee', 'time', 'I', '’ve', 'write', 'email', 'I', '’ve', 'online', 'help', 'useless'], tags=[949]),\n",
       " TaggedDocument(words=['check', 'asos', 'they', '’re', 'cheap', 'nastygal'], tags=[950]),\n",
       " TaggedDocument(words=['exactly', 'zany', 'face', 'face', 'tear', 'joy'], tags=[951]),\n",
       " TaggedDocument(words=['tell'], tags=[952]),\n",
       " TaggedDocument(words=['tell'], tags=[953]),\n",
       " TaggedDocument(words=['think', 'savequick'], tags=[954]),\n",
       " TaggedDocument(words=['wait', 'favorite', 'sneaker', 'month', 'loudly', 'cry', 'face', 'guy', 'annoying', 'be', 'n’t', 'delivery', 'come', 'ca', 'n’t', 'track', 'bad', 'cause', 'there', '’s', 'track', 'awful'], tags=[955]),\n",
       " TaggedDocument(words=['asos', 'issue', 'resolve', 'customer', 'care', 'team', 'order', 'deliver', 'carrier', 'claim', 'response', 'dispute', 'asos', 'customer', 'year', 'time', 'issue', 'happen', 'help'], tags=[956]),\n",
       " TaggedDocument(words=['good', 'share', 'check', 'item', 'love', 'poshmark', 'fashion', 'style', 'shopmycloset', 'moschino', 'asos', 'louisvuitton'], tags=[957]),\n",
       " TaggedDocument(words=['plt', 'need', 'shein', 'asos', 'get', 'review'], tags=[958]),\n",
       " TaggedDocument(words=['code', 'use', 'mind'], tags=[959]),\n",
       " TaggedDocument(words=['what', '’', 'neutral', 'face'], tags=[960]),\n",
       " TaggedDocument(words=['I', '’ve', 'spread', 'good', 'word', 'wo', 'n’t', 'deet', 'botch', 'order', 'delivery', 'upset', 'rep', 'text', 'chat', 'check', '\"', 'strong', 'emotion', '\"', 'point', 'i', '’d'], tags=[961]),\n",
       " TaggedDocument(words=['wale', 'paiw', 'asos', 'report', 'gust', 'knot', 'mph', 'sse', 'paiw', 'auto', 'gkt', 'fzfg', 'ovc', 'rmk', 'cig', 'fzrano'], tags=[962]),\n",
       " TaggedDocument(words=['wale', 'paiw', 'asos', 'report', 'gust', 'knot', 'mph', 'sse', 'paiw', 'auto', 'gkt', 'fzfg', 'ovc', 'rmk', 'cig', 'fzrano'], tags=[963]),\n",
       " TaggedDocument(words=['wale', 'paiw', 'asos', 'report', 'gust', 'knot', 'mph', 'sse', 'paiw', 'auto', 'gkt', 'fzfg', 'ovc', 'rmk', 'cig', 'fzrano'], tags=[964]),\n",
       " TaggedDocument(words=['deserve', 'gift', 'voucher', 'barbie'], tags=[965]),\n",
       " TaggedDocument(words=['nice', 'hand'], tags=[966]),\n",
       " TaggedDocument(words=['deserve', 'asos', 'gift', 'voucher', 'need', 'buy', 'new', 'work', 'clothe', 'return', 'work', 'march', 'clap', 'hand', 'medium', 'skin', 'tone'], tags=[967]),\n",
       " TaggedDocument(words=['pay', 'premier', 'order', 'suppose', 'yesterday', 'receive', 'message', 'herme', 'door', 'face', 'roll', 'eye'], tags=[968]),\n",
       " TaggedDocument(words=['that', '’', 'fine', 'ca', 'n’t', 'fault', 'understand', 'alice', 'work', 'lockdown', 'pack', 'people', '’s', 'asos', 'order', 'grotty', 'warehouse', 'overlook', 'dual', 'carriageway', 'look', 'neighbour', 'window', 'morning', 'seeing', 'curtain', 'shut', 'scowling'], tags=[969]),\n",
       " TaggedDocument(words=['order', 'tomorrow', 'have', 'n’t', 'dispatch', 'I', '’ve', 'wait', 'long', 'cancel', 'premier', 'delivery', 'I', '’m', 'pay', 'normal', 'asos', 'asosdelivery'], tags=[970]),\n",
       " TaggedDocument(words=['code', 'asosnewtreat', 'wmn', 'asos', 'exclusive', 'new', 'balance', \"'\", 'navy', 'red’ad'], tags=[971]),\n",
       " TaggedDocument(words=['woman', 'asos', 'exclusive', 'new', 'balance', 'navy', 'red', 'use', 'code', 'asosnewtreat', 'new', 'account'], tags=[972]),\n",
       " TaggedDocument(words=['I', '’m', 'key', 'worker', 'work', 'pandemic', 'life', 'lil', 'espresso', 'drepresso'], tags=[973]),\n",
       " TaggedDocument(words=['asos', 'discount', 'code', 'use', 'plleeeeease'], tags=[974]),\n",
       " TaggedDocument(words=['coz', 'buy', 'week', 'let', 'win', 'asostreatme'], tags=[975]),\n",
       " TaggedDocument(words=['alright'], tags=[976]),\n",
       " TaggedDocument(words=['asos', 'return', 'time', 'parcel', 'order', 'update', 'help'], tags=[977]),\n",
       " TaggedDocument(words=['beg', 'ask', 'voucher', 'earn', 'money', 'buy', 'stuff', 'instead', 'desperate', 'ask', 'handout', 'pathetic', 'people', 'life'], tags=[978]),\n",
       " TaggedDocument(words=['mother', '’s', 'day', 'promo', 'definitely', 'need'], tags=[979]),\n",
       " TaggedDocument(words=['nigerian', 'live', 'nigeria'], tags=[980]),\n",
       " TaggedDocument(words=['asos', 'youtube', 'time', 'I', '’m', 'throw', 'near', 'wheeler'], tags=[981]),\n",
       " TaggedDocument(words=['asos', 'ask', 'hand', 'out', 'social', 'team', 'you', '’ve', 'get', 'face', 'monocle', 'yawning', 'face'], tags=[982]),\n",
       " TaggedDocument(words=['ucu', '’s', 'ballot', 'strike', 'action', 'asos', 'achieve', 'fair', 'pay', 'fair', 'condition', 'open', 'yes', 'vote', 'vital', 'question', 'send', 'clear', 'message', 'assembly', 'employer', 'felecturer', 'continue', 'treat', 'poor', 'relation', 'education', 'sector'], tags=[983]),\n",
       " TaggedDocument(words=['go', 'asos', 'similar', 'suit', 'rock', 'look'], tags=[984]),\n",
       " TaggedDocument(words=['log', 'asos', 'app'], tags=[985]),\n",
       " TaggedDocument(words=['big', 'shoutout', 'beauty', 'thumb', 'light', 'skin', 'tone', 'thumb', 'light', 'skin', 'tone', 'thumb', 'light', 'skin', 'tone', 'adida', 'adidashamburg', 'adifamily', 'adidasoriginal', 'adidastrainer', 'asos'], tags=[986]),\n",
       " TaggedDocument(words=['that', '’', 'pant'], tags=[987]),\n",
       " TaggedDocument(words=['pervy', 'old', 'man', 'build', 'work', 'street', 'inappropriately', 'hit', 'morning', 'want', 'forget', 'disgusting', 'uncontrollably', 'spend', 'asos', 'new', 'summer', 'wardrobe', 'I', '’ll', 'buy', 'bin', 'bag', 'hide', 'rolling', 'floor', 'laugh', 'loudly', 'cry', 'face', 'loudly', 'cry', 'face'], tags=[988]),\n",
       " TaggedDocument(words=['gambell', 'awos', 'pagm', 'asos', 'report', 'gust', 'knot', 'mph', 'ese', 'pagm', 'auto', 'gkt', 'fzfg', 'rmk', 'wnd', 'slp', 'fzrano'], tags=[989]),\n",
       " TaggedDocument(words=['gambell', 'awos', 'pagm', 'asos', 'report', 'gust', 'knot', 'mph', 'ese', 'pagm', 'auto', 'gkt', 'fzfg', 'rmk', 'wnd', 'slp', 'fzrano'], tags=[990]),\n",
       " TaggedDocument(words=['gambell', 'awos', 'pagm', 'asos', 'report', 'gust', 'knot', 'mph', 'ese', 'pagm', 'auto', 'gkt', 'fzfg', 'rmk', 'wnd', 'slp', 'fzrano'], tags=[991]),\n",
       " TaggedDocument(words=['wale', 'paiw', 'asos', 'report', 'gust', 'knot', 'mph', 'paiw', 'auto', 'gkt', 'fzfg', 'ovc', 'rmk', 'wnd', 'cig', 'slp', 'fzrano'], tags=[992]),\n",
       " TaggedDocument(words=['wale', 'paiw', 'asos', 'report', 'gust', 'knot', 'mph', 'paiw', 'auto', 'gkt', 'fzfg', 'ovc', 'rmk', 'wnd', 'cig', 'slp', 'fzrano'], tags=[993]),\n",
       " TaggedDocument(words=['mount', 'washington', 'mwn', 'asos', 'report', 'gust', 'knot', 'mph', 'wnw', 'kmwn', 'gkt', 'fzfg', 'blsn', 'rmk', 'vry', 'lgt', 'icg', 'sun', 'dmly', 'vsbl'], tags=[994]),\n",
       " TaggedDocument(words=['mount', 'washington', 'mwn', 'asos', 'report', 'gust', 'knot', 'mph', 'wnw', 'kmwn', 'gkt', 'fzfg', 'blsn', 'rmk', 'vry', 'lgt', 'icg', 'sun', 'dmly', 'vsbl'], tags=[995]),\n",
       " TaggedDocument(words=['mount', 'washington', 'mwn', 'asos', 'report', 'gust', 'knot', 'mph', 'wnw', 'kmwn', 'gkt', 'fzfg', 'blsn', 'rmk', 'vry', 'lgt', 'icg', 'sun', 'dmly', 'vsbl'], tags=[996]),\n",
       " TaggedDocument(words=['I', '’ve', 'get', 'heavy', 'flow', 'wide', 'set', 'vagina'], tags=[997]),\n",
       " TaggedDocument(words=['great', 'look', 'asos', 'post', 'topshop', 'purchase', 'compete', 'zalando', 'river', 'island', 'brand', 'plus', 'go', 'luxury', 'brand'], tags=[998]),\n",
       " TaggedDocument(words=['tomorrow', 'likely', 'job', 'rejection', 'month', 'upside', 'face', 'asostreatme'], tags=[999]),\n",
       " ...]"
      ]
     },
     "metadata": {},
     "execution_count": 12
    }
   ],
   "source": [
    "#tag each tweet with unique id\n",
    "documents = [TaggedDocument(doc, [i]) for i, doc in enumerate(data.split)]\n",
    "documents"
   ]
  },
  {
   "cell_type": "code",
   "execution_count": 26,
   "metadata": {},
   "outputs": [],
   "source": [
    "from collections import Counter"
   ]
  },
  {
   "cell_type": "code",
   "execution_count": 88,
   "metadata": {},
   "outputs": [],
   "source": [
    "#create a flat list of all the words\n",
    "words = [item for sublist in list(data.split) for item in sublist]"
   ]
  },
  {
   "cell_type": "code",
   "execution_count": 89,
   "metadata": {},
   "outputs": [
    {
     "output_type": "stream",
     "name": "stdout",
     "text": [
      "              count\n",
      "count  32950.000000\n",
      "mean      35.424370\n",
      "std      417.319219\n",
      "min        1.000000\n",
      "25%        1.000000\n",
      "50%        2.000000\n",
      "75%        7.000000\n",
      "max    42815.000000\n"
     ]
    },
    {
     "output_type": "execute_result",
     "data": {
      "text/plain": [
       "0.90     29.00\n",
       "0.95     80.00\n",
       "0.99    606.02\n",
       "Name: count, dtype: float64"
      ]
     },
     "metadata": {},
     "execution_count": 89
    }
   ],
   "source": [
    "#explore the absolute frequencies to get the idea of minimum count for the future Doc2Vec Model\n",
    "c = Counter(words)\n",
    "counts = pd.DataFrame.from_dict(c, orient='index', columns = ['count']).reset_index()\n",
    "print(counts.describe())\n",
    "counts['count'].quantile([0.90, 0.95, 0.99])"
   ]
  },
  {
   "source": [
    "90% of words have less than 29 appearances in the whole dataset. So that we will take into account only those which have more than 29."
   ],
   "cell_type": "markdown",
   "metadata": {}
  },
  {
   "cell_type": "code",
   "execution_count": 48,
   "metadata": {},
   "outputs": [],
   "source": [
    "#build the model\n",
    "Doc2Vec_model = Doc2Vec(documents, vector_size=5, window=2, min_count=29, workers=4)"
   ]
  },
  {
   "cell_type": "code",
   "execution_count": 49,
   "metadata": {},
   "outputs": [],
   "source": [
    "#create a DataFrame with a tweet and a vector for each tweet\n",
    "corpus_d2v=pd.DataFrame([Doc2Vec_model.infer_vector(doc) for doc in data.split])"
   ]
  },
  {
   "cell_type": "code",
   "execution_count": 74,
   "metadata": {
    "tags": [
     "outputPrepend"
    ]
   },
   "outputs": [
    {
     "output_type": "stream",
     "name": "stdout",
     "text": [
      "': 2099, 'idaho': 2100, 'investigate': 2101, 'description': 2102, 'adam': 2103, 'paddy': 2104, 'obscd': 2105, 'secret': 2106, 'walmart': 2107, 'personally': 2108, 'practice': 2109, 'reward': 2110, 'asc': 2111, 'weekday': 2112, 'dangerous': 2113, 'ping': 2114, 'outta': 2115, 'responsible': 2116, 'brunch': 2117, 'excellent': 2118, 'chinese': 2119, 'master': 2120, 'thrifte': 2121, 'achieve': 2122, 'playing': 2123, 'earn': 2124, 'awe': 2125, 'the': 2126, 'quid': 2127, 'obsc': 2128, 'reorder': 2129, 'sorted': 2130, 'majority': 2131, 'bell': 2132, 'mfs': 2133, 'ego': 2134, 'bridesmaid': 2135, 'gutte': 2136, 'def': 2137, 'soul': 2138, 'letter': 2139, 'modern': 2140, 'rent': 2141, 'screenshot': 2142, 'possibly': 2143, 'password': 2144, 'corporate': 2145, 'toy': 2146, 'bottom': 2147, 'jail': 2148, 'sized': 2149, 'rubbish': 2150, 'john': 2151, 'slowfashion': 2152, 'dsnt': 2153, 'meme': 2154, 'tooth': 2155, 'stretch': 2156, 'certainly': 2157, 'expedia': 2158, 'capitalism': 2159, 'protect': 2160, 'hack': 2161, 'scale': 2162, 'stare': 2163, 'dare': 2164, 'reaction': 2165, 'october': 2166, 'rabbit': 2167, 'ahh': 2168, 'hurry': 2169, 'disappointing': 2170, 'lift': 2171, 'previously': 2172, 'tommy': 2173, 'twin': 2174, 'stradivarius': 2175, 'violin': 2176, 'quarter': 2177, 'goat': 2178, 'pout': 2179, 'affiliate': 2180, 'daisy': 2181, 'band': 2182, 'stage': 2183, 'cheese': 2184, 'independent': 2185, 'disappear': 2186, 'cdot': 2187, 'potential': 2188, 'lmaooo': 2189, 'candle': 2190, 'salary': 2191, 'generation': 2192, 'flower': 2193, 'hiya': 2194, 'glasgow': 2195, 'insight': 2196, 'heeled': 2197, 'harass': 2198, 'asoiaf': 2199, 'celebration': 2200, 'positivity': 2201, 'kelp': 2202, 'specifically': 2203, 'plc': 2204, 'elp': 2205, 'ooh': 2206, 'sky': 2207, 'shade': 2208, 'involve': 2209, 'tshirt': 2210, 'crybaby': 2211, 'duty': 2212, 'spree': 2213, 'extension': 2214, 'encourage': 2215, 'rare': 2216, 'saving': 2217, 'host': 2218, 'cargo': 2219, 'ride': 2220, 'vat': 2221, 'prefer': 2222, 'probe': 2223, 'bts': 2224, 'training': 2225, 'finance': 2226, 'ooo': 2227, 'deffo': 2228, 'romper': 2229, 'west': 2230, 'literal': 2231, 'defo': 2232, 'crack': 2233, 'east': 2234, 'impressive': 2235, 'sunshine': 2236, 'alright': 2237, 'reimburse': 2238, 'receipt': 2239, 'brexit': 2240, 'argue': 2241, 'intmt': 2242, 'skc': 2243, 'playbook': 2244, 'mug': 2245, 'sensitive': 2246, 'startup': 2247, 'pity': 2248, 'cosmetic': 2249, 'kate': 2250, 'abi': 2251, 'coz': 2252, 'father': 2253, 'pour': 2254, 'butt': 2255, 'blouse': 2256, 'lander': 2257, 'sam': 2258, 'moral': 2259, 'league': 2260, 'sum': 2261, 'assistance': 2262, 'height': 2263, 'promotion': 2264, 'custer': 2265, 'nordstrom': 2266, 'pine': 2267, 'management': 2268, 'thx': 2269, 'femdom': 2270, 'economy': 2271, 'loyal': 2272, 'logic': 2273, 'coin': 2274, 'drip': 2275, 'introduce': 2276, 'medical': 2277, 'powerful': 2278, 'anytime': 2279, 'bargain': 2280, 'spotify': 2281, 'dupe': 2282, 'biscuit': 2283, 'ohh': 2284, 'rush': 2285, 'shake': 2286, 'scala': 2287, 'evidence': 2288, 'lola': 2289, 'investor': 2290, 'cookie': 2291, 'explore': 2292, 'meow': 2293, 'smock': 2294, 'lad': 2295, 'pose': 2296, 'aware': 2297, 'doctor': 2298, 'imo': 2299, 'asshole': 2300, 'representation': 2301, 'sustainablefashion': 2302, 'judge': 2303, 'ord': 2304, 'anthropologie': 2305, 'blogger': 2306, 'ion': 2307, 'cope': 2308, 'dutch': 2309, 'uswitch': 2310, 'came': 2311, 'ltg': 2312, 'vct': 2313, 'exploit': 2314, 'out': 2315, 'lottery': 2316, 'buyer': 2317, 'eloquii': 2318, 'useful': 2319, 'pattern': 2320, 'kitchen': 2321, 'lipstick': 2322, 'kbyg': 2323, 'innocent': 2324, 'apt': 2325, 'fabric': 2326, 'tempt': 2327, 'gimme': 2328, 'retailnew': 2329, 'flip': 2330, 'haakon': 2331, 'purpose': 2332, 'pjs': 2333, 'flight': 2334, 'beverage': 2335, 'aso': 2336, 'postage': 2337, 'apparel': 2338, 'minority': 2339, 'jon': 2340, 'weak': 2341, 'sansa': 2342, 'mummy': 2343, 'pdt': 2344, 'corporation': 2345, 'alqds': 2346, 'adorable': 2347, 'kmck': 2348, 'outfits': 2349, 'bodysuit': 2350, 'teen': 2351, 'birth': 2352, 'vegan': 2353, 'chick': 2354, 'mountain': 2355, 'fish': 2356, 'thigh': 2357, 'bright': 2358, 'logo': 2359, 'necklace': 2360, 'easily': 2361, 'prob': 2362, 'queue': 2363, 'laptop': 2364, 'silly': 2365, 'acok': 2366, 'fam': 2367, 'generate': 2368, 'gillette': 2369, 'canada': 2370, 'taxis': 2371, 'bestfriend': 2372, 'confidence': 2373, 'affect': 2374, 'knit': 2375, 'nightmare': 2376, 'cutie': 2377, 'merch': 2378, 'kjdn': 2379, 'freedom': 2380, 'activity': 2381, 'lauren': 2382, 'regularly': 2383, 'explorepage': 2384, 'pleated': 2385, 'goddess': 2386, 'unreal': 2387, 'communication': 2388, 'dope': 2389, 'accelerate': 2390, 'discord': 2391, 'buck': 2392, 'sir': 2393, 'yrs': 2394, 'uniday': 2395, 'earning': 2396, 'yawning': 2397, 'ultra': 2398, 'bone': 2399, 'slash': 2400, 'pledge': 2401, 'jesus': 2402, 'writing': 2403, 'hotel': 2404, 'prince': 2405, 'kida': 2406, 'sole': 2407, 'chill': 2408, 'christian': 2409, 'republican': 2410, 'abeg': 2411, 'bang': 2412, 'ndd': 2413, 'graphic': 2414, 'cig': 2415, 'eagle': 2416, 'hehe': 2417, 'github': 2418, 'pacsun': 2419, 'automation': 2420, 'fitting': 2421, 'adore': 2422, 'last': 2423, 'swim': 2424, 'soo': 2425, 'swipe': 2426, 'pennington': 2427, 'slavery': 2428, 'aside': 2429, 'production': 2430, 'euro': 2431, 'iconic': 2432, 'plant': 2433, 'highlight': 2434, 'virtual': 2435, 'pot': 2436, 'clue': 2437, 'akka': 2438, 'dust': 2439, 'boycott': 2440, 'legal': 2441, 'ohhh': 2442, 'guarantee': 2443, 'vinte': 2444, 'awkward': 2445, 'language': 2446, 'hearing': 2447, 'transaction': 2448, 'bitcoin': 2449, 'burlington': 2450, 'emotional': 2451, 'satin': 2452, 'alongside': 2453, 'mst': 2454, 'ramos': 2455, 'holy': 2456, 'oooh': 2457, 'fox': 2458, 'upcoming': 2459, 'sql': 2460, 'reject': 2461, 'recognise': 2462, 'bae': 2463, 'storm': 2464, 'attitude': 2465, 'lingerie': 2466, 'findomme': 2467, 'july': 2468, 'shadow': 2469, 'lincoln': 2470, 'dense': 2471, 'tyrion': 2472, 'aid': 2473, 'region': 2474, 'dunno': 2475, 'regional': 2476, 'studio': 2477, 'acknowledge': 2478, 'kiddwayas': 2479, 'expose': 2480, 'molly': 2481, 'atleast': 2482, 'te': 2483, 'kissing': 2484, 'guest': 2485, 'blush': 2486, 'wallet': 2487, 'edition': 2488, 'colleague': 2489, 'swimwear': 2490, 'unhelpful': 2491, 'mainly': 2492, 'rlly': 2493, 'pronoun': 2494, 'faux': 2495, 'arrange': 2496, 'cst': 2497, 'horribly': 2498, 'springfield': 2499, 'recieve': 2500, 'stylist': 2501, 'strength': 2502, 'perkin': 2503, 'lucy': 2504, 'movement': 2505, 'annoyed': 2506, 'threat': 2507, 'microphone': 2508, 'freak': 2509, 'confident': 2510, 'margin': 2511, 'crisis': 2512, 'gap': 2513, 'rand': 2514, 'rob': 2515, 'leader': 2516, 'schedule': 2517, 'expansion': 2518, 'drama': 2519, 'agency': 2520, 'else': 2521, 'entitle': 2522, 'baker': 2523, 'recap': 2524, 'cheek': 2525, 'carbon': 2526, 'recommendation': 2527, 'sol': 2528, 'lmaoo': 2529, 'heaven': 2530, 'kpop': 2531, 'solid': 2532, 'apologize': 2533, 'inventory': 2534, 'boring': 2535, 'program': 2536, 'xoxo': 2537, 'ofc': 2538, 'gesture': 2539, 'furlough': 2540, 'sedgwick': 2541, 'category': 2542, 'election': 2543, 'clutch': 2544, 'crossed': 2545, 'tailor': 2546, 'paris': 2547, 'facility': 2548, 'hibiscus': 2549, 'bare': 2550, 'bella': 2551, 'awwww': 2552, 'bailey': 2553, 'professional': 2554, 'laud': 2555, 'locate': 2556, 'boohoo’d': 2557, 'hollister': 2558, 'cup': 2559, 'menswear': 2560, 'bubble': 2561, 'resolution': 2562, 'exam': 2563, 'missing': 2564, 'forum': 2565, 'asleep': 2566, 'approx': 2567, 'photography': 2568, 'starlab': 2569, 'royale': 2570, 'develop': 2571, 'executive': 2572, 'desperately': 2573, 'gucci': 2574, 'tank': 2575, 'peach': 2576, 'warning': 2577, 'tend': 2578, 'nick': 2579, 'payday': 2580, 'vest': 2581, 'levis': 2582, 'klnd': 2583, 'snbe': 2584, 'saudi': 2585, 'lesson': 2586, 'ugh': 2587, 'function': 2588, 'module': 2589, 'lightweight': 2590, 'worn': 2591, 'transform': 2592, 'lowkey': 2593, 'fashionable': 2594, 'cashslave': 2595, 'stimmy': 2596, 'skint': 2597, 'exclude': 2598, 'estimate': 2599, 'jdn': 2600, 'meeting': 2601, 'valley': 2602, 'asda': 2603, 'nerd': 2604, 'adwd': 2605, 'border': 2606, 'building': 2607, 'making': 2608, 'lewis': 2609, 'officially': 2610, 'toddler': 2611, 'rab': 2612, 'excite': 2613, 'classic': 2614, 'grateful': 2615, 'pinch': 2616, 'countdown': 2617, 'court': 2618, 'horrendous': 2619, 'tool': 2620, 'talented': 2621, 'vomiting': 2622, 'how': 2623, 'disrupt': 2624, 'transit': 2625, 'tiger': 2626, 'javascript': 2627, 'mode': 2628, 'robot': 2629, 'waiste': 2630, 'urgently': 2631, 'printer': 2632, 'puffer': 2633, 'monster': 2634, 'president': 2635, 'bug': 2636, 'lay': 2637, 'woke': 2638, 'dorothy': 2639, 'puma': 2640, 'enable': 2641, 'whore': 2642, 'depression': 2643, 'rough': 2644, 'redundant': 2645, 'bikinis': 2646, 'tier': 2647, 'fortune': 2648, 'hmm': 2649, 'boohooluckydraw': 2650, 'gld': 2651, 'timber': 2652, 'hall': 2653, 'smirking': 2654, 'aka': 2655, 'diff': 2656, 'france': 2657, 'kggw': 2658, 'fog': 2659, 'david': 2660, 'hourglass': 2661, 'ralph': 2662, 'newfit': 2663, 'dm': 2664, 'yesss': 2665, 'yessss': 2666, 'engage': 2667, 'allah': 2668, 'scott': 2669, 'gown': 2670, 'ggw': 2671, 'tissue': 2672, 'appearance': 2673, 'kimono': 2674, 'arya': 2675, 'shield': 2676, 'belong': 2677, 'developer': 2678, 'lulus': 2679, 'loungewear': 2680, 'stylish': 2681, 'environment': 2682, 'fraud': 2683, 'notify': 2684, 'threaten': 2685, 'title': 2686, 'initiative': 2687, 'boohoomankidd': 2688, 'fleece': 2689, 'united': 2690, 'restaurant': 2691, 'icon': 2692, 'surgery': 2693, 'incredibly': 2694, 'illegal': 2695, 'byg': 2696, 'appalling': 2697, 'suede': 2698, 'assure': 2699, 'strawberry': 2700, 'acceptable': 2701, 'happiness': 2702, 'colourful': 2703, 'unbanne': 2704, 'advertisement': 2705, 'chunky': 2706, 'joe': 2707, 'steve': 2708, 'luckily': 2709, 'fruit': 2710, 'hettinger': 2711, 'archie': 2712, 'milk': 2713, 'bond': 2714, 'crush': 2715, 'brave': 2716, 'perform': 2717, 'file': 2718, 'thoma': 2719, 'shinobi': 2720, 'gas': 2721, 'spider': 2722, 'ida': 2723, 'provider': 2724, 'duck': 2725, 'comfort': 2726, 'drug': 2727, 'hella': 2728, 'arabia': 2729, 'slim': 2730, 'manifesting': 2731, 'bud': 2732, 'pearl': 2733, 'supermarket': 2734, 'royalehighoffer': 2735, 'noise': 2736, 'alive': 2737, 'refer': 2738, 'unbanned': 2739, 'mint': 2740, 'adidas': 2741, 'nap': 2742, 'generous': 2743, 'alfie': 2744, 'bandage': 2745, 'laura': 2746, 'vision': 2747, 'handsome': 2748, 'plunge': 2749, 'hardly': 2750, 'celebrity': 2751, 'chile': 2752, 'royalehighset': 2753, 'nas': 2754, 'youtuber': 2755, 'explanation': 2756, 'lmaoooo': 2757, 'nooo': 2758, 'selfie': 2759, 'walletdrain': 2760, 'houghton': 2761, 'kitty': 2762, 'justin': 2763, 'royalehigh': 2764, 'garbage': 2765, 'royalehightrading': 2766, 'royalehighdiamond': 2767, 'married': 2768, 'cashapp': 2769, 'contribute': 2770, 'overnight': 2771, 'influence': 2772, 'universe': 2773, 'sight': 2774, 'doc': 2775, 'oil': 2776, 'entry': 2777, 'scamme': 2778, 'breakfast': 2779, 'tan': 2780, 'hop': 2781, 'sticker': 2782, 'stripe': 2783, 'whalesub': 2784, 'asf': 2785, 'prime': 2786, 'fashionstyle': 2787, 'wts': 2788, 'worst': 2789, 'umbrella': 2790, 'legend': 2791, 'accurate': 2792, 'reckon': 2793, 'jewellery': 2794, 'inclusive': 2795, 'laramie': 2796, 'correctly': 2797, 'snake': 2798, 'takeaway': 2799, 'await': 2800, 'pointe': 2801, 'tesco': 2802, 'arma': 2803, 'net': 2804, 'supplychain': 2805, 'anxiety': 2806, 'mcdonald': 2807, 'mass': 2808, 'recover': 2809, 'slap': 2810, 'dodge': 2811, 'darling': 2812, 'footwear': 2813, 'zlndy': 2814, 'extend': 2815, 'unacceptable': 2816, 'domme': 2817, 'comeback': 2818, 'turkish': 2819, 'badly': 2820, 'starve': 2821, 'knife': 2822, 'skincare': 2823, 'manchester': 2824, 'mango': 2825, 'amid': 2826, 'acquire': 2827, 'deaf': 2828, 'romwe': 2829, 'innovation': 2830, 'healthy': 2831, 'concept': 2832, 'frontend': 2833, 'assault': 2834, 'grant': 2835, 'charlotte': 2836, 'unisex': 2837, 'slack': 2838, 'mothersday': 2839, 'doll': 2840, 'rage': 2841, 'forgive': 2842, 'australia': 2843, 'income': 2844, 'unsuccessful': 2845, 'temporarily': 2846, 'generally': 2847, 'irl': 2848, 'plbeupbeplb': 2849, 'dumbass': 2850, 'dropping': 2851, 'rape': 2852, 'thanks': 2853, 'prettylittlething': 2854, 'wool': 2855, 'skater': 2856, 'personality': 2857, 'soar': 2858, 'European': 2859, 'Union': 2860, 'arie': 2861, 'tab': 2862, 'culberson': 2863, 'safety': 2864, 'sigh': 2865, 'implement': 2866, 'uniqlo': 2867, 'meal': 2868, 'muscle': 2869, 'bite': 2870, 'drain': 2871, 'survey': 2872, 'shoutout': 2873, 'employer': 2874, 'property': 2875, 'communicate': 2876, 'obsession': 2877, 'physical': 2878, 'emotion': 2879, 'yup': 2880, 'sweatpant': 2881, 'psootd': 2882, 'cor': 2883, 'bore': 2884, 'bieber': 2885, 'submit': 2886, 'alert': 2887, 'sexual': 2888, 'annual': 2889, 'nigerian': 2890, 'truck': 2891, 'forbe': 2892, 'sibling': 2893, 'accessorie': 2894, 'lunch': 2895, 'banknote': 2896, 'sin': 2897, 'dickinson': 2898, 'cto': 2899, 'particularly': 2900, 'doorstep': 2901, 'habit': 2902, 'principle': 2903, 'tape': 2904, 'barcode': 2905, 'fastfashion': 2906, 'hannah': 2907, 'inclusion': 2908, 'pokemon': 2909, 'speaker': 2910, 'compliment': 2911, 'telling': 2912, 'bread': 2913, 'investigation': 2914, 'stuck': 2915, 'mock': 2916, 'founder': 2917, 'depressed': 2918, 'york': 2919, 'mcconnell': 2920, 'combo': 2921, 'circularity': 2922, 'direction': 2923, 'randomly': 2924, 'stud': 2925, 'found': 2926, 'hip': 2927, 'worldwide': 2928, 'system': 2929, 'convince': 2930, 'rgnl': 2931, 'privilege': 2932, 'cunt': 2933, 'catfish': 2934, 'pace': 2935, 'jose': 2936, 'connection': 2937, 'giftcardroyalehightrade': 2938, 'langdon': 2939, 'sndz': 2940, 'Africa': 2941, 'speedy': 2942, 'usd': 2943, 'carrington': 2944, 'pug': 2945, 'milo': 2946, 'tom': 2947, 'scotland': 2948, 'fulfilment': 2949, 'core': 2950, 'cooking': 2951, 'epic': 2952, 'katie': 2953, 'cet': 2954, 'debt': 2955, 'fashionista': 2956, 'baggy': 2957, 'blonde': 2958, 'luv': 2959, 'womensday': 2960, 'cow': 2961, 'streamer': 2962, 'careful': 2963, 'escape': 2964, 'transfer': 2965, 'loan': 2966, 'lost': 2967, 'cycle': 2968, 'failure': 2969, 'shsne': 2970, 'impress': 2971, 'teller': 2972, 'del': 2973, 'decade': 2974, 'why': 2975, 'proceed': 2976, 'ruffle': 2977, 'adopt': 2978, 'pissed': 2979, 'spam': 2980, 'refreshing': 2981, 'entrepreneur': 2982, 'mammoth': 2983, 'pride': 2984, 'sizeer': 2985, 'abroad': 2986, 'sunflower': 2987, 'jersey': 2988, 'foundation': 2989, 'tribute': 2990, 'unit': 2991, 'union': 2992, 'poorly': 2993, 'melt': 2994, 'paul': 2995, 'lily': 2996, 'successfully': 2997, 'liar': 2998, 'collar': 2999, 'madewell': 3000, 'grandma': 3001, 'produce': 3002, 'harbor': 3003, 'memory': 3004, 'hasting': 3005, 'villain': 3006, 'plussizefashion': 3007, 'deliveroo': 3008, 'jackson': 3009, 'dispute': 3010, 'swift': 3011, 'celine': 3012, 'pantie': 3013, 'audacity': 3014, 'sudden': 3015, 'gifted': 3016, 'pro': 3017, 'development': 3018, 'dm’d': 3019, 'mon': 3020, 'workshop': 3021, 'ethical': 3022, 'misguided': 3023, 'feedback': 3024, 'millionaire': 3025, 'setup': 3026, 'tioga': 3027, 'desire': 3028, 'coronavirus': 3029, 'chef': 3030, 'saw': 3031, 'rarely': 3032, 'overall': 3033, 'uncomfortable': 3034, 'upgrade': 3035, 'kiml': 3036, 'jake': 3037, 'plug': 3038, 'unfair': 3039, 'washing': 3040, 'sunny': 3041, 'audience': 3042, 'lnd': 3043, 'attend': 3044, 'bounce': 3045, 'temporary': 3046, 'tala': 3047, 'fragile': 3048, 'dash': 3049, 'miami': 3050, 'concerned': 3051, 'betty': 3052, 'herb': 3053, 'bean': 3054, 'actively': 3055, 'lisa': 3056, 'goddamn': 3057, 'calendar': 3058, 'pyjama': 3059, 'blessing': 3060, 'scarf': 3061, 'behavior': 3062, 'chelsea': 3063, 'grade': 3064, 'false': 3065, 'arse': 3066, 'doggo': 3067, 'billionaire': 3068, 'reliable': 3069, 'nerve': 3070, 'victoria': 3071, 'omo': 3072, 'chloe': 3073, 'prairie': 3074, 'cluster': 3075, 'hahahaha': 3076, 'candy': 3077, 'unlimited': 3078, 'tattoo': 3079, 'allegation': 3080, 'panda': 3081, 'iwd': 3082, 'seat': 3083, 'rack': 3084, 'screw': 3085, 'typical': 3086, 'edge': 3087, 'relevant': 3088, 'expert': 3089, 'potato': 3090, 'gingham': 3091, 'poppy': 3092, 'pepper': 3093, 'mmh': 3094, 'copper': 3095, 'campbell': 3096, 'ambassador': 3097, 'virus': 3098, 'boat': 3099, 'portal': 3100, 'reputation': 3101, 'commitment': 3102, 'kingdom': 3103, 'existence': 3104, 'skill': 3105, 'momma': 3106, 'blind': 3107, 'route': 3108, 'attach': 3109, 'willow': 3110, 'announcement': 3111, 'smth': 3112, 'golden': 3113, 'rid': 3114, 'crypto': 3115, 'chuck': 3116, 'nastygal': 3117, 'wet': 3118, 'papo': 3119, 'thot': 3120, 'levi': 3121, 'sportswear': 3122, 'nonsense': 3123, 'recovery': 3124, 'reset': 3125, 'modest': 3126, 'croc': 3127, 'newspaper': 3128, 'stair': 3129, 'variety': 3130, 'cringe': 3131, 'fml': 3132, 'spiral': 3133, 'luna': 3134, 'sha': 3135, 'romania': 3136, 'goodbye': 3137, 'neighbourhood': 3138, 'beige': 3139, 'commence': 3140, 'jerome': 3141, 'watermelon': 3142, 'wearethethey': 3143, 'sea': 3144, 'part': 3145, 'passport': 3146, 'sophie': 3147, 'riverdale': 3148, 'stella': 3149, 'alot': 3150, 'ease': 3151, 'pricing': 3152, 'embarrassing': 3153, 'session': 3154, 'running': 3155, 'dig': 3156, 'nation': 3157, 'panel': 3158, 'camp': 3159, 'emoji': 3160, 'automatically': 3161, 'chip': 3162, 'muni': 3163, 'volume': 3164, 'skyrocket': 3165, 'upbsne': 3166, 'employ': 3167, 'merchandise': 3168, 'september': 3169, 'flex': 3170, 'dancing': 3171, 'login': 3172, 'lemon': 3173, 'testing': 3174, 'sissy': 3175, 'disagree': 3176, 'everyone': 3177, 'religion': 3178, 'kjer': 3179, 'idgaf': 3180, 'jer': 3181, 'terrorist': 3182, 'cpw': 3183, 'micro': 3184, 'rat': 3185, 'odd': 3186, 'famous': 3187, 'mommy': 3188, 'jock': 3189, 'patiently': 3190, 'iphone': 3191, 'liberal': 3192, 'inseam': 3193, 'graduation': 3194, 'gone': 3195, 'silence': 3196, 'placement': 3197, 'clearance': 3198, 'dem': 3199, 'percent': 3200, 'wmn': 3201, 'charlie': 3202, 'lilac': 3203, 'naked': 3204, 'junior': 3205, 'rub': 3206, 'aye': 3207, 'headphone': 3208, 'khei': 3209, 'avail': 3210, 'patient': 3211, 'aight': 3212, 'adan': 3213, 'kmmh': 3214, 'plussize': 3215, 'protest': 3216, 'dove': 3217, 'sequin': 3218, 'accountable': 3219, 'whoop': 3220, 'dakota': 3221, 'gbp': 3222, 'pressure': 3223, 'jade': 3224, 'flop': 3225, 'handy': 3226, 'discussion': 3227, 'belly': 3228, 'spare': 3229, 'associate': 3230, 'lesbian': 3231, 'cast': 3232, 'yess': 3233, 'advocate': 3234, 'slipper': 3235, 'radio': 3236, 'maker': 3237, 'august': 3238, 'elk': 3239, 'compete': 3240, 'rly': 3241, 'dwtn': 3242, 'est': 3243, 'kcpw': 3244, 'supporter': 3245, 'dinamo': 3246, 'criticism': 3247, 'education': 3248, 'seam': 3249, 'reverse': 3250, 'whoa': 3251, 'progressive': 3252, 'mentally': 3253, 'cedar': 3254, 'transphobic': 3255, 'loud': 3256, 'individual': 3257, 'snack': 3258, 'bello': 3259, 'sack': 3260, 'cartoon': 3261, 'freeze': 3262, 'meantime': 3263, 'task': 3264, 'conversion': 3265, 'sherman': 3266, 'lane': 3267, 'fork': 3268, 'michaelkor': 3269, 'leak': 3270, 'goodnight': 3271, 'off': 3272, 'pie': 3273, 'dany': 3274, 'ssense': 3275, 'lean': 3276, 'christma': 3277, 'sue': 3278, 'kitten': 3279, 'cnty': 3280, 'rainfall': 3281, 'abandon': 3282, 'decline': 3283, 'consistent': 3284, 'numerous': 3285, 'delight': 3286, 'sender': 3287, 'disgusted': 3288, 'indian': 3289, 'shell': 3290, 'lover': 3291, 'cousin': 3292, 'path': 3293, 'eve': 3294, 'escalate': 3295, 'grown': 3296, 'africa': 3297, 'florida': 3298, 'architecture': 3299, 'jockstrap': 3300, 'nazi': 3301, 'emma': 3302, 'sweatshop': 3303, 'tit': 3304, 'troll': 3305, 'homophobic': 3306, 'pregnancy': 3307, 'buzz': 3308, 'chemtrail': 3309, 'conservative': 3310, 'oncoming': 3311, 'barney': 3312, 'stark': 3313, 'honour': 3314, 'hobby': 3315, 'ambitious': 3316, 'niece': 3317, 'londonjob': 3318, 'blank': 3319, 'sleeping': 3320, 'framework': 3321, 'citizen': 3322, 'moi': 3323, 'gicg': 3324, 'carrier': 3325, 'tracker': 3326}\n"
     ]
    }
   ],
   "source": [
    "#print the vocabulary: all the words are considered in the model\n",
    "print(Doc2Vec_model.wv.key_to_index)"
   ]
  },
  {
   "cell_type": "code",
   "execution_count": 52,
   "metadata": {},
   "outputs": [
    {
     "output_type": "stream",
     "name": "stdout",
     "text": [
      "          0         1         2         3         4\n",
      "0 -0.015905  0.191896  0.311980 -0.082201 -0.054656\n",
      "1  0.094732 -0.196510  0.232367 -0.184807 -0.250304\n",
      "2 -0.028408  0.077553  0.232172 -0.400177  0.024043\n",
      "3 -0.025499 -0.010442 -0.289881 -0.029361 -0.232676\n",
      "4 -0.092368  0.046109  0.195366 -0.112181 -0.068188\n"
     ]
    },
    {
     "output_type": "execute_result",
     "data": {
      "text/plain": [
       "109987"
      ]
     },
     "metadata": {},
     "execution_count": 52
    }
   ],
   "source": [
    "print(corpus_d2v.head())\n",
    "len(corpus_d2v)"
   ]
  },
  {
   "cell_type": "code",
   "execution_count": 83,
   "metadata": {},
   "outputs": [],
   "source": [
    "#merge embeddings and initial dataset, keep only embeddings and label(sentiment)\n",
    "data_represented_word2vec = data.merge(corpus_d2v, left_index =True, right_index=True)[['compound', 0, 1, 2,3,4]]"
   ]
  },
  {
   "cell_type": "code",
   "execution_count": 84,
   "metadata": {},
   "outputs": [
    {
     "output_type": "execute_result",
     "data": {
      "text/plain": [
       "        compound         0         1         2         3         4\n",
       "0         0.0000 -0.015905  0.191896  0.311980 -0.082201 -0.054656\n",
       "1        -0.9060  0.094732 -0.196510  0.232367 -0.184807 -0.250304\n",
       "2         0.6249 -0.028408  0.077553  0.232172 -0.400177  0.024043\n",
       "3        -0.4767 -0.025499 -0.010442 -0.289881 -0.029361 -0.232676\n",
       "4         0.0000 -0.092368  0.046109  0.195366 -0.112181 -0.068188\n",
       "...          ...       ...       ...       ...       ...       ...\n",
       "109982    0.0000 -0.163756 -0.038913  0.057557 -0.313182  0.062956\n",
       "109983    0.0000 -0.072948 -0.031609 -0.081971 -0.050795 -0.041536\n",
       "109984    0.7351 -0.322610 -0.180934 -0.136625 -0.398735 -0.048561\n",
       "109985    0.1867 -0.058633  0.367701 -0.022004 -0.125063 -0.020028\n",
       "109986    0.0000  0.168694  0.034477 -0.038395  0.181398 -0.051558\n",
       "\n",
       "[109987 rows x 6 columns]"
      ],
      "text/html": "<div>\n<style scoped>\n    .dataframe tbody tr th:only-of-type {\n        vertical-align: middle;\n    }\n\n    .dataframe tbody tr th {\n        vertical-align: top;\n    }\n\n    .dataframe thead th {\n        text-align: right;\n    }\n</style>\n<table border=\"1\" class=\"dataframe\">\n  <thead>\n    <tr style=\"text-align: right;\">\n      <th></th>\n      <th>compound</th>\n      <th>0</th>\n      <th>1</th>\n      <th>2</th>\n      <th>3</th>\n      <th>4</th>\n    </tr>\n  </thead>\n  <tbody>\n    <tr>\n      <th>0</th>\n      <td>0.0000</td>\n      <td>-0.015905</td>\n      <td>0.191896</td>\n      <td>0.311980</td>\n      <td>-0.082201</td>\n      <td>-0.054656</td>\n    </tr>\n    <tr>\n      <th>1</th>\n      <td>-0.9060</td>\n      <td>0.094732</td>\n      <td>-0.196510</td>\n      <td>0.232367</td>\n      <td>-0.184807</td>\n      <td>-0.250304</td>\n    </tr>\n    <tr>\n      <th>2</th>\n      <td>0.6249</td>\n      <td>-0.028408</td>\n      <td>0.077553</td>\n      <td>0.232172</td>\n      <td>-0.400177</td>\n      <td>0.024043</td>\n    </tr>\n    <tr>\n      <th>3</th>\n      <td>-0.4767</td>\n      <td>-0.025499</td>\n      <td>-0.010442</td>\n      <td>-0.289881</td>\n      <td>-0.029361</td>\n      <td>-0.232676</td>\n    </tr>\n    <tr>\n      <th>4</th>\n      <td>0.0000</td>\n      <td>-0.092368</td>\n      <td>0.046109</td>\n      <td>0.195366</td>\n      <td>-0.112181</td>\n      <td>-0.068188</td>\n    </tr>\n    <tr>\n      <th>...</th>\n      <td>...</td>\n      <td>...</td>\n      <td>...</td>\n      <td>...</td>\n      <td>...</td>\n      <td>...</td>\n    </tr>\n    <tr>\n      <th>109982</th>\n      <td>0.0000</td>\n      <td>-0.163756</td>\n      <td>-0.038913</td>\n      <td>0.057557</td>\n      <td>-0.313182</td>\n      <td>0.062956</td>\n    </tr>\n    <tr>\n      <th>109983</th>\n      <td>0.0000</td>\n      <td>-0.072948</td>\n      <td>-0.031609</td>\n      <td>-0.081971</td>\n      <td>-0.050795</td>\n      <td>-0.041536</td>\n    </tr>\n    <tr>\n      <th>109984</th>\n      <td>0.7351</td>\n      <td>-0.322610</td>\n      <td>-0.180934</td>\n      <td>-0.136625</td>\n      <td>-0.398735</td>\n      <td>-0.048561</td>\n    </tr>\n    <tr>\n      <th>109985</th>\n      <td>0.1867</td>\n      <td>-0.058633</td>\n      <td>0.367701</td>\n      <td>-0.022004</td>\n      <td>-0.125063</td>\n      <td>-0.020028</td>\n    </tr>\n    <tr>\n      <th>109986</th>\n      <td>0.0000</td>\n      <td>0.168694</td>\n      <td>0.034477</td>\n      <td>-0.038395</td>\n      <td>0.181398</td>\n      <td>-0.051558</td>\n    </tr>\n  </tbody>\n</table>\n<p>109987 rows × 6 columns</p>\n</div>"
     },
     "metadata": {},
     "execution_count": 84
    }
   ],
   "source": [
    "data_represented_word2vec"
   ]
  },
  {
   "cell_type": "code",
   "execution_count": 85,
   "metadata": {},
   "outputs": [],
   "source": [
    "#save the dataset\n",
    "pickle.dump(data_represented_word2vec, open(r'.\\eng_df_represented_doc2vec.pkl', 'wb'))"
   ]
  },
  {
   "cell_type": "code",
   "execution_count": 86,
   "metadata": {},
   "outputs": [],
   "source": [
    "# Save trained doc2vec model\n",
    "Doc2Vec_model.save(\"eng_doc2vec.model\")\n",
    "## Load saved doc2vec model\n",
    "#model= Doc2Vec_model.load(\"eng_doc2vec.model\")"
   ]
  }
 ]
}