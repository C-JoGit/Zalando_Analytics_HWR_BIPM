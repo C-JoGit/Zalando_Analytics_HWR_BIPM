{
 "metadata": {
  "language_info": {
   "codemirror_mode": {
    "name": "ipython",
    "version": 3
   },
   "file_extension": ".py",
   "mimetype": "text/x-python",
   "name": "python",
   "nbconvert_exporter": "python",
   "pygments_lexer": "ipython3",
   "version": "3.8.2"
  },
  "orig_nbformat": 4,
  "kernelspec": {
   "name": "python3",
   "display_name": "Python 3.8.2 64-bit"
  },
  "interpreter": {
   "hash": "1baa965d5efe3ac65b79dfc60c0d706280b1da80fedb7760faf2759126c4f253"
  }
 },
 "nbformat": 4,
 "nbformat_minor": 2,
 "cells": [
  {
   "cell_type": "code",
   "execution_count": 2,
   "metadata": {},
   "outputs": [
    {
     "output_type": "stream",
     "name": "stderr",
     "text": [
      "C:\\Users\\Annelie Schridde\\AppData\\Roaming\\Python\\Python38\\site-packages\\gensim\\similarities\\__init__.py:15: UserWarning: The gensim.similarities.levenshtein submodule is disabled, because the optional Levenshtein package <https://pypi.org/project/python-Levenshtein/> is unavailable. Install Levenhstein (e.g. `pip install python-Levenshtein`) to suppress this warning.\n",
      "  warnings.warn(msg)\n",
      "[nltk_data] Downloading package stopwords to C:\\Users\\Annelie\n",
      "[nltk_data]     Schridde\\AppData\\Roaming\\nltk_data...\n",
      "[nltk_data]   Package stopwords is already up-to-date!\n",
      "[nltk_data] Downloading package vader_lexicon to C:\\Users\\Annelie\n",
      "[nltk_data]     Schridde\\AppData\\Roaming\\nltk_data...\n",
      "[nltk_data]   Package vader_lexicon is already up-to-date!\n",
      "[nltk_data] Downloading package punkt to C:\\Users\\Annelie\n",
      "[nltk_data]     Schridde\\AppData\\Roaming\\nltk_data...\n",
      "[nltk_data]   Package punkt is already up-to-date!\n"
     ]
    }
   ],
   "source": [
    "import sys\n",
    "sys.path.append('../')\n",
    "#import functions\n",
    "#exec(open('./functions.py').read())\n",
    "%run functions.py\n",
    "import demoji\n",
    "#demoji.download_codes()"
   ]
  },
  {
   "cell_type": "code",
   "execution_count": 3,
   "metadata": {},
   "outputs": [],
   "source": [
    "def classify_bots(df):\n",
    "    #collect all the account names related to bots and scripts\n",
    "    names = []\n",
    "    pat = r'(bot\\s|script|bot_)'\n",
    "    for name in df.name.unique():\n",
    "        match = re.findall(pat, name, re.IGNORECASE) \n",
    "        if len(match) > 0:\n",
    "            names.append(name)\n",
    "    #look for a key words to identify a tweet related to bots and scripts\n",
    "    pattern = r\"(script|bot\\s|bots\\s|bot_|cook|cop^e|destroy|proxy)\"\n",
    "    df['bot'] = False\n",
    "    for i, row in df.iterrows():\n",
    "        match = re.findall(pattern, row.tweet, re.IGNORECASE) \n",
    "        if len(match) > 0 or row.isin(names)['name'] == True:\n",
    "            df['bot'].loc[i] = True\n",
    "    return df"
   ]
  },
  {
   "cell_type": "code",
   "execution_count": 4,
   "metadata": {},
   "outputs": [
    {
     "output_type": "stream",
     "name": "stderr",
     "text": [
      "C:\\Users\\Annelie Schridde\\AppData\\Roaming\\Python\\Python38\\site-packages\\pandas\\core\\indexing.py:1637: SettingWithCopyWarning: \nA value is trying to be set on a copy of a slice from a DataFrame\n\nSee the caveats in the documentation: https://pandas.pydata.org/pandas-docs/stable/user_guide/indexing.html#returning-a-view-versus-a-copy\n  self._setitem_single_block(indexer, value, name)\n"
     ]
    },
    {
     "output_type": "execute_result",
     "data": {
      "text/plain": [
       "   index              user_id  user_statuses           name  \\\n",
       "0      1  1079317443523297280          12303     Boulder667   \n",
       "1      4            310342425          11476    AndyBaldauf   \n",
       "2     10   793418126532734976            521  MILESmobility   \n",
       "3     11  1119231287078858752             23       pici1303   \n",
       "4     12  1119231287078858752             23       pici1303   \n",
       "\n",
       "                                               tweet  retweets  \\\n",
       "0  @spdde @LadyBitchRay1 Viel Spaß, damit eine Wa...         0   \n",
       "1  @dicecco @Zalando aber erst wenn sie wieder dü...         0   \n",
       "2  Good News! Alle interessierten MitarbeiterInne...         0   \n",
       "3  @Zalando Ich weiß dass der Schein da rein muss...         0   \n",
       "4  @Zalando Ich hab mich nur gefragt wofür dieser...         0   \n",
       "\n",
       "                        location      created  followers  is_user_verified  \\\n",
       "0             Liverpool, England  07-Mar-2021        116             False   \n",
       "1  Thurgau | St. Gallen | Zürich  06-Mar-2021       1848             False   \n",
       "2            Berlin, Deutschland  05-Mar-2021        766             False   \n",
       "3                                 04-Mar-2021          0             False   \n",
       "4                                 04-Mar-2021          0             False   \n",
       "\n",
       "   favorite_count  in_reply_to_status_id  keyword language  \\\n",
       "0             1.0           1.368148e+18  zalando       de   \n",
       "1             0.0           1.368146e+18  zalando       de   \n",
       "2             8.0                    NaN  zalando       de   \n",
       "3             0.0           1.367531e+18  zalando       de   \n",
       "4             0.0           1.367528e+18  zalando       de   \n",
       "\n",
       "                                               clean  \\\n",
       "0  viel spaß damit eine wahl gewinnen stellt euch...   \n",
       "1         aber erst wenn sie wieder dürfen verspielt   \n",
       "2  good news alle interessierten mitarbeiterinnen...   \n",
       "3  ich weiß dass der schein rein muss aber ist mi...   \n",
       "4  ich hab mich nur gefragt wofür dieser extra co...   \n",
       "\n",
       "                                         clean_vader  compound  \\\n",
       "0  Viel Spaß, damit eine Wahl gewinnen. Stellt Eu...   -0.5994   \n",
       "1               aber erst wenn sie wieder dürfen :-P    0.4995   \n",
       "2  Good News! Alle interessierten MitarbeiterInne...   -0.7568   \n",
       "3  Ich weiß dass der Schein rein muss aber was is...    0.0000   \n",
       "4  Ich hab mich nur gefragt wofür dieser extra Co...    0.0000   \n",
       "\n",
       "                                               lemma    bot  \n",
       "0  viel spaß damit einen wahl gewinnen stellen si...  False  \n",
       "1        aber erst wenn ich wieder dürfen verspielen  False  \n",
       "2  good news all interessieren mitarbeiterinnen d...  False  \n",
       "3  ich weiß dass der schein rein muss aber sein m...  False  \n",
       "4  ich hab sich nur fragen wofür dies extra code ...  False  "
      ],
      "text/html": "<div>\n<style scoped>\n    .dataframe tbody tr th:only-of-type {\n        vertical-align: middle;\n    }\n\n    .dataframe tbody tr th {\n        vertical-align: top;\n    }\n\n    .dataframe thead th {\n        text-align: right;\n    }\n</style>\n<table border=\"1\" class=\"dataframe\">\n  <thead>\n    <tr style=\"text-align: right;\">\n      <th></th>\n      <th>index</th>\n      <th>user_id</th>\n      <th>user_statuses</th>\n      <th>name</th>\n      <th>tweet</th>\n      <th>retweets</th>\n      <th>location</th>\n      <th>created</th>\n      <th>followers</th>\n      <th>is_user_verified</th>\n      <th>favorite_count</th>\n      <th>in_reply_to_status_id</th>\n      <th>keyword</th>\n      <th>language</th>\n      <th>clean</th>\n      <th>clean_vader</th>\n      <th>compound</th>\n      <th>lemma</th>\n      <th>bot</th>\n    </tr>\n  </thead>\n  <tbody>\n    <tr>\n      <th>0</th>\n      <td>1</td>\n      <td>1079317443523297280</td>\n      <td>12303</td>\n      <td>Boulder667</td>\n      <td>@spdde @LadyBitchRay1 Viel Spaß, damit eine Wa...</td>\n      <td>0</td>\n      <td>Liverpool, England</td>\n      <td>07-Mar-2021</td>\n      <td>116</td>\n      <td>False</td>\n      <td>1.0</td>\n      <td>1.368148e+18</td>\n      <td>zalando</td>\n      <td>de</td>\n      <td>viel spaß damit eine wahl gewinnen stellt euch...</td>\n      <td>Viel Spaß, damit eine Wahl gewinnen. Stellt Eu...</td>\n      <td>-0.5994</td>\n      <td>viel spaß damit einen wahl gewinnen stellen si...</td>\n      <td>False</td>\n    </tr>\n    <tr>\n      <th>1</th>\n      <td>4</td>\n      <td>310342425</td>\n      <td>11476</td>\n      <td>AndyBaldauf</td>\n      <td>@dicecco @Zalando aber erst wenn sie wieder dü...</td>\n      <td>0</td>\n      <td>Thurgau | St. Gallen | Zürich</td>\n      <td>06-Mar-2021</td>\n      <td>1848</td>\n      <td>False</td>\n      <td>0.0</td>\n      <td>1.368146e+18</td>\n      <td>zalando</td>\n      <td>de</td>\n      <td>aber erst wenn sie wieder dürfen verspielt</td>\n      <td>aber erst wenn sie wieder dürfen :-P</td>\n      <td>0.4995</td>\n      <td>aber erst wenn ich wieder dürfen verspielen</td>\n      <td>False</td>\n    </tr>\n    <tr>\n      <th>2</th>\n      <td>10</td>\n      <td>793418126532734976</td>\n      <td>521</td>\n      <td>MILESmobility</td>\n      <td>Good News! Alle interessierten MitarbeiterInne...</td>\n      <td>0</td>\n      <td>Berlin, Deutschland</td>\n      <td>05-Mar-2021</td>\n      <td>766</td>\n      <td>False</td>\n      <td>8.0</td>\n      <td>NaN</td>\n      <td>zalando</td>\n      <td>de</td>\n      <td>good news alle interessierten mitarbeiterinnen...</td>\n      <td>Good News! Alle interessierten MitarbeiterInne...</td>\n      <td>-0.7568</td>\n      <td>good news all interessieren mitarbeiterinnen d...</td>\n      <td>False</td>\n    </tr>\n    <tr>\n      <th>3</th>\n      <td>11</td>\n      <td>1119231287078858752</td>\n      <td>23</td>\n      <td>pici1303</td>\n      <td>@Zalando Ich weiß dass der Schein da rein muss...</td>\n      <td>0</td>\n      <td></td>\n      <td>04-Mar-2021</td>\n      <td>0</td>\n      <td>False</td>\n      <td>0.0</td>\n      <td>1.367531e+18</td>\n      <td>zalando</td>\n      <td>de</td>\n      <td>ich weiß dass der schein rein muss aber ist mi...</td>\n      <td>Ich weiß dass der Schein rein muss aber was is...</td>\n      <td>0.0000</td>\n      <td>ich weiß dass der schein rein muss aber sein m...</td>\n      <td>False</td>\n    </tr>\n    <tr>\n      <th>4</th>\n      <td>12</td>\n      <td>1119231287078858752</td>\n      <td>23</td>\n      <td>pici1303</td>\n      <td>@Zalando Ich hab mich nur gefragt wofür dieser...</td>\n      <td>0</td>\n      <td></td>\n      <td>04-Mar-2021</td>\n      <td>0</td>\n      <td>False</td>\n      <td>0.0</td>\n      <td>1.367528e+18</td>\n      <td>zalando</td>\n      <td>de</td>\n      <td>ich hab mich nur gefragt wofür dieser extra co...</td>\n      <td>Ich hab mich nur gefragt wofür dieser extra Co...</td>\n      <td>0.0000</td>\n      <td>ich hab sich nur fragen wofür dies extra code ...</td>\n      <td>False</td>\n    </tr>\n  </tbody>\n</table>\n</div>"
     },
     "metadata": {},
     "execution_count": 4
    }
   ],
   "source": [
    "#load labelled data (generated in file 2.preprocessing_en)\n",
    "data = pickle.load(open('data_n_models/de_df_labelled.pkl', \"rb\"))\n",
    "data.head()\n",
    "#filter out bot related data\n",
    "data = classify_bots(data)\n",
    "data = data[data['bot']==False]\n",
    "data = data.drop_duplicates(subset=['lemma'])\n",
    "data.head()"
   ]
  },
  {
   "cell_type": "code",
   "execution_count": 5,
   "metadata": {},
   "outputs": [],
   "source": [
    "# change compound from continous to categorical variable\n",
    "data[\"compound\"] = np.where(data[\"compound\"] > 0, 1, data[\"compound\"])\n",
    "data[\"compound\"] = np.where(data[\"compound\"] < 0, -1, data[\"compound\"])"
   ]
  },
  {
   "cell_type": "code",
   "execution_count": 6,
   "metadata": {},
   "outputs": [],
   "source": [
    "shuffled_df = data.sample(frac=1, random_state= 42) # shuffle data for random tweets to look at"
   ]
  },
  {
   "cell_type": "code",
   "execution_count": 7,
   "metadata": {},
   "outputs": [
    {
     "output_type": "execute_result",
     "data": {
      "text/plain": [
       "      index              user_id  user_statuses             name  \\\n",
       "2274    104  1364996553581219842           1393     yasminnn2903   \n",
       "57       79  1358102479657967618           3586  localbunnybitch   \n",
       "2673    256           1027214204          67514   JudicatorPredo   \n",
       "1400     21  1233373817407496192          26199   ButterflyAbuse   \n",
       "1737     16  1360904902202056707             54      Selinasahar   \n",
       "...     ...                  ...            ...              ...   \n",
       "2260     61           1289565265         610555   Ratings_via_FL   \n",
       "419      21             44144586         172342    godmodetrader   \n",
       "702      38           1289565265         605853   Ratings_via_FL   \n",
       "1203     12   713431689767297026            244         timbabst   \n",
       "589      96           3235798643           8428   SchiescherKing   \n",
       "\n",
       "                                                  tweet  retweets  \\\n",
       "2274  @bxrxak hä zum Beispiel wie ASOS oder so kenns...         0   \n",
       "57    @whosmartinn Achsooooo ja hm\\nAlso bei vinted ...         0   \n",
       "2673  @undalles0yeah @isi_peazy Weiß gar nicht, ob Z...         0   \n",
       "1400               @the_fesxh @OlliL @Zalando Geht nich         0   \n",
       "1737  Was sich wohl die Leute bei der Bank denken di...         0   \n",
       "...                                                 ...       ...   \n",
       "2260  ▶ dpa-AFX: Berenberg hebt Ziel für Asos auf 70...         0   \n",
       "419   #Zalando - Das war knapp, das war richtig knap...         0   \n",
       "702   ▶ RBC belässt Zalando auf 'Outperform' - Ziel ...         0   \n",
       "1203  @levisimp666 Leider hast du nicht bei Zalando ...         0   \n",
       "589   .@Zalando_Press Ich habe mir diese (Stretched)...         1   \n",
       "\n",
       "                  location      created  followers  is_user_verified  \\\n",
       "2274    aus deiner mutter   07-Apr-2021        227             False   \n",
       "57                 she/her  01-Mar-2021        207             False   \n",
       "2673     Mitte des Flusses  12-Apr-2021        314             False   \n",
       "1400  Rostock, Deutschland  24-Mar-2021      10895             False   \n",
       "1737                        31-Mar-2021          8             False   \n",
       "...                    ...          ...        ...               ...   \n",
       "2260                 37574  09-Apr-2021        488             False   \n",
       "419   München, Deutschland  10-Mar-2021       9278             False   \n",
       "702                  37574  16-Mar-2021        493             False   \n",
       "1203                        24-Mar-2021         41             False   \n",
       "589                         11-Mar-2021       1587             False   \n",
       "\n",
       "      favorite_count  in_reply_to_status_id  keyword language  \\\n",
       "2274             1.0           1.379782e+18     asos       de   \n",
       "57               2.0           1.366471e+18     asos       de   \n",
       "2673             1.0           1.381686e+18  zalando       de   \n",
       "1400             3.0           1.374828e+18  zalando       de   \n",
       "1737             0.0                    NaN  zalando       de   \n",
       "...              ...                    ...      ...      ...   \n",
       "2260             0.0                    NaN     asos       de   \n",
       "419              2.0                    NaN  zalando       de   \n",
       "702              0.0                    NaN  zalando       de   \n",
       "1203             0.0           1.374488e+18  zalando       de   \n",
       "589             49.0                    NaN  zalando       de   \n",
       "\n",
       "                                                  clean  \\\n",
       "2274   zum beispiel wie asos oder kennst nicht oder wie   \n",
       "57    achsooooo hmalso bei vinted sind immer ganz ni...   \n",
       "2673  weiß gar nicht zalando überhaupt schwarze zahl...   \n",
       "1400                                          geht nich   \n",
       "1737  sich wohl die leute bei der bank denken die je...   \n",
       "...                                                 ...   \n",
       "2260  dpa afx berenberg hebt ziel für asos auf pence...   \n",
       "419   zalando das war knapp das war richtig knapp bö...   \n",
       "702   rbc belässt zalando auf outperform ziel euro n...   \n",
       "1203  leider hast nicht bei zalando mitgemacht hätte...   \n",
       "589   ich habe mir diese stretched jeans geholt aus ...   \n",
       "\n",
       "                                            clean_vader  compound  \\\n",
       "2274   zum Beispiel wie ASOS oder kennst nicht oder wie       0.0   \n",
       "57    Achsooooo hmAlso bei vinted sind immer ganz ni...       1.0   \n",
       "2673  Weiß gar nicht, Zalando überhaupt schwarze Zah...       0.0   \n",
       "1400                                          Geht nich       0.0   \n",
       "1737  Was sich wohl die Leute bei der Bank denken di...      -1.0   \n",
       "...                                                 ...       ...   \n",
       "2260  dpa-AFX: Berenberg hebt Ziel für Asos auf Penc...      -1.0   \n",
       "419   Zalando Das war knapp, das war richtig knapp b...      -1.0   \n",
       "702   RBC belässt Zalando auf 'Outperform' Ziel Euro...      -1.0   \n",
       "1203  Leider hast nicht bei Zalando mitgemacht ..da ...       0.0   \n",
       "589   Ich habe mir diese (Stretched) Jeans geholt au...      -1.0   \n",
       "\n",
       "                                                  lemma    bot  \n",
       "2274   zum beispiel wie asos oder kennen nicht oder wie  False  \n",
       "57    achsooooo hmalso bei vinted sein immer ganz ni...  False  \n",
       "2673  weiß gar nicht zalando überhaupt schwarze zahl...  False  \n",
       "1400                                         gehen nich  False  \n",
       "1737  sich wohl der leute bei der bank denken der je...  False  \n",
       "...                                                 ...    ...  \n",
       "2260  dpa afx berenberg heben ziel für asos auf penc...  False  \n",
       "419   zalando der sein knapp der sein richtig knapp ...  False  \n",
       "702   rbc belässt zalando auf outperform ziel euro n...  False  \n",
       "1203  leider haben nicht bei zalando mitmachen haben...  False  \n",
       "589   ich habe sich dies stretched jeans holen aus d...  False  \n",
       "\n",
       "[500 rows x 19 columns]"
      ],
      "text/html": "<div>\n<style scoped>\n    .dataframe tbody tr th:only-of-type {\n        vertical-align: middle;\n    }\n\n    .dataframe tbody tr th {\n        vertical-align: top;\n    }\n\n    .dataframe thead th {\n        text-align: right;\n    }\n</style>\n<table border=\"1\" class=\"dataframe\">\n  <thead>\n    <tr style=\"text-align: right;\">\n      <th></th>\n      <th>index</th>\n      <th>user_id</th>\n      <th>user_statuses</th>\n      <th>name</th>\n      <th>tweet</th>\n      <th>retweets</th>\n      <th>location</th>\n      <th>created</th>\n      <th>followers</th>\n      <th>is_user_verified</th>\n      <th>favorite_count</th>\n      <th>in_reply_to_status_id</th>\n      <th>keyword</th>\n      <th>language</th>\n      <th>clean</th>\n      <th>clean_vader</th>\n      <th>compound</th>\n      <th>lemma</th>\n      <th>bot</th>\n    </tr>\n  </thead>\n  <tbody>\n    <tr>\n      <th>2274</th>\n      <td>104</td>\n      <td>1364996553581219842</td>\n      <td>1393</td>\n      <td>yasminnn2903</td>\n      <td>@bxrxak hä zum Beispiel wie ASOS oder so kenns...</td>\n      <td>0</td>\n      <td>aus deiner mutter</td>\n      <td>07-Apr-2021</td>\n      <td>227</td>\n      <td>False</td>\n      <td>1.0</td>\n      <td>1.379782e+18</td>\n      <td>asos</td>\n      <td>de</td>\n      <td>zum beispiel wie asos oder kennst nicht oder wie</td>\n      <td>zum Beispiel wie ASOS oder kennst nicht oder wie</td>\n      <td>0.0</td>\n      <td>zum beispiel wie asos oder kennen nicht oder wie</td>\n      <td>False</td>\n    </tr>\n    <tr>\n      <th>57</th>\n      <td>79</td>\n      <td>1358102479657967618</td>\n      <td>3586</td>\n      <td>localbunnybitch</td>\n      <td>@whosmartinn Achsooooo ja hm\\nAlso bei vinted ...</td>\n      <td>0</td>\n      <td>she/her</td>\n      <td>01-Mar-2021</td>\n      <td>207</td>\n      <td>False</td>\n      <td>2.0</td>\n      <td>1.366471e+18</td>\n      <td>asos</td>\n      <td>de</td>\n      <td>achsooooo hmalso bei vinted sind immer ganz ni...</td>\n      <td>Achsooooo hmAlso bei vinted sind immer ganz ni...</td>\n      <td>1.0</td>\n      <td>achsooooo hmalso bei vinted sein immer ganz ni...</td>\n      <td>False</td>\n    </tr>\n    <tr>\n      <th>2673</th>\n      <td>256</td>\n      <td>1027214204</td>\n      <td>67514</td>\n      <td>JudicatorPredo</td>\n      <td>@undalles0yeah @isi_peazy Weiß gar nicht, ob Z...</td>\n      <td>0</td>\n      <td>Mitte des Flusses</td>\n      <td>12-Apr-2021</td>\n      <td>314</td>\n      <td>False</td>\n      <td>1.0</td>\n      <td>1.381686e+18</td>\n      <td>zalando</td>\n      <td>de</td>\n      <td>weiß gar nicht zalando überhaupt schwarze zahl...</td>\n      <td>Weiß gar nicht, Zalando überhaupt schwarze Zah...</td>\n      <td>0.0</td>\n      <td>weiß gar nicht zalando überhaupt schwarze zahl...</td>\n      <td>False</td>\n    </tr>\n    <tr>\n      <th>1400</th>\n      <td>21</td>\n      <td>1233373817407496192</td>\n      <td>26199</td>\n      <td>ButterflyAbuse</td>\n      <td>@the_fesxh @OlliL @Zalando Geht nich</td>\n      <td>0</td>\n      <td>Rostock, Deutschland</td>\n      <td>24-Mar-2021</td>\n      <td>10895</td>\n      <td>False</td>\n      <td>3.0</td>\n      <td>1.374828e+18</td>\n      <td>zalando</td>\n      <td>de</td>\n      <td>geht nich</td>\n      <td>Geht nich</td>\n      <td>0.0</td>\n      <td>gehen nich</td>\n      <td>False</td>\n    </tr>\n    <tr>\n      <th>1737</th>\n      <td>16</td>\n      <td>1360904902202056707</td>\n      <td>54</td>\n      <td>Selinasahar</td>\n      <td>Was sich wohl die Leute bei der Bank denken di...</td>\n      <td>0</td>\n      <td></td>\n      <td>31-Mar-2021</td>\n      <td>8</td>\n      <td>False</td>\n      <td>0.0</td>\n      <td>NaN</td>\n      <td>zalando</td>\n      <td>de</td>\n      <td>sich wohl die leute bei der bank denken die je...</td>\n      <td>Was sich wohl die Leute bei der Bank denken di...</td>\n      <td>-1.0</td>\n      <td>sich wohl der leute bei der bank denken der je...</td>\n      <td>False</td>\n    </tr>\n    <tr>\n      <th>...</th>\n      <td>...</td>\n      <td>...</td>\n      <td>...</td>\n      <td>...</td>\n      <td>...</td>\n      <td>...</td>\n      <td>...</td>\n      <td>...</td>\n      <td>...</td>\n      <td>...</td>\n      <td>...</td>\n      <td>...</td>\n      <td>...</td>\n      <td>...</td>\n      <td>...</td>\n      <td>...</td>\n      <td>...</td>\n      <td>...</td>\n      <td>...</td>\n    </tr>\n    <tr>\n      <th>2260</th>\n      <td>61</td>\n      <td>1289565265</td>\n      <td>610555</td>\n      <td>Ratings_via_FL</td>\n      <td>▶ dpa-AFX: Berenberg hebt Ziel für Asos auf 70...</td>\n      <td>0</td>\n      <td>37574</td>\n      <td>09-Apr-2021</td>\n      <td>488</td>\n      <td>False</td>\n      <td>0.0</td>\n      <td>NaN</td>\n      <td>asos</td>\n      <td>de</td>\n      <td>dpa afx berenberg hebt ziel für asos auf pence...</td>\n      <td>dpa-AFX: Berenberg hebt Ziel für Asos auf Penc...</td>\n      <td>-1.0</td>\n      <td>dpa afx berenberg heben ziel für asos auf penc...</td>\n      <td>False</td>\n    </tr>\n    <tr>\n      <th>419</th>\n      <td>21</td>\n      <td>44144586</td>\n      <td>172342</td>\n      <td>godmodetrader</td>\n      <td>#Zalando - Das war knapp, das war richtig knap...</td>\n      <td>0</td>\n      <td>München, Deutschland</td>\n      <td>10-Mar-2021</td>\n      <td>9278</td>\n      <td>False</td>\n      <td>2.0</td>\n      <td>NaN</td>\n      <td>zalando</td>\n      <td>de</td>\n      <td>zalando das war knapp das war richtig knapp bö...</td>\n      <td>Zalando Das war knapp, das war richtig knapp b...</td>\n      <td>-1.0</td>\n      <td>zalando der sein knapp der sein richtig knapp ...</td>\n      <td>False</td>\n    </tr>\n    <tr>\n      <th>702</th>\n      <td>38</td>\n      <td>1289565265</td>\n      <td>605853</td>\n      <td>Ratings_via_FL</td>\n      <td>▶ RBC belässt Zalando auf 'Outperform' - Ziel ...</td>\n      <td>0</td>\n      <td>37574</td>\n      <td>16-Mar-2021</td>\n      <td>493</td>\n      <td>False</td>\n      <td>0.0</td>\n      <td>NaN</td>\n      <td>zalando</td>\n      <td>de</td>\n      <td>rbc belässt zalando auf outperform ziel euro n...</td>\n      <td>RBC belässt Zalando auf 'Outperform' Ziel Euro...</td>\n      <td>-1.0</td>\n      <td>rbc belässt zalando auf outperform ziel euro n...</td>\n      <td>False</td>\n    </tr>\n    <tr>\n      <th>1203</th>\n      <td>12</td>\n      <td>713431689767297026</td>\n      <td>244</td>\n      <td>timbabst</td>\n      <td>@levisimp666 Leider hast du nicht bei Zalando ...</td>\n      <td>0</td>\n      <td></td>\n      <td>24-Mar-2021</td>\n      <td>41</td>\n      <td>False</td>\n      <td>0.0</td>\n      <td>1.374488e+18</td>\n      <td>zalando</td>\n      <td>de</td>\n      <td>leider hast nicht bei zalando mitgemacht hätte...</td>\n      <td>Leider hast nicht bei Zalando mitgemacht ..da ...</td>\n      <td>0.0</td>\n      <td>leider haben nicht bei zalando mitmachen haben...</td>\n      <td>False</td>\n    </tr>\n    <tr>\n      <th>589</th>\n      <td>96</td>\n      <td>3235798643</td>\n      <td>8428</td>\n      <td>SchiescherKing</td>\n      <td>.@Zalando_Press Ich habe mir diese (Stretched)...</td>\n      <td>1</td>\n      <td></td>\n      <td>11-Mar-2021</td>\n      <td>1587</td>\n      <td>False</td>\n      <td>49.0</td>\n      <td>NaN</td>\n      <td>zalando</td>\n      <td>de</td>\n      <td>ich habe mir diese stretched jeans geholt aus ...</td>\n      <td>Ich habe mir diese (Stretched) Jeans geholt au...</td>\n      <td>-1.0</td>\n      <td>ich habe sich dies stretched jeans holen aus d...</td>\n      <td>False</td>\n    </tr>\n  </tbody>\n</table>\n<p>500 rows × 19 columns</p>\n</div>"
     },
     "metadata": {},
     "execution_count": 7
    }
   ],
   "source": [
    " # filter out 500 first tweets from shuffled data\n",
    " shuffled_df.iloc[0:500]#.to_csv('data_n_models/de_vader_eval.csv')"
   ]
  },
  {
   "cell_type": "code",
   "execution_count": 8,
   "metadata": {},
   "outputs": [],
   "source": [
    "# manually labelled data in Excel and imported it again to our Github for further usage.\n",
    "# deleted compound so that the vader sentiment will not influence the manual labelling\n",
    "\n",
    "df = pd.read_csv('data_n_models/de_man_labelled_data_new.csv', sep = ';').drop('index', axis= 1) # drop everything except Sentiment and index for merging with original shuffled data again"
   ]
  },
  {
   "cell_type": "code",
   "execution_count": 9,
   "metadata": {},
   "outputs": [
    {
     "output_type": "execute_result",
     "data": {
      "text/plain": [
       "   Unnamed: 0  Sentiment\n",
       "0        2087         -1\n",
       "1         287          0\n",
       "2        2127          0\n",
       "3          94          0\n",
       "4         250          1"
      ],
      "text/html": "<div>\n<style scoped>\n    .dataframe tbody tr th:only-of-type {\n        vertical-align: middle;\n    }\n\n    .dataframe tbody tr th {\n        vertical-align: top;\n    }\n\n    .dataframe thead th {\n        text-align: right;\n    }\n</style>\n<table border=\"1\" class=\"dataframe\">\n  <thead>\n    <tr style=\"text-align: right;\">\n      <th></th>\n      <th>Unnamed: 0</th>\n      <th>Sentiment</th>\n    </tr>\n  </thead>\n  <tbody>\n    <tr>\n      <th>0</th>\n      <td>2087</td>\n      <td>-1</td>\n    </tr>\n    <tr>\n      <th>1</th>\n      <td>287</td>\n      <td>0</td>\n    </tr>\n    <tr>\n      <th>2</th>\n      <td>2127</td>\n      <td>0</td>\n    </tr>\n    <tr>\n      <th>3</th>\n      <td>94</td>\n      <td>0</td>\n    </tr>\n    <tr>\n      <th>4</th>\n      <td>250</td>\n      <td>1</td>\n    </tr>\n  </tbody>\n</table>\n</div>"
     },
     "metadata": {},
     "execution_count": 9
    }
   ],
   "source": [
    "df.head()"
   ]
  },
  {
   "cell_type": "code",
   "execution_count": 10,
   "metadata": {},
   "outputs": [
    {
     "output_type": "execute_result",
     "data": {
      "text/plain": [
       "      index              user_id  user_statuses      name  \\\n",
       "2087      1  1200528183164067841          25959  ToskaBoy   \n",
       "\n",
       "                                                 tweet  retweets location  \\\n",
       "2087  @FriedhofchiIIer Boohoo soll doch in Rente gehen         0            \n",
       "\n",
       "          created  followers  is_user_verified  favorite_count  \\\n",
       "2087  08-Apr-2021        251             False             3.0   \n",
       "\n",
       "      in_reply_to_status_id keyword language                         clean  \\\n",
       "2087           1.380103e+18  boohoo       de  boohoo soll doch rente gehen   \n",
       "\n",
       "                       clean_vader  compound                         lemma  \\\n",
       "2087  Boohoo soll doch Rente gehen       0.0  boohoo soll doch rente gehen   \n",
       "\n",
       "        bot  \n",
       "2087  False  "
      ],
      "text/html": "<div>\n<style scoped>\n    .dataframe tbody tr th:only-of-type {\n        vertical-align: middle;\n    }\n\n    .dataframe tbody tr th {\n        vertical-align: top;\n    }\n\n    .dataframe thead th {\n        text-align: right;\n    }\n</style>\n<table border=\"1\" class=\"dataframe\">\n  <thead>\n    <tr style=\"text-align: right;\">\n      <th></th>\n      <th>index</th>\n      <th>user_id</th>\n      <th>user_statuses</th>\n      <th>name</th>\n      <th>tweet</th>\n      <th>retweets</th>\n      <th>location</th>\n      <th>created</th>\n      <th>followers</th>\n      <th>is_user_verified</th>\n      <th>favorite_count</th>\n      <th>in_reply_to_status_id</th>\n      <th>keyword</th>\n      <th>language</th>\n      <th>clean</th>\n      <th>clean_vader</th>\n      <th>compound</th>\n      <th>lemma</th>\n      <th>bot</th>\n    </tr>\n  </thead>\n  <tbody>\n    <tr>\n      <th>2087</th>\n      <td>1</td>\n      <td>1200528183164067841</td>\n      <td>25959</td>\n      <td>ToskaBoy</td>\n      <td>@FriedhofchiIIer Boohoo soll doch in Rente gehen</td>\n      <td>0</td>\n      <td></td>\n      <td>08-Apr-2021</td>\n      <td>251</td>\n      <td>False</td>\n      <td>3.0</td>\n      <td>1.380103e+18</td>\n      <td>boohoo</td>\n      <td>de</td>\n      <td>boohoo soll doch rente gehen</td>\n      <td>Boohoo soll doch Rente gehen</td>\n      <td>0.0</td>\n      <td>boohoo soll doch rente gehen</td>\n      <td>False</td>\n    </tr>\n  </tbody>\n</table>\n</div>"
     },
     "metadata": {},
     "execution_count": 10
    }
   ],
   "source": [
    "shuffled_df[shuffled_df.index == 2087] "
   ]
  },
  {
   "cell_type": "code",
   "execution_count": 11,
   "metadata": {},
   "outputs": [],
   "source": [
    "# inner merge for only data with vader and manual sentiment, merging on indexes\n",
    "\n",
    "merged_df = pd.merge(shuffled_df, df, right_on='Unnamed: 0', left_index=True, how = 'inner') # Unnamed is here the old index for some reason"
   ]
  },
  {
   "cell_type": "code",
   "execution_count": 12,
   "metadata": {},
   "outputs": [],
   "source": [
    "merged_df = merged_df.drop(['Unnamed: 0'], axis = 1) # afterwards we can drop it, as we have the original index from the left dataset"
   ]
  },
  {
   "cell_type": "code",
   "execution_count": 13,
   "metadata": {},
   "outputs": [],
   "source": [
    "merged_df = merged_df.drop('index', axis = 1).reset_index().drop('index', axis = 1).reset_index() # same for the index and we can reset everything"
   ]
  },
  {
   "cell_type": "code",
   "execution_count": 14,
   "metadata": {},
   "outputs": [],
   "source": [
    "merged_df.Sentiment = merged_df.Sentiment.astype('float64') # changing Sentiment to float"
   ]
  },
  {
   "cell_type": "code",
   "execution_count": 15,
   "metadata": {},
   "outputs": [
    {
     "output_type": "execute_result",
     "data": {
      "text/plain": [
       "   index              user_id  user_statuses             name  \\\n",
       "0      0  1358102479657967618           3586  localbunnybitch   \n",
       "1      1           1027214204          67514   JudicatorPredo   \n",
       "2      2             33618241           7969     cyclist_city   \n",
       "3      3             23059415          14583         birgitzz   \n",
       "4      4  1250097593612472322           1868        zItzMatze   \n",
       "\n",
       "                                               tweet  retweets  \\\n",
       "0  @whosmartinn Achsooooo ja hm\\nAlso bei vinted ...         0   \n",
       "1  @undalles0yeah @isi_peazy Weiß gar nicht, ob Z...         0   \n",
       "2  @Zalando_Press @Vizions2017 Super! Warum nicht...         0   \n",
       "3  Von wegen, Umsatzeinbruch während Corona --&gt...         2   \n",
       "4  @aycaxkaya asos, die hatten da zwei übelst nic...         0   \n",
       "\n",
       "              location      created  followers  is_user_verified  \\\n",
       "0              she/her  01-Mar-2021        207             False   \n",
       "1    Mitte des Flusses  12-Apr-2021        314             False   \n",
       "2      Berlin, Germany  02-Mar-2021       1223             False   \n",
       "3  Zurich, Switzerland  15-Mar-2021       1280             False   \n",
       "4     bei mir zu hause  04-Apr-2021         31             False   \n",
       "\n",
       "   favorite_count  in_reply_to_status_id  keyword language  \\\n",
       "0             2.0           1.366471e+18     asos       de   \n",
       "1             1.0           1.381686e+18  zalando       de   \n",
       "2             3.0                    NaN  zalando       de   \n",
       "3             2.0                    NaN  zalando       de   \n",
       "4             1.0           1.378645e+18     asos       de   \n",
       "\n",
       "                                               clean  \\\n",
       "0  achsooooo hmalso bei vinted sind immer ganz ni...   \n",
       "1  weiß gar nicht zalando überhaupt schwarze zahl...   \n",
       "2              super warum nicht eurer heimat berlin   \n",
       "3  von wegen umsatzeinbruch während corona zaland...   \n",
       "4           asos die hatten zwei übelst nice tshirts   \n",
       "\n",
       "                                         clean_vader  compound  \\\n",
       "0  Achsooooo hmAlso bei vinted sind immer ganz ni...       1.0   \n",
       "1  Weiß gar nicht, Zalando überhaupt schwarze Zah...       0.0   \n",
       "2            Super! Warum nicht eurer Heimat Berlin?       1.0   \n",
       "3  Von wegen, Umsatzeinbruch während Corona --&gt...       0.0   \n",
       "4          asos, die hatten zwei übelst nice tshirts      -1.0   \n",
       "\n",
       "                                               lemma    bot  Sentiment  \n",
       "0  achsooooo hmalso bei vinted sein immer ganz ni...  False        1.0  \n",
       "1  weiß gar nicht zalando überhaupt schwarze zahl...  False        0.0  \n",
       "2              super warum nicht eurer heimat berlin  False        1.0  \n",
       "3  von wegen umsatzeinbruch während corona zaland...  False        1.0  \n",
       "4            asos der haben zwei übelst nice tshirts  False        1.0  "
      ],
      "text/html": "<div>\n<style scoped>\n    .dataframe tbody tr th:only-of-type {\n        vertical-align: middle;\n    }\n\n    .dataframe tbody tr th {\n        vertical-align: top;\n    }\n\n    .dataframe thead th {\n        text-align: right;\n    }\n</style>\n<table border=\"1\" class=\"dataframe\">\n  <thead>\n    <tr style=\"text-align: right;\">\n      <th></th>\n      <th>index</th>\n      <th>user_id</th>\n      <th>user_statuses</th>\n      <th>name</th>\n      <th>tweet</th>\n      <th>retweets</th>\n      <th>location</th>\n      <th>created</th>\n      <th>followers</th>\n      <th>is_user_verified</th>\n      <th>favorite_count</th>\n      <th>in_reply_to_status_id</th>\n      <th>keyword</th>\n      <th>language</th>\n      <th>clean</th>\n      <th>clean_vader</th>\n      <th>compound</th>\n      <th>lemma</th>\n      <th>bot</th>\n      <th>Sentiment</th>\n    </tr>\n  </thead>\n  <tbody>\n    <tr>\n      <th>0</th>\n      <td>0</td>\n      <td>1358102479657967618</td>\n      <td>3586</td>\n      <td>localbunnybitch</td>\n      <td>@whosmartinn Achsooooo ja hm\\nAlso bei vinted ...</td>\n      <td>0</td>\n      <td>she/her</td>\n      <td>01-Mar-2021</td>\n      <td>207</td>\n      <td>False</td>\n      <td>2.0</td>\n      <td>1.366471e+18</td>\n      <td>asos</td>\n      <td>de</td>\n      <td>achsooooo hmalso bei vinted sind immer ganz ni...</td>\n      <td>Achsooooo hmAlso bei vinted sind immer ganz ni...</td>\n      <td>1.0</td>\n      <td>achsooooo hmalso bei vinted sein immer ganz ni...</td>\n      <td>False</td>\n      <td>1.0</td>\n    </tr>\n    <tr>\n      <th>1</th>\n      <td>1</td>\n      <td>1027214204</td>\n      <td>67514</td>\n      <td>JudicatorPredo</td>\n      <td>@undalles0yeah @isi_peazy Weiß gar nicht, ob Z...</td>\n      <td>0</td>\n      <td>Mitte des Flusses</td>\n      <td>12-Apr-2021</td>\n      <td>314</td>\n      <td>False</td>\n      <td>1.0</td>\n      <td>1.381686e+18</td>\n      <td>zalando</td>\n      <td>de</td>\n      <td>weiß gar nicht zalando überhaupt schwarze zahl...</td>\n      <td>Weiß gar nicht, Zalando überhaupt schwarze Zah...</td>\n      <td>0.0</td>\n      <td>weiß gar nicht zalando überhaupt schwarze zahl...</td>\n      <td>False</td>\n      <td>0.0</td>\n    </tr>\n    <tr>\n      <th>2</th>\n      <td>2</td>\n      <td>33618241</td>\n      <td>7969</td>\n      <td>cyclist_city</td>\n      <td>@Zalando_Press @Vizions2017 Super! Warum nicht...</td>\n      <td>0</td>\n      <td>Berlin, Germany</td>\n      <td>02-Mar-2021</td>\n      <td>1223</td>\n      <td>False</td>\n      <td>3.0</td>\n      <td>NaN</td>\n      <td>zalando</td>\n      <td>de</td>\n      <td>super warum nicht eurer heimat berlin</td>\n      <td>Super! Warum nicht eurer Heimat Berlin?</td>\n      <td>1.0</td>\n      <td>super warum nicht eurer heimat berlin</td>\n      <td>False</td>\n      <td>1.0</td>\n    </tr>\n    <tr>\n      <th>3</th>\n      <td>3</td>\n      <td>23059415</td>\n      <td>14583</td>\n      <td>birgitzz</td>\n      <td>Von wegen, Umsatzeinbruch während Corona --&amp;gt...</td>\n      <td>2</td>\n      <td>Zurich, Switzerland</td>\n      <td>15-Mar-2021</td>\n      <td>1280</td>\n      <td>False</td>\n      <td>2.0</td>\n      <td>NaN</td>\n      <td>zalando</td>\n      <td>de</td>\n      <td>von wegen umsatzeinbruch während corona zaland...</td>\n      <td>Von wegen, Umsatzeinbruch während Corona --&amp;gt...</td>\n      <td>0.0</td>\n      <td>von wegen umsatzeinbruch während corona zaland...</td>\n      <td>False</td>\n      <td>1.0</td>\n    </tr>\n    <tr>\n      <th>4</th>\n      <td>4</td>\n      <td>1250097593612472322</td>\n      <td>1868</td>\n      <td>zItzMatze</td>\n      <td>@aycaxkaya asos, die hatten da zwei übelst nic...</td>\n      <td>0</td>\n      <td>bei mir zu hause</td>\n      <td>04-Apr-2021</td>\n      <td>31</td>\n      <td>False</td>\n      <td>1.0</td>\n      <td>1.378645e+18</td>\n      <td>asos</td>\n      <td>de</td>\n      <td>asos die hatten zwei übelst nice tshirts</td>\n      <td>asos, die hatten zwei übelst nice tshirts</td>\n      <td>-1.0</td>\n      <td>asos der haben zwei übelst nice tshirts</td>\n      <td>False</td>\n      <td>1.0</td>\n    </tr>\n  </tbody>\n</table>\n</div>"
     },
     "metadata": {},
     "execution_count": 15
    }
   ],
   "source": [
    "merged_df.head()"
   ]
  },
  {
   "cell_type": "code",
   "execution_count": 16,
   "metadata": {},
   "outputs": [
    {
     "output_type": "stream",
     "name": "stdout",
     "text": [
      "Sentiment  -1.0   0.0   1.0\ncompound                   \n-1.0         38    23    17\n 0.0         21    61    22\n 1.0          4     5    14\n"
     ]
    }
   ],
   "source": [
    "# column 'compound' from vader -> predicted values\n",
    "# column 'Sentiment' own labelled data -> true values\n",
    "# in order to determine the correctness of vader's sentiment evaluation we can use the confusion matrix to determine the false postives and negatives.\n",
    "\n",
    "con_mat = pd.crosstab(merged_df.compound, merged_df.Sentiment, rownames=['compound'], colnames=['Sentiment'])\n",
    "print(con_mat)"
   ]
  },
  {
   "source": [
    "True Positive (TP) \n",
    "\n",
    "    The predicted value matches the actual value\n",
    "    The actual value was positive and the model predicted a positive value\n",
    "\n",
    "True Negative (TN) \n",
    "\n",
    "    The predicted value matches the actual value\n",
    "    The actual value was negative and the model predicted a negative value\n",
    "\n",
    "False Positive (FP) – Type 1 error\n",
    "\n",
    "    The predicted value was falsely predicted\n",
    "    The actual value was negative but the model predicted a positive value\n",
    "    Also known as the Type 1 error\n",
    "\n",
    "False Negative (FN) – Type 2 error\n",
    "\n",
    "    The predicted value was falsely predicted\n",
    "    The actual value was positive but the model predicted a negative value\n",
    "    Also known as the Type 2 error\n"
   ],
   "cell_type": "markdown",
   "metadata": {}
  },
  {
   "source": [
    "#FN :  \n",
    "print(\"FN: \", con_mat)"
   ],
   "cell_type": "code",
   "metadata": {},
   "execution_count": 19,
   "outputs": [
    {
     "output_type": "error",
     "ename": "KeyError",
     "evalue": "(0, 1)",
     "traceback": [
      "\u001b[1;31m---------------------------------------------------------------------------\u001b[0m",
      "\u001b[1;31mTypeError\u001b[0m                                 Traceback (most recent call last)",
      "\u001b[1;32mpandas\\_libs\\index.pyx\u001b[0m in \u001b[0;36mpandas._libs.index.IndexEngine.get_loc\u001b[1;34m()\u001b[0m\n",
      "\u001b[1;32mpandas\\_libs\\hashtable_class_helper.pxi\u001b[0m in \u001b[0;36mpandas._libs.hashtable.Float64HashTable.get_item\u001b[1;34m()\u001b[0m\n",
      "\u001b[1;31mTypeError\u001b[0m: must be real number, not tuple",
      "\nDuring handling of the above exception, another exception occurred:\n",
      "\u001b[1;31mKeyError\u001b[0m                                  Traceback (most recent call last)",
      "\u001b[1;32m~\\AppData\\Roaming\\Python\\Python38\\site-packages\\pandas\\core\\indexes\\base.py\u001b[0m in \u001b[0;36mget_loc\u001b[1;34m(self, key, method, tolerance)\u001b[0m\n\u001b[0;32m   3079\u001b[0m             \u001b[1;32mtry\u001b[0m\u001b[1;33m:\u001b[0m\u001b[1;33m\u001b[0m\u001b[1;33m\u001b[0m\u001b[0m\n\u001b[1;32m-> 3080\u001b[1;33m                 \u001b[1;32mreturn\u001b[0m \u001b[0mself\u001b[0m\u001b[1;33m.\u001b[0m\u001b[0m_engine\u001b[0m\u001b[1;33m.\u001b[0m\u001b[0mget_loc\u001b[0m\u001b[1;33m(\u001b[0m\u001b[0mcasted_key\u001b[0m\u001b[1;33m)\u001b[0m\u001b[1;33m\u001b[0m\u001b[1;33m\u001b[0m\u001b[0m\n\u001b[0m\u001b[0;32m   3081\u001b[0m             \u001b[1;32mexcept\u001b[0m \u001b[0mKeyError\u001b[0m \u001b[1;32mas\u001b[0m \u001b[0merr\u001b[0m\u001b[1;33m:\u001b[0m\u001b[1;33m\u001b[0m\u001b[1;33m\u001b[0m\u001b[0m\n",
      "\u001b[1;32mpandas\\_libs\\index.pyx\u001b[0m in \u001b[0;36mpandas._libs.index.IndexEngine.get_loc\u001b[1;34m()\u001b[0m\n",
      "\u001b[1;32mpandas\\_libs\\index.pyx\u001b[0m in \u001b[0;36mpandas._libs.index.IndexEngine.get_loc\u001b[1;34m()\u001b[0m\n",
      "\u001b[1;31mKeyError\u001b[0m: (0, 1)",
      "\nThe above exception was the direct cause of the following exception:\n",
      "\u001b[1;31mKeyError\u001b[0m                                  Traceback (most recent call last)",
      "\u001b[1;32m<ipython-input-19-1fa5489d2ff7>\u001b[0m in \u001b[0;36m<module>\u001b[1;34m\u001b[0m\n\u001b[0;32m      1\u001b[0m \u001b[1;31m#FN :\u001b[0m\u001b[1;33m\u001b[0m\u001b[1;33m\u001b[0m\u001b[1;33m\u001b[0m\u001b[0m\n\u001b[1;32m----> 2\u001b[1;33m \u001b[0mprint\u001b[0m\u001b[1;33m(\u001b[0m\u001b[1;34m\"FN: \"\u001b[0m\u001b[1;33m,\u001b[0m \u001b[0mcon_mat\u001b[0m\u001b[1;33m[\u001b[0m\u001b[1;36m0\u001b[0m\u001b[1;33m,\u001b[0m\u001b[1;36m1\u001b[0m\u001b[1;33m]\u001b[0m\u001b[1;33m)\u001b[0m\u001b[1;33m\u001b[0m\u001b[1;33m\u001b[0m\u001b[0m\n\u001b[0m",
      "\u001b[1;32m~\\AppData\\Roaming\\Python\\Python38\\site-packages\\pandas\\core\\frame.py\u001b[0m in \u001b[0;36m__getitem__\u001b[1;34m(self, key)\u001b[0m\n\u001b[0;32m   3022\u001b[0m             \u001b[1;32mif\u001b[0m \u001b[0mself\u001b[0m\u001b[1;33m.\u001b[0m\u001b[0mcolumns\u001b[0m\u001b[1;33m.\u001b[0m\u001b[0mnlevels\u001b[0m \u001b[1;33m>\u001b[0m \u001b[1;36m1\u001b[0m\u001b[1;33m:\u001b[0m\u001b[1;33m\u001b[0m\u001b[1;33m\u001b[0m\u001b[0m\n\u001b[0;32m   3023\u001b[0m                 \u001b[1;32mreturn\u001b[0m \u001b[0mself\u001b[0m\u001b[1;33m.\u001b[0m\u001b[0m_getitem_multilevel\u001b[0m\u001b[1;33m(\u001b[0m\u001b[0mkey\u001b[0m\u001b[1;33m)\u001b[0m\u001b[1;33m\u001b[0m\u001b[1;33m\u001b[0m\u001b[0m\n\u001b[1;32m-> 3024\u001b[1;33m             \u001b[0mindexer\u001b[0m \u001b[1;33m=\u001b[0m \u001b[0mself\u001b[0m\u001b[1;33m.\u001b[0m\u001b[0mcolumns\u001b[0m\u001b[1;33m.\u001b[0m\u001b[0mget_loc\u001b[0m\u001b[1;33m(\u001b[0m\u001b[0mkey\u001b[0m\u001b[1;33m)\u001b[0m\u001b[1;33m\u001b[0m\u001b[1;33m\u001b[0m\u001b[0m\n\u001b[0m\u001b[0;32m   3025\u001b[0m             \u001b[1;32mif\u001b[0m \u001b[0mis_integer\u001b[0m\u001b[1;33m(\u001b[0m\u001b[0mindexer\u001b[0m\u001b[1;33m)\u001b[0m\u001b[1;33m:\u001b[0m\u001b[1;33m\u001b[0m\u001b[1;33m\u001b[0m\u001b[0m\n\u001b[0;32m   3026\u001b[0m                 \u001b[0mindexer\u001b[0m \u001b[1;33m=\u001b[0m \u001b[1;33m[\u001b[0m\u001b[0mindexer\u001b[0m\u001b[1;33m]\u001b[0m\u001b[1;33m\u001b[0m\u001b[1;33m\u001b[0m\u001b[0m\n",
      "\u001b[1;32m~\\AppData\\Roaming\\Python\\Python38\\site-packages\\pandas\\core\\indexes\\numeric.py\u001b[0m in \u001b[0;36mget_loc\u001b[1;34m(self, key, method, tolerance)\u001b[0m\n\u001b[0;32m    393\u001b[0m             \u001b[1;32mreturn\u001b[0m \u001b[0mnan_idxs\u001b[0m\u001b[1;33m\u001b[0m\u001b[1;33m\u001b[0m\u001b[0m\n\u001b[0;32m    394\u001b[0m \u001b[1;33m\u001b[0m\u001b[0m\n\u001b[1;32m--> 395\u001b[1;33m         \u001b[1;32mreturn\u001b[0m \u001b[0msuper\u001b[0m\u001b[1;33m(\u001b[0m\u001b[1;33m)\u001b[0m\u001b[1;33m.\u001b[0m\u001b[0mget_loc\u001b[0m\u001b[1;33m(\u001b[0m\u001b[0mkey\u001b[0m\u001b[1;33m,\u001b[0m \u001b[0mmethod\u001b[0m\u001b[1;33m=\u001b[0m\u001b[0mmethod\u001b[0m\u001b[1;33m,\u001b[0m \u001b[0mtolerance\u001b[0m\u001b[1;33m=\u001b[0m\u001b[0mtolerance\u001b[0m\u001b[1;33m)\u001b[0m\u001b[1;33m\u001b[0m\u001b[1;33m\u001b[0m\u001b[0m\n\u001b[0m\u001b[0;32m    396\u001b[0m \u001b[1;33m\u001b[0m\u001b[0m\n\u001b[0;32m    397\u001b[0m     \u001b[1;31m# ----------------------------------------------------------------\u001b[0m\u001b[1;33m\u001b[0m\u001b[1;33m\u001b[0m\u001b[1;33m\u001b[0m\u001b[0m\n",
      "\u001b[1;32m~\\AppData\\Roaming\\Python\\Python38\\site-packages\\pandas\\core\\indexes\\base.py\u001b[0m in \u001b[0;36mget_loc\u001b[1;34m(self, key, method, tolerance)\u001b[0m\n\u001b[0;32m   3080\u001b[0m                 \u001b[1;32mreturn\u001b[0m \u001b[0mself\u001b[0m\u001b[1;33m.\u001b[0m\u001b[0m_engine\u001b[0m\u001b[1;33m.\u001b[0m\u001b[0mget_loc\u001b[0m\u001b[1;33m(\u001b[0m\u001b[0mcasted_key\u001b[0m\u001b[1;33m)\u001b[0m\u001b[1;33m\u001b[0m\u001b[1;33m\u001b[0m\u001b[0m\n\u001b[0;32m   3081\u001b[0m             \u001b[1;32mexcept\u001b[0m \u001b[0mKeyError\u001b[0m \u001b[1;32mas\u001b[0m \u001b[0merr\u001b[0m\u001b[1;33m:\u001b[0m\u001b[1;33m\u001b[0m\u001b[1;33m\u001b[0m\u001b[0m\n\u001b[1;32m-> 3082\u001b[1;33m                 \u001b[1;32mraise\u001b[0m \u001b[0mKeyError\u001b[0m\u001b[1;33m(\u001b[0m\u001b[0mkey\u001b[0m\u001b[1;33m)\u001b[0m \u001b[1;32mfrom\u001b[0m \u001b[0merr\u001b[0m\u001b[1;33m\u001b[0m\u001b[1;33m\u001b[0m\u001b[0m\n\u001b[0m\u001b[0;32m   3083\u001b[0m \u001b[1;33m\u001b[0m\u001b[0m\n\u001b[0;32m   3084\u001b[0m         \u001b[1;32mif\u001b[0m \u001b[0mtolerance\u001b[0m \u001b[1;32mis\u001b[0m \u001b[1;32mnot\u001b[0m \u001b[1;32mNone\u001b[0m\u001b[1;33m:\u001b[0m\u001b[1;33m\u001b[0m\u001b[1;33m\u001b[0m\u001b[0m\n",
      "\u001b[1;31mKeyError\u001b[0m: (0, 1)"
     ]
    }
   ]
  },
  {
   "cell_type": "code",
   "execution_count": 21,
   "metadata": {},
   "outputs": [],
   "source": [
    "from sklearn.metrics import multilabel_confusion_matrix"
   ]
  },
  {
   "cell_type": "code",
   "execution_count": 39,
   "metadata": {},
   "outputs": [
    {
     "output_type": "stream",
     "name": "stdout",
     "text": [
      "[[[102  25]\n  [ 40  38]]\n\n [[ 73  28]\n  [ 43  61]]\n\n [[143  39]\n  [  9  14]]]\n"
     ]
    }
   ],
   "source": [
    "print(multilabel_confusion_matrix(merged_df.compound, merged_df.Sentiment))"
   ]
  },
  {
   "cell_type": "code",
   "execution_count": 34,
   "metadata": {},
   "outputs": [],
   "source": [
    "import matplotlib.pyplot as plt\n",
    "import seaborn as sns"
   ]
  },
  {
   "cell_type": "code",
   "execution_count": 42,
   "metadata": {},
   "outputs": [
    {
     "output_type": "execute_result",
     "data": {
      "text/plain": [
       "<AxesSubplot:xlabel='Sentiment', ylabel='compound'>"
      ]
     },
     "metadata": {},
     "execution_count": 42
    },
    {
     "output_type": "display_data",
     "data": {
      "text/plain": "<Figure size 432x288 with 2 Axes>",
      "image/svg+xml": "<?xml version=\"1.0\" encoding=\"utf-8\" standalone=\"no\"?>\r\n<!DOCTYPE svg PUBLIC \"-//W3C//DTD SVG 1.1//EN\"\r\n  \"http://www.w3.org/Graphics/SVG/1.1/DTD/svg11.dtd\">\r\n<svg height=\"262.19625pt\" version=\"1.1\" viewBox=\"0 0 359.93325 262.19625\" width=\"359.93325pt\" xmlns=\"http://www.w3.org/2000/svg\" xmlns:xlink=\"http://www.w3.org/1999/xlink\">\r\n <metadata>\r\n  <rdf:RDF xmlns:cc=\"http://creativecommons.org/ns#\" xmlns:dc=\"http://purl.org/dc/elements/1.1/\" xmlns:rdf=\"http://www.w3.org/1999/02/22-rdf-syntax-ns#\">\r\n   <cc:Work>\r\n    <dc:type rdf:resource=\"http://purl.org/dc/dcmitype/StillImage\"/>\r\n    <dc:date>2021-06-29T22:00:21.340268</dc:date>\r\n    <dc:format>image/svg+xml</dc:format>\r\n    <dc:creator>\r\n     <cc:Agent>\r\n      <dc:title>Matplotlib v3.4.2, https://matplotlib.org/</dc:title>\r\n     </cc:Agent>\r\n    </dc:creator>\r\n   </cc:Work>\r\n  </rdf:RDF>\r\n </metadata>\r\n <defs>\r\n  <style type=\"text/css\">*{stroke-linecap:butt;stroke-linejoin:round;}</style>\r\n </defs>\r\n <g id=\"figure_1\">\r\n  <g id=\"patch_1\">\r\n   <path d=\"M 0 262.19625 \r\nL 359.93325 262.19625 \r\nL 359.93325 0 \r\nL 0 0 \r\nz\r\n\" style=\"fill:none;\"/>\r\n  </g>\r\n  <g id=\"axes_1\">\r\n   <g id=\"patch_2\">\r\n    <path d=\"M 37.55625 224.64 \r\nL 305.39625 224.64 \r\nL 305.39625 7.2 \r\nL 37.55625 7.2 \r\nz\r\n\" style=\"fill:#ffffff;\"/>\r\n   </g>\r\n   <g id=\"QuadMesh_1\">\r\n    <path clip-path=\"url(#p0e240a2723)\" d=\"M 37.55625 7.2 \r\nL 126.83625 7.2 \r\nL 126.83625 79.68 \r\nL 37.55625 79.68 \r\nL 37.55625 7.2 \r\n\" style=\"fill:#f07919;\"/>\r\n    <path clip-path=\"url(#p0e240a2723)\" d=\"M 126.83625 7.2 \r\nL 216.11625 7.2 \r\nL 216.11625 79.68 \r\nL 126.83625 79.68 \r\nL 126.83625 7.2 \r\n\" style=\"fill:#fece65;\"/>\r\n    <path clip-path=\"url(#p0e240a2723)\" d=\"M 216.11625 7.2 \r\nL 305.39625 7.2 \r\nL 305.39625 79.68 \r\nL 216.11625 79.68 \r\nL 216.11625 7.2 \r\n\" style=\"fill:#fee799;\"/>\r\n    <path clip-path=\"url(#p0e240a2723)\" d=\"M 37.55625 79.68 \r\nL 126.83625 79.68 \r\nL 126.83625 152.16 \r\nL 37.55625 152.16 \r\nL 37.55625 79.68 \r\n\" style=\"fill:#fed778;\"/>\r\n    <path clip-path=\"url(#p0e240a2723)\" d=\"M 126.83625 79.68 \r\nL 216.11625 79.68 \r\nL 216.11625 152.16 \r\nL 126.83625 152.16 \r\nL 126.83625 79.68 \r\n\" style=\"fill:#662506;\"/>\r\n    <path clip-path=\"url(#p0e240a2723)\" d=\"M 216.11625 79.68 \r\nL 305.39625 79.68 \r\nL 305.39625 152.16 \r\nL 216.11625 152.16 \r\nL 216.11625 79.68 \r\n\" style=\"fill:#fed36f;\"/>\r\n    <path clip-path=\"url(#p0e240a2723)\" d=\"M 37.55625 152.16 \r\nL 126.83625 152.16 \r\nL 126.83625 224.64 \r\nL 37.55625 224.64 \r\nL 37.55625 152.16 \r\n\" style=\"fill:#ffffe5;\"/>\r\n    <path clip-path=\"url(#p0e240a2723)\" d=\"M 126.83625 152.16 \r\nL 216.11625 152.16 \r\nL 216.11625 224.64 \r\nL 126.83625 224.64 \r\nL 126.83625 152.16 \r\n\" style=\"fill:#fffee0;\"/>\r\n    <path clip-path=\"url(#p0e240a2723)\" d=\"M 216.11625 152.16 \r\nL 305.39625 152.16 \r\nL 305.39625 224.64 \r\nL 216.11625 224.64 \r\nL 216.11625 152.16 \r\n\" style=\"fill:#ffefac;\"/>\r\n   </g>\r\n   <g id=\"matplotlib.axis_1\">\r\n    <g id=\"xtick_1\">\r\n     <g id=\"line2d_1\">\r\n      <defs>\r\n       <path d=\"M 0 0 \r\nL 0 3.5 \r\n\" id=\"m3b790fe1d6\" style=\"stroke:#000000;stroke-width:0.8;\"/>\r\n      </defs>\r\n      <g>\r\n       <use style=\"stroke:#000000;stroke-width:0.8;\" x=\"82.19625\" xlink:href=\"#m3b790fe1d6\" y=\"224.64\"/>\r\n      </g>\r\n     </g>\r\n     <g id=\"text_1\">\r\n      <!-- Negative -->\r\n      <g transform=\"translate(59.755625 239.238437)scale(0.1 -0.1)\">\r\n       <defs>\r\n        <path d=\"M 628 4666 \r\nL 1478 4666 \r\nL 3547 763 \r\nL 3547 4666 \r\nL 4159 4666 \r\nL 4159 0 \r\nL 3309 0 \r\nL 1241 3903 \r\nL 1241 0 \r\nL 628 0 \r\nL 628 4666 \r\nz\r\n\" id=\"DejaVuSans-4e\" transform=\"scale(0.015625)\"/>\r\n        <path d=\"M 3597 1894 \r\nL 3597 1613 \r\nL 953 1613 \r\nQ 991 1019 1311 708 \r\nQ 1631 397 2203 397 \r\nQ 2534 397 2845 478 \r\nQ 3156 559 3463 722 \r\nL 3463 178 \r\nQ 3153 47 2828 -22 \r\nQ 2503 -91 2169 -91 \r\nQ 1331 -91 842 396 \r\nQ 353 884 353 1716 \r\nQ 353 2575 817 3079 \r\nQ 1281 3584 2069 3584 \r\nQ 2775 3584 3186 3129 \r\nQ 3597 2675 3597 1894 \r\nz\r\nM 3022 2063 \r\nQ 3016 2534 2758 2815 \r\nQ 2500 3097 2075 3097 \r\nQ 1594 3097 1305 2825 \r\nQ 1016 2553 972 2059 \r\nL 3022 2063 \r\nz\r\n\" id=\"DejaVuSans-65\" transform=\"scale(0.015625)\"/>\r\n        <path d=\"M 2906 1791 \r\nQ 2906 2416 2648 2759 \r\nQ 2391 3103 1925 3103 \r\nQ 1463 3103 1205 2759 \r\nQ 947 2416 947 1791 \r\nQ 947 1169 1205 825 \r\nQ 1463 481 1925 481 \r\nQ 2391 481 2648 825 \r\nQ 2906 1169 2906 1791 \r\nz\r\nM 3481 434 \r\nQ 3481 -459 3084 -895 \r\nQ 2688 -1331 1869 -1331 \r\nQ 1566 -1331 1297 -1286 \r\nQ 1028 -1241 775 -1147 \r\nL 775 -588 \r\nQ 1028 -725 1275 -790 \r\nQ 1522 -856 1778 -856 \r\nQ 2344 -856 2625 -561 \r\nQ 2906 -266 2906 331 \r\nL 2906 616 \r\nQ 2728 306 2450 153 \r\nQ 2172 0 1784 0 \r\nQ 1141 0 747 490 \r\nQ 353 981 353 1791 \r\nQ 353 2603 747 3093 \r\nQ 1141 3584 1784 3584 \r\nQ 2172 3584 2450 3431 \r\nQ 2728 3278 2906 2969 \r\nL 2906 3500 \r\nL 3481 3500 \r\nL 3481 434 \r\nz\r\n\" id=\"DejaVuSans-67\" transform=\"scale(0.015625)\"/>\r\n        <path d=\"M 2194 1759 \r\nQ 1497 1759 1228 1600 \r\nQ 959 1441 959 1056 \r\nQ 959 750 1161 570 \r\nQ 1363 391 1709 391 \r\nQ 2188 391 2477 730 \r\nQ 2766 1069 2766 1631 \r\nL 2766 1759 \r\nL 2194 1759 \r\nz\r\nM 3341 1997 \r\nL 3341 0 \r\nL 2766 0 \r\nL 2766 531 \r\nQ 2569 213 2275 61 \r\nQ 1981 -91 1556 -91 \r\nQ 1019 -91 701 211 \r\nQ 384 513 384 1019 \r\nQ 384 1609 779 1909 \r\nQ 1175 2209 1959 2209 \r\nL 2766 2209 \r\nL 2766 2266 \r\nQ 2766 2663 2505 2880 \r\nQ 2244 3097 1772 3097 \r\nQ 1472 3097 1187 3025 \r\nQ 903 2953 641 2809 \r\nL 641 3341 \r\nQ 956 3463 1253 3523 \r\nQ 1550 3584 1831 3584 \r\nQ 2591 3584 2966 3190 \r\nQ 3341 2797 3341 1997 \r\nz\r\n\" id=\"DejaVuSans-61\" transform=\"scale(0.015625)\"/>\r\n        <path d=\"M 1172 4494 \r\nL 1172 3500 \r\nL 2356 3500 \r\nL 2356 3053 \r\nL 1172 3053 \r\nL 1172 1153 \r\nQ 1172 725 1289 603 \r\nQ 1406 481 1766 481 \r\nL 2356 481 \r\nL 2356 0 \r\nL 1766 0 \r\nQ 1100 0 847 248 \r\nQ 594 497 594 1153 \r\nL 594 3053 \r\nL 172 3053 \r\nL 172 3500 \r\nL 594 3500 \r\nL 594 4494 \r\nL 1172 4494 \r\nz\r\n\" id=\"DejaVuSans-74\" transform=\"scale(0.015625)\"/>\r\n        <path d=\"M 603 3500 \r\nL 1178 3500 \r\nL 1178 0 \r\nL 603 0 \r\nL 603 3500 \r\nz\r\nM 603 4863 \r\nL 1178 4863 \r\nL 1178 4134 \r\nL 603 4134 \r\nL 603 4863 \r\nz\r\n\" id=\"DejaVuSans-69\" transform=\"scale(0.015625)\"/>\r\n        <path d=\"M 191 3500 \r\nL 800 3500 \r\nL 1894 563 \r\nL 2988 3500 \r\nL 3597 3500 \r\nL 2284 0 \r\nL 1503 0 \r\nL 191 3500 \r\nz\r\n\" id=\"DejaVuSans-76\" transform=\"scale(0.015625)\"/>\r\n       </defs>\r\n       <use xlink:href=\"#DejaVuSans-4e\"/>\r\n       <use x=\"74.804688\" xlink:href=\"#DejaVuSans-65\"/>\r\n       <use x=\"136.328125\" xlink:href=\"#DejaVuSans-67\"/>\r\n       <use x=\"199.804688\" xlink:href=\"#DejaVuSans-61\"/>\r\n       <use x=\"261.083984\" xlink:href=\"#DejaVuSans-74\"/>\r\n       <use x=\"300.292969\" xlink:href=\"#DejaVuSans-69\"/>\r\n       <use x=\"328.076172\" xlink:href=\"#DejaVuSans-76\"/>\r\n       <use x=\"387.255859\" xlink:href=\"#DejaVuSans-65\"/>\r\n      </g>\r\n     </g>\r\n    </g>\r\n    <g id=\"xtick_2\">\r\n     <g id=\"line2d_2\">\r\n      <g>\r\n       <use style=\"stroke:#000000;stroke-width:0.8;\" x=\"171.47625\" xlink:href=\"#m3b790fe1d6\" y=\"224.64\"/>\r\n      </g>\r\n     </g>\r\n     <g id=\"text_2\">\r\n      <!-- Neutral -->\r\n      <g transform=\"translate(153.021563 239.238437)scale(0.1 -0.1)\">\r\n       <defs>\r\n        <path d=\"M 544 1381 \r\nL 544 3500 \r\nL 1119 3500 \r\nL 1119 1403 \r\nQ 1119 906 1312 657 \r\nQ 1506 409 1894 409 \r\nQ 2359 409 2629 706 \r\nQ 2900 1003 2900 1516 \r\nL 2900 3500 \r\nL 3475 3500 \r\nL 3475 0 \r\nL 2900 0 \r\nL 2900 538 \r\nQ 2691 219 2414 64 \r\nQ 2138 -91 1772 -91 \r\nQ 1169 -91 856 284 \r\nQ 544 659 544 1381 \r\nz\r\nM 1991 3584 \r\nL 1991 3584 \r\nz\r\n\" id=\"DejaVuSans-75\" transform=\"scale(0.015625)\"/>\r\n        <path d=\"M 2631 2963 \r\nQ 2534 3019 2420 3045 \r\nQ 2306 3072 2169 3072 \r\nQ 1681 3072 1420 2755 \r\nQ 1159 2438 1159 1844 \r\nL 1159 0 \r\nL 581 0 \r\nL 581 3500 \r\nL 1159 3500 \r\nL 1159 2956 \r\nQ 1341 3275 1631 3429 \r\nQ 1922 3584 2338 3584 \r\nQ 2397 3584 2469 3576 \r\nQ 2541 3569 2628 3553 \r\nL 2631 2963 \r\nz\r\n\" id=\"DejaVuSans-72\" transform=\"scale(0.015625)\"/>\r\n        <path d=\"M 603 4863 \r\nL 1178 4863 \r\nL 1178 0 \r\nL 603 0 \r\nL 603 4863 \r\nz\r\n\" id=\"DejaVuSans-6c\" transform=\"scale(0.015625)\"/>\r\n       </defs>\r\n       <use xlink:href=\"#DejaVuSans-4e\"/>\r\n       <use x=\"74.804688\" xlink:href=\"#DejaVuSans-65\"/>\r\n       <use x=\"136.328125\" xlink:href=\"#DejaVuSans-75\"/>\r\n       <use x=\"199.707031\" xlink:href=\"#DejaVuSans-74\"/>\r\n       <use x=\"238.916016\" xlink:href=\"#DejaVuSans-72\"/>\r\n       <use x=\"280.029297\" xlink:href=\"#DejaVuSans-61\"/>\r\n       <use x=\"341.308594\" xlink:href=\"#DejaVuSans-6c\"/>\r\n      </g>\r\n     </g>\r\n    </g>\r\n    <g id=\"xtick_3\">\r\n     <g id=\"line2d_3\">\r\n      <g>\r\n       <use style=\"stroke:#000000;stroke-width:0.8;\" x=\"260.75625\" xlink:href=\"#m3b790fe1d6\" y=\"224.64\"/>\r\n      </g>\r\n     </g>\r\n     <g id=\"text_3\">\r\n      <!-- Positive -->\r\n      <g transform=\"translate(241.484375 239.238437)scale(0.1 -0.1)\">\r\n       <defs>\r\n        <path d=\"M 1259 4147 \r\nL 1259 2394 \r\nL 2053 2394 \r\nQ 2494 2394 2734 2622 \r\nQ 2975 2850 2975 3272 \r\nQ 2975 3691 2734 3919 \r\nQ 2494 4147 2053 4147 \r\nL 1259 4147 \r\nz\r\nM 628 4666 \r\nL 2053 4666 \r\nQ 2838 4666 3239 4311 \r\nQ 3641 3956 3641 3272 \r\nQ 3641 2581 3239 2228 \r\nQ 2838 1875 2053 1875 \r\nL 1259 1875 \r\nL 1259 0 \r\nL 628 0 \r\nL 628 4666 \r\nz\r\n\" id=\"DejaVuSans-50\" transform=\"scale(0.015625)\"/>\r\n        <path d=\"M 1959 3097 \r\nQ 1497 3097 1228 2736 \r\nQ 959 2375 959 1747 \r\nQ 959 1119 1226 758 \r\nQ 1494 397 1959 397 \r\nQ 2419 397 2687 759 \r\nQ 2956 1122 2956 1747 \r\nQ 2956 2369 2687 2733 \r\nQ 2419 3097 1959 3097 \r\nz\r\nM 1959 3584 \r\nQ 2709 3584 3137 3096 \r\nQ 3566 2609 3566 1747 \r\nQ 3566 888 3137 398 \r\nQ 2709 -91 1959 -91 \r\nQ 1206 -91 779 398 \r\nQ 353 888 353 1747 \r\nQ 353 2609 779 3096 \r\nQ 1206 3584 1959 3584 \r\nz\r\n\" id=\"DejaVuSans-6f\" transform=\"scale(0.015625)\"/>\r\n        <path d=\"M 2834 3397 \r\nL 2834 2853 \r\nQ 2591 2978 2328 3040 \r\nQ 2066 3103 1784 3103 \r\nQ 1356 3103 1142 2972 \r\nQ 928 2841 928 2578 \r\nQ 928 2378 1081 2264 \r\nQ 1234 2150 1697 2047 \r\nL 1894 2003 \r\nQ 2506 1872 2764 1633 \r\nQ 3022 1394 3022 966 \r\nQ 3022 478 2636 193 \r\nQ 2250 -91 1575 -91 \r\nQ 1294 -91 989 -36 \r\nQ 684 19 347 128 \r\nL 347 722 \r\nQ 666 556 975 473 \r\nQ 1284 391 1588 391 \r\nQ 1994 391 2212 530 \r\nQ 2431 669 2431 922 \r\nQ 2431 1156 2273 1281 \r\nQ 2116 1406 1581 1522 \r\nL 1381 1569 \r\nQ 847 1681 609 1914 \r\nQ 372 2147 372 2553 \r\nQ 372 3047 722 3315 \r\nQ 1072 3584 1716 3584 \r\nQ 2034 3584 2315 3537 \r\nQ 2597 3491 2834 3397 \r\nz\r\n\" id=\"DejaVuSans-73\" transform=\"scale(0.015625)\"/>\r\n       </defs>\r\n       <use xlink:href=\"#DejaVuSans-50\"/>\r\n       <use x=\"56.677734\" xlink:href=\"#DejaVuSans-6f\"/>\r\n       <use x=\"117.859375\" xlink:href=\"#DejaVuSans-73\"/>\r\n       <use x=\"169.958984\" xlink:href=\"#DejaVuSans-69\"/>\r\n       <use x=\"197.742188\" xlink:href=\"#DejaVuSans-74\"/>\r\n       <use x=\"236.951172\" xlink:href=\"#DejaVuSans-69\"/>\r\n       <use x=\"264.734375\" xlink:href=\"#DejaVuSans-76\"/>\r\n       <use x=\"323.914062\" xlink:href=\"#DejaVuSans-65\"/>\r\n      </g>\r\n     </g>\r\n    </g>\r\n    <g id=\"text_4\">\r\n     <!-- Sentiment -->\r\n     <g transform=\"translate(145.631719 252.916562)scale(0.1 -0.1)\">\r\n      <defs>\r\n       <path d=\"M 3425 4513 \r\nL 3425 3897 \r\nQ 3066 4069 2747 4153 \r\nQ 2428 4238 2131 4238 \r\nQ 1616 4238 1336 4038 \r\nQ 1056 3838 1056 3469 \r\nQ 1056 3159 1242 3001 \r\nQ 1428 2844 1947 2747 \r\nL 2328 2669 \r\nQ 3034 2534 3370 2195 \r\nQ 3706 1856 3706 1288 \r\nQ 3706 609 3251 259 \r\nQ 2797 -91 1919 -91 \r\nQ 1588 -91 1214 -16 \r\nQ 841 59 441 206 \r\nL 441 856 \r\nQ 825 641 1194 531 \r\nQ 1563 422 1919 422 \r\nQ 2459 422 2753 634 \r\nQ 3047 847 3047 1241 \r\nQ 3047 1584 2836 1778 \r\nQ 2625 1972 2144 2069 \r\nL 1759 2144 \r\nQ 1053 2284 737 2584 \r\nQ 422 2884 422 3419 \r\nQ 422 4038 858 4394 \r\nQ 1294 4750 2059 4750 \r\nQ 2388 4750 2728 4690 \r\nQ 3069 4631 3425 4513 \r\nz\r\n\" id=\"DejaVuSans-53\" transform=\"scale(0.015625)\"/>\r\n       <path d=\"M 3513 2113 \r\nL 3513 0 \r\nL 2938 0 \r\nL 2938 2094 \r\nQ 2938 2591 2744 2837 \r\nQ 2550 3084 2163 3084 \r\nQ 1697 3084 1428 2787 \r\nQ 1159 2491 1159 1978 \r\nL 1159 0 \r\nL 581 0 \r\nL 581 3500 \r\nL 1159 3500 \r\nL 1159 2956 \r\nQ 1366 3272 1645 3428 \r\nQ 1925 3584 2291 3584 \r\nQ 2894 3584 3203 3211 \r\nQ 3513 2838 3513 2113 \r\nz\r\n\" id=\"DejaVuSans-6e\" transform=\"scale(0.015625)\"/>\r\n       <path d=\"M 3328 2828 \r\nQ 3544 3216 3844 3400 \r\nQ 4144 3584 4550 3584 \r\nQ 5097 3584 5394 3201 \r\nQ 5691 2819 5691 2113 \r\nL 5691 0 \r\nL 5113 0 \r\nL 5113 2094 \r\nQ 5113 2597 4934 2840 \r\nQ 4756 3084 4391 3084 \r\nQ 3944 3084 3684 2787 \r\nQ 3425 2491 3425 1978 \r\nL 3425 0 \r\nL 2847 0 \r\nL 2847 2094 \r\nQ 2847 2600 2669 2842 \r\nQ 2491 3084 2119 3084 \r\nQ 1678 3084 1418 2786 \r\nQ 1159 2488 1159 1978 \r\nL 1159 0 \r\nL 581 0 \r\nL 581 3500 \r\nL 1159 3500 \r\nL 1159 2956 \r\nQ 1356 3278 1631 3431 \r\nQ 1906 3584 2284 3584 \r\nQ 2666 3584 2933 3390 \r\nQ 3200 3197 3328 2828 \r\nz\r\n\" id=\"DejaVuSans-6d\" transform=\"scale(0.015625)\"/>\r\n      </defs>\r\n      <use xlink:href=\"#DejaVuSans-53\"/>\r\n      <use x=\"63.476562\" xlink:href=\"#DejaVuSans-65\"/>\r\n      <use x=\"125\" xlink:href=\"#DejaVuSans-6e\"/>\r\n      <use x=\"188.378906\" xlink:href=\"#DejaVuSans-74\"/>\r\n      <use x=\"227.587891\" xlink:href=\"#DejaVuSans-69\"/>\r\n      <use x=\"255.371094\" xlink:href=\"#DejaVuSans-6d\"/>\r\n      <use x=\"352.783203\" xlink:href=\"#DejaVuSans-65\"/>\r\n      <use x=\"414.306641\" xlink:href=\"#DejaVuSans-6e\"/>\r\n      <use x=\"477.685547\" xlink:href=\"#DejaVuSans-74\"/>\r\n     </g>\r\n    </g>\r\n   </g>\r\n   <g id=\"matplotlib.axis_2\">\r\n    <g id=\"ytick_1\">\r\n     <g id=\"line2d_4\">\r\n      <defs>\r\n       <path d=\"M 0 0 \r\nL -3.5 0 \r\n\" id=\"m4b3a1fdf90\" style=\"stroke:#000000;stroke-width:0.8;\"/>\r\n      </defs>\r\n      <g>\r\n       <use style=\"stroke:#000000;stroke-width:0.8;\" x=\"37.55625\" xlink:href=\"#m4b3a1fdf90\" y=\"43.44\"/>\r\n      </g>\r\n     </g>\r\n     <g id=\"text_5\">\r\n      <!-- Negative -->\r\n      <g transform=\"translate(28.476563 84.522031)rotate(-90)scale(0.1 -0.1)\">\r\n       <use xlink:href=\"#DejaVuSans-4e\"/>\r\n       <use x=\"74.804688\" xlink:href=\"#DejaVuSans-65\"/>\r\n       <use x=\"136.328125\" xlink:href=\"#DejaVuSans-67\"/>\r\n       <use x=\"199.804688\" xlink:href=\"#DejaVuSans-61\"/>\r\n       <use x=\"261.083984\" xlink:href=\"#DejaVuSans-74\"/>\r\n       <use x=\"300.292969\" xlink:href=\"#DejaVuSans-69\"/>\r\n       <use x=\"328.076172\" xlink:href=\"#DejaVuSans-76\"/>\r\n       <use x=\"387.255859\" xlink:href=\"#DejaVuSans-65\"/>\r\n      </g>\r\n     </g>\r\n    </g>\r\n    <g id=\"ytick_2\">\r\n     <g id=\"line2d_5\">\r\n      <g>\r\n       <use style=\"stroke:#000000;stroke-width:0.8;\" x=\"37.55625\" xlink:href=\"#m4b3a1fdf90\" y=\"115.92\"/>\r\n      </g>\r\n     </g>\r\n     <g id=\"text_6\">\r\n      <!-- Neutral -->\r\n      <g transform=\"translate(28.476563 149.030156)rotate(-90)scale(0.1 -0.1)\">\r\n       <use xlink:href=\"#DejaVuSans-4e\"/>\r\n       <use x=\"74.804688\" xlink:href=\"#DejaVuSans-65\"/>\r\n       <use x=\"136.328125\" xlink:href=\"#DejaVuSans-75\"/>\r\n       <use x=\"199.707031\" xlink:href=\"#DejaVuSans-74\"/>\r\n       <use x=\"238.916016\" xlink:href=\"#DejaVuSans-72\"/>\r\n       <use x=\"280.029297\" xlink:href=\"#DejaVuSans-61\"/>\r\n       <use x=\"341.308594\" xlink:href=\"#DejaVuSans-6c\"/>\r\n      </g>\r\n     </g>\r\n    </g>\r\n    <g id=\"ytick_3\">\r\n     <g id=\"line2d_6\">\r\n      <g>\r\n       <use style=\"stroke:#000000;stroke-width:0.8;\" x=\"37.55625\" xlink:href=\"#m4b3a1fdf90\" y=\"188.4\"/>\r\n      </g>\r\n     </g>\r\n     <g id=\"text_7\">\r\n      <!-- Positive -->\r\n      <g transform=\"translate(28.476563 223.144531)rotate(-90)scale(0.1 -0.1)\">\r\n       <use xlink:href=\"#DejaVuSans-50\"/>\r\n       <use x=\"56.677734\" xlink:href=\"#DejaVuSans-6f\"/>\r\n       <use x=\"117.859375\" xlink:href=\"#DejaVuSans-73\"/>\r\n       <use x=\"169.958984\" xlink:href=\"#DejaVuSans-69\"/>\r\n       <use x=\"197.742188\" xlink:href=\"#DejaVuSans-74\"/>\r\n       <use x=\"236.951172\" xlink:href=\"#DejaVuSans-69\"/>\r\n       <use x=\"264.734375\" xlink:href=\"#DejaVuSans-76\"/>\r\n       <use x=\"323.914062\" xlink:href=\"#DejaVuSans-65\"/>\r\n      </g>\r\n     </g>\r\n    </g>\r\n    <g id=\"text_8\">\r\n     <!-- compound -->\r\n     <g transform=\"translate(14.798438 142.344219)rotate(-90)scale(0.1 -0.1)\">\r\n      <defs>\r\n       <path d=\"M 3122 3366 \r\nL 3122 2828 \r\nQ 2878 2963 2633 3030 \r\nQ 2388 3097 2138 3097 \r\nQ 1578 3097 1268 2742 \r\nQ 959 2388 959 1747 \r\nQ 959 1106 1268 751 \r\nQ 1578 397 2138 397 \r\nQ 2388 397 2633 464 \r\nQ 2878 531 3122 666 \r\nL 3122 134 \r\nQ 2881 22 2623 -34 \r\nQ 2366 -91 2075 -91 \r\nQ 1284 -91 818 406 \r\nQ 353 903 353 1747 \r\nQ 353 2603 823 3093 \r\nQ 1294 3584 2113 3584 \r\nQ 2378 3584 2631 3529 \r\nQ 2884 3475 3122 3366 \r\nz\r\n\" id=\"DejaVuSans-63\" transform=\"scale(0.015625)\"/>\r\n       <path d=\"M 1159 525 \r\nL 1159 -1331 \r\nL 581 -1331 \r\nL 581 3500 \r\nL 1159 3500 \r\nL 1159 2969 \r\nQ 1341 3281 1617 3432 \r\nQ 1894 3584 2278 3584 \r\nQ 2916 3584 3314 3078 \r\nQ 3713 2572 3713 1747 \r\nQ 3713 922 3314 415 \r\nQ 2916 -91 2278 -91 \r\nQ 1894 -91 1617 61 \r\nQ 1341 213 1159 525 \r\nz\r\nM 3116 1747 \r\nQ 3116 2381 2855 2742 \r\nQ 2594 3103 2138 3103 \r\nQ 1681 3103 1420 2742 \r\nQ 1159 2381 1159 1747 \r\nQ 1159 1113 1420 752 \r\nQ 1681 391 2138 391 \r\nQ 2594 391 2855 752 \r\nQ 3116 1113 3116 1747 \r\nz\r\n\" id=\"DejaVuSans-70\" transform=\"scale(0.015625)\"/>\r\n       <path d=\"M 2906 2969 \r\nL 2906 4863 \r\nL 3481 4863 \r\nL 3481 0 \r\nL 2906 0 \r\nL 2906 525 \r\nQ 2725 213 2448 61 \r\nQ 2172 -91 1784 -91 \r\nQ 1150 -91 751 415 \r\nQ 353 922 353 1747 \r\nQ 353 2572 751 3078 \r\nQ 1150 3584 1784 3584 \r\nQ 2172 3584 2448 3432 \r\nQ 2725 3281 2906 2969 \r\nz\r\nM 947 1747 \r\nQ 947 1113 1208 752 \r\nQ 1469 391 1925 391 \r\nQ 2381 391 2643 752 \r\nQ 2906 1113 2906 1747 \r\nQ 2906 2381 2643 2742 \r\nQ 2381 3103 1925 3103 \r\nQ 1469 3103 1208 2742 \r\nQ 947 2381 947 1747 \r\nz\r\n\" id=\"DejaVuSans-64\" transform=\"scale(0.015625)\"/>\r\n      </defs>\r\n      <use xlink:href=\"#DejaVuSans-63\"/>\r\n      <use x=\"54.980469\" xlink:href=\"#DejaVuSans-6f\"/>\r\n      <use x=\"116.162109\" xlink:href=\"#DejaVuSans-6d\"/>\r\n      <use x=\"213.574219\" xlink:href=\"#DejaVuSans-70\"/>\r\n      <use x=\"277.050781\" xlink:href=\"#DejaVuSans-6f\"/>\r\n      <use x=\"338.232422\" xlink:href=\"#DejaVuSans-75\"/>\r\n      <use x=\"401.611328\" xlink:href=\"#DejaVuSans-6e\"/>\r\n      <use x=\"464.990234\" xlink:href=\"#DejaVuSans-64\"/>\r\n     </g>\r\n    </g>\r\n   </g>\r\n   <g id=\"text_9\">\r\n    <!-- 38 -->\r\n    <g style=\"fill:#ffffff;\" transform=\"translate(72.01625 47.855)scale(0.16 -0.16)\">\r\n     <defs>\r\n      <path d=\"M 2597 2516 \r\nQ 3050 2419 3304 2112 \r\nQ 3559 1806 3559 1356 \r\nQ 3559 666 3084 287 \r\nQ 2609 -91 1734 -91 \r\nQ 1441 -91 1130 -33 \r\nQ 819 25 488 141 \r\nL 488 750 \r\nQ 750 597 1062 519 \r\nQ 1375 441 1716 441 \r\nQ 2309 441 2620 675 \r\nQ 2931 909 2931 1356 \r\nQ 2931 1769 2642 2001 \r\nQ 2353 2234 1838 2234 \r\nL 1294 2234 \r\nL 1294 2753 \r\nL 1863 2753 \r\nQ 2328 2753 2575 2939 \r\nQ 2822 3125 2822 3475 \r\nQ 2822 3834 2567 4026 \r\nQ 2313 4219 1838 4219 \r\nQ 1578 4219 1281 4162 \r\nQ 984 4106 628 3988 \r\nL 628 4550 \r\nQ 988 4650 1302 4700 \r\nQ 1616 4750 1894 4750 \r\nQ 2613 4750 3031 4423 \r\nQ 3450 4097 3450 3541 \r\nQ 3450 3153 3228 2886 \r\nQ 3006 2619 2597 2516 \r\nz\r\n\" id=\"DejaVuSans-33\" transform=\"scale(0.015625)\"/>\r\n      <path d=\"M 2034 2216 \r\nQ 1584 2216 1326 1975 \r\nQ 1069 1734 1069 1313 \r\nQ 1069 891 1326 650 \r\nQ 1584 409 2034 409 \r\nQ 2484 409 2743 651 \r\nQ 3003 894 3003 1313 \r\nQ 3003 1734 2745 1975 \r\nQ 2488 2216 2034 2216 \r\nz\r\nM 1403 2484 \r\nQ 997 2584 770 2862 \r\nQ 544 3141 544 3541 \r\nQ 544 4100 942 4425 \r\nQ 1341 4750 2034 4750 \r\nQ 2731 4750 3128 4425 \r\nQ 3525 4100 3525 3541 \r\nQ 3525 3141 3298 2862 \r\nQ 3072 2584 2669 2484 \r\nQ 3125 2378 3379 2068 \r\nQ 3634 1759 3634 1313 \r\nQ 3634 634 3220 271 \r\nQ 2806 -91 2034 -91 \r\nQ 1263 -91 848 271 \r\nQ 434 634 434 1313 \r\nQ 434 1759 690 2068 \r\nQ 947 2378 1403 2484 \r\nz\r\nM 1172 3481 \r\nQ 1172 3119 1398 2916 \r\nQ 1625 2713 2034 2713 \r\nQ 2441 2713 2670 2916 \r\nQ 2900 3119 2900 3481 \r\nQ 2900 3844 2670 4047 \r\nQ 2441 4250 2034 4250 \r\nQ 1625 4250 1398 4047 \r\nQ 1172 3844 1172 3481 \r\nz\r\n\" id=\"DejaVuSans-38\" transform=\"scale(0.015625)\"/>\r\n     </defs>\r\n     <use xlink:href=\"#DejaVuSans-33\"/>\r\n     <use x=\"63.623047\" xlink:href=\"#DejaVuSans-38\"/>\r\n    </g>\r\n   </g>\r\n   <g id=\"text_10\">\r\n    <!-- 23 -->\r\n    <g style=\"fill:#262626;\" transform=\"translate(161.29625 47.855)scale(0.16 -0.16)\">\r\n     <defs>\r\n      <path d=\"M 1228 531 \r\nL 3431 531 \r\nL 3431 0 \r\nL 469 0 \r\nL 469 531 \r\nQ 828 903 1448 1529 \r\nQ 2069 2156 2228 2338 \r\nQ 2531 2678 2651 2914 \r\nQ 2772 3150 2772 3378 \r\nQ 2772 3750 2511 3984 \r\nQ 2250 4219 1831 4219 \r\nQ 1534 4219 1204 4116 \r\nQ 875 4013 500 3803 \r\nL 500 4441 \r\nQ 881 4594 1212 4672 \r\nQ 1544 4750 1819 4750 \r\nQ 2544 4750 2975 4387 \r\nQ 3406 4025 3406 3419 \r\nQ 3406 3131 3298 2873 \r\nQ 3191 2616 2906 2266 \r\nQ 2828 2175 2409 1742 \r\nQ 1991 1309 1228 531 \r\nz\r\n\" id=\"DejaVuSans-32\" transform=\"scale(0.015625)\"/>\r\n     </defs>\r\n     <use xlink:href=\"#DejaVuSans-32\"/>\r\n     <use x=\"63.623047\" xlink:href=\"#DejaVuSans-33\"/>\r\n    </g>\r\n   </g>\r\n   <g id=\"text_11\">\r\n    <!-- 17 -->\r\n    <g style=\"fill:#262626;\" transform=\"translate(250.57625 47.855)scale(0.16 -0.16)\">\r\n     <defs>\r\n      <path d=\"M 794 531 \r\nL 1825 531 \r\nL 1825 4091 \r\nL 703 3866 \r\nL 703 4441 \r\nL 1819 4666 \r\nL 2450 4666 \r\nL 2450 531 \r\nL 3481 531 \r\nL 3481 0 \r\nL 794 0 \r\nL 794 531 \r\nz\r\n\" id=\"DejaVuSans-31\" transform=\"scale(0.015625)\"/>\r\n      <path d=\"M 525 4666 \r\nL 3525 4666 \r\nL 3525 4397 \r\nL 1831 0 \r\nL 1172 0 \r\nL 2766 4134 \r\nL 525 4134 \r\nL 525 4666 \r\nz\r\n\" id=\"DejaVuSans-37\" transform=\"scale(0.015625)\"/>\r\n     </defs>\r\n     <use xlink:href=\"#DejaVuSans-31\"/>\r\n     <use x=\"63.623047\" xlink:href=\"#DejaVuSans-37\"/>\r\n    </g>\r\n   </g>\r\n   <g id=\"text_12\">\r\n    <!-- 21 -->\r\n    <g style=\"fill:#262626;\" transform=\"translate(72.01625 120.335)scale(0.16 -0.16)\">\r\n     <use xlink:href=\"#DejaVuSans-32\"/>\r\n     <use x=\"63.623047\" xlink:href=\"#DejaVuSans-31\"/>\r\n    </g>\r\n   </g>\r\n   <g id=\"text_13\">\r\n    <!-- 61 -->\r\n    <g style=\"fill:#ffffff;\" transform=\"translate(161.29625 120.335)scale(0.16 -0.16)\">\r\n     <defs>\r\n      <path d=\"M 2113 2584 \r\nQ 1688 2584 1439 2293 \r\nQ 1191 2003 1191 1497 \r\nQ 1191 994 1439 701 \r\nQ 1688 409 2113 409 \r\nQ 2538 409 2786 701 \r\nQ 3034 994 3034 1497 \r\nQ 3034 2003 2786 2293 \r\nQ 2538 2584 2113 2584 \r\nz\r\nM 3366 4563 \r\nL 3366 3988 \r\nQ 3128 4100 2886 4159 \r\nQ 2644 4219 2406 4219 \r\nQ 1781 4219 1451 3797 \r\nQ 1122 3375 1075 2522 \r\nQ 1259 2794 1537 2939 \r\nQ 1816 3084 2150 3084 \r\nQ 2853 3084 3261 2657 \r\nQ 3669 2231 3669 1497 \r\nQ 3669 778 3244 343 \r\nQ 2819 -91 2113 -91 \r\nQ 1303 -91 875 529 \r\nQ 447 1150 447 2328 \r\nQ 447 3434 972 4092 \r\nQ 1497 4750 2381 4750 \r\nQ 2619 4750 2861 4703 \r\nQ 3103 4656 3366 4563 \r\nz\r\n\" id=\"DejaVuSans-36\" transform=\"scale(0.015625)\"/>\r\n     </defs>\r\n     <use xlink:href=\"#DejaVuSans-36\"/>\r\n     <use x=\"63.623047\" xlink:href=\"#DejaVuSans-31\"/>\r\n    </g>\r\n   </g>\r\n   <g id=\"text_14\">\r\n    <!-- 22 -->\r\n    <g style=\"fill:#262626;\" transform=\"translate(250.57625 120.335)scale(0.16 -0.16)\">\r\n     <use xlink:href=\"#DejaVuSans-32\"/>\r\n     <use x=\"63.623047\" xlink:href=\"#DejaVuSans-32\"/>\r\n    </g>\r\n   </g>\r\n   <g id=\"text_15\">\r\n    <!-- 4 -->\r\n    <g style=\"fill:#262626;\" transform=\"translate(77.10625 192.815)scale(0.16 -0.16)\">\r\n     <defs>\r\n      <path d=\"M 2419 4116 \r\nL 825 1625 \r\nL 2419 1625 \r\nL 2419 4116 \r\nz\r\nM 2253 4666 \r\nL 3047 4666 \r\nL 3047 1625 \r\nL 3713 1625 \r\nL 3713 1100 \r\nL 3047 1100 \r\nL 3047 0 \r\nL 2419 0 \r\nL 2419 1100 \r\nL 313 1100 \r\nL 313 1709 \r\nL 2253 4666 \r\nz\r\n\" id=\"DejaVuSans-34\" transform=\"scale(0.015625)\"/>\r\n     </defs>\r\n     <use xlink:href=\"#DejaVuSans-34\"/>\r\n    </g>\r\n   </g>\r\n   <g id=\"text_16\">\r\n    <!-- 5 -->\r\n    <g style=\"fill:#262626;\" transform=\"translate(166.38625 192.815)scale(0.16 -0.16)\">\r\n     <defs>\r\n      <path d=\"M 691 4666 \r\nL 3169 4666 \r\nL 3169 4134 \r\nL 1269 4134 \r\nL 1269 2991 \r\nQ 1406 3038 1543 3061 \r\nQ 1681 3084 1819 3084 \r\nQ 2600 3084 3056 2656 \r\nQ 3513 2228 3513 1497 \r\nQ 3513 744 3044 326 \r\nQ 2575 -91 1722 -91 \r\nQ 1428 -91 1123 -41 \r\nQ 819 9 494 109 \r\nL 494 744 \r\nQ 775 591 1075 516 \r\nQ 1375 441 1709 441 \r\nQ 2250 441 2565 725 \r\nQ 2881 1009 2881 1497 \r\nQ 2881 1984 2565 2268 \r\nQ 2250 2553 1709 2553 \r\nQ 1456 2553 1204 2497 \r\nQ 953 2441 691 2322 \r\nL 691 4666 \r\nz\r\n\" id=\"DejaVuSans-35\" transform=\"scale(0.015625)\"/>\r\n     </defs>\r\n     <use xlink:href=\"#DejaVuSans-35\"/>\r\n    </g>\r\n   </g>\r\n   <g id=\"text_17\">\r\n    <!-- 14 -->\r\n    <g style=\"fill:#262626;\" transform=\"translate(250.57625 192.815)scale(0.16 -0.16)\">\r\n     <use xlink:href=\"#DejaVuSans-31\"/>\r\n     <use x=\"63.623047\" xlink:href=\"#DejaVuSans-34\"/>\r\n    </g>\r\n   </g>\r\n  </g>\r\n  <g id=\"axes_2\">\r\n   <g id=\"patch_3\">\r\n    <path d=\"M 322.13625 224.64 \r\nL 333.00825 224.64 \r\nL 333.00825 7.2 \r\nL 322.13625 7.2 \r\nz\r\n\" style=\"fill:#ffffff;\"/>\r\n   </g>\r\n   <g id=\"patch_4\">\r\n    <path clip-path=\"url(#p848e361b58)\" d=\"M 322.13625 224.64 \r\nL 322.13625 223.790625 \r\nL 322.13625 8.049375 \r\nL 322.13625 7.2 \r\nL 333.00825 7.2 \r\nL 333.00825 8.049375 \r\nL 333.00825 223.790625 \r\nL 333.00825 224.64 \r\nL 333.00825 224.64 \r\nz\r\n\" style=\"fill:#ffffff;stroke:#ffffff;stroke-linejoin:miter;stroke-width:0.01;\"/>\r\n   </g>\r\n   <image height=\"217\" id=\"image65f3dc0707\" transform=\"scale(1 -1)translate(0 -217)\" width=\"11\" x=\"322\" xlink:href=\"data:image/png;base64,\r\niVBORw0KGgoAAAANSUhEUgAAAAsAAADZCAYAAAD2WsoCAAABJ0lEQVR4nO2XQQ7CMAwEU6n/fyW/gNpcESfPYaRNgfNqtV5PknJ0P3oNf+fqmmrXudbYWBWzzJq4Q9q4tBgaG2J1pA0WI+OkiOv2zmBGG2jd3oAedZVx13kDkqU02qB3I3kxPPhD3kFWnSeO4HnVy3LeUbxlG+jA3r6N/4AfYvbQP60YlfG0XZoz+kbyPntQz0XuDbbBjAERSB4btx8w5HQz+K3rqzU2QHMwRrPqvDbGWpiZiTXqgDFmI6SNsfbPxrfzWAvZqMsaEGWGzlaM27dRDP6x9hfa8C4ZsQ3gXOSzR8ysUQcON61OEwMtdL7qAM4khlcdc55r1wn+AMVskK07BX5AnQk/cSYxRPhJDI8NsQ3iDAeMoC6kuh3XndLGhiCJNz+I8QYqPqUBchxpsAAAAABJRU5ErkJggg==\" y=\"-7\"/>\r\n   <g id=\"matplotlib.axis_3\"/>\r\n   <g id=\"matplotlib.axis_4\">\r\n    <g id=\"ytick_4\">\r\n     <g id=\"line2d_7\">\r\n      <defs>\r\n       <path d=\"M 0 0 \r\nL 3.5 0 \r\n\" id=\"mc772d1d9b3\" style=\"stroke:#000000;stroke-width:0.8;\"/>\r\n      </defs>\r\n      <g>\r\n       <use style=\"stroke:#000000;stroke-width:0.8;\" x=\"333.00825\" xlink:href=\"#mc772d1d9b3\" y=\"201.751579\"/>\r\n      </g>\r\n     </g>\r\n     <g id=\"text_18\">\r\n      <!-- 10 -->\r\n      <g transform=\"translate(340.00825 205.550798)scale(0.1 -0.1)\">\r\n       <defs>\r\n        <path d=\"M 2034 4250 \r\nQ 1547 4250 1301 3770 \r\nQ 1056 3291 1056 2328 \r\nQ 1056 1369 1301 889 \r\nQ 1547 409 2034 409 \r\nQ 2525 409 2770 889 \r\nQ 3016 1369 3016 2328 \r\nQ 3016 3291 2770 3770 \r\nQ 2525 4250 2034 4250 \r\nz\r\nM 2034 4750 \r\nQ 2819 4750 3233 4129 \r\nQ 3647 3509 3647 2328 \r\nQ 3647 1150 3233 529 \r\nQ 2819 -91 2034 -91 \r\nQ 1250 -91 836 529 \r\nQ 422 1150 422 2328 \r\nQ 422 3509 836 4129 \r\nQ 1250 4750 2034 4750 \r\nz\r\n\" id=\"DejaVuSans-30\" transform=\"scale(0.015625)\"/>\r\n       </defs>\r\n       <use xlink:href=\"#DejaVuSans-31\"/>\r\n       <use x=\"63.623047\" xlink:href=\"#DejaVuSans-30\"/>\r\n      </g>\r\n     </g>\r\n    </g>\r\n    <g id=\"ytick_5\">\r\n     <g id=\"line2d_8\">\r\n      <g>\r\n       <use style=\"stroke:#000000;stroke-width:0.8;\" x=\"333.00825\" xlink:href=\"#mc772d1d9b3\" y=\"163.604211\"/>\r\n      </g>\r\n     </g>\r\n     <g id=\"text_19\">\r\n      <!-- 20 -->\r\n      <g transform=\"translate(340.00825 167.403429)scale(0.1 -0.1)\">\r\n       <use xlink:href=\"#DejaVuSans-32\"/>\r\n       <use x=\"63.623047\" xlink:href=\"#DejaVuSans-30\"/>\r\n      </g>\r\n     </g>\r\n    </g>\r\n    <g id=\"ytick_6\">\r\n     <g id=\"line2d_9\">\r\n      <g>\r\n       <use style=\"stroke:#000000;stroke-width:0.8;\" x=\"333.00825\" xlink:href=\"#mc772d1d9b3\" y=\"125.456842\"/>\r\n      </g>\r\n     </g>\r\n     <g id=\"text_20\">\r\n      <!-- 30 -->\r\n      <g transform=\"translate(340.00825 129.256061)scale(0.1 -0.1)\">\r\n       <use xlink:href=\"#DejaVuSans-33\"/>\r\n       <use x=\"63.623047\" xlink:href=\"#DejaVuSans-30\"/>\r\n      </g>\r\n     </g>\r\n    </g>\r\n    <g id=\"ytick_7\">\r\n     <g id=\"line2d_10\">\r\n      <g>\r\n       <use style=\"stroke:#000000;stroke-width:0.8;\" x=\"333.00825\" xlink:href=\"#mc772d1d9b3\" y=\"87.309474\"/>\r\n      </g>\r\n     </g>\r\n     <g id=\"text_21\">\r\n      <!-- 40 -->\r\n      <g transform=\"translate(340.00825 91.108692)scale(0.1 -0.1)\">\r\n       <use xlink:href=\"#DejaVuSans-34\"/>\r\n       <use x=\"63.623047\" xlink:href=\"#DejaVuSans-30\"/>\r\n      </g>\r\n     </g>\r\n    </g>\r\n    <g id=\"ytick_8\">\r\n     <g id=\"line2d_11\">\r\n      <g>\r\n       <use style=\"stroke:#000000;stroke-width:0.8;\" x=\"333.00825\" xlink:href=\"#mc772d1d9b3\" y=\"49.162105\"/>\r\n      </g>\r\n     </g>\r\n     <g id=\"text_22\">\r\n      <!-- 50 -->\r\n      <g transform=\"translate(340.00825 52.961324)scale(0.1 -0.1)\">\r\n       <use xlink:href=\"#DejaVuSans-35\"/>\r\n       <use x=\"63.623047\" xlink:href=\"#DejaVuSans-30\"/>\r\n      </g>\r\n     </g>\r\n    </g>\r\n    <g id=\"ytick_9\">\r\n     <g id=\"line2d_12\">\r\n      <g>\r\n       <use style=\"stroke:#000000;stroke-width:0.8;\" x=\"333.00825\" xlink:href=\"#mc772d1d9b3\" y=\"11.014737\"/>\r\n      </g>\r\n     </g>\r\n     <g id=\"text_23\">\r\n      <!-- 60 -->\r\n      <g transform=\"translate(340.00825 14.813956)scale(0.1 -0.1)\">\r\n       <use xlink:href=\"#DejaVuSans-36\"/>\r\n       <use x=\"63.623047\" xlink:href=\"#DejaVuSans-30\"/>\r\n      </g>\r\n     </g>\r\n    </g>\r\n   </g>\r\n   <g id=\"LineCollection_1\"/>\r\n   <g id=\"patch_5\">\r\n    <path d=\"M 322.13625 224.64 \r\nL 322.13625 223.790625 \r\nL 322.13625 8.049375 \r\nL 322.13625 7.2 \r\nL 333.00825 7.2 \r\nL 333.00825 8.049375 \r\nL 333.00825 223.790625 \r\nL 333.00825 224.64 \r\nz\r\n\" style=\"fill:none;\"/>\r\n   </g>\r\n  </g>\r\n </g>\r\n <defs>\r\n  <clipPath id=\"p0e240a2723\">\r\n   <rect height=\"217.44\" width=\"267.84\" x=\"37.55625\" y=\"7.2\"/>\r\n  </clipPath>\r\n  <clipPath id=\"p848e361b58\">\r\n   <rect height=\"217.44\" width=\"10.872\" x=\"322.13625\" y=\"7.2\"/>\r\n  </clipPath>\r\n </defs>\r\n</svg>\r\n",
      "image/png": "[encoded data removed]"
     },
     "metadata": {
      "needs_background": "light"
     }
    }
   ],
   "source": [
    "cm = sns.color_palette(\"YlOrBr\", as_cmap=True)\n",
    "sns.heatmap(con_mat, annot=True, annot_kws={\"size\": 16}, xticklabels = ['Negative', 'Neutral','Positive'], yticklabels = ['Negative', 'Neutral','Positive'], cmap = cm)\n"
   ]
  },
  {
   "cell_type": "code",
   "execution_count": null,
   "metadata": {},
   "outputs": [],
   "source": []
  }
 ]
}