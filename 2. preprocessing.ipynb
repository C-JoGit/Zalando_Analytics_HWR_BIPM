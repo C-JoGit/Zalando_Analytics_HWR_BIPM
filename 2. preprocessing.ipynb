{
 "metadata": {
  "language_info": {
   "codemirror_mode": {
    "name": "ipython",
    "version": 3
   },
   "file_extension": ".py",
   "mimetype": "text/x-python",
   "name": "python",
   "nbconvert_exporter": "python",
   "pygments_lexer": "ipython3",
   "version": "3.8.3"
  },
  "orig_nbformat": 2,
  "kernelspec": {
   "name": "python383jvsc74a57bd0516186bd0ec0d9f4d5315d95f88038d756540a3a2a2ced092e94dc29fedad10e",
   "display_name": "Python 3.8.3 64-bit (conda)"
  }
 },
 "nbformat": 4,
 "nbformat_minor": 2,
 "cells": [
  {
   "cell_type": "code",
   "execution_count": 2,
   "metadata": {},
   "outputs": [],
   "source": [
    "import pandas as pd\n",
    "import re \n",
    "from gensim.parsing.preprocessing import STOPWORDS, strip_tags, strip_numeric, strip_punctuation, strip_multiple_whitespaces, remove_stopwords, strip_short, stem_text\n",
    "import pickle\n",
    "import en_core_web_sm\n",
    "import nltk\n",
    "import os"
   ]
  },
  {
   "cell_type": "code",
   "execution_count": 3,
   "metadata": {},
   "outputs": [
    {
     "output_type": "execute_result",
     "data": {
      "text/plain": [
       "   level_0  index              user_id  user_statuses            name  \\\n",
       "0      383      0  1323291682000000000            133   GreenerRetail   \n",
       "1      384      1  1259761930000000000              1    fattybabycat   \n",
       "2      385      2   835467350200000128           2296   piotrkarwatka   \n",
       "3      386      3             58485935            114  MissyDawn27586   \n",
       "4      387      4  1059339104000000000          11725    CarolCooney7   \n",
       "\n",
       "                                               tweet  retweets  \\\n",
       "0  Who and what has made our greener retailing tr...         0   \n",
       "1  .@Zalando offers nothing more than scripted, c...         0   \n",
       "2  We've got a great talk with Fabian Wesner on h...         0   \n",
       "3  @Zalando recieved wrong item... don’t know how...         0   \n",
       "4  @DrewLawDesign @Zalando  have sent me a few de...         0   \n",
       "\n",
       "          location      created  followers  is_user_verified language  \\\n",
       "0     Planet Earth  05-Mar-2021         70             False       en   \n",
       "1                   05-Mar-2021          0             False       en   \n",
       "2  Wrocław, Polska  05-Mar-2021       1347             False       en   \n",
       "3                   05-Mar-2021         27             False       en   \n",
       "4                   05-Mar-2021        457             False       en   \n",
       "\n",
       "    keyword  favorite_count  in_reply_to_status_id  \n",
       "0  @zalando             NaN                    NaN  \n",
       "1  @zalando             NaN                    NaN  \n",
       "2  @zalando             NaN                    NaN  \n",
       "3  @zalando             NaN                    NaN  \n",
       "4  @zalando             NaN                    NaN  "
      ],
      "text/html": "<div>\n<style scoped>\n    .dataframe tbody tr th:only-of-type {\n        vertical-align: middle;\n    }\n\n    .dataframe tbody tr th {\n        vertical-align: top;\n    }\n\n    .dataframe thead th {\n        text-align: right;\n    }\n</style>\n<table border=\"1\" class=\"dataframe\">\n  <thead>\n    <tr style=\"text-align: right;\">\n      <th></th>\n      <th>level_0</th>\n      <th>index</th>\n      <th>user_id</th>\n      <th>user_statuses</th>\n      <th>name</th>\n      <th>tweet</th>\n      <th>retweets</th>\n      <th>location</th>\n      <th>created</th>\n      <th>followers</th>\n      <th>is_user_verified</th>\n      <th>language</th>\n      <th>keyword</th>\n      <th>favorite_count</th>\n      <th>in_reply_to_status_id</th>\n    </tr>\n  </thead>\n  <tbody>\n    <tr>\n      <th>0</th>\n      <td>383</td>\n      <td>0</td>\n      <td>1323291682000000000</td>\n      <td>133</td>\n      <td>GreenerRetail</td>\n      <td>Who and what has made our greener retailing tr...</td>\n      <td>0</td>\n      <td>Planet Earth</td>\n      <td>05-Mar-2021</td>\n      <td>70</td>\n      <td>False</td>\n      <td>en</td>\n      <td>@zalando</td>\n      <td>NaN</td>\n      <td>NaN</td>\n    </tr>\n    <tr>\n      <th>1</th>\n      <td>384</td>\n      <td>1</td>\n      <td>1259761930000000000</td>\n      <td>1</td>\n      <td>fattybabycat</td>\n      <td>.@Zalando offers nothing more than scripted, c...</td>\n      <td>0</td>\n      <td></td>\n      <td>05-Mar-2021</td>\n      <td>0</td>\n      <td>False</td>\n      <td>en</td>\n      <td>@zalando</td>\n      <td>NaN</td>\n      <td>NaN</td>\n    </tr>\n    <tr>\n      <th>2</th>\n      <td>385</td>\n      <td>2</td>\n      <td>835467350200000128</td>\n      <td>2296</td>\n      <td>piotrkarwatka</td>\n      <td>We've got a great talk with Fabian Wesner on h...</td>\n      <td>0</td>\n      <td>Wrocław, Polska</td>\n      <td>05-Mar-2021</td>\n      <td>1347</td>\n      <td>False</td>\n      <td>en</td>\n      <td>@zalando</td>\n      <td>NaN</td>\n      <td>NaN</td>\n    </tr>\n    <tr>\n      <th>3</th>\n      <td>386</td>\n      <td>3</td>\n      <td>58485935</td>\n      <td>114</td>\n      <td>MissyDawn27586</td>\n      <td>@Zalando recieved wrong item... don’t know how...</td>\n      <td>0</td>\n      <td></td>\n      <td>05-Mar-2021</td>\n      <td>27</td>\n      <td>False</td>\n      <td>en</td>\n      <td>@zalando</td>\n      <td>NaN</td>\n      <td>NaN</td>\n    </tr>\n    <tr>\n      <th>4</th>\n      <td>387</td>\n      <td>4</td>\n      <td>1059339104000000000</td>\n      <td>11725</td>\n      <td>CarolCooney7</td>\n      <td>@DrewLawDesign @Zalando  have sent me a few de...</td>\n      <td>0</td>\n      <td></td>\n      <td>05-Mar-2021</td>\n      <td>457</td>\n      <td>False</td>\n      <td>en</td>\n      <td>@zalando</td>\n      <td>NaN</td>\n      <td>NaN</td>\n    </tr>\n  </tbody>\n</table>\n</div>"
     },
     "metadata": {},
     "execution_count": 3
    }
   ],
   "source": [
    "df = pd.read_json('one_cleaned_df.json')\n",
    "eng_df = df[df.language == 'en'].reset_index()\n",
    "eng_df.head()"
   ]
  },
  {
   "cell_type": "code",
   "execution_count": 124,
   "metadata": {},
   "outputs": [
    {
     "output_type": "stream",
     "name": "stderr",
     "text": [
      "C:\\Anaconda\\envs\\uni\\lib\\site-packages\\ipykernel_launcher.py:2: FutureWarning: The default value of regex will change from True to False in a future version.\n  \n"
     ]
    },
    {
     "output_type": "execute_result",
     "data": {
      "text/plain": [
       "'Who and what has made our greener retailing tracker this week? Step forward,, ,,, ,, ,,,, and'"
      ]
     },
     "metadata": {},
     "execution_count": 124
    }
   ],
   "source": [
    "\n",
    "pat = r\"(\\\\n)|(@\\w*)|((https?:\\/\\/(?:www\\.|(?!www))[a-zA-Z0-9][a-zA-Z0-9-]+[a-zA-Z0-9]\\.[^\\s]{2,}|www\\.[a-zA-Z0-9][a-zA-Z0-9-]+[a-zA-Z0-9]\\.[^\\s]{2,}|https?:\\/\\/(?:www\\.|(?!www))[a-zA-Z0-9]+\\.[^\\s]{2,}|www\\.[a-zA-Z0-9]+\\.[^\\s]{2,}))\"\n",
    "eng_df.tweet = eng_df.tweet.str.replace(pat, '')\n",
    "eng_df.tweet[0]"
   ]
  },
  {
   "cell_type": "code",
   "execution_count": 85,
   "metadata": {},
   "outputs": [
    {
     "output_type": "execute_result",
     "data": {
      "text/plain": [
       "\"We've got a great talk with Fabian Wesner on his new Venture: ROQ Technolgy. \\nFabian was a CTO for more than 15 years, leading technology at ,  Rocket Internet, and , doing Headless way before it becomes trendy ;)\\n\\n\""
      ]
     },
     "metadata": {},
     "execution_count": 85
    }
   ],
   "source": [
    "\n",
    "eng_df.tweet = eng_df.tweet.str.replace('\\xa0', '')\n",
    "eng_df.tweet[2]"
   ]
  },
  {
   "cell_type": "code",
   "execution_count": 118,
   "metadata": {},
   "outputs": [
    {
     "output_type": "execute_result",
     "data": {
      "text/plain": [
       "'asos needs to do the same'"
      ]
     },
     "metadata": {},
     "execution_count": 118
    }
   ],
   "source": [
    "eng_df.tweet = eng_df.tweet.str.strip(',.:;#-?() \\n')\n",
    "eng_df.tweet[110]"
   ]
  },
  {
   "cell_type": "code",
   "execution_count": 131,
   "metadata": {},
   "outputs": [
    {
     "output_type": "execute_result",
     "data": {
      "text/plain": [
       "'My sister Jo is smashing it being an amazing mum and looking after our parents throughout all the lockdown (I am 100 miles away). 🥰💪  #ASOSIWD21'"
      ]
     },
     "metadata": {},
     "execution_count": 131
    }
   ],
   "source": [
    "eng_df.tweet = eng_df.tweet.str.replace('&amp', '')\n",
    "eng_df.tweet = eng_df.tweet.str.replace('\\n', '')\n",
    "eng_df.tweet[10644]\n"
   ]
  },
  {
   "cell_type": "code",
   "execution_count": 34,
   "metadata": {},
   "outputs": [],
   "source": [
    "def clean(data):\n",
    "    pat = r\"\\\\xa0\"\n",
    "    df['tweet'] = eng_df.tweet.str.replace(pat,'')\n",
    "    return df"
   ]
  },
  {
   "cell_type": "code",
   "execution_count": 50,
   "metadata": {},
   "outputs": [
    {
     "output_type": "error",
     "ename": "TypeError",
     "evalue": "expected string or bytes-like object",
     "traceback": [
      "\u001b[1;31m---------------------------------------------------------------------------\u001b[0m",
      "\u001b[1;31mTypeError\u001b[0m                                 Traceback (most recent call last)",
      "\u001b[1;32m<ipython-input-50-0878ba3ed966>\u001b[0m in \u001b[0;36m<module>\u001b[1;34m\u001b[0m\n\u001b[0;32m      1\u001b[0m \u001b[0mL\u001b[0m \u001b[1;33m=\u001b[0m \u001b[1;34m'\\\\xa0'\u001b[0m\u001b[1;33m\u001b[0m\u001b[1;33m\u001b[0m\u001b[0m\n\u001b[1;32m----> 2\u001b[1;33m \u001b[0mdf\u001b[0m\u001b[1;33m.\u001b[0m\u001b[0mtweet\u001b[0m \u001b[1;33m=\u001b[0m \u001b[0mre\u001b[0m\u001b[1;33m.\u001b[0m\u001b[0msub\u001b[0m\u001b[1;33m(\u001b[0m\u001b[0mL\u001b[0m\u001b[1;33m,\u001b[0m\u001b[1;34m''\u001b[0m\u001b[1;33m,\u001b[0m\u001b[0mdf\u001b[0m\u001b[1;33m.\u001b[0m\u001b[0mtweet\u001b[0m\u001b[1;33m,\u001b[0m \u001b[0mflags\u001b[0m\u001b[1;33m=\u001b[0m\u001b[0mre\u001b[0m\u001b[1;33m.\u001b[0m\u001b[0mI\u001b[0m\u001b[1;33m)\u001b[0m\u001b[1;33m\u001b[0m\u001b[1;33m\u001b[0m\u001b[0m\n\u001b[0m\u001b[0;32m      3\u001b[0m \u001b[0mdf\u001b[0m\u001b[1;33m.\u001b[0m\u001b[0mtweet\u001b[0m\u001b[1;33m[\u001b[0m\u001b[1;36m0\u001b[0m\u001b[1;33m]\u001b[0m\u001b[1;33m\u001b[0m\u001b[1;33m\u001b[0m\u001b[0m\n",
      "\u001b[1;32mC:\\Anaconda\\envs\\uni\\lib\\re.py\u001b[0m in \u001b[0;36msub\u001b[1;34m(pattern, repl, string, count, flags)\u001b[0m\n\u001b[0;32m    192\u001b[0m     \u001b[0ma\u001b[0m \u001b[0mcallable\u001b[0m\u001b[1;33m,\u001b[0m \u001b[0mit\u001b[0m\u001b[0;31m'\u001b[0m\u001b[0ms\u001b[0m \u001b[0mpassed\u001b[0m \u001b[0mthe\u001b[0m \u001b[0mMatch\u001b[0m \u001b[0mobject\u001b[0m \u001b[1;32mand\u001b[0m \u001b[0mmust\u001b[0m \u001b[1;32mreturn\u001b[0m\u001b[1;33m\u001b[0m\u001b[1;33m\u001b[0m\u001b[0m\n\u001b[0;32m    193\u001b[0m     a replacement string to be used.\"\"\"\n\u001b[1;32m--> 194\u001b[1;33m     \u001b[1;32mreturn\u001b[0m \u001b[0m_compile\u001b[0m\u001b[1;33m(\u001b[0m\u001b[0mpattern\u001b[0m\u001b[1;33m,\u001b[0m \u001b[0mflags\u001b[0m\u001b[1;33m)\u001b[0m\u001b[1;33m.\u001b[0m\u001b[0msub\u001b[0m\u001b[1;33m(\u001b[0m\u001b[0mrepl\u001b[0m\u001b[1;33m,\u001b[0m \u001b[0mstring\u001b[0m\u001b[1;33m,\u001b[0m \u001b[0mcount\u001b[0m\u001b[1;33m)\u001b[0m\u001b[1;33m\u001b[0m\u001b[1;33m\u001b[0m\u001b[0m\n\u001b[0m\u001b[0;32m    195\u001b[0m \u001b[1;33m\u001b[0m\u001b[0m\n\u001b[0;32m    196\u001b[0m \u001b[1;32mdef\u001b[0m \u001b[0msubn\u001b[0m\u001b[1;33m(\u001b[0m\u001b[0mpattern\u001b[0m\u001b[1;33m,\u001b[0m \u001b[0mrepl\u001b[0m\u001b[1;33m,\u001b[0m \u001b[0mstring\u001b[0m\u001b[1;33m,\u001b[0m \u001b[0mcount\u001b[0m\u001b[1;33m=\u001b[0m\u001b[1;36m0\u001b[0m\u001b[1;33m,\u001b[0m \u001b[0mflags\u001b[0m\u001b[1;33m=\u001b[0m\u001b[1;36m0\u001b[0m\u001b[1;33m)\u001b[0m\u001b[1;33m:\u001b[0m\u001b[1;33m\u001b[0m\u001b[1;33m\u001b[0m\u001b[0m\n",
      "\u001b[1;31mTypeError\u001b[0m: expected string or bytes-like object"
     ]
    }
   ],
   "source": []
  }
 ]
}