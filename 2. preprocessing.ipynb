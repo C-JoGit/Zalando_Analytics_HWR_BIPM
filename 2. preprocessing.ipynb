{
 "metadata": {
  "language_info": {
   "codemirror_mode": {
    "name": "ipython",
    "version": 3
   },
   "file_extension": ".py",
   "mimetype": "text/x-python",
   "name": "python",
   "nbconvert_exporter": "python",
   "pygments_lexer": "ipython3",
   "version": "3.7.10"
  },
  "orig_nbformat": 2,
  "kernelspec": {
   "name": "python3710jvsc74a57bd022a63b945ad88ad6aa60a7f3f570c70abf6faa8a03284077614716ef20649993",
   "display_name": "Python 3.7.10 64-bit ('uni': conda)"
  }
 },
 "nbformat": 4,
 "nbformat_minor": 2,
 "cells": [
  {
   "cell_type": "code",
   "execution_count": 272,
   "metadata": {},
   "outputs": [],
   "source": [
    "import pandas as pd\n",
    "import re \n",
    "from gensim.parsing.preprocessing import STOPWORDS, strip_tags, strip_numeric, strip_punctuation, strip_multiple_whitespaces, remove_stopwords, strip_short, stem_text\n",
    "import pickle\n",
    "import en_core_web_sm\n",
    "import nltk\n",
    "import os\n",
    "from nltk.tokenize import word_tokenize\n",
    "import emoji"
   ]
  },
  {
   "cell_type": "code",
   "execution_count": 273,
   "metadata": {},
   "outputs": [],
   "source": [
    "from emosent import get_emoji_sentiment_rank"
   ]
  },
  {
   "cell_type": "code",
   "execution_count": 256,
   "metadata": {},
   "outputs": [
    {
     "output_type": "stream",
     "name": "stderr",
     "text": [
      "[nltk_data] Downloading package punkt to\n",
      "[nltk_data]     C:\\Users\\home\\AppData\\Roaming\\nltk_data...\n",
      "[nltk_data]   Unzipping tokenizers\\punkt.zip.\n"
     ]
    },
    {
     "output_type": "execute_result",
     "data": {
      "text/plain": [
       "True"
      ]
     },
     "metadata": {},
     "execution_count": 256
    }
   ],
   "source": []
  },
  {
   "cell_type": "code",
   "execution_count": 274,
   "metadata": {},
   "outputs": [
    {
     "output_type": "stream",
     "name": "stderr",
     "text": [
      "[nltk_data] Downloading package stopwords to\n[nltk_data]     C:\\Users\\home\\AppData\\Roaming\\nltk_data...\n[nltk_data]   Package stopwords is already up-to-date!\n[nltk_data] Downloading package punkt to\n[nltk_data]     C:\\Users\\home\\AppData\\Roaming\\nltk_data...\n[nltk_data]   Package punkt is already up-to-date!\n"
     ]
    }
   ],
   "source": [
    "import sys\n",
    "sys.path.append('../')\n",
    "import functions\n",
    "exec(open('./functions.py').read())"
   ]
  },
  {
   "cell_type": "code",
   "execution_count": 472,
   "metadata": {},
   "outputs": [
    {
     "output_type": "execute_result",
     "data": {
      "text/plain": [
       "   level_0  index              user_id  user_statuses            name  \\\n",
       "0      383      0  1323291682000000000            133   GreenerRetail   \n",
       "1      384      1  1259761930000000000              1    fattybabycat   \n",
       "2      385      2   835467350200000128           2296   piotrkarwatka   \n",
       "3      386      3             58485935            114  MissyDawn27586   \n",
       "4      387      4  1059339104000000000          11725    CarolCooney7   \n",
       "\n",
       "                                               tweet  retweets  \\\n",
       "0  Who and what has made our greener retailing tr...         0   \n",
       "1  .@Zalando offers nothing more than scripted, c...         0   \n",
       "2  We've got a great talk with Fabian Wesner on h...         0   \n",
       "3  @Zalando recieved wrong item... don’t know how...         0   \n",
       "4  @DrewLawDesign @Zalando  have sent me a few de...         0   \n",
       "\n",
       "          location      created  followers  is_user_verified language  \\\n",
       "0     Planet Earth  05-Mar-2021         70             False       en   \n",
       "1                   05-Mar-2021          0             False       en   \n",
       "2  Wrocław, Polska  05-Mar-2021       1347             False       en   \n",
       "3                   05-Mar-2021         27             False       en   \n",
       "4                   05-Mar-2021        457             False       en   \n",
       "\n",
       "    keyword  favorite_count  in_reply_to_status_id  \n",
       "0  @zalando             NaN                    NaN  \n",
       "1  @zalando             NaN                    NaN  \n",
       "2  @zalando             NaN                    NaN  \n",
       "3  @zalando             NaN                    NaN  \n",
       "4  @zalando             NaN                    NaN  "
      ],
      "text/html": "<div>\n<style scoped>\n    .dataframe tbody tr th:only-of-type {\n        vertical-align: middle;\n    }\n\n    .dataframe tbody tr th {\n        vertical-align: top;\n    }\n\n    .dataframe thead th {\n        text-align: right;\n    }\n</style>\n<table border=\"1\" class=\"dataframe\">\n  <thead>\n    <tr style=\"text-align: right;\">\n      <th></th>\n      <th>level_0</th>\n      <th>index</th>\n      <th>user_id</th>\n      <th>user_statuses</th>\n      <th>name</th>\n      <th>tweet</th>\n      <th>retweets</th>\n      <th>location</th>\n      <th>created</th>\n      <th>followers</th>\n      <th>is_user_verified</th>\n      <th>language</th>\n      <th>keyword</th>\n      <th>favorite_count</th>\n      <th>in_reply_to_status_id</th>\n    </tr>\n  </thead>\n  <tbody>\n    <tr>\n      <th>0</th>\n      <td>383</td>\n      <td>0</td>\n      <td>1323291682000000000</td>\n      <td>133</td>\n      <td>GreenerRetail</td>\n      <td>Who and what has made our greener retailing tr...</td>\n      <td>0</td>\n      <td>Planet Earth</td>\n      <td>05-Mar-2021</td>\n      <td>70</td>\n      <td>False</td>\n      <td>en</td>\n      <td>@zalando</td>\n      <td>NaN</td>\n      <td>NaN</td>\n    </tr>\n    <tr>\n      <th>1</th>\n      <td>384</td>\n      <td>1</td>\n      <td>1259761930000000000</td>\n      <td>1</td>\n      <td>fattybabycat</td>\n      <td>.@Zalando offers nothing more than scripted, c...</td>\n      <td>0</td>\n      <td></td>\n      <td>05-Mar-2021</td>\n      <td>0</td>\n      <td>False</td>\n      <td>en</td>\n      <td>@zalando</td>\n      <td>NaN</td>\n      <td>NaN</td>\n    </tr>\n    <tr>\n      <th>2</th>\n      <td>385</td>\n      <td>2</td>\n      <td>835467350200000128</td>\n      <td>2296</td>\n      <td>piotrkarwatka</td>\n      <td>We've got a great talk with Fabian Wesner on h...</td>\n      <td>0</td>\n      <td>Wrocław, Polska</td>\n      <td>05-Mar-2021</td>\n      <td>1347</td>\n      <td>False</td>\n      <td>en</td>\n      <td>@zalando</td>\n      <td>NaN</td>\n      <td>NaN</td>\n    </tr>\n    <tr>\n      <th>3</th>\n      <td>386</td>\n      <td>3</td>\n      <td>58485935</td>\n      <td>114</td>\n      <td>MissyDawn27586</td>\n      <td>@Zalando recieved wrong item... don’t know how...</td>\n      <td>0</td>\n      <td></td>\n      <td>05-Mar-2021</td>\n      <td>27</td>\n      <td>False</td>\n      <td>en</td>\n      <td>@zalando</td>\n      <td>NaN</td>\n      <td>NaN</td>\n    </tr>\n    <tr>\n      <th>4</th>\n      <td>387</td>\n      <td>4</td>\n      <td>1059339104000000000</td>\n      <td>11725</td>\n      <td>CarolCooney7</td>\n      <td>@DrewLawDesign @Zalando  have sent me a few de...</td>\n      <td>0</td>\n      <td></td>\n      <td>05-Mar-2021</td>\n      <td>457</td>\n      <td>False</td>\n      <td>en</td>\n      <td>@zalando</td>\n      <td>NaN</td>\n      <td>NaN</td>\n    </tr>\n  </tbody>\n</table>\n</div>"
     },
     "metadata": {},
     "execution_count": 472
    }
   ],
   "source": [
    "df = pd.read_json('one_cleaned_df.json')\n",
    "eng_df = df[df.language == 'en'].reset_index()\n",
    "eng_df.head()"
   ]
  },
  {
   "cell_type": "code",
   "execution_count": 473,
   "metadata": {},
   "outputs": [
    {
     "output_type": "stream",
     "name": "stderr",
     "text": [
      "C:\\Anaconda\\envs\\uni\\lib\\site-packages\\ipykernel_launcher.py:3: FutureWarning: The default value of regex will change from True to False in a future version.\n  This is separate from the ipykernel package so we can avoid doing imports until\n"
     ]
    },
    {
     "output_type": "execute_result",
     "data": {
      "text/plain": [
       "'Hey ! I ordered some products from your web shop. All items had “fast delivery” and are supposed to arrive today. Unfortunately you have not even shipped the parcel to me. This is not the first time that this happens.\\n:-('"
      ]
     },
     "metadata": {},
     "execution_count": 473
    }
   ],
   "source": [
    "\n",
    "#delete links, users\n",
    "pat = r\"(\\\\n)|(@\\w*)|((https?:\\/\\/(?:www\\.|(?!www))[a-zA-Z0-9][a-zA-Z0-9-]+[a-zA-Z0-9]\\.[^\\s]{2,}|www\\.[a-zA-Z0-9][a-zA-Z0-9-]+[a-zA-Z0-9]\\.[^\\s]{2,}|https?:\\/\\/(?:www\\.|(?!www))[a-zA-Z0-9]+\\.[^\\s]{2,}|www\\.[a-zA-Z0-9]+\\.[^\\s]{2,}))\"\n",
    "eng_df.tweet = eng_df.tweet.str.replace(pat, '')\n",
    "eng_df.tweet[3140]"
   ]
  },
  {
   "cell_type": "code",
   "execution_count": 474,
   "metadata": {},
   "outputs": [
    {
     "output_type": "stream",
     "name": "stderr",
     "text": [
      "C:\\Anaconda\\envs\\uni\\lib\\site-packages\\ipykernel_launcher.py:4: FutureWarning: The default value of regex will change from True to False in a future version.\n",
      "  after removing the cwd from sys.path.\n",
      "C:\\Anaconda\\envs\\uni\\lib\\site-packages\\ipykernel_launcher.py:5: FutureWarning: The default value of regex will change from True to False in a future version.\n",
      "  \"\"\"\n",
      "C:\\Anaconda\\envs\\uni\\lib\\site-packages\\ipykernel_launcher.py:6: FutureWarning: The default value of regex will change from True to False in a future version.\n",
      "  \n"
     ]
    },
    {
     "output_type": "execute_result",
     "data": {
      "text/plain": [
       "'Hey ! I ordered some products from your web shop. All items had “fast delivery” and are supposed to arrive today. Unfortunately you have not even shipped the parcel to me. This is not the first time that this happens.\\n sad'"
      ]
     },
     "metadata": {},
     "execution_count": 474
    }
   ],
   "source": [
    "\n",
    "#replace emoticons with words\n",
    "#SMILEYS = {\":-(\":\"sad\", \":‑)\":\"smiley\", \":-P\":\"playfullness\", \":-/\":'confused'}\n",
    "\n",
    "eng_df.tweet = eng_df.tweet.str.replace(r':-\\)', ' smile')\n",
    "eng_df.tweet = eng_df.tweet.str.replace(r':-\\(', ' sad')\n",
    "eng_df.tweet = eng_df.tweet.str.replace(r':-\\/', ' confused')\n",
    "eng_df.tweet = eng_df.tweet.str.replace(r':-P', ' playfullness')\n",
    "\n",
    "eng_df.tweet[3140]"
   ]
  },
  {
   "cell_type": "code",
   "execution_count": 475,
   "metadata": {},
   "outputs": [
    {
     "output_type": "execute_result",
     "data": {
      "text/plain": [
       "'Who and what has made our greener retailing tracker this week? Step forward\\xa0,\\xa0, ,\\xa0,\\xa0, ,\\xa0, ,\\xa0,\\xa0,\\xa0, and\\xa0\\xa0 '"
      ]
     },
     "metadata": {},
     "execution_count": 475
    }
   ],
   "source": [
    "eng_df.tweet[0]"
   ]
  },
  {
   "cell_type": "code",
   "execution_count": 476,
   "metadata": {},
   "outputs": [
    {
     "output_type": "execute_result",
     "data": {
      "text/plain": [
       "'Who and what has made our greener retailing tracker this week? Step forward,, ,,, ,, ,,,, and '"
      ]
     },
     "metadata": {},
     "execution_count": 476
    }
   ],
   "source": [
    "#delete \\xa\n",
    "eng_df.tweet = eng_df.tweet.str.replace('\\xa0', '')\n",
    "eng_df.tweet[0]"
   ]
  },
  {
   "cell_type": "code",
   "execution_count": 477,
   "metadata": {},
   "outputs": [
    {
     "output_type": "execute_result",
     "data": {
      "text/plain": [
       "'Hey ! I ordered some products from your web shop. All items had “fast delivery” and are supposed to arrive today. Unfortunately you have not even shipped the parcel to me. This is not the first time that this happens. sad'"
      ]
     },
     "metadata": {},
     "execution_count": 477
    }
   ],
   "source": [
    "eng_df.tweet = eng_df.tweet.str.replace('&amp', '')\n",
    "eng_df.tweet = eng_df.tweet.str.replace('\\n', '')\n",
    "eng_df.tweet[3140]\n"
   ]
  },
  {
   "cell_type": "code",
   "execution_count": 478,
   "metadata": {},
   "outputs": [
    {
     "output_type": "execute_result",
     "data": {
      "text/plain": [
       "'hey ! i ordered some products from your web shop. all items had “fast delivery” and are supposed to arrive today. unfortunately you have not even shipped the parcel to me. this is not the first time that this happens. sad'"
      ]
     },
     "metadata": {},
     "execution_count": 478
    }
   ],
   "source": [
    "#to lower case\n",
    "eng_df.tweet = eng_df.tweet.str.lower()\n",
    "eng_df.tweet[3140]"
   ]
  },
  {
   "cell_type": "code",
   "execution_count": 479,
   "metadata": {},
   "outputs": [
    {
     "output_type": "stream",
     "name": "stderr",
     "text": [
      "C:\\Anaconda\\envs\\uni\\lib\\site-packages\\ipykernel_launcher.py:2: FutureWarning: The default value of regex will change from True to False in a future version.\n  \n"
     ]
    },
    {
     "output_type": "execute_result",
     "data": {
      "text/plain": [
       "'hey ! i ordered some products from your web shop. all items had “fast delivery” and are supposed to arrive today. unfortunately you have not even shipped the parcel to me. this is not the first time that this happens. sad'"
      ]
     },
     "metadata": {},
     "execution_count": 479
    }
   ],
   "source": [
    "#covert hashtags to the normal text\n",
    "eng_df.tweet = eng_df.tweet.str.replace(r'#([^\\s]+)', r'\\1')\n",
    "eng_df.tweet[3140]"
   ]
  },
  {
   "cell_type": "code",
   "execution_count": 263,
   "metadata": {},
   "outputs": [
    {
     "output_type": "stream",
     "name": "stdout",
     "text": [
      "Downloading emoji data ...\n",
      "... OK (Got response in 0.47 seconds)\n",
      "Writing emoji data to C:\\Users\\home\\.demoji\\codes.json ...\n",
      "... OK\n"
     ]
    }
   ],
   "source": [
    "import demoji\n",
    "demoji.download_codes()"
   ]
  },
  {
   "cell_type": "code",
   "execution_count": 480,
   "metadata": {},
   "outputs": [
    {
     "output_type": "execute_result",
     "data": {
      "text/plain": [
       "'  zalando thinks im big and/or pregnant and suggests me lovely maternity clothes ❤️❤️❤️❤️❤️❤️❤️ thanks i love it ❤️❤️❤️❤️'"
      ]
     },
     "metadata": {},
     "execution_count": 480
    }
   ],
   "source": [
    "#delete numbers\n",
    "eng_df.tweet = [strip_numeric(c) for c in eng_df.tweet]\n",
    "eng_df.tweet[7]"
   ]
  },
  {
   "cell_type": "code",
   "execution_count": 481,
   "metadata": {},
   "outputs": [
    {
     "output_type": "execute_result",
     "data": {
      "text/plain": [
       "\"new  redezign for circularity pilot product is out now! all products of the pilot are equipped with our  a digital tag which saves all product data. once scanned, you are able to discover the product's history through a digital product site  down arrow  recycling symbol  \""
      ]
     },
     "metadata": {},
     "execution_count": 481
    }
   ],
   "source": [
    "#replacing emojies with descriptions '❤️-> red heart'\n",
    "eng_df.tweet = [demoji.replace_with_desc(c, ' ') for c in eng_df.tweet]\n",
    "eng_df.tweet[9]"
   ]
  },
  {
   "cell_type": "code",
   "execution_count": 482,
   "metadata": {},
   "outputs": [
    {
     "output_type": "execute_result",
     "data": {
      "text/plain": [
       "'  zalando thinks im big and/or pregnant and suggests me lovely maternity clothes  red heart  red heart  red heart  red heart  red heart  red heart  red heart  thanks i love it  red heart  red heart  red heart  red heart '"
      ]
     },
     "metadata": {},
     "execution_count": 482
    }
   ],
   "source": [
    "eng_df.tweet[7]"
   ]
  },
  {
   "cell_type": "code",
   "execution_count": 483,
   "metadata": {},
   "outputs": [
    {
     "output_type": "execute_result",
     "data": {
      "text/plain": [
       "'  zalando thinks im big and or pregnant and suggests me lovely maternity clothes  red heart  red heart  red heart  red heart  red heart  red heart  red heart  thanks i love it  red heart  red heart  red heart  red heart '"
      ]
     },
     "metadata": {},
     "execution_count": 483
    }
   ],
   "source": [
    "#delete punctuation\n",
    "eng_df.tweet = [strip_punctuation(c) for c in eng_df.tweet]\n",
    "eng_df.tweet[7]"
   ]
  },
  {
   "cell_type": "code",
   "execution_count": 484,
   "metadata": {},
   "outputs": [
    {
     "output_type": "execute_result",
     "data": {
      "text/plain": [
       "'zalando thinks im big pregnant suggests lovely maternity clothes red heart red heart red heart red heart red heart red heart red heart thanks love red heart red heart red heart red heart'"
      ]
     },
     "metadata": {},
     "execution_count": 484
    }
   ],
   "source": [
    "eng_df.tweet = [remove_stopwords(c) for c in eng_df.tweet]\n",
    "eng_df.tweet[7]"
   ]
  },
  {
   "cell_type": "code",
   "execution_count": 485,
   "metadata": {},
   "outputs": [
    {
     "output_type": "execute_result",
     "data": {
      "text/plain": [
       "'zalando thinks big pregnant suggests lovely maternity clothes red heart red heart red heart red heart red heart red heart red heart thanks love red heart red heart red heart red heart'"
      ]
     },
     "metadata": {},
     "execution_count": 485
    }
   ],
   "source": [
    "eng_df.tweet = [strip_short(c) for c in eng_df.tweet]\n",
    "eng_df.tweet[7]"
   ]
  },
  {
   "cell_type": "code",
   "execution_count": 486,
   "metadata": {},
   "outputs": [
    {
     "output_type": "execute_result",
     "data": {
      "text/plain": [
       "'zalando thinks big pregnant suggests lovely maternity clothes red heart red heart red heart red heart red heart red heart red heart thanks love red heart red heart red heart red heart'"
      ]
     },
     "metadata": {},
     "execution_count": 486
    }
   ],
   "source": [
    "eng_df.tweet = [strip_multiple_whitespaces(c) for c in eng_df.tweet]\n",
    "eng_df.tweet[7]"
   ]
  },
  {
   "cell_type": "code",
   "execution_count": 489,
   "metadata": {},
   "outputs": [],
   "source": [
    "nlp = spacy.load(\"en_core_web_sm\")"
   ]
  },
  {
   "cell_type": "code",
   "execution_count": 503,
   "metadata": {},
   "outputs": [],
   "source": [
    "eng_df['lem'] = [nlp(c) for c in eng_df.tweet]"
   ]
  },
  {
   "cell_type": "code",
   "execution_count": 496,
   "metadata": {},
   "outputs": [
    {
     "output_type": "execute_result",
     "data": {
      "text/plain": [
       "offers scripted cordial replies instead actual customer service waste time resources shipping protocols create huge inconveniences hurt environment won’t long til dominates fail"
      ]
     },
     "metadata": {},
     "execution_count": 496
    }
   ],
   "source": [
    "eng_df.lem[1]"
   ]
  },
  {
   "cell_type": "code",
   "execution_count": 504,
   "metadata": {},
   "outputs": [
    {
     "output_type": "execute_result",
     "data": {
      "text/plain": [
       "'zalando think big pregnant suggest lovely maternity clothe red heart red heart red heart red heart red heart red heart red heart thank love red heart red heart red heart red heart'"
      ]
     },
     "metadata": {},
     "execution_count": 504
    }
   ],
   "source": [
    "eng_df['lemma'] = [\" \".join([token.lemma_ for token in t]) for t in eng_df.lem]\n",
    "eng_df.lemma[7]"
   ]
  },
  {
   "cell_type": "code",
   "execution_count": 510,
   "metadata": {},
   "outputs": [
    {
     "output_type": "execute_result",
     "data": {
      "text/plain": [
       "                                                    tweet  \\\n",
       "0             greener retailing tracker week step forward   \n",
       "1       offers scripted cordial replies instead actual...   \n",
       "2       got great talk fabian wesner new venture roq t...   \n",
       "3       recieved wrong item don’t know item cheaper it...   \n",
       "4                              sent deliveries paper bags   \n",
       "...                                                   ...   \n",
       "109982  recent aresmonitor updates zalando rewriteoffs...   \n",
       "109983  i’ve able hit zalando sleepy face extension ch...   \n",
       "109984  gear enjoy favorite sport high quality sportsw...   \n",
       "109985  restocking zalando accounts today wanna miss n...   \n",
       "109986                 une pub zalando loudly crying face   \n",
       "\n",
       "                                                    lemma  \n",
       "0             greener retailing tracker week step forward  \n",
       "1       offer script cordial reply instead actual cust...  \n",
       "2       get great talk fabian wesner new venture roq t...  \n",
       "3       recieve wrong item do n’t know item cheap item...  \n",
       "4                                 send delivery paper bag  \n",
       "...                                                   ...  \n",
       "109982  recent aresmonitor update zalando rewriteoffsp...  \n",
       "109983  I ’ve able hit zalando sleepy face extension c...  \n",
       "109984  gear enjoy favorite sport high quality sportsw...  \n",
       "109985  restock zalando account today wanna miss night...  \n",
       "109986                    une pub zalando loudly cry face  \n",
       "\n",
       "[109987 rows x 2 columns]"
      ],
      "text/html": "<div>\n<style scoped>\n    .dataframe tbody tr th:only-of-type {\n        vertical-align: middle;\n    }\n\n    .dataframe tbody tr th {\n        vertical-align: top;\n    }\n\n    .dataframe thead th {\n        text-align: right;\n    }\n</style>\n<table border=\"1\" class=\"dataframe\">\n  <thead>\n    <tr style=\"text-align: right;\">\n      <th></th>\n      <th>tweet</th>\n      <th>lemma</th>\n    </tr>\n  </thead>\n  <tbody>\n    <tr>\n      <th>0</th>\n      <td>greener retailing tracker week step forward</td>\n      <td>greener retailing tracker week step forward</td>\n    </tr>\n    <tr>\n      <th>1</th>\n      <td>offers scripted cordial replies instead actual...</td>\n      <td>offer script cordial reply instead actual cust...</td>\n    </tr>\n    <tr>\n      <th>2</th>\n      <td>got great talk fabian wesner new venture roq t...</td>\n      <td>get great talk fabian wesner new venture roq t...</td>\n    </tr>\n    <tr>\n      <th>3</th>\n      <td>recieved wrong item don’t know item cheaper it...</td>\n      <td>recieve wrong item do n’t know item cheap item...</td>\n    </tr>\n    <tr>\n      <th>4</th>\n      <td>sent deliveries paper bags</td>\n      <td>send delivery paper bag</td>\n    </tr>\n    <tr>\n      <th>...</th>\n      <td>...</td>\n      <td>...</td>\n    </tr>\n    <tr>\n      <th>109982</th>\n      <td>recent aresmonitor updates zalando rewriteoffs...</td>\n      <td>recent aresmonitor update zalando rewriteoffsp...</td>\n    </tr>\n    <tr>\n      <th>109983</th>\n      <td>i’ve able hit zalando sleepy face extension ch...</td>\n      <td>I ’ve able hit zalando sleepy face extension c...</td>\n    </tr>\n    <tr>\n      <th>109984</th>\n      <td>gear enjoy favorite sport high quality sportsw...</td>\n      <td>gear enjoy favorite sport high quality sportsw...</td>\n    </tr>\n    <tr>\n      <th>109985</th>\n      <td>restocking zalando accounts today wanna miss n...</td>\n      <td>restock zalando account today wanna miss night...</td>\n    </tr>\n    <tr>\n      <th>109986</th>\n      <td>une pub zalando loudly crying face</td>\n      <td>une pub zalando loudly cry face</td>\n    </tr>\n  </tbody>\n</table>\n<p>109987 rows × 2 columns</p>\n</div>"
     },
     "metadata": {},
     "execution_count": 510
    }
   ],
   "source": [
    "eng_df[['tweet', 'lemma']]"
   ]
  }
 ]
}