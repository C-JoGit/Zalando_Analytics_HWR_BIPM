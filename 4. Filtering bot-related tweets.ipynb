{
 "metadata": {
  "language_info": {
   "codemirror_mode": {
    "name": "ipython",
    "version": 3
   },
   "file_extension": ".py",
   "mimetype": "text/x-python",
   "name": "python",
   "nbconvert_exporter": "python",
   "pygments_lexer": "ipython3",
   "version": "3.7.10"
  },
  "orig_nbformat": 2,
  "kernelspec": {
   "name": "python3710jvsc74a57bd022a63b945ad88ad6aa60a7f3f570c70abf6faa8a03284077614716ef20649993",
   "display_name": "Python 3.7.10 64-bit ('uni': conda)"
  }
 },
 "nbformat": 4,
 "nbformat_minor": 2,
 "cells": [
  {
   "cell_type": "code",
   "execution_count": 2,
   "metadata": {},
   "outputs": [
    {
     "output_type": "stream",
     "name": "stderr",
     "text": [
      "C:\\Anaconda\\envs\\uni\\lib\\site-packages\\gensim\\similarities\\__init__.py:15: UserWarning: The gensim.similarities.levenshtein submodule is disabled, because the optional Levenshtein package <https://pypi.org/project/python-Levenshtein/> is unavailable. Install Levenhstein (e.g. `pip install python-Levenshtein`) to suppress this warning.\n",
      "  warnings.warn(msg)\n",
      "Downloading emoji data ...\n",
      "[nltk_data] Downloading package stopwords to\n",
      "[nltk_data]     C:\\Users\\home\\AppData\\Roaming\\nltk_data...\n",
      "[nltk_data]   Package stopwords is already up-to-date!\n",
      "[nltk_data] Downloading package vader_lexicon to\n",
      "[nltk_data]     C:\\Users\\home\\AppData\\Roaming\\nltk_data...\n",
      "[nltk_data]   Package vader_lexicon is already up-to-date!\n",
      "[nltk_data] Downloading package punkt to\n",
      "[nltk_data]     C:\\Users\\home\\AppData\\Roaming\\nltk_data...\n",
      "[nltk_data]   Package punkt is already up-to-date!\n",
      "... OK (Got response in 0.44 seconds)\n",
      "Writing emoji data to C:\\Users\\home\\.demoji\\codes.json ...\n",
      "... OK\n",
      "Downloading emoji data ...\n",
      "[nltk_data] Downloading package stopwords to\n",
      "[nltk_data]     C:\\Users\\home\\AppData\\Roaming\\nltk_data...\n",
      "[nltk_data]   Package stopwords is already up-to-date!\n",
      "[nltk_data] Downloading package vader_lexicon to\n",
      "[nltk_data]     C:\\Users\\home\\AppData\\Roaming\\nltk_data...\n",
      "[nltk_data]   Package vader_lexicon is already up-to-date!\n",
      "[nltk_data] Downloading package punkt to\n",
      "[nltk_data]     C:\\Users\\home\\AppData\\Roaming\\nltk_data...\n",
      "[nltk_data]   Package punkt is already up-to-date!\n",
      "... OK (Got response in 0.42 seconds)\n",
      "Writing emoji data to C:\\Users\\home\\.demoji\\codes.json ...\n",
      "... OK\n"
     ]
    }
   ],
   "source": [
    "import sys\n",
    "sys.path.append('../')\n",
    "import functions\n",
    "exec(open('./functions.py').read())\n"
   ]
  },
  {
   "cell_type": "code",
   "execution_count": 3,
   "metadata": {},
   "outputs": [
    {
     "output_type": "execute_result",
     "data": {
      "text/plain": [
       "Index(['index', 'user_id', 'user_statuses', 'name', 'tweet', 'retweets',\n",
       "       'location', 'created', 'followers', 'is_user_verified',\n",
       "       'favorite_count', 'in_reply_to_status_id', 'keyword', 'language',\n",
       "       'clean', 'clean_vader', 'compound', 'lem', 'lemma'],\n",
       "      dtype='object')"
      ]
     },
     "metadata": {},
     "execution_count": 3
    }
   ],
   "source": [
    "#load labelled data (generated in file 2.preprocessing)\n",
    "data = pickle.load(open('data_n_models/eng_df_labelled.pkl', \"rb\"))\n",
    "data.columns"
   ]
  },
  {
   "source": [
    "# Labelling bot related tweets\n",
    "\n",
    "After the observations of the dataset, it was noticed that there are accounts that offer special scripts to buy goods on zalando as well as tweets by users of such scripts. Since this data is not related to the goal of our project we decided to filter them out. \n",
    "\n",
    "It is decided that if a user name contains 'bot', 'bot_' or 'script' it is a bot tweet.\n",
    "And if a tweet contains 'script','bot','bots, 'bot_', 'cook','cop' it is a bit tweet"
   ],
   "cell_type": "markdown",
   "metadata": {}
  },
  {
   "cell_type": "code",
   "execution_count": 4,
   "metadata": {},
   "outputs": [],
   "source": [
    "def classify_bots(df):\n",
    "    #collect all the account names related to bots and scripts\n",
    "    names = []\n",
    "    pat = r'(bot\\s|script|bot_)'\n",
    "    for name in data.name.unique():\n",
    "        match = re.findall(pat, name, re.IGNORECASE) \n",
    "        if len(match) > 0:\n",
    "            names.append(name)\n",
    "    #look for a key words to identify a tweet related to bots and scripts\n",
    "    pattern = r\"(script|bot\\s|bots\\s|bot_|cook|cop^e)\"\n",
    "    df['bot'] = False\n",
    "    for i, row in df.iterrows():\n",
    "        match = re.findall(pattern, row.tweet, re.IGNORECASE) \n",
    "        if len(match) > 0 or row.isin(names)['name'] == True:\n",
    "            df['bot'].loc[i] = True\n",
    "    return df"
   ]
  },
  {
   "cell_type": "code",
   "execution_count": 6,
   "metadata": {
    "tags": []
   },
   "outputs": [],
   "source": [
    "#apply the function\n",
    "bot_df = classify_bots(data)"
   ]
  },
  {
   "source": [
    "4% of english tweets were classified as bots"
   ],
   "cell_type": "markdown",
   "metadata": {}
  },
  {
   "cell_type": "code",
   "execution_count": 7,
   "metadata": {},
   "outputs": [
    {
     "output_type": "stream",
     "name": "stdout",
     "text": [
      "False    61741\n",
      "True      2691\n",
      "Name: bot, dtype: int64\n"
     ]
    },
    {
     "output_type": "execute_result",
     "data": {
      "text/plain": [
       "0.04176496150980879"
      ]
     },
     "metadata": {},
     "execution_count": 7
    }
   ],
   "source": [
    "t = bot_df.bot.value_counts()\n",
    "print(t)\n",
    "t.loc[True] / (t.loc[False] + t.loc[True])"
   ]
  },
  {
   "source": [
    "the majority of english speaking bots are about asos"
   ],
   "cell_type": "markdown",
   "metadata": {}
  },
  {
   "cell_type": "code",
   "execution_count": 130,
   "metadata": {},
   "outputs": [
    {
     "output_type": "stream",
     "name": "stdout",
     "text": [
      "          tweet\n",
      "keyword        \n",
      "@zalando      2\n",
      "asos       2011\n",
      "bohoo         2\n",
      "boohoo      106\n",
      "zalando     570\n"
     ]
    },
    {
     "output_type": "execute_result",
     "data": {
      "text/plain": [
       "<AxesSubplot:xlabel='keyword'>"
      ]
     },
     "metadata": {},
     "execution_count": 130
    },
    {
     "output_type": "display_data",
     "data": {
      "text/plain": "<Figure size 432x288 with 1 Axes>",
      "image/svg+xml": "<?xml version=\"1.0\" encoding=\"utf-8\" standalone=\"no\"?>\r\n<!DOCTYPE svg PUBLIC \"-//W3C//DTD SVG 1.1//EN\"\r\n  \"http://www.w3.org/Graphics/SVG/1.1/DTD/svg11.dtd\">\r\n<svg height=\"301.605625pt\" version=\"1.1\" viewBox=\"0 0 381.65 301.605625\" width=\"381.65pt\" xmlns=\"http://www.w3.org/2000/svg\" xmlns:xlink=\"http://www.w3.org/1999/xlink\">\r\n <metadata>\r\n  <rdf:RDF xmlns:cc=\"http://creativecommons.org/ns#\" xmlns:dc=\"http://purl.org/dc/elements/1.1/\" xmlns:rdf=\"http://www.w3.org/1999/02/22-rdf-syntax-ns#\">\r\n   <cc:Work>\r\n    <dc:type rdf:resource=\"http://purl.org/dc/dcmitype/StillImage\"/>\r\n    <dc:date>2021-06-08T23:10:49.652534</dc:date>\r\n    <dc:format>image/svg+xml</dc:format>\r\n    <dc:creator>\r\n     <cc:Agent>\r\n      <dc:title>Matplotlib v3.4.1, https://matplotlib.org/</dc:title>\r\n     </cc:Agent>\r\n    </dc:creator>\r\n   </cc:Work>\r\n  </rdf:RDF>\r\n </metadata>\r\n <defs>\r\n  <style type=\"text/css\">*{stroke-linecap:butt;stroke-linejoin:round;}</style>\r\n </defs>\r\n <g id=\"figure_1\">\r\n  <g id=\"patch_1\">\r\n   <path d=\"M -0 301.605625 \r\nL 381.65 301.605625 \r\nL 381.65 0 \r\nL -0 0 \r\nz\r\n\" style=\"fill:none;\"/>\r\n  </g>\r\n  <g id=\"axes_1\">\r\n   <g id=\"patch_2\">\r\n    <path d=\"M 39.65 224.64 \r\nL 374.45 224.64 \r\nL 374.45 7.2 \r\nL 39.65 7.2 \r\nz\r\n\" style=\"fill:#ffffff;\"/>\r\n   </g>\r\n   <g id=\"patch_3\">\r\n    <path clip-path=\"url(#p0971fd4d0d)\" d=\"M 56.39 224.64 \r\nL 89.87 224.64 \r\nL 89.87 224.434047 \r\nL 56.39 224.434047 \r\nz\r\n\" style=\"fill:#1f77b4;\"/>\r\n   </g>\r\n   <g id=\"patch_4\">\r\n    <path clip-path=\"url(#p0971fd4d0d)\" d=\"M 123.35 224.64 \r\nL 156.83 224.64 \r\nL 156.83 224.434047 \r\nL 123.35 224.434047 \r\nz\r\n\" style=\"fill:#1f77b4;\"/>\r\n   </g>\r\n   <g id=\"patch_5\">\r\n    <path clip-path=\"url(#p0971fd4d0d)\" d=\"M 190.31 224.64 \r\nL 223.79 224.64 \r\nL 223.79 213.724492 \r\nL 190.31 213.724492 \r\nz\r\n\" style=\"fill:#1f77b4;\"/>\r\n   </g>\r\n   <g id=\"patch_6\">\r\n    <path clip-path=\"url(#p0971fd4d0d)\" d=\"M 257.27 224.64 \r\nL 290.75 224.64 \r\nL 290.75 165.943403 \r\nL 257.27 165.943403 \r\nz\r\n\" style=\"fill:#1f77b4;\"/>\r\n   </g>\r\n   <g id=\"patch_7\">\r\n    <path clip-path=\"url(#p0971fd4d0d)\" d=\"M 324.23 224.64 \r\nL 357.71 224.64 \r\nL 357.71 17.554286 \r\nL 324.23 17.554286 \r\nz\r\n\" style=\"fill:#1f77b4;\"/>\r\n   </g>\r\n   <g id=\"matplotlib.axis_1\">\r\n    <g id=\"xtick_1\">\r\n     <g id=\"line2d_1\">\r\n      <defs>\r\n       <path d=\"M 0 0 \r\nL 0 3.5 \r\n\" id=\"m1d2d8bfbbf\" style=\"stroke:#000000;stroke-width:0.8;\"/>\r\n      </defs>\r\n      <g>\r\n       <use style=\"stroke:#000000;stroke-width:0.8;\" x=\"73.13\" xlink:href=\"#m1d2d8bfbbf\" y=\"224.64\"/>\r\n      </g>\r\n     </g>\r\n     <g id=\"text_1\">\r\n      <!-- @zalando -->\r\n      <g transform=\"translate(75.889375 280.7275)rotate(-90)scale(0.1 -0.1)\">\r\n       <defs>\r\n        <path d=\"M 2381 1678 \r\nQ 2381 1231 2603 976 \r\nQ 2825 722 3213 722 \r\nQ 3597 722 3817 978 \r\nQ 4038 1234 4038 1678 \r\nQ 4038 2116 3813 2373 \r\nQ 3588 2631 3206 2631 \r\nQ 2828 2631 2604 2375 \r\nQ 2381 2119 2381 1678 \r\nz\r\nM 4084 744 \r\nQ 3897 503 3655 389 \r\nQ 3413 275 3091 275 \r\nQ 2553 275 2217 664 \r\nQ 1881 1053 1881 1678 \r\nQ 1881 2303 2218 2693 \r\nQ 2556 3084 3091 3084 \r\nQ 3413 3084 3656 2967 \r\nQ 3900 2850 4084 2613 \r\nL 4084 3022 \r\nL 4531 3022 \r\nL 4531 722 \r\nQ 4988 791 5245 1139 \r\nQ 5503 1488 5503 2041 \r\nQ 5503 2375 5404 2669 \r\nQ 5306 2963 5106 3213 \r\nQ 4781 3622 4314 3839 \r\nQ 3847 4056 3297 4056 \r\nQ 2913 4056 2559 3954 \r\nQ 2206 3853 1906 3653 \r\nQ 1416 3334 1139 2817 \r\nQ 863 2300 863 1697 \r\nQ 863 1200 1042 765 \r\nQ 1222 331 1563 0 \r\nQ 1891 -325 2322 -495 \r\nQ 2753 -666 3244 -666 \r\nQ 3647 -666 4036 -530 \r\nQ 4425 -394 4750 -141 \r\nL 5031 -488 \r\nQ 4641 -791 4180 -952 \r\nQ 3719 -1113 3244 -1113 \r\nQ 2666 -1113 2153 -908 \r\nQ 1641 -703 1241 -313 \r\nQ 841 78 631 592 \r\nQ 422 1106 422 1697 \r\nQ 422 2266 634 2781 \r\nQ 847 3297 1241 3688 \r\nQ 1644 4084 2172 4295 \r\nQ 2700 4506 3291 4506 \r\nQ 3953 4506 4520 4234 \r\nQ 5088 3963 5472 3463 \r\nQ 5706 3156 5829 2797 \r\nQ 5953 2438 5953 2053 \r\nQ 5953 1231 5456 756 \r\nQ 4959 281 4084 263 \r\nL 4084 744 \r\nz\r\n\" id=\"DejaVuSans-40\" transform=\"scale(0.015625)\"/>\r\n        <path d=\"M 353 3500 \r\nL 3084 3500 \r\nL 3084 2975 \r\nL 922 459 \r\nL 3084 459 \r\nL 3084 0 \r\nL 275 0 \r\nL 275 525 \r\nL 2438 3041 \r\nL 353 3041 \r\nL 353 3500 \r\nz\r\n\" id=\"DejaVuSans-7a\" transform=\"scale(0.015625)\"/>\r\n        <path d=\"M 2194 1759 \r\nQ 1497 1759 1228 1600 \r\nQ 959 1441 959 1056 \r\nQ 959 750 1161 570 \r\nQ 1363 391 1709 391 \r\nQ 2188 391 2477 730 \r\nQ 2766 1069 2766 1631 \r\nL 2766 1759 \r\nL 2194 1759 \r\nz\r\nM 3341 1997 \r\nL 3341 0 \r\nL 2766 0 \r\nL 2766 531 \r\nQ 2569 213 2275 61 \r\nQ 1981 -91 1556 -91 \r\nQ 1019 -91 701 211 \r\nQ 384 513 384 1019 \r\nQ 384 1609 779 1909 \r\nQ 1175 2209 1959 2209 \r\nL 2766 2209 \r\nL 2766 2266 \r\nQ 2766 2663 2505 2880 \r\nQ 2244 3097 1772 3097 \r\nQ 1472 3097 1187 3025 \r\nQ 903 2953 641 2809 \r\nL 641 3341 \r\nQ 956 3463 1253 3523 \r\nQ 1550 3584 1831 3584 \r\nQ 2591 3584 2966 3190 \r\nQ 3341 2797 3341 1997 \r\nz\r\n\" id=\"DejaVuSans-61\" transform=\"scale(0.015625)\"/>\r\n        <path d=\"M 603 4863 \r\nL 1178 4863 \r\nL 1178 0 \r\nL 603 0 \r\nL 603 4863 \r\nz\r\n\" id=\"DejaVuSans-6c\" transform=\"scale(0.015625)\"/>\r\n        <path d=\"M 3513 2113 \r\nL 3513 0 \r\nL 2938 0 \r\nL 2938 2094 \r\nQ 2938 2591 2744 2837 \r\nQ 2550 3084 2163 3084 \r\nQ 1697 3084 1428 2787 \r\nQ 1159 2491 1159 1978 \r\nL 1159 0 \r\nL 581 0 \r\nL 581 3500 \r\nL 1159 3500 \r\nL 1159 2956 \r\nQ 1366 3272 1645 3428 \r\nQ 1925 3584 2291 3584 \r\nQ 2894 3584 3203 3211 \r\nQ 3513 2838 3513 2113 \r\nz\r\n\" id=\"DejaVuSans-6e\" transform=\"scale(0.015625)\"/>\r\n        <path d=\"M 2906 2969 \r\nL 2906 4863 \r\nL 3481 4863 \r\nL 3481 0 \r\nL 2906 0 \r\nL 2906 525 \r\nQ 2725 213 2448 61 \r\nQ 2172 -91 1784 -91 \r\nQ 1150 -91 751 415 \r\nQ 353 922 353 1747 \r\nQ 353 2572 751 3078 \r\nQ 1150 3584 1784 3584 \r\nQ 2172 3584 2448 3432 \r\nQ 2725 3281 2906 2969 \r\nz\r\nM 947 1747 \r\nQ 947 1113 1208 752 \r\nQ 1469 391 1925 391 \r\nQ 2381 391 2643 752 \r\nQ 2906 1113 2906 1747 \r\nQ 2906 2381 2643 2742 \r\nQ 2381 3103 1925 3103 \r\nQ 1469 3103 1208 2742 \r\nQ 947 2381 947 1747 \r\nz\r\n\" id=\"DejaVuSans-64\" transform=\"scale(0.015625)\"/>\r\n        <path d=\"M 1959 3097 \r\nQ 1497 3097 1228 2736 \r\nQ 959 2375 959 1747 \r\nQ 959 1119 1226 758 \r\nQ 1494 397 1959 397 \r\nQ 2419 397 2687 759 \r\nQ 2956 1122 2956 1747 \r\nQ 2956 2369 2687 2733 \r\nQ 2419 3097 1959 3097 \r\nz\r\nM 1959 3584 \r\nQ 2709 3584 3137 3096 \r\nQ 3566 2609 3566 1747 \r\nQ 3566 888 3137 398 \r\nQ 2709 -91 1959 -91 \r\nQ 1206 -91 779 398 \r\nQ 353 888 353 1747 \r\nQ 353 2609 779 3096 \r\nQ 1206 3584 1959 3584 \r\nz\r\n\" id=\"DejaVuSans-6f\" transform=\"scale(0.015625)\"/>\r\n       </defs>\r\n       <use xlink:href=\"#DejaVuSans-40\"/>\r\n       <use x=\"100\" xlink:href=\"#DejaVuSans-7a\"/>\r\n       <use x=\"152.490234\" xlink:href=\"#DejaVuSans-61\"/>\r\n       <use x=\"213.769531\" xlink:href=\"#DejaVuSans-6c\"/>\r\n       <use x=\"241.552734\" xlink:href=\"#DejaVuSans-61\"/>\r\n       <use x=\"302.832031\" xlink:href=\"#DejaVuSans-6e\"/>\r\n       <use x=\"366.210938\" xlink:href=\"#DejaVuSans-64\"/>\r\n       <use x=\"429.6875\" xlink:href=\"#DejaVuSans-6f\"/>\r\n      </g>\r\n     </g>\r\n    </g>\r\n    <g id=\"xtick_2\">\r\n     <g id=\"line2d_2\">\r\n      <g>\r\n       <use style=\"stroke:#000000;stroke-width:0.8;\" x=\"140.09\" xlink:href=\"#m1d2d8bfbbf\" y=\"224.64\"/>\r\n      </g>\r\n     </g>\r\n     <g id=\"text_2\">\r\n      <!-- bohoo -->\r\n      <g transform=\"translate(142.849375 262.682187)rotate(-90)scale(0.1 -0.1)\">\r\n       <defs>\r\n        <path d=\"M 3116 1747 \r\nQ 3116 2381 2855 2742 \r\nQ 2594 3103 2138 3103 \r\nQ 1681 3103 1420 2742 \r\nQ 1159 2381 1159 1747 \r\nQ 1159 1113 1420 752 \r\nQ 1681 391 2138 391 \r\nQ 2594 391 2855 752 \r\nQ 3116 1113 3116 1747 \r\nz\r\nM 1159 2969 \r\nQ 1341 3281 1617 3432 \r\nQ 1894 3584 2278 3584 \r\nQ 2916 3584 3314 3078 \r\nQ 3713 2572 3713 1747 \r\nQ 3713 922 3314 415 \r\nQ 2916 -91 2278 -91 \r\nQ 1894 -91 1617 61 \r\nQ 1341 213 1159 525 \r\nL 1159 0 \r\nL 581 0 \r\nL 581 4863 \r\nL 1159 4863 \r\nL 1159 2969 \r\nz\r\n\" id=\"DejaVuSans-62\" transform=\"scale(0.015625)\"/>\r\n        <path d=\"M 3513 2113 \r\nL 3513 0 \r\nL 2938 0 \r\nL 2938 2094 \r\nQ 2938 2591 2744 2837 \r\nQ 2550 3084 2163 3084 \r\nQ 1697 3084 1428 2787 \r\nQ 1159 2491 1159 1978 \r\nL 1159 0 \r\nL 581 0 \r\nL 581 4863 \r\nL 1159 4863 \r\nL 1159 2956 \r\nQ 1366 3272 1645 3428 \r\nQ 1925 3584 2291 3584 \r\nQ 2894 3584 3203 3211 \r\nQ 3513 2838 3513 2113 \r\nz\r\n\" id=\"DejaVuSans-68\" transform=\"scale(0.015625)\"/>\r\n       </defs>\r\n       <use xlink:href=\"#DejaVuSans-62\"/>\r\n       <use x=\"63.476562\" xlink:href=\"#DejaVuSans-6f\"/>\r\n       <use x=\"124.658203\" xlink:href=\"#DejaVuSans-68\"/>\r\n       <use x=\"188.037109\" xlink:href=\"#DejaVuSans-6f\"/>\r\n       <use x=\"249.21875\" xlink:href=\"#DejaVuSans-6f\"/>\r\n      </g>\r\n     </g>\r\n    </g>\r\n    <g id=\"xtick_3\">\r\n     <g id=\"line2d_3\">\r\n      <g>\r\n       <use style=\"stroke:#000000;stroke-width:0.8;\" x=\"207.05\" xlink:href=\"#m1d2d8bfbbf\" y=\"224.64\"/>\r\n      </g>\r\n     </g>\r\n     <g id=\"text_3\">\r\n      <!-- boohoo -->\r\n      <g transform=\"translate(209.809375 268.800937)rotate(-90)scale(0.1 -0.1)\">\r\n       <use xlink:href=\"#DejaVuSans-62\"/>\r\n       <use x=\"63.476562\" xlink:href=\"#DejaVuSans-6f\"/>\r\n       <use x=\"124.658203\" xlink:href=\"#DejaVuSans-6f\"/>\r\n       <use x=\"185.839844\" xlink:href=\"#DejaVuSans-68\"/>\r\n       <use x=\"249.21875\" xlink:href=\"#DejaVuSans-6f\"/>\r\n       <use x=\"310.400391\" xlink:href=\"#DejaVuSans-6f\"/>\r\n      </g>\r\n     </g>\r\n    </g>\r\n    <g id=\"xtick_4\">\r\n     <g id=\"line2d_4\">\r\n      <g>\r\n       <use style=\"stroke:#000000;stroke-width:0.8;\" x=\"274.01\" xlink:href=\"#m1d2d8bfbbf\" y=\"224.64\"/>\r\n      </g>\r\n     </g>\r\n     <g id=\"text_4\">\r\n      <!-- zalando -->\r\n      <g transform=\"translate(276.769375 270.7275)rotate(-90)scale(0.1 -0.1)\">\r\n       <use xlink:href=\"#DejaVuSans-7a\"/>\r\n       <use x=\"52.490234\" xlink:href=\"#DejaVuSans-61\"/>\r\n       <use x=\"113.769531\" xlink:href=\"#DejaVuSans-6c\"/>\r\n       <use x=\"141.552734\" xlink:href=\"#DejaVuSans-61\"/>\r\n       <use x=\"202.832031\" xlink:href=\"#DejaVuSans-6e\"/>\r\n       <use x=\"266.210938\" xlink:href=\"#DejaVuSans-64\"/>\r\n       <use x=\"329.6875\" xlink:href=\"#DejaVuSans-6f\"/>\r\n      </g>\r\n     </g>\r\n    </g>\r\n    <g id=\"xtick_5\">\r\n     <g id=\"line2d_5\">\r\n      <g>\r\n       <use style=\"stroke:#000000;stroke-width:0.8;\" x=\"340.97\" xlink:href=\"#m1d2d8bfbbf\" y=\"224.64\"/>\r\n      </g>\r\n     </g>\r\n     <g id=\"text_5\">\r\n      <!-- asos -->\r\n      <g transform=\"translate(343.729375 254.305625)rotate(-90)scale(0.1 -0.1)\">\r\n       <defs>\r\n        <path d=\"M 2834 3397 \r\nL 2834 2853 \r\nQ 2591 2978 2328 3040 \r\nQ 2066 3103 1784 3103 \r\nQ 1356 3103 1142 2972 \r\nQ 928 2841 928 2578 \r\nQ 928 2378 1081 2264 \r\nQ 1234 2150 1697 2047 \r\nL 1894 2003 \r\nQ 2506 1872 2764 1633 \r\nQ 3022 1394 3022 966 \r\nQ 3022 478 2636 193 \r\nQ 2250 -91 1575 -91 \r\nQ 1294 -91 989 -36 \r\nQ 684 19 347 128 \r\nL 347 722 \r\nQ 666 556 975 473 \r\nQ 1284 391 1588 391 \r\nQ 1994 391 2212 530 \r\nQ 2431 669 2431 922 \r\nQ 2431 1156 2273 1281 \r\nQ 2116 1406 1581 1522 \r\nL 1381 1569 \r\nQ 847 1681 609 1914 \r\nQ 372 2147 372 2553 \r\nQ 372 3047 722 3315 \r\nQ 1072 3584 1716 3584 \r\nQ 2034 3584 2315 3537 \r\nQ 2597 3491 2834 3397 \r\nz\r\n\" id=\"DejaVuSans-73\" transform=\"scale(0.015625)\"/>\r\n       </defs>\r\n       <use xlink:href=\"#DejaVuSans-61\"/>\r\n       <use x=\"61.279297\" xlink:href=\"#DejaVuSans-73\"/>\r\n       <use x=\"113.378906\" xlink:href=\"#DejaVuSans-6f\"/>\r\n       <use x=\"174.560547\" xlink:href=\"#DejaVuSans-73\"/>\r\n      </g>\r\n     </g>\r\n    </g>\r\n    <g id=\"text_6\">\r\n     <!-- keyword -->\r\n     <g transform=\"translate(186.009375 292.325937)scale(0.1 -0.1)\">\r\n      <defs>\r\n       <path d=\"M 581 4863 \r\nL 1159 4863 \r\nL 1159 1991 \r\nL 2875 3500 \r\nL 3609 3500 \r\nL 1753 1863 \r\nL 3688 0 \r\nL 2938 0 \r\nL 1159 1709 \r\nL 1159 0 \r\nL 581 0 \r\nL 581 4863 \r\nz\r\n\" id=\"DejaVuSans-6b\" transform=\"scale(0.015625)\"/>\r\n       <path d=\"M 3597 1894 \r\nL 3597 1613 \r\nL 953 1613 \r\nQ 991 1019 1311 708 \r\nQ 1631 397 2203 397 \r\nQ 2534 397 2845 478 \r\nQ 3156 559 3463 722 \r\nL 3463 178 \r\nQ 3153 47 2828 -22 \r\nQ 2503 -91 2169 -91 \r\nQ 1331 -91 842 396 \r\nQ 353 884 353 1716 \r\nQ 353 2575 817 3079 \r\nQ 1281 3584 2069 3584 \r\nQ 2775 3584 3186 3129 \r\nQ 3597 2675 3597 1894 \r\nz\r\nM 3022 2063 \r\nQ 3016 2534 2758 2815 \r\nQ 2500 3097 2075 3097 \r\nQ 1594 3097 1305 2825 \r\nQ 1016 2553 972 2059 \r\nL 3022 2063 \r\nz\r\n\" id=\"DejaVuSans-65\" transform=\"scale(0.015625)\"/>\r\n       <path d=\"M 2059 -325 \r\nQ 1816 -950 1584 -1140 \r\nQ 1353 -1331 966 -1331 \r\nL 506 -1331 \r\nL 506 -850 \r\nL 844 -850 \r\nQ 1081 -850 1212 -737 \r\nQ 1344 -625 1503 -206 \r\nL 1606 56 \r\nL 191 3500 \r\nL 800 3500 \r\nL 1894 763 \r\nL 2988 3500 \r\nL 3597 3500 \r\nL 2059 -325 \r\nz\r\n\" id=\"DejaVuSans-79\" transform=\"scale(0.015625)\"/>\r\n       <path d=\"M 269 3500 \r\nL 844 3500 \r\nL 1563 769 \r\nL 2278 3500 \r\nL 2956 3500 \r\nL 3675 769 \r\nL 4391 3500 \r\nL 4966 3500 \r\nL 4050 0 \r\nL 3372 0 \r\nL 2619 2869 \r\nL 1863 0 \r\nL 1184 0 \r\nL 269 3500 \r\nz\r\n\" id=\"DejaVuSans-77\" transform=\"scale(0.015625)\"/>\r\n       <path d=\"M 2631 2963 \r\nQ 2534 3019 2420 3045 \r\nQ 2306 3072 2169 3072 \r\nQ 1681 3072 1420 2755 \r\nQ 1159 2438 1159 1844 \r\nL 1159 0 \r\nL 581 0 \r\nL 581 3500 \r\nL 1159 3500 \r\nL 1159 2956 \r\nQ 1341 3275 1631 3429 \r\nQ 1922 3584 2338 3584 \r\nQ 2397 3584 2469 3576 \r\nQ 2541 3569 2628 3553 \r\nL 2631 2963 \r\nz\r\n\" id=\"DejaVuSans-72\" transform=\"scale(0.015625)\"/>\r\n      </defs>\r\n      <use xlink:href=\"#DejaVuSans-6b\"/>\r\n      <use x=\"54.285156\" xlink:href=\"#DejaVuSans-65\"/>\r\n      <use x=\"115.808594\" xlink:href=\"#DejaVuSans-79\"/>\r\n      <use x=\"174.988281\" xlink:href=\"#DejaVuSans-77\"/>\r\n      <use x=\"256.775391\" xlink:href=\"#DejaVuSans-6f\"/>\r\n      <use x=\"317.957031\" xlink:href=\"#DejaVuSans-72\"/>\r\n      <use x=\"357.320312\" xlink:href=\"#DejaVuSans-64\"/>\r\n     </g>\r\n    </g>\r\n   </g>\r\n   <g id=\"matplotlib.axis_2\">\r\n    <g id=\"ytick_1\">\r\n     <g id=\"line2d_6\">\r\n      <defs>\r\n       <path d=\"M 0 0 \r\nL -3.5 0 \r\n\" id=\"mb21739afc1\" style=\"stroke:#000000;stroke-width:0.8;\"/>\r\n      </defs>\r\n      <g>\r\n       <use style=\"stroke:#000000;stroke-width:0.8;\" x=\"39.65\" xlink:href=\"#mb21739afc1\" y=\"224.64\"/>\r\n      </g>\r\n     </g>\r\n     <g id=\"text_7\">\r\n      <!-- 0 -->\r\n      <g transform=\"translate(26.2875 228.439219)scale(0.1 -0.1)\">\r\n       <defs>\r\n        <path d=\"M 2034 4250 \r\nQ 1547 4250 1301 3770 \r\nQ 1056 3291 1056 2328 \r\nQ 1056 1369 1301 889 \r\nQ 1547 409 2034 409 \r\nQ 2525 409 2770 889 \r\nQ 3016 1369 3016 2328 \r\nQ 3016 3291 2770 3770 \r\nQ 2525 4250 2034 4250 \r\nz\r\nM 2034 4750 \r\nQ 2819 4750 3233 4129 \r\nQ 3647 3509 3647 2328 \r\nQ 3647 1150 3233 529 \r\nQ 2819 -91 2034 -91 \r\nQ 1250 -91 836 529 \r\nQ 422 1150 422 2328 \r\nQ 422 3509 836 4129 \r\nQ 1250 4750 2034 4750 \r\nz\r\n\" id=\"DejaVuSans-30\" transform=\"scale(0.015625)\"/>\r\n       </defs>\r\n       <use xlink:href=\"#DejaVuSans-30\"/>\r\n      </g>\r\n     </g>\r\n    </g>\r\n    <g id=\"ytick_2\">\r\n     <g id=\"line2d_7\">\r\n      <g>\r\n       <use style=\"stroke:#000000;stroke-width:0.8;\" x=\"39.65\" xlink:href=\"#mb21739afc1\" y=\"198.895878\"/>\r\n      </g>\r\n     </g>\r\n     <g id=\"text_8\">\r\n      <!-- 250 -->\r\n      <g transform=\"translate(13.5625 202.695097)scale(0.1 -0.1)\">\r\n       <defs>\r\n        <path d=\"M 1228 531 \r\nL 3431 531 \r\nL 3431 0 \r\nL 469 0 \r\nL 469 531 \r\nQ 828 903 1448 1529 \r\nQ 2069 2156 2228 2338 \r\nQ 2531 2678 2651 2914 \r\nQ 2772 3150 2772 3378 \r\nQ 2772 3750 2511 3984 \r\nQ 2250 4219 1831 4219 \r\nQ 1534 4219 1204 4116 \r\nQ 875 4013 500 3803 \r\nL 500 4441 \r\nQ 881 4594 1212 4672 \r\nQ 1544 4750 1819 4750 \r\nQ 2544 4750 2975 4387 \r\nQ 3406 4025 3406 3419 \r\nQ 3406 3131 3298 2873 \r\nQ 3191 2616 2906 2266 \r\nQ 2828 2175 2409 1742 \r\nQ 1991 1309 1228 531 \r\nz\r\n\" id=\"DejaVuSans-32\" transform=\"scale(0.015625)\"/>\r\n        <path d=\"M 691 4666 \r\nL 3169 4666 \r\nL 3169 4134 \r\nL 1269 4134 \r\nL 1269 2991 \r\nQ 1406 3038 1543 3061 \r\nQ 1681 3084 1819 3084 \r\nQ 2600 3084 3056 2656 \r\nQ 3513 2228 3513 1497 \r\nQ 3513 744 3044 326 \r\nQ 2575 -91 1722 -91 \r\nQ 1428 -91 1123 -41 \r\nQ 819 9 494 109 \r\nL 494 744 \r\nQ 775 591 1075 516 \r\nQ 1375 441 1709 441 \r\nQ 2250 441 2565 725 \r\nQ 2881 1009 2881 1497 \r\nQ 2881 1984 2565 2268 \r\nQ 2250 2553 1709 2553 \r\nQ 1456 2553 1204 2497 \r\nQ 953 2441 691 2322 \r\nL 691 4666 \r\nz\r\n\" id=\"DejaVuSans-35\" transform=\"scale(0.015625)\"/>\r\n       </defs>\r\n       <use xlink:href=\"#DejaVuSans-32\"/>\r\n       <use x=\"63.623047\" xlink:href=\"#DejaVuSans-35\"/>\r\n       <use x=\"127.246094\" xlink:href=\"#DejaVuSans-30\"/>\r\n      </g>\r\n     </g>\r\n    </g>\r\n    <g id=\"ytick_3\">\r\n     <g id=\"line2d_8\">\r\n      <g>\r\n       <use style=\"stroke:#000000;stroke-width:0.8;\" x=\"39.65\" xlink:href=\"#mb21739afc1\" y=\"173.151757\"/>\r\n      </g>\r\n     </g>\r\n     <g id=\"text_9\">\r\n      <!-- 500 -->\r\n      <g transform=\"translate(13.5625 176.950976)scale(0.1 -0.1)\">\r\n       <use xlink:href=\"#DejaVuSans-35\"/>\r\n       <use x=\"63.623047\" xlink:href=\"#DejaVuSans-30\"/>\r\n       <use x=\"127.246094\" xlink:href=\"#DejaVuSans-30\"/>\r\n      </g>\r\n     </g>\r\n    </g>\r\n    <g id=\"ytick_4\">\r\n     <g id=\"line2d_9\">\r\n      <g>\r\n       <use style=\"stroke:#000000;stroke-width:0.8;\" x=\"39.65\" xlink:href=\"#mb21739afc1\" y=\"147.407635\"/>\r\n      </g>\r\n     </g>\r\n     <g id=\"text_10\">\r\n      <!-- 750 -->\r\n      <g transform=\"translate(13.5625 151.206854)scale(0.1 -0.1)\">\r\n       <defs>\r\n        <path d=\"M 525 4666 \r\nL 3525 4666 \r\nL 3525 4397 \r\nL 1831 0 \r\nL 1172 0 \r\nL 2766 4134 \r\nL 525 4134 \r\nL 525 4666 \r\nz\r\n\" id=\"DejaVuSans-37\" transform=\"scale(0.015625)\"/>\r\n       </defs>\r\n       <use xlink:href=\"#DejaVuSans-37\"/>\r\n       <use x=\"63.623047\" xlink:href=\"#DejaVuSans-35\"/>\r\n       <use x=\"127.246094\" xlink:href=\"#DejaVuSans-30\"/>\r\n      </g>\r\n     </g>\r\n    </g>\r\n    <g id=\"ytick_5\">\r\n     <g id=\"line2d_10\">\r\n      <g>\r\n       <use style=\"stroke:#000000;stroke-width:0.8;\" x=\"39.65\" xlink:href=\"#mb21739afc1\" y=\"121.663514\"/>\r\n      </g>\r\n     </g>\r\n     <g id=\"text_11\">\r\n      <!-- 1000 -->\r\n      <g transform=\"translate(7.2 125.462732)scale(0.1 -0.1)\">\r\n       <defs>\r\n        <path d=\"M 794 531 \r\nL 1825 531 \r\nL 1825 4091 \r\nL 703 3866 \r\nL 703 4441 \r\nL 1819 4666 \r\nL 2450 4666 \r\nL 2450 531 \r\nL 3481 531 \r\nL 3481 0 \r\nL 794 0 \r\nL 794 531 \r\nz\r\n\" id=\"DejaVuSans-31\" transform=\"scale(0.015625)\"/>\r\n       </defs>\r\n       <use xlink:href=\"#DejaVuSans-31\"/>\r\n       <use x=\"63.623047\" xlink:href=\"#DejaVuSans-30\"/>\r\n       <use x=\"127.246094\" xlink:href=\"#DejaVuSans-30\"/>\r\n       <use x=\"190.869141\" xlink:href=\"#DejaVuSans-30\"/>\r\n      </g>\r\n     </g>\r\n    </g>\r\n    <g id=\"ytick_6\">\r\n     <g id=\"line2d_11\">\r\n      <g>\r\n       <use style=\"stroke:#000000;stroke-width:0.8;\" x=\"39.65\" xlink:href=\"#mb21739afc1\" y=\"95.919392\"/>\r\n      </g>\r\n     </g>\r\n     <g id=\"text_12\">\r\n      <!-- 1250 -->\r\n      <g transform=\"translate(7.2 99.718611)scale(0.1 -0.1)\">\r\n       <use xlink:href=\"#DejaVuSans-31\"/>\r\n       <use x=\"63.623047\" xlink:href=\"#DejaVuSans-32\"/>\r\n       <use x=\"127.246094\" xlink:href=\"#DejaVuSans-35\"/>\r\n       <use x=\"190.869141\" xlink:href=\"#DejaVuSans-30\"/>\r\n      </g>\r\n     </g>\r\n    </g>\r\n    <g id=\"ytick_7\">\r\n     <g id=\"line2d_12\">\r\n      <g>\r\n       <use style=\"stroke:#000000;stroke-width:0.8;\" x=\"39.65\" xlink:href=\"#mb21739afc1\" y=\"70.17527\"/>\r\n      </g>\r\n     </g>\r\n     <g id=\"text_13\">\r\n      <!-- 1500 -->\r\n      <g transform=\"translate(7.2 73.974489)scale(0.1 -0.1)\">\r\n       <use xlink:href=\"#DejaVuSans-31\"/>\r\n       <use x=\"63.623047\" xlink:href=\"#DejaVuSans-35\"/>\r\n       <use x=\"127.246094\" xlink:href=\"#DejaVuSans-30\"/>\r\n       <use x=\"190.869141\" xlink:href=\"#DejaVuSans-30\"/>\r\n      </g>\r\n     </g>\r\n    </g>\r\n    <g id=\"ytick_8\">\r\n     <g id=\"line2d_13\">\r\n      <g>\r\n       <use style=\"stroke:#000000;stroke-width:0.8;\" x=\"39.65\" xlink:href=\"#mb21739afc1\" y=\"44.431149\"/>\r\n      </g>\r\n     </g>\r\n     <g id=\"text_14\">\r\n      <!-- 1750 -->\r\n      <g transform=\"translate(7.2 48.230367)scale(0.1 -0.1)\">\r\n       <use xlink:href=\"#DejaVuSans-31\"/>\r\n       <use x=\"63.623047\" xlink:href=\"#DejaVuSans-37\"/>\r\n       <use x=\"127.246094\" xlink:href=\"#DejaVuSans-35\"/>\r\n       <use x=\"190.869141\" xlink:href=\"#DejaVuSans-30\"/>\r\n      </g>\r\n     </g>\r\n    </g>\r\n    <g id=\"ytick_9\">\r\n     <g id=\"line2d_14\">\r\n      <g>\r\n       <use style=\"stroke:#000000;stroke-width:0.8;\" x=\"39.65\" xlink:href=\"#mb21739afc1\" y=\"18.687027\"/>\r\n      </g>\r\n     </g>\r\n     <g id=\"text_15\">\r\n      <!-- 2000 -->\r\n      <g transform=\"translate(7.2 22.486246)scale(0.1 -0.1)\">\r\n       <use xlink:href=\"#DejaVuSans-32\"/>\r\n       <use x=\"63.623047\" xlink:href=\"#DejaVuSans-30\"/>\r\n       <use x=\"127.246094\" xlink:href=\"#DejaVuSans-30\"/>\r\n       <use x=\"190.869141\" xlink:href=\"#DejaVuSans-30\"/>\r\n      </g>\r\n     </g>\r\n    </g>\r\n   </g>\r\n   <g id=\"patch_8\">\r\n    <path d=\"M 39.65 224.64 \r\nL 39.65 7.2 \r\n\" style=\"fill:none;stroke:#000000;stroke-linecap:square;stroke-linejoin:miter;stroke-width:0.8;\"/>\r\n   </g>\r\n   <g id=\"patch_9\">\r\n    <path d=\"M 374.45 224.64 \r\nL 374.45 7.2 \r\n\" style=\"fill:none;stroke:#000000;stroke-linecap:square;stroke-linejoin:miter;stroke-width:0.8;\"/>\r\n   </g>\r\n   <g id=\"patch_10\">\r\n    <path d=\"M 39.65 224.64 \r\nL 374.45 224.64 \r\n\" style=\"fill:none;stroke:#000000;stroke-linecap:square;stroke-linejoin:miter;stroke-width:0.8;\"/>\r\n   </g>\r\n   <g id=\"patch_11\">\r\n    <path d=\"M 39.65 7.2 \r\nL 374.45 7.2 \r\n\" style=\"fill:none;stroke:#000000;stroke-linecap:square;stroke-linejoin:miter;stroke-width:0.8;\"/>\r\n   </g>\r\n   <g id=\"legend_1\">\r\n    <g id=\"patch_12\">\r\n     <path d=\"M 46.65 29.878125 \r\nL 106.975 29.878125 \r\nQ 108.975 29.878125 108.975 27.878125 \r\nL 108.975 14.2 \r\nQ 108.975 12.2 106.975 12.2 \r\nL 46.65 12.2 \r\nQ 44.65 12.2 44.65 14.2 \r\nL 44.65 27.878125 \r\nQ 44.65 29.878125 46.65 29.878125 \r\nz\r\n\" style=\"fill:#ffffff;opacity:0.8;stroke:#cccccc;stroke-linejoin:miter;\"/>\r\n    </g>\r\n    <g id=\"patch_13\">\r\n     <path d=\"M 48.65 23.798437 \r\nL 68.65 23.798437 \r\nL 68.65 16.798437 \r\nL 48.65 16.798437 \r\nz\r\n\" style=\"fill:#1f77b4;\"/>\r\n    </g>\r\n    <g id=\"text_16\">\r\n     <!-- tweet -->\r\n     <g transform=\"translate(76.65 23.798437)scale(0.1 -0.1)\">\r\n      <defs>\r\n       <path d=\"M 1172 4494 \r\nL 1172 3500 \r\nL 2356 3500 \r\nL 2356 3053 \r\nL 1172 3053 \r\nL 1172 1153 \r\nQ 1172 725 1289 603 \r\nQ 1406 481 1766 481 \r\nL 2356 481 \r\nL 2356 0 \r\nL 1766 0 \r\nQ 1100 0 847 248 \r\nQ 594 497 594 1153 \r\nL 594 3053 \r\nL 172 3053 \r\nL 172 3500 \r\nL 594 3500 \r\nL 594 4494 \r\nL 1172 4494 \r\nz\r\n\" id=\"DejaVuSans-74\" transform=\"scale(0.015625)\"/>\r\n      </defs>\r\n      <use xlink:href=\"#DejaVuSans-74\"/>\r\n      <use x=\"39.208984\" xlink:href=\"#DejaVuSans-77\"/>\r\n      <use x=\"120.996094\" xlink:href=\"#DejaVuSans-65\"/>\r\n      <use x=\"182.519531\" xlink:href=\"#DejaVuSans-65\"/>\r\n      <use x=\"244.042969\" xlink:href=\"#DejaVuSans-74\"/>\r\n     </g>\r\n    </g>\r\n   </g>\r\n  </g>\r\n </g>\r\n <defs>\r\n  <clipPath id=\"p0971fd4d0d\">\r\n   <rect height=\"217.44\" width=\"334.8\" x=\"39.65\" y=\"7.2\"/>\r\n  </clipPath>\r\n </defs>\r\n</svg>\r\n",
      "image/png": "[encoded data removed]"
     },
     "metadata": {
      "needs_background": "light"
     }
    }
   ],
   "source": [
    "print(bot_df[['keyword','tweet']][bot_df.bot == True].groupby(['keyword']).count())\n",
    "bot_df[['keyword','tweet']][bot_df.bot == True].groupby(['keyword']).count().sort_values(by='tweet').plot.bar()"
   ]
  },
  {
   "source": [
    "English no-bot tweets is just 3% about Zalando"
   ],
   "cell_type": "markdown",
   "metadata": {}
  },
  {
   "cell_type": "code",
   "execution_count": 93,
   "metadata": {},
   "outputs": [
    {
     "output_type": "stream",
     "name": "stdout",
     "text": [
      "          tweet\n",
      "keyword        \n",
      "@zalando    294\n",
      "asos      34683\n",
      "bohoo       166\n",
      "boohoo    24746\n",
      "zalando    1852\n"
     ]
    },
    {
     "output_type": "execute_result",
     "data": {
      "text/plain": [
       "<AxesSubplot:xlabel='keyword'>"
      ]
     },
     "metadata": {},
     "execution_count": 93
    },
    {
     "output_type": "display_data",
     "data": {
      "text/plain": "<Figure size 432x288 with 1 Axes>",
      "image/svg+xml": "<?xml version=\"1.0\" encoding=\"utf-8\" standalone=\"no\"?>\r\n<!DOCTYPE svg PUBLIC \"-//W3C//DTD SVG 1.1//EN\"\r\n  \"http://www.w3.org/Graphics/SVG/1.1/DTD/svg11.dtd\">\r\n<svg height=\"301.605625pt\" version=\"1.1\" viewBox=\"0 0 388.0125 301.605625\" width=\"388.0125pt\" xmlns=\"http://www.w3.org/2000/svg\" xmlns:xlink=\"http://www.w3.org/1999/xlink\">\r\n <metadata>\r\n  <rdf:RDF xmlns:cc=\"http://creativecommons.org/ns#\" xmlns:dc=\"http://purl.org/dc/elements/1.1/\" xmlns:rdf=\"http://www.w3.org/1999/02/22-rdf-syntax-ns#\">\r\n   <cc:Work>\r\n    <dc:type rdf:resource=\"http://purl.org/dc/dcmitype/StillImage\"/>\r\n    <dc:date>2021-06-08T22:36:09.978601</dc:date>\r\n    <dc:format>image/svg+xml</dc:format>\r\n    <dc:creator>\r\n     <cc:Agent>\r\n      <dc:title>Matplotlib v3.4.1, https://matplotlib.org/</dc:title>\r\n     </cc:Agent>\r\n    </dc:creator>\r\n   </cc:Work>\r\n  </rdf:RDF>\r\n </metadata>\r\n <defs>\r\n  <style type=\"text/css\">*{stroke-linecap:butt;stroke-linejoin:round;}</style>\r\n </defs>\r\n <g id=\"figure_1\">\r\n  <g id=\"patch_1\">\r\n   <path d=\"M 0 301.605625 \r\nL 388.0125 301.605625 \r\nL 388.0125 0 \r\nL 0 0 \r\nz\r\n\" style=\"fill:none;\"/>\r\n  </g>\r\n  <g id=\"axes_1\">\r\n   <g id=\"patch_2\">\r\n    <path d=\"M 46.0125 224.64 \r\nL 380.8125 224.64 \r\nL 380.8125 7.2 \r\nL 46.0125 7.2 \r\nz\r\n\" style=\"fill:#ffffff;\"/>\r\n   </g>\r\n   <g id=\"patch_3\">\r\n    <path clip-path=\"url(#pbe56c8bf5e)\" d=\"M 62.7525 224.64 \r\nL 96.2325 224.64 \r\nL 96.2325 223.648845 \r\nL 62.7525 223.648845 \r\nz\r\n\" style=\"fill:#1f77b4;\"/>\r\n   </g>\r\n   <g id=\"patch_4\">\r\n    <path clip-path=\"url(#pbe56c8bf5e)\" d=\"M 129.7125 224.64 \r\nL 163.1925 224.64 \r\nL 163.1925 222.884581 \r\nL 129.7125 222.884581 \r\nz\r\n\" style=\"fill:#1f77b4;\"/>\r\n   </g>\r\n   <g id=\"patch_5\">\r\n    <path clip-path=\"url(#pbe56c8bf5e)\" d=\"M 196.6725 224.64 \r\nL 230.1525 224.64 \r\nL 230.1525 213.582054 \r\nL 196.6725 213.582054 \r\nz\r\n\" style=\"fill:#1f77b4;\"/>\r\n   </g>\r\n   <g id=\"patch_6\">\r\n    <path clip-path=\"url(#pbe56c8bf5e)\" d=\"M 263.6325 224.64 \r\nL 297.1125 224.64 \r\nL 297.1125 76.886257 \r\nL 263.6325 76.886257 \r\nz\r\n\" style=\"fill:#1f77b4;\"/>\r\n   </g>\r\n   <g id=\"patch_7\">\r\n    <path clip-path=\"url(#pbe56c8bf5e)\" d=\"M 330.5925 224.64 \r\nL 364.0725 224.64 \r\nL 364.0725 17.554286 \r\nL 330.5925 17.554286 \r\nz\r\n\" style=\"fill:#1f77b4;\"/>\r\n   </g>\r\n   <g id=\"matplotlib.axis_1\">\r\n    <g id=\"xtick_1\">\r\n     <g id=\"line2d_1\">\r\n      <defs>\r\n       <path d=\"M 0 0 \r\nL 0 3.5 \r\n\" id=\"mdd2564d6e9\" style=\"stroke:#000000;stroke-width:0.8;\"/>\r\n      </defs>\r\n      <g>\r\n       <use style=\"stroke:#000000;stroke-width:0.8;\" x=\"79.4925\" xlink:href=\"#mdd2564d6e9\" y=\"224.64\"/>\r\n      </g>\r\n     </g>\r\n     <g id=\"text_1\">\r\n      <!-- bohoo -->\r\n      <g transform=\"translate(82.251875 262.682187)rotate(-90)scale(0.1 -0.1)\">\r\n       <defs>\r\n        <path d=\"M 3116 1747 \r\nQ 3116 2381 2855 2742 \r\nQ 2594 3103 2138 3103 \r\nQ 1681 3103 1420 2742 \r\nQ 1159 2381 1159 1747 \r\nQ 1159 1113 1420 752 \r\nQ 1681 391 2138 391 \r\nQ 2594 391 2855 752 \r\nQ 3116 1113 3116 1747 \r\nz\r\nM 1159 2969 \r\nQ 1341 3281 1617 3432 \r\nQ 1894 3584 2278 3584 \r\nQ 2916 3584 3314 3078 \r\nQ 3713 2572 3713 1747 \r\nQ 3713 922 3314 415 \r\nQ 2916 -91 2278 -91 \r\nQ 1894 -91 1617 61 \r\nQ 1341 213 1159 525 \r\nL 1159 0 \r\nL 581 0 \r\nL 581 4863 \r\nL 1159 4863 \r\nL 1159 2969 \r\nz\r\n\" id=\"DejaVuSans-62\" transform=\"scale(0.015625)\"/>\r\n        <path d=\"M 1959 3097 \r\nQ 1497 3097 1228 2736 \r\nQ 959 2375 959 1747 \r\nQ 959 1119 1226 758 \r\nQ 1494 397 1959 397 \r\nQ 2419 397 2687 759 \r\nQ 2956 1122 2956 1747 \r\nQ 2956 2369 2687 2733 \r\nQ 2419 3097 1959 3097 \r\nz\r\nM 1959 3584 \r\nQ 2709 3584 3137 3096 \r\nQ 3566 2609 3566 1747 \r\nQ 3566 888 3137 398 \r\nQ 2709 -91 1959 -91 \r\nQ 1206 -91 779 398 \r\nQ 353 888 353 1747 \r\nQ 353 2609 779 3096 \r\nQ 1206 3584 1959 3584 \r\nz\r\n\" id=\"DejaVuSans-6f\" transform=\"scale(0.015625)\"/>\r\n        <path d=\"M 3513 2113 \r\nL 3513 0 \r\nL 2938 0 \r\nL 2938 2094 \r\nQ 2938 2591 2744 2837 \r\nQ 2550 3084 2163 3084 \r\nQ 1697 3084 1428 2787 \r\nQ 1159 2491 1159 1978 \r\nL 1159 0 \r\nL 581 0 \r\nL 581 4863 \r\nL 1159 4863 \r\nL 1159 2956 \r\nQ 1366 3272 1645 3428 \r\nQ 1925 3584 2291 3584 \r\nQ 2894 3584 3203 3211 \r\nQ 3513 2838 3513 2113 \r\nz\r\n\" id=\"DejaVuSans-68\" transform=\"scale(0.015625)\"/>\r\n       </defs>\r\n       <use xlink:href=\"#DejaVuSans-62\"/>\r\n       <use x=\"63.476562\" xlink:href=\"#DejaVuSans-6f\"/>\r\n       <use x=\"124.658203\" xlink:href=\"#DejaVuSans-68\"/>\r\n       <use x=\"188.037109\" xlink:href=\"#DejaVuSans-6f\"/>\r\n       <use x=\"249.21875\" xlink:href=\"#DejaVuSans-6f\"/>\r\n      </g>\r\n     </g>\r\n    </g>\r\n    <g id=\"xtick_2\">\r\n     <g id=\"line2d_2\">\r\n      <g>\r\n       <use style=\"stroke:#000000;stroke-width:0.8;\" x=\"146.4525\" xlink:href=\"#mdd2564d6e9\" y=\"224.64\"/>\r\n      </g>\r\n     </g>\r\n     <g id=\"text_2\">\r\n      <!-- @zalando -->\r\n      <g transform=\"translate(149.211875 280.7275)rotate(-90)scale(0.1 -0.1)\">\r\n       <defs>\r\n        <path d=\"M 2381 1678 \r\nQ 2381 1231 2603 976 \r\nQ 2825 722 3213 722 \r\nQ 3597 722 3817 978 \r\nQ 4038 1234 4038 1678 \r\nQ 4038 2116 3813 2373 \r\nQ 3588 2631 3206 2631 \r\nQ 2828 2631 2604 2375 \r\nQ 2381 2119 2381 1678 \r\nz\r\nM 4084 744 \r\nQ 3897 503 3655 389 \r\nQ 3413 275 3091 275 \r\nQ 2553 275 2217 664 \r\nQ 1881 1053 1881 1678 \r\nQ 1881 2303 2218 2693 \r\nQ 2556 3084 3091 3084 \r\nQ 3413 3084 3656 2967 \r\nQ 3900 2850 4084 2613 \r\nL 4084 3022 \r\nL 4531 3022 \r\nL 4531 722 \r\nQ 4988 791 5245 1139 \r\nQ 5503 1488 5503 2041 \r\nQ 5503 2375 5404 2669 \r\nQ 5306 2963 5106 3213 \r\nQ 4781 3622 4314 3839 \r\nQ 3847 4056 3297 4056 \r\nQ 2913 4056 2559 3954 \r\nQ 2206 3853 1906 3653 \r\nQ 1416 3334 1139 2817 \r\nQ 863 2300 863 1697 \r\nQ 863 1200 1042 765 \r\nQ 1222 331 1563 0 \r\nQ 1891 -325 2322 -495 \r\nQ 2753 -666 3244 -666 \r\nQ 3647 -666 4036 -530 \r\nQ 4425 -394 4750 -141 \r\nL 5031 -488 \r\nQ 4641 -791 4180 -952 \r\nQ 3719 -1113 3244 -1113 \r\nQ 2666 -1113 2153 -908 \r\nQ 1641 -703 1241 -313 \r\nQ 841 78 631 592 \r\nQ 422 1106 422 1697 \r\nQ 422 2266 634 2781 \r\nQ 847 3297 1241 3688 \r\nQ 1644 4084 2172 4295 \r\nQ 2700 4506 3291 4506 \r\nQ 3953 4506 4520 4234 \r\nQ 5088 3963 5472 3463 \r\nQ 5706 3156 5829 2797 \r\nQ 5953 2438 5953 2053 \r\nQ 5953 1231 5456 756 \r\nQ 4959 281 4084 263 \r\nL 4084 744 \r\nz\r\n\" id=\"DejaVuSans-40\" transform=\"scale(0.015625)\"/>\r\n        <path d=\"M 353 3500 \r\nL 3084 3500 \r\nL 3084 2975 \r\nL 922 459 \r\nL 3084 459 \r\nL 3084 0 \r\nL 275 0 \r\nL 275 525 \r\nL 2438 3041 \r\nL 353 3041 \r\nL 353 3500 \r\nz\r\n\" id=\"DejaVuSans-7a\" transform=\"scale(0.015625)\"/>\r\n        <path d=\"M 2194 1759 \r\nQ 1497 1759 1228 1600 \r\nQ 959 1441 959 1056 \r\nQ 959 750 1161 570 \r\nQ 1363 391 1709 391 \r\nQ 2188 391 2477 730 \r\nQ 2766 1069 2766 1631 \r\nL 2766 1759 \r\nL 2194 1759 \r\nz\r\nM 3341 1997 \r\nL 3341 0 \r\nL 2766 0 \r\nL 2766 531 \r\nQ 2569 213 2275 61 \r\nQ 1981 -91 1556 -91 \r\nQ 1019 -91 701 211 \r\nQ 384 513 384 1019 \r\nQ 384 1609 779 1909 \r\nQ 1175 2209 1959 2209 \r\nL 2766 2209 \r\nL 2766 2266 \r\nQ 2766 2663 2505 2880 \r\nQ 2244 3097 1772 3097 \r\nQ 1472 3097 1187 3025 \r\nQ 903 2953 641 2809 \r\nL 641 3341 \r\nQ 956 3463 1253 3523 \r\nQ 1550 3584 1831 3584 \r\nQ 2591 3584 2966 3190 \r\nQ 3341 2797 3341 1997 \r\nz\r\n\" id=\"DejaVuSans-61\" transform=\"scale(0.015625)\"/>\r\n        <path d=\"M 603 4863 \r\nL 1178 4863 \r\nL 1178 0 \r\nL 603 0 \r\nL 603 4863 \r\nz\r\n\" id=\"DejaVuSans-6c\" transform=\"scale(0.015625)\"/>\r\n        <path d=\"M 3513 2113 \r\nL 3513 0 \r\nL 2938 0 \r\nL 2938 2094 \r\nQ 2938 2591 2744 2837 \r\nQ 2550 3084 2163 3084 \r\nQ 1697 3084 1428 2787 \r\nQ 1159 2491 1159 1978 \r\nL 1159 0 \r\nL 581 0 \r\nL 581 3500 \r\nL 1159 3500 \r\nL 1159 2956 \r\nQ 1366 3272 1645 3428 \r\nQ 1925 3584 2291 3584 \r\nQ 2894 3584 3203 3211 \r\nQ 3513 2838 3513 2113 \r\nz\r\n\" id=\"DejaVuSans-6e\" transform=\"scale(0.015625)\"/>\r\n        <path d=\"M 2906 2969 \r\nL 2906 4863 \r\nL 3481 4863 \r\nL 3481 0 \r\nL 2906 0 \r\nL 2906 525 \r\nQ 2725 213 2448 61 \r\nQ 2172 -91 1784 -91 \r\nQ 1150 -91 751 415 \r\nQ 353 922 353 1747 \r\nQ 353 2572 751 3078 \r\nQ 1150 3584 1784 3584 \r\nQ 2172 3584 2448 3432 \r\nQ 2725 3281 2906 2969 \r\nz\r\nM 947 1747 \r\nQ 947 1113 1208 752 \r\nQ 1469 391 1925 391 \r\nQ 2381 391 2643 752 \r\nQ 2906 1113 2906 1747 \r\nQ 2906 2381 2643 2742 \r\nQ 2381 3103 1925 3103 \r\nQ 1469 3103 1208 2742 \r\nQ 947 2381 947 1747 \r\nz\r\n\" id=\"DejaVuSans-64\" transform=\"scale(0.015625)\"/>\r\n       </defs>\r\n       <use xlink:href=\"#DejaVuSans-40\"/>\r\n       <use x=\"100\" xlink:href=\"#DejaVuSans-7a\"/>\r\n       <use x=\"152.490234\" xlink:href=\"#DejaVuSans-61\"/>\r\n       <use x=\"213.769531\" xlink:href=\"#DejaVuSans-6c\"/>\r\n       <use x=\"241.552734\" xlink:href=\"#DejaVuSans-61\"/>\r\n       <use x=\"302.832031\" xlink:href=\"#DejaVuSans-6e\"/>\r\n       <use x=\"366.210938\" xlink:href=\"#DejaVuSans-64\"/>\r\n       <use x=\"429.6875\" xlink:href=\"#DejaVuSans-6f\"/>\r\n      </g>\r\n     </g>\r\n    </g>\r\n    <g id=\"xtick_3\">\r\n     <g id=\"line2d_3\">\r\n      <g>\r\n       <use style=\"stroke:#000000;stroke-width:0.8;\" x=\"213.4125\" xlink:href=\"#mdd2564d6e9\" y=\"224.64\"/>\r\n      </g>\r\n     </g>\r\n     <g id=\"text_3\">\r\n      <!-- zalando -->\r\n      <g transform=\"translate(216.171875 270.7275)rotate(-90)scale(0.1 -0.1)\">\r\n       <use xlink:href=\"#DejaVuSans-7a\"/>\r\n       <use x=\"52.490234\" xlink:href=\"#DejaVuSans-61\"/>\r\n       <use x=\"113.769531\" xlink:href=\"#DejaVuSans-6c\"/>\r\n       <use x=\"141.552734\" xlink:href=\"#DejaVuSans-61\"/>\r\n       <use x=\"202.832031\" xlink:href=\"#DejaVuSans-6e\"/>\r\n       <use x=\"266.210938\" xlink:href=\"#DejaVuSans-64\"/>\r\n       <use x=\"329.6875\" xlink:href=\"#DejaVuSans-6f\"/>\r\n      </g>\r\n     </g>\r\n    </g>\r\n    <g id=\"xtick_4\">\r\n     <g id=\"line2d_4\">\r\n      <g>\r\n       <use style=\"stroke:#000000;stroke-width:0.8;\" x=\"280.3725\" xlink:href=\"#mdd2564d6e9\" y=\"224.64\"/>\r\n      </g>\r\n     </g>\r\n     <g id=\"text_4\">\r\n      <!-- boohoo -->\r\n      <g transform=\"translate(283.131875 268.800937)rotate(-90)scale(0.1 -0.1)\">\r\n       <use xlink:href=\"#DejaVuSans-62\"/>\r\n       <use x=\"63.476562\" xlink:href=\"#DejaVuSans-6f\"/>\r\n       <use x=\"124.658203\" xlink:href=\"#DejaVuSans-6f\"/>\r\n       <use x=\"185.839844\" xlink:href=\"#DejaVuSans-68\"/>\r\n       <use x=\"249.21875\" xlink:href=\"#DejaVuSans-6f\"/>\r\n       <use x=\"310.400391\" xlink:href=\"#DejaVuSans-6f\"/>\r\n      </g>\r\n     </g>\r\n    </g>\r\n    <g id=\"xtick_5\">\r\n     <g id=\"line2d_5\">\r\n      <g>\r\n       <use style=\"stroke:#000000;stroke-width:0.8;\" x=\"347.3325\" xlink:href=\"#mdd2564d6e9\" y=\"224.64\"/>\r\n      </g>\r\n     </g>\r\n     <g id=\"text_5\">\r\n      <!-- asos -->\r\n      <g transform=\"translate(350.091875 254.305625)rotate(-90)scale(0.1 -0.1)\">\r\n       <defs>\r\n        <path d=\"M 2834 3397 \r\nL 2834 2853 \r\nQ 2591 2978 2328 3040 \r\nQ 2066 3103 1784 3103 \r\nQ 1356 3103 1142 2972 \r\nQ 928 2841 928 2578 \r\nQ 928 2378 1081 2264 \r\nQ 1234 2150 1697 2047 \r\nL 1894 2003 \r\nQ 2506 1872 2764 1633 \r\nQ 3022 1394 3022 966 \r\nQ 3022 478 2636 193 \r\nQ 2250 -91 1575 -91 \r\nQ 1294 -91 989 -36 \r\nQ 684 19 347 128 \r\nL 347 722 \r\nQ 666 556 975 473 \r\nQ 1284 391 1588 391 \r\nQ 1994 391 2212 530 \r\nQ 2431 669 2431 922 \r\nQ 2431 1156 2273 1281 \r\nQ 2116 1406 1581 1522 \r\nL 1381 1569 \r\nQ 847 1681 609 1914 \r\nQ 372 2147 372 2553 \r\nQ 372 3047 722 3315 \r\nQ 1072 3584 1716 3584 \r\nQ 2034 3584 2315 3537 \r\nQ 2597 3491 2834 3397 \r\nz\r\n\" id=\"DejaVuSans-73\" transform=\"scale(0.015625)\"/>\r\n       </defs>\r\n       <use xlink:href=\"#DejaVuSans-61\"/>\r\n       <use x=\"61.279297\" xlink:href=\"#DejaVuSans-73\"/>\r\n       <use x=\"113.378906\" xlink:href=\"#DejaVuSans-6f\"/>\r\n       <use x=\"174.560547\" xlink:href=\"#DejaVuSans-73\"/>\r\n      </g>\r\n     </g>\r\n    </g>\r\n    <g id=\"text_6\">\r\n     <!-- keyword -->\r\n     <g transform=\"translate(192.371875 292.325937)scale(0.1 -0.1)\">\r\n      <defs>\r\n       <path d=\"M 581 4863 \r\nL 1159 4863 \r\nL 1159 1991 \r\nL 2875 3500 \r\nL 3609 3500 \r\nL 1753 1863 \r\nL 3688 0 \r\nL 2938 0 \r\nL 1159 1709 \r\nL 1159 0 \r\nL 581 0 \r\nL 581 4863 \r\nz\r\n\" id=\"DejaVuSans-6b\" transform=\"scale(0.015625)\"/>\r\n       <path d=\"M 3597 1894 \r\nL 3597 1613 \r\nL 953 1613 \r\nQ 991 1019 1311 708 \r\nQ 1631 397 2203 397 \r\nQ 2534 397 2845 478 \r\nQ 3156 559 3463 722 \r\nL 3463 178 \r\nQ 3153 47 2828 -22 \r\nQ 2503 -91 2169 -91 \r\nQ 1331 -91 842 396 \r\nQ 353 884 353 1716 \r\nQ 353 2575 817 3079 \r\nQ 1281 3584 2069 3584 \r\nQ 2775 3584 3186 3129 \r\nQ 3597 2675 3597 1894 \r\nz\r\nM 3022 2063 \r\nQ 3016 2534 2758 2815 \r\nQ 2500 3097 2075 3097 \r\nQ 1594 3097 1305 2825 \r\nQ 1016 2553 972 2059 \r\nL 3022 2063 \r\nz\r\n\" id=\"DejaVuSans-65\" transform=\"scale(0.015625)\"/>\r\n       <path d=\"M 2059 -325 \r\nQ 1816 -950 1584 -1140 \r\nQ 1353 -1331 966 -1331 \r\nL 506 -1331 \r\nL 506 -850 \r\nL 844 -850 \r\nQ 1081 -850 1212 -737 \r\nQ 1344 -625 1503 -206 \r\nL 1606 56 \r\nL 191 3500 \r\nL 800 3500 \r\nL 1894 763 \r\nL 2988 3500 \r\nL 3597 3500 \r\nL 2059 -325 \r\nz\r\n\" id=\"DejaVuSans-79\" transform=\"scale(0.015625)\"/>\r\n       <path d=\"M 269 3500 \r\nL 844 3500 \r\nL 1563 769 \r\nL 2278 3500 \r\nL 2956 3500 \r\nL 3675 769 \r\nL 4391 3500 \r\nL 4966 3500 \r\nL 4050 0 \r\nL 3372 0 \r\nL 2619 2869 \r\nL 1863 0 \r\nL 1184 0 \r\nL 269 3500 \r\nz\r\n\" id=\"DejaVuSans-77\" transform=\"scale(0.015625)\"/>\r\n       <path d=\"M 2631 2963 \r\nQ 2534 3019 2420 3045 \r\nQ 2306 3072 2169 3072 \r\nQ 1681 3072 1420 2755 \r\nQ 1159 2438 1159 1844 \r\nL 1159 0 \r\nL 581 0 \r\nL 581 3500 \r\nL 1159 3500 \r\nL 1159 2956 \r\nQ 1341 3275 1631 3429 \r\nQ 1922 3584 2338 3584 \r\nQ 2397 3584 2469 3576 \r\nQ 2541 3569 2628 3553 \r\nL 2631 2963 \r\nz\r\n\" id=\"DejaVuSans-72\" transform=\"scale(0.015625)\"/>\r\n      </defs>\r\n      <use xlink:href=\"#DejaVuSans-6b\"/>\r\n      <use x=\"54.285156\" xlink:href=\"#DejaVuSans-65\"/>\r\n      <use x=\"115.808594\" xlink:href=\"#DejaVuSans-79\"/>\r\n      <use x=\"174.988281\" xlink:href=\"#DejaVuSans-77\"/>\r\n      <use x=\"256.775391\" xlink:href=\"#DejaVuSans-6f\"/>\r\n      <use x=\"317.957031\" xlink:href=\"#DejaVuSans-72\"/>\r\n      <use x=\"357.320312\" xlink:href=\"#DejaVuSans-64\"/>\r\n     </g>\r\n    </g>\r\n   </g>\r\n   <g id=\"matplotlib.axis_2\">\r\n    <g id=\"ytick_1\">\r\n     <g id=\"line2d_6\">\r\n      <defs>\r\n       <path d=\"M 0 0 \r\nL -3.5 0 \r\n\" id=\"m46f7b2192d\" style=\"stroke:#000000;stroke-width:0.8;\"/>\r\n      </defs>\r\n      <g>\r\n       <use style=\"stroke:#000000;stroke-width:0.8;\" x=\"46.0125\" xlink:href=\"#m46f7b2192d\" y=\"224.64\"/>\r\n      </g>\r\n     </g>\r\n     <g id=\"text_7\">\r\n      <!-- 0 -->\r\n      <g transform=\"translate(32.65 228.439219)scale(0.1 -0.1)\">\r\n       <defs>\r\n        <path d=\"M 2034 4250 \r\nQ 1547 4250 1301 3770 \r\nQ 1056 3291 1056 2328 \r\nQ 1056 1369 1301 889 \r\nQ 1547 409 2034 409 \r\nQ 2525 409 2770 889 \r\nQ 3016 1369 3016 2328 \r\nQ 3016 3291 2770 3770 \r\nQ 2525 4250 2034 4250 \r\nz\r\nM 2034 4750 \r\nQ 2819 4750 3233 4129 \r\nQ 3647 3509 3647 2328 \r\nQ 3647 1150 3233 529 \r\nQ 2819 -91 2034 -91 \r\nQ 1250 -91 836 529 \r\nQ 422 1150 422 2328 \r\nQ 422 3509 836 4129 \r\nQ 1250 4750 2034 4750 \r\nz\r\n\" id=\"DejaVuSans-30\" transform=\"scale(0.015625)\"/>\r\n       </defs>\r\n       <use xlink:href=\"#DejaVuSans-30\"/>\r\n      </g>\r\n     </g>\r\n    </g>\r\n    <g id=\"ytick_2\">\r\n     <g id=\"line2d_7\">\r\n      <g>\r\n       <use style=\"stroke:#000000;stroke-width:0.8;\" x=\"46.0125\" xlink:href=\"#m46f7b2192d\" y=\"194.785934\"/>\r\n      </g>\r\n     </g>\r\n     <g id=\"text_8\">\r\n      <!-- 5000 -->\r\n      <g transform=\"translate(13.5625 198.585153)scale(0.1 -0.1)\">\r\n       <defs>\r\n        <path d=\"M 691 4666 \r\nL 3169 4666 \r\nL 3169 4134 \r\nL 1269 4134 \r\nL 1269 2991 \r\nQ 1406 3038 1543 3061 \r\nQ 1681 3084 1819 3084 \r\nQ 2600 3084 3056 2656 \r\nQ 3513 2228 3513 1497 \r\nQ 3513 744 3044 326 \r\nQ 2575 -91 1722 -91 \r\nQ 1428 -91 1123 -41 \r\nQ 819 9 494 109 \r\nL 494 744 \r\nQ 775 591 1075 516 \r\nQ 1375 441 1709 441 \r\nQ 2250 441 2565 725 \r\nQ 2881 1009 2881 1497 \r\nQ 2881 1984 2565 2268 \r\nQ 2250 2553 1709 2553 \r\nQ 1456 2553 1204 2497 \r\nQ 953 2441 691 2322 \r\nL 691 4666 \r\nz\r\n\" id=\"DejaVuSans-35\" transform=\"scale(0.015625)\"/>\r\n       </defs>\r\n       <use xlink:href=\"#DejaVuSans-35\"/>\r\n       <use x=\"63.623047\" xlink:href=\"#DejaVuSans-30\"/>\r\n       <use x=\"127.246094\" xlink:href=\"#DejaVuSans-30\"/>\r\n       <use x=\"190.869141\" xlink:href=\"#DejaVuSans-30\"/>\r\n      </g>\r\n     </g>\r\n    </g>\r\n    <g id=\"ytick_3\">\r\n     <g id=\"line2d_8\">\r\n      <g>\r\n       <use style=\"stroke:#000000;stroke-width:0.8;\" x=\"46.0125\" xlink:href=\"#m46f7b2192d\" y=\"164.931868\"/>\r\n      </g>\r\n     </g>\r\n     <g id=\"text_9\">\r\n      <!-- 10000 -->\r\n      <g transform=\"translate(7.2 168.731087)scale(0.1 -0.1)\">\r\n       <defs>\r\n        <path d=\"M 794 531 \r\nL 1825 531 \r\nL 1825 4091 \r\nL 703 3866 \r\nL 703 4441 \r\nL 1819 4666 \r\nL 2450 4666 \r\nL 2450 531 \r\nL 3481 531 \r\nL 3481 0 \r\nL 794 0 \r\nL 794 531 \r\nz\r\n\" id=\"DejaVuSans-31\" transform=\"scale(0.015625)\"/>\r\n       </defs>\r\n       <use xlink:href=\"#DejaVuSans-31\"/>\r\n       <use x=\"63.623047\" xlink:href=\"#DejaVuSans-30\"/>\r\n       <use x=\"127.246094\" xlink:href=\"#DejaVuSans-30\"/>\r\n       <use x=\"190.869141\" xlink:href=\"#DejaVuSans-30\"/>\r\n       <use x=\"254.492188\" xlink:href=\"#DejaVuSans-30\"/>\r\n      </g>\r\n     </g>\r\n    </g>\r\n    <g id=\"ytick_4\">\r\n     <g id=\"line2d_9\">\r\n      <g>\r\n       <use style=\"stroke:#000000;stroke-width:0.8;\" x=\"46.0125\" xlink:href=\"#m46f7b2192d\" y=\"135.077802\"/>\r\n      </g>\r\n     </g>\r\n     <g id=\"text_10\">\r\n      <!-- 15000 -->\r\n      <g transform=\"translate(7.2 138.877021)scale(0.1 -0.1)\">\r\n       <use xlink:href=\"#DejaVuSans-31\"/>\r\n       <use x=\"63.623047\" xlink:href=\"#DejaVuSans-35\"/>\r\n       <use x=\"127.246094\" xlink:href=\"#DejaVuSans-30\"/>\r\n       <use x=\"190.869141\" xlink:href=\"#DejaVuSans-30\"/>\r\n       <use x=\"254.492188\" xlink:href=\"#DejaVuSans-30\"/>\r\n      </g>\r\n     </g>\r\n    </g>\r\n    <g id=\"ytick_5\">\r\n     <g id=\"line2d_10\">\r\n      <g>\r\n       <use style=\"stroke:#000000;stroke-width:0.8;\" x=\"46.0125\" xlink:href=\"#m46f7b2192d\" y=\"105.223736\"/>\r\n      </g>\r\n     </g>\r\n     <g id=\"text_11\">\r\n      <!-- 20000 -->\r\n      <g transform=\"translate(7.2 109.022955)scale(0.1 -0.1)\">\r\n       <defs>\r\n        <path d=\"M 1228 531 \r\nL 3431 531 \r\nL 3431 0 \r\nL 469 0 \r\nL 469 531 \r\nQ 828 903 1448 1529 \r\nQ 2069 2156 2228 2338 \r\nQ 2531 2678 2651 2914 \r\nQ 2772 3150 2772 3378 \r\nQ 2772 3750 2511 3984 \r\nQ 2250 4219 1831 4219 \r\nQ 1534 4219 1204 4116 \r\nQ 875 4013 500 3803 \r\nL 500 4441 \r\nQ 881 4594 1212 4672 \r\nQ 1544 4750 1819 4750 \r\nQ 2544 4750 2975 4387 \r\nQ 3406 4025 3406 3419 \r\nQ 3406 3131 3298 2873 \r\nQ 3191 2616 2906 2266 \r\nQ 2828 2175 2409 1742 \r\nQ 1991 1309 1228 531 \r\nz\r\n\" id=\"DejaVuSans-32\" transform=\"scale(0.015625)\"/>\r\n       </defs>\r\n       <use xlink:href=\"#DejaVuSans-32\"/>\r\n       <use x=\"63.623047\" xlink:href=\"#DejaVuSans-30\"/>\r\n       <use x=\"127.246094\" xlink:href=\"#DejaVuSans-30\"/>\r\n       <use x=\"190.869141\" xlink:href=\"#DejaVuSans-30\"/>\r\n       <use x=\"254.492188\" xlink:href=\"#DejaVuSans-30\"/>\r\n      </g>\r\n     </g>\r\n    </g>\r\n    <g id=\"ytick_6\">\r\n     <g id=\"line2d_11\">\r\n      <g>\r\n       <use style=\"stroke:#000000;stroke-width:0.8;\" x=\"46.0125\" xlink:href=\"#m46f7b2192d\" y=\"75.36967\"/>\r\n      </g>\r\n     </g>\r\n     <g id=\"text_12\">\r\n      <!-- 25000 -->\r\n      <g transform=\"translate(7.2 79.168889)scale(0.1 -0.1)\">\r\n       <use xlink:href=\"#DejaVuSans-32\"/>\r\n       <use x=\"63.623047\" xlink:href=\"#DejaVuSans-35\"/>\r\n       <use x=\"127.246094\" xlink:href=\"#DejaVuSans-30\"/>\r\n       <use x=\"190.869141\" xlink:href=\"#DejaVuSans-30\"/>\r\n       <use x=\"254.492188\" xlink:href=\"#DejaVuSans-30\"/>\r\n      </g>\r\n     </g>\r\n    </g>\r\n    <g id=\"ytick_7\">\r\n     <g id=\"line2d_12\">\r\n      <g>\r\n       <use style=\"stroke:#000000;stroke-width:0.8;\" x=\"46.0125\" xlink:href=\"#m46f7b2192d\" y=\"45.515604\"/>\r\n      </g>\r\n     </g>\r\n     <g id=\"text_13\">\r\n      <!-- 30000 -->\r\n      <g transform=\"translate(7.2 49.314823)scale(0.1 -0.1)\">\r\n       <defs>\r\n        <path d=\"M 2597 2516 \r\nQ 3050 2419 3304 2112 \r\nQ 3559 1806 3559 1356 \r\nQ 3559 666 3084 287 \r\nQ 2609 -91 1734 -91 \r\nQ 1441 -91 1130 -33 \r\nQ 819 25 488 141 \r\nL 488 750 \r\nQ 750 597 1062 519 \r\nQ 1375 441 1716 441 \r\nQ 2309 441 2620 675 \r\nQ 2931 909 2931 1356 \r\nQ 2931 1769 2642 2001 \r\nQ 2353 2234 1838 2234 \r\nL 1294 2234 \r\nL 1294 2753 \r\nL 1863 2753 \r\nQ 2328 2753 2575 2939 \r\nQ 2822 3125 2822 3475 \r\nQ 2822 3834 2567 4026 \r\nQ 2313 4219 1838 4219 \r\nQ 1578 4219 1281 4162 \r\nQ 984 4106 628 3988 \r\nL 628 4550 \r\nQ 988 4650 1302 4700 \r\nQ 1616 4750 1894 4750 \r\nQ 2613 4750 3031 4423 \r\nQ 3450 4097 3450 3541 \r\nQ 3450 3153 3228 2886 \r\nQ 3006 2619 2597 2516 \r\nz\r\n\" id=\"DejaVuSans-33\" transform=\"scale(0.015625)\"/>\r\n       </defs>\r\n       <use xlink:href=\"#DejaVuSans-33\"/>\r\n       <use x=\"63.623047\" xlink:href=\"#DejaVuSans-30\"/>\r\n       <use x=\"127.246094\" xlink:href=\"#DejaVuSans-30\"/>\r\n       <use x=\"190.869141\" xlink:href=\"#DejaVuSans-30\"/>\r\n       <use x=\"254.492188\" xlink:href=\"#DejaVuSans-30\"/>\r\n      </g>\r\n     </g>\r\n    </g>\r\n    <g id=\"ytick_8\">\r\n     <g id=\"line2d_13\">\r\n      <g>\r\n       <use style=\"stroke:#000000;stroke-width:0.8;\" x=\"46.0125\" xlink:href=\"#m46f7b2192d\" y=\"15.661538\"/>\r\n      </g>\r\n     </g>\r\n     <g id=\"text_14\">\r\n      <!-- 35000 -->\r\n      <g transform=\"translate(7.2 19.460757)scale(0.1 -0.1)\">\r\n       <use xlink:href=\"#DejaVuSans-33\"/>\r\n       <use x=\"63.623047\" xlink:href=\"#DejaVuSans-35\"/>\r\n       <use x=\"127.246094\" xlink:href=\"#DejaVuSans-30\"/>\r\n       <use x=\"190.869141\" xlink:href=\"#DejaVuSans-30\"/>\r\n       <use x=\"254.492188\" xlink:href=\"#DejaVuSans-30\"/>\r\n      </g>\r\n     </g>\r\n    </g>\r\n   </g>\r\n   <g id=\"patch_8\">\r\n    <path d=\"M 46.0125 224.64 \r\nL 46.0125 7.2 \r\n\" style=\"fill:none;stroke:#000000;stroke-linecap:square;stroke-linejoin:miter;stroke-width:0.8;\"/>\r\n   </g>\r\n   <g id=\"patch_9\">\r\n    <path d=\"M 380.8125 224.64 \r\nL 380.8125 7.2 \r\n\" style=\"fill:none;stroke:#000000;stroke-linecap:square;stroke-linejoin:miter;stroke-width:0.8;\"/>\r\n   </g>\r\n   <g id=\"patch_10\">\r\n    <path d=\"M 46.0125 224.64 \r\nL 380.8125 224.64 \r\n\" style=\"fill:none;stroke:#000000;stroke-linecap:square;stroke-linejoin:miter;stroke-width:0.8;\"/>\r\n   </g>\r\n   <g id=\"patch_11\">\r\n    <path d=\"M 46.0125 7.2 \r\nL 380.8125 7.2 \r\n\" style=\"fill:none;stroke:#000000;stroke-linecap:square;stroke-linejoin:miter;stroke-width:0.8;\"/>\r\n   </g>\r\n   <g id=\"legend_1\">\r\n    <g id=\"patch_12\">\r\n     <path d=\"M 53.0125 29.878125 \r\nL 113.3375 29.878125 \r\nQ 115.3375 29.878125 115.3375 27.878125 \r\nL 115.3375 14.2 \r\nQ 115.3375 12.2 113.3375 12.2 \r\nL 53.0125 12.2 \r\nQ 51.0125 12.2 51.0125 14.2 \r\nL 51.0125 27.878125 \r\nQ 51.0125 29.878125 53.0125 29.878125 \r\nz\r\n\" style=\"fill:#ffffff;opacity:0.8;stroke:#cccccc;stroke-linejoin:miter;\"/>\r\n    </g>\r\n    <g id=\"patch_13\">\r\n     <path d=\"M 55.0125 23.798437 \r\nL 75.0125 23.798437 \r\nL 75.0125 16.798437 \r\nL 55.0125 16.798437 \r\nz\r\n\" style=\"fill:#1f77b4;\"/>\r\n    </g>\r\n    <g id=\"text_15\">\r\n     <!-- tweet -->\r\n     <g transform=\"translate(83.0125 23.798437)scale(0.1 -0.1)\">\r\n      <defs>\r\n       <path d=\"M 1172 4494 \r\nL 1172 3500 \r\nL 2356 3500 \r\nL 2356 3053 \r\nL 1172 3053 \r\nL 1172 1153 \r\nQ 1172 725 1289 603 \r\nQ 1406 481 1766 481 \r\nL 2356 481 \r\nL 2356 0 \r\nL 1766 0 \r\nQ 1100 0 847 248 \r\nQ 594 497 594 1153 \r\nL 594 3053 \r\nL 172 3053 \r\nL 172 3500 \r\nL 594 3500 \r\nL 594 4494 \r\nL 1172 4494 \r\nz\r\n\" id=\"DejaVuSans-74\" transform=\"scale(0.015625)\"/>\r\n      </defs>\r\n      <use xlink:href=\"#DejaVuSans-74\"/>\r\n      <use x=\"39.208984\" xlink:href=\"#DejaVuSans-77\"/>\r\n      <use x=\"120.996094\" xlink:href=\"#DejaVuSans-65\"/>\r\n      <use x=\"182.519531\" xlink:href=\"#DejaVuSans-65\"/>\r\n      <use x=\"244.042969\" xlink:href=\"#DejaVuSans-74\"/>\r\n     </g>\r\n    </g>\r\n   </g>\r\n  </g>\r\n </g>\r\n <defs>\r\n  <clipPath id=\"pbe56c8bf5e\">\r\n   <rect height=\"217.44\" width=\"334.8\" x=\"46.0125\" y=\"7.2\"/>\r\n  </clipPath>\r\n </defs>\r\n</svg>\r\n",
      "image/png": "[encoded data removed]"
     },
     "metadata": {
      "needs_background": "light"
     }
    }
   ],
   "source": [
    "print(bot_df[['keyword','tweet']][bot_df.bot == False].groupby(['keyword']).count())\n",
    "bot_df[['keyword','tweet']][bot_df.bot == False].groupby(['keyword']).count().sort_values(by='tweet').plot.bar()"
   ]
  },
  {
   "cell_type": "code",
   "execution_count": 137,
   "metadata": {},
   "outputs": [
    {
     "output_type": "stream",
     "name": "stdout",
     "text": [
      "56161 iembot_ggw JORDAN ASOS MT Mar 26 Climate: High: 48 Low: 19 Precip: 0.01 Snow: Missing https://t.co/ShcKfeY86m https://t.co/fASmc5Jt7i\n",
      "94609 iembot_byz At 6:15 PM MDT, 3 WNW Miles City [Custer Co, MT] ASOS reports NON-TSTM WND GST of M53 MPH https://t.co/sVsKcdbjnp\n",
      "54380 caos_onelove good shock drop today (psg all bae) with @theGaneshBot and top monitor of @OneNotify \n",
      "(@ill_p1c king of zalando from day 1) https://t.co/BURsxHsRFe\n",
      "18910 iembot_maf GUADALUPE PASS AMOS,TX (GDP) ASOS reports gust of 64 knots (73.7 mph) from W @ 0800Z -- KGDP 150851Z AUTO 25037G47KT 10SM CLR 06/M08 A2989 RMK AO2 PK WND 27064/0800 SLP091 T00561083 51009 $\n",
      "41394 STARLABScripts Zalando ✅\n",
      "\n",
      "Members are YET to receive big Zalando UPDATE, but we are still cooking HARD! 😈🚀\n",
      "100434 iembot_lox LA / WHITEMAN,CA (WHP) ASOS reports gust of 51 knots (58.7 mph) from NNW @ 2050Z -- KWHP 182050Z 34024G51KT 10SM SKC 27/M15 A3006\n",
      "18470 iembot_gyx Mount Washington,NH (MWN) ASOS reports gust of 70 knots (80.6 mph) from NW @ 1654Z -- KMWN 151654Z 32064G70KT 1/16SM BCFG BLSN VV002 M28/M28 RMK BCFG INTMT SUN DMLY VSBL\n",
      "87392 iembot_riw At 5:46 PM MDT, 3 NNW Buffalo [Johnson Co, WY] ASOS reports NON-TSTM WND GST of M71 MPH. ASOS STATION KBYG BUFFALO AIRPORT. https://t.co/57obzm2REs\n",
      "68983 iembot_bis MINOT_AFB,ND (MIB) ASOS reports gust of 51 knots (58.7 mph) from WNW @ 0513Z -- KMIB 300556Z 30033G47KT 10SM BKN025 M06/M11 A2943 RMK AO2A PK WND 29051/13 DZB52 PRESRR SLP985 P0000 60000 T10591112 10003 21059 401321059 53033 VISNO RWY12 $\n",
      "94591 iembot_pih REXBURG-MADISON COUNTY AIRPORT,ID (RXE) ASOS reports gust of 58 knots (66.8 mph) from WSW @ 0108Z -- KRXE 110136Z AUTO 24035G50KT 10SM FEW027 13/M13 A2965 RMK AO2 PK WND 24058/0108 T01281128\n"
     ]
    }
   ],
   "source": [
    "#testing results by checking random 10 tweets\n",
    "sample = bot_df[bot_df.bot == True].sample(n=10)\n",
    "for i, row in sample.iterrows():\n",
    "    print(str(i) + ' ' + sample.name[i] + ' ' + sample.tweet[i])"
   ]
  },
  {
   "source": [
    "# print 10 top likes about Zalando\n",
    "\n",
    "issues:\n",
    "\n",
    "1. lots of duplicates it text, but not 1-1\n",
    "\n",
    "2. some tweets do not contain Zalando\n",
    "\n",
    "3. still some bots \n",
    "\"generate over 1000 zalando accounts in less then 4 hours!\""
   ],
   "cell_type": "markdown",
   "metadata": {}
  },
  {
   "cell_type": "code",
   "execution_count": 132,
   "metadata": {},
   "outputs": [
    {
     "output_type": "stream",
     "name": "stdout",
     "text": [
      "6536 @Irina_Vukolova\n",
      "😃 ...And a new set of clothing, My love. To be combined with this afternoon's clothes. \n",
      "🤗😘❤ℐℓ٥ﻻﻉ√٥υ❤🥰😗😙😚😘😗😙😚😘😗😙😚😘😗😙😚😘😗😙😚😘😗😙😚😘😗😙😚😘😗😙😚😘😗😙😚😘😗😙😚😘😗😙😚😘😗😙😚😘😗😙😚😘🥰💖💓💕💎💍🎸🎶🌹🌹🌹\n",
      "https://t.co/BCs8NqOvHk https://t.co/3GW1IdWuLz\n",
      "________________\n",
      "28067 @Irina_Vukolova\n",
      "😃 ... And a new set of dresses, My love. To be combined with this afternoon's clothes. \n",
      "🤗😘❤ℐℓ٥ﻻﻉ√٥υ❤🥰😗😙😚😘😗😙😚😘😗😙😚😘😗😙😚😘😗😙😚😘😗😙😚😘😗😙😚😘😗😙😚😘😗😙😚😘😗😙😚😘😗😙😚😘😗😙😚😘😗😙😚😘🥰💖💓💕💎💍🎸🎶🌹🌹🌹\n",
      "https://t.co/ajufCwP1o1 https://t.co/uC5fFhozj2\n",
      "________________\n",
      "13493 @Irina_Vukolova\n",
      "😃 And a new set of clothing, My love. To be combined with this afternoon's clothes. \n",
      "🤗😘❤ℐℓ٥ﻻﻉ√٥υ❤🥰😗😙😚😘😗😙😚😘😗😙😚😘😗😙😚😘😗😙😚😘😗😙😚😘😗😙😚😘😗😙😚😘😗😙😚😘😗😙😚😘😗😙😚😘😗😙😚😘😗😙😚😘🥰💖💗💓💕💎💍🎸🎶🌹🌹🌹\n",
      "https://t.co/LPIY1ITCDm https://t.co/FbLM8TDNHR\n",
      "________________\n",
      "6751 @Irina_Vukolova\n",
      "😃 And a new set of clothing, My love. To be combined with this morning's clothes. \n",
      "🤗😘❤ℐℓ٥ﻻﻉ√٥υ❤🥰😗😙😚😘😗😙😚😘😗😙😚😘😗😙😚😘😗😙😚😘😗😙😚😘😗😙😚😘😗😙😚😘😗😙😚😘😗😙😚😘😗😙😚😘😗😙😚😘😗😙😚😘😗😙🥰💖💓💕💎💍🎸🎶🌹🌹🌹\n",
      "https://t.co/esx0gGQb93 https://t.co/YaZUnoGRY1\n",
      "________________\n",
      "28116 @Irina_Vukolova\n",
      "😃 And a new set of clothing, My love. To be combined with last night's clothes. \n",
      "🤗😘❤ℐℓ٥ﻻﻉ√٥υ❤🤩😗😙😚😘😗😙😚😘😗😙😚😘😗😙😚😘😗😙😚😘😗😙😚😘😗😙😚😘😗😙😚😘😗😙😚😘😗😙😚😘😗😙😚😘😗😙😚😘😗😙😚😘😗😙🥰💖💗💓💕💎💍🎸🎶🌹🌹🌹 \n",
      "https://t.co/WM22xTwiJR https://t.co/S9R6i4NHP6\n",
      "________________\n",
      "6770 @Irina_Vukolova\n",
      "😃 And a new set of dresses, My love. To be combined with last night's clothes. \n",
      "🤗😘❤ℐℓ٥ﻻﻉ√٥υ❤🥰😗😙😚😘😗😙😚😘😗😙😚😘😗😙😚😘😗😙😚😘😗😙😚😘😗😙😚😘😗😙😚😘😗😙😚😘😗😙😚😘😗😙😚😘😗😙😚😘😗😙😚😘😗😙😚😘🥰💖💓💕💎💍🎸🎶🌹🌹🌹\n",
      "https://t.co/esx0gGyAhv https://t.co/v6CjtlaMKZ\n",
      "________________\n",
      "10003 @Irina_Vukolova\n",
      "😃 And a new set of clothing, My love. To be combined with this morning's clothes. \n",
      "🤗😘❤ℐℓ٥ﻻﻉ√٥υ❤🥰😗😙😚😘😗😙😚😘😗😙😚😘😗😙😚😘😗😙😚😘😗😙😚😘😗😙😚😘😗😙😚😘😗😙😚😘😗😙😚😘😗😙😚😘😗😙😚😘😗😙😚😘😗😙🥰💖💓💕💎💍🎸🎶🌹🌹🌹\n",
      "https://t.co/PVPlBheEfR https://t.co/ACyGCnnxZg\n",
      "________________\n",
      "20925 @Irina_Vukolova\n",
      "😃 These are the two books I picked up this afternoon, My love. This morning, we reviewed, some other news, so, now, we can continue. I'm looking for more news, if any, of interesting... \n",
      "😘❤ℐℓ٥ﻻﻉ√٥υ❤😍💓💕💎💍🎸🎶🌹🌹🌹 \n",
      "https://t.co/xCKSyk51rI https://t.co/wYfniUXTJ1\n",
      "________________\n",
      "28115 I truly love findom......😍😍🥰🥰\n",
      "So many losersss on earth just sending me Money because they know they have to...!!!\n",
      "\n",
      "Paypal bossydominatrix@outlook.com \n",
      "\n",
      "Zalando paysafecard &amp; https://t.co/Igx88NSrVm \n",
      "\n",
      "Welke loser is in voor een vernederende Cashdrop ???\n",
      "\n",
      "Come serve me biatchh\n",
      "________________\n",
      "60964 @DemonRin @SWlTCHPOSlTIONS Well but then again you have Zalando ads being like “Oh we love body positivity, spread it and accept all bodies” whilst they only proceed to show obese and fat women. What about medium sized? Skinny people? There are more body types than just fat and obese people.\n",
      "________________\n",
      "17161 @jen_f16 Hi Jen, they're similar to Nike's Pegasus. Nike do free delivery &amp; returns if you log in, great website/app.\n",
      "Solereview a fantastic website for analysis, reviews, comparing ride, fit, etc. 👍\n",
      "Zalando also a good website for trainers, free del&amp; returns. I've used all of above 🙂\n",
      "________________\n",
      "106313 💥Hey ... listen up! We still need a super star to help my team. We can provide wonderful challenges seen from an architecture perspective. Clean code. TDD. Autonomy.\n",
      "\n",
      "In an organization that is becoming truly engineering led. Inspired by Facebook, Spotify, Zalando etc\n",
      "________________\n",
      "106319 💥Hey ... listen up! We still need a super star to help my team. We can provide wonderful challenges seen from an architecture perspective. Clean code. TDD. Autonomy.\n",
      "\n",
      "In an organization that is becoming truly engineering led. Inspired by Facebook, Spotify, Zalando etc https://t.co/YKrTfA5tJ5\n",
      "________________\n",
      "93339 828886755427090432\n",
      "FIRST ZALANDO ACO SUCCESS ON DUNKS.\n",
      "IDK #1 OUT THERE!🚀👑💜\n",
      "\n",
      "🍀24h Giveaway!🍀\n",
      "-IDK Beta key\n",
      "\n",
      "Follow, Like, Retweet and tag a friend in the Comments.\n",
      "Good Luck!😜 https://t.co/8tASvQZB8l\n",
      "________________\n",
      "60992 With our new module our members were able to generate over 1000 zalando accounts in less then 4 hours! Wit that being said we will giveaway 2 beta keys🥳 \n",
      "\n",
      "To enter the giveaway you have to:\n",
      "- Like💓\n",
      "- Retweet🤓\n",
      "- Tag a friend🎉\n",
      "- Comment why we should pick you🤔 https://t.co/BBSmxDh8KX\n",
      "________________\n",
      "106215 Zalando hit a 25% growth spurt in 2020 and outgrew its ERP system! To better serve its 35 million customers, the company digitally transformed its innovative fashion platform with SAP #S4HANA to support ambitious growth. https://t.co/tHjDjSPS5j https://t.co/g5RFRHNaYz\n",
      "________________\n"
     ]
    }
   ],
   "source": [
    "nobots = bot_df[bot_df.bot == False]\n",
    "\n",
    "for i, value in nobots[nobots['keyword'] == 'zalando'].sort_values(by = 'compound', ascending=False)[50:66].tweet.iteritems():\n",
    "    print(i, value)\n",
    "    print('________________')"
   ]
  },
  {
   "source": [
    "# print top 10 negative tweets about zalando\n",
    "\n",
    "issues:\n",
    "\n",
    "1. is it bot?\n",
    "__________\n",
    "73907 2x 39 today on Zalando, sadly my accounts are still bad despite my best efforts 😭\n",
    "\n",
    "Thanks @FlareAIO @flash_proxy https://t.co/enSImFj0eH\n",
    "\n"
   ],
   "cell_type": "markdown",
   "metadata": {}
  },
  {
   "cell_type": "code",
   "execution_count": 129,
   "metadata": {},
   "outputs": [
    {
     "output_type": "stream",
     "name": "stdout",
     "text": [
      "28119 @d0h0k1 @anchor_protocol WTF bro. This blockchain shit doesn't work. After this, I'm quitting my crypto job and applying to Zalando and Deliveroo. Fuck crypto!\n",
      "________________\n",
      "17230 I bought two more pairs of shoes this morning, from Zalando Lounge, for summer. Only with the new Covid numbers and slow vaccination we'll probably all sit at home. And cry. I hate the stupid selfishness of people.\n",
      "________________\n",
      "73907 2x 39 today on Zalando, sadly my accounts are still bad despite my best efforts 😭\n",
      "\n",
      "Thanks @FlareAIO @flash_proxy https://t.co/enSImFj0eH\n",
      "________________\n",
      "3109 @glittery_crazen it's on zalando i think, tried to buy but fuck it it's expensive asf and i'm not rich enough\n",
      "________________\n",
      "106307 @thunder_io They just banned my zalando acc, I’m sad asf why always bad things happen.\n",
      "________________\n",
      "106490 I hate zalando they cancelled my order ffs\n",
      "________________\n",
      "60987 proc zalando rika leginam puncochy bitch im gonna kill you\n",
      "________________\n",
      "60981 @sicko218 After zal killed my 3 dunk black + killed my account for no reason hope this night go well. Ps: fuck you Zalando https://t.co/SldSdY0ciy\n",
      "________________\n",
      "106344 Tried on my @zalando_uk order, devastated that it didn't fit - then discovered they sent the wrong size!\n",
      "________________\n",
      "106454 Separation of Errors (not founds, unavailable) and Problems (validation or business errors). One belongs to the response schema, the other in the error extension.\n",
      "\n",
      "Nice to see zalando took this path. I have defended this myself and applied it in my systems. https://t.co/7DKiiiA2t8\n",
      "________________\n"
     ]
    }
   ],
   "source": [
    "for i, value in nobots[nobots['keyword'] == 'zalando'].sort_values(by = 'compound', ascending=True)[:10].tweet.iteritems():\n",
    "    print(i, value)\n",
    "    print('________________')"
   ]
  }
 ]
}