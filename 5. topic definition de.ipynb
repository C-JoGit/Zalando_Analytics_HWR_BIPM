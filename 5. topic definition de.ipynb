{
 "metadata": {
  "language_info": {
   "codemirror_mode": {
    "name": "ipython",
    "version": 3
   },
   "file_extension": ".py",
   "mimetype": "text/x-python",
   "name": "python",
   "nbconvert_exporter": "python",
   "pygments_lexer": "ipython3",
   "version": "3.9.5"
  },
  "orig_nbformat": 2,
  "kernelspec": {
   "name": "python3",
   "display_name": "Python 3.9.5 64-bit (windows store)"
  },
  "interpreter": {
   "hash": "08bcf114b6799a788c3e4c5366ee28d230c9527aecb5fe8828812464fcb419b7"
  }
 },
 "nbformat": 4,
 "nbformat_minor": 2,
 "cells": [
  {
   "cell_type": "code",
   "execution_count": 68,
   "metadata": {},
   "outputs": [],
   "source": [
    "# import packages\n",
    "import sys\n",
    "sys.path.append('../')\n",
    "import pickle\n",
    "import pandas as pd\n",
    "import re\n",
    "import seaborn as sns"
   ]
  },
  {
   "cell_type": "code",
   "execution_count": 69,
   "metadata": {},
   "outputs": [],
   "source": [
    "#load labelled data (generated in file 2.preprocessing_en)\n",
    "data = pd.read_pickle('data_n_models/de_df_labelled.pkl')"
   ]
  },
  {
   "cell_type": "code",
   "execution_count": 70,
   "metadata": {},
   "outputs": [
    {
     "output_type": "execute_result",
     "data": {
      "text/plain": [
       "   index              user_id  user_statuses           name  \\\n",
       "0      1  1079317443523297280          12303     Boulder667   \n",
       "1      4            310342425          11476    AndyBaldauf   \n",
       "2     10   793418126532734976            521  MILESmobility   \n",
       "3     11  1119231287078858752             23       pici1303   \n",
       "4     12  1119231287078858752             23       pici1303   \n",
       "\n",
       "                                               tweet  retweets  \\\n",
       "0  viel spaß damit eine wahl zu gewinnen stellt e...         0   \n",
       "1      aber erst wenn sie wieder dürfen playfullness         0   \n",
       "2  good news alle interessierten mitarbeiterinnen...         0   \n",
       "3  ich weiß dass der schein da rein muss aber ist...         0   \n",
       "4  ich hab mich nur gefragt wofür dieser extra co...         0   \n",
       "\n",
       "                        location      created  followers  is_user_verified  \\\n",
       "0             Liverpool, England  07-Mar-2021        116             False   \n",
       "1  Thurgau | St. Gallen | Zürich  06-Mar-2021       1848             False   \n",
       "2            Berlin, Deutschland  05-Mar-2021        766             False   \n",
       "3                                 04-Mar-2021          0             False   \n",
       "4                                 04-Mar-2021          0             False   \n",
       "\n",
       "   favorite_count  in_reply_to_status_id  keyword language  \\\n",
       "0             1.0           1.368148e+18  zalando       de   \n",
       "1             0.0           1.368146e+18  zalando       de   \n",
       "2             8.0                    NaN  zalando       de   \n",
       "3             0.0           1.367531e+18  zalando       de   \n",
       "4             0.0           1.367528e+18  zalando       de   \n",
       "\n",
       "                                               clean  \\\n",
       "0  viel spaß damit eine wahl gewinnen stellt euch...   \n",
       "1      aber erst wenn sie wieder dürfen playfullness   \n",
       "2  good news alle interessierten mitarbeiterinnen...   \n",
       "3  ich weiß dass der schein rein muss aber ist mi...   \n",
       "4  ich hab mich nur gefragt wofür dieser extra co...   \n",
       "\n",
       "                                         clean_vader  compound  \\\n",
       "0  Viel Spaß, damit eine Wahl gewinnen. Stellt Eu...   -0.5994   \n",
       "1               aber erst wenn sie wieder dürfen :-P    0.4995   \n",
       "2  Good News! Alle interessierten MitarbeiterInne...   -0.7568   \n",
       "3  Ich weiß dass der Schein rein muss aber was is...    0.0000   \n",
       "4  Ich hab mich nur gefragt wofür dieser extra Co...    0.0000   \n",
       "\n",
       "                                                 lem  \\\n",
       "0  (viel, spaß, damit, eine, wahl, gewinnen, stel...   \n",
       "1  (aber, erst, wenn, sie, wieder, dürfen, playfu...   \n",
       "2  (good, news, alle, interessierten, mitarbeiter...   \n",
       "3  (ich, weiß, dass, der, schein, rein, muss, abe...   \n",
       "4  (ich, hab, mich, nur, gefragt, wofür, dieser, ...   \n",
       "\n",
       "                                               lemma  \n",
       "0  viel spaß damit einen wahl gewinnen stellen si...  \n",
       "1      aber erst wenn ich wieder dürfen playfullness  \n",
       "2  good news all interessieren mitarbeiterinnen d...  \n",
       "3  ich weiß dass der schein rein muss aber sein m...  \n",
       "4  ich hab sich nur fragen wofür dies extra code ...  "
      ],
      "text/html": "<div>\n<style scoped>\n    .dataframe tbody tr th:only-of-type {\n        vertical-align: middle;\n    }\n\n    .dataframe tbody tr th {\n        vertical-align: top;\n    }\n\n    .dataframe thead th {\n        text-align: right;\n    }\n</style>\n<table border=\"1\" class=\"dataframe\">\n  <thead>\n    <tr style=\"text-align: right;\">\n      <th></th>\n      <th>index</th>\n      <th>user_id</th>\n      <th>user_statuses</th>\n      <th>name</th>\n      <th>tweet</th>\n      <th>retweets</th>\n      <th>location</th>\n      <th>created</th>\n      <th>followers</th>\n      <th>is_user_verified</th>\n      <th>favorite_count</th>\n      <th>in_reply_to_status_id</th>\n      <th>keyword</th>\n      <th>language</th>\n      <th>clean</th>\n      <th>clean_vader</th>\n      <th>compound</th>\n      <th>lem</th>\n      <th>lemma</th>\n    </tr>\n  </thead>\n  <tbody>\n    <tr>\n      <th>0</th>\n      <td>1</td>\n      <td>1079317443523297280</td>\n      <td>12303</td>\n      <td>Boulder667</td>\n      <td>viel spaß damit eine wahl zu gewinnen stellt e...</td>\n      <td>0</td>\n      <td>Liverpool, England</td>\n      <td>07-Mar-2021</td>\n      <td>116</td>\n      <td>False</td>\n      <td>1.0</td>\n      <td>1.368148e+18</td>\n      <td>zalando</td>\n      <td>de</td>\n      <td>viel spaß damit eine wahl gewinnen stellt euch...</td>\n      <td>Viel Spaß, damit eine Wahl gewinnen. Stellt Eu...</td>\n      <td>-0.5994</td>\n      <td>(viel, spaß, damit, eine, wahl, gewinnen, stel...</td>\n      <td>viel spaß damit einen wahl gewinnen stellen si...</td>\n    </tr>\n    <tr>\n      <th>1</th>\n      <td>4</td>\n      <td>310342425</td>\n      <td>11476</td>\n      <td>AndyBaldauf</td>\n      <td>aber erst wenn sie wieder dürfen playfullness</td>\n      <td>0</td>\n      <td>Thurgau | St. Gallen | Zürich</td>\n      <td>06-Mar-2021</td>\n      <td>1848</td>\n      <td>False</td>\n      <td>0.0</td>\n      <td>1.368146e+18</td>\n      <td>zalando</td>\n      <td>de</td>\n      <td>aber erst wenn sie wieder dürfen playfullness</td>\n      <td>aber erst wenn sie wieder dürfen :-P</td>\n      <td>0.4995</td>\n      <td>(aber, erst, wenn, sie, wieder, dürfen, playfu...</td>\n      <td>aber erst wenn ich wieder dürfen playfullness</td>\n    </tr>\n    <tr>\n      <th>2</th>\n      <td>10</td>\n      <td>793418126532734976</td>\n      <td>521</td>\n      <td>MILESmobility</td>\n      <td>good news alle interessierten mitarbeiterinnen...</td>\n      <td>0</td>\n      <td>Berlin, Deutschland</td>\n      <td>05-Mar-2021</td>\n      <td>766</td>\n      <td>False</td>\n      <td>8.0</td>\n      <td>NaN</td>\n      <td>zalando</td>\n      <td>de</td>\n      <td>good news alle interessierten mitarbeiterinnen...</td>\n      <td>Good News! Alle interessierten MitarbeiterInne...</td>\n      <td>-0.7568</td>\n      <td>(good, news, alle, interessierten, mitarbeiter...</td>\n      <td>good news all interessieren mitarbeiterinnen d...</td>\n    </tr>\n    <tr>\n      <th>3</th>\n      <td>11</td>\n      <td>1119231287078858752</td>\n      <td>23</td>\n      <td>pici1303</td>\n      <td>ich weiß dass der schein da rein muss aber ist...</td>\n      <td>0</td>\n      <td></td>\n      <td>04-Mar-2021</td>\n      <td>0</td>\n      <td>False</td>\n      <td>0.0</td>\n      <td>1.367531e+18</td>\n      <td>zalando</td>\n      <td>de</td>\n      <td>ich weiß dass der schein rein muss aber ist mi...</td>\n      <td>Ich weiß dass der Schein rein muss aber was is...</td>\n      <td>0.0000</td>\n      <td>(ich, weiß, dass, der, schein, rein, muss, abe...</td>\n      <td>ich weiß dass der schein rein muss aber sein m...</td>\n    </tr>\n    <tr>\n      <th>4</th>\n      <td>12</td>\n      <td>1119231287078858752</td>\n      <td>23</td>\n      <td>pici1303</td>\n      <td>ich hab mich nur gefragt wofür dieser extra co...</td>\n      <td>0</td>\n      <td></td>\n      <td>04-Mar-2021</td>\n      <td>0</td>\n      <td>False</td>\n      <td>0.0</td>\n      <td>1.367528e+18</td>\n      <td>zalando</td>\n      <td>de</td>\n      <td>ich hab mich nur gefragt wofür dieser extra co...</td>\n      <td>Ich hab mich nur gefragt wofür dieser extra Co...</td>\n      <td>0.0000</td>\n      <td>(ich, hab, mich, nur, gefragt, wofür, dieser, ...</td>\n      <td>ich hab sich nur fragen wofür dies extra code ...</td>\n    </tr>\n  </tbody>\n</table>\n</div>"
     },
     "metadata": {},
     "execution_count": 70
    }
   ],
   "source": [
    "data.head()"
   ]
  },
  {
   "cell_type": "code",
   "execution_count": 71,
   "metadata": {},
   "outputs": [],
   "source": [
    "def classify_bots(df):\n",
    "    #collect all the account names related to bots and scripts\n",
    "    names = []\n",
    "    pat = r'(bot\\s|script|bot_)'\n",
    "    for name in df.name.unique():\n",
    "        match = re.findall(pat, name, re.IGNORECASE) \n",
    "        if len(match) > 0:\n",
    "            names.append(name)\n",
    "    #look for a key words to identify a tweet related to bots and scripts\n",
    "    pattern = r\"(script|bot\\s|bots\\s|bot_|cook|cop^e|destroy|proxy)\"\n",
    "    df['bot'] = False\n",
    "    for i, row in df.iterrows():\n",
    "        match = re.findall(pattern, row.tweet, re.IGNORECASE) \n",
    "        if len(match) > 0 or row.isin(names)['name'] == True:\n",
    "            df['bot'].loc[i] = True\n",
    "    return df"
   ]
  },
  {
   "cell_type": "code",
   "execution_count": 72,
   "metadata": {},
   "outputs": [
    {
     "output_type": "stream",
     "name": "stderr",
     "text": [
      "C:\\Users\\deniz\\AppData\\Local\\Packages\\PythonSoftwareFoundation.Python.3.9_qbz5n2kfra8p0\\LocalCache\\local-packages\\Python39\\site-packages\\pandas\\core\\indexing.py:1637: SettingWithCopyWarning: \nA value is trying to be set on a copy of a slice from a DataFrame\n\nSee the caveats in the documentation: https://pandas.pydata.org/pandas-docs/stable/user_guide/indexing.html#returning-a-view-versus-a-copy\n  self._setitem_single_block(indexer, value, name)\n"
     ]
    }
   ],
   "source": [
    "# apply function\n",
    "data = classify_bots(data)"
   ]
  },
  {
   "cell_type": "code",
   "execution_count": 73,
   "metadata": {},
   "outputs": [
    {
     "output_type": "execute_result",
     "data": {
      "text/plain": [
       "False    2681\n",
       "Name: bot, dtype: int64"
      ]
     },
     "metadata": {},
     "execution_count": 73
    }
   ],
   "source": [
    "# create a df with only no bots\n",
    "data = data[data['bot'] == False]\n",
    "data.bot.value_counts()"
   ]
  },
  {
   "cell_type": "code",
   "execution_count": 74,
   "metadata": {},
   "outputs": [
    {
     "output_type": "execute_result",
     "data": {
      "text/plain": [
       "   index              user_id  user_statuses           name  \\\n",
       "0      1  1079317443523297280          12303     Boulder667   \n",
       "1      4            310342425          11476    AndyBaldauf   \n",
       "2     10   793418126532734976            521  MILESmobility   \n",
       "3     11  1119231287078858752             23       pici1303   \n",
       "4     12  1119231287078858752             23       pici1303   \n",
       "\n",
       "                                               tweet  retweets  \\\n",
       "0  viel spaß damit eine wahl zu gewinnen stellt e...         0   \n",
       "1      aber erst wenn sie wieder dürfen playfullness         0   \n",
       "2  good news alle interessierten mitarbeiterinnen...         0   \n",
       "3  ich weiß dass der schein da rein muss aber ist...         0   \n",
       "4  ich hab mich nur gefragt wofür dieser extra co...         0   \n",
       "\n",
       "                        location      created  followers  is_user_verified  \\\n",
       "0             Liverpool, England  07-Mar-2021        116             False   \n",
       "1  Thurgau | St. Gallen | Zürich  06-Mar-2021       1848             False   \n",
       "2            Berlin, Deutschland  05-Mar-2021        766             False   \n",
       "3                                 04-Mar-2021          0             False   \n",
       "4                                 04-Mar-2021          0             False   \n",
       "\n",
       "   favorite_count  in_reply_to_status_id  keyword language  \\\n",
       "0             1.0           1.368148e+18  zalando       de   \n",
       "1             0.0           1.368146e+18  zalando       de   \n",
       "2             8.0                    NaN  zalando       de   \n",
       "3             0.0           1.367531e+18  zalando       de   \n",
       "4             0.0           1.367528e+18  zalando       de   \n",
       "\n",
       "                                               clean  \\\n",
       "0  viel spaß damit eine wahl gewinnen stellt euch...   \n",
       "1      aber erst wenn sie wieder dürfen playfullness   \n",
       "2  good news alle interessierten mitarbeiterinnen...   \n",
       "3  ich weiß dass der schein rein muss aber ist mi...   \n",
       "4  ich hab mich nur gefragt wofür dieser extra co...   \n",
       "\n",
       "                                         clean_vader  compound  \\\n",
       "0  Viel Spaß, damit eine Wahl gewinnen. Stellt Eu...   -0.5994   \n",
       "1               aber erst wenn sie wieder dürfen :-P    0.4995   \n",
       "2  Good News! Alle interessierten MitarbeiterInne...   -0.7568   \n",
       "3  Ich weiß dass der Schein rein muss aber was is...    0.0000   \n",
       "4  Ich hab mich nur gefragt wofür dieser extra Co...    0.0000   \n",
       "\n",
       "                                                 lem  \\\n",
       "0  (viel, spaß, damit, eine, wahl, gewinnen, stel...   \n",
       "1  (aber, erst, wenn, sie, wieder, dürfen, playfu...   \n",
       "2  (good, news, alle, interessierten, mitarbeiter...   \n",
       "3  (ich, weiß, dass, der, schein, rein, muss, abe...   \n",
       "4  (ich, hab, mich, nur, gefragt, wofür, dieser, ...   \n",
       "\n",
       "                                               lemma    bot  \n",
       "0  viel spaß damit einen wahl gewinnen stellen si...  False  \n",
       "1      aber erst wenn ich wieder dürfen playfullness  False  \n",
       "2  good news all interessieren mitarbeiterinnen d...  False  \n",
       "3  ich weiß dass der schein rein muss aber sein m...  False  \n",
       "4  ich hab sich nur fragen wofür dies extra code ...  False  "
      ],
      "text/html": "<div>\n<style scoped>\n    .dataframe tbody tr th:only-of-type {\n        vertical-align: middle;\n    }\n\n    .dataframe tbody tr th {\n        vertical-align: top;\n    }\n\n    .dataframe thead th {\n        text-align: right;\n    }\n</style>\n<table border=\"1\" class=\"dataframe\">\n  <thead>\n    <tr style=\"text-align: right;\">\n      <th></th>\n      <th>index</th>\n      <th>user_id</th>\n      <th>user_statuses</th>\n      <th>name</th>\n      <th>tweet</th>\n      <th>retweets</th>\n      <th>location</th>\n      <th>created</th>\n      <th>followers</th>\n      <th>is_user_verified</th>\n      <th>favorite_count</th>\n      <th>in_reply_to_status_id</th>\n      <th>keyword</th>\n      <th>language</th>\n      <th>clean</th>\n      <th>clean_vader</th>\n      <th>compound</th>\n      <th>lem</th>\n      <th>lemma</th>\n      <th>bot</th>\n    </tr>\n  </thead>\n  <tbody>\n    <tr>\n      <th>0</th>\n      <td>1</td>\n      <td>1079317443523297280</td>\n      <td>12303</td>\n      <td>Boulder667</td>\n      <td>viel spaß damit eine wahl zu gewinnen stellt e...</td>\n      <td>0</td>\n      <td>Liverpool, England</td>\n      <td>07-Mar-2021</td>\n      <td>116</td>\n      <td>False</td>\n      <td>1.0</td>\n      <td>1.368148e+18</td>\n      <td>zalando</td>\n      <td>de</td>\n      <td>viel spaß damit eine wahl gewinnen stellt euch...</td>\n      <td>Viel Spaß, damit eine Wahl gewinnen. Stellt Eu...</td>\n      <td>-0.5994</td>\n      <td>(viel, spaß, damit, eine, wahl, gewinnen, stel...</td>\n      <td>viel spaß damit einen wahl gewinnen stellen si...</td>\n      <td>False</td>\n    </tr>\n    <tr>\n      <th>1</th>\n      <td>4</td>\n      <td>310342425</td>\n      <td>11476</td>\n      <td>AndyBaldauf</td>\n      <td>aber erst wenn sie wieder dürfen playfullness</td>\n      <td>0</td>\n      <td>Thurgau | St. Gallen | Zürich</td>\n      <td>06-Mar-2021</td>\n      <td>1848</td>\n      <td>False</td>\n      <td>0.0</td>\n      <td>1.368146e+18</td>\n      <td>zalando</td>\n      <td>de</td>\n      <td>aber erst wenn sie wieder dürfen playfullness</td>\n      <td>aber erst wenn sie wieder dürfen :-P</td>\n      <td>0.4995</td>\n      <td>(aber, erst, wenn, sie, wieder, dürfen, playfu...</td>\n      <td>aber erst wenn ich wieder dürfen playfullness</td>\n      <td>False</td>\n    </tr>\n    <tr>\n      <th>2</th>\n      <td>10</td>\n      <td>793418126532734976</td>\n      <td>521</td>\n      <td>MILESmobility</td>\n      <td>good news alle interessierten mitarbeiterinnen...</td>\n      <td>0</td>\n      <td>Berlin, Deutschland</td>\n      <td>05-Mar-2021</td>\n      <td>766</td>\n      <td>False</td>\n      <td>8.0</td>\n      <td>NaN</td>\n      <td>zalando</td>\n      <td>de</td>\n      <td>good news alle interessierten mitarbeiterinnen...</td>\n      <td>Good News! Alle interessierten MitarbeiterInne...</td>\n      <td>-0.7568</td>\n      <td>(good, news, alle, interessierten, mitarbeiter...</td>\n      <td>good news all interessieren mitarbeiterinnen d...</td>\n      <td>False</td>\n    </tr>\n    <tr>\n      <th>3</th>\n      <td>11</td>\n      <td>1119231287078858752</td>\n      <td>23</td>\n      <td>pici1303</td>\n      <td>ich weiß dass der schein da rein muss aber ist...</td>\n      <td>0</td>\n      <td></td>\n      <td>04-Mar-2021</td>\n      <td>0</td>\n      <td>False</td>\n      <td>0.0</td>\n      <td>1.367531e+18</td>\n      <td>zalando</td>\n      <td>de</td>\n      <td>ich weiß dass der schein rein muss aber ist mi...</td>\n      <td>Ich weiß dass der Schein rein muss aber was is...</td>\n      <td>0.0000</td>\n      <td>(ich, weiß, dass, der, schein, rein, muss, abe...</td>\n      <td>ich weiß dass der schein rein muss aber sein m...</td>\n      <td>False</td>\n    </tr>\n    <tr>\n      <th>4</th>\n      <td>12</td>\n      <td>1119231287078858752</td>\n      <td>23</td>\n      <td>pici1303</td>\n      <td>ich hab mich nur gefragt wofür dieser extra co...</td>\n      <td>0</td>\n      <td></td>\n      <td>04-Mar-2021</td>\n      <td>0</td>\n      <td>False</td>\n      <td>0.0</td>\n      <td>1.367528e+18</td>\n      <td>zalando</td>\n      <td>de</td>\n      <td>ich hab mich nur gefragt wofür dieser extra co...</td>\n      <td>Ich hab mich nur gefragt wofür dieser extra Co...</td>\n      <td>0.0000</td>\n      <td>(ich, hab, mich, nur, gefragt, wofür, dieser, ...</td>\n      <td>ich hab sich nur fragen wofür dies extra code ...</td>\n      <td>False</td>\n    </tr>\n  </tbody>\n</table>\n</div>"
     },
     "metadata": {},
     "execution_count": 74
    }
   ],
   "source": [
    "data.head()"
   ]
  },
  {
   "cell_type": "code",
   "execution_count": 75,
   "metadata": {},
   "outputs": [
    {
     "output_type": "stream",
     "name": "stdout",
     "text": [
      "1 aber erst wenn ich wieder dürfen playfullness\n2 good news all interessieren mitarbeiterinnen der berliner erhalten täglich einen mobilitätsbudget höhe von der ich für fahrten mit miles einlösen können danke der der ganze aktion sponsern\n3 ich weiß dass der schein rein muss aber sein mit der einzeln code auf der bild der sein einen aufkleber muss der auch auf der paket\n4 ich hab sich nur fragen wofür dies extra code sein\n5 ich hab doch schon der rücksendeschein draufgeklebt der sein mit dabei\n6 bestellen heute noch immer nicht eintreffen service\n7 der sein echt zum mäusemelken\n8 solche lose\n9 wie gut dass ich auch genau der nicht tun habe\n10 hey meinen bestellung werden nie aus der packstation entnehmen und sein nachweislich zurücksenden werden dennoch bekommen ich von sich einen mahnung soll der 😡 😡 😡 zalandofail\n11 hallo wann haben mein endlich ein rabatt code für sich 😭 😭 😫 😫 ich sein auf entzug ich shoppen zalandopluskunde\n12 habe gerade beim mitbewerber bestellen und zahlen dort auch wenig\n13 und wie kommen ich der von sich bestellen sein\n14 brauch einen ballkleid möglichst billigen und möglichst schnellen finden auf asos irgendwie nichts idk haben jemand idee\n15 omg hasse asos für der regel haben einmal kaputt ohrringe bekommen\n16 gratulieren endlich mal information über der asos profifußballer\n17 schon der geraten angekarrt werden glauben man hacken und man sein krieg und wie dies sondereinheitsbullen provokativ harmlos ampel stehend passantin plötzlich zur seite dringen weil ich aufeinmal genau dies stelle langwollen asos dies machoarschlöcher\n18 farfetch oder asos\n19 ich können schon wieder bei asos bestellen\n"
     ]
    }
   ],
   "source": [
    "for i, value in data[1:20].lemma.iteritems():\n",
    "    print(i, value)"
   ]
  },
  {
   "cell_type": "code",
   "execution_count": 84,
   "metadata": {},
   "outputs": [],
   "source": [
    "def define_team(df):\n",
    "    pattern_payment = r\"(packstation|mahnung|rechnung|zahlung|ausgleich|schlussrechnung|kassenbeleg|quittung|kassenbon|budget|voranschlag|belastung|abrechnung|aufstellung|summe|betrag|abgabe|auszahlung|gebühr|vorkasse|kreditkarte|debit|schulden)\"\n",
    "\n",
    "    pattern_logistics= r\"(|transport|lager|lagerung|verkehr|verpackung|logistik|einhaltung|erfüllung|beachtung|warten|termin|bestand)\"\n",
    "\n",
    "    pattern_weather = r\"(Iembot|Iem)\"\n",
    "\n",
    "    pattern_fit = r\"(size|fit|small|large|medium|schnitt|sitz|größe|art|style|form|zuschnitt|gestalt|ausführung)\"\n",
    "\n",
    "    pattern_catalog = r\"(katalog|warenkatalog|übersicht|verzeichnis|stichwortverzeichnis)\"\n",
    "\n",
    "    pattern_reco = r\"(empfehlung|tipp|hilfe|hilfestellung|beistand|lehre|hinweis|rat|ratschlag)\"\n",
    "\n",
    "    pattern_sust = r\"(nachhaltigkeit|umwelt|umweltfreundilich|zukunfsfähig|umgebung|natur|naturschutz|schutz|klima|klimawandel|nachhaltig)\"\n",
    "\n",
    "    pattern_outfit = r\"(mode|fashion|aufzug|look|lifestyle|anzug|stil)\"\n",
    "\n",
    "\n",
    "    df['team'] = 'Other'\n",
    "    \n",
    "    for i, row in df.iterrows():\n",
    "        \n",
    "        match_logistics = re.findall(pattern_logistics, row.lemma, re.IGNORECASE) \n",
    "        if len(match_logistics) > 0:\n",
    "            df['team'].loc[i] = 'Logistics'\n",
    "\n",
    "        match_payment = re.findall(pattern_payment, row.lemma, re.IGNORECASE) \n",
    "        if len(match_payment) > 0:\n",
    "            df['team'].loc[i] = 'Payment'\n",
    "\n",
    "        match_weather = re.findall(pattern_weather, row['name'], re.IGNORECASE) \n",
    "        if len(match_weather) > 0:\n",
    "            df['team'].loc[i] = 'Weather'\n",
    "\n",
    "        match_fit = re.findall(pattern_fit, row.lemma, re.IGNORECASE) \n",
    "        if len(match_fit) > 0:\n",
    "            df['team'].loc[i] = 'Size and Fit'\n",
    "\n",
    "        match_catalog = re.findall(pattern_catalog, row.lemma, re.IGNORECASE) \n",
    "        if len(match_fit) > 0:\n",
    "            df['team'].loc[i] = 'Catalog'\n",
    "        \n",
    "        match_sust = re.findall(pattern_sust, row.lemma, re.IGNORECASE) \n",
    "        if len(match_fit) > 0:\n",
    "            df['team'].loc[i] = 'Sustainability'\n",
    "\n",
    "        match_outfit = re.findall(pattern_outfit, row.lemma, re.IGNORECASE) \n",
    "        if len(match_fit) > 0:\n",
    "            df['team'].loc[i] = 'Outfit'\n",
    "\n",
    "    return df"
   ]
  },
  {
   "cell_type": "code",
   "execution_count": 85,
   "metadata": {},
   "outputs": [
    {
     "output_type": "stream",
     "name": "stderr",
     "text": [
      "C:\\Users\\deniz\\AppData\\Local\\Packages\\PythonSoftwareFoundation.Python.3.9_qbz5n2kfra8p0\\LocalCache\\local-packages\\Python39\\site-packages\\pandas\\core\\indexing.py:1637: SettingWithCopyWarning: \nA value is trying to be set on a copy of a slice from a DataFrame\n\nSee the caveats in the documentation: https://pandas.pydata.org/pandas-docs/stable/user_guide/indexing.html#returning-a-view-versus-a-copy\n  self._setitem_single_block(indexer, value, name)\n"
     ]
    }
   ],
   "source": [
    "teams = define_team(data)"
   ]
  },
  {
   "cell_type": "code",
   "execution_count": 86,
   "metadata": {},
   "outputs": [
    {
     "output_type": "execute_result",
     "data": {
      "text/plain": [
       "   index              user_id  user_statuses           name  \\\n",
       "0      1  1079317443523297280          12303     Boulder667   \n",
       "1      4            310342425          11476    AndyBaldauf   \n",
       "2     10   793418126532734976            521  MILESmobility   \n",
       "3     11  1119231287078858752             23       pici1303   \n",
       "4     12  1119231287078858752             23       pici1303   \n",
       "\n",
       "                                               tweet  retweets  \\\n",
       "0  viel spaß damit eine wahl zu gewinnen stellt e...         0   \n",
       "1      aber erst wenn sie wieder dürfen playfullness         0   \n",
       "2  good news alle interessierten mitarbeiterinnen...         0   \n",
       "3  ich weiß dass der schein da rein muss aber ist...         0   \n",
       "4  ich hab mich nur gefragt wofür dieser extra co...         0   \n",
       "\n",
       "                        location      created  followers  is_user_verified  \\\n",
       "0             Liverpool, England  07-Mar-2021        116             False   \n",
       "1  Thurgau | St. Gallen | Zürich  06-Mar-2021       1848             False   \n",
       "2            Berlin, Deutschland  05-Mar-2021        766             False   \n",
       "3                                 04-Mar-2021          0             False   \n",
       "4                                 04-Mar-2021          0             False   \n",
       "\n",
       "   ...  in_reply_to_status_id  keyword language  \\\n",
       "0  ...           1.368148e+18  zalando       de   \n",
       "1  ...           1.368146e+18  zalando       de   \n",
       "2  ...                    NaN  zalando       de   \n",
       "3  ...           1.367531e+18  zalando       de   \n",
       "4  ...           1.367528e+18  zalando       de   \n",
       "\n",
       "                                               clean  \\\n",
       "0  viel spaß damit eine wahl gewinnen stellt euch...   \n",
       "1      aber erst wenn sie wieder dürfen playfullness   \n",
       "2  good news alle interessierten mitarbeiterinnen...   \n",
       "3  ich weiß dass der schein rein muss aber ist mi...   \n",
       "4  ich hab mich nur gefragt wofür dieser extra co...   \n",
       "\n",
       "                                         clean_vader compound  \\\n",
       "0  Viel Spaß, damit eine Wahl gewinnen. Stellt Eu...  -0.5994   \n",
       "1               aber erst wenn sie wieder dürfen :-P   0.4995   \n",
       "2  Good News! Alle interessierten MitarbeiterInne...  -0.7568   \n",
       "3  Ich weiß dass der Schein rein muss aber was is...   0.0000   \n",
       "4  Ich hab mich nur gefragt wofür dieser extra Co...   0.0000   \n",
       "\n",
       "                                                 lem  \\\n",
       "0  (viel, spaß, damit, eine, wahl, gewinnen, stel...   \n",
       "1  (aber, erst, wenn, sie, wieder, dürfen, playfu...   \n",
       "2  (good, news, alle, interessierten, mitarbeiter...   \n",
       "3  (ich, weiß, dass, der, schein, rein, muss, abe...   \n",
       "4  (ich, hab, mich, nur, gefragt, wofür, dieser, ...   \n",
       "\n",
       "                                               lemma    bot       team  \n",
       "0  viel spaß damit einen wahl gewinnen stellen si...  False  Logistics  \n",
       "1      aber erst wenn ich wieder dürfen playfullness  False  Logistics  \n",
       "2  good news all interessieren mitarbeiterinnen d...  False    Payment  \n",
       "3  ich weiß dass der schein rein muss aber sein m...  False  Logistics  \n",
       "4  ich hab sich nur fragen wofür dies extra code ...  False  Logistics  \n",
       "\n",
       "[5 rows x 21 columns]"
      ],
      "text/html": "<div>\n<style scoped>\n    .dataframe tbody tr th:only-of-type {\n        vertical-align: middle;\n    }\n\n    .dataframe tbody tr th {\n        vertical-align: top;\n    }\n\n    .dataframe thead th {\n        text-align: right;\n    }\n</style>\n<table border=\"1\" class=\"dataframe\">\n  <thead>\n    <tr style=\"text-align: right;\">\n      <th></th>\n      <th>index</th>\n      <th>user_id</th>\n      <th>user_statuses</th>\n      <th>name</th>\n      <th>tweet</th>\n      <th>retweets</th>\n      <th>location</th>\n      <th>created</th>\n      <th>followers</th>\n      <th>is_user_verified</th>\n      <th>...</th>\n      <th>in_reply_to_status_id</th>\n      <th>keyword</th>\n      <th>language</th>\n      <th>clean</th>\n      <th>clean_vader</th>\n      <th>compound</th>\n      <th>lem</th>\n      <th>lemma</th>\n      <th>bot</th>\n      <th>team</th>\n    </tr>\n  </thead>\n  <tbody>\n    <tr>\n      <th>0</th>\n      <td>1</td>\n      <td>1079317443523297280</td>\n      <td>12303</td>\n      <td>Boulder667</td>\n      <td>viel spaß damit eine wahl zu gewinnen stellt e...</td>\n      <td>0</td>\n      <td>Liverpool, England</td>\n      <td>07-Mar-2021</td>\n      <td>116</td>\n      <td>False</td>\n      <td>...</td>\n      <td>1.368148e+18</td>\n      <td>zalando</td>\n      <td>de</td>\n      <td>viel spaß damit eine wahl gewinnen stellt euch...</td>\n      <td>Viel Spaß, damit eine Wahl gewinnen. Stellt Eu...</td>\n      <td>-0.5994</td>\n      <td>(viel, spaß, damit, eine, wahl, gewinnen, stel...</td>\n      <td>viel spaß damit einen wahl gewinnen stellen si...</td>\n      <td>False</td>\n      <td>Logistics</td>\n    </tr>\n    <tr>\n      <th>1</th>\n      <td>4</td>\n      <td>310342425</td>\n      <td>11476</td>\n      <td>AndyBaldauf</td>\n      <td>aber erst wenn sie wieder dürfen playfullness</td>\n      <td>0</td>\n      <td>Thurgau | St. Gallen | Zürich</td>\n      <td>06-Mar-2021</td>\n      <td>1848</td>\n      <td>False</td>\n      <td>...</td>\n      <td>1.368146e+18</td>\n      <td>zalando</td>\n      <td>de</td>\n      <td>aber erst wenn sie wieder dürfen playfullness</td>\n      <td>aber erst wenn sie wieder dürfen :-P</td>\n      <td>0.4995</td>\n      <td>(aber, erst, wenn, sie, wieder, dürfen, playfu...</td>\n      <td>aber erst wenn ich wieder dürfen playfullness</td>\n      <td>False</td>\n      <td>Logistics</td>\n    </tr>\n    <tr>\n      <th>2</th>\n      <td>10</td>\n      <td>793418126532734976</td>\n      <td>521</td>\n      <td>MILESmobility</td>\n      <td>good news alle interessierten mitarbeiterinnen...</td>\n      <td>0</td>\n      <td>Berlin, Deutschland</td>\n      <td>05-Mar-2021</td>\n      <td>766</td>\n      <td>False</td>\n      <td>...</td>\n      <td>NaN</td>\n      <td>zalando</td>\n      <td>de</td>\n      <td>good news alle interessierten mitarbeiterinnen...</td>\n      <td>Good News! Alle interessierten MitarbeiterInne...</td>\n      <td>-0.7568</td>\n      <td>(good, news, alle, interessierten, mitarbeiter...</td>\n      <td>good news all interessieren mitarbeiterinnen d...</td>\n      <td>False</td>\n      <td>Payment</td>\n    </tr>\n    <tr>\n      <th>3</th>\n      <td>11</td>\n      <td>1119231287078858752</td>\n      <td>23</td>\n      <td>pici1303</td>\n      <td>ich weiß dass der schein da rein muss aber ist...</td>\n      <td>0</td>\n      <td></td>\n      <td>04-Mar-2021</td>\n      <td>0</td>\n      <td>False</td>\n      <td>...</td>\n      <td>1.367531e+18</td>\n      <td>zalando</td>\n      <td>de</td>\n      <td>ich weiß dass der schein rein muss aber ist mi...</td>\n      <td>Ich weiß dass der Schein rein muss aber was is...</td>\n      <td>0.0000</td>\n      <td>(ich, weiß, dass, der, schein, rein, muss, abe...</td>\n      <td>ich weiß dass der schein rein muss aber sein m...</td>\n      <td>False</td>\n      <td>Logistics</td>\n    </tr>\n    <tr>\n      <th>4</th>\n      <td>12</td>\n      <td>1119231287078858752</td>\n      <td>23</td>\n      <td>pici1303</td>\n      <td>ich hab mich nur gefragt wofür dieser extra co...</td>\n      <td>0</td>\n      <td></td>\n      <td>04-Mar-2021</td>\n      <td>0</td>\n      <td>False</td>\n      <td>...</td>\n      <td>1.367528e+18</td>\n      <td>zalando</td>\n      <td>de</td>\n      <td>ich hab mich nur gefragt wofür dieser extra co...</td>\n      <td>Ich hab mich nur gefragt wofür dieser extra Co...</td>\n      <td>0.0000</td>\n      <td>(ich, hab, mich, nur, gefragt, wofür, dieser, ...</td>\n      <td>ich hab sich nur fragen wofür dies extra code ...</td>\n      <td>False</td>\n      <td>Logistics</td>\n    </tr>\n  </tbody>\n</table>\n<p>5 rows × 21 columns</p>\n</div>"
     },
     "metadata": {},
     "execution_count": 86
    }
   ],
   "source": [
    "teams.head()"
   ]
  },
  {
   "cell_type": "code",
   "execution_count": 89,
   "metadata": {},
   "outputs": [
    {
     "output_type": "execute_result",
     "data": {
      "text/plain": [
       "(2681, 21)"
      ]
     },
     "metadata": {},
     "execution_count": 89
    }
   ],
   "source": [
    "teams.shape"
   ]
  },
  {
   "cell_type": "code",
   "execution_count": 79,
   "metadata": {},
   "outputs": [
    {
     "output_type": "execute_result",
     "data": {
      "text/plain": [
       "Logistics    2202\n",
       "Outfit        414\n",
       "Payment        60\n",
       "Weather         5\n",
       "Name: team, dtype: int64"
      ]
     },
     "metadata": {},
     "execution_count": 79
    }
   ],
   "source": [
    "teams.team.value_counts()"
   ]
  },
  {
   "cell_type": "code",
   "execution_count": 80,
   "metadata": {},
   "outputs": [
    {
     "output_type": "execute_result",
     "data": {
      "text/plain": [
       "'viel spaß damit einen wahl gewinnen stellen sich mal einen vor der sich echte probleme kümmern zum beispiel wie mein können der luxemburg und irland beihilfe zur steuerhinterziehung lasten der deutsch steuerzahler begehen und firmen wie'"
      ]
     },
     "metadata": {},
     "execution_count": 80
    }
   ],
   "source": [
    "teams.lemma[0]"
   ]
  },
  {
   "cell_type": "code",
   "execution_count": 88,
   "metadata": {},
   "outputs": [
    {
     "output_type": "stream",
     "name": "stdout",
     "text": [
      "985 Ratings_via_FL play button analyse flash dz bank hebt zalando auf halten fairer wert hoch auf euro frankfurt dpa afx broker die dz bank hat zalando nach dem kapitalmarkttag des online modehändlers von verkaufen auf halten hochgestuft und den fairen… finanztreff\n1784 daBehling humanic geht den lockdown zalando hängt mit reifenschaden im suezkanal ja wir befinden uns tatsächlich der größten krise die dieses land je erlebt hat\n1829 missing_clue hab ähnliches deutschland erlebt dazu outsourced deutschland wahnsinnig viel nach china und die beneiden die leute bei amazon ich amazon gut nein läuft es bei zalando deutschland ähnlich ja\n1224 Paradox247365 für gibts zalando ich bestell eh immer da sollen sich ihre tests hinten rein schieben und pleite gehen mir egal\n877 wznewsline online handel einkleiden handy ladenschließungen beflügeln zalando\n1529 ElonIsMyBro helft dem bruder doch mal los mit euch\n2433 calmalfredo hol dir jetzt den business insider damit dir gesagt wird dass du asos zalando amazon und vinted löschen sollst\n1098 rednedmitmir zalando unsere empfehlungen für dich und denn hets eifach schuhe min fbi mah macht sin job schlecht wie chönnts denke ich cha mir das leiste\n1952 DochHildiswini verkauft zalando vielleicht augenbinden\n1765 HerrinDaniela_ fast zahlschweine smiling face horns ich bin derzeit noch im krankenhaus macht mir ne freude ihr weißen loser pig face von € alles erlaubt gerne als zalando gs oder paypal sparkles •jungherrin •geldherrin •zalandoqueen •ebony •africanqueen •alphacouple\n"
     ]
    }
   ],
   "source": [
    "#testing results by checking random 10 tweets\n",
    "sample = teams[teams.team == 'Logistics'].sample(n=10)\n",
    "for i, row in sample.iterrows():\n",
    "    print(str(i) + ' ' + sample.name[i] + ' ' + sample.tweet[i])"
   ]
  },
  {
   "cell_type": "code",
   "execution_count": 67,
   "metadata": {},
   "outputs": [
    {
     "output_type": "error",
     "ename": "NameError",
     "evalue": "name 'sns' is not defined",
     "traceback": [
      "\u001b[1;31m---------------------------------------------------------------------------\u001b[0m",
      "\u001b[1;31mNameError\u001b[0m                                 Traceback (most recent call last)",
      "\u001b[1;32m<ipython-input-67-e8336ca242a8>\u001b[0m in \u001b[0;36m<module>\u001b[1;34m\u001b[0m\n\u001b[1;32m----> 1\u001b[1;33m \u001b[0msns\u001b[0m\u001b[1;33m.\u001b[0m\u001b[0mcountplot\u001b[0m\u001b[1;33m(\u001b[0m\u001b[0mdata\u001b[0m\u001b[1;33m=\u001b[0m\u001b[0mteams\u001b[0m\u001b[1;33m,\u001b[0m \u001b[0mx\u001b[0m\u001b[1;33m=\u001b[0m\u001b[1;34m'team'\u001b[0m\u001b[1;33m)\u001b[0m\u001b[1;33m\u001b[0m\u001b[1;33m\u001b[0m\u001b[0m\n\u001b[0m",
      "\u001b[1;31mNameError\u001b[0m: name 'sns' is not defined"
     ]
    }
   ],
   "source": [
    "sns.countplot(data=teams, x='team')"
   ]
  },
  {
   "cell_type": "code",
   "execution_count": null,
   "metadata": {},
   "outputs": [],
   "source": []
  }
 ]
}