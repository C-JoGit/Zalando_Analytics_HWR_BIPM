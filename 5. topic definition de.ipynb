{
 "metadata": {
  "language_info": {
   "codemirror_mode": {
    "name": "ipython",
    "version": 3
   },
   "file_extension": ".py",
   "mimetype": "text/x-python",
   "name": "python",
   "nbconvert_exporter": "python",
   "pygments_lexer": "ipython3",
   "version": "3.9.5"
  },
  "orig_nbformat": 2,
  "kernelspec": {
   "name": "python3",
   "display_name": "Python 3.9.5 64-bit (windows store)"
  },
  "interpreter": {
   "hash": "08bcf114b6799a788c3e4c5366ee28d230c9527aecb5fe8828812464fcb419b7"
  }
 },
 "nbformat": 4,
 "nbformat_minor": 2,
 "cells": [
  {
   "cell_type": "code",
   "execution_count": 1,
   "metadata": {},
   "outputs": [],
   "source": [
    "# import packages\n",
    "import sys\n",
    "sys.path.append('../')\n",
    "import pickle\n",
    "import pandas as pd\n",
    "import re\n",
    "import seaborn as sns"
   ]
  },
  {
   "cell_type": "code",
   "execution_count": 2,
   "metadata": {},
   "outputs": [],
   "source": [
    "#load labelled data (generated in file 2.preprocessing_en)\n",
    "data = pd.read_pickle('data_n_models/de_df_labelled.pkl')"
   ]
  },
  {
   "cell_type": "code",
   "execution_count": 3,
   "metadata": {},
   "outputs": [
    {
     "output_type": "execute_result",
     "data": {
      "text/plain": [
       "   index              user_id  user_statuses           name  \\\n",
       "0      1  1079317443523297280          12303     Boulder667   \n",
       "1      4            310342425          11476    AndyBaldauf   \n",
       "2     10   793418126532734976            521  MILESmobility   \n",
       "3     11  1119231287078858752             23       pici1303   \n",
       "4     12  1119231287078858752             23       pici1303   \n",
       "\n",
       "                                               tweet  retweets  \\\n",
       "0  viel spaß damit eine wahl zu gewinnen stellt e...         0   \n",
       "1      aber erst wenn sie wieder dürfen playfullness         0   \n",
       "2  good news alle interessierten mitarbeiterinnen...         0   \n",
       "3  ich weiß dass der schein da rein muss aber ist...         0   \n",
       "4  ich hab mich nur gefragt wofür dieser extra co...         0   \n",
       "\n",
       "                        location      created  followers  is_user_verified  \\\n",
       "0             Liverpool, England  07-Mar-2021        116             False   \n",
       "1  Thurgau | St. Gallen | Zürich  06-Mar-2021       1848             False   \n",
       "2            Berlin, Deutschland  05-Mar-2021        766             False   \n",
       "3                                 04-Mar-2021          0             False   \n",
       "4                                 04-Mar-2021          0             False   \n",
       "\n",
       "   favorite_count  in_reply_to_status_id  keyword language  \\\n",
       "0             1.0           1.368148e+18  zalando       de   \n",
       "1             0.0           1.368146e+18  zalando       de   \n",
       "2             8.0                    NaN  zalando       de   \n",
       "3             0.0           1.367531e+18  zalando       de   \n",
       "4             0.0           1.367528e+18  zalando       de   \n",
       "\n",
       "                                               clean  \\\n",
       "0  viel spaß damit eine wahl gewinnen stellt euch...   \n",
       "1      aber erst wenn sie wieder dürfen playfullness   \n",
       "2  good news alle interessierten mitarbeiterinnen...   \n",
       "3  ich weiß dass der schein rein muss aber ist mi...   \n",
       "4  ich hab mich nur gefragt wofür dieser extra co...   \n",
       "\n",
       "                                         clean_vader  compound  \\\n",
       "0  Viel Spaß, damit eine Wahl gewinnen. Stellt Eu...   -0.5994   \n",
       "1               aber erst wenn sie wieder dürfen :-P    0.4995   \n",
       "2  Good News! Alle interessierten MitarbeiterInne...   -0.7568   \n",
       "3  Ich weiß dass der Schein rein muss aber was is...    0.0000   \n",
       "4  Ich hab mich nur gefragt wofür dieser extra Co...    0.0000   \n",
       "\n",
       "                                                 lem  \\\n",
       "0  (viel, spaß, damit, eine, wahl, gewinnen, stel...   \n",
       "1  (aber, erst, wenn, sie, wieder, dürfen, playfu...   \n",
       "2  (good, news, alle, interessierten, mitarbeiter...   \n",
       "3  (ich, weiß, dass, der, schein, rein, muss, abe...   \n",
       "4  (ich, hab, mich, nur, gefragt, wofür, dieser, ...   \n",
       "\n",
       "                                               lemma  \n",
       "0  viel spaß damit einen wahl gewinnen stellen si...  \n",
       "1      aber erst wenn ich wieder dürfen playfullness  \n",
       "2  good news all interessieren mitarbeiterinnen d...  \n",
       "3  ich weiß dass der schein rein muss aber sein m...  \n",
       "4  ich hab sich nur fragen wofür dies extra code ...  "
      ],
      "text/html": "<div>\n<style scoped>\n    .dataframe tbody tr th:only-of-type {\n        vertical-align: middle;\n    }\n\n    .dataframe tbody tr th {\n        vertical-align: top;\n    }\n\n    .dataframe thead th {\n        text-align: right;\n    }\n</style>\n<table border=\"1\" class=\"dataframe\">\n  <thead>\n    <tr style=\"text-align: right;\">\n      <th></th>\n      <th>index</th>\n      <th>user_id</th>\n      <th>user_statuses</th>\n      <th>name</th>\n      <th>tweet</th>\n      <th>retweets</th>\n      <th>location</th>\n      <th>created</th>\n      <th>followers</th>\n      <th>is_user_verified</th>\n      <th>favorite_count</th>\n      <th>in_reply_to_status_id</th>\n      <th>keyword</th>\n      <th>language</th>\n      <th>clean</th>\n      <th>clean_vader</th>\n      <th>compound</th>\n      <th>lem</th>\n      <th>lemma</th>\n    </tr>\n  </thead>\n  <tbody>\n    <tr>\n      <th>0</th>\n      <td>1</td>\n      <td>1079317443523297280</td>\n      <td>12303</td>\n      <td>Boulder667</td>\n      <td>viel spaß damit eine wahl zu gewinnen stellt e...</td>\n      <td>0</td>\n      <td>Liverpool, England</td>\n      <td>07-Mar-2021</td>\n      <td>116</td>\n      <td>False</td>\n      <td>1.0</td>\n      <td>1.368148e+18</td>\n      <td>zalando</td>\n      <td>de</td>\n      <td>viel spaß damit eine wahl gewinnen stellt euch...</td>\n      <td>Viel Spaß, damit eine Wahl gewinnen. Stellt Eu...</td>\n      <td>-0.5994</td>\n      <td>(viel, spaß, damit, eine, wahl, gewinnen, stel...</td>\n      <td>viel spaß damit einen wahl gewinnen stellen si...</td>\n    </tr>\n    <tr>\n      <th>1</th>\n      <td>4</td>\n      <td>310342425</td>\n      <td>11476</td>\n      <td>AndyBaldauf</td>\n      <td>aber erst wenn sie wieder dürfen playfullness</td>\n      <td>0</td>\n      <td>Thurgau | St. Gallen | Zürich</td>\n      <td>06-Mar-2021</td>\n      <td>1848</td>\n      <td>False</td>\n      <td>0.0</td>\n      <td>1.368146e+18</td>\n      <td>zalando</td>\n      <td>de</td>\n      <td>aber erst wenn sie wieder dürfen playfullness</td>\n      <td>aber erst wenn sie wieder dürfen :-P</td>\n      <td>0.4995</td>\n      <td>(aber, erst, wenn, sie, wieder, dürfen, playfu...</td>\n      <td>aber erst wenn ich wieder dürfen playfullness</td>\n    </tr>\n    <tr>\n      <th>2</th>\n      <td>10</td>\n      <td>793418126532734976</td>\n      <td>521</td>\n      <td>MILESmobility</td>\n      <td>good news alle interessierten mitarbeiterinnen...</td>\n      <td>0</td>\n      <td>Berlin, Deutschland</td>\n      <td>05-Mar-2021</td>\n      <td>766</td>\n      <td>False</td>\n      <td>8.0</td>\n      <td>NaN</td>\n      <td>zalando</td>\n      <td>de</td>\n      <td>good news alle interessierten mitarbeiterinnen...</td>\n      <td>Good News! Alle interessierten MitarbeiterInne...</td>\n      <td>-0.7568</td>\n      <td>(good, news, alle, interessierten, mitarbeiter...</td>\n      <td>good news all interessieren mitarbeiterinnen d...</td>\n    </tr>\n    <tr>\n      <th>3</th>\n      <td>11</td>\n      <td>1119231287078858752</td>\n      <td>23</td>\n      <td>pici1303</td>\n      <td>ich weiß dass der schein da rein muss aber ist...</td>\n      <td>0</td>\n      <td></td>\n      <td>04-Mar-2021</td>\n      <td>0</td>\n      <td>False</td>\n      <td>0.0</td>\n      <td>1.367531e+18</td>\n      <td>zalando</td>\n      <td>de</td>\n      <td>ich weiß dass der schein rein muss aber ist mi...</td>\n      <td>Ich weiß dass der Schein rein muss aber was is...</td>\n      <td>0.0000</td>\n      <td>(ich, weiß, dass, der, schein, rein, muss, abe...</td>\n      <td>ich weiß dass der schein rein muss aber sein m...</td>\n    </tr>\n    <tr>\n      <th>4</th>\n      <td>12</td>\n      <td>1119231287078858752</td>\n      <td>23</td>\n      <td>pici1303</td>\n      <td>ich hab mich nur gefragt wofür dieser extra co...</td>\n      <td>0</td>\n      <td></td>\n      <td>04-Mar-2021</td>\n      <td>0</td>\n      <td>False</td>\n      <td>0.0</td>\n      <td>1.367528e+18</td>\n      <td>zalando</td>\n      <td>de</td>\n      <td>ich hab mich nur gefragt wofür dieser extra co...</td>\n      <td>Ich hab mich nur gefragt wofür dieser extra Co...</td>\n      <td>0.0000</td>\n      <td>(ich, hab, mich, nur, gefragt, wofür, dieser, ...</td>\n      <td>ich hab sich nur fragen wofür dies extra code ...</td>\n    </tr>\n  </tbody>\n</table>\n</div>"
     },
     "metadata": {},
     "execution_count": 3
    }
   ],
   "source": [
    "data.head()"
   ]
  },
  {
   "cell_type": "code",
   "execution_count": 4,
   "metadata": {},
   "outputs": [],
   "source": [
    "def classify_bots(df):\n",
    "    #collect all the account names related to bots and scripts\n",
    "    names = []\n",
    "    pat = r'(bot\\s|script|bot_)'\n",
    "    for name in df.name.unique():\n",
    "        match = re.findall(pat, name, re.IGNORECASE) \n",
    "        if len(match) > 0:\n",
    "            names.append(name)\n",
    "    #look for a key words to identify a tweet related to bots and scripts\n",
    "    pattern = r\"(script|bot\\s|bots\\s|bot_|cook|cop^e|destroy|proxy)\"\n",
    "    df['bot'] = False\n",
    "    for i, row in df.iterrows():\n",
    "        match = re.findall(pattern, row.tweet, re.IGNORECASE) \n",
    "        if len(match) > 0 or row.isin(names)['name'] == True:\n",
    "            df['bot'].loc[i] = True\n",
    "    return df"
   ]
  },
  {
   "cell_type": "code",
   "execution_count": 5,
   "metadata": {},
   "outputs": [
    {
     "output_type": "stream",
     "name": "stderr",
     "text": [
      "C:\\Users\\deniz\\AppData\\Local\\Packages\\PythonSoftwareFoundation.Python.3.9_qbz5n2kfra8p0\\LocalCache\\local-packages\\Python39\\site-packages\\pandas\\core\\indexing.py:1637: SettingWithCopyWarning: \nA value is trying to be set on a copy of a slice from a DataFrame\n\nSee the caveats in the documentation: https://pandas.pydata.org/pandas-docs/stable/user_guide/indexing.html#returning-a-view-versus-a-copy\n  self._setitem_single_block(indexer, value, name)\n"
     ]
    }
   ],
   "source": [
    "# apply function\n",
    "data = classify_bots(data)"
   ]
  },
  {
   "cell_type": "code",
   "execution_count": 6,
   "metadata": {},
   "outputs": [
    {
     "output_type": "execute_result",
     "data": {
      "text/plain": [
       "False    2681\n",
       "Name: bot, dtype: int64"
      ]
     },
     "metadata": {},
     "execution_count": 6
    }
   ],
   "source": [
    "# create a df with only no bots\n",
    "data = data[data['bot'] == False]\n",
    "data.bot.value_counts()"
   ]
  },
  {
   "cell_type": "code",
   "execution_count": 7,
   "metadata": {},
   "outputs": [
    {
     "output_type": "execute_result",
     "data": {
      "text/plain": [
       "   index              user_id  user_statuses           name  \\\n",
       "0      1  1079317443523297280          12303     Boulder667   \n",
       "1      4            310342425          11476    AndyBaldauf   \n",
       "2     10   793418126532734976            521  MILESmobility   \n",
       "3     11  1119231287078858752             23       pici1303   \n",
       "4     12  1119231287078858752             23       pici1303   \n",
       "\n",
       "                                               tweet  retweets  \\\n",
       "0  viel spaß damit eine wahl zu gewinnen stellt e...         0   \n",
       "1      aber erst wenn sie wieder dürfen playfullness         0   \n",
       "2  good news alle interessierten mitarbeiterinnen...         0   \n",
       "3  ich weiß dass der schein da rein muss aber ist...         0   \n",
       "4  ich hab mich nur gefragt wofür dieser extra co...         0   \n",
       "\n",
       "                        location      created  followers  is_user_verified  \\\n",
       "0             Liverpool, England  07-Mar-2021        116             False   \n",
       "1  Thurgau | St. Gallen | Zürich  06-Mar-2021       1848             False   \n",
       "2            Berlin, Deutschland  05-Mar-2021        766             False   \n",
       "3                                 04-Mar-2021          0             False   \n",
       "4                                 04-Mar-2021          0             False   \n",
       "\n",
       "   favorite_count  in_reply_to_status_id  keyword language  \\\n",
       "0             1.0           1.368148e+18  zalando       de   \n",
       "1             0.0           1.368146e+18  zalando       de   \n",
       "2             8.0                    NaN  zalando       de   \n",
       "3             0.0           1.367531e+18  zalando       de   \n",
       "4             0.0           1.367528e+18  zalando       de   \n",
       "\n",
       "                                               clean  \\\n",
       "0  viel spaß damit eine wahl gewinnen stellt euch...   \n",
       "1      aber erst wenn sie wieder dürfen playfullness   \n",
       "2  good news alle interessierten mitarbeiterinnen...   \n",
       "3  ich weiß dass der schein rein muss aber ist mi...   \n",
       "4  ich hab mich nur gefragt wofür dieser extra co...   \n",
       "\n",
       "                                         clean_vader  compound  \\\n",
       "0  Viel Spaß, damit eine Wahl gewinnen. Stellt Eu...   -0.5994   \n",
       "1               aber erst wenn sie wieder dürfen :-P    0.4995   \n",
       "2  Good News! Alle interessierten MitarbeiterInne...   -0.7568   \n",
       "3  Ich weiß dass der Schein rein muss aber was is...    0.0000   \n",
       "4  Ich hab mich nur gefragt wofür dieser extra Co...    0.0000   \n",
       "\n",
       "                                                 lem  \\\n",
       "0  (viel, spaß, damit, eine, wahl, gewinnen, stel...   \n",
       "1  (aber, erst, wenn, sie, wieder, dürfen, playfu...   \n",
       "2  (good, news, alle, interessierten, mitarbeiter...   \n",
       "3  (ich, weiß, dass, der, schein, rein, muss, abe...   \n",
       "4  (ich, hab, mich, nur, gefragt, wofür, dieser, ...   \n",
       "\n",
       "                                               lemma    bot  \n",
       "0  viel spaß damit einen wahl gewinnen stellen si...  False  \n",
       "1      aber erst wenn ich wieder dürfen playfullness  False  \n",
       "2  good news all interessieren mitarbeiterinnen d...  False  \n",
       "3  ich weiß dass der schein rein muss aber sein m...  False  \n",
       "4  ich hab sich nur fragen wofür dies extra code ...  False  "
      ],
      "text/html": "<div>\n<style scoped>\n    .dataframe tbody tr th:only-of-type {\n        vertical-align: middle;\n    }\n\n    .dataframe tbody tr th {\n        vertical-align: top;\n    }\n\n    .dataframe thead th {\n        text-align: right;\n    }\n</style>\n<table border=\"1\" class=\"dataframe\">\n  <thead>\n    <tr style=\"text-align: right;\">\n      <th></th>\n      <th>index</th>\n      <th>user_id</th>\n      <th>user_statuses</th>\n      <th>name</th>\n      <th>tweet</th>\n      <th>retweets</th>\n      <th>location</th>\n      <th>created</th>\n      <th>followers</th>\n      <th>is_user_verified</th>\n      <th>favorite_count</th>\n      <th>in_reply_to_status_id</th>\n      <th>keyword</th>\n      <th>language</th>\n      <th>clean</th>\n      <th>clean_vader</th>\n      <th>compound</th>\n      <th>lem</th>\n      <th>lemma</th>\n      <th>bot</th>\n    </tr>\n  </thead>\n  <tbody>\n    <tr>\n      <th>0</th>\n      <td>1</td>\n      <td>1079317443523297280</td>\n      <td>12303</td>\n      <td>Boulder667</td>\n      <td>viel spaß damit eine wahl zu gewinnen stellt e...</td>\n      <td>0</td>\n      <td>Liverpool, England</td>\n      <td>07-Mar-2021</td>\n      <td>116</td>\n      <td>False</td>\n      <td>1.0</td>\n      <td>1.368148e+18</td>\n      <td>zalando</td>\n      <td>de</td>\n      <td>viel spaß damit eine wahl gewinnen stellt euch...</td>\n      <td>Viel Spaß, damit eine Wahl gewinnen. Stellt Eu...</td>\n      <td>-0.5994</td>\n      <td>(viel, spaß, damit, eine, wahl, gewinnen, stel...</td>\n      <td>viel spaß damit einen wahl gewinnen stellen si...</td>\n      <td>False</td>\n    </tr>\n    <tr>\n      <th>1</th>\n      <td>4</td>\n      <td>310342425</td>\n      <td>11476</td>\n      <td>AndyBaldauf</td>\n      <td>aber erst wenn sie wieder dürfen playfullness</td>\n      <td>0</td>\n      <td>Thurgau | St. Gallen | Zürich</td>\n      <td>06-Mar-2021</td>\n      <td>1848</td>\n      <td>False</td>\n      <td>0.0</td>\n      <td>1.368146e+18</td>\n      <td>zalando</td>\n      <td>de</td>\n      <td>aber erst wenn sie wieder dürfen playfullness</td>\n      <td>aber erst wenn sie wieder dürfen :-P</td>\n      <td>0.4995</td>\n      <td>(aber, erst, wenn, sie, wieder, dürfen, playfu...</td>\n      <td>aber erst wenn ich wieder dürfen playfullness</td>\n      <td>False</td>\n    </tr>\n    <tr>\n      <th>2</th>\n      <td>10</td>\n      <td>793418126532734976</td>\n      <td>521</td>\n      <td>MILESmobility</td>\n      <td>good news alle interessierten mitarbeiterinnen...</td>\n      <td>0</td>\n      <td>Berlin, Deutschland</td>\n      <td>05-Mar-2021</td>\n      <td>766</td>\n      <td>False</td>\n      <td>8.0</td>\n      <td>NaN</td>\n      <td>zalando</td>\n      <td>de</td>\n      <td>good news alle interessierten mitarbeiterinnen...</td>\n      <td>Good News! Alle interessierten MitarbeiterInne...</td>\n      <td>-0.7568</td>\n      <td>(good, news, alle, interessierten, mitarbeiter...</td>\n      <td>good news all interessieren mitarbeiterinnen d...</td>\n      <td>False</td>\n    </tr>\n    <tr>\n      <th>3</th>\n      <td>11</td>\n      <td>1119231287078858752</td>\n      <td>23</td>\n      <td>pici1303</td>\n      <td>ich weiß dass der schein da rein muss aber ist...</td>\n      <td>0</td>\n      <td></td>\n      <td>04-Mar-2021</td>\n      <td>0</td>\n      <td>False</td>\n      <td>0.0</td>\n      <td>1.367531e+18</td>\n      <td>zalando</td>\n      <td>de</td>\n      <td>ich weiß dass der schein rein muss aber ist mi...</td>\n      <td>Ich weiß dass der Schein rein muss aber was is...</td>\n      <td>0.0000</td>\n      <td>(ich, weiß, dass, der, schein, rein, muss, abe...</td>\n      <td>ich weiß dass der schein rein muss aber sein m...</td>\n      <td>False</td>\n    </tr>\n    <tr>\n      <th>4</th>\n      <td>12</td>\n      <td>1119231287078858752</td>\n      <td>23</td>\n      <td>pici1303</td>\n      <td>ich hab mich nur gefragt wofür dieser extra co...</td>\n      <td>0</td>\n      <td></td>\n      <td>04-Mar-2021</td>\n      <td>0</td>\n      <td>False</td>\n      <td>0.0</td>\n      <td>1.367528e+18</td>\n      <td>zalando</td>\n      <td>de</td>\n      <td>ich hab mich nur gefragt wofür dieser extra co...</td>\n      <td>Ich hab mich nur gefragt wofür dieser extra Co...</td>\n      <td>0.0000</td>\n      <td>(ich, hab, mich, nur, gefragt, wofür, dieser, ...</td>\n      <td>ich hab sich nur fragen wofür dies extra code ...</td>\n      <td>False</td>\n    </tr>\n  </tbody>\n</table>\n</div>"
     },
     "metadata": {},
     "execution_count": 7
    }
   ],
   "source": [
    "data.head()"
   ]
  },
  {
   "cell_type": "code",
   "execution_count": 8,
   "metadata": {},
   "outputs": [
    {
     "output_type": "stream",
     "name": "stdout",
     "text": [
      "1 aber erst wenn ich wieder dürfen playfullness\n2 good news all interessieren mitarbeiterinnen der berliner erhalten täglich einen mobilitätsbudget höhe von der ich für fahrten mit miles einlösen können danke der der ganze aktion sponsern\n3 ich weiß dass der schein rein muss aber sein mit der einzeln code auf der bild der sein einen aufkleber muss der auch auf der paket\n4 ich hab sich nur fragen wofür dies extra code sein\n5 ich hab doch schon der rücksendeschein draufgeklebt der sein mit dabei\n6 bestellen heute noch immer nicht eintreffen service\n7 der sein echt zum mäusemelken\n8 solche lose\n9 wie gut dass ich auch genau der nicht tun habe\n10 hey meinen bestellung werden nie aus der packstation entnehmen und sein nachweislich zurücksenden werden dennoch bekommen ich von sich einen mahnung soll der 😡 😡 😡 zalandofail\n11 hallo wann haben mein endlich ein rabatt code für sich 😭 😭 😫 😫 ich sein auf entzug ich shoppen zalandopluskunde\n12 habe gerade beim mitbewerber bestellen und zahlen dort auch wenig\n13 und wie kommen ich der von sich bestellen sein\n14 brauch einen ballkleid möglichst billigen und möglichst schnellen finden auf asos irgendwie nichts idk haben jemand idee\n15 omg hasse asos für der regel haben einmal kaputt ohrringe bekommen\n16 gratulieren endlich mal information über der asos profifußballer\n17 schon der geraten angekarrt werden glauben man hacken und man sein krieg und wie dies sondereinheitsbullen provokativ harmlos ampel stehend passantin plötzlich zur seite dringen weil ich aufeinmal genau dies stelle langwollen asos dies machoarschlöcher\n18 farfetch oder asos\n19 ich können schon wieder bei asos bestellen\n"
     ]
    }
   ],
   "source": [
    "for i, value in data[1:20].lemma.iteritems():\n",
    "    print(i, value)"
   ]
  },
  {
   "cell_type": "code",
   "execution_count": 28,
   "metadata": {},
   "outputs": [],
   "source": [
    "def define_team(df):\n",
    "    pattern_payment = r\"(packstation|mahnung|rechnung|zahlung|ausgleich|schlussrechnung|kassenbeleg|quittung|kassenbon|budget|voranschlag|belastung|abrechnung|aufstellung|summe|betrag|abgabe|auszahlung|gebühr|vorkasse|kreditkarte|debit|schulden)\"\n",
    "    pattern_logistics= r\"(|transport|lager|lagerung|verkehr|verpackung|logistik|einhaltung|erfüllung|beachtung|warten|termin|bestand)\"\n",
    "    pattern_weather = r\"(Iembot|Iem)\"\n",
    "    pattern_fit = r\"(\\ssize|fit|small|large|medium|schnitt|sitz|größe|art|style|form|zuschnitt|gestalt|ausführung)\"\n",
    "    pattern_catalog = r\"(katalog|warenkatalog|übersicht|verzeichnis|stichwortverzeichnis)\"\n",
    "    pattern_reco = r\"(empfehlung|tipp|hilfe|hilfestellung|beistand|lehre|hinweis|rat|ratschlag)\"\n",
    "    pattern_sust = r\"(nachhaltigkeit|umwelt|umweltfreundilich|zukunfsfähig|umgebung|natur|naturschutz|schutz|klima|klimawandel|nachhaltig)\"\n",
    "    pattern_outfit = r\"(mode|fashion|aufzug|look|lifestyle|anzug|stil)\"\n",
    "\n",
    "    df['team'] = 'Other'\n",
    "    for i, row in df.iterrows():\n",
    "        \n",
    "        match_logistics = re.findall(pattern_logistics, row.lemma, re.IGNORECASE) \n",
    "        if len(match_logistics) > 0:\n",
    "            df['team'].loc[i] = 'Logistics'\n",
    "\n",
    "        match_payment = re.findall(pattern_payment, row.lemma, re.IGNORECASE) \n",
    "        if len(match_payment) > 0:\n",
    "            df['team'].loc[i] = 'PayBill'\n",
    "\n",
    "        match_weather = re.findall(pattern_weather, row['name'], re.IGNORECASE) \n",
    "        if len(match_weather) > 0:\n",
    "            df['team'].loc[i] = 'Weather'\n",
    "\n",
    "        match_fit = re.findall(pattern_fit, row.lemma, re.IGNORECASE) \n",
    "        if len(match_fit) > 0:\n",
    "            df['team'].loc[i] = 'SizeFit'\n",
    "\n",
    "        match_catalog = re.findall(pattern_catalog, row.lemma, re.IGNORECASE) \n",
    "        if len(match_fit) > 0:\n",
    "            df['team'].loc[i] = 'Catalog'\n",
    "        \n",
    "        match_reco = re.findall(pattern_reco, row.lemma, re.IGNORECASE) \n",
    "        if len(match_reco) > 0:\n",
    "            df['team'].loc[i] = 'Reco'\n",
    "\n",
    "\n",
    "        match_sust = re.findall(pattern_sust, row.lemma, re.IGNORECASE) \n",
    "        if len(match_sust) > 0:\n",
    "            df['team'].loc[i] = 'Sust'\n",
    "\n",
    "        match_outfit = re.findall(pattern_outfit, row.lemma, re.IGNORECASE) \n",
    "        if len(match_outfit) > 0:\n",
    "            df['team'].loc[i] = 'Outfit'\n",
    "\n",
    "    return df"
   ]
  },
  {
   "cell_type": "code",
   "execution_count": 29,
   "metadata": {},
   "outputs": [
    {
     "output_type": "stream",
     "name": "stderr",
     "text": [
      "C:\\Users\\deniz\\AppData\\Local\\Packages\\PythonSoftwareFoundation.Python.3.9_qbz5n2kfra8p0\\LocalCache\\local-packages\\Python39\\site-packages\\pandas\\core\\indexing.py:1637: SettingWithCopyWarning: \nA value is trying to be set on a copy of a slice from a DataFrame\n\nSee the caveats in the documentation: https://pandas.pydata.org/pandas-docs/stable/user_guide/indexing.html#returning-a-view-versus-a-copy\n  self._setitem_single_block(indexer, value, name)\n"
     ]
    }
   ],
   "source": [
    "teams = define_team(data)"
   ]
  },
  {
   "cell_type": "code",
   "execution_count": 30,
   "metadata": {},
   "outputs": [
    {
     "output_type": "execute_result",
     "data": {
      "text/plain": [
       "   index              user_id  user_statuses           name  \\\n",
       "0      1  1079317443523297280          12303     Boulder667   \n",
       "1      4            310342425          11476    AndyBaldauf   \n",
       "2     10   793418126532734976            521  MILESmobility   \n",
       "3     11  1119231287078858752             23       pici1303   \n",
       "4     12  1119231287078858752             23       pici1303   \n",
       "\n",
       "                                               tweet  retweets  \\\n",
       "0  viel spaß damit eine wahl zu gewinnen stellt e...         0   \n",
       "1      aber erst wenn sie wieder dürfen playfullness         0   \n",
       "2  good news alle interessierten mitarbeiterinnen...         0   \n",
       "3  ich weiß dass der schein da rein muss aber ist...         0   \n",
       "4  ich hab mich nur gefragt wofür dieser extra co...         0   \n",
       "\n",
       "                        location      created  followers  is_user_verified  \\\n",
       "0             Liverpool, England  07-Mar-2021        116             False   \n",
       "1  Thurgau | St. Gallen | Zürich  06-Mar-2021       1848             False   \n",
       "2            Berlin, Deutschland  05-Mar-2021        766             False   \n",
       "3                                 04-Mar-2021          0             False   \n",
       "4                                 04-Mar-2021          0             False   \n",
       "\n",
       "   ...  in_reply_to_status_id  keyword language  \\\n",
       "0  ...           1.368148e+18  zalando       de   \n",
       "1  ...           1.368146e+18  zalando       de   \n",
       "2  ...                    NaN  zalando       de   \n",
       "3  ...           1.367531e+18  zalando       de   \n",
       "4  ...           1.367528e+18  zalando       de   \n",
       "\n",
       "                                               clean  \\\n",
       "0  viel spaß damit eine wahl gewinnen stellt euch...   \n",
       "1      aber erst wenn sie wieder dürfen playfullness   \n",
       "2  good news alle interessierten mitarbeiterinnen...   \n",
       "3  ich weiß dass der schein rein muss aber ist mi...   \n",
       "4  ich hab mich nur gefragt wofür dieser extra co...   \n",
       "\n",
       "                                         clean_vader compound  \\\n",
       "0  Viel Spaß, damit eine Wahl gewinnen. Stellt Eu...  -0.5994   \n",
       "1               aber erst wenn sie wieder dürfen :-P   0.4995   \n",
       "2  Good News! Alle interessierten MitarbeiterInne...  -0.7568   \n",
       "3  Ich weiß dass der Schein rein muss aber was is...   0.0000   \n",
       "4  Ich hab mich nur gefragt wofür dieser extra Co...   0.0000   \n",
       "\n",
       "                                                 lem  \\\n",
       "0  (viel, spaß, damit, eine, wahl, gewinnen, stel...   \n",
       "1  (aber, erst, wenn, sie, wieder, dürfen, playfu...   \n",
       "2  (good, news, alle, interessierten, mitarbeiter...   \n",
       "3  (ich, weiß, dass, der, schein, rein, muss, abe...   \n",
       "4  (ich, hab, mich, nur, gefragt, wofür, dieser, ...   \n",
       "\n",
       "                                               lemma    bot       team  \n",
       "0  viel spaß damit einen wahl gewinnen stellen si...  False       Reco  \n",
       "1      aber erst wenn ich wieder dürfen playfullness  False  Logistics  \n",
       "2  good news all interessieren mitarbeiterinnen d...  False    PayBill  \n",
       "3  ich weiß dass der schein rein muss aber sein m...  False  Logistics  \n",
       "4  ich hab sich nur fragen wofür dies extra code ...  False  Logistics  \n",
       "\n",
       "[5 rows x 21 columns]"
      ],
      "text/html": "<div>\n<style scoped>\n    .dataframe tbody tr th:only-of-type {\n        vertical-align: middle;\n    }\n\n    .dataframe tbody tr th {\n        vertical-align: top;\n    }\n\n    .dataframe thead th {\n        text-align: right;\n    }\n</style>\n<table border=\"1\" class=\"dataframe\">\n  <thead>\n    <tr style=\"text-align: right;\">\n      <th></th>\n      <th>index</th>\n      <th>user_id</th>\n      <th>user_statuses</th>\n      <th>name</th>\n      <th>tweet</th>\n      <th>retweets</th>\n      <th>location</th>\n      <th>created</th>\n      <th>followers</th>\n      <th>is_user_verified</th>\n      <th>...</th>\n      <th>in_reply_to_status_id</th>\n      <th>keyword</th>\n      <th>language</th>\n      <th>clean</th>\n      <th>clean_vader</th>\n      <th>compound</th>\n      <th>lem</th>\n      <th>lemma</th>\n      <th>bot</th>\n      <th>team</th>\n    </tr>\n  </thead>\n  <tbody>\n    <tr>\n      <th>0</th>\n      <td>1</td>\n      <td>1079317443523297280</td>\n      <td>12303</td>\n      <td>Boulder667</td>\n      <td>viel spaß damit eine wahl zu gewinnen stellt e...</td>\n      <td>0</td>\n      <td>Liverpool, England</td>\n      <td>07-Mar-2021</td>\n      <td>116</td>\n      <td>False</td>\n      <td>...</td>\n      <td>1.368148e+18</td>\n      <td>zalando</td>\n      <td>de</td>\n      <td>viel spaß damit eine wahl gewinnen stellt euch...</td>\n      <td>Viel Spaß, damit eine Wahl gewinnen. Stellt Eu...</td>\n      <td>-0.5994</td>\n      <td>(viel, spaß, damit, eine, wahl, gewinnen, stel...</td>\n      <td>viel spaß damit einen wahl gewinnen stellen si...</td>\n      <td>False</td>\n      <td>Reco</td>\n    </tr>\n    <tr>\n      <th>1</th>\n      <td>4</td>\n      <td>310342425</td>\n      <td>11476</td>\n      <td>AndyBaldauf</td>\n      <td>aber erst wenn sie wieder dürfen playfullness</td>\n      <td>0</td>\n      <td>Thurgau | St. Gallen | Zürich</td>\n      <td>06-Mar-2021</td>\n      <td>1848</td>\n      <td>False</td>\n      <td>...</td>\n      <td>1.368146e+18</td>\n      <td>zalando</td>\n      <td>de</td>\n      <td>aber erst wenn sie wieder dürfen playfullness</td>\n      <td>aber erst wenn sie wieder dürfen :-P</td>\n      <td>0.4995</td>\n      <td>(aber, erst, wenn, sie, wieder, dürfen, playfu...</td>\n      <td>aber erst wenn ich wieder dürfen playfullness</td>\n      <td>False</td>\n      <td>Logistics</td>\n    </tr>\n    <tr>\n      <th>2</th>\n      <td>10</td>\n      <td>793418126532734976</td>\n      <td>521</td>\n      <td>MILESmobility</td>\n      <td>good news alle interessierten mitarbeiterinnen...</td>\n      <td>0</td>\n      <td>Berlin, Deutschland</td>\n      <td>05-Mar-2021</td>\n      <td>766</td>\n      <td>False</td>\n      <td>...</td>\n      <td>NaN</td>\n      <td>zalando</td>\n      <td>de</td>\n      <td>good news alle interessierten mitarbeiterinnen...</td>\n      <td>Good News! Alle interessierten MitarbeiterInne...</td>\n      <td>-0.7568</td>\n      <td>(good, news, alle, interessierten, mitarbeiter...</td>\n      <td>good news all interessieren mitarbeiterinnen d...</td>\n      <td>False</td>\n      <td>PayBill</td>\n    </tr>\n    <tr>\n      <th>3</th>\n      <td>11</td>\n      <td>1119231287078858752</td>\n      <td>23</td>\n      <td>pici1303</td>\n      <td>ich weiß dass der schein da rein muss aber ist...</td>\n      <td>0</td>\n      <td></td>\n      <td>04-Mar-2021</td>\n      <td>0</td>\n      <td>False</td>\n      <td>...</td>\n      <td>1.367531e+18</td>\n      <td>zalando</td>\n      <td>de</td>\n      <td>ich weiß dass der schein rein muss aber ist mi...</td>\n      <td>Ich weiß dass der Schein rein muss aber was is...</td>\n      <td>0.0000</td>\n      <td>(ich, weiß, dass, der, schein, rein, muss, abe...</td>\n      <td>ich weiß dass der schein rein muss aber sein m...</td>\n      <td>False</td>\n      <td>Logistics</td>\n    </tr>\n    <tr>\n      <th>4</th>\n      <td>12</td>\n      <td>1119231287078858752</td>\n      <td>23</td>\n      <td>pici1303</td>\n      <td>ich hab mich nur gefragt wofür dieser extra co...</td>\n      <td>0</td>\n      <td></td>\n      <td>04-Mar-2021</td>\n      <td>0</td>\n      <td>False</td>\n      <td>...</td>\n      <td>1.367528e+18</td>\n      <td>zalando</td>\n      <td>de</td>\n      <td>ich hab mich nur gefragt wofür dieser extra co...</td>\n      <td>Ich hab mich nur gefragt wofür dieser extra Co...</td>\n      <td>0.0000</td>\n      <td>(ich, hab, mich, nur, gefragt, wofür, dieser, ...</td>\n      <td>ich hab sich nur fragen wofür dies extra code ...</td>\n      <td>False</td>\n      <td>Logistics</td>\n    </tr>\n  </tbody>\n</table>\n<p>5 rows × 21 columns</p>\n</div>"
     },
     "metadata": {},
     "execution_count": 30
    }
   ],
   "source": [
    "teams.head()"
   ]
  },
  {
   "cell_type": "code",
   "execution_count": 31,
   "metadata": {},
   "outputs": [
    {
     "output_type": "execute_result",
     "data": {
      "text/plain": [
       "(2681, 21)"
      ]
     },
     "metadata": {},
     "execution_count": 31
    }
   ],
   "source": [
    "teams.shape"
   ]
  },
  {
   "cell_type": "code",
   "execution_count": 32,
   "metadata": {},
   "outputs": [
    {
     "output_type": "execute_result",
     "data": {
      "text/plain": [
       "Logistics    2004\n",
       "Catalog       323\n",
       "Outfit        184\n",
       "Reco           76\n",
       "PayBill        53\n",
       "Sust           36\n",
       "Weather         5\n",
       "Name: team, dtype: int64"
      ]
     },
     "metadata": {},
     "execution_count": 32
    }
   ],
   "source": [
    "teams.team.value_counts()"
   ]
  },
  {
   "cell_type": "code",
   "execution_count": 33,
   "metadata": {},
   "outputs": [
    {
     "output_type": "execute_result",
     "data": {
      "text/plain": [
       "0       viel spaß damit einen wahl gewinnen stellen si...\n",
       "1           aber erst wenn ich wieder dürfen playfullness\n",
       "2       good news all interessieren mitarbeiterinnen d...\n",
       "3       ich weiß dass der schein rein muss aber sein m...\n",
       "4       ich hab sich nur fragen wofür dies extra code ...\n",
       "                              ...                        \n",
       "2704    gehen eigentlich bei der zalando werbung der f...\n",
       "2705    signalwirkung für der gesamt branche der berli...\n",
       "2706    hauptsach ich bstell fluffy badmäntel zalando ...\n",
       "2707    und einen ander band sein nix bdig für xiaomi ...\n",
       "2708    als der pfeifen nen laden gehen werden zalando...\n",
       "Name: lemma, Length: 2681, dtype: object"
      ]
     },
     "metadata": {},
     "execution_count": 33
    }
   ],
   "source": [
    "teams.lemma"
   ]
  },
  {
   "cell_type": "code",
   "execution_count": 34,
   "metadata": {},
   "outputs": [
    {
     "output_type": "stream",
     "name": "stdout",
     "text": [
      "2076 ansgarhasstdich ja eben asos zara usw sind halt schon scheise produziert\n942 OHN_Infoportal früher vogel bird black small square fehlerhafte zustellungen teuer sind sie für händler money bag black small square bosch des gesamtumsatzes durch ecommerce dollar banknote black small square elfter outlet store eröffnet dress backhand index pointing right onlinehandel\n1085 Digitalnaiv mal schnell einen pullover kaufen komisch dass ein pullover bei amazon oder zalando günstiger sein als direkt beim hersteller ecommerce onlinehandel\n508 aprincessofhell ich persönlich finde die von asos schöner\n737 Mina87839733 ich habe email bekommen von zalando\n1945 PinkTink1913 expedia zalando audible pampers werbeblock eben bei pro firmen die mich als kunden nicht mehr benötigen gut die pampers zeiten sind vorbei und die bessere zielgruppe mit sicherheit poc aber sonst und das war jetzt nur eine momentaufnahme\n1414 bwetswimwear bwet swimwear bei zalandoentdecke alle highlights von bwet swimwear auf einen blickaktuelle trends ✓ riesige auswahl ✓ schnelle lieferung\n809 Handelskoenig e zalando zwei antizyklische chancen\n348 hloluis warum bekomme ich meine asos rückerstattung zum teil aufs bankkonto und zum teil aufs paypal konto\n2197 tugba58480397 na los ihr fotzen möchte zum ostern einen zalando gutschein oder amazon zack zack\n"
     ]
    }
   ],
   "source": [
    "#testing results by checking random 10 tweets\n",
    "sample = teams[teams.team == 'Logistics'].sample(n=10)\n",
    "for i, row in sample.iterrows():\n",
    "    print(str(i) + ' ' + sample.name[i] + ' ' + sample.tweet[i])"
   ]
  },
  {
   "cell_type": "code",
   "execution_count": 35,
   "metadata": {},
   "outputs": [
    {
     "output_type": "execute_result",
     "data": {
      "text/plain": [
       "<AxesSubplot:xlabel='team', ylabel='count'>"
      ]
     },
     "metadata": {},
     "execution_count": 35
    },
    {
     "output_type": "display_data",
     "data": {
      "text/plain": "<Figure size 432x288 with 1 Axes>",
      "image/svg+xml": "<?xml version=\"1.0\" encoding=\"utf-8\" standalone=\"no\"?>\r\n<!DOCTYPE svg PUBLIC \"-//W3C//DTD SVG 1.1//EN\"\r\n  \"http://www.w3.org/Graphics/SVG/1.1/DTD/svg11.dtd\">\r\n<svg height=\"262.19625pt\" version=\"1.1\" viewBox=\"0 0 395.328125 262.19625\" width=\"395.328125pt\" xmlns=\"http://www.w3.org/2000/svg\" xmlns:xlink=\"http://www.w3.org/1999/xlink\">\r\n <metadata>\r\n  <rdf:RDF xmlns:cc=\"http://creativecommons.org/ns#\" xmlns:dc=\"http://purl.org/dc/elements/1.1/\" xmlns:rdf=\"http://www.w3.org/1999/02/22-rdf-syntax-ns#\">\r\n   <cc:Work>\r\n    <dc:type rdf:resource=\"http://purl.org/dc/dcmitype/StillImage\"/>\r\n    <dc:date>2021-06-24T11:33:20.422753</dc:date>\r\n    <dc:format>image/svg+xml</dc:format>\r\n    <dc:creator>\r\n     <cc:Agent>\r\n      <dc:title>Matplotlib v3.4.2, https://matplotlib.org/</dc:title>\r\n     </cc:Agent>\r\n    </dc:creator>\r\n   </cc:Work>\r\n  </rdf:RDF>\r\n </metadata>\r\n <defs>\r\n  <style type=\"text/css\">*{stroke-linecap:butt;stroke-linejoin:round;}</style>\r\n </defs>\r\n <g id=\"figure_1\">\r\n  <g id=\"patch_1\">\r\n   <path d=\"M 0 262.19625 \r\nL 395.328125 262.19625 \r\nL 395.328125 0 \r\nL 0 0 \r\nz\r\n\" style=\"fill:none;\"/>\r\n  </g>\r\n  <g id=\"axes_1\">\r\n   <g id=\"patch_2\">\r\n    <path d=\"M 53.328125 224.64 \r\nL 388.128125 224.64 \r\nL 388.128125 7.2 \r\nL 53.328125 7.2 \r\nz\r\n\" style=\"fill:#ffffff;\"/>\r\n   </g>\r\n   <g id=\"patch_3\">\r\n    <path clip-path=\"url(#p3ce1bdd1fa)\" d=\"M 58.110982 224.64 \r\nL 96.373839 224.64 \r\nL 96.373839 216.78645 \r\nL 58.110982 216.78645 \r\nz\r\n\" style=\"fill:#3274a1;\"/>\r\n   </g>\r\n   <g id=\"patch_4\">\r\n    <path clip-path=\"url(#p3ce1bdd1fa)\" d=\"M 105.939554 224.64 \r\nL 144.202411 224.64 \r\nL 144.202411 17.554286 \r\nL 105.939554 17.554286 \r\nz\r\n\" style=\"fill:#e1812c;\"/>\r\n   </g>\r\n   <g id=\"patch_5\">\r\n    <path clip-path=\"url(#p3ce1bdd1fa)\" d=\"M 153.768125 224.64 \r\nL 192.030982 224.64 \r\nL 192.030982 219.163182 \r\nL 153.768125 219.163182 \r\nz\r\n\" style=\"fill:#3a923a;\"/>\r\n   </g>\r\n   <g id=\"patch_6\">\r\n    <path clip-path=\"url(#p3ce1bdd1fa)\" d=\"M 201.596696 224.64 \r\nL 239.859554 224.64 \r\nL 239.859554 191.262412 \r\nL 201.596696 191.262412 \r\nz\r\n\" style=\"fill:#c03d3e;\"/>\r\n   </g>\r\n   <g id=\"patch_7\">\r\n    <path clip-path=\"url(#p3ce1bdd1fa)\" d=\"M 249.425268 224.64 \r\nL 287.688125 224.64 \r\nL 287.688125 205.626142 \r\nL 249.425268 205.626142 \r\nz\r\n\" style=\"fill:#9372b2;\"/>\r\n   </g>\r\n   <g id=\"patch_8\">\r\n    <path clip-path=\"url(#p3ce1bdd1fa)\" d=\"M 297.253839 224.64 \r\nL 335.516696 224.64 \r\nL 335.516696 220.919897 \r\nL 297.253839 220.919897 \r\nz\r\n\" style=\"fill:#845b53;\"/>\r\n   </g>\r\n   <g id=\"patch_9\">\r\n    <path clip-path=\"url(#p3ce1bdd1fa)\" d=\"M 345.082411 224.64 \r\nL 383.345268 224.64 \r\nL 383.345268 224.123319 \r\nL 345.082411 224.123319 \r\nz\r\n\" style=\"fill:#d684bd;\"/>\r\n   </g>\r\n   <g id=\"matplotlib.axis_1\">\r\n    <g id=\"xtick_1\">\r\n     <g id=\"line2d_1\">\r\n      <defs>\r\n       <path d=\"M 0 0 \r\nL 0 3.5 \r\n\" id=\"mca5529579c\" style=\"stroke:#000000;stroke-width:0.8;\"/>\r\n      </defs>\r\n      <g>\r\n       <use style=\"stroke:#000000;stroke-width:0.8;\" x=\"77.242411\" xlink:href=\"#mca5529579c\" y=\"224.64\"/>\r\n      </g>\r\n     </g>\r\n     <g id=\"text_1\">\r\n      <!-- Reco -->\r\n      <g transform=\"translate(65.108036 239.238437)scale(0.1 -0.1)\">\r\n       <defs>\r\n        <path d=\"M 2841 2188 \r\nQ 3044 2119 3236 1894 \r\nQ 3428 1669 3622 1275 \r\nL 4263 0 \r\nL 3584 0 \r\nL 2988 1197 \r\nQ 2756 1666 2539 1819 \r\nQ 2322 1972 1947 1972 \r\nL 1259 1972 \r\nL 1259 0 \r\nL 628 0 \r\nL 628 4666 \r\nL 2053 4666 \r\nQ 2853 4666 3247 4331 \r\nQ 3641 3997 3641 3322 \r\nQ 3641 2881 3436 2590 \r\nQ 3231 2300 2841 2188 \r\nz\r\nM 1259 4147 \r\nL 1259 2491 \r\nL 2053 2491 \r\nQ 2509 2491 2742 2702 \r\nQ 2975 2913 2975 3322 \r\nQ 2975 3731 2742 3939 \r\nQ 2509 4147 2053 4147 \r\nL 1259 4147 \r\nz\r\n\" id=\"DejaVuSans-52\" transform=\"scale(0.015625)\"/>\r\n        <path d=\"M 3597 1894 \r\nL 3597 1613 \r\nL 953 1613 \r\nQ 991 1019 1311 708 \r\nQ 1631 397 2203 397 \r\nQ 2534 397 2845 478 \r\nQ 3156 559 3463 722 \r\nL 3463 178 \r\nQ 3153 47 2828 -22 \r\nQ 2503 -91 2169 -91 \r\nQ 1331 -91 842 396 \r\nQ 353 884 353 1716 \r\nQ 353 2575 817 3079 \r\nQ 1281 3584 2069 3584 \r\nQ 2775 3584 3186 3129 \r\nQ 3597 2675 3597 1894 \r\nz\r\nM 3022 2063 \r\nQ 3016 2534 2758 2815 \r\nQ 2500 3097 2075 3097 \r\nQ 1594 3097 1305 2825 \r\nQ 1016 2553 972 2059 \r\nL 3022 2063 \r\nz\r\n\" id=\"DejaVuSans-65\" transform=\"scale(0.015625)\"/>\r\n        <path d=\"M 3122 3366 \r\nL 3122 2828 \r\nQ 2878 2963 2633 3030 \r\nQ 2388 3097 2138 3097 \r\nQ 1578 3097 1268 2742 \r\nQ 959 2388 959 1747 \r\nQ 959 1106 1268 751 \r\nQ 1578 397 2138 397 \r\nQ 2388 397 2633 464 \r\nQ 2878 531 3122 666 \r\nL 3122 134 \r\nQ 2881 22 2623 -34 \r\nQ 2366 -91 2075 -91 \r\nQ 1284 -91 818 406 \r\nQ 353 903 353 1747 \r\nQ 353 2603 823 3093 \r\nQ 1294 3584 2113 3584 \r\nQ 2378 3584 2631 3529 \r\nQ 2884 3475 3122 3366 \r\nz\r\n\" id=\"DejaVuSans-63\" transform=\"scale(0.015625)\"/>\r\n        <path d=\"M 1959 3097 \r\nQ 1497 3097 1228 2736 \r\nQ 959 2375 959 1747 \r\nQ 959 1119 1226 758 \r\nQ 1494 397 1959 397 \r\nQ 2419 397 2687 759 \r\nQ 2956 1122 2956 1747 \r\nQ 2956 2369 2687 2733 \r\nQ 2419 3097 1959 3097 \r\nz\r\nM 1959 3584 \r\nQ 2709 3584 3137 3096 \r\nQ 3566 2609 3566 1747 \r\nQ 3566 888 3137 398 \r\nQ 2709 -91 1959 -91 \r\nQ 1206 -91 779 398 \r\nQ 353 888 353 1747 \r\nQ 353 2609 779 3096 \r\nQ 1206 3584 1959 3584 \r\nz\r\n\" id=\"DejaVuSans-6f\" transform=\"scale(0.015625)\"/>\r\n       </defs>\r\n       <use xlink:href=\"#DejaVuSans-52\"/>\r\n       <use x=\"64.982422\" xlink:href=\"#DejaVuSans-65\"/>\r\n       <use x=\"126.505859\" xlink:href=\"#DejaVuSans-63\"/>\r\n       <use x=\"181.486328\" xlink:href=\"#DejaVuSans-6f\"/>\r\n      </g>\r\n     </g>\r\n    </g>\r\n    <g id=\"xtick_2\">\r\n     <g id=\"line2d_2\">\r\n      <g>\r\n       <use style=\"stroke:#000000;stroke-width:0.8;\" x=\"125.070982\" xlink:href=\"#mca5529579c\" y=\"224.64\"/>\r\n      </g>\r\n     </g>\r\n     <g id=\"text_2\">\r\n      <!-- Logistics -->\r\n      <g transform=\"translate(103.442076 239.238437)scale(0.1 -0.1)\">\r\n       <defs>\r\n        <path d=\"M 628 4666 \r\nL 1259 4666 \r\nL 1259 531 \r\nL 3531 531 \r\nL 3531 0 \r\nL 628 0 \r\nL 628 4666 \r\nz\r\n\" id=\"DejaVuSans-4c\" transform=\"scale(0.015625)\"/>\r\n        <path d=\"M 2906 1791 \r\nQ 2906 2416 2648 2759 \r\nQ 2391 3103 1925 3103 \r\nQ 1463 3103 1205 2759 \r\nQ 947 2416 947 1791 \r\nQ 947 1169 1205 825 \r\nQ 1463 481 1925 481 \r\nQ 2391 481 2648 825 \r\nQ 2906 1169 2906 1791 \r\nz\r\nM 3481 434 \r\nQ 3481 -459 3084 -895 \r\nQ 2688 -1331 1869 -1331 \r\nQ 1566 -1331 1297 -1286 \r\nQ 1028 -1241 775 -1147 \r\nL 775 -588 \r\nQ 1028 -725 1275 -790 \r\nQ 1522 -856 1778 -856 \r\nQ 2344 -856 2625 -561 \r\nQ 2906 -266 2906 331 \r\nL 2906 616 \r\nQ 2728 306 2450 153 \r\nQ 2172 0 1784 0 \r\nQ 1141 0 747 490 \r\nQ 353 981 353 1791 \r\nQ 353 2603 747 3093 \r\nQ 1141 3584 1784 3584 \r\nQ 2172 3584 2450 3431 \r\nQ 2728 3278 2906 2969 \r\nL 2906 3500 \r\nL 3481 3500 \r\nL 3481 434 \r\nz\r\n\" id=\"DejaVuSans-67\" transform=\"scale(0.015625)\"/>\r\n        <path d=\"M 603 3500 \r\nL 1178 3500 \r\nL 1178 0 \r\nL 603 0 \r\nL 603 3500 \r\nz\r\nM 603 4863 \r\nL 1178 4863 \r\nL 1178 4134 \r\nL 603 4134 \r\nL 603 4863 \r\nz\r\n\" id=\"DejaVuSans-69\" transform=\"scale(0.015625)\"/>\r\n        <path d=\"M 2834 3397 \r\nL 2834 2853 \r\nQ 2591 2978 2328 3040 \r\nQ 2066 3103 1784 3103 \r\nQ 1356 3103 1142 2972 \r\nQ 928 2841 928 2578 \r\nQ 928 2378 1081 2264 \r\nQ 1234 2150 1697 2047 \r\nL 1894 2003 \r\nQ 2506 1872 2764 1633 \r\nQ 3022 1394 3022 966 \r\nQ 3022 478 2636 193 \r\nQ 2250 -91 1575 -91 \r\nQ 1294 -91 989 -36 \r\nQ 684 19 347 128 \r\nL 347 722 \r\nQ 666 556 975 473 \r\nQ 1284 391 1588 391 \r\nQ 1994 391 2212 530 \r\nQ 2431 669 2431 922 \r\nQ 2431 1156 2273 1281 \r\nQ 2116 1406 1581 1522 \r\nL 1381 1569 \r\nQ 847 1681 609 1914 \r\nQ 372 2147 372 2553 \r\nQ 372 3047 722 3315 \r\nQ 1072 3584 1716 3584 \r\nQ 2034 3584 2315 3537 \r\nQ 2597 3491 2834 3397 \r\nz\r\n\" id=\"DejaVuSans-73\" transform=\"scale(0.015625)\"/>\r\n        <path d=\"M 1172 4494 \r\nL 1172 3500 \r\nL 2356 3500 \r\nL 2356 3053 \r\nL 1172 3053 \r\nL 1172 1153 \r\nQ 1172 725 1289 603 \r\nQ 1406 481 1766 481 \r\nL 2356 481 \r\nL 2356 0 \r\nL 1766 0 \r\nQ 1100 0 847 248 \r\nQ 594 497 594 1153 \r\nL 594 3053 \r\nL 172 3053 \r\nL 172 3500 \r\nL 594 3500 \r\nL 594 4494 \r\nL 1172 4494 \r\nz\r\n\" id=\"DejaVuSans-74\" transform=\"scale(0.015625)\"/>\r\n       </defs>\r\n       <use xlink:href=\"#DejaVuSans-4c\"/>\r\n       <use x=\"53.962891\" xlink:href=\"#DejaVuSans-6f\"/>\r\n       <use x=\"115.144531\" xlink:href=\"#DejaVuSans-67\"/>\r\n       <use x=\"178.621094\" xlink:href=\"#DejaVuSans-69\"/>\r\n       <use x=\"206.404297\" xlink:href=\"#DejaVuSans-73\"/>\r\n       <use x=\"258.503906\" xlink:href=\"#DejaVuSans-74\"/>\r\n       <use x=\"297.712891\" xlink:href=\"#DejaVuSans-69\"/>\r\n       <use x=\"325.496094\" xlink:href=\"#DejaVuSans-63\"/>\r\n       <use x=\"380.476562\" xlink:href=\"#DejaVuSans-73\"/>\r\n      </g>\r\n     </g>\r\n    </g>\r\n    <g id=\"xtick_3\">\r\n     <g id=\"line2d_3\">\r\n      <g>\r\n       <use style=\"stroke:#000000;stroke-width:0.8;\" x=\"172.899554\" xlink:href=\"#mca5529579c\" y=\"224.64\"/>\r\n      </g>\r\n     </g>\r\n     <g id=\"text_3\">\r\n      <!-- PayBill -->\r\n      <g transform=\"translate(156.488616 239.238437)scale(0.1 -0.1)\">\r\n       <defs>\r\n        <path d=\"M 1259 4147 \r\nL 1259 2394 \r\nL 2053 2394 \r\nQ 2494 2394 2734 2622 \r\nQ 2975 2850 2975 3272 \r\nQ 2975 3691 2734 3919 \r\nQ 2494 4147 2053 4147 \r\nL 1259 4147 \r\nz\r\nM 628 4666 \r\nL 2053 4666 \r\nQ 2838 4666 3239 4311 \r\nQ 3641 3956 3641 3272 \r\nQ 3641 2581 3239 2228 \r\nQ 2838 1875 2053 1875 \r\nL 1259 1875 \r\nL 1259 0 \r\nL 628 0 \r\nL 628 4666 \r\nz\r\n\" id=\"DejaVuSans-50\" transform=\"scale(0.015625)\"/>\r\n        <path d=\"M 2194 1759 \r\nQ 1497 1759 1228 1600 \r\nQ 959 1441 959 1056 \r\nQ 959 750 1161 570 \r\nQ 1363 391 1709 391 \r\nQ 2188 391 2477 730 \r\nQ 2766 1069 2766 1631 \r\nL 2766 1759 \r\nL 2194 1759 \r\nz\r\nM 3341 1997 \r\nL 3341 0 \r\nL 2766 0 \r\nL 2766 531 \r\nQ 2569 213 2275 61 \r\nQ 1981 -91 1556 -91 \r\nQ 1019 -91 701 211 \r\nQ 384 513 384 1019 \r\nQ 384 1609 779 1909 \r\nQ 1175 2209 1959 2209 \r\nL 2766 2209 \r\nL 2766 2266 \r\nQ 2766 2663 2505 2880 \r\nQ 2244 3097 1772 3097 \r\nQ 1472 3097 1187 3025 \r\nQ 903 2953 641 2809 \r\nL 641 3341 \r\nQ 956 3463 1253 3523 \r\nQ 1550 3584 1831 3584 \r\nQ 2591 3584 2966 3190 \r\nQ 3341 2797 3341 1997 \r\nz\r\n\" id=\"DejaVuSans-61\" transform=\"scale(0.015625)\"/>\r\n        <path d=\"M 2059 -325 \r\nQ 1816 -950 1584 -1140 \r\nQ 1353 -1331 966 -1331 \r\nL 506 -1331 \r\nL 506 -850 \r\nL 844 -850 \r\nQ 1081 -850 1212 -737 \r\nQ 1344 -625 1503 -206 \r\nL 1606 56 \r\nL 191 3500 \r\nL 800 3500 \r\nL 1894 763 \r\nL 2988 3500 \r\nL 3597 3500 \r\nL 2059 -325 \r\nz\r\n\" id=\"DejaVuSans-79\" transform=\"scale(0.015625)\"/>\r\n        <path d=\"M 1259 2228 \r\nL 1259 519 \r\nL 2272 519 \r\nQ 2781 519 3026 730 \r\nQ 3272 941 3272 1375 \r\nQ 3272 1813 3026 2020 \r\nQ 2781 2228 2272 2228 \r\nL 1259 2228 \r\nz\r\nM 1259 4147 \r\nL 1259 2741 \r\nL 2194 2741 \r\nQ 2656 2741 2882 2914 \r\nQ 3109 3088 3109 3444 \r\nQ 3109 3797 2882 3972 \r\nQ 2656 4147 2194 4147 \r\nL 1259 4147 \r\nz\r\nM 628 4666 \r\nL 2241 4666 \r\nQ 2963 4666 3353 4366 \r\nQ 3744 4066 3744 3513 \r\nQ 3744 3084 3544 2831 \r\nQ 3344 2578 2956 2516 \r\nQ 3422 2416 3680 2098 \r\nQ 3938 1781 3938 1306 \r\nQ 3938 681 3513 340 \r\nQ 3088 0 2303 0 \r\nL 628 0 \r\nL 628 4666 \r\nz\r\n\" id=\"DejaVuSans-42\" transform=\"scale(0.015625)\"/>\r\n        <path d=\"M 603 4863 \r\nL 1178 4863 \r\nL 1178 0 \r\nL 603 0 \r\nL 603 4863 \r\nz\r\n\" id=\"DejaVuSans-6c\" transform=\"scale(0.015625)\"/>\r\n       </defs>\r\n       <use xlink:href=\"#DejaVuSans-50\"/>\r\n       <use x=\"55.802734\" xlink:href=\"#DejaVuSans-61\"/>\r\n       <use x=\"117.082031\" xlink:href=\"#DejaVuSans-79\"/>\r\n       <use x=\"176.261719\" xlink:href=\"#DejaVuSans-42\"/>\r\n       <use x=\"244.865234\" xlink:href=\"#DejaVuSans-69\"/>\r\n       <use x=\"272.648438\" xlink:href=\"#DejaVuSans-6c\"/>\r\n       <use x=\"300.431641\" xlink:href=\"#DejaVuSans-6c\"/>\r\n      </g>\r\n     </g>\r\n    </g>\r\n    <g id=\"xtick_4\">\r\n     <g id=\"line2d_4\">\r\n      <g>\r\n       <use style=\"stroke:#000000;stroke-width:0.8;\" x=\"220.728125\" xlink:href=\"#mca5529579c\" y=\"224.64\"/>\r\n      </g>\r\n     </g>\r\n     <g id=\"text_4\">\r\n      <!-- Catalog -->\r\n      <g transform=\"translate(201.525781 239.238437)scale(0.1 -0.1)\">\r\n       <defs>\r\n        <path d=\"M 4122 4306 \r\nL 4122 3641 \r\nQ 3803 3938 3442 4084 \r\nQ 3081 4231 2675 4231 \r\nQ 1875 4231 1450 3742 \r\nQ 1025 3253 1025 2328 \r\nQ 1025 1406 1450 917 \r\nQ 1875 428 2675 428 \r\nQ 3081 428 3442 575 \r\nQ 3803 722 4122 1019 \r\nL 4122 359 \r\nQ 3791 134 3420 21 \r\nQ 3050 -91 2638 -91 \r\nQ 1578 -91 968 557 \r\nQ 359 1206 359 2328 \r\nQ 359 3453 968 4101 \r\nQ 1578 4750 2638 4750 \r\nQ 3056 4750 3426 4639 \r\nQ 3797 4528 4122 4306 \r\nz\r\n\" id=\"DejaVuSans-43\" transform=\"scale(0.015625)\"/>\r\n       </defs>\r\n       <use xlink:href=\"#DejaVuSans-43\"/>\r\n       <use x=\"69.824219\" xlink:href=\"#DejaVuSans-61\"/>\r\n       <use x=\"131.103516\" xlink:href=\"#DejaVuSans-74\"/>\r\n       <use x=\"170.3125\" xlink:href=\"#DejaVuSans-61\"/>\r\n       <use x=\"231.591797\" xlink:href=\"#DejaVuSans-6c\"/>\r\n       <use x=\"259.375\" xlink:href=\"#DejaVuSans-6f\"/>\r\n       <use x=\"320.556641\" xlink:href=\"#DejaVuSans-67\"/>\r\n      </g>\r\n     </g>\r\n    </g>\r\n    <g id=\"xtick_5\">\r\n     <g id=\"line2d_5\">\r\n      <g>\r\n       <use style=\"stroke:#000000;stroke-width:0.8;\" x=\"268.556696\" xlink:href=\"#mca5529579c\" y=\"224.64\"/>\r\n      </g>\r\n     </g>\r\n     <g id=\"text_5\">\r\n      <!-- Outfit -->\r\n      <g transform=\"translate(254.382478 239.238437)scale(0.1 -0.1)\">\r\n       <defs>\r\n        <path d=\"M 2522 4238 \r\nQ 1834 4238 1429 3725 \r\nQ 1025 3213 1025 2328 \r\nQ 1025 1447 1429 934 \r\nQ 1834 422 2522 422 \r\nQ 3209 422 3611 934 \r\nQ 4013 1447 4013 2328 \r\nQ 4013 3213 3611 3725 \r\nQ 3209 4238 2522 4238 \r\nz\r\nM 2522 4750 \r\nQ 3503 4750 4090 4092 \r\nQ 4678 3434 4678 2328 \r\nQ 4678 1225 4090 567 \r\nQ 3503 -91 2522 -91 \r\nQ 1538 -91 948 565 \r\nQ 359 1222 359 2328 \r\nQ 359 3434 948 4092 \r\nQ 1538 4750 2522 4750 \r\nz\r\n\" id=\"DejaVuSans-4f\" transform=\"scale(0.015625)\"/>\r\n        <path d=\"M 544 1381 \r\nL 544 3500 \r\nL 1119 3500 \r\nL 1119 1403 \r\nQ 1119 906 1312 657 \r\nQ 1506 409 1894 409 \r\nQ 2359 409 2629 706 \r\nQ 2900 1003 2900 1516 \r\nL 2900 3500 \r\nL 3475 3500 \r\nL 3475 0 \r\nL 2900 0 \r\nL 2900 538 \r\nQ 2691 219 2414 64 \r\nQ 2138 -91 1772 -91 \r\nQ 1169 -91 856 284 \r\nQ 544 659 544 1381 \r\nz\r\nM 1991 3584 \r\nL 1991 3584 \r\nz\r\n\" id=\"DejaVuSans-75\" transform=\"scale(0.015625)\"/>\r\n        <path d=\"M 2375 4863 \r\nL 2375 4384 \r\nL 1825 4384 \r\nQ 1516 4384 1395 4259 \r\nQ 1275 4134 1275 3809 \r\nL 1275 3500 \r\nL 2222 3500 \r\nL 2222 3053 \r\nL 1275 3053 \r\nL 1275 0 \r\nL 697 0 \r\nL 697 3053 \r\nL 147 3053 \r\nL 147 3500 \r\nL 697 3500 \r\nL 697 3744 \r\nQ 697 4328 969 4595 \r\nQ 1241 4863 1831 4863 \r\nL 2375 4863 \r\nz\r\n\" id=\"DejaVuSans-66\" transform=\"scale(0.015625)\"/>\r\n       </defs>\r\n       <use xlink:href=\"#DejaVuSans-4f\"/>\r\n       <use x=\"78.710938\" xlink:href=\"#DejaVuSans-75\"/>\r\n       <use x=\"142.089844\" xlink:href=\"#DejaVuSans-74\"/>\r\n       <use x=\"181.298828\" xlink:href=\"#DejaVuSans-66\"/>\r\n       <use x=\"216.503906\" xlink:href=\"#DejaVuSans-69\"/>\r\n       <use x=\"244.287109\" xlink:href=\"#DejaVuSans-74\"/>\r\n      </g>\r\n     </g>\r\n    </g>\r\n    <g id=\"xtick_6\">\r\n     <g id=\"line2d_6\">\r\n      <g>\r\n       <use style=\"stroke:#000000;stroke-width:0.8;\" x=\"316.385268\" xlink:href=\"#mca5529579c\" y=\"224.64\"/>\r\n      </g>\r\n     </g>\r\n     <g id=\"text_6\">\r\n      <!-- Sust -->\r\n      <g transform=\"translate(305.477455 239.238437)scale(0.1 -0.1)\">\r\n       <defs>\r\n        <path d=\"M 3425 4513 \r\nL 3425 3897 \r\nQ 3066 4069 2747 4153 \r\nQ 2428 4238 2131 4238 \r\nQ 1616 4238 1336 4038 \r\nQ 1056 3838 1056 3469 \r\nQ 1056 3159 1242 3001 \r\nQ 1428 2844 1947 2747 \r\nL 2328 2669 \r\nQ 3034 2534 3370 2195 \r\nQ 3706 1856 3706 1288 \r\nQ 3706 609 3251 259 \r\nQ 2797 -91 1919 -91 \r\nQ 1588 -91 1214 -16 \r\nQ 841 59 441 206 \r\nL 441 856 \r\nQ 825 641 1194 531 \r\nQ 1563 422 1919 422 \r\nQ 2459 422 2753 634 \r\nQ 3047 847 3047 1241 \r\nQ 3047 1584 2836 1778 \r\nQ 2625 1972 2144 2069 \r\nL 1759 2144 \r\nQ 1053 2284 737 2584 \r\nQ 422 2884 422 3419 \r\nQ 422 4038 858 4394 \r\nQ 1294 4750 2059 4750 \r\nQ 2388 4750 2728 4690 \r\nQ 3069 4631 3425 4513 \r\nz\r\n\" id=\"DejaVuSans-53\" transform=\"scale(0.015625)\"/>\r\n       </defs>\r\n       <use xlink:href=\"#DejaVuSans-53\"/>\r\n       <use x=\"63.476562\" xlink:href=\"#DejaVuSans-75\"/>\r\n       <use x=\"126.855469\" xlink:href=\"#DejaVuSans-73\"/>\r\n       <use x=\"178.955078\" xlink:href=\"#DejaVuSans-74\"/>\r\n      </g>\r\n     </g>\r\n    </g>\r\n    <g id=\"xtick_7\">\r\n     <g id=\"line2d_7\">\r\n      <g>\r\n       <use style=\"stroke:#000000;stroke-width:0.8;\" x=\"364.213839\" xlink:href=\"#mca5529579c\" y=\"224.64\"/>\r\n      </g>\r\n     </g>\r\n     <g id=\"text_7\">\r\n      <!-- Weather -->\r\n      <g transform=\"translate(343.162277 239.238437)scale(0.1 -0.1)\">\r\n       <defs>\r\n        <path d=\"M 213 4666 \r\nL 850 4666 \r\nL 1831 722 \r\nL 2809 4666 \r\nL 3519 4666 \r\nL 4500 722 \r\nL 5478 4666 \r\nL 6119 4666 \r\nL 4947 0 \r\nL 4153 0 \r\nL 3169 4050 \r\nL 2175 0 \r\nL 1381 0 \r\nL 213 4666 \r\nz\r\n\" id=\"DejaVuSans-57\" transform=\"scale(0.015625)\"/>\r\n        <path d=\"M 3513 2113 \r\nL 3513 0 \r\nL 2938 0 \r\nL 2938 2094 \r\nQ 2938 2591 2744 2837 \r\nQ 2550 3084 2163 3084 \r\nQ 1697 3084 1428 2787 \r\nQ 1159 2491 1159 1978 \r\nL 1159 0 \r\nL 581 0 \r\nL 581 4863 \r\nL 1159 4863 \r\nL 1159 2956 \r\nQ 1366 3272 1645 3428 \r\nQ 1925 3584 2291 3584 \r\nQ 2894 3584 3203 3211 \r\nQ 3513 2838 3513 2113 \r\nz\r\n\" id=\"DejaVuSans-68\" transform=\"scale(0.015625)\"/>\r\n        <path d=\"M 2631 2963 \r\nQ 2534 3019 2420 3045 \r\nQ 2306 3072 2169 3072 \r\nQ 1681 3072 1420 2755 \r\nQ 1159 2438 1159 1844 \r\nL 1159 0 \r\nL 581 0 \r\nL 581 3500 \r\nL 1159 3500 \r\nL 1159 2956 \r\nQ 1341 3275 1631 3429 \r\nQ 1922 3584 2338 3584 \r\nQ 2397 3584 2469 3576 \r\nQ 2541 3569 2628 3553 \r\nL 2631 2963 \r\nz\r\n\" id=\"DejaVuSans-72\" transform=\"scale(0.015625)\"/>\r\n       </defs>\r\n       <use xlink:href=\"#DejaVuSans-57\"/>\r\n       <use x=\"93.001953\" xlink:href=\"#DejaVuSans-65\"/>\r\n       <use x=\"154.525391\" xlink:href=\"#DejaVuSans-61\"/>\r\n       <use x=\"215.804688\" xlink:href=\"#DejaVuSans-74\"/>\r\n       <use x=\"255.013672\" xlink:href=\"#DejaVuSans-68\"/>\r\n       <use x=\"318.392578\" xlink:href=\"#DejaVuSans-65\"/>\r\n       <use x=\"379.916016\" xlink:href=\"#DejaVuSans-72\"/>\r\n      </g>\r\n     </g>\r\n    </g>\r\n    <g id=\"text_8\">\r\n     <!-- team -->\r\n     <g transform=\"translate(207.757031 252.916562)scale(0.1 -0.1)\">\r\n      <defs>\r\n       <path d=\"M 3328 2828 \r\nQ 3544 3216 3844 3400 \r\nQ 4144 3584 4550 3584 \r\nQ 5097 3584 5394 3201 \r\nQ 5691 2819 5691 2113 \r\nL 5691 0 \r\nL 5113 0 \r\nL 5113 2094 \r\nQ 5113 2597 4934 2840 \r\nQ 4756 3084 4391 3084 \r\nQ 3944 3084 3684 2787 \r\nQ 3425 2491 3425 1978 \r\nL 3425 0 \r\nL 2847 0 \r\nL 2847 2094 \r\nQ 2847 2600 2669 2842 \r\nQ 2491 3084 2119 3084 \r\nQ 1678 3084 1418 2786 \r\nQ 1159 2488 1159 1978 \r\nL 1159 0 \r\nL 581 0 \r\nL 581 3500 \r\nL 1159 3500 \r\nL 1159 2956 \r\nQ 1356 3278 1631 3431 \r\nQ 1906 3584 2284 3584 \r\nQ 2666 3584 2933 3390 \r\nQ 3200 3197 3328 2828 \r\nz\r\n\" id=\"DejaVuSans-6d\" transform=\"scale(0.015625)\"/>\r\n      </defs>\r\n      <use xlink:href=\"#DejaVuSans-74\"/>\r\n      <use x=\"39.208984\" xlink:href=\"#DejaVuSans-65\"/>\r\n      <use x=\"100.732422\" xlink:href=\"#DejaVuSans-61\"/>\r\n      <use x=\"162.011719\" xlink:href=\"#DejaVuSans-6d\"/>\r\n     </g>\r\n    </g>\r\n   </g>\r\n   <g id=\"matplotlib.axis_2\">\r\n    <g id=\"ytick_1\">\r\n     <g id=\"line2d_8\">\r\n      <defs>\r\n       <path d=\"M 0 0 \r\nL -3.5 0 \r\n\" id=\"mc10f0d2503\" style=\"stroke:#000000;stroke-width:0.8;\"/>\r\n      </defs>\r\n      <g>\r\n       <use style=\"stroke:#000000;stroke-width:0.8;\" x=\"53.328125\" xlink:href=\"#mc10f0d2503\" y=\"224.64\"/>\r\n      </g>\r\n     </g>\r\n     <g id=\"text_9\">\r\n      <!-- 0 -->\r\n      <g transform=\"translate(39.965625 228.439219)scale(0.1 -0.1)\">\r\n       <defs>\r\n        <path d=\"M 2034 4250 \r\nQ 1547 4250 1301 3770 \r\nQ 1056 3291 1056 2328 \r\nQ 1056 1369 1301 889 \r\nQ 1547 409 2034 409 \r\nQ 2525 409 2770 889 \r\nQ 3016 1369 3016 2328 \r\nQ 3016 3291 2770 3770 \r\nQ 2525 4250 2034 4250 \r\nz\r\nM 2034 4750 \r\nQ 2819 4750 3233 4129 \r\nQ 3647 3509 3647 2328 \r\nQ 3647 1150 3233 529 \r\nQ 2819 -91 2034 -91 \r\nQ 1250 -91 836 529 \r\nQ 422 1150 422 2328 \r\nQ 422 3509 836 4129 \r\nQ 1250 4750 2034 4750 \r\nz\r\n\" id=\"DejaVuSans-30\" transform=\"scale(0.015625)\"/>\r\n       </defs>\r\n       <use xlink:href=\"#DejaVuSans-30\"/>\r\n      </g>\r\n     </g>\r\n    </g>\r\n    <g id=\"ytick_2\">\r\n     <g id=\"line2d_9\">\r\n      <g>\r\n       <use style=\"stroke:#000000;stroke-width:0.8;\" x=\"53.328125\" xlink:href=\"#mc10f0d2503\" y=\"198.805954\"/>\r\n      </g>\r\n     </g>\r\n     <g id=\"text_10\">\r\n      <!-- 250 -->\r\n      <g transform=\"translate(27.240625 202.605173)scale(0.1 -0.1)\">\r\n       <defs>\r\n        <path d=\"M 1228 531 \r\nL 3431 531 \r\nL 3431 0 \r\nL 469 0 \r\nL 469 531 \r\nQ 828 903 1448 1529 \r\nQ 2069 2156 2228 2338 \r\nQ 2531 2678 2651 2914 \r\nQ 2772 3150 2772 3378 \r\nQ 2772 3750 2511 3984 \r\nQ 2250 4219 1831 4219 \r\nQ 1534 4219 1204 4116 \r\nQ 875 4013 500 3803 \r\nL 500 4441 \r\nQ 881 4594 1212 4672 \r\nQ 1544 4750 1819 4750 \r\nQ 2544 4750 2975 4387 \r\nQ 3406 4025 3406 3419 \r\nQ 3406 3131 3298 2873 \r\nQ 3191 2616 2906 2266 \r\nQ 2828 2175 2409 1742 \r\nQ 1991 1309 1228 531 \r\nz\r\n\" id=\"DejaVuSans-32\" transform=\"scale(0.015625)\"/>\r\n        <path d=\"M 691 4666 \r\nL 3169 4666 \r\nL 3169 4134 \r\nL 1269 4134 \r\nL 1269 2991 \r\nQ 1406 3038 1543 3061 \r\nQ 1681 3084 1819 3084 \r\nQ 2600 3084 3056 2656 \r\nQ 3513 2228 3513 1497 \r\nQ 3513 744 3044 326 \r\nQ 2575 -91 1722 -91 \r\nQ 1428 -91 1123 -41 \r\nQ 819 9 494 109 \r\nL 494 744 \r\nQ 775 591 1075 516 \r\nQ 1375 441 1709 441 \r\nQ 2250 441 2565 725 \r\nQ 2881 1009 2881 1497 \r\nQ 2881 1984 2565 2268 \r\nQ 2250 2553 1709 2553 \r\nQ 1456 2553 1204 2497 \r\nQ 953 2441 691 2322 \r\nL 691 4666 \r\nz\r\n\" id=\"DejaVuSans-35\" transform=\"scale(0.015625)\"/>\r\n       </defs>\r\n       <use xlink:href=\"#DejaVuSans-32\"/>\r\n       <use x=\"63.623047\" xlink:href=\"#DejaVuSans-35\"/>\r\n       <use x=\"127.246094\" xlink:href=\"#DejaVuSans-30\"/>\r\n      </g>\r\n     </g>\r\n    </g>\r\n    <g id=\"ytick_3\">\r\n     <g id=\"line2d_10\">\r\n      <g>\r\n       <use style=\"stroke:#000000;stroke-width:0.8;\" x=\"53.328125\" xlink:href=\"#mc10f0d2503\" y=\"172.971908\"/>\r\n      </g>\r\n     </g>\r\n     <g id=\"text_11\">\r\n      <!-- 500 -->\r\n      <g transform=\"translate(27.240625 176.771126)scale(0.1 -0.1)\">\r\n       <use xlink:href=\"#DejaVuSans-35\"/>\r\n       <use x=\"63.623047\" xlink:href=\"#DejaVuSans-30\"/>\r\n       <use x=\"127.246094\" xlink:href=\"#DejaVuSans-30\"/>\r\n      </g>\r\n     </g>\r\n    </g>\r\n    <g id=\"ytick_4\">\r\n     <g id=\"line2d_11\">\r\n      <g>\r\n       <use style=\"stroke:#000000;stroke-width:0.8;\" x=\"53.328125\" xlink:href=\"#mc10f0d2503\" y=\"147.137861\"/>\r\n      </g>\r\n     </g>\r\n     <g id=\"text_12\">\r\n      <!-- 750 -->\r\n      <g transform=\"translate(27.240625 150.93708)scale(0.1 -0.1)\">\r\n       <defs>\r\n        <path d=\"M 525 4666 \r\nL 3525 4666 \r\nL 3525 4397 \r\nL 1831 0 \r\nL 1172 0 \r\nL 2766 4134 \r\nL 525 4134 \r\nL 525 4666 \r\nz\r\n\" id=\"DejaVuSans-37\" transform=\"scale(0.015625)\"/>\r\n       </defs>\r\n       <use xlink:href=\"#DejaVuSans-37\"/>\r\n       <use x=\"63.623047\" xlink:href=\"#DejaVuSans-35\"/>\r\n       <use x=\"127.246094\" xlink:href=\"#DejaVuSans-30\"/>\r\n      </g>\r\n     </g>\r\n    </g>\r\n    <g id=\"ytick_5\">\r\n     <g id=\"line2d_12\">\r\n      <g>\r\n       <use style=\"stroke:#000000;stroke-width:0.8;\" x=\"53.328125\" xlink:href=\"#mc10f0d2503\" y=\"121.303815\"/>\r\n      </g>\r\n     </g>\r\n     <g id=\"text_13\">\r\n      <!-- 1000 -->\r\n      <g transform=\"translate(20.878125 125.103034)scale(0.1 -0.1)\">\r\n       <defs>\r\n        <path d=\"M 794 531 \r\nL 1825 531 \r\nL 1825 4091 \r\nL 703 3866 \r\nL 703 4441 \r\nL 1819 4666 \r\nL 2450 4666 \r\nL 2450 531 \r\nL 3481 531 \r\nL 3481 0 \r\nL 794 0 \r\nL 794 531 \r\nz\r\n\" id=\"DejaVuSans-31\" transform=\"scale(0.015625)\"/>\r\n       </defs>\r\n       <use xlink:href=\"#DejaVuSans-31\"/>\r\n       <use x=\"63.623047\" xlink:href=\"#DejaVuSans-30\"/>\r\n       <use x=\"127.246094\" xlink:href=\"#DejaVuSans-30\"/>\r\n       <use x=\"190.869141\" xlink:href=\"#DejaVuSans-30\"/>\r\n      </g>\r\n     </g>\r\n    </g>\r\n    <g id=\"ytick_6\">\r\n     <g id=\"line2d_13\">\r\n      <g>\r\n       <use style=\"stroke:#000000;stroke-width:0.8;\" x=\"53.328125\" xlink:href=\"#mc10f0d2503\" y=\"95.469769\"/>\r\n      </g>\r\n     </g>\r\n     <g id=\"text_14\">\r\n      <!-- 1250 -->\r\n      <g transform=\"translate(20.878125 99.268988)scale(0.1 -0.1)\">\r\n       <use xlink:href=\"#DejaVuSans-31\"/>\r\n       <use x=\"63.623047\" xlink:href=\"#DejaVuSans-32\"/>\r\n       <use x=\"127.246094\" xlink:href=\"#DejaVuSans-35\"/>\r\n       <use x=\"190.869141\" xlink:href=\"#DejaVuSans-30\"/>\r\n      </g>\r\n     </g>\r\n    </g>\r\n    <g id=\"ytick_7\">\r\n     <g id=\"line2d_14\">\r\n      <g>\r\n       <use style=\"stroke:#000000;stroke-width:0.8;\" x=\"53.328125\" xlink:href=\"#mc10f0d2503\" y=\"69.635723\"/>\r\n      </g>\r\n     </g>\r\n     <g id=\"text_15\">\r\n      <!-- 1500 -->\r\n      <g transform=\"translate(20.878125 73.434942)scale(0.1 -0.1)\">\r\n       <use xlink:href=\"#DejaVuSans-31\"/>\r\n       <use x=\"63.623047\" xlink:href=\"#DejaVuSans-35\"/>\r\n       <use x=\"127.246094\" xlink:href=\"#DejaVuSans-30\"/>\r\n       <use x=\"190.869141\" xlink:href=\"#DejaVuSans-30\"/>\r\n      </g>\r\n     </g>\r\n    </g>\r\n    <g id=\"ytick_8\">\r\n     <g id=\"line2d_15\">\r\n      <g>\r\n       <use style=\"stroke:#000000;stroke-width:0.8;\" x=\"53.328125\" xlink:href=\"#mc10f0d2503\" y=\"43.801677\"/>\r\n      </g>\r\n     </g>\r\n     <g id=\"text_16\">\r\n      <!-- 1750 -->\r\n      <g transform=\"translate(20.878125 47.600895)scale(0.1 -0.1)\">\r\n       <use xlink:href=\"#DejaVuSans-31\"/>\r\n       <use x=\"63.623047\" xlink:href=\"#DejaVuSans-37\"/>\r\n       <use x=\"127.246094\" xlink:href=\"#DejaVuSans-35\"/>\r\n       <use x=\"190.869141\" xlink:href=\"#DejaVuSans-30\"/>\r\n      </g>\r\n     </g>\r\n    </g>\r\n    <g id=\"ytick_9\">\r\n     <g id=\"line2d_16\">\r\n      <g>\r\n       <use style=\"stroke:#000000;stroke-width:0.8;\" x=\"53.328125\" xlink:href=\"#mc10f0d2503\" y=\"17.96763\"/>\r\n      </g>\r\n     </g>\r\n     <g id=\"text_17\">\r\n      <!-- 2000 -->\r\n      <g transform=\"translate(20.878125 21.766849)scale(0.1 -0.1)\">\r\n       <use xlink:href=\"#DejaVuSans-32\"/>\r\n       <use x=\"63.623047\" xlink:href=\"#DejaVuSans-30\"/>\r\n       <use x=\"127.246094\" xlink:href=\"#DejaVuSans-30\"/>\r\n       <use x=\"190.869141\" xlink:href=\"#DejaVuSans-30\"/>\r\n      </g>\r\n     </g>\r\n    </g>\r\n    <g id=\"text_18\">\r\n     <!-- count -->\r\n     <g transform=\"translate(14.798438 130.02625)rotate(-90)scale(0.1 -0.1)\">\r\n      <defs>\r\n       <path d=\"M 3513 2113 \r\nL 3513 0 \r\nL 2938 0 \r\nL 2938 2094 \r\nQ 2938 2591 2744 2837 \r\nQ 2550 3084 2163 3084 \r\nQ 1697 3084 1428 2787 \r\nQ 1159 2491 1159 1978 \r\nL 1159 0 \r\nL 581 0 \r\nL 581 3500 \r\nL 1159 3500 \r\nL 1159 2956 \r\nQ 1366 3272 1645 3428 \r\nQ 1925 3584 2291 3584 \r\nQ 2894 3584 3203 3211 \r\nQ 3513 2838 3513 2113 \r\nz\r\n\" id=\"DejaVuSans-6e\" transform=\"scale(0.015625)\"/>\r\n      </defs>\r\n      <use xlink:href=\"#DejaVuSans-63\"/>\r\n      <use x=\"54.980469\" xlink:href=\"#DejaVuSans-6f\"/>\r\n      <use x=\"116.162109\" xlink:href=\"#DejaVuSans-75\"/>\r\n      <use x=\"179.541016\" xlink:href=\"#DejaVuSans-6e\"/>\r\n      <use x=\"242.919922\" xlink:href=\"#DejaVuSans-74\"/>\r\n     </g>\r\n    </g>\r\n   </g>\r\n   <g id=\"patch_10\">\r\n    <path d=\"M 53.328125 224.64 \r\nL 53.328125 7.2 \r\n\" style=\"fill:none;stroke:#000000;stroke-linecap:square;stroke-linejoin:miter;stroke-width:0.8;\"/>\r\n   </g>\r\n   <g id=\"patch_11\">\r\n    <path d=\"M 388.128125 224.64 \r\nL 388.128125 7.2 \r\n\" style=\"fill:none;stroke:#000000;stroke-linecap:square;stroke-linejoin:miter;stroke-width:0.8;\"/>\r\n   </g>\r\n   <g id=\"patch_12\">\r\n    <path d=\"M 53.328125 224.64 \r\nL 388.128125 224.64 \r\n\" style=\"fill:none;stroke:#000000;stroke-linecap:square;stroke-linejoin:miter;stroke-width:0.8;\"/>\r\n   </g>\r\n   <g id=\"patch_13\">\r\n    <path d=\"M 53.328125 7.2 \r\nL 388.128125 7.2 \r\n\" style=\"fill:none;stroke:#000000;stroke-linecap:square;stroke-linejoin:miter;stroke-width:0.8;\"/>\r\n   </g>\r\n  </g>\r\n </g>\r\n <defs>\r\n  <clipPath id=\"p3ce1bdd1fa\">\r\n   <rect height=\"217.44\" width=\"334.8\" x=\"53.328125\" y=\"7.2\"/>\r\n  </clipPath>\r\n </defs>\r\n</svg>\r\n",
      "image/png": "[encoded data removed]"
     },
     "metadata": {
      "needs_background": "light"
     }
    }
   ],
   "source": [
    "sns.countplot(data=teams, x='team')"
   ]
  },
  {
   "cell_type": "code",
   "execution_count": null,
   "metadata": {},
   "outputs": [],
   "source": []
  }
 ]
}