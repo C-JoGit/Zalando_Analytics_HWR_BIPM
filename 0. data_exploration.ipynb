{
 "metadata": {
  "language_info": {
   "codemirror_mode": {
    "name": "ipython",
    "version": 3
   },
   "file_extension": ".py",
   "mimetype": "text/x-python",
   "name": "python",
   "nbconvert_exporter": "python",
   "pygments_lexer": "ipython3",
   "version": "3.8.10"
  },
  "orig_nbformat": 2,
  "kernelspec": {
   "name": "python3810jvsc74a57bd03d32eab50a390e074348d82344cbc61403476e5f817511f3da9799ccaaf7cac4",
   "display_name": "Python 3.8.10 64-bit ('base': conda)"
  }
 },
 "nbformat": 4,
 "nbformat_minor": 2,
 "cells": [
  {
   "source": [
    "### Project milestones:\n",
    "- Initial analysis of the data including overall statistics on user counts, geographies, discussion activity etc. (breakdown into markets)\n",
    "- overall sentiment analysis of the data (breakdown into markets)\n",
    "- identification of top 5 likes and dislikes (breakdown into markets)\n",
    "- competitor comparison based on the top 5 likes and dislikes\n"
   ],
   "cell_type": "markdown",
   "metadata": {}
  },
  {
   "cell_type": "code",
   "execution_count": 1,
   "metadata": {},
   "outputs": [
    {
     "output_type": "stream",
     "name": "stdout",
     "text": [
      "Downloading emoji data ...\n",
      "[nltk_data] Downloading package stopwords to\n",
      "[nltk_data]     C:\\Users\\chiso\\AppData\\Roaming\\nltk_data...\n",
      "[nltk_data]   Package stopwords is already up-to-date!\n",
      "[nltk_data] Downloading package vader_lexicon to\n",
      "[nltk_data]     C:\\Users\\chiso\\AppData\\Roaming\\nltk_data...\n",
      "[nltk_data]   Package vader_lexicon is already up-to-date!\n",
      "[nltk_data] Downloading package punkt to\n",
      "[nltk_data]     C:\\Users\\chiso\\AppData\\Roaming\\nltk_data...\n",
      "[nltk_data]   Package punkt is already up-to-date!\n",
      "... OK (Got response in 0.61 seconds)\n",
      "Writing emoji data to C:\\Users\\chiso\\.demoji\\codes.json ...\n",
      "... OK\n",
      "Downloading emoji data ...\n",
      "[nltk_data] Downloading package stopwords to\n",
      "[nltk_data]     C:\\Users\\chiso\\AppData\\Roaming\\nltk_data...\n",
      "[nltk_data]   Package stopwords is already up-to-date!\n",
      "[nltk_data] Downloading package vader_lexicon to\n",
      "[nltk_data]     C:\\Users\\chiso\\AppData\\Roaming\\nltk_data...\n",
      "[nltk_data]   Package vader_lexicon is already up-to-date!\n",
      "[nltk_data] Downloading package punkt to\n",
      "[nltk_data]     C:\\Users\\chiso\\AppData\\Roaming\\nltk_data...\n",
      "[nltk_data]   Package punkt is already up-to-date!\n",
      "... OK (Got response in 0.55 seconds)\n",
      "Writing emoji data to C:\\Users\\chiso\\.demoji\\codes.json ...\n",
      "... OK\n",
      "Downloading emoji data ...\n",
      "... OK (Got response in 0.52 seconds)\n",
      "Writing emoji data to C:\\Users\\chiso\\.demoji\\codes.json ...\n",
      "... OK\n"
     ]
    }
   ],
   "source": [
    "import sys\n",
    "sys.path.append('../')\n",
    "import functions\n",
    "exec(open('./functions.py', encoding=\"utf8\").read())\n",
    "\n",
    "demoji.download_codes()"
   ]
  },
  {
   "cell_type": "code",
   "execution_count": 30,
   "metadata": {},
   "outputs": [],
   "source": [
    "zalando = pd.read_json(r\"..\\Zalando_Analytics_HWR_BIPM\\twitterdata\\2021-03-05_en_@zalando.json\")\n",
    "asos = pd.read_json(r\"..\\Zalando_Analytics_HWR_BIPM\\twitterdata\\2021-03-05_en_asos.json\")\n",
    "bohoo = pd.read_json(r\"..\\Zalando_Analytics_HWR_BIPM\\twitterdata\\2021-03-05_en_bohoo.json\")"
   ]
  },
  {
   "cell_type": "code",
   "execution_count": 9,
   "metadata": {},
   "outputs": [
    {
     "output_type": "execute_result",
     "data": {
      "text/plain": [
       "               user_id  user_statuses            name  \\\n",
       "0  1323291681899294721            133   GreenerRetail   \n",
       "1  1259761930304196610              1    fattybabycat   \n",
       "2   835467350249963521           2296   piotrkarwatka   \n",
       "3             58485935            114  MissyDawn27586   \n",
       "4  1059339103928492033          11725    CarolCooney7   \n",
       "\n",
       "                                               tweet  retweets  \\\n",
       "0  Who and what has made our greener retailing tr...         0   \n",
       "1  .@Zalando offers nothing more than scripted, c...         0   \n",
       "2  We've got a great talk with Fabian Wesner on h...         0   \n",
       "3  @Zalando recieved wrong item... don’t know how...         0   \n",
       "4  @DrewLawDesign @Zalando  have sent me a few de...         0   \n",
       "\n",
       "          location      created  followers  is_user_verified  \n",
       "0     Planet Earth  05-Mar-2021         70             False  \n",
       "1                   05-Mar-2021          0             False  \n",
       "2  Wrocław, Polska  05-Mar-2021       1347             False  \n",
       "3                   05-Mar-2021         27             False  \n",
       "4                   05-Mar-2021        457             False  "
      ],
      "text/html": "<div>\n<style scoped>\n    .dataframe tbody tr th:only-of-type {\n        vertical-align: middle;\n    }\n\n    .dataframe tbody tr th {\n        vertical-align: top;\n    }\n\n    .dataframe thead th {\n        text-align: right;\n    }\n</style>\n<table border=\"1\" class=\"dataframe\">\n  <thead>\n    <tr style=\"text-align: right;\">\n      <th></th>\n      <th>user_id</th>\n      <th>user_statuses</th>\n      <th>name</th>\n      <th>tweet</th>\n      <th>retweets</th>\n      <th>location</th>\n      <th>created</th>\n      <th>followers</th>\n      <th>is_user_verified</th>\n    </tr>\n  </thead>\n  <tbody>\n    <tr>\n      <th>0</th>\n      <td>1323291681899294721</td>\n      <td>133</td>\n      <td>GreenerRetail</td>\n      <td>Who and what has made our greener retailing tr...</td>\n      <td>0</td>\n      <td>Planet Earth</td>\n      <td>05-Mar-2021</td>\n      <td>70</td>\n      <td>False</td>\n    </tr>\n    <tr>\n      <th>1</th>\n      <td>1259761930304196610</td>\n      <td>1</td>\n      <td>fattybabycat</td>\n      <td>.@Zalando offers nothing more than scripted, c...</td>\n      <td>0</td>\n      <td></td>\n      <td>05-Mar-2021</td>\n      <td>0</td>\n      <td>False</td>\n    </tr>\n    <tr>\n      <th>2</th>\n      <td>835467350249963521</td>\n      <td>2296</td>\n      <td>piotrkarwatka</td>\n      <td>We've got a great talk with Fabian Wesner on h...</td>\n      <td>0</td>\n      <td>Wrocław, Polska</td>\n      <td>05-Mar-2021</td>\n      <td>1347</td>\n      <td>False</td>\n    </tr>\n    <tr>\n      <th>3</th>\n      <td>58485935</td>\n      <td>114</td>\n      <td>MissyDawn27586</td>\n      <td>@Zalando recieved wrong item... don’t know how...</td>\n      <td>0</td>\n      <td></td>\n      <td>05-Mar-2021</td>\n      <td>27</td>\n      <td>False</td>\n    </tr>\n    <tr>\n      <th>4</th>\n      <td>1059339103928492033</td>\n      <td>11725</td>\n      <td>CarolCooney7</td>\n      <td>@DrewLawDesign @Zalando  have sent me a few de...</td>\n      <td>0</td>\n      <td></td>\n      <td>05-Mar-2021</td>\n      <td>457</td>\n      <td>False</td>\n    </tr>\n  </tbody>\n</table>\n</div>"
     },
     "metadata": {},
     "execution_count": 9
    }
   ],
   "source": [
    "zalando.head()"
   ]
  },
  {
   "cell_type": "code",
   "execution_count": 10,
   "metadata": {},
   "outputs": [
    {
     "output_type": "execute_result",
     "data": {
      "text/plain": [
       "               user_id  user_statuses         name  \\\n",
       "0             91800594          97473      _phelma   \n",
       "1             78974281           5481     ZiyandaO   \n",
       "2             15790423         229382         ASOS   \n",
       "3  1208987533192957953           7184   RHBlackMan   \n",
       "4  1216824142726561792             28  SAM92075802   \n",
       "\n",
       "                                               tweet  retweets  \\\n",
       "0  Quickly came to return my ASOS package &amp; t...         0   \n",
       "1  @ASOS_HeretoHelp why has my account been block...         0   \n",
       "2  @_justollie @PostOffice @RoyalMailHelp @RoyalM...         0   \n",
       "3  Birthday Tingz. #LockdownStyle #InstagramSawIt...         0   \n",
       "4  ASOS I’ve been awaiting for a parcel since 15 ...         0   \n",
       "\n",
       "          location      created  followers  is_user_verified  \n",
       "0  London, England  05-Mar-2021       2070             False  \n",
       "1  London, England  05-Mar-2021        821             False  \n",
       "2           London  05-Mar-2021    1085110              True  \n",
       "3         Barbados  05-Mar-2021        323             False  \n",
       "4                   05-Mar-2021         15             False  "
      ],
      "text/html": "<div>\n<style scoped>\n    .dataframe tbody tr th:only-of-type {\n        vertical-align: middle;\n    }\n\n    .dataframe tbody tr th {\n        vertical-align: top;\n    }\n\n    .dataframe thead th {\n        text-align: right;\n    }\n</style>\n<table border=\"1\" class=\"dataframe\">\n  <thead>\n    <tr style=\"text-align: right;\">\n      <th></th>\n      <th>user_id</th>\n      <th>user_statuses</th>\n      <th>name</th>\n      <th>tweet</th>\n      <th>retweets</th>\n      <th>location</th>\n      <th>created</th>\n      <th>followers</th>\n      <th>is_user_verified</th>\n    </tr>\n  </thead>\n  <tbody>\n    <tr>\n      <th>0</th>\n      <td>91800594</td>\n      <td>97473</td>\n      <td>_phelma</td>\n      <td>Quickly came to return my ASOS package &amp;amp; t...</td>\n      <td>0</td>\n      <td>London, England</td>\n      <td>05-Mar-2021</td>\n      <td>2070</td>\n      <td>False</td>\n    </tr>\n    <tr>\n      <th>1</th>\n      <td>78974281</td>\n      <td>5481</td>\n      <td>ZiyandaO</td>\n      <td>@ASOS_HeretoHelp why has my account been block...</td>\n      <td>0</td>\n      <td>London, England</td>\n      <td>05-Mar-2021</td>\n      <td>821</td>\n      <td>False</td>\n    </tr>\n    <tr>\n      <th>2</th>\n      <td>15790423</td>\n      <td>229382</td>\n      <td>ASOS</td>\n      <td>@_justollie @PostOffice @RoyalMailHelp @RoyalM...</td>\n      <td>0</td>\n      <td>London</td>\n      <td>05-Mar-2021</td>\n      <td>1085110</td>\n      <td>True</td>\n    </tr>\n    <tr>\n      <th>3</th>\n      <td>1208987533192957953</td>\n      <td>7184</td>\n      <td>RHBlackMan</td>\n      <td>Birthday Tingz. #LockdownStyle #InstagramSawIt...</td>\n      <td>0</td>\n      <td>Barbados</td>\n      <td>05-Mar-2021</td>\n      <td>323</td>\n      <td>False</td>\n    </tr>\n    <tr>\n      <th>4</th>\n      <td>1216824142726561792</td>\n      <td>28</td>\n      <td>SAM92075802</td>\n      <td>ASOS I’ve been awaiting for a parcel since 15 ...</td>\n      <td>0</td>\n      <td></td>\n      <td>05-Mar-2021</td>\n      <td>15</td>\n      <td>False</td>\n    </tr>\n  </tbody>\n</table>\n</div>"
     },
     "metadata": {},
     "execution_count": 10
    }
   ],
   "source": [
    "asos.head()"
   ]
  },
  {
   "cell_type": "code",
   "execution_count": 11,
   "metadata": {},
   "outputs": [
    {
     "output_type": "execute_result",
     "data": {
      "text/plain": [
       "               user_id  user_statuses           name  \\\n",
       "0            136420228         152284  MissNellyNels   \n",
       "1            136420228         152284  MissNellyNels   \n",
       "2  1354040830592335874            800    thepurpsoul   \n",
       "3            930457106         172758   renethelover   \n",
       "4  1174750574333632512          10807      driphaver   \n",
       "\n",
       "                                               tweet  retweets  \\\n",
       "0      @fragileceour Wahala for who no be Bohoo chic         0   \n",
       "1    Bohoo take all my money https://t.co/3a7hbF5OX5         0   \n",
       "2              @EB0YGGUKZ @swagijoon Twitter bohoo👎😤         0   \n",
       "3  @neeuQcMxelA @enctrI you clearly view the issu...         0   \n",
       "4  @240pee bohoo cry about it,,\\nWHAT A PUTT TO T...         0   \n",
       "\n",
       "                location      created  followers  is_user_verified  \n",
       "0                         05-Mar-2021       5744             False  \n",
       "1                         05-Mar-2021       5744             False  \n",
       "2        Bangtan's Heart  05-Mar-2021         45             False  \n",
       "3                         05-Mar-2021       2662             False  \n",
       "4  Jo#8762 | id/thrasher  05-Mar-2021        633             False  "
      ],
      "text/html": "<div>\n<style scoped>\n    .dataframe tbody tr th:only-of-type {\n        vertical-align: middle;\n    }\n\n    .dataframe tbody tr th {\n        vertical-align: top;\n    }\n\n    .dataframe thead th {\n        text-align: right;\n    }\n</style>\n<table border=\"1\" class=\"dataframe\">\n  <thead>\n    <tr style=\"text-align: right;\">\n      <th></th>\n      <th>user_id</th>\n      <th>user_statuses</th>\n      <th>name</th>\n      <th>tweet</th>\n      <th>retweets</th>\n      <th>location</th>\n      <th>created</th>\n      <th>followers</th>\n      <th>is_user_verified</th>\n    </tr>\n  </thead>\n  <tbody>\n    <tr>\n      <th>0</th>\n      <td>136420228</td>\n      <td>152284</td>\n      <td>MissNellyNels</td>\n      <td>@fragileceour Wahala for who no be Bohoo chic</td>\n      <td>0</td>\n      <td></td>\n      <td>05-Mar-2021</td>\n      <td>5744</td>\n      <td>False</td>\n    </tr>\n    <tr>\n      <th>1</th>\n      <td>136420228</td>\n      <td>152284</td>\n      <td>MissNellyNels</td>\n      <td>Bohoo take all my money https://t.co/3a7hbF5OX5</td>\n      <td>0</td>\n      <td></td>\n      <td>05-Mar-2021</td>\n      <td>5744</td>\n      <td>False</td>\n    </tr>\n    <tr>\n      <th>2</th>\n      <td>1354040830592335874</td>\n      <td>800</td>\n      <td>thepurpsoul</td>\n      <td>@EB0YGGUKZ @swagijoon Twitter bohoo👎😤</td>\n      <td>0</td>\n      <td>Bangtan's Heart</td>\n      <td>05-Mar-2021</td>\n      <td>45</td>\n      <td>False</td>\n    </tr>\n    <tr>\n      <th>3</th>\n      <td>930457106</td>\n      <td>172758</td>\n      <td>renethelover</td>\n      <td>@neeuQcMxelA @enctrI you clearly view the issu...</td>\n      <td>0</td>\n      <td></td>\n      <td>05-Mar-2021</td>\n      <td>2662</td>\n      <td>False</td>\n    </tr>\n    <tr>\n      <th>4</th>\n      <td>1174750574333632512</td>\n      <td>10807</td>\n      <td>driphaver</td>\n      <td>@240pee bohoo cry about it,,\\nWHAT A PUTT TO T...</td>\n      <td>0</td>\n      <td>Jo#8762 | id/thrasher</td>\n      <td>05-Mar-2021</td>\n      <td>633</td>\n      <td>False</td>\n    </tr>\n  </tbody>\n</table>\n</div>"
     },
     "metadata": {},
     "execution_count": 11
    }
   ],
   "source": [
    "bohoo.head()"
   ]
  },
  {
   "cell_type": "code",
   "execution_count": 12,
   "metadata": {},
   "outputs": [
    {
     "output_type": "stream",
     "name": "stdout",
     "text": [
      "zalando size: (32, 9)\nasos size: (3000, 9)\nbohoo size: (72, 9)\n"
     ]
    }
   ],
   "source": [
    "print('zalando size:', zalando.shape)\n",
    "print('asos size:', asos.shape)\n",
    "print('bohoo size:', bohoo.shape)"
   ]
  },
  {
   "cell_type": "code",
   "execution_count": 2,
   "metadata": {},
   "outputs": [],
   "source": [
    "df = pd.read_json(r\"data_n_models\\one_cleaned_df.json\")"
   ]
  },
  {
   "cell_type": "code",
   "execution_count": 3,
   "metadata": {},
   "outputs": [
    {
     "output_type": "execute_result",
     "data": {
      "text/plain": [
       "   index              user_id  user_statuses           name  \\\n",
       "0      0   793418126500000000            521  MILESmobility   \n",
       "1      1  1119231287000000128             23       pici1303   \n",
       "2      2  1119231287000000128             23       pici1303   \n",
       "3      3  1119231287000000128             23       pici1303   \n",
       "4      4  1119231287000000128             23       pici1303   \n",
       "\n",
       "                                               tweet  retweets  \\\n",
       "0  Good News! Alle interessierten MitarbeiterInne...         0   \n",
       "1  @Zalando Ich weiß dass der Schein da rein muss...         0   \n",
       "2  @Zalando Ich hab mich nur gefragt wofür dieser...         0   \n",
       "3  @Zalando Ich hab doch schon den Rücksendeschei...         0   \n",
       "4  @Zalando bei der Retoure ist noch ein einzelne...         0   \n",
       "\n",
       "              location      created  followers  is_user_verified language  \\\n",
       "0  Berlin, Deutschland  05-Mar-2021        768             False       de   \n",
       "1                       04-Mar-2021          0             False       de   \n",
       "2                       04-Mar-2021          0             False       de   \n",
       "3                       04-Mar-2021          0             False       de   \n",
       "4                       04-Mar-2021          0             False       de   \n",
       "\n",
       "    keyword  favorite_count  in_reply_to_status_id  \n",
       "0  @zalando             NaN                    NaN  \n",
       "1  @zalando             NaN                    NaN  \n",
       "2  @zalando             NaN                    NaN  \n",
       "3  @zalando             NaN                    NaN  \n",
       "4  @zalando             NaN                    NaN  "
      ],
      "text/html": "<div>\n<style scoped>\n    .dataframe tbody tr th:only-of-type {\n        vertical-align: middle;\n    }\n\n    .dataframe tbody tr th {\n        vertical-align: top;\n    }\n\n    .dataframe thead th {\n        text-align: right;\n    }\n</style>\n<table border=\"1\" class=\"dataframe\">\n  <thead>\n    <tr style=\"text-align: right;\">\n      <th></th>\n      <th>index</th>\n      <th>user_id</th>\n      <th>user_statuses</th>\n      <th>name</th>\n      <th>tweet</th>\n      <th>retweets</th>\n      <th>location</th>\n      <th>created</th>\n      <th>followers</th>\n      <th>is_user_verified</th>\n      <th>language</th>\n      <th>keyword</th>\n      <th>favorite_count</th>\n      <th>in_reply_to_status_id</th>\n    </tr>\n  </thead>\n  <tbody>\n    <tr>\n      <th>0</th>\n      <td>0</td>\n      <td>793418126500000000</td>\n      <td>521</td>\n      <td>MILESmobility</td>\n      <td>Good News! Alle interessierten MitarbeiterInne...</td>\n      <td>0</td>\n      <td>Berlin, Deutschland</td>\n      <td>05-Mar-2021</td>\n      <td>768</td>\n      <td>False</td>\n      <td>de</td>\n      <td>@zalando</td>\n      <td>NaN</td>\n      <td>NaN</td>\n    </tr>\n    <tr>\n      <th>1</th>\n      <td>1</td>\n      <td>1119231287000000128</td>\n      <td>23</td>\n      <td>pici1303</td>\n      <td>@Zalando Ich weiß dass der Schein da rein muss...</td>\n      <td>0</td>\n      <td></td>\n      <td>04-Mar-2021</td>\n      <td>0</td>\n      <td>False</td>\n      <td>de</td>\n      <td>@zalando</td>\n      <td>NaN</td>\n      <td>NaN</td>\n    </tr>\n    <tr>\n      <th>2</th>\n      <td>2</td>\n      <td>1119231287000000128</td>\n      <td>23</td>\n      <td>pici1303</td>\n      <td>@Zalando Ich hab mich nur gefragt wofür dieser...</td>\n      <td>0</td>\n      <td></td>\n      <td>04-Mar-2021</td>\n      <td>0</td>\n      <td>False</td>\n      <td>de</td>\n      <td>@zalando</td>\n      <td>NaN</td>\n      <td>NaN</td>\n    </tr>\n    <tr>\n      <th>3</th>\n      <td>3</td>\n      <td>1119231287000000128</td>\n      <td>23</td>\n      <td>pici1303</td>\n      <td>@Zalando Ich hab doch schon den Rücksendeschei...</td>\n      <td>0</td>\n      <td></td>\n      <td>04-Mar-2021</td>\n      <td>0</td>\n      <td>False</td>\n      <td>de</td>\n      <td>@zalando</td>\n      <td>NaN</td>\n      <td>NaN</td>\n    </tr>\n    <tr>\n      <th>4</th>\n      <td>4</td>\n      <td>1119231287000000128</td>\n      <td>23</td>\n      <td>pici1303</td>\n      <td>@Zalando bei der Retoure ist noch ein einzelne...</td>\n      <td>0</td>\n      <td></td>\n      <td>04-Mar-2021</td>\n      <td>0</td>\n      <td>False</td>\n      <td>de</td>\n      <td>@zalando</td>\n      <td>NaN</td>\n      <td>NaN</td>\n    </tr>\n  </tbody>\n</table>\n</div>"
     },
     "metadata": {},
     "execution_count": 3
    }
   ],
   "source": [
    "df.head()"
   ]
  },
  {
   "cell_type": "code",
   "execution_count": 4,
   "metadata": {},
   "outputs": [
    {
     "output_type": "execute_result",
     "data": {
      "text/plain": [
       "asos        97402\n",
       "boohoo      39731\n",
       "zalando     32214\n",
       "@zalando     3176\n",
       "bohoo         846\n",
       "Name: keyword, dtype: int64"
      ]
     },
     "metadata": {},
     "execution_count": 4
    }
   ],
   "source": [
    "df[\"keyword\"].value_counts()"
   ]
  },
  {
   "cell_type": "code",
   "execution_count": 5,
   "metadata": {},
   "outputs": [
    {
     "output_type": "execute_result",
     "data": {
      "text/plain": [
       "en    109987\n",
       "fr     28384\n",
       "es     18634\n",
       "de     10605\n",
       "it      4796\n",
       "sv       745\n",
       "fi       218\n",
       "Name: language, dtype: int64"
      ]
     },
     "metadata": {},
     "execution_count": 5
    }
   ],
   "source": [
    "df[\"language\"].value_counts()"
   ]
  },
  {
   "cell_type": "code",
   "execution_count": 10,
   "metadata": {},
   "outputs": [],
   "source": [
    "filters = [\"zalando\", \"@zalando\"]\n",
    "zalando_en= df[(df[\"language\"].isin([\"en\"]) & df[\"keyword\"].isin(filters))]"
   ]
  },
  {
   "cell_type": "code",
   "execution_count": 13,
   "metadata": {},
   "outputs": [
    {
     "output_type": "stream",
     "name": "stdout",
     "text": [
      "(10334, 14)\n"
     ]
    },
    {
     "output_type": "execute_result",
     "data": {
      "text/plain": [
       "     index              user_id  user_statuses            name  \\\n",
       "383      0  1323291682000000000            133   GreenerRetail   \n",
       "384      1  1259761930000000000              1    fattybabycat   \n",
       "385      2   835467350200000128           2296   piotrkarwatka   \n",
       "386      3             58485935            114  MissyDawn27586   \n",
       "387      4  1059339104000000000          11725    CarolCooney7   \n",
       "\n",
       "                                                 tweet  retweets  \\\n",
       "383  Who and what has made our greener retailing tr...         0   \n",
       "384  .@Zalando offers nothing more than scripted, c...         0   \n",
       "385  We've got a great talk with Fabian Wesner on h...         0   \n",
       "386  @Zalando recieved wrong item... don’t know how...         0   \n",
       "387  @DrewLawDesign @Zalando  have sent me a few de...         0   \n",
       "\n",
       "            location      created  followers  is_user_verified language  \\\n",
       "383     Planet Earth  05-Mar-2021         70             False       en   \n",
       "384                   05-Mar-2021          0             False       en   \n",
       "385  Wrocław, Polska  05-Mar-2021       1347             False       en   \n",
       "386                   05-Mar-2021         27             False       en   \n",
       "387                   05-Mar-2021        457             False       en   \n",
       "\n",
       "      keyword  favorite_count  in_reply_to_status_id  \n",
       "383  @zalando             NaN                    NaN  \n",
       "384  @zalando             NaN                    NaN  \n",
       "385  @zalando             NaN                    NaN  \n",
       "386  @zalando             NaN                    NaN  \n",
       "387  @zalando             NaN                    NaN  "
      ],
      "text/html": "<div>\n<style scoped>\n    .dataframe tbody tr th:only-of-type {\n        vertical-align: middle;\n    }\n\n    .dataframe tbody tr th {\n        vertical-align: top;\n    }\n\n    .dataframe thead th {\n        text-align: right;\n    }\n</style>\n<table border=\"1\" class=\"dataframe\">\n  <thead>\n    <tr style=\"text-align: right;\">\n      <th></th>\n      <th>index</th>\n      <th>user_id</th>\n      <th>user_statuses</th>\n      <th>name</th>\n      <th>tweet</th>\n      <th>retweets</th>\n      <th>location</th>\n      <th>created</th>\n      <th>followers</th>\n      <th>is_user_verified</th>\n      <th>language</th>\n      <th>keyword</th>\n      <th>favorite_count</th>\n      <th>in_reply_to_status_id</th>\n    </tr>\n  </thead>\n  <tbody>\n    <tr>\n      <th>383</th>\n      <td>0</td>\n      <td>1323291682000000000</td>\n      <td>133</td>\n      <td>GreenerRetail</td>\n      <td>Who and what has made our greener retailing tr...</td>\n      <td>0</td>\n      <td>Planet Earth</td>\n      <td>05-Mar-2021</td>\n      <td>70</td>\n      <td>False</td>\n      <td>en</td>\n      <td>@zalando</td>\n      <td>NaN</td>\n      <td>NaN</td>\n    </tr>\n    <tr>\n      <th>384</th>\n      <td>1</td>\n      <td>1259761930000000000</td>\n      <td>1</td>\n      <td>fattybabycat</td>\n      <td>.@Zalando offers nothing more than scripted, c...</td>\n      <td>0</td>\n      <td></td>\n      <td>05-Mar-2021</td>\n      <td>0</td>\n      <td>False</td>\n      <td>en</td>\n      <td>@zalando</td>\n      <td>NaN</td>\n      <td>NaN</td>\n    </tr>\n    <tr>\n      <th>385</th>\n      <td>2</td>\n      <td>835467350200000128</td>\n      <td>2296</td>\n      <td>piotrkarwatka</td>\n      <td>We've got a great talk with Fabian Wesner on h...</td>\n      <td>0</td>\n      <td>Wrocław, Polska</td>\n      <td>05-Mar-2021</td>\n      <td>1347</td>\n      <td>False</td>\n      <td>en</td>\n      <td>@zalando</td>\n      <td>NaN</td>\n      <td>NaN</td>\n    </tr>\n    <tr>\n      <th>386</th>\n      <td>3</td>\n      <td>58485935</td>\n      <td>114</td>\n      <td>MissyDawn27586</td>\n      <td>@Zalando recieved wrong item... don’t know how...</td>\n      <td>0</td>\n      <td></td>\n      <td>05-Mar-2021</td>\n      <td>27</td>\n      <td>False</td>\n      <td>en</td>\n      <td>@zalando</td>\n      <td>NaN</td>\n      <td>NaN</td>\n    </tr>\n    <tr>\n      <th>387</th>\n      <td>4</td>\n      <td>1059339104000000000</td>\n      <td>11725</td>\n      <td>CarolCooney7</td>\n      <td>@DrewLawDesign @Zalando  have sent me a few de...</td>\n      <td>0</td>\n      <td></td>\n      <td>05-Mar-2021</td>\n      <td>457</td>\n      <td>False</td>\n      <td>en</td>\n      <td>@zalando</td>\n      <td>NaN</td>\n      <td>NaN</td>\n    </tr>\n  </tbody>\n</table>\n</div>"
     },
     "metadata": {},
     "execution_count": 13
    }
   ],
   "source": [
    "print(zalando_en.shape)\n",
    "zalando_en.head()\n"
   ]
  },
  {
   "cell_type": "code",
   "execution_count": 14,
   "metadata": {},
   "outputs": [
    {
     "output_type": "execute_result",
     "data": {
      "text/plain": [
       "        index              user_id  user_statuses          name  \\\n",
       "121416     84   963382625400000000            283    PrinNaidoo   \n",
       "140876    305  1252027224000000000           1440       dreaze7   \n",
       "15672      47           2873242068           1514       Yi_y827   \n",
       "63743     472  1291338754000000000           2743  ARecheBrasil   \n",
       "9793      184  1268624052000000000           4293     krimlnalz   \n",
       "\n",
       "                                                    tweet  retweets  \\\n",
       "121416  As covid is interrupting our lives more, I’m t...         0   \n",
       "140876  @NuevSolution Maybe you can help to finally co...         0   \n",
       "15672   @STARLABScripts I have not had success in zala...         0   \n",
       "63743   📸| @_albxreche || Instagram post #albareche \\n...         1   \n",
       "9793    @NoCaptchaLoop i feel as if zalando is getting...         0   \n",
       "\n",
       "               location      created  followers  is_user_verified language  \\\n",
       "121416  Berlin, Germany  29-Mar-2021        148             False       en   \n",
       "140876         Belgique  30-Mar-2021         27             False       en   \n",
       "15672           BOTTER🤖  07-Mar-2021         14             False       en   \n",
       "63743                    11-Mar-2021        157             False       en   \n",
       "9793                     03-Mar-2021         40             False       en   \n",
       "\n",
       "        keyword  favorite_count  in_reply_to_status_id  \n",
       "121416  zalando             1.0                    NaN  \n",
       "140876  zalando             0.0           1.376913e+18  \n",
       "15672   zalando             0.0           1.368653e+18  \n",
       "63743   zalando             3.0                    NaN  \n",
       "9793    zalando             0.0           1.367110e+18  "
      ],
      "text/html": "<div>\n<style scoped>\n    .dataframe tbody tr th:only-of-type {\n        vertical-align: middle;\n    }\n\n    .dataframe tbody tr th {\n        vertical-align: top;\n    }\n\n    .dataframe thead th {\n        text-align: right;\n    }\n</style>\n<table border=\"1\" class=\"dataframe\">\n  <thead>\n    <tr style=\"text-align: right;\">\n      <th></th>\n      <th>index</th>\n      <th>user_id</th>\n      <th>user_statuses</th>\n      <th>name</th>\n      <th>tweet</th>\n      <th>retweets</th>\n      <th>location</th>\n      <th>created</th>\n      <th>followers</th>\n      <th>is_user_verified</th>\n      <th>language</th>\n      <th>keyword</th>\n      <th>favorite_count</th>\n      <th>in_reply_to_status_id</th>\n    </tr>\n  </thead>\n  <tbody>\n    <tr>\n      <th>121416</th>\n      <td>84</td>\n      <td>963382625400000000</td>\n      <td>283</td>\n      <td>PrinNaidoo</td>\n      <td>As covid is interrupting our lives more, I’m t...</td>\n      <td>0</td>\n      <td>Berlin, Germany</td>\n      <td>29-Mar-2021</td>\n      <td>148</td>\n      <td>False</td>\n      <td>en</td>\n      <td>zalando</td>\n      <td>1.0</td>\n      <td>NaN</td>\n    </tr>\n    <tr>\n      <th>140876</th>\n      <td>305</td>\n      <td>1252027224000000000</td>\n      <td>1440</td>\n      <td>dreaze7</td>\n      <td>@NuevSolution Maybe you can help to finally co...</td>\n      <td>0</td>\n      <td>Belgique</td>\n      <td>30-Mar-2021</td>\n      <td>27</td>\n      <td>False</td>\n      <td>en</td>\n      <td>zalando</td>\n      <td>0.0</td>\n      <td>1.376913e+18</td>\n    </tr>\n    <tr>\n      <th>15672</th>\n      <td>47</td>\n      <td>2873242068</td>\n      <td>1514</td>\n      <td>Yi_y827</td>\n      <td>@STARLABScripts I have not had success in zala...</td>\n      <td>0</td>\n      <td>BOTTER🤖</td>\n      <td>07-Mar-2021</td>\n      <td>14</td>\n      <td>False</td>\n      <td>en</td>\n      <td>zalando</td>\n      <td>0.0</td>\n      <td>1.368653e+18</td>\n    </tr>\n    <tr>\n      <th>63743</th>\n      <td>472</td>\n      <td>1291338754000000000</td>\n      <td>2743</td>\n      <td>ARecheBrasil</td>\n      <td>📸| @_albxreche || Instagram post #albareche \\n...</td>\n      <td>1</td>\n      <td></td>\n      <td>11-Mar-2021</td>\n      <td>157</td>\n      <td>False</td>\n      <td>en</td>\n      <td>zalando</td>\n      <td>3.0</td>\n      <td>NaN</td>\n    </tr>\n    <tr>\n      <th>9793</th>\n      <td>184</td>\n      <td>1268624052000000000</td>\n      <td>4293</td>\n      <td>krimlnalz</td>\n      <td>@NoCaptchaLoop i feel as if zalando is getting...</td>\n      <td>0</td>\n      <td></td>\n      <td>03-Mar-2021</td>\n      <td>40</td>\n      <td>False</td>\n      <td>en</td>\n      <td>zalando</td>\n      <td>0.0</td>\n      <td>1.367110e+18</td>\n    </tr>\n  </tbody>\n</table>\n</div>"
     },
     "metadata": {},
     "execution_count": 14
    }
   ],
   "source": [
    "shuffled_df = zalando_en.sample(frac=1, random_state= 42)\n",
    "shuffled_df.head()"
   ]
  },
  {
   "cell_type": "code",
   "execution_count": 17,
   "metadata": {},
   "outputs": [
    {
     "output_type": "execute_result",
     "data": {
      "text/plain": [
       "(200, 14)"
      ]
     },
     "metadata": {},
     "execution_count": 17
    }
   ],
   "source": [
    "first200 = shuffled_df.iloc[:200, :]\n",
    "first200.shape"
   ]
  },
  {
   "cell_type": "code",
   "execution_count": 18,
   "metadata": {},
   "outputs": [
    {
     "output_type": "execute_result",
     "data": {
      "text/plain": [
       "        index              user_id  user_statuses          name  \\\n",
       "121416     84   963382625400000000            283    PrinNaidoo   \n",
       "140876    305  1252027224000000000           1440       dreaze7   \n",
       "15672      47           2873242068           1514       Yi_y827   \n",
       "63743     472  1291338754000000000           2743  ARecheBrasil   \n",
       "9793      184  1268624052000000000           4293     krimlnalz   \n",
       "\n",
       "                                                    tweet  retweets  \\\n",
       "121416  As covid is interrupting our lives more, I’m t...         0   \n",
       "140876  @NuevSolution Maybe you can help to finally co...         0   \n",
       "15672   @STARLABScripts I have not had success in zala...         0   \n",
       "63743   📸| @_albxreche || Instagram post #albareche \\n...         1   \n",
       "9793    @NoCaptchaLoop i feel as if zalando is getting...         0   \n",
       "\n",
       "               location      created  followers  is_user_verified language  \\\n",
       "121416  Berlin, Germany  29-Mar-2021        148             False       en   \n",
       "140876         Belgique  30-Mar-2021         27             False       en   \n",
       "15672           BOTTER🤖  07-Mar-2021         14             False       en   \n",
       "63743                    11-Mar-2021        157             False       en   \n",
       "9793                     03-Mar-2021         40             False       en   \n",
       "\n",
       "        keyword  favorite_count  in_reply_to_status_id  \n",
       "121416  zalando             1.0                    NaN  \n",
       "140876  zalando             0.0           1.376913e+18  \n",
       "15672   zalando             0.0           1.368653e+18  \n",
       "63743   zalando             3.0                    NaN  \n",
       "9793    zalando             0.0           1.367110e+18  "
      ],
      "text/html": "<div>\n<style scoped>\n    .dataframe tbody tr th:only-of-type {\n        vertical-align: middle;\n    }\n\n    .dataframe tbody tr th {\n        vertical-align: top;\n    }\n\n    .dataframe thead th {\n        text-align: right;\n    }\n</style>\n<table border=\"1\" class=\"dataframe\">\n  <thead>\n    <tr style=\"text-align: right;\">\n      <th></th>\n      <th>index</th>\n      <th>user_id</th>\n      <th>user_statuses</th>\n      <th>name</th>\n      <th>tweet</th>\n      <th>retweets</th>\n      <th>location</th>\n      <th>created</th>\n      <th>followers</th>\n      <th>is_user_verified</th>\n      <th>language</th>\n      <th>keyword</th>\n      <th>favorite_count</th>\n      <th>in_reply_to_status_id</th>\n    </tr>\n  </thead>\n  <tbody>\n    <tr>\n      <th>121416</th>\n      <td>84</td>\n      <td>963382625400000000</td>\n      <td>283</td>\n      <td>PrinNaidoo</td>\n      <td>As covid is interrupting our lives more, I’m t...</td>\n      <td>0</td>\n      <td>Berlin, Germany</td>\n      <td>29-Mar-2021</td>\n      <td>148</td>\n      <td>False</td>\n      <td>en</td>\n      <td>zalando</td>\n      <td>1.0</td>\n      <td>NaN</td>\n    </tr>\n    <tr>\n      <th>140876</th>\n      <td>305</td>\n      <td>1252027224000000000</td>\n      <td>1440</td>\n      <td>dreaze7</td>\n      <td>@NuevSolution Maybe you can help to finally co...</td>\n      <td>0</td>\n      <td>Belgique</td>\n      <td>30-Mar-2021</td>\n      <td>27</td>\n      <td>False</td>\n      <td>en</td>\n      <td>zalando</td>\n      <td>0.0</td>\n      <td>1.376913e+18</td>\n    </tr>\n    <tr>\n      <th>15672</th>\n      <td>47</td>\n      <td>2873242068</td>\n      <td>1514</td>\n      <td>Yi_y827</td>\n      <td>@STARLABScripts I have not had success in zala...</td>\n      <td>0</td>\n      <td>BOTTER🤖</td>\n      <td>07-Mar-2021</td>\n      <td>14</td>\n      <td>False</td>\n      <td>en</td>\n      <td>zalando</td>\n      <td>0.0</td>\n      <td>1.368653e+18</td>\n    </tr>\n    <tr>\n      <th>63743</th>\n      <td>472</td>\n      <td>1291338754000000000</td>\n      <td>2743</td>\n      <td>ARecheBrasil</td>\n      <td>📸| @_albxreche || Instagram post #albareche \\n...</td>\n      <td>1</td>\n      <td></td>\n      <td>11-Mar-2021</td>\n      <td>157</td>\n      <td>False</td>\n      <td>en</td>\n      <td>zalando</td>\n      <td>3.0</td>\n      <td>NaN</td>\n    </tr>\n    <tr>\n      <th>9793</th>\n      <td>184</td>\n      <td>1268624052000000000</td>\n      <td>4293</td>\n      <td>krimlnalz</td>\n      <td>@NoCaptchaLoop i feel as if zalando is getting...</td>\n      <td>0</td>\n      <td></td>\n      <td>03-Mar-2021</td>\n      <td>40</td>\n      <td>False</td>\n      <td>en</td>\n      <td>zalando</td>\n      <td>0.0</td>\n      <td>1.367110e+18</td>\n    </tr>\n  </tbody>\n</table>\n</div>"
     },
     "metadata": {},
     "execution_count": 18
    }
   ],
   "source": [
    "first200.head()"
   ]
  },
  {
   "source": [
    "## Manual Labelling comparison"
   ],
   "cell_type": "markdown",
   "metadata": {}
  },
  {
   "cell_type": "code",
   "execution_count": 38,
   "metadata": {},
   "outputs": [],
   "source": [
    "first200.to_excel(r\"data_n_models\\first200.xlsx\")"
   ]
  },
  {
   "cell_type": "code",
   "execution_count": 21,
   "metadata": {},
   "outputs": [
    {
     "output_type": "execute_result",
     "data": {
      "text/plain": [
       "        index              user_id  user_statuses             name  \\\n",
       "121416     84   963382625400000000            283       PrinNaidoo   \n",
       "140876    305  1252027224000000000           1440          dreaze7   \n",
       "15672      47           2873242068           1514          Yi_y827   \n",
       "63743     472  1291338754000000000           2743     ARecheBrasil   \n",
       "9793      184  1268624052000000000           4293        krimlnalz   \n",
       "150614    272  1371600559000000000             17    scriptingtool   \n",
       "3494        7   830115018900000000           3220  EmpowerWithTech   \n",
       "28006      30           1345043875          34196  Functionalworks   \n",
       "131292    347  1319976952000000000             66     fasthandsAIO   \n",
       "92784     145            281244257          20179  CrisWorthington   \n",
       "40832     176  1186294893000000000          68048    CompanyNewsHQ   \n",
       "9823      214             59900894          19367          Zalando   \n",
       "131187    242  1022818660000000000           6548     notbitquence   \n",
       "21830      59           3148138756           7613    mysokohldlife   \n",
       "54057     378            624917710         903074     IvanGagliolo   \n",
       "150391     49  1373649711000000000           1663      cillimurphy   \n",
       "9774      165           4480611574          41472      kreuzberged   \n",
       "15790     165  1166460971000000000            340   dennis88300764   \n",
       "3490        3   999411369600000000            464       Zalando_NL   \n",
       "170087    164  1366323939000000000             99        Lukeeenos   \n",
       "\n",
       "                                                    tweet  retweets  \\\n",
       "121416  As covid is interrupting our lives more, I’m t...         0   \n",
       "140876  @NuevSolution Maybe you can help to finally co...         0   \n",
       "15672   @STARLABScripts I have not had success in zala...         0   \n",
       "63743   📸| @_albxreche || Instagram post #albareche \\n...         1   \n",
       "9793    @NoCaptchaLoop i feel as if zalando is getting...         0   \n",
       "150614  Zalando - Link Scraper\\n - redesigned and impr...         0   \n",
       "3494    From BBC News to Director of Outfits at Zaland...         0   \n",
       "28006   Check out Zalando SE in Berlin\\n\\nThey're look...         0   \n",
       "131292  Since the 3.0 only Zalando orders arrived 😎 \\n...         0   \n",
       "92784   Zalando laud’s society’s champions and celebra...         3   \n",
       "40832   DHL dispatches its first package as operations...         0   \n",
       "9823    @Idarmida Hey there! Can you give me the artic...         0   \n",
       "131187  @i__am__aka @Camilo_Dev what u think of the za...         0   \n",
       "21830   Hi @zalando_uk 👋🏼 My accounts been hacked &amp...         0   \n",
       "54057   @Irina_Vukolova\\n😃 These are the two books I p...         0   \n",
       "150391  zalando is my fookin existence https://t.co/NF...         0   \n",
       "9774    @ber_zeitung_en So, I have read this text twic...         0   \n",
       "15790   @fagioli_lorenzo @theGaneshBot zalando weekly ...         0   \n",
       "3490    Thanks @theGaneshBot  &lt;3\\n\\n3 ice cream low...         2   \n",
       "170087  DAY 1 HAVING @ShinobiScripts in my wishlist.\\n...         0   \n",
       "\n",
       "                     location      created  followers  is_user_verified  \\\n",
       "121416        Berlin, Germany  29-Mar-2021        148             False   \n",
       "140876               Belgique  30-Mar-2021         27             False   \n",
       "15672                 BOTTER🤖  07-Mar-2021         14             False   \n",
       "63743                          11-Mar-2021        157             False   \n",
       "9793                           03-Mar-2021         40             False   \n",
       "150614                         05-Apr-2021         82             False   \n",
       "3494                    Leeds  05-Mar-2021       6300             False   \n",
       "28006       London | New York  10-Mar-2021       7545             False   \n",
       "131292            Deutschland  25-Mar-2021          5             False   \n",
       "92784        Vancouver Canada  23-Mar-2021      51923             False   \n",
       "40832                          12-Mar-2021        105             False   \n",
       "9823      Berlin, Deutschland  02-Mar-2021      24670             False   \n",
       "131187                         27-Mar-2021       1057             False   \n",
       "21830     South East, England  08-Mar-2021       3673             False   \n",
       "54057   Abbiategrasso (Milan)  12-Mar-2021          0             False   \n",
       "150391                         07-Apr-2021        214             False   \n",
       "9774      Berlin, Deutschland  04-Mar-2021      11058             False   \n",
       "15790                  Italia  05-Mar-2021         32             False   \n",
       "3490                           05-Mar-2021         12             False   \n",
       "170087                         16-Apr-2021          4             False   \n",
       "\n",
       "       language  keyword  favorite_count  in_reply_to_status_id  \n",
       "121416       en  zalando             1.0                    NaN  \n",
       "140876       en  zalando             0.0           1.376913e+18  \n",
       "15672        en  zalando             0.0           1.368653e+18  \n",
       "63743        en  zalando             3.0                    NaN  \n",
       "9793         en  zalando             0.0           1.367110e+18  \n",
       "150614       en  zalando             4.0           1.374408e+18  \n",
       "3494         en  zalando             NaN                    NaN  \n",
       "28006        en  zalando             0.0                    NaN  \n",
       "131292       en  zalando             1.0                    NaN  \n",
       "92784        en  zalando             0.0                    NaN  \n",
       "40832        en  zalando             0.0                    NaN  \n",
       "9823         en  zalando             0.0           1.366480e+18  \n",
       "131187       en  zalando             1.0           1.375867e+18  \n",
       "21830        en  zalando             0.0                    NaN  \n",
       "54057        en  zalando             0.0                    NaN  \n",
       "150391       en  zalando             6.0                    NaN  \n",
       "9774         en  zalando             1.0           1.367111e+18  \n",
       "15790        en  zalando             1.0                    NaN  \n",
       "3490         en  zalando             NaN                    NaN  \n",
       "170087       en  zalando             0.0                    NaN  "
      ],
      "text/html": "<div>\n<style scoped>\n    .dataframe tbody tr th:only-of-type {\n        vertical-align: middle;\n    }\n\n    .dataframe tbody tr th {\n        vertical-align: top;\n    }\n\n    .dataframe thead th {\n        text-align: right;\n    }\n</style>\n<table border=\"1\" class=\"dataframe\">\n  <thead>\n    <tr style=\"text-align: right;\">\n      <th></th>\n      <th>index</th>\n      <th>user_id</th>\n      <th>user_statuses</th>\n      <th>name</th>\n      <th>tweet</th>\n      <th>retweets</th>\n      <th>location</th>\n      <th>created</th>\n      <th>followers</th>\n      <th>is_user_verified</th>\n      <th>language</th>\n      <th>keyword</th>\n      <th>favorite_count</th>\n      <th>in_reply_to_status_id</th>\n    </tr>\n  </thead>\n  <tbody>\n    <tr>\n      <th>121416</th>\n      <td>84</td>\n      <td>963382625400000000</td>\n      <td>283</td>\n      <td>PrinNaidoo</td>\n      <td>As covid is interrupting our lives more, I’m t...</td>\n      <td>0</td>\n      <td>Berlin, Germany</td>\n      <td>29-Mar-2021</td>\n      <td>148</td>\n      <td>False</td>\n      <td>en</td>\n      <td>zalando</td>\n      <td>1.0</td>\n      <td>NaN</td>\n    </tr>\n    <tr>\n      <th>140876</th>\n      <td>305</td>\n      <td>1252027224000000000</td>\n      <td>1440</td>\n      <td>dreaze7</td>\n      <td>@NuevSolution Maybe you can help to finally co...</td>\n      <td>0</td>\n      <td>Belgique</td>\n      <td>30-Mar-2021</td>\n      <td>27</td>\n      <td>False</td>\n      <td>en</td>\n      <td>zalando</td>\n      <td>0.0</td>\n      <td>1.376913e+18</td>\n    </tr>\n    <tr>\n      <th>15672</th>\n      <td>47</td>\n      <td>2873242068</td>\n      <td>1514</td>\n      <td>Yi_y827</td>\n      <td>@STARLABScripts I have not had success in zala...</td>\n      <td>0</td>\n      <td>BOTTER🤖</td>\n      <td>07-Mar-2021</td>\n      <td>14</td>\n      <td>False</td>\n      <td>en</td>\n      <td>zalando</td>\n      <td>0.0</td>\n      <td>1.368653e+18</td>\n    </tr>\n    <tr>\n      <th>63743</th>\n      <td>472</td>\n      <td>1291338754000000000</td>\n      <td>2743</td>\n      <td>ARecheBrasil</td>\n      <td>📸| @_albxreche || Instagram post #albareche \\n...</td>\n      <td>1</td>\n      <td></td>\n      <td>11-Mar-2021</td>\n      <td>157</td>\n      <td>False</td>\n      <td>en</td>\n      <td>zalando</td>\n      <td>3.0</td>\n      <td>NaN</td>\n    </tr>\n    <tr>\n      <th>9793</th>\n      <td>184</td>\n      <td>1268624052000000000</td>\n      <td>4293</td>\n      <td>krimlnalz</td>\n      <td>@NoCaptchaLoop i feel as if zalando is getting...</td>\n      <td>0</td>\n      <td></td>\n      <td>03-Mar-2021</td>\n      <td>40</td>\n      <td>False</td>\n      <td>en</td>\n      <td>zalando</td>\n      <td>0.0</td>\n      <td>1.367110e+18</td>\n    </tr>\n    <tr>\n      <th>150614</th>\n      <td>272</td>\n      <td>1371600559000000000</td>\n      <td>17</td>\n      <td>scriptingtool</td>\n      <td>Zalando - Link Scraper\\n - redesigned and impr...</td>\n      <td>0</td>\n      <td></td>\n      <td>05-Apr-2021</td>\n      <td>82</td>\n      <td>False</td>\n      <td>en</td>\n      <td>zalando</td>\n      <td>4.0</td>\n      <td>1.374408e+18</td>\n    </tr>\n    <tr>\n      <th>3494</th>\n      <td>7</td>\n      <td>830115018900000000</td>\n      <td>3220</td>\n      <td>EmpowerWithTech</td>\n      <td>From BBC News to Director of Outfits at Zaland...</td>\n      <td>0</td>\n      <td>Leeds</td>\n      <td>05-Mar-2021</td>\n      <td>6300</td>\n      <td>False</td>\n      <td>en</td>\n      <td>zalando</td>\n      <td>NaN</td>\n      <td>NaN</td>\n    </tr>\n    <tr>\n      <th>28006</th>\n      <td>30</td>\n      <td>1345043875</td>\n      <td>34196</td>\n      <td>Functionalworks</td>\n      <td>Check out Zalando SE in Berlin\\n\\nThey're look...</td>\n      <td>0</td>\n      <td>London | New York</td>\n      <td>10-Mar-2021</td>\n      <td>7545</td>\n      <td>False</td>\n      <td>en</td>\n      <td>zalando</td>\n      <td>0.0</td>\n      <td>NaN</td>\n    </tr>\n    <tr>\n      <th>131292</th>\n      <td>347</td>\n      <td>1319976952000000000</td>\n      <td>66</td>\n      <td>fasthandsAIO</td>\n      <td>Since the 3.0 only Zalando orders arrived 😎 \\n...</td>\n      <td>0</td>\n      <td>Deutschland</td>\n      <td>25-Mar-2021</td>\n      <td>5</td>\n      <td>False</td>\n      <td>en</td>\n      <td>zalando</td>\n      <td>1.0</td>\n      <td>NaN</td>\n    </tr>\n    <tr>\n      <th>92784</th>\n      <td>145</td>\n      <td>281244257</td>\n      <td>20179</td>\n      <td>CrisWorthington</td>\n      <td>Zalando laud’s society’s champions and celebra...</td>\n      <td>3</td>\n      <td>Vancouver Canada</td>\n      <td>23-Mar-2021</td>\n      <td>51923</td>\n      <td>False</td>\n      <td>en</td>\n      <td>zalando</td>\n      <td>0.0</td>\n      <td>NaN</td>\n    </tr>\n    <tr>\n      <th>40832</th>\n      <td>176</td>\n      <td>1186294893000000000</td>\n      <td>68048</td>\n      <td>CompanyNewsHQ</td>\n      <td>DHL dispatches its first package as operations...</td>\n      <td>0</td>\n      <td></td>\n      <td>12-Mar-2021</td>\n      <td>105</td>\n      <td>False</td>\n      <td>en</td>\n      <td>zalando</td>\n      <td>0.0</td>\n      <td>NaN</td>\n    </tr>\n    <tr>\n      <th>9823</th>\n      <td>214</td>\n      <td>59900894</td>\n      <td>19367</td>\n      <td>Zalando</td>\n      <td>@Idarmida Hey there! Can you give me the artic...</td>\n      <td>0</td>\n      <td>Berlin, Deutschland</td>\n      <td>02-Mar-2021</td>\n      <td>24670</td>\n      <td>False</td>\n      <td>en</td>\n      <td>zalando</td>\n      <td>0.0</td>\n      <td>1.366480e+18</td>\n    </tr>\n    <tr>\n      <th>131187</th>\n      <td>242</td>\n      <td>1022818660000000000</td>\n      <td>6548</td>\n      <td>notbitquence</td>\n      <td>@i__am__aka @Camilo_Dev what u think of the za...</td>\n      <td>0</td>\n      <td></td>\n      <td>27-Mar-2021</td>\n      <td>1057</td>\n      <td>False</td>\n      <td>en</td>\n      <td>zalando</td>\n      <td>1.0</td>\n      <td>1.375867e+18</td>\n    </tr>\n    <tr>\n      <th>21830</th>\n      <td>59</td>\n      <td>3148138756</td>\n      <td>7613</td>\n      <td>mysokohldlife</td>\n      <td>Hi @zalando_uk 👋🏼 My accounts been hacked &amp;amp...</td>\n      <td>0</td>\n      <td>South East, England</td>\n      <td>08-Mar-2021</td>\n      <td>3673</td>\n      <td>False</td>\n      <td>en</td>\n      <td>zalando</td>\n      <td>0.0</td>\n      <td>NaN</td>\n    </tr>\n    <tr>\n      <th>54057</th>\n      <td>378</td>\n      <td>624917710</td>\n      <td>903074</td>\n      <td>IvanGagliolo</td>\n      <td>@Irina_Vukolova\\n😃 These are the two books I p...</td>\n      <td>0</td>\n      <td>Abbiategrasso (Milan)</td>\n      <td>12-Mar-2021</td>\n      <td>0</td>\n      <td>False</td>\n      <td>en</td>\n      <td>zalando</td>\n      <td>0.0</td>\n      <td>NaN</td>\n    </tr>\n    <tr>\n      <th>150391</th>\n      <td>49</td>\n      <td>1373649711000000000</td>\n      <td>1663</td>\n      <td>cillimurphy</td>\n      <td>zalando is my fookin existence https://t.co/NF...</td>\n      <td>0</td>\n      <td></td>\n      <td>07-Apr-2021</td>\n      <td>214</td>\n      <td>False</td>\n      <td>en</td>\n      <td>zalando</td>\n      <td>6.0</td>\n      <td>NaN</td>\n    </tr>\n    <tr>\n      <th>9774</th>\n      <td>165</td>\n      <td>4480611574</td>\n      <td>41472</td>\n      <td>kreuzberged</td>\n      <td>@ber_zeitung_en So, I have read this text twic...</td>\n      <td>0</td>\n      <td>Berlin, Deutschland</td>\n      <td>04-Mar-2021</td>\n      <td>11058</td>\n      <td>False</td>\n      <td>en</td>\n      <td>zalando</td>\n      <td>1.0</td>\n      <td>1.367111e+18</td>\n    </tr>\n    <tr>\n      <th>15790</th>\n      <td>165</td>\n      <td>1166460971000000000</td>\n      <td>340</td>\n      <td>dennis88300764</td>\n      <td>@fagioli_lorenzo @theGaneshBot zalando weekly ...</td>\n      <td>0</td>\n      <td>Italia</td>\n      <td>05-Mar-2021</td>\n      <td>32</td>\n      <td>False</td>\n      <td>en</td>\n      <td>zalando</td>\n      <td>1.0</td>\n      <td>NaN</td>\n    </tr>\n    <tr>\n      <th>3490</th>\n      <td>3</td>\n      <td>999411369600000000</td>\n      <td>464</td>\n      <td>Zalando_NL</td>\n      <td>Thanks @theGaneshBot  &amp;lt;3\\n\\n3 ice cream low...</td>\n      <td>2</td>\n      <td></td>\n      <td>05-Mar-2021</td>\n      <td>12</td>\n      <td>False</td>\n      <td>en</td>\n      <td>zalando</td>\n      <td>NaN</td>\n      <td>NaN</td>\n    </tr>\n    <tr>\n      <th>170087</th>\n      <td>164</td>\n      <td>1366323939000000000</td>\n      <td>99</td>\n      <td>Lukeeenos</td>\n      <td>DAY 1 HAVING @ShinobiScripts in my wishlist.\\n...</td>\n      <td>0</td>\n      <td></td>\n      <td>16-Apr-2021</td>\n      <td>4</td>\n      <td>False</td>\n      <td>en</td>\n      <td>zalando</td>\n      <td>0.0</td>\n      <td>NaN</td>\n    </tr>\n  </tbody>\n</table>\n</div>"
     },
     "metadata": {},
     "execution_count": 21
    }
   ],
   "source": [
    "first200.head(20)"
   ]
  },
  {
   "cell_type": "code",
   "execution_count": 44,
   "metadata": {},
   "outputs": [
    {
     "output_type": "execute_result",
     "data": {
      "text/plain": [
       "index                                                                  353\n",
       "user_id                                                1362305882000000000\n",
       "user_statuses                                                           35\n",
       "name                                                            BobProxies\n",
       "tweet                    To Celebrate Todays INSANE Zalando Success,\\n\\...\n",
       "retweets                                                                 1\n",
       "location                                                                  \n",
       "created                                                        06-Apr-2021\n",
       "followers                                                              298\n",
       "is_user_verified                                                     False\n",
       "language                                                                en\n",
       "keyword                                                            zalando\n",
       "favorite_count                                                        14.0\n",
       "in_reply_to_status_id                                                  NaN\n",
       "Name: 160409, dtype: object"
      ]
     },
     "metadata": {},
     "execution_count": 44
    }
   ],
   "source": [
    "first200.iloc[87]"
   ]
  },
  {
   "cell_type": "code",
   "execution_count": 54,
   "metadata": {},
   "outputs": [],
   "source": [
    "labelled = pd.read_excel(r\"data_n_models\\first200.xlsx\")"
   ]
  },
  {
   "cell_type": "code",
   "execution_count": 55,
   "metadata": {},
   "outputs": [
    {
     "output_type": "execute_result",
     "data": {
      "text/plain": [
       "   Column1  index              user_id  user_statuses          name  \\\n",
       "0   121416     84   963382625400000000            283    PrinNaidoo   \n",
       "1   140876    305  1252027224000000000           1440       dreaze7   \n",
       "2    15672     47           2873242068           1514       Yi_y827   \n",
       "3    63743    472  1291338754000000000           2743  ARecheBrasil   \n",
       "4     9793    184  1268624052000000000           4293     krimlnalz   \n",
       "\n",
       "                                               tweet  retweets  \\\n",
       "0  As covid is interrupting our lives more, I’m t...         0   \n",
       "1  @NuevSolution Maybe you can help to finally co...         0   \n",
       "2  @STARLABScripts I have not had success in zala...         0   \n",
       "3  📸| @_albxreche || Instagram post #albareche \\n...         1   \n",
       "4  @NoCaptchaLoop i feel as if zalando is getting...         0   \n",
       "\n",
       "          location      created  followers  is_user_verified language  \\\n",
       "0  Berlin, Germany  29-Mar-2021        148             False       en   \n",
       "1         Belgique  30-Mar-2021         27             False       en   \n",
       "2          BOTTER🤖  07-Mar-2021         14             False       en   \n",
       "3              NaN  11-Mar-2021        157             False       en   \n",
       "4              NaN  03-Mar-2021         40             False       en   \n",
       "\n",
       "   keyword  favorite_count  in_reply_to_status_id  sentiments  \n",
       "0  zalando             1.0                    NaN           0  \n",
       "1  zalando             0.0           1.376913e+18           0  \n",
       "2  zalando             0.0           1.368653e+18           0  \n",
       "3  zalando             3.0                    NaN           2  \n",
       "4  zalando             0.0           1.367110e+18           0  "
      ],
      "text/html": "<div>\n<style scoped>\n    .dataframe tbody tr th:only-of-type {\n        vertical-align: middle;\n    }\n\n    .dataframe tbody tr th {\n        vertical-align: top;\n    }\n\n    .dataframe thead th {\n        text-align: right;\n    }\n</style>\n<table border=\"1\" class=\"dataframe\">\n  <thead>\n    <tr style=\"text-align: right;\">\n      <th></th>\n      <th>Column1</th>\n      <th>index</th>\n      <th>user_id</th>\n      <th>user_statuses</th>\n      <th>name</th>\n      <th>tweet</th>\n      <th>retweets</th>\n      <th>location</th>\n      <th>created</th>\n      <th>followers</th>\n      <th>is_user_verified</th>\n      <th>language</th>\n      <th>keyword</th>\n      <th>favorite_count</th>\n      <th>in_reply_to_status_id</th>\n      <th>sentiments</th>\n    </tr>\n  </thead>\n  <tbody>\n    <tr>\n      <th>0</th>\n      <td>121416</td>\n      <td>84</td>\n      <td>963382625400000000</td>\n      <td>283</td>\n      <td>PrinNaidoo</td>\n      <td>As covid is interrupting our lives more, I’m t...</td>\n      <td>0</td>\n      <td>Berlin, Germany</td>\n      <td>29-Mar-2021</td>\n      <td>148</td>\n      <td>False</td>\n      <td>en</td>\n      <td>zalando</td>\n      <td>1.0</td>\n      <td>NaN</td>\n      <td>0</td>\n    </tr>\n    <tr>\n      <th>1</th>\n      <td>140876</td>\n      <td>305</td>\n      <td>1252027224000000000</td>\n      <td>1440</td>\n      <td>dreaze7</td>\n      <td>@NuevSolution Maybe you can help to finally co...</td>\n      <td>0</td>\n      <td>Belgique</td>\n      <td>30-Mar-2021</td>\n      <td>27</td>\n      <td>False</td>\n      <td>en</td>\n      <td>zalando</td>\n      <td>0.0</td>\n      <td>1.376913e+18</td>\n      <td>0</td>\n    </tr>\n    <tr>\n      <th>2</th>\n      <td>15672</td>\n      <td>47</td>\n      <td>2873242068</td>\n      <td>1514</td>\n      <td>Yi_y827</td>\n      <td>@STARLABScripts I have not had success in zala...</td>\n      <td>0</td>\n      <td>BOTTER🤖</td>\n      <td>07-Mar-2021</td>\n      <td>14</td>\n      <td>False</td>\n      <td>en</td>\n      <td>zalando</td>\n      <td>0.0</td>\n      <td>1.368653e+18</td>\n      <td>0</td>\n    </tr>\n    <tr>\n      <th>3</th>\n      <td>63743</td>\n      <td>472</td>\n      <td>1291338754000000000</td>\n      <td>2743</td>\n      <td>ARecheBrasil</td>\n      <td>📸| @_albxreche || Instagram post #albareche \\n...</td>\n      <td>1</td>\n      <td>NaN</td>\n      <td>11-Mar-2021</td>\n      <td>157</td>\n      <td>False</td>\n      <td>en</td>\n      <td>zalando</td>\n      <td>3.0</td>\n      <td>NaN</td>\n      <td>2</td>\n    </tr>\n    <tr>\n      <th>4</th>\n      <td>9793</td>\n      <td>184</td>\n      <td>1268624052000000000</td>\n      <td>4293</td>\n      <td>krimlnalz</td>\n      <td>@NoCaptchaLoop i feel as if zalando is getting...</td>\n      <td>0</td>\n      <td>NaN</td>\n      <td>03-Mar-2021</td>\n      <td>40</td>\n      <td>False</td>\n      <td>en</td>\n      <td>zalando</td>\n      <td>0.0</td>\n      <td>1.367110e+18</td>\n      <td>0</td>\n    </tr>\n  </tbody>\n</table>\n</div>"
     },
     "metadata": {},
     "execution_count": 55
    }
   ],
   "source": [
    "labelled.head()"
   ]
  },
  {
   "cell_type": "code",
   "execution_count": 56,
   "metadata": {},
   "outputs": [
    {
     "output_type": "stream",
     "name": "stderr",
     "text": [
      "<string>:102: FutureWarning: The default value of regex will change from True to False in a future version.\n",
      "<string>:122: FutureWarning: The default value of regex will change from True to False in a future version.\n"
     ]
    },
    {
     "output_type": "execute_result",
     "data": {
      "text/plain": [
       "   Column1  index             user_id  user_statuses        name  \\\n",
       "0   121416     84  963382625400000000            283  PrinNaidoo   \n",
       "\n",
       "                                               tweet  retweets  \\\n",
       "0  As covid is interrupting our lives more, I’m t...         0   \n",
       "\n",
       "          location      created  followers  is_user_verified language  \\\n",
       "0  Berlin, Germany  29-Mar-2021        148             False       en   \n",
       "\n",
       "   keyword  favorite_count  in_reply_to_status_id  sentiments  \\\n",
       "0  zalando             1.0                    NaN           0   \n",
       "\n",
       "                                     cleaned_4_vader  \n",
       "0  covid interrupting our lives more, I’m trying ...  "
      ],
      "text/html": "<div>\n<style scoped>\n    .dataframe tbody tr th:only-of-type {\n        vertical-align: middle;\n    }\n\n    .dataframe tbody tr th {\n        vertical-align: top;\n    }\n\n    .dataframe thead th {\n        text-align: right;\n    }\n</style>\n<table border=\"1\" class=\"dataframe\">\n  <thead>\n    <tr style=\"text-align: right;\">\n      <th></th>\n      <th>Column1</th>\n      <th>index</th>\n      <th>user_id</th>\n      <th>user_statuses</th>\n      <th>name</th>\n      <th>tweet</th>\n      <th>retweets</th>\n      <th>location</th>\n      <th>created</th>\n      <th>followers</th>\n      <th>is_user_verified</th>\n      <th>language</th>\n      <th>keyword</th>\n      <th>favorite_count</th>\n      <th>in_reply_to_status_id</th>\n      <th>sentiments</th>\n      <th>cleaned_4_vader</th>\n    </tr>\n  </thead>\n  <tbody>\n    <tr>\n      <th>0</th>\n      <td>121416</td>\n      <td>84</td>\n      <td>963382625400000000</td>\n      <td>283</td>\n      <td>PrinNaidoo</td>\n      <td>As covid is interrupting our lives more, I’m t...</td>\n      <td>0</td>\n      <td>Berlin, Germany</td>\n      <td>29-Mar-2021</td>\n      <td>148</td>\n      <td>False</td>\n      <td>en</td>\n      <td>zalando</td>\n      <td>1.0</td>\n      <td>NaN</td>\n      <td>0</td>\n      <td>covid interrupting our lives more, I’m trying ...</td>\n    </tr>\n  </tbody>\n</table>\n</div>"
     },
     "metadata": {},
     "execution_count": 56
    }
   ],
   "source": [
    "labelled[\"cleaned_4_vader\"] = clean_vader(labelled[\"tweet\"])\n",
    "labelled.head(1)"
   ]
  },
  {
   "cell_type": "code",
   "execution_count": 57,
   "metadata": {},
   "outputs": [
    {
     "output_type": "execute_result",
     "data": {
      "text/plain": [
       "   Column1  index              user_id  user_statuses          name  \\\n",
       "0   121416     84   963382625400000000            283    PrinNaidoo   \n",
       "1   140876    305  1252027224000000000           1440       dreaze7   \n",
       "2    15672     47           2873242068           1514       Yi_y827   \n",
       "3    63743    472  1291338754000000000           2743  ARecheBrasil   \n",
       "4     9793    184  1268624052000000000           4293     krimlnalz   \n",
       "\n",
       "                                               tweet  retweets  \\\n",
       "0  As covid is interrupting our lives more, I’m t...         0   \n",
       "1  @NuevSolution Maybe you can help to finally co...         0   \n",
       "2  @STARLABScripts I have not had success in zala...         0   \n",
       "3  📸| @_albxreche || Instagram post #albareche \\n...         1   \n",
       "4  @NoCaptchaLoop i feel as if zalando is getting...         0   \n",
       "\n",
       "          location      created  followers  is_user_verified language  \\\n",
       "0  Berlin, Germany  29-Mar-2021        148             False       en   \n",
       "1         Belgique  30-Mar-2021         27             False       en   \n",
       "2          BOTTER🤖  07-Mar-2021         14             False       en   \n",
       "3              NaN  11-Mar-2021        157             False       en   \n",
       "4              NaN  03-Mar-2021         40             False       en   \n",
       "\n",
       "   keyword  favorite_count  in_reply_to_status_id  sentiments  \\\n",
       "0  zalando             1.0                    NaN           0   \n",
       "1  zalando             0.0           1.376913e+18           0   \n",
       "2  zalando             0.0           1.368653e+18           0   \n",
       "3  zalando             3.0                    NaN           2   \n",
       "4  zalando             0.0           1.367110e+18           0   \n",
       "\n",
       "                                     cleaned_4_vader  compound  \n",
       "0  covid interrupting our lives more, I’m trying ...    0.8090  \n",
       "1             Maybe you can help finally cop zalando    0.4019  \n",
       "2  have not had success zalando would like have f...    0.4770  \n",
       "3  Instagram post albareche Valencia🍊 streetitall...    0.0000  \n",
       "4   feel zalando getting activity then mesh recently    0.0000  "
      ],
      "text/html": "<div>\n<style scoped>\n    .dataframe tbody tr th:only-of-type {\n        vertical-align: middle;\n    }\n\n    .dataframe tbody tr th {\n        vertical-align: top;\n    }\n\n    .dataframe thead th {\n        text-align: right;\n    }\n</style>\n<table border=\"1\" class=\"dataframe\">\n  <thead>\n    <tr style=\"text-align: right;\">\n      <th></th>\n      <th>Column1</th>\n      <th>index</th>\n      <th>user_id</th>\n      <th>user_statuses</th>\n      <th>name</th>\n      <th>tweet</th>\n      <th>retweets</th>\n      <th>location</th>\n      <th>created</th>\n      <th>followers</th>\n      <th>is_user_verified</th>\n      <th>language</th>\n      <th>keyword</th>\n      <th>favorite_count</th>\n      <th>in_reply_to_status_id</th>\n      <th>sentiments</th>\n      <th>cleaned_4_vader</th>\n      <th>compound</th>\n    </tr>\n  </thead>\n  <tbody>\n    <tr>\n      <th>0</th>\n      <td>121416</td>\n      <td>84</td>\n      <td>963382625400000000</td>\n      <td>283</td>\n      <td>PrinNaidoo</td>\n      <td>As covid is interrupting our lives more, I’m t...</td>\n      <td>0</td>\n      <td>Berlin, Germany</td>\n      <td>29-Mar-2021</td>\n      <td>148</td>\n      <td>False</td>\n      <td>en</td>\n      <td>zalando</td>\n      <td>1.0</td>\n      <td>NaN</td>\n      <td>0</td>\n      <td>covid interrupting our lives more, I’m trying ...</td>\n      <td>0.8090</td>\n    </tr>\n    <tr>\n      <th>1</th>\n      <td>140876</td>\n      <td>305</td>\n      <td>1252027224000000000</td>\n      <td>1440</td>\n      <td>dreaze7</td>\n      <td>@NuevSolution Maybe you can help to finally co...</td>\n      <td>0</td>\n      <td>Belgique</td>\n      <td>30-Mar-2021</td>\n      <td>27</td>\n      <td>False</td>\n      <td>en</td>\n      <td>zalando</td>\n      <td>0.0</td>\n      <td>1.376913e+18</td>\n      <td>0</td>\n      <td>Maybe you can help finally cop zalando</td>\n      <td>0.4019</td>\n    </tr>\n    <tr>\n      <th>2</th>\n      <td>15672</td>\n      <td>47</td>\n      <td>2873242068</td>\n      <td>1514</td>\n      <td>Yi_y827</td>\n      <td>@STARLABScripts I have not had success in zala...</td>\n      <td>0</td>\n      <td>BOTTER🤖</td>\n      <td>07-Mar-2021</td>\n      <td>14</td>\n      <td>False</td>\n      <td>en</td>\n      <td>zalando</td>\n      <td>0.0</td>\n      <td>1.368653e+18</td>\n      <td>0</td>\n      <td>have not had success zalando would like have f...</td>\n      <td>0.4770</td>\n    </tr>\n    <tr>\n      <th>3</th>\n      <td>63743</td>\n      <td>472</td>\n      <td>1291338754000000000</td>\n      <td>2743</td>\n      <td>ARecheBrasil</td>\n      <td>📸| @_albxreche || Instagram post #albareche \\n...</td>\n      <td>1</td>\n      <td>NaN</td>\n      <td>11-Mar-2021</td>\n      <td>157</td>\n      <td>False</td>\n      <td>en</td>\n      <td>zalando</td>\n      <td>3.0</td>\n      <td>NaN</td>\n      <td>2</td>\n      <td>Instagram post albareche Valencia🍊 streetitall...</td>\n      <td>0.0000</td>\n    </tr>\n    <tr>\n      <th>4</th>\n      <td>9793</td>\n      <td>184</td>\n      <td>1268624052000000000</td>\n      <td>4293</td>\n      <td>krimlnalz</td>\n      <td>@NoCaptchaLoop i feel as if zalando is getting...</td>\n      <td>0</td>\n      <td>NaN</td>\n      <td>03-Mar-2021</td>\n      <td>40</td>\n      <td>False</td>\n      <td>en</td>\n      <td>zalando</td>\n      <td>0.0</td>\n      <td>1.367110e+18</td>\n      <td>0</td>\n      <td>feel zalando getting activity then mesh recently</td>\n      <td>0.0000</td>\n    </tr>\n  </tbody>\n</table>\n</div>"
     },
     "metadata": {},
     "execution_count": 57
    }
   ],
   "source": [
    "#Vater sentiment analyzer\n",
    "#The Compound score is a metric that calculates the sum of all the lexicon ratings which have been normalized between -1(most extreme negative) and +1 (most extreme positive).\n",
    "sid_obj = SentimentIntensityAnalyzer()\n",
    "labelled['compound'] = [sid_obj.polarity_scores(c)['compound'] for c in labelled['cleaned_4_vader']]\n",
    "labelled.head()"
   ]
  },
  {
   "cell_type": "code",
   "execution_count": 58,
   "metadata": {},
   "outputs": [
    {
     "output_type": "execute_result",
     "data": {
      "text/plain": [
       "   Column1  index              user_id  user_statuses          name  \\\n",
       "0   121416     84   963382625400000000            283    PrinNaidoo   \n",
       "1   140876    305  1252027224000000000           1440       dreaze7   \n",
       "2    15672     47           2873242068           1514       Yi_y827   \n",
       "3    63743    472  1291338754000000000           2743  ARecheBrasil   \n",
       "4     9793    184  1268624052000000000           4293     krimlnalz   \n",
       "\n",
       "                                               tweet  retweets  \\\n",
       "0  As covid is interrupting our lives more, I’m t...         0   \n",
       "1  @NuevSolution Maybe you can help to finally co...         0   \n",
       "2  @STARLABScripts I have not had success in zala...         0   \n",
       "3  📸| @_albxreche || Instagram post #albareche \\n...         1   \n",
       "4  @NoCaptchaLoop i feel as if zalando is getting...         0   \n",
       "\n",
       "          location      created  followers  is_user_verified language  \\\n",
       "0  Berlin, Germany  29-Mar-2021        148             False       en   \n",
       "1         Belgique  30-Mar-2021         27             False       en   \n",
       "2          BOTTER🤖  07-Mar-2021         14             False       en   \n",
       "3              NaN  11-Mar-2021        157             False       en   \n",
       "4              NaN  03-Mar-2021         40             False       en   \n",
       "\n",
       "   keyword  favorite_count  in_reply_to_status_id  sentiments  \\\n",
       "0  zalando             1.0                    NaN           0   \n",
       "1  zalando             0.0           1.376913e+18           0   \n",
       "2  zalando             0.0           1.368653e+18           0   \n",
       "3  zalando             3.0                    NaN           2   \n",
       "4  zalando             0.0           1.367110e+18           0   \n",
       "\n",
       "                                     cleaned_4_vader  compound  \n",
       "0  covid interrupting our lives more, I’m trying ...       4.0  \n",
       "1             Maybe you can help finally cop zalando       4.0  \n",
       "2  have not had success zalando would like have f...       4.0  \n",
       "3  Instagram post albareche Valencia🍊 streetitall...       2.0  \n",
       "4   feel zalando getting activity then mesh recently       2.0  "
      ],
      "text/html": "<div>\n<style scoped>\n    .dataframe tbody tr th:only-of-type {\n        vertical-align: middle;\n    }\n\n    .dataframe tbody tr th {\n        vertical-align: top;\n    }\n\n    .dataframe thead th {\n        text-align: right;\n    }\n</style>\n<table border=\"1\" class=\"dataframe\">\n  <thead>\n    <tr style=\"text-align: right;\">\n      <th></th>\n      <th>Column1</th>\n      <th>index</th>\n      <th>user_id</th>\n      <th>user_statuses</th>\n      <th>name</th>\n      <th>tweet</th>\n      <th>retweets</th>\n      <th>location</th>\n      <th>created</th>\n      <th>followers</th>\n      <th>is_user_verified</th>\n      <th>language</th>\n      <th>keyword</th>\n      <th>favorite_count</th>\n      <th>in_reply_to_status_id</th>\n      <th>sentiments</th>\n      <th>cleaned_4_vader</th>\n      <th>compound</th>\n    </tr>\n  </thead>\n  <tbody>\n    <tr>\n      <th>0</th>\n      <td>121416</td>\n      <td>84</td>\n      <td>963382625400000000</td>\n      <td>283</td>\n      <td>PrinNaidoo</td>\n      <td>As covid is interrupting our lives more, I’m t...</td>\n      <td>0</td>\n      <td>Berlin, Germany</td>\n      <td>29-Mar-2021</td>\n      <td>148</td>\n      <td>False</td>\n      <td>en</td>\n      <td>zalando</td>\n      <td>1.0</td>\n      <td>NaN</td>\n      <td>0</td>\n      <td>covid interrupting our lives more, I’m trying ...</td>\n      <td>4.0</td>\n    </tr>\n    <tr>\n      <th>1</th>\n      <td>140876</td>\n      <td>305</td>\n      <td>1252027224000000000</td>\n      <td>1440</td>\n      <td>dreaze7</td>\n      <td>@NuevSolution Maybe you can help to finally co...</td>\n      <td>0</td>\n      <td>Belgique</td>\n      <td>30-Mar-2021</td>\n      <td>27</td>\n      <td>False</td>\n      <td>en</td>\n      <td>zalando</td>\n      <td>0.0</td>\n      <td>1.376913e+18</td>\n      <td>0</td>\n      <td>Maybe you can help finally cop zalando</td>\n      <td>4.0</td>\n    </tr>\n    <tr>\n      <th>2</th>\n      <td>15672</td>\n      <td>47</td>\n      <td>2873242068</td>\n      <td>1514</td>\n      <td>Yi_y827</td>\n      <td>@STARLABScripts I have not had success in zala...</td>\n      <td>0</td>\n      <td>BOTTER🤖</td>\n      <td>07-Mar-2021</td>\n      <td>14</td>\n      <td>False</td>\n      <td>en</td>\n      <td>zalando</td>\n      <td>0.0</td>\n      <td>1.368653e+18</td>\n      <td>0</td>\n      <td>have not had success zalando would like have f...</td>\n      <td>4.0</td>\n    </tr>\n    <tr>\n      <th>3</th>\n      <td>63743</td>\n      <td>472</td>\n      <td>1291338754000000000</td>\n      <td>2743</td>\n      <td>ARecheBrasil</td>\n      <td>📸| @_albxreche || Instagram post #albareche \\n...</td>\n      <td>1</td>\n      <td>NaN</td>\n      <td>11-Mar-2021</td>\n      <td>157</td>\n      <td>False</td>\n      <td>en</td>\n      <td>zalando</td>\n      <td>3.0</td>\n      <td>NaN</td>\n      <td>2</td>\n      <td>Instagram post albareche Valencia🍊 streetitall...</td>\n      <td>2.0</td>\n    </tr>\n    <tr>\n      <th>4</th>\n      <td>9793</td>\n      <td>184</td>\n      <td>1268624052000000000</td>\n      <td>4293</td>\n      <td>krimlnalz</td>\n      <td>@NoCaptchaLoop i feel as if zalando is getting...</td>\n      <td>0</td>\n      <td>NaN</td>\n      <td>03-Mar-2021</td>\n      <td>40</td>\n      <td>False</td>\n      <td>en</td>\n      <td>zalando</td>\n      <td>0.0</td>\n      <td>1.367110e+18</td>\n      <td>0</td>\n      <td>feel zalando getting activity then mesh recently</td>\n      <td>2.0</td>\n    </tr>\n  </tbody>\n</table>\n</div>"
     },
     "metadata": {},
     "execution_count": 58
    }
   ],
   "source": [
    "labelled[\"compound\"] = np.where(labelled[\"compound\"] > 0, 4, labelled[\"compound\"])      # 4 means positive\n",
    "labelled[\"compound\"] = np.where(labelled[\"compound\"] == 0, 2, labelled[\"compound\"])     # 2 means neutral\n",
    "labelled[\"compound\"] = np.where(labelled[\"compound\"] < 0, 0, labelled[\"compound\"])      # 0 means negative\n",
    "labelled.head()"
   ]
  },
  {
   "cell_type": "code",
   "execution_count": 59,
   "metadata": {},
   "outputs": [
    {
     "output_type": "execute_result",
     "data": {
      "text/plain": [
       "2    91\n",
       "0    69\n",
       "4    40\n",
       "Name: sentiments, dtype: int64"
      ]
     },
     "metadata": {},
     "execution_count": 59
    }
   ],
   "source": [
    "labelled[\"sentiments\"].value_counts()"
   ]
  },
  {
   "cell_type": "code",
   "execution_count": 60,
   "metadata": {},
   "outputs": [
    {
     "output_type": "execute_result",
     "data": {
      "text/plain": [
       "4.0    98\n",
       "2.0    73\n",
       "0.0    29\n",
       "Name: compound, dtype: int64"
      ]
     },
     "metadata": {},
     "execution_count": 60
    }
   ],
   "source": [
    "labelled[\"compound\"].value_counts()"
   ]
  },
  {
   "cell_type": "code",
   "execution_count": 63,
   "metadata": {},
   "outputs": [
    {
     "output_type": "stream",
     "name": "stdout",
     "text": [
      "              precision    recall  f1-score   support\n",
      "\n",
      "           0       0.62      0.26      0.37        69\n",
      "           2       0.58      0.46      0.51        91\n",
      "           4       0.23      0.57      0.33        40\n",
      "\n",
      "    accuracy                           0.41       200\n",
      "   macro avg       0.48      0.43      0.40       200\n",
      "weighted avg       0.52      0.41      0.43       200\n",
      "\n"
     ]
    }
   ],
   "source": [
    "y_test = labelled[\"sentiments\"]\n",
    "y_pred = labelled[\"compound\"]\n",
    "print(classification_report(y_test, y_pred))"
   ]
  },
  {
   "cell_type": "code",
   "execution_count": null,
   "metadata": {},
   "outputs": [],
   "source": []
  }
 ]
}