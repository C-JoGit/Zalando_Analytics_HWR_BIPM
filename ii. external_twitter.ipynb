{
 "metadata": {
  "language_info": {
   "codemirror_mode": {
    "name": "ipython",
    "version": 3
   },
   "file_extension": ".py",
   "mimetype": "text/x-python",
   "name": "python",
   "nbconvert_exporter": "python",
   "pygments_lexer": "ipython3",
   "version": "3.8.10"
  },
  "orig_nbformat": 2,
  "kernelspec": {
   "name": "python3810jvsc74a57bd03d32eab50a390e074348d82344cbc61403476e5f817511f3da9799ccaaf7cac4",
   "display_name": "Python 3.8.10 64-bit ('base': conda)"
  },
  "metadata": {
   "interpreter": {
    "hash": "b680f19dc88a0e7d20231683ee8f83efcc33b9a1faee7aaf2b39dca108c216ef"
   }
  }
 },
 "nbformat": 4,
 "nbformat_minor": 2,
 "cells": [
  {
   "cell_type": "code",
   "execution_count": 1,
   "metadata": {},
   "outputs": [
    {
     "output_type": "stream",
     "name": "stdout",
     "text": [
      "Downloading emoji data ...\n",
      "[nltk_data] Downloading package stopwords to\n",
      "[nltk_data]     C:\\Users\\chiso\\AppData\\Roaming\\nltk_data...\n",
      "[nltk_data]   Package stopwords is already up-to-date!\n",
      "[nltk_data] Downloading package vader_lexicon to\n",
      "[nltk_data]     C:\\Users\\chiso\\AppData\\Roaming\\nltk_data...\n",
      "[nltk_data]   Package vader_lexicon is already up-to-date!\n",
      "[nltk_data] Downloading package punkt to\n",
      "[nltk_data]     C:\\Users\\chiso\\AppData\\Roaming\\nltk_data...\n",
      "[nltk_data]   Package punkt is already up-to-date!\n",
      "... OK (Got response in 0.43 seconds)\n",
      "Writing emoji data to C:\\Users\\chiso\\.demoji\\codes.json ...\n",
      "... OK\n",
      "Downloading emoji data ...\n",
      "[nltk_data] Downloading package stopwords to\n",
      "[nltk_data]     C:\\Users\\chiso\\AppData\\Roaming\\nltk_data...\n",
      "[nltk_data]   Package stopwords is already up-to-date!\n",
      "[nltk_data] Downloading package vader_lexicon to\n",
      "[nltk_data]     C:\\Users\\chiso\\AppData\\Roaming\\nltk_data...\n",
      "[nltk_data]   Package vader_lexicon is already up-to-date!\n",
      "[nltk_data] Downloading package punkt to\n",
      "[nltk_data]     C:\\Users\\chiso\\AppData\\Roaming\\nltk_data...\n",
      "[nltk_data]   Package punkt is already up-to-date!\n",
      "... OK (Got response in 0.41 seconds)\n",
      "Writing emoji data to C:\\Users\\chiso\\.demoji\\codes.json ...\n",
      "... OK\n",
      "Downloading emoji data ...\n",
      "... OK (Got response in 0.41 seconds)\n",
      "Writing emoji data to C:\\Users\\chiso\\.demoji\\codes.json ...\n",
      "... OK\n"
     ]
    }
   ],
   "source": [
    "import sys\n",
    "sys.path.append('../')\n",
    "import functions\n",
    "exec(open('./functions.py', encoding=\"utf8\").read())\n",
    "\n",
    "demoji.download_codes()"
   ]
  },
  {
   "cell_type": "code",
   "execution_count": 2,
   "metadata": {},
   "outputs": [],
   "source": [
    "# csv file has no header, hence has to be read without headers\n",
    "\n",
    "a = pd.read_csv(r\"external data\\training.1600000.processed.noemoticon.csv\", header=None)"
   ]
  },
  {
   "cell_type": "code",
   "execution_count": 3,
   "metadata": {},
   "outputs": [
    {
     "output_type": "execute_result",
     "data": {
      "text/plain": [
       "   0           1                             2         3                4  \\\n",
       "0  0  1467810369  Mon Apr 06 22:19:45 PDT 2009  NO_QUERY  _TheSpecialOne_   \n",
       "1  0  1467810672  Mon Apr 06 22:19:49 PDT 2009  NO_QUERY    scotthamilton   \n",
       "2  0  1467810917  Mon Apr 06 22:19:53 PDT 2009  NO_QUERY         mattycus   \n",
       "3  0  1467811184  Mon Apr 06 22:19:57 PDT 2009  NO_QUERY          ElleCTF   \n",
       "4  0  1467811193  Mon Apr 06 22:19:57 PDT 2009  NO_QUERY           Karoli   \n",
       "\n",
       "                                                   5  \n",
       "0  @switchfoot http://twitpic.com/2y1zl - Awww, t...  \n",
       "1  is upset that he can't update his Facebook by ...  \n",
       "2  @Kenichan I dived many times for the ball. Man...  \n",
       "3    my whole body feels itchy and like its on fire   \n",
       "4  @nationwideclass no, it's not behaving at all....  "
      ],
      "text/html": "<div>\n<style scoped>\n    .dataframe tbody tr th:only-of-type {\n        vertical-align: middle;\n    }\n\n    .dataframe tbody tr th {\n        vertical-align: top;\n    }\n\n    .dataframe thead th {\n        text-align: right;\n    }\n</style>\n<table border=\"1\" class=\"dataframe\">\n  <thead>\n    <tr style=\"text-align: right;\">\n      <th></th>\n      <th>0</th>\n      <th>1</th>\n      <th>2</th>\n      <th>3</th>\n      <th>4</th>\n      <th>5</th>\n    </tr>\n  </thead>\n  <tbody>\n    <tr>\n      <th>0</th>\n      <td>0</td>\n      <td>1467810369</td>\n      <td>Mon Apr 06 22:19:45 PDT 2009</td>\n      <td>NO_QUERY</td>\n      <td>_TheSpecialOne_</td>\n      <td>@switchfoot http://twitpic.com/2y1zl - Awww, t...</td>\n    </tr>\n    <tr>\n      <th>1</th>\n      <td>0</td>\n      <td>1467810672</td>\n      <td>Mon Apr 06 22:19:49 PDT 2009</td>\n      <td>NO_QUERY</td>\n      <td>scotthamilton</td>\n      <td>is upset that he can't update his Facebook by ...</td>\n    </tr>\n    <tr>\n      <th>2</th>\n      <td>0</td>\n      <td>1467810917</td>\n      <td>Mon Apr 06 22:19:53 PDT 2009</td>\n      <td>NO_QUERY</td>\n      <td>mattycus</td>\n      <td>@Kenichan I dived many times for the ball. Man...</td>\n    </tr>\n    <tr>\n      <th>3</th>\n      <td>0</td>\n      <td>1467811184</td>\n      <td>Mon Apr 06 22:19:57 PDT 2009</td>\n      <td>NO_QUERY</td>\n      <td>ElleCTF</td>\n      <td>my whole body feels itchy and like its on fire</td>\n    </tr>\n    <tr>\n      <th>4</th>\n      <td>0</td>\n      <td>1467811193</td>\n      <td>Mon Apr 06 22:19:57 PDT 2009</td>\n      <td>NO_QUERY</td>\n      <td>Karoli</td>\n      <td>@nationwideclass no, it's not behaving at all....</td>\n    </tr>\n  </tbody>\n</table>\n</div>"
     },
     "metadata": {},
     "execution_count": 3
    }
   ],
   "source": [
    "a.head()"
   ]
  },
  {
   "cell_type": "code",
   "execution_count": 4,
   "metadata": {},
   "outputs": [
    {
     "output_type": "execute_result",
     "data": {
      "text/plain": [
       "   target         ids                          date      flag  \\\n",
       "0       0  1467810369  Mon Apr 06 22:19:45 PDT 2009  NO_QUERY   \n",
       "1       0  1467810672  Mon Apr 06 22:19:49 PDT 2009  NO_QUERY   \n",
       "2       0  1467810917  Mon Apr 06 22:19:53 PDT 2009  NO_QUERY   \n",
       "3       0  1467811184  Mon Apr 06 22:19:57 PDT 2009  NO_QUERY   \n",
       "4       0  1467811193  Mon Apr 06 22:19:57 PDT 2009  NO_QUERY   \n",
       "\n",
       "              user                                               text  \n",
       "0  _TheSpecialOne_  @switchfoot http://twitpic.com/2y1zl - Awww, t...  \n",
       "1    scotthamilton  is upset that he can't update his Facebook by ...  \n",
       "2         mattycus  @Kenichan I dived many times for the ball. Man...  \n",
       "3          ElleCTF    my whole body feels itchy and like its on fire   \n",
       "4           Karoli  @nationwideclass no, it's not behaving at all....  "
      ],
      "text/html": "<div>\n<style scoped>\n    .dataframe tbody tr th:only-of-type {\n        vertical-align: middle;\n    }\n\n    .dataframe tbody tr th {\n        vertical-align: top;\n    }\n\n    .dataframe thead th {\n        text-align: right;\n    }\n</style>\n<table border=\"1\" class=\"dataframe\">\n  <thead>\n    <tr style=\"text-align: right;\">\n      <th></th>\n      <th>target</th>\n      <th>ids</th>\n      <th>date</th>\n      <th>flag</th>\n      <th>user</th>\n      <th>text</th>\n    </tr>\n  </thead>\n  <tbody>\n    <tr>\n      <th>0</th>\n      <td>0</td>\n      <td>1467810369</td>\n      <td>Mon Apr 06 22:19:45 PDT 2009</td>\n      <td>NO_QUERY</td>\n      <td>_TheSpecialOne_</td>\n      <td>@switchfoot http://twitpic.com/2y1zl - Awww, t...</td>\n    </tr>\n    <tr>\n      <th>1</th>\n      <td>0</td>\n      <td>1467810672</td>\n      <td>Mon Apr 06 22:19:49 PDT 2009</td>\n      <td>NO_QUERY</td>\n      <td>scotthamilton</td>\n      <td>is upset that he can't update his Facebook by ...</td>\n    </tr>\n    <tr>\n      <th>2</th>\n      <td>0</td>\n      <td>1467810917</td>\n      <td>Mon Apr 06 22:19:53 PDT 2009</td>\n      <td>NO_QUERY</td>\n      <td>mattycus</td>\n      <td>@Kenichan I dived many times for the ball. Man...</td>\n    </tr>\n    <tr>\n      <th>3</th>\n      <td>0</td>\n      <td>1467811184</td>\n      <td>Mon Apr 06 22:19:57 PDT 2009</td>\n      <td>NO_QUERY</td>\n      <td>ElleCTF</td>\n      <td>my whole body feels itchy and like its on fire</td>\n    </tr>\n    <tr>\n      <th>4</th>\n      <td>0</td>\n      <td>1467811193</td>\n      <td>Mon Apr 06 22:19:57 PDT 2009</td>\n      <td>NO_QUERY</td>\n      <td>Karoli</td>\n      <td>@nationwideclass no, it's not behaving at all....</td>\n    </tr>\n  </tbody>\n</table>\n</div>"
     },
     "metadata": {},
     "execution_count": 4
    }
   ],
   "source": [
    "# rename the columns\n",
    "a.columns = ['target', 'ids', 'date', 'flag', 'user', 'text']\n",
    "a.head()"
   ]
  },
  {
   "cell_type": "code",
   "execution_count": 5,
   "metadata": {},
   "outputs": [
    {
     "output_type": "stream",
     "name": "stderr",
     "text": [
      "<string>:50: FutureWarning: The default value of regex will change from True to False in a future version.\n",
      "<string>:57: FutureWarning: The default value of regex will change from True to False in a future version.\n",
      "<string>:58: FutureWarning: The default value of regex will change from True to False in a future version.\n",
      "<string>:59: FutureWarning: The default value of regex will change from True to False in a future version.\n",
      "<string>:72: FutureWarning: The default value of regex will change from True to False in a future version.\n"
     ]
    },
    {
     "output_type": "execute_result",
     "data": {
      "text/plain": [
       "   target         ids                          date      flag  \\\n",
       "0       0  1467810369  Mon Apr 06 22:19:45 PDT 2009  NO_QUERY   \n",
       "1       0  1467810672  Mon Apr 06 22:19:49 PDT 2009  NO_QUERY   \n",
       "2       0  1467810917  Mon Apr 06 22:19:53 PDT 2009  NO_QUERY   \n",
       "3       0  1467811184  Mon Apr 06 22:19:57 PDT 2009  NO_QUERY   \n",
       "4       0  1467811193  Mon Apr 06 22:19:57 PDT 2009  NO_QUERY   \n",
       "\n",
       "              user                                               text  \\\n",
       "0  _TheSpecialOne_  @switchfoot http://twitpic.com/2y1zl - Awww, t...   \n",
       "1    scotthamilton  is upset that he can't update his Facebook by ...   \n",
       "2         mattycus  @Kenichan I dived many times for the ball. Man...   \n",
       "3          ElleCTF    my whole body feels itchy and like its on fire    \n",
       "4           Karoli  @nationwideclass no, it's not behaving at all....   \n",
       "\n",
       "                                               clean  \n",
       "0             awww bummer shoulda got david carr day  \n",
       "1  upset update facebook texting result school to...  \n",
       "2          dived times ball managed save rest bounds  \n",
       "3                              body feels itchy like  \n",
       "4                                       behaving mad  "
      ],
      "text/html": "<div>\n<style scoped>\n    .dataframe tbody tr th:only-of-type {\n        vertical-align: middle;\n    }\n\n    .dataframe tbody tr th {\n        vertical-align: top;\n    }\n\n    .dataframe thead th {\n        text-align: right;\n    }\n</style>\n<table border=\"1\" class=\"dataframe\">\n  <thead>\n    <tr style=\"text-align: right;\">\n      <th></th>\n      <th>target</th>\n      <th>ids</th>\n      <th>date</th>\n      <th>flag</th>\n      <th>user</th>\n      <th>text</th>\n      <th>clean</th>\n    </tr>\n  </thead>\n  <tbody>\n    <tr>\n      <th>0</th>\n      <td>0</td>\n      <td>1467810369</td>\n      <td>Mon Apr 06 22:19:45 PDT 2009</td>\n      <td>NO_QUERY</td>\n      <td>_TheSpecialOne_</td>\n      <td>@switchfoot http://twitpic.com/2y1zl - Awww, t...</td>\n      <td>awww bummer shoulda got david carr day</td>\n    </tr>\n    <tr>\n      <th>1</th>\n      <td>0</td>\n      <td>1467810672</td>\n      <td>Mon Apr 06 22:19:49 PDT 2009</td>\n      <td>NO_QUERY</td>\n      <td>scotthamilton</td>\n      <td>is upset that he can't update his Facebook by ...</td>\n      <td>upset update facebook texting result school to...</td>\n    </tr>\n    <tr>\n      <th>2</th>\n      <td>0</td>\n      <td>1467810917</td>\n      <td>Mon Apr 06 22:19:53 PDT 2009</td>\n      <td>NO_QUERY</td>\n      <td>mattycus</td>\n      <td>@Kenichan I dived many times for the ball. Man...</td>\n      <td>dived times ball managed save rest bounds</td>\n    </tr>\n    <tr>\n      <th>3</th>\n      <td>0</td>\n      <td>1467811184</td>\n      <td>Mon Apr 06 22:19:57 PDT 2009</td>\n      <td>NO_QUERY</td>\n      <td>ElleCTF</td>\n      <td>my whole body feels itchy and like its on fire</td>\n      <td>body feels itchy like</td>\n    </tr>\n    <tr>\n      <th>4</th>\n      <td>0</td>\n      <td>1467811193</td>\n      <td>Mon Apr 06 22:19:57 PDT 2009</td>\n      <td>NO_QUERY</td>\n      <td>Karoli</td>\n      <td>@nationwideclass no, it's not behaving at all....</td>\n      <td>behaving mad</td>\n    </tr>\n  </tbody>\n</table>\n</div>"
     },
     "metadata": {},
     "execution_count": 5
    }
   ],
   "source": [
    "# clean the data using already defined function - see functions.py\n",
    "a['clean'] = clean_complete(a.text)\n",
    "a.head()"
   ]
  },
  {
   "cell_type": "code",
   "execution_count": 6,
   "metadata": {},
   "outputs": [
    {
     "output_type": "execute_result",
     "data": {
      "text/plain": [
       "\"@nationwideclass no, it's not behaving at all. i'm mad. why am i here? because I can't see you all over there. \""
      ]
     },
     "metadata": {},
     "execution_count": 6
    }
   ],
   "source": [
    "a['text'][4]"
   ]
  },
  {
   "cell_type": "code",
   "execution_count": 7,
   "metadata": {},
   "outputs": [
    {
     "output_type": "execute_result",
     "data": {
      "text/plain": [
       "   target         ids                          date      flag  \\\n",
       "0       0  1467810369  Mon Apr 06 22:19:45 PDT 2009  NO_QUERY   \n",
       "1       0  1467810672  Mon Apr 06 22:19:49 PDT 2009  NO_QUERY   \n",
       "2       0  1467810917  Mon Apr 06 22:19:53 PDT 2009  NO_QUERY   \n",
       "3       0  1467811184  Mon Apr 06 22:19:57 PDT 2009  NO_QUERY   \n",
       "4       0  1467811193  Mon Apr 06 22:19:57 PDT 2009  NO_QUERY   \n",
       "\n",
       "              user                                               text  \\\n",
       "0  _TheSpecialOne_  @switchfoot http://twitpic.com/2y1zl - Awww, t...   \n",
       "1    scotthamilton  is upset that he can't update his Facebook by ...   \n",
       "2         mattycus  @Kenichan I dived many times for the ball. Man...   \n",
       "3          ElleCTF    my whole body feels itchy and like its on fire    \n",
       "4           Karoli  @nationwideclass no, it's not behaving at all....   \n",
       "\n",
       "                                               clean  \\\n",
       "0             awww bummer shoulda got david carr day   \n",
       "1  upset update facebook texting result school to...   \n",
       "2          dived times ball managed save rest bounds   \n",
       "3                              body feels itchy like   \n",
       "4                                       behaving mad   \n",
       "\n",
       "                                          lemmatized  \n",
       "0             awww bummer shoulda get david carr day  \n",
       "1  upset update facebook texting result school to...  \n",
       "2             dive times ball manage save rest bound  \n",
       "3                               body feel itchy like  \n",
       "4                                         behave mad  "
      ],
      "text/html": "<div>\n<style scoped>\n    .dataframe tbody tr th:only-of-type {\n        vertical-align: middle;\n    }\n\n    .dataframe tbody tr th {\n        vertical-align: top;\n    }\n\n    .dataframe thead th {\n        text-align: right;\n    }\n</style>\n<table border=\"1\" class=\"dataframe\">\n  <thead>\n    <tr style=\"text-align: right;\">\n      <th></th>\n      <th>target</th>\n      <th>ids</th>\n      <th>date</th>\n      <th>flag</th>\n      <th>user</th>\n      <th>text</th>\n      <th>clean</th>\n      <th>lemmatized</th>\n    </tr>\n  </thead>\n  <tbody>\n    <tr>\n      <th>0</th>\n      <td>0</td>\n      <td>1467810369</td>\n      <td>Mon Apr 06 22:19:45 PDT 2009</td>\n      <td>NO_QUERY</td>\n      <td>_TheSpecialOne_</td>\n      <td>@switchfoot http://twitpic.com/2y1zl - Awww, t...</td>\n      <td>awww bummer shoulda got david carr day</td>\n      <td>awww bummer shoulda get david carr day</td>\n    </tr>\n    <tr>\n      <th>1</th>\n      <td>0</td>\n      <td>1467810672</td>\n      <td>Mon Apr 06 22:19:49 PDT 2009</td>\n      <td>NO_QUERY</td>\n      <td>scotthamilton</td>\n      <td>is upset that he can't update his Facebook by ...</td>\n      <td>upset update facebook texting result school to...</td>\n      <td>upset update facebook texting result school to...</td>\n    </tr>\n    <tr>\n      <th>2</th>\n      <td>0</td>\n      <td>1467810917</td>\n      <td>Mon Apr 06 22:19:53 PDT 2009</td>\n      <td>NO_QUERY</td>\n      <td>mattycus</td>\n      <td>@Kenichan I dived many times for the ball. Man...</td>\n      <td>dived times ball managed save rest bounds</td>\n      <td>dive times ball manage save rest bound</td>\n    </tr>\n    <tr>\n      <th>3</th>\n      <td>0</td>\n      <td>1467811184</td>\n      <td>Mon Apr 06 22:19:57 PDT 2009</td>\n      <td>NO_QUERY</td>\n      <td>ElleCTF</td>\n      <td>my whole body feels itchy and like its on fire</td>\n      <td>body feels itchy like</td>\n      <td>body feel itchy like</td>\n    </tr>\n    <tr>\n      <th>4</th>\n      <td>0</td>\n      <td>1467811193</td>\n      <td>Mon Apr 06 22:19:57 PDT 2009</td>\n      <td>NO_QUERY</td>\n      <td>Karoli</td>\n      <td>@nationwideclass no, it's not behaving at all....</td>\n      <td>behaving mad</td>\n      <td>behave mad</td>\n    </tr>\n  </tbody>\n</table>\n</div>"
     },
     "metadata": {},
     "execution_count": 7
    }
   ],
   "source": [
    "# lemmatize the cleaned data\n",
    "a[\"lemmatized\"] = lemmatize(a.clean)\n",
    "a.head()"
   ]
  },
  {
   "cell_type": "code",
   "execution_count": 8,
   "metadata": {},
   "outputs": [
    {
     "output_type": "execute_result",
     "data": {
      "text/plain": [
       "   target         ids                          date      flag  \\\n",
       "0       0  1467810369  Mon Apr 06 22:19:45 PDT 2009  NO_QUERY   \n",
       "1       0  1467810672  Mon Apr 06 22:19:49 PDT 2009  NO_QUERY   \n",
       "2       0  1467810917  Mon Apr 06 22:19:53 PDT 2009  NO_QUERY   \n",
       "3       0  1467811184  Mon Apr 06 22:19:57 PDT 2009  NO_QUERY   \n",
       "4       0  1467811193  Mon Apr 06 22:19:57 PDT 2009  NO_QUERY   \n",
       "\n",
       "              user                                               text  \\\n",
       "0  _TheSpecialOne_  @switchfoot http://twitpic.com/2y1zl - Awww, t...   \n",
       "1    scotthamilton  is upset that he can't update his Facebook by ...   \n",
       "2         mattycus  @Kenichan I dived many times for the ball. Man...   \n",
       "3          ElleCTF    my whole body feels itchy and like its on fire    \n",
       "4           Karoli  @nationwideclass no, it's not behaving at all....   \n",
       "\n",
       "                                               clean  \\\n",
       "0             awww bummer shoulda got david carr day   \n",
       "1  upset update facebook texting result school to...   \n",
       "2          dived times ball managed save rest bounds   \n",
       "3                              body feels itchy like   \n",
       "4                                       behaving mad   \n",
       "\n",
       "                                          lemmatized  \\\n",
       "0             awww bummer shoulda get david carr day   \n",
       "1  upset update facebook texting result school to...   \n",
       "2             dive times ball manage save rest bound   \n",
       "3                               body feel itchy like   \n",
       "4                                         behave mad   \n",
       "\n",
       "                                               split  \n",
       "0     [awww, bummer, shoulda, get, david, carr, day]  \n",
       "1  [upset, update, facebook, texting, result, sch...  \n",
       "2     [dive, times, ball, manage, save, rest, bound]  \n",
       "3                          [body, feel, itchy, like]  \n",
       "4                                      [behave, mad]  "
      ],
      "text/html": "<div>\n<style scoped>\n    .dataframe tbody tr th:only-of-type {\n        vertical-align: middle;\n    }\n\n    .dataframe tbody tr th {\n        vertical-align: top;\n    }\n\n    .dataframe thead th {\n        text-align: right;\n    }\n</style>\n<table border=\"1\" class=\"dataframe\">\n  <thead>\n    <tr style=\"text-align: right;\">\n      <th></th>\n      <th>target</th>\n      <th>ids</th>\n      <th>date</th>\n      <th>flag</th>\n      <th>user</th>\n      <th>text</th>\n      <th>clean</th>\n      <th>lemmatized</th>\n      <th>split</th>\n    </tr>\n  </thead>\n  <tbody>\n    <tr>\n      <th>0</th>\n      <td>0</td>\n      <td>1467810369</td>\n      <td>Mon Apr 06 22:19:45 PDT 2009</td>\n      <td>NO_QUERY</td>\n      <td>_TheSpecialOne_</td>\n      <td>@switchfoot http://twitpic.com/2y1zl - Awww, t...</td>\n      <td>awww bummer shoulda got david carr day</td>\n      <td>awww bummer shoulda get david carr day</td>\n      <td>[awww, bummer, shoulda, get, david, carr, day]</td>\n    </tr>\n    <tr>\n      <th>1</th>\n      <td>0</td>\n      <td>1467810672</td>\n      <td>Mon Apr 06 22:19:49 PDT 2009</td>\n      <td>NO_QUERY</td>\n      <td>scotthamilton</td>\n      <td>is upset that he can't update his Facebook by ...</td>\n      <td>upset update facebook texting result school to...</td>\n      <td>upset update facebook texting result school to...</td>\n      <td>[upset, update, facebook, texting, result, sch...</td>\n    </tr>\n    <tr>\n      <th>2</th>\n      <td>0</td>\n      <td>1467810917</td>\n      <td>Mon Apr 06 22:19:53 PDT 2009</td>\n      <td>NO_QUERY</td>\n      <td>mattycus</td>\n      <td>@Kenichan I dived many times for the ball. Man...</td>\n      <td>dived times ball managed save rest bounds</td>\n      <td>dive times ball manage save rest bound</td>\n      <td>[dive, times, ball, manage, save, rest, bound]</td>\n    </tr>\n    <tr>\n      <th>3</th>\n      <td>0</td>\n      <td>1467811184</td>\n      <td>Mon Apr 06 22:19:57 PDT 2009</td>\n      <td>NO_QUERY</td>\n      <td>ElleCTF</td>\n      <td>my whole body feels itchy and like its on fire</td>\n      <td>body feels itchy like</td>\n      <td>body feel itchy like</td>\n      <td>[body, feel, itchy, like]</td>\n    </tr>\n    <tr>\n      <th>4</th>\n      <td>0</td>\n      <td>1467811193</td>\n      <td>Mon Apr 06 22:19:57 PDT 2009</td>\n      <td>NO_QUERY</td>\n      <td>Karoli</td>\n      <td>@nationwideclass no, it's not behaving at all....</td>\n      <td>behaving mad</td>\n      <td>behave mad</td>\n      <td>[behave, mad]</td>\n    </tr>\n  </tbody>\n</table>\n</div>"
     },
     "metadata": {},
     "execution_count": 8
    }
   ],
   "source": [
    "#split the lemmatized data\n",
    " = a[\"lemmatized\"].str.split()\n",
    "a.head()"
   ]
  },
  {
   "cell_type": "code",
   "execution_count": 9,
   "metadata": {},
   "outputs": [
    {
     "output_type": "stream",
     "name": "stdout",
     "text": [
      "         0         1         2         3         4         5         6   \\\n",
      "0 -0.130482 -0.004077  0.015810  0.049959 -0.041490 -0.120463  0.018499   \n",
      "1 -0.089091 -0.044952  0.031169  0.031441  0.085560 -0.029774  0.007483   \n",
      "2 -0.034209 -0.032731 -0.006503 -0.015595  0.000750  0.142148  0.008335   \n",
      "3  0.039511  0.021044 -0.044086  0.040040  0.004851 -0.081538  0.034979   \n",
      "4 -0.013230  0.019487 -0.037168  0.025121  0.076826 -0.004086  0.005005   \n",
      "\n",
      "         7         8         9   ...        90        91        92        93  \\\n",
      "0  0.054668  0.034647 -0.007607  ...  0.042085  0.007140 -0.006839  0.065315   \n",
      "1 -0.181819  0.014704  0.031289  ...  0.023001 -0.001031  0.057009  0.125231   \n",
      "2  0.034191  0.018336  0.049572  ... -0.003101 -0.033793 -0.046614 -0.036087   \n",
      "3  0.090656 -0.017450 -0.018661  ...  0.050578  0.034360 -0.055606  0.026050   \n",
      "4  0.070915 -0.069859  0.002981  ...  0.088734  0.054730 -0.041834  0.046066   \n",
      "\n",
      "         94        95        96        97        98        99  \n",
      "0 -0.003211 -0.010616  0.007900 -0.021010  0.001334  0.011794  \n",
      "1 -0.058873 -0.190622 -0.068788 -0.087910 -0.060429 -0.148368  \n",
      "2  0.130222  0.097160 -0.004621 -0.135355  0.075437  0.033472  \n",
      "3  0.032533  0.052828  0.007092  0.007348 -0.027534  0.068420  \n",
      "4  0.089995  0.047997 -0.088571 -0.044634 -0.000533  0.022832  \n",
      "\n",
      "[5 rows x 100 columns]\n"
     ]
    },
    {
     "output_type": "execute_result",
     "data": {
      "text/plain": [
       "1600000"
      ]
     },
     "metadata": {},
     "execution_count": 9
    }
   ],
   "source": [
    "# vectorize each tweet\n",
    "corpus_d2v100 = get_vector100(a[\"split\"])\n",
    "print(corpus_d2v100.head())\n",
    "len(corpus_d2v100)"
   ]
  },
  {
   "cell_type": "code",
   "execution_count": 11,
   "metadata": {},
   "outputs": [
    {
     "output_type": "execute_result",
     "data": {
      "text/plain": [
       "   target         0         1         2         3         4         5  \\\n",
       "0       0 -0.130482 -0.004077  0.015810  0.049959 -0.041490 -0.120463   \n",
       "1       0 -0.089091 -0.044952  0.031169  0.031441  0.085560 -0.029774   \n",
       "2       0 -0.034209 -0.032731 -0.006503 -0.015595  0.000750  0.142148   \n",
       "3       0  0.039511  0.021044 -0.044086  0.040040  0.004851 -0.081538   \n",
       "4       0 -0.013230  0.019487 -0.037168  0.025121  0.076826 -0.004086   \n",
       "\n",
       "          6         7         8  ...        90        91        92        93  \\\n",
       "0  0.018499  0.054668  0.034647  ...  0.042085  0.007140 -0.006839  0.065315   \n",
       "1  0.007483 -0.181819  0.014704  ...  0.023001 -0.001031  0.057009  0.125231   \n",
       "2  0.008335  0.034191  0.018336  ... -0.003101 -0.033793 -0.046614 -0.036087   \n",
       "3  0.034979  0.090656 -0.017450  ...  0.050578  0.034360 -0.055606  0.026050   \n",
       "4  0.005005  0.070915 -0.069859  ...  0.088734  0.054730 -0.041834  0.046066   \n",
       "\n",
       "         94        95        96        97        98        99  \n",
       "0 -0.003211 -0.010616  0.007900 -0.021010  0.001334  0.011794  \n",
       "1 -0.058873 -0.190622 -0.068788 -0.087910 -0.060429 -0.148368  \n",
       "2  0.130222  0.097160 -0.004621 -0.135355  0.075437  0.033472  \n",
       "3  0.032533  0.052828  0.007092  0.007348 -0.027534  0.068420  \n",
       "4  0.089995  0.047997 -0.088571 -0.044634 -0.000533  0.022832  \n",
       "\n",
       "[5 rows x 101 columns]"
      ],
      "text/html": "<div>\n<style scoped>\n    .dataframe tbody tr th:only-of-type {\n        vertical-align: middle;\n    }\n\n    .dataframe tbody tr th {\n        vertical-align: top;\n    }\n\n    .dataframe thead th {\n        text-align: right;\n    }\n</style>\n<table border=\"1\" class=\"dataframe\">\n  <thead>\n    <tr style=\"text-align: right;\">\n      <th></th>\n      <th>target</th>\n      <th>0</th>\n      <th>1</th>\n      <th>2</th>\n      <th>3</th>\n      <th>4</th>\n      <th>5</th>\n      <th>6</th>\n      <th>7</th>\n      <th>8</th>\n      <th>...</th>\n      <th>90</th>\n      <th>91</th>\n      <th>92</th>\n      <th>93</th>\n      <th>94</th>\n      <th>95</th>\n      <th>96</th>\n      <th>97</th>\n      <th>98</th>\n      <th>99</th>\n    </tr>\n  </thead>\n  <tbody>\n    <tr>\n      <th>0</th>\n      <td>0</td>\n      <td>-0.130482</td>\n      <td>-0.004077</td>\n      <td>0.015810</td>\n      <td>0.049959</td>\n      <td>-0.041490</td>\n      <td>-0.120463</td>\n      <td>0.018499</td>\n      <td>0.054668</td>\n      <td>0.034647</td>\n      <td>...</td>\n      <td>0.042085</td>\n      <td>0.007140</td>\n      <td>-0.006839</td>\n      <td>0.065315</td>\n      <td>-0.003211</td>\n      <td>-0.010616</td>\n      <td>0.007900</td>\n      <td>-0.021010</td>\n      <td>0.001334</td>\n      <td>0.011794</td>\n    </tr>\n    <tr>\n      <th>1</th>\n      <td>0</td>\n      <td>-0.089091</td>\n      <td>-0.044952</td>\n      <td>0.031169</td>\n      <td>0.031441</td>\n      <td>0.085560</td>\n      <td>-0.029774</td>\n      <td>0.007483</td>\n      <td>-0.181819</td>\n      <td>0.014704</td>\n      <td>...</td>\n      <td>0.023001</td>\n      <td>-0.001031</td>\n      <td>0.057009</td>\n      <td>0.125231</td>\n      <td>-0.058873</td>\n      <td>-0.190622</td>\n      <td>-0.068788</td>\n      <td>-0.087910</td>\n      <td>-0.060429</td>\n      <td>-0.148368</td>\n    </tr>\n    <tr>\n      <th>2</th>\n      <td>0</td>\n      <td>-0.034209</td>\n      <td>-0.032731</td>\n      <td>-0.006503</td>\n      <td>-0.015595</td>\n      <td>0.000750</td>\n      <td>0.142148</td>\n      <td>0.008335</td>\n      <td>0.034191</td>\n      <td>0.018336</td>\n      <td>...</td>\n      <td>-0.003101</td>\n      <td>-0.033793</td>\n      <td>-0.046614</td>\n      <td>-0.036087</td>\n      <td>0.130222</td>\n      <td>0.097160</td>\n      <td>-0.004621</td>\n      <td>-0.135355</td>\n      <td>0.075437</td>\n      <td>0.033472</td>\n    </tr>\n    <tr>\n      <th>3</th>\n      <td>0</td>\n      <td>0.039511</td>\n      <td>0.021044</td>\n      <td>-0.044086</td>\n      <td>0.040040</td>\n      <td>0.004851</td>\n      <td>-0.081538</td>\n      <td>0.034979</td>\n      <td>0.090656</td>\n      <td>-0.017450</td>\n      <td>...</td>\n      <td>0.050578</td>\n      <td>0.034360</td>\n      <td>-0.055606</td>\n      <td>0.026050</td>\n      <td>0.032533</td>\n      <td>0.052828</td>\n      <td>0.007092</td>\n      <td>0.007348</td>\n      <td>-0.027534</td>\n      <td>0.068420</td>\n    </tr>\n    <tr>\n      <th>4</th>\n      <td>0</td>\n      <td>-0.013230</td>\n      <td>0.019487</td>\n      <td>-0.037168</td>\n      <td>0.025121</td>\n      <td>0.076826</td>\n      <td>-0.004086</td>\n      <td>0.005005</td>\n      <td>0.070915</td>\n      <td>-0.069859</td>\n      <td>...</td>\n      <td>0.088734</td>\n      <td>0.054730</td>\n      <td>-0.041834</td>\n      <td>0.046066</td>\n      <td>0.089995</td>\n      <td>0.047997</td>\n      <td>-0.088571</td>\n      <td>-0.044634</td>\n      <td>-0.000533</td>\n      <td>0.022832</td>\n    </tr>\n  </tbody>\n</table>\n<p>5 rows × 101 columns</p>\n</div>"
     },
     "metadata": {},
     "execution_count": 11
    }
   ],
   "source": [
    "# merge the target column with the vectorized data\n",
    "ext_twt100 = a[[\"target\"]].merge(corpus_d2v100, left_index =True, right_index=True)\n",
    "ext_twt100.head()"
   ]
  },
  {
   "cell_type": "code",
   "execution_count": 12,
   "metadata": {},
   "outputs": [],
   "source": [
    "# save the dataset\n",
    "pickle.dump(ext_twt100, open(r'.\\data_n_models\\eng_ext_twt_doc2vec100.pkl', 'wb'))"
   ]
  },
  {
   "cell_type": "code",
   "execution_count": 15,
   "metadata": {},
   "outputs": [
    {
     "output_type": "execute_result",
     "data": {
      "text/plain": [
       "0    800000\n",
       "4    800000\n",
       "Name: target, dtype: int64"
      ]
     },
     "metadata": {},
     "execution_count": 15
    }
   ],
   "source": [
    "a[\"target\"].value_counts()"
   ]
  },
  {
   "cell_type": "code",
   "execution_count": null,
   "metadata": {},
   "outputs": [],
   "source": []
  }
 ]
}