{
 "metadata": {
  "language_info": {
   "codemirror_mode": {
    "name": "ipython",
    "version": 3
   },
   "file_extension": ".py",
   "mimetype": "text/x-python",
   "name": "python",
   "nbconvert_exporter": "python",
   "pygments_lexer": "ipython3",
   "version": "3.8.5"
  },
  "orig_nbformat": 2,
  "kernelspec": {
   "name": "python385jvsc74a57bd03d32eab50a390e074348d82344cbc61403476e5f817511f3da9799ccaaf7cac4",
   "display_name": "Python 3.8.5 64-bit ('base': conda)"
  }
 },
 "nbformat": 4,
 "nbformat_minor": 2,
 "cells": [
  {
   "cell_type": "code",
   "execution_count": 2,
   "metadata": {},
   "outputs": [
    {
     "output_type": "stream",
     "name": "stdout",
     "text": [
      "Requirement already satisfied: gensim in c:\\users\\chiso\\anaconda3\\lib\\site-packages (4.0.1)\nRequirement already satisfied: scipy>=0.18.1 in c:\\users\\chiso\\anaconda3\\lib\\site-packages (from gensim) (1.6.0)\nRequirement already satisfied: numpy>=1.11.3 in c:\\users\\chiso\\anaconda3\\lib\\site-packages (from gensim) (1.19.2)\nRequirement already satisfied: Cython==0.29.21 in c:\\users\\chiso\\anaconda3\\lib\\site-packages (from gensim) (0.29.21)\nRequirement already satisfied: smart-open>=1.8.1 in c:\\users\\chiso\\anaconda3\\lib\\site-packages (from gensim) (3.0.0)\nRequirement already satisfied: requests in c:\\users\\chiso\\anaconda3\\lib\\site-packages (from smart-open>=1.8.1->gensim) (2.25.1)\nRequirement already satisfied: certifi>=2017.4.17 in c:\\users\\chiso\\anaconda3\\lib\\site-packages (from requests->smart-open>=1.8.1->gensim) (2020.12.5)\nRequirement already satisfied: idna<3,>=2.5 in c:\\users\\chiso\\anaconda3\\lib\\site-packages (from requests->smart-open>=1.8.1->gensim) (2.10)\nRequirement already satisfied: urllib3<1.27,>=1.21.1 in c:\\users\\chiso\\anaconda3\\lib\\site-packages (from requests->smart-open>=1.8.1->gensim) (1.26.3)\nRequirement already satisfied: chardet<5,>=3.0.2 in c:\\users\\chiso\\anaconda3\\lib\\site-packages (from requests->smart-open>=1.8.1->gensim) (3.0.4)\nNote: you may need to restart the kernel to use updated packages.\n"
     ]
    }
   ],
   "source": [
    "#pip install gensim"
   ]
  },
  {
   "cell_type": "code",
   "execution_count": 3,
   "metadata": {},
   "outputs": [
    {
     "output_type": "stream",
     "name": "stdout",
     "text": [
      "Requirement already satisfied: spacy in c:\\users\\chiso\\anaconda3\\lib\\site-packages (3.0.6)\nRequirement already satisfied: pydantic<1.8.0,>=1.7.1 in c:\\users\\chiso\\anaconda3\\lib\\site-packages (from spacy) (1.7.3)\nRequirement already satisfied: spacy-legacy<3.1.0,>=3.0.4 in c:\\users\\chiso\\anaconda3\\lib\\site-packages (from spacy) (3.0.5)\nRequirement already satisfied: cymem<2.1.0,>=2.0.2 in c:\\users\\chiso\\anaconda3\\lib\\site-packages (from spacy) (2.0.5)\nRequirement already satisfied: typer<0.4.0,>=0.3.0 in c:\\users\\chiso\\anaconda3\\lib\\site-packages (from spacy) (0.3.2)\nRequirement already satisfied: thinc<8.1.0,>=8.0.3 in c:\\users\\chiso\\anaconda3\\lib\\site-packages (from spacy) (8.0.3)\nRequirement already satisfied: setuptools in c:\\users\\chiso\\anaconda3\\lib\\site-packages (from spacy) (52.0.0.post20210125)\nRequirement already satisfied: srsly<3.0.0,>=2.4.1 in c:\\users\\chiso\\anaconda3\\lib\\site-packages (from spacy) (2.4.1)\nRequirement already satisfied: pathy>=0.3.5 in c:\\users\\chiso\\anaconda3\\lib\\site-packages (from spacy) (0.5.2)\nRequirement already satisfied: requests<3.0.0,>=2.13.0 in c:\\users\\chiso\\anaconda3\\lib\\site-packages (from spacy) (2.25.1)\nRequirement already satisfied: tqdm<5.0.0,>=4.38.0 in c:\\users\\chiso\\anaconda3\\lib\\site-packages (from spacy) (4.56.0)\nRequirement already satisfied: preshed<3.1.0,>=3.0.2 in c:\\users\\chiso\\anaconda3\\lib\\site-packages (from spacy) (3.0.5)\nRequirement already satisfied: blis<0.8.0,>=0.4.0 in c:\\users\\chiso\\anaconda3\\lib\\site-packages (from spacy) (0.7.4)\nRequirement already satisfied: numpy>=1.15.0 in c:\\users\\chiso\\anaconda3\\lib\\site-packages (from spacy) (1.19.2)\nRequirement already satisfied: catalogue<2.1.0,>=2.0.3 in c:\\users\\chiso\\anaconda3\\lib\\site-packages (from spacy) (2.0.3)\nRequirement already satisfied: wasabi<1.1.0,>=0.8.1 in c:\\users\\chiso\\anaconda3\\lib\\site-packages (from spacy) (0.8.2)\nRequirement already satisfied: packaging>=20.0 in c:\\users\\chiso\\anaconda3\\lib\\site-packages (from spacy) (20.9)\nRequirement already satisfied: jinja2 in c:\\users\\chiso\\anaconda3\\lib\\site-packages (from spacy) (2.11.3)\nRequirement already satisfied: murmurhash<1.1.0,>=0.28.0 in c:\\users\\chiso\\anaconda3\\lib\\site-packages (from spacy) (1.0.5)\nRequirement already satisfied: pyparsing>=2.0.2 in c:\\users\\chiso\\anaconda3\\lib\\site-packages (from packaging>=20.0->spacy) (2.4.7)\nRequirement already satisfied: smart-open<4.0.0,>=2.2.0 in c:\\users\\chiso\\anaconda3\\lib\\site-packages (from pathy>=0.3.5->spacy) (3.0.0)\nRequirement already satisfied: certifi>=2017.4.17 in c:\\users\\chiso\\anaconda3\\lib\\site-packages (from requests<3.0.0,>=2.13.0->spacy) (2020.12.5)\nRequirement already satisfied: urllib3<1.27,>=1.21.1 in c:\\users\\chiso\\anaconda3\\lib\\site-packages (from requests<3.0.0,>=2.13.0->spacy) (1.26.3)\nRequirement already satisfied: chardet<5,>=3.0.2 in c:\\users\\chiso\\anaconda3\\lib\\site-packages (from requests<3.0.0,>=2.13.0->spacy) (3.0.4)\nRequirement already satisfied: idna<3,>=2.5 in c:\\users\\chiso\\anaconda3\\lib\\site-packages (from requests<3.0.0,>=2.13.0->spacy) (2.10)\nRequirement already satisfied: click<7.2.0,>=7.1.1 in c:\\users\\chiso\\anaconda3\\lib\\site-packages (from typer<0.4.0,>=0.3.0->spacy) (7.1.2)\nRequirement already satisfied: MarkupSafe>=0.23 in c:\\users\\chiso\\anaconda3\\lib\\site-packages (from jinja2->spacy) (1.1.1)\nNote: you may need to restart the kernel to use updated packages.\n"
     ]
    }
   ],
   "source": [
    "#pip install spacy"
   ]
  },
  {
   "cell_type": "code",
   "execution_count": 1,
   "metadata": {},
   "outputs": [
    {
     "output_type": "stream",
     "name": "stderr",
     "text": [
      "C:\\Users\\chiso\\anaconda3\\lib\\site-packages\\gensim\\similarities\\__init__.py:15: UserWarning: The gensim.similarities.levenshtein submodule is disabled, because the optional Levenshtein package <https://pypi.org/project/python-Levenshtein/> is unavailable. Install Levenhstein (e.g. `pip install python-Levenshtein`) to suppress this warning.\n",
      "  warnings.warn(msg)\n",
      "[nltk_data] Downloading package stopwords to\n",
      "[nltk_data]     C:\\Users\\chiso\\AppData\\Roaming\\nltk_data...\n",
      "[nltk_data]   Package stopwords is already up-to-date!\n"
     ]
    },
    {
     "output_type": "execute_result",
     "data": {
      "text/plain": [
       "True"
      ]
     },
     "metadata": {},
     "execution_count": 1
    }
   ],
   "source": [
    "import pandas as pd\n",
    "import re\n",
    "from     gensim.parsing.preprocessing     import     STOPWORDS,     strip_tags, strip_numeric, strip_punctuation, strip_multiple_whitespaces, remove_stopwords, strip_short, stem_text\n",
    "import pickle\n",
    "import spacy #import en_core_web_sm\n",
    "import nltk\n",
    "nltk.download('stopwords')"
   ]
  },
  {
   "cell_type": "code",
   "execution_count": null,
   "metadata": {},
   "outputs": [],
   "source": []
  }
 ]
}