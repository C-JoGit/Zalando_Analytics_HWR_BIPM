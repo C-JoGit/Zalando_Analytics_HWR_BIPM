{
 "metadata": {
  "language_info": {
   "codemirror_mode": {
    "name": "ipython",
    "version": 3
   },
   "file_extension": ".py",
   "mimetype": "text/x-python",
   "name": "python",
   "nbconvert_exporter": "python",
   "pygments_lexer": "ipython3",
   "version": "3.8.5"
  },
  "orig_nbformat": 2,
  "kernelspec": {
   "name": "python385jvsc74a57bd03d32eab50a390e074348d82344cbc61403476e5f817511f3da9799ccaaf7cac4",
   "display_name": "Python 3.8.5 64-bit ('base': conda)"
  }
 },
 "nbformat": 4,
 "nbformat_minor": 2,
 "cells": [
  {
   "cell_type": "code",
   "execution_count": 2,
   "metadata": {},
   "outputs": [
    {
     "output_type": "stream",
     "name": "stderr",
     "text": [
      "[nltk_data] Downloading package stopwords to\n[nltk_data]     C:\\Users\\chiso\\AppData\\Roaming\\nltk_data...\n[nltk_data]   Package stopwords is already up-to-date!\n"
     ]
    },
    {
     "output_type": "execute_result",
     "data": {
      "text/plain": [
       "True"
      ]
     },
     "metadata": {},
     "execution_count": 2
    }
   ],
   "source": [
    "import pandas as pd\n",
    "import re\n",
    "from     gensim.parsing.preprocessing     import     STOPWORDS,     strip_tags, strip_numeric, strip_punctuation, strip_multiple_whitespaces, remove_stopwords, strip_short, stem_text\n",
    "import pickle\n",
    "import spacy #import en_core_web_sm\n",
    "import nltk\n",
    "nltk.download('stopwords')"
   ]
  },
  {
   "cell_type": "code",
   "execution_count": 30,
   "metadata": {},
   "outputs": [],
   "source": [
    "zalando = pd.read_json(r\"..\\Zalando_Analytics_HWR_BIPM\\twitterdata\\2021-03-05_en_@zalando.json\")\n",
    "asos = pd.read_json(r\"..\\Zalando_Analytics_HWR_BIPM\\twitterdata\\2021-03-05_en_asos.json\")\n",
    "bohoo = pd.read_json(r\"..\\Zalando_Analytics_HWR_BIPM\\twitterdata\\2021-03-05_en_bohoo.json\")"
   ]
  },
  {
   "cell_type": "code",
   "execution_count": 9,
   "metadata": {},
   "outputs": [
    {
     "output_type": "execute_result",
     "data": {
      "text/plain": [
       "               user_id  user_statuses            name  \\\n",
       "0  1323291681899294721            133   GreenerRetail   \n",
       "1  1259761930304196610              1    fattybabycat   \n",
       "2   835467350249963521           2296   piotrkarwatka   \n",
       "3             58485935            114  MissyDawn27586   \n",
       "4  1059339103928492033          11725    CarolCooney7   \n",
       "\n",
       "                                               tweet  retweets  \\\n",
       "0  Who and what has made our greener retailing tr...         0   \n",
       "1  .@Zalando offers nothing more than scripted, c...         0   \n",
       "2  We've got a great talk with Fabian Wesner on h...         0   \n",
       "3  @Zalando recieved wrong item... don’t know how...         0   \n",
       "4  @DrewLawDesign @Zalando  have sent me a few de...         0   \n",
       "\n",
       "          location      created  followers  is_user_verified  \n",
       "0     Planet Earth  05-Mar-2021         70             False  \n",
       "1                   05-Mar-2021          0             False  \n",
       "2  Wrocław, Polska  05-Mar-2021       1347             False  \n",
       "3                   05-Mar-2021         27             False  \n",
       "4                   05-Mar-2021        457             False  "
      ],
      "text/html": "<div>\n<style scoped>\n    .dataframe tbody tr th:only-of-type {\n        vertical-align: middle;\n    }\n\n    .dataframe tbody tr th {\n        vertical-align: top;\n    }\n\n    .dataframe thead th {\n        text-align: right;\n    }\n</style>\n<table border=\"1\" class=\"dataframe\">\n  <thead>\n    <tr style=\"text-align: right;\">\n      <th></th>\n      <th>user_id</th>\n      <th>user_statuses</th>\n      <th>name</th>\n      <th>tweet</th>\n      <th>retweets</th>\n      <th>location</th>\n      <th>created</th>\n      <th>followers</th>\n      <th>is_user_verified</th>\n    </tr>\n  </thead>\n  <tbody>\n    <tr>\n      <th>0</th>\n      <td>1323291681899294721</td>\n      <td>133</td>\n      <td>GreenerRetail</td>\n      <td>Who and what has made our greener retailing tr...</td>\n      <td>0</td>\n      <td>Planet Earth</td>\n      <td>05-Mar-2021</td>\n      <td>70</td>\n      <td>False</td>\n    </tr>\n    <tr>\n      <th>1</th>\n      <td>1259761930304196610</td>\n      <td>1</td>\n      <td>fattybabycat</td>\n      <td>.@Zalando offers nothing more than scripted, c...</td>\n      <td>0</td>\n      <td></td>\n      <td>05-Mar-2021</td>\n      <td>0</td>\n      <td>False</td>\n    </tr>\n    <tr>\n      <th>2</th>\n      <td>835467350249963521</td>\n      <td>2296</td>\n      <td>piotrkarwatka</td>\n      <td>We've got a great talk with Fabian Wesner on h...</td>\n      <td>0</td>\n      <td>Wrocław, Polska</td>\n      <td>05-Mar-2021</td>\n      <td>1347</td>\n      <td>False</td>\n    </tr>\n    <tr>\n      <th>3</th>\n      <td>58485935</td>\n      <td>114</td>\n      <td>MissyDawn27586</td>\n      <td>@Zalando recieved wrong item... don’t know how...</td>\n      <td>0</td>\n      <td></td>\n      <td>05-Mar-2021</td>\n      <td>27</td>\n      <td>False</td>\n    </tr>\n    <tr>\n      <th>4</th>\n      <td>1059339103928492033</td>\n      <td>11725</td>\n      <td>CarolCooney7</td>\n      <td>@DrewLawDesign @Zalando  have sent me a few de...</td>\n      <td>0</td>\n      <td></td>\n      <td>05-Mar-2021</td>\n      <td>457</td>\n      <td>False</td>\n    </tr>\n  </tbody>\n</table>\n</div>"
     },
     "metadata": {},
     "execution_count": 9
    }
   ],
   "source": [
    "zalando.head()"
   ]
  },
  {
   "cell_type": "code",
   "execution_count": 10,
   "metadata": {},
   "outputs": [
    {
     "output_type": "execute_result",
     "data": {
      "text/plain": [
       "               user_id  user_statuses         name  \\\n",
       "0             91800594          97473      _phelma   \n",
       "1             78974281           5481     ZiyandaO   \n",
       "2             15790423         229382         ASOS   \n",
       "3  1208987533192957953           7184   RHBlackMan   \n",
       "4  1216824142726561792             28  SAM92075802   \n",
       "\n",
       "                                               tweet  retweets  \\\n",
       "0  Quickly came to return my ASOS package &amp; t...         0   \n",
       "1  @ASOS_HeretoHelp why has my account been block...         0   \n",
       "2  @_justollie @PostOffice @RoyalMailHelp @RoyalM...         0   \n",
       "3  Birthday Tingz. #LockdownStyle #InstagramSawIt...         0   \n",
       "4  ASOS I’ve been awaiting for a parcel since 15 ...         0   \n",
       "\n",
       "          location      created  followers  is_user_verified  \n",
       "0  London, England  05-Mar-2021       2070             False  \n",
       "1  London, England  05-Mar-2021        821             False  \n",
       "2           London  05-Mar-2021    1085110              True  \n",
       "3         Barbados  05-Mar-2021        323             False  \n",
       "4                   05-Mar-2021         15             False  "
      ],
      "text/html": "<div>\n<style scoped>\n    .dataframe tbody tr th:only-of-type {\n        vertical-align: middle;\n    }\n\n    .dataframe tbody tr th {\n        vertical-align: top;\n    }\n\n    .dataframe thead th {\n        text-align: right;\n    }\n</style>\n<table border=\"1\" class=\"dataframe\">\n  <thead>\n    <tr style=\"text-align: right;\">\n      <th></th>\n      <th>user_id</th>\n      <th>user_statuses</th>\n      <th>name</th>\n      <th>tweet</th>\n      <th>retweets</th>\n      <th>location</th>\n      <th>created</th>\n      <th>followers</th>\n      <th>is_user_verified</th>\n    </tr>\n  </thead>\n  <tbody>\n    <tr>\n      <th>0</th>\n      <td>91800594</td>\n      <td>97473</td>\n      <td>_phelma</td>\n      <td>Quickly came to return my ASOS package &amp;amp; t...</td>\n      <td>0</td>\n      <td>London, England</td>\n      <td>05-Mar-2021</td>\n      <td>2070</td>\n      <td>False</td>\n    </tr>\n    <tr>\n      <th>1</th>\n      <td>78974281</td>\n      <td>5481</td>\n      <td>ZiyandaO</td>\n      <td>@ASOS_HeretoHelp why has my account been block...</td>\n      <td>0</td>\n      <td>London, England</td>\n      <td>05-Mar-2021</td>\n      <td>821</td>\n      <td>False</td>\n    </tr>\n    <tr>\n      <th>2</th>\n      <td>15790423</td>\n      <td>229382</td>\n      <td>ASOS</td>\n      <td>@_justollie @PostOffice @RoyalMailHelp @RoyalM...</td>\n      <td>0</td>\n      <td>London</td>\n      <td>05-Mar-2021</td>\n      <td>1085110</td>\n      <td>True</td>\n    </tr>\n    <tr>\n      <th>3</th>\n      <td>1208987533192957953</td>\n      <td>7184</td>\n      <td>RHBlackMan</td>\n      <td>Birthday Tingz. #LockdownStyle #InstagramSawIt...</td>\n      <td>0</td>\n      <td>Barbados</td>\n      <td>05-Mar-2021</td>\n      <td>323</td>\n      <td>False</td>\n    </tr>\n    <tr>\n      <th>4</th>\n      <td>1216824142726561792</td>\n      <td>28</td>\n      <td>SAM92075802</td>\n      <td>ASOS I’ve been awaiting for a parcel since 15 ...</td>\n      <td>0</td>\n      <td></td>\n      <td>05-Mar-2021</td>\n      <td>15</td>\n      <td>False</td>\n    </tr>\n  </tbody>\n</table>\n</div>"
     },
     "metadata": {},
     "execution_count": 10
    }
   ],
   "source": [
    "asos.head()"
   ]
  },
  {
   "cell_type": "code",
   "execution_count": 11,
   "metadata": {},
   "outputs": [
    {
     "output_type": "execute_result",
     "data": {
      "text/plain": [
       "               user_id  user_statuses           name  \\\n",
       "0            136420228         152284  MissNellyNels   \n",
       "1            136420228         152284  MissNellyNels   \n",
       "2  1354040830592335874            800    thepurpsoul   \n",
       "3            930457106         172758   renethelover   \n",
       "4  1174750574333632512          10807      driphaver   \n",
       "\n",
       "                                               tweet  retweets  \\\n",
       "0      @fragileceour Wahala for who no be Bohoo chic         0   \n",
       "1    Bohoo take all my money https://t.co/3a7hbF5OX5         0   \n",
       "2              @EB0YGGUKZ @swagijoon Twitter bohoo👎😤         0   \n",
       "3  @neeuQcMxelA @enctrI you clearly view the issu...         0   \n",
       "4  @240pee bohoo cry about it,,\\nWHAT A PUTT TO T...         0   \n",
       "\n",
       "                location      created  followers  is_user_verified  \n",
       "0                         05-Mar-2021       5744             False  \n",
       "1                         05-Mar-2021       5744             False  \n",
       "2        Bangtan's Heart  05-Mar-2021         45             False  \n",
       "3                         05-Mar-2021       2662             False  \n",
       "4  Jo#8762 | id/thrasher  05-Mar-2021        633             False  "
      ],
      "text/html": "<div>\n<style scoped>\n    .dataframe tbody tr th:only-of-type {\n        vertical-align: middle;\n    }\n\n    .dataframe tbody tr th {\n        vertical-align: top;\n    }\n\n    .dataframe thead th {\n        text-align: right;\n    }\n</style>\n<table border=\"1\" class=\"dataframe\">\n  <thead>\n    <tr style=\"text-align: right;\">\n      <th></th>\n      <th>user_id</th>\n      <th>user_statuses</th>\n      <th>name</th>\n      <th>tweet</th>\n      <th>retweets</th>\n      <th>location</th>\n      <th>created</th>\n      <th>followers</th>\n      <th>is_user_verified</th>\n    </tr>\n  </thead>\n  <tbody>\n    <tr>\n      <th>0</th>\n      <td>136420228</td>\n      <td>152284</td>\n      <td>MissNellyNels</td>\n      <td>@fragileceour Wahala for who no be Bohoo chic</td>\n      <td>0</td>\n      <td></td>\n      <td>05-Mar-2021</td>\n      <td>5744</td>\n      <td>False</td>\n    </tr>\n    <tr>\n      <th>1</th>\n      <td>136420228</td>\n      <td>152284</td>\n      <td>MissNellyNels</td>\n      <td>Bohoo take all my money https://t.co/3a7hbF5OX5</td>\n      <td>0</td>\n      <td></td>\n      <td>05-Mar-2021</td>\n      <td>5744</td>\n      <td>False</td>\n    </tr>\n    <tr>\n      <th>2</th>\n      <td>1354040830592335874</td>\n      <td>800</td>\n      <td>thepurpsoul</td>\n      <td>@EB0YGGUKZ @swagijoon Twitter bohoo👎😤</td>\n      <td>0</td>\n      <td>Bangtan's Heart</td>\n      <td>05-Mar-2021</td>\n      <td>45</td>\n      <td>False</td>\n    </tr>\n    <tr>\n      <th>3</th>\n      <td>930457106</td>\n      <td>172758</td>\n      <td>renethelover</td>\n      <td>@neeuQcMxelA @enctrI you clearly view the issu...</td>\n      <td>0</td>\n      <td></td>\n      <td>05-Mar-2021</td>\n      <td>2662</td>\n      <td>False</td>\n    </tr>\n    <tr>\n      <th>4</th>\n      <td>1174750574333632512</td>\n      <td>10807</td>\n      <td>driphaver</td>\n      <td>@240pee bohoo cry about it,,\\nWHAT A PUTT TO T...</td>\n      <td>0</td>\n      <td>Jo#8762 | id/thrasher</td>\n      <td>05-Mar-2021</td>\n      <td>633</td>\n      <td>False</td>\n    </tr>\n  </tbody>\n</table>\n</div>"
     },
     "metadata": {},
     "execution_count": 11
    }
   ],
   "source": [
    "bohoo.head()"
   ]
  },
  {
   "cell_type": "code",
   "execution_count": 12,
   "metadata": {},
   "outputs": [
    {
     "output_type": "stream",
     "name": "stdout",
     "text": [
      "zalando size: (32, 9)\nasos size: (3000, 9)\nbohoo size: (72, 9)\n"
     ]
    }
   ],
   "source": [
    "print('zalando size:', zalando.shape)\n",
    "print('asos size:', asos.shape)\n",
    "print('bohoo size:', bohoo.shape)"
   ]
  },
  {
   "cell_type": "code",
   "execution_count": 13,
   "metadata": {},
   "outputs": [
    {
     "output_type": "execute_result",
     "data": {
      "text/plain": [
       "'Who and what has made our greener retailing tracker this week? Step forward\\xa0@EllasKitchenUK,\\xa0@MarsUK, @NestleUKI,\\xa0@Taylors,\\xa0@suezUK, @tesconews,\\xa0@mondigroup, @TanyaAshton7,\\xa0@FietskoeriersNL,\\xa0@Zalando,\\xa0@benetton, and\\xa0@ZARA\\xa0https://t.co/KyPaEUVIG4 https://t.co/x32G8Md3SD'"
      ]
     },
     "metadata": {},
     "execution_count": 13
    }
   ],
   "source": [
    "zalando.tweet[0]"
   ]
  },
  {
   "cell_type": "code",
   "execution_count": 14,
   "metadata": {},
   "outputs": [
    {
     "output_type": "execute_result",
     "data": {
      "text/plain": [
       "'„Tailoring rituals to your team“ How We (Re)Designed Our Community Rituals by Ekaterina Klykova @Zalando https://t.co/xVTZtyIDiH'"
      ]
     },
     "metadata": {},
     "execution_count": 14
    }
   ],
   "source": [
    "zalando.tweet[30]"
   ]
  },
  {
   "cell_type": "code",
   "execution_count": 15,
   "metadata": {},
   "outputs": [
    {
     "output_type": "execute_result",
     "data": {
      "text/plain": [
       "'@SalmiSarppa @Zalando Any tips would be highly appreciated. Or do those pants include panties as well?'"
      ]
     },
     "metadata": {},
     "execution_count": 15
    }
   ],
   "source": [
    "zalando.tweet[20]"
   ]
  },
  {
   "cell_type": "code",
   "execution_count": 16,
   "metadata": {},
   "outputs": [
    {
     "output_type": "execute_result",
     "data": {
      "text/plain": [
       "'@ASOS_HeretoHelp why has my account been blocked and order cancelled? I also have another order due for delivery when will I receive that as I can’t track it anymore? What is that even about!? Disappointing as it’s only my 3rd time using your services. Please respond!'"
      ]
     },
     "metadata": {},
     "execution_count": 16
    }
   ],
   "source": [
    "asos.tweet[1]"
   ]
  },
  {
   "cell_type": "code",
   "execution_count": 21,
   "metadata": {},
   "outputs": [
    {
     "output_type": "execute_result",
     "data": {
      "text/plain": [
       "'I wish this was a viable option for clients 😂 https://t.co/kiWIcuwWYK'"
      ]
     },
     "metadata": {},
     "execution_count": 21
    }
   ],
   "source": [
    "asos.tweet[1000]"
   ]
  },
  {
   "cell_type": "code",
   "execution_count": 23,
   "metadata": {},
   "outputs": [
    {
     "output_type": "execute_result",
     "data": {
      "text/plain": [
       "'@ASOS Because I’ll have gone almost another 6 during lockdown3.0 without @ItsSANK and I’ll need some new clothes for when we’re finally reunited ✨ #ASOSTreatMe'"
      ]
     },
     "metadata": {},
     "execution_count": 23
    }
   ],
   "source": [
    "asos.tweet[2989]"
   ]
  },
  {
   "cell_type": "code",
   "execution_count": 25,
   "metadata": {},
   "outputs": [
    {
     "output_type": "execute_result",
     "data": {
      "text/plain": [
       "'@neeuQcMxelA @enctrI you clearly view the issue \"racism against whites in SA\" as the bigger issue than the systemic racism against bipoc\\'s all around the world. i\\'m so sorry your life isn\\'t included in the # black lives matter  bohoo be glad that u don\\'t have to fight for your rights in 2021 !!'"
      ]
     },
     "metadata": {},
     "execution_count": 25
    }
   ],
   "source": [
    "bohoo.tweet[3]"
   ]
  },
  {
   "cell_type": "code",
   "execution_count": 28,
   "metadata": {},
   "outputs": [
    {
     "output_type": "execute_result",
     "data": {
      "text/plain": [
       "'people who call others boring will always be a surprise for me. bohoo ur the most funnest. coolest. chillest. big deal bruh\\nBut someone else’s idea of fun could be completely opposite to urs. maybe ur boring for them. how about that'"
      ]
     },
     "metadata": {},
     "execution_count": 28
    }
   ],
   "source": [
    "bohoo.tweet[39]"
   ]
  },
  {
   "cell_type": "code",
   "execution_count": 29,
   "metadata": {},
   "outputs": [
    {
     "output_type": "execute_result",
     "data": {
      "text/plain": [
       "'@howlinmadmaddy @tfwPhoebe Bohoo literally ryu is shirtless and called \"sexy ryu\" and i dont see you bitching'"
      ]
     },
     "metadata": {},
     "execution_count": 29
    }
   ],
   "source": [
    "bohoo.tweet[70]"
   ]
  },
  {
   "cell_type": "code",
   "execution_count": null,
   "metadata": {},
   "outputs": [],
   "source": []
  }
 ]
}