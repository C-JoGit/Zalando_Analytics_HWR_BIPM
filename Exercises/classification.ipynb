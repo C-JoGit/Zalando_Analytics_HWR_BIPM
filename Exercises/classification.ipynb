{
 "metadata": {
  "language_info": {
   "codemirror_mode": {
    "name": "ipython",
    "version": 3
   },
   "file_extension": ".py",
   "mimetype": "text/x-python",
   "name": "python",
   "nbconvert_exporter": "python",
   "pygments_lexer": "ipython3",
   "version": "3.7.10"
  },
  "orig_nbformat": 2,
  "kernelspec": {
   "name": "python3710jvsc74a57bd022a63b945ad88ad6aa60a7f3f570c70abf6faa8a03284077614716ef20649993",
   "display_name": "Python 3.7.10 64-bit ('uni': conda)"
  }
 },
 "nbformat": 4,
 "nbformat_minor": 2,
 "cells": [
  {
   "cell_type": "code",
   "execution_count": 1,
   "metadata": {},
   "outputs": [],
   "source": [
    "import pandas as pd\n",
    "import pickle\n",
    "from sklearn.feature_extraction.text import TfidfVectorizer\n",
    "from sklearn.model_selection import train_test_split, GridSearchCV\n",
    "from sklearn.naive_bayes import MultinomialNB\n",
    "from sklearn.metrics import classification_report, accuracy_score\n",
    "from sklearn.ensemble import RandomForestClassifier"
   ]
  },
  {
   "cell_type": "code",
   "execution_count": 2,
   "metadata": {},
   "outputs": [],
   "source": [
    "data_stem = pickle.load(open('stemmed.pkl', \"rb\"))"
   ]
  },
  {
   "cell_type": "code",
   "execution_count": 7,
   "metadata": {},
   "outputs": [
    {
     "output_type": "execute_result",
     "data": {
      "text/plain": [
       "'car wonder enlighten car saw dai door sport car look late earli call bricklin door small addit bumper separ rest bodi know tellm model engin spec year product car histori info funki look car mail thank'"
      ]
     },
     "metadata": {},
     "execution_count": 7
    }
   ],
   "source": [
    "data_stem[0]"
   ]
  },
  {
   "cell_type": "code",
   "execution_count": 3,
   "metadata": {},
   "outputs": [
    {
     "output_type": "execute_result",
     "data": {
      "text/plain": [
       "                                        preprocessed\n",
       "0  car wonder enlighten car saw dai door sport ca...\n",
       "1  clock poll final final clock report acceler cl...\n",
       "2  question folk mac plu final gave ghost weekend...\n",
       "3  weitek robert kyanko rob rjck uucp wrote abrax...\n",
       "4  shuttl launch question articl cowcb world std ..."
      ],
      "text/html": "<div>\n<style scoped>\n    .dataframe tbody tr th:only-of-type {\n        vertical-align: middle;\n    }\n\n    .dataframe tbody tr th {\n        vertical-align: top;\n    }\n\n    .dataframe thead th {\n        text-align: right;\n    }\n</style>\n<table border=\"1\" class=\"dataframe\">\n  <thead>\n    <tr style=\"text-align: right;\">\n      <th></th>\n      <th>preprocessed</th>\n    </tr>\n  </thead>\n  <tbody>\n    <tr>\n      <th>0</th>\n      <td>car wonder enlighten car saw dai door sport ca...</td>\n    </tr>\n    <tr>\n      <th>1</th>\n      <td>clock poll final final clock report acceler cl...</td>\n    </tr>\n    <tr>\n      <th>2</th>\n      <td>question folk mac plu final gave ghost weekend...</td>\n    </tr>\n    <tr>\n      <th>3</th>\n      <td>weitek robert kyanko rob rjck uucp wrote abrax...</td>\n    </tr>\n    <tr>\n      <th>4</th>\n      <td>shuttl launch question articl cowcb world std ...</td>\n    </tr>\n  </tbody>\n</table>\n</div>"
     },
     "metadata": {},
     "execution_count": 3
    }
   ],
   "source": [
    "df = pd.DataFrame(data_stem, columns = ['preprocessed'])\n",
    "df.head()"
   ]
  },
  {
   "cell_type": "code",
   "execution_count": 4,
   "metadata": {},
   "outputs": [],
   "source": [
    "news_group = pd.read_json('https://raw.githubusercontent.com/selva86/datasets/master/newsgroups.json')"
   ]
  },
  {
   "cell_type": "code",
   "execution_count": 30,
   "metadata": {},
   "outputs": [
    {
     "output_type": "execute_result",
     "data": {
      "text/plain": [
       "                                             content  target  \\\n",
       "0  From: lerxst@wam.umd.edu (where's my thing)\\nS...       7   \n",
       "1  From: guykuo@carson.u.washington.edu (Guy Kuo)...       4   \n",
       "2  From: twillis@ec.ecn.purdue.edu (Thomas E Will...       4   \n",
       "3  From: jgreen@amber (Joe Green)\\nSubject: Re: W...       1   \n",
       "4  From: jcm@head-cfa.harvard.edu (Jonathan McDow...      14   \n",
       "\n",
       "            target_names  \n",
       "0              rec.autos  \n",
       "1  comp.sys.mac.hardware  \n",
       "2  comp.sys.mac.hardware  \n",
       "3          comp.graphics  \n",
       "4              sci.space  "
      ],
      "text/html": "<div>\n<style scoped>\n    .dataframe tbody tr th:only-of-type {\n        vertical-align: middle;\n    }\n\n    .dataframe tbody tr th {\n        vertical-align: top;\n    }\n\n    .dataframe thead th {\n        text-align: right;\n    }\n</style>\n<table border=\"1\" class=\"dataframe\">\n  <thead>\n    <tr style=\"text-align: right;\">\n      <th></th>\n      <th>content</th>\n      <th>target</th>\n      <th>target_names</th>\n    </tr>\n  </thead>\n  <tbody>\n    <tr>\n      <th>0</th>\n      <td>From: lerxst@wam.umd.edu (where's my thing)\\nS...</td>\n      <td>7</td>\n      <td>rec.autos</td>\n    </tr>\n    <tr>\n      <th>1</th>\n      <td>From: guykuo@carson.u.washington.edu (Guy Kuo)...</td>\n      <td>4</td>\n      <td>comp.sys.mac.hardware</td>\n    </tr>\n    <tr>\n      <th>2</th>\n      <td>From: twillis@ec.ecn.purdue.edu (Thomas E Will...</td>\n      <td>4</td>\n      <td>comp.sys.mac.hardware</td>\n    </tr>\n    <tr>\n      <th>3</th>\n      <td>From: jgreen@amber (Joe Green)\\nSubject: Re: W...</td>\n      <td>1</td>\n      <td>comp.graphics</td>\n    </tr>\n    <tr>\n      <th>4</th>\n      <td>From: jcm@head-cfa.harvard.edu (Jonathan McDow...</td>\n      <td>14</td>\n      <td>sci.space</td>\n    </tr>\n  </tbody>\n</table>\n</div>"
     },
     "metadata": {},
     "execution_count": 30
    }
   ],
   "source": [
    "news_group.head()"
   ]
  },
  {
   "cell_type": "code",
   "execution_count": 5,
   "metadata": {},
   "outputs": [],
   "source": [
    "df['target'] = news_group['target']"
   ]
  },
  {
   "cell_type": "code",
   "execution_count": 6,
   "metadata": {},
   "outputs": [],
   "source": [
    "df['target_names'] = news_group['target_names']"
   ]
  },
  {
   "cell_type": "code",
   "execution_count": 7,
   "metadata": {},
   "outputs": [
    {
     "output_type": "execute_result",
     "data": {
      "text/plain": [
       "                                        preprocessed  target  \\\n",
       "0  car wonder enlighten car saw dai door sport ca...       7   \n",
       "1  clock poll final final clock report acceler cl...       4   \n",
       "2  question folk mac plu final gave ghost weekend...       4   \n",
       "3  weitek robert kyanko rob rjck uucp wrote abrax...       1   \n",
       "4  shuttl launch question articl cowcb world std ...      14   \n",
       "\n",
       "            target_names  \n",
       "0              rec.autos  \n",
       "1  comp.sys.mac.hardware  \n",
       "2  comp.sys.mac.hardware  \n",
       "3          comp.graphics  \n",
       "4              sci.space  "
      ],
      "text/html": "<div>\n<style scoped>\n    .dataframe tbody tr th:only-of-type {\n        vertical-align: middle;\n    }\n\n    .dataframe tbody tr th {\n        vertical-align: top;\n    }\n\n    .dataframe thead th {\n        text-align: right;\n    }\n</style>\n<table border=\"1\" class=\"dataframe\">\n  <thead>\n    <tr style=\"text-align: right;\">\n      <th></th>\n      <th>preprocessed</th>\n      <th>target</th>\n      <th>target_names</th>\n    </tr>\n  </thead>\n  <tbody>\n    <tr>\n      <th>0</th>\n      <td>car wonder enlighten car saw dai door sport ca...</td>\n      <td>7</td>\n      <td>rec.autos</td>\n    </tr>\n    <tr>\n      <th>1</th>\n      <td>clock poll final final clock report acceler cl...</td>\n      <td>4</td>\n      <td>comp.sys.mac.hardware</td>\n    </tr>\n    <tr>\n      <th>2</th>\n      <td>question folk mac plu final gave ghost weekend...</td>\n      <td>4</td>\n      <td>comp.sys.mac.hardware</td>\n    </tr>\n    <tr>\n      <th>3</th>\n      <td>weitek robert kyanko rob rjck uucp wrote abrax...</td>\n      <td>1</td>\n      <td>comp.graphics</td>\n    </tr>\n    <tr>\n      <th>4</th>\n      <td>shuttl launch question articl cowcb world std ...</td>\n      <td>14</td>\n      <td>sci.space</td>\n    </tr>\n  </tbody>\n</table>\n</div>"
     },
     "metadata": {},
     "execution_count": 7
    }
   ],
   "source": [
    "df.head()"
   ]
  },
  {
   "cell_type": "code",
   "execution_count": 8,
   "metadata": {},
   "outputs": [],
   "source": [
    "filtered = df[df['target_names'].isin(['soc.religion.christian', 'rec.sport.hockey', 'talk.politics.mideast', 'rec.motorcycles'])]"
   ]
  },
  {
   "cell_type": "code",
   "execution_count": 14,
   "metadata": {},
   "outputs": [
    {
     "output_type": "execute_result",
     "data": {
      "text/plain": [
       "      index                                       preprocessed  target  \\\n",
       "0        10  recommend duc worth ducati gt line ducati gt m...       8   \n",
       "1        21  nhl team captain articl apr samba oit unc edu ...      10   \n",
       "2        28  pantheism environment articl apr atho rutger e...      15   \n",
       "3        33  isra expans lust articl spam math adelaid edu ...      17   \n",
       "4        35  goali mask articl netnew upenn edu kkeller mai...      10   \n",
       "...     ...                                                ...     ...   \n",
       "2356  11298  nhl team milwauke read report possibl nhl move...      10   \n",
       "2357  11299  turkei cypru bosnia serbia greec armenia azeri...      17   \n",
       "2358  11300  arrog christian previou articl phsd vaxc monas...      15   \n",
       "2359  11305  hezbollah apr yuma acn colost edu repli long l...      17   \n",
       "2360  11313  stolen cbrrr stolen pasadena blue white honda ...       8   \n",
       "\n",
       "                target_names  \n",
       "0            rec.motorcycles  \n",
       "1           rec.sport.hockey  \n",
       "2     soc.religion.christian  \n",
       "3      talk.politics.mideast  \n",
       "4           rec.sport.hockey  \n",
       "...                      ...  \n",
       "2356        rec.sport.hockey  \n",
       "2357   talk.politics.mideast  \n",
       "2358  soc.religion.christian  \n",
       "2359   talk.politics.mideast  \n",
       "2360         rec.motorcycles  \n",
       "\n",
       "[2361 rows x 4 columns]"
      ],
      "text/html": "<div>\n<style scoped>\n    .dataframe tbody tr th:only-of-type {\n        vertical-align: middle;\n    }\n\n    .dataframe tbody tr th {\n        vertical-align: top;\n    }\n\n    .dataframe thead th {\n        text-align: right;\n    }\n</style>\n<table border=\"1\" class=\"dataframe\">\n  <thead>\n    <tr style=\"text-align: right;\">\n      <th></th>\n      <th>index</th>\n      <th>preprocessed</th>\n      <th>target</th>\n      <th>target_names</th>\n    </tr>\n  </thead>\n  <tbody>\n    <tr>\n      <th>0</th>\n      <td>10</td>\n      <td>recommend duc worth ducati gt line ducati gt m...</td>\n      <td>8</td>\n      <td>rec.motorcycles</td>\n    </tr>\n    <tr>\n      <th>1</th>\n      <td>21</td>\n      <td>nhl team captain articl apr samba oit unc edu ...</td>\n      <td>10</td>\n      <td>rec.sport.hockey</td>\n    </tr>\n    <tr>\n      <th>2</th>\n      <td>28</td>\n      <td>pantheism environment articl apr atho rutger e...</td>\n      <td>15</td>\n      <td>soc.religion.christian</td>\n    </tr>\n    <tr>\n      <th>3</th>\n      <td>33</td>\n      <td>isra expans lust articl spam math adelaid edu ...</td>\n      <td>17</td>\n      <td>talk.politics.mideast</td>\n    </tr>\n    <tr>\n      <th>4</th>\n      <td>35</td>\n      <td>goali mask articl netnew upenn edu kkeller mai...</td>\n      <td>10</td>\n      <td>rec.sport.hockey</td>\n    </tr>\n    <tr>\n      <th>...</th>\n      <td>...</td>\n      <td>...</td>\n      <td>...</td>\n      <td>...</td>\n    </tr>\n    <tr>\n      <th>2356</th>\n      <td>11298</td>\n      <td>nhl team milwauke read report possibl nhl move...</td>\n      <td>10</td>\n      <td>rec.sport.hockey</td>\n    </tr>\n    <tr>\n      <th>2357</th>\n      <td>11299</td>\n      <td>turkei cypru bosnia serbia greec armenia azeri...</td>\n      <td>17</td>\n      <td>talk.politics.mideast</td>\n    </tr>\n    <tr>\n      <th>2358</th>\n      <td>11300</td>\n      <td>arrog christian previou articl phsd vaxc monas...</td>\n      <td>15</td>\n      <td>soc.religion.christian</td>\n    </tr>\n    <tr>\n      <th>2359</th>\n      <td>11305</td>\n      <td>hezbollah apr yuma acn colost edu repli long l...</td>\n      <td>17</td>\n      <td>talk.politics.mideast</td>\n    </tr>\n    <tr>\n      <th>2360</th>\n      <td>11313</td>\n      <td>stolen cbrrr stolen pasadena blue white honda ...</td>\n      <td>8</td>\n      <td>rec.motorcycles</td>\n    </tr>\n  </tbody>\n</table>\n<p>2361 rows × 4 columns</p>\n</div>"
     },
     "metadata": {},
     "execution_count": 14
    }
   ],
   "source": [
    "filtered.reset_index()"
   ]
  },
  {
   "cell_type": "code",
   "execution_count": 27,
   "metadata": {},
   "outputs": [
    {
     "output_type": "execute_result",
     "data": {
      "text/plain": [
       "array([ 8, 10, 15, ..., 15, 17,  8], dtype=int64)"
      ]
     },
     "metadata": {},
     "execution_count": 27
    }
   ],
   "source": [
    "import numpy as np\n",
    "np.array(filtered.target)"
   ]
  },
  {
   "cell_type": "code",
   "execution_count": 10,
   "metadata": {},
   "outputs": [],
   "source": [
    "vectorizer = TfidfVectorizer(max_df=0.7, min_df=0.1, smooth_idf=False) # TF_IDF2"
   ]
  },
  {
   "cell_type": "code",
   "execution_count": 11,
   "metadata": {},
   "outputs": [],
   "source": [
    "data_stem2 = pd.DataFrame(vectorizer.fit_transform(filtered['preprocessed']).toarray())"
   ]
  },
  {
   "cell_type": "code",
   "execution_count": 12,
   "metadata": {},
   "outputs": [
    {
     "output_type": "execute_result",
     "data": {
      "text/plain": [
       "            0         1         2    3         4         5         6   \\\n",
       "0     0.000000  0.000000  0.000000  0.0  0.000000  0.000000  0.000000   \n",
       "1     0.166164  0.133056  0.000000  0.0  0.220015  0.000000  0.000000   \n",
       "2     0.090753  0.072670  0.000000  0.0  0.000000  0.000000  0.000000   \n",
       "3     0.174473  0.209564  0.000000  0.0  0.000000  0.000000  0.000000   \n",
       "4     0.000000  0.136935  0.000000  0.0  0.000000  0.260950  0.000000   \n",
       "...        ...       ...       ...  ...       ...       ...       ...   \n",
       "2356  0.000000  0.000000  0.000000  0.0  0.000000  0.000000  0.000000   \n",
       "2357  0.169755  0.135931  0.082243  0.0  0.074923  0.000000  0.087828   \n",
       "2358  0.029449  0.047163  0.128408  0.0  0.194965  0.044938  0.000000   \n",
       "2359  0.183103  0.048873  0.000000  0.0  0.000000  0.000000  0.000000   \n",
       "2360  0.000000  0.000000  0.000000  0.0  0.000000  0.000000  0.000000   \n",
       "\n",
       "            7         8         9   ...        80        81        82  \\\n",
       "0     0.677363  0.000000  0.000000  ...  0.000000  0.000000  0.000000   \n",
       "1     0.000000  0.000000  0.000000  ...  0.000000  0.000000  0.000000   \n",
       "2     0.000000  0.136545  0.000000  ...  0.000000  0.000000  0.133939   \n",
       "3     0.000000  0.000000  0.000000  ...  0.120475  0.000000  0.000000   \n",
       "4     0.000000  0.000000  0.000000  ...  0.000000  0.000000  0.000000   \n",
       "...        ...       ...       ...  ...       ...       ...       ...   \n",
       "2356  0.000000  0.000000  0.000000  ...  0.000000  0.000000  0.000000   \n",
       "2357  0.000000  0.000000  0.000000  ...  0.234435  0.000000  0.000000   \n",
       "2358  0.000000  0.000000  0.045318  ...  0.040670  0.043904  0.217314   \n",
       "2359  0.000000  0.000000  0.093924  ...  0.000000  0.000000  0.000000   \n",
       "2360  0.000000  0.000000  0.000000  ...  0.000000  0.000000  0.000000   \n",
       "\n",
       "            83        84   85        86       87        88        89  \n",
       "0     0.000000  0.280832  0.0  0.000000  0.00000  0.000000  0.000000  \n",
       "1     0.000000  0.000000  0.0  0.000000  0.00000  0.117268  0.000000  \n",
       "2     0.000000  0.000000  0.0  0.000000  0.00000  0.064048  0.000000  \n",
       "3     0.000000  0.209820  0.0  0.000000  0.00000  0.184698  0.000000  \n",
       "4     0.000000  0.000000  0.0  0.000000  0.00000  0.120687  0.196256  \n",
       "...        ...       ...  ...       ...      ...       ...       ...  \n",
       "2356  0.000000  0.000000  0.0  0.000000  0.00000  0.000000  0.000000  \n",
       "2357  0.194958  0.000000  0.0  0.000000  0.07963  0.079868  0.000000  \n",
       "2358  0.000000  0.035415  0.0  0.038141  0.00000  0.020783  0.000000  \n",
       "2359  0.070096  0.000000  0.0  0.000000  0.00000  0.043074  0.140091  \n",
       "2360  0.000000  0.000000  0.0  0.000000  0.00000  0.000000  0.000000  \n",
       "\n",
       "[2361 rows x 90 columns]"
      ],
      "text/html": "<div>\n<style scoped>\n    .dataframe tbody tr th:only-of-type {\n        vertical-align: middle;\n    }\n\n    .dataframe tbody tr th {\n        vertical-align: top;\n    }\n\n    .dataframe thead th {\n        text-align: right;\n    }\n</style>\n<table border=\"1\" class=\"dataframe\">\n  <thead>\n    <tr style=\"text-align: right;\">\n      <th></th>\n      <th>0</th>\n      <th>1</th>\n      <th>2</th>\n      <th>3</th>\n      <th>4</th>\n      <th>5</th>\n      <th>6</th>\n      <th>7</th>\n      <th>8</th>\n      <th>9</th>\n      <th>...</th>\n      <th>80</th>\n      <th>81</th>\n      <th>82</th>\n      <th>83</th>\n      <th>84</th>\n      <th>85</th>\n      <th>86</th>\n      <th>87</th>\n      <th>88</th>\n      <th>89</th>\n    </tr>\n  </thead>\n  <tbody>\n    <tr>\n      <th>0</th>\n      <td>0.000000</td>\n      <td>0.000000</td>\n      <td>0.000000</td>\n      <td>0.0</td>\n      <td>0.000000</td>\n      <td>0.000000</td>\n      <td>0.000000</td>\n      <td>0.677363</td>\n      <td>0.000000</td>\n      <td>0.000000</td>\n      <td>...</td>\n      <td>0.000000</td>\n      <td>0.000000</td>\n      <td>0.000000</td>\n      <td>0.000000</td>\n      <td>0.280832</td>\n      <td>0.0</td>\n      <td>0.000000</td>\n      <td>0.00000</td>\n      <td>0.000000</td>\n      <td>0.000000</td>\n    </tr>\n    <tr>\n      <th>1</th>\n      <td>0.166164</td>\n      <td>0.133056</td>\n      <td>0.000000</td>\n      <td>0.0</td>\n      <td>0.220015</td>\n      <td>0.000000</td>\n      <td>0.000000</td>\n      <td>0.000000</td>\n      <td>0.000000</td>\n      <td>0.000000</td>\n      <td>...</td>\n      <td>0.000000</td>\n      <td>0.000000</td>\n      <td>0.000000</td>\n      <td>0.000000</td>\n      <td>0.000000</td>\n      <td>0.0</td>\n      <td>0.000000</td>\n      <td>0.00000</td>\n      <td>0.117268</td>\n      <td>0.000000</td>\n    </tr>\n    <tr>\n      <th>2</th>\n      <td>0.090753</td>\n      <td>0.072670</td>\n      <td>0.000000</td>\n      <td>0.0</td>\n      <td>0.000000</td>\n      <td>0.000000</td>\n      <td>0.000000</td>\n      <td>0.000000</td>\n      <td>0.136545</td>\n      <td>0.000000</td>\n      <td>...</td>\n      <td>0.000000</td>\n      <td>0.000000</td>\n      <td>0.133939</td>\n      <td>0.000000</td>\n      <td>0.000000</td>\n      <td>0.0</td>\n      <td>0.000000</td>\n      <td>0.00000</td>\n      <td>0.064048</td>\n      <td>0.000000</td>\n    </tr>\n    <tr>\n      <th>3</th>\n      <td>0.174473</td>\n      <td>0.209564</td>\n      <td>0.000000</td>\n      <td>0.0</td>\n      <td>0.000000</td>\n      <td>0.000000</td>\n      <td>0.000000</td>\n      <td>0.000000</td>\n      <td>0.000000</td>\n      <td>0.000000</td>\n      <td>...</td>\n      <td>0.120475</td>\n      <td>0.000000</td>\n      <td>0.000000</td>\n      <td>0.000000</td>\n      <td>0.209820</td>\n      <td>0.0</td>\n      <td>0.000000</td>\n      <td>0.00000</td>\n      <td>0.184698</td>\n      <td>0.000000</td>\n    </tr>\n    <tr>\n      <th>4</th>\n      <td>0.000000</td>\n      <td>0.136935</td>\n      <td>0.000000</td>\n      <td>0.0</td>\n      <td>0.000000</td>\n      <td>0.260950</td>\n      <td>0.000000</td>\n      <td>0.000000</td>\n      <td>0.000000</td>\n      <td>0.000000</td>\n      <td>...</td>\n      <td>0.000000</td>\n      <td>0.000000</td>\n      <td>0.000000</td>\n      <td>0.000000</td>\n      <td>0.000000</td>\n      <td>0.0</td>\n      <td>0.000000</td>\n      <td>0.00000</td>\n      <td>0.120687</td>\n      <td>0.196256</td>\n    </tr>\n    <tr>\n      <th>...</th>\n      <td>...</td>\n      <td>...</td>\n      <td>...</td>\n      <td>...</td>\n      <td>...</td>\n      <td>...</td>\n      <td>...</td>\n      <td>...</td>\n      <td>...</td>\n      <td>...</td>\n      <td>...</td>\n      <td>...</td>\n      <td>...</td>\n      <td>...</td>\n      <td>...</td>\n      <td>...</td>\n      <td>...</td>\n      <td>...</td>\n      <td>...</td>\n      <td>...</td>\n      <td>...</td>\n    </tr>\n    <tr>\n      <th>2356</th>\n      <td>0.000000</td>\n      <td>0.000000</td>\n      <td>0.000000</td>\n      <td>0.0</td>\n      <td>0.000000</td>\n      <td>0.000000</td>\n      <td>0.000000</td>\n      <td>0.000000</td>\n      <td>0.000000</td>\n      <td>0.000000</td>\n      <td>...</td>\n      <td>0.000000</td>\n      <td>0.000000</td>\n      <td>0.000000</td>\n      <td>0.000000</td>\n      <td>0.000000</td>\n      <td>0.0</td>\n      <td>0.000000</td>\n      <td>0.00000</td>\n      <td>0.000000</td>\n      <td>0.000000</td>\n    </tr>\n    <tr>\n      <th>2357</th>\n      <td>0.169755</td>\n      <td>0.135931</td>\n      <td>0.082243</td>\n      <td>0.0</td>\n      <td>0.074923</td>\n      <td>0.000000</td>\n      <td>0.087828</td>\n      <td>0.000000</td>\n      <td>0.000000</td>\n      <td>0.000000</td>\n      <td>...</td>\n      <td>0.234435</td>\n      <td>0.000000</td>\n      <td>0.000000</td>\n      <td>0.194958</td>\n      <td>0.000000</td>\n      <td>0.0</td>\n      <td>0.000000</td>\n      <td>0.07963</td>\n      <td>0.079868</td>\n      <td>0.000000</td>\n    </tr>\n    <tr>\n      <th>2358</th>\n      <td>0.029449</td>\n      <td>0.047163</td>\n      <td>0.128408</td>\n      <td>0.0</td>\n      <td>0.194965</td>\n      <td>0.044938</td>\n      <td>0.000000</td>\n      <td>0.000000</td>\n      <td>0.000000</td>\n      <td>0.045318</td>\n      <td>...</td>\n      <td>0.040670</td>\n      <td>0.043904</td>\n      <td>0.217314</td>\n      <td>0.000000</td>\n      <td>0.035415</td>\n      <td>0.0</td>\n      <td>0.038141</td>\n      <td>0.00000</td>\n      <td>0.020783</td>\n      <td>0.000000</td>\n    </tr>\n    <tr>\n      <th>2359</th>\n      <td>0.183103</td>\n      <td>0.048873</td>\n      <td>0.000000</td>\n      <td>0.0</td>\n      <td>0.000000</td>\n      <td>0.000000</td>\n      <td>0.000000</td>\n      <td>0.000000</td>\n      <td>0.000000</td>\n      <td>0.093924</td>\n      <td>...</td>\n      <td>0.000000</td>\n      <td>0.000000</td>\n      <td>0.000000</td>\n      <td>0.070096</td>\n      <td>0.000000</td>\n      <td>0.0</td>\n      <td>0.000000</td>\n      <td>0.00000</td>\n      <td>0.043074</td>\n      <td>0.140091</td>\n    </tr>\n    <tr>\n      <th>2360</th>\n      <td>0.000000</td>\n      <td>0.000000</td>\n      <td>0.000000</td>\n      <td>0.0</td>\n      <td>0.000000</td>\n      <td>0.000000</td>\n      <td>0.000000</td>\n      <td>0.000000</td>\n      <td>0.000000</td>\n      <td>0.000000</td>\n      <td>...</td>\n      <td>0.000000</td>\n      <td>0.000000</td>\n      <td>0.000000</td>\n      <td>0.000000</td>\n      <td>0.000000</td>\n      <td>0.0</td>\n      <td>0.000000</td>\n      <td>0.00000</td>\n      <td>0.000000</td>\n      <td>0.000000</td>\n    </tr>\n  </tbody>\n</table>\n<p>2361 rows × 90 columns</p>\n</div>"
     },
     "metadata": {},
     "execution_count": 12
    }
   ],
   "source": [
    "data_stem2"
   ]
  },
  {
   "cell_type": "code",
   "execution_count": 28,
   "metadata": {},
   "outputs": [],
   "source": [
    "data_stem2['target2'] = np.array(filtered.target)"
   ]
  },
  {
   "cell_type": "code",
   "execution_count": 32,
   "metadata": {},
   "outputs": [],
   "source": [
    "data_stem2.drop('target', axis =1, inplace=True)"
   ]
  },
  {
   "cell_type": "code",
   "execution_count": 34,
   "metadata": {},
   "outputs": [
    {
     "output_type": "execute_result",
     "data": {
      "text/plain": [
       "             0         1         2    3         4         5         6  \\\n",
       "0     0.000000  0.000000  0.000000  0.0  0.000000  0.000000  0.000000   \n",
       "1     0.166164  0.133056  0.000000  0.0  0.220015  0.000000  0.000000   \n",
       "2     0.090753  0.072670  0.000000  0.0  0.000000  0.000000  0.000000   \n",
       "3     0.174473  0.209564  0.000000  0.0  0.000000  0.000000  0.000000   \n",
       "4     0.000000  0.136935  0.000000  0.0  0.000000  0.260950  0.000000   \n",
       "...        ...       ...       ...  ...       ...       ...       ...   \n",
       "2356  0.000000  0.000000  0.000000  0.0  0.000000  0.000000  0.000000   \n",
       "2357  0.169755  0.135931  0.082243  0.0  0.074923  0.000000  0.087828   \n",
       "2358  0.029449  0.047163  0.128408  0.0  0.194965  0.044938  0.000000   \n",
       "2359  0.183103  0.048873  0.000000  0.0  0.000000  0.000000  0.000000   \n",
       "2360  0.000000  0.000000  0.000000  0.0  0.000000  0.000000  0.000000   \n",
       "\n",
       "             7         8         9  ...        81        82        83  \\\n",
       "0     0.677363  0.000000  0.000000  ...  0.000000  0.000000  0.000000   \n",
       "1     0.000000  0.000000  0.000000  ...  0.000000  0.000000  0.000000   \n",
       "2     0.000000  0.136545  0.000000  ...  0.000000  0.133939  0.000000   \n",
       "3     0.000000  0.000000  0.000000  ...  0.000000  0.000000  0.000000   \n",
       "4     0.000000  0.000000  0.000000  ...  0.000000  0.000000  0.000000   \n",
       "...        ...       ...       ...  ...       ...       ...       ...   \n",
       "2356  0.000000  0.000000  0.000000  ...  0.000000  0.000000  0.000000   \n",
       "2357  0.000000  0.000000  0.000000  ...  0.000000  0.000000  0.194958   \n",
       "2358  0.000000  0.000000  0.045318  ...  0.043904  0.217314  0.000000   \n",
       "2359  0.000000  0.000000  0.093924  ...  0.000000  0.000000  0.070096   \n",
       "2360  0.000000  0.000000  0.000000  ...  0.000000  0.000000  0.000000   \n",
       "\n",
       "            84   85        86       87        88        89  target2  \n",
       "0     0.280832  0.0  0.000000  0.00000  0.000000  0.000000        8  \n",
       "1     0.000000  0.0  0.000000  0.00000  0.117268  0.000000       10  \n",
       "2     0.000000  0.0  0.000000  0.00000  0.064048  0.000000       15  \n",
       "3     0.209820  0.0  0.000000  0.00000  0.184698  0.000000       17  \n",
       "4     0.000000  0.0  0.000000  0.00000  0.120687  0.196256       10  \n",
       "...        ...  ...       ...      ...       ...       ...      ...  \n",
       "2356  0.000000  0.0  0.000000  0.00000  0.000000  0.000000       10  \n",
       "2357  0.000000  0.0  0.000000  0.07963  0.079868  0.000000       17  \n",
       "2358  0.035415  0.0  0.038141  0.00000  0.020783  0.000000       15  \n",
       "2359  0.000000  0.0  0.000000  0.00000  0.043074  0.140091       17  \n",
       "2360  0.000000  0.0  0.000000  0.00000  0.000000  0.000000        8  \n",
       "\n",
       "[2361 rows x 91 columns]"
      ],
      "text/html": "<div>\n<style scoped>\n    .dataframe tbody tr th:only-of-type {\n        vertical-align: middle;\n    }\n\n    .dataframe tbody tr th {\n        vertical-align: top;\n    }\n\n    .dataframe thead th {\n        text-align: right;\n    }\n</style>\n<table border=\"1\" class=\"dataframe\">\n  <thead>\n    <tr style=\"text-align: right;\">\n      <th></th>\n      <th>0</th>\n      <th>1</th>\n      <th>2</th>\n      <th>3</th>\n      <th>4</th>\n      <th>5</th>\n      <th>6</th>\n      <th>7</th>\n      <th>8</th>\n      <th>9</th>\n      <th>...</th>\n      <th>81</th>\n      <th>82</th>\n      <th>83</th>\n      <th>84</th>\n      <th>85</th>\n      <th>86</th>\n      <th>87</th>\n      <th>88</th>\n      <th>89</th>\n      <th>target2</th>\n    </tr>\n  </thead>\n  <tbody>\n    <tr>\n      <th>0</th>\n      <td>0.000000</td>\n      <td>0.000000</td>\n      <td>0.000000</td>\n      <td>0.0</td>\n      <td>0.000000</td>\n      <td>0.000000</td>\n      <td>0.000000</td>\n      <td>0.677363</td>\n      <td>0.000000</td>\n      <td>0.000000</td>\n      <td>...</td>\n      <td>0.000000</td>\n      <td>0.000000</td>\n      <td>0.000000</td>\n      <td>0.280832</td>\n      <td>0.0</td>\n      <td>0.000000</td>\n      <td>0.00000</td>\n      <td>0.000000</td>\n      <td>0.000000</td>\n      <td>8</td>\n    </tr>\n    <tr>\n      <th>1</th>\n      <td>0.166164</td>\n      <td>0.133056</td>\n      <td>0.000000</td>\n      <td>0.0</td>\n      <td>0.220015</td>\n      <td>0.000000</td>\n      <td>0.000000</td>\n      <td>0.000000</td>\n      <td>0.000000</td>\n      <td>0.000000</td>\n      <td>...</td>\n      <td>0.000000</td>\n      <td>0.000000</td>\n      <td>0.000000</td>\n      <td>0.000000</td>\n      <td>0.0</td>\n      <td>0.000000</td>\n      <td>0.00000</td>\n      <td>0.117268</td>\n      <td>0.000000</td>\n      <td>10</td>\n    </tr>\n    <tr>\n      <th>2</th>\n      <td>0.090753</td>\n      <td>0.072670</td>\n      <td>0.000000</td>\n      <td>0.0</td>\n      <td>0.000000</td>\n      <td>0.000000</td>\n      <td>0.000000</td>\n      <td>0.000000</td>\n      <td>0.136545</td>\n      <td>0.000000</td>\n      <td>...</td>\n      <td>0.000000</td>\n      <td>0.133939</td>\n      <td>0.000000</td>\n      <td>0.000000</td>\n      <td>0.0</td>\n      <td>0.000000</td>\n      <td>0.00000</td>\n      <td>0.064048</td>\n      <td>0.000000</td>\n      <td>15</td>\n    </tr>\n    <tr>\n      <th>3</th>\n      <td>0.174473</td>\n      <td>0.209564</td>\n      <td>0.000000</td>\n      <td>0.0</td>\n      <td>0.000000</td>\n      <td>0.000000</td>\n      <td>0.000000</td>\n      <td>0.000000</td>\n      <td>0.000000</td>\n      <td>0.000000</td>\n      <td>...</td>\n      <td>0.000000</td>\n      <td>0.000000</td>\n      <td>0.000000</td>\n      <td>0.209820</td>\n      <td>0.0</td>\n      <td>0.000000</td>\n      <td>0.00000</td>\n      <td>0.184698</td>\n      <td>0.000000</td>\n      <td>17</td>\n    </tr>\n    <tr>\n      <th>4</th>\n      <td>0.000000</td>\n      <td>0.136935</td>\n      <td>0.000000</td>\n      <td>0.0</td>\n      <td>0.000000</td>\n      <td>0.260950</td>\n      <td>0.000000</td>\n      <td>0.000000</td>\n      <td>0.000000</td>\n      <td>0.000000</td>\n      <td>...</td>\n      <td>0.000000</td>\n      <td>0.000000</td>\n      <td>0.000000</td>\n      <td>0.000000</td>\n      <td>0.0</td>\n      <td>0.000000</td>\n      <td>0.00000</td>\n      <td>0.120687</td>\n      <td>0.196256</td>\n      <td>10</td>\n    </tr>\n    <tr>\n      <th>...</th>\n      <td>...</td>\n      <td>...</td>\n      <td>...</td>\n      <td>...</td>\n      <td>...</td>\n      <td>...</td>\n      <td>...</td>\n      <td>...</td>\n      <td>...</td>\n      <td>...</td>\n      <td>...</td>\n      <td>...</td>\n      <td>...</td>\n      <td>...</td>\n      <td>...</td>\n      <td>...</td>\n      <td>...</td>\n      <td>...</td>\n      <td>...</td>\n      <td>...</td>\n      <td>...</td>\n    </tr>\n    <tr>\n      <th>2356</th>\n      <td>0.000000</td>\n      <td>0.000000</td>\n      <td>0.000000</td>\n      <td>0.0</td>\n      <td>0.000000</td>\n      <td>0.000000</td>\n      <td>0.000000</td>\n      <td>0.000000</td>\n      <td>0.000000</td>\n      <td>0.000000</td>\n      <td>...</td>\n      <td>0.000000</td>\n      <td>0.000000</td>\n      <td>0.000000</td>\n      <td>0.000000</td>\n      <td>0.0</td>\n      <td>0.000000</td>\n      <td>0.00000</td>\n      <td>0.000000</td>\n      <td>0.000000</td>\n      <td>10</td>\n    </tr>\n    <tr>\n      <th>2357</th>\n      <td>0.169755</td>\n      <td>0.135931</td>\n      <td>0.082243</td>\n      <td>0.0</td>\n      <td>0.074923</td>\n      <td>0.000000</td>\n      <td>0.087828</td>\n      <td>0.000000</td>\n      <td>0.000000</td>\n      <td>0.000000</td>\n      <td>...</td>\n      <td>0.000000</td>\n      <td>0.000000</td>\n      <td>0.194958</td>\n      <td>0.000000</td>\n      <td>0.0</td>\n      <td>0.000000</td>\n      <td>0.07963</td>\n      <td>0.079868</td>\n      <td>0.000000</td>\n      <td>17</td>\n    </tr>\n    <tr>\n      <th>2358</th>\n      <td>0.029449</td>\n      <td>0.047163</td>\n      <td>0.128408</td>\n      <td>0.0</td>\n      <td>0.194965</td>\n      <td>0.044938</td>\n      <td>0.000000</td>\n      <td>0.000000</td>\n      <td>0.000000</td>\n      <td>0.045318</td>\n      <td>...</td>\n      <td>0.043904</td>\n      <td>0.217314</td>\n      <td>0.000000</td>\n      <td>0.035415</td>\n      <td>0.0</td>\n      <td>0.038141</td>\n      <td>0.00000</td>\n      <td>0.020783</td>\n      <td>0.000000</td>\n      <td>15</td>\n    </tr>\n    <tr>\n      <th>2359</th>\n      <td>0.183103</td>\n      <td>0.048873</td>\n      <td>0.000000</td>\n      <td>0.0</td>\n      <td>0.000000</td>\n      <td>0.000000</td>\n      <td>0.000000</td>\n      <td>0.000000</td>\n      <td>0.000000</td>\n      <td>0.093924</td>\n      <td>...</td>\n      <td>0.000000</td>\n      <td>0.000000</td>\n      <td>0.070096</td>\n      <td>0.000000</td>\n      <td>0.0</td>\n      <td>0.000000</td>\n      <td>0.00000</td>\n      <td>0.043074</td>\n      <td>0.140091</td>\n      <td>17</td>\n    </tr>\n    <tr>\n      <th>2360</th>\n      <td>0.000000</td>\n      <td>0.000000</td>\n      <td>0.000000</td>\n      <td>0.0</td>\n      <td>0.000000</td>\n      <td>0.000000</td>\n      <td>0.000000</td>\n      <td>0.000000</td>\n      <td>0.000000</td>\n      <td>0.000000</td>\n      <td>...</td>\n      <td>0.000000</td>\n      <td>0.000000</td>\n      <td>0.000000</td>\n      <td>0.000000</td>\n      <td>0.0</td>\n      <td>0.000000</td>\n      <td>0.00000</td>\n      <td>0.000000</td>\n      <td>0.000000</td>\n      <td>8</td>\n    </tr>\n  </tbody>\n</table>\n<p>2361 rows × 91 columns</p>\n</div>"
     },
     "metadata": {},
     "execution_count": 34
    }
   ],
   "source": [
    "data_stem2"
   ]
  },
  {
   "cell_type": "code",
   "execution_count": 37,
   "metadata": {},
   "outputs": [],
   "source": [
    "def text_train(df):\n",
    " return train_test_split(df.iloc[:, :-2], df.target2,test_size = 0.20, random_state = 12)"
   ]
  },
  {
   "cell_type": "code",
   "execution_count": 38,
   "metadata": {},
   "outputs": [],
   "source": [
    "docs_train_s, docs_test_s, y_train_s, y_test_s = text_train(data_stem2)"
   ]
  },
  {
   "cell_type": "code",
   "execution_count": 39,
   "metadata": {},
   "outputs": [
    {
     "output_type": "execute_result",
     "data": {
      "text/plain": [
       "MultinomialNB()"
      ]
     },
     "metadata": {},
     "execution_count": 39
    }
   ],
   "source": [
    "clf = MultinomialNB()\n",
    "clf.fit(docs_train_s, y_train_s)"
   ]
  },
  {
   "cell_type": "code",
   "execution_count": 40,
   "metadata": {},
   "outputs": [],
   "source": [
    " y_pred_s = clf.predict(docs_test_s)"
   ]
  },
  {
   "cell_type": "code",
   "execution_count": 41,
   "metadata": {},
   "outputs": [
    {
     "output_type": "execute_result",
     "data": {
      "text/plain": [
       "0.868114406779661"
      ]
     },
     "metadata": {},
     "execution_count": 41
    }
   ],
   "source": [
    "clf.score(docs_train_s, y_train_s)\n"
   ]
  },
  {
   "cell_type": "code",
   "execution_count": 42,
   "metadata": {},
   "outputs": [
    {
     "output_type": "execute_result",
     "data": {
      "text/plain": [
       "0.8372093023255814"
      ]
     },
     "metadata": {},
     "execution_count": 42
    }
   ],
   "source": [
    "accuracy_score(y_pred_s, y_test_s)\n"
   ]
  },
  {
   "cell_type": "code",
   "execution_count": 44,
   "metadata": {},
   "outputs": [
    {
     "output_type": "stream",
     "name": "stdout",
     "text": [
      "              precision    recall  f1-score   support\n\n           8       0.87      0.82      0.84       143\n          10       0.87      0.92      0.90       112\n          15       0.87      0.79      0.83       116\n          17       0.73      0.82      0.77       102\n\n    accuracy                           0.84       473\n   macro avg       0.84      0.84      0.84       473\nweighted avg       0.84      0.84      0.84       473\n\n"
     ]
    }
   ],
   "source": [
    "print(classification_report(y_pred_s, y_test_s))"
   ]
  },
  {
   "cell_type": "code",
   "execution_count": 45,
   "metadata": {},
   "outputs": [
    {
     "output_type": "execute_result",
     "data": {
      "text/plain": [
       "RandomForestClassifier(random_state=42)"
      ]
     },
     "metadata": {},
     "execution_count": 45
    }
   ],
   "source": [
    "clf2 = RandomForestClassifier(random_state = 42)\n",
    "clf2.fit(docs_train_s, y_train_s)\n"
   ]
  },
  {
   "cell_type": "code",
   "execution_count": 46,
   "metadata": {},
   "outputs": [
    {
     "output_type": "execute_result",
     "data": {
      "text/plain": [
       "0.9936440677966102"
      ]
     },
     "metadata": {},
     "execution_count": 46
    }
   ],
   "source": [
    "clf2.score(docs_train_s, y_train_s)"
   ]
  },
  {
   "cell_type": "code",
   "execution_count": 58,
   "metadata": {},
   "outputs": [],
   "source": [
    "y_pred_s2 = clf2.predict(docs_test_s)"
   ]
  },
  {
   "cell_type": "code",
   "execution_count": 49,
   "metadata": {},
   "outputs": [
    {
     "output_type": "execute_result",
     "data": {
      "text/plain": [
       "0.86892177589852"
      ]
     },
     "metadata": {},
     "execution_count": 49
    }
   ],
   "source": [
    "accuracy_score(y_pred_s2, y_test_s)"
   ]
  },
  {
   "cell_type": "code",
   "execution_count": 51,
   "metadata": {},
   "outputs": [
    {
     "output_type": "stream",
     "name": "stdout",
     "text": [
      "              precision    recall  f1-score   support\n\n           8       0.89      0.88      0.88       135\n          10       0.91      0.86      0.88       124\n          15       0.84      0.86      0.85       103\n          17       0.83      0.86      0.85       111\n\n    accuracy                           0.87       473\n   macro avg       0.87      0.87      0.87       473\nweighted avg       0.87      0.87      0.87       473\n\n"
     ]
    }
   ],
   "source": [
    "print(classification_report(y_pred_s2, y_test_s))"
   ]
  },
  {
   "cell_type": "code",
   "execution_count": 52,
   "metadata": {},
   "outputs": [
    {
     "output_type": "execute_result",
     "data": {
      "text/plain": [
       "GridSearchCV(cv=10, estimator=RandomForestClassifier(random_state=42),\n",
       "             param_grid={'min_samples_leaf': [5, 10], 'n_estimators': [3, 5]})"
      ]
     },
     "metadata": {},
     "execution_count": 52
    }
   ],
   "source": [
    "param_grid = {'min_samples_leaf': [5,10], 'n_estimators': [3,5]}\n",
    "rf = RandomForestClassifier(random_state = 42)\n",
    "grid_search = GridSearchCV(estimator = rf, param_grid = param_grid, cv = 10)\n",
    "grid_search.fit(docs_train_s, y_train_s)"
   ]
  },
  {
   "cell_type": "code",
   "execution_count": 53,
   "metadata": {},
   "outputs": [
    {
     "output_type": "execute_result",
     "data": {
      "text/plain": [
       "{'min_samples_leaf': 5, 'n_estimators': 5}"
      ]
     },
     "metadata": {},
     "execution_count": 53
    }
   ],
   "source": [
    "grid_search.best_params_"
   ]
  },
  {
   "cell_type": "code",
   "execution_count": 62,
   "metadata": {},
   "outputs": [],
   "source": [
    "clf3 = grid_search.best_estimator_"
   ]
  },
  {
   "cell_type": "code",
   "execution_count": 63,
   "metadata": {},
   "outputs": [],
   "source": [
    "y_pred_s3 = clf3.predict(docs_test_s)"
   ]
  },
  {
   "cell_type": "code",
   "execution_count": 64,
   "metadata": {},
   "outputs": [
    {
     "output_type": "execute_result",
     "data": {
      "text/plain": [
       "0.8245243128964059"
      ]
     },
     "metadata": {},
     "execution_count": 64
    }
   ],
   "source": [
    "accuracy_score(y_pred_s3, y_test_s)"
   ]
  }
 ]
}