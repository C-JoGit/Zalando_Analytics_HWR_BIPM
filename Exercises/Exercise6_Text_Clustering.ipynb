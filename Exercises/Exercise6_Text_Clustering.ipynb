{
 "metadata": {
  "language_info": {
   "codemirror_mode": {
    "name": "ipython",
    "version": 3
   },
   "file_extension": ".py",
   "mimetype": "text/x-python",
   "name": "python",
   "nbconvert_exporter": "python",
   "pygments_lexer": "ipython3",
   "version": "3.7.10"
  },
  "orig_nbformat": 2,
  "kernelspec": {
   "name": "python3710jvsc74a57bd022a63b945ad88ad6aa60a7f3f570c70abf6faa8a03284077614716ef20649993",
   "display_name": "Python 3.7.10 64-bit ('uni': conda)"
  },
  "metadata": {
   "interpreter": {
    "hash": "b680f19dc88a0e7d20231683ee8f83efcc33b9a1faee7aaf2b39dca108c216ef"
   }
  }
 },
 "nbformat": 4,
 "nbformat_minor": 2,
 "cells": [
  {
   "cell_type": "code",
   "execution_count": 3,
   "metadata": {},
   "outputs": [],
   "source": [
    "import pandas as pd \n",
    "import seaborn as sns \n",
    "from sklearn.feature_extraction.text import TfidfVectorizer\n",
    "from sklearn.cluster import KMeans\n",
    "from sklearn.metrics import classification_report\n",
    "import matplotlib.pyplot as plt \n",
    "from gensim import corpora, models\n",
    "from pyLDAvis.gensim_models import prepare\n",
    "import pickle\n",
    "import pyLDAvis"
   ]
  },
  {
   "source": [
    "# part A"
   ],
   "cell_type": "markdown",
   "metadata": {}
  },
  {
   "cell_type": "code",
   "execution_count": 5,
   "metadata": {},
   "outputs": [
    {
     "output_type": "stream",
     "name": "stderr",
     "text": [
      "C:\\Anaconda\\envs\\uni\\lib\\site-packages\\ipykernel\\ipkernel.py:287: DeprecationWarning: `should_run_async` will not call `transform_cell` automatically in the future. Please pass the result to `transformed_cell` argument and any exception that happen during thetransform in `preprocessing_exc_tuple` in IPython 7.17 and above.\n  and should_run_async(code)\n"
     ]
    }
   ],
   "source": [
    "data = pd.read_json('https://raw.githubusercontent.com/selva86/datasets/master/newsgroups.json')"
   ]
  },
  {
   "cell_type": "code",
   "execution_count": 6,
   "metadata": {},
   "outputs": [
    {
     "output_type": "stream",
     "name": "stderr",
     "text": [
      "C:\\Anaconda\\envs\\uni\\lib\\site-packages\\ipykernel\\ipkernel.py:287: DeprecationWarning: `should_run_async` will not call `transform_cell` automatically in the future. Please pass the result to `transformed_cell` argument and any exception that happen during thetransform in `preprocessing_exc_tuple` in IPython 7.17 and above.\n  and should_run_async(code)\n"
     ]
    }
   ],
   "source": [
    "data_stem = pickle.load(open('stemmed.pkl', \"rb\"))"
   ]
  },
  {
   "cell_type": "code",
   "execution_count": 21,
   "metadata": {},
   "outputs": [
    {
     "output_type": "stream",
     "name": "stderr",
     "text": [
      "C:\\Anaconda\\envs\\uni\\lib\\site-packages\\ipykernel\\ipkernel.py:287: DeprecationWarning: `should_run_async` will not call `transform_cell` automatically in the future. Please pass the result to `transformed_cell` argument and any exception that happen during thetransform in `preprocessing_exc_tuple` in IPython 7.17 and above.\n  and should_run_async(code)\n"
     ]
    },
    {
     "output_type": "execute_result",
     "data": {
      "text/plain": [
       "                                                 content  target  \\\n",
       "0      From: lerxst@wam.umd.edu (where's my thing)\\nS...       7   \n",
       "1      From: guykuo@carson.u.washington.edu (Guy Kuo)...       4   \n",
       "2      From: twillis@ec.ecn.purdue.edu (Thomas E Will...       4   \n",
       "3      From: jgreen@amber (Joe Green)\\nSubject: Re: W...       1   \n",
       "4      From: jcm@head-cfa.harvard.edu (Jonathan McDow...      14   \n",
       "...                                                  ...     ...   \n",
       "11309  From: jim.zisfein@factory.com (Jim Zisfein) \\n...      13   \n",
       "11310  From: ebodin@pearl.tufts.edu\\nSubject: Screen ...       4   \n",
       "11311  From: westes@netcom.com (Will Estes)\\nSubject:...       3   \n",
       "11312  From: steve@hcrlgw (Steven Collins)\\nSubject: ...       1   \n",
       "11313  From: gunning@cco.caltech.edu (Kevin J. Gunnin...       8   \n",
       "\n",
       "                   target_names  \\\n",
       "0                     rec.autos   \n",
       "1         comp.sys.mac.hardware   \n",
       "2         comp.sys.mac.hardware   \n",
       "3                 comp.graphics   \n",
       "4                     sci.space   \n",
       "...                         ...   \n",
       "11309                   sci.med   \n",
       "11310     comp.sys.mac.hardware   \n",
       "11311  comp.sys.ibm.pc.hardware   \n",
       "11312             comp.graphics   \n",
       "11313           rec.motorcycles   \n",
       "\n",
       "                                            preprocessed  \n",
       "0      car wonder enlighten car saw dai door sport ca...  \n",
       "1      clock poll final final clock report acceler cl...  \n",
       "2      question folk mac plu final gave ghost weekend...  \n",
       "3      weitek robert kyanko rob rjck uucp wrote abrax...  \n",
       "4      shuttl launch question articl cowcb world std ...  \n",
       "...                                                  ...  \n",
       "11309  migrain scan nyeda cnsvax uwec edu david nye n...  \n",
       "11310  screen death mac plu old mac mac plu problem s...  \n",
       "11311  mount cpu cooler vertic case instal cpu clone ...  \n",
       "11312  sphere point articl qkgbuinnsn shellei washing...  \n",
       "11313  stolen cbrrr stolen pasadena blue white honda ...  \n",
       "\n",
       "[11314 rows x 4 columns]"
      ],
      "text/html": "<div>\n<style scoped>\n    .dataframe tbody tr th:only-of-type {\n        vertical-align: middle;\n    }\n\n    .dataframe tbody tr th {\n        vertical-align: top;\n    }\n\n    .dataframe thead th {\n        text-align: right;\n    }\n</style>\n<table border=\"1\" class=\"dataframe\">\n  <thead>\n    <tr style=\"text-align: right;\">\n      <th></th>\n      <th>content</th>\n      <th>target</th>\n      <th>target_names</th>\n      <th>preprocessed</th>\n    </tr>\n  </thead>\n  <tbody>\n    <tr>\n      <th>0</th>\n      <td>From: lerxst@wam.umd.edu (where's my thing)\\nS...</td>\n      <td>7</td>\n      <td>rec.autos</td>\n      <td>car wonder enlighten car saw dai door sport ca...</td>\n    </tr>\n    <tr>\n      <th>1</th>\n      <td>From: guykuo@carson.u.washington.edu (Guy Kuo)...</td>\n      <td>4</td>\n      <td>comp.sys.mac.hardware</td>\n      <td>clock poll final final clock report acceler cl...</td>\n    </tr>\n    <tr>\n      <th>2</th>\n      <td>From: twillis@ec.ecn.purdue.edu (Thomas E Will...</td>\n      <td>4</td>\n      <td>comp.sys.mac.hardware</td>\n      <td>question folk mac plu final gave ghost weekend...</td>\n    </tr>\n    <tr>\n      <th>3</th>\n      <td>From: jgreen@amber (Joe Green)\\nSubject: Re: W...</td>\n      <td>1</td>\n      <td>comp.graphics</td>\n      <td>weitek robert kyanko rob rjck uucp wrote abrax...</td>\n    </tr>\n    <tr>\n      <th>4</th>\n      <td>From: jcm@head-cfa.harvard.edu (Jonathan McDow...</td>\n      <td>14</td>\n      <td>sci.space</td>\n      <td>shuttl launch question articl cowcb world std ...</td>\n    </tr>\n    <tr>\n      <th>...</th>\n      <td>...</td>\n      <td>...</td>\n      <td>...</td>\n      <td>...</td>\n    </tr>\n    <tr>\n      <th>11309</th>\n      <td>From: jim.zisfein@factory.com (Jim Zisfein) \\n...</td>\n      <td>13</td>\n      <td>sci.med</td>\n      <td>migrain scan nyeda cnsvax uwec edu david nye n...</td>\n    </tr>\n    <tr>\n      <th>11310</th>\n      <td>From: ebodin@pearl.tufts.edu\\nSubject: Screen ...</td>\n      <td>4</td>\n      <td>comp.sys.mac.hardware</td>\n      <td>screen death mac plu old mac mac plu problem s...</td>\n    </tr>\n    <tr>\n      <th>11311</th>\n      <td>From: westes@netcom.com (Will Estes)\\nSubject:...</td>\n      <td>3</td>\n      <td>comp.sys.ibm.pc.hardware</td>\n      <td>mount cpu cooler vertic case instal cpu clone ...</td>\n    </tr>\n    <tr>\n      <th>11312</th>\n      <td>From: steve@hcrlgw (Steven Collins)\\nSubject: ...</td>\n      <td>1</td>\n      <td>comp.graphics</td>\n      <td>sphere point articl qkgbuinnsn shellei washing...</td>\n    </tr>\n    <tr>\n      <th>11313</th>\n      <td>From: gunning@cco.caltech.edu (Kevin J. Gunnin...</td>\n      <td>8</td>\n      <td>rec.motorcycles</td>\n      <td>stolen cbrrr stolen pasadena blue white honda ...</td>\n    </tr>\n  </tbody>\n</table>\n<p>11314 rows × 4 columns</p>\n</div>"
     },
     "metadata": {},
     "execution_count": 21
    }
   ],
   "source": [
    "data['preprocessed'] = data_stem\n",
    "data"
   ]
  },
  {
   "source": [
    ". Load the Newsgroup data from\n",
    "https://raw.githubusercontent.com/selva86/datasets/master/newsgroups.json. Add a\n",
    "column ‘preprocessed’ to it consisting of the stemmed data from Exercise 2. Sort the\n",
    "data frame to contain only the following topics: 'soc.religion.christian',\n",
    "'rec.sport.hockey', 'talk.politics.mideast', 'rec.motorcycles'. Apply sklearn’s tf-idf\n",
    "transformer to the whole dataset with max_df=0.7, min_df=0.1. Store the frequency\n",
    "matrix in data_tfidf. Store the feature names in a words list"
   ],
   "cell_type": "markdown",
   "metadata": {}
  },
  {
   "cell_type": "code",
   "execution_count": 20,
   "metadata": {},
   "outputs": [
    {
     "output_type": "stream",
     "name": "stderr",
     "text": [
      "C:\\Anaconda\\envs\\uni\\lib\\site-packages\\ipykernel\\ipkernel.py:287: DeprecationWarning: `should_run_async` will not call `transform_cell` automatically in the future. Please pass the result to `transformed_cell` argument and any exception that happen during thetransform in `preprocessing_exc_tuple` in IPython 7.17 and above.\n  and should_run_async(code)\n"
     ]
    },
    {
     "output_type": "execute_result",
     "data": {
      "text/plain": [
       "rec.sport.hockey          600\n",
       "soc.religion.christian    599\n",
       "rec.motorcycles           598\n",
       "talk.politics.mideast     564\n",
       "Name: target_names, dtype: int64"
      ]
     },
     "metadata": {},
     "execution_count": 20
    }
   ],
   "source": [
    "topics = ['soc.religion.christian','rec.sport.hockey', 'talk.politics.mideast', 'rec.motorcycles']\n",
    "data_filtered = data[data.target_names.isin(topics)]\n",
    "data_filtered.target_names.value_counts()"
   ]
  },
  {
   "cell_type": "code",
   "execution_count": 28,
   "metadata": {},
   "outputs": [
    {
     "output_type": "stream",
     "name": "stderr",
     "text": [
      "C:\\Anaconda\\envs\\uni\\lib\\site-packages\\ipykernel\\ipkernel.py:287: DeprecationWarning: `should_run_async` will not call `transform_cell` automatically in the future. Please pass the result to `transformed_cell` argument and any exception that happen during thetransform in `preprocessing_exc_tuple` in IPython 7.17 and above.\n  and should_run_async(code)\n"
     ]
    },
    {
     "output_type": "execute_result",
     "data": {
      "text/plain": [
       "(2361, 4)"
      ]
     },
     "metadata": {},
     "execution_count": 28
    }
   ],
   "source": [
    "data_filtered.shape"
   ]
  },
  {
   "cell_type": "code",
   "execution_count": 27,
   "metadata": {},
   "outputs": [
    {
     "output_type": "stream",
     "name": "stderr",
     "text": [
      "C:\\Anaconda\\envs\\uni\\lib\\site-packages\\ipykernel\\ipkernel.py:287: DeprecationWarning: `should_run_async` will not call `transform_cell` automatically in the future. Please pass the result to `transformed_cell` argument and any exception that happen during thetransform in `preprocessing_exc_tuple` in IPython 7.17 and above.\n  and should_run_async(code)\n"
     ]
    },
    {
     "output_type": "execute_result",
     "data": {
      "text/plain": [
       "(2361, 90)"
      ]
     },
     "metadata": {},
     "execution_count": 27
    }
   ],
   "source": [
    "vectorizer = TfidfVectorizer(max_df=0.7, min_df=0.1, smooth_idf=False) # TF_IDF2\n",
    "data_tfidf = vectorizer.fit_transform(data_filtered.preprocessed)\n",
    "data_tfidf.toarray().shape"
   ]
  },
  {
   "cell_type": "code",
   "execution_count": 29,
   "metadata": {},
   "outputs": [
    {
     "output_type": "stream",
     "name": "stdout",
     "text": [
      "['apr', 'articl', 'ask', 'awai', 'believ', 'best', 'better', 'bike', 'call', 'case', 'christian', 'claim', 'com', 'come', 'cours', 'dai', 'differ', 'dod', 'edu', 'end', 'exist', 'fact', 'far', 'follow', 'game', 'gener', 'get', 'go', 'god', 'good', 'got', 'great', 'happen', 'help', 'hockei', 'israel', 'kill', 'know', 'let', 'life', 'like', 'littl', 'live', 'long', 'look', 'lot', 'make', 'mean', 'need', 'new', 'opinion', 'peopl', 'person', 'place', 'plai', 'point', 'possibl', 'post', 'probabl', 'problem', 'question', 'read', 'reason', 'right', 'rutger', 'sai', 'said', 'start', 'state', 'sure', 'talk', 'team', 'tell', 'thank', 'thing', 'think', 'thought', 'time', 'todai', 'true', 'try', 'univers', 'us', 'wai', 'want', 'word', 'work', 'world', 'write', 'year']\n",
      "90\n",
      "C:\\Anaconda\\envs\\uni\\lib\\site-packages\\ipykernel\\ipkernel.py:287: DeprecationWarning: `should_run_async` will not call `transform_cell` automatically in the future. Please pass the result to `transformed_cell` argument and any exception that happen during thetransform in `preprocessing_exc_tuple` in IPython 7.17 and above.\n",
      "  and should_run_async(code)\n"
     ]
    }
   ],
   "source": [
    "words = vectorizer.get_feature_names()\n",
    "print(words)\n",
    "print(len(words))"
   ]
  },
  {
   "cell_type": "code",
   "execution_count": null,
   "metadata": {},
   "outputs": [],
   "source": [
    "df_words\n",
    "for i, word in enumerate(words):\n"
   ]
  },
  {
   "source": [
    "# part B"
   ],
   "cell_type": "markdown",
   "metadata": {}
  },
  {
   "cell_type": "code",
   "execution_count": 31,
   "metadata": {},
   "outputs": [
    {
     "output_type": "stream",
     "name": "stderr",
     "text": [
      "C:\\Anaconda\\envs\\uni\\lib\\site-packages\\ipykernel\\ipkernel.py:287: DeprecationWarning: `should_run_async` will not call `transform_cell` automatically in the future. Please pass the result to `transformed_cell` argument and any exception that happen during thetransform in `preprocessing_exc_tuple` in IPython 7.17 and above.\n  and should_run_async(code)\n"
     ]
    },
    {
     "output_type": "execute_result",
     "data": {
      "text/plain": [
       "KMeans(max_iter=1000, n_clusters=4)"
      ]
     },
     "metadata": {},
     "execution_count": 31
    }
   ],
   "source": [
    "kmeans = KMeans(n_clusters = 4, max_iter=1000)\n",
    "kmeans.fit(data_tfidf)\n"
   ]
  },
  {
   "cell_type": "code",
   "execution_count": 39,
   "metadata": {},
   "outputs": [
    {
     "output_type": "stream",
     "name": "stderr",
     "text": [
      "C:\\Anaconda\\envs\\uni\\lib\\site-packages\\ipykernel\\ipkernel.py:287: DeprecationWarning: `should_run_async` will not call `transform_cell` automatically in the future. Please pass the result to `transformed_cell` argument and any exception that happen during thetransform in `preprocessing_exc_tuple` in IPython 7.17 and above.\n  and should_run_async(code)\n"
     ]
    },
    {
     "output_type": "execute_result",
     "data": {
      "text/plain": [
       "array([[64, 35,  7, 17, 28, 39, 20, 10, 25, 36, 11, 78,  2, 42,  9, 21,\n",
       "        33, 82, 85, 53, 61, 70, 86, 65, 52, 79, 56, 60, 43, 72, 14,  8,\n",
       "         4, 68, 62, 16, 50, 22, 80, 59, 81, 46, 32, 74,  3, 15, 23, 47,\n",
       "        73, 84, 45, 48, 76, 57, 51, 19, 41, 58, 87, 66, 63, 67, 83, 30,\n",
       "        13, 69, 27, 26, 12, 37, 38,  6, 31, 44,  0,  5, 55,  1, 40, 29,\n",
       "        77, 75, 49, 88, 89, 18, 34, 54, 71, 24],\n",
       "       [ 7, 34, 24, 28, 71, 54,  5, 10, 58, 85, 39, 22, 45, 64, 56, 17,\n",
       "        31,  6, 30, 23, 16, 62,  3, 41, 82, 76, 43, 46, 79, 25, 19,  4,\n",
       "        26, 72,  9, 69, 53, 14, 67,  2, 11, 47, 59, 70, 20, 74, 55, 27,\n",
       "        80, 32, 52, 29,  8, 73, 33, 48, 12, 21, 42, 44, 65, 13, 81, 78,\n",
       "        50, 86, 61, 15, 87, 60, 38, 66, 84, 83, 75, 36, 89, 57, 68,  0,\n",
       "        40, 63, 77, 37, 49,  1, 51, 88, 35, 18],\n",
       "       [34, 71, 17, 24,  7, 35, 54, 26,  6,  3,  5, 36, 30, 67, 41, 78,\n",
       "        58,  9, 32, 43, 68, 31, 76, 38, 27, 25, 69, 44, 73, 46, 33, 14,\n",
       "        19, 22,  8, 89, 45, 53, 72, 56, 50, 80, 66, 12, 57, 49, 63, 81,\n",
       "        87, 48, 59, 70, 82, 15,  0,  2, 16, 21, 84, 23, 55, 29,  1, 61,\n",
       "        86, 52, 11, 65, 83, 77, 62, 42, 79, 74, 88, 20, 39, 13, 40, 85,\n",
       "        47, 64, 60, 37, 75, 18, 51,  4, 10, 28],\n",
       "       [10, 34, 24, 71, 20, 64, 11, 35, 28,  4,  8, 54, 78, 21, 36, 70,\n",
       "        79, 53, 39, 85, 23, 32, 61, 56, 38, 81, 52, 72,  2,  5, 55, 14,\n",
       "        25, 13,  3, 62, 51, 16,  6, 76, 22, 87, 66, 58, 65,  9, 69, 68,\n",
       "        15, 33, 31, 67, 50, 45, 59, 89, 43, 46, 19, 26, 80, 47, 42, 41,\n",
       "        73, 57, 83, 60, 82, 63, 84, 27, 48, 86, 75, 30, 77, 74, 37, 44,\n",
       "        49, 29,  0, 40, 18, 88,  1, 17,  7, 12]], dtype=int64)"
      ]
     },
     "metadata": {},
     "execution_count": 39
    }
   ],
   "source": [
    "kmeans.cluster_centers_.argsort()"
   ]
  },
  {
   "source": [
    "Coordinates of cluster centers. If the algorithm stops before fully converging (see tol and max_iter), these will not be consistent with labels_."
   ],
   "cell_type": "markdown",
   "metadata": {}
  },
  {
   "cell_type": "code",
   "execution_count": 33,
   "metadata": {},
   "outputs": [
    {
     "output_type": "stream",
     "name": "stderr",
     "text": [
      "C:\\Anaconda\\envs\\uni\\lib\\site-packages\\ipykernel\\ipkernel.py:287: DeprecationWarning: `should_run_async` will not call `transform_cell` automatically in the future. Please pass the result to `transformed_cell` argument and any exception that happen during thetransform in `preprocessing_exc_tuple` in IPython 7.17 and above.\n  and should_run_async(code)\n"
     ]
    },
    {
     "output_type": "execute_result",
     "data": {
      "text/plain": [
       "array([[24, 71, 54, 34, 18, 89, 88, 49, 75, 77],\n",
       "       [18, 35, 88, 51,  1, 49, 37, 77, 63, 40],\n",
       "       [28, 10,  4, 51, 18, 75, 37, 60, 64, 47],\n",
       "       [12,  7, 17,  1, 88, 18, 40,  0, 29, 49]], dtype=int64)"
      ]
     },
     "metadata": {},
     "execution_count": 33
    }
   ],
   "source": [
    "common_words = kmeans.cluster_centers_.argsort()[:,-1:-11:-1]\n",
    "common_words"
   ]
  },
  {
   "cell_type": "code",
   "execution_count": 40,
   "metadata": {},
   "outputs": [
    {
     "output_type": "stream",
     "name": "stdout",
     "text": [
      "0 : game, team, plai, hockei, edu, year, write, new, think, time\n",
      "1 : edu, israel, write, peopl, articl, new, know, time, right, like\n",
      "2 : god, christian, believ, peopl, edu, think, know, question, rutger, mean\n",
      "3 : com, bike, dod, articl, write, edu, like, apr, good, new\n",
      "C:\\Anaconda\\envs\\uni\\lib\\site-packages\\ipykernel\\ipkernel.py:287: DeprecationWarning: `should_run_async` will not call `transform_cell` automatically in the future. Please pass the result to `transformed_cell` argument and any exception that happen during thetransform in `preprocessing_exc_tuple` in IPython 7.17 and above.\n",
      "  and should_run_async(code)\n"
     ]
    }
   ],
   "source": [
    "for num, centroid in enumerate(common_words):\n",
    " print(str(num) + ' : ' + ', '.join(words[word] for word in centroid))"
   ]
  },
  {
   "cell_type": "code",
   "execution_count": 42,
   "metadata": {},
   "outputs": [
    {
     "output_type": "stream",
     "name": "stderr",
     "text": [
      "C:\\Anaconda\\envs\\uni\\lib\\site-packages\\ipykernel\\ipkernel.py:287: DeprecationWarning: `should_run_async` will not call `transform_cell` automatically in the future. Please pass the result to `transformed_cell` argument and any exception that happen during thetransform in `preprocessing_exc_tuple` in IPython 7.17 and above.\n  and should_run_async(code)\n"
     ]
    },
    {
     "output_type": "execute_result",
     "data": {
      "text/plain": [
       "(2361,)"
      ]
     },
     "metadata": {},
     "execution_count": 42
    }
   ],
   "source": [
    "kmeans.labels_.shape"
   ]
  },
  {
   "cell_type": "code",
   "execution_count": 51,
   "metadata": {},
   "outputs": [
    {
     "output_type": "stream",
     "name": "stderr",
     "text": [
      "C:\\Anaconda\\envs\\uni\\lib\\site-packages\\ipykernel\\ipkernel.py:287: DeprecationWarning: `should_run_async` will not call `transform_cell` automatically in the future. Please pass the result to `transformed_cell` argument and any exception that happen during thetransform in `preprocessing_exc_tuple` in IPython 7.17 and above.\n  and should_run_async(code)\nC:\\Anaconda\\envs\\uni\\lib\\site-packages\\ipykernel_launcher.py:1: SettingWithCopyWarning: \nA value is trying to be set on a copy of a slice from a DataFrame.\nTry using .loc[row_indexer,col_indexer] = value instead\n\nSee the caveats in the documentation: https://pandas.pydata.org/pandas-docs/stable/user_guide/indexing.html#returning-a-view-versus-a-copy\n  \"\"\"Entry point for launching an IPython kernel.\n"
     ]
    },
    {
     "output_type": "execute_result",
     "data": {
      "text/plain": [
       "                                               content  target  \\\n",
       "21   From: leunggm@odin.control.utoronto.ca (Gary L...      10   \n",
       "57   From: d_jaracz@oz.plymouth.edu (David R. Jarac...      10   \n",
       "172  From: kozloce@wkuvx1.bitnet\\nSubject: Re: Good...      10   \n",
       "174  Subject: Re: NHLPA poll (partial stats/results...      10   \n",
       "208  From: seth@cbnewsh.cb.att.com (peter.r.clark.....      10   \n",
       "\n",
       "         target_names                                       preprocessed  \\\n",
       "21   rec.sport.hockey  nhl team captain articl apr samba oit unc edu ...   \n",
       "57   rec.sport.hockey  octopu detroit articl dlmqc cunyvm bitnet haro...   \n",
       "172  rec.sport.hockey  good hockei bad hockei articl rsjbww cellar or...   \n",
       "174  rec.sport.hockey  nhlpa poll partial stat result articl ofnmao i...   \n",
       "208  rec.sport.hockey  flyer year biggest worst opinion nhl award art...   \n",
       "\n",
       "     label  \n",
       "21       0  \n",
       "57       0  \n",
       "172      0  \n",
       "174      0  \n",
       "208      0  "
      ],
      "text/html": "<div>\n<style scoped>\n    .dataframe tbody tr th:only-of-type {\n        vertical-align: middle;\n    }\n\n    .dataframe tbody tr th {\n        vertical-align: top;\n    }\n\n    .dataframe thead th {\n        text-align: right;\n    }\n</style>\n<table border=\"1\" class=\"dataframe\">\n  <thead>\n    <tr style=\"text-align: right;\">\n      <th></th>\n      <th>content</th>\n      <th>target</th>\n      <th>target_names</th>\n      <th>preprocessed</th>\n      <th>label</th>\n    </tr>\n  </thead>\n  <tbody>\n    <tr>\n      <th>21</th>\n      <td>From: leunggm@odin.control.utoronto.ca (Gary L...</td>\n      <td>10</td>\n      <td>rec.sport.hockey</td>\n      <td>nhl team captain articl apr samba oit unc edu ...</td>\n      <td>0</td>\n    </tr>\n    <tr>\n      <th>57</th>\n      <td>From: d_jaracz@oz.plymouth.edu (David R. Jarac...</td>\n      <td>10</td>\n      <td>rec.sport.hockey</td>\n      <td>octopu detroit articl dlmqc cunyvm bitnet haro...</td>\n      <td>0</td>\n    </tr>\n    <tr>\n      <th>172</th>\n      <td>From: kozloce@wkuvx1.bitnet\\nSubject: Re: Good...</td>\n      <td>10</td>\n      <td>rec.sport.hockey</td>\n      <td>good hockei bad hockei articl rsjbww cellar or...</td>\n      <td>0</td>\n    </tr>\n    <tr>\n      <th>174</th>\n      <td>Subject: Re: NHLPA poll (partial stats/results...</td>\n      <td>10</td>\n      <td>rec.sport.hockey</td>\n      <td>nhlpa poll partial stat result articl ofnmao i...</td>\n      <td>0</td>\n    </tr>\n    <tr>\n      <th>208</th>\n      <td>From: seth@cbnewsh.cb.att.com (peter.r.clark.....</td>\n      <td>10</td>\n      <td>rec.sport.hockey</td>\n      <td>flyer year biggest worst opinion nhl award art...</td>\n      <td>0</td>\n    </tr>\n  </tbody>\n</table>\n</div>"
     },
     "metadata": {},
     "execution_count": 51
    }
   ],
   "source": [
    "data_filtered['label'] = kmeans.labels_\n",
    "data_filtered[data_filtered['label'] == 0].head()"
   ]
  },
  {
   "cell_type": "code",
   "execution_count": 74,
   "metadata": {},
   "outputs": [
    {
     "output_type": "stream",
     "name": "stderr",
     "text": [
      "C:\\Anaconda\\envs\\uni\\lib\\site-packages\\ipykernel\\ipkernel.py:287: DeprecationWarning: `should_run_async` will not call `transform_cell` automatically in the future. Please pass the result to `transformed_cell` argument and any exception that happen during thetransform in `preprocessing_exc_tuple` in IPython 7.17 and above.\n  and should_run_async(code)\n"
     ]
    },
    {
     "output_type": "execute_result",
     "data": {
      "text/plain": [
       "                                               content  target  \\\n",
       "28   From: jonh@david.wheaton.edu (Jonathan Hayward...      15   \n",
       "51   From: dlecoint@garnet.acns.fsu.edu (Darius_Lec...      15   \n",
       "94   From: speedy@engr.latech.edu (Speedy Mercer)\\n...       8   \n",
       "120  From: shd2001@andy.bgsu.edu (Sherlette Dixon)\\...      15   \n",
       "123  From: JEK@cu.nih.gov\\nSubject: John 3:16 parap...      15   \n",
       "\n",
       "               target_names  \\\n",
       "28   soc.religion.christian   \n",
       "51   soc.religion.christian   \n",
       "94          rec.motorcycles   \n",
       "120  soc.religion.christian   \n",
       "123  soc.religion.christian   \n",
       "\n",
       "                                          preprocessed  label  pred  \n",
       "28   pantheism environment articl apr atho rutger e...      2     0  \n",
       "51   sabbath admiss follow thread talk religion soc...      2     0  \n",
       "94   motorcycl detail tip articl apr hemlock crai c...      2     0  \n",
       "120  christian atheism updat like thank sent opinio...      2     0  \n",
       "123  john paraphras end recent mon apr post alastai...      2     0  "
      ],
      "text/html": "<div>\n<style scoped>\n    .dataframe tbody tr th:only-of-type {\n        vertical-align: middle;\n    }\n\n    .dataframe tbody tr th {\n        vertical-align: top;\n    }\n\n    .dataframe thead th {\n        text-align: right;\n    }\n</style>\n<table border=\"1\" class=\"dataframe\">\n  <thead>\n    <tr style=\"text-align: right;\">\n      <th></th>\n      <th>content</th>\n      <th>target</th>\n      <th>target_names</th>\n      <th>preprocessed</th>\n      <th>label</th>\n      <th>pred</th>\n    </tr>\n  </thead>\n  <tbody>\n    <tr>\n      <th>28</th>\n      <td>From: jonh@david.wheaton.edu (Jonathan Hayward...</td>\n      <td>15</td>\n      <td>soc.religion.christian</td>\n      <td>pantheism environment articl apr atho rutger e...</td>\n      <td>2</td>\n      <td>0</td>\n    </tr>\n    <tr>\n      <th>51</th>\n      <td>From: dlecoint@garnet.acns.fsu.edu (Darius_Lec...</td>\n      <td>15</td>\n      <td>soc.religion.christian</td>\n      <td>sabbath admiss follow thread talk religion soc...</td>\n      <td>2</td>\n      <td>0</td>\n    </tr>\n    <tr>\n      <th>94</th>\n      <td>From: speedy@engr.latech.edu (Speedy Mercer)\\n...</td>\n      <td>8</td>\n      <td>rec.motorcycles</td>\n      <td>motorcycl detail tip articl apr hemlock crai c...</td>\n      <td>2</td>\n      <td>0</td>\n    </tr>\n    <tr>\n      <th>120</th>\n      <td>From: shd2001@andy.bgsu.edu (Sherlette Dixon)\\...</td>\n      <td>15</td>\n      <td>soc.religion.christian</td>\n      <td>christian atheism updat like thank sent opinio...</td>\n      <td>2</td>\n      <td>0</td>\n    </tr>\n    <tr>\n      <th>123</th>\n      <td>From: JEK@cu.nih.gov\\nSubject: John 3:16 parap...</td>\n      <td>15</td>\n      <td>soc.religion.christian</td>\n      <td>john paraphras end recent mon apr post alastai...</td>\n      <td>2</td>\n      <td>0</td>\n    </tr>\n  </tbody>\n</table>\n</div>"
     },
     "metadata": {},
     "execution_count": 74
    }
   ],
   "source": [
    "data_filtered[data_filtered['label'] == 2].head()"
   ]
  },
  {
   "cell_type": "code",
   "execution_count": 49,
   "metadata": {},
   "outputs": [
    {
     "output_type": "stream",
     "name": "stderr",
     "text": [
      "C:\\Anaconda\\envs\\uni\\lib\\site-packages\\ipykernel\\ipkernel.py:287: DeprecationWarning: `should_run_async` will not call `transform_cell` automatically in the future. Please pass the result to `transformed_cell` argument and any exception that happen during thetransform in `preprocessing_exc_tuple` in IPython 7.17 and above.\n  and should_run_async(code)\n"
     ]
    },
    {
     "output_type": "display_data",
     "data": {
      "text/plain": "<Figure size 936x576 with 2 Axes>",
      "image/svg+xml": "<?xml version=\"1.0\" encoding=\"utf-8\" standalone=\"no\"?>\r\n<!DOCTYPE svg PUBLIC \"-//W3C//DTD SVG 1.1//EN\"\r\n  \"http://www.w3.org/Graphics/SVG/1.1/DTD/svg11.dtd\">\r\n<svg height=\"487.37875pt\" version=\"1.1\" viewBox=\"0 0 716.92025 487.37875\" width=\"716.92025pt\" xmlns=\"http://www.w3.org/2000/svg\" xmlns:xlink=\"http://www.w3.org/1999/xlink\">\r\n <metadata>\r\n  <rdf:RDF xmlns:cc=\"http://creativecommons.org/ns#\" xmlns:dc=\"http://purl.org/dc/elements/1.1/\" xmlns:rdf=\"http://www.w3.org/1999/02/22-rdf-syntax-ns#\">\r\n   <cc:Work>\r\n    <dc:type rdf:resource=\"http://purl.org/dc/dcmitype/StillImage\"/>\r\n    <dc:date>2021-05-26T18:02:15.203867</dc:date>\r\n    <dc:format>image/svg+xml</dc:format>\r\n    <dc:creator>\r\n     <cc:Agent>\r\n      <dc:title>Matplotlib v3.4.1, https://matplotlib.org/</dc:title>\r\n     </cc:Agent>\r\n    </dc:creator>\r\n   </cc:Work>\r\n  </rdf:RDF>\r\n </metadata>\r\n <defs>\r\n  <style type=\"text/css\">*{stroke-linecap:butt;stroke-linejoin:round;}</style>\r\n </defs>\r\n <g id=\"figure_1\">\r\n  <g id=\"patch_1\">\r\n   <path d=\"M 0 487.37875 \r\nL 716.92025 487.37875 \r\nL 716.92025 0 \r\nL 0 0 \r\nz\r\n\" style=\"fill:none;\"/>\r\n  </g>\r\n  <g id=\"axes_1\">\r\n   <g id=\"patch_2\">\r\n    <path d=\"M 45.29875 442.08 \r\nL 625.61875 442.08 \r\nL 625.61875 7.2 \r\nL 45.29875 7.2 \r\nz\r\n\" style=\"fill:#ffffff;\"/>\r\n   </g>\r\n   <g id=\"QuadMesh_1\">\r\n    <path clip-path=\"url(#pd4f243d231)\" d=\"M 45.29875 7.2 \r\nL 190.37875 7.2 \r\nL 190.37875 115.92 \r\nL 45.29875 115.92 \r\nL 45.29875 7.2 \r\n\" style=\"fill:#fff5f0;\"/>\r\n    <path clip-path=\"url(#pd4f243d231)\" d=\"M 190.37875 7.2 \r\nL 335.45875 7.2 \r\nL 335.45875 115.92 \r\nL 190.37875 115.92 \r\nL 190.37875 7.2 \r\n\" style=\"fill:#b01217;\"/>\r\n    <path clip-path=\"url(#pd4f243d231)\" d=\"M 335.45875 7.2 \r\nL 480.53875 7.2 \r\nL 480.53875 115.92 \r\nL 335.45875 115.92 \r\nL 335.45875 7.2 \r\n\" style=\"fill:none;\"/>\r\n    <path clip-path=\"url(#pd4f243d231)\" d=\"M 480.53875 7.2 \r\nL 625.61875 7.2 \r\nL 625.61875 115.92 \r\nL 480.53875 115.92 \r\nL 480.53875 7.2 \r\n\" style=\"fill:#fff5f0;\"/>\r\n    <path clip-path=\"url(#pd4f243d231)\" d=\"M 45.29875 115.92 \r\nL 190.37875 115.92 \r\nL 190.37875 224.64 \r\nL 45.29875 224.64 \r\nL 45.29875 115.92 \r\n\" style=\"fill:#fc997a;\"/>\r\n    <path clip-path=\"url(#pd4f243d231)\" d=\"M 190.37875 115.92 \r\nL 335.45875 115.92 \r\nL 335.45875 224.64 \r\nL 190.37875 224.64 \r\nL 190.37875 115.92 \r\n\" style=\"fill:#fcad90;\"/>\r\n    <path clip-path=\"url(#pd4f243d231)\" d=\"M 335.45875 115.92 \r\nL 480.53875 115.92 \r\nL 480.53875 224.64 \r\nL 335.45875 224.64 \r\nL 335.45875 115.92 \r\n\" style=\"fill:#fc8e6e;\"/>\r\n    <path clip-path=\"url(#pd4f243d231)\" d=\"M 480.53875 115.92 \r\nL 625.61875 115.92 \r\nL 625.61875 224.64 \r\nL 480.53875 224.64 \r\nL 480.53875 115.92 \r\n\" style=\"fill:#67000d;\"/>\r\n    <path clip-path=\"url(#pd4f243d231)\" d=\"M 45.29875 224.64 \r\nL 190.37875 224.64 \r\nL 190.37875 333.36 \r\nL 45.29875 333.36 \r\nL 45.29875 224.64 \r\n\" style=\"fill:#fff4ee;\"/>\r\n    <path clip-path=\"url(#pd4f243d231)\" d=\"M 190.37875 224.64 \r\nL 335.45875 224.64 \r\nL 335.45875 333.36 \r\nL 190.37875 333.36 \r\nL 190.37875 224.64 \r\n\" style=\"fill:none;\"/>\r\n    <path clip-path=\"url(#pd4f243d231)\" d=\"M 335.45875 224.64 \r\nL 480.53875 224.64 \r\nL 480.53875 333.36 \r\nL 335.45875 333.36 \r\nL 335.45875 224.64 \r\n\" style=\"fill:#c7171c;\"/>\r\n    <path clip-path=\"url(#pd4f243d231)\" d=\"M 480.53875 224.64 \r\nL 625.61875 224.64 \r\nL 625.61875 333.36 \r\nL 480.53875 333.36 \r\nL 480.53875 224.64 \r\n\" style=\"fill:#fff4ee;\"/>\r\n    <path clip-path=\"url(#pd4f243d231)\" d=\"M 45.29875 333.36 \r\nL 190.37875 333.36 \r\nL 190.37875 442.08 \r\nL 45.29875 442.08 \r\nL 45.29875 333.36 \r\n\" style=\"fill:#c1161b;\"/>\r\n    <path clip-path=\"url(#pd4f243d231)\" d=\"M 190.37875 333.36 \r\nL 335.45875 333.36 \r\nL 335.45875 442.08 \r\nL 190.37875 442.08 \r\nL 190.37875 333.36 \r\n\" style=\"fill:#fff0e9;\"/>\r\n    <path clip-path=\"url(#pd4f243d231)\" d=\"M 335.45875 333.36 \r\nL 480.53875 333.36 \r\nL 480.53875 442.08 \r\nL 335.45875 442.08 \r\nL 335.45875 333.36 \r\n\" style=\"fill:#fff5f0;\"/>\r\n    <path clip-path=\"url(#pd4f243d231)\" d=\"M 480.53875 333.36 \r\nL 625.61875 333.36 \r\nL 625.61875 442.08 \r\nL 480.53875 442.08 \r\nL 480.53875 333.36 \r\n\" style=\"fill:#feeae0;\"/>\r\n   </g>\r\n   <g id=\"matplotlib.axis_1\">\r\n    <g id=\"xtick_1\">\r\n     <g id=\"line2d_1\">\r\n      <defs>\r\n       <path d=\"M 0 0 \r\nL 0 3.5 \r\n\" id=\"mdcae28af28\" style=\"stroke:#000000;stroke-width:0.8;\"/>\r\n      </defs>\r\n      <g>\r\n       <use style=\"stroke:#000000;stroke-width:0.8;\" x=\"117.83875\" xlink:href=\"#mdcae28af28\" y=\"442.08\"/>\r\n      </g>\r\n     </g>\r\n     <g id=\"text_1\">\r\n      <!-- rec.motorcycles -->\r\n      <g transform=\"translate(78.060625 456.678437)scale(0.1 -0.1)\">\r\n       <defs>\r\n        <path d=\"M 2631 2963 \r\nQ 2534 3019 2420 3045 \r\nQ 2306 3072 2169 3072 \r\nQ 1681 3072 1420 2755 \r\nQ 1159 2438 1159 1844 \r\nL 1159 0 \r\nL 581 0 \r\nL 581 3500 \r\nL 1159 3500 \r\nL 1159 2956 \r\nQ 1341 3275 1631 3429 \r\nQ 1922 3584 2338 3584 \r\nQ 2397 3584 2469 3576 \r\nQ 2541 3569 2628 3553 \r\nL 2631 2963 \r\nz\r\n\" id=\"DejaVuSans-72\" transform=\"scale(0.015625)\"/>\r\n        <path d=\"M 3597 1894 \r\nL 3597 1613 \r\nL 953 1613 \r\nQ 991 1019 1311 708 \r\nQ 1631 397 2203 397 \r\nQ 2534 397 2845 478 \r\nQ 3156 559 3463 722 \r\nL 3463 178 \r\nQ 3153 47 2828 -22 \r\nQ 2503 -91 2169 -91 \r\nQ 1331 -91 842 396 \r\nQ 353 884 353 1716 \r\nQ 353 2575 817 3079 \r\nQ 1281 3584 2069 3584 \r\nQ 2775 3584 3186 3129 \r\nQ 3597 2675 3597 1894 \r\nz\r\nM 3022 2063 \r\nQ 3016 2534 2758 2815 \r\nQ 2500 3097 2075 3097 \r\nQ 1594 3097 1305 2825 \r\nQ 1016 2553 972 2059 \r\nL 3022 2063 \r\nz\r\n\" id=\"DejaVuSans-65\" transform=\"scale(0.015625)\"/>\r\n        <path d=\"M 3122 3366 \r\nL 3122 2828 \r\nQ 2878 2963 2633 3030 \r\nQ 2388 3097 2138 3097 \r\nQ 1578 3097 1268 2742 \r\nQ 959 2388 959 1747 \r\nQ 959 1106 1268 751 \r\nQ 1578 397 2138 397 \r\nQ 2388 397 2633 464 \r\nQ 2878 531 3122 666 \r\nL 3122 134 \r\nQ 2881 22 2623 -34 \r\nQ 2366 -91 2075 -91 \r\nQ 1284 -91 818 406 \r\nQ 353 903 353 1747 \r\nQ 353 2603 823 3093 \r\nQ 1294 3584 2113 3584 \r\nQ 2378 3584 2631 3529 \r\nQ 2884 3475 3122 3366 \r\nz\r\n\" id=\"DejaVuSans-63\" transform=\"scale(0.015625)\"/>\r\n        <path d=\"M 684 794 \r\nL 1344 794 \r\nL 1344 0 \r\nL 684 0 \r\nL 684 794 \r\nz\r\n\" id=\"DejaVuSans-2e\" transform=\"scale(0.015625)\"/>\r\n        <path d=\"M 3328 2828 \r\nQ 3544 3216 3844 3400 \r\nQ 4144 3584 4550 3584 \r\nQ 5097 3584 5394 3201 \r\nQ 5691 2819 5691 2113 \r\nL 5691 0 \r\nL 5113 0 \r\nL 5113 2094 \r\nQ 5113 2597 4934 2840 \r\nQ 4756 3084 4391 3084 \r\nQ 3944 3084 3684 2787 \r\nQ 3425 2491 3425 1978 \r\nL 3425 0 \r\nL 2847 0 \r\nL 2847 2094 \r\nQ 2847 2600 2669 2842 \r\nQ 2491 3084 2119 3084 \r\nQ 1678 3084 1418 2786 \r\nQ 1159 2488 1159 1978 \r\nL 1159 0 \r\nL 581 0 \r\nL 581 3500 \r\nL 1159 3500 \r\nL 1159 2956 \r\nQ 1356 3278 1631 3431 \r\nQ 1906 3584 2284 3584 \r\nQ 2666 3584 2933 3390 \r\nQ 3200 3197 3328 2828 \r\nz\r\n\" id=\"DejaVuSans-6d\" transform=\"scale(0.015625)\"/>\r\n        <path d=\"M 1959 3097 \r\nQ 1497 3097 1228 2736 \r\nQ 959 2375 959 1747 \r\nQ 959 1119 1226 758 \r\nQ 1494 397 1959 397 \r\nQ 2419 397 2687 759 \r\nQ 2956 1122 2956 1747 \r\nQ 2956 2369 2687 2733 \r\nQ 2419 3097 1959 3097 \r\nz\r\nM 1959 3584 \r\nQ 2709 3584 3137 3096 \r\nQ 3566 2609 3566 1747 \r\nQ 3566 888 3137 398 \r\nQ 2709 -91 1959 -91 \r\nQ 1206 -91 779 398 \r\nQ 353 888 353 1747 \r\nQ 353 2609 779 3096 \r\nQ 1206 3584 1959 3584 \r\nz\r\n\" id=\"DejaVuSans-6f\" transform=\"scale(0.015625)\"/>\r\n        <path d=\"M 1172 4494 \r\nL 1172 3500 \r\nL 2356 3500 \r\nL 2356 3053 \r\nL 1172 3053 \r\nL 1172 1153 \r\nQ 1172 725 1289 603 \r\nQ 1406 481 1766 481 \r\nL 2356 481 \r\nL 2356 0 \r\nL 1766 0 \r\nQ 1100 0 847 248 \r\nQ 594 497 594 1153 \r\nL 594 3053 \r\nL 172 3053 \r\nL 172 3500 \r\nL 594 3500 \r\nL 594 4494 \r\nL 1172 4494 \r\nz\r\n\" id=\"DejaVuSans-74\" transform=\"scale(0.015625)\"/>\r\n        <path d=\"M 2059 -325 \r\nQ 1816 -950 1584 -1140 \r\nQ 1353 -1331 966 -1331 \r\nL 506 -1331 \r\nL 506 -850 \r\nL 844 -850 \r\nQ 1081 -850 1212 -737 \r\nQ 1344 -625 1503 -206 \r\nL 1606 56 \r\nL 191 3500 \r\nL 800 3500 \r\nL 1894 763 \r\nL 2988 3500 \r\nL 3597 3500 \r\nL 2059 -325 \r\nz\r\n\" id=\"DejaVuSans-79\" transform=\"scale(0.015625)\"/>\r\n        <path d=\"M 603 4863 \r\nL 1178 4863 \r\nL 1178 0 \r\nL 603 0 \r\nL 603 4863 \r\nz\r\n\" id=\"DejaVuSans-6c\" transform=\"scale(0.015625)\"/>\r\n        <path d=\"M 2834 3397 \r\nL 2834 2853 \r\nQ 2591 2978 2328 3040 \r\nQ 2066 3103 1784 3103 \r\nQ 1356 3103 1142 2972 \r\nQ 928 2841 928 2578 \r\nQ 928 2378 1081 2264 \r\nQ 1234 2150 1697 2047 \r\nL 1894 2003 \r\nQ 2506 1872 2764 1633 \r\nQ 3022 1394 3022 966 \r\nQ 3022 478 2636 193 \r\nQ 2250 -91 1575 -91 \r\nQ 1294 -91 989 -36 \r\nQ 684 19 347 128 \r\nL 347 722 \r\nQ 666 556 975 473 \r\nQ 1284 391 1588 391 \r\nQ 1994 391 2212 530 \r\nQ 2431 669 2431 922 \r\nQ 2431 1156 2273 1281 \r\nQ 2116 1406 1581 1522 \r\nL 1381 1569 \r\nQ 847 1681 609 1914 \r\nQ 372 2147 372 2553 \r\nQ 372 3047 722 3315 \r\nQ 1072 3584 1716 3584 \r\nQ 2034 3584 2315 3537 \r\nQ 2597 3491 2834 3397 \r\nz\r\n\" id=\"DejaVuSans-73\" transform=\"scale(0.015625)\"/>\r\n       </defs>\r\n       <use xlink:href=\"#DejaVuSans-72\"/>\r\n       <use x=\"38.863281\" xlink:href=\"#DejaVuSans-65\"/>\r\n       <use x=\"100.386719\" xlink:href=\"#DejaVuSans-63\"/>\r\n       <use x=\"155.367188\" xlink:href=\"#DejaVuSans-2e\"/>\r\n       <use x=\"187.154297\" xlink:href=\"#DejaVuSans-6d\"/>\r\n       <use x=\"284.566406\" xlink:href=\"#DejaVuSans-6f\"/>\r\n       <use x=\"345.748047\" xlink:href=\"#DejaVuSans-74\"/>\r\n       <use x=\"384.957031\" xlink:href=\"#DejaVuSans-6f\"/>\r\n       <use x=\"446.138672\" xlink:href=\"#DejaVuSans-72\"/>\r\n       <use x=\"485.001953\" xlink:href=\"#DejaVuSans-63\"/>\r\n       <use x=\"539.982422\" xlink:href=\"#DejaVuSans-79\"/>\r\n       <use x=\"599.162109\" xlink:href=\"#DejaVuSans-63\"/>\r\n       <use x=\"654.142578\" xlink:href=\"#DejaVuSans-6c\"/>\r\n       <use x=\"681.925781\" xlink:href=\"#DejaVuSans-65\"/>\r\n       <use x=\"743.449219\" xlink:href=\"#DejaVuSans-73\"/>\r\n      </g>\r\n     </g>\r\n    </g>\r\n    <g id=\"xtick_2\">\r\n     <g id=\"line2d_2\">\r\n      <g>\r\n       <use style=\"stroke:#000000;stroke-width:0.8;\" x=\"262.91875\" xlink:href=\"#mdcae28af28\" y=\"442.08\"/>\r\n      </g>\r\n     </g>\r\n     <g id=\"text_2\">\r\n      <!-- rec.sport.hockey -->\r\n      <g transform=\"translate(221.390625 456.678437)scale(0.1 -0.1)\">\r\n       <defs>\r\n        <path d=\"M 1159 525 \r\nL 1159 -1331 \r\nL 581 -1331 \r\nL 581 3500 \r\nL 1159 3500 \r\nL 1159 2969 \r\nQ 1341 3281 1617 3432 \r\nQ 1894 3584 2278 3584 \r\nQ 2916 3584 3314 3078 \r\nQ 3713 2572 3713 1747 \r\nQ 3713 922 3314 415 \r\nQ 2916 -91 2278 -91 \r\nQ 1894 -91 1617 61 \r\nQ 1341 213 1159 525 \r\nz\r\nM 3116 1747 \r\nQ 3116 2381 2855 2742 \r\nQ 2594 3103 2138 3103 \r\nQ 1681 3103 1420 2742 \r\nQ 1159 2381 1159 1747 \r\nQ 1159 1113 1420 752 \r\nQ 1681 391 2138 391 \r\nQ 2594 391 2855 752 \r\nQ 3116 1113 3116 1747 \r\nz\r\n\" id=\"DejaVuSans-70\" transform=\"scale(0.015625)\"/>\r\n        <path d=\"M 3513 2113 \r\nL 3513 0 \r\nL 2938 0 \r\nL 2938 2094 \r\nQ 2938 2591 2744 2837 \r\nQ 2550 3084 2163 3084 \r\nQ 1697 3084 1428 2787 \r\nQ 1159 2491 1159 1978 \r\nL 1159 0 \r\nL 581 0 \r\nL 581 4863 \r\nL 1159 4863 \r\nL 1159 2956 \r\nQ 1366 3272 1645 3428 \r\nQ 1925 3584 2291 3584 \r\nQ 2894 3584 3203 3211 \r\nQ 3513 2838 3513 2113 \r\nz\r\n\" id=\"DejaVuSans-68\" transform=\"scale(0.015625)\"/>\r\n        <path d=\"M 581 4863 \r\nL 1159 4863 \r\nL 1159 1991 \r\nL 2875 3500 \r\nL 3609 3500 \r\nL 1753 1863 \r\nL 3688 0 \r\nL 2938 0 \r\nL 1159 1709 \r\nL 1159 0 \r\nL 581 0 \r\nL 581 4863 \r\nz\r\n\" id=\"DejaVuSans-6b\" transform=\"scale(0.015625)\"/>\r\n       </defs>\r\n       <use xlink:href=\"#DejaVuSans-72\"/>\r\n       <use x=\"38.863281\" xlink:href=\"#DejaVuSans-65\"/>\r\n       <use x=\"100.386719\" xlink:href=\"#DejaVuSans-63\"/>\r\n       <use x=\"155.367188\" xlink:href=\"#DejaVuSans-2e\"/>\r\n       <use x=\"187.154297\" xlink:href=\"#DejaVuSans-73\"/>\r\n       <use x=\"239.253906\" xlink:href=\"#DejaVuSans-70\"/>\r\n       <use x=\"302.730469\" xlink:href=\"#DejaVuSans-6f\"/>\r\n       <use x=\"363.912109\" xlink:href=\"#DejaVuSans-72\"/>\r\n       <use x=\"405.025391\" xlink:href=\"#DejaVuSans-74\"/>\r\n       <use x=\"444.234375\" xlink:href=\"#DejaVuSans-2e\"/>\r\n       <use x=\"476.021484\" xlink:href=\"#DejaVuSans-68\"/>\r\n       <use x=\"539.400391\" xlink:href=\"#DejaVuSans-6f\"/>\r\n       <use x=\"600.582031\" xlink:href=\"#DejaVuSans-63\"/>\r\n       <use x=\"655.5625\" xlink:href=\"#DejaVuSans-6b\"/>\r\n       <use x=\"709.847656\" xlink:href=\"#DejaVuSans-65\"/>\r\n       <use x=\"771.371094\" xlink:href=\"#DejaVuSans-79\"/>\r\n      </g>\r\n     </g>\r\n    </g>\r\n    <g id=\"xtick_3\">\r\n     <g id=\"line2d_3\">\r\n      <g>\r\n       <use style=\"stroke:#000000;stroke-width:0.8;\" x=\"407.99875\" xlink:href=\"#mdcae28af28\" y=\"442.08\"/>\r\n      </g>\r\n     </g>\r\n     <g id=\"text_3\">\r\n      <!-- soc.religion.christian -->\r\n      <g transform=\"translate(356.269063 456.678437)scale(0.1 -0.1)\">\r\n       <defs>\r\n        <path d=\"M 603 3500 \r\nL 1178 3500 \r\nL 1178 0 \r\nL 603 0 \r\nL 603 3500 \r\nz\r\nM 603 4863 \r\nL 1178 4863 \r\nL 1178 4134 \r\nL 603 4134 \r\nL 603 4863 \r\nz\r\n\" id=\"DejaVuSans-69\" transform=\"scale(0.015625)\"/>\r\n        <path d=\"M 2906 1791 \r\nQ 2906 2416 2648 2759 \r\nQ 2391 3103 1925 3103 \r\nQ 1463 3103 1205 2759 \r\nQ 947 2416 947 1791 \r\nQ 947 1169 1205 825 \r\nQ 1463 481 1925 481 \r\nQ 2391 481 2648 825 \r\nQ 2906 1169 2906 1791 \r\nz\r\nM 3481 434 \r\nQ 3481 -459 3084 -895 \r\nQ 2688 -1331 1869 -1331 \r\nQ 1566 -1331 1297 -1286 \r\nQ 1028 -1241 775 -1147 \r\nL 775 -588 \r\nQ 1028 -725 1275 -790 \r\nQ 1522 -856 1778 -856 \r\nQ 2344 -856 2625 -561 \r\nQ 2906 -266 2906 331 \r\nL 2906 616 \r\nQ 2728 306 2450 153 \r\nQ 2172 0 1784 0 \r\nQ 1141 0 747 490 \r\nQ 353 981 353 1791 \r\nQ 353 2603 747 3093 \r\nQ 1141 3584 1784 3584 \r\nQ 2172 3584 2450 3431 \r\nQ 2728 3278 2906 2969 \r\nL 2906 3500 \r\nL 3481 3500 \r\nL 3481 434 \r\nz\r\n\" id=\"DejaVuSans-67\" transform=\"scale(0.015625)\"/>\r\n        <path d=\"M 3513 2113 \r\nL 3513 0 \r\nL 2938 0 \r\nL 2938 2094 \r\nQ 2938 2591 2744 2837 \r\nQ 2550 3084 2163 3084 \r\nQ 1697 3084 1428 2787 \r\nQ 1159 2491 1159 1978 \r\nL 1159 0 \r\nL 581 0 \r\nL 581 3500 \r\nL 1159 3500 \r\nL 1159 2956 \r\nQ 1366 3272 1645 3428 \r\nQ 1925 3584 2291 3584 \r\nQ 2894 3584 3203 3211 \r\nQ 3513 2838 3513 2113 \r\nz\r\n\" id=\"DejaVuSans-6e\" transform=\"scale(0.015625)\"/>\r\n        <path d=\"M 2194 1759 \r\nQ 1497 1759 1228 1600 \r\nQ 959 1441 959 1056 \r\nQ 959 750 1161 570 \r\nQ 1363 391 1709 391 \r\nQ 2188 391 2477 730 \r\nQ 2766 1069 2766 1631 \r\nL 2766 1759 \r\nL 2194 1759 \r\nz\r\nM 3341 1997 \r\nL 3341 0 \r\nL 2766 0 \r\nL 2766 531 \r\nQ 2569 213 2275 61 \r\nQ 1981 -91 1556 -91 \r\nQ 1019 -91 701 211 \r\nQ 384 513 384 1019 \r\nQ 384 1609 779 1909 \r\nQ 1175 2209 1959 2209 \r\nL 2766 2209 \r\nL 2766 2266 \r\nQ 2766 2663 2505 2880 \r\nQ 2244 3097 1772 3097 \r\nQ 1472 3097 1187 3025 \r\nQ 903 2953 641 2809 \r\nL 641 3341 \r\nQ 956 3463 1253 3523 \r\nQ 1550 3584 1831 3584 \r\nQ 2591 3584 2966 3190 \r\nQ 3341 2797 3341 1997 \r\nz\r\n\" id=\"DejaVuSans-61\" transform=\"scale(0.015625)\"/>\r\n       </defs>\r\n       <use xlink:href=\"#DejaVuSans-73\"/>\r\n       <use x=\"52.099609\" xlink:href=\"#DejaVuSans-6f\"/>\r\n       <use x=\"113.28125\" xlink:href=\"#DejaVuSans-63\"/>\r\n       <use x=\"168.261719\" xlink:href=\"#DejaVuSans-2e\"/>\r\n       <use x=\"200.048828\" xlink:href=\"#DejaVuSans-72\"/>\r\n       <use x=\"238.912109\" xlink:href=\"#DejaVuSans-65\"/>\r\n       <use x=\"300.435547\" xlink:href=\"#DejaVuSans-6c\"/>\r\n       <use x=\"328.21875\" xlink:href=\"#DejaVuSans-69\"/>\r\n       <use x=\"356.001953\" xlink:href=\"#DejaVuSans-67\"/>\r\n       <use x=\"419.478516\" xlink:href=\"#DejaVuSans-69\"/>\r\n       <use x=\"447.261719\" xlink:href=\"#DejaVuSans-6f\"/>\r\n       <use x=\"508.443359\" xlink:href=\"#DejaVuSans-6e\"/>\r\n       <use x=\"571.822266\" xlink:href=\"#DejaVuSans-2e\"/>\r\n       <use x=\"603.609375\" xlink:href=\"#DejaVuSans-63\"/>\r\n       <use x=\"658.589844\" xlink:href=\"#DejaVuSans-68\"/>\r\n       <use x=\"721.96875\" xlink:href=\"#DejaVuSans-72\"/>\r\n       <use x=\"763.082031\" xlink:href=\"#DejaVuSans-69\"/>\r\n       <use x=\"790.865234\" xlink:href=\"#DejaVuSans-73\"/>\r\n       <use x=\"842.964844\" xlink:href=\"#DejaVuSans-74\"/>\r\n       <use x=\"882.173828\" xlink:href=\"#DejaVuSans-69\"/>\r\n       <use x=\"909.957031\" xlink:href=\"#DejaVuSans-61\"/>\r\n       <use x=\"971.236328\" xlink:href=\"#DejaVuSans-6e\"/>\r\n      </g>\r\n     </g>\r\n    </g>\r\n    <g id=\"xtick_4\">\r\n     <g id=\"line2d_4\">\r\n      <g>\r\n       <use style=\"stroke:#000000;stroke-width:0.8;\" x=\"553.07875\" xlink:href=\"#mdcae28af28\" y=\"442.08\"/>\r\n      </g>\r\n     </g>\r\n     <g id=\"text_4\">\r\n      <!-- talk.politics.mideast -->\r\n      <g transform=\"translate(502.738125 456.678437)scale(0.1 -0.1)\">\r\n       <defs>\r\n        <path d=\"M 2906 2969 \r\nL 2906 4863 \r\nL 3481 4863 \r\nL 3481 0 \r\nL 2906 0 \r\nL 2906 525 \r\nQ 2725 213 2448 61 \r\nQ 2172 -91 1784 -91 \r\nQ 1150 -91 751 415 \r\nQ 353 922 353 1747 \r\nQ 353 2572 751 3078 \r\nQ 1150 3584 1784 3584 \r\nQ 2172 3584 2448 3432 \r\nQ 2725 3281 2906 2969 \r\nz\r\nM 947 1747 \r\nQ 947 1113 1208 752 \r\nQ 1469 391 1925 391 \r\nQ 2381 391 2643 752 \r\nQ 2906 1113 2906 1747 \r\nQ 2906 2381 2643 2742 \r\nQ 2381 3103 1925 3103 \r\nQ 1469 3103 1208 2742 \r\nQ 947 2381 947 1747 \r\nz\r\n\" id=\"DejaVuSans-64\" transform=\"scale(0.015625)\"/>\r\n       </defs>\r\n       <use xlink:href=\"#DejaVuSans-74\"/>\r\n       <use x=\"39.208984\" xlink:href=\"#DejaVuSans-61\"/>\r\n       <use x=\"100.488281\" xlink:href=\"#DejaVuSans-6c\"/>\r\n       <use x=\"128.271484\" xlink:href=\"#DejaVuSans-6b\"/>\r\n       <use x=\"186.181641\" xlink:href=\"#DejaVuSans-2e\"/>\r\n       <use x=\"217.96875\" xlink:href=\"#DejaVuSans-70\"/>\r\n       <use x=\"281.445312\" xlink:href=\"#DejaVuSans-6f\"/>\r\n       <use x=\"342.626953\" xlink:href=\"#DejaVuSans-6c\"/>\r\n       <use x=\"370.410156\" xlink:href=\"#DejaVuSans-69\"/>\r\n       <use x=\"398.193359\" xlink:href=\"#DejaVuSans-74\"/>\r\n       <use x=\"437.402344\" xlink:href=\"#DejaVuSans-69\"/>\r\n       <use x=\"465.185547\" xlink:href=\"#DejaVuSans-63\"/>\r\n       <use x=\"520.166016\" xlink:href=\"#DejaVuSans-73\"/>\r\n       <use x=\"572.265625\" xlink:href=\"#DejaVuSans-2e\"/>\r\n       <use x=\"604.052734\" xlink:href=\"#DejaVuSans-6d\"/>\r\n       <use x=\"701.464844\" xlink:href=\"#DejaVuSans-69\"/>\r\n       <use x=\"729.248047\" xlink:href=\"#DejaVuSans-64\"/>\r\n       <use x=\"792.724609\" xlink:href=\"#DejaVuSans-65\"/>\r\n       <use x=\"854.248047\" xlink:href=\"#DejaVuSans-61\"/>\r\n       <use x=\"915.527344\" xlink:href=\"#DejaVuSans-73\"/>\r\n       <use x=\"967.626953\" xlink:href=\"#DejaVuSans-74\"/>\r\n      </g>\r\n     </g>\r\n    </g>\r\n    <g id=\"text_5\">\r\n     <!-- target_names -->\r\n     <g transform=\"translate(273.38125 475.934687)scale(0.18 -0.18)\">\r\n      <defs>\r\n       <path d=\"M 3263 -1063 \r\nL 3263 -1509 \r\nL -63 -1509 \r\nL -63 -1063 \r\nL 3263 -1063 \r\nz\r\n\" id=\"DejaVuSans-5f\" transform=\"scale(0.015625)\"/>\r\n      </defs>\r\n      <use xlink:href=\"#DejaVuSans-74\"/>\r\n      <use x=\"39.208984\" xlink:href=\"#DejaVuSans-61\"/>\r\n      <use x=\"100.488281\" xlink:href=\"#DejaVuSans-72\"/>\r\n      <use x=\"139.851562\" xlink:href=\"#DejaVuSans-67\"/>\r\n      <use x=\"203.328125\" xlink:href=\"#DejaVuSans-65\"/>\r\n      <use x=\"264.851562\" xlink:href=\"#DejaVuSans-74\"/>\r\n      <use x=\"304.060547\" xlink:href=\"#DejaVuSans-5f\"/>\r\n      <use x=\"354.060547\" xlink:href=\"#DejaVuSans-6e\"/>\r\n      <use x=\"417.439453\" xlink:href=\"#DejaVuSans-61\"/>\r\n      <use x=\"478.71875\" xlink:href=\"#DejaVuSans-6d\"/>\r\n      <use x=\"576.130859\" xlink:href=\"#DejaVuSans-65\"/>\r\n      <use x=\"637.654297\" xlink:href=\"#DejaVuSans-73\"/>\r\n     </g>\r\n    </g>\r\n   </g>\r\n   <g id=\"matplotlib.axis_2\">\r\n    <g id=\"ytick_1\">\r\n     <g id=\"line2d_5\">\r\n      <defs>\r\n       <path d=\"M 0 0 \r\nL -3.5 0 \r\n\" id=\"m04140af2f5\" style=\"stroke:#000000;stroke-width:0.8;\"/>\r\n      </defs>\r\n      <g>\r\n       <use style=\"stroke:#000000;stroke-width:0.8;\" x=\"45.29875\" xlink:href=\"#m04140af2f5\" y=\"61.56\"/>\r\n      </g>\r\n     </g>\r\n     <g id=\"text_6\">\r\n      <!-- 0 -->\r\n      <g transform=\"translate(36.219062 64.123281)rotate(-90)scale(0.1 -0.1)\">\r\n       <defs>\r\n        <path d=\"M 2034 4250 \r\nQ 1547 4250 1301 3770 \r\nQ 1056 3291 1056 2328 \r\nQ 1056 1369 1301 889 \r\nQ 1547 409 2034 409 \r\nQ 2525 409 2770 889 \r\nQ 3016 1369 3016 2328 \r\nQ 3016 3291 2770 3770 \r\nQ 2525 4250 2034 4250 \r\nz\r\nM 2034 4750 \r\nQ 2819 4750 3233 4129 \r\nQ 3647 3509 3647 2328 \r\nQ 3647 1150 3233 529 \r\nQ 2819 -91 2034 -91 \r\nQ 1250 -91 836 529 \r\nQ 422 1150 422 2328 \r\nQ 422 3509 836 4129 \r\nQ 1250 4750 2034 4750 \r\nz\r\n\" id=\"DejaVuSans-30\" transform=\"scale(0.015625)\"/>\r\n       </defs>\r\n       <use xlink:href=\"#DejaVuSans-30\"/>\r\n      </g>\r\n     </g>\r\n    </g>\r\n    <g id=\"ytick_2\">\r\n     <g id=\"line2d_6\">\r\n      <g>\r\n       <use style=\"stroke:#000000;stroke-width:0.8;\" x=\"45.29875\" xlink:href=\"#m04140af2f5\" y=\"170.28\"/>\r\n      </g>\r\n     </g>\r\n     <g id=\"text_7\">\r\n      <!-- 1 -->\r\n      <g transform=\"translate(36.219062 172.843281)rotate(-90)scale(0.1 -0.1)\">\r\n       <defs>\r\n        <path d=\"M 794 531 \r\nL 1825 531 \r\nL 1825 4091 \r\nL 703 3866 \r\nL 703 4441 \r\nL 1819 4666 \r\nL 2450 4666 \r\nL 2450 531 \r\nL 3481 531 \r\nL 3481 0 \r\nL 794 0 \r\nL 794 531 \r\nz\r\n\" id=\"DejaVuSans-31\" transform=\"scale(0.015625)\"/>\r\n       </defs>\r\n       <use xlink:href=\"#DejaVuSans-31\"/>\r\n      </g>\r\n     </g>\r\n    </g>\r\n    <g id=\"ytick_3\">\r\n     <g id=\"line2d_7\">\r\n      <g>\r\n       <use style=\"stroke:#000000;stroke-width:0.8;\" x=\"45.29875\" xlink:href=\"#m04140af2f5\" y=\"279\"/>\r\n      </g>\r\n     </g>\r\n     <g id=\"text_8\">\r\n      <!-- 2 -->\r\n      <g transform=\"translate(36.219062 281.563281)rotate(-90)scale(0.1 -0.1)\">\r\n       <defs>\r\n        <path d=\"M 1228 531 \r\nL 3431 531 \r\nL 3431 0 \r\nL 469 0 \r\nL 469 531 \r\nQ 828 903 1448 1529 \r\nQ 2069 2156 2228 2338 \r\nQ 2531 2678 2651 2914 \r\nQ 2772 3150 2772 3378 \r\nQ 2772 3750 2511 3984 \r\nQ 2250 4219 1831 4219 \r\nQ 1534 4219 1204 4116 \r\nQ 875 4013 500 3803 \r\nL 500 4441 \r\nQ 881 4594 1212 4672 \r\nQ 1544 4750 1819 4750 \r\nQ 2544 4750 2975 4387 \r\nQ 3406 4025 3406 3419 \r\nQ 3406 3131 3298 2873 \r\nQ 3191 2616 2906 2266 \r\nQ 2828 2175 2409 1742 \r\nQ 1991 1309 1228 531 \r\nz\r\n\" id=\"DejaVuSans-32\" transform=\"scale(0.015625)\"/>\r\n       </defs>\r\n       <use xlink:href=\"#DejaVuSans-32\"/>\r\n      </g>\r\n     </g>\r\n    </g>\r\n    <g id=\"ytick_4\">\r\n     <g id=\"line2d_8\">\r\n      <g>\r\n       <use style=\"stroke:#000000;stroke-width:0.8;\" x=\"45.29875\" xlink:href=\"#m04140af2f5\" y=\"387.72\"/>\r\n      </g>\r\n     </g>\r\n     <g id=\"text_9\">\r\n      <!-- 3 -->\r\n      <g transform=\"translate(36.219062 390.283281)rotate(-90)scale(0.1 -0.1)\">\r\n       <defs>\r\n        <path d=\"M 2597 2516 \r\nQ 3050 2419 3304 2112 \r\nQ 3559 1806 3559 1356 \r\nQ 3559 666 3084 287 \r\nQ 2609 -91 1734 -91 \r\nQ 1441 -91 1130 -33 \r\nQ 819 25 488 141 \r\nL 488 750 \r\nQ 750 597 1062 519 \r\nQ 1375 441 1716 441 \r\nQ 2309 441 2620 675 \r\nQ 2931 909 2931 1356 \r\nQ 2931 1769 2642 2001 \r\nQ 2353 2234 1838 2234 \r\nL 1294 2234 \r\nL 1294 2753 \r\nL 1863 2753 \r\nQ 2328 2753 2575 2939 \r\nQ 2822 3125 2822 3475 \r\nQ 2822 3834 2567 4026 \r\nQ 2313 4219 1838 4219 \r\nQ 1578 4219 1281 4162 \r\nQ 984 4106 628 3988 \r\nL 628 4550 \r\nQ 988 4650 1302 4700 \r\nQ 1616 4750 1894 4750 \r\nQ 2613 4750 3031 4423 \r\nQ 3450 4097 3450 3541 \r\nQ 3450 3153 3228 2886 \r\nQ 3006 2619 2597 2516 \r\nz\r\n\" id=\"DejaVuSans-33\" transform=\"scale(0.015625)\"/>\r\n       </defs>\r\n       <use xlink:href=\"#DejaVuSans-33\"/>\r\n      </g>\r\n     </g>\r\n    </g>\r\n    <g id=\"text_10\">\r\n     <!-- cluster -->\r\n     <g transform=\"translate(20.877187 255.247031)rotate(-90)scale(0.18 -0.18)\">\r\n      <defs>\r\n       <path d=\"M 544 1381 \r\nL 544 3500 \r\nL 1119 3500 \r\nL 1119 1403 \r\nQ 1119 906 1312 657 \r\nQ 1506 409 1894 409 \r\nQ 2359 409 2629 706 \r\nQ 2900 1003 2900 1516 \r\nL 2900 3500 \r\nL 3475 3500 \r\nL 3475 0 \r\nL 2900 0 \r\nL 2900 538 \r\nQ 2691 219 2414 64 \r\nQ 2138 -91 1772 -91 \r\nQ 1169 -91 856 284 \r\nQ 544 659 544 1381 \r\nz\r\nM 1991 3584 \r\nL 1991 3584 \r\nz\r\n\" id=\"DejaVuSans-75\" transform=\"scale(0.015625)\"/>\r\n      </defs>\r\n      <use xlink:href=\"#DejaVuSans-63\"/>\r\n      <use x=\"54.980469\" xlink:href=\"#DejaVuSans-6c\"/>\r\n      <use x=\"82.763672\" xlink:href=\"#DejaVuSans-75\"/>\r\n      <use x=\"146.142578\" xlink:href=\"#DejaVuSans-73\"/>\r\n      <use x=\"198.242188\" xlink:href=\"#DejaVuSans-74\"/>\r\n      <use x=\"237.451172\" xlink:href=\"#DejaVuSans-65\"/>\r\n      <use x=\"298.974609\" xlink:href=\"#DejaVuSans-72\"/>\r\n     </g>\r\n    </g>\r\n   </g>\r\n  </g>\r\n  <g id=\"axes_2\">\r\n   <g id=\"patch_3\">\r\n    <path d=\"M 661.88875 442.08 \r\nL 683.63275 442.08 \r\nL 683.63275 7.2 \r\nL 661.88875 7.2 \r\nz\r\n\" style=\"fill:#ffffff;\"/>\r\n   </g>\r\n   <g id=\"patch_4\">\r\n    <path clip-path=\"url(#pf36db31ad2)\" d=\"M 661.88875 442.08 \r\nL 661.88875 440.38125 \r\nL 661.88875 8.89875 \r\nL 661.88875 7.2 \r\nL 683.63275 7.2 \r\nL 683.63275 8.89875 \r\nL 683.63275 440.38125 \r\nL 683.63275 442.08 \r\nL 683.63275 442.08 \r\nz\r\n\" style=\"fill:#ffffff;stroke:#ffffff;stroke-linejoin:miter;stroke-width:0.01;\"/>\r\n   </g>\r\n   <image height=\"435\" id=\"imagea212d20f0d\" transform=\"scale(1 -1)translate(0 -435)\" width=\"22\" x=\"662\" xlink:href=\"data:image/png;base64,\r\niVBORw0KGgoAAAANSUhEUgAAABYAAAGzCAYAAAArEufSAAACJ0lEQVR4nO2cMW7EMBADlcD/f2uatNYVXlP3ARYDzDyAWJD0SnYO+dn/f3sV+G2IrrXWtXZl4ObEqzMx0QrexIY3ECcuhdf0uCaMswIYnrviwfCO8Da8gRceb2LDC7wHhGgFb+JeeBVdwzu43frChhea4d0VYZ4VxYnvjsdEK6zbwPOY+AJZevKA4dnjF96uIFpxW7cH6xZ4VvDq5pMXeBMTr1jA8PT4FXZXDLy6aUXgvUASrbBug3UL1i3UDlOiFdYtwl6xBl7dDC/wwuN5bN0Cr27IvzVZtwjjrLBuA7FuLvqBVzdij90VbWGeFdYtWLdgeH1hnhW8uhGtcOKhN/G2boMTfwl75g28iYlWWLeBNzHRCuvWFuZZAfwZBPC3scDPvLSJd+9XNzQreHVrPdJaEXi7wvCCuyIU/y+WVgzNU7okzLOC9+R5Sr8A6+Z2i7BWvPC2G/GKxZvY8IbahQV4Spd0gVY0J+4I8zwGWnFbtwjjrli8uvXCs8eDuyJYtwCsW++U9n488OrmEgrWLbjoA7JuLWHcjb40MHBXXCUnmlaUhHnh8Ty+SndC4NpshueueABO3Dqaaq0wvIDcFSXh27oNvLoRrcDVrbjoO/jkBWDdel8KO7rW7eDbf3DiIwz8Rl8SLp7SJWHgvYJ3owd+5m0J86ywbke4owu0wroF6xas27dwB8MLNY+BN3rrdoQ7usDPCtYtWLfgdvsS9swbeHXjWfEBeOX95ppp314AAAAASUVORK5CYII=\" y=\"-7\"/>\r\n   <g id=\"matplotlib.axis_3\"/>\r\n   <g id=\"matplotlib.axis_4\">\r\n    <g id=\"ytick_5\">\r\n     <g id=\"line2d_9\">\r\n      <defs>\r\n       <path d=\"M 0 0 \r\nL 3.5 0 \r\n\" id=\"mf0c7313215\" style=\"stroke:#000000;stroke-width:0.8;\"/>\r\n      </defs>\r\n      <g>\r\n       <use style=\"stroke:#000000;stroke-width:0.8;\" x=\"683.63275\" xlink:href=\"#mf0c7313215\" y=\"359.897953\"/>\r\n      </g>\r\n     </g>\r\n     <g id=\"text_11\">\r\n      <!-- 100 -->\r\n      <g transform=\"translate(690.63275 363.697172)scale(0.1 -0.1)\">\r\n       <use xlink:href=\"#DejaVuSans-31\"/>\r\n       <use x=\"63.623047\" xlink:href=\"#DejaVuSans-30\"/>\r\n       <use x=\"127.246094\" xlink:href=\"#DejaVuSans-30\"/>\r\n      </g>\r\n     </g>\r\n    </g>\r\n    <g id=\"ytick_6\">\r\n     <g id=\"line2d_10\">\r\n      <g>\r\n       <use style=\"stroke:#000000;stroke-width:0.8;\" x=\"683.63275\" xlink:href=\"#mf0c7313215\" y=\"274.291654\"/>\r\n      </g>\r\n     </g>\r\n     <g id=\"text_12\">\r\n      <!-- 200 -->\r\n      <g transform=\"translate(690.63275 278.090872)scale(0.1 -0.1)\">\r\n       <use xlink:href=\"#DejaVuSans-32\"/>\r\n       <use x=\"63.623047\" xlink:href=\"#DejaVuSans-30\"/>\r\n       <use x=\"127.246094\" xlink:href=\"#DejaVuSans-30\"/>\r\n      </g>\r\n     </g>\r\n    </g>\r\n    <g id=\"ytick_7\">\r\n     <g id=\"line2d_11\">\r\n      <g>\r\n       <use style=\"stroke:#000000;stroke-width:0.8;\" x=\"683.63275\" xlink:href=\"#mf0c7313215\" y=\"188.685354\"/>\r\n      </g>\r\n     </g>\r\n     <g id=\"text_13\">\r\n      <!-- 300 -->\r\n      <g transform=\"translate(690.63275 192.484573)scale(0.1 -0.1)\">\r\n       <use xlink:href=\"#DejaVuSans-33\"/>\r\n       <use x=\"63.623047\" xlink:href=\"#DejaVuSans-30\"/>\r\n       <use x=\"127.246094\" xlink:href=\"#DejaVuSans-30\"/>\r\n      </g>\r\n     </g>\r\n    </g>\r\n    <g id=\"ytick_8\">\r\n     <g id=\"line2d_12\">\r\n      <g>\r\n       <use style=\"stroke:#000000;stroke-width:0.8;\" x=\"683.63275\" xlink:href=\"#mf0c7313215\" y=\"103.079055\"/>\r\n      </g>\r\n     </g>\r\n     <g id=\"text_14\">\r\n      <!-- 400 -->\r\n      <g transform=\"translate(690.63275 106.878274)scale(0.1 -0.1)\">\r\n       <defs>\r\n        <path d=\"M 2419 4116 \r\nL 825 1625 \r\nL 2419 1625 \r\nL 2419 4116 \r\nz\r\nM 2253 4666 \r\nL 3047 4666 \r\nL 3047 1625 \r\nL 3713 1625 \r\nL 3713 1100 \r\nL 3047 1100 \r\nL 3047 0 \r\nL 2419 0 \r\nL 2419 1100 \r\nL 313 1100 \r\nL 313 1709 \r\nL 2253 4666 \r\nz\r\n\" id=\"DejaVuSans-34\" transform=\"scale(0.015625)\"/>\r\n       </defs>\r\n       <use xlink:href=\"#DejaVuSans-34\"/>\r\n       <use x=\"63.623047\" xlink:href=\"#DejaVuSans-30\"/>\r\n       <use x=\"127.246094\" xlink:href=\"#DejaVuSans-30\"/>\r\n      </g>\r\n     </g>\r\n    </g>\r\n    <g id=\"ytick_9\">\r\n     <g id=\"line2d_13\">\r\n      <g>\r\n       <use style=\"stroke:#000000;stroke-width:0.8;\" x=\"683.63275\" xlink:href=\"#mf0c7313215\" y=\"17.472756\"/>\r\n      </g>\r\n     </g>\r\n     <g id=\"text_15\">\r\n      <!-- 500 -->\r\n      <g transform=\"translate(690.63275 21.271975)scale(0.1 -0.1)\">\r\n       <defs>\r\n        <path d=\"M 691 4666 \r\nL 3169 4666 \r\nL 3169 4134 \r\nL 1269 4134 \r\nL 1269 2991 \r\nQ 1406 3038 1543 3061 \r\nQ 1681 3084 1819 3084 \r\nQ 2600 3084 3056 2656 \r\nQ 3513 2228 3513 1497 \r\nQ 3513 744 3044 326 \r\nQ 2575 -91 1722 -91 \r\nQ 1428 -91 1123 -41 \r\nQ 819 9 494 109 \r\nL 494 744 \r\nQ 775 591 1075 516 \r\nQ 1375 441 1709 441 \r\nQ 2250 441 2565 725 \r\nQ 2881 1009 2881 1497 \r\nQ 2881 1984 2565 2268 \r\nQ 2250 2553 1709 2553 \r\nQ 1456 2553 1204 2497 \r\nQ 953 2441 691 2322 \r\nL 691 4666 \r\nz\r\n\" id=\"DejaVuSans-35\" transform=\"scale(0.015625)\"/>\r\n       </defs>\r\n       <use xlink:href=\"#DejaVuSans-35\"/>\r\n       <use x=\"63.623047\" xlink:href=\"#DejaVuSans-30\"/>\r\n       <use x=\"127.246094\" xlink:href=\"#DejaVuSans-30\"/>\r\n      </g>\r\n     </g>\r\n    </g>\r\n   </g>\r\n   <g id=\"LineCollection_1\"/>\r\n   <g id=\"patch_5\">\r\n    <path d=\"M 661.88875 442.08 \r\nL 661.88875 440.38125 \r\nL 661.88875 8.89875 \r\nL 661.88875 7.2 \r\nL 683.63275 7.2 \r\nL 683.63275 8.89875 \r\nL 683.63275 440.38125 \r\nL 683.63275 442.08 \r\nz\r\n\" style=\"fill:none;\"/>\r\n   </g>\r\n  </g>\r\n </g>\r\n <defs>\r\n  <clipPath id=\"pd4f243d231\">\r\n   <rect height=\"434.88\" width=\"580.32\" x=\"45.29875\" y=\"7.2\"/>\r\n  </clipPath>\r\n  <clipPath id=\"pf36db31ad2\">\r\n   <rect height=\"434.88\" width=\"21.744\" x=\"661.88875\" y=\"7.2\"/>\r\n  </clipPath>\r\n </defs>\r\n</svg>\r\n",
      "image/png": "[encoded data removed]"
     },
     "metadata": {
      "needs_background": "light"
     }
    }
   ],
   "source": [
    "from seaborn import heatmap\n",
    "clusters = data_filtered.groupby(['label', 'target_names']).size()\n",
    "fig, ax1 = plt.subplots(figsize = (13,8))\n",
    "heatmap(clusters.unstack(level = 'target_names'), ax = ax1, cmap = 'Reds')\n",
    "ax1.set_xlabel('target_names').set_size(18)\n",
    "ax1.set_ylabel('cluster').set_size(18)\n"
   ]
  },
  {
   "source": [
    "Add a column pred to the data frame setting its values to the target you would expect\n",
    "in 4. i.e. if you think that cluster 0 should correspond to topic rec.motorcycles, then all\n",
    "datapoints with df['cluster']==0 would get pred set to 8.\n",
    "8. Print the classification report on target and pred. Are the results good?"
   ],
   "cell_type": "markdown",
   "metadata": {}
  },
  {
   "cell_type": "code",
   "execution_count": 63,
   "metadata": {},
   "outputs": [
    {
     "output_type": "stream",
     "name": "stderr",
     "text": [
      "C:\\Anaconda\\envs\\uni\\lib\\site-packages\\ipykernel\\ipkernel.py:287: DeprecationWarning: `should_run_async` will not call `transform_cell` automatically in the future. Please pass the result to `transformed_cell` argument and any exception that happen during thetransform in `preprocessing_exc_tuple` in IPython 7.17 and above.\n  and should_run_async(code)\nC:\\Anaconda\\envs\\uni\\lib\\site-packages\\ipykernel_launcher.py:1: SettingWithCopyWarning: \nA value is trying to be set on a copy of a slice from a DataFrame.\nTry using .loc[row_indexer,col_indexer] = value instead\n\nSee the caveats in the documentation: https://pandas.pydata.org/pandas-docs/stable/user_guide/indexing.html#returning-a-view-versus-a-copy\n  \"\"\"Entry point for launching an IPython kernel.\n"
     ]
    }
   ],
   "source": [
    "data_filtered['pred'] = 0"
   ]
  },
  {
   "cell_type": "code",
   "execution_count": 75,
   "metadata": {
    "tags": []
   },
   "outputs": [
    {
     "output_type": "stream",
     "name": "stderr",
     "text": [
      "C:\\Anaconda\\envs\\uni\\lib\\site-packages\\ipykernel\\ipkernel.py:287: DeprecationWarning: `should_run_async` will not call `transform_cell` automatically in the future. Please pass the result to `transformed_cell` argument and any exception that happen during thetransform in `preprocessing_exc_tuple` in IPython 7.17 and above.\n  and should_run_async(code)\nC:\\Anaconda\\envs\\uni\\lib\\site-packages\\pandas\\core\\indexing.py:1720: SettingWithCopyWarning: \nA value is trying to be set on a copy of a slice from a DataFrame.\nTry using .loc[row_indexer,col_indexer] = value instead\n\nSee the caveats in the documentation: https://pandas.pydata.org/pandas-docs/stable/user_guide/indexing.html#returning-a-view-versus-a-copy\n  self._setitem_single_column(loc, value, pi)\n"
     ]
    }
   ],
   "source": [
    "for index, row in data_filtered.iterrows():\n",
    "    if row.label == 0:\n",
    "        data_filtered.loc[index,'pred'] = 10\n",
    "    if row.label == 1:\n",
    "        data_filtered.loc[index,'pred'] = 17\n",
    "    if row.label == 2:\n",
    "        data_filtered.loc[index,'pred'] = 15\n",
    "    if row.label == 3:\n",
    "        data_filtered.loc[index,'pred'] = 8"
   ]
  },
  {
   "cell_type": "code",
   "execution_count": 76,
   "metadata": {},
   "outputs": [
    {
     "output_type": "stream",
     "name": "stderr",
     "text": [
      "C:\\Anaconda\\envs\\uni\\lib\\site-packages\\ipykernel\\ipkernel.py:287: DeprecationWarning: `should_run_async` will not call `transform_cell` automatically in the future. Please pass the result to `transformed_cell` argument and any exception that happen during thetransform in `preprocessing_exc_tuple` in IPython 7.17 and above.\n  and should_run_async(code)\n"
     ]
    },
    {
     "output_type": "execute_result",
     "data": {
      "text/plain": [
       "                                                 content  target  \\\n",
       "10     From: irwin@cmptrc.lonestar.org (Irwin Arnstei...       8   \n",
       "21     From: leunggm@odin.control.utoronto.ca (Gary L...      10   \n",
       "28     From: jonh@david.wheaton.edu (Jonathan Hayward...      15   \n",
       "33     From: ayr1@cunixa.cc.columbia.edu (Amir Y Rose...      17   \n",
       "35     From: dchhabra@stpl.ists.ca (Deepak Chhabra)\\n...      10   \n",
       "...                                                  ...     ...   \n",
       "11298  From: cbetz@radioman.cray.com (Charles Betz  {...      10   \n",
       "11299  From: 2120788@hydra.maths.unsw.EDU.AU ()\\nSubj...      17   \n",
       "11300  From: aa888@freenet.carleton.ca (Mark Baker)\\n...      15   \n",
       "11305  From: shaig@composer.think.com (Shai Guday)\\nS...      17   \n",
       "11313  From: gunning@cco.caltech.edu (Kevin J. Gunnin...       8   \n",
       "\n",
       "                 target_names  \\\n",
       "10            rec.motorcycles   \n",
       "21           rec.sport.hockey   \n",
       "28     soc.religion.christian   \n",
       "33      talk.politics.mideast   \n",
       "35           rec.sport.hockey   \n",
       "...                       ...   \n",
       "11298        rec.sport.hockey   \n",
       "11299   talk.politics.mideast   \n",
       "11300  soc.religion.christian   \n",
       "11305   talk.politics.mideast   \n",
       "11313         rec.motorcycles   \n",
       "\n",
       "                                            preprocessed  label  pred  \n",
       "10     recommend duc worth ducati gt line ducati gt m...      3     8  \n",
       "21     nhl team captain articl apr samba oit unc edu ...      0    10  \n",
       "28     pantheism environment articl apr atho rutger e...      2    15  \n",
       "33     isra expans lust articl spam math adelaid edu ...      1    17  \n",
       "35     goali mask articl netnew upenn edu kkeller mai...      1    17  \n",
       "...                                                  ...    ...   ...  \n",
       "11298  nhl team milwauke read report possibl nhl move...      0    10  \n",
       "11299  turkei cypru bosnia serbia greec armenia azeri...      1    17  \n",
       "11300  arrog christian previou articl phsd vaxc monas...      2    15  \n",
       "11305  hezbollah apr yuma acn colost edu repli long l...      1    17  \n",
       "11313  stolen cbrrr stolen pasadena blue white honda ...      1    17  \n",
       "\n",
       "[2361 rows x 6 columns]"
      ],
      "text/html": "<div>\n<style scoped>\n    .dataframe tbody tr th:only-of-type {\n        vertical-align: middle;\n    }\n\n    .dataframe tbody tr th {\n        vertical-align: top;\n    }\n\n    .dataframe thead th {\n        text-align: right;\n    }\n</style>\n<table border=\"1\" class=\"dataframe\">\n  <thead>\n    <tr style=\"text-align: right;\">\n      <th></th>\n      <th>content</th>\n      <th>target</th>\n      <th>target_names</th>\n      <th>preprocessed</th>\n      <th>label</th>\n      <th>pred</th>\n    </tr>\n  </thead>\n  <tbody>\n    <tr>\n      <th>10</th>\n      <td>From: irwin@cmptrc.lonestar.org (Irwin Arnstei...</td>\n      <td>8</td>\n      <td>rec.motorcycles</td>\n      <td>recommend duc worth ducati gt line ducati gt m...</td>\n      <td>3</td>\n      <td>8</td>\n    </tr>\n    <tr>\n      <th>21</th>\n      <td>From: leunggm@odin.control.utoronto.ca (Gary L...</td>\n      <td>10</td>\n      <td>rec.sport.hockey</td>\n      <td>nhl team captain articl apr samba oit unc edu ...</td>\n      <td>0</td>\n      <td>10</td>\n    </tr>\n    <tr>\n      <th>28</th>\n      <td>From: jonh@david.wheaton.edu (Jonathan Hayward...</td>\n      <td>15</td>\n      <td>soc.religion.christian</td>\n      <td>pantheism environment articl apr atho rutger e...</td>\n      <td>2</td>\n      <td>15</td>\n    </tr>\n    <tr>\n      <th>33</th>\n      <td>From: ayr1@cunixa.cc.columbia.edu (Amir Y Rose...</td>\n      <td>17</td>\n      <td>talk.politics.mideast</td>\n      <td>isra expans lust articl spam math adelaid edu ...</td>\n      <td>1</td>\n      <td>17</td>\n    </tr>\n    <tr>\n      <th>35</th>\n      <td>From: dchhabra@stpl.ists.ca (Deepak Chhabra)\\n...</td>\n      <td>10</td>\n      <td>rec.sport.hockey</td>\n      <td>goali mask articl netnew upenn edu kkeller mai...</td>\n      <td>1</td>\n      <td>17</td>\n    </tr>\n    <tr>\n      <th>...</th>\n      <td>...</td>\n      <td>...</td>\n      <td>...</td>\n      <td>...</td>\n      <td>...</td>\n      <td>...</td>\n    </tr>\n    <tr>\n      <th>11298</th>\n      <td>From: cbetz@radioman.cray.com (Charles Betz  {...</td>\n      <td>10</td>\n      <td>rec.sport.hockey</td>\n      <td>nhl team milwauke read report possibl nhl move...</td>\n      <td>0</td>\n      <td>10</td>\n    </tr>\n    <tr>\n      <th>11299</th>\n      <td>From: 2120788@hydra.maths.unsw.EDU.AU ()\\nSubj...</td>\n      <td>17</td>\n      <td>talk.politics.mideast</td>\n      <td>turkei cypru bosnia serbia greec armenia azeri...</td>\n      <td>1</td>\n      <td>17</td>\n    </tr>\n    <tr>\n      <th>11300</th>\n      <td>From: aa888@freenet.carleton.ca (Mark Baker)\\n...</td>\n      <td>15</td>\n      <td>soc.religion.christian</td>\n      <td>arrog christian previou articl phsd vaxc monas...</td>\n      <td>2</td>\n      <td>15</td>\n    </tr>\n    <tr>\n      <th>11305</th>\n      <td>From: shaig@composer.think.com (Shai Guday)\\nS...</td>\n      <td>17</td>\n      <td>talk.politics.mideast</td>\n      <td>hezbollah apr yuma acn colost edu repli long l...</td>\n      <td>1</td>\n      <td>17</td>\n    </tr>\n    <tr>\n      <th>11313</th>\n      <td>From: gunning@cco.caltech.edu (Kevin J. Gunnin...</td>\n      <td>8</td>\n      <td>rec.motorcycles</td>\n      <td>stolen cbrrr stolen pasadena blue white honda ...</td>\n      <td>1</td>\n      <td>17</td>\n    </tr>\n  </tbody>\n</table>\n<p>2361 rows × 6 columns</p>\n</div>"
     },
     "metadata": {},
     "execution_count": 76
    }
   ],
   "source": [
    "data_filtered"
   ]
  },
  {
   "cell_type": "code",
   "execution_count": 77,
   "metadata": {},
   "outputs": [
    {
     "output_type": "stream",
     "name": "stdout",
     "text": [
      "              precision    recall  f1-score   support\n",
      "\n",
      "           8       0.67      0.87      0.76       464\n",
      "          10       0.71      0.98      0.83       438\n",
      "          15       0.65      0.96      0.78       409\n",
      "          17       0.91      0.49      0.63      1050\n",
      "\n",
      "    accuracy                           0.73      2361\n",
      "   macro avg       0.74      0.82      0.75      2361\n",
      "weighted avg       0.78      0.73      0.72      2361\n",
      "\n",
      "C:\\Anaconda\\envs\\uni\\lib\\site-packages\\ipykernel\\ipkernel.py:287: DeprecationWarning: `should_run_async` will not call `transform_cell` automatically in the future. Please pass the result to `transformed_cell` argument and any exception that happen during thetransform in `preprocessing_exc_tuple` in IPython 7.17 and above.\n",
      "  and should_run_async(code)\n"
     ]
    }
   ],
   "source": [
    "print(classification_report(data_filtered.pred, data_filtered.target))"
   ]
  },
  {
   "source": [
    "# Part C"
   ],
   "cell_type": "markdown",
   "metadata": {}
  },
  {
   "cell_type": "code",
   "execution_count": 79,
   "metadata": {},
   "outputs": [
    {
     "output_type": "stream",
     "name": "stderr",
     "text": [
      "C:\\Anaconda\\envs\\uni\\lib\\site-packages\\ipykernel\\ipkernel.py:287: DeprecationWarning: `should_run_async` will not call `transform_cell` automatically in the future. Please pass the result to `transformed_cell` argument and any exception that happen during thetransform in `preprocessing_exc_tuple` in IPython 7.17 and above.\n  and should_run_async(code)\n"
     ]
    }
   ],
   "source": [
    "from gensim.corpora import Dictionary"
   ]
  },
  {
   "source": [
    "Create a gensim dictionary from the df[‘preprocessed’] (Hint: Remember to split the\n",
    "texts, see Exercise 2.). Call it dictionary. Remove rare and common words from it\n",
    "(no_below=118, no_above=0.95). Derive the absolute frequency matrix using\n",
    "gensim’s doc2bow and store them in the list corpus.\n"
   ],
   "cell_type": "markdown",
   "metadata": {}
  },
  {
   "cell_type": "code",
   "execution_count": 83,
   "metadata": {},
   "outputs": [
    {
     "output_type": "stream",
     "name": "stderr",
     "text": [
      "C:\\Anaconda\\envs\\uni\\lib\\site-packages\\ipykernel\\ipkernel.py:287: DeprecationWarning: `should_run_async` will not call `transform_cell` automatically in the future. Please pass the result to `transformed_cell` argument and any exception that happen during thetransform in `preprocessing_exc_tuple` in IPython 7.17 and above.\n  and should_run_async(code)\nC:\\Anaconda\\envs\\uni\\lib\\site-packages\\ipykernel_launcher.py:1: SettingWithCopyWarning: \nA value is trying to be set on a copy of a slice from a DataFrame.\nTry using .loc[row_indexer,col_indexer] = value instead\n\nSee the caveats in the documentation: https://pandas.pydata.org/pandas-docs/stable/user_guide/indexing.html#returning-a-view-versus-a-copy\n  \"\"\"Entry point for launching an IPython kernel.\n"
     ]
    },
    {
     "output_type": "execute_result",
     "data": {
      "text/plain": [
       "                                              content  target  \\\n",
       "10  From: irwin@cmptrc.lonestar.org (Irwin Arnstei...       8   \n",
       "21  From: leunggm@odin.control.utoronto.ca (Gary L...      10   \n",
       "28  From: jonh@david.wheaton.edu (Jonathan Hayward...      15   \n",
       "33  From: ayr1@cunixa.cc.columbia.edu (Amir Y Rose...      17   \n",
       "35  From: dchhabra@stpl.ists.ca (Deepak Chhabra)\\n...      10   \n",
       "\n",
       "              target_names                                       preprocessed  \\\n",
       "10         rec.motorcycles  recommend duc worth ducati gt line ducati gt m...   \n",
       "21        rec.sport.hockey  nhl team captain articl apr samba oit unc edu ...   \n",
       "28  soc.religion.christian  pantheism environment articl apr atho rutger e...   \n",
       "33   talk.politics.mideast  isra expans lust articl spam math adelaid edu ...   \n",
       "35        rec.sport.hockey  goali mask articl netnew upenn edu kkeller mai...   \n",
       "\n",
       "    label  pred                                              split  \n",
       "10      3     8  [recommend, duc, worth, ducati, gt, line, duca...  \n",
       "21      0    10  [nhl, team, captain, articl, apr, samba, oit, ...  \n",
       "28      2    15  [pantheism, environment, articl, apr, atho, ru...  \n",
       "33      1    17  [isra, expans, lust, articl, spam, math, adela...  \n",
       "35      1    17  [goali, mask, articl, netnew, upenn, edu, kkel...  "
      ],
      "text/html": "<div>\n<style scoped>\n    .dataframe tbody tr th:only-of-type {\n        vertical-align: middle;\n    }\n\n    .dataframe tbody tr th {\n        vertical-align: top;\n    }\n\n    .dataframe thead th {\n        text-align: right;\n    }\n</style>\n<table border=\"1\" class=\"dataframe\">\n  <thead>\n    <tr style=\"text-align: right;\">\n      <th></th>\n      <th>content</th>\n      <th>target</th>\n      <th>target_names</th>\n      <th>preprocessed</th>\n      <th>label</th>\n      <th>pred</th>\n      <th>split</th>\n    </tr>\n  </thead>\n  <tbody>\n    <tr>\n      <th>10</th>\n      <td>From: irwin@cmptrc.lonestar.org (Irwin Arnstei...</td>\n      <td>8</td>\n      <td>rec.motorcycles</td>\n      <td>recommend duc worth ducati gt line ducati gt m...</td>\n      <td>3</td>\n      <td>8</td>\n      <td>[recommend, duc, worth, ducati, gt, line, duca...</td>\n    </tr>\n    <tr>\n      <th>21</th>\n      <td>From: leunggm@odin.control.utoronto.ca (Gary L...</td>\n      <td>10</td>\n      <td>rec.sport.hockey</td>\n      <td>nhl team captain articl apr samba oit unc edu ...</td>\n      <td>0</td>\n      <td>10</td>\n      <td>[nhl, team, captain, articl, apr, samba, oit, ...</td>\n    </tr>\n    <tr>\n      <th>28</th>\n      <td>From: jonh@david.wheaton.edu (Jonathan Hayward...</td>\n      <td>15</td>\n      <td>soc.religion.christian</td>\n      <td>pantheism environment articl apr atho rutger e...</td>\n      <td>2</td>\n      <td>15</td>\n      <td>[pantheism, environment, articl, apr, atho, ru...</td>\n    </tr>\n    <tr>\n      <th>33</th>\n      <td>From: ayr1@cunixa.cc.columbia.edu (Amir Y Rose...</td>\n      <td>17</td>\n      <td>talk.politics.mideast</td>\n      <td>isra expans lust articl spam math adelaid edu ...</td>\n      <td>1</td>\n      <td>17</td>\n      <td>[isra, expans, lust, articl, spam, math, adela...</td>\n    </tr>\n    <tr>\n      <th>35</th>\n      <td>From: dchhabra@stpl.ists.ca (Deepak Chhabra)\\n...</td>\n      <td>10</td>\n      <td>rec.sport.hockey</td>\n      <td>goali mask articl netnew upenn edu kkeller mai...</td>\n      <td>1</td>\n      <td>17</td>\n      <td>[goali, mask, articl, netnew, upenn, edu, kkel...</td>\n    </tr>\n  </tbody>\n</table>\n</div>"
     },
     "metadata": {},
     "execution_count": 83
    }
   ],
   "source": [
    "data_filtered['split'] = data_filtered.preprocessed.str.split()\n",
    "data_filtered.head()"
   ]
  },
  {
   "cell_type": "code",
   "execution_count": 85,
   "metadata": {},
   "outputs": [
    {
     "output_type": "stream",
     "name": "stderr",
     "text": [
      "C:\\Anaconda\\envs\\uni\\lib\\site-packages\\ipykernel\\ipkernel.py:287: DeprecationWarning: `should_run_async` will not call `transform_cell` automatically in the future. Please pass the result to `transformed_cell` argument and any exception that happen during thetransform in `preprocessing_exc_tuple` in IPython 7.17 and above.\n  and should_run_async(code)\n"
     ]
    }
   ],
   "source": [
    "dictionary = Dictionary(data_filtered.split)\n",
    "dictionary.filter_extremes(no_below=118, no_above=0.95)"
   ]
  },
  {
   "cell_type": "code",
   "execution_count": 90,
   "metadata": {},
   "outputs": [
    {
     "output_type": "stream",
     "name": "stdout",
     "text": [
      "{'bike': 0, 'bit': 1, 'dod': 2, 'hard': 3, 'like': 4, 'line': 5, 'opinion': 6, 'org': 7, 'run': 8, 'thank': 9, 'think': 10, 'want': 11, 'apr': 12, 'articl': 13, 'believ': 14, 'claim': 15, 'cours': 16, 'current': 17, 'edu': 18, 'got': 19, 'later': 20, 'mark': 21, 'mike': 22, 'nhl': 23, 'plai': 24, 'real': 25, 'season': 26, 'speak': 27, 'team': 28, 'time': 29, 'wasn': 30, 'write': 31, 'accept': 32, 'atho': 33, 'attack': 34, 'base': 35, 'call': 36, 'care': 37, 'complet': 38, 'cover': 39, 'gener': 40, 'go': 41, 'god': 42, 'group': 43, 'import': 44, 'leav': 45, 'love': 46, 'mayb': 47, 'mean': 48, 'men': 49, 'mind': 50, 'new': 51, 'paul': 52, 'peopl': 53, 'point': 54, 'possibl': 55, 'post': 56, 'read': 57, 'respons': 58, 'rutger': 59, 'save': 60, 'serv': 61, 'show': 62, 'thing': 63, 'truth': 64, 'turn': 65, 'us': 66, 'ye': 67, 'act': 68, 'actual': 69, 'arab': 70, 'begin': 71, 'dai': 72, 'drive': 73, 'end': 74, 'entir': 75, 'fight': 76, 'forc': 77, 'happen': 78, 'isn': 79, 'isra': 80, 'israel': 81, 'jew': 82, 'jewish': 83, 'kill': 84, 'land': 85, 'larg': 86, 'left': 87, 'live': 88, 'matter': 89, 'member': 90, 'peac': 91, 'question': 92, 'rest': 93, 'road': 94, 'said': 95, 'start': 96, 'stop': 97, 'try': 98, 'war': 99, 'week': 100, 'best': 101, 'citi': 102, 'close': 103, 'effect': 104, 'get': 105, 'goe': 106, 'good': 107, 'great': 108, 'heard': 109, 'john': 110, 'look': 111, 'mail': 112, 'mention': 113, 'seen': 114, 'year': 115, 'york': 116, 'hand': 117, 'hope': 118, 'know': 119, 'littl': 120, 'long': 121, 'send': 122, 'sort': 123, 'sure': 124, 'taken': 125, 'work': 126, 'wouldn': 127, 'agre': 128, 'came': 129, 'com': 130, 'differ': 131, 'guess': 132, 'gui': 133, 'have': 134, 'let': 135, 'longer': 136, 'lot': 137, 'need': 138, 'red': 139, 'right': 140, 'state': 141, 'take': 142, 'todai': 143, 'total': 144, 'true': 145, 'went': 146, 'word': 147, 'wrote': 148, 'black': 149, 'caus': 150, 'final': 151, 'help': 152, 'man': 153, 'old': 154, 'saw': 155, 'world': 156, 'answer': 157, 'bibl': 158, 'chang': 159, 'christian': 160, 'clear': 161, 'come': 162, 'decid': 163, 'especi': 164, 'follow': 165, 'law': 166, 'non': 167, 'present': 168, 'provid': 169, 'refer': 170, 'religion': 171, 'situat': 172, 'studi': 173, 'support': 174, 'talk': 175, 'armenia': 176, 'armenian': 177, 'author': 178, 'children': 179, 'church': 180, 'exist': 181, 'face': 182, 'home': 183, 'inform': 184, 'major': 185, 'night': 186, 'order': 187, 'pass': 188, 'place': 189, 'posit': 190, 'power': 191, 'singl': 192, 'soul': 193, 'sourc': 194, 'statement': 195, 'turkish': 196, 'wai': 197, 'game': 198, 'give': 199, 'score': 200, 'thought': 201, 'watch': 202, 'abl': 203, 'american': 204, 'area': 205, 'ask': 206, 'attempt': 207, 'awai': 208, 'carri': 209, 'center': 210, 'christ': 211, 'comment': 212, 'continu': 213, 'control': 214, 'countri': 215, 'dead': 216, 'east': 217, 'event': 218, 'evid': 219, 'expect': 220, 'faith': 221, 'form': 222, 'free': 223, 'friend': 224, 'given': 225, 'govern': 226, 'head': 227, 'histori': 228, 'human': 229, 'includ': 230, 'instead': 231, 'interest': 232, 'issu': 233, 'kind': 234, 'life': 235, 'list': 236, 'local': 237, 'make': 238, 'messag': 239, 'nation': 240, 'net': 241, 'number': 242, 'open': 243, 'polici': 244, 'polit': 245, 'public': 246, 'recent': 247, 'rememb': 248, 'repli': 249, 'return': 250, 'set': 251, 'small': 252, 'subject': 253, 'took': 254, 'tri': 255, 'univers': 256, 'usual': 257, 'view': 258, 'wonder': 259, 'ago': 260, 'result': 261, 'certain': 262, 'consid': 263, 'fact': 264, 'rule': 265, 'motorcycl': 266, 'note': 267, 'big': 268, 'ride': 269, 'accord': 270, 'better': 271, 'case': 272, 'coupl': 273, 'deal': 274, 'far': 275, 'hold': 276, 'origin': 277, 'assum': 278, 'certainli': 279, 'report': 280, 'tell': 281, 'win': 282, 'feel': 283, 'hell': 284, 'jesu': 285, 'reason': 286, 'second': 287, 'david': 288, 'sai': 289, 'book': 290, 'lead': 291, 'high': 292, 'contact': 293, 'discuss': 294, 'experi': 295, 'pick': 296, 'probabl': 297, 'stand': 298, 'sun': 299, 'toronto': 300, 'understand': 301, 'bodi': 302, 'death': 303, 'person': 304, 'wrong': 305, 'sens': 306, 'told': 307, 'exampl': 308, 'lost': 309, 'problem': 310, 'bad': 311, 'fan': 312, 'flame': 313, 'hockei': 314, 'exactli': 315, 'idea': 316, 'learn': 317, 'suggest': 318, 'explain': 319, 'goal': 320, 'action': 321, 'player': 322, 'won': 323, 'simpli': 324, 'concern': 325, 'sound': 326, 'playoff': 327, 'cup': 328, 'research': 329, 'involv': 330, 'pretti': 331, 'wing': 332, 'deni': 333, 'allow': 334, 'leagu': 335}\n",
      "C:\\Anaconda\\envs\\uni\\lib\\site-packages\\ipykernel\\ipkernel.py:287: DeprecationWarning: `should_run_async` will not call `transform_cell` automatically in the future. Please pass the result to `transformed_cell` argument and any exception that happen during thetransform in `preprocessing_exc_tuple` in IPython 7.17 and above.\n",
      "  and should_run_async(code)\n"
     ]
    }
   ],
   "source": [
    "print(dictionary.token2id) # words with their tokens"
   ]
  },
  {
   "cell_type": "code",
   "execution_count": 89,
   "metadata": {
    "tags": [
     "outputPrepend"
    ]
   },
   "outputs": [
    {
     "output_type": "stream",
     "name": "stdout",
     "text": [
      "73, 2), (275, 2), (281, 1), (284, 1), (304, 1)], [(0, 9), (2, 1), (48, 4), (73, 1), (126, 1), (130, 1), (148, 1), (154, 1), (166, 1), (183, 1), (266, 1), (281, 1), (292, 1), (308, 1)], [(15, 1), (18, 1), (29, 4), (31, 1), (34, 1), (99, 1), (119, 1), (124, 1), (157, 1), (165, 1), (177, 3), (192, 1), (242, 1), (287, 1), (303, 1), (307, 1), (310, 2)], [(4, 2), (6, 1), (15, 2), (17, 1), (25, 1), (42, 1), (43, 1), (53, 1), (54, 3), (55, 1), (63, 1), (66, 1), (87, 1), (88, 1), (90, 1), (91, 1), (98, 3), (99, 1), (103, 1), (104, 1), (114, 2), (118, 2), (119, 2), (124, 1), (131, 1), (138, 1), (141, 1), (142, 1), (144, 1), (152, 1), (156, 1), (159, 2), (165, 1), (167, 1), (168, 1), (170, 1), (175, 2), (178, 1), (189, 1), (191, 1), (194, 1), (197, 1), (210, 1), (213, 1), (215, 3), (216, 2), (227, 1), (240, 1), (253, 1), (255, 1), (256, 3), (268, 1), (280, 1), (289, 2), (296, 1), (304, 2), (308, 1), (329, 2)], [(3, 1), (4, 1), (5, 1), (10, 2), (12, 1), (13, 2), (18, 2), (23, 1), (24, 2), (26, 3), (28, 1), (29, 6), (31, 2), (54, 2), (58, 1), (60, 1), (66, 1), (69, 1), (88, 1), (107, 1), (114, 1), (115, 2), (117, 1), (120, 1), (124, 1), (134, 1), (150, 1), (172, 1), (184, 1), (197, 1), (198, 2), (208, 1), (219, 2), (220, 1), (230, 1), (231, 1), (253, 1), (256, 1), (271, 4), (291, 1), (301, 1), (305, 1), (311, 1), (314, 2), (318, 1), (322, 2), (331, 1)], [(13, 1), (17, 1), (18, 3), (22, 1), (31, 1), (42, 1), (61, 1), (74, 1), (112, 1), (118, 1), (135, 2), (140, 1), (335, 1)], [(1, 1), (3, 1), (4, 3), (6, 1), (10, 2), (11, 2), (14, 6), (16, 1), (17, 1), (21, 1), (27, 1), (38, 1), (42, 11), (43, 1), (53, 1), (54, 2), (57, 1), (58, 1), (62, 1), (64, 1), (72, 3), (74, 3), (78, 3), (79, 1), (89, 1), (90, 1), (92, 1), (111, 1), (113, 1), (114, 1), (119, 3), (120, 1), (124, 3), (126, 1), (129, 1), (130, 1), (134, 1), (136, 1), (137, 2), (151, 1), (158, 5), (160, 1), (162, 3), (167, 1), (171, 1), (173, 1), (174, 2), (175, 1), (180, 4), (181, 1), (183, 1), (184, 1), (188, 1), (191, 1), (193, 1), (194, 1), (195, 1), (211, 2), (215, 2), (218, 4), (223, 1), (232, 1), (233, 1), (235, 1), (239, 2), (264, 1), (267, 1), (275, 1), (278, 1), (279, 2), (281, 2), (289, 1), (290, 1), (299, 1), (302, 2), (303, 1), (304, 4), (307, 2), (309, 1), (316, 1), (325, 1)], [(0, 1), (51, 1), (101, 1), (116, 1), (130, 1), (142, 1), (149, 1), (213, 1)], [(12, 1), (13, 1), (17, 1), (18, 2), (31, 1), (33, 1), (36, 1), (42, 3), (59, 1), (109, 1), (124, 1), (130, 1), (194, 1), (203, 1), (275, 1), (284, 3), (316, 1)], [(12, 1), (18, 1), (22, 1), (24, 1), (28, 2), (31, 1), (51, 1), (63, 1), (72, 1), (87, 1), (103, 1), (115, 1), (119, 1), (125, 1), (129, 1), (139, 1), (151, 1), (200, 2), (208, 1), (228, 2), (230, 1), (241, 1), (249, 1), (309, 1), (312, 1), (314, 1), (320, 1), (332, 1)], [(2, 1), (4, 2), (31, 1), (43, 3), (44, 1), (48, 2), (50, 2), (53, 1), (57, 1), (66, 2), (88, 2), (107, 1), (124, 1), (130, 1), (135, 1), (142, 1), (147, 1), (149, 2), (170, 1), (208, 1), (231, 2), (246, 1), (251, 1), (257, 2), (267, 1), (271, 1), (284, 2), (292, 1), (301, 3), (304, 1)], [(3, 1), (4, 1), (6, 1), (8, 1), (12, 1), (16, 1), (18, 5), (21, 1), (31, 1), (33, 1), (35, 2), (40, 1), (42, 1), (53, 2), (55, 1), (59, 1), (63, 1), (69, 1), (73, 1), (78, 1), (79, 1), (88, 1), (101, 1), (105, 1), (110, 2), (115, 1), (119, 2), (121, 2), (131, 1), (134, 1), (136, 4), (141, 2), (159, 1), (165, 1), (167, 1), (168, 1), (175, 1), (180, 1), (192, 2), (197, 1), (205, 1), (206, 1), (212, 1), (213, 1), (218, 1), (231, 1), (232, 1), (234, 1), (238, 2), (246, 1), (247, 1), (248, 1), (252, 1), (253, 1), (272, 1), (283, 1), (285, 1), (292, 1), (297, 1), (298, 1), (310, 1)], [(6, 1), (14, 6), (16, 1), (18, 1), (35, 1), (41, 5), (42, 2), (54, 1), (79, 1), (89, 1), (137, 1), (160, 1), (167, 1), (175, 1), (197, 1), (206, 1), (221, 1), (256, 1), (264, 1), (284, 6), (303, 1)], [(10, 2), (12, 2), (13, 2), (14, 1), (16, 1), (17, 1), (18, 3), (24, 1), (27, 1), (28, 3), (29, 1), (31, 3), (32, 1), (34, 3), (51, 1), (53, 1), (54, 2), (56, 2), (70, 1), (74, 3), (77, 1), (78, 1), (80, 5), (81, 1), (88, 1), (91, 1), (95, 1), (97, 2), (98, 2), (106, 1), (118, 2), (124, 1), (126, 1), (130, 2), (141, 2), (149, 1), (152, 2), (159, 1), (167, 1), (182, 1), (194, 1), (197, 1), (212, 2), (225, 1), (233, 2), (235, 2), (258, 1), (259, 2), (267, 1), (298, 1), (303, 1)], [(4, 2), (9, 1), (10, 1), (11, 1), (14, 1), (16, 1), (18, 1), (21, 1), (25, 1), (29, 2), (31, 2), (35, 1), (36, 1), (42, 2), (50, 1), (53, 3), (57, 1), (60, 1), (63, 1), (65, 1), (72, 1), (74, 1), (82, 1), (83, 1), (94, 1), (95, 1), (100, 1), (107, 1), (113, 1), (119, 1), (124, 1), (126, 1), (130, 1), (135, 1), (137, 1), (141, 4), (145, 1), (148, 1), (151, 2), (160, 1), (162, 3), (163, 1), (165, 1), (171, 1), (172, 2), (187, 1), (194, 1), (195, 2), (218, 1), (224, 1), (248, 1), (261, 1), (266, 1), (267, 3), (272, 1), (288, 1), (290, 1), (295, 1), (303, 1)], [(13, 1), (18, 4), (31, 1), (47, 1), (51, 1), (54, 1), (98, 1), (105, 1), (106, 1), (120, 1), (198, 1), (200, 1), (231, 1), (263, 1), (277, 1), (320, 1)], [(18, 2), (51, 1), (112, 1), (139, 1), (141, 1), (236, 1), (292, 1), (293, 1), (299, 1), (312, 1), (313, 2), (314, 4), (327, 1), (328, 1), (332, 3)], [(12, 1), (13, 1), (18, 4), (19, 1), (31, 1), (62, 2), (129, 1), (163, 1), (198, 3), (231, 1), (286, 1), (293, 1), (300, 1), (314, 2), (327, 1), (328, 1), (332, 1)], [(3, 1), (6, 2), (13, 2), (17, 1), (21, 1), (29, 1), (31, 1), (43, 1), (51, 1), (57, 1), (71, 1), (81, 1), (85, 1), (90, 1), (99, 1), (106, 1), (115, 1), (116, 1), (130, 3), (141, 2), (143, 1), (156, 1), (161, 1), (167, 1), (204, 4), (232, 1), (240, 1), (258, 1), (264, 1), (280, 1)], [(0, 1), (4, 2), (10, 1), (13, 3), (18, 2), (27, 1), (29, 2), (31, 4), (41, 4), (45, 1), (47, 4), (50, 3), (55, 2), (74, 2), (76, 2), (77, 1), (94, 1), (95, 2), (96, 1), (98, 1), (100, 1), (101, 1), (106, 1), (107, 1), (111, 1), (119, 2), (126, 1), (128, 1), (130, 5), (132, 1), (133, 1), (135, 1), (140, 2), (141, 1), (147, 1), (149, 1), (162, 1), (163, 1), (168, 1), (188, 1), (197, 1), (202, 1), (206, 1), (226, 1), (236, 1), (247, 1), (255, 1), (264, 1), (266, 1), (269, 1), (271, 2), (287, 1), (288, 1), (292, 1), (297, 1), (304, 1), (309, 1), (318, 1), (323, 1)], [(2, 1), (3, 1), (4, 1), (10, 1), (12, 1), (13, 1), (29, 1), (31, 1), (42, 1), (74, 1), (98, 1), (119, 1), (120, 1), (130, 1), (147, 1), (165, 1), (167, 1)], [(4, 3), (6, 2), (10, 2), (11, 1), (12, 2), (13, 3), (16, 1), (18, 6), (31, 3), (34, 3), (37, 1), (40, 1), (43, 2), (51, 1), (68, 1), (69, 2), (70, 5), (71, 1), (74, 2), (75, 1), (76, 1), (77, 1), (78, 1), (79, 1), (80, 1), (81, 1), (82, 1), (86, 1), (95, 1), (96, 2), (99, 11), (100, 1), (108, 2), (111, 1), (118, 1), (119, 1), (124, 3), (128, 1), (135, 1), (138, 1), (140, 1), (150, 1), (163, 2), (197, 1), (272, 1), (274, 1), (279, 1), (286, 1), (294, 1), (304, 1), (305, 1), (313, 1), (326, 1)], [(4, 1), (23, 3), (24, 2), (28, 3), (29, 1), (51, 1), (53, 1), (78, 1), (88, 1), (101, 1), (102, 5), (103, 1), (114, 1), (119, 1), (134, 2), (147, 1), (174, 2), (181, 1), (183, 1), (186, 1), (198, 1), (203, 1), (242, 1), (249, 1), (264, 1), (314, 3), (335, 1)], [(9, 1), (10, 6), (12, 1), (18, 1), (31, 1), (53, 2), (57, 1), (59, 1), (64, 1), (77, 1), (88, 1), (96, 1), (119, 1), (122, 1), (135, 1), (156, 2), (196, 2), (197, 1), (218, 1), (256, 1), (263, 1), (264, 1), (281, 1), (283, 1), (286, 1)], [(45, 1), (48, 3), (53, 1), (71, 1), (72, 1), (94, 1), (97, 3), (105, 1), (106, 1), (126, 1), (188, 1), (254, 1), (257, 1), (269, 1), (302, 1)], [(10, 1), (11, 1), (13, 1), (24, 3), (29, 1), (31, 1), (47, 1), (54, 1), (97, 2), (105, 1), (108, 1), (114, 1), (115, 2), (118, 1), (119, 1), (121, 1), (129, 3), (133, 1), (138, 1), (144, 1), (150, 1), (155, 1), (157, 1), (161, 1), (164, 1), (175, 1), (186, 1), (188, 2), (191, 1), (197, 1), (198, 1), (200, 1), (202, 2), (241, 3), (259, 1), (281, 1), (282, 1), (284, 1), (287, 1), (288, 1), (298, 1), (311, 1), (312, 1), (320, 4), (322, 1), (323, 1), (328, 1)], [(2, 1), (4, 2), (13, 1), (16, 1), (29, 1), (30, 1), (31, 1), (41, 1), (47, 1), (53, 1), (62, 1), (72, 1), (78, 1), (79, 1), (94, 2), (95, 1), (99, 1), (107, 1), (119, 1), (130, 3), (145, 1), (156, 1), (186, 1), (188, 1), (216, 1), (217, 1), (268, 1), (269, 1), (274, 1), (299, 1), (313, 1)], [(4, 2), (10, 3), (14, 4), (15, 1), (18, 1), (19, 1), (29, 1), (35, 1), (39, 1), (42, 2), (47, 1), (53, 5), (54, 1), (55, 1), (56, 1), (58, 1), (63, 6), (64, 5), (69, 3), (74, 1), (89, 2), (97, 1), (107, 1), (111, 1), (118, 1), (119, 5), (123, 3), (126, 1), (128, 1), (130, 1), (131, 1), (140, 4), (144, 1), (145, 1), (147, 1), (154, 1), (156, 1), (158, 2), (160, 11), (162, 1), (165, 1), (171, 4), (172, 1), (175, 1), (178, 1), (197, 5), (201, 1), (206, 1), (212, 1), (219, 4), (221, 4), (223, 1), (228, 2), (229, 1), (232, 1), (238, 1), (257, 1), (258, 1), (261, 1), (270, 1), (279, 1), (286, 1), (289, 1), (294, 4), (301, 2), (305, 2), (306, 1), (307, 1), (318, 1), (326, 1), (329, 1)], [(7, 2), (9, 1), (10, 1), (12, 1), (13, 1), (18, 1), (27, 1), (31, 1), (33, 1), (42, 6), (46, 1), (59, 1), (108, 1), (110, 1), (111, 1), (124, 1), (128, 1), (130, 1), (138, 3), (152, 2), (158, 1), (163, 1), (187, 1), (197, 1), (227, 1), (234, 1), (235, 1), (238, 3), (259, 1), (291, 2), (301, 1)], [(2, 1), (4, 1), (18, 2), (105, 1), (119, 1), (121, 1), (138, 1), (201, 1), (206, 1), (209, 1), (223, 1), (269, 1), (277, 1)], [(11, 1), (18, 1), (28, 1), (51, 1), (87, 1), (115, 5), (119, 1), (135, 1), (201, 1), (265, 2), (282, 3), (297, 1), (327, 4)], [(0, 1), (5, 2), (8, 1), (9, 1), (11, 1), (13, 1), (17, 3), (29, 2), (31, 2), (35, 1), (40, 1), (43, 1), (45, 1), (51, 1), (55, 1), (56, 4), (58, 1), (72, 2), (79, 1), (90, 1), (112, 5), (120, 1), (122, 4), (130, 8), (138, 1), (141, 1), (146, 1), (169, 2), (187, 1), (189, 1), (192, 1), (222, 2), (223, 2), (225, 1), (230, 1), (232, 1), (233, 1), (236, 15), (239, 4), (243, 1), (250, 1), (251, 1), (265, 1), (266, 3), (269, 1), (277, 1), (290, 1), (293, 2), (294, 3), (299, 7), (302, 1), (310, 2), (313, 1), (331, 1)], [(1, 1), (10, 1), (12, 1), (13, 2), (14, 5), (15, 6), (18, 2), (21, 2), (31, 1), (33, 1), (40, 1), (41, 1), (42, 7), (45, 1), (51, 1), (53, 3), (55, 1), (57, 2), (59, 1), (63, 3), (64, 1), (66, 5), (68, 1), (82, 1), (87, 1), (89, 2), (95, 1), (101, 2), (104, 1), (106, 1), (107, 5), (119, 2), (124, 3), (128, 2), (131, 1), (140, 1), (145, 1), (151, 1), (152, 2), (153, 2), (160, 8), (161, 1), (162, 3), (163, 1), (165, 1), (167, 2), (169, 2), (181, 3), (184, 1), (189, 1), (194, 2), (206, 1), (219, 21), (220, 1), (221, 10), (229, 1), (234, 1), (256, 2), (272, 1), (275, 1), (281, 1), (283, 3), (286, 17), (289, 5), (291, 1), (295, 7), (301, 1), (304, 1), (306, 7), (319, 8), (323, 1), (324, 1), (333, 1)], [(10, 1), (13, 1), (31, 1), (40, 1), (57, 1), (80, 2), (83, 2), (88, 1), (92, 1), (102, 1), (115, 1), (126, 1), (130, 2), (131, 1), (145, 1), (157, 1), (187, 1), (222, 1), (226, 1), (232, 1), (244, 1), (245, 1), (291, 1), (310, 1), (332, 1)], [(113, 1), (270, 1), (296, 2), (312, 1), (320, 1), (323, 1)], [(4, 1), (6, 1), (8, 1), (10, 2), (12, 2), (15, 7), (16, 1), (20, 1), (24, 4), (28, 2), (29, 1), (30, 1), (31, 1), (38, 3), (39, 1), (41, 1), (42, 2), (48, 2), (53, 1), (56, 4), (57, 2), (58, 2), (61, 1), (63, 1), (67, 1), (69, 1), (74, 1), (89, 1), (93, 1), (95, 1), (96, 1), (101, 2), (104, 1), (107, 4), (119, 1), (124, 4), (125, 1), (132, 1), (133, 1), (135, 1), (138, 1), (140, 1), (141, 1), (147, 2), (156, 1), (163, 1), (165, 2), (168, 1), (170, 1), (174, 1), (175, 2), (189, 1), (197, 1), (198, 2), (202, 1), (206, 1), (211, 1), (212, 1), (222, 1), (238, 1), (239, 1), (241, 1), (248, 1), (263, 1), (264, 1), (268, 1), (271, 1), (272, 1), (274, 1), (281, 1), (282, 1), (283, 2), (285, 1), (288, 3), (292, 1), (294, 1), (298, 1), (305, 3), (308, 1), (309, 1), (314, 8), (316, 1), (318, 2), (322, 6), (328, 1)], [(13, 1), (18, 2), (21, 1), (24, 1), (28, 1), (31, 1), (53, 1), (87, 1), (107, 1), (108, 1), (114, 1), (115, 1), (147, 1), (156, 3), (202, 1), (288, 1), (291, 1), (296, 1), (297, 1), (325, 1), (332, 1)], [(18, 2), (19, 1), (35, 1), (41, 1), (51, 2), (56, 1), (57, 1), (67, 1), (69, 1), (115, 3), (119, 1), (123, 1), (140, 1), (183, 1), (198, 7), (223, 3), (238, 1), (249, 1), (258, 1), (305, 1)], [(6, 1), (10, 2), (18, 1), (28, 2), (31, 1), (43, 2), (51, 1), (53, 1), (92, 1), (98, 1), (115, 1), (119, 1), (121, 1), (137, 1), (140, 1), (156, 1), (162, 1), (223, 1), (232, 1), (238, 1), (256, 1), (268, 1), (295, 1), (314, 4)], [(25, 1), (92, 1), (95, 1), (105, 1), (108, 1), (143, 1), (149, 1), (197, 1), (198, 2), (201, 1), (212, 2), (217, 1), (300, 1), (313, 1)], [(10, 2), (11, 1), (12, 1), (13, 1), (18, 3), (31, 1), (32, 1), (33, 1), (50, 1), (53, 2), (59, 1), (88, 1), (119, 1), (142, 1), (145, 1), (153, 1), (158, 2), (160, 2), (162, 1), (164, 1), (171, 1), (175, 1), (179, 1), (190, 1), (195, 1), (220, 2), (221, 1), (233, 1), (252, 1), (256, 2), (258, 2), (282, 1), (284, 5), (285, 1), (286, 1), (303, 2), (304, 1), (310, 2), (311, 1), (313, 1), (315, 1), (316, 1)], [(13, 1), (18, 2), (31, 2), (33, 1), (36, 1), (42, 3), (46, 2), (48, 1), (52, 2), (53, 2), (54, 2), (55, 1), (57, 1), (59, 1), (75, 1), (82, 1), (88, 3), (107, 1), (122, 1), (130, 1), (134, 1), (160, 1), (165, 1), (209, 1), (232, 1), (256, 1), (270, 1), (316, 1)], [(0, 1), (2, 1), (4, 1), (5, 1), (7, 2), (10, 1), (11, 1), (13, 2), (17, 1), (18, 1), (31, 2), (53, 1), (66, 1), (92, 1), (107, 1), (110, 2), (119, 1), (120, 2), (123, 1), (124, 1), (126, 2), (130, 3), (139, 1), (149, 1), (165, 1), (170, 1), (205, 1), (209, 1), (237, 1), (252, 1), (266, 2), (290, 1), (292, 1), (295, 1), (299, 5), (330, 1)], [(12, 2), (13, 1), (24, 1), (25, 1), (28, 4), (31, 1), (47, 1), (51, 1), (79, 2), (109, 1), (115, 1), (119, 1), (132, 1), (136, 1), (155, 1), (183, 1), (188, 1), (197, 1), (198, 1), (199, 1), (200, 1), (202, 1), (239, 1), (248, 1), (249, 1), (252, 1), (261, 1), (263, 1), (270, 1), (322, 2), (327, 1)], [(10, 1), (18, 1), (29, 1), (31, 2), (42, 1), (72, 1), (78, 2), (80, 1), (82, 1), (83, 1), (96, 1), (111, 1), (115, 1), (117, 2), (130, 1), (135, 1), (139, 1), (197, 1), (226, 1), (233, 1), (260, 1), (263, 2), (276, 1), (298, 1), (330, 1)], [(0, 1), (4, 1), (10, 1), (12, 1), (13, 1), (31, 1), (38, 1), (51, 1), (56, 1), (65, 2), (87, 5), (126, 1), (138, 1), (140, 1), (159, 1), (174, 1), (197, 1), (224, 1), (264, 1), (266, 2), (272, 1), (293, 1), (294, 1), (319, 1)], [(18, 1), (51, 1), (74, 2), (78, 1), (115, 1), (141, 2), (146, 2), (148, 1), (154, 1), (179, 1), (277, 1)], [(11, 1), (18, 1), (31, 1), (53, 3), (57, 1), (63, 2), (84, 1), (86, 1), (92, 4), (95, 1), (96, 1), (107, 1), (124, 1), (138, 1), (157, 1), (165, 2), (172, 1), (173, 1), (178, 6), (187, 2), (203, 1), (206, 1), (232, 1), (242, 1), (261, 1), (281, 2), (286, 1), (290, 1), (301, 1), (307, 4)], [(4, 1), (5, 2), (6, 2), (11, 1), (14, 1), (18, 2), (29, 1), (31, 2), (50, 1), (53, 4), (56, 2), (57, 1), (65, 1), (73, 2), (77, 1), (78, 2), (80, 1), (81, 1), (83, 2), (84, 8), (119, 1), (124, 1), (126, 4), (130, 1), (131, 1), (132, 1), (135, 1), (140, 1), (142, 1), (175, 1), (204, 1), (215, 1), (228, 1), (234, 1), (279, 2), (290, 1), (303, 1)], [(4, 1), (12, 1), (13, 1), (14, 1), (16, 1), (18, 2), (25, 1), (27, 1), (31, 1), (33, 1), (36, 1), (42, 5), (55, 1), (59, 1), (67, 1), (92, 3), (93, 2), (109, 1), (111, 1), (131, 1), (144, 1), (147, 1), (150, 1), (156, 1), (157, 2), (174, 1), (179, 1), (206, 1), (211, 1), (232, 1), (234, 1), (256, 1), (316, 1), (324, 1)], [(4, 1), (6, 2), (12, 1), (13, 3), (14, 2), (18, 2), (20, 1), (31, 1), (37, 1), (38, 2), (47, 1), (51, 2), (53, 5), (55, 3), (57, 1), (78, 1), (79, 1), (80, 1), (81, 6), (89, 1), (92, 1), (103, 1), (106, 1), (111, 1), (113, 1), (115, 2), (116, 1), (119, 3), (121, 1), (130, 1), (132, 1), (134, 1), (135, 1), (141, 3), (145, 1), (147, 1), (156, 1), (162, 2), (174, 2), (181, 1), (187, 1), (189, 2), (197, 3), (204, 1), (207, 1), (208, 1), (212, 1), (215, 1), (219, 1), (223, 1), (224, 1), (233, 1), (236, 1), (238, 1), (245, 1), (246, 5), (253, 1), (255, 1), (264, 4), (272, 2), (280, 2), (281, 1), (286, 1), (289, 1), (304, 1), (309, 1), (318, 1), (319, 1), (330, 1)], [(9, 1), (11, 1), (12, 1), (18, 2), (31, 1), (45, 1), (48, 1), (51, 3), (53, 1), (57, 1), (63, 1), (105, 1), (120, 1), (151, 1), (170, 1), (185, 1), (189, 1), (200, 1), (251, 1), (274, 1), (282, 2), (310, 2), (320, 2), (332, 1)], [(3, 3), (4, 3), (8, 2), (10, 3), (13, 2), (15, 3), (18, 4), (19, 2), (23, 2), (24, 2), (28, 13), (29, 5), (31, 3), (47, 1), (52, 1), (54, 1), (55, 1), (56, 1), (69, 1), (79, 1), (95, 2), (101, 2), (105, 1), (107, 6), (108, 3), (111, 2), (113, 1), (114, 1), (115, 3), (120, 1), (129, 1), (143, 1), (145, 1), (151, 4), (161, 1), (164, 1), (168, 1), (182, 3), (186, 1), (190, 1), (191, 1), (198, 2), (199, 1), (200, 1), (203, 1), (238, 1), (254, 1), (260, 1), (272, 2), (273, 2), (277, 1), (282, 5), (295, 1), (297, 2), (300, 1), (305, 1), (310, 1), (311, 1), (314, 4), (320, 1), (322, 1), (323, 1), (324, 1), (327, 2), (328, 5), (331, 3), (332, 9)], [(4, 1), (5, 7), (10, 1), (13, 1), (24, 1), (31, 1), (47, 1), (48, 1), (63, 1), (96, 1), (98, 1), (111, 1), (130, 2), (131, 1), (137, 1), (141, 1), (197, 1), (256, 1), (257, 2), (299, 2), (300, 2), (312, 1), (318, 1), (322, 1), (332, 3)], [(4, 1), (23, 6), (24, 1), (28, 4), (41, 1), (55, 1), (57, 1), (65, 1), (77, 1), (95, 1), (109, 1), (111, 1), (117, 1), (119, 2), (130, 1), (145, 3), (164, 1), (183, 1), (185, 1), (188, 1), (201, 2), (210, 2), (247, 1), (248, 1), (280, 1), (286, 1), (287, 1), (292, 1), (314, 1), (323, 1), (329, 1), (335, 1)], [(3, 1), (4, 1), (10, 3), (12, 3), (13, 3), (14, 1), (18, 8), (29, 2), (31, 2), (32, 2), (41, 1), (51, 1), (53, 7), (54, 1), (55, 1), (56, 2), (57, 1), (58, 1), (63, 3), (65, 1), (70, 1), (74, 1), (77, 1), (78, 1), (88, 1), (91, 1), (92, 1), (96, 1), (98, 3), (109, 1), (111, 1), (113, 1), (117, 1), (119, 1), (127, 1), (133, 1), (134, 1), (138, 1), (140, 1), (141, 1), (143, 1), (156, 1), (157, 1), (162, 3), (166, 2), (174, 3), (175, 3), (176, 1), (177, 1), (190, 2), (191, 1), (196, 6), (197, 3), (201, 1), (206, 1), (207, 1), (215, 1), (226, 2), (228, 2), (233, 2), (234, 2), (238, 2), (240, 2), (244, 2), (245, 2), (248, 2), (271, 1), (273, 1), (281, 1), (289, 1), (290, 2), (294, 1), (304, 5), (307, 1), (308, 1), (311, 5), (317, 3), (321, 2)], [(4, 1), (11, 1), (12, 1), (13, 2), (14, 5), (15, 4), (16, 1), (18, 2), (21, 2), (31, 1), (33, 1), (40, 1), (42, 10), (51, 1), (53, 1), (55, 1), (57, 1), (59, 1), (63, 2), (66, 5), (68, 2), (92, 1), (95, 1), (98, 1), (101, 1), (107, 2), (119, 2), (124, 1), (126, 1), (131, 1), (140, 1), (152, 2), (153, 1), (160, 7), (161, 1), (162, 3), (163, 1), (167, 1), (169, 4), (181, 5), (194, 1), (206, 3), (219, 19), (221, 7), (229, 1), (234, 1), (238, 1), (256, 1), (272, 1), (281, 1), (286, 17), (289, 1), (301, 1), (306, 12), (319, 4), (323, 1), (324, 1), (333, 3)], [(4, 1), (10, 2), (12, 3), (13, 1), (18, 4), (24, 2), (25, 1), (29, 3), (31, 1), (32, 1), (34, 2), (41, 1), (43, 1), (49, 3), (53, 1), (61, 1), (64, 1), (68, 2), (69, 1), (77, 2), (78, 1), (80, 5), (81, 8), (84, 3), (86, 1), (89, 1), (90, 1), (95, 1), (97, 1), (102, 1), (103, 1), (115, 2), (117, 1), (119, 1), (120, 1), (121, 2), (128, 3), (134, 1), (135, 1), (136, 1), (150, 1), (154, 1), (161, 1), (162, 2), (172, 1), (174, 1), (185, 1), (189, 1), (197, 1), (203, 1), (205, 2), (213, 1), (214, 1), (226, 1), (233, 1), (239, 1), (242, 1), (244, 1), (249, 1), (251, 1), (252, 1), (257, 1), (258, 1), (261, 1), (264, 1), (272, 1), (274, 1), (275, 2), (303, 5), (332, 1), (334, 1)], [(65, 1), (132, 1), (152, 1), (242, 2)]]\n",
      "C:\\Anaconda\\envs\\uni\\lib\\site-packages\\ipykernel\\ipkernel.py:287: DeprecationWarning: `should_run_async` will not call `transform_cell` automatically in the future. Please pass the result to `transformed_cell` argument and any exception that happen during thetransform in `preprocessing_exc_tuple` in IPython 7.17 and above.\n",
      "  and should_run_async(code)\n"
     ]
    }
   ],
   "source": [
    "corpus = [dictionary.doc2bow(doc) for doc in data_filtered['split']]\n",
    "print(corpus)"
   ]
  },
  {
   "source": [
    "In natural language processing, the Latent Dirichlet Allocation (LDA) is a generative statistical model that allows sets of observations to be explained by unobserved groups that explain why some parts of the data are similar. For example, if observations are words collected into documents, it posits that each document is a mixture of a small number of topics and that each word's presence is attributable to one of the document's topics. LDA is an example of a topic model and belongs to the machine learning toolbox and in wider sense to the artificial intelligence toolbox. \n",
    "\n",
    "train the model on corpus, Latent Dirichlet allocation\n",
    "\n",
    "chunksize (int, optional) – Number of documents to be used in each training chunk.\n",
    "\n",
    "id2word ({dict of (int, str), gensim.corpora.dictionary.Dictionary}) – Mapping from word IDs to words. It is used to determine the vocabulary size, as well as for debugging and topic printing.\n",
    "\n",
    "num_topics (int, optional) – The number of requested latent topics to be extracted from the training corpus.\n",
    "\n",
    "iterations (int, optional) – Maximum number of iterations through the corpus when inferring the topic distribution of a corpus.\n",
    "\n",
    "passes (int, optional) – Number of passes through the corpus during training.\n"
   ],
   "cell_type": "markdown",
   "metadata": {}
  },
  {
   "cell_type": "code",
   "execution_count": 91,
   "metadata": {},
   "outputs": [
    {
     "output_type": "stream",
     "name": "stderr",
     "text": [
      "C:\\Anaconda\\envs\\uni\\lib\\site-packages\\ipykernel\\ipkernel.py:287: DeprecationWarning: `should_run_async` will not call `transform_cell` automatically in the future. Please pass the result to `transformed_cell` argument and any exception that happen during thetransform in `preprocessing_exc_tuple` in IPython 7.17 and above.\n  and should_run_async(code)\n"
     ]
    }
   ],
   "source": [
    "#train the model on corpus, Latent Dirichlet allocation\n",
    "# chunksize (int, optional) – Number of documents to be used in each training chunk.\n",
    "# id2word ({dict of (int, str), gensim.corpora.dictionary.Dictionary}) – Mapping from word IDs to words. It is used to determine the vocabulary size, as well as for debugging and topic printing.\n",
    "#num_topics (int, optional) – The number of requested latent topics to be extracted from the training corpus.\n",
    "#iterations (int, optional) – Maximum number of iterations through the corpus when inferring the topic distribution of a corpus.\n",
    "#passes (int, optional) – Number of passes through the corpus during training.\n",
    "lda = models.LdaModel(corpus, num_topics=4, id2word=dictionary, chunksize=10, iterations=100, passes=10)"
   ]
  },
  {
   "cell_type": "code",
   "execution_count": 92,
   "metadata": {},
   "outputs": [
    {
     "output_type": "stream",
     "name": "stderr",
     "text": [
      "C:\\Anaconda\\envs\\uni\\lib\\site-packages\\ipykernel\\ipkernel.py:287: DeprecationWarning: `should_run_async` will not call `transform_cell` automatically in the future. Please pass the result to `transformed_cell` argument and any exception that happen during thetransform in `preprocessing_exc_tuple` in IPython 7.17 and above.\n  and should_run_async(code)\n"
     ]
    },
    {
     "output_type": "execute_result",
     "data": {
      "text/plain": [
       "[(0,\n",
       "  '0.047*\"israel\" + 0.035*\"isra\" + 0.029*\"state\" + 0.027*\"jew\" + 0.023*\"peopl\" + 0.022*\"kill\" + 0.021*\"arab\" + 0.019*\"war\" + 0.019*\"wai\" + 0.018*\"attack\"'),\n",
       " (1,\n",
       "  '0.079*\"team\" + 0.057*\"game\" + 0.054*\"hockei\" + 0.040*\"plai\" + 0.033*\"armenian\" + 0.032*\"year\" + 0.031*\"win\" + 0.031*\"wing\" + 0.031*\"turkish\" + 0.028*\"nhl\"'),\n",
       " (2,\n",
       "  '0.040*\"edu\" + 0.033*\"write\" + 0.025*\"articl\" + 0.023*\"like\" + 0.022*\"know\" + 0.021*\"peopl\" + 0.021*\"com\" + 0.019*\"think\" + 0.017*\"time\" + 0.015*\"apr\"'),\n",
       " (3,\n",
       "  '0.099*\"god\" + 0.052*\"christian\" + 0.044*\"believ\" + 0.031*\"jesu\" + 0.030*\"evid\" + 0.028*\"reason\" + 0.025*\"faith\" + 0.023*\"church\" + 0.022*\"christ\" + 0.020*\"claim\"')]"
      ]
     },
     "metadata": {},
     "execution_count": 92
    }
   ],
   "source": [
    " lda.show_topics()"
   ]
  },
  {
   "cell_type": "code",
   "execution_count": 93,
   "metadata": {},
   "outputs": [
    {
     "output_type": "stream",
     "name": "stderr",
     "text": [
      "C:\\Anaconda\\envs\\uni\\lib\\site-packages\\ipykernel\\ipkernel.py:287: DeprecationWarning: `should_run_async` will not call `transform_cell` automatically in the future. Please pass the result to `transformed_cell` argument and any exception that happen during thetransform in `preprocessing_exc_tuple` in IPython 7.17 and above.\n",
      "  and should_run_async(code)\n",
      "C:\\Anaconda\\envs\\uni\\lib\\site-packages\\ipykernel_launcher.py:2: SettingWithCopyWarning: \n",
      "A value is trying to be set on a copy of a slice from a DataFrame.\n",
      "Try using .loc[row_indexer,col_indexer] = value instead\n",
      "\n",
      "See the caveats in the documentation: https://pandas.pydata.org/pandas-docs/stable/user_guide/indexing.html#returning-a-view-versus-a-copy\n",
      "  \n"
     ]
    }
   ],
   "source": [
    "topics=lda[corpus]  # get topic probability distribution for a document\n",
    "data_filtered['topics_lda']= [max(topics[i])[0] for i in range(len(topics))]"
   ]
  },
  {
   "cell_type": "code",
   "execution_count": 112,
   "metadata": {},
   "outputs": [
    {
     "output_type": "stream",
     "name": "stderr",
     "text": [
      "C:\\Anaconda\\envs\\uni\\lib\\site-packages\\ipykernel\\ipkernel.py:287: DeprecationWarning: `should_run_async` will not call `transform_cell` automatically in the future. Please pass the result to `transformed_cell` argument and any exception that happen during thetransform in `preprocessing_exc_tuple` in IPython 7.17 and above.\n  and should_run_async(code)\n"
     ]
    },
    {
     "output_type": "execute_result",
     "data": {
      "text/plain": [
       "[(0, 0.017879076), (1, 0.017972423), (2, 0.94623464), (3, 0.017913861)]"
      ]
     },
     "metadata": {},
     "execution_count": 112
    }
   ],
   "source": [
    "topics[0]"
   ]
  },
  {
   "cell_type": "code",
   "execution_count": 104,
   "metadata": {},
   "outputs": [
    {
     "output_type": "stream",
     "name": "stderr",
     "text": [
      "C:\\Anaconda\\envs\\uni\\lib\\site-packages\\ipykernel\\ipkernel.py:287: DeprecationWarning: `should_run_async` will not call `transform_cell` automatically in the future. Please pass the result to `transformed_cell` argument and any exception that happen during thetransform in `preprocessing_exc_tuple` in IPython 7.17 and above.\n  and should_run_async(code)\n"
     ]
    },
    {
     "output_type": "execute_result",
     "data": {
      "text/plain": [
       "2"
      ]
     },
     "metadata": {},
     "execution_count": 104
    }
   ],
   "source": [
    "from operator import itemgetter\n",
    "max(topics[0], key=itemgetter(1))[0]"
   ]
  },
  {
   "cell_type": "code",
   "execution_count": 105,
   "metadata": {},
   "outputs": [
    {
     "output_type": "stream",
     "name": "stderr",
     "text": [
      "C:\\Anaconda\\envs\\uni\\lib\\site-packages\\ipykernel\\ipkernel.py:287: DeprecationWarning: `should_run_async` will not call `transform_cell` automatically in the future. Please pass the result to `transformed_cell` argument and any exception that happen during thetransform in `preprocessing_exc_tuple` in IPython 7.17 and above.\n",
      "  and should_run_async(code)\n",
      "C:\\Anaconda\\envs\\uni\\lib\\site-packages\\ipykernel_launcher.py:1: SettingWithCopyWarning: \n",
      "A value is trying to be set on a copy of a slice from a DataFrame.\n",
      "Try using .loc[row_indexer,col_indexer] = value instead\n",
      "\n",
      "See the caveats in the documentation: https://pandas.pydata.org/pandas-docs/stable/user_guide/indexing.html#returning-a-view-versus-a-copy\n",
      "  \"\"\"Entry point for launching an IPython kernel.\n"
     ]
    }
   ],
   "source": [
    "data_filtered['topics_lda2']= [max(topics[i], key=itemgetter(1))[0] for i in range(len(topics))]"
   ]
  },
  {
   "cell_type": "code",
   "execution_count": 98,
   "metadata": {},
   "outputs": [
    {
     "output_type": "stream",
     "name": "stderr",
     "text": [
      "C:\\Anaconda\\envs\\uni\\lib\\site-packages\\ipykernel\\ipkernel.py:287: DeprecationWarning: `should_run_async` will not call `transform_cell` automatically in the future. Please pass the result to `transformed_cell` argument and any exception that happen during thetransform in `preprocessing_exc_tuple` in IPython 7.17 and above.\n  and should_run_async(code)\n"
     ]
    },
    {
     "output_type": "execute_result",
     "data": {
      "text/plain": [
       "3    1624\n",
       "2     725\n",
       "1      12\n",
       "Name: topics_lda, dtype: int64"
      ]
     },
     "metadata": {},
     "execution_count": 98
    }
   ],
   "source": [
    "data_filtered.topics_lda.value_counts()"
   ]
  },
  {
   "cell_type": "code",
   "execution_count": 106,
   "metadata": {},
   "outputs": [
    {
     "output_type": "stream",
     "name": "stderr",
     "text": [
      "C:\\Anaconda\\envs\\uni\\lib\\site-packages\\ipykernel\\ipkernel.py:287: DeprecationWarning: `should_run_async` will not call `transform_cell` automatically in the future. Please pass the result to `transformed_cell` argument and any exception that happen during thetransform in `preprocessing_exc_tuple` in IPython 7.17 and above.\n  and should_run_async(code)\n"
     ]
    },
    {
     "output_type": "execute_result",
     "data": {
      "text/plain": [
       "2    1554\n",
       "1     294\n",
       "0     292\n",
       "3     221\n",
       "Name: topics_lda2, dtype: int64"
      ]
     },
     "metadata": {},
     "execution_count": 106
    }
   ],
   "source": [
    "data_filtered.topics_lda2.value_counts()"
   ]
  },
  {
   "cell_type": "code",
   "execution_count": 96,
   "metadata": {},
   "outputs": [
    {
     "output_type": "stream",
     "name": "stderr",
     "text": [
      "C:\\Anaconda\\envs\\uni\\lib\\site-packages\\ipykernel\\ipkernel.py:287: DeprecationWarning: `should_run_async` will not call `transform_cell` automatically in the future. Please pass the result to `transformed_cell` argument and any exception that happen during thetransform in `preprocessing_exc_tuple` in IPython 7.17 and above.\n  and should_run_async(code)\n"
     ]
    },
    {
     "output_type": "display_data",
     "data": {
      "text/plain": "<Figure size 936x576 with 2 Axes>",
      "image/svg+xml": "<?xml version=\"1.0\" encoding=\"utf-8\" standalone=\"no\"?>\r\n<!DOCTYPE svg PUBLIC \"-//W3C//DTD SVG 1.1//EN\"\r\n  \"http://www.w3.org/Graphics/SVG/1.1/DTD/svg11.dtd\">\r\n<svg height=\"487.37875pt\" version=\"1.1\" viewBox=\"0 0 717.420875 487.37875\" width=\"717.420875pt\" xmlns=\"http://www.w3.org/2000/svg\" xmlns:xlink=\"http://www.w3.org/1999/xlink\">\r\n <metadata>\r\n  <rdf:RDF xmlns:cc=\"http://creativecommons.org/ns#\" xmlns:dc=\"http://purl.org/dc/elements/1.1/\" xmlns:rdf=\"http://www.w3.org/1999/02/22-rdf-syntax-ns#\">\r\n   <cc:Work>\r\n    <dc:type rdf:resource=\"http://purl.org/dc/dcmitype/StillImage\"/>\r\n    <dc:date>2021-05-26T18:44:32.716647</dc:date>\r\n    <dc:format>image/svg+xml</dc:format>\r\n    <dc:creator>\r\n     <cc:Agent>\r\n      <dc:title>Matplotlib v3.4.1, https://matplotlib.org/</dc:title>\r\n     </cc:Agent>\r\n    </dc:creator>\r\n   </cc:Work>\r\n  </rdf:RDF>\r\n </metadata>\r\n <defs>\r\n  <style type=\"text/css\">*{stroke-linecap:butt;stroke-linejoin:round;}</style>\r\n </defs>\r\n <g id=\"figure_1\">\r\n  <g id=\"patch_1\">\r\n   <path d=\"M 0 487.37875 \r\nL 717.420875 487.37875 \r\nL 717.420875 0 \r\nL 0 0 \r\nz\r\n\" style=\"fill:none;\"/>\r\n  </g>\r\n  <g id=\"axes_1\">\r\n   <g id=\"patch_2\">\r\n    <path d=\"M 45.799375 442.08 \r\nL 626.119375 442.08 \r\nL 626.119375 7.2 \r\nL 45.799375 7.2 \r\nz\r\n\" style=\"fill:#ffffff;\"/>\r\n   </g>\r\n   <g id=\"QuadMesh_1\">\r\n    <path clip-path=\"url(#pf466dc2ab4)\" d=\"M 45.799375 7.2 \r\nL 190.879375 7.2 \r\nL 190.879375 152.16 \r\nL 45.799375 152.16 \r\nL 45.799375 7.2 \r\n\" style=\"fill:none;\"/>\r\n    <path clip-path=\"url(#pf466dc2ab4)\" d=\"M 190.879375 7.2 \r\nL 335.959375 7.2 \r\nL 335.959375 152.16 \r\nL 190.879375 152.16 \r\nL 190.879375 7.2 \r\n\" style=\"fill:#fff2ec;\"/>\r\n    <path clip-path=\"url(#pf466dc2ab4)\" d=\"M 335.959375 7.2 \r\nL 481.039375 7.2 \r\nL 481.039375 152.16 \r\nL 335.959375 152.16 \r\nL 335.959375 7.2 \r\n\" style=\"fill:none;\"/>\r\n    <path clip-path=\"url(#pf466dc2ab4)\" d=\"M 481.039375 7.2 \r\nL 626.119375 7.2 \r\nL 626.119375 152.16 \r\nL 481.039375 152.16 \r\nL 481.039375 7.2 \r\n\" style=\"fill:#fff5f0;\"/>\r\n    <path clip-path=\"url(#pf466dc2ab4)\" d=\"M 45.799375 152.16 \r\nL 190.879375 152.16 \r\nL 190.879375 297.12 \r\nL 45.799375 297.12 \r\nL 45.799375 152.16 \r\n\" style=\"fill:#fca082;\"/>\r\n    <path clip-path=\"url(#pf466dc2ab4)\" d=\"M 190.879375 152.16 \r\nL 335.959375 152.16 \r\nL 335.959375 297.12 \r\nL 190.879375 297.12 \r\nL 190.879375 152.16 \r\n\" style=\"fill:#fc8b6b;\"/>\r\n    <path clip-path=\"url(#pf466dc2ab4)\" d=\"M 335.959375 152.16 \r\nL 481.039375 152.16 \r\nL 481.039375 297.12 \r\nL 335.959375 297.12 \r\nL 335.959375 152.16 \r\n\" style=\"fill:#fff5f0;\"/>\r\n    <path clip-path=\"url(#pf466dc2ab4)\" d=\"M 481.039375 152.16 \r\nL 626.119375 152.16 \r\nL 626.119375 297.12 \r\nL 481.039375 297.12 \r\nL 481.039375 152.16 \r\n\" style=\"fill:#fb7050;\"/>\r\n    <path clip-path=\"url(#pf466dc2ab4)\" d=\"M 45.799375 297.12 \r\nL 190.879375 297.12 \r\nL 190.879375 442.08 \r\nL 45.799375 442.08 \r\nL 45.799375 297.12 \r\n\" style=\"fill:#e22e27;\"/>\r\n    <path clip-path=\"url(#pf466dc2ab4)\" d=\"M 190.879375 297.12 \r\nL 335.959375 297.12 \r\nL 335.959375 442.08 \r\nL 190.879375 442.08 \r\nL 190.879375 297.12 \r\n\" style=\"fill:#f24734;\"/>\r\n    <path clip-path=\"url(#pf466dc2ab4)\" d=\"M 335.959375 297.12 \r\nL 481.039375 297.12 \r\nL 481.039375 442.08 \r\nL 335.959375 442.08 \r\nL 335.959375 297.12 \r\n\" style=\"fill:#67000d;\"/>\r\n    <path clip-path=\"url(#pf466dc2ab4)\" d=\"M 481.039375 297.12 \r\nL 626.119375 297.12 \r\nL 626.119375 442.08 \r\nL 481.039375 442.08 \r\nL 481.039375 297.12 \r\n\" style=\"fill:#fb7656;\"/>\r\n   </g>\r\n   <g id=\"matplotlib.axis_1\">\r\n    <g id=\"xtick_1\">\r\n     <g id=\"line2d_1\">\r\n      <defs>\r\n       <path d=\"M 0 0 \r\nL 0 3.5 \r\n\" id=\"mdbf566a99b\" style=\"stroke:#000000;stroke-width:0.8;\"/>\r\n      </defs>\r\n      <g>\r\n       <use style=\"stroke:#000000;stroke-width:0.8;\" x=\"118.339375\" xlink:href=\"#mdbf566a99b\" y=\"442.08\"/>\r\n      </g>\r\n     </g>\r\n     <g id=\"text_1\">\r\n      <!-- rec.motorcycles -->\r\n      <g transform=\"translate(78.56125 456.678437)scale(0.1 -0.1)\">\r\n       <defs>\r\n        <path d=\"M 2631 2963 \r\nQ 2534 3019 2420 3045 \r\nQ 2306 3072 2169 3072 \r\nQ 1681 3072 1420 2755 \r\nQ 1159 2438 1159 1844 \r\nL 1159 0 \r\nL 581 0 \r\nL 581 3500 \r\nL 1159 3500 \r\nL 1159 2956 \r\nQ 1341 3275 1631 3429 \r\nQ 1922 3584 2338 3584 \r\nQ 2397 3584 2469 3576 \r\nQ 2541 3569 2628 3553 \r\nL 2631 2963 \r\nz\r\n\" id=\"DejaVuSans-72\" transform=\"scale(0.015625)\"/>\r\n        <path d=\"M 3597 1894 \r\nL 3597 1613 \r\nL 953 1613 \r\nQ 991 1019 1311 708 \r\nQ 1631 397 2203 397 \r\nQ 2534 397 2845 478 \r\nQ 3156 559 3463 722 \r\nL 3463 178 \r\nQ 3153 47 2828 -22 \r\nQ 2503 -91 2169 -91 \r\nQ 1331 -91 842 396 \r\nQ 353 884 353 1716 \r\nQ 353 2575 817 3079 \r\nQ 1281 3584 2069 3584 \r\nQ 2775 3584 3186 3129 \r\nQ 3597 2675 3597 1894 \r\nz\r\nM 3022 2063 \r\nQ 3016 2534 2758 2815 \r\nQ 2500 3097 2075 3097 \r\nQ 1594 3097 1305 2825 \r\nQ 1016 2553 972 2059 \r\nL 3022 2063 \r\nz\r\n\" id=\"DejaVuSans-65\" transform=\"scale(0.015625)\"/>\r\n        <path d=\"M 3122 3366 \r\nL 3122 2828 \r\nQ 2878 2963 2633 3030 \r\nQ 2388 3097 2138 3097 \r\nQ 1578 3097 1268 2742 \r\nQ 959 2388 959 1747 \r\nQ 959 1106 1268 751 \r\nQ 1578 397 2138 397 \r\nQ 2388 397 2633 464 \r\nQ 2878 531 3122 666 \r\nL 3122 134 \r\nQ 2881 22 2623 -34 \r\nQ 2366 -91 2075 -91 \r\nQ 1284 -91 818 406 \r\nQ 353 903 353 1747 \r\nQ 353 2603 823 3093 \r\nQ 1294 3584 2113 3584 \r\nQ 2378 3584 2631 3529 \r\nQ 2884 3475 3122 3366 \r\nz\r\n\" id=\"DejaVuSans-63\" transform=\"scale(0.015625)\"/>\r\n        <path d=\"M 684 794 \r\nL 1344 794 \r\nL 1344 0 \r\nL 684 0 \r\nL 684 794 \r\nz\r\n\" id=\"DejaVuSans-2e\" transform=\"scale(0.015625)\"/>\r\n        <path d=\"M 3328 2828 \r\nQ 3544 3216 3844 3400 \r\nQ 4144 3584 4550 3584 \r\nQ 5097 3584 5394 3201 \r\nQ 5691 2819 5691 2113 \r\nL 5691 0 \r\nL 5113 0 \r\nL 5113 2094 \r\nQ 5113 2597 4934 2840 \r\nQ 4756 3084 4391 3084 \r\nQ 3944 3084 3684 2787 \r\nQ 3425 2491 3425 1978 \r\nL 3425 0 \r\nL 2847 0 \r\nL 2847 2094 \r\nQ 2847 2600 2669 2842 \r\nQ 2491 3084 2119 3084 \r\nQ 1678 3084 1418 2786 \r\nQ 1159 2488 1159 1978 \r\nL 1159 0 \r\nL 581 0 \r\nL 581 3500 \r\nL 1159 3500 \r\nL 1159 2956 \r\nQ 1356 3278 1631 3431 \r\nQ 1906 3584 2284 3584 \r\nQ 2666 3584 2933 3390 \r\nQ 3200 3197 3328 2828 \r\nz\r\n\" id=\"DejaVuSans-6d\" transform=\"scale(0.015625)\"/>\r\n        <path d=\"M 1959 3097 \r\nQ 1497 3097 1228 2736 \r\nQ 959 2375 959 1747 \r\nQ 959 1119 1226 758 \r\nQ 1494 397 1959 397 \r\nQ 2419 397 2687 759 \r\nQ 2956 1122 2956 1747 \r\nQ 2956 2369 2687 2733 \r\nQ 2419 3097 1959 3097 \r\nz\r\nM 1959 3584 \r\nQ 2709 3584 3137 3096 \r\nQ 3566 2609 3566 1747 \r\nQ 3566 888 3137 398 \r\nQ 2709 -91 1959 -91 \r\nQ 1206 -91 779 398 \r\nQ 353 888 353 1747 \r\nQ 353 2609 779 3096 \r\nQ 1206 3584 1959 3584 \r\nz\r\n\" id=\"DejaVuSans-6f\" transform=\"scale(0.015625)\"/>\r\n        <path d=\"M 1172 4494 \r\nL 1172 3500 \r\nL 2356 3500 \r\nL 2356 3053 \r\nL 1172 3053 \r\nL 1172 1153 \r\nQ 1172 725 1289 603 \r\nQ 1406 481 1766 481 \r\nL 2356 481 \r\nL 2356 0 \r\nL 1766 0 \r\nQ 1100 0 847 248 \r\nQ 594 497 594 1153 \r\nL 594 3053 \r\nL 172 3053 \r\nL 172 3500 \r\nL 594 3500 \r\nL 594 4494 \r\nL 1172 4494 \r\nz\r\n\" id=\"DejaVuSans-74\" transform=\"scale(0.015625)\"/>\r\n        <path d=\"M 2059 -325 \r\nQ 1816 -950 1584 -1140 \r\nQ 1353 -1331 966 -1331 \r\nL 506 -1331 \r\nL 506 -850 \r\nL 844 -850 \r\nQ 1081 -850 1212 -737 \r\nQ 1344 -625 1503 -206 \r\nL 1606 56 \r\nL 191 3500 \r\nL 800 3500 \r\nL 1894 763 \r\nL 2988 3500 \r\nL 3597 3500 \r\nL 2059 -325 \r\nz\r\n\" id=\"DejaVuSans-79\" transform=\"scale(0.015625)\"/>\r\n        <path d=\"M 603 4863 \r\nL 1178 4863 \r\nL 1178 0 \r\nL 603 0 \r\nL 603 4863 \r\nz\r\n\" id=\"DejaVuSans-6c\" transform=\"scale(0.015625)\"/>\r\n        <path d=\"M 2834 3397 \r\nL 2834 2853 \r\nQ 2591 2978 2328 3040 \r\nQ 2066 3103 1784 3103 \r\nQ 1356 3103 1142 2972 \r\nQ 928 2841 928 2578 \r\nQ 928 2378 1081 2264 \r\nQ 1234 2150 1697 2047 \r\nL 1894 2003 \r\nQ 2506 1872 2764 1633 \r\nQ 3022 1394 3022 966 \r\nQ 3022 478 2636 193 \r\nQ 2250 -91 1575 -91 \r\nQ 1294 -91 989 -36 \r\nQ 684 19 347 128 \r\nL 347 722 \r\nQ 666 556 975 473 \r\nQ 1284 391 1588 391 \r\nQ 1994 391 2212 530 \r\nQ 2431 669 2431 922 \r\nQ 2431 1156 2273 1281 \r\nQ 2116 1406 1581 1522 \r\nL 1381 1569 \r\nQ 847 1681 609 1914 \r\nQ 372 2147 372 2553 \r\nQ 372 3047 722 3315 \r\nQ 1072 3584 1716 3584 \r\nQ 2034 3584 2315 3537 \r\nQ 2597 3491 2834 3397 \r\nz\r\n\" id=\"DejaVuSans-73\" transform=\"scale(0.015625)\"/>\r\n       </defs>\r\n       <use xlink:href=\"#DejaVuSans-72\"/>\r\n       <use x=\"38.863281\" xlink:href=\"#DejaVuSans-65\"/>\r\n       <use x=\"100.386719\" xlink:href=\"#DejaVuSans-63\"/>\r\n       <use x=\"155.367188\" xlink:href=\"#DejaVuSans-2e\"/>\r\n       <use x=\"187.154297\" xlink:href=\"#DejaVuSans-6d\"/>\r\n       <use x=\"284.566406\" xlink:href=\"#DejaVuSans-6f\"/>\r\n       <use x=\"345.748047\" xlink:href=\"#DejaVuSans-74\"/>\r\n       <use x=\"384.957031\" xlink:href=\"#DejaVuSans-6f\"/>\r\n       <use x=\"446.138672\" xlink:href=\"#DejaVuSans-72\"/>\r\n       <use x=\"485.001953\" xlink:href=\"#DejaVuSans-63\"/>\r\n       <use x=\"539.982422\" xlink:href=\"#DejaVuSans-79\"/>\r\n       <use x=\"599.162109\" xlink:href=\"#DejaVuSans-63\"/>\r\n       <use x=\"654.142578\" xlink:href=\"#DejaVuSans-6c\"/>\r\n       <use x=\"681.925781\" xlink:href=\"#DejaVuSans-65\"/>\r\n       <use x=\"743.449219\" xlink:href=\"#DejaVuSans-73\"/>\r\n      </g>\r\n     </g>\r\n    </g>\r\n    <g id=\"xtick_2\">\r\n     <g id=\"line2d_2\">\r\n      <g>\r\n       <use style=\"stroke:#000000;stroke-width:0.8;\" x=\"263.419375\" xlink:href=\"#mdbf566a99b\" y=\"442.08\"/>\r\n      </g>\r\n     </g>\r\n     <g id=\"text_2\">\r\n      <!-- rec.sport.hockey -->\r\n      <g transform=\"translate(221.89125 456.678437)scale(0.1 -0.1)\">\r\n       <defs>\r\n        <path d=\"M 1159 525 \r\nL 1159 -1331 \r\nL 581 -1331 \r\nL 581 3500 \r\nL 1159 3500 \r\nL 1159 2969 \r\nQ 1341 3281 1617 3432 \r\nQ 1894 3584 2278 3584 \r\nQ 2916 3584 3314 3078 \r\nQ 3713 2572 3713 1747 \r\nQ 3713 922 3314 415 \r\nQ 2916 -91 2278 -91 \r\nQ 1894 -91 1617 61 \r\nQ 1341 213 1159 525 \r\nz\r\nM 3116 1747 \r\nQ 3116 2381 2855 2742 \r\nQ 2594 3103 2138 3103 \r\nQ 1681 3103 1420 2742 \r\nQ 1159 2381 1159 1747 \r\nQ 1159 1113 1420 752 \r\nQ 1681 391 2138 391 \r\nQ 2594 391 2855 752 \r\nQ 3116 1113 3116 1747 \r\nz\r\n\" id=\"DejaVuSans-70\" transform=\"scale(0.015625)\"/>\r\n        <path d=\"M 3513 2113 \r\nL 3513 0 \r\nL 2938 0 \r\nL 2938 2094 \r\nQ 2938 2591 2744 2837 \r\nQ 2550 3084 2163 3084 \r\nQ 1697 3084 1428 2787 \r\nQ 1159 2491 1159 1978 \r\nL 1159 0 \r\nL 581 0 \r\nL 581 4863 \r\nL 1159 4863 \r\nL 1159 2956 \r\nQ 1366 3272 1645 3428 \r\nQ 1925 3584 2291 3584 \r\nQ 2894 3584 3203 3211 \r\nQ 3513 2838 3513 2113 \r\nz\r\n\" id=\"DejaVuSans-68\" transform=\"scale(0.015625)\"/>\r\n        <path d=\"M 581 4863 \r\nL 1159 4863 \r\nL 1159 1991 \r\nL 2875 3500 \r\nL 3609 3500 \r\nL 1753 1863 \r\nL 3688 0 \r\nL 2938 0 \r\nL 1159 1709 \r\nL 1159 0 \r\nL 581 0 \r\nL 581 4863 \r\nz\r\n\" id=\"DejaVuSans-6b\" transform=\"scale(0.015625)\"/>\r\n       </defs>\r\n       <use xlink:href=\"#DejaVuSans-72\"/>\r\n       <use x=\"38.863281\" xlink:href=\"#DejaVuSans-65\"/>\r\n       <use x=\"100.386719\" xlink:href=\"#DejaVuSans-63\"/>\r\n       <use x=\"155.367188\" xlink:href=\"#DejaVuSans-2e\"/>\r\n       <use x=\"187.154297\" xlink:href=\"#DejaVuSans-73\"/>\r\n       <use x=\"239.253906\" xlink:href=\"#DejaVuSans-70\"/>\r\n       <use x=\"302.730469\" xlink:href=\"#DejaVuSans-6f\"/>\r\n       <use x=\"363.912109\" xlink:href=\"#DejaVuSans-72\"/>\r\n       <use x=\"405.025391\" xlink:href=\"#DejaVuSans-74\"/>\r\n       <use x=\"444.234375\" xlink:href=\"#DejaVuSans-2e\"/>\r\n       <use x=\"476.021484\" xlink:href=\"#DejaVuSans-68\"/>\r\n       <use x=\"539.400391\" xlink:href=\"#DejaVuSans-6f\"/>\r\n       <use x=\"600.582031\" xlink:href=\"#DejaVuSans-63\"/>\r\n       <use x=\"655.5625\" xlink:href=\"#DejaVuSans-6b\"/>\r\n       <use x=\"709.847656\" xlink:href=\"#DejaVuSans-65\"/>\r\n       <use x=\"771.371094\" xlink:href=\"#DejaVuSans-79\"/>\r\n      </g>\r\n     </g>\r\n    </g>\r\n    <g id=\"xtick_3\">\r\n     <g id=\"line2d_3\">\r\n      <g>\r\n       <use style=\"stroke:#000000;stroke-width:0.8;\" x=\"408.499375\" xlink:href=\"#mdbf566a99b\" y=\"442.08\"/>\r\n      </g>\r\n     </g>\r\n     <g id=\"text_3\">\r\n      <!-- soc.religion.christian -->\r\n      <g transform=\"translate(356.769687 456.678437)scale(0.1 -0.1)\">\r\n       <defs>\r\n        <path d=\"M 603 3500 \r\nL 1178 3500 \r\nL 1178 0 \r\nL 603 0 \r\nL 603 3500 \r\nz\r\nM 603 4863 \r\nL 1178 4863 \r\nL 1178 4134 \r\nL 603 4134 \r\nL 603 4863 \r\nz\r\n\" id=\"DejaVuSans-69\" transform=\"scale(0.015625)\"/>\r\n        <path d=\"M 2906 1791 \r\nQ 2906 2416 2648 2759 \r\nQ 2391 3103 1925 3103 \r\nQ 1463 3103 1205 2759 \r\nQ 947 2416 947 1791 \r\nQ 947 1169 1205 825 \r\nQ 1463 481 1925 481 \r\nQ 2391 481 2648 825 \r\nQ 2906 1169 2906 1791 \r\nz\r\nM 3481 434 \r\nQ 3481 -459 3084 -895 \r\nQ 2688 -1331 1869 -1331 \r\nQ 1566 -1331 1297 -1286 \r\nQ 1028 -1241 775 -1147 \r\nL 775 -588 \r\nQ 1028 -725 1275 -790 \r\nQ 1522 -856 1778 -856 \r\nQ 2344 -856 2625 -561 \r\nQ 2906 -266 2906 331 \r\nL 2906 616 \r\nQ 2728 306 2450 153 \r\nQ 2172 0 1784 0 \r\nQ 1141 0 747 490 \r\nQ 353 981 353 1791 \r\nQ 353 2603 747 3093 \r\nQ 1141 3584 1784 3584 \r\nQ 2172 3584 2450 3431 \r\nQ 2728 3278 2906 2969 \r\nL 2906 3500 \r\nL 3481 3500 \r\nL 3481 434 \r\nz\r\n\" id=\"DejaVuSans-67\" transform=\"scale(0.015625)\"/>\r\n        <path d=\"M 3513 2113 \r\nL 3513 0 \r\nL 2938 0 \r\nL 2938 2094 \r\nQ 2938 2591 2744 2837 \r\nQ 2550 3084 2163 3084 \r\nQ 1697 3084 1428 2787 \r\nQ 1159 2491 1159 1978 \r\nL 1159 0 \r\nL 581 0 \r\nL 581 3500 \r\nL 1159 3500 \r\nL 1159 2956 \r\nQ 1366 3272 1645 3428 \r\nQ 1925 3584 2291 3584 \r\nQ 2894 3584 3203 3211 \r\nQ 3513 2838 3513 2113 \r\nz\r\n\" id=\"DejaVuSans-6e\" transform=\"scale(0.015625)\"/>\r\n        <path d=\"M 2194 1759 \r\nQ 1497 1759 1228 1600 \r\nQ 959 1441 959 1056 \r\nQ 959 750 1161 570 \r\nQ 1363 391 1709 391 \r\nQ 2188 391 2477 730 \r\nQ 2766 1069 2766 1631 \r\nL 2766 1759 \r\nL 2194 1759 \r\nz\r\nM 3341 1997 \r\nL 3341 0 \r\nL 2766 0 \r\nL 2766 531 \r\nQ 2569 213 2275 61 \r\nQ 1981 -91 1556 -91 \r\nQ 1019 -91 701 211 \r\nQ 384 513 384 1019 \r\nQ 384 1609 779 1909 \r\nQ 1175 2209 1959 2209 \r\nL 2766 2209 \r\nL 2766 2266 \r\nQ 2766 2663 2505 2880 \r\nQ 2244 3097 1772 3097 \r\nQ 1472 3097 1187 3025 \r\nQ 903 2953 641 2809 \r\nL 641 3341 \r\nQ 956 3463 1253 3523 \r\nQ 1550 3584 1831 3584 \r\nQ 2591 3584 2966 3190 \r\nQ 3341 2797 3341 1997 \r\nz\r\n\" id=\"DejaVuSans-61\" transform=\"scale(0.015625)\"/>\r\n       </defs>\r\n       <use xlink:href=\"#DejaVuSans-73\"/>\r\n       <use x=\"52.099609\" xlink:href=\"#DejaVuSans-6f\"/>\r\n       <use x=\"113.28125\" xlink:href=\"#DejaVuSans-63\"/>\r\n       <use x=\"168.261719\" xlink:href=\"#DejaVuSans-2e\"/>\r\n       <use x=\"200.048828\" xlink:href=\"#DejaVuSans-72\"/>\r\n       <use x=\"238.912109\" xlink:href=\"#DejaVuSans-65\"/>\r\n       <use x=\"300.435547\" xlink:href=\"#DejaVuSans-6c\"/>\r\n       <use x=\"328.21875\" xlink:href=\"#DejaVuSans-69\"/>\r\n       <use x=\"356.001953\" xlink:href=\"#DejaVuSans-67\"/>\r\n       <use x=\"419.478516\" xlink:href=\"#DejaVuSans-69\"/>\r\n       <use x=\"447.261719\" xlink:href=\"#DejaVuSans-6f\"/>\r\n       <use x=\"508.443359\" xlink:href=\"#DejaVuSans-6e\"/>\r\n       <use x=\"571.822266\" xlink:href=\"#DejaVuSans-2e\"/>\r\n       <use x=\"603.609375\" xlink:href=\"#DejaVuSans-63\"/>\r\n       <use x=\"658.589844\" xlink:href=\"#DejaVuSans-68\"/>\r\n       <use x=\"721.96875\" xlink:href=\"#DejaVuSans-72\"/>\r\n       <use x=\"763.082031\" xlink:href=\"#DejaVuSans-69\"/>\r\n       <use x=\"790.865234\" xlink:href=\"#DejaVuSans-73\"/>\r\n       <use x=\"842.964844\" xlink:href=\"#DejaVuSans-74\"/>\r\n       <use x=\"882.173828\" xlink:href=\"#DejaVuSans-69\"/>\r\n       <use x=\"909.957031\" xlink:href=\"#DejaVuSans-61\"/>\r\n       <use x=\"971.236328\" xlink:href=\"#DejaVuSans-6e\"/>\r\n      </g>\r\n     </g>\r\n    </g>\r\n    <g id=\"xtick_4\">\r\n     <g id=\"line2d_4\">\r\n      <g>\r\n       <use style=\"stroke:#000000;stroke-width:0.8;\" x=\"553.579375\" xlink:href=\"#mdbf566a99b\" y=\"442.08\"/>\r\n      </g>\r\n     </g>\r\n     <g id=\"text_4\">\r\n      <!-- talk.politics.mideast -->\r\n      <g transform=\"translate(503.23875 456.678437)scale(0.1 -0.1)\">\r\n       <defs>\r\n        <path d=\"M 2906 2969 \r\nL 2906 4863 \r\nL 3481 4863 \r\nL 3481 0 \r\nL 2906 0 \r\nL 2906 525 \r\nQ 2725 213 2448 61 \r\nQ 2172 -91 1784 -91 \r\nQ 1150 -91 751 415 \r\nQ 353 922 353 1747 \r\nQ 353 2572 751 3078 \r\nQ 1150 3584 1784 3584 \r\nQ 2172 3584 2448 3432 \r\nQ 2725 3281 2906 2969 \r\nz\r\nM 947 1747 \r\nQ 947 1113 1208 752 \r\nQ 1469 391 1925 391 \r\nQ 2381 391 2643 752 \r\nQ 2906 1113 2906 1747 \r\nQ 2906 2381 2643 2742 \r\nQ 2381 3103 1925 3103 \r\nQ 1469 3103 1208 2742 \r\nQ 947 2381 947 1747 \r\nz\r\n\" id=\"DejaVuSans-64\" transform=\"scale(0.015625)\"/>\r\n       </defs>\r\n       <use xlink:href=\"#DejaVuSans-74\"/>\r\n       <use x=\"39.208984\" xlink:href=\"#DejaVuSans-61\"/>\r\n       <use x=\"100.488281\" xlink:href=\"#DejaVuSans-6c\"/>\r\n       <use x=\"128.271484\" xlink:href=\"#DejaVuSans-6b\"/>\r\n       <use x=\"186.181641\" xlink:href=\"#DejaVuSans-2e\"/>\r\n       <use x=\"217.96875\" xlink:href=\"#DejaVuSans-70\"/>\r\n       <use x=\"281.445312\" xlink:href=\"#DejaVuSans-6f\"/>\r\n       <use x=\"342.626953\" xlink:href=\"#DejaVuSans-6c\"/>\r\n       <use x=\"370.410156\" xlink:href=\"#DejaVuSans-69\"/>\r\n       <use x=\"398.193359\" xlink:href=\"#DejaVuSans-74\"/>\r\n       <use x=\"437.402344\" xlink:href=\"#DejaVuSans-69\"/>\r\n       <use x=\"465.185547\" xlink:href=\"#DejaVuSans-63\"/>\r\n       <use x=\"520.166016\" xlink:href=\"#DejaVuSans-73\"/>\r\n       <use x=\"572.265625\" xlink:href=\"#DejaVuSans-2e\"/>\r\n       <use x=\"604.052734\" xlink:href=\"#DejaVuSans-6d\"/>\r\n       <use x=\"701.464844\" xlink:href=\"#DejaVuSans-69\"/>\r\n       <use x=\"729.248047\" xlink:href=\"#DejaVuSans-64\"/>\r\n       <use x=\"792.724609\" xlink:href=\"#DejaVuSans-65\"/>\r\n       <use x=\"854.248047\" xlink:href=\"#DejaVuSans-61\"/>\r\n       <use x=\"915.527344\" xlink:href=\"#DejaVuSans-73\"/>\r\n       <use x=\"967.626953\" xlink:href=\"#DejaVuSans-74\"/>\r\n      </g>\r\n     </g>\r\n    </g>\r\n    <g id=\"text_5\">\r\n     <!-- target_names -->\r\n     <g transform=\"translate(273.881875 475.934687)scale(0.18 -0.18)\">\r\n      <defs>\r\n       <path d=\"M 3263 -1063 \r\nL 3263 -1509 \r\nL -63 -1509 \r\nL -63 -1063 \r\nL 3263 -1063 \r\nz\r\n\" id=\"DejaVuSans-5f\" transform=\"scale(0.015625)\"/>\r\n      </defs>\r\n      <use xlink:href=\"#DejaVuSans-74\"/>\r\n      <use x=\"39.208984\" xlink:href=\"#DejaVuSans-61\"/>\r\n      <use x=\"100.488281\" xlink:href=\"#DejaVuSans-72\"/>\r\n      <use x=\"139.851562\" xlink:href=\"#DejaVuSans-67\"/>\r\n      <use x=\"203.328125\" xlink:href=\"#DejaVuSans-65\"/>\r\n      <use x=\"264.851562\" xlink:href=\"#DejaVuSans-74\"/>\r\n      <use x=\"304.060547\" xlink:href=\"#DejaVuSans-5f\"/>\r\n      <use x=\"354.060547\" xlink:href=\"#DejaVuSans-6e\"/>\r\n      <use x=\"417.439453\" xlink:href=\"#DejaVuSans-61\"/>\r\n      <use x=\"478.71875\" xlink:href=\"#DejaVuSans-6d\"/>\r\n      <use x=\"576.130859\" xlink:href=\"#DejaVuSans-65\"/>\r\n      <use x=\"637.654297\" xlink:href=\"#DejaVuSans-73\"/>\r\n     </g>\r\n    </g>\r\n   </g>\r\n   <g id=\"matplotlib.axis_2\">\r\n    <g id=\"ytick_1\">\r\n     <g id=\"line2d_5\">\r\n      <defs>\r\n       <path d=\"M 0 0 \r\nL -3.5 0 \r\n\" id=\"ma3cd9057ce\" style=\"stroke:#000000;stroke-width:0.8;\"/>\r\n      </defs>\r\n      <g>\r\n       <use style=\"stroke:#000000;stroke-width:0.8;\" x=\"45.799375\" xlink:href=\"#ma3cd9057ce\" y=\"79.68\"/>\r\n      </g>\r\n     </g>\r\n     <g id=\"text_6\">\r\n      <!-- 1 -->\r\n      <g transform=\"translate(36.719687 82.243281)rotate(-90)scale(0.1 -0.1)\">\r\n       <defs>\r\n        <path d=\"M 794 531 \r\nL 1825 531 \r\nL 1825 4091 \r\nL 703 3866 \r\nL 703 4441 \r\nL 1819 4666 \r\nL 2450 4666 \r\nL 2450 531 \r\nL 3481 531 \r\nL 3481 0 \r\nL 794 0 \r\nL 794 531 \r\nz\r\n\" id=\"DejaVuSans-31\" transform=\"scale(0.015625)\"/>\r\n       </defs>\r\n       <use xlink:href=\"#DejaVuSans-31\"/>\r\n      </g>\r\n     </g>\r\n    </g>\r\n    <g id=\"ytick_2\">\r\n     <g id=\"line2d_6\">\r\n      <g>\r\n       <use style=\"stroke:#000000;stroke-width:0.8;\" x=\"45.799375\" xlink:href=\"#ma3cd9057ce\" y=\"224.64\"/>\r\n      </g>\r\n     </g>\r\n     <g id=\"text_7\">\r\n      <!-- 2 -->\r\n      <g transform=\"translate(36.719687 227.203281)rotate(-90)scale(0.1 -0.1)\">\r\n       <defs>\r\n        <path d=\"M 1228 531 \r\nL 3431 531 \r\nL 3431 0 \r\nL 469 0 \r\nL 469 531 \r\nQ 828 903 1448 1529 \r\nQ 2069 2156 2228 2338 \r\nQ 2531 2678 2651 2914 \r\nQ 2772 3150 2772 3378 \r\nQ 2772 3750 2511 3984 \r\nQ 2250 4219 1831 4219 \r\nQ 1534 4219 1204 4116 \r\nQ 875 4013 500 3803 \r\nL 500 4441 \r\nQ 881 4594 1212 4672 \r\nQ 1544 4750 1819 4750 \r\nQ 2544 4750 2975 4387 \r\nQ 3406 4025 3406 3419 \r\nQ 3406 3131 3298 2873 \r\nQ 3191 2616 2906 2266 \r\nQ 2828 2175 2409 1742 \r\nQ 1991 1309 1228 531 \r\nz\r\n\" id=\"DejaVuSans-32\" transform=\"scale(0.015625)\"/>\r\n       </defs>\r\n       <use xlink:href=\"#DejaVuSans-32\"/>\r\n      </g>\r\n     </g>\r\n    </g>\r\n    <g id=\"ytick_3\">\r\n     <g id=\"line2d_7\">\r\n      <g>\r\n       <use style=\"stroke:#000000;stroke-width:0.8;\" x=\"45.799375\" xlink:href=\"#ma3cd9057ce\" y=\"369.6\"/>\r\n      </g>\r\n     </g>\r\n     <g id=\"text_8\">\r\n      <!-- 3 -->\r\n      <g transform=\"translate(36.719687 372.163281)rotate(-90)scale(0.1 -0.1)\">\r\n       <defs>\r\n        <path d=\"M 2597 2516 \r\nQ 3050 2419 3304 2112 \r\nQ 3559 1806 3559 1356 \r\nQ 3559 666 3084 287 \r\nQ 2609 -91 1734 -91 \r\nQ 1441 -91 1130 -33 \r\nQ 819 25 488 141 \r\nL 488 750 \r\nQ 750 597 1062 519 \r\nQ 1375 441 1716 441 \r\nQ 2309 441 2620 675 \r\nQ 2931 909 2931 1356 \r\nQ 2931 1769 2642 2001 \r\nQ 2353 2234 1838 2234 \r\nL 1294 2234 \r\nL 1294 2753 \r\nL 1863 2753 \r\nQ 2328 2753 2575 2939 \r\nQ 2822 3125 2822 3475 \r\nQ 2822 3834 2567 4026 \r\nQ 2313 4219 1838 4219 \r\nQ 1578 4219 1281 4162 \r\nQ 984 4106 628 3988 \r\nL 628 4550 \r\nQ 988 4650 1302 4700 \r\nQ 1616 4750 1894 4750 \r\nQ 2613 4750 3031 4423 \r\nQ 3450 4097 3450 3541 \r\nQ 3450 3153 3228 2886 \r\nQ 3006 2619 2597 2516 \r\nz\r\n\" id=\"DejaVuSans-33\" transform=\"scale(0.015625)\"/>\r\n       </defs>\r\n       <use xlink:href=\"#DejaVuSans-33\"/>\r\n      </g>\r\n     </g>\r\n    </g>\r\n    <g id=\"text_9\">\r\n     <!-- topics_lda -->\r\n     <g transform=\"translate(20.877187 269.755313)rotate(-90)scale(0.18 -0.18)\">\r\n      <use xlink:href=\"#DejaVuSans-74\"/>\r\n      <use x=\"39.208984\" xlink:href=\"#DejaVuSans-6f\"/>\r\n      <use x=\"100.390625\" xlink:href=\"#DejaVuSans-70\"/>\r\n      <use x=\"163.867188\" xlink:href=\"#DejaVuSans-69\"/>\r\n      <use x=\"191.650391\" xlink:href=\"#DejaVuSans-63\"/>\r\n      <use x=\"246.630859\" xlink:href=\"#DejaVuSans-73\"/>\r\n      <use x=\"298.730469\" xlink:href=\"#DejaVuSans-5f\"/>\r\n      <use x=\"348.730469\" xlink:href=\"#DejaVuSans-6c\"/>\r\n      <use x=\"376.513672\" xlink:href=\"#DejaVuSans-64\"/>\r\n      <use x=\"439.990234\" xlink:href=\"#DejaVuSans-61\"/>\r\n     </g>\r\n    </g>\r\n   </g>\r\n  </g>\r\n  <g id=\"axes_2\">\r\n   <g id=\"patch_3\">\r\n    <path d=\"M 662.389375 442.08 \r\nL 684.133375 442.08 \r\nL 684.133375 7.2 \r\nL 662.389375 7.2 \r\nz\r\n\" style=\"fill:#ffffff;\"/>\r\n   </g>\r\n   <g id=\"patch_4\">\r\n    <path clip-path=\"url(#p922c5e932e)\" d=\"M 662.389375 442.08 \r\nL 662.389375 440.38125 \r\nL 662.389375 8.89875 \r\nL 662.389375 7.2 \r\nL 684.133375 7.2 \r\nL 684.133375 8.89875 \r\nL 684.133375 440.38125 \r\nL 684.133375 442.08 \r\nL 684.133375 442.08 \r\nz\r\n\" style=\"fill:#ffffff;stroke:#ffffff;stroke-linejoin:miter;stroke-width:0.01;\"/>\r\n   </g>\r\n   <image height=\"435\" id=\"imagec6728990ca\" transform=\"scale(1 -1)translate(0 -435)\" width=\"22\" x=\"662\" xlink:href=\"data:image/png;base64,\r\niVBORw0KGgoAAAANSUhEUgAAABYAAAGzCAYAAAArEufSAAACJ0lEQVR4nO2cMW7EMBADlcD/f2uatNYVXlP3ARYDzDyAWJD0SnYO+dn/f3sV+G2IrrXWtXZl4ObEqzMx0QrexIY3ECcuhdf0uCaMswIYnrviwfCO8Da8gRceb2LDC7wHhGgFb+JeeBVdwzu43frChhea4d0VYZ4VxYnvjsdEK6zbwPOY+AJZevKA4dnjF96uIFpxW7cH6xZ4VvDq5pMXeBMTr1jA8PT4FXZXDLy6aUXgvUASrbBug3UL1i3UDlOiFdYtwl6xBl7dDC/wwuN5bN0Cr27IvzVZtwjjrLBuA7FuLvqBVzdij90VbWGeFdYtWLdgeH1hnhW8uhGtcOKhN/G2boMTfwl75g28iYlWWLeBNzHRCuvWFuZZAfwZBPC3scDPvLSJd+9XNzQreHVrPdJaEXi7wvCCuyIU/y+WVgzNU7okzLOC9+R5Sr8A6+Z2i7BWvPC2G/GKxZvY8IbahQV4Spd0gVY0J+4I8zwGWnFbtwjjrli8uvXCs8eDuyJYtwCsW++U9n488OrmEgrWLbjoA7JuLWHcjb40MHBXXCUnmlaUhHnh8Ty+SndC4NpshueueABO3Dqaaq0wvIDcFSXh27oNvLoRrcDVrbjoO/jkBWDdel8KO7rW7eDbf3DiIwz8Rl8SLp7SJWHgvYJ3owd+5m0J86ywbke4owu0wroF6xas27dwB8MLNY+BN3rrdoQ7usDPCtYtWLfgdvsS9swbeHXjWfEBeOX95ppp314AAAAASUVORK5CYII=\" y=\"-7\"/>\r\n   <g id=\"matplotlib.axis_3\"/>\r\n   <g id=\"matplotlib.axis_4\">\r\n    <g id=\"ytick_4\">\r\n     <g id=\"line2d_8\">\r\n      <defs>\r\n       <path d=\"M 0 0 \r\nL 3.5 0 \r\n\" id=\"mdda109a000\" style=\"stroke:#000000;stroke-width:0.8;\"/>\r\n      </defs>\r\n      <g>\r\n       <use style=\"stroke:#000000;stroke-width:0.8;\" x=\"684.133375\" xlink:href=\"#mdda109a000\" y=\"369.721815\"/>\r\n      </g>\r\n     </g>\r\n     <g id=\"text_10\">\r\n      <!-- 100 -->\r\n      <g transform=\"translate(691.133375 373.521034)scale(0.1 -0.1)\">\r\n       <defs>\r\n        <path d=\"M 2034 4250 \r\nQ 1547 4250 1301 3770 \r\nQ 1056 3291 1056 2328 \r\nQ 1056 1369 1301 889 \r\nQ 1547 409 2034 409 \r\nQ 2525 409 2770 889 \r\nQ 3016 1369 3016 2328 \r\nQ 3016 3291 2770 3770 \r\nQ 2525 4250 2034 4250 \r\nz\r\nM 2034 4750 \r\nQ 2819 4750 3233 4129 \r\nQ 3647 3509 3647 2328 \r\nQ 3647 1150 3233 529 \r\nQ 2819 -91 2034 -91 \r\nQ 1250 -91 836 529 \r\nQ 422 1150 422 2328 \r\nQ 422 3509 836 4129 \r\nQ 1250 4750 2034 4750 \r\nz\r\n\" id=\"DejaVuSans-30\" transform=\"scale(0.015625)\"/>\r\n       </defs>\r\n       <use xlink:href=\"#DejaVuSans-31\"/>\r\n       <use x=\"63.623047\" xlink:href=\"#DejaVuSans-30\"/>\r\n       <use x=\"127.246094\" xlink:href=\"#DejaVuSans-30\"/>\r\n      </g>\r\n     </g>\r\n    </g>\r\n    <g id=\"ytick_5\">\r\n     <g id=\"line2d_9\">\r\n      <g>\r\n       <use style=\"stroke:#000000;stroke-width:0.8;\" x=\"684.133375\" xlink:href=\"#mdda109a000\" y=\"296.632739\"/>\r\n      </g>\r\n     </g>\r\n     <g id=\"text_11\">\r\n      <!-- 200 -->\r\n      <g transform=\"translate(691.133375 300.431958)scale(0.1 -0.1)\">\r\n       <use xlink:href=\"#DejaVuSans-32\"/>\r\n       <use x=\"63.623047\" xlink:href=\"#DejaVuSans-30\"/>\r\n       <use x=\"127.246094\" xlink:href=\"#DejaVuSans-30\"/>\r\n      </g>\r\n     </g>\r\n    </g>\r\n    <g id=\"ytick_6\">\r\n     <g id=\"line2d_10\">\r\n      <g>\r\n       <use style=\"stroke:#000000;stroke-width:0.8;\" x=\"684.133375\" xlink:href=\"#mdda109a000\" y=\"223.543664\"/>\r\n      </g>\r\n     </g>\r\n     <g id=\"text_12\">\r\n      <!-- 300 -->\r\n      <g transform=\"translate(691.133375 227.342883)scale(0.1 -0.1)\">\r\n       <use xlink:href=\"#DejaVuSans-33\"/>\r\n       <use x=\"63.623047\" xlink:href=\"#DejaVuSans-30\"/>\r\n       <use x=\"127.246094\" xlink:href=\"#DejaVuSans-30\"/>\r\n      </g>\r\n     </g>\r\n    </g>\r\n    <g id=\"ytick_7\">\r\n     <g id=\"line2d_11\">\r\n      <g>\r\n       <use style=\"stroke:#000000;stroke-width:0.8;\" x=\"684.133375\" xlink:href=\"#mdda109a000\" y=\"150.454588\"/>\r\n      </g>\r\n     </g>\r\n     <g id=\"text_13\">\r\n      <!-- 400 -->\r\n      <g transform=\"translate(691.133375 154.253807)scale(0.1 -0.1)\">\r\n       <defs>\r\n        <path d=\"M 2419 4116 \r\nL 825 1625 \r\nL 2419 1625 \r\nL 2419 4116 \r\nz\r\nM 2253 4666 \r\nL 3047 4666 \r\nL 3047 1625 \r\nL 3713 1625 \r\nL 3713 1100 \r\nL 3047 1100 \r\nL 3047 0 \r\nL 2419 0 \r\nL 2419 1100 \r\nL 313 1100 \r\nL 313 1709 \r\nL 2253 4666 \r\nz\r\n\" id=\"DejaVuSans-34\" transform=\"scale(0.015625)\"/>\r\n       </defs>\r\n       <use xlink:href=\"#DejaVuSans-34\"/>\r\n       <use x=\"63.623047\" xlink:href=\"#DejaVuSans-30\"/>\r\n       <use x=\"127.246094\" xlink:href=\"#DejaVuSans-30\"/>\r\n      </g>\r\n     </g>\r\n    </g>\r\n    <g id=\"ytick_8\">\r\n     <g id=\"line2d_12\">\r\n      <g>\r\n       <use style=\"stroke:#000000;stroke-width:0.8;\" x=\"684.133375\" xlink:href=\"#mdda109a000\" y=\"77.365513\"/>\r\n      </g>\r\n     </g>\r\n     <g id=\"text_14\">\r\n      <!-- 500 -->\r\n      <g transform=\"translate(691.133375 81.164731)scale(0.1 -0.1)\">\r\n       <defs>\r\n        <path d=\"M 691 4666 \r\nL 3169 4666 \r\nL 3169 4134 \r\nL 1269 4134 \r\nL 1269 2991 \r\nQ 1406 3038 1543 3061 \r\nQ 1681 3084 1819 3084 \r\nQ 2600 3084 3056 2656 \r\nQ 3513 2228 3513 1497 \r\nQ 3513 744 3044 326 \r\nQ 2575 -91 1722 -91 \r\nQ 1428 -91 1123 -41 \r\nQ 819 9 494 109 \r\nL 494 744 \r\nQ 775 591 1075 516 \r\nQ 1375 441 1709 441 \r\nQ 2250 441 2565 725 \r\nQ 2881 1009 2881 1497 \r\nQ 2881 1984 2565 2268 \r\nQ 2250 2553 1709 2553 \r\nQ 1456 2553 1204 2497 \r\nQ 953 2441 691 2322 \r\nL 691 4666 \r\nz\r\n\" id=\"DejaVuSans-35\" transform=\"scale(0.015625)\"/>\r\n       </defs>\r\n       <use xlink:href=\"#DejaVuSans-35\"/>\r\n       <use x=\"63.623047\" xlink:href=\"#DejaVuSans-30\"/>\r\n       <use x=\"127.246094\" xlink:href=\"#DejaVuSans-30\"/>\r\n      </g>\r\n     </g>\r\n    </g>\r\n   </g>\r\n   <g id=\"LineCollection_1\"/>\r\n   <g id=\"patch_5\">\r\n    <path d=\"M 662.389375 442.08 \r\nL 662.389375 440.38125 \r\nL 662.389375 8.89875 \r\nL 662.389375 7.2 \r\nL 684.133375 7.2 \r\nL 684.133375 8.89875 \r\nL 684.133375 440.38125 \r\nL 684.133375 442.08 \r\nz\r\n\" style=\"fill:none;\"/>\r\n   </g>\r\n  </g>\r\n </g>\r\n <defs>\r\n  <clipPath id=\"pf466dc2ab4\">\r\n   <rect height=\"434.88\" width=\"580.32\" x=\"45.799375\" y=\"7.2\"/>\r\n  </clipPath>\r\n  <clipPath id=\"p922c5e932e\">\r\n   <rect height=\"434.88\" width=\"21.744\" x=\"662.389375\" y=\"7.2\"/>\r\n  </clipPath>\r\n </defs>\r\n</svg>\r\n",
      "image/png": "[encoded data removed]"
     },
     "metadata": {
      "needs_background": "light"
     }
    }
   ],
   "source": [
    "clusters = data_filtered.groupby(['topics_lda', 'target_names']).size()\n",
    "fig, ax1 = plt.subplots(figsize = (13,8))\n",
    "heatmap(clusters.unstack(level = 'target_names'), ax = ax1, cmap = 'Reds')\n",
    "ax1.set_xlabel('target_names').set_size(18)\n",
    "ax1.set_ylabel('topics_lda').set_size(18)"
   ]
  },
  {
   "cell_type": "code",
   "execution_count": 113,
   "metadata": {},
   "outputs": [
    {
     "output_type": "stream",
     "name": "stderr",
     "text": [
      "C:\\Anaconda\\envs\\uni\\lib\\site-packages\\ipykernel\\ipkernel.py:287: DeprecationWarning: `should_run_async` will not call `transform_cell` automatically in the future. Please pass the result to `transformed_cell` argument and any exception that happen during thetransform in `preprocessing_exc_tuple` in IPython 7.17 and above.\n  and should_run_async(code)\n"
     ]
    },
    {
     "output_type": "display_data",
     "data": {
      "text/plain": "<Figure size 936x576 with 2 Axes>",
      "image/svg+xml": "<?xml version=\"1.0\" encoding=\"utf-8\" standalone=\"no\"?>\r\n<!DOCTYPE svg PUBLIC \"-//W3C//DTD SVG 1.1//EN\"\r\n  \"http://www.w3.org/Graphics/SVG/1.1/DTD/svg11.dtd\">\r\n<svg height=\"487.37875pt\" version=\"1.1\" viewBox=\"0 0 717.420875 487.37875\" width=\"717.420875pt\" xmlns=\"http://www.w3.org/2000/svg\" xmlns:xlink=\"http://www.w3.org/1999/xlink\">\r\n <metadata>\r\n  <rdf:RDF xmlns:cc=\"http://creativecommons.org/ns#\" xmlns:dc=\"http://purl.org/dc/elements/1.1/\" xmlns:rdf=\"http://www.w3.org/1999/02/22-rdf-syntax-ns#\">\r\n   <cc:Work>\r\n    <dc:type rdf:resource=\"http://purl.org/dc/dcmitype/StillImage\"/>\r\n    <dc:date>2021-05-26T18:58:07.998742</dc:date>\r\n    <dc:format>image/svg+xml</dc:format>\r\n    <dc:creator>\r\n     <cc:Agent>\r\n      <dc:title>Matplotlib v3.4.1, https://matplotlib.org/</dc:title>\r\n     </cc:Agent>\r\n    </dc:creator>\r\n   </cc:Work>\r\n  </rdf:RDF>\r\n </metadata>\r\n <defs>\r\n  <style type=\"text/css\">*{stroke-linecap:butt;stroke-linejoin:round;}</style>\r\n </defs>\r\n <g id=\"figure_1\">\r\n  <g id=\"patch_1\">\r\n   <path d=\"M 0 487.37875 \r\nL 717.420875 487.37875 \r\nL 717.420875 0 \r\nL 0 0 \r\nz\r\n\" style=\"fill:none;\"/>\r\n  </g>\r\n  <g id=\"axes_1\">\r\n   <g id=\"patch_2\">\r\n    <path d=\"M 45.799375 442.08 \r\nL 626.119375 442.08 \r\nL 626.119375 7.2 \r\nL 45.799375 7.2 \r\nz\r\n\" style=\"fill:#ffffff;\"/>\r\n   </g>\r\n   <g id=\"QuadMesh_1\">\r\n    <path clip-path=\"url(#p87d6de056d)\" d=\"M 45.799375 7.2 \r\nL 190.879375 7.2 \r\nL 190.879375 115.92 \r\nL 45.799375 115.92 \r\nL 45.799375 7.2 \r\n\" style=\"fill:#fff5f0;\"/>\r\n    <path clip-path=\"url(#p87d6de056d)\" d=\"M 190.879375 7.2 \r\nL 335.959375 7.2 \r\nL 335.959375 115.92 \r\nL 190.879375 115.92 \r\nL 190.879375 7.2 \r\n\" style=\"fill:#fff4ef;\"/>\r\n    <path clip-path=\"url(#p87d6de056d)\" d=\"M 335.959375 7.2 \r\nL 481.039375 7.2 \r\nL 481.039375 115.92 \r\nL 335.959375 115.92 \r\nL 335.959375 7.2 \r\n\" style=\"fill:#fff2eb;\"/>\r\n    <path clip-path=\"url(#p87d6de056d)\" d=\"M 481.039375 7.2 \r\nL 626.119375 7.2 \r\nL 626.119375 115.92 \r\nL 481.039375 115.92 \r\nL 481.039375 7.2 \r\n\" style=\"fill:#fb7858;\"/>\r\n    <path clip-path=\"url(#p87d6de056d)\" d=\"M 45.799375 115.92 \r\nL 190.879375 115.92 \r\nL 190.879375 224.64 \r\nL 45.799375 224.64 \r\nL 45.799375 115.92 \r\n\" style=\"fill:#fff5f0;\"/>\r\n    <path clip-path=\"url(#p87d6de056d)\" d=\"M 190.879375 115.92 \r\nL 335.959375 115.92 \r\nL 335.959375 224.64 \r\nL 190.879375 224.64 \r\nL 190.879375 115.92 \r\n\" style=\"fill:#fb7252;\"/>\r\n    <path clip-path=\"url(#p87d6de056d)\" d=\"M 335.959375 115.92 \r\nL 481.039375 115.92 \r\nL 481.039375 224.64 \r\nL 335.959375 224.64 \r\nL 335.959375 115.92 \r\n\" style=\"fill:#fff5f0;\"/>\r\n    <path clip-path=\"url(#p87d6de056d)\" d=\"M 481.039375 115.92 \r\nL 626.119375 115.92 \r\nL 626.119375 224.64 \r\nL 481.039375 224.64 \r\nL 481.039375 115.92 \r\n\" style=\"fill:#fff3ed;\"/>\r\n    <path clip-path=\"url(#p87d6de056d)\" d=\"M 45.799375 224.64 \r\nL 190.879375 224.64 \r\nL 190.879375 333.36 \r\nL 45.799375 333.36 \r\nL 45.799375 224.64 \r\n\" style=\"fill:#67000d;\"/>\r\n    <path clip-path=\"url(#p87d6de056d)\" d=\"M 190.879375 224.64 \r\nL 335.959375 224.64 \r\nL 335.959375 333.36 \r\nL 190.879375 333.36 \r\nL 190.879375 224.64 \r\n\" style=\"fill:#f85f43;\"/>\r\n    <path clip-path=\"url(#p87d6de056d)\" d=\"M 335.959375 224.64 \r\nL 481.039375 224.64 \r\nL 481.039375 333.36 \r\nL 335.959375 333.36 \r\nL 335.959375 224.64 \r\n\" style=\"fill:#f0402f;\"/>\r\n    <path clip-path=\"url(#p87d6de056d)\" d=\"M 481.039375 224.64 \r\nL 626.119375 224.64 \r\nL 626.119375 333.36 \r\nL 481.039375 333.36 \r\nL 481.039375 224.64 \r\n\" style=\"fill:#fb7252;\"/>\r\n    <path clip-path=\"url(#p87d6de056d)\" d=\"M 45.799375 333.36 \r\nL 190.879375 333.36 \r\nL 190.879375 442.08 \r\nL 45.799375 442.08 \r\nL 45.799375 333.36 \r\n\" style=\"fill:none;\"/>\r\n    <path clip-path=\"url(#p87d6de056d)\" d=\"M 190.879375 333.36 \r\nL 335.959375 333.36 \r\nL 335.959375 442.08 \r\nL 190.879375 442.08 \r\nL 190.879375 333.36 \r\n\" style=\"fill:none;\"/>\r\n    <path clip-path=\"url(#p87d6de056d)\" d=\"M 335.959375 333.36 \r\nL 481.039375 333.36 \r\nL 481.039375 442.08 \r\nL 335.959375 442.08 \r\nL 335.959375 333.36 \r\n\" style=\"fill:#fc9474;\"/>\r\n    <path clip-path=\"url(#p87d6de056d)\" d=\"M 481.039375 333.36 \r\nL 626.119375 333.36 \r\nL 626.119375 442.08 \r\nL 481.039375 442.08 \r\nL 481.039375 333.36 \r\n\" style=\"fill:#fff5f0;\"/>\r\n   </g>\r\n   <g id=\"matplotlib.axis_1\">\r\n    <g id=\"xtick_1\">\r\n     <g id=\"line2d_1\">\r\n      <defs>\r\n       <path d=\"M 0 0 \r\nL 0 3.5 \r\n\" id=\"m845b983625\" style=\"stroke:#000000;stroke-width:0.8;\"/>\r\n      </defs>\r\n      <g>\r\n       <use style=\"stroke:#000000;stroke-width:0.8;\" x=\"118.339375\" xlink:href=\"#m845b983625\" y=\"442.08\"/>\r\n      </g>\r\n     </g>\r\n     <g id=\"text_1\">\r\n      <!-- rec.motorcycles -->\r\n      <g transform=\"translate(78.56125 456.678437)scale(0.1 -0.1)\">\r\n       <defs>\r\n        <path d=\"M 2631 2963 \r\nQ 2534 3019 2420 3045 \r\nQ 2306 3072 2169 3072 \r\nQ 1681 3072 1420 2755 \r\nQ 1159 2438 1159 1844 \r\nL 1159 0 \r\nL 581 0 \r\nL 581 3500 \r\nL 1159 3500 \r\nL 1159 2956 \r\nQ 1341 3275 1631 3429 \r\nQ 1922 3584 2338 3584 \r\nQ 2397 3584 2469 3576 \r\nQ 2541 3569 2628 3553 \r\nL 2631 2963 \r\nz\r\n\" id=\"DejaVuSans-72\" transform=\"scale(0.015625)\"/>\r\n        <path d=\"M 3597 1894 \r\nL 3597 1613 \r\nL 953 1613 \r\nQ 991 1019 1311 708 \r\nQ 1631 397 2203 397 \r\nQ 2534 397 2845 478 \r\nQ 3156 559 3463 722 \r\nL 3463 178 \r\nQ 3153 47 2828 -22 \r\nQ 2503 -91 2169 -91 \r\nQ 1331 -91 842 396 \r\nQ 353 884 353 1716 \r\nQ 353 2575 817 3079 \r\nQ 1281 3584 2069 3584 \r\nQ 2775 3584 3186 3129 \r\nQ 3597 2675 3597 1894 \r\nz\r\nM 3022 2063 \r\nQ 3016 2534 2758 2815 \r\nQ 2500 3097 2075 3097 \r\nQ 1594 3097 1305 2825 \r\nQ 1016 2553 972 2059 \r\nL 3022 2063 \r\nz\r\n\" id=\"DejaVuSans-65\" transform=\"scale(0.015625)\"/>\r\n        <path d=\"M 3122 3366 \r\nL 3122 2828 \r\nQ 2878 2963 2633 3030 \r\nQ 2388 3097 2138 3097 \r\nQ 1578 3097 1268 2742 \r\nQ 959 2388 959 1747 \r\nQ 959 1106 1268 751 \r\nQ 1578 397 2138 397 \r\nQ 2388 397 2633 464 \r\nQ 2878 531 3122 666 \r\nL 3122 134 \r\nQ 2881 22 2623 -34 \r\nQ 2366 -91 2075 -91 \r\nQ 1284 -91 818 406 \r\nQ 353 903 353 1747 \r\nQ 353 2603 823 3093 \r\nQ 1294 3584 2113 3584 \r\nQ 2378 3584 2631 3529 \r\nQ 2884 3475 3122 3366 \r\nz\r\n\" id=\"DejaVuSans-63\" transform=\"scale(0.015625)\"/>\r\n        <path d=\"M 684 794 \r\nL 1344 794 \r\nL 1344 0 \r\nL 684 0 \r\nL 684 794 \r\nz\r\n\" id=\"DejaVuSans-2e\" transform=\"scale(0.015625)\"/>\r\n        <path d=\"M 3328 2828 \r\nQ 3544 3216 3844 3400 \r\nQ 4144 3584 4550 3584 \r\nQ 5097 3584 5394 3201 \r\nQ 5691 2819 5691 2113 \r\nL 5691 0 \r\nL 5113 0 \r\nL 5113 2094 \r\nQ 5113 2597 4934 2840 \r\nQ 4756 3084 4391 3084 \r\nQ 3944 3084 3684 2787 \r\nQ 3425 2491 3425 1978 \r\nL 3425 0 \r\nL 2847 0 \r\nL 2847 2094 \r\nQ 2847 2600 2669 2842 \r\nQ 2491 3084 2119 3084 \r\nQ 1678 3084 1418 2786 \r\nQ 1159 2488 1159 1978 \r\nL 1159 0 \r\nL 581 0 \r\nL 581 3500 \r\nL 1159 3500 \r\nL 1159 2956 \r\nQ 1356 3278 1631 3431 \r\nQ 1906 3584 2284 3584 \r\nQ 2666 3584 2933 3390 \r\nQ 3200 3197 3328 2828 \r\nz\r\n\" id=\"DejaVuSans-6d\" transform=\"scale(0.015625)\"/>\r\n        <path d=\"M 1959 3097 \r\nQ 1497 3097 1228 2736 \r\nQ 959 2375 959 1747 \r\nQ 959 1119 1226 758 \r\nQ 1494 397 1959 397 \r\nQ 2419 397 2687 759 \r\nQ 2956 1122 2956 1747 \r\nQ 2956 2369 2687 2733 \r\nQ 2419 3097 1959 3097 \r\nz\r\nM 1959 3584 \r\nQ 2709 3584 3137 3096 \r\nQ 3566 2609 3566 1747 \r\nQ 3566 888 3137 398 \r\nQ 2709 -91 1959 -91 \r\nQ 1206 -91 779 398 \r\nQ 353 888 353 1747 \r\nQ 353 2609 779 3096 \r\nQ 1206 3584 1959 3584 \r\nz\r\n\" id=\"DejaVuSans-6f\" transform=\"scale(0.015625)\"/>\r\n        <path d=\"M 1172 4494 \r\nL 1172 3500 \r\nL 2356 3500 \r\nL 2356 3053 \r\nL 1172 3053 \r\nL 1172 1153 \r\nQ 1172 725 1289 603 \r\nQ 1406 481 1766 481 \r\nL 2356 481 \r\nL 2356 0 \r\nL 1766 0 \r\nQ 1100 0 847 248 \r\nQ 594 497 594 1153 \r\nL 594 3053 \r\nL 172 3053 \r\nL 172 3500 \r\nL 594 3500 \r\nL 594 4494 \r\nL 1172 4494 \r\nz\r\n\" id=\"DejaVuSans-74\" transform=\"scale(0.015625)\"/>\r\n        <path d=\"M 2059 -325 \r\nQ 1816 -950 1584 -1140 \r\nQ 1353 -1331 966 -1331 \r\nL 506 -1331 \r\nL 506 -850 \r\nL 844 -850 \r\nQ 1081 -850 1212 -737 \r\nQ 1344 -625 1503 -206 \r\nL 1606 56 \r\nL 191 3500 \r\nL 800 3500 \r\nL 1894 763 \r\nL 2988 3500 \r\nL 3597 3500 \r\nL 2059 -325 \r\nz\r\n\" id=\"DejaVuSans-79\" transform=\"scale(0.015625)\"/>\r\n        <path d=\"M 603 4863 \r\nL 1178 4863 \r\nL 1178 0 \r\nL 603 0 \r\nL 603 4863 \r\nz\r\n\" id=\"DejaVuSans-6c\" transform=\"scale(0.015625)\"/>\r\n        <path d=\"M 2834 3397 \r\nL 2834 2853 \r\nQ 2591 2978 2328 3040 \r\nQ 2066 3103 1784 3103 \r\nQ 1356 3103 1142 2972 \r\nQ 928 2841 928 2578 \r\nQ 928 2378 1081 2264 \r\nQ 1234 2150 1697 2047 \r\nL 1894 2003 \r\nQ 2506 1872 2764 1633 \r\nQ 3022 1394 3022 966 \r\nQ 3022 478 2636 193 \r\nQ 2250 -91 1575 -91 \r\nQ 1294 -91 989 -36 \r\nQ 684 19 347 128 \r\nL 347 722 \r\nQ 666 556 975 473 \r\nQ 1284 391 1588 391 \r\nQ 1994 391 2212 530 \r\nQ 2431 669 2431 922 \r\nQ 2431 1156 2273 1281 \r\nQ 2116 1406 1581 1522 \r\nL 1381 1569 \r\nQ 847 1681 609 1914 \r\nQ 372 2147 372 2553 \r\nQ 372 3047 722 3315 \r\nQ 1072 3584 1716 3584 \r\nQ 2034 3584 2315 3537 \r\nQ 2597 3491 2834 3397 \r\nz\r\n\" id=\"DejaVuSans-73\" transform=\"scale(0.015625)\"/>\r\n       </defs>\r\n       <use xlink:href=\"#DejaVuSans-72\"/>\r\n       <use x=\"38.863281\" xlink:href=\"#DejaVuSans-65\"/>\r\n       <use x=\"100.386719\" xlink:href=\"#DejaVuSans-63\"/>\r\n       <use x=\"155.367188\" xlink:href=\"#DejaVuSans-2e\"/>\r\n       <use x=\"187.154297\" xlink:href=\"#DejaVuSans-6d\"/>\r\n       <use x=\"284.566406\" xlink:href=\"#DejaVuSans-6f\"/>\r\n       <use x=\"345.748047\" xlink:href=\"#DejaVuSans-74\"/>\r\n       <use x=\"384.957031\" xlink:href=\"#DejaVuSans-6f\"/>\r\n       <use x=\"446.138672\" xlink:href=\"#DejaVuSans-72\"/>\r\n       <use x=\"485.001953\" xlink:href=\"#DejaVuSans-63\"/>\r\n       <use x=\"539.982422\" xlink:href=\"#DejaVuSans-79\"/>\r\n       <use x=\"599.162109\" xlink:href=\"#DejaVuSans-63\"/>\r\n       <use x=\"654.142578\" xlink:href=\"#DejaVuSans-6c\"/>\r\n       <use x=\"681.925781\" xlink:href=\"#DejaVuSans-65\"/>\r\n       <use x=\"743.449219\" xlink:href=\"#DejaVuSans-73\"/>\r\n      </g>\r\n     </g>\r\n    </g>\r\n    <g id=\"xtick_2\">\r\n     <g id=\"line2d_2\">\r\n      <g>\r\n       <use style=\"stroke:#000000;stroke-width:0.8;\" x=\"263.419375\" xlink:href=\"#m845b983625\" y=\"442.08\"/>\r\n      </g>\r\n     </g>\r\n     <g id=\"text_2\">\r\n      <!-- rec.sport.hockey -->\r\n      <g transform=\"translate(221.89125 456.678437)scale(0.1 -0.1)\">\r\n       <defs>\r\n        <path d=\"M 1159 525 \r\nL 1159 -1331 \r\nL 581 -1331 \r\nL 581 3500 \r\nL 1159 3500 \r\nL 1159 2969 \r\nQ 1341 3281 1617 3432 \r\nQ 1894 3584 2278 3584 \r\nQ 2916 3584 3314 3078 \r\nQ 3713 2572 3713 1747 \r\nQ 3713 922 3314 415 \r\nQ 2916 -91 2278 -91 \r\nQ 1894 -91 1617 61 \r\nQ 1341 213 1159 525 \r\nz\r\nM 3116 1747 \r\nQ 3116 2381 2855 2742 \r\nQ 2594 3103 2138 3103 \r\nQ 1681 3103 1420 2742 \r\nQ 1159 2381 1159 1747 \r\nQ 1159 1113 1420 752 \r\nQ 1681 391 2138 391 \r\nQ 2594 391 2855 752 \r\nQ 3116 1113 3116 1747 \r\nz\r\n\" id=\"DejaVuSans-70\" transform=\"scale(0.015625)\"/>\r\n        <path d=\"M 3513 2113 \r\nL 3513 0 \r\nL 2938 0 \r\nL 2938 2094 \r\nQ 2938 2591 2744 2837 \r\nQ 2550 3084 2163 3084 \r\nQ 1697 3084 1428 2787 \r\nQ 1159 2491 1159 1978 \r\nL 1159 0 \r\nL 581 0 \r\nL 581 4863 \r\nL 1159 4863 \r\nL 1159 2956 \r\nQ 1366 3272 1645 3428 \r\nQ 1925 3584 2291 3584 \r\nQ 2894 3584 3203 3211 \r\nQ 3513 2838 3513 2113 \r\nz\r\n\" id=\"DejaVuSans-68\" transform=\"scale(0.015625)\"/>\r\n        <path d=\"M 581 4863 \r\nL 1159 4863 \r\nL 1159 1991 \r\nL 2875 3500 \r\nL 3609 3500 \r\nL 1753 1863 \r\nL 3688 0 \r\nL 2938 0 \r\nL 1159 1709 \r\nL 1159 0 \r\nL 581 0 \r\nL 581 4863 \r\nz\r\n\" id=\"DejaVuSans-6b\" transform=\"scale(0.015625)\"/>\r\n       </defs>\r\n       <use xlink:href=\"#DejaVuSans-72\"/>\r\n       <use x=\"38.863281\" xlink:href=\"#DejaVuSans-65\"/>\r\n       <use x=\"100.386719\" xlink:href=\"#DejaVuSans-63\"/>\r\n       <use x=\"155.367188\" xlink:href=\"#DejaVuSans-2e\"/>\r\n       <use x=\"187.154297\" xlink:href=\"#DejaVuSans-73\"/>\r\n       <use x=\"239.253906\" xlink:href=\"#DejaVuSans-70\"/>\r\n       <use x=\"302.730469\" xlink:href=\"#DejaVuSans-6f\"/>\r\n       <use x=\"363.912109\" xlink:href=\"#DejaVuSans-72\"/>\r\n       <use x=\"405.025391\" xlink:href=\"#DejaVuSans-74\"/>\r\n       <use x=\"444.234375\" xlink:href=\"#DejaVuSans-2e\"/>\r\n       <use x=\"476.021484\" xlink:href=\"#DejaVuSans-68\"/>\r\n       <use x=\"539.400391\" xlink:href=\"#DejaVuSans-6f\"/>\r\n       <use x=\"600.582031\" xlink:href=\"#DejaVuSans-63\"/>\r\n       <use x=\"655.5625\" xlink:href=\"#DejaVuSans-6b\"/>\r\n       <use x=\"709.847656\" xlink:href=\"#DejaVuSans-65\"/>\r\n       <use x=\"771.371094\" xlink:href=\"#DejaVuSans-79\"/>\r\n      </g>\r\n     </g>\r\n    </g>\r\n    <g id=\"xtick_3\">\r\n     <g id=\"line2d_3\">\r\n      <g>\r\n       <use style=\"stroke:#000000;stroke-width:0.8;\" x=\"408.499375\" xlink:href=\"#m845b983625\" y=\"442.08\"/>\r\n      </g>\r\n     </g>\r\n     <g id=\"text_3\">\r\n      <!-- soc.religion.christian -->\r\n      <g transform=\"translate(356.769687 456.678437)scale(0.1 -0.1)\">\r\n       <defs>\r\n        <path d=\"M 603 3500 \r\nL 1178 3500 \r\nL 1178 0 \r\nL 603 0 \r\nL 603 3500 \r\nz\r\nM 603 4863 \r\nL 1178 4863 \r\nL 1178 4134 \r\nL 603 4134 \r\nL 603 4863 \r\nz\r\n\" id=\"DejaVuSans-69\" transform=\"scale(0.015625)\"/>\r\n        <path d=\"M 2906 1791 \r\nQ 2906 2416 2648 2759 \r\nQ 2391 3103 1925 3103 \r\nQ 1463 3103 1205 2759 \r\nQ 947 2416 947 1791 \r\nQ 947 1169 1205 825 \r\nQ 1463 481 1925 481 \r\nQ 2391 481 2648 825 \r\nQ 2906 1169 2906 1791 \r\nz\r\nM 3481 434 \r\nQ 3481 -459 3084 -895 \r\nQ 2688 -1331 1869 -1331 \r\nQ 1566 -1331 1297 -1286 \r\nQ 1028 -1241 775 -1147 \r\nL 775 -588 \r\nQ 1028 -725 1275 -790 \r\nQ 1522 -856 1778 -856 \r\nQ 2344 -856 2625 -561 \r\nQ 2906 -266 2906 331 \r\nL 2906 616 \r\nQ 2728 306 2450 153 \r\nQ 2172 0 1784 0 \r\nQ 1141 0 747 490 \r\nQ 353 981 353 1791 \r\nQ 353 2603 747 3093 \r\nQ 1141 3584 1784 3584 \r\nQ 2172 3584 2450 3431 \r\nQ 2728 3278 2906 2969 \r\nL 2906 3500 \r\nL 3481 3500 \r\nL 3481 434 \r\nz\r\n\" id=\"DejaVuSans-67\" transform=\"scale(0.015625)\"/>\r\n        <path d=\"M 3513 2113 \r\nL 3513 0 \r\nL 2938 0 \r\nL 2938 2094 \r\nQ 2938 2591 2744 2837 \r\nQ 2550 3084 2163 3084 \r\nQ 1697 3084 1428 2787 \r\nQ 1159 2491 1159 1978 \r\nL 1159 0 \r\nL 581 0 \r\nL 581 3500 \r\nL 1159 3500 \r\nL 1159 2956 \r\nQ 1366 3272 1645 3428 \r\nQ 1925 3584 2291 3584 \r\nQ 2894 3584 3203 3211 \r\nQ 3513 2838 3513 2113 \r\nz\r\n\" id=\"DejaVuSans-6e\" transform=\"scale(0.015625)\"/>\r\n        <path d=\"M 2194 1759 \r\nQ 1497 1759 1228 1600 \r\nQ 959 1441 959 1056 \r\nQ 959 750 1161 570 \r\nQ 1363 391 1709 391 \r\nQ 2188 391 2477 730 \r\nQ 2766 1069 2766 1631 \r\nL 2766 1759 \r\nL 2194 1759 \r\nz\r\nM 3341 1997 \r\nL 3341 0 \r\nL 2766 0 \r\nL 2766 531 \r\nQ 2569 213 2275 61 \r\nQ 1981 -91 1556 -91 \r\nQ 1019 -91 701 211 \r\nQ 384 513 384 1019 \r\nQ 384 1609 779 1909 \r\nQ 1175 2209 1959 2209 \r\nL 2766 2209 \r\nL 2766 2266 \r\nQ 2766 2663 2505 2880 \r\nQ 2244 3097 1772 3097 \r\nQ 1472 3097 1187 3025 \r\nQ 903 2953 641 2809 \r\nL 641 3341 \r\nQ 956 3463 1253 3523 \r\nQ 1550 3584 1831 3584 \r\nQ 2591 3584 2966 3190 \r\nQ 3341 2797 3341 1997 \r\nz\r\n\" id=\"DejaVuSans-61\" transform=\"scale(0.015625)\"/>\r\n       </defs>\r\n       <use xlink:href=\"#DejaVuSans-73\"/>\r\n       <use x=\"52.099609\" xlink:href=\"#DejaVuSans-6f\"/>\r\n       <use x=\"113.28125\" xlink:href=\"#DejaVuSans-63\"/>\r\n       <use x=\"168.261719\" xlink:href=\"#DejaVuSans-2e\"/>\r\n       <use x=\"200.048828\" xlink:href=\"#DejaVuSans-72\"/>\r\n       <use x=\"238.912109\" xlink:href=\"#DejaVuSans-65\"/>\r\n       <use x=\"300.435547\" xlink:href=\"#DejaVuSans-6c\"/>\r\n       <use x=\"328.21875\" xlink:href=\"#DejaVuSans-69\"/>\r\n       <use x=\"356.001953\" xlink:href=\"#DejaVuSans-67\"/>\r\n       <use x=\"419.478516\" xlink:href=\"#DejaVuSans-69\"/>\r\n       <use x=\"447.261719\" xlink:href=\"#DejaVuSans-6f\"/>\r\n       <use x=\"508.443359\" xlink:href=\"#DejaVuSans-6e\"/>\r\n       <use x=\"571.822266\" xlink:href=\"#DejaVuSans-2e\"/>\r\n       <use x=\"603.609375\" xlink:href=\"#DejaVuSans-63\"/>\r\n       <use x=\"658.589844\" xlink:href=\"#DejaVuSans-68\"/>\r\n       <use x=\"721.96875\" xlink:href=\"#DejaVuSans-72\"/>\r\n       <use x=\"763.082031\" xlink:href=\"#DejaVuSans-69\"/>\r\n       <use x=\"790.865234\" xlink:href=\"#DejaVuSans-73\"/>\r\n       <use x=\"842.964844\" xlink:href=\"#DejaVuSans-74\"/>\r\n       <use x=\"882.173828\" xlink:href=\"#DejaVuSans-69\"/>\r\n       <use x=\"909.957031\" xlink:href=\"#DejaVuSans-61\"/>\r\n       <use x=\"971.236328\" xlink:href=\"#DejaVuSans-6e\"/>\r\n      </g>\r\n     </g>\r\n    </g>\r\n    <g id=\"xtick_4\">\r\n     <g id=\"line2d_4\">\r\n      <g>\r\n       <use style=\"stroke:#000000;stroke-width:0.8;\" x=\"553.579375\" xlink:href=\"#m845b983625\" y=\"442.08\"/>\r\n      </g>\r\n     </g>\r\n     <g id=\"text_4\">\r\n      <!-- talk.politics.mideast -->\r\n      <g transform=\"translate(503.23875 456.678437)scale(0.1 -0.1)\">\r\n       <defs>\r\n        <path d=\"M 2906 2969 \r\nL 2906 4863 \r\nL 3481 4863 \r\nL 3481 0 \r\nL 2906 0 \r\nL 2906 525 \r\nQ 2725 213 2448 61 \r\nQ 2172 -91 1784 -91 \r\nQ 1150 -91 751 415 \r\nQ 353 922 353 1747 \r\nQ 353 2572 751 3078 \r\nQ 1150 3584 1784 3584 \r\nQ 2172 3584 2448 3432 \r\nQ 2725 3281 2906 2969 \r\nz\r\nM 947 1747 \r\nQ 947 1113 1208 752 \r\nQ 1469 391 1925 391 \r\nQ 2381 391 2643 752 \r\nQ 2906 1113 2906 1747 \r\nQ 2906 2381 2643 2742 \r\nQ 2381 3103 1925 3103 \r\nQ 1469 3103 1208 2742 \r\nQ 947 2381 947 1747 \r\nz\r\n\" id=\"DejaVuSans-64\" transform=\"scale(0.015625)\"/>\r\n       </defs>\r\n       <use xlink:href=\"#DejaVuSans-74\"/>\r\n       <use x=\"39.208984\" xlink:href=\"#DejaVuSans-61\"/>\r\n       <use x=\"100.488281\" xlink:href=\"#DejaVuSans-6c\"/>\r\n       <use x=\"128.271484\" xlink:href=\"#DejaVuSans-6b\"/>\r\n       <use x=\"186.181641\" xlink:href=\"#DejaVuSans-2e\"/>\r\n       <use x=\"217.96875\" xlink:href=\"#DejaVuSans-70\"/>\r\n       <use x=\"281.445312\" xlink:href=\"#DejaVuSans-6f\"/>\r\n       <use x=\"342.626953\" xlink:href=\"#DejaVuSans-6c\"/>\r\n       <use x=\"370.410156\" xlink:href=\"#DejaVuSans-69\"/>\r\n       <use x=\"398.193359\" xlink:href=\"#DejaVuSans-74\"/>\r\n       <use x=\"437.402344\" xlink:href=\"#DejaVuSans-69\"/>\r\n       <use x=\"465.185547\" xlink:href=\"#DejaVuSans-63\"/>\r\n       <use x=\"520.166016\" xlink:href=\"#DejaVuSans-73\"/>\r\n       <use x=\"572.265625\" xlink:href=\"#DejaVuSans-2e\"/>\r\n       <use x=\"604.052734\" xlink:href=\"#DejaVuSans-6d\"/>\r\n       <use x=\"701.464844\" xlink:href=\"#DejaVuSans-69\"/>\r\n       <use x=\"729.248047\" xlink:href=\"#DejaVuSans-64\"/>\r\n       <use x=\"792.724609\" xlink:href=\"#DejaVuSans-65\"/>\r\n       <use x=\"854.248047\" xlink:href=\"#DejaVuSans-61\"/>\r\n       <use x=\"915.527344\" xlink:href=\"#DejaVuSans-73\"/>\r\n       <use x=\"967.626953\" xlink:href=\"#DejaVuSans-74\"/>\r\n      </g>\r\n     </g>\r\n    </g>\r\n    <g id=\"text_5\">\r\n     <!-- target_names -->\r\n     <g transform=\"translate(273.881875 475.934687)scale(0.18 -0.18)\">\r\n      <defs>\r\n       <path d=\"M 3263 -1063 \r\nL 3263 -1509 \r\nL -63 -1509 \r\nL -63 -1063 \r\nL 3263 -1063 \r\nz\r\n\" id=\"DejaVuSans-5f\" transform=\"scale(0.015625)\"/>\r\n      </defs>\r\n      <use xlink:href=\"#DejaVuSans-74\"/>\r\n      <use x=\"39.208984\" xlink:href=\"#DejaVuSans-61\"/>\r\n      <use x=\"100.488281\" xlink:href=\"#DejaVuSans-72\"/>\r\n      <use x=\"139.851562\" xlink:href=\"#DejaVuSans-67\"/>\r\n      <use x=\"203.328125\" xlink:href=\"#DejaVuSans-65\"/>\r\n      <use x=\"264.851562\" xlink:href=\"#DejaVuSans-74\"/>\r\n      <use x=\"304.060547\" xlink:href=\"#DejaVuSans-5f\"/>\r\n      <use x=\"354.060547\" xlink:href=\"#DejaVuSans-6e\"/>\r\n      <use x=\"417.439453\" xlink:href=\"#DejaVuSans-61\"/>\r\n      <use x=\"478.71875\" xlink:href=\"#DejaVuSans-6d\"/>\r\n      <use x=\"576.130859\" xlink:href=\"#DejaVuSans-65\"/>\r\n      <use x=\"637.654297\" xlink:href=\"#DejaVuSans-73\"/>\r\n     </g>\r\n    </g>\r\n   </g>\r\n   <g id=\"matplotlib.axis_2\">\r\n    <g id=\"ytick_1\">\r\n     <g id=\"line2d_5\">\r\n      <defs>\r\n       <path d=\"M 0 0 \r\nL -3.5 0 \r\n\" id=\"m33836c5930\" style=\"stroke:#000000;stroke-width:0.8;\"/>\r\n      </defs>\r\n      <g>\r\n       <use style=\"stroke:#000000;stroke-width:0.8;\" x=\"45.799375\" xlink:href=\"#m33836c5930\" y=\"61.56\"/>\r\n      </g>\r\n     </g>\r\n     <g id=\"text_6\">\r\n      <!-- 0 -->\r\n      <g transform=\"translate(36.719687 64.123281)rotate(-90)scale(0.1 -0.1)\">\r\n       <defs>\r\n        <path d=\"M 2034 4250 \r\nQ 1547 4250 1301 3770 \r\nQ 1056 3291 1056 2328 \r\nQ 1056 1369 1301 889 \r\nQ 1547 409 2034 409 \r\nQ 2525 409 2770 889 \r\nQ 3016 1369 3016 2328 \r\nQ 3016 3291 2770 3770 \r\nQ 2525 4250 2034 4250 \r\nz\r\nM 2034 4750 \r\nQ 2819 4750 3233 4129 \r\nQ 3647 3509 3647 2328 \r\nQ 3647 1150 3233 529 \r\nQ 2819 -91 2034 -91 \r\nQ 1250 -91 836 529 \r\nQ 422 1150 422 2328 \r\nQ 422 3509 836 4129 \r\nQ 1250 4750 2034 4750 \r\nz\r\n\" id=\"DejaVuSans-30\" transform=\"scale(0.015625)\"/>\r\n       </defs>\r\n       <use xlink:href=\"#DejaVuSans-30\"/>\r\n      </g>\r\n     </g>\r\n    </g>\r\n    <g id=\"ytick_2\">\r\n     <g id=\"line2d_6\">\r\n      <g>\r\n       <use style=\"stroke:#000000;stroke-width:0.8;\" x=\"45.799375\" xlink:href=\"#m33836c5930\" y=\"170.28\"/>\r\n      </g>\r\n     </g>\r\n     <g id=\"text_7\">\r\n      <!-- 1 -->\r\n      <g transform=\"translate(36.719687 172.843281)rotate(-90)scale(0.1 -0.1)\">\r\n       <defs>\r\n        <path d=\"M 794 531 \r\nL 1825 531 \r\nL 1825 4091 \r\nL 703 3866 \r\nL 703 4441 \r\nL 1819 4666 \r\nL 2450 4666 \r\nL 2450 531 \r\nL 3481 531 \r\nL 3481 0 \r\nL 794 0 \r\nL 794 531 \r\nz\r\n\" id=\"DejaVuSans-31\" transform=\"scale(0.015625)\"/>\r\n       </defs>\r\n       <use xlink:href=\"#DejaVuSans-31\"/>\r\n      </g>\r\n     </g>\r\n    </g>\r\n    <g id=\"ytick_3\">\r\n     <g id=\"line2d_7\">\r\n      <g>\r\n       <use style=\"stroke:#000000;stroke-width:0.8;\" x=\"45.799375\" xlink:href=\"#m33836c5930\" y=\"279\"/>\r\n      </g>\r\n     </g>\r\n     <g id=\"text_8\">\r\n      <!-- 2 -->\r\n      <g transform=\"translate(36.719687 281.563281)rotate(-90)scale(0.1 -0.1)\">\r\n       <defs>\r\n        <path d=\"M 1228 531 \r\nL 3431 531 \r\nL 3431 0 \r\nL 469 0 \r\nL 469 531 \r\nQ 828 903 1448 1529 \r\nQ 2069 2156 2228 2338 \r\nQ 2531 2678 2651 2914 \r\nQ 2772 3150 2772 3378 \r\nQ 2772 3750 2511 3984 \r\nQ 2250 4219 1831 4219 \r\nQ 1534 4219 1204 4116 \r\nQ 875 4013 500 3803 \r\nL 500 4441 \r\nQ 881 4594 1212 4672 \r\nQ 1544 4750 1819 4750 \r\nQ 2544 4750 2975 4387 \r\nQ 3406 4025 3406 3419 \r\nQ 3406 3131 3298 2873 \r\nQ 3191 2616 2906 2266 \r\nQ 2828 2175 2409 1742 \r\nQ 1991 1309 1228 531 \r\nz\r\n\" id=\"DejaVuSans-32\" transform=\"scale(0.015625)\"/>\r\n       </defs>\r\n       <use xlink:href=\"#DejaVuSans-32\"/>\r\n      </g>\r\n     </g>\r\n    </g>\r\n    <g id=\"ytick_4\">\r\n     <g id=\"line2d_8\">\r\n      <g>\r\n       <use style=\"stroke:#000000;stroke-width:0.8;\" x=\"45.799375\" xlink:href=\"#m33836c5930\" y=\"387.72\"/>\r\n      </g>\r\n     </g>\r\n     <g id=\"text_9\">\r\n      <!-- 3 -->\r\n      <g transform=\"translate(36.719687 390.283281)rotate(-90)scale(0.1 -0.1)\">\r\n       <defs>\r\n        <path d=\"M 2597 2516 \r\nQ 3050 2419 3304 2112 \r\nQ 3559 1806 3559 1356 \r\nQ 3559 666 3084 287 \r\nQ 2609 -91 1734 -91 \r\nQ 1441 -91 1130 -33 \r\nQ 819 25 488 141 \r\nL 488 750 \r\nQ 750 597 1062 519 \r\nQ 1375 441 1716 441 \r\nQ 2309 441 2620 675 \r\nQ 2931 909 2931 1356 \r\nQ 2931 1769 2642 2001 \r\nQ 2353 2234 1838 2234 \r\nL 1294 2234 \r\nL 1294 2753 \r\nL 1863 2753 \r\nQ 2328 2753 2575 2939 \r\nQ 2822 3125 2822 3475 \r\nQ 2822 3834 2567 4026 \r\nQ 2313 4219 1838 4219 \r\nQ 1578 4219 1281 4162 \r\nQ 984 4106 628 3988 \r\nL 628 4550 \r\nQ 988 4650 1302 4700 \r\nQ 1616 4750 1894 4750 \r\nQ 2613 4750 3031 4423 \r\nQ 3450 4097 3450 3541 \r\nQ 3450 3153 3228 2886 \r\nQ 3006 2619 2597 2516 \r\nz\r\n\" id=\"DejaVuSans-33\" transform=\"scale(0.015625)\"/>\r\n       </defs>\r\n       <use xlink:href=\"#DejaVuSans-33\"/>\r\n      </g>\r\n     </g>\r\n    </g>\r\n    <g id=\"text_10\">\r\n     <!-- topics_lda2 -->\r\n     <g transform=\"translate(20.877187 275.481562)rotate(-90)scale(0.18 -0.18)\">\r\n      <use xlink:href=\"#DejaVuSans-74\"/>\r\n      <use x=\"39.208984\" xlink:href=\"#DejaVuSans-6f\"/>\r\n      <use x=\"100.390625\" xlink:href=\"#DejaVuSans-70\"/>\r\n      <use x=\"163.867188\" xlink:href=\"#DejaVuSans-69\"/>\r\n      <use x=\"191.650391\" xlink:href=\"#DejaVuSans-63\"/>\r\n      <use x=\"246.630859\" xlink:href=\"#DejaVuSans-73\"/>\r\n      <use x=\"298.730469\" xlink:href=\"#DejaVuSans-5f\"/>\r\n      <use x=\"348.730469\" xlink:href=\"#DejaVuSans-6c\"/>\r\n      <use x=\"376.513672\" xlink:href=\"#DejaVuSans-64\"/>\r\n      <use x=\"439.990234\" xlink:href=\"#DejaVuSans-61\"/>\r\n      <use x=\"501.269531\" xlink:href=\"#DejaVuSans-32\"/>\r\n     </g>\r\n    </g>\r\n   </g>\r\n  </g>\r\n  <g id=\"axes_2\">\r\n   <g id=\"patch_3\">\r\n    <path d=\"M 662.389375 442.08 \r\nL 684.133375 442.08 \r\nL 684.133375 7.2 \r\nL 662.389375 7.2 \r\nz\r\n\" style=\"fill:#ffffff;\"/>\r\n   </g>\r\n   <g id=\"patch_4\">\r\n    <path clip-path=\"url(#p4cac9bb9c5)\" d=\"M 662.389375 442.08 \r\nL 662.389375 440.38125 \r\nL 662.389375 8.89875 \r\nL 662.389375 7.2 \r\nL 684.133375 7.2 \r\nL 684.133375 8.89875 \r\nL 684.133375 440.38125 \r\nL 684.133375 442.08 \r\nL 684.133375 442.08 \r\nz\r\n\" style=\"fill:#ffffff;stroke:#ffffff;stroke-linejoin:miter;stroke-width:0.01;\"/>\r\n   </g>\r\n   <image height=\"435\" id=\"imagec1d28a1c8c\" transform=\"scale(1 -1)translate(0 -435)\" width=\"22\" x=\"662\" xlink:href=\"data:image/png;base64,\r\niVBORw0KGgoAAAANSUhEUgAAABYAAAGzCAYAAAArEufSAAACJ0lEQVR4nO2cQW7EMAwD3SL/f2svvcZ7WIXOB3gYYOYBhEDRspIs9mf//+1V4LchutZa19qVgpsVr07FRCt4Fdu8gVhxqXlNj2vCOCuAzXNWfLF5R3jbvIHXPF7FNi/wDgjRCl7FveZVdG3ewenWF7Z5odm8uyLMs6JY8d3xmGiFcRt4HhMfIEsnD9g8c/zAmxVEK27j9sW4BZ4VvLh58gKvYuKKBWyeHj/CzoqBFzetCLwHSKIVxm0wbsG4hdplSrTCuEXYFWswbsFZEYjNc1YMxu0lDPzWZNwijLPCuA3EuDnoB17ciDl2VrSFeVYYt2Dcgs3rC/Os4MWNaIUVD72Kt3EbrPgl7J038ComWmHcBl7FRCuMW1uYZwXw0ybwt7HA17y0infvSzrNCl7cWkdaKwJvVti84KwIxf/F0oqheUuXhHlW8E6et/QDMG5OtwhrxQNvuhFXLF7FNm+oLSzAW7qkC7SiWXFHmOcx0IrbuEUYt2Lx4tZrnjkenBXBuAVg3Hq3tPvxwIubQygYt+CgD8i4tYRxG32pYOCsuEpONK0oCfOax/P4Ku2EwLHZbJ6z4guw4tbVVEuFzQvIWVESvo3bwIsb0Qpc3IqDvoMnLwDj1ntT2NE1bgef/oMVH2HgO/qScPGWLgkD9wreRg98zdsS5llh3I5wRxdohXELxi0Yt7dwB5sXah4DN3rjdoQ7usDXCsYtGLfgdHsJe+cNvLjxrPgAxy/95lCugTMAAAAASUVORK5CYII=\" y=\"-7\"/>\r\n   <g id=\"matplotlib.axis_3\"/>\r\n   <g id=\"matplotlib.axis_4\">\r\n    <g id=\"ytick_5\">\r\n     <g id=\"line2d_9\">\r\n      <defs>\r\n       <path d=\"M 0 0 \r\nL 3.5 0 \r\n\" id=\"m71f15c22a7\" style=\"stroke:#000000;stroke-width:0.8;\"/>\r\n      </defs>\r\n      <g>\r\n       <use style=\"stroke:#000000;stroke-width:0.8;\" x=\"684.133375\" xlink:href=\"#m71f15c22a7\" y=\"369.355135\"/>\r\n      </g>\r\n     </g>\r\n     <g id=\"text_11\">\r\n      <!-- 100 -->\r\n      <g transform=\"translate(691.133375 373.154354)scale(0.1 -0.1)\">\r\n       <use xlink:href=\"#DejaVuSans-31\"/>\r\n       <use x=\"63.623047\" xlink:href=\"#DejaVuSans-30\"/>\r\n       <use x=\"127.246094\" xlink:href=\"#DejaVuSans-30\"/>\r\n      </g>\r\n     </g>\r\n    </g>\r\n    <g id=\"ytick_6\">\r\n     <g id=\"line2d_10\">\r\n      <g>\r\n       <use style=\"stroke:#000000;stroke-width:0.8;\" x=\"684.133375\" xlink:href=\"#m71f15c22a7\" y=\"295.895676\"/>\r\n      </g>\r\n     </g>\r\n     <g id=\"text_12\">\r\n      <!-- 200 -->\r\n      <g transform=\"translate(691.133375 299.694894)scale(0.1 -0.1)\">\r\n       <use xlink:href=\"#DejaVuSans-32\"/>\r\n       <use x=\"63.623047\" xlink:href=\"#DejaVuSans-30\"/>\r\n       <use x=\"127.246094\" xlink:href=\"#DejaVuSans-30\"/>\r\n      </g>\r\n     </g>\r\n    </g>\r\n    <g id=\"ytick_7\">\r\n     <g id=\"line2d_11\">\r\n      <g>\r\n       <use style=\"stroke:#000000;stroke-width:0.8;\" x=\"684.133375\" xlink:href=\"#m71f15c22a7\" y=\"222.436216\"/>\r\n      </g>\r\n     </g>\r\n     <g id=\"text_13\">\r\n      <!-- 300 -->\r\n      <g transform=\"translate(691.133375 226.235435)scale(0.1 -0.1)\">\r\n       <use xlink:href=\"#DejaVuSans-33\"/>\r\n       <use x=\"63.623047\" xlink:href=\"#DejaVuSans-30\"/>\r\n       <use x=\"127.246094\" xlink:href=\"#DejaVuSans-30\"/>\r\n      </g>\r\n     </g>\r\n    </g>\r\n    <g id=\"ytick_8\">\r\n     <g id=\"line2d_12\">\r\n      <g>\r\n       <use style=\"stroke:#000000;stroke-width:0.8;\" x=\"684.133375\" xlink:href=\"#m71f15c22a7\" y=\"148.976757\"/>\r\n      </g>\r\n     </g>\r\n     <g id=\"text_14\">\r\n      <!-- 400 -->\r\n      <g transform=\"translate(691.133375 152.775976)scale(0.1 -0.1)\">\r\n       <defs>\r\n        <path d=\"M 2419 4116 \r\nL 825 1625 \r\nL 2419 1625 \r\nL 2419 4116 \r\nz\r\nM 2253 4666 \r\nL 3047 4666 \r\nL 3047 1625 \r\nL 3713 1625 \r\nL 3713 1100 \r\nL 3047 1100 \r\nL 3047 0 \r\nL 2419 0 \r\nL 2419 1100 \r\nL 313 1100 \r\nL 313 1709 \r\nL 2253 4666 \r\nz\r\n\" id=\"DejaVuSans-34\" transform=\"scale(0.015625)\"/>\r\n       </defs>\r\n       <use xlink:href=\"#DejaVuSans-34\"/>\r\n       <use x=\"63.623047\" xlink:href=\"#DejaVuSans-30\"/>\r\n       <use x=\"127.246094\" xlink:href=\"#DejaVuSans-30\"/>\r\n      </g>\r\n     </g>\r\n    </g>\r\n    <g id=\"ytick_9\">\r\n     <g id=\"line2d_13\">\r\n      <g>\r\n       <use style=\"stroke:#000000;stroke-width:0.8;\" x=\"684.133375\" xlink:href=\"#m71f15c22a7\" y=\"75.517297\"/>\r\n      </g>\r\n     </g>\r\n     <g id=\"text_15\">\r\n      <!-- 500 -->\r\n      <g transform=\"translate(691.133375 79.316516)scale(0.1 -0.1)\">\r\n       <defs>\r\n        <path d=\"M 691 4666 \r\nL 3169 4666 \r\nL 3169 4134 \r\nL 1269 4134 \r\nL 1269 2991 \r\nQ 1406 3038 1543 3061 \r\nQ 1681 3084 1819 3084 \r\nQ 2600 3084 3056 2656 \r\nQ 3513 2228 3513 1497 \r\nQ 3513 744 3044 326 \r\nQ 2575 -91 1722 -91 \r\nQ 1428 -91 1123 -41 \r\nQ 819 9 494 109 \r\nL 494 744 \r\nQ 775 591 1075 516 \r\nQ 1375 441 1709 441 \r\nQ 2250 441 2565 725 \r\nQ 2881 1009 2881 1497 \r\nQ 2881 1984 2565 2268 \r\nQ 2250 2553 1709 2553 \r\nQ 1456 2553 1204 2497 \r\nQ 953 2441 691 2322 \r\nL 691 4666 \r\nz\r\n\" id=\"DejaVuSans-35\" transform=\"scale(0.015625)\"/>\r\n       </defs>\r\n       <use xlink:href=\"#DejaVuSans-35\"/>\r\n       <use x=\"63.623047\" xlink:href=\"#DejaVuSans-30\"/>\r\n       <use x=\"127.246094\" xlink:href=\"#DejaVuSans-30\"/>\r\n      </g>\r\n     </g>\r\n    </g>\r\n   </g>\r\n   <g id=\"LineCollection_1\"/>\r\n   <g id=\"patch_5\">\r\n    <path d=\"M 662.389375 442.08 \r\nL 662.389375 440.38125 \r\nL 662.389375 8.89875 \r\nL 662.389375 7.2 \r\nL 684.133375 7.2 \r\nL 684.133375 8.89875 \r\nL 684.133375 440.38125 \r\nL 684.133375 442.08 \r\nz\r\n\" style=\"fill:none;\"/>\r\n   </g>\r\n  </g>\r\n </g>\r\n <defs>\r\n  <clipPath id=\"p87d6de056d\">\r\n   <rect height=\"434.88\" width=\"580.32\" x=\"45.799375\" y=\"7.2\"/>\r\n  </clipPath>\r\n  <clipPath id=\"p4cac9bb9c5\">\r\n   <rect height=\"434.88\" width=\"21.744\" x=\"662.389375\" y=\"7.2\"/>\r\n  </clipPath>\r\n </defs>\r\n</svg>\r\n",
      "image/png": "[encoded data removed]"
     },
     "metadata": {
      "needs_background": "light"
     }
    }
   ],
   "source": [
    "clusters = data_filtered.groupby(['topics_lda2', 'target_names']).size()\n",
    "fig, ax1 = plt.subplots(figsize = (13,8))\n",
    "heatmap(clusters.unstack(level = 'target_names'), ax = ax1, cmap = 'Reds')\n",
    "ax1.set_xlabel('target_names').set_size(18)\n",
    "ax1.set_ylabel('topics_lda2').set_size(18)"
   ]
  },
  {
   "cell_type": "code",
   "execution_count": 115,
   "metadata": {},
   "outputs": [
    {
     "output_type": "stream",
     "name": "stderr",
     "text": [
      "C:\\Anaconda\\envs\\uni\\lib\\site-packages\\ipykernel\\ipkernel.py:287: DeprecationWarning: `should_run_async` will not call `transform_cell` automatically in the future. Please pass the result to `transformed_cell` argument and any exception that happen during thetransform in `preprocessing_exc_tuple` in IPython 7.17 and above.\n  and should_run_async(code)\n"
     ]
    },
    {
     "output_type": "execute_result",
     "data": {
      "text/plain": [
       "target  target_names          \n",
       "10      rec.sport.hockey          600\n",
       "15      soc.religion.christian    599\n",
       "8       rec.motorcycles           598\n",
       "17      talk.politics.mideast     564\n",
       "dtype: int64"
      ]
     },
     "metadata": {},
     "execution_count": 115
    }
   ],
   "source": [
    "data_filtered[['target','target_names']].value_counts()"
   ]
  },
  {
   "cell_type": "code",
   "execution_count": 116,
   "metadata": {},
   "outputs": [
    {
     "output_type": "stream",
     "name": "stderr",
     "text": [
      "C:\\Anaconda\\envs\\uni\\lib\\site-packages\\ipykernel\\ipkernel.py:287: DeprecationWarning: `should_run_async` will not call `transform_cell` automatically in the future. Please pass the result to `transformed_cell` argument and any exception that happen during thetransform in `preprocessing_exc_tuple` in IPython 7.17 and above.\n  and should_run_async(code)\nC:\\Anaconda\\envs\\uni\\lib\\site-packages\\ipykernel_launcher.py:1: SettingWithCopyWarning: \nA value is trying to be set on a copy of a slice from a DataFrame.\nTry using .loc[row_indexer,col_indexer] = value instead\n\nSee the caveats in the documentation: https://pandas.pydata.org/pandas-docs/stable/user_guide/indexing.html#returning-a-view-versus-a-copy\n  \"\"\"Entry point for launching an IPython kernel.\nC:\\Anaconda\\envs\\uni\\lib\\site-packages\\pandas\\core\\indexing.py:1720: SettingWithCopyWarning: \nA value is trying to be set on a copy of a slice from a DataFrame.\nTry using .loc[row_indexer,col_indexer] = value instead\n\nSee the caveats in the documentation: https://pandas.pydata.org/pandas-docs/stable/user_guide/indexing.html#returning-a-view-versus-a-copy\n  self._setitem_single_column(loc, value, pi)\n"
     ]
    }
   ],
   "source": [
    "data_filtered['pred_lda'] = 0\n",
    "for index, row in data_filtered.iterrows():\n",
    "    if row.topics_lda2 == 0:\n",
    "        data_filtered.loc[index,'pred_lda'] = 17\n",
    "    if row.topics_lda2 == 1:\n",
    "        data_filtered.loc[index,'pred_lda'] = 10\n",
    "    if row.topics_lda2 == 2:\n",
    "        data_filtered.loc[index,'pred_lda'] = 8\n",
    "    if row.topics_lda2 == 3:\n",
    "        data_filtered.loc[index,'pred_lda'] = 16"
   ]
  },
  {
   "cell_type": "code",
   "execution_count": 118,
   "metadata": {},
   "outputs": [
    {
     "output_type": "stream",
     "name": "stdout",
     "text": [
      "              precision    recall  f1-score   support\n",
      "\n",
      "           8       0.99      0.38      0.55      1554\n",
      "          10       0.47      0.96      0.63       294\n",
      "          15       0.00      0.00      0.00         0\n",
      "          16       0.00      0.00      0.00       221\n",
      "          17       0.48      0.93      0.63       292\n",
      "\n",
      "    accuracy                           0.48      2361\n",
      "   macro avg       0.39      0.45      0.36      2361\n",
      "weighted avg       0.77      0.48      0.52      2361\n",
      "\n",
      "C:\\Anaconda\\envs\\uni\\lib\\site-packages\\ipykernel\\ipkernel.py:287: DeprecationWarning: `should_run_async` will not call `transform_cell` automatically in the future. Please pass the result to `transformed_cell` argument and any exception that happen during thetransform in `preprocessing_exc_tuple` in IPython 7.17 and above.\n",
      "  and should_run_async(code)\n",
      "C:\\Anaconda\\envs\\uni\\lib\\site-packages\\sklearn\\metrics\\_classification.py:1248: UndefinedMetricWarning: Precision and F-score are ill-defined and being set to 0.0 in labels with no predicted samples. Use `zero_division` parameter to control this behavior.\n",
      "  _warn_prf(average, modifier, msg_start, len(result))\n",
      "C:\\Anaconda\\envs\\uni\\lib\\site-packages\\sklearn\\metrics\\_classification.py:1248: UndefinedMetricWarning: Recall and F-score are ill-defined and being set to 0.0 in labels with no true samples. Use `zero_division` parameter to control this behavior.\n",
      "  _warn_prf(average, modifier, msg_start, len(result))\n",
      "C:\\Anaconda\\envs\\uni\\lib\\site-packages\\sklearn\\metrics\\_classification.py:1248: UndefinedMetricWarning: Precision and F-score are ill-defined and being set to 0.0 in labels with no predicted samples. Use `zero_division` parameter to control this behavior.\n",
      "  _warn_prf(average, modifier, msg_start, len(result))\n",
      "C:\\Anaconda\\envs\\uni\\lib\\site-packages\\sklearn\\metrics\\_classification.py:1248: UndefinedMetricWarning: Recall and F-score are ill-defined and being set to 0.0 in labels with no true samples. Use `zero_division` parameter to control this behavior.\n",
      "  _warn_prf(average, modifier, msg_start, len(result))\n",
      "C:\\Anaconda\\envs\\uni\\lib\\site-packages\\sklearn\\metrics\\_classification.py:1248: UndefinedMetricWarning: Precision and F-score are ill-defined and being set to 0.0 in labels with no predicted samples. Use `zero_division` parameter to control this behavior.\n",
      "  _warn_prf(average, modifier, msg_start, len(result))\n",
      "C:\\Anaconda\\envs\\uni\\lib\\site-packages\\sklearn\\metrics\\_classification.py:1248: UndefinedMetricWarning: Recall and F-score are ill-defined and being set to 0.0 in labels with no true samples. Use `zero_division` parameter to control this behavior.\n",
      "  _warn_prf(average, modifier, msg_start, len(result))\n"
     ]
    }
   ],
   "source": [
    "print(classification_report(data_filtered.pred_lda, data_filtered.target))"
   ]
  }
 ]
}