{
 "metadata": {
  "language_info": {
   "codemirror_mode": {
    "name": "ipython",
    "version": 3
   },
   "file_extension": ".py",
   "mimetype": "text/x-python",
   "name": "python",
   "nbconvert_exporter": "python",
   "pygments_lexer": "ipython3",
   "version": "3.8.3"
  },
  "orig_nbformat": 2,
  "kernelspec": {
   "name": "python3",
   "display_name": "Python 3.8.3 64-bit",
   "metadata": {
    "interpreter": {
     "hash": "ed225720166559e7176d3793db16a2fd8d295f725007103b21ac3099d2a89ee8"
    }
   }
  }
 },
 "nbformat": 4,
 "nbformat_minor": 2,
 "cells": [
  {
   "cell_type": "code",
   "execution_count": 2,
   "metadata": {},
   "outputs": [],
   "source": [
    "#1. Import the following packages:\n",
    "import pickle\n",
    "import pandas as pd\n",
    "from sklearn.feature_extraction.text import CountVectorizer, TfidfVectorizer\n",
    "from sklearn.preprocessing import Binarizer\n",
    "from gensim.corpora import Dictionary\n",
    "from gensim.models import TfidfModel"
   ]
  },
  {
   "cell_type": "code",
   "execution_count": 19,
   "metadata": {},
   "outputs": [
    {
     "output_type": "stream",
     "name": "stdout",
     "text": [
      "car wonder enlighten car saw dai door sport car look late earli call bricklin door small addit bumper separ rest bodi know tellm model engin spec year product car histori info funki look car mail thank\ncar wonder enlighten car see day door sport car look late early call bricklin door small addition bumper separate rest body know tellme model engine specs year production car history info funky looking car mail thank\n"
     ]
    }
   ],
   "source": [
    "data_lemma = pickle.load(open('lemma.pkl', \"rb\"))\n",
    "data_stem = pickle.load(open('stemmed.pkl', \"rb\"))\n",
    "print(data_stem[0])\n",
    "print(data_lemma[0])"
   ]
  },
  {
   "cell_type": "code",
   "execution_count": 20,
   "metadata": {},
   "outputs": [],
   "source": [
    "#3. a. Apply the following transformations to the stemmed data using the fit_transform() function. What is each of them doing? What are the pros and cons of each approach?\n",
    "vectorizerA = CountVectorizer(max_df=0.95, min_df=0.05) # abs freq\n",
    "resultA = vectorizerA.fit_transform(data_stem)\n",
    "vectorizerB = TfidfVectorizer(max_df=0.95, min_df=0.05,use_idf=False, norm='l1') #relative freq\n",
    "resultB = vectorizerB.fit_transform(data_stem)\n",
    "vectorizerC = TfidfVectorizer(max_df=0.95, min_df=0.05, smooth_idf=False) # TF_IDF2\n",
    "resultC = vectorizerC.fit_transform(data_stem)"
   ]
  },
  {
   "cell_type": "code",
   "execution_count": 27,
   "metadata": {},
   "outputs": [
    {
     "output_type": "stream",
     "name": "stdout",
     "text": [
      "C:  240\nB:  240\nA:  240\nC:  ['abl', 'accept', 'actual', 'address', 'advanc', 'ago', 'agre', 'allow', 'american', 'answer', 'anybodi', 'appreci', 'apr', 'area', 'articl', 'ask', 'assum', 'avail', 'awai', 'bad', 'base', 'believ', 'best', 'better', 'big', 'bit', 'book', 'bui', 'call', 'car', 'card', 'care', 'case', 'caus', 'chang', 'check', 'chip', 'christian', 'claim', 'close', 'com', 'come', 'complet', 'consid', 'control', 'correct', 'cost', 'cours', 'current', 'dai', 'data', 'david', 'deal', 'design', 'differ', 'discuss', 'drive', 'edu', 'effect', 'email', 'end', 'engin', 'exampl', 'exist', 'expect', 'experi', 'fact', 'far', 'fax', 'feel', 'file', 'final', 'follow', 'forc', 'free', 'game', 'gener', 'get', 'given', 'go', 'god', 'good', 'got', 'govern', 'great', 'group', 'guess', 'gui', 'hand', 'happen', 'hard', 'have', 'heard', 'help', 'high', 'home', 'hope', 'human', 'idea', 'import', 'includ', 'info', 'inform', 'interest', 'internet', 'isn', 'issu', 'john', 'kei', 'kill', 'kind', 'know', 'larg', 'law', 'left', 'let', 'life', 'like', 'line', 'list', 'littl', 'live', 'local', 'long', 'look', 'lot', 'love', 'machin', 'mail', 'major', 'make', 'man', 'manag', 'mark', 'matter', 'mayb', 'mean', 'mention', 'messag', 'mind', 'nation', 'need', 'net', 'new', 'non', 'note', 'number', 'old', 'open', 'opinion', 'order', 'origin', 'peopl', 'person', 'phone', 'place', 'plai', 'point', 'posit', 'possibl', 'post', 'power', 'pretti', 'price', 'probabl', 'problem', 'program', 'provid', 'public', 'question', 'read', 'real', 'reason', 'recent', 'refer', 'rememb', 'repli', 'report', 'requir', 'research', 'respons', 'result', 'right', 'run', 'sai', 'said', 'sale', 'second', 'seen', 'send', 'set', 'small', 'softwar', 'sound', 'sourc', 'space', 'standard', 'start', 'state', 'stuff', 'suggest', 'support', 'sure', 'system', 'take', 'talk', 'team', 'tell', 'thank', 'thing', 'think', 'thought', 'time', 'todai', 'tri', 'true', 'try', 'turn', 'type', 'understand', 'univers', 'us', 'usual', 'version', 'view', 'wai', 'want', 'week', 'win', 'window', 'won', 'wonder', 'word', 'work', 'world', 'write', 'wrong', 'wrote', 'ye', 'year']\nB:  ['abl', 'accept', 'actual', 'address', 'advanc', 'ago', 'agre', 'allow', 'american', 'answer', 'anybodi', 'appreci', 'apr', 'area', 'articl', 'ask', 'assum', 'avail', 'awai', 'bad', 'base', 'believ', 'best', 'better', 'big', 'bit', 'book', 'bui', 'call', 'car', 'card', 'care', 'case', 'caus', 'chang', 'check', 'chip', 'christian', 'claim', 'close', 'com', 'come', 'complet', 'consid', 'control', 'correct', 'cost', 'cours', 'current', 'dai', 'data', 'david', 'deal', 'design', 'differ', 'discuss', 'drive', 'edu', 'effect', 'email', 'end', 'engin', 'exampl', 'exist', 'expect', 'experi', 'fact', 'far', 'fax', 'feel', 'file', 'final', 'follow', 'forc', 'free', 'game', 'gener', 'get', 'given', 'go', 'god', 'good', 'got', 'govern', 'great', 'group', 'guess', 'gui', 'hand', 'happen', 'hard', 'have', 'heard', 'help', 'high', 'home', 'hope', 'human', 'idea', 'import', 'includ', 'info', 'inform', 'interest', 'internet', 'isn', 'issu', 'john', 'kei', 'kill', 'kind', 'know', 'larg', 'law', 'left', 'let', 'life', 'like', 'line', 'list', 'littl', 'live', 'local', 'long', 'look', 'lot', 'love', 'machin', 'mail', 'major', 'make', 'man', 'manag', 'mark', 'matter', 'mayb', 'mean', 'mention', 'messag', 'mind', 'nation', 'need', 'net', 'new', 'non', 'note', 'number', 'old', 'open', 'opinion', 'order', 'origin', 'peopl', 'person', 'phone', 'place', 'plai', 'point', 'posit', 'possibl', 'post', 'power', 'pretti', 'price', 'probabl', 'problem', 'program', 'provid', 'public', 'question', 'read', 'real', 'reason', 'recent', 'refer', 'rememb', 'repli', 'report', 'requir', 'research', 'respons', 'result', 'right', 'run', 'sai', 'said', 'sale', 'second', 'seen', 'send', 'set', 'small', 'softwar', 'sound', 'sourc', 'space', 'standard', 'start', 'state', 'stuff', 'suggest', 'support', 'sure', 'system', 'take', 'talk', 'team', 'tell', 'thank', 'thing', 'think', 'thought', 'time', 'todai', 'tri', 'true', 'try', 'turn', 'type', 'understand', 'univers', 'us', 'usual', 'version', 'view', 'wai', 'want', 'week', 'win', 'window', 'won', 'wonder', 'word', 'work', 'world', 'write', 'wrong', 'wrote', 'ye', 'year']\nA:  ['abl', 'accept', 'actual', 'address', 'advanc', 'ago', 'agre', 'allow', 'american', 'answer', 'anybodi', 'appreci', 'apr', 'area', 'articl', 'ask', 'assum', 'avail', 'awai', 'bad', 'base', 'believ', 'best', 'better', 'big', 'bit', 'book', 'bui', 'call', 'car', 'card', 'care', 'case', 'caus', 'chang', 'check', 'chip', 'christian', 'claim', 'close', 'com', 'come', 'complet', 'consid', 'control', 'correct', 'cost', 'cours', 'current', 'dai', 'data', 'david', 'deal', 'design', 'differ', 'discuss', 'drive', 'edu', 'effect', 'email', 'end', 'engin', 'exampl', 'exist', 'expect', 'experi', 'fact', 'far', 'fax', 'feel', 'file', 'final', 'follow', 'forc', 'free', 'game', 'gener', 'get', 'given', 'go', 'god', 'good', 'got', 'govern', 'great', 'group', 'guess', 'gui', 'hand', 'happen', 'hard', 'have', 'heard', 'help', 'high', 'home', 'hope', 'human', 'idea', 'import', 'includ', 'info', 'inform', 'interest', 'internet', 'isn', 'issu', 'john', 'kei', 'kill', 'kind', 'know', 'larg', 'law', 'left', 'let', 'life', 'like', 'line', 'list', 'littl', 'live', 'local', 'long', 'look', 'lot', 'love', 'machin', 'mail', 'major', 'make', 'man', 'manag', 'mark', 'matter', 'mayb', 'mean', 'mention', 'messag', 'mind', 'nation', 'need', 'net', 'new', 'non', 'note', 'number', 'old', 'open', 'opinion', 'order', 'origin', 'peopl', 'person', 'phone', 'place', 'plai', 'point', 'posit', 'possibl', 'post', 'power', 'pretti', 'price', 'probabl', 'problem', 'program', 'provid', 'public', 'question', 'read', 'real', 'reason', 'recent', 'refer', 'rememb', 'repli', 'report', 'requir', 'research', 'respons', 'result', 'right', 'run', 'sai', 'said', 'sale', 'second', 'seen', 'send', 'set', 'small', 'softwar', 'sound', 'sourc', 'space', 'standard', 'start', 'state', 'stuff', 'suggest', 'support', 'sure', 'system', 'take', 'talk', 'team', 'tell', 'thank', 'thing', 'think', 'thought', 'time', 'todai', 'tri', 'true', 'try', 'turn', 'type', 'understand', 'univers', 'us', 'usual', 'version', 'view', 'wai', 'want', 'week', 'win', 'window', 'won', 'wonder', 'word', 'work', 'world', 'write', 'wrong', 'wrote', 'ye', 'year']\n"
     ]
    }
   ],
   "source": [
    "#How many features are left in the dictionary in iii. and what are their names (Hint: Use get_feature_names())? Do the features make sense? Are they different to those in i. and ii.? What happens if you change max_df and min_df?\n",
    "\n",
    "print(\"C: \", len(vectorizerA.get_feature_names()))\n",
    "print(\"B: \", len(vectorizerB.get_feature_names()))\n",
    "print(\"A: \", len(vectorizerC.get_feature_names()))\n",
    "print(\"C: \",vectorizerC.get_feature_names())\n",
    "print(\"B: \",vectorizerB.get_feature_names())\n",
    "print(\"A: \",vectorizerA.get_feature_names())"
   ]
  },
  {
   "cell_type": "code",
   "execution_count": 21,
   "metadata": {},
   "outputs": [
    {
     "output_type": "stream",
     "name": "stdout",
     "text": [
      "  (0, 29)\t1\n  (0, 231)\t1\n  (0, 49)\t1\n  (0, 124)\t1\n  (0, 28)\t1\n  (0, 191)\t1\n  (0, 111)\t1\n  (0, 61)\t1\n  (0, 239)\t1\n  (0, 101)\t1\n  (0, 128)\t1\n  (0, 208)\t1\n  (1, 49)\t1\n  (1, 208)\t1\n  (1, 71)\t1\n  (1, 177)\t1\n  (1, 146)\t1\n  (1, 65)\t1\n  (1, 189)\t1\n  (1, 138)\t1\n  (1, 30)\t1\n  (1, 20)\t1\n  (1, 9)\t1\n  (1, 87)\t1\n  (1, 57)\t1\n  :\t:\n  (11312, 59)\t1\n  (11312, 235)\t1\n  (11312, 14)\t1\n  (11312, 67)\t1\n  (11312, 178)\t1\n  (11312, 157)\t1\n  (11312, 154)\t1\n  (11312, 35)\t1\n  (11312, 159)\t1\n  (11312, 144)\t1\n  (11312, 63)\t1\n  (11312, 78)\t1\n  (11312, 45)\t1\n  (11312, 236)\t1\n  (11312, 195)\t1\n  (11312, 167)\t1\n  (11312, 89)\t1\n  (11312, 26)\t1\n  (11312, 68)\t1\n  (11312, 179)\t1\n  (11313, 61)\t1\n  (11313, 146)\t1\n  (11313, 93)\t1\n  (11313, 86)\t1\n  (11313, 217)\t1\n"
     ]
    }
   ],
   "source": [
    "#b. Apply Binarizer() to the result from a. i. using again fit_transform(). What does the result stand for? What are its pros and cons?\n",
    "binarizerA = Binarizer()\n",
    "bin_resultA = binarizerA.fit_transform(resultA)\n",
    "print(bin_resultA)"
   ]
  },
  {
   "cell_type": "code",
   "execution_count": 22,
   "metadata": {},
   "outputs": [
    {
     "output_type": "execute_result",
     "data": {
      "text/plain": [
       "    feature_names  CountVectorizer   TF_IDF1   TF_IDF2  Binarizer\n",
       "28           call                1  0.058824  0.149013          1\n",
       "29            car                5  0.294118  0.850820          1\n",
       "49            dai                1  0.058824  0.140095          1\n",
       "61          engin                1  0.058824  0.171939          1\n",
       "101          info                1  0.058824  0.173232          1\n",
       "111          know                1  0.058824  0.097346          1\n",
       "124          look                2  0.117647  0.236706          1\n",
       "128          mail                1  0.058824  0.139212          1\n",
       "191         small                1  0.058824  0.176748          1\n",
       "208         thank                1  0.058824  0.121997          1\n",
       "231        wonder                1  0.058824  0.169843          1\n",
       "239          year                1  0.058824  0.121843          1"
      ],
      "text/html": "<div>\n<style scoped>\n    .dataframe tbody tr th:only-of-type {\n        vertical-align: middle;\n    }\n\n    .dataframe tbody tr th {\n        vertical-align: top;\n    }\n\n    .dataframe thead th {\n        text-align: right;\n    }\n</style>\n<table border=\"1\" class=\"dataframe\">\n  <thead>\n    <tr style=\"text-align: right;\">\n      <th></th>\n      <th>feature_names</th>\n      <th>CountVectorizer</th>\n      <th>TF_IDF1</th>\n      <th>TF_IDF2</th>\n      <th>Binarizer</th>\n    </tr>\n  </thead>\n  <tbody>\n    <tr>\n      <th>28</th>\n      <td>call</td>\n      <td>1</td>\n      <td>0.058824</td>\n      <td>0.149013</td>\n      <td>1</td>\n    </tr>\n    <tr>\n      <th>29</th>\n      <td>car</td>\n      <td>5</td>\n      <td>0.294118</td>\n      <td>0.850820</td>\n      <td>1</td>\n    </tr>\n    <tr>\n      <th>49</th>\n      <td>dai</td>\n      <td>1</td>\n      <td>0.058824</td>\n      <td>0.140095</td>\n      <td>1</td>\n    </tr>\n    <tr>\n      <th>61</th>\n      <td>engin</td>\n      <td>1</td>\n      <td>0.058824</td>\n      <td>0.171939</td>\n      <td>1</td>\n    </tr>\n    <tr>\n      <th>101</th>\n      <td>info</td>\n      <td>1</td>\n      <td>0.058824</td>\n      <td>0.173232</td>\n      <td>1</td>\n    </tr>\n    <tr>\n      <th>111</th>\n      <td>know</td>\n      <td>1</td>\n      <td>0.058824</td>\n      <td>0.097346</td>\n      <td>1</td>\n    </tr>\n    <tr>\n      <th>124</th>\n      <td>look</td>\n      <td>2</td>\n      <td>0.117647</td>\n      <td>0.236706</td>\n      <td>1</td>\n    </tr>\n    <tr>\n      <th>128</th>\n      <td>mail</td>\n      <td>1</td>\n      <td>0.058824</td>\n      <td>0.139212</td>\n      <td>1</td>\n    </tr>\n    <tr>\n      <th>191</th>\n      <td>small</td>\n      <td>1</td>\n      <td>0.058824</td>\n      <td>0.176748</td>\n      <td>1</td>\n    </tr>\n    <tr>\n      <th>208</th>\n      <td>thank</td>\n      <td>1</td>\n      <td>0.058824</td>\n      <td>0.121997</td>\n      <td>1</td>\n    </tr>\n    <tr>\n      <th>231</th>\n      <td>wonder</td>\n      <td>1</td>\n      <td>0.058824</td>\n      <td>0.169843</td>\n      <td>1</td>\n    </tr>\n    <tr>\n      <th>239</th>\n      <td>year</td>\n      <td>1</td>\n      <td>0.058824</td>\n      <td>0.121843</td>\n      <td>1</td>\n    </tr>\n  </tbody>\n</table>\n</div>"
     },
     "metadata": {},
     "execution_count": 22
    }
   ],
   "source": [
    "#c. Put the frequencies for the first document from a. and b. in a data frame with a column keys containing the feature names from a. and four additional columns \n",
    "#with the corresponding frequencies from a. and b. (Hint: Convert the corpus to an array first.). Keep only those rows of the data frame with keys representing words that exist in the first document.\n",
    "\n",
    "data = {'feature_names': vectorizerA.get_feature_names(), 'CountVectorizer': resultA.toarray()[0], 'TF_IDF1': resultB.toarray()[0], 'TF_IDF2': resultC.toarray()[0], 'Binarizer': bin_resultA.toarray()[0]}\n",
    "df = pd.DataFrame(data)\n",
    "df[df['Binarizer'] == 1]"
   ]
  },
  {
   "cell_type": "code",
   "execution_count": 23,
   "metadata": {},
   "outputs": [
    {
     "output_type": "execute_result",
     "data": {
      "text/plain": [
       "    feature_names  CountVectorizer   TF_IDF1   TF_IDF2  Binarizer\n",
       "29            car                5  0.294118  0.850820          1\n",
       "124          look                2  0.117647  0.236706          1\n",
       "191         small                1  0.058824  0.176748          1\n",
       "101          info                1  0.058824  0.173232          1\n",
       "61          engin                1  0.058824  0.171939          1"
      ],
      "text/html": "<div>\n<style scoped>\n    .dataframe tbody tr th:only-of-type {\n        vertical-align: middle;\n    }\n\n    .dataframe tbody tr th {\n        vertical-align: top;\n    }\n\n    .dataframe thead th {\n        text-align: right;\n    }\n</style>\n<table border=\"1\" class=\"dataframe\">\n  <thead>\n    <tr style=\"text-align: right;\">\n      <th></th>\n      <th>feature_names</th>\n      <th>CountVectorizer</th>\n      <th>TF_IDF1</th>\n      <th>TF_IDF2</th>\n      <th>Binarizer</th>\n    </tr>\n  </thead>\n  <tbody>\n    <tr>\n      <th>29</th>\n      <td>car</td>\n      <td>5</td>\n      <td>0.294118</td>\n      <td>0.850820</td>\n      <td>1</td>\n    </tr>\n    <tr>\n      <th>124</th>\n      <td>look</td>\n      <td>2</td>\n      <td>0.117647</td>\n      <td>0.236706</td>\n      <td>1</td>\n    </tr>\n    <tr>\n      <th>191</th>\n      <td>small</td>\n      <td>1</td>\n      <td>0.058824</td>\n      <td>0.176748</td>\n      <td>1</td>\n    </tr>\n    <tr>\n      <th>101</th>\n      <td>info</td>\n      <td>1</td>\n      <td>0.058824</td>\n      <td>0.173232</td>\n      <td>1</td>\n    </tr>\n    <tr>\n      <th>61</th>\n      <td>engin</td>\n      <td>1</td>\n      <td>0.058824</td>\n      <td>0.171939</td>\n      <td>1</td>\n    </tr>\n  </tbody>\n</table>\n</div>"
     },
     "metadata": {},
     "execution_count": 23
    }
   ],
   "source": [
    "#d. Sort the data frame (descending) on:\n",
    "#i. TF-IDF Frequencies\n",
    "df = df.sort_values(by=['TF_IDF2'], ascending=False)\n",
    "df.head()"
   ]
  },
  {
   "cell_type": "code",
   "execution_count": 24,
   "metadata": {},
   "outputs": [
    {
     "output_type": "execute_result",
     "data": {
      "text/plain": [
       "    feature_names  CountVectorizer   TF_IDF1   TF_IDF2  Binarizer\n",
       "29            car                5  0.294118  0.850820          1\n",
       "124          look                2  0.117647  0.236706          1\n",
       "49            dai                1  0.058824  0.140095          1\n",
       "111          know                1  0.058824  0.097346          1\n",
       "239          year                1  0.058824  0.121843          1"
      ],
      "text/html": "<div>\n<style scoped>\n    .dataframe tbody tr th:only-of-type {\n        vertical-align: middle;\n    }\n\n    .dataframe tbody tr th {\n        vertical-align: top;\n    }\n\n    .dataframe thead th {\n        text-align: right;\n    }\n</style>\n<table border=\"1\" class=\"dataframe\">\n  <thead>\n    <tr style=\"text-align: right;\">\n      <th></th>\n      <th>feature_names</th>\n      <th>CountVectorizer</th>\n      <th>TF_IDF1</th>\n      <th>TF_IDF2</th>\n      <th>Binarizer</th>\n    </tr>\n  </thead>\n  <tbody>\n    <tr>\n      <th>29</th>\n      <td>car</td>\n      <td>5</td>\n      <td>0.294118</td>\n      <td>0.850820</td>\n      <td>1</td>\n    </tr>\n    <tr>\n      <th>124</th>\n      <td>look</td>\n      <td>2</td>\n      <td>0.117647</td>\n      <td>0.236706</td>\n      <td>1</td>\n    </tr>\n    <tr>\n      <th>49</th>\n      <td>dai</td>\n      <td>1</td>\n      <td>0.058824</td>\n      <td>0.140095</td>\n      <td>1</td>\n    </tr>\n    <tr>\n      <th>111</th>\n      <td>know</td>\n      <td>1</td>\n      <td>0.058824</td>\n      <td>0.097346</td>\n      <td>1</td>\n    </tr>\n    <tr>\n      <th>239</th>\n      <td>year</td>\n      <td>1</td>\n      <td>0.058824</td>\n      <td>0.121843</td>\n      <td>1</td>\n    </tr>\n  </tbody>\n</table>\n</div>"
     },
     "metadata": {},
     "execution_count": 24
    }
   ],
   "source": [
    "#d. Sort the data frame (descending) on:\n",
    "#ii. Absolute Frequencies\n",
    "df = df.sort_values(by=['CountVectorizer'], ascending=False)\n",
    "df.head()"
   ]
  },
  {
   "cell_type": "code",
   "execution_count": 27,
   "metadata": {
    "tags": [
     "outputPrepend"
    ]
   },
   "outputs": [
    {
     "output_type": "stream",
     "name": "stdout",
     "text": [
      "ft', 'watch', 'car', 'jack', 'stage', 'accid', 'deadli', 'go', 'argu', 'issu', 'carri', 'weapon', 'ask', 'thought', 'serious', 'shoot', 'kid', 'set', 'alarm', 'think', 'wors', 'thing', 'world', 'glad', 'got', 'reason', 'gun', 'hear', 'screw', 'car', 'set', 'alarm', 'taunt', 'come', 'damn', 'sure', 'colt', 'delta', 'elit', 'come', 'screw', 'car', 'shot', 'potenti', 'physic', 'danger', 'taunt', 'like', 'possibl', 'intend', 'rob', 'physic', 'harm', 'thing', 'screw', 'harm', 'bent', 'mayhem', 'receiv', 'cure', 'lead', 'defici', 'inject', 'fp', 'tell', 'todai', 'violent', 'crimin', 'death', 'pleasant', 'outcom', 'jame', 'jame', 'callison', 'microcomput', 'coordin', 'oklahoma', 'law', 'center', 'callison', 'uokmax', 'ecn', 'uoknor', 'edu', 'callison', 'aardvark', 'uc', 'uoknor', 'edu', 'disclaim', 'engin', 'plai', 'work', 'forecast', 'call', 'thunder', 'bird', 'hell', 'thing', 'kill', 'man', 'awai', 'gonna'], ['laser', 'printer', 'forsal', 'repost', 'follow', 'post', 'friend', 'send', 'repli', 'email', 'address', 'glen', 'citizen', 'overtur', 'laser', 'printer', 'sale', 'excel', 'condit', 'year', 'drum', 'ask', 'offer', 'consid', 'spec', 'toner', 'lifespan', 'page', 'drum', 'lifespan', 'page', 'resolut', 'dpi', 'memori', 'emul', 'epson', 'ibm', 'proprint', 'diablo', 'print', 'capac', 'quad', 'densiti', 'graphic', 'trai', 'capac', 'sheet', 'reason', 'sale', 'financi', 'need', 'pai', 'tuition', 'thank', 'bigelo', 'hobo', 'ec', 'orst', 'edu'], ['pat', 'burn', 'articl', 'rchb', 'jethro', 'corp', 'sun', 'com', 'jake', 'rambler', 'eng', 'sun', 'com', 'jason', 'cockroft', 'write', 'suggest', 'clark', 'anderson', 'gilmour', 'sheppard', 'yserbeart', 'andreychuck', 'borchevsi', 'detroit', 'check', 'line', 'toronto', 'check', 'line', 'yzerman', 'fedorov', 'probert', 'prai', 'lot', 'wing', 'fan', 'think', 'thing', 'oppon', 'line', 'combin', 'correct', 'try', 'match', 'yzerman', 'fedorov', 'probert', 'line', 'mayb', 'powerplai', 'player', 'usual', 'plai', 'differ', 'line', 'mean', 'toronto', 'check', 'line', 'pull', 'tripl', 'shift', 'wing', 'line', 'usual', 'look', 'like', 'gallant', 'yzerman', 'ciccarelli', 'kozlov', 'fedorov', 'drake', 'kennedi', 'burr', 'probert', 'ysebaert', 'primeau', 'sheppard', 'wai', 'start', 'prai', 'lauri', 'marshal', 'wayn', 'state', 'univers', 'detroit', 'michigan', 'wing'], ['sorri', 'gatewai', 'post', 'thought', 'contribut', 'gatewai', 'thread', 'pro', 'spleen', 'us', 'littl', 'vent', 'scenario', 'order', 'ultrastor', 'local', 'bu', 'control', 'receiv', 'dai', 'order', 'happi', 'discov', 'ultrastor', 'isa', 'control', 'insid', 'unhappi', 'gatewai', 'receiv', 'correct', 'control', 'dai', 'get', 'happier', 'new', 'control', 'work', 'unhappi', 'gatewai', 'control', 'dai', 'cool', 'end', 'sight', 'control', 'work', 'motherboard', 'bad', 'unhappi', 'gatewai', 'solut', 'order', 'new', 'motherboard', 'dai', 'site', 'servic', 'instal', 'dai', 'work', 'servic', 'peopl', 'work', 'wai', 'blown', 'hour', 'hold', 'time', 'dai', 'work', 'dai', 'return', 'period', 'abl', 'us', 'minut', 'thing', 'go', 'extrem', 'upset', 'began', 'post', 'support', 'rep', 'told', 'pai', 'ship', 'return', 'hard', 'drive', 'control', 'sent', 'fortun', 'spoke', 'custom', 'servic', 'go', 'up', 'come', 'pick', 'grati', 'downsid', 'order', 'like', 'try', 'gatewai', 'turn', 'prospect', 'have', 'try', 'custom', 'servic', 'tech', 'support', 'think', 'product', 'great', 'begin', 'wonder', 'save', 'worth', 'potenti', 'aggrav', 'mail', 'order', 'compani', 'difficult', 'contact', 'know', 'gatewai', 'boom', 'good', 'reason', 'know', 'feel', 'better', 'mark', 'devanei', 'hear', 'believ', 'later', 'georgia', 'institut', 'technolog', 'atlanta', 'georgia', 'internet', 'markd', 'gatech', 'edu'], ['quick', 'easi', 'question', 'rauser', 'fraser', 'sfu', 'richard', 'john', 'rauser', 'write', 'easi', 'question', 'know', 'basebal', 'citi', 'california', 'angel', 'plai', 'anaheim', 'richard', 'rauser', 'idea', 'rauser', 'sfu', 'worri', 'profession', 'wni', 'outlaw', 'live', 'rememb', 'matter', 'banzai'], ['dma', 'hello', 'have', 'small', 'problem', 'sound', 'blaster', 'pro', 'game', 'util', 'tell', 'dma', 'thank', 'mark', 'brown'], ['nhl', 'team', 'milwauke', 'read', 'report', 'possibl', 'nhl', 'move', 'milwauke', 'milwauke', 'nhl', 'team', 'thought', 'pass', 'stori', 'heard', 'recent', 'second', 'hand', 'know', 'true', 'reason', 'doubt', 'bradlei', 'center', 'milwauke', 'home', 'milwauke', 'admir', 'minor', 'leaug', 'hockei', 'team', 'owner', 'admir', 'sorri', 'rememb', 'own', 'shell', 'major', 'fund', 'build', 'bradlei', 'center', 'supposedli', 'approach', 'nhl', 'expans', 'franchis', 'turn', 'thought', 'franchis', 'fee', 'million', 'high', 'like', 'said', 'know', 'stori', 'true', 'rumor', 'true', 'look', 'nhl', 'team', 'milwauke', 'anytim', 'soon', 'admir', 'aren', 'go', 'forc', 'build', 'won', 'nhl', 'club', 'minor', 'leagu', 'club', 'build', 'especi', 'nba', 'milwauke', 'buck', 'plai', 'charli', 'betz', 'crai', 'research', 'chippewa', 'fall', 'cbetz', 'romulu', 'crai', 'com'], ['turkei', 'cypru', 'bosnia', 'serbia', 'greec', 'armenia', 'azeri', 'articl', 'apr', 'iastat', 'edu', 'tankut', 'iastat', 'edu', 'sabri', 'atan', 'write', 'articl', 'apr', 'new', 'uiowa', 'edu', 'mau', 'herki', 'uiowa', 'edu', 'mau', 'napoleon', 'write', 'articl', 'apr', 'iastat', 'edu', 'tankut', 'iastat', 'edu', 'sabri', 'atan', 'pano', 'tamamidi', 'wai', 'turk', 'bear', 'respons', 'thing', 'happen', 'todai', 'hard', 'believ', 'somebodi', 'try', 'object', 'come', 'conflict', 'like', 'countri', 'have', 'blame', 'bad', 'gui', 'side', 'anatolia', 'think', 'right', 'heard', 'turk', 'surpis', 'read', 'rememb', 'treati', 'sevr', 'consequ', 'axi', 'power', 'wwi', 'turk', 'intern', 'law', 'suppos', 'look', 'minor', 'greek', 'armenian', 'kurd', 'turk', 'kurd', 'relat', 'improv', 'slightli', 'time', 'pose', 'threat', 'turkei', 'neighbour', 'turk', 'blatantli', 'reject', 'treati', 'german', 'grudgingli', 'accept', 'versail', 'million', 'time', 'wors', 'health', 'pride', 'german', 'peopl', 'greek', 'armi', 'british', 'french', 'back', 'enforc', 'sevr', 'possibl', 'exampl', 'appeas', 'young', 'turk', 'govern', 'manag', 'screw', 'treati', 'laussan', 'weak', 'alli', 'greek', 'forc', 'destroi', 'smyrna', 'occur', 'incid', 'french', 'warship', 'harbour', 'greek', 'try', 'escap', 'swam', 'french', 'warship', 'climb', 'aboard', 'arm', 'cut', 'french', 'claw', 'wai', 'side', 'ship', 'liberta', 'egalita', 'fraternata', 'coupl', 'million', 'greek', 'live', 'asia', 'minor', 'protect', 'sai', 'conflict', 'start', 'aggress', 'ither', 'suffer', 'sad', 'try', 'compromis', 'rememb', 'action', 'turkish', 'govern', 'remov', 'visa', 'requir', 'greek', 'come', 'turkei', 'thought', 'posit', 'attempt', 'relat', 'better', 'compromis', 'invas', 'cypru', 'invol', 'turkei', 'greek', 'polit', 'refus', 'turkei', 'accept', 'mile', 'territori', 'water', 'state', 'intern', 'law', 'properti', 'greek', 'konstantinopl', 'ownership', 'island', 'greek', 'lake', 'sorri', 'aegean', 'thing', 'compromis', 'greek', 'mention', 'wouldn', 'talk', 'educ', 'peopl', 'met', 'know', 'bad', 'person', 'turkei', 'polit', 'busi', 'busi', 'turk', 'come', 'individu', 'hatr', 'person', 'support', 'polici', 'turkish', 'gover', 'directli', 'indirecli', 'bad', 'person', 'nation', 'make', 'bad', 'support', 'action', 'gover', 'bad', 'peopl', 'hate', 'support', 'polici', 'turkish', 'gover', 'pai', 'price', 'make', 'think', 'kind', 'brainwash', 'go', 'greec', 'educ', 'person', 'treat', 'person', 'nation', 'wai', 'tell', 'histori', 'book', 'thing', 'learn', 'greek', 'turkish', 'encount', 'school', 'easi', 'tankut', 'atan', 'tankut', 'iastat', 'edu', 'achtung', 'babi', 'need', 'brainwash', 'turn', 'peopl', 'turk', 'talk', 'greek', 'arab', 'slav', 'kurd', 'peopl', 'luck', 'turkish', 'occup', 'talk', 'murder', 'rape', 'distruct', 'learn', 'turk', 'histori', 'book', 'learn', 'peopl', 'experienc', 'hand', 'turkish', 'friendli', 'napoleon', 'napoleon', 'kind', 'peopl', 'prevent', 'peac', 'world', 'answer', 'question', 'ask', 'end', 'post', 'told', 'bullshit', 'post', 'posit', 'point', 'issu', 'fill', 'hatr', 'fill', 'emot', 'forget', 'think', 'worth', 'discuss', 'issu', 'tankut', 'atan', 'tankut', 'iastat', 'edu', 'achtung', 'babi'], ['arrog', 'christian', 'previou', 'articl', 'phsd', 'vaxc', 'monash', 'edu', 'sai', 'articl', 'apr', 'atho', 'rutger', 'edu', 'freenet', 'carleton', 'mark', 'baker', 'write', 'demand', 'scintif', 'ration', 'proof', 'god', 'exist', 'deni', 'god', 'exist', 'scienc', 'reason', 'natur', 'prove', 'ask', 'believ', 'blindli', 'try', 'deni', 'make', 'ask', 'question', 'god', 'exist', 'self', 'awar', 'reason', 'us', 'abil', 'reason', 'ignor', 'anim', 'earth', 'god', 'want', 'like', 'ask', 'believ', 'thing', 'visibl', 'know', 'believ', 'blindli', 'sure', 'blind', 'come', 'deni', 'reason', 'insist', 'reason', 'draw', 'conclus', 'evid', 'decid', 'advanc', 'reason', 'act', 'evid', 'physic', 'sens', 'cut', 'reason', 'possibl', 'reach', 'conclus', 'outsid', 'physic', 'sphere', 'provoc', 'inconclus', 'conclus', 'physic', 'sphere', 'self', 'explanatori', 'christian', 'claim', 'receiv', 'differ', 'kind', 'evid', 'faith', 'gift', 'god', 'evid', 'evid', 'thing', 'choos', 'reveal', 'hide', 'evid', 'sens', 'tell', 'ting', 'exist', 'reason', 'evid', 'sens', 'won', 'help', 'christian', 'reason', 'evid', 'faith', 'claim', 'evid', 'wholli', 'consist', 'evid', 'sens', 'evid', 'sens', 'god', 'revel', 'necessarilli', 'case', 'knowledg', 'god', 'come', 'rout', 'sens', 'physic', 'on', 'provid', 'evid', 'non', 'physic', 'realiti', 'cours', 'physic', 'realiti', 'type', 'correspond', 'sens', 'know', 'sens', 'exist', 'provid', 'valid', 'evid', 'reason', 'work', 'sens', 'sens', 'impair', 'peopl', 'spiritu', 'blind', 'sens', 'belief', 'god', 'act', 'sight', 'disbelief', 'blind', 'right', 'scienc', 'reason', 'prove', 'us', 'believ', 'faith', 'us', 'faith', 'pictur', 'god', 'hinduism', 'valid', 'christian', 'faith', 'said', 'oppos', 'reason', 'simpli', 'new', 'sourc', 'evid', 'reason', 'oper', 'clear', 'human', 'be', 'system', 'explain', 'evid', 'physic', 'sens', 'similarli', 'system', 'explain', 'evid', 'provid', 'faith', 'religi', 'believ', 'gener', 'christian', 'particular', 'us', 'reason', 'help', 'sift', 'evid', 'come', 'clearer', 'understand', 'evid', 'provid', 'faith', 'scienc', 'claim', 'good', 'reason', 'valid', 'explain', 'physic', 'univers', 'christian', 'claim', 'good', 'reason', 'valid', 'possess', 'best', 'evid', 'explain', 'god', 'revel', 'man', 'doubt', 'christian', 'us', 'reason', 'read', 'newsgroup', 'ration', 'debat', 'aplenti', 'mark', 'baker', 'task', 'cut', 'jungl', 'freenet', 'carleton', 'irrig', 'desert', 'lewi'], ['sale', 'drum', 'machin', 'origin', 'zmed', 'zircon', 'alesi', 'drum', 'machin', 'sale', 'includ', 'veloc', 'sensit', 'pad', 'digit', 'sound', 'pattern', 'memori', 'song', 'memori', 'interest', 'offer', 'respond', 'zmed', 'trc', 'amoco', 'com', 'thank', 'mike'], ['tap', 'code', 'good', 'origin', 'rdippold', 'qualcom', 'qualcomm', 'com', 'random', 'presto', 'uucp', 'jeff', 'hych', 'write', 'ye', 'clipper', 'trademark', 'intergraph', 'risc', 'chip', 'thier', 'workstat', 'wonder', 'intergraph', 'go', 'infring', 'thier', 'sake', 'probabl', 'quiet', 'lest', 'kneecap', 'bust', 'good', 'new', 'week', 'fridai', 'good', 'dai'], ['tcp', 'rout', 'localtalk', 'ethernet', 'stori', 'network', 'mac', 'localtalk', 'ethernet', 'card', 'current', 'connect', 'laugh', 'got', 'price', 'mac', 'iisi', 'connect', 'internet', 'slip', 'run', 'baud', 'modem', 'current', 'telnet', 'mac', 'ethernet', 'telnet', 'rest', 'world', 'want', 'know', 'sort', 'hardwar', 'rout', 'telnet', 'session', 'localtalk', 'mac', 'ethernet', 'mac', 'heard', 'air', 'trick', 'softwar', 'solut', 'good', 'impress', 'aren', 'go', 'immedi', 'abl', 'telnet', 'slip', 'connect', 'allow', 'assign', 'number', 'machin', 'share', 'number', 'thank', 'advanc', 'benjamin', 'chuang', 'itd', 'css', 'consult', 'univers', 'michigan', 'benjamin', 'chuang', 'umich', 'edu', 'consult', 'refer', 'bchuang', 'css', 'itd', 'umich', 'edu', 'unix', 'long', 'messag'], ['merlin', 'mithra', 'magick', 'articl', 'joshua', 'apr', 'bailei', 'cpac', 'washington', 'edu', 'joshua', 'cpac', 'washington', 'edu', 'joshua', 'geller', 'wrote', 'appreci', 'brought', 'like', 'ask', 'detail', 'josh', 'excus', 'try', 'josh', 'mayb', 'try', 'inform', 'responc', 'try', 'pack', 'refer', 'pack', 'respons', 'like', 'grin', 'pegasu'], ['hezbollah', 'apr', 'yuma', 'acn', 'colost', 'edu', 'repli', 'long', 'lanc', 'colost', 'edu', 'messag', 'thu', 'apr', 'gmt', 'articl', 'apr', 'yuma', 'acn', 'colost', 'edu', 'long', 'lanc', 'colost', 'edu', 'basil', 'hamdan', 'write', 'snip', 'place', 'death', 'soldier', 'patrol', 'occupi', 'lebanes', 'terrritori', 'act', 'terror', 'murder', 'disingen', 'compar', 'death', 'athlet', 'munich', 'act', 'terror', 'mrder', 'exercis', 'aim', 'sole', 'divert', 'issu', 'far', 'truth', 'agre', 'death', 'soldier', 'patrol', 'terror', 'have', 'said', 'let', 'continu', 'snip', 'imagin', 'terrorist', 'camp', 'isra', 'like', 'view', 'villag', 'small', 'commun', 'kid', 'plai', 'soccer', 'street', 'women', 'prepar', 'lunch', 'men', 'plai', 'card', 'argu', 'villag', 'terrorist', 'camp', 'come', 'close', 'serv', 'purpos', 'function', 'wai', 'prior', 'invas', 'young', 'men', 'usual', 'ag', 'year', 'member', 'lebanes', 'resist', 'inhabit', 'villag', 'know', 'secret', 'peopl', 'suspect', 'young', 'men', 'support', 'financi', 'iran', 'time', 'sneak', 'arm', 'ammunit', 'occupi', 'zone', 'set', 'boobi', 'trap', 'isra', 'patrol', 'time', 'isra', 'soldier', 'kill', 'injur', 'trap', 'israel', 'retalli', 'indiscrimin', 'bomb', 'villag', 'choos', 'kill', 'innoc', 'civilian', 'announc', 'bomb', 'terrorist', 'hideout', 'year', 'old', 'girl', 'happen', 'villag', 'larg', 'number', 'group', 'area', 'back', 'organ', 'wide', 'rang', 'purpos', 'hizbollah', 'amal', 'larger', 'on', 'retali', 'mistak', 'far', 'indiscrimin', 'bomb', 'produc', 'major', 'casualti', 'israel', 'retalli', 'polici', 'cold', 'heart', 'realiti', 'come', 'accept', 'deal', 'lebanes', 'resist', 'hand', 'go', 'stop', 'attack', 'occupi', 'isra', 'soldier', 'withdraw', 'real', 'leverag', 'forc', 'israel', 'withdraw', 'disagre', 'think', 'israel', 'willingli', 'withdraw', 'lebanes', 'gov', 'abl', 'field', 'reliabl', 'forc', 'area', 'polic', 'prevent', 'attack', 'realist', 'solut', 'time', 'israel', 'realiz', 'concept', 'buffer', 'zone', 'aim', 'protect', 'northern', 'citi', 'fail', 'fact', 'caus', 'isra', 'death', 'occasion', 'shell', 'northern', 'israel', 'result', 'actual', 'clear', 'agre', 'death', 'toll', 'longer', 'civilian', 'primarili', 'militari', 'littl', 'incent', 'syrian', 'lebanes', 'goovern', 'allow', 'hizbollah', 'bomb', 'israel', 'proper', 'circumst', 'lebanes', 'govern', 'proven', 'capabl', 'control', 'disarm', 'militia', 'part', 'lebanon', 'syrian', 'gov', 'happi', 'israel', 'sink', 'lebanes', 'morass', 'elabor', 'necessari', 'agre', 'case', 'isar', 'soldier', 'kill', 'qualifi', 'murder', 'matter', 'regret', 'situat', 'shai', 'gudai', 'stealth', 'bomber', 'softwar', 'engin', 'think', 'machin', 'corp', 'wing', 'ninja', 'ski', 'cambridg'], ['id', 'scsi', 'vlb', 'busmast', 'slow', 'articl', 'apr', 'mnemosyn', 'edu', 'smace', 'nyx', 'edu', 'scott', 'mace', 'write', 'seen', 'happen', 'hook', 'busmast', 'control', 'vesa', 'local', 'bu', 'actual', 'slow', 'beliv', 'said', 'busmast', 'vlbu', 'pick', 'issu', 'week', 'whihc', 'test', 'vlbu', 'eisa', 'isa', 'busmast', 'card', 'vlb', 'busmast', 'bad', 'stop', 'processor', 'fetch', 'extern', 'cach', 'main', 'memori', 'vlb', 'card', 'bu', 'signific', 'slow', 'effect'], ['case', 'deal', 'lemon', 'seller', 'buyer', 'like', 'bring', 'issu', 'discuss', 'best', 'solut', 'case', 'deal', 'lemon', 'understand', 'peopl', 'sell', 'thing', 'net', 'grant', 'warranti', 'situat', 'seller', 'state', 'warranti', 'grant', 'item', 'receiv', 'order', 'seller', 'insist', 'good', 'condit', 'sent', 'return', 'half', 'ofth', 'paid', 'send', 'item', 'sure', 'bad', 'reason', 'basic', 'like', 'believ', 'seller', 'tell', 'truth', 'posit', 'wrong', 'caus', 'failur', 'thing', 'assumpt', 'honest', 'rule', 'possibl', 'parti', 'liar', 'like', 'hear', 'opinion', 'directli', 'respond', 'mail', 'address', 'know', 'risk', 'lose', 'monei', 'enjoy', 'peopl', 'wast', 'bandwidth', 'chein'], ['imak', 'book', 'review', 'xpert', 'expo', 'lc', 'mit', 'edu', 'thank', 'offer', 'review', 'book', 'receiv', 'review', 'copi', 'return', 'soon', 'possibl', 'crash', 'lost', 'list', 'peopl', 'sent', 'thank', 'adrian', 'nye', 'reilli', 'associ', 'adrian', 'ora', 'com'], ['migrain', 'scan', 'nyeda', 'cnsvax', 'uwec', 'edu', 'david', 'nye', 'neurolog', 'consult', 'cheaper', 'scan', 'better', 'neurologist', 'differenti', 'diagnosi', 'migrain', 'tension', 'type', 'headach', 'cluster', 'benign', 'intracrani', 'hypertens', 'chronic', 'paroxysm', 'hemicrania', 'headach', 'syndrom', 'appear', 'normal', 'scan', 'neurologist', 'recommend', 'cours', 'treatment', 'appropri', 'diagnosi', 'peopl', 'convinc', 'brain', 'tumor', 'patholog', 'cheaper', 'scan', 'come', 'week', 'easier', 'take', 'time', 'reassur', 'patient', 'right', 'person', 'think', 'justifi', 'sigh', 'justifi', 'try', 'thorough', 'detail', 'histori', 'neurolog', 'examin', 'discuss', 'patient', 'diagnosi', 'salt', 'lot', 'reassur', 'patient', 'ask', 'order', 'scan', 'absolut', 'sure', 'aunt', 'milli', 'get', 'convers', 'ignor', 'aunt', 'milli', 'headach', 'year', 'di', 'brain', 'tumor', 'aneurysm', 'awai', 'order', 'imag', 'patient', 'obvious', 'benign', 'headach', 'syndrom', 'like', 'hear', 'magic', 'abl', 'bypass', 'imag', 'get', 'eeg', 'mind', 'think', 'eeg', 'terribl', 'sensit', 'brain', 'tumor', 'patient', 'feel', 'like', 'hour', 'spent', 'talk', 'examin', 'patient', 'eeg', 'ioniz', 'radiat', 'cheaper', 'mri', 'eeg', 'bring', 'monei', 'depart', 'slmr', 'mail', 'jim', 'zisfein', 'factori', 'com', 'jim', 'zisfein'], ['screen', 'death', 'mac', 'plu', 'old', 'mac', 'mac', 'plu', 'problem', 'screen', 'blank', 'minor', 'physic', 'jolt', 'insert', 'floppi', 'intern', 'drive', 'left', 'goe', 'blank', 'replac', 'wire', 'connect', 'logic', 'board', 'video', 'board', 'jiggl', 'wire', 'screen', 'come', 'work', 'blank', 'return', 'need', 'new', 'power', 'suppli', 'new', 'crt', 'new', 'thank', 'advic', 'ethan', 'bodin', 'tuft', 'univers', 'ebodin', 'pearl', 'tuft', 'edu'], ['mount', 'cpu', 'cooler', 'vertic', 'case', 'instal', 'cpu', 'clone', 'motherboard', 'tri', 'mount', 'cpu', 'cooler', 'chip', 'hour', 'weight', 'cooler', 'dislodg', 'cpu', 'mount', 'end', 'bend', 'pin', 'cpu', 'luckili', 'power', 'end', 'press', 'cpu', 'deepli', 'socket', 'put', 'cpu', 'cooler', 'far', 'good', 'problem', 'ensur', 'weight', 'cpu', 'fan', 'heatsink', 'eventu', 'work', 'cpu', 'socket', 'mount', 'motherboard', 'vertic', 'case', 'est', 'internet', 'west', 'netcom', 'com'], ['sphere', 'point', 'articl', 'qkgbuinnsn', 'shellei', 'washington', 'edu', 'bolson', 'carson', 'washington', 'edu', 'edward', 'bolson', 'write', 'boi', 'embarass', 'trivial', 'faq', 'given', 'point', 'non', 'coplanar', 'sphere', 'center', 'radiu', 'exactli', 'fit', 'point', 'know', 'circl', 'point', 'immedi', 'straightforward', 'wai', 'check', 'geometri', 'book', 'graphic', 'gem', 'farin', 'loss', 'merci', 'provid', 'solut', 'wouldn', 'requir', 'hyper', 'sphere', 'space', 'point', 'specifi', 'sphere', 'far', 'prove', 'point', 'exist', 'space', 'equi', 'distant', 'point', 'necessarili', 'happen', 'correct', 'wrong', 'possibl', 'steve', 'steven', 'collin', 'email', 'steve', 'crl', 'hitachi', 'visit', 'graphic', 'research', 'phone', 'hitachi', 'central', 'research', 'lab', 'tokyo', 'fax'], ['stolen', 'cbrrr', 'stolen', 'pasadena', 'blue', 'white', 'honda', 'cbrrr', 'california', 'plate', 'cbr', 'serial', 'number', 'jhscxpm', 'engin', 'number', 'turn', 'signal', 'mirror', 'light', 'tape', 'track', 'rider', 'session', 'willow', 'spring', 'tomorrow', 'guess', 'miss', 'help', 'babi', 'kjg']]\n"
     ]
    }
   ],
   "source": [
    "# 4. a. Create a corpus as input for gensim with corpus_gen=[doc.split() for doc in data_stem]. What is this command exactly doing?\n",
    "corpus_gen= [doc.split() for doc in data_stem]\n",
    "print(corpus_gen)"
   ]
  },
  {
   "cell_type": "code",
   "execution_count": 29,
   "metadata": {},
   "outputs": [],
   "source": [
    "# b. Create a gensim Dictionary() based on the corpus. Call it id2word. Apply to it id2word.filter_extremes(no_below=566, no_above=0.95). What is this method doing?\n",
    "id2word = Dictionary(corpus_gen)\n",
    "id2word.filter_extremes(no_below=566, no_above=0.95) #takes all the words with count less than 566 and without 5% the most frequent words"
   ]
  },
  {
   "cell_type": "code",
   "execution_count": 31,
   "metadata": {},
   "outputs": [
    {
     "output_type": "stream",
     "name": "stdout",
     "text": [
      "{'call': 0, 'car': 1, 'dai': 2, 'engin': 3, 'info': 4, 'know': 5, 'look': 6, 'mail': 7, 'small': 8, 'thank': 9, 'wonder': 10, 'year': 11, 'answer': 12, 'base': 13, 'card': 14, 'edu': 15, 'experi': 16, 'final': 17, 'gui': 18, 'messag': 19, 'number': 20, 'report': 21, 'send': 22, 'actual': 23, 'advanc': 24, 'anybodi': 25, 'better': 26, 'bit': 27, 'email': 28, 'expect': 29, 'feel': 30, 'good': 31, 'got': 32, 'great': 33, 'heard': 34, 'help': 35, 'life': 36, 'like': 37, 'line': 38, 'machin': 39, 'mayb': 40, 'new': 41, 'opinion': 42, 'peopl': 43, 'plai': 44, 'post': 45, 'price': 46, 'probabl': 47, 'question': 48, 'read': 49, 'real': 50, 'recent': 51, 'start': 52, 'take': 53, 'time': 54, 'us': 55, 'wai': 56, 'address': 57, 'articl': 58, 'chip': 59, 'com': 60, 'far': 61, 'inform': 62, 'person': 63, 'phone': 64, 'point': 65, 'pretti': 66, 'requir': 67, 'stuff': 68, 'system': 69, 'thing': 70, 'write': 71, 'wrote': 72, 'check': 73, 'mean': 74, 'possibl': 75, 'right': 76, 'set': 77, 'softwar': 78, 'tell': 79, 'understand': 80, 'world': 81, 'ye': 82, 'agre': 83, 'allow': 84, 'apr': 85, 'believ': 86, 'come': 87, 'consid': 88, 'control': 89, 'cost': 90, 'cours': 91, 'exist': 92, 'follow': 93, 'given': 94, 'govern': 95, 'hand': 96, 'hard': 97, 'hope': 98, 'idea': 99, 'john': 100, 'kill': 101, 'make': 102, 'need': 103, 'non': 104, 'power': 105, 'reason': 106, 'result': 107, 'sai': 108, 'second': 109, 'state': 110, 'support': 111, 'todai': 112, 'file': 113, 'sure': 114, 'thought': 115, 'try': 116, 'accept': 117, 'avail': 118, 'correct': 119, 'data': 120, 'fact': 121, 'go': 122, 'list': 123, 'long': 124, 'love': 125, 'note': 126, 'problem': 127, 'refer': 128, 'said': 129, 'standard': 130, 'think': 131, 'true': 132, 'version': 133, 'appreci': 134, 'chang': 135, 'win': 136, 'bui': 137, 'design': 138, 'mention': 139, 'usual': 140, 'work': 141, 'wrong': 142, 'run': 143, 'want': 144, 'assum': 145, 'case': 146, 'christian': 147, 'david': 148, 'differ': 149, 'end': 150, 'exampl': 151, 'get': 152, 'god': 153, 'guess': 154, 'human': 155, 'kind': 156, 'littl': 157, 'live': 158, 'man': 159, 'mind': 160, 'type': 161, 'current': 162, 'forc': 163, 'kei': 164, 'let': 165, 'major': 166, 'manag': 167, 'mark': 168, 'place': 169, 'provid': 170, 'sourc': 171, 'space': 172, 'team': 173, 'ask': 174, 'high': 175, 'includ': 176, 'old': 177, 'repli': 178, 'sale': 179, 'sound': 180, 'caus': 181, 'gener': 182, 'group': 183, 'happen': 184, 'origin': 185, 'abl': 186, 'big': 187, 'complet': 188, 'deal': 189, 'import': 190, 'program': 191, 'won': 192, 'word': 193, 'ago': 194, 'awai': 195, 'best': 196, 'book': 197, 'care': 198, 'claim': 199, 'close': 200, 'drive': 201, 'interest': 202, 'law': 203, 'rememb': 204, 'respons': 205, 'turn': 206, 'univers': 207, 'view': 208, 'seen': 209, 'matter': 210, 'tri': 211, 'window': 212, 'order': 213, 'fax': 214, 'free': 215, 'left': 216, 'isn': 217, 'game': 218, 'lot': 219, 'local': 220, 'larg': 221, 'week': 222, 'effect': 223, 'public': 224, 'have': 225, 'american': 226, 'issu': 227, 'open': 228, 'talk': 229, 'home': 230, 'bad': 231, 'net': 232, 'posit': 233, 'area': 234, 'nation': 235, 'research': 236, 'discuss': 237, 'suggest': 238, 'internet': 239}\n"
     ]
    }
   ],
   "source": [
    "# c. Apply the following operations. What is each of them doing?\n",
    "print(id2word.token2id) # words with their tokens"
   ]
  },
  {
   "cell_type": "code",
   "execution_count": 50,
   "metadata": {},
   "outputs": [
    {
     "output_type": "stream",
     "name": "stdout",
     "text": [
      "dict_keys(['call', 'car', 'dai', 'engin', 'info', 'know', 'look', 'mail', 'small', 'thank', 'wonder', 'year', 'answer', 'base', 'card', 'edu', 'experi', 'final', 'gui', 'messag', 'number', 'report', 'send', 'actual', 'advanc', 'anybodi', 'better', 'bit', 'email', 'expect', 'feel', 'good', 'got', 'great', 'heard', 'help', 'life', 'like', 'line', 'machin', 'mayb', 'new', 'opinion', 'peopl', 'plai', 'post', 'price', 'probabl', 'question', 'read', 'real', 'recent', 'start', 'take', 'time', 'us', 'wai', 'address', 'articl', 'chip', 'com', 'far', 'inform', 'person', 'phone', 'point', 'pretti', 'requir', 'stuff', 'system', 'thing', 'write', 'wrote', 'check', 'mean', 'possibl', 'right', 'set', 'softwar', 'tell', 'understand', 'world', 'ye', 'agre', 'allow', 'apr', 'believ', 'come', 'consid', 'control', 'cost', 'cours', 'exist', 'follow', 'given', 'govern', 'hand', 'hard', 'hope', 'idea', 'john', 'kill', 'make', 'need', 'non', 'power', 'reason', 'result', 'sai', 'second', 'state', 'support', 'todai', 'file', 'sure', 'thought', 'try', 'accept', 'avail', 'correct', 'data', 'fact', 'go', 'list', 'long', 'love', 'note', 'problem', 'refer', 'said', 'standard', 'think', 'true', 'version', 'appreci', 'chang', 'win', 'bui', 'design', 'mention', 'usual', 'work', 'wrong', 'run', 'want', 'assum', 'case', 'christian', 'david', 'differ', 'end', 'exampl', 'get', 'god', 'guess', 'human', 'kind', 'littl', 'live', 'man', 'mind', 'type', 'current', 'forc', 'kei', 'let', 'major', 'manag', 'mark', 'place', 'provid', 'sourc', 'space', 'team', 'ask', 'high', 'includ', 'old', 'repli', 'sale', 'sound', 'caus', 'gener', 'group', 'happen', 'origin', 'abl', 'big', 'complet', 'deal', 'import', 'program', 'won', 'word', 'ago', 'awai', 'best', 'book', 'care', 'claim', 'close', 'drive', 'interest', 'law', 'rememb', 'respons', 'turn', 'univers', 'view', 'seen', 'matter', 'tri', 'window', 'order', 'fax', 'free', 'left', 'isn', 'game', 'lot', 'local', 'larg', 'week', 'effect', 'public', 'have', 'american', 'issu', 'open', 'talk', 'home', 'bad', 'net', 'posit', 'area', 'nation', 'research', 'discuss', 'suggest', 'internet'])\n"
     ]
    },
    {
     "output_type": "execute_result",
     "data": {
      "text/plain": [
       "240"
      ]
     },
     "metadata": {},
     "execution_count": 50
    }
   ],
   "source": [
    "print(id2word.token2id.keys()) # all the words in dict\n",
    "len(id2word.token2id.keys())"
   ]
  },
  {
   "cell_type": "code",
   "execution_count": 53,
   "metadata": {},
   "outputs": [
    {
     "output_type": "stream",
     "name": "stdout",
     "text": [
      "{1: 697, 10: 702, 2: 1361, 6: 2208, 0: 1116, 8: 602, 5: 3524, 3: 670, 11: 2043, 4: 651, 7: 1388, 9: 2036, 17: 576, 21: 601, 20: 1174, 16: 627, 22: 740, 19: 819, 14: 703, 13: 895, 12: 767, 18: 595, 15: 5726, 48: 1775, 52: 1229, 36: 725, 56: 2218, 41: 2924, 39: 609, 27: 1002, 40: 806, 25: 567, 29: 581, 34: 726, 46: 613, 38: 990, 37: 3848, 51: 629, 47: 1116, 32: 1223, 30: 705, 26: 1215, 33: 965, 31: 2334, 42: 1059, 43: 2549, 55: 2514, 53: 638, 50: 928, 44: 769, 23: 1095, 35: 1621, 24: 650, 28: 775, 45: 1800, 49: 1488, 54: 2822, 72: 808, 71: 6081, 58: 4988, 59: 582, 61: 958, 68: 571, 66: 651, 67: 729, 65: 1570, 57: 632, 64: 716, 62: 1112, 60: 3759, 69: 599, 70: 2070, 63: 1244, 81: 1023, 82: 772, 74: 1484, 80: 729, 78: 824, 73: 650, 76: 1852, 77: 990, 75: 1206, 79: 1210, 109: 865, 99: 953, 85: 2841, 100: 743, 105: 963, 102: 1108, 90: 587, 103: 2175, 89: 926, 95: 846, 107: 686, 104: 748, 92: 829, 110: 1354, 87: 1668, 86: 1434, 97: 847, 111: 964, 83: 662, 96: 787, 98: 771, 91: 1025, 108: 1287, 93: 1229, 101: 663, 106: 1298, 84: 738, 94: 674, 88: 970, 112: 706, 115: 940, 114: 1398, 116: 1621, 113: 820, 117: 665, 124: 1145, 127: 1832, 125: 573, 123: 766, 130: 671, 133: 589, 126: 811, 120: 633, 119: 576, 121: 1137, 118: 859, 129: 1302, 131: 2950, 132: 876, 122: 1322, 128: 684, 136: 641, 135: 934, 134: 678, 138: 577, 141: 2320, 142: 824, 140: 574, 139: 642, 137: 719, 143: 1381, 144: 2347, 148: 785, 150: 994, 149: 1341, 153: 846, 146: 1231, 159: 741, 147: 692, 160: 629, 158: 998, 151: 783, 156: 779, 157: 1111, 155: 582, 154: 590, 145: 639, 161: 660, 152: 1063, 172: 610, 168: 573, 165: 1326, 162: 787, 173: 582, 164: 635, 170: 761, 167: 568, 163: 580, 171: 662, 169: 1029, 166: 646, 179: 587, 175: 848, 180: 698, 176: 1124, 174: 1192, 177: 881, 178: 825, 183: 954, 184: 985, 185: 1004, 181: 772, 182: 1149, 191: 994, 187: 747, 193: 851, 188: 616, 186: 824, 190: 623, 192: 707, 189: 566, 200: 625, 201: 898, 207: 1287, 204: 722, 206: 740, 199: 754, 203: 794, 195: 743, 194: 685, 202: 1130, 197: 655, 205: 762, 208: 630, 196: 1014, 198: 637, 209: 788, 212: 1021, 211: 568, 210: 628, 213: 824, 215: 701, 214: 603, 216: 642, 217: 801, 218: 778, 219: 1176, 220: 578, 221: 643, 222: 659, 223: 708, 224: 743, 225: 842, 226: 614, 229: 930, 228: 602, 227: 723, 230: 647, 231: 793, 232: 707, 233: 570, 234: 628, 235: 679, 236: 611, 237: 631, 238: 767, 239: 701}\n"
     ]
    }
   ],
   "source": [
    "#Document frequencies: token_id -> how many documents contain this token.\n",
    "print(id2word.dfs)"
   ]
  },
  {
   "cell_type": "code",
   "execution_count": 48,
   "metadata": {
    "tags": [
     "outputPrepend"
    ]
   },
   "outputs": [
    {
     "output_type": "stream",
     "name": "stdout",
     "text": [
      "4, 1), (47, 1), (58, 1), (71, 1), (81, 3), (148, 1), (168, 1), (173, 1), (193, 1), (209, 1), (216, 1)], [(1, 6), (2, 1), (4, 1), (5, 1), (9, 1), (11, 1), (15, 3), (20, 2), (32, 1), (40, 1), (41, 1), (43, 1), (47, 1), (48, 1), (55, 1), (56, 1), (58, 2), (60, 3), (61, 1), (63, 1), (65, 1), (67, 7), (68, 1), (70, 1), (71, 2), (87, 2), (102, 2), (106, 1), (110, 2), (111, 1), (116, 1), (123, 1), (125, 1), (127, 1), (131, 1), (146, 1), (148, 1), (149, 1), (158, 1), (162, 1), (181, 1), (183, 1), (201, 4), (204, 1), (209, 2), (211, 1), (219, 1), (220, 1), (224, 4), (238, 1)], [(0, 1), (1, 7), (3, 2), (5, 2), (10, 1), (15, 3), (16, 1), (18, 1), (19, 1), (27, 1), (28, 1), (37, 3), (40, 1), (43, 1), (45, 1), (52, 1), (54, 2), (58, 2), (60, 1), (62, 2), (70, 2), (71, 1), (73, 1), (78, 1), (80, 1), (86, 2), (103, 3), (105, 1), (118, 1), (127, 1), (131, 2), (134, 1), (137, 1), (141, 3), (149, 1), (156, 1), (169, 1), (175, 1), (196, 1), (202, 2), (212, 1), (219, 1), (220, 1), (224, 1), (232, 1)], [(5, 2), (7, 1), (9, 1), (24, 1), (32, 1), (97, 1), (103, 1), (165, 1), (185, 1), (186, 1)], [(8, 1), (19, 1), (33, 1), (43, 1), (55, 1), (58, 1), (60, 1), (71, 1), (85, 5), (118, 1), (134, 1), (165, 1), (178, 1), (191, 1), (201, 1), (232, 1)], [(5, 1), (15, 2), (55, 1), (60, 1), (66, 1), (70, 1), (71, 1), (85, 1), (87, 1), (100, 1), (110, 1), (121, 2), (212, 1)], [(0, 1), (4, 3), (5, 2), (6, 1), (7, 1), (12, 2), (20, 8), (21, 3), (35, 1), (37, 1), (38, 2), (40, 2), (43, 1), (45, 1), (47, 2), (49, 2), (53, 1), (55, 8), (56, 8), (61, 1), (62, 1), (69, 1), (71, 8), (73, 10), (74, 6), (75, 3), (76, 2), (77, 30), (81, 1), (83, 1), (84, 1), (92, 1), (93, 5), (94, 2), (97, 1), (98, 1), (99, 1), (102, 1), (103, 2), (104, 1), (105, 8), (109, 4), (111, 5), (114, 1), (116, 1), (119, 1), (120, 4), (123, 6), (126, 1), (128, 1), (130, 2), (139, 1), (141, 4), (143, 1), (146, 1), (150, 2), (154, 1), (156, 1), (157, 1), (158, 1), (160, 1), (161, 7), (162, 2), (164, 1), (165, 1), (168, 2), (169, 1), (174, 1), (176, 1), (186, 1), (195, 1), (200, 22), (201, 109), (207, 2), (208, 1), (213, 3), (214, 3), (216, 2), (217, 1), (225, 1), (228, 20), (233, 3)], [(15, 2), (58, 1), (60, 2), (71, 1), (86, 1), (166, 1), (207, 1), (208, 2)], [(5, 1), (11, 3), (13, 1), (15, 2), (23, 1), (32, 1), (41, 2), (45, 1), (49, 1), (76, 1), (82, 1), (102, 1), (122, 1), (142, 1), (178, 1), (208, 1), (215, 3), (218, 7), (230, 1)], [(58, 1), (60, 2), (64, 1), (71, 1), (148, 1), (212, 1), (214, 1), (235, 1)], [(5, 1), (11, 3), (33, 1), (37, 1), (42, 2), (43, 3), (54, 1), (57, 1), (58, 3), (60, 5), (71, 3), (79, 1), (85, 1), (108, 1), (110, 1), (146, 2), (177, 3), (203, 1), (206, 1), (215, 1), (219, 2)], [(76, 1), (92, 1), (108, 1), (172, 1)], [(7, 1), (9, 1), (15, 1), (24, 1), (72, 1), (79, 1), (196, 1), (212, 3)], [(2, 1), (15, 5), (41, 2), (44, 1), (48, 1), (54, 1), (58, 2), (71, 2), (76, 1), (77, 1), (81, 2), (85, 2), (87, 1), (91, 1), (106, 1), (110, 1), (131, 2), (139, 1), (146, 1), (162, 2), (203, 2), (207, 2), (208, 1)], [(13, 2), (15, 2), (25, 1), (27, 1), (46, 1), (58, 2), (60, 3), (71, 1), (72, 1), (85, 1), (124, 1)], [(3, 1), (5, 1), (15, 3), (18, 1), (31, 1), (33, 2), (37, 2), (41, 1), (47, 1), (48, 1), (58, 1), (65, 1), (70, 1), (71, 1), (80, 1), (87, 1), (91, 1), (116, 1), (124, 1), (144, 2), (150, 2), (172, 1), (201, 5), (217, 1), (219, 1)], [(5, 1), (11, 1), (15, 1), (16, 1), (41, 1), (42, 1), (43, 1), (48, 1), (71, 1), (76, 1), (81, 1), (87, 1), (102, 1), (116, 1), (124, 1), (131, 2), (173, 2), (183, 2), (187, 1), (202, 1), (207, 1), (215, 1), (219, 1)], [(15, 1), (28, 1), (35, 1), (37, 1), (39, 2), (41, 1), (50, 1), (54, 2), (57, 1), (58, 1), (70, 1), (71, 2), (76, 1), (99, 1), (103, 1), (114, 1), (116, 2), (120, 3), (134, 1), (148, 1), (161, 1), (169, 1), (171, 1), (176, 1), (186, 1), (191, 1), (207, 1), (215, 2)], [(12, 1), (20, 1), (34, 1), (132, 1)], [(33, 1), (48, 1), (50, 1), (56, 1), (112, 1), (115, 1), (129, 1), (152, 1), (218, 2)], [(5, 2), (20, 1), (23, 1), (59, 1), (64, 3), (87, 1), (91, 1), (131, 1), (150, 5), (164, 2), (174, 1), (213, 1)], [(5, 3), (6, 3), (7, 1), (13, 1), (15, 3), (22, 1), (31, 1), (42, 1), (56, 1), (58, 1), (71, 1), (73, 1), (75, 1), (77, 1), (79, 1), (84, 1), (87, 1), (103, 2), (106, 1), (109, 1), (112, 1), (116, 4), (117, 1), (127, 2), (130, 1), (134, 1), (146, 1), (150, 2), (154, 1), (157, 2), (161, 1), (165, 1), (169, 1), (172, 1), (174, 1), (178, 1), (182, 1), (186, 1), (195, 1), (196, 1), (200, 1), (201, 8), (205, 1), (216, 1), (228, 3), (234, 1)], [(4, 1), (5, 1), (72, 1), (81, 1), (117, 1), (127, 1), (131, 1), (134, 1), (144, 1), (169, 1), (174, 1), (202, 1), (232, 1), (238, 2)], [(6, 3), (10, 1), (13, 2), (30, 3), (37, 1), (41, 1), (42, 1), (43, 1), (51, 1), (55, 1), (63, 2), (65, 2), (71, 3), (76, 1), (77, 2), (78, 4), (87, 1), (90, 1), (104, 2), (114, 1), (118, 1), (126, 1), (127, 1), (131, 1), (137, 1), (148, 1), (166, 2), (175, 1), (181, 2), (183, 1), (188, 1), (196, 1), (208, 2), (212, 1), (215, 3)], [(6, 1), (15, 2), (21, 1), (31, 1), (37, 1), (38, 1), (54, 1), (58, 1), (71, 1), (85, 1), (103, 1), (132, 1), (144, 1), (193, 1)], [(7, 1), (43, 1), (55, 1), (62, 1), (80, 1), (118, 1), (119, 1), (192, 1)], [(9, 1), (27, 1), (37, 1), (143, 1), (171, 2)], [(3, 2), (9, 1), (17, 1), (20, 1), (37, 1), (60, 2), (62, 1), (66, 1), (69, 2), (90, 4), (97, 3), (114, 1), (143, 1), (200, 1), (201, 2)], [(7, 3), (9, 1), (28, 1), (38, 1), (45, 2), (60, 11), (64, 2), (73, 1), (74, 1), (77, 1), (85, 5), (123, 1), (127, 2), (152, 1), (163, 1), (171, 1), (178, 1), (183, 2), (212, 3), (214, 2)], [(42, 1), (60, 1), (103, 1), (105, 2), (110, 1), (111, 1), (116, 1), (144, 1), (175, 2), (229, 1), (230, 1)], [(3, 1), (5, 1), (8, 1), (15, 3), (29, 2), (43, 2), (53, 1), (58, 1), (63, 1), (71, 1), (85, 1), (87, 1), (99, 1), (106, 1), (117, 1), (127, 2), (131, 2), (132, 1), (136, 1), (144, 1), (147, 2), (158, 1), (159, 1), (160, 1), (207, 2), (208, 2), (227, 1), (229, 1), (231, 1), (233, 1)], [(0, 1), (5, 1), (6, 1), (15, 1), (18, 2), (22, 1), (23, 2), (27, 1), (31, 2), (32, 2), (37, 2), (39, 1), (41, 1), (43, 3), (45, 1), (47, 2), (50, 1), (55, 1), (60, 1), (64, 2), (71, 2), (76, 1), (79, 1), (82, 1), (91, 1), (95, 1), (105, 1), (120, 1), (121, 1), (122, 2), (144, 2), (152, 1), (156, 1), (164, 3), (165, 3), (169, 2), (182, 1), (187, 1), (195, 1), (203, 1), (219, 1), (227, 2)], [(5, 2), (32, 1), (40, 2), (45, 1), (53, 1), (58, 2), (60, 6), (61, 1), (70, 1), (71, 2), (79, 2), (84, 1), (85, 2), (92, 1), (103, 1), (117, 1), (121, 2), (128, 1), (131, 3), (144, 1), (157, 1), (159, 1), (178, 1), (184, 1), (198, 1), (199, 1), (213, 1), (228, 1), (237, 1)], [(5, 1), (9, 1), (15, 1), (35, 1), (72, 1), (103, 1)], [(15, 2), (38, 3), (39, 1), (43, 1), (45, 1), (49, 1), (54, 1), (71, 1), (76, 2), (86, 2), (97, 1), (99, 1), (109, 1), (111, 1), (152, 1), (157, 1), (198, 1), (203, 1), (228, 1)], [(2, 1), (5, 3), (6, 1), (11, 3), (18, 1), (23, 1), (33, 1), (34, 2), (35, 1), (37, 5), (43, 1), (51, 1), (54, 2), (55, 1), (59, 3), (66, 1), (68, 3), (76, 2), (86, 1), (87, 1), (104, 1), (106, 2), (107, 2), (108, 1), (112, 1), (114, 1), (119, 1), (124, 2), (129, 1), (130, 1), (150, 3), (152, 1), (161, 2), (169, 3), (175, 1), (184, 2), (187, 2), (194, 2), (196, 1), (199, 1), (201, 1), (204, 3), (209, 1), (219, 2), (236, 1)], [(36, 1), (54, 1), (96, 1), (100, 1), (129, 1), (144, 1), (153, 5), (158, 1), (159, 4), (195, 1), (209, 5)], [(0, 1), (15, 2), (22, 1), (31, 1), (43, 2), (49, 1), (58, 1), (60, 1), (65, 2), (71, 2), (74, 1), (75, 1), (93, 1), (99, 1), (125, 2), (147, 1), (153, 3), (158, 3), (202, 1), (207, 1), (225, 1)], [(2, 1), (8, 1), (15, 2), (18, 2), (37, 2), (45, 1), (47, 1), (55, 1), (56, 1), (68, 1), (71, 1), (75, 2), (84, 1), (99, 1), (102, 1), (109, 1), (129, 1), (159, 1), (185, 1), (202, 1), (213, 1), (219, 1), (221, 1)], [(9, 1), (14, 2), (15, 1), (28, 1), (144, 2), (177, 2), (178, 1)], [(7, 1), (9, 1), (22, 1), (38, 1), (60, 1), (62, 1), (79, 1), (93, 1), (118, 1), (173, 1), (178, 2), (213, 1), (218, 3), (230, 2)], [(5, 1), (28, 1), (35, 1), (45, 1), (60, 2), (92, 2), (103, 2), (144, 1), (212, 1)], [(5, 1), (8, 1), (15, 1), (16, 1), (31, 1), (37, 1), (38, 1), (43, 1), (48, 1), (55, 1), (58, 2), (60, 3), (67, 1), (68, 1), (71, 2), (73, 1), (93, 1), (100, 2), (114, 1), (128, 1), (131, 1), (141, 2), (144, 1), (157, 2), (161, 1), (162, 1), (175, 1), (197, 1), (220, 1), (234, 1)], [(5, 1), (8, 1), (11, 1), (19, 1), (34, 1), (40, 1), (41, 1), (44, 1), (50, 1), (56, 1), (58, 1), (71, 1), (85, 2), (88, 1), (107, 1), (154, 1), (173, 4), (178, 1), (204, 1), (217, 2), (218, 1), (230, 1)], [(1, 1), (2, 1), (5, 1), (6, 1), (7, 4), (8, 1), (13, 4), (14, 1), (20, 2), (22, 2), (26, 1), (33, 3), (35, 1), (36, 1), (37, 1), (38, 1), (41, 4), (42, 1), (43, 6), (45, 2), (46, 1), (47, 1), (49, 3), (51, 1), (54, 2), (55, 1), (56, 2), (57, 5), (58, 1), (60, 1), (62, 1), (63, 1), (71, 8), (72, 3), (75, 1), (76, 2), (77, 2), (81, 3), (86, 2), (88, 2), (92, 9), (93, 1), (96, 1), (99, 2), (100, 1), (102, 2), (104, 3), (106, 1), (108, 1), (109, 1), (110, 1), (113, 1), (114, 1), (115, 2), (116, 1), (118, 2), (123, 2), (131, 1), (132, 1), (133, 4), (138, 3), (141, 3), (146, 1), (147, 10), (149, 2), (151, 1), (153, 16), (155, 5), (156, 1), (158, 3), (159, 1), (160, 1), (169, 1), (175, 1), (176, 5), (177, 2), (178, 1), (183, 1), (185, 2), (193, 1), (196, 1), (197, 17), (200, 1), (201, 1), (207, 3), (208, 3), (211, 1), (214, 2), (223, 1), (226, 8), (232, 2), (233, 3), (234, 2), (235, 3)], [(2, 1), (6, 1), (11, 1), (15, 1), (25, 1), (52, 1), (54, 1), (56, 1), (60, 1), (71, 2), (88, 2), (95, 1), (96, 2), (131, 1), (153, 1), (165, 1), (184, 2), (194, 1), (227, 1)], [(37, 1), (41, 1), (45, 1), (56, 1), (57, 1), (58, 1), (71, 1), (76, 1), (85, 1), (103, 1), (111, 1), (121, 1), (131, 1), (135, 1), (141, 1), (146, 1), (188, 1), (206, 2), (216, 5), (237, 1)], [(11, 1), (15, 1), (41, 1), (72, 1), (110, 2), (150, 2), (177, 1), (184, 1), (185, 1)], [(4, 1), (5, 2), (7, 2), (11, 1), (20, 1), (37, 1), (41, 1), (50, 1), (57, 1), (64, 1), (144, 2), (162, 1), (185, 1), (194, 1), (202, 1), (214, 1), (236, 1)], [(12, 1), (15, 1), (20, 1), (25, 1), (31, 1), (43, 3), (48, 4), (49, 1), (52, 1), (70, 2), (71, 1), (79, 2), (80, 1), (93, 2), (101, 1), (103, 1), (106, 1), (107, 1), (114, 1), (129, 1), (144, 1), (174, 1), (186, 1), (197, 1), (202, 1), (213, 2), (221, 1)], [(15, 3), (31, 1), (37, 1), (71, 1), (95, 1), (239, 1)], [(15, 3), (26, 2), (37, 1), (56, 1), (58, 1), (71, 1), (73, 1), (74, 1), (85, 1), (101, 1), (103, 1), (114, 1), (144, 1), (158, 1), (222, 1)], [(3, 1), (5, 1), (15, 1), (37, 1), (47, 1), (50, 1), (58, 1), (60, 1), (61, 1), (71, 1), (77, 1), (78, 2), (89, 1), (92, 1), (149, 1), (166, 1), (175, 1), (180, 1), (181, 1), (184, 1), (225, 1), (228, 1), (232, 1)], [(7, 1), (13, 1), (19, 1), (23, 1), (26, 1), (41, 3), (43, 2), (50, 1), (51, 1), (52, 1), (53, 1), (54, 1), (55, 4), (57, 1), (58, 1), (60, 2), (62, 4), (71, 1), (75, 2), (86, 1), (89, 1), (92, 1), (93, 1), (95, 2), (99, 2), (103, 2), (106, 1), (112, 1), (113, 2), (117, 1), (129, 2), (130, 1), (146, 1), (158, 2), (168, 1), (169, 1), (170, 1), (173, 5), (175, 3), (176, 1), (181, 1), (183, 2), (191, 8), (202, 1), (205, 3), (210, 1), (220, 3), (224, 1), (225, 2), (230, 2), (234, 2), (235, 2)], [(5, 1), (15, 2), (37, 1), (38, 2), (42, 2), (43, 4), (45, 2), (49, 1), (53, 1), (54, 1), (60, 1), (71, 2), (76, 1), (86, 1), (101, 8), (114, 1), (141, 4), (144, 1), (149, 1), (154, 1), (156, 1), (160, 1), (163, 1), (165, 1), (184, 2), (197, 1), (201, 2), (206, 1), (226, 1), (229, 1)], [(0, 1), (6, 1), (12, 2), (15, 2), (34, 1), (37, 1), (48, 3), (50, 1), (58, 1), (71, 1), (75, 1), (81, 1), (82, 1), (85, 1), (86, 1), (91, 1), (99, 1), (111, 1), (149, 1), (153, 5), (156, 1), (174, 1), (181, 1), (193, 1), (202, 1), (207, 1)], [(5, 1), (7, 1), (47, 1), (58, 1), (71, 1), (85, 1), (103, 1), (108, 1), (130, 2), (134, 1), (147, 1), (176, 3), (178, 1)], [(5, 3), (6, 1), (11, 2), (15, 2), (21, 2), (37, 1), (40, 1), (41, 2), (42, 2), (43, 5), (48, 1), (49, 1), (56, 3), (58, 3), (60, 1), (63, 1), (71, 1), (75, 3), (79, 1), (81, 1), (85, 1), (86, 2), (87, 2), (92, 1), (102, 1), (106, 1), (108, 1), (110, 3), (111, 2), (121, 4), (123, 1), (124, 1), (130, 1), (132, 1), (139, 1), (146, 2), (154, 1), (165, 1), (169, 2), (184, 1), (188, 2), (193, 1), (195, 1), (198, 1), (200, 1), (210, 1), (211, 1), (213, 1), (215, 1), (217, 1), (224, 5), (225, 1), (226, 1), (227, 1), (238, 1)], [(9, 1), (15, 2), (17, 1), (41, 3), (43, 1), (49, 1), (70, 1), (71, 1), (74, 1), (77, 1), (78, 1), (85, 1), (127, 2), (128, 1), (134, 1), (136, 2), (144, 1), (152, 1), (157, 1), (166, 1), (169, 1), (189, 1)], [(1, 6), (3, 5), (4, 1), (6, 1), (7, 1), (9, 1), (11, 1), (12, 1), (15, 2), (23, 1), (24, 1), (26, 1), (29, 4), (31, 1), (36, 1), (38, 1), (39, 1), (41, 1), (46, 3), (48, 1), (51, 1), (55, 1), (57, 1), (58, 1), (60, 1), (66, 2), (69, 1), (71, 1), (77, 1), (87, 1), (90, 1), (99, 1), (103, 1), (122, 1), (132, 1), (137, 1), (141, 4), (144, 1), (150, 1), (152, 1), (177, 2), (180, 1), (183, 1), (186, 2), (188, 1), (200, 1), (213, 1), (215, 1), (229, 1), (234, 1)], [(5, 2), (7, 1), (9, 1), (14, 6), (15, 6), (20, 1), (25, 2), (37, 1), (40, 1), (41, 1), (56, 1), (58, 2), (60, 1), (71, 2), (73, 2), (85, 1), (89, 1), (109, 1), (111, 1), (114, 1), (122, 1), (127, 3), (136, 1), (141, 1), (186, 1), (212, 2), (214, 1), (220, 3), (231, 1), (238, 1), (239, 1)], [(25, 1), (37, 1), (124, 1)], [(5, 1), (15, 1), (29, 1), (33, 1), (34, 1), (44, 2), (49, 1), (54, 1), (58, 2), (60, 2), (71, 2), (85, 1), (105, 1), (110, 1), (119, 1), (124, 1), (141, 2), (152, 1), (154, 1), (166, 1), (187, 2), (204, 1), (218, 1), (225, 2)], [(8, 1), (31, 1), (37, 1), (48, 1), (60, 1), (65, 3), (71, 1), (91, 1), (127, 1), (131, 1), (138, 1), (200, 1), (216, 1), (217, 1)], [(6, 2), (11, 3), (15, 4), (16, 1), (17, 4), (23, 1), (31, 6), (32, 2), (33, 3), (37, 3), (40, 1), (44, 2), (45, 1), (47, 2), (54, 5), (58, 2), (65, 1), (66, 3), (71, 3), (75, 1), (97, 3), (102, 1), (105, 1), (112, 1), (127, 1), (129, 2), (131, 3), (132, 1), (136, 5), (139, 1), (142, 1), (143, 2), (146, 2), (152, 1), (157, 1), (173, 13), (185, 1), (186, 1), (192, 1), (194, 1), (196, 2), (199, 3), (209, 1), (217, 1), (218, 2), (231, 1), (233, 1)], [(1, 2), (3, 1), (4, 1), (6, 3), (7, 1), (9, 1), (15, 3), (37, 1), (41, 1), (46, 1), (58, 1), (62, 1), (66, 1), (71, 3), (97, 2), (114, 2), (131, 3), (141, 1), (142, 1), (143, 1), (154, 1), (174, 1), (180, 1), (202, 1), (207, 1), (219, 1), (234, 1)], [(7, 1), (9, 1), (15, 1), (24, 1), (25, 1), (27, 5), (33, 1), (35, 1), (55, 1), (75, 1), (77, 1), (111, 1), (144, 1), (148, 1), (191, 1)], [(4, 1), (11, 1), (12, 1), (13, 2), (14, 1), (37, 2), (39, 1), (43, 2), (48, 1), (49, 1), (56, 1), (59, 5), (60, 1), (63, 1), (69, 1), (70, 1), (71, 1), (77, 1), (93, 1), (103, 3), (114, 1), (115, 1), (126, 1), (131, 3), (133, 1), (144, 1), (148, 1), (152, 1), (186, 1), (198, 1), (213, 4)], [(1, 1), (11, 1), (58, 2), (60, 2), (69, 2), (70, 1), (71, 2), (85, 1), (89, 1), (95, 1), (107, 1), (152, 1), (185, 1), (206, 1), (216, 1), (235, 1)], [(0, 1), (1, 4), (3, 1), (8, 2), (15, 2), (32, 1), (37, 1), (44, 1), (49, 1), (56, 1), (58, 1), (60, 2), (70, 3), (71, 1), (75, 1), (77, 3), (79, 1), (81, 1), (85, 1), (87, 3), (101, 1), (106, 1), (112, 1), (114, 1), (115, 1), (122, 1), (131, 1), (141, 1), (144, 1), (159, 1), (174, 1), (180, 1), (195, 1), (203, 1), (216, 1), (227, 1)], [(9, 1), (11, 1), (15, 1), (22, 1), (28, 1), (45, 1), (57, 1), (88, 1), (93, 1), (103, 1), (106, 1), (174, 1), (178, 1), (179, 2)], [(6, 1), (37, 1), (38, 7), (40, 1), (44, 1), (52, 1), (56, 1), (58, 1), (60, 2), (70, 1), (71, 1), (73, 3), (74, 1), (110, 1), (116, 1), (119, 1), (131, 1), (140, 2), (149, 1), (207, 1), (219, 1), (238, 1)], [(2, 7), (5, 2), (7, 1), (10, 1), (15, 1), (26, 1), (30, 1), (31, 1), (33, 1), (37, 1), (41, 2), (43, 1), (45, 2), (54, 1), (55, 2), (56, 1), (70, 1), (86, 1), (87, 1), (89, 7), (97, 1), (106, 1), (111, 2), (115, 1), (116, 2), (119, 1), (122, 2), (131, 1), (141, 5), (150, 1), (152, 1), (157, 1), (168, 1), (186, 1), (201, 1), (206, 1), (213, 5), (220, 1), (225, 1), (231, 1), (239, 1)], [(5, 1), (44, 1), (48, 2), (71, 1), (99, 1), (100, 1), (158, 1), (204, 1), (210, 1)], [(8, 1), (9, 1), (79, 1), (127, 1), (168, 1), (180, 1), (218, 1), (225, 1)], [(5, 2), (6, 1), (21, 1), (34, 1), (37, 1), (44, 1), (49, 1), (51, 1), (60, 1), (75, 1), (96, 1), (106, 1), (109, 1), (115, 2), (122, 1), (129, 1), (132, 3), (163, 1), (166, 1), (173, 4), (175, 1), (192, 1), (204, 1), (206, 1), (230, 1), (236, 1)], [(5, 1), (6, 1), (12, 1), (15, 8), (18, 1), (26, 1), (34, 1), (37, 1), (41, 1), (43, 7), (45, 2), (46, 1), (48, 1), (49, 1), (52, 1), (54, 2), (56, 3), (58, 3), (63, 5), (65, 1), (67, 1), (70, 3), (71, 2), (75, 1), (76, 1), (79, 1), (81, 1), (85, 3), (86, 1), (87, 3), (95, 2), (96, 1), (97, 1), (102, 2), (103, 1), (105, 1), (108, 1), (110, 1), (111, 3), (112, 1), (115, 1), (116, 3), (117, 2), (122, 1), (131, 3), (139, 1), (150, 1), (151, 1), (156, 2), (158, 1), (163, 1), (167, 1), (174, 1), (184, 1), (197, 2), (203, 2), (204, 2), (205, 1), (206, 1), (225, 1), (227, 2), (229, 3), (231, 5), (233, 2), (235, 2), (237, 1)], [(5, 2), (15, 2), (24, 1), (31, 2), (35, 2), (37, 1), (41, 1), (43, 1), (48, 1), (49, 1), (55, 5), (58, 2), (69, 2), (70, 2), (71, 1), (75, 1), (76, 1), (79, 1), (80, 1), (85, 1), (86, 5), (87, 3), (91, 1), (92, 5), (102, 1), (104, 1), (106, 17), (108, 1), (114, 1), (116, 1), (129, 1), (141, 1), (144, 1), (146, 1), (147, 7), (149, 1), (153, 10), (155, 1), (156, 1), (159, 1), (161, 1), (168, 2), (170, 4), (171, 1), (174, 3), (182, 1), (192, 1), (196, 1), (199, 4), (207, 1)], [(9, 1), (39, 2), (60, 1), (176, 1), (179, 2), (180, 1), (185, 1), (202, 1)], [(2, 1), (10, 1), (31, 3), (41, 1), (47, 1), (59, 1), (60, 1), (71, 1), (82, 1), (122, 1), (185, 1), (222, 1)], [(5, 1), (9, 1), (14, 1), (15, 2), (19, 1), (20, 2), (24, 1), (31, 1), (32, 1), (34, 1), (39, 1), (46, 1), (78, 1), (81, 1), (84, 1), (122, 1), (124, 1), (128, 1), (143, 1), (144, 1), (162, 2), (186, 1), (207, 1), (239, 1)], [(15, 2), (37, 2), (40, 1), (58, 1), (62, 1), (72, 1), (85, 1), (116, 3), (128, 1), (134, 1), (174, 1), (205, 1)], [(3, 1), (5, 1), (8, 1), (11, 2), (14, 1), (15, 4), (19, 1), (20, 1), (23, 1), (37, 1), (39, 1), (43, 1), (44, 2), (50, 1), (54, 3), (56, 1), (58, 1), (61, 2), (71, 1), (77, 1), (78, 1), (83, 3), (84, 1), (85, 3), (87, 2), (89, 1), (95, 1), (96, 1), (101, 3), (107, 1), (111, 1), (117, 1), (121, 1), (122, 1), (124, 2), (129, 1), (131, 2), (140, 1), (146, 1), (157, 1), (163, 2), (165, 1), (166, 1), (169, 1), (177, 1), (178, 1), (181, 1), (183, 1), (184, 1), (186, 1), (189, 1), (200, 1), (208, 1), (210, 1), (221, 1), (225, 1), (227, 1), (234, 2)], [(14, 2), (15, 2), (23, 1), (58, 1), (71, 1), (85, 1), (89, 1), (129, 1), (184, 1), (209, 1), (220, 1), (222, 1), (223, 1), (227, 1), (231, 1)], [(5, 1), (7, 1), (22, 1), (31, 1), (37, 3), (42, 1), (43, 2), (57, 1), (70, 2), (75, 1), (79, 1), (80, 1), (86, 1), (106, 1), (110, 1), (114, 1), (142, 1), (146, 2), (181, 1), (189, 2), (196, 1), (213, 1), (227, 1), (231, 1), (232, 1), (233, 1), (237, 1)], [(9, 2), (15, 1), (43, 1), (60, 1), (75, 1), (123, 1), (197, 2)], [(7, 1), (11, 1), (15, 1), (26, 1), (30, 1), (37, 2), (43, 1), (53, 1), (54, 1), (60, 1), (63, 1), (76, 1), (87, 1), (91, 1), (114, 1), (116, 1), (131, 2), (148, 1), (152, 2), (160, 1), (161, 1), (174, 1), (186, 1), (195, 1), (213, 2), (219, 1), (222, 1), (229, 1), (237, 1)], [(9, 1), (15, 1), (41, 3), (87, 1), (103, 1), (105, 1), (127, 1), (141, 1), (177, 1), (201, 1), (207, 1), (216, 1)], [(31, 1), (59, 1), (60, 1), (61, 1), (105, 1), (127, 1), (141, 1), (146, 2), (150, 2), (211, 1), (239, 1)], [(5, 1), (15, 2), (28, 1), (56, 1), (58, 1), (61, 1), (64, 1), (65, 7), (67, 1), (71, 1), (73, 1), (75, 1), (92, 1), (94, 1), (104, 1), (119, 1), (142, 1), (170, 1), (172, 2), (184, 1), (197, 1), (214, 1), (236, 2)], [(3, 1), (20, 2), (35, 1), (154, 1), (206, 1)]]\n"
     ]
    },
    {
     "output_type": "execute_result",
     "data": {
      "text/plain": [
       "11314"
      ]
     },
     "metadata": {},
     "execution_count": 48
    }
   ],
   "source": [
    "#Convert document (a list of words) into the bag-of-words format = list of (token_id, token_count) 2-tuples.\n",
    "corpus1 = [id2word.doc2bow(doc) for doc in corpus_gen] \n",
    "print(corpus1)\n",
    "len(corpus1)"
   ]
  },
  {
   "cell_type": "code",
   "execution_count": 47,
   "metadata": {
    "tags": []
   },
   "outputs": [
    {
     "output_type": "stream",
     "name": "stdout",
     "text": [
      "[(0, 0.058823529411764705), (1, 0.29411764705882354), (2, 0.058823529411764705), (3, 0.058823529411764705), (4, 0.058823529411764705), (5, 0.058823529411764705), (6, 0.11764705882352941), (7, 0.058823529411764705), (8, 0.058823529411764705), (9, 0.058823529411764705), (10, 0.058823529411764705), (11, 0.058823529411764705)]\n"
     ]
    },
    {
     "output_type": "execute_result",
     "data": {
      "text/plain": [
       "11314"
      ]
     },
     "metadata": {},
     "execution_count": 47
    }
   ],
   "source": [
    "corpus2 = [[(token[0],(token[1]/sum(n for _, n in doc))) for token in doc] for doc in corpus1] # tuple (token id, IDFs) for each word in each doc. w/o normalization?\n",
    "print(corpus2[0])\n",
    "len(corpus2)"
   ]
  },
  {
   "cell_type": "code",
   "execution_count": 46,
   "metadata": {},
   "outputs": [
    {
     "output_type": "execute_result",
     "data": {
      "text/plain": [
       "11314"
      ]
     },
     "metadata": {},
     "execution_count": 46
    }
   ],
   "source": [
    "# tuple (token id, 1)\n",
    "corpus3=[[(token[0],1) for token in doc] for doc in corpus1]\n",
    "corpus3[0]\n",
    "len(corpus3)"
   ]
  },
  {
   "cell_type": "code",
   "execution_count": 52,
   "metadata": {
    "tags": []
   },
   "outputs": [
    {
     "output_type": "stream",
     "name": "stdout",
     "text": [
      "[(0, 0.14397605792925167), (1, 0.8661756897052311), (2, 0.1316396218024463), (3, 0.17569085919746014), (4, 0.17747902617106662), (5, 0.07250388928623666), (6, 0.20312674067620154), (7, 0.13041858058126876), (8, 0.18234302967391078), (9, 0.1066043895592759), (10, 0.17279083266070747), (11, 0.10639104965460928)]\n"
     ]
    },
    {
     "output_type": "execute_result",
     "data": {
      "text/plain": [
       "12"
      ]
     },
     "metadata": {},
     "execution_count": 52
    }
   ],
   "source": [
    "tfidf = TfidfModel(dictionary=id2word, normalize=True) #. Normalize document vectors to unit euclidean length\n",
    "corpus4 = [tfidf[id2word.doc2bow(doc)] for doc in corpus_gen] #apply TF-IDF with normalization for each word\n",
    "print(corpus4[0])\n",
    "len(corpus4[0])"
   ]
  },
  {
   "cell_type": "code",
   "execution_count": 49,
   "metadata": {},
   "outputs": [
    {
     "output_type": "execute_result",
     "data": {
      "text/plain": [
       "240"
      ]
     },
     "metadata": {},
     "execution_count": 49
    }
   ],
   "source": [
    "len(vectorizerA.get_feature_names())"
   ]
  },
  {
   "cell_type": "code",
   "execution_count": 71,
   "metadata": {},
   "outputs": [
    {
     "output_type": "execute_result",
     "data": {
      "text/plain": [
       "   count_doc                         IDF appearance                   IDF_norm\n",
       "0     (0, 1)   (0, 0.058823529411764705)     (0, 1)   (0, 0.14397605792925167)\n",
       "1     (1, 5)    (1, 0.29411764705882354)     (1, 1)    (1, 0.8661756897052311)\n",
       "2     (2, 1)   (2, 0.058823529411764705)     (2, 1)    (2, 0.1316396218024463)\n",
       "3     (3, 1)   (3, 0.058823529411764705)     (3, 1)   (3, 0.17569085919746014)\n",
       "4     (4, 1)   (4, 0.058823529411764705)     (4, 1)   (4, 0.17747902617106662)\n",
       "5     (5, 1)   (5, 0.058823529411764705)     (5, 1)   (5, 0.07250388928623666)\n",
       "6     (6, 2)    (6, 0.11764705882352941)     (6, 1)   (6, 0.20312674067620154)\n",
       "7     (7, 1)   (7, 0.058823529411764705)     (7, 1)   (7, 0.13041858058126876)\n",
       "8     (8, 1)   (8, 0.058823529411764705)     (8, 1)   (8, 0.18234302967391078)\n",
       "9     (9, 1)   (9, 0.058823529411764705)     (9, 1)    (9, 0.1066043895592759)\n",
       "10   (10, 1)  (10, 0.058823529411764705)    (10, 1)  (10, 0.17279083266070747)\n",
       "11   (11, 1)  (11, 0.058823529411764705)    (11, 1)  (11, 0.10639104965460928)"
      ],
      "text/html": "<div>\n<style scoped>\n    .dataframe tbody tr th:only-of-type {\n        vertical-align: middle;\n    }\n\n    .dataframe tbody tr th {\n        vertical-align: top;\n    }\n\n    .dataframe thead th {\n        text-align: right;\n    }\n</style>\n<table border=\"1\" class=\"dataframe\">\n  <thead>\n    <tr style=\"text-align: right;\">\n      <th></th>\n      <th>count_doc</th>\n      <th>IDF</th>\n      <th>appearance</th>\n      <th>IDF_norm</th>\n    </tr>\n  </thead>\n  <tbody>\n    <tr>\n      <th>0</th>\n      <td>(0, 1)</td>\n      <td>(0, 0.058823529411764705)</td>\n      <td>(0, 1)</td>\n      <td>(0, 0.14397605792925167)</td>\n    </tr>\n    <tr>\n      <th>1</th>\n      <td>(1, 5)</td>\n      <td>(1, 0.29411764705882354)</td>\n      <td>(1, 1)</td>\n      <td>(1, 0.8661756897052311)</td>\n    </tr>\n    <tr>\n      <th>2</th>\n      <td>(2, 1)</td>\n      <td>(2, 0.058823529411764705)</td>\n      <td>(2, 1)</td>\n      <td>(2, 0.1316396218024463)</td>\n    </tr>\n    <tr>\n      <th>3</th>\n      <td>(3, 1)</td>\n      <td>(3, 0.058823529411764705)</td>\n      <td>(3, 1)</td>\n      <td>(3, 0.17569085919746014)</td>\n    </tr>\n    <tr>\n      <th>4</th>\n      <td>(4, 1)</td>\n      <td>(4, 0.058823529411764705)</td>\n      <td>(4, 1)</td>\n      <td>(4, 0.17747902617106662)</td>\n    </tr>\n    <tr>\n      <th>5</th>\n      <td>(5, 1)</td>\n      <td>(5, 0.058823529411764705)</td>\n      <td>(5, 1)</td>\n      <td>(5, 0.07250388928623666)</td>\n    </tr>\n    <tr>\n      <th>6</th>\n      <td>(6, 2)</td>\n      <td>(6, 0.11764705882352941)</td>\n      <td>(6, 1)</td>\n      <td>(6, 0.20312674067620154)</td>\n    </tr>\n    <tr>\n      <th>7</th>\n      <td>(7, 1)</td>\n      <td>(7, 0.058823529411764705)</td>\n      <td>(7, 1)</td>\n      <td>(7, 0.13041858058126876)</td>\n    </tr>\n    <tr>\n      <th>8</th>\n      <td>(8, 1)</td>\n      <td>(8, 0.058823529411764705)</td>\n      <td>(8, 1)</td>\n      <td>(8, 0.18234302967391078)</td>\n    </tr>\n    <tr>\n      <th>9</th>\n      <td>(9, 1)</td>\n      <td>(9, 0.058823529411764705)</td>\n      <td>(9, 1)</td>\n      <td>(9, 0.1066043895592759)</td>\n    </tr>\n    <tr>\n      <th>10</th>\n      <td>(10, 1)</td>\n      <td>(10, 0.058823529411764705)</td>\n      <td>(10, 1)</td>\n      <td>(10, 0.17279083266070747)</td>\n    </tr>\n    <tr>\n      <th>11</th>\n      <td>(11, 1)</td>\n      <td>(11, 0.058823529411764705)</td>\n      <td>(11, 1)</td>\n      <td>(11, 0.10639104965460928)</td>\n    </tr>\n  </tbody>\n</table>\n</div>"
     },
     "metadata": {},
     "execution_count": 71
    }
   ],
   "source": [
    "# d. Put all the frequencies from iv. to vii. in a data frame for the first document in the corpus. Add a column keys with the feature names. Compare the results with those from sklearn by merging the two data frames. Where do you think that the differences come from?\n",
    "\n",
    "corpus_freq = { 'count_doc': corpus1[0], 'IDF': corpus2[0], 'appearance':corpus3[0],'IDF_norm': corpus4[0] }\n",
    "corpus_freq_df = pd.DataFrame(corpus_freq)\n",
    "corpus_freq_df"
   ]
  },
  {
   "cell_type": "code",
   "execution_count": 60,
   "metadata": {},
   "outputs": [
    {
     "output_type": "stream",
     "name": "stdout",
     "text": [
      "3\n['articl apr', 'edu write', 'write articl']\n"
     ]
    }
   ],
   "source": [
    "#5. a. Apply the following transformation to the stemmed data using fit_transform(): CountVectorizer(ngram_range=(2, 2), max_df=0.95, min_df=0.05). What is it\n",
    "#doing? Print the corresponding features. What are the differences to the features in Question 3. and Question 4? What happens if you change the values of max_df and min_df?\n",
    "vectorizer = CountVectorizer(ngram_range=(2, 2), max_df=0.95, min_df=0.05)\n",
    "result = vectorizer.fit_transform(data_stem)\n",
    "print(len(vectorizer.get_feature_names()))\n",
    "print(vectorizer.get_feature_names())"
   ]
  },
  {
   "cell_type": "code",
   "execution_count": 4,
   "metadata": {},
   "outputs": [],
   "source": [
    "#b. Put the result in a data frame with columns=feature_names. Print the data frame head and the maximum values for each word. What do you notice?\n",
    "data_corpus = pd.DataFrame(columns = vectorizer.get_feature_names(),  data = result.toarray())\n",
    "data_corpus.head(10)"
   ]
  },
  {
   "cell_type": "code",
   "execution_count": null,
   "metadata": {},
   "outputs": [],
   "source": []
  }
 ]
}