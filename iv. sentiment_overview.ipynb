{
 "metadata": {
  "language_info": {
   "codemirror_mode": {
    "name": "ipython",
    "version": 3
   },
   "file_extension": ".py",
   "mimetype": "text/x-python",
   "name": "python",
   "nbconvert_exporter": "python",
   "pygments_lexer": "ipython3",
   "version": "3.8.2"
  },
  "orig_nbformat": 2,
  "kernelspec": {
   "name": "python382jvsc74a57bd01baa965d5efe3ac65b79dfc60c0d706280b1da80fedb7760faf2759126c4f253",
   "display_name": "Python 3.8.2 64-bit"
  },
  "metadata": {
   "interpreter": {
    "hash": "1baa965d5efe3ac65b79dfc60c0d706280b1da80fedb7760faf2759126c4f253"
   }
  }
 },
 "nbformat": 4,
 "nbformat_minor": 2,
 "cells": [
  {
   "cell_type": "code",
   "execution_count": 1,
   "metadata": {},
   "outputs": [
    {
     "output_type": "stream",
     "name": "stderr",
     "text": [
      "C:\\Users\\Annelie Schridde\\AppData\\Roaming\\Python\\Python38\\site-packages\\gensim\\similarities\\__init__.py:15: UserWarning: The gensim.similarities.levenshtein submodule is disabled, because the optional Levenshtein package <https://pypi.org/project/python-Levenshtein/> is unavailable. Install Levenhstein (e.g. `pip install python-Levenshtein`) to suppress this warning.\n",
      "  warnings.warn(msg)\n",
      "Downloading emoji data ...\n",
      "[nltk_data] Downloading package stopwords to C:\\Users\\Annelie\n",
      "[nltk_data]     Schridde\\AppData\\Roaming\\nltk_data...\n",
      "[nltk_data]   Package stopwords is already up-to-date!\n",
      "[nltk_data] Downloading package vader_lexicon to C:\\Users\\Annelie\n",
      "[nltk_data]     Schridde\\AppData\\Roaming\\nltk_data...\n",
      "[nltk_data]   Package vader_lexicon is already up-to-date!\n",
      "[nltk_data] Downloading package punkt to C:\\Users\\Annelie\n",
      "[nltk_data]     Schridde\\AppData\\Roaming\\nltk_data...\n",
      "[nltk_data]   Package punkt is already up-to-date!\n",
      "... OK (Got response in 0.59 seconds)\n",
      "Writing emoji data to C:\\Users\\Annelie Schridde\\.demoji\\codes.json ...\n",
      "... OK\n",
      "Downloading emoji data ...\n",
      "[nltk_data] Downloading package stopwords to C:\\Users\\Annelie\n",
      "[nltk_data]     Schridde\\AppData\\Roaming\\nltk_data...\n",
      "[nltk_data]   Package stopwords is already up-to-date!\n",
      "[nltk_data] Downloading package vader_lexicon to C:\\Users\\Annelie\n",
      "[nltk_data]     Schridde\\AppData\\Roaming\\nltk_data...\n",
      "[nltk_data]   Package vader_lexicon is already up-to-date!\n",
      "[nltk_data] Downloading package punkt to C:\\Users\\Annelie\n",
      "[nltk_data]     Schridde\\AppData\\Roaming\\nltk_data...\n",
      "[nltk_data]   Package punkt is already up-to-date!\n",
      "... OK (Got response in 0.52 seconds)\n",
      "Writing emoji data to C:\\Users\\Annelie Schridde\\.demoji\\codes.json ...\n",
      "... OK\n"
     ]
    }
   ],
   "source": [
    "import sys\n",
    "sys.path.append('../')\n",
    "import functions\n",
    "%run functions.py\n",
    "#exec(open('./functions.py', encoding=\"utf8\").read())"
   ]
  },
  {
   "cell_type": "code",
   "execution_count": 21,
   "metadata": {},
   "outputs": [
    {
     "output_type": "execute_result",
     "data": {
      "text/plain": [
       "   level_0  index              user_id  user_statuses            name  \\\n",
       "0      383      0  1323291682000000000            133   GreenerRetail   \n",
       "1      384      1  1259761930000000000              1    fattybabycat   \n",
       "2      385      2   835467350200000128           2296   piotrkarwatka   \n",
       "3      386      3             58485935            114  MissyDawn27586   \n",
       "4      387      4  1059339104000000000          11725    CarolCooney7   \n",
       "\n",
       "                                               tweet  retweets  \\\n",
       "0  Who and what has made our greener retailing tr...         0   \n",
       "1  .@Zalando offers nothing more than scripted, c...         0   \n",
       "2  We've got a great talk with Fabian Wesner on h...         0   \n",
       "3  @Zalando recieved wrong item... don’t know how...         0   \n",
       "4  @DrewLawDesign @Zalando  have sent me a few de...         0   \n",
       "\n",
       "          location      created  followers  is_user_verified language  \\\n",
       "0     Planet Earth  05-Mar-2021         70             False       en   \n",
       "1                   05-Mar-2021          0             False       en   \n",
       "2  Wrocław, Polska  05-Mar-2021       1347             False       en   \n",
       "3                   05-Mar-2021         27             False       en   \n",
       "4                   05-Mar-2021        457             False       en   \n",
       "\n",
       "    keyword  favorite_count  in_reply_to_status_id  \\\n",
       "0  @zalando             NaN                    NaN   \n",
       "1  @zalando             NaN                    NaN   \n",
       "2  @zalando             NaN                    NaN   \n",
       "3  @zalando             NaN                    NaN   \n",
       "4  @zalando             NaN                    NaN   \n",
       "\n",
       "                                               clean  \\\n",
       "0        greener retailing tracker week step forward   \n",
       "1  offers scripted cordial replies instead actual...   \n",
       "2  got great talk fabian wesner new venture roq t...   \n",
       "3  recieved wrong item don’t know item cheaper it...   \n",
       "4                         sent deliveries paper bags   \n",
       "\n",
       "                                         clean_vader  compound  \\\n",
       "0  Who and what has made our greener retailing tr...    0.0000   \n",
       "1  offers nothing more than scripted, cordial rep...   -0.9060   \n",
       "2  We've got great talk with Fabian Wesner his ne...    0.6249   \n",
       "3  recieved wrong item... don’t know how about th...   -0.4767   \n",
       "4           have sent few deliveries paper bags now.    0.0000   \n",
       "\n",
       "                                                 lem  \\\n",
       "0  (greener, retailing, tracker, week, step, forw...   \n",
       "1  (offers, scripted, cordial, replies, instead, ...   \n",
       "2  (got, great, talk, fabian, wesner, new, ventur...   \n",
       "3  (recieved, wrong, item, do, n’t, know, item, c...   \n",
       "4                    (sent, deliveries, paper, bags)   \n",
       "\n",
       "                                               lemma  \n",
       "0        greener retailing tracker week step forward  \n",
       "1  offer script cordial reply instead actual cust...  \n",
       "2  get great talk fabian wesner new venture roq t...  \n",
       "3  recieve wrong item do n’t know item cheap item...  \n",
       "4                            send delivery paper bag  "
      ],
      "text/html": "<div>\n<style scoped>\n    .dataframe tbody tr th:only-of-type {\n        vertical-align: middle;\n    }\n\n    .dataframe tbody tr th {\n        vertical-align: top;\n    }\n\n    .dataframe thead th {\n        text-align: right;\n    }\n</style>\n<table border=\"1\" class=\"dataframe\">\n  <thead>\n    <tr style=\"text-align: right;\">\n      <th></th>\n      <th>level_0</th>\n      <th>index</th>\n      <th>user_id</th>\n      <th>user_statuses</th>\n      <th>name</th>\n      <th>tweet</th>\n      <th>retweets</th>\n      <th>location</th>\n      <th>created</th>\n      <th>followers</th>\n      <th>is_user_verified</th>\n      <th>language</th>\n      <th>keyword</th>\n      <th>favorite_count</th>\n      <th>in_reply_to_status_id</th>\n      <th>clean</th>\n      <th>clean_vader</th>\n      <th>compound</th>\n      <th>lem</th>\n      <th>lemma</th>\n    </tr>\n  </thead>\n  <tbody>\n    <tr>\n      <th>0</th>\n      <td>383</td>\n      <td>0</td>\n      <td>1323291682000000000</td>\n      <td>133</td>\n      <td>GreenerRetail</td>\n      <td>Who and what has made our greener retailing tr...</td>\n      <td>0</td>\n      <td>Planet Earth</td>\n      <td>05-Mar-2021</td>\n      <td>70</td>\n      <td>False</td>\n      <td>en</td>\n      <td>@zalando</td>\n      <td>NaN</td>\n      <td>NaN</td>\n      <td>greener retailing tracker week step forward</td>\n      <td>Who and what has made our greener retailing tr...</td>\n      <td>0.0000</td>\n      <td>(greener, retailing, tracker, week, step, forw...</td>\n      <td>greener retailing tracker week step forward</td>\n    </tr>\n    <tr>\n      <th>1</th>\n      <td>384</td>\n      <td>1</td>\n      <td>1259761930000000000</td>\n      <td>1</td>\n      <td>fattybabycat</td>\n      <td>.@Zalando offers nothing more than scripted, c...</td>\n      <td>0</td>\n      <td></td>\n      <td>05-Mar-2021</td>\n      <td>0</td>\n      <td>False</td>\n      <td>en</td>\n      <td>@zalando</td>\n      <td>NaN</td>\n      <td>NaN</td>\n      <td>offers scripted cordial replies instead actual...</td>\n      <td>offers nothing more than scripted, cordial rep...</td>\n      <td>-0.9060</td>\n      <td>(offers, scripted, cordial, replies, instead, ...</td>\n      <td>offer script cordial reply instead actual cust...</td>\n    </tr>\n    <tr>\n      <th>2</th>\n      <td>385</td>\n      <td>2</td>\n      <td>835467350200000128</td>\n      <td>2296</td>\n      <td>piotrkarwatka</td>\n      <td>We've got a great talk with Fabian Wesner on h...</td>\n      <td>0</td>\n      <td>Wrocław, Polska</td>\n      <td>05-Mar-2021</td>\n      <td>1347</td>\n      <td>False</td>\n      <td>en</td>\n      <td>@zalando</td>\n      <td>NaN</td>\n      <td>NaN</td>\n      <td>got great talk fabian wesner new venture roq t...</td>\n      <td>We've got great talk with Fabian Wesner his ne...</td>\n      <td>0.6249</td>\n      <td>(got, great, talk, fabian, wesner, new, ventur...</td>\n      <td>get great talk fabian wesner new venture roq t...</td>\n    </tr>\n    <tr>\n      <th>3</th>\n      <td>386</td>\n      <td>3</td>\n      <td>58485935</td>\n      <td>114</td>\n      <td>MissyDawn27586</td>\n      <td>@Zalando recieved wrong item... don’t know how...</td>\n      <td>0</td>\n      <td></td>\n      <td>05-Mar-2021</td>\n      <td>27</td>\n      <td>False</td>\n      <td>en</td>\n      <td>@zalando</td>\n      <td>NaN</td>\n      <td>NaN</td>\n      <td>recieved wrong item don’t know item cheaper it...</td>\n      <td>recieved wrong item... don’t know how about th...</td>\n      <td>-0.4767</td>\n      <td>(recieved, wrong, item, do, n’t, know, item, c...</td>\n      <td>recieve wrong item do n’t know item cheap item...</td>\n    </tr>\n    <tr>\n      <th>4</th>\n      <td>387</td>\n      <td>4</td>\n      <td>1059339104000000000</td>\n      <td>11725</td>\n      <td>CarolCooney7</td>\n      <td>@DrewLawDesign @Zalando  have sent me a few de...</td>\n      <td>0</td>\n      <td></td>\n      <td>05-Mar-2021</td>\n      <td>457</td>\n      <td>False</td>\n      <td>en</td>\n      <td>@zalando</td>\n      <td>NaN</td>\n      <td>NaN</td>\n      <td>sent deliveries paper bags</td>\n      <td>have sent few deliveries paper bags now.</td>\n      <td>0.0000</td>\n      <td>(sent, deliveries, paper, bags)</td>\n      <td>send delivery paper bag</td>\n    </tr>\n  </tbody>\n</table>\n</div>"
     },
     "metadata": {},
     "execution_count": 21
    }
   ],
   "source": [
    "df = pickle.load(open('data_n_models/eng_df_labelled.pkl', 'rb'))\n",
    "df.head()"
   ]
  },
  {
   "cell_type": "code",
   "execution_count": 35,
   "metadata": {},
   "outputs": [],
   "source": [
    "df = df.sample(frac=1, random_state= 42)"
   ]
  },
  {
   "cell_type": "code",
   "execution_count": 36,
   "metadata": {},
   "outputs": [],
   "source": [
    "df[\"compound\"] = np.where(df[\"compound\"] > 0, 1, df[\"compound\"])      # -1 means positive\n",
    "df[\"compound\"] = np.where(df[\"compound\"] == 0, 0, df[\"compound\"])     # 0 means neutral\n",
    "df[\"compound\"] = np.where(df[\"compound\"] < 0, -1, df[\"compound\"])      # 1 means negative"
   ]
  },
  {
   "cell_type": "code",
   "execution_count": 37,
   "metadata": {},
   "outputs": [
    {
     "output_type": "stream",
     "name": "stdout",
     "text": [
      "(10334, 20)\n",
      "(36653, 20)\n",
      "(63000, 20)\n"
     ]
    }
   ],
   "source": [
    "# split data into 3 companies\n",
    "df_zalando = df[df['keyword'].isin(['@zalando', 'zalando']) ]\n",
    "df_boohoo = df[df['keyword'].isin(['boohoo', 'bohoo']) ]\n",
    "df_asos = df[df['keyword'].isin(['asos']) ]\n",
    "print(df_zalando.shape)\n",
    "print(df_boohoo.shape)\n",
    "print(df_asos.shape)"
   ]
  },
  {
   "cell_type": "code",
   "execution_count": 38,
   "metadata": {},
   "outputs": [],
   "source": [
    "df_zal_sort = df_zalando.sort_values('compound')\n",
    "df_bo_sort = df_boohoo.sort_values('compound')\n",
    "df_asos_sort = df_asos.sort_values('compound')"
   ]
  },
  {
   "cell_type": "code",
   "execution_count": 66,
   "metadata": {},
   "outputs": [
    {
     "output_type": "execute_result",
     "data": {
      "text/plain": [
       "       level_0  index              user_id  user_statuses            name  \\\n",
       "13537    21929    158  1125728514000000000           9661   DommeLineCoUk   \n",
       "3388      3771    284  1306299552000000000           1051   daniel4206969   \n",
       "20823    34586    318  1116295451000000000            313  NoCountry4Kids   \n",
       "70976   112008    193           1015684290          32054    CreepItReal_   \n",
       "44867    73448    212  1321312433000000000           1830   thebeachworld   \n",
       "\n",
       "                                                   tweet  retweets  \\\n",
       "13537  @missbellalugosi @Zalando Problem starts at Ad...         0   \n",
       "3388   @EtherealScripts really want to join. i recent...         0   \n",
       "20823  What a morning! Went all in for UNC on Zalando...         6   \n",
       "70976  My zalando package didn't arrive because the a...         0   \n",
       "44867  @ZalandoA haselts solution @haselts \\ni missed...         0   \n",
       "\n",
       "          location      created  followers  is_user_verified language  \\\n",
       "13537               06-Mar-2021       2196             False       en   \n",
       "3388                26-Feb-2021         21             False       en   \n",
       "20823               09-Mar-2021         88             False       en   \n",
       "70976  Niederlande  25-Mar-2021        650             False       en   \n",
       "44867      Germany  20-Mar-2021         12             False       en   \n",
       "\n",
       "       keyword  favorite_count  in_reply_to_status_id  \\\n",
       "13537  zalando             1.0           1.368196e+18   \n",
       "3388   zalando             NaN                    NaN   \n",
       "20823  zalando            49.0                    NaN   \n",
       "70976  zalando             0.0                    NaN   \n",
       "44867  zalando             1.0           1.373327e+18   \n",
       "\n",
       "                                                   clean  \\\n",
       "13537       problem starts adidas selling latex websites   \n",
       "3388   want join recently joined goatify combination ...   \n",
       "20823  morning went unc zalando hit started pinging d...   \n",
       "70976  zalando package arrive adress wasn correct fun...   \n",
       "44867  haselts solution missed drop jordan unc face t...   \n",
       "\n",
       "                                             clean_vader  compound  \\\n",
       "13537  Problem starts Adidas. They're selling latex t...      -1.0   \n",
       "3388   really want join. recently joined goatify, and...      -1.0   \n",
       "20823  What morning! Went all for UNC Zalando but hit...      -1.0   \n",
       "70976  zalando package didn't arrive because the adre...      -1.0   \n",
       "44867  haselts solution missed the last drop jordan u...      -1.0   \n",
       "\n",
       "                                                     lem  \\\n",
       "13537  (problem, starts, adidas, selling, latex, webs...   \n",
       "3388   (want, join, recently, joined, goatify, combin...   \n",
       "20823  (morning, went, unc, zalando, hit, started, pi...   \n",
       "70976  (zalando, package, arrive, adress, wasn, corre...   \n",
       "44867  (haselts, solution, missed, drop, jordan, unc,...   \n",
       "\n",
       "                                                   lemma  \n",
       "13537             problem start adida sell latex website  \n",
       "3388   want join recently join goatify combination et...  \n",
       "20823  morning go unc zalando hit start ping dunk loa...  \n",
       "70976  zalando package arrive adress wasn correct fun...  \n",
       "44867  haselt solution miss drop jordan unc face tear...  "
      ],
      "text/html": "<div>\n<style scoped>\n    .dataframe tbody tr th:only-of-type {\n        vertical-align: middle;\n    }\n\n    .dataframe tbody tr th {\n        vertical-align: top;\n    }\n\n    .dataframe thead th {\n        text-align: right;\n    }\n</style>\n<table border=\"1\" class=\"dataframe\">\n  <thead>\n    <tr style=\"text-align: right;\">\n      <th></th>\n      <th>level_0</th>\n      <th>index</th>\n      <th>user_id</th>\n      <th>user_statuses</th>\n      <th>name</th>\n      <th>tweet</th>\n      <th>retweets</th>\n      <th>location</th>\n      <th>created</th>\n      <th>followers</th>\n      <th>is_user_verified</th>\n      <th>language</th>\n      <th>keyword</th>\n      <th>favorite_count</th>\n      <th>in_reply_to_status_id</th>\n      <th>clean</th>\n      <th>clean_vader</th>\n      <th>compound</th>\n      <th>lem</th>\n      <th>lemma</th>\n    </tr>\n  </thead>\n  <tbody>\n    <tr>\n      <th>13537</th>\n      <td>21929</td>\n      <td>158</td>\n      <td>1125728514000000000</td>\n      <td>9661</td>\n      <td>DommeLineCoUk</td>\n      <td>@missbellalugosi @Zalando Problem starts at Ad...</td>\n      <td>0</td>\n      <td></td>\n      <td>06-Mar-2021</td>\n      <td>2196</td>\n      <td>False</td>\n      <td>en</td>\n      <td>zalando</td>\n      <td>1.0</td>\n      <td>1.368196e+18</td>\n      <td>problem starts adidas selling latex websites</td>\n      <td>Problem starts Adidas. They're selling latex t...</td>\n      <td>-1.0</td>\n      <td>(problem, starts, adidas, selling, latex, webs...</td>\n      <td>problem start adida sell latex website</td>\n    </tr>\n    <tr>\n      <th>3388</th>\n      <td>3771</td>\n      <td>284</td>\n      <td>1306299552000000000</td>\n      <td>1051</td>\n      <td>daniel4206969</td>\n      <td>@EtherealScripts really want to join. i recent...</td>\n      <td>0</td>\n      <td></td>\n      <td>26-Feb-2021</td>\n      <td>21</td>\n      <td>False</td>\n      <td>en</td>\n      <td>zalando</td>\n      <td>NaN</td>\n      <td>NaN</td>\n      <td>want join recently joined goatify combination ...</td>\n      <td>really want join. recently joined goatify, and...</td>\n      <td>-1.0</td>\n      <td>(want, join, recently, joined, goatify, combin...</td>\n      <td>want join recently join goatify combination et...</td>\n    </tr>\n    <tr>\n      <th>20823</th>\n      <td>34586</td>\n      <td>318</td>\n      <td>1116295451000000000</td>\n      <td>313</td>\n      <td>NoCountry4Kids</td>\n      <td>What a morning! Went all in for UNC on Zalando...</td>\n      <td>6</td>\n      <td></td>\n      <td>09-Mar-2021</td>\n      <td>88</td>\n      <td>False</td>\n      <td>en</td>\n      <td>zalando</td>\n      <td>49.0</td>\n      <td>NaN</td>\n      <td>morning went unc zalando hit started pinging d...</td>\n      <td>What morning! Went all for UNC Zalando but hit...</td>\n      <td>-1.0</td>\n      <td>(morning, went, unc, zalando, hit, started, pi...</td>\n      <td>morning go unc zalando hit start ping dunk loa...</td>\n    </tr>\n    <tr>\n      <th>70976</th>\n      <td>112008</td>\n      <td>193</td>\n      <td>1015684290</td>\n      <td>32054</td>\n      <td>CreepItReal_</td>\n      <td>My zalando package didn't arrive because the a...</td>\n      <td>0</td>\n      <td>Niederlande</td>\n      <td>25-Mar-2021</td>\n      <td>650</td>\n      <td>False</td>\n      <td>en</td>\n      <td>zalando</td>\n      <td>0.0</td>\n      <td>NaN</td>\n      <td>zalando package arrive adress wasn correct fun...</td>\n      <td>zalando package didn't arrive because the adre...</td>\n      <td>-1.0</td>\n      <td>(zalando, package, arrive, adress, wasn, corre...</td>\n      <td>zalando package arrive adress wasn correct fun...</td>\n    </tr>\n    <tr>\n      <th>44867</th>\n      <td>73448</td>\n      <td>212</td>\n      <td>1321312433000000000</td>\n      <td>1830</td>\n      <td>thebeachworld</td>\n      <td>@ZalandoA haselts solution @haselts \\ni missed...</td>\n      <td>0</td>\n      <td>Germany</td>\n      <td>20-Mar-2021</td>\n      <td>12</td>\n      <td>False</td>\n      <td>en</td>\n      <td>zalando</td>\n      <td>1.0</td>\n      <td>1.373327e+18</td>\n      <td>haselts solution missed drop jordan unc face t...</td>\n      <td>haselts solution missed the last drop jordan u...</td>\n      <td>-1.0</td>\n      <td>(haselts, solution, missed, drop, jordan, unc,...</td>\n      <td>haselt solution miss drop jordan unc face tear...</td>\n    </tr>\n  </tbody>\n</table>\n</div>"
     },
     "metadata": {},
     "execution_count": 66
    }
   ],
   "source": [
    "df_zal_sort.head()"
   ]
  },
  {
   "cell_type": "code",
   "execution_count": 73,
   "metadata": {},
   "outputs": [
    {
     "output_type": "execute_result",
     "data": {
      "text/plain": [
       "\"@missbellalugosi @Zalando Problem starts at Adidas. They're selling it as latex on their websites.\""
      ]
     },
     "metadata": {},
     "execution_count": 73
    }
   ],
   "source": [
    "#looking at negative tweets\n",
    "\n",
    "df_zal_sort[df_zal_sort.compound == -1].tweet.reset_index().tweet[0] "
   ]
  },
  {
   "cell_type": "code",
   "execution_count": 92,
   "metadata": {},
   "outputs": [
    {
     "output_type": "stream",
     "name": "stdout",
     "text": [
      "1:  @EtherealScripts really want to join. i recently joined goatify, and in combination with ethereal that would be a killer combo. i see all other members cooking, but im standing there with not a single good script for zalando, snipes and solebox... so yeah i really want ethereal!\n",
      "2:  What a morning! Went all in for UNC on Zalando but hit 0\n",
      "@thesoleradar and @BestNotify_ started pinging that the dunks were loaded on so I quickly swapped out csv and @theGaneshBot did it's magic! I'm still shaking. 63 pairs in total\n",
      "\n",
      "@mountainproxies @BelgianChefs @jakescotting https://t.co/fchVvn7zrc\n",
      "3:  My zalando package didn't arrive because the adress wasn't correct. Which is funny because this was the second package of the same order and the first package arrived just two days earlier...\n",
      "4:  @ZalandoA haselts solution @haselts \n",
      "i missed the last drop of jordan unc 😂\n",
      "because rn i have no cart able account for zalando\n",
      "do you can help me?\n",
      "5:  @its_seesaw zalando plus is both a curse and blessing,, my money goes poof but at least in 1-3 business days\n",
      "6:  @zalando_uk Sadly that’s what’s not working for only one of my orders. I have no option to select “return items” for only one order. I can do the same for the others. Tried the link, tried the app. Same issue\n",
      "7:  Online to Offline Commerce Market Demand and Forecast to 2027 Key Players Analysis – Amazon, Inc., Zalando, Airbnb, Rakuten, Inc., Expedia, etc - The Bisouv Network https://t.co/e85S6pMQ1x\n",
      "8:  09/03 Release Reminder!✌️\n",
      "\n",
      "Nike Air Jordan 1 „University Blue“\n",
      "Zalando (09:00 AM CET): https://t.co/hHm09rpeSv\n",
      "\n",
      "Nike WMNS Dunk Low „Orange Pearl“\n",
      "Foot Locker DE (09:00 AM CET): https://t.co/CtTJfoqX1k\n",
      "\n",
      "Nike WMNS Dunk High „Syracuse“\n",
      "Zalando (09:00 AM CET): https://t.co/JOWtvDu6UT\n",
      "9:  Hermes - worst delivery service ever. @hermesDE @Hermes_Presse  #hermes #zalando https://t.co/8ke0zHrVtR\n",
      "10:  https://t.co/C0DwUfFECP no cancel. GOAT https://t.co/XRk1g1rf2Q\n",
      "11:  @STARLABScripts I have a Zalando acc that work with the hype release but I have pay for it today.\n",
      "I've bought the acc. for the UNC at 9am.\n",
      "12:  @Zalando horrible ads in CZ TV. Why should unhealthy and obesse life style be promoted? It has nothing to do with values as you try to claim.\n",
      "13:  @digitallynativ Or: Why apparel sucks in ecommerce. “Zalando, one of the leading online garment retailers, has a return rate of 50% according to its management”\n",
      "14:  Separation of Errors (not founds, unavailable) and Problems (validation or business errors). One belongs to the response schema, the other in the error extension.\n",
      "\n",
      "Nice to see zalando took this path. I have defended this myself and applied it in my systems. https://t.co/7DKiiiA2t8\n",
      "15:  2x 39 today on Zalando, sadly my accounts are still bad despite my best efforts 😭\n",
      "\n",
      "Thanks @FlareAIO @flash_proxy https://t.co/enSImFj0eH\n"
     ]
    }
   ],
   "source": [
    "print(\"1: \",df_zal_sort[df_zal_sort.compound == -1].tweet.reset_index().tweet[1])\n",
    "print(\"2: \",df_zal_sort[df_zal_sort.compound == -1].tweet.reset_index().tweet[2])\n",
    "print(\"3: \",df_zal_sort[df_zal_sort.compound == -1].tweet.reset_index().tweet[3]) #rather positive than negative\n",
    "print(\"4: \",df_zal_sort[df_zal_sort.compound == -1].tweet.reset_index().tweet[4])\n",
    "print(\"5: \",df_zal_sort[df_zal_sort.compound == -1].tweet.reset_index().tweet[5])\n",
    "print(\"6: \",df_zal_sort[df_zal_sort.compound == -1].tweet.reset_index().tweet[6])\n",
    "print(\"7: \",df_zal_sort[df_zal_sort.compound == -1].tweet.reset_index().tweet[7])\n",
    "print(\"8: \",df_zal_sort[df_zal_sort.compound == -1].tweet.reset_index().tweet[8])\n",
    "print(\"9: \",df_zal_sort[df_zal_sort.compound == -1].tweet.reset_index().tweet[9]) \n",
    "print(\"10: \",df_zal_sort[df_zal_sort.compound == -1].tweet.reset_index().tweet[10])\n",
    "print(\"11: \",df_zal_sort[df_zal_sort.compound == -1].tweet.reset_index().tweet[11])\n",
    "print(\"12: \",df_zal_sort[df_zal_sort.compound == -1].tweet.reset_index().tweet[12]) # advertising\n",
    "print(\"13: \",df_zal_sort[df_zal_sort.compound == -1].tweet.reset_index().tweet[13]) # high return rates - environment concerns?\n",
    "print(\"14: \",df_zal_sort[df_zal_sort.compound == -1].tweet.reset_index().tweet[14])\n",
    "print(\"15: \",df_zal_sort[df_zal_sort.compound == -1].tweet.reset_index().tweet[15])\n",
    "\n",
    "# problems with deliveries and articles out of stock - probably bots?"
   ]
  },
  {
   "cell_type": "code",
   "execution_count": 93,
   "metadata": {},
   "outputs": [
    {
     "output_type": "stream",
     "name": "stdout",
     "text": [
      "1:  @STARLABScripts DAMNNN LETS TRY ONE MORE TIME. I NEED YOU FOR ZALANDO MY LOVELY FRIENDS!\n",
      "2:  @Charon_AIO Dunks on Zalando !✌🏻 https://t.co/CAeRcZk6Wm\n",
      "3:  Discounted from Zalando @snatchtool https://t.co/hQghdzfj0u\n",
      "4:  @Zalando \n",
      "...a spoke in the wheel, when they make a mistake.\n",
      "\n",
      "What was supposed to be a great shopping experience turned into a battle to get my money back.\n",
      "\n",
      "#Zalando \n",
      "#BadCustomerService\n",
      "#Awfulservice\n",
      "#Fail \n",
      "#NoCustomerService \n",
      "#Inefficient\n",
      "#NoAnswer\n",
      "#Disappointing\n",
      "#BadService\n",
      "5:  Zalando hit a 25% growth spurt in 2020 and outgrew its ERP system! To better serve its 35 million customers, the company digitally transformed its innovative fashion platform with SAP #S4HANA to support ambitious growth. https://t.co/t6gagOiH3b https://t.co/L1FzAAjm5F\n",
      "6:  @Zalando Thank you\n",
      "7:  @JohnMatchett6 @3_stripes4life @Zalando I’m the same love  a pair but these soles look like there turning into Stilton cheese 😬\n",
      "8:  Very throughout guideline  &gt;Zalando RESTful API and Event Scheme Guidelines &gt;  https://t.co/kPbja9bF2G\n",
      "9:  @NiLoingsigh @Zalando @Zalando_Press I know right! Yeah I’m trying to figure out the logic before I override them and go to my bank!\n",
      "10:  Yessss🎉💎🎉 I was finally able to buy this Pikachu limited edition t-shirt 👕 \n",
      "Thanks @Pokemon @LEVIS and @Zalando \n",
      "#Pokemon #Pikachu #Pokemon25 #PokemonPresents https://t.co/MGQRdfpx7Q\n",
      "11:  @shopifyraffle I aight, copped some 700s this morning but took a big L on supreme and zalando\n",
      "12:  @STARLABScripts I have not had success in zalando I would like to have my first successes in zalando with you👀\n",
      "13:  @projectZtech I received a few pairs of this, thank you zalando📦 my dm are open👀 https://t.co/mX4bmPvsnj\n",
      "14:  Glad to join the team, let's destroy zalando together @JupiterScripts https://t.co/X5T6JY7C3O\n",
      "15:  I just wanted to add some zalando success to show my people of @ImpactSltns \n",
      "@HypeHuntersEU I already posted some of them but is chance to thank you https://t.co/tvLMHI4t1d\n"
     ]
    }
   ],
   "source": [
    "print(\"1: \",df_zal_sort[df_zal_sort.compound == 1].tweet.reset_index().tweet[1])\n",
    "print(\"2: \",df_zal_sort[df_zal_sort.compound == 1].tweet.reset_index().tweet[2])\n",
    "print(\"3: \",df_zal_sort[df_zal_sort.compound == 1].tweet.reset_index().tweet[3]) \n",
    "print(\"4: \",df_zal_sort[df_zal_sort.compound == 1].tweet.reset_index().tweet[4]) # postive but should be negative!!\n",
    "print(\"5: \",df_zal_sort[df_zal_sort.compound == 1].tweet.reset_index().tweet[5])\n",
    "print(\"6: \",df_zal_sort[df_zal_sort.compound == 1].tweet.reset_index().tweet[6])\n",
    "print(\"7: \",df_zal_sort[df_zal_sort.compound == 1].tweet.reset_index().tweet[7]) # rather negative\n",
    "print(\"8: \",df_zal_sort[df_zal_sort.compound == 1].tweet.reset_index().tweet[8])\n",
    "print(\"9: \",df_zal_sort[df_zal_sort.compound == 1].tweet.reset_index().tweet[9]) \n",
    "print(\"10: \",df_zal_sort[df_zal_sort.compound == 1].tweet.reset_index().tweet[10]) # limited clothing\n",
    "print(\"11: \",df_zal_sort[df_zal_sort.compound == 1].tweet.reset_index().tweet[11])\n",
    "print(\"12: \",df_zal_sort[df_zal_sort.compound == 1].tweet.reset_index().tweet[12]) \n",
    "print(\"13: \",df_zal_sort[df_zal_sort.compound == 1].tweet.reset_index().tweet[13]) \n",
    "print(\"14: \",df_zal_sort[df_zal_sort.compound == 1].tweet.reset_index().tweet[14]) # destroying Zalando?\n",
    "print(\"15: \",df_zal_sort[df_zal_sort.compound == 1].tweet.reset_index().tweet[15])\n",
    "\n",
    "#starlabscripts seems to be abig site for gathering huge amounts of articles within minutes."
   ]
  },
  {
   "cell_type": "code",
   "execution_count": 95,
   "metadata": {},
   "outputs": [
    {
     "output_type": "stream",
     "name": "stdout",
     "text": [
      "1:  @Shannon66918133 @DonaldJTrumpJr Boohoo I want the Democrats control of everything forever boohoo I wanted them wipe my ass for me cuz I'm a little tiny baby\n",
      "2:  Boohoo got some ugly ass clothes\n",
      "3:  @ThegirlJT @boohoo My delusional ass bought everything in a size 12 knowing damn well I'm big and pregnant 😭😭\n",
      "4:  @JeffreyMyles3 @b1rd_tweets @rnassau7 @by_justin Boohoo. Being a veteran doesn't make anybody special, nor is it something to base one's identity around.\n",
      "5:  @onewhoseethall @LGBTSRH @emmakennytv \"Waaahh boohoo trans people bad\" isn't criticism.\n",
      "6:  Paint to go with a poem, all cracked this morn, and lets not mention the handprints etc😢 boohoo to painting -tough gig 🤨🤔 https://t.co/hPDQ5jgx1b\n",
      "7:  I’m so sad about the City Girls Boohoo collab\n",
      "8:  @Numbers28 Oh boohoo. If he was the least bit concerned about his family he would have kept his ass home.\n",
      "9:  @FNW_US And how will BooHoo support the previously exploited garment workers? Underpaid from the start and now presumably with no income at all... 🤔\n",
      "10:  @twose_brian @Dougmcg1 @bargeboy2020 God knows how you attract these pathetic Britnat specimens, boohoo London wants to make a border if they can’t control us I will have to wait at Border,well he won’t be in Europe with 27 more bloody arse wipe for London he is, why don’t you give Scottish a veto arse wipe 🤡\n",
      "11:  @GvlvcticBbyxx Fashion Nova and Occasionally Boohoo. For shoes Miss Lola.\n",
      "12:  ngl just shit myself x https://t.co/4uUV64LmDF\n",
      "13:  That boohoo collection not giving what it supposed to give\n",
      "14:  poor, fat donny continues to be a whiny little BooHoo Bag &amp; tries to create a new country via his own social media platform. WE reject you. Create your new  country for your racist fools...as we quote you: “Why are we having all these people from his shithole country come here?” https://t.co/QLHGtMw0tM\n",
      "15:  Boohoo said it has cut its suppliers as part of a pledge on transparency after an independent review found major failings in the online fashion retailer’s supply chain in the UK https://t.co/VLpaHie6MB https://t.co/eCxeflHwv3\n"
     ]
    }
   ],
   "source": [
    "print(\"1: \",df_bo_sort[df_bo_sort.compound == -1].tweet.reset_index().tweet[1]) # not relevant\n",
    "print(\"2: \",df_bo_sort[df_bo_sort.compound == -1].tweet.reset_index().tweet[2]) # not nice clothing\n",
    "print(\"3: \",df_bo_sort[df_bo_sort.compound == -1].tweet.reset_index().tweet[3]) \n",
    "print(\"4: \",df_bo_sort[df_bo_sort.compound == -1].tweet.reset_index().tweet[4]) \n",
    "print(\"5: \",df_bo_sort[df_bo_sort.compound == -1].tweet.reset_index().tweet[5])\n",
    "print(\"6: \",df_bo_sort[df_bo_sort.compound == -1].tweet.reset_index().tweet[6])\n",
    "print(\"7: \",df_bo_sort[df_bo_sort.compound == -1].tweet.reset_index().tweet[7]) # collab\n",
    "print(\"8: \",df_bo_sort[df_bo_sort.compound == -1].tweet.reset_index().tweet[8])\n",
    "print(\"9: \",df_bo_sort[df_bo_sort.compound == -1].tweet.reset_index().tweet[9]) # human rights\n",
    "print(\"10: \",df_bo_sort[df_bo_sort.compound == -1].tweet.reset_index().tweet[10])\n",
    "print(\"11: \",df_bo_sort[df_bo_sort.compound == -1].tweet.reset_index().tweet[11])\n",
    "print(\"12: \",df_bo_sort[df_bo_sort.compound == -1].tweet.reset_index().tweet[12]) \n",
    "print(\"13: \",df_bo_sort[df_bo_sort.compound == -1].tweet.reset_index().tweet[13]) # not good collection\n",
    "print(\"14: \",df_bo_sort[df_bo_sort.compound == -1].tweet.reset_index().tweet[14]) \n",
    "print(\"15: \",df_bo_sort[df_bo_sort.compound == -1].tweet.reset_index().tweet[15]) # failures in supply chain"
   ]
  },
  {
   "cell_type": "code",
   "execution_count": 97,
   "metadata": {},
   "outputs": [
    {
     "output_type": "stream",
     "name": "stdout",
     "text": [
      "1:  Pretty little thing , fashion nova or boohoo 🤦🏾‍♀️\n",
      "2:  @boohoo OMGGGG! i was placing my order &amp; going “WTF IS THIS!” 🤣🤣🤣🤣 i got FOOLED! well done boohoo!🤣🤣👏🏼 @boohoo_cshelp @boohoo #igotfooledbyboohoo #AprilFoolsDay #aprilfools\n",
      "3:  @boohoo Cosmo 🐶 rescued 3 years ago #NationalPetDay https://t.co/8CQdBxtqwg\n",
      "4:  @narayansmate Well the Chinese will miss out on the best wine in the world! Boohoo! Another countries gain!!\n",
      "5:  @draeee__ try pretty little thing, boohoo, h&amp;m, missguided, shein, zara but for them go into the store.\n",
      "6:  @mtgreenee And the only thing you are pushing is GUNS! Guns, guns, guns, they want to take my guns, guns, guns BooHoo!\n",
      "\n",
      "#ExpelMarjorieTaylorGreene\n",
      "7:  Boohoo better count their fucking days\n",
      "8:  If anyone finds these please send 10\n",
      "Boxes to my house or at least tell me where I can get them 😍 https://t.co/mDSizComu1\n",
      "9:  @froydnf Skeppy but before dream smp\n",
      "10:  @HyperbolicLens @Rachael_Swindon @OG_Goldinhart they don't? i haven't traveled overseas in 40 years, and haven't been in the military in 20-something. i assume the hospital keeps that stuff on file now. what's the big boohoo about having to show that you're clean before entering a private business?\n",
      "11:  @BOOHOO_ABI why is everyone a secret dream stan it’s so funny\n",
      "12:  lol msnake acting like a 4yo kid boohoo https://t.co/G5cT4WUtYW\n",
      "13:  @boohoo I am trying to make an order online but it says my gift card isn’t working... help please?\n",
      "14:  @boohoo Asleep with a biscuit on his head...wonder if he will notice...wake up treat https://t.co/sZgJxOkdVu\n",
      "15:  Thinking heavily about it, I’m like 103810% sure I’m going to boohoo cry the last day I sleep in my house before moving and it’s not it 🤧😫\n",
      "\n",
      "I wish I could just move my house with me everywhere\n"
     ]
    }
   ],
   "source": [
    "print(\"1: \",df_bo_sort[df_bo_sort.compound == 1].tweet.reset_index().tweet[1]) # recommendation\n",
    "print(\"2: \",df_bo_sort[df_bo_sort.compound == 1].tweet.reset_index().tweet[2])\n",
    "print(\"3: \",df_bo_sort[df_bo_sort.compound == 1].tweet.reset_index().tweet[3]) \n",
    "print(\"4: \",df_bo_sort[df_bo_sort.compound == 1].tweet.reset_index().tweet[4]) \n",
    "print(\"5: \",df_bo_sort[df_bo_sort.compound == 1].tweet.reset_index().tweet[5]) # recommendation\n",
    "print(\"6: \",df_bo_sort[df_bo_sort.compound == 1].tweet.reset_index().tweet[6])\n",
    "print(\"7: \",df_bo_sort[df_bo_sort.compound == 1].tweet.reset_index().tweet[7]) \n",
    "print(\"8: \",df_bo_sort[df_bo_sort.compound == 1].tweet.reset_index().tweet[8]) # prob nice article \n",
    "print(\"9: \",df_bo_sort[df_bo_sort.compound == 1].tweet.reset_index().tweet[9]) \n",
    "print(\"10: \",df_bo_sort[df_bo_sort.compound == 1].tweet.reset_index().tweet[10]) \n",
    "print(\"11: \",df_bo_sort[df_bo_sort.compound == 1].tweet.reset_index().tweet[11])\n",
    "print(\"12: \",df_bo_sort[df_bo_sort.compound == 1].tweet.reset_index().tweet[12]) \n",
    "print(\"13: \",df_bo_sort[df_bo_sort.compound == 1].tweet.reset_index().tweet[13]) # not positive\n",
    "print(\"14: \",df_bo_sort[df_bo_sort.compound == 1].tweet.reset_index().tweet[14]) \n",
    "print(\"15: \",df_bo_sort[df_bo_sort.compound == 1].tweet.reset_index().tweet[15])"
   ]
  },
  {
   "cell_type": "code",
   "execution_count": 107,
   "metadata": {},
   "outputs": [
    {
     "output_type": "stream",
     "name": "stdout",
     "text": [
      "1:  *regrets not booking anywhere for dinner*\n",
      "2:  JORDAN ASOS MT Mar 29 Climate: High: 58 Low: 21 Precip: 0.02 Snow: Missing https://t.co/OxJQ6NjwdE https://t.co/iWvvCyUh37\n",
      "3:  @ASOS been trying to speak to you on the live chat for 3 days now what’s going on ??? I need to contact you about a missing parcel\n",
      "4:  @ASOS @ASOS_HeretoHelp pls restock these im so obsessed 😪😪 https://t.co/YU4Yma8VS3\n",
      "5:  @spicyred11 bet, ASOS got some good shit imo\n",
      "6:  @SCienceSophs @ASOS @ASOS_HeretoHelp Ah ffs! And to think that this time last year, they were all about looking after healthcare workers https://t.co/O8QtAjqHdw\n",
      "7:  https://t.co/lXSpdazbeA In case you missed it yesterday, new track, new alias...ENJOY! #ASoS\n",
      "8:  #MyASOSLuck I’m unlucky because I never win any of these competitions 👎🏽👎🏽👎🏽 https://t.co/hvYtt7zJcz\n",
      "9:  @jongaunt @gresham_garry I thought she wasn’t allowed back after joining ASOS?\n",
      "\n",
      "I think I may have got this wrong...\n",
      "10:  These boots from asos are brand new  and boy got me on this dirt road 🤦‍♂️\n",
      "11:  @ASOS_HeretoHelp My order said delivered yesterday and it’s not come? Please help x\n",
      "12:  neighbour is our postman so when he texts me “surprised ur all still up ;)” I have to respond politely in fear of never receiving an asos parcel again\n",
      "13:  @MattBrown20_ @Mufc1717 @darrenthomas5 @MyNameIsSimon88 I’m blocking you mate because you’re making no sense at all. I’m asking if you want to answer anything and you’re screenshottinf old messages to ASOS 😂\n",
      "14:  @ASOS No mention of the technology failure last night then huns 👀? Still trying to cancel my duplicate orders 🆘\n"
     ]
    }
   ],
   "source": [
    "print(\"1: \",df_asos_sort[df_asos_sort.compound == -1].tweet.reset_index().tweet[1]) \n",
    "print(\"2: \",df_asos_sort[df_asos_sort.compound == -1].tweet.reset_index().tweet[2]) \n",
    "print(\"3: \",df_asos_sort[df_asos_sort.compound == -1].tweet.reset_index().tweet[3]) # bad customer service\n",
    "print(\"4: \",df_asos_sort[df_asos_sort.compound == -1].tweet.reset_index().tweet[4]) # need a restock\n",
    "print(\"5: \",df_asos_sort[df_asos_sort.compound == -1].tweet.reset_index().tweet[5]) # actually positive\n",
    "print(\"6: \",df_asos_sort[df_asos_sort.compound == -1].tweet.reset_index().tweet[6])\n",
    "print(\"7: \",df_asos_sort[df_asos_sort.compound == -1].tweet.reset_index().tweet[7]) \n",
    "print(\"8: \",df_asos_sort[df_asos_sort.compound == -1].tweet.reset_index().tweet[8])\n",
    "print(\"9: \",df_asos_sort[df_asos_sort.compound == -1].tweet.reset_index().tweet[9]) \n",
    "print(\"10: \",df_asos_sort[df_asos_sort.compound == -1].tweet.reset_index().tweet[10])\n",
    "print(\"11: \",df_asos_sort[df_asos_sort.compound == -1].tweet.reset_index().tweet[11]) # delivery\n",
    "print(\"12: \",df_asos_sort[df_asos_sort.compound == -1].tweet.reset_index().tweet[12]) \n",
    "print(\"13: \",df_asos_sort[df_asos_sort.compound == -1].tweet.reset_index().tweet[13])\n",
    "print(\"14: \",df_asos_sort[df_asos_sort.compound == -1].tweet.reset_index().tweet[14]) # technical problems\n"
   ]
  },
  {
   "cell_type": "code",
   "execution_count": 108,
   "metadata": {},
   "outputs": [
    {
     "output_type": "stream",
     "name": "stdout",
     "text": [
      "1:  @faps2finn Oh wow I recognize his face from Asos\n",
      "2:  @ApparentlyWeRun @ASOS Oh no 🤦‍♀️😔\n",
      "3:  id just buy at ASOS if theyre #vaccinated like me https://t.co/GghMQxVuyj😷😷😷😗\n",
      "4:  @ASOS https://t.co/xicOiNbWmC All this time being confident with my own body, support young confident women 💜✊🏼 #ASOSIWD21\n",
      "5:  GIFTCARDS GIFTCARDS\n",
      "\n",
      "I want some gift cards\n",
      "Amazon, ASOS, SHEIN, and any others you can think of I want them all\n",
      "\n",
      "|| findom finsub sub dom cuckold sissy feet stomping simp luxury paypig humanatm sph whalesub || https://t.co/zzYBD7enz3\n",
      "6:  @ZombieTrev5k @NWSVegas @ToddLericos @DSBerc @WarnJenn @ChelseaKryston @TeddFlorendo @sherryswensk @SallyjTV @8NewsNow Um. Have you met my friend #ASOS (who may or may not be related to @iembot_vef) ?\n",
      "7:  @ASOS why are you promoting obesity?\n",
      "8:  So good I had to share! Check out all the items I'm loving on @Poshmarkapp from @LindsNitz #poshmark #fashion #style #shopmycloset #pinkvictoriassecret #seanjohn #asos: https://t.co/DljTtSRWyR https://t.co/z15lpQ8tK3\n",
      "9:  LIVING for these patterned bridesmaids dresses. 😍Asos, Showpo, Princess Polly, and Love and Lemons are some of many great stores to get dresses similar to these! ✨ https://t.co/Iclcy40KDc\n",
      "10:  @ASOS Hi Fashionistas!\n",
      "\n",
      "Check out my Top 5 Luxury Inspired Fashion Finds For 2021 on my YouTube Channel LINKED BELOW.\n",
      "\n",
      "https://t.co/Z1Rn3n4fDQ\n",
      "\n",
      "PLEASE SUBSCRIBE. THANKS.\n",
      "\n",
      "#designer #ArtistOnTwitter #fashion #YouTuber\n",
      "11:  @nadeenie Tru but so cute tho 😭 asos is good too !!\n",
      "12:  @sunnyharwood @sunnyharwood Of course we can, Helen - please pop us a message on our Live Chat here &gt; https://t.co/6NRL8bE2j9 and a member of our team will look into your order and provide a further update.\n",
      "13:  @ASOS_HeretoHelp check your DM please.\n",
      "14:  @bethyyf @bethyyf We're so sorry to hear this about your recent order - please pop us a message here https://t.co/OukxI1d7Hr and our Live Chat team will be sure to get this sorted.\n"
     ]
    }
   ],
   "source": [
    "print(\"1: \",df_asos_sort[df_asos_sort.compound == 1].tweet.reset_index().tweet[1]) \n",
    "print(\"2: \",df_asos_sort[df_asos_sort.compound == 1].tweet.reset_index().tweet[2]) \n",
    "print(\"3: \",df_asos_sort[df_asos_sort.compound == 1].tweet.reset_index().tweet[3]) \n",
    "print(\"4: \",df_asos_sort[df_asos_sort.compound == 1].tweet.reset_index().tweet[4]) \n",
    "print(\"5: \",df_asos_sort[df_asos_sort.compound == 1].tweet.reset_index().tweet[5]) \n",
    "print(\"6: \",df_asos_sort[df_asos_sort.compound == 1].tweet.reset_index().tweet[6])\n",
    "print(\"7: \",df_asos_sort[df_asos_sort.compound == 1].tweet.reset_index().tweet[7]) # negative instead of positive\n",
    "print(\"8: \",df_asos_sort[df_asos_sort.compound == 1].tweet.reset_index().tweet[8])\n",
    "print(\"9: \",df_asos_sort[df_asos_sort.compound == 1].tweet.reset_index().tweet[9]) # great dresses\n",
    "print(\"10: \",df_asos_sort[df_asos_sort.compound == 1].tweet.reset_index().tweet[10])\n",
    "print(\"11: \",df_asos_sort[df_asos_sort.compound == 1].tweet.reset_index().tweet[11]) \n",
    "print(\"12: \",df_asos_sort[df_asos_sort.compound == 1].tweet.reset_index().tweet[12]) # from asos itself, i guess\n",
    "print(\"13: \",df_asos_sort[df_asos_sort.compound == 1].tweet.reset_index().tweet[13]) \n",
    "print(\"14: \",df_asos_sort[df_asos_sort.compound == 1].tweet.reset_index().tweet[14]) # from asos itself, i guess\n"
   ]
  },
  {
   "cell_type": "code",
   "execution_count": null,
   "metadata": {},
   "outputs": [],
   "source": []
  }
 ]
}