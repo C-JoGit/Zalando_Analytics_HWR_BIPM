{
 "metadata": {
  "language_info": {
   "codemirror_mode": {
    "name": "ipython",
    "version": 3
   },
   "file_extension": ".py",
   "mimetype": "text/x-python",
   "name": "python",
   "nbconvert_exporter": "python",
   "pygments_lexer": "ipython3",
   "version": "3.8.5"
  },
  "orig_nbformat": 2,
  "kernelspec": {
   "name": "python385jvsc74a57bd03d32eab50a390e074348d82344cbc61403476e5f817511f3da9799ccaaf7cac4",
   "display_name": "Python 3.8.5 64-bit ('base': conda)"
  },
  "metadata": {
   "interpreter": {
    "hash": "b680f19dc88a0e7d20231683ee8f83efcc33b9a1faee7aaf2b39dca108c216ef"
   }
  }
 },
 "nbformat": 4,
 "nbformat_minor": 2,
 "cells": [
  {
   "cell_type": "code",
   "execution_count": 173,
   "metadata": {},
   "outputs": [
    {
     "output_type": "stream",
     "name": "stdout",
     "text": [
      "Downloading emoji data ...\n",
      "[nltk_data] Downloading package stopwords to\n",
      "[nltk_data]     C:\\Users\\chiso\\AppData\\Roaming\\nltk_data...\n",
      "[nltk_data]   Package stopwords is already up-to-date!\n",
      "[nltk_data] Downloading package vader_lexicon to\n",
      "[nltk_data]     C:\\Users\\chiso\\AppData\\Roaming\\nltk_data...\n",
      "[nltk_data]   Package vader_lexicon is already up-to-date!\n",
      "[nltk_data] Downloading package punkt to\n",
      "[nltk_data]     C:\\Users\\chiso\\AppData\\Roaming\\nltk_data...\n",
      "[nltk_data]   Package punkt is already up-to-date!\n",
      "... OK (Got response in 0.46 seconds)\n",
      "Writing emoji data to C:\\Users\\chiso\\.demoji\\codes.json ...\n",
      "... OK\n"
     ]
    }
   ],
   "source": [
    "import sys\n",
    "sys.path.append('../')\n",
    "import functions\n",
    "exec(open('./functions.py').read())"
   ]
  },
  {
   "cell_type": "code",
   "execution_count": 180,
   "metadata": {},
   "outputs": [
    {
     "output_type": "execute_result",
     "data": {
      "text/plain": [
       "   compound         0         1         2         3         4\n",
       "0    0.0000 -0.015905  0.191896  0.311980 -0.082201 -0.054656\n",
       "1   -0.9060  0.094732 -0.196510  0.232367 -0.184807 -0.250304\n",
       "2    0.6249 -0.028408  0.077553  0.232172 -0.400177  0.024043\n",
       "3   -0.4767 -0.025499 -0.010442 -0.289881 -0.029361 -0.232676\n",
       "4    0.0000 -0.092368  0.046109  0.195366 -0.112181 -0.068188"
      ],
      "text/html": "<div>\n<style scoped>\n    .dataframe tbody tr th:only-of-type {\n        vertical-align: middle;\n    }\n\n    .dataframe tbody tr th {\n        vertical-align: top;\n    }\n\n    .dataframe thead th {\n        text-align: right;\n    }\n</style>\n<table border=\"1\" class=\"dataframe\">\n  <thead>\n    <tr style=\"text-align: right;\">\n      <th></th>\n      <th>compound</th>\n      <th>0</th>\n      <th>1</th>\n      <th>2</th>\n      <th>3</th>\n      <th>4</th>\n    </tr>\n  </thead>\n  <tbody>\n    <tr>\n      <th>0</th>\n      <td>0.0000</td>\n      <td>-0.015905</td>\n      <td>0.191896</td>\n      <td>0.311980</td>\n      <td>-0.082201</td>\n      <td>-0.054656</td>\n    </tr>\n    <tr>\n      <th>1</th>\n      <td>-0.9060</td>\n      <td>0.094732</td>\n      <td>-0.196510</td>\n      <td>0.232367</td>\n      <td>-0.184807</td>\n      <td>-0.250304</td>\n    </tr>\n    <tr>\n      <th>2</th>\n      <td>0.6249</td>\n      <td>-0.028408</td>\n      <td>0.077553</td>\n      <td>0.232172</td>\n      <td>-0.400177</td>\n      <td>0.024043</td>\n    </tr>\n    <tr>\n      <th>3</th>\n      <td>-0.4767</td>\n      <td>-0.025499</td>\n      <td>-0.010442</td>\n      <td>-0.289881</td>\n      <td>-0.029361</td>\n      <td>-0.232676</td>\n    </tr>\n    <tr>\n      <th>4</th>\n      <td>0.0000</td>\n      <td>-0.092368</td>\n      <td>0.046109</td>\n      <td>0.195366</td>\n      <td>-0.112181</td>\n      <td>-0.068188</td>\n    </tr>\n  </tbody>\n</table>\n</div>"
     },
     "metadata": {},
     "execution_count": 180
    }
   ],
   "source": [
    "# load the preprocessed doc2vec data\n",
    "data = pickle.load(open('eng_df_represented_doc2vec.pkl', 'rb'))\n",
    "data.head()"
   ]
  },
  {
   "cell_type": "code",
   "execution_count": 188,
   "metadata": {},
   "outputs": [],
   "source": [
    "# change compound from continous to categorical variable\n",
    "data[\"compound\"] = np.where(data[\"compound\"] > 0, 1, data[\"compound\"])\n",
    "data[\"compound\"] = np.where(data[\"compound\"] < 0, -1, data[\"compound\"])"
   ]
  },
  {
   "cell_type": "code",
   "execution_count": 189,
   "metadata": {},
   "outputs": [
    {
     "output_type": "execute_result",
     "data": {
      "text/plain": [
       "   compound         0         1         2         3         4\n",
       "0       0.0 -0.015905  0.191896  0.311980 -0.082201 -0.054656\n",
       "1      -1.0  0.094732 -0.196510  0.232367 -0.184807 -0.250304\n",
       "2       1.0 -0.028408  0.077553  0.232172 -0.400177  0.024043\n",
       "3      -1.0 -0.025499 -0.010442 -0.289881 -0.029361 -0.232676\n",
       "4       0.0 -0.092368  0.046109  0.195366 -0.112181 -0.068188"
      ],
      "text/html": "<div>\n<style scoped>\n    .dataframe tbody tr th:only-of-type {\n        vertical-align: middle;\n    }\n\n    .dataframe tbody tr th {\n        vertical-align: top;\n    }\n\n    .dataframe thead th {\n        text-align: right;\n    }\n</style>\n<table border=\"1\" class=\"dataframe\">\n  <thead>\n    <tr style=\"text-align: right;\">\n      <th></th>\n      <th>compound</th>\n      <th>0</th>\n      <th>1</th>\n      <th>2</th>\n      <th>3</th>\n      <th>4</th>\n    </tr>\n  </thead>\n  <tbody>\n    <tr>\n      <th>0</th>\n      <td>0.0</td>\n      <td>-0.015905</td>\n      <td>0.191896</td>\n      <td>0.311980</td>\n      <td>-0.082201</td>\n      <td>-0.054656</td>\n    </tr>\n    <tr>\n      <th>1</th>\n      <td>-1.0</td>\n      <td>0.094732</td>\n      <td>-0.196510</td>\n      <td>0.232367</td>\n      <td>-0.184807</td>\n      <td>-0.250304</td>\n    </tr>\n    <tr>\n      <th>2</th>\n      <td>1.0</td>\n      <td>-0.028408</td>\n      <td>0.077553</td>\n      <td>0.232172</td>\n      <td>-0.400177</td>\n      <td>0.024043</td>\n    </tr>\n    <tr>\n      <th>3</th>\n      <td>-1.0</td>\n      <td>-0.025499</td>\n      <td>-0.010442</td>\n      <td>-0.289881</td>\n      <td>-0.029361</td>\n      <td>-0.232676</td>\n    </tr>\n    <tr>\n      <th>4</th>\n      <td>0.0</td>\n      <td>-0.092368</td>\n      <td>0.046109</td>\n      <td>0.195366</td>\n      <td>-0.112181</td>\n      <td>-0.068188</td>\n    </tr>\n  </tbody>\n</table>\n</div>"
     },
     "metadata": {},
     "execution_count": 189
    }
   ],
   "source": [
    "data.head()"
   ]
  },
  {
   "cell_type": "code",
   "execution_count": 190,
   "metadata": {},
   "outputs": [],
   "source": [
    "# assing the X and y variables\n",
    "X = data.drop(\"compound\", axis=1)\n",
    "y = data[\"compound\"]"
   ]
  },
  {
   "cell_type": "code",
   "execution_count": 191,
   "metadata": {},
   "outputs": [
    {
     "output_type": "execute_result",
     "data": {
      "text/plain": [
       "          0         1         2         3         4\n",
       "0 -0.015905  0.191896  0.311980 -0.082201 -0.054656\n",
       "1  0.094732 -0.196510  0.232367 -0.184807 -0.250304\n",
       "2 -0.028408  0.077553  0.232172 -0.400177  0.024043\n",
       "3 -0.025499 -0.010442 -0.289881 -0.029361 -0.232676\n",
       "4 -0.092368  0.046109  0.195366 -0.112181 -0.068188"
      ],
      "text/html": "<div>\n<style scoped>\n    .dataframe tbody tr th:only-of-type {\n        vertical-align: middle;\n    }\n\n    .dataframe tbody tr th {\n        vertical-align: top;\n    }\n\n    .dataframe thead th {\n        text-align: right;\n    }\n</style>\n<table border=\"1\" class=\"dataframe\">\n  <thead>\n    <tr style=\"text-align: right;\">\n      <th></th>\n      <th>0</th>\n      <th>1</th>\n      <th>2</th>\n      <th>3</th>\n      <th>4</th>\n    </tr>\n  </thead>\n  <tbody>\n    <tr>\n      <th>0</th>\n      <td>-0.015905</td>\n      <td>0.191896</td>\n      <td>0.311980</td>\n      <td>-0.082201</td>\n      <td>-0.054656</td>\n    </tr>\n    <tr>\n      <th>1</th>\n      <td>0.094732</td>\n      <td>-0.196510</td>\n      <td>0.232367</td>\n      <td>-0.184807</td>\n      <td>-0.250304</td>\n    </tr>\n    <tr>\n      <th>2</th>\n      <td>-0.028408</td>\n      <td>0.077553</td>\n      <td>0.232172</td>\n      <td>-0.400177</td>\n      <td>0.024043</td>\n    </tr>\n    <tr>\n      <th>3</th>\n      <td>-0.025499</td>\n      <td>-0.010442</td>\n      <td>-0.289881</td>\n      <td>-0.029361</td>\n      <td>-0.232676</td>\n    </tr>\n    <tr>\n      <th>4</th>\n      <td>-0.092368</td>\n      <td>0.046109</td>\n      <td>0.195366</td>\n      <td>-0.112181</td>\n      <td>-0.068188</td>\n    </tr>\n  </tbody>\n</table>\n</div>"
     },
     "metadata": {},
     "execution_count": 191
    }
   ],
   "source": [
    "# check X\n",
    "X.head()\n"
   ]
  },
  {
   "cell_type": "code",
   "execution_count": 192,
   "metadata": {},
   "outputs": [
    {
     "output_type": "execute_result",
     "data": {
      "text/plain": [
       "0    0.0\n",
       "1   -1.0\n",
       "2    1.0\n",
       "3   -1.0\n",
       "4    0.0\n",
       "Name: compound, dtype: float64"
      ]
     },
     "metadata": {},
     "execution_count": 192
    }
   ],
   "source": [
    "# check y\n",
    "y.head()"
   ]
  },
  {
   "cell_type": "code",
   "execution_count": 211,
   "metadata": {},
   "outputs": [],
   "source": [
    "# split  to test and train set - use 80% for training and 20% for test\n",
    "X_train, X_test, y_train, y_test = train_test_split(X, y, test_size= 0.2, random_state=42, stratify= y)"
   ]
  },
  {
   "cell_type": "code",
   "execution_count": 212,
   "metadata": {},
   "outputs": [
    {
     "output_type": "stream",
     "name": "stdout",
     "text": [
      "              precision    recall  f1-score   support\n",
      "\n",
      "        -1.0       0.47      0.26      0.33      4946\n",
      "         0.0       0.32      0.06      0.11      7532\n",
      "         1.0       0.45      0.84      0.58      9520\n",
      "\n",
      "    accuracy                           0.44     21998\n",
      "   macro avg       0.41      0.39      0.34     21998\n",
      "weighted avg       0.41      0.44      0.36     21998\n",
      "\n"
     ]
    }
   ],
   "source": [
    "# train the model\n",
    "clf = LogisticRegression(multi_class=\"multinomial\", solver=\"lbfgs\")\n",
    "clf.fit(X_train, y_train)\n",
    "y_pred = clf.predict(X_test)\n",
    "print(classification_report(y_test, y_pred))"
   ]
  },
  {
   "cell_type": "code",
   "execution_count": 202,
   "metadata": {},
   "outputs": [
    {
     "output_type": "stream",
     "name": "stdout",
     "text": [
      " 1.0    47597\n",
      " 0.0    37658\n",
      "-1.0    24732\n",
      "Name: compound, dtype: int64\n"
     ]
    },
    {
     "output_type": "execute_result",
     "data": {
      "text/plain": [
       "       compound         0         1         2         3         4\n",
       "39370      -1.0 -0.029322  0.249719  0.286637  0.063639 -0.072456\n",
       "90544       0.0 -0.076301  0.089977 -0.088174 -0.025999 -0.029968\n",
       "28550      -1.0  0.081735  0.216456  0.033149  0.000074  0.099212\n",
       "86146      -1.0  0.006570  0.087801  0.419855 -0.216380 -0.064295\n",
       "41622       0.0 -0.023165  0.192196  0.151058 -0.155872  0.028333"
      ],
      "text/html": "<div>\n<style scoped>\n    .dataframe tbody tr th:only-of-type {\n        vertical-align: middle;\n    }\n\n    .dataframe tbody tr th {\n        vertical-align: top;\n    }\n\n    .dataframe thead th {\n        text-align: right;\n    }\n</style>\n<table border=\"1\" class=\"dataframe\">\n  <thead>\n    <tr style=\"text-align: right;\">\n      <th></th>\n      <th>compound</th>\n      <th>0</th>\n      <th>1</th>\n      <th>2</th>\n      <th>3</th>\n      <th>4</th>\n    </tr>\n  </thead>\n  <tbody>\n    <tr>\n      <th>39370</th>\n      <td>-1.0</td>\n      <td>-0.029322</td>\n      <td>0.249719</td>\n      <td>0.286637</td>\n      <td>0.063639</td>\n      <td>-0.072456</td>\n    </tr>\n    <tr>\n      <th>90544</th>\n      <td>0.0</td>\n      <td>-0.076301</td>\n      <td>0.089977</td>\n      <td>-0.088174</td>\n      <td>-0.025999</td>\n      <td>-0.029968</td>\n    </tr>\n    <tr>\n      <th>28550</th>\n      <td>-1.0</td>\n      <td>0.081735</td>\n      <td>0.216456</td>\n      <td>0.033149</td>\n      <td>0.000074</td>\n      <td>0.099212</td>\n    </tr>\n    <tr>\n      <th>86146</th>\n      <td>-1.0</td>\n      <td>0.006570</td>\n      <td>0.087801</td>\n      <td>0.419855</td>\n      <td>-0.216380</td>\n      <td>-0.064295</td>\n    </tr>\n    <tr>\n      <th>41622</th>\n      <td>0.0</td>\n      <td>-0.023165</td>\n      <td>0.192196</td>\n      <td>0.151058</td>\n      <td>-0.155872</td>\n      <td>0.028333</td>\n    </tr>\n  </tbody>\n</table>\n</div>"
     },
     "metadata": {},
     "execution_count": 202
    }
   ],
   "source": [
    "# create a balanced data set, train and test our model on it\n",
    "shuffled_df = data.sample(frac=1, random_state= 42)\n",
    "print(shuffled_df[\"compound\"].value_counts())\n",
    "shuffled_df.head()\n"
   ]
  },
  {
   "cell_type": "code",
   "execution_count": 199,
   "metadata": {},
   "outputs": [],
   "source": [
    "# put all the different compounds in a separate data set\n",
    "pos = shuffled_df.loc[shuffled_df[\"compound\"] == 1]\n",
    "neu = shuffled_df.loc[shuffled_df[\"compound\"] == 0]\n",
    "neg = shuffled_df.loc[shuffled_df[\"compound\"] == -1]"
   ]
  },
  {
   "cell_type": "code",
   "execution_count": 203,
   "metadata": {},
   "outputs": [],
   "source": [
    "# balance them all to 24732, the smallest sample\n",
    "neu = neu.sample(n=24732, random_state= 42)\n",
    "pos = pos.sample(n=24732, random_state= 42)"
   ]
  },
  {
   "cell_type": "code",
   "execution_count": 209,
   "metadata": {},
   "outputs": [
    {
     "output_type": "execute_result",
     "data": {
      "text/plain": [
       "(74196, 6)"
      ]
     },
     "metadata": {},
     "execution_count": 209
    }
   ],
   "source": [
    "# concatenate all dataframes\n",
    "balanced_df = pd.concat([pos, neu, neg])\n",
    "balanced_df.shape"
   ]
  },
  {
   "cell_type": "code",
   "execution_count": 208,
   "metadata": {},
   "outputs": [
    {
     "output_type": "execute_result",
     "data": {
      "text/plain": [
       "        compound         0         1         2         3         4\n",
       "108614       1.0  0.005523  0.069174  0.066438 -0.061880  0.114920\n",
       "47673        1.0 -0.060819  0.144103  0.176268  0.013342 -0.040103\n",
       "98694        1.0 -0.201348  0.186996  0.256563 -0.069427 -0.008400\n",
       "90420        1.0 -0.110152  0.164517  0.212028 -0.356572 -0.024280\n",
       "64814        1.0 -0.016312  0.053144  0.081005 -0.140801  0.024318"
      ],
      "text/html": "<div>\n<style scoped>\n    .dataframe tbody tr th:only-of-type {\n        vertical-align: middle;\n    }\n\n    .dataframe tbody tr th {\n        vertical-align: top;\n    }\n\n    .dataframe thead th {\n        text-align: right;\n    }\n</style>\n<table border=\"1\" class=\"dataframe\">\n  <thead>\n    <tr style=\"text-align: right;\">\n      <th></th>\n      <th>compound</th>\n      <th>0</th>\n      <th>1</th>\n      <th>2</th>\n      <th>3</th>\n      <th>4</th>\n    </tr>\n  </thead>\n  <tbody>\n    <tr>\n      <th>108614</th>\n      <td>1.0</td>\n      <td>0.005523</td>\n      <td>0.069174</td>\n      <td>0.066438</td>\n      <td>-0.061880</td>\n      <td>0.114920</td>\n    </tr>\n    <tr>\n      <th>47673</th>\n      <td>1.0</td>\n      <td>-0.060819</td>\n      <td>0.144103</td>\n      <td>0.176268</td>\n      <td>0.013342</td>\n      <td>-0.040103</td>\n    </tr>\n    <tr>\n      <th>98694</th>\n      <td>1.0</td>\n      <td>-0.201348</td>\n      <td>0.186996</td>\n      <td>0.256563</td>\n      <td>-0.069427</td>\n      <td>-0.008400</td>\n    </tr>\n    <tr>\n      <th>90420</th>\n      <td>1.0</td>\n      <td>-0.110152</td>\n      <td>0.164517</td>\n      <td>0.212028</td>\n      <td>-0.356572</td>\n      <td>-0.024280</td>\n    </tr>\n    <tr>\n      <th>64814</th>\n      <td>1.0</td>\n      <td>-0.016312</td>\n      <td>0.053144</td>\n      <td>0.081005</td>\n      <td>-0.140801</td>\n      <td>0.024318</td>\n    </tr>\n  </tbody>\n</table>\n</div>"
     },
     "metadata": {},
     "execution_count": 208
    }
   ],
   "source": [
    "balanced_df.head()"
   ]
  },
  {
   "cell_type": "code",
   "execution_count": 210,
   "metadata": {},
   "outputs": [],
   "source": [
    "# assing the X and y variables\n",
    "X_balanced = balanced_df.drop(\"compound\", axis=1)\n",
    "y_balanced = balanced_df[\"compound\"]"
   ]
  },
  {
   "cell_type": "code",
   "execution_count": 214,
   "metadata": {},
   "outputs": [],
   "source": [
    "# split  to test and train set - use 80% for training and 20% for test\n",
    "X_trainb, X_testb, y_trainb, y_testb = train_test_split(X_balanced, y_balanced, test_size= 0.2, random_state=42, stratify= y_balanced)"
   ]
  },
  {
   "cell_type": "code",
   "execution_count": 215,
   "metadata": {},
   "outputs": [
    {
     "output_type": "stream",
     "name": "stdout",
     "text": [
      "              precision    recall  f1-score   support\n",
      "\n",
      "        -1.0       0.62      0.26      0.37      4946\n",
      "         0.0       0.32      0.07      0.11      4947\n",
      "         1.0       0.36      0.84      0.50      4947\n",
      "\n",
      "    accuracy                           0.39     14840\n",
      "   macro avg       0.43      0.39      0.33     14840\n",
      "weighted avg       0.43      0.39      0.33     14840\n",
      "\n"
     ]
    }
   ],
   "source": [
    "# train the model\n",
    "clfb = LogisticRegression(multi_class=\"multinomial\", solver=\"lbfgs\")\n",
    "clfb.fit(X_trainb, y_trainb)\n",
    "y_predb = clf.predict(X_testb)\n",
    "print(classification_report(y_testb, y_predb))"
   ]
  },
  {
   "cell_type": "code",
   "execution_count": null,
   "metadata": {},
   "outputs": [],
   "source": []
  }
 ]
}