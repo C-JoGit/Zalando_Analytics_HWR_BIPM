{
 "metadata": {
  "language_info": {
   "codemirror_mode": {
    "name": "ipython",
    "version": 3
   },
   "file_extension": ".py",
   "mimetype": "text/x-python",
   "name": "python",
   "nbconvert_exporter": "python",
   "pygments_lexer": "ipython3",
   "version": "3.8.10"
  },
  "orig_nbformat": 2,
  "kernelspec": {
   "name": "python3810jvsc74a57bd03d32eab50a390e074348d82344cbc61403476e5f817511f3da9799ccaaf7cac4",
   "display_name": "Python 3.8.10 64-bit ('base': conda)"
  },
  "metadata": {
   "interpreter": {
    "hash": "1baa965d5efe3ac65b79dfc60c0d706280b1da80fedb7760faf2759126c4f253"
   }
  }
 },
 "nbformat": 4,
 "nbformat_minor": 2,
 "cells": [
  {
   "cell_type": "code",
   "execution_count": 11,
   "metadata": {},
   "outputs": [
    {
     "output_type": "stream",
     "name": "stdout",
     "text": [
      "Downloading emoji data ...\n",
      "[nltk_data] Downloading package stopwords to\n",
      "[nltk_data]     C:\\Users\\chiso\\AppData\\Roaming\\nltk_data...\n",
      "[nltk_data]   Package stopwords is already up-to-date!\n",
      "[nltk_data] Downloading package vader_lexicon to\n",
      "[nltk_data]     C:\\Users\\chiso\\AppData\\Roaming\\nltk_data...\n",
      "[nltk_data]   Package vader_lexicon is already up-to-date!\n",
      "[nltk_data] Downloading package punkt to\n",
      "[nltk_data]     C:\\Users\\chiso\\AppData\\Roaming\\nltk_data...\n",
      "[nltk_data]   Package punkt is already up-to-date!\n",
      "... OK (Got response in 0.54 seconds)\n",
      "Writing emoji data to C:\\Users\\chiso\\.demoji\\codes.json ...\n",
      "... OK\n"
     ]
    }
   ],
   "source": [
    "import sys\n",
    "sys.path.append('../')\n",
    "import functions\n",
    "exec(open('./functions.py', encoding=\"utf8\").read())"
   ]
  },
  {
   "cell_type": "code",
   "execution_count": 11,
   "metadata": {},
   "outputs": [
    {
     "output_type": "execute_result",
     "data": {
      "text/plain": [
       "   compound         0         1         2         3         4\n",
       "0    0.0000 -0.015905  0.191896  0.311980 -0.082201 -0.054656\n",
       "1   -0.9060  0.094732 -0.196510  0.232367 -0.184807 -0.250304\n",
       "2    0.6249 -0.028408  0.077553  0.232172 -0.400177  0.024043\n",
       "3   -0.4767 -0.025499 -0.010442 -0.289881 -0.029361 -0.232676\n",
       "4    0.0000 -0.092368  0.046109  0.195366 -0.112181 -0.068188"
      ],
      "text/html": "<div>\n<style scoped>\n    .dataframe tbody tr th:only-of-type {\n        vertical-align: middle;\n    }\n\n    .dataframe tbody tr th {\n        vertical-align: top;\n    }\n\n    .dataframe thead th {\n        text-align: right;\n    }\n</style>\n<table border=\"1\" class=\"dataframe\">\n  <thead>\n    <tr style=\"text-align: right;\">\n      <th></th>\n      <th>compound</th>\n      <th>0</th>\n      <th>1</th>\n      <th>2</th>\n      <th>3</th>\n      <th>4</th>\n    </tr>\n  </thead>\n  <tbody>\n    <tr>\n      <th>0</th>\n      <td>0.0000</td>\n      <td>-0.015905</td>\n      <td>0.191896</td>\n      <td>0.311980</td>\n      <td>-0.082201</td>\n      <td>-0.054656</td>\n    </tr>\n    <tr>\n      <th>1</th>\n      <td>-0.9060</td>\n      <td>0.094732</td>\n      <td>-0.196510</td>\n      <td>0.232367</td>\n      <td>-0.184807</td>\n      <td>-0.250304</td>\n    </tr>\n    <tr>\n      <th>2</th>\n      <td>0.6249</td>\n      <td>-0.028408</td>\n      <td>0.077553</td>\n      <td>0.232172</td>\n      <td>-0.400177</td>\n      <td>0.024043</td>\n    </tr>\n    <tr>\n      <th>3</th>\n      <td>-0.4767</td>\n      <td>-0.025499</td>\n      <td>-0.010442</td>\n      <td>-0.289881</td>\n      <td>-0.029361</td>\n      <td>-0.232676</td>\n    </tr>\n    <tr>\n      <th>4</th>\n      <td>0.0000</td>\n      <td>-0.092368</td>\n      <td>0.046109</td>\n      <td>0.195366</td>\n      <td>-0.112181</td>\n      <td>-0.068188</td>\n    </tr>\n  </tbody>\n</table>\n</div>"
     },
     "metadata": {},
     "execution_count": 11
    }
   ],
   "source": [
    "# load the preprocessed doc2vec data\n",
    "data = pickle.load(open('data_n_models/eng_df_represented_doc2vec.pkl', 'rb'))\n",
    "data.head()"
   ]
  },
  {
   "cell_type": "code",
   "execution_count": 12,
   "metadata": {},
   "outputs": [],
   "source": [
    "# change compound from continous to categorical variable\n",
    "data[\"compound\"] = np.where(data[\"compound\"] > 0, 1, data[\"compound\"])\n",
    "data[\"compound\"] = np.where(data[\"compound\"] < 0, -1, data[\"compound\"])"
   ]
  },
  {
   "cell_type": "code",
   "execution_count": 13,
   "metadata": {},
   "outputs": [
    {
     "output_type": "execute_result",
     "data": {
      "text/plain": [
       "   compound         0         1         2         3         4\n",
       "0       0.0 -0.015905  0.191896  0.311980 -0.082201 -0.054656\n",
       "1      -1.0  0.094732 -0.196510  0.232367 -0.184807 -0.250304\n",
       "2       1.0 -0.028408  0.077553  0.232172 -0.400177  0.024043\n",
       "3      -1.0 -0.025499 -0.010442 -0.289881 -0.029361 -0.232676\n",
       "4       0.0 -0.092368  0.046109  0.195366 -0.112181 -0.068188"
      ],
      "text/html": "<div>\n<style scoped>\n    .dataframe tbody tr th:only-of-type {\n        vertical-align: middle;\n    }\n\n    .dataframe tbody tr th {\n        vertical-align: top;\n    }\n\n    .dataframe thead th {\n        text-align: right;\n    }\n</style>\n<table border=\"1\" class=\"dataframe\">\n  <thead>\n    <tr style=\"text-align: right;\">\n      <th></th>\n      <th>compound</th>\n      <th>0</th>\n      <th>1</th>\n      <th>2</th>\n      <th>3</th>\n      <th>4</th>\n    </tr>\n  </thead>\n  <tbody>\n    <tr>\n      <th>0</th>\n      <td>0.0</td>\n      <td>-0.015905</td>\n      <td>0.191896</td>\n      <td>0.311980</td>\n      <td>-0.082201</td>\n      <td>-0.054656</td>\n    </tr>\n    <tr>\n      <th>1</th>\n      <td>-1.0</td>\n      <td>0.094732</td>\n      <td>-0.196510</td>\n      <td>0.232367</td>\n      <td>-0.184807</td>\n      <td>-0.250304</td>\n    </tr>\n    <tr>\n      <th>2</th>\n      <td>1.0</td>\n      <td>-0.028408</td>\n      <td>0.077553</td>\n      <td>0.232172</td>\n      <td>-0.400177</td>\n      <td>0.024043</td>\n    </tr>\n    <tr>\n      <th>3</th>\n      <td>-1.0</td>\n      <td>-0.025499</td>\n      <td>-0.010442</td>\n      <td>-0.289881</td>\n      <td>-0.029361</td>\n      <td>-0.232676</td>\n    </tr>\n    <tr>\n      <th>4</th>\n      <td>0.0</td>\n      <td>-0.092368</td>\n      <td>0.046109</td>\n      <td>0.195366</td>\n      <td>-0.112181</td>\n      <td>-0.068188</td>\n    </tr>\n  </tbody>\n</table>\n</div>"
     },
     "metadata": {},
     "execution_count": 13
    }
   ],
   "source": [
    "data.head()"
   ]
  },
  {
   "cell_type": "code",
   "execution_count": 14,
   "metadata": {},
   "outputs": [],
   "source": [
    "# assing the X and y variables\n",
    "X = data.drop(\"compound\", axis=1)\n",
    "y = data[\"compound\"]"
   ]
  },
  {
   "cell_type": "code",
   "execution_count": 15,
   "metadata": {},
   "outputs": [
    {
     "output_type": "execute_result",
     "data": {
      "text/plain": [
       "          0         1         2         3         4\n",
       "0 -0.015905  0.191896  0.311980 -0.082201 -0.054656\n",
       "1  0.094732 -0.196510  0.232367 -0.184807 -0.250304\n",
       "2 -0.028408  0.077553  0.232172 -0.400177  0.024043\n",
       "3 -0.025499 -0.010442 -0.289881 -0.029361 -0.232676\n",
       "4 -0.092368  0.046109  0.195366 -0.112181 -0.068188"
      ],
      "text/html": "<div>\n<style scoped>\n    .dataframe tbody tr th:only-of-type {\n        vertical-align: middle;\n    }\n\n    .dataframe tbody tr th {\n        vertical-align: top;\n    }\n\n    .dataframe thead th {\n        text-align: right;\n    }\n</style>\n<table border=\"1\" class=\"dataframe\">\n  <thead>\n    <tr style=\"text-align: right;\">\n      <th></th>\n      <th>0</th>\n      <th>1</th>\n      <th>2</th>\n      <th>3</th>\n      <th>4</th>\n    </tr>\n  </thead>\n  <tbody>\n    <tr>\n      <th>0</th>\n      <td>-0.015905</td>\n      <td>0.191896</td>\n      <td>0.311980</td>\n      <td>-0.082201</td>\n      <td>-0.054656</td>\n    </tr>\n    <tr>\n      <th>1</th>\n      <td>0.094732</td>\n      <td>-0.196510</td>\n      <td>0.232367</td>\n      <td>-0.184807</td>\n      <td>-0.250304</td>\n    </tr>\n    <tr>\n      <th>2</th>\n      <td>-0.028408</td>\n      <td>0.077553</td>\n      <td>0.232172</td>\n      <td>-0.400177</td>\n      <td>0.024043</td>\n    </tr>\n    <tr>\n      <th>3</th>\n      <td>-0.025499</td>\n      <td>-0.010442</td>\n      <td>-0.289881</td>\n      <td>-0.029361</td>\n      <td>-0.232676</td>\n    </tr>\n    <tr>\n      <th>4</th>\n      <td>-0.092368</td>\n      <td>0.046109</td>\n      <td>0.195366</td>\n      <td>-0.112181</td>\n      <td>-0.068188</td>\n    </tr>\n  </tbody>\n</table>\n</div>"
     },
     "metadata": {},
     "execution_count": 15
    }
   ],
   "source": [
    "# check X\n",
    "X.head()\n"
   ]
  },
  {
   "cell_type": "code",
   "execution_count": 16,
   "metadata": {},
   "outputs": [
    {
     "output_type": "execute_result",
     "data": {
      "text/plain": [
       "0    0.0\n",
       "1   -1.0\n",
       "2    1.0\n",
       "3   -1.0\n",
       "4    0.0\n",
       "Name: compound, dtype: float64"
      ]
     },
     "metadata": {},
     "execution_count": 16
    }
   ],
   "source": [
    "# check y\n",
    "y.head()"
   ]
  },
  {
   "cell_type": "code",
   "execution_count": 17,
   "metadata": {},
   "outputs": [],
   "source": [
    "# split  to test and train set - use 80% for training and 20% for test\r\n",
    "X_train, X_test, y_train, y_test = train_test_split(X, y, test_size= 0.2, random_state=42, stratify= y)"
   ]
  },
  {
   "cell_type": "code",
   "execution_count": 18,
   "metadata": {},
   "outputs": [
    {
     "output_type": "stream",
     "name": "stdout",
     "text": [
      "              precision    recall  f1-score   support\n",
      "\n",
      "        -1.0       0.47      0.26      0.33      4946\n",
      "         0.0       0.32      0.06      0.11      7532\n",
      "         1.0       0.45      0.84      0.58      9520\n",
      "\n",
      "    accuracy                           0.44     21998\n",
      "   macro avg       0.41      0.39      0.34     21998\n",
      "weighted avg       0.41      0.44      0.36     21998\n",
      "\n"
     ]
    }
   ],
   "source": [
    "# train the model\n",
    "clf = LogisticRegression(multi_class=\"multinomial\", solver=\"lbfgs\")\n",
    "clf.fit(X_train, y_train)\n",
    "y_pred = clf.predict(X_test)\n",
    "print(classification_report(y_test, y_pred))"
   ]
  },
  {
   "cell_type": "code",
   "execution_count": 19,
   "metadata": {},
   "outputs": [
    {
     "output_type": "stream",
     "name": "stdout",
     "text": [
      " 1.0    47597\n",
      " 0.0    37658\n",
      "-1.0    24732\n",
      "Name: compound, dtype: int64\n"
     ]
    },
    {
     "output_type": "execute_result",
     "data": {
      "text/plain": [
       "       compound         0         1         2         3         4\n",
       "39370      -1.0 -0.029322  0.249719  0.286637  0.063639 -0.072456\n",
       "90544       0.0 -0.076301  0.089977 -0.088174 -0.025999 -0.029968\n",
       "28550      -1.0  0.081735  0.216456  0.033149  0.000074  0.099212\n",
       "86146      -1.0  0.006570  0.087801  0.419855 -0.216380 -0.064295\n",
       "41622       0.0 -0.023165  0.192196  0.151058 -0.155872  0.028333"
      ],
      "text/html": "<div>\n<style scoped>\n    .dataframe tbody tr th:only-of-type {\n        vertical-align: middle;\n    }\n\n    .dataframe tbody tr th {\n        vertical-align: top;\n    }\n\n    .dataframe thead th {\n        text-align: right;\n    }\n</style>\n<table border=\"1\" class=\"dataframe\">\n  <thead>\n    <tr style=\"text-align: right;\">\n      <th></th>\n      <th>compound</th>\n      <th>0</th>\n      <th>1</th>\n      <th>2</th>\n      <th>3</th>\n      <th>4</th>\n    </tr>\n  </thead>\n  <tbody>\n    <tr>\n      <th>39370</th>\n      <td>-1.0</td>\n      <td>-0.029322</td>\n      <td>0.249719</td>\n      <td>0.286637</td>\n      <td>0.063639</td>\n      <td>-0.072456</td>\n    </tr>\n    <tr>\n      <th>90544</th>\n      <td>0.0</td>\n      <td>-0.076301</td>\n      <td>0.089977</td>\n      <td>-0.088174</td>\n      <td>-0.025999</td>\n      <td>-0.029968</td>\n    </tr>\n    <tr>\n      <th>28550</th>\n      <td>-1.0</td>\n      <td>0.081735</td>\n      <td>0.216456</td>\n      <td>0.033149</td>\n      <td>0.000074</td>\n      <td>0.099212</td>\n    </tr>\n    <tr>\n      <th>86146</th>\n      <td>-1.0</td>\n      <td>0.006570</td>\n      <td>0.087801</td>\n      <td>0.419855</td>\n      <td>-0.216380</td>\n      <td>-0.064295</td>\n    </tr>\n    <tr>\n      <th>41622</th>\n      <td>0.0</td>\n      <td>-0.023165</td>\n      <td>0.192196</td>\n      <td>0.151058</td>\n      <td>-0.155872</td>\n      <td>0.028333</td>\n    </tr>\n  </tbody>\n</table>\n</div>"
     },
     "metadata": {},
     "execution_count": 19
    }
   ],
   "source": [
    "# create a balanced data set, train and test our model on it\n",
    "shuffled_df = data.sample(frac=1, random_state= 42)\n",
    "print(shuffled_df[\"compound\"].value_counts())\n",
    "shuffled_df.head()\n"
   ]
  },
  {
   "cell_type": "code",
   "execution_count": 20,
   "metadata": {},
   "outputs": [],
   "source": [
    "# put all the different compounds in a separate data set\n",
    "pos = shuffled_df.loc[shuffled_df[\"compound\"] == 1]\n",
    "neu = shuffled_df.loc[shuffled_df[\"compound\"] == 0]\n",
    "neg = shuffled_df.loc[shuffled_df[\"compound\"] == -1]"
   ]
  },
  {
   "cell_type": "code",
   "execution_count": 21,
   "metadata": {},
   "outputs": [],
   "source": [
    "# balance them all to 24732, the smallest sample\n",
    "neu = neu.sample(n=24732, random_state= 42)\n",
    "pos = pos.sample(n=24732, random_state= 42)"
   ]
  },
  {
   "cell_type": "code",
   "execution_count": 22,
   "metadata": {},
   "outputs": [
    {
     "output_type": "execute_result",
     "data": {
      "text/plain": [
       "(74196, 6)"
      ]
     },
     "metadata": {},
     "execution_count": 22
    }
   ],
   "source": [
    "# concatenate all dataframes\n",
    "balanced_df = pd.concat([pos, neu, neg])\n",
    "balanced_df.shape"
   ]
  },
  {
   "cell_type": "code",
   "execution_count": 23,
   "metadata": {},
   "outputs": [
    {
     "output_type": "execute_result",
     "data": {
      "text/plain": [
       "        compound         0         1         2         3         4\n",
       "108614       1.0  0.005523  0.069174  0.066438 -0.061880  0.114920\n",
       "47673        1.0 -0.060819  0.144103  0.176268  0.013342 -0.040103\n",
       "98694        1.0 -0.201348  0.186996  0.256563 -0.069427 -0.008400\n",
       "90420        1.0 -0.110152  0.164517  0.212028 -0.356572 -0.024280\n",
       "64814        1.0 -0.016312  0.053144  0.081005 -0.140801  0.024318"
      ],
      "text/html": "<div>\n<style scoped>\n    .dataframe tbody tr th:only-of-type {\n        vertical-align: middle;\n    }\n\n    .dataframe tbody tr th {\n        vertical-align: top;\n    }\n\n    .dataframe thead th {\n        text-align: right;\n    }\n</style>\n<table border=\"1\" class=\"dataframe\">\n  <thead>\n    <tr style=\"text-align: right;\">\n      <th></th>\n      <th>compound</th>\n      <th>0</th>\n      <th>1</th>\n      <th>2</th>\n      <th>3</th>\n      <th>4</th>\n    </tr>\n  </thead>\n  <tbody>\n    <tr>\n      <th>108614</th>\n      <td>1.0</td>\n      <td>0.005523</td>\n      <td>0.069174</td>\n      <td>0.066438</td>\n      <td>-0.061880</td>\n      <td>0.114920</td>\n    </tr>\n    <tr>\n      <th>47673</th>\n      <td>1.0</td>\n      <td>-0.060819</td>\n      <td>0.144103</td>\n      <td>0.176268</td>\n      <td>0.013342</td>\n      <td>-0.040103</td>\n    </tr>\n    <tr>\n      <th>98694</th>\n      <td>1.0</td>\n      <td>-0.201348</td>\n      <td>0.186996</td>\n      <td>0.256563</td>\n      <td>-0.069427</td>\n      <td>-0.008400</td>\n    </tr>\n    <tr>\n      <th>90420</th>\n      <td>1.0</td>\n      <td>-0.110152</td>\n      <td>0.164517</td>\n      <td>0.212028</td>\n      <td>-0.356572</td>\n      <td>-0.024280</td>\n    </tr>\n    <tr>\n      <th>64814</th>\n      <td>1.0</td>\n      <td>-0.016312</td>\n      <td>0.053144</td>\n      <td>0.081005</td>\n      <td>-0.140801</td>\n      <td>0.024318</td>\n    </tr>\n  </tbody>\n</table>\n</div>"
     },
     "metadata": {},
     "execution_count": 23
    }
   ],
   "source": [
    "balanced_df.head()"
   ]
  },
  {
   "cell_type": "code",
   "execution_count": 24,
   "metadata": {},
   "outputs": [],
   "source": [
    "# assing the X and y variables\n",
    "X_balanced = balanced_df.drop(\"compound\", axis=1)\n",
    "y_balanced = balanced_df[\"compound\"]"
   ]
  },
  {
   "cell_type": "code",
   "execution_count": 25,
   "metadata": {},
   "outputs": [],
   "source": [
    "# split  to test and train set - use 80% for training and 20% for test\n",
    "X_trainb, X_testb, y_trainb, y_testb = train_test_split(X_balanced, y_balanced, test_size= 0.2, random_state=42, stratify= y_balanced)"
   ]
  },
  {
   "cell_type": "code",
   "execution_count": 26,
   "metadata": {},
   "outputs": [
    {
     "output_type": "stream",
     "name": "stdout",
     "text": [
      "              precision    recall  f1-score   support\n",
      "\n",
      "        -1.0       0.62      0.26      0.37      4946\n",
      "         0.0       0.32      0.07      0.11      4947\n",
      "         1.0       0.36      0.84      0.50      4947\n",
      "\n",
      "    accuracy                           0.39     14840\n",
      "   macro avg       0.43      0.39      0.33     14840\n",
      "weighted avg       0.43      0.39      0.33     14840\n",
      "\n"
     ]
    }
   ],
   "source": [
    "# train the model\n",
    "clfb = LogisticRegression(multi_class=\"multinomial\", solver=\"lbfgs\")\n",
    "clfb.fit(X_trainb, y_trainb)\n",
    "y_predb = clf.predict(X_testb)\n",
    "print(classification_report(y_testb, y_predb))"
   ]
  },
  {
   "source": [
    "## KNN\n"
   ],
   "cell_type": "markdown",
   "metadata": {}
  },
  {
   "cell_type": "code",
   "execution_count": 52,
   "metadata": {},
   "outputs": [
    {
     "output_type": "stream",
     "name": "stdout",
     "text": [
      "Fitting 5 folds for each of 80 candidates, totalling 400 fits\n"
     ]
    }
   ],
   "source": [
    "grid_params = {\n",
    "    'n_neighbors': [10,20,30,40,50,60,70,80,90,100, 110, 120, 130, 140, 150, 160, 170, 180, 190, 200],\n",
    "    'weights': ['uniform', 'distance'],\n",
    "    'metric': ['euclidean', 'manhattan']\n",
    "}\n",
    "\n",
    "gs = GridSearchCV(KNeighborsClassifier(),\n",
    "    grid_params,\n",
    "    verbose = 1,\n",
    "    cv = 5,\n",
    "    n_jobs = -1)\n",
    "\n",
    "gs_results = gs.fit(X_train, y_train)"
   ]
  },
  {
   "cell_type": "code",
   "execution_count": 53,
   "metadata": {},
   "outputs": [
    {
     "output_type": "stream",
     "name": "stdout",
     "text": [
      "0.4989145838387472\n",
      "KNeighborsClassifier(metric='euclidean', n_neighbors=180, weights='distance')\n",
      "{'metric': 'euclidean', 'n_neighbors': 180, 'weights': 'distance'}\n"
     ]
    }
   ],
   "source": [
    "print(gs_results.best_score_)\n",
    "print(gs_results.best_estimator_)\n",
    "print(gs_results.best_params_)"
   ]
  },
  {
   "cell_type": "code",
   "execution_count": 61,
   "metadata": {},
   "outputs": [
    {
     "output_type": "execute_result",
     "data": {
      "text/plain": [
       "compound  -1.0   0.0   1.0\n",
       "row_0                     \n",
       "-1.0      1170   410   705\n",
       " 0.0      1643  3909  2902\n",
       " 1.0      2133  3213  5913"
      ],
      "text/html": "<div>\n<style scoped>\n    .dataframe tbody tr th:only-of-type {\n        vertical-align: middle;\n    }\n\n    .dataframe tbody tr th {\n        vertical-align: top;\n    }\n\n    .dataframe thead th {\n        text-align: right;\n    }\n</style>\n<table border=\"1\" class=\"dataframe\">\n  <thead>\n    <tr style=\"text-align: right;\">\n      <th>compound</th>\n      <th>-1.0</th>\n      <th>0.0</th>\n      <th>1.0</th>\n    </tr>\n    <tr>\n      <th>row_0</th>\n      <th></th>\n      <th></th>\n      <th></th>\n    </tr>\n  </thead>\n  <tbody>\n    <tr>\n      <th>-1.0</th>\n      <td>1170</td>\n      <td>410</td>\n      <td>705</td>\n    </tr>\n    <tr>\n      <th>0.0</th>\n      <td>1643</td>\n      <td>3909</td>\n      <td>2902</td>\n    </tr>\n    <tr>\n      <th>1.0</th>\n      <td>2133</td>\n      <td>3213</td>\n      <td>5913</td>\n    </tr>\n  </tbody>\n</table>\n</div>"
     },
     "metadata": {},
     "execution_count": 61
    }
   ],
   "source": [
    "knn = KNeighborsClassifier(n_neighbors=180, metric = 'euclidean', weights='distance')\n",
    "knn.fit(X_train, y_train)\n",
    "y_pred_knn = knn.predict(X_test)\n",
    "\n",
    "# Confusion Matrix\n",
    "pd.crosstab(y_pred_knn,y_test)"
   ]
  },
  {
   "cell_type": "code",
   "execution_count": 62,
   "metadata": {},
   "outputs": [
    {
     "output_type": "stream",
     "name": "stdout",
     "text": [
      "              precision    recall  f1-score   support\n",
      "\n",
      "        -1.0       0.51      0.24      0.32      4946\n",
      "         0.0       0.46      0.52      0.49      7532\n",
      "         1.0       0.53      0.62      0.57      9520\n",
      "\n",
      "    accuracy                           0.50     21998\n",
      "   macro avg       0.50      0.46      0.46     21998\n",
      "weighted avg       0.50      0.50      0.49     21998\n",
      "\n"
     ]
    }
   ],
   "source": [
    "print(classification_report(y_test, y_pred_knn ))"
   ]
  },
  {
   "cell_type": "code",
   "execution_count": 56,
   "metadata": {},
   "outputs": [
    {
     "output_type": "stream",
     "name": "stdout",
     "text": [
      "Fitting 5 folds for each of 80 candidates, totalling 400 fits\n",
      "0.4877687399767628\n",
      "KNeighborsClassifier(metric='euclidean', n_neighbors=110, weights='distance')\n",
      "{'metric': 'euclidean', 'n_neighbors': 110, 'weights': 'distance'}\n"
     ]
    }
   ],
   "source": [
    "# balanced data for KNN\n",
    "gs_results_bal = gs.fit(X_trainb, y_trainb)\n",
    "print(gs_results_bal.best_score_)\n",
    "print(gs_results_bal.best_estimator_)\n",
    "print(gs_results_bal.best_params_)"
   ]
  },
  {
   "cell_type": "code",
   "execution_count": 59,
   "metadata": {},
   "outputs": [
    {
     "output_type": "execute_result",
     "data": {
      "text/plain": [
       "compound  -1.0   0.0   1.0\n",
       "row_0                     \n",
       "-1.0      2401  1039  1123\n",
       " 0.0      1641  2862  1945\n",
       " 1.0       904  1046  1879"
      ],
      "text/html": "<div>\n<style scoped>\n    .dataframe tbody tr th:only-of-type {\n        vertical-align: middle;\n    }\n\n    .dataframe tbody tr th {\n        vertical-align: top;\n    }\n\n    .dataframe thead th {\n        text-align: right;\n    }\n</style>\n<table border=\"1\" class=\"dataframe\">\n  <thead>\n    <tr style=\"text-align: right;\">\n      <th>compound</th>\n      <th>-1.0</th>\n      <th>0.0</th>\n      <th>1.0</th>\n    </tr>\n    <tr>\n      <th>row_0</th>\n      <th></th>\n      <th></th>\n      <th></th>\n    </tr>\n  </thead>\n  <tbody>\n    <tr>\n      <th>-1.0</th>\n      <td>2401</td>\n      <td>1039</td>\n      <td>1123</td>\n    </tr>\n    <tr>\n      <th>0.0</th>\n      <td>1641</td>\n      <td>2862</td>\n      <td>1945</td>\n    </tr>\n    <tr>\n      <th>1.0</th>\n      <td>904</td>\n      <td>1046</td>\n      <td>1879</td>\n    </tr>\n  </tbody>\n</table>\n</div>"
     },
     "metadata": {},
     "execution_count": 59
    }
   ],
   "source": [
    "knn_bal = KNeighborsClassifier(n_neighbors=110, metric = 'euclidean', weights='distance')\n",
    "knn_bal.fit(X_trainb, y_trainb)\n",
    "y_pred_knn_bal = knn_bal.predict(X_testb)\n",
    "\n",
    "# Confusion Matrix\n",
    "pd.crosstab(y_pred_knn_bal,y_testb)"
   ]
  },
  {
   "cell_type": "code",
   "execution_count": 60,
   "metadata": {},
   "outputs": [
    {
     "output_type": "stream",
     "name": "stdout",
     "text": [
      "              precision    recall  f1-score   support\n",
      "\n",
      "        -1.0       0.53      0.49      0.50      4946\n",
      "         0.0       0.44      0.58      0.50      4947\n",
      "         1.0       0.49      0.38      0.43      4947\n",
      "\n",
      "    accuracy                           0.48     14840\n",
      "   macro avg       0.49      0.48      0.48     14840\n",
      "weighted avg       0.49      0.48      0.48     14840\n",
      "\n"
     ]
    }
   ],
   "source": [
    "print(classification_report(y_testb, y_pred_knn_bal ))"
   ]
  },
  {
   "source": [
    "# Train the external data set and test it on our data using RandomForestClassifer.\n",
    "#### eng_df_represented_doc2vec100.pkl & eng_ext_twt_doc2vec100.pkl are used for this purpose, the first our data and the second external data."
   ],
   "cell_type": "markdown",
   "metadata": {}
  },
  {
   "cell_type": "code",
   "execution_count": 17,
   "metadata": {},
   "outputs": [
    {
     "output_type": "execute_result",
     "data": {
      "text/plain": [
       "   compound         0         1         2         3         4         5  \\\n",
       "0    0.0000 -0.004433  0.017344 -0.024087  0.057034  0.068060  0.004883   \n",
       "1   -0.9060  0.112829  0.040362  0.090561  0.066377  0.096477  0.076231   \n",
       "2    0.6249  0.054528 -0.023325 -0.048565  0.045793  0.095205 -0.129214   \n",
       "3   -0.4767 -0.047993  0.027005  0.015072  0.136871 -0.029921  0.061309   \n",
       "4    0.0000  0.011156  0.027657  0.059516  0.025263  0.004442 -0.003001   \n",
       "\n",
       "          6         7         8  ...        90        91        92        93  \\\n",
       "0  0.023120  0.083135 -0.049377  ...  0.081655  0.047175 -0.026511  0.045658   \n",
       "1  0.011750  0.020260 -0.065060  ...  0.086467  0.086690 -0.062202  0.067637   \n",
       "2  0.059908  0.066395 -0.037059  ...  0.062776  0.011685 -0.104267 -0.036271   \n",
       "3 -0.032258  0.060657 -0.055493  ...  0.022087  0.004780 -0.042781 -0.044381   \n",
       "4 -0.026982  0.040928  0.077745  ...  0.043202  0.100658 -0.077168 -0.021634   \n",
       "\n",
       "         94        95        96        97        98        99  \n",
       "0  0.144192  0.069732 -0.036535  0.006796 -0.018133  0.023581  \n",
       "1  0.106305  0.069198 -0.118150  0.094560  0.096149 -0.108009  \n",
       "2  0.054181  0.002265 -0.029882 -0.043883 -0.044142  0.009091  \n",
       "3 -0.050044 -0.000620 -0.005393  0.052964  0.040219 -0.031443  \n",
       "4 -0.001215  0.135793  0.031642 -0.031687  0.012914  0.009245  \n",
       "\n",
       "[5 rows x 101 columns]"
      ],
      "text/html": "<div>\n<style scoped>\n    .dataframe tbody tr th:only-of-type {\n        vertical-align: middle;\n    }\n\n    .dataframe tbody tr th {\n        vertical-align: top;\n    }\n\n    .dataframe thead th {\n        text-align: right;\n    }\n</style>\n<table border=\"1\" class=\"dataframe\">\n  <thead>\n    <tr style=\"text-align: right;\">\n      <th></th>\n      <th>compound</th>\n      <th>0</th>\n      <th>1</th>\n      <th>2</th>\n      <th>3</th>\n      <th>4</th>\n      <th>5</th>\n      <th>6</th>\n      <th>7</th>\n      <th>8</th>\n      <th>...</th>\n      <th>90</th>\n      <th>91</th>\n      <th>92</th>\n      <th>93</th>\n      <th>94</th>\n      <th>95</th>\n      <th>96</th>\n      <th>97</th>\n      <th>98</th>\n      <th>99</th>\n    </tr>\n  </thead>\n  <tbody>\n    <tr>\n      <th>0</th>\n      <td>0.0000</td>\n      <td>-0.004433</td>\n      <td>0.017344</td>\n      <td>-0.024087</td>\n      <td>0.057034</td>\n      <td>0.068060</td>\n      <td>0.004883</td>\n      <td>0.023120</td>\n      <td>0.083135</td>\n      <td>-0.049377</td>\n      <td>...</td>\n      <td>0.081655</td>\n      <td>0.047175</td>\n      <td>-0.026511</td>\n      <td>0.045658</td>\n      <td>0.144192</td>\n      <td>0.069732</td>\n      <td>-0.036535</td>\n      <td>0.006796</td>\n      <td>-0.018133</td>\n      <td>0.023581</td>\n    </tr>\n    <tr>\n      <th>1</th>\n      <td>-0.9060</td>\n      <td>0.112829</td>\n      <td>0.040362</td>\n      <td>0.090561</td>\n      <td>0.066377</td>\n      <td>0.096477</td>\n      <td>0.076231</td>\n      <td>0.011750</td>\n      <td>0.020260</td>\n      <td>-0.065060</td>\n      <td>...</td>\n      <td>0.086467</td>\n      <td>0.086690</td>\n      <td>-0.062202</td>\n      <td>0.067637</td>\n      <td>0.106305</td>\n      <td>0.069198</td>\n      <td>-0.118150</td>\n      <td>0.094560</td>\n      <td>0.096149</td>\n      <td>-0.108009</td>\n    </tr>\n    <tr>\n      <th>2</th>\n      <td>0.6249</td>\n      <td>0.054528</td>\n      <td>-0.023325</td>\n      <td>-0.048565</td>\n      <td>0.045793</td>\n      <td>0.095205</td>\n      <td>-0.129214</td>\n      <td>0.059908</td>\n      <td>0.066395</td>\n      <td>-0.037059</td>\n      <td>...</td>\n      <td>0.062776</td>\n      <td>0.011685</td>\n      <td>-0.104267</td>\n      <td>-0.036271</td>\n      <td>0.054181</td>\n      <td>0.002265</td>\n      <td>-0.029882</td>\n      <td>-0.043883</td>\n      <td>-0.044142</td>\n      <td>0.009091</td>\n    </tr>\n    <tr>\n      <th>3</th>\n      <td>-0.4767</td>\n      <td>-0.047993</td>\n      <td>0.027005</td>\n      <td>0.015072</td>\n      <td>0.136871</td>\n      <td>-0.029921</td>\n      <td>0.061309</td>\n      <td>-0.032258</td>\n      <td>0.060657</td>\n      <td>-0.055493</td>\n      <td>...</td>\n      <td>0.022087</td>\n      <td>0.004780</td>\n      <td>-0.042781</td>\n      <td>-0.044381</td>\n      <td>-0.050044</td>\n      <td>-0.000620</td>\n      <td>-0.005393</td>\n      <td>0.052964</td>\n      <td>0.040219</td>\n      <td>-0.031443</td>\n    </tr>\n    <tr>\n      <th>4</th>\n      <td>0.0000</td>\n      <td>0.011156</td>\n      <td>0.027657</td>\n      <td>0.059516</td>\n      <td>0.025263</td>\n      <td>0.004442</td>\n      <td>-0.003001</td>\n      <td>-0.026982</td>\n      <td>0.040928</td>\n      <td>0.077745</td>\n      <td>...</td>\n      <td>0.043202</td>\n      <td>0.100658</td>\n      <td>-0.077168</td>\n      <td>-0.021634</td>\n      <td>-0.001215</td>\n      <td>0.135793</td>\n      <td>0.031642</td>\n      <td>-0.031687</td>\n      <td>0.012914</td>\n      <td>0.009245</td>\n    </tr>\n  </tbody>\n</table>\n<p>5 rows × 101 columns</p>\n</div>"
     },
     "metadata": {},
     "execution_count": 17
    }
   ],
   "source": [
    "own_data = pickle.load(open('data_n_models/eng_df_represented_doc2vec100.pkl', 'rb'))\n",
    "own_data.head()"
   ]
  },
  {
   "cell_type": "code",
   "execution_count": 4,
   "metadata": {},
   "outputs": [
    {
     "output_type": "execute_result",
     "data": {
      "text/plain": [
       "   compound         0         1         2         3         4         5  \\\n",
       "0       2.0 -0.004433  0.017344 -0.024087  0.057034  0.068060  0.004883   \n",
       "1       0.0  0.112829  0.040362  0.090561  0.066377  0.096477  0.076231   \n",
       "2       4.0  0.054528 -0.023325 -0.048565  0.045793  0.095205 -0.129214   \n",
       "3       0.0 -0.047993  0.027005  0.015072  0.136871 -0.029921  0.061309   \n",
       "4       2.0  0.011156  0.027657  0.059516  0.025263  0.004442 -0.003001   \n",
       "\n",
       "          6         7         8  ...        90        91        92        93  \\\n",
       "0  0.023120  0.083135 -0.049377  ...  0.081655  0.047175 -0.026511  0.045658   \n",
       "1  0.011750  0.020260 -0.065060  ...  0.086467  0.086690 -0.062202  0.067637   \n",
       "2  0.059908  0.066395 -0.037059  ...  0.062776  0.011685 -0.104267 -0.036271   \n",
       "3 -0.032258  0.060657 -0.055493  ...  0.022087  0.004780 -0.042781 -0.044381   \n",
       "4 -0.026982  0.040928  0.077745  ...  0.043202  0.100658 -0.077168 -0.021634   \n",
       "\n",
       "         94        95        96        97        98        99  \n",
       "0  0.144192  0.069732 -0.036535  0.006796 -0.018133  0.023581  \n",
       "1  0.106305  0.069198 -0.118150  0.094560  0.096149 -0.108009  \n",
       "2  0.054181  0.002265 -0.029882 -0.043883 -0.044142  0.009091  \n",
       "3 -0.050044 -0.000620 -0.005393  0.052964  0.040219 -0.031443  \n",
       "4 -0.001215  0.135793  0.031642 -0.031687  0.012914  0.009245  \n",
       "\n",
       "[5 rows x 101 columns]"
      ],
      "text/html": "<div>\n<style scoped>\n    .dataframe tbody tr th:only-of-type {\n        vertical-align: middle;\n    }\n\n    .dataframe tbody tr th {\n        vertical-align: top;\n    }\n\n    .dataframe thead th {\n        text-align: right;\n    }\n</style>\n<table border=\"1\" class=\"dataframe\">\n  <thead>\n    <tr style=\"text-align: right;\">\n      <th></th>\n      <th>compound</th>\n      <th>0</th>\n      <th>1</th>\n      <th>2</th>\n      <th>3</th>\n      <th>4</th>\n      <th>5</th>\n      <th>6</th>\n      <th>7</th>\n      <th>8</th>\n      <th>...</th>\n      <th>90</th>\n      <th>91</th>\n      <th>92</th>\n      <th>93</th>\n      <th>94</th>\n      <th>95</th>\n      <th>96</th>\n      <th>97</th>\n      <th>98</th>\n      <th>99</th>\n    </tr>\n  </thead>\n  <tbody>\n    <tr>\n      <th>0</th>\n      <td>2.0</td>\n      <td>-0.004433</td>\n      <td>0.017344</td>\n      <td>-0.024087</td>\n      <td>0.057034</td>\n      <td>0.068060</td>\n      <td>0.004883</td>\n      <td>0.023120</td>\n      <td>0.083135</td>\n      <td>-0.049377</td>\n      <td>...</td>\n      <td>0.081655</td>\n      <td>0.047175</td>\n      <td>-0.026511</td>\n      <td>0.045658</td>\n      <td>0.144192</td>\n      <td>0.069732</td>\n      <td>-0.036535</td>\n      <td>0.006796</td>\n      <td>-0.018133</td>\n      <td>0.023581</td>\n    </tr>\n    <tr>\n      <th>1</th>\n      <td>0.0</td>\n      <td>0.112829</td>\n      <td>0.040362</td>\n      <td>0.090561</td>\n      <td>0.066377</td>\n      <td>0.096477</td>\n      <td>0.076231</td>\n      <td>0.011750</td>\n      <td>0.020260</td>\n      <td>-0.065060</td>\n      <td>...</td>\n      <td>0.086467</td>\n      <td>0.086690</td>\n      <td>-0.062202</td>\n      <td>0.067637</td>\n      <td>0.106305</td>\n      <td>0.069198</td>\n      <td>-0.118150</td>\n      <td>0.094560</td>\n      <td>0.096149</td>\n      <td>-0.108009</td>\n    </tr>\n    <tr>\n      <th>2</th>\n      <td>4.0</td>\n      <td>0.054528</td>\n      <td>-0.023325</td>\n      <td>-0.048565</td>\n      <td>0.045793</td>\n      <td>0.095205</td>\n      <td>-0.129214</td>\n      <td>0.059908</td>\n      <td>0.066395</td>\n      <td>-0.037059</td>\n      <td>...</td>\n      <td>0.062776</td>\n      <td>0.011685</td>\n      <td>-0.104267</td>\n      <td>-0.036271</td>\n      <td>0.054181</td>\n      <td>0.002265</td>\n      <td>-0.029882</td>\n      <td>-0.043883</td>\n      <td>-0.044142</td>\n      <td>0.009091</td>\n    </tr>\n    <tr>\n      <th>3</th>\n      <td>0.0</td>\n      <td>-0.047993</td>\n      <td>0.027005</td>\n      <td>0.015072</td>\n      <td>0.136871</td>\n      <td>-0.029921</td>\n      <td>0.061309</td>\n      <td>-0.032258</td>\n      <td>0.060657</td>\n      <td>-0.055493</td>\n      <td>...</td>\n      <td>0.022087</td>\n      <td>0.004780</td>\n      <td>-0.042781</td>\n      <td>-0.044381</td>\n      <td>-0.050044</td>\n      <td>-0.000620</td>\n      <td>-0.005393</td>\n      <td>0.052964</td>\n      <td>0.040219</td>\n      <td>-0.031443</td>\n    </tr>\n    <tr>\n      <th>4</th>\n      <td>2.0</td>\n      <td>0.011156</td>\n      <td>0.027657</td>\n      <td>0.059516</td>\n      <td>0.025263</td>\n      <td>0.004442</td>\n      <td>-0.003001</td>\n      <td>-0.026982</td>\n      <td>0.040928</td>\n      <td>0.077745</td>\n      <td>...</td>\n      <td>0.043202</td>\n      <td>0.100658</td>\n      <td>-0.077168</td>\n      <td>-0.021634</td>\n      <td>-0.001215</td>\n      <td>0.135793</td>\n      <td>0.031642</td>\n      <td>-0.031687</td>\n      <td>0.012914</td>\n      <td>0.009245</td>\n    </tr>\n  </tbody>\n</table>\n<p>5 rows × 101 columns</p>\n</div>"
     },
     "metadata": {},
     "execution_count": 4
    }
   ],
   "source": [
    "# change compound from continous to categorical variable\n",
    "own_data[\"compound\"] = np.where(own_data[\"compound\"] > 0, 4, own_data[\"compound\"])      # 4 means positive\n",
    "own_data[\"compound\"] = np.where(own_data[\"compound\"] == 0, 2, own_data[\"compound\"])     # 2 means neutral\n",
    "own_data[\"compound\"] = np.where(own_data[\"compound\"] < 0, 0, own_data[\"compound\"])      # 0 means negative\n",
    "own_data.head()"
   ]
  },
  {
   "cell_type": "code",
   "execution_count": 5,
   "metadata": {},
   "outputs": [
    {
     "output_type": "execute_result",
     "data": {
      "text/plain": [
       "   target         0         1         2         3         4         5  \\\n",
       "0       0 -0.130482 -0.004077  0.015810  0.049959 -0.041490 -0.120463   \n",
       "1       0 -0.089091 -0.044952  0.031169  0.031441  0.085560 -0.029774   \n",
       "2       0 -0.034209 -0.032731 -0.006503 -0.015595  0.000750  0.142148   \n",
       "3       0  0.039511  0.021044 -0.044086  0.040040  0.004851 -0.081538   \n",
       "4       0 -0.013230  0.019487 -0.037168  0.025121  0.076826 -0.004086   \n",
       "\n",
       "          6         7         8  ...        90        91        92        93  \\\n",
       "0  0.018499  0.054668  0.034647  ...  0.042085  0.007140 -0.006839  0.065315   \n",
       "1  0.007483 -0.181819  0.014704  ...  0.023001 -0.001031  0.057009  0.125231   \n",
       "2  0.008335  0.034191  0.018336  ... -0.003101 -0.033793 -0.046614 -0.036087   \n",
       "3  0.034979  0.090656 -0.017450  ...  0.050578  0.034360 -0.055606  0.026050   \n",
       "4  0.005005  0.070915 -0.069859  ...  0.088734  0.054730 -0.041834  0.046066   \n",
       "\n",
       "         94        95        96        97        98        99  \n",
       "0 -0.003211 -0.010616  0.007900 -0.021010  0.001334  0.011794  \n",
       "1 -0.058873 -0.190622 -0.068788 -0.087910 -0.060429 -0.148368  \n",
       "2  0.130222  0.097160 -0.004621 -0.135355  0.075437  0.033472  \n",
       "3  0.032533  0.052828  0.007092  0.007348 -0.027534  0.068420  \n",
       "4  0.089995  0.047997 -0.088571 -0.044634 -0.000533  0.022832  \n",
       "\n",
       "[5 rows x 101 columns]"
      ],
      "text/html": "<div>\n<style scoped>\n    .dataframe tbody tr th:only-of-type {\n        vertical-align: middle;\n    }\n\n    .dataframe tbody tr th {\n        vertical-align: top;\n    }\n\n    .dataframe thead th {\n        text-align: right;\n    }\n</style>\n<table border=\"1\" class=\"dataframe\">\n  <thead>\n    <tr style=\"text-align: right;\">\n      <th></th>\n      <th>target</th>\n      <th>0</th>\n      <th>1</th>\n      <th>2</th>\n      <th>3</th>\n      <th>4</th>\n      <th>5</th>\n      <th>6</th>\n      <th>7</th>\n      <th>8</th>\n      <th>...</th>\n      <th>90</th>\n      <th>91</th>\n      <th>92</th>\n      <th>93</th>\n      <th>94</th>\n      <th>95</th>\n      <th>96</th>\n      <th>97</th>\n      <th>98</th>\n      <th>99</th>\n    </tr>\n  </thead>\n  <tbody>\n    <tr>\n      <th>0</th>\n      <td>0</td>\n      <td>-0.130482</td>\n      <td>-0.004077</td>\n      <td>0.015810</td>\n      <td>0.049959</td>\n      <td>-0.041490</td>\n      <td>-0.120463</td>\n      <td>0.018499</td>\n      <td>0.054668</td>\n      <td>0.034647</td>\n      <td>...</td>\n      <td>0.042085</td>\n      <td>0.007140</td>\n      <td>-0.006839</td>\n      <td>0.065315</td>\n      <td>-0.003211</td>\n      <td>-0.010616</td>\n      <td>0.007900</td>\n      <td>-0.021010</td>\n      <td>0.001334</td>\n      <td>0.011794</td>\n    </tr>\n    <tr>\n      <th>1</th>\n      <td>0</td>\n      <td>-0.089091</td>\n      <td>-0.044952</td>\n      <td>0.031169</td>\n      <td>0.031441</td>\n      <td>0.085560</td>\n      <td>-0.029774</td>\n      <td>0.007483</td>\n      <td>-0.181819</td>\n      <td>0.014704</td>\n      <td>...</td>\n      <td>0.023001</td>\n      <td>-0.001031</td>\n      <td>0.057009</td>\n      <td>0.125231</td>\n      <td>-0.058873</td>\n      <td>-0.190622</td>\n      <td>-0.068788</td>\n      <td>-0.087910</td>\n      <td>-0.060429</td>\n      <td>-0.148368</td>\n    </tr>\n    <tr>\n      <th>2</th>\n      <td>0</td>\n      <td>-0.034209</td>\n      <td>-0.032731</td>\n      <td>-0.006503</td>\n      <td>-0.015595</td>\n      <td>0.000750</td>\n      <td>0.142148</td>\n      <td>0.008335</td>\n      <td>0.034191</td>\n      <td>0.018336</td>\n      <td>...</td>\n      <td>-0.003101</td>\n      <td>-0.033793</td>\n      <td>-0.046614</td>\n      <td>-0.036087</td>\n      <td>0.130222</td>\n      <td>0.097160</td>\n      <td>-0.004621</td>\n      <td>-0.135355</td>\n      <td>0.075437</td>\n      <td>0.033472</td>\n    </tr>\n    <tr>\n      <th>3</th>\n      <td>0</td>\n      <td>0.039511</td>\n      <td>0.021044</td>\n      <td>-0.044086</td>\n      <td>0.040040</td>\n      <td>0.004851</td>\n      <td>-0.081538</td>\n      <td>0.034979</td>\n      <td>0.090656</td>\n      <td>-0.017450</td>\n      <td>...</td>\n      <td>0.050578</td>\n      <td>0.034360</td>\n      <td>-0.055606</td>\n      <td>0.026050</td>\n      <td>0.032533</td>\n      <td>0.052828</td>\n      <td>0.007092</td>\n      <td>0.007348</td>\n      <td>-0.027534</td>\n      <td>0.068420</td>\n    </tr>\n    <tr>\n      <th>4</th>\n      <td>0</td>\n      <td>-0.013230</td>\n      <td>0.019487</td>\n      <td>-0.037168</td>\n      <td>0.025121</td>\n      <td>0.076826</td>\n      <td>-0.004086</td>\n      <td>0.005005</td>\n      <td>0.070915</td>\n      <td>-0.069859</td>\n      <td>...</td>\n      <td>0.088734</td>\n      <td>0.054730</td>\n      <td>-0.041834</td>\n      <td>0.046066</td>\n      <td>0.089995</td>\n      <td>0.047997</td>\n      <td>-0.088571</td>\n      <td>-0.044634</td>\n      <td>-0.000533</td>\n      <td>0.022832</td>\n    </tr>\n  </tbody>\n</table>\n<p>5 rows × 101 columns</p>\n</div>"
     },
     "metadata": {},
     "execution_count": 5
    }
   ],
   "source": [
    "ext_data = pickle.load(open('data_n_models/eng_ext_twt_doc2vec100.pkl', 'rb'))\n",
    "ext_data.head()"
   ]
  },
  {
   "cell_type": "code",
   "execution_count": 8,
   "metadata": {},
   "outputs": [
    {
     "output_type": "execute_result",
     "data": {
      "text/plain": [
       "0    800000\n",
       "4    800000\n",
       "Name: target, dtype: int64"
      ]
     },
     "metadata": {},
     "execution_count": 8
    }
   ],
   "source": [
    "ext_data[\"target\"].value_counts()"
   ]
  },
  {
   "cell_type": "code",
   "execution_count": 9,
   "metadata": {},
   "outputs": [],
   "source": [
    "# define X and y variab\n",
    "X_ext = ext_data.drop(\"target\", axis=1)\n",
    "y_ext = ext_data[\"target\"]"
   ]
  },
  {
   "cell_type": "code",
   "execution_count": 10,
   "metadata": {},
   "outputs": [],
   "source": [
    "# split  to test and train set - use 80% for training and 20% for test\n",
    "X_extrain, X_extest, y_extrain, y_extest = train_test_split(X_ext, y_ext, test_size= 0.2, random_state=42, stratify= y_ext)"
   ]
  },
  {
   "cell_type": "code",
   "execution_count": 13,
   "metadata": {},
   "outputs": [
    {
     "output_type": "stream",
     "name": "stdout",
     "text": [
      "              precision    recall  f1-score   support\n",
      "\n",
      "           0       0.67      0.69      0.68    160000\n",
      "           4       0.68      0.66      0.67    160000\n",
      "\n",
      "    accuracy                           0.68    320000\n",
      "   macro avg       0.68      0.68      0.68    320000\n",
      "weighted avg       0.68      0.68      0.68    320000\n",
      "\n"
     ]
    }
   ],
   "source": [
    "clfR = RandomForestClassifier()\n",
    "clfR.fit(X_extrain, y_extrain)\n",
    "y_expred = clfR.predict(X_extest)\n",
    "print(classification_report(y_extest, y_expred))"
   ]
  },
  {
   "cell_type": "code",
   "execution_count": 15,
   "metadata": {},
   "outputs": [],
   "source": [
    "X_own = own_data.drop(\"compound\", axis=1)\n",
    "y_own = own_data[\"compound\"]"
   ]
  },
  {
   "cell_type": "code",
   "execution_count": 16,
   "metadata": {},
   "outputs": [
    {
     "output_type": "stream",
     "name": "stderr",
     "text": [
      "C:\\Users\\chiso\\anaconda3\\lib\\site-packages\\sklearn\\metrics\\_classification.py:1248: UndefinedMetricWarning: Precision and F-score are ill-defined and being set to 0.0 in labels with no predicted samples. Use `zero_division` parameter to control this behavior.\n",
      "  _warn_prf(average, modifier, msg_start, len(result))\n",
      "C:\\Users\\chiso\\anaconda3\\lib\\site-packages\\sklearn\\metrics\\_classification.py:1248: UndefinedMetricWarning: Precision and F-score are ill-defined and being set to 0.0 in labels with no predicted samples. Use `zero_division` parameter to control this behavior.\n",
      "  _warn_prf(average, modifier, msg_start, len(result))\n",
      "C:\\Users\\chiso\\anaconda3\\lib\\site-packages\\sklearn\\metrics\\_classification.py:1248: UndefinedMetricWarning: Precision and F-score are ill-defined and being set to 0.0 in labels with no predicted samples. Use `zero_division` parameter to control this behavior.\n",
      "  _warn_prf(average, modifier, msg_start, len(result))\n",
      "              precision    recall  f1-score   support\n",
      "\n",
      "         0.0       0.33      0.68      0.44     24732\n",
      "         2.0       0.00      0.00      0.00     37658\n",
      "         4.0       0.49      0.60      0.54     47597\n",
      "\n",
      "    accuracy                           0.41    109987\n",
      "   macro avg       0.27      0.42      0.33    109987\n",
      "weighted avg       0.28      0.41      0.33    109987\n",
      "\n"
     ]
    }
   ],
   "source": [
    "y_ownpred = clfR.predict(X_own)\n",
    "print(classification_report(y_own, y_ownpred))"
   ]
  },
  {
   "cell_type": "code",
   "execution_count": null,
   "metadata": {},
   "outputs": [],
   "source": []
  }
 ]
}