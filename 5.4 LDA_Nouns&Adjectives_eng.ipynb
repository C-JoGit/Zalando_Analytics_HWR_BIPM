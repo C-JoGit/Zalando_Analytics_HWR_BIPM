{
 "metadata": {
  "language_info": {
   "codemirror_mode": {
    "name": "ipython",
    "version": 3
   },
   "file_extension": ".py",
   "mimetype": "text/x-python",
   "name": "python",
   "nbconvert_exporter": "python",
   "pygments_lexer": "ipython3",
   "version": "3.8.2"
  },
  "orig_nbformat": 2,
  "kernelspec": {
   "name": "python3",
   "display_name": "Python 3.8.2 64-bit"
  },
  "interpreter": {
   "hash": "1baa965d5efe3ac65b79dfc60c0d706280b1da80fedb7760faf2759126c4f253"
  }
 },
 "nbformat": 4,
 "nbformat_minor": 2,
 "cells": [
  {
   "cell_type": "code",
   "execution_count": 1,
   "source": [
    "import sys\r\n",
    "sys.path.append('../')\r\n",
    "#import functions\r\n",
    "#exec(open('./functions.py').read())\r\n",
    "%run functions.py\r\n",
    "import demoji\r\n",
    "#demoji.download_codes()"
   ],
   "outputs": [
    {
     "output_type": "stream",
     "name": "stderr",
     "text": [
      "C:\\Users\\Annelie Schridde\\AppData\\Roaming\\Python\\Python38\\site-packages\\gensim\\similarities\\__init__.py:15: UserWarning: The gensim.similarities.levenshtein submodule is disabled, because the optional Levenshtein package <https://pypi.org/project/python-Levenshtein/> is unavailable. Install Levenhstein (e.g. `pip install python-Levenshtein`) to suppress this warning.\n",
      "  warnings.warn(msg)\n",
      "[nltk_data] Downloading package stopwords to C:\\Users\\Annelie\n",
      "[nltk_data]     Schridde\\AppData\\Roaming\\nltk_data...\n",
      "[nltk_data]   Package stopwords is already up-to-date!\n",
      "[nltk_data] Downloading package vader_lexicon to C:\\Users\\Annelie\n",
      "[nltk_data]     Schridde\\AppData\\Roaming\\nltk_data...\n",
      "[nltk_data]   Package vader_lexicon is already up-to-date!\n",
      "[nltk_data] Downloading package punkt to C:\\Users\\Annelie\n",
      "[nltk_data]     Schridde\\AppData\\Roaming\\nltk_data...\n",
      "[nltk_data]   Package punkt is already up-to-date!\n"
     ]
    }
   ],
   "metadata": {}
  },
  {
   "cell_type": "code",
   "execution_count": 2,
   "source": [
    "def classify_bots(df):\r\n",
    "    #collect all the account names related to bots and scripts\r\n",
    "    names = []\r\n",
    "    pat = r'(bot\\s|script|bot_)'\r\n",
    "    for name in df.name.unique():\r\n",
    "        match = re.findall(pat, name, re.IGNORECASE) \r\n",
    "        if len(match) > 0:\r\n",
    "            names.append(name)\r\n",
    "    #look for a key words to identify a tweet related to bots and scripts\r\n",
    "    pattern = r\"(script|bot\\s|bots\\s|bot_|cook|cop^e|destroy|proxy)\"\r\n",
    "    df['bot'] = False\r\n",
    "    for i, row in df.iterrows():\r\n",
    "        match = re.findall(pattern, row.tweet, re.IGNORECASE) \r\n",
    "        if len(match) > 0 or row.isin(names)['name'] == True:\r\n",
    "            df['bot'].loc[i] = True\r\n",
    "    return df"
   ],
   "outputs": [],
   "metadata": {}
  },
  {
   "cell_type": "code",
   "execution_count": 32,
   "source": [
    "#load labelled data (generated in file 2.preprocessing_en)\r\n",
    "data = pickle.load(open('data_n_models/eng_df_labelled.pkl', \"rb\"))\r\n",
    "\r\n",
    "#filter out bot reated data\r\n",
    "data = classify_bots(data)\r\n",
    "data = data[data['bot']==False]\r\n",
    "data = data[data['keyword']=='zalando']\r\n",
    "data = data.drop_duplicates(subset=['lemma'])\r\n",
    "data.head()\r\n"
   ],
   "outputs": [
    {
     "output_type": "stream",
     "name": "stderr",
     "text": [
      "C:\\Users\\Annelie Schridde\\AppData\\Roaming\\Python\\Python38\\site-packages\\ipykernel\\ipkernel.py:283: DeprecationWarning: `should_run_async` will not call `transform_cell` automatically in the future. Please pass the result to `transformed_cell` argument and any exception that happen during thetransform in `preprocessing_exc_tuple` in IPython 7.17 and above.\n",
      "  and should_run_async(code)\n",
      "C:\\Users\\Annelie Schridde\\AppData\\Roaming\\Python\\Python38\\site-packages\\pandas\\core\\indexing.py:1637: SettingWithCopyWarning: \n",
      "A value is trying to be set on a copy of a slice from a DataFrame\n",
      "\n",
      "See the caveats in the documentation: https://pandas.pydata.org/pandas-docs/stable/user_guide/indexing.html#returning-a-view-versus-a-copy\n",
      "  self._setitem_single_block(indexer, value, name)\n"
     ]
    },
    {
     "output_type": "execute_result",
     "data": {
      "text/plain": [
       "   index              user_id  user_statuses             name  \\\n",
       "0      0   819101311715131392             77      Ali09685762   \n",
       "1      1  1189512849472643072            105       Labellerr1   \n",
       "3      3  1125728513666048000           9604    DommeLineCoUk   \n",
       "4      4           2614256724          35470         medboyUK   \n",
       "5      5   978410484155199488           1549  missbellalugosi   \n",
       "\n",
       "                                               tweet  retweets  \\\n",
       "0            @Zalando give me my money you owe me!!!         0   \n",
       "1  #VirtualStyling and try-on increases the conve...         0   \n",
       "3  @missbellalugosi @Zalando Problem starts at Ad...         0   \n",
       "4  @missbellalugosi @Zalando Welcome to my world ...         0   \n",
       "5  Hey @Zalando these clothes are not  made of la...         0   \n",
       "\n",
       "             location      created  followers  is_user_verified  \\\n",
       "0                      07-Mar-2021          6             False   \n",
       "1          chandigarh  06-Mar-2021         18             False   \n",
       "3                      06-Mar-2021       2193             False   \n",
       "4   West Midlands, UK  06-Mar-2021       2503             False   \n",
       "5  GERMANY / UK / USA  06-Mar-2021      13827             False   \n",
       "\n",
       "   favorite_count  in_reply_to_status_id  keyword language  \\\n",
       "0             0.0                    NaN  zalando       en   \n",
       "1             0.0                    NaN  zalando       en   \n",
       "3             1.0           1.368196e+18  zalando       en   \n",
       "4             1.0           1.368196e+18  zalando       en   \n",
       "5            17.0                    NaN  zalando       en   \n",
       "\n",
       "                                               clean  \\\n",
       "0                                          money owe   \n",
       "1  virtualstyling try increases conversion rate l...   \n",
       "3       problem starts adidas selling latex websites   \n",
       "4                     welcome world sneering disdain   \n",
       "5  hey clothes latex plastic latex rubber stitche...   \n",
       "\n",
       "                                         clean_vader  compound  \\\n",
       "0                           give money you owe me!!!    0.0000   \n",
       "1  VirtualStyling and try-on increases the conver...    0.7650   \n",
       "3  Problem starts Adidas. They're selling latex t...   -0.4019   \n",
       "4                Welcome world sneering and disdain!   -0.1007   \n",
       "5  Hey these clothes are not made latex, they are...    0.5362   \n",
       "\n",
       "                                               lemma    bot  \n",
       "0                                          money owe  False  \n",
       "1  virtualstyle try increase conversion rate larg...  False  \n",
       "3             problem start adida sell latex website  False  \n",
       "4                        welcome world sneer disdain  False  \n",
       "5  hey clothe latex plastic latex rubber stitch r...  False  "
      ],
      "text/html": [
       "<div>\n",
       "<style scoped>\n",
       "    .dataframe tbody tr th:only-of-type {\n",
       "        vertical-align: middle;\n",
       "    }\n",
       "\n",
       "    .dataframe tbody tr th {\n",
       "        vertical-align: top;\n",
       "    }\n",
       "\n",
       "    .dataframe thead th {\n",
       "        text-align: right;\n",
       "    }\n",
       "</style>\n",
       "<table border=\"1\" class=\"dataframe\">\n",
       "  <thead>\n",
       "    <tr style=\"text-align: right;\">\n",
       "      <th></th>\n",
       "      <th>index</th>\n",
       "      <th>user_id</th>\n",
       "      <th>user_statuses</th>\n",
       "      <th>name</th>\n",
       "      <th>tweet</th>\n",
       "      <th>retweets</th>\n",
       "      <th>location</th>\n",
       "      <th>created</th>\n",
       "      <th>followers</th>\n",
       "      <th>is_user_verified</th>\n",
       "      <th>favorite_count</th>\n",
       "      <th>in_reply_to_status_id</th>\n",
       "      <th>keyword</th>\n",
       "      <th>language</th>\n",
       "      <th>clean</th>\n",
       "      <th>clean_vader</th>\n",
       "      <th>compound</th>\n",
       "      <th>lemma</th>\n",
       "      <th>bot</th>\n",
       "    </tr>\n",
       "  </thead>\n",
       "  <tbody>\n",
       "    <tr>\n",
       "      <th>0</th>\n",
       "      <td>0</td>\n",
       "      <td>819101311715131392</td>\n",
       "      <td>77</td>\n",
       "      <td>Ali09685762</td>\n",
       "      <td>@Zalando give me my money you owe me!!!</td>\n",
       "      <td>0</td>\n",
       "      <td></td>\n",
       "      <td>07-Mar-2021</td>\n",
       "      <td>6</td>\n",
       "      <td>False</td>\n",
       "      <td>0.0</td>\n",
       "      <td>NaN</td>\n",
       "      <td>zalando</td>\n",
       "      <td>en</td>\n",
       "      <td>money owe</td>\n",
       "      <td>give money you owe me!!!</td>\n",
       "      <td>0.0000</td>\n",
       "      <td>money owe</td>\n",
       "      <td>False</td>\n",
       "    </tr>\n",
       "    <tr>\n",
       "      <th>1</th>\n",
       "      <td>1</td>\n",
       "      <td>1189512849472643072</td>\n",
       "      <td>105</td>\n",
       "      <td>Labellerr1</td>\n",
       "      <td>#VirtualStyling and try-on increases the conve...</td>\n",
       "      <td>0</td>\n",
       "      <td>chandigarh</td>\n",
       "      <td>06-Mar-2021</td>\n",
       "      <td>18</td>\n",
       "      <td>False</td>\n",
       "      <td>0.0</td>\n",
       "      <td>NaN</td>\n",
       "      <td>zalando</td>\n",
       "      <td>en</td>\n",
       "      <td>virtualstyling try increases conversion rate l...</td>\n",
       "      <td>VirtualStyling and try-on increases the conver...</td>\n",
       "      <td>0.7650</td>\n",
       "      <td>virtualstyle try increase conversion rate larg...</td>\n",
       "      <td>False</td>\n",
       "    </tr>\n",
       "    <tr>\n",
       "      <th>3</th>\n",
       "      <td>3</td>\n",
       "      <td>1125728513666048000</td>\n",
       "      <td>9604</td>\n",
       "      <td>DommeLineCoUk</td>\n",
       "      <td>@missbellalugosi @Zalando Problem starts at Ad...</td>\n",
       "      <td>0</td>\n",
       "      <td></td>\n",
       "      <td>06-Mar-2021</td>\n",
       "      <td>2193</td>\n",
       "      <td>False</td>\n",
       "      <td>1.0</td>\n",
       "      <td>1.368196e+18</td>\n",
       "      <td>zalando</td>\n",
       "      <td>en</td>\n",
       "      <td>problem starts adidas selling latex websites</td>\n",
       "      <td>Problem starts Adidas. They're selling latex t...</td>\n",
       "      <td>-0.4019</td>\n",
       "      <td>problem start adida sell latex website</td>\n",
       "      <td>False</td>\n",
       "    </tr>\n",
       "    <tr>\n",
       "      <th>4</th>\n",
       "      <td>4</td>\n",
       "      <td>2614256724</td>\n",
       "      <td>35470</td>\n",
       "      <td>medboyUK</td>\n",
       "      <td>@missbellalugosi @Zalando Welcome to my world ...</td>\n",
       "      <td>0</td>\n",
       "      <td>West Midlands, UK</td>\n",
       "      <td>06-Mar-2021</td>\n",
       "      <td>2503</td>\n",
       "      <td>False</td>\n",
       "      <td>1.0</td>\n",
       "      <td>1.368196e+18</td>\n",
       "      <td>zalando</td>\n",
       "      <td>en</td>\n",
       "      <td>welcome world sneering disdain</td>\n",
       "      <td>Welcome world sneering and disdain!</td>\n",
       "      <td>-0.1007</td>\n",
       "      <td>welcome world sneer disdain</td>\n",
       "      <td>False</td>\n",
       "    </tr>\n",
       "    <tr>\n",
       "      <th>5</th>\n",
       "      <td>5</td>\n",
       "      <td>978410484155199488</td>\n",
       "      <td>1549</td>\n",
       "      <td>missbellalugosi</td>\n",
       "      <td>Hey @Zalando these clothes are not  made of la...</td>\n",
       "      <td>0</td>\n",
       "      <td>GERMANY / UK / USA</td>\n",
       "      <td>06-Mar-2021</td>\n",
       "      <td>13827</td>\n",
       "      <td>False</td>\n",
       "      <td>17.0</td>\n",
       "      <td>NaN</td>\n",
       "      <td>zalando</td>\n",
       "      <td>en</td>\n",
       "      <td>hey clothes latex plastic latex rubber stitche...</td>\n",
       "      <td>Hey these clothes are not made latex, they are...</td>\n",
       "      <td>0.5362</td>\n",
       "      <td>hey clothe latex plastic latex rubber stitch r...</td>\n",
       "      <td>False</td>\n",
       "    </tr>\n",
       "  </tbody>\n",
       "</table>\n",
       "</div>"
      ]
     },
     "metadata": {},
     "execution_count": 32
    }
   ],
   "metadata": {}
  },
  {
   "cell_type": "code",
   "execution_count": 4,
   "source": [
    "for i, value in data[10:20].lemma.iteritems():\r\n",
    "    print(i, value)"
   ],
   "outputs": [
    {
     "output_type": "stream",
     "name": "stdout",
     "text": [
      "12 send delivery paper bag\n",
      "13 order eventually thing happen expectation feed information whomever concerned zalando\n",
      "14 hey order product web shop item \" fast delivery \" suppose arrive today unfortunately ship parcel time happen sad\n",
      "15 zalando think big pregnant suggest lovely maternity clothe ️ ️ ️ ️ ️ ️ ️ thank love ️ ️ ️ ️\n",
      "16 think belong sport shoe section\n",
      "17 new redezign circularity pilot product product pilot equip digital tag save product datum scan able discover product history digital product site ️ ️\n",
      "18 zalando ride cargo bike delivery service netherland\n",
      "19 order ship able provide status update\n",
      "20 check new cto cto podcast format dedicate impactful tech in episode victoria schmierer share story implement pre own give new life clothe ecommerce sustainability reuse rewear\n",
      "21 stay informed circular csnew energylabel come force march help consumer cut energy bill footprint zircle wardrobe future list ️ circulareconomy sdg\n"
     ]
    }
   ],
   "metadata": {}
  },
  {
   "cell_type": "markdown",
   "source": [
    "# clustering with LatentDirichletAllocation\n",
    "\n",
    "https://ourcodingclub.github.io/tutorials/topic-modelling-python/"
   ],
   "metadata": {}
  },
  {
   "cell_type": "markdown",
   "source": [
    "### Working with bot-filtered, zalando data. Looking at only 1000 tweets to get a first glimpse\n",
    "\n",
    "The LDA model works based on probabilities. While every posts consists of a mix of topics (probability distribution of topics), every topic represents a mix of words (probability distribution of words). Based on the probabilities words that go together are assigned to a single topic."
   ],
   "metadata": {}
  },
  {
   "cell_type": "code",
   "execution_count": 33,
   "source": [
    "# new try with only nouns\r\n",
    "df = list(data['lemma'])"
   ],
   "outputs": [
    {
     "output_type": "stream",
     "name": "stderr",
     "text": [
      "C:\\Users\\Annelie Schridde\\AppData\\Roaming\\Python\\Python38\\site-packages\\ipykernel\\ipkernel.py:283: DeprecationWarning: `should_run_async` will not call `transform_cell` automatically in the future. Please pass the result to `transformed_cell` argument and any exception that happen during thetransform in `preprocessing_exc_tuple` in IPython 7.17 and above.\n",
      "  and should_run_async(code)\n"
     ]
    }
   ],
   "metadata": {}
  },
  {
   "cell_type": "code",
   "execution_count": 34,
   "source": [
    "# Extracting the nouns from the text data \r\n",
    "from nltk.tag import pos_tag\r\n",
    "from nltk.tokenize import word_tokenize\r\n",
    "# Tokenize\r\n",
    "from nltk.tokenize import RegexpTokenizer\r\n",
    "tokenizer = RegexpTokenizer(r'\\w+')\r\n",
    "import nltk\r\n",
    "nltk.download('averaged_perceptron_tagger')\r\n",
    "data = data.iloc[0:1000] # try only a subset for now\r\n"
   ],
   "outputs": [
    {
     "output_type": "stream",
     "name": "stderr",
     "text": [
      "C:\\Users\\Annelie Schridde\\AppData\\Roaming\\Python\\Python38\\site-packages\\ipykernel\\ipkernel.py:283: DeprecationWarning: `should_run_async` will not call `transform_cell` automatically in the future. Please pass the result to `transformed_cell` argument and any exception that happen during thetransform in `preprocessing_exc_tuple` in IPython 7.17 and above.\n",
      "  and should_run_async(code)\n",
      "[nltk_data] Downloading package averaged_perceptron_tagger to\n",
      "[nltk_data]     C:\\Users\\Annelie Schridde\\AppData\\Roaming\\nltk_data...\n",
      "[nltk_data]   Package averaged_perceptron_tagger is already up-to-\n",
      "[nltk_data]       date!\n"
     ]
    }
   ],
   "metadata": {}
  },
  {
   "cell_type": "code",
   "execution_count": 84,
   "source": [
    "data['tokens'] = data['lemma'].apply(lambda x: tokenizer.tokenize(x.lower())) # can't only use str as input need list of strings\r\n",
    "noun= []\r\n",
    "for row in data['tokens']:\r\n",
    "    noun.append([word for word,pos in pos_tag(row) if pos == 'NN' or pos == 'JJ']) # tagging words as nouns/adjectives with nltk"
   ],
   "outputs": [
    {
     "output_type": "stream",
     "name": "stderr",
     "text": [
      "C:\\Users\\Annelie Schridde\\AppData\\Roaming\\Python\\Python38\\site-packages\\ipykernel\\ipkernel.py:283: DeprecationWarning: `should_run_async` will not call `transform_cell` automatically in the future. Please pass the result to `transformed_cell` argument and any exception that happen during thetransform in `preprocessing_exc_tuple` in IPython 7.17 and above.\n",
      "  and should_run_async(code)\n"
     ]
    }
   ],
   "metadata": {}
  },
  {
   "cell_type": "code",
   "execution_count": 85,
   "source": [
    "# Create bigrams\r\n",
    "# Gensim\r\n",
    "import gensim\r\n",
    "import gensim.corpora as corpora\r\n",
    "from gensim.utils import simple_preprocess\r\n",
    "from gensim.models import CoherenceModel\r\n",
    "\r\n",
    "bigram = gensim.models.Phrases(noun, min_count=5, threshold=100) \r\n",
    "bigram_mod = gensim.models.phrases.Phraser(bigram)"
   ],
   "outputs": [
    {
     "output_type": "stream",
     "name": "stderr",
     "text": [
      "C:\\Users\\Annelie Schridde\\AppData\\Roaming\\Python\\Python38\\site-packages\\ipykernel\\ipkernel.py:283: DeprecationWarning: `should_run_async` will not call `transform_cell` automatically in the future. Please pass the result to `transformed_cell` argument and any exception that happen during thetransform in `preprocessing_exc_tuple` in IPython 7.17 and above.\n",
      "  and should_run_async(code)\n"
     ]
    }
   ],
   "metadata": {}
  },
  {
   "cell_type": "code",
   "execution_count": 86,
   "source": [
    "def make_bigrams(texts):\r\n",
    "    return [bigram_mod[doc] for doc in texts]"
   ],
   "outputs": [
    {
     "output_type": "stream",
     "name": "stderr",
     "text": [
      "C:\\Users\\Annelie Schridde\\AppData\\Roaming\\Python\\Python38\\site-packages\\ipykernel\\ipkernel.py:283: DeprecationWarning: `should_run_async` will not call `transform_cell` automatically in the future. Please pass the result to `transformed_cell` argument and any exception that happen during thetransform in `preprocessing_exc_tuple` in IPython 7.17 and above.\n",
      "  and should_run_async(code)\n"
     ]
    }
   ],
   "metadata": {}
  },
  {
   "cell_type": "code",
   "execution_count": 87,
   "source": [
    "words = make_bigrams(noun)"
   ],
   "outputs": [
    {
     "output_type": "stream",
     "name": "stderr",
     "text": [
      "C:\\Users\\Annelie Schridde\\AppData\\Roaming\\Python\\Python38\\site-packages\\ipykernel\\ipkernel.py:283: DeprecationWarning: `should_run_async` will not call `transform_cell` automatically in the future. Please pass the result to `transformed_cell` argument and any exception that happen during thetransform in `preprocessing_exc_tuple` in IPython 7.17 and above.\n",
      "  and should_run_async(code)\n"
     ]
    }
   ],
   "metadata": {}
  },
  {
   "cell_type": "code",
   "execution_count": 88,
   "source": [
    "# Step 1: create dicationary and corpus for topic modeling\r\n",
    "\r\n",
    "# Create Dictionary\r\n",
    "id2word = corpora.Dictionary(words)\r\n",
    "\r\n",
    "# Create Corpus\r\n",
    "texts = words\r\n",
    "\r\n",
    "# Term Document Frequency\r\n",
    "corpus = [id2word.doc2bow(text) for text in texts]\r\n",
    "\r\n",
    "# View\r\n",
    "print(corpus[:1])\r\n",
    "id2word[0]"
   ],
   "outputs": [
    {
     "output_type": "stream",
     "name": "stdout",
     "text": [
      "[[(0, 1), (1, 1)]]\n",
      "C:\\Users\\Annelie Schridde\\AppData\\Roaming\\Python\\Python38\\site-packages\\ipykernel\\ipkernel.py:283: DeprecationWarning: `should_run_async` will not call `transform_cell` automatically in the future. Please pass the result to `transformed_cell` argument and any exception that happen during thetransform in `preprocessing_exc_tuple` in IPython 7.17 and above.\n",
      "  and should_run_async(code)\n"
     ]
    },
    {
     "output_type": "execute_result",
     "data": {
      "text/plain": [
       "'money'"
      ]
     },
     "metadata": {},
     "execution_count": 88
    }
   ],
   "metadata": {}
  },
  {
   "cell_type": "markdown",
   "source": [
    "The model below trains multiple LDA models with different topic numbers and their corresponding coherence score. According to the following blog post https://towardsdatascience.com/evaluate-topic-model-in-python-latent-dirichlet-allocation-lda-7d57484bb5d0#:~:text=Topic%20Coherence%20measures%20score%20a,are%20artifacts%20of%20statistical%20inference the \"Topic Coherence measures score a single topic by measuring the degree of semantic similarity between high scoring words in the topic. These measurements help distinguish between topics that are semantically interpretable topics and topics that are artifacts of statistical inference.\" The keywords describing the topic are coherent, if they support each other."
   ],
   "metadata": {}
  },
  {
   "cell_type": "code",
   "execution_count": 89,
   "source": [
    "# Define the optimal number of topics\r\n",
    "def compute_coherence_values(dictionary, corpus, texts, limit, start=5, step=5):\r\n",
    "\r\n",
    "    coherence_values = []\r\n",
    "    model_list = []\r\n",
    "    for num_topics in range(start, limit, step):\r\n",
    "        model = gensim.models.ldamodel.LdaModel(corpus=corpus,\r\n",
    "                                           id2word=id2word,\r\n",
    "                                           num_topics=num_topics, \r\n",
    "                                           random_state=100,\r\n",
    "                                           update_every=1,\r\n",
    "                                           chunksize=100,\r\n",
    "                                           passes=10,\r\n",
    "                                           alpha='auto',\r\n",
    "                                           per_word_topics=True)\r\n",
    "        model_list.append(model)\r\n",
    "        coherencemodel = CoherenceModel(model=model, texts=texts, dictionary=dictionary, coherence='c_v')\r\n",
    "        coherence_values.append(coherencemodel.get_coherence())\r\n",
    "\r\n",
    "    return model_list, coherence_values"
   ],
   "outputs": [
    {
     "output_type": "stream",
     "name": "stderr",
     "text": [
      "C:\\Users\\Annelie Schridde\\AppData\\Roaming\\Python\\Python38\\site-packages\\ipykernel\\ipkernel.py:283: DeprecationWarning: `should_run_async` will not call `transform_cell` automatically in the future. Please pass the result to `transformed_cell` argument and any exception that happen during thetransform in `preprocessing_exc_tuple` in IPython 7.17 and above.\n",
      "  and should_run_async(code)\n"
     ]
    }
   ],
   "metadata": {}
  },
  {
   "cell_type": "code",
   "execution_count": 90,
   "source": [
    "# Can take a long time to run (!!!)\r\n",
    "model_list, coherence_values = compute_coherence_values(dictionary=id2word, corpus=corpus, texts=words, start=1, limit=20, step=1)"
   ],
   "outputs": [
    {
     "output_type": "stream",
     "name": "stderr",
     "text": [
      "C:\\Users\\Annelie Schridde\\AppData\\Roaming\\Python\\Python38\\site-packages\\ipykernel\\ipkernel.py:283: DeprecationWarning: `should_run_async` will not call `transform_cell` automatically in the future. Please pass the result to `transformed_cell` argument and any exception that happen during thetransform in `preprocessing_exc_tuple` in IPython 7.17 and above.\n",
      "  and should_run_async(code)\n"
     ]
    }
   ],
   "metadata": {}
  },
  {
   "cell_type": "code",
   "execution_count": 91,
   "source": [
    "# Show graph\r\n",
    "limit=20; start=1; step=1;\r\n",
    "x = range(start, limit, step)\r\n",
    "plt.plot(x, coherence_values)\r\n",
    "plt.xlabel(\"Num Topics\")\r\n",
    "plt.ylabel(\"Coherence score\")\r\n",
    "plt.legend((\"coherence_values\"), loc='best')\r\n",
    "plt.show()"
   ],
   "outputs": [
    {
     "output_type": "stream",
     "name": "stderr",
     "text": [
      "C:\\Users\\Annelie Schridde\\AppData\\Roaming\\Python\\Python38\\site-packages\\ipykernel\\ipkernel.py:283: DeprecationWarning: `should_run_async` will not call `transform_cell` automatically in the future. Please pass the result to `transformed_cell` argument and any exception that happen during thetransform in `preprocessing_exc_tuple` in IPython 7.17 and above.\n",
      "  and should_run_async(code)\n"
     ]
    },
    {
     "output_type": "display_data",
     "data": {
      "text/plain": [
       "<Figure size 432x288 with 1 Axes>"
      ],
      "image/png": "[encoded data removed]",
      "image/svg+xml": "<?xml version=\"1.0\" encoding=\"utf-8\" standalone=\"no\"?>\r\n<!DOCTYPE svg PUBLIC \"-//W3C//DTD SVG 1.1//EN\"\r\n  \"http://www.w3.org/Graphics/SVG/1.1/DTD/svg11.dtd\">\r\n<svg height=\"262.19625pt\" version=\"1.1\" viewBox=\"0 0 398.50625 262.19625\" width=\"398.50625pt\" xmlns=\"http://www.w3.org/2000/svg\" xmlns:xlink=\"http://www.w3.org/1999/xlink\">\r\n <metadata>\r\n  <rdf:RDF xmlns:cc=\"http://creativecommons.org/ns#\" xmlns:dc=\"http://purl.org/dc/elements/1.1/\" xmlns:rdf=\"http://www.w3.org/1999/02/22-rdf-syntax-ns#\">\r\n   <cc:Work>\r\n    <dc:type rdf:resource=\"http://purl.org/dc/dcmitype/StillImage\"/>\r\n    <dc:date>2021-06-23T09:48:12.427229</dc:date>\r\n    <dc:format>image/svg+xml</dc:format>\r\n    <dc:creator>\r\n     <cc:Agent>\r\n      <dc:title>Matplotlib v3.4.2, https://matplotlib.org/</dc:title>\r\n     </cc:Agent>\r\n    </dc:creator>\r\n   </cc:Work>\r\n  </rdf:RDF>\r\n </metadata>\r\n <defs>\r\n  <style type=\"text/css\">*{stroke-linecap:butt;stroke-linejoin:round;}</style>\r\n </defs>\r\n <g id=\"figure_1\">\r\n  <g id=\"patch_1\">\r\n   <path d=\"M 0 262.19625 \r\nL 398.50625 262.19625 \r\nL 398.50625 0 \r\nL 0 0 \r\nz\r\n\" style=\"fill:none;\"/>\r\n  </g>\r\n  <g id=\"axes_1\">\r\n   <g id=\"patch_2\">\r\n    <path d=\"M 56.50625 224.64 \r\nL 391.30625 224.64 \r\nL 391.30625 7.2 \r\nL 56.50625 7.2 \r\nz\r\n\" style=\"fill:#ffffff;\"/>\r\n   </g>\r\n   <g id=\"matplotlib.axis_1\">\r\n    <g id=\"xtick_1\">\r\n     <g id=\"line2d_1\">\r\n      <defs>\r\n       <path d=\"M 0 0 \r\nL 0 3.5 \r\n\" id=\"mdda5d6be39\" style=\"stroke:#000000;stroke-width:0.8;\"/>\r\n      </defs>\r\n      <g>\r\n       <use style=\"stroke:#000000;stroke-width:0.8;\" x=\"97.088068\" xlink:href=\"#mdda5d6be39\" y=\"224.64\"/>\r\n      </g>\r\n     </g>\r\n     <g id=\"text_1\">\r\n      <!-- 2.5 -->\r\n      <g transform=\"translate(89.136506 239.238438)scale(0.1 -0.1)\">\r\n       <defs>\r\n        <path d=\"M 1228 531 \r\nL 3431 531 \r\nL 3431 0 \r\nL 469 0 \r\nL 469 531 \r\nQ 828 903 1448 1529 \r\nQ 2069 2156 2228 2338 \r\nQ 2531 2678 2651 2914 \r\nQ 2772 3150 2772 3378 \r\nQ 2772 3750 2511 3984 \r\nQ 2250 4219 1831 4219 \r\nQ 1534 4219 1204 4116 \r\nQ 875 4013 500 3803 \r\nL 500 4441 \r\nQ 881 4594 1212 4672 \r\nQ 1544 4750 1819 4750 \r\nQ 2544 4750 2975 4387 \r\nQ 3406 4025 3406 3419 \r\nQ 3406 3131 3298 2873 \r\nQ 3191 2616 2906 2266 \r\nQ 2828 2175 2409 1742 \r\nQ 1991 1309 1228 531 \r\nz\r\n\" id=\"DejaVuSans-32\" transform=\"scale(0.015625)\"/>\r\n        <path d=\"M 684 794 \r\nL 1344 794 \r\nL 1344 0 \r\nL 684 0 \r\nL 684 794 \r\nz\r\n\" id=\"DejaVuSans-2e\" transform=\"scale(0.015625)\"/>\r\n        <path d=\"M 691 4666 \r\nL 3169 4666 \r\nL 3169 4134 \r\nL 1269 4134 \r\nL 1269 2991 \r\nQ 1406 3038 1543 3061 \r\nQ 1681 3084 1819 3084 \r\nQ 2600 3084 3056 2656 \r\nQ 3513 2228 3513 1497 \r\nQ 3513 744 3044 326 \r\nQ 2575 -91 1722 -91 \r\nQ 1428 -91 1123 -41 \r\nQ 819 9 494 109 \r\nL 494 744 \r\nQ 775 591 1075 516 \r\nQ 1375 441 1709 441 \r\nQ 2250 441 2565 725 \r\nQ 2881 1009 2881 1497 \r\nQ 2881 1984 2565 2268 \r\nQ 2250 2553 1709 2553 \r\nQ 1456 2553 1204 2497 \r\nQ 953 2441 691 2322 \r\nL 691 4666 \r\nz\r\n\" id=\"DejaVuSans-35\" transform=\"scale(0.015625)\"/>\r\n       </defs>\r\n       <use xlink:href=\"#DejaVuSans-32\"/>\r\n       <use x=\"63.623047\" xlink:href=\"#DejaVuSans-2e\"/>\r\n       <use x=\"95.410156\" xlink:href=\"#DejaVuSans-35\"/>\r\n      </g>\r\n     </g>\r\n    </g>\r\n    <g id=\"xtick_2\">\r\n     <g id=\"line2d_2\">\r\n      <g>\r\n       <use style=\"stroke:#000000;stroke-width:0.8;\" x=\"139.360795\" xlink:href=\"#mdda5d6be39\" y=\"224.64\"/>\r\n      </g>\r\n     </g>\r\n     <g id=\"text_2\">\r\n      <!-- 5.0 -->\r\n      <g transform=\"translate(131.409233 239.238438)scale(0.1 -0.1)\">\r\n       <defs>\r\n        <path d=\"M 2034 4250 \r\nQ 1547 4250 1301 3770 \r\nQ 1056 3291 1056 2328 \r\nQ 1056 1369 1301 889 \r\nQ 1547 409 2034 409 \r\nQ 2525 409 2770 889 \r\nQ 3016 1369 3016 2328 \r\nQ 3016 3291 2770 3770 \r\nQ 2525 4250 2034 4250 \r\nz\r\nM 2034 4750 \r\nQ 2819 4750 3233 4129 \r\nQ 3647 3509 3647 2328 \r\nQ 3647 1150 3233 529 \r\nQ 2819 -91 2034 -91 \r\nQ 1250 -91 836 529 \r\nQ 422 1150 422 2328 \r\nQ 422 3509 836 4129 \r\nQ 1250 4750 2034 4750 \r\nz\r\n\" id=\"DejaVuSans-30\" transform=\"scale(0.015625)\"/>\r\n       </defs>\r\n       <use xlink:href=\"#DejaVuSans-35\"/>\r\n       <use x=\"63.623047\" xlink:href=\"#DejaVuSans-2e\"/>\r\n       <use x=\"95.410156\" xlink:href=\"#DejaVuSans-30\"/>\r\n      </g>\r\n     </g>\r\n    </g>\r\n    <g id=\"xtick_3\">\r\n     <g id=\"line2d_3\">\r\n      <g>\r\n       <use style=\"stroke:#000000;stroke-width:0.8;\" x=\"181.633523\" xlink:href=\"#mdda5d6be39\" y=\"224.64\"/>\r\n      </g>\r\n     </g>\r\n     <g id=\"text_3\">\r\n      <!-- 7.5 -->\r\n      <g transform=\"translate(173.68196 239.238438)scale(0.1 -0.1)\">\r\n       <defs>\r\n        <path d=\"M 525 4666 \r\nL 3525 4666 \r\nL 3525 4397 \r\nL 1831 0 \r\nL 1172 0 \r\nL 2766 4134 \r\nL 525 4134 \r\nL 525 4666 \r\nz\r\n\" id=\"DejaVuSans-37\" transform=\"scale(0.015625)\"/>\r\n       </defs>\r\n       <use xlink:href=\"#DejaVuSans-37\"/>\r\n       <use x=\"63.623047\" xlink:href=\"#DejaVuSans-2e\"/>\r\n       <use x=\"95.410156\" xlink:href=\"#DejaVuSans-35\"/>\r\n      </g>\r\n     </g>\r\n    </g>\r\n    <g id=\"xtick_4\">\r\n     <g id=\"line2d_4\">\r\n      <g>\r\n       <use style=\"stroke:#000000;stroke-width:0.8;\" x=\"223.90625\" xlink:href=\"#mdda5d6be39\" y=\"224.64\"/>\r\n      </g>\r\n     </g>\r\n     <g id=\"text_4\">\r\n      <!-- 10.0 -->\r\n      <g transform=\"translate(212.773438 239.238438)scale(0.1 -0.1)\">\r\n       <defs>\r\n        <path d=\"M 794 531 \r\nL 1825 531 \r\nL 1825 4091 \r\nL 703 3866 \r\nL 703 4441 \r\nL 1819 4666 \r\nL 2450 4666 \r\nL 2450 531 \r\nL 3481 531 \r\nL 3481 0 \r\nL 794 0 \r\nL 794 531 \r\nz\r\n\" id=\"DejaVuSans-31\" transform=\"scale(0.015625)\"/>\r\n       </defs>\r\n       <use xlink:href=\"#DejaVuSans-31\"/>\r\n       <use x=\"63.623047\" xlink:href=\"#DejaVuSans-30\"/>\r\n       <use x=\"127.246094\" xlink:href=\"#DejaVuSans-2e\"/>\r\n       <use x=\"159.033203\" xlink:href=\"#DejaVuSans-30\"/>\r\n      </g>\r\n     </g>\r\n    </g>\r\n    <g id=\"xtick_5\">\r\n     <g id=\"line2d_5\">\r\n      <g>\r\n       <use style=\"stroke:#000000;stroke-width:0.8;\" x=\"266.178977\" xlink:href=\"#mdda5d6be39\" y=\"224.64\"/>\r\n      </g>\r\n     </g>\r\n     <g id=\"text_5\">\r\n      <!-- 12.5 -->\r\n      <g transform=\"translate(255.046165 239.238438)scale(0.1 -0.1)\">\r\n       <use xlink:href=\"#DejaVuSans-31\"/>\r\n       <use x=\"63.623047\" xlink:href=\"#DejaVuSans-32\"/>\r\n       <use x=\"127.246094\" xlink:href=\"#DejaVuSans-2e\"/>\r\n       <use x=\"159.033203\" xlink:href=\"#DejaVuSans-35\"/>\r\n      </g>\r\n     </g>\r\n    </g>\r\n    <g id=\"xtick_6\">\r\n     <g id=\"line2d_6\">\r\n      <g>\r\n       <use style=\"stroke:#000000;stroke-width:0.8;\" x=\"308.451705\" xlink:href=\"#mdda5d6be39\" y=\"224.64\"/>\r\n      </g>\r\n     </g>\r\n     <g id=\"text_6\">\r\n      <!-- 15.0 -->\r\n      <g transform=\"translate(297.318892 239.238438)scale(0.1 -0.1)\">\r\n       <use xlink:href=\"#DejaVuSans-31\"/>\r\n       <use x=\"63.623047\" xlink:href=\"#DejaVuSans-35\"/>\r\n       <use x=\"127.246094\" xlink:href=\"#DejaVuSans-2e\"/>\r\n       <use x=\"159.033203\" xlink:href=\"#DejaVuSans-30\"/>\r\n      </g>\r\n     </g>\r\n    </g>\r\n    <g id=\"xtick_7\">\r\n     <g id=\"line2d_7\">\r\n      <g>\r\n       <use style=\"stroke:#000000;stroke-width:0.8;\" x=\"350.724432\" xlink:href=\"#mdda5d6be39\" y=\"224.64\"/>\r\n      </g>\r\n     </g>\r\n     <g id=\"text_7\">\r\n      <!-- 17.5 -->\r\n      <g transform=\"translate(339.591619 239.238438)scale(0.1 -0.1)\">\r\n       <use xlink:href=\"#DejaVuSans-31\"/>\r\n       <use x=\"63.623047\" xlink:href=\"#DejaVuSans-37\"/>\r\n       <use x=\"127.246094\" xlink:href=\"#DejaVuSans-2e\"/>\r\n       <use x=\"159.033203\" xlink:href=\"#DejaVuSans-35\"/>\r\n      </g>\r\n     </g>\r\n    </g>\r\n    <g id=\"text_8\">\r\n     <!-- Num Topics -->\r\n     <g transform=\"translate(195.357031 252.916563)scale(0.1 -0.1)\">\r\n      <defs>\r\n       <path d=\"M 628 4666 \r\nL 1478 4666 \r\nL 3547 763 \r\nL 3547 4666 \r\nL 4159 4666 \r\nL 4159 0 \r\nL 3309 0 \r\nL 1241 3903 \r\nL 1241 0 \r\nL 628 0 \r\nL 628 4666 \r\nz\r\n\" id=\"DejaVuSans-4e\" transform=\"scale(0.015625)\"/>\r\n       <path d=\"M 544 1381 \r\nL 544 3500 \r\nL 1119 3500 \r\nL 1119 1403 \r\nQ 1119 906 1312 657 \r\nQ 1506 409 1894 409 \r\nQ 2359 409 2629 706 \r\nQ 2900 1003 2900 1516 \r\nL 2900 3500 \r\nL 3475 3500 \r\nL 3475 0 \r\nL 2900 0 \r\nL 2900 538 \r\nQ 2691 219 2414 64 \r\nQ 2138 -91 1772 -91 \r\nQ 1169 -91 856 284 \r\nQ 544 659 544 1381 \r\nz\r\nM 1991 3584 \r\nL 1991 3584 \r\nz\r\n\" id=\"DejaVuSans-75\" transform=\"scale(0.015625)\"/>\r\n       <path d=\"M 3328 2828 \r\nQ 3544 3216 3844 3400 \r\nQ 4144 3584 4550 3584 \r\nQ 5097 3584 5394 3201 \r\nQ 5691 2819 5691 2113 \r\nL 5691 0 \r\nL 5113 0 \r\nL 5113 2094 \r\nQ 5113 2597 4934 2840 \r\nQ 4756 3084 4391 3084 \r\nQ 3944 3084 3684 2787 \r\nQ 3425 2491 3425 1978 \r\nL 3425 0 \r\nL 2847 0 \r\nL 2847 2094 \r\nQ 2847 2600 2669 2842 \r\nQ 2491 3084 2119 3084 \r\nQ 1678 3084 1418 2786 \r\nQ 1159 2488 1159 1978 \r\nL 1159 0 \r\nL 581 0 \r\nL 581 3500 \r\nL 1159 3500 \r\nL 1159 2956 \r\nQ 1356 3278 1631 3431 \r\nQ 1906 3584 2284 3584 \r\nQ 2666 3584 2933 3390 \r\nQ 3200 3197 3328 2828 \r\nz\r\n\" id=\"DejaVuSans-6d\" transform=\"scale(0.015625)\"/>\r\n       <path id=\"DejaVuSans-20\" transform=\"scale(0.015625)\"/>\r\n       <path d=\"M -19 4666 \r\nL 3928 4666 \r\nL 3928 4134 \r\nL 2272 4134 \r\nL 2272 0 \r\nL 1638 0 \r\nL 1638 4134 \r\nL -19 4134 \r\nL -19 4666 \r\nz\r\n\" id=\"DejaVuSans-54\" transform=\"scale(0.015625)\"/>\r\n       <path d=\"M 1959 3097 \r\nQ 1497 3097 1228 2736 \r\nQ 959 2375 959 1747 \r\nQ 959 1119 1226 758 \r\nQ 1494 397 1959 397 \r\nQ 2419 397 2687 759 \r\nQ 2956 1122 2956 1747 \r\nQ 2956 2369 2687 2733 \r\nQ 2419 3097 1959 3097 \r\nz\r\nM 1959 3584 \r\nQ 2709 3584 3137 3096 \r\nQ 3566 2609 3566 1747 \r\nQ 3566 888 3137 398 \r\nQ 2709 -91 1959 -91 \r\nQ 1206 -91 779 398 \r\nQ 353 888 353 1747 \r\nQ 353 2609 779 3096 \r\nQ 1206 3584 1959 3584 \r\nz\r\n\" id=\"DejaVuSans-6f\" transform=\"scale(0.015625)\"/>\r\n       <path d=\"M 1159 525 \r\nL 1159 -1331 \r\nL 581 -1331 \r\nL 581 3500 \r\nL 1159 3500 \r\nL 1159 2969 \r\nQ 1341 3281 1617 3432 \r\nQ 1894 3584 2278 3584 \r\nQ 2916 3584 3314 3078 \r\nQ 3713 2572 3713 1747 \r\nQ 3713 922 3314 415 \r\nQ 2916 -91 2278 -91 \r\nQ 1894 -91 1617 61 \r\nQ 1341 213 1159 525 \r\nz\r\nM 3116 1747 \r\nQ 3116 2381 2855 2742 \r\nQ 2594 3103 2138 3103 \r\nQ 1681 3103 1420 2742 \r\nQ 1159 2381 1159 1747 \r\nQ 1159 1113 1420 752 \r\nQ 1681 391 2138 391 \r\nQ 2594 391 2855 752 \r\nQ 3116 1113 3116 1747 \r\nz\r\n\" id=\"DejaVuSans-70\" transform=\"scale(0.015625)\"/>\r\n       <path d=\"M 603 3500 \r\nL 1178 3500 \r\nL 1178 0 \r\nL 603 0 \r\nL 603 3500 \r\nz\r\nM 603 4863 \r\nL 1178 4863 \r\nL 1178 4134 \r\nL 603 4134 \r\nL 603 4863 \r\nz\r\n\" id=\"DejaVuSans-69\" transform=\"scale(0.015625)\"/>\r\n       <path d=\"M 3122 3366 \r\nL 3122 2828 \r\nQ 2878 2963 2633 3030 \r\nQ 2388 3097 2138 3097 \r\nQ 1578 3097 1268 2742 \r\nQ 959 2388 959 1747 \r\nQ 959 1106 1268 751 \r\nQ 1578 397 2138 397 \r\nQ 2388 397 2633 464 \r\nQ 2878 531 3122 666 \r\nL 3122 134 \r\nQ 2881 22 2623 -34 \r\nQ 2366 -91 2075 -91 \r\nQ 1284 -91 818 406 \r\nQ 353 903 353 1747 \r\nQ 353 2603 823 3093 \r\nQ 1294 3584 2113 3584 \r\nQ 2378 3584 2631 3529 \r\nQ 2884 3475 3122 3366 \r\nz\r\n\" id=\"DejaVuSans-63\" transform=\"scale(0.015625)\"/>\r\n       <path d=\"M 2834 3397 \r\nL 2834 2853 \r\nQ 2591 2978 2328 3040 \r\nQ 2066 3103 1784 3103 \r\nQ 1356 3103 1142 2972 \r\nQ 928 2841 928 2578 \r\nQ 928 2378 1081 2264 \r\nQ 1234 2150 1697 2047 \r\nL 1894 2003 \r\nQ 2506 1872 2764 1633 \r\nQ 3022 1394 3022 966 \r\nQ 3022 478 2636 193 \r\nQ 2250 -91 1575 -91 \r\nQ 1294 -91 989 -36 \r\nQ 684 19 347 128 \r\nL 347 722 \r\nQ 666 556 975 473 \r\nQ 1284 391 1588 391 \r\nQ 1994 391 2212 530 \r\nQ 2431 669 2431 922 \r\nQ 2431 1156 2273 1281 \r\nQ 2116 1406 1581 1522 \r\nL 1381 1569 \r\nQ 847 1681 609 1914 \r\nQ 372 2147 372 2553 \r\nQ 372 3047 722 3315 \r\nQ 1072 3584 1716 3584 \r\nQ 2034 3584 2315 3537 \r\nQ 2597 3491 2834 3397 \r\nz\r\n\" id=\"DejaVuSans-73\" transform=\"scale(0.015625)\"/>\r\n      </defs>\r\n      <use xlink:href=\"#DejaVuSans-4e\"/>\r\n      <use x=\"74.804688\" xlink:href=\"#DejaVuSans-75\"/>\r\n      <use x=\"138.183594\" xlink:href=\"#DejaVuSans-6d\"/>\r\n      <use x=\"235.595703\" xlink:href=\"#DejaVuSans-20\"/>\r\n      <use x=\"267.382812\" xlink:href=\"#DejaVuSans-54\"/>\r\n      <use x=\"311.466797\" xlink:href=\"#DejaVuSans-6f\"/>\r\n      <use x=\"372.648438\" xlink:href=\"#DejaVuSans-70\"/>\r\n      <use x=\"436.125\" xlink:href=\"#DejaVuSans-69\"/>\r\n      <use x=\"463.908203\" xlink:href=\"#DejaVuSans-63\"/>\r\n      <use x=\"518.888672\" xlink:href=\"#DejaVuSans-73\"/>\r\n     </g>\r\n    </g>\r\n   </g>\r\n   <g id=\"matplotlib.axis_2\">\r\n    <g id=\"ytick_1\">\r\n     <g id=\"line2d_8\">\r\n      <defs>\r\n       <path d=\"M 0 0 \r\nL -3.5 0 \r\n\" id=\"m9c7765b948\" style=\"stroke:#000000;stroke-width:0.8;\"/>\r\n      </defs>\r\n      <g>\r\n       <use style=\"stroke:#000000;stroke-width:0.8;\" x=\"56.50625\" xlink:href=\"#m9c7765b948\" y=\"214.735382\"/>\r\n      </g>\r\n     </g>\r\n     <g id=\"text_9\">\r\n      <!-- 0.375 -->\r\n      <g transform=\"translate(20.878125 218.534601)scale(0.1 -0.1)\">\r\n       <defs>\r\n        <path d=\"M 2597 2516 \r\nQ 3050 2419 3304 2112 \r\nQ 3559 1806 3559 1356 \r\nQ 3559 666 3084 287 \r\nQ 2609 -91 1734 -91 \r\nQ 1441 -91 1130 -33 \r\nQ 819 25 488 141 \r\nL 488 750 \r\nQ 750 597 1062 519 \r\nQ 1375 441 1716 441 \r\nQ 2309 441 2620 675 \r\nQ 2931 909 2931 1356 \r\nQ 2931 1769 2642 2001 \r\nQ 2353 2234 1838 2234 \r\nL 1294 2234 \r\nL 1294 2753 \r\nL 1863 2753 \r\nQ 2328 2753 2575 2939 \r\nQ 2822 3125 2822 3475 \r\nQ 2822 3834 2567 4026 \r\nQ 2313 4219 1838 4219 \r\nQ 1578 4219 1281 4162 \r\nQ 984 4106 628 3988 \r\nL 628 4550 \r\nQ 988 4650 1302 4700 \r\nQ 1616 4750 1894 4750 \r\nQ 2613 4750 3031 4423 \r\nQ 3450 4097 3450 3541 \r\nQ 3450 3153 3228 2886 \r\nQ 3006 2619 2597 2516 \r\nz\r\n\" id=\"DejaVuSans-33\" transform=\"scale(0.015625)\"/>\r\n       </defs>\r\n       <use xlink:href=\"#DejaVuSans-30\"/>\r\n       <use x=\"63.623047\" xlink:href=\"#DejaVuSans-2e\"/>\r\n       <use x=\"95.410156\" xlink:href=\"#DejaVuSans-33\"/>\r\n       <use x=\"159.033203\" xlink:href=\"#DejaVuSans-37\"/>\r\n       <use x=\"222.65625\" xlink:href=\"#DejaVuSans-35\"/>\r\n      </g>\r\n     </g>\r\n    </g>\r\n    <g id=\"ytick_2\">\r\n     <g id=\"line2d_9\">\r\n      <g>\r\n       <use style=\"stroke:#000000;stroke-width:0.8;\" x=\"56.50625\" xlink:href=\"#m9c7765b948\" y=\"186.142165\"/>\r\n      </g>\r\n     </g>\r\n     <g id=\"text_10\">\r\n      <!-- 0.400 -->\r\n      <g transform=\"translate(20.878125 189.941383)scale(0.1 -0.1)\">\r\n       <defs>\r\n        <path d=\"M 2419 4116 \r\nL 825 1625 \r\nL 2419 1625 \r\nL 2419 4116 \r\nz\r\nM 2253 4666 \r\nL 3047 4666 \r\nL 3047 1625 \r\nL 3713 1625 \r\nL 3713 1100 \r\nL 3047 1100 \r\nL 3047 0 \r\nL 2419 0 \r\nL 2419 1100 \r\nL 313 1100 \r\nL 313 1709 \r\nL 2253 4666 \r\nz\r\n\" id=\"DejaVuSans-34\" transform=\"scale(0.015625)\"/>\r\n       </defs>\r\n       <use xlink:href=\"#DejaVuSans-30\"/>\r\n       <use x=\"63.623047\" xlink:href=\"#DejaVuSans-2e\"/>\r\n       <use x=\"95.410156\" xlink:href=\"#DejaVuSans-34\"/>\r\n       <use x=\"159.033203\" xlink:href=\"#DejaVuSans-30\"/>\r\n       <use x=\"222.65625\" xlink:href=\"#DejaVuSans-30\"/>\r\n      </g>\r\n     </g>\r\n    </g>\r\n    <g id=\"ytick_3\">\r\n     <g id=\"line2d_10\">\r\n      <g>\r\n       <use style=\"stroke:#000000;stroke-width:0.8;\" x=\"56.50625\" xlink:href=\"#m9c7765b948\" y=\"157.548947\"/>\r\n      </g>\r\n     </g>\r\n     <g id=\"text_11\">\r\n      <!-- 0.425 -->\r\n      <g transform=\"translate(20.878125 161.348166)scale(0.1 -0.1)\">\r\n       <use xlink:href=\"#DejaVuSans-30\"/>\r\n       <use x=\"63.623047\" xlink:href=\"#DejaVuSans-2e\"/>\r\n       <use x=\"95.410156\" xlink:href=\"#DejaVuSans-34\"/>\r\n       <use x=\"159.033203\" xlink:href=\"#DejaVuSans-32\"/>\r\n       <use x=\"222.65625\" xlink:href=\"#DejaVuSans-35\"/>\r\n      </g>\r\n     </g>\r\n    </g>\r\n    <g id=\"ytick_4\">\r\n     <g id=\"line2d_11\">\r\n      <g>\r\n       <use style=\"stroke:#000000;stroke-width:0.8;\" x=\"56.50625\" xlink:href=\"#m9c7765b948\" y=\"128.955729\"/>\r\n      </g>\r\n     </g>\r\n     <g id=\"text_12\">\r\n      <!-- 0.450 -->\r\n      <g transform=\"translate(20.878125 132.754948)scale(0.1 -0.1)\">\r\n       <use xlink:href=\"#DejaVuSans-30\"/>\r\n       <use x=\"63.623047\" xlink:href=\"#DejaVuSans-2e\"/>\r\n       <use x=\"95.410156\" xlink:href=\"#DejaVuSans-34\"/>\r\n       <use x=\"159.033203\" xlink:href=\"#DejaVuSans-35\"/>\r\n       <use x=\"222.65625\" xlink:href=\"#DejaVuSans-30\"/>\r\n      </g>\r\n     </g>\r\n    </g>\r\n    <g id=\"ytick_5\">\r\n     <g id=\"line2d_12\">\r\n      <g>\r\n       <use style=\"stroke:#000000;stroke-width:0.8;\" x=\"56.50625\" xlink:href=\"#m9c7765b948\" y=\"100.362511\"/>\r\n      </g>\r\n     </g>\r\n     <g id=\"text_13\">\r\n      <!-- 0.475 -->\r\n      <g transform=\"translate(20.878125 104.16173)scale(0.1 -0.1)\">\r\n       <use xlink:href=\"#DejaVuSans-30\"/>\r\n       <use x=\"63.623047\" xlink:href=\"#DejaVuSans-2e\"/>\r\n       <use x=\"95.410156\" xlink:href=\"#DejaVuSans-34\"/>\r\n       <use x=\"159.033203\" xlink:href=\"#DejaVuSans-37\"/>\r\n       <use x=\"222.65625\" xlink:href=\"#DejaVuSans-35\"/>\r\n      </g>\r\n     </g>\r\n    </g>\r\n    <g id=\"ytick_6\">\r\n     <g id=\"line2d_13\">\r\n      <g>\r\n       <use style=\"stroke:#000000;stroke-width:0.8;\" x=\"56.50625\" xlink:href=\"#m9c7765b948\" y=\"71.769294\"/>\r\n      </g>\r\n     </g>\r\n     <g id=\"text_14\">\r\n      <!-- 0.500 -->\r\n      <g transform=\"translate(20.878125 75.568512)scale(0.1 -0.1)\">\r\n       <use xlink:href=\"#DejaVuSans-30\"/>\r\n       <use x=\"63.623047\" xlink:href=\"#DejaVuSans-2e\"/>\r\n       <use x=\"95.410156\" xlink:href=\"#DejaVuSans-35\"/>\r\n       <use x=\"159.033203\" xlink:href=\"#DejaVuSans-30\"/>\r\n       <use x=\"222.65625\" xlink:href=\"#DejaVuSans-30\"/>\r\n      </g>\r\n     </g>\r\n    </g>\r\n    <g id=\"ytick_7\">\r\n     <g id=\"line2d_14\">\r\n      <g>\r\n       <use style=\"stroke:#000000;stroke-width:0.8;\" x=\"56.50625\" xlink:href=\"#m9c7765b948\" y=\"43.176076\"/>\r\n      </g>\r\n     </g>\r\n     <g id=\"text_15\">\r\n      <!-- 0.525 -->\r\n      <g transform=\"translate(20.878125 46.975295)scale(0.1 -0.1)\">\r\n       <use xlink:href=\"#DejaVuSans-30\"/>\r\n       <use x=\"63.623047\" xlink:href=\"#DejaVuSans-2e\"/>\r\n       <use x=\"95.410156\" xlink:href=\"#DejaVuSans-35\"/>\r\n       <use x=\"159.033203\" xlink:href=\"#DejaVuSans-32\"/>\r\n       <use x=\"222.65625\" xlink:href=\"#DejaVuSans-35\"/>\r\n      </g>\r\n     </g>\r\n    </g>\r\n    <g id=\"ytick_8\">\r\n     <g id=\"line2d_15\">\r\n      <g>\r\n       <use style=\"stroke:#000000;stroke-width:0.8;\" x=\"56.50625\" xlink:href=\"#m9c7765b948\" y=\"14.582858\"/>\r\n      </g>\r\n     </g>\r\n     <g id=\"text_16\">\r\n      <!-- 0.550 -->\r\n      <g transform=\"translate(20.878125 18.382077)scale(0.1 -0.1)\">\r\n       <use xlink:href=\"#DejaVuSans-30\"/>\r\n       <use x=\"63.623047\" xlink:href=\"#DejaVuSans-2e\"/>\r\n       <use x=\"95.410156\" xlink:href=\"#DejaVuSans-35\"/>\r\n       <use x=\"159.033203\" xlink:href=\"#DejaVuSans-35\"/>\r\n       <use x=\"222.65625\" xlink:href=\"#DejaVuSans-30\"/>\r\n      </g>\r\n     </g>\r\n    </g>\r\n    <g id=\"text_17\">\r\n     <!-- Coherence score -->\r\n     <g transform=\"translate(14.798437 157.752031)rotate(-90)scale(0.1 -0.1)\">\r\n      <defs>\r\n       <path d=\"M 4122 4306 \r\nL 4122 3641 \r\nQ 3803 3938 3442 4084 \r\nQ 3081 4231 2675 4231 \r\nQ 1875 4231 1450 3742 \r\nQ 1025 3253 1025 2328 \r\nQ 1025 1406 1450 917 \r\nQ 1875 428 2675 428 \r\nQ 3081 428 3442 575 \r\nQ 3803 722 4122 1019 \r\nL 4122 359 \r\nQ 3791 134 3420 21 \r\nQ 3050 -91 2638 -91 \r\nQ 1578 -91 968 557 \r\nQ 359 1206 359 2328 \r\nQ 359 3453 968 4101 \r\nQ 1578 4750 2638 4750 \r\nQ 3056 4750 3426 4639 \r\nQ 3797 4528 4122 4306 \r\nz\r\n\" id=\"DejaVuSans-43\" transform=\"scale(0.015625)\"/>\r\n       <path d=\"M 3513 2113 \r\nL 3513 0 \r\nL 2938 0 \r\nL 2938 2094 \r\nQ 2938 2591 2744 2837 \r\nQ 2550 3084 2163 3084 \r\nQ 1697 3084 1428 2787 \r\nQ 1159 2491 1159 1978 \r\nL 1159 0 \r\nL 581 0 \r\nL 581 4863 \r\nL 1159 4863 \r\nL 1159 2956 \r\nQ 1366 3272 1645 3428 \r\nQ 1925 3584 2291 3584 \r\nQ 2894 3584 3203 3211 \r\nQ 3513 2838 3513 2113 \r\nz\r\n\" id=\"DejaVuSans-68\" transform=\"scale(0.015625)\"/>\r\n       <path d=\"M 3597 1894 \r\nL 3597 1613 \r\nL 953 1613 \r\nQ 991 1019 1311 708 \r\nQ 1631 397 2203 397 \r\nQ 2534 397 2845 478 \r\nQ 3156 559 3463 722 \r\nL 3463 178 \r\nQ 3153 47 2828 -22 \r\nQ 2503 -91 2169 -91 \r\nQ 1331 -91 842 396 \r\nQ 353 884 353 1716 \r\nQ 353 2575 817 3079 \r\nQ 1281 3584 2069 3584 \r\nQ 2775 3584 3186 3129 \r\nQ 3597 2675 3597 1894 \r\nz\r\nM 3022 2063 \r\nQ 3016 2534 2758 2815 \r\nQ 2500 3097 2075 3097 \r\nQ 1594 3097 1305 2825 \r\nQ 1016 2553 972 2059 \r\nL 3022 2063 \r\nz\r\n\" id=\"DejaVuSans-65\" transform=\"scale(0.015625)\"/>\r\n       <path d=\"M 2631 2963 \r\nQ 2534 3019 2420 3045 \r\nQ 2306 3072 2169 3072 \r\nQ 1681 3072 1420 2755 \r\nQ 1159 2438 1159 1844 \r\nL 1159 0 \r\nL 581 0 \r\nL 581 3500 \r\nL 1159 3500 \r\nL 1159 2956 \r\nQ 1341 3275 1631 3429 \r\nQ 1922 3584 2338 3584 \r\nQ 2397 3584 2469 3576 \r\nQ 2541 3569 2628 3553 \r\nL 2631 2963 \r\nz\r\n\" id=\"DejaVuSans-72\" transform=\"scale(0.015625)\"/>\r\n       <path d=\"M 3513 2113 \r\nL 3513 0 \r\nL 2938 0 \r\nL 2938 2094 \r\nQ 2938 2591 2744 2837 \r\nQ 2550 3084 2163 3084 \r\nQ 1697 3084 1428 2787 \r\nQ 1159 2491 1159 1978 \r\nL 1159 0 \r\nL 581 0 \r\nL 581 3500 \r\nL 1159 3500 \r\nL 1159 2956 \r\nQ 1366 3272 1645 3428 \r\nQ 1925 3584 2291 3584 \r\nQ 2894 3584 3203 3211 \r\nQ 3513 2838 3513 2113 \r\nz\r\n\" id=\"DejaVuSans-6e\" transform=\"scale(0.015625)\"/>\r\n      </defs>\r\n      <use xlink:href=\"#DejaVuSans-43\"/>\r\n      <use x=\"69.824219\" xlink:href=\"#DejaVuSans-6f\"/>\r\n      <use x=\"131.005859\" xlink:href=\"#DejaVuSans-68\"/>\r\n      <use x=\"194.384766\" xlink:href=\"#DejaVuSans-65\"/>\r\n      <use x=\"255.908203\" xlink:href=\"#DejaVuSans-72\"/>\r\n      <use x=\"294.771484\" xlink:href=\"#DejaVuSans-65\"/>\r\n      <use x=\"356.294922\" xlink:href=\"#DejaVuSans-6e\"/>\r\n      <use x=\"419.673828\" xlink:href=\"#DejaVuSans-63\"/>\r\n      <use x=\"474.654297\" xlink:href=\"#DejaVuSans-65\"/>\r\n      <use x=\"536.177734\" xlink:href=\"#DejaVuSans-20\"/>\r\n      <use x=\"567.964844\" xlink:href=\"#DejaVuSans-73\"/>\r\n      <use x=\"620.064453\" xlink:href=\"#DejaVuSans-63\"/>\r\n      <use x=\"675.044922\" xlink:href=\"#DejaVuSans-6f\"/>\r\n      <use x=\"736.226562\" xlink:href=\"#DejaVuSans-72\"/>\r\n      <use x=\"775.089844\" xlink:href=\"#DejaVuSans-65\"/>\r\n     </g>\r\n    </g>\r\n   </g>\r\n   <g id=\"line2d_16\">\r\n    <path clip-path=\"url(#pc08eebeecf)\" d=\"M 71.724432 214.756364 \r\nL 88.633523 172.999804 \r\nL 105.542614 132.758275 \r\nL 122.451705 101.744687 \r\nL 139.360795 62.215455 \r\nL 156.269886 62.557166 \r\nL 173.178977 37.955235 \r\nL 190.088068 40.618522 \r\nL 206.997159 19.28079 \r\nL 223.90625 17.083636 \r\nL 240.815341 28.162142 \r\nL 257.724432 34.191204 \r\nL 274.633523 69.429879 \r\nL 291.542614 94.028261 \r\nL 308.451705 103.986034 \r\nL 325.360795 131.262314 \r\nL 342.269886 141.41579 \r\nL 359.178977 125.12287 \r\nL 376.088068 121.451909 \r\n\" style=\"fill:none;stroke:#1f77b4;stroke-linecap:square;stroke-width:1.5;\"/>\r\n   </g>\r\n   <g id=\"patch_3\">\r\n    <path d=\"M 56.50625 224.64 \r\nL 56.50625 7.2 \r\n\" style=\"fill:none;stroke:#000000;stroke-linecap:square;stroke-linejoin:miter;stroke-width:0.8;\"/>\r\n   </g>\r\n   <g id=\"patch_4\">\r\n    <path d=\"M 391.30625 224.64 \r\nL 391.30625 7.2 \r\n\" style=\"fill:none;stroke:#000000;stroke-linecap:square;stroke-linejoin:miter;stroke-width:0.8;\"/>\r\n   </g>\r\n   <g id=\"patch_5\">\r\n    <path d=\"M 56.50625 224.64 \r\nL 391.30625 224.64 \r\n\" style=\"fill:none;stroke:#000000;stroke-linecap:square;stroke-linejoin:miter;stroke-width:0.8;\"/>\r\n   </g>\r\n   <g id=\"patch_6\">\r\n    <path d=\"M 56.50625 7.2 \r\nL 391.30625 7.2 \r\n\" style=\"fill:none;stroke:#000000;stroke-linecap:square;stroke-linejoin:miter;stroke-width:0.8;\"/>\r\n   </g>\r\n   <g id=\"legend_1\">\r\n    <g id=\"patch_7\">\r\n     <path d=\"M 346.807813 29.878125 \r\nL 384.30625 29.878125 \r\nQ 386.30625 29.878125 386.30625 27.878125 \r\nL 386.30625 14.2 \r\nQ 386.30625 12.2 384.30625 12.2 \r\nL 346.807813 12.2 \r\nQ 344.807813 12.2 344.807813 14.2 \r\nL 344.807813 27.878125 \r\nQ 344.807813 29.878125 346.807813 29.878125 \r\nz\r\n\" style=\"fill:#ffffff;opacity:0.8;stroke:#cccccc;stroke-linejoin:miter;\"/>\r\n    </g>\r\n    <g id=\"line2d_17\">\r\n     <path d=\"M 348.807813 20.298438 \r\nL 368.807813 20.298438 \r\n\" style=\"fill:none;stroke:#1f77b4;stroke-linecap:square;stroke-width:1.5;\"/>\r\n    </g>\r\n    <g id=\"line2d_18\"/>\r\n    <g id=\"text_18\">\r\n     <!-- c -->\r\n     <g transform=\"translate(376.807813 23.798438)scale(0.1 -0.1)\">\r\n      <use xlink:href=\"#DejaVuSans-63\"/>\r\n     </g>\r\n    </g>\r\n   </g>\r\n  </g>\r\n </g>\r\n <defs>\r\n  <clipPath id=\"pc08eebeecf\">\r\n   <rect height=\"217.44\" width=\"334.8\" x=\"56.50625\" y=\"7.2\"/>\r\n  </clipPath>\r\n </defs>\r\n</svg>\r\n"
     },
     "metadata": {
      "needs_background": "light"
     }
    }
   ],
   "metadata": {}
  },
  {
   "cell_type": "code",
   "execution_count": 92,
   "source": [
    "## Step 2: build LDA model\r\n",
    "lda_model = gensim.models.ldamodel.LdaModel(corpus=corpus,\r\n",
    "                                           id2word=id2word,\r\n",
    "                                           num_topics=10, \r\n",
    "                                           random_state=40,\r\n",
    "                                           update_every=1, # how often the model parameters should be updated\r\n",
    "                                           chunksize=100, # number of texts to be used in each training chunk\r\n",
    "                                           passes=10, # total number of training passes\r\n",
    "                                           alpha='auto',\r\n",
    "                                           per_word_topics=True)"
   ],
   "outputs": [
    {
     "output_type": "stream",
     "name": "stderr",
     "text": [
      "C:\\Users\\Annelie Schridde\\AppData\\Roaming\\Python\\Python38\\site-packages\\ipykernel\\ipkernel.py:283: DeprecationWarning: `should_run_async` will not call `transform_cell` automatically in the future. Please pass the result to `transformed_cell` argument and any exception that happen during thetransform in `preprocessing_exc_tuple` in IPython 7.17 and above.\n",
      "  and should_run_async(code)\n"
     ]
    }
   ],
   "metadata": {}
  },
  {
   "cell_type": "code",
   "execution_count": 93,
   "source": [
    "# Visualize the topics\r\n",
    "import pyLDAvis\r\n",
    "import pyLDAvis.gensim_models  # don't skip this\r\n"
   ],
   "outputs": [
    {
     "output_type": "stream",
     "name": "stderr",
     "text": [
      "C:\\Users\\Annelie Schridde\\AppData\\Roaming\\Python\\Python38\\site-packages\\ipykernel\\ipkernel.py:283: DeprecationWarning: `should_run_async` will not call `transform_cell` automatically in the future. Please pass the result to `transformed_cell` argument and any exception that happen during thetransform in `preprocessing_exc_tuple` in IPython 7.17 and above.\n",
      "  and should_run_async(code)\n"
     ]
    }
   ],
   "metadata": {}
  },
  {
   "cell_type": "markdown",
   "source": [
    "Each circle on the left hand side represents a certain topic. The bigger the circle, the more relevant is the topic based on the input data. While putting the cursor on one of the circles, the right side of the chart illustrates the keywords the topic is formed by and their estimated term frequency within the selected topic. "
   ],
   "metadata": {}
  },
  {
   "cell_type": "code",
   "execution_count": 94,
   "source": [
    "pyLDAvis.enable_notebook()\r\n",
    "vis = pyLDAvis.gensim_models.prepare(lda_model, corpus, id2word)\r\n",
    "vis"
   ],
   "outputs": [
    {
     "output_type": "stream",
     "name": "stderr",
     "text": [
      "C:\\Users\\Annelie Schridde\\AppData\\Roaming\\Python\\Python38\\site-packages\\ipykernel\\ipkernel.py:283: DeprecationWarning: `should_run_async` will not call `transform_cell` automatically in the future. Please pass the result to `transformed_cell` argument and any exception that happen during thetransform in `preprocessing_exc_tuple` in IPython 7.17 and above.\n",
      "  and should_run_async(code)\n"
     ]
    },
    {
     "output_type": "execute_result",
     "data": {
      "text/plain": [
       "PreparedData(topic_coordinates=              x         y  topics  cluster       Freq\n",
       "topic                                                \n",
       "8     -0.368023 -0.019065       1        1  29.413430\n",
       "6      0.019987  0.320760       2        1  16.087549\n",
       "4      0.028211 -0.014730       3        1  11.863917\n",
       "3      0.048008 -0.067597       4        1   7.792658\n",
       "5      0.031894 -0.044489       5        1   7.198646\n",
       "7      0.061502 -0.044080       6        1   6.290021\n",
       "1      0.054730 -0.040532       7        1   5.979573\n",
       "9      0.022191 -0.042877       8        1   5.677049\n",
       "0      0.047988 -0.012524       9        1   4.875803\n",
       "2      0.053512 -0.034867      10        1   4.821354, topic_info=         Term        Freq       Total Category  logprob  loglift\n",
       "95    zalando  601.000000  601.000000  Default  30.0000  30.0000\n",
       "5        good   30.000000   30.000000  Default  29.0000  29.0000\n",
       "436         s   29.000000   29.000000  Default  28.0000  28.0000\n",
       "259   fashion   60.000000   60.000000  Default  27.0000  27.0000\n",
       "311   account   61.000000   61.000000  Default  26.0000  26.0000\n",
       "...       ...         ...         ...      ...      ...      ...\n",
       "56       know    2.363583    3.000217  Topic10  -5.0330   2.7936\n",
       "882         n    2.303578    2.940162  Topic10  -5.0587   2.7881\n",
       "60       tell    2.300093    2.936676  Topic10  -5.0603   2.7878\n",
       "1337   pocket    2.277185    2.913734  Topic10  -5.0703   2.7856\n",
       "81       year    2.721582   16.116351  Topic10  -4.8920   1.2535\n",
       "\n",
       "[355 rows x 6 columns], token_table=      Topic      Freq     Term\n",
       "term                          \n",
       "2403     10  0.901394    abaga\n",
       "311       1  0.995615  account\n",
       "1431      6  0.872923     adan\n",
       "1790      3  0.975518      add\n",
       "168       9  0.760307   advice\n",
       "...     ...       ...      ...\n",
       "81       10  0.186146     year\n",
       "95        1  0.983177  zalando\n",
       "95        2  0.016636  zalando\n",
       "1509      3  0.155748    zlndy\n",
       "1509      5  0.778740    zlndy\n",
       "\n",
       "[337 rows x 3 columns], R=30, lambda_step=0.01, plot_opts={'xlab': 'PC1', 'ylab': 'PC2'}, topic_order=[9, 7, 5, 4, 6, 8, 2, 10, 1, 3])"
      ],
      "text/html": [
       "\n",
       "<link rel=\"stylesheet\" type=\"text/css\" href=\"https://cdn.jsdelivr.net/gh/bmabey/pyLDAvis@3.3.1/pyLDAvis/js/ldavis.v1.0.0.css\">\n",
       "\n",
       "\n",
       "<div id=\"ldavis_el1941217956121776806813222987\"></div>\n",
       "<script type=\"text/javascript\">\n",
       "\n",
       "var ldavis_el1941217956121776806813222987_data = {\"mdsDat\": {\"x\": [-0.3680225404933032, 0.019986860248350898, 0.028210535022187042, 0.048007714888349824, 0.03189366477111831, 0.06150246170617537, 0.05472990109540075, 0.022191366935741617, 0.04798778465909, 0.053512251166889395], \"y\": [-0.019064808406207823, 0.32076037117059725, -0.014729592487936866, -0.06759681446825097, -0.04448889824797767, -0.044079688545869425, -0.040532177256684385, -0.042877082110458806, -0.012524012727310962, -0.034867296919900315], \"topics\": [1, 2, 3, 4, 5, 6, 7, 8, 9, 10], \"cluster\": [1, 1, 1, 1, 1, 1, 1, 1, 1, 1], \"Freq\": [29.41343016515297, 16.08754892540019, 11.86391716759592, 7.792658470900486, 7.198645769032098, 6.290020635231759, 5.979573377907619, 5.677048857830347, 4.875802959536967, 4.8213536714116465]}, \"tinfo\": {\"Term\": [\"zalando\", \"good\", \"s\", \"fashion\", \"account\", \"work\", \"stock\", \"european\", \"growth\", \"day\", \"team\", \"order\", \"sale\", \"delivery\", \"today\", \"new\", \"drop\", \"brand\", \"size\", \"pair\", \"time\", \"market\", \"product\", \"target\", \"ecommerce\", \"europe\", \"restock\", \"launch\", \"amazon\", \"look\", \"account\", \"order\", \"time\", \"zalando\", \"look\", \"big\", \"retail\", \"join\", \"great\", \"open\", \"cartable\", \"shoe\", \"talk\", \"shop\", \"help\", \"giftcard\", \"sorry\", \"live\", \"arrive\", \"get\", \"design\", \"market\", \"experience\", \"think\", \"snipe\", \"view\", \"podcast\", \"board\", \"march\", \"sell\", \"new\", \"thank\", \"customer\", \"online\", \"fashion\", \"day\", \"launch\", \"package\", \"sustainability\", \"champion\", \"spring_campaign\", \"share\", \"tomorrow\", \"germany\", \"pandemic\", \"meet\", \"event\", \"celebrate_value\", \"berlin\", \"logistic\", \"laud_society\", \"end\", \"business\", \"nice\", \"read\", \"engineer\", \"aw\", \"pant\", \"stuff\", \"style\", \"test\", \"kubernete\", \"celebrate\", \"postgre_operator\", \"discount\", \"week\", \"news\", \"platform\", \"fashion\", \"zalando\", \"stock\", \"european\", \"growth\", \"europe\", \"company\", \"retailer\", \"revenue\", \"try\", \"grow\", \"right\", \"i\", \"post\", \"rise_upbeat\", \"lead\", \"way\", \"forecast_volkswagen\", \"outlook\", \"apparel\", \"use\", \"winner\", \"positive\", \"strong\", \"trading\", \"add\", \"datum\", \"retailnew\", \"change\", \"trade\", \"roll\", \"bitcoin\", \"year\", \"fashion\", \"gmv\", \"eur\", \"online\", \"report\", \"s\", \"today\", \"size\", \"pair\", \"restock\", \"success\", \"morning\", \"issue\", \"manage\", \"show\", \"t\", \"guy\", \"feature\", \"lot\", \"dunk\", \"retweet\", \"app\", \"user\", \"monitor\", \"covid\", \"person\", \"manual\", \"triple\", \"capital\", \"mar\", \"recent\", \"info\", \"number\", \"solebox\", \"employer\", \"thank\", \"team\", \"product\", \"target\", \"thing\", \"price\", \"marketplace\", \"site\", \"partner\", \"wait\", \"job\", \"expectation\", \"lol\", \"happen\", \"network\", \"progress\", \"digital\", \"normal\", \"tag\", \"senior\", \"wishlist\", \"folk\", \"happy\", \"art\", \"sustainablefashion\", \"original\", \"android\", \"govs\", \"bisouv\", \"host\", \"heart\", \"zlndy\", \"eur\", \"work\", \"brand\", \"woman\", \"stay\", \"website\", \"black\", \"body\", \"creative\", \"campaign\", \"jordan\", \"performance\", \"high\", \"bodyform\", \"multi\", \"home\", \"future\", \"positivity\", \"release\", \"presentation\", \"inara\", \"joanethis\", \"strategy\", \"application\", \"diversity\", \"adan\", \"wash\", \"global\", \"inclusion\", \"broaden\", \"gender\", \"start\", \"delivery\", \"item\", \"return\", \"free\", \"service\", \"purchase\", \"send\", \"queen\", \"findom\", \"bag\", \"store\", \"shopping\", \"link\", \"opportunity\", \"slt\", \"long\", \"want\", \"card\", \"neutral\", \"bike\", \"server\", \"bol\", \"female\", \"com\", \"tribute\", \"climate\", \"findomnl\", \"crypto\", \"term\", \"email\", \"ecommerce\", \"amazon\", \"need\", \"money\", \"check\", \"bad\", \"base\", \"life\", \"receive\", \"clothing\", \"clothe_\\u2110\\u2113\\u0665\\ufefb\\ufec9\", \"problem\", \"jacket\", \"key\", \"rise\", \"break\", \"interview\", \"kind\", \"buyer\", \"love_combine\", \"afternoon\", \"message\", \"merchandise\", \"house\", \"contact\", \"cos\", \"agency\", \"gross\", \"special\", \"complain\", \"clothe\", \"new\", \"customer\", \"refund\", \"good\", \"sale\", \"drop\", \"plan\", \"cop\", \"hey\", \"bit\", \"idk\", \"range\", \"pizza\", \"top\", \"result\", \"aight\", \"tweet\", \"skirt\", \"vaccine\", \"bro\", \"major\", \"material\", \"advice\", \"call\", \"garment\", \"progressive\", \"path\", \"spring\", \"unc\", \"man\", \"bunch\", \"unveil\", \"little\", \"buy\", \"support\", \"legit\", \"dress\", \"shirt\", \"ship\", \"mean\", \"express\", \"friend\", \"lie\", \"guess\", \"world\", \"abaga\", \"biden\", \"burna\", \"ishop\", \"justice\", \"nigeria\", \"omah\", \"registration\", \"sunday\", \"precart\", \"luck\", \"set\", \"surprise\", \"available\", \"know\", \"n\", \"tell\", \"pocket\", \"year\"], \"Freq\": [601.0, 30.0, 29.0, 60.0, 61.0, 20.0, 27.0, 27.0, 26.0, 32.0, 19.0, 47.0, 16.0, 16.0, 18.0, 38.0, 14.0, 16.0, 16.0, 16.0, 39.0, 45.0, 15.0, 15.0, 13.0, 18.0, 14.0, 22.0, 12.0, 35.0, 60.66899650827032, 47.127203759425996, 38.65503333189212, 591.005831197315, 35.010346582085276, 33.10948489455997, 30.041692268300498, 23.575885558434905, 17.317844615554762, 16.40394654058193, 15.602702756782165, 15.093222607411175, 14.320648637230756, 13.597925226035885, 12.115261720495154, 11.69297138225013, 10.182907012627648, 10.148360067464852, 9.956846536480825, 9.924437853688199, 9.884946949288008, 42.40990033327033, 9.174155989710888, 8.776455668722853, 8.656091891113974, 8.440031602516285, 8.38981385155821, 8.306222830760463, 7.396389617273124, 7.37637070232771, 29.27101966244346, 19.227737268620373, 14.304043114142159, 17.823702284792855, 15.20144999508376, 31.434820926716405, 21.461875468373133, 18.61876362399745, 17.095325959506493, 14.832016716561919, 14.41913004098358, 14.372520763509483, 11.976229510274042, 11.74559425841397, 11.467993692247425, 11.466794884685243, 10.417801086712418, 10.371236877191787, 9.79052502979951, 9.481314927771049, 9.152777997248295, 8.859553498314073, 8.840285821508704, 8.495972853875326, 8.401215791665704, 8.29980106603038, 8.236347077599106, 8.042749796595881, 7.746849951274059, 7.748878009180009, 7.129825727075732, 6.846312808763924, 6.731239113132021, 6.68790683922429, 6.611240053535749, 11.598605128186003, 10.671762384587431, 10.935506808460985, 8.603879054857948, 9.590006437842808, 27.16238163102575, 26.39925123459133, 26.32903397197991, 17.810806248182978, 16.237525115332357, 14.841021848768413, 12.865062479373368, 12.176966043038865, 9.05691680134325, 8.626494154614491, 8.49214510332745, 8.464926649587866, 8.041258347155129, 7.627933854802497, 7.303502648771661, 6.448698791822492, 6.438090757177726, 6.427855378876515, 6.196762331207281, 6.101568369181617, 5.872695888018856, 5.862187976204409, 5.790373318229589, 5.53848131048925, 5.37296331586299, 5.07944721479243, 4.999929330594408, 4.545487175327157, 4.383532473296971, 4.382010273918166, 12.837048028360368, 36.71803143801138, 9.458658619383355, 10.649861060994875, 12.437518883325591, 5.397712765533731, 28.66407626028801, 17.804131552471695, 16.36265954832337, 16.165032435893696, 14.10782911449654, 11.449155247235614, 11.284988827252096, 10.021966936492948, 8.57734970366142, 8.183504091543933, 7.78109492168427, 7.632319001243759, 7.216555571337365, 6.998156196386189, 6.790958048832907, 5.828500061613569, 5.651204235690121, 5.649660273874264, 5.342495919927605, 5.077422944943881, 4.702098871230327, 4.476711008809357, 4.347677497250714, 4.192802682044491, 4.179492355870569, 4.172699524219434, 4.069743631425468, 3.8773206363146695, 3.784680744313679, 3.523086731717788, 4.843555572189588, 19.351583577328064, 14.77346492263058, 14.69895202561015, 10.87183883525529, 7.2950796216712215, 7.236464415939767, 6.640566433077155, 6.53017193307802, 5.9961329242452575, 5.841106108436327, 5.73942904667896, 5.533778976501046, 5.200369103981772, 4.801454169099733, 4.742274807831147, 4.404155572602003, 4.247226055276421, 4.243057152562804, 3.7320577718724564, 3.717583577597862, 3.5603803011510444, 3.451885729786118, 3.3337248902233196, 3.055132130728638, 3.0519902028399852, 2.819312091245084, 2.784862051847865, 2.7842752090907417, 2.7525642733872084, 2.6076756199519813, 4.67617483614415, 6.937732715418742, 20.116879344564136, 15.512709673457685, 10.881301493444445, 9.108704161182311, 8.642570243735454, 8.029247409983874, 7.491315052640785, 7.0243613191589365, 6.6479102539611, 4.605789039050904, 4.5015058843582025, 4.487576060154852, 4.432991113846613, 4.425474885373208, 4.28460397098887, 3.8549247748443047, 3.77603080734163, 3.532618792273387, 3.32947291620477, 3.2722564969867958, 3.2722564969867958, 3.2417693403905745, 3.1677118910223223, 2.967588233066576, 2.8059060617639044, 2.8035712820833836, 2.7141274143582645, 2.6491452095557504, 2.649084637441397, 2.649084637441397, 3.579506674814098, 16.103641178820727, 11.957583122108698, 11.489592391487715, 11.025391639347454, 10.629833469834267, 8.052212569505166, 6.290466409062133, 5.483877325844906, 5.292566331434692, 4.987705487831308, 4.735641347766209, 4.671795495914625, 4.605245567703923, 4.326386489171202, 4.161884253039645, 4.137390103718219, 4.108902866572078, 3.9578033344512398, 3.735054363847905, 3.5144541644693863, 3.346121537379386, 3.3168455240488868, 3.2934232476469534, 3.230292466320875, 3.0336989538381953, 3.0333850766148474, 2.9699588444801344, 2.7719295373873822, 2.335319200413543, 2.3037097329289464, 13.10297936940601, 12.073831704778112, 11.75322246358389, 11.16324837294089, 9.799505675612806, 8.634218401649726, 6.009065535763564, 5.6104422486191785, 5.160904175743632, 5.132746518407594, 4.211416996758477, 3.9171006937121247, 3.754394601068845, 3.2661920330605634, 3.110127958839017, 3.0657090754737992, 3.0025789874786573, 2.8604848009746906, 2.8523677061802277, 2.7246205259759253, 2.5899180227187006, 2.5340867796056017, 2.389235273790347, 2.290098611296351, 2.2376741584527213, 2.0861599592908324, 1.965584990053556, 1.9127452495357176, 1.8824338216576117, 1.7423260183229594, 3.3795558270492703, 7.076372352648255, 3.28314129673476, 2.0290114849047276, 29.445015021018257, 15.914366504867932, 14.182900891012904, 7.44637766210964, 7.096199053692936, 5.562438903990947, 3.625768262269981, 3.5830434233178527, 3.4709191065176386, 3.4568768034941533, 3.002685031035292, 2.8341227580995163, 2.8026727049087308, 2.796635866865817, 2.612893824067122, 2.3265089728031687, 2.0715881753725767, 2.024184560707295, 2.0235224327572308, 1.9994877686843502, 1.9356315208586425, 1.9164127363524224, 1.817734670829001, 1.814278902466624, 1.7615936307597526, 1.7599318227819356, 1.6441446305529628, 1.6330180467154611, 1.6219539535509158, 1.6046904782979536, 8.982337977121238, 7.867519114723419, 7.601885607452683, 6.556821051357551, 5.661744563066821, 5.594596360686351, 4.1478250956123155, 3.924665544556164, 3.5734223000716594, 2.86547710729252, 2.792701537081558, 2.7711799067837464, 2.6916456197929013, 2.6916456197929013, 2.6916456197929013, 2.6916456197929013, 2.6916456197929013, 2.6916456197929013, 2.6916456197929013, 2.6916456197929013, 2.6916456197929013, 2.689927407845737, 2.6895039750498753, 2.541675617103794, 2.3959647608027286, 2.3765608009827863, 2.363583463720454, 2.30357807286093, 2.300093362770583, 2.2771851082493204, 2.7215818794949236], \"Total\": [601.0, 30.0, 29.0, 60.0, 61.0, 20.0, 27.0, 27.0, 26.0, 32.0, 19.0, 47.0, 16.0, 16.0, 18.0, 38.0, 14.0, 16.0, 16.0, 16.0, 39.0, 45.0, 15.0, 15.0, 13.0, 18.0, 14.0, 22.0, 12.0, 35.0, 61.268642968909276, 47.7268889472996, 39.254702445320454, 601.112577566104, 35.6100575530166, 33.709187587387156, 30.641506661511546, 24.175616827917395, 17.91752432421541, 17.003657409192698, 16.20231656201316, 15.693097424313686, 14.920393003702356, 14.197856324918849, 12.715223675446794, 12.292785519372224, 10.782776317074118, 10.748092770635578, 10.556503357806504, 10.524081560790934, 10.484671474840631, 45.01194118965782, 9.773897817760496, 9.376425149962179, 9.25570658170765, 9.039876061249867, 8.989771554760349, 8.905901962536065, 7.996118879752523, 7.976001598204916, 38.87878003455321, 24.602305232791895, 20.258367453267564, 30.782029095341393, 60.960949216558554, 32.04248973320043, 22.0695339290483, 19.2264242953262, 17.702992733321647, 15.439655354942138, 15.0267623894762, 14.980232758710192, 12.584004458270645, 12.353277843432187, 12.075684348480449, 12.07449370481652, 11.025396165022258, 10.978840484307435, 10.398180221662997, 10.088874578837991, 9.760360933666538, 9.46725928849357, 9.448082954114827, 9.10360323840262, 9.008847548515675, 8.907389652388687, 8.843932318228672, 8.650888480100965, 8.35449737533687, 8.35669448337711, 7.737450322228629, 7.453873510633162, 7.339001108890116, 7.295479910621168, 7.219032353423506, 12.772551266761182, 12.798348658734728, 14.471297462658105, 60.960949216558554, 601.112577566104, 27.774315326362554, 27.01112205958076, 26.940928610068237, 18.42269900822023, 16.849475265166916, 15.452921387929488, 13.47691800799388, 12.789134853260515, 9.668937556335152, 9.238383148244399, 9.104021472485805, 9.076865163661946, 8.653097289976342, 8.240005040532385, 7.9154580806364425, 7.060538579558617, 7.0499876342337435, 7.0398446359126154, 6.809113281861024, 6.713616620948955, 6.484789241618325, 6.474037509665963, 6.402445108490543, 6.150576683488594, 5.984908009683757, 5.691427024106008, 5.611889241490594, 5.15735648460244, 4.99558597588905, 4.994212033649637, 16.11635138931411, 60.960949216558554, 12.445167212570974, 18.12756351309248, 30.782029095341393, 10.03873139060979, 29.286286474777352, 18.4263715113605, 16.984948474172302, 16.787168351600826, 14.729975536828293, 12.071279116602227, 11.907190871691386, 10.64419701613244, 9.19961364582402, 8.805688272215184, 8.403258609002247, 8.254469700308775, 7.839076857120151, 7.620408045607868, 7.413072369123656, 6.450796239891232, 6.273529063504986, 6.2719498926684345, 5.964863540312953, 5.699793427039864, 5.3245213521636, 5.098818223397041, 4.969931162484147, 4.815076763042032, 4.802200575997953, 4.795039865678786, 4.692003352407277, 4.499500728064003, 4.406850242293454, 4.145338338764316, 24.602305232791895, 19.97080343648782, 15.392386577626638, 15.317970313935525, 11.490731330814059, 7.914092767272789, 7.855445551260924, 7.259447091823212, 7.1496699012257885, 6.615131586002252, 6.46000916971703, 6.3586731685606495, 6.152814273713595, 5.819236617333232, 5.420475065582162, 5.361212804390682, 5.023209012730793, 4.866293804701219, 4.862296077238487, 4.350928917614404, 4.336484060259414, 4.179236376582137, 4.070833706729135, 3.9526576809353764, 3.674026035712968, 3.6709876180430565, 3.4381772661856163, 3.4037943849656656, 3.403297018704812, 3.3714741252123566, 3.226751502489576, 6.420629950128335, 18.12756351309248, 20.74775194221282, 16.143595371844658, 11.512242392411286, 9.739600596757374, 9.27342623384483, 8.66018369542344, 8.122143937758755, 7.65518751566045, 7.278807400110529, 5.236662367570276, 5.132695663393066, 5.1184697056939505, 5.063907992584035, 5.056412405061145, 4.915671900201178, 4.485924888407439, 4.407668745814758, 4.163448195795706, 3.9604771429446237, 3.903341248638223, 3.903341248638223, 3.8727519159852974, 3.7985942380645077, 3.598425598309206, 3.4367283924136225, 3.434542740609984, 3.3449463158495147, 3.2799795597559855, 3.2799270551962323, 3.2799270551962323, 7.471743534906748, 16.732796857748678, 12.586690687041841, 12.118680120609937, 11.654542450818957, 11.258983007484213, 8.681479933904404, 6.919608566773385, 6.11295192822827, 5.92169877228856, 5.616819919708933, 5.364797317895463, 5.301102468213805, 5.234416202927056, 4.955613354760694, 4.791045848541481, 4.766533712366589, 4.73798954231602, 4.586884301191234, 4.364124911466752, 4.143517523380644, 3.9752307707122037, 3.945905748395337, 3.922737809296817, 3.8595383608826226, 3.6627533177684795, 3.662478688177909, 3.599012410964491, 3.401070569147425, 2.9644414057291413, 2.932821438254272, 13.73283922855936, 12.703812196398385, 12.382927259965301, 11.792992409796833, 10.429227057913183, 9.263921907134666, 6.638868288313749, 6.240295637041729, 5.790685486653068, 5.762397442464426, 4.841062986415658, 4.546804782689975, 4.384323661724082, 3.8958657137461707, 3.7399657003353046, 3.695464675582235, 3.6324896098140114, 3.4901816784254227, 3.482057934213183, 3.3542647892766775, 3.2195586633147704, 3.1639663170289825, 3.0189585435011828, 2.9197465272190377, 2.8673495912362283, 2.71582056666853, 2.5952371947322357, 2.542409804436701, 2.5124015089719696, 2.372029264589783, 6.176218543905889, 38.87878003455321, 20.258367453267564, 3.5274918878801227, 30.075802164340914, 16.545203019569534, 14.813640706874118, 8.077085669001438, 7.726893201911011, 6.193298685099468, 4.256454067335101, 4.213750161659379, 4.102005390174037, 4.088520262880581, 3.633572789960618, 3.4648863387128324, 3.433670498295566, 3.427451284465738, 3.243999310058179, 2.9572774334367016, 2.702643753193809, 2.655074653958393, 2.6545331841338693, 2.6305165433595046, 2.566371053644237, 2.5472472598846534, 2.448611870230051, 2.4458040126325753, 2.392264657199728, 2.3906326046359982, 2.2748501938381684, 2.2637156971052117, 2.2526721356140373, 2.235366716783614, 9.618952004529781, 8.504103914954616, 8.238439087008242, 7.193360518919611, 6.298269910225453, 6.231126169699896, 4.784454852627305, 4.561225209950901, 4.210189892536171, 3.502016592018467, 3.4293858151372585, 3.4079627565158854, 3.3281795555156948, 3.3281795555156948, 3.3281795555156948, 3.3281795555156948, 3.3281795555156948, 3.3281795555156948, 3.3281795555156948, 3.3281795555156948, 3.3281795555156948, 3.3268056307720575, 3.3264646198009507, 3.1782248759460794, 3.0325978459242036, 3.013217759827481, 3.0002168631090047, 2.9401619217385466, 2.9366757501228884, 2.9137336512067695, 16.11635138931411], \"Category\": [\"Default\", \"Default\", \"Default\", \"Default\", \"Default\", \"Default\", \"Default\", \"Default\", \"Default\", \"Default\", \"Default\", \"Default\", \"Default\", \"Default\", \"Default\", \"Default\", \"Default\", \"Default\", \"Default\", \"Default\", \"Default\", \"Default\", \"Default\", \"Default\", \"Default\", \"Default\", \"Default\", \"Default\", \"Default\", \"Default\", \"Topic1\", \"Topic1\", \"Topic1\", \"Topic1\", \"Topic1\", \"Topic1\", \"Topic1\", \"Topic1\", \"Topic1\", \"Topic1\", \"Topic1\", \"Topic1\", \"Topic1\", \"Topic1\", \"Topic1\", \"Topic1\", \"Topic1\", \"Topic1\", \"Topic1\", \"Topic1\", \"Topic1\", \"Topic1\", \"Topic1\", \"Topic1\", \"Topic1\", \"Topic1\", \"Topic1\", \"Topic1\", \"Topic1\", \"Topic1\", \"Topic1\", \"Topic1\", \"Topic1\", \"Topic1\", \"Topic1\", \"Topic2\", \"Topic2\", \"Topic2\", \"Topic2\", \"Topic2\", \"Topic2\", \"Topic2\", \"Topic2\", \"Topic2\", \"Topic2\", \"Topic2\", \"Topic2\", \"Topic2\", \"Topic2\", \"Topic2\", \"Topic2\", \"Topic2\", \"Topic2\", \"Topic2\", \"Topic2\", \"Topic2\", \"Topic2\", \"Topic2\", \"Topic2\", \"Topic2\", \"Topic2\", \"Topic2\", \"Topic2\", \"Topic2\", \"Topic2\", \"Topic2\", \"Topic2\", \"Topic2\", \"Topic2\", \"Topic2\", \"Topic3\", \"Topic3\", \"Topic3\", \"Topic3\", \"Topic3\", \"Topic3\", \"Topic3\", \"Topic3\", \"Topic3\", \"Topic3\", \"Topic3\", \"Topic3\", \"Topic3\", \"Topic3\", \"Topic3\", \"Topic3\", \"Topic3\", \"Topic3\", \"Topic3\", \"Topic3\", \"Topic3\", \"Topic3\", \"Topic3\", \"Topic3\", \"Topic3\", \"Topic3\", \"Topic3\", \"Topic3\", \"Topic3\", \"Topic3\", \"Topic3\", \"Topic3\", \"Topic3\", \"Topic3\", \"Topic3\", \"Topic3\", \"Topic4\", \"Topic4\", \"Topic4\", \"Topic4\", \"Topic4\", \"Topic4\", \"Topic4\", \"Topic4\", \"Topic4\", \"Topic4\", \"Topic4\", \"Topic4\", \"Topic4\", \"Topic4\", \"Topic4\", \"Topic4\", \"Topic4\", \"Topic4\", \"Topic4\", \"Topic4\", \"Topic4\", \"Topic4\", \"Topic4\", \"Topic4\", \"Topic4\", \"Topic4\", \"Topic4\", \"Topic4\", \"Topic4\", \"Topic4\", \"Topic4\", \"Topic5\", \"Topic5\", \"Topic5\", \"Topic5\", \"Topic5\", \"Topic5\", \"Topic5\", \"Topic5\", \"Topic5\", \"Topic5\", \"Topic5\", \"Topic5\", \"Topic5\", \"Topic5\", \"Topic5\", \"Topic5\", \"Topic5\", \"Topic5\", \"Topic5\", \"Topic5\", \"Topic5\", \"Topic5\", \"Topic5\", \"Topic5\", \"Topic5\", \"Topic5\", \"Topic5\", \"Topic5\", \"Topic5\", \"Topic5\", \"Topic5\", \"Topic5\", \"Topic6\", \"Topic6\", \"Topic6\", \"Topic6\", \"Topic6\", \"Topic6\", \"Topic6\", \"Topic6\", \"Topic6\", \"Topic6\", \"Topic6\", \"Topic6\", \"Topic6\", \"Topic6\", \"Topic6\", \"Topic6\", \"Topic6\", \"Topic6\", \"Topic6\", \"Topic6\", \"Topic6\", \"Topic6\", \"Topic6\", \"Topic6\", \"Topic6\", \"Topic6\", \"Topic6\", \"Topic6\", \"Topic6\", \"Topic6\", \"Topic6\", \"Topic7\", \"Topic7\", \"Topic7\", \"Topic7\", \"Topic7\", \"Topic7\", \"Topic7\", \"Topic7\", \"Topic7\", \"Topic7\", \"Topic7\", \"Topic7\", \"Topic7\", \"Topic7\", \"Topic7\", \"Topic7\", \"Topic7\", \"Topic7\", \"Topic7\", \"Topic7\", \"Topic7\", \"Topic7\", \"Topic7\", \"Topic7\", \"Topic7\", \"Topic7\", \"Topic7\", \"Topic7\", \"Topic7\", \"Topic7\", \"Topic8\", \"Topic8\", \"Topic8\", \"Topic8\", \"Topic8\", \"Topic8\", \"Topic8\", \"Topic8\", \"Topic8\", \"Topic8\", \"Topic8\", \"Topic8\", \"Topic8\", \"Topic8\", \"Topic8\", \"Topic8\", \"Topic8\", \"Topic8\", \"Topic8\", \"Topic8\", \"Topic8\", \"Topic8\", \"Topic8\", \"Topic8\", \"Topic8\", \"Topic8\", \"Topic8\", \"Topic8\", \"Topic8\", \"Topic8\", \"Topic8\", \"Topic8\", \"Topic8\", \"Topic8\", \"Topic9\", \"Topic9\", \"Topic9\", \"Topic9\", \"Topic9\", \"Topic9\", \"Topic9\", \"Topic9\", \"Topic9\", \"Topic9\", \"Topic9\", \"Topic9\", \"Topic9\", \"Topic9\", \"Topic9\", \"Topic9\", \"Topic9\", \"Topic9\", \"Topic9\", \"Topic9\", \"Topic9\", \"Topic9\", \"Topic9\", \"Topic9\", \"Topic9\", \"Topic9\", \"Topic9\", \"Topic9\", \"Topic9\", \"Topic9\", \"Topic10\", \"Topic10\", \"Topic10\", \"Topic10\", \"Topic10\", \"Topic10\", \"Topic10\", \"Topic10\", \"Topic10\", \"Topic10\", \"Topic10\", \"Topic10\", \"Topic10\", \"Topic10\", \"Topic10\", \"Topic10\", \"Topic10\", \"Topic10\", \"Topic10\", \"Topic10\", \"Topic10\", \"Topic10\", \"Topic10\", \"Topic10\", \"Topic10\", \"Topic10\", \"Topic10\", \"Topic10\", \"Topic10\", \"Topic10\", \"Topic10\"], \"logprob\": [30.0, 29.0, 28.0, 27.0, 26.0, 25.0, 24.0, 23.0, 22.0, 21.0, 20.0, 19.0, 18.0, 17.0, 16.0, 15.0, 14.0, 13.0, 12.0, 11.0, 10.0, 9.0, 8.0, 7.0, 6.0, 5.0, 4.0, 3.0, 2.0, 1.0, -3.5962, -3.8488, -4.0469, -1.3198, -4.146, -4.2018, -4.299, -4.5414, -4.8499, -4.9041, -4.9542, -4.9874, -5.0399, -5.0917, -5.2071, -5.2426, -5.3809, -5.3843, -5.4033, -5.4066, -5.4106, -3.9542, -5.4852, -5.5295, -5.5433, -5.5686, -5.5746, -5.5846, -5.7006, -5.7033, -4.325, -4.7452, -5.0411, -4.8211, -4.9802, -3.6503, -4.0319, -4.174, -4.2594, -4.4014, -4.4296, -4.4329, -4.6153, -4.6347, -4.6586, -4.6587, -4.7547, -4.7592, -4.8168, -4.8489, -4.8841, -4.9167, -4.9189, -4.9586, -4.9698, -4.982, -4.9896, -5.0134, -5.0509, -5.0506, -5.1339, -5.1745, -5.1914, -5.1979, -5.2094, -4.6473, -4.7306, -4.7062, -4.946, -4.8375, -3.4918, -3.5203, -3.523, -3.9138, -4.0063, -4.0963, -4.2391, -4.2941, -4.5901, -4.6388, -4.6545, -4.6577, -4.7091, -4.7618, -4.8053, -4.9298, -4.9314, -4.933, -4.9696, -4.9851, -5.0233, -5.0251, -5.0375, -5.0819, -5.1123, -5.1685, -5.1842, -5.2795, -5.3158, -5.3161, -4.2413, -3.1904, -4.5467, -4.4281, -4.2729, -5.1077, -3.0177, -3.4939, -3.5783, -3.5905, -3.7266, -3.9354, -3.9499, -4.0686, -4.2242, -4.2712, -4.3216, -4.3409, -4.397, -4.4277, -4.4577, -4.6106, -4.6415, -4.6417, -4.6976, -4.7485, -4.8253, -4.8744, -4.9037, -4.94, -4.9431, -4.9448, -4.9698, -5.0182, -5.0424, -5.114, -4.7957, -3.3313, -3.6012, -3.6063, -3.9079, -4.3068, -4.3149, -4.4008, -4.4176, -4.5029, -4.5291, -4.5467, -4.5832, -4.6453, -4.7251, -4.7375, -4.8115, -4.8478, -4.8488, -4.9771, -4.981, -5.0242, -5.0551, -5.09, -5.1772, -5.1783, -5.2576, -5.2698, -5.2701, -5.2815, -5.3356, -4.7516, -4.3571, -3.1576, -3.4175, -3.7721, -3.9499, -4.0024, -4.076, -4.1454, -4.2097, -4.2648, -4.6318, -4.6547, -4.6578, -4.67, -4.6717, -4.7041, -4.8098, -4.8304, -4.8971, -4.9563, -4.9736, -4.9736, -4.983, -5.0061, -5.0714, -5.1274, -5.1282, -5.1606, -5.1849, -5.1849, -5.1849, -4.8839, -3.3295, -3.6271, -3.6671, -3.7083, -3.7448, -4.0226, -4.2695, -4.4067, -4.4422, -4.5015, -4.5534, -4.567, -4.5813, -4.6438, -4.6825, -4.6884, -4.6953, -4.7328, -4.7907, -4.8516, -4.9007, -4.9095, -4.9166, -4.9359, -4.9987, -4.9988, -5.02, -5.089, -5.2604, -5.274, -3.4837, -3.5655, -3.5925, -3.644, -3.7743, -3.9008, -4.2633, -4.332, -4.4155, -4.4209, -4.6188, -4.6912, -4.7337, -4.873, -4.9219, -4.9363, -4.9571, -5.0056, -5.0084, -5.0543, -5.105, -5.1267, -5.1856, -5.228, -5.2511, -5.3213, -5.3808, -5.408, -5.424, -5.5014, -4.8388, -4.0998, -4.8678, -5.349, -2.5219, -3.1372, -3.2524, -3.8967, -3.9449, -4.1884, -4.6164, -4.6282, -4.66, -4.6641, -4.8049, -4.8627, -4.8739, -4.876, -4.944, -5.0601, -5.1761, -5.1993, -5.1996, -5.2115, -5.244, -5.254, -5.3068, -5.3087, -5.3382, -5.3392, -5.4072, -5.414, -5.4208, -5.4315, -3.6979, -3.8305, -3.8648, -4.0127, -4.1595, -4.1714, -4.4706, -4.5259, -4.6197, -4.8405, -4.8662, -4.8739, -4.9031, -4.9031, -4.9031, -4.9031, -4.9031, -4.9031, -4.9031, -4.9031, -4.9031, -4.9037, -4.9038, -4.9604, -5.0194, -5.0276, -5.033, -5.0587, -5.0603, -5.0703, -4.892], \"loglift\": [30.0, 29.0, 28.0, 27.0, 26.0, 25.0, 24.0, 23.0, 22.0, 21.0, 20.0, 19.0, 18.0, 17.0, 16.0, 15.0, 14.0, 13.0, 12.0, 11.0, 10.0, 9.0, 8.0, 7.0, 6.0, 5.0, 4.0, 3.0, 2.0, 1.0, 1.2139, 1.2111, 1.2083, 1.2068, 1.2067, 1.2058, 1.2039, 1.1986, 1.1897, 1.1878, 1.186, 1.1847, 1.1827, 1.1805, 1.1754, 1.1737, 1.1665, 1.1663, 1.1652, 1.1651, 1.1648, 1.1642, 1.1604, 1.1576, 1.1567, 1.1551, 1.1546, 1.154, 1.1458, 1.1456, 0.9399, 0.9772, 0.8757, 0.6773, -0.1651, 1.808, 1.7992, 1.795, 1.7922, 1.787, 1.7858, 1.7857, 1.7776, 1.7767, 1.7755, 1.7755, 1.7704, 1.7702, 1.7669, 1.765, 1.7629, 1.7608, 1.7606, 1.758, 1.7573, 1.7565, 1.7559, 1.7542, 1.7516, 1.7516, 1.7453, 1.7421, 1.7407, 1.7402, 1.7392, 1.7307, 1.6454, 1.547, -0.1309, -2.3109, 2.1094, 2.1088, 2.1087, 2.0979, 2.0947, 2.0913, 2.0852, 2.0826, 2.0663, 2.0631, 2.0621, 2.0619, 2.0583, 2.0545, 2.0512, 2.041, 2.0409, 2.0407, 2.0374, 2.0361, 2.0325, 2.0324, 2.0312, 2.0268, 2.0238, 2.0179, 2.0162, 2.0054, 2.001, 2.0009, 1.9042, 1.6247, 1.8573, 1.5998, 1.2255, 1.5112, 2.5305, 2.5176, 2.5147, 2.5142, 2.5088, 2.4991, 2.4983, 2.4918, 2.482, 2.4787, 2.4751, 2.4736, 2.4692, 2.4668, 2.4643, 2.4505, 2.4475, 2.4475, 2.4418, 2.4364, 2.4277, 2.4219, 2.4182, 2.4136, 2.4131, 2.413, 2.4097, 2.4032, 2.3998, 2.3893, 0.9268, 2.5998, 2.5902, 2.59, 2.5759, 2.5498, 2.5492, 2.5422, 2.5406, 2.533, 2.5306, 2.5288, 2.5252, 2.5188, 2.51, 2.5086, 2.4998, 2.4952, 2.4951, 2.4778, 2.4773, 2.471, 2.4664, 2.461, 2.4468, 2.4466, 2.4328, 2.4306, 2.4305, 2.4285, 2.4183, 2.3142, 1.6708, 2.7353, 2.7263, 2.7098, 2.6992, 2.6958, 2.6906, 2.6854, 2.6802, 2.6755, 2.6378, 2.635, 2.6347, 2.6331, 2.6329, 2.6288, 2.6146, 2.6115, 2.6019, 2.5927, 2.5899, 2.5899, 2.5884, 2.5846, 2.5735, 2.5634, 2.5632, 2.5572, 2.5526, 2.5526, 2.5526, 2.0303, 2.7785, 2.7655, 2.7635, 2.7613, 2.7593, 2.7416, 2.7215, 2.7082, 2.7045, 2.698, 2.6921, 2.6904, 2.6888, 2.681, 2.676, 2.6753, 2.6744, 2.6693, 2.6612, 2.6522, 2.6445, 2.6432, 2.642, 2.6388, 2.6284, 2.6284, 2.6247, 2.6123, 2.5783, 2.5754, 2.8218, 2.8179, 2.8165, 2.8139, 2.8065, 2.7983, 2.7691, 2.7623, 2.7536, 2.753, 2.7294, 2.7197, 2.7136, 2.6924, 2.6843, 2.6819, 2.6783, 2.6698, 2.6693, 2.6608, 2.6511, 2.6467, 2.6348, 2.6258, 2.6208, 2.605, 2.5909, 2.5842, 2.5801, 2.5602, 2.2658, 1.1651, 1.049, 2.3157, 2.9997, 2.982, 2.9774, 2.9396, 2.9357, 2.9135, 2.8605, 2.8587, 2.8538, 2.8531, 2.8302, 2.8199, 2.8178, 2.8175, 2.8045, 2.781, 2.755, 2.7496, 2.7495, 2.7466, 2.7388, 2.7363, 2.723, 2.7222, 2.7149, 2.7146, 2.6962, 2.6943, 2.6924, 2.6894, 2.9636, 2.9543, 2.9517, 2.9395, 2.9256, 2.9244, 2.8893, 2.8818, 2.8681, 2.8315, 2.8267, 2.8253, 2.8198, 2.8198, 2.8198, 2.8198, 2.8198, 2.8198, 2.8198, 2.8198, 2.8198, 2.8196, 2.8196, 2.8086, 2.7965, 2.7948, 2.7936, 2.7881, 2.7878, 2.7856, 1.2535]}, \"token.table\": {\"Topic\": [10, 1, 6, 3, 9, 8, 8, 9, 8, 5, 4, 3, 6, 1, 5, 10, 2, 8, 7, 8, 2, 10, 1, 7, 5, 9, 3, 6, 1, 6, 6, 7, 6, 8, 9, 6, 9, 10, 2, 10, 8, 9, 6, 4, 7, 1, 2, 2, 2, 3, 8, 7, 1, 8, 8, 8, 7, 3, 8, 8, 9, 8, 4, 6, 7, 1, 5, 8, 3, 2, 7, 1, 5, 2, 6, 10, 9, 4, 8, 7, 4, 2, 2, 3, 5, 3, 3, 2, 5, 1, 10, 1, 2, 3, 4, 7, 7, 7, 5, 3, 7, 10, 6, 9, 6, 2, 1, 1, 6, 1, 3, 9, 5, 1, 8, 3, 3, 10, 4, 5, 5, 5, 1, 9, 6, 6, 5, 8, 3, 9, 6, 6, 4, 8, 10, 4, 7, 8, 6, 5, 1, 6, 10, 8, 8, 10, 2, 2, 2, 3, 10, 10, 8, 7, 9, 1, 2, 5, 7, 1, 4, 8, 10, 9, 9, 4, 4, 4, 1, 1, 5, 5, 9, 10, 2, 8, 8, 8, 4, 4, 6, 10, 8, 5, 7, 1, 5, 8, 2, 9, 2, 10, 5, 4, 10, 1, 3, 1, 7, 1, 5, 3, 2, 4, 2, 2, 5, 9, 6, 4, 9, 9, 2, 3, 10, 1, 3, 6, 3, 2, 10, 6, 5, 8, 5, 5, 9, 7, 7, 9, 2, 8, 4, 8, 10, 10, 6, 2, 3, 4, 9, 1, 3, 3, 7, 4, 3, 3, 8, 3, 3, 4, 9, 1, 7, 5, 7, 7, 10, 2, 10, 10, 1, 1, 7, 4, 5, 4, 9, 7, 1, 4, 1, 8, 9, 2, 3, 6, 6, 3, 7, 6, 3, 2, 2, 4, 10, 10, 10, 2, 5, 4, 5, 1, 5, 5, 10, 7, 2, 1, 4, 5, 1, 1, 4, 2, 9, 3, 3, 7, 4, 3, 9, 9, 9, 3, 4, 9, 1, 5, 7, 6, 3, 6, 2, 9, 3, 5, 6, 6, 10, 3, 10, 1, 2, 3, 5], \"Freq\": [0.9013936748178708, 0.9956153269292156, 0.8729232157601762, 0.9755182820673025, 0.7603069461961054, 0.9318047327987747, 0.7706424692353989, 0.8737006074080682, 0.9445983468963812, 0.8725553593483738, 0.9563994905042862, 0.8522915362921479, 0.7897658480966332, 0.9472833627817708, 0.7589830038836212, 0.6637422713566205, 0.9045749913204106, 0.9715107802310591, 0.8901834261154492, 0.9037684947842187, 0.9617067397203358, 0.9013936748178708, 0.9789615936145399, 0.9653633603403831, 0.8814981423930215, 0.9397493633719246, 0.8009271478761999, 0.9237679339559136, 0.8982807169507513, 0.8618414120264406, 0.7899037671809793, 0.7602817176309891, 0.99110511825048, 0.8118058927264237, 0.7400161407275857, 0.9146544875890587, 0.883503172486525, 0.9013936748178708, 0.9525741934854967, 0.9356528648611301, 0.8615594733572087, 0.779310535458233, 0.9616960052952774, 0.8307240355339447, 0.8720516449392853, 0.9875131089286642, 0.953808276649602, 0.9108429997041548, 0.9715242766217961, 0.8909655527470695, 0.9588438284515528, 0.8191173943711073, 0.3238227381013601, 0.4857341071520401, 0.82626481234065, 0.8676944014923121, 0.777295033625198, 0.9495844676585837, 0.8431599179050933, 0.6975082515619313, 0.9059268475807022, 0.7364256772137859, 0.877224773845305, 0.9144126104918903, 0.8820751992664578, 0.691072468316882, 0.09872463833098313, 0.14808695749647469, 0.835434728806166, 0.9674653954208724, 0.9562059550487322, 0.9537733274710929, 0.7963037153864039, 0.9696590425558027, 0.8336979376229459, 0.9731195845931754, 0.9450748993462116, 0.9442778447915668, 0.9466360002937106, 0.6819371864624928, 0.9649393301856176, 0.9506447141400813, 0.8981306883610561, 0.6068107273244605, 0.3861522810246567, 0.9770555330664837, 0.96256645476073, 0.9069968870347447, 0.9435930800258698, 0.9208199397834691, 0.8769573559475826, 0.24605916070489298, 0.14763549642293577, 0.606945929738736, 0.8929622872165073, 0.7647719898306878, 0.8443523036663428, 0.8335620046378326, 0.9571126491943678, 0.8497935295433346, 0.9438379967655477, 0.9500759115618999, 0.8916778812629766, 0.7851613117803748, 0.9146544875890587, 0.9714020968434696, 0.9502016819459591, 0.9761823291465695, 0.8968753805658884, 0.16070495203791094, 0.7231722841705992, 0.9642303085230283, 0.8813693368937916, 0.9487917913427704, 0.7866552420108851, 0.9308158158600518, 0.9650743809284807, 0.8747922111178171, 0.9691718899520273, 0.8592192290492113, 0.7369497788723144, 0.9297276216297947, 0.943750602136249, 0.968789058153367, 0.7814835741921596, 0.8137239590454148, 0.8898184855003273, 0.6849909680019156, 0.8787325495856549, 0.9492731762779205, 0.768572309952819, 0.9146398461773296, 0.8525143098944636, 0.8258798571356696, 0.9013936748178708, 0.9394790405367273, 0.9533880110642707, 0.9123414028304307, 0.768572309952819, 0.9287912512766324, 0.9927357870879805, 0.9548066400011036, 0.9013936748178708, 0.7700470756511965, 0.8595541081842577, 0.6666184783480885, 0.9391090404223121, 0.9220970475544797, 0.9515379920352299, 0.9708731925099796, 0.971057735028441, 0.8566492822556508, 0.9614929081860545, 0.9552163615121068, 0.8947077832838656, 0.9303976262021657, 0.8920717498934946, 0.9751635159269382, 0.8391842461162403, 0.9828683918269904, 0.9185859809744114, 0.8943837736337231, 0.9018583820619485, 0.7532744877882223, 0.8791787720428147, 0.9783019533744626, 0.7844955094976962, 0.8329514639585318, 0.8754247035677698, 0.9330857299184898, 0.04443265380564237, 0.8911015873410757, 0.7534281401920268, 0.8360409123316245, 0.9110112828674627, 0.6624801139801463, 0.9481769713708743, 0.9327573204288618, 0.8382421435474565, 0.9238115117606642, 0.7910747145537923, 0.6802346446339188, 0.9690761924118438, 0.9224283738058294, 0.9165640491842906, 0.7459081785546378, 0.051441943348595705, 0.18004680172008497, 0.8594858831645147, 0.1562701605753663, 0.8787729199634731, 0.9013936748178708, 0.8219807846652597, 0.8889875214490913, 0.9013936748178708, 0.5847567729940244, 0.3898378486626829, 0.940974027820033, 0.807165473504371, 0.9847698233986666, 0.8172187738402809, 0.8510653225638082, 0.9882232758495171, 0.9531089261086869, 0.9109214585742457, 0.9247605050512259, 0.9790661802162184, 0.8177270090612339, 0.9741469839446228, 0.9390515445990779, 0.7337618030750176, 0.8666492206297725, 0.7601253466307717, 0.2073069127174832, 0.6864045377557649, 0.8899002551142431, 0.9252420975369522, 0.9075092142072033, 0.8813615555320755, 0.9594982216055462, 0.9017659379468421, 0.7574844877830789, 0.884498097993892, 0.8797386716993654, 0.9745077492923037, 0.9326247963716607, 0.8167893100232733, 0.9215018707532835, 0.8179354358916349, 0.7313495996826854, 0.8880159151231396, 0.8634556325886604, 0.8341953585476104, 0.5669750813238348, 0.2834875406619174, 0.9013936748178708, 0.9607421089180941, 0.39845672170704677, 0.4980709021338085, 0.950442854775747, 0.8658292673214982, 0.9790641279948112, 0.9706902418928196, 0.878514295065636, 0.9076896073271687, 0.9301177369231504, 0.9646122349552773, 0.9741964427736796, 0.8021463939444783, 0.9245244485193893, 0.8007068678841288, 0.9902245552701291, 0.967047668201794, 0.8776327228389001, 0.8671010711228426, 0.9193439092526438, 0.7546731681850307, 0.9769976553555452, 0.9439231385749486, 0.9345649180156937, 0.9629078013499721, 0.9526425646285496, 0.955834249570142, 0.9860643522239629, 0.9432000286696476, 0.9085036572601153, 0.9642607641406404, 0.9420105115025791, 0.924784413701431, 0.8348907788510737, 0.9723730890288798, 0.9076777698527561, 0.927404937832697, 0.796051106026586, 0.8360279010020177, 0.9316710837062759, 0.40151271065240624, 0.5353502808698749, 0.9240625332209608, 0.9721211732039494, 0.932001658911027, 0.7746429580518963, 0.9267786896572334, 0.9575680786754002, 0.9573163187805135, 0.9112538856690967, 0.9013936748178708, 0.9407222771504309, 0.6595005673726209, 0.9602896106939912, 0.8165429343283984, 0.9520116388456444, 0.8226566084128255, 0.9383130857562553, 0.979242007431869, 0.951388864270022, 0.6810421613337148, 0.6746633602319676, 0.904690784235469, 0.7722853537592607, 0.2032329878313844, 0.9572932899842421, 0.9598540868250095, 0.9935115430902771, 0.9768607991487838, 0.9535915248435234, 0.8256336596005045, 0.9694889261441911, 0.9371419665969734, 0.8190559777658574, 0.8048401213671256, 0.9382964631841902, 0.8752859635370811, 0.836598645948997, 0.8878344826042945, 0.8811720045815007, 0.956640295709899, 0.6762977248555833, 0.884967885156371, 0.9070114361286656, 0.8442399385383031, 0.8734787209161916, 0.8843455335988798, 0.9705150796534168, 0.9395147257093701, 0.07829289380911418, 0.8937060810529144, 0.9224062499518827, 0.9555045511594726, 0.9639598572271599, 0.8802913101864516, 0.8066341869797902, 0.18614635084149003, 0.9831768990643155, 0.0166358189350984, 0.155747957407203, 0.7787397870360151], \"Term\": [\"abaga\", \"account\", \"adan\", \"add\", \"advice\", \"afternoon\", \"agency\", \"aight\", \"amazon\", \"android\", \"app\", \"apparel\", \"application\", \"arrive\", \"art\", \"available\", \"aw\", \"bad\", \"bag\", \"base\", \"berlin\", \"biden\", \"big\", \"bike\", \"bisouv\", \"bit\", \"bitcoin\", \"black\", \"board\", \"body\", \"bodyform\", \"bol\", \"brand\", \"break\", \"bro\", \"broaden\", \"bunch\", \"burna\", \"business\", \"buy\", \"buyer\", \"call\", \"campaign\", \"capital\", \"card\", \"cartable\", \"celebrate\", \"celebrate_value\", \"champion\", \"change\", \"check\", \"climate\", \"clothe\", \"clothe\", \"clothe_\\u2110\\u2113\\u0665\\ufefb\\ufec9\", \"clothing\", \"com\", \"company\", \"complain\", \"contact\", \"cop\", \"cos\", \"covid\", \"creative\", \"crypto\", \"customer\", \"customer\", \"customer\", \"datum\", \"day\", \"delivery\", \"design\", \"digital\", \"discount\", \"diversity\", \"dress\", \"drop\", \"dunk\", \"ecommerce\", \"email\", \"employer\", \"end\", \"engineer\", \"eur\", \"eur\", \"europe\", \"european\", \"event\", \"expectation\", \"experience\", \"express\", \"fashion\", \"fashion\", \"fashion\", \"feature\", \"female\", \"findom\", \"findomnl\", \"folk\", \"forecast_volkswagen\", \"free\", \"friend\", \"future\", \"garment\", \"gender\", \"germany\", \"get\", \"giftcard\", \"global\", \"gmv\", \"gmv\", \"good\", \"govs\", \"great\", \"gross\", \"grow\", \"growth\", \"guess\", \"guy\", \"happen\", \"happy\", \"heart\", \"help\", \"hey\", \"high\", \"home\", \"host\", \"house\", \"i\", \"idk\", \"inara\", \"inclusion\", \"info\", \"interview\", \"ishop\", \"issue\", \"item\", \"jacket\", \"joanethis\", \"job\", \"join\", \"jordan\", \"justice\", \"key\", \"kind\", \"know\", \"kubernete\", \"laud_society\", \"launch\", \"lead\", \"legit\", \"lie\", \"life\", \"link\", \"little\", \"live\", \"logistic\", \"lol\", \"long\", \"look\", \"lot\", \"love_combine\", \"luck\", \"major\", \"man\", \"manage\", \"manual\", \"mar\", \"march\", \"market\", \"market\", \"marketplace\", \"material\", \"mean\", \"meet\", \"merchandise\", \"message\", \"money\", \"monitor\", \"morning\", \"multi\", \"n\", \"need\", \"network\", \"neutral\", \"new\", \"new\", \"new\", \"news\", \"news\", \"nice\", \"nigeria\", \"normal\", \"number\", \"omah\", \"online\", \"online\", \"open\", \"opportunity\", \"order\", \"original\", \"outlook\", \"package\", \"pair\", \"pandemic\", \"pant\", \"partner\", \"path\", \"performance\", \"person\", \"pizza\", \"plan\", \"platform\", \"platform\", \"pocket\", \"podcast\", \"positive\", \"positivity\", \"post\", \"postgre_operator\", \"precart\", \"presentation\", \"price\", \"problem\", \"product\", \"progress\", \"progressive\", \"purchase\", \"queen\", \"range\", \"read\", \"receive\", \"recent\", \"refund\", \"refund\", \"registration\", \"release\", \"report\", \"report\", \"restock\", \"result\", \"retail\", \"retailer\", \"retailnew\", \"return\", \"retweet\", \"revenue\", \"right\", \"rise\", \"rise_upbeat\", \"roll\", \"s\", \"sale\", \"sell\", \"send\", \"senior\", \"server\", \"service\", \"set\", \"share\", \"ship\", \"shirt\", \"shoe\", \"shop\", \"shopping\", \"show\", \"site\", \"size\", \"skirt\", \"slt\", \"snipe\", \"solebox\", \"sorry\", \"special\", \"spring\", \"spring_campaign\", \"start\", \"start\", \"stay\", \"stock\", \"store\", \"strategy\", \"strong\", \"stuff\", \"style\", \"success\", \"sunday\", \"support\", \"surprise\", \"sustainability\", \"sustainablefashion\", \"t\", \"tag\", \"talk\", \"target\", \"team\", \"tell\", \"term\", \"test\", \"thank\", \"thank\", \"thing\", \"think\", \"time\", \"today\", \"tomorrow\", \"top\", \"trade\", \"trading\", \"tribute\", \"triple\", \"try\", \"tweet\", \"unc\", \"unveil\", \"use\", \"user\", \"vaccine\", \"view\", \"wait\", \"want\", \"wash\", \"way\", \"website\", \"week\", \"week\", \"winner\", \"wishlist\", \"woman\", \"work\", \"world\", \"year\", \"year\", \"zalando\", \"zalando\", \"zlndy\", \"zlndy\"]}, \"R\": 30, \"lambda.step\": 0.01, \"plot.opts\": {\"xlab\": \"PC1\", \"ylab\": \"PC2\"}, \"topic.order\": [9, 7, 5, 4, 6, 8, 2, 10, 1, 3]};\n",
       "\n",
       "function LDAvis_load_lib(url, callback){\n",
       "  var s = document.createElement('script');\n",
       "  s.src = url;\n",
       "  s.async = true;\n",
       "  s.onreadystatechange = s.onload = callback;\n",
       "  s.onerror = function(){console.warn(\"failed to load library \" + url);};\n",
       "  document.getElementsByTagName(\"head\")[0].appendChild(s);\n",
       "}\n",
       "\n",
       "if(typeof(LDAvis) !== \"undefined\"){\n",
       "   // already loaded: just create the visualization\n",
       "   !function(LDAvis){\n",
       "       new LDAvis(\"#\" + \"ldavis_el1941217956121776806813222987\", ldavis_el1941217956121776806813222987_data);\n",
       "   }(LDAvis);\n",
       "}else if(typeof define === \"function\" && define.amd){\n",
       "   // require.js is available: use it to load d3/LDAvis\n",
       "   require.config({paths: {d3: \"https://d3js.org/d3.v5\"}});\n",
       "   require([\"d3\"], function(d3){\n",
       "      window.d3 = d3;\n",
       "      LDAvis_load_lib(\"https://cdn.jsdelivr.net/gh/bmabey/pyLDAvis@3.3.1/pyLDAvis/js/ldavis.v3.0.0.js\", function(){\n",
       "        new LDAvis(\"#\" + \"ldavis_el1941217956121776806813222987\", ldavis_el1941217956121776806813222987_data);\n",
       "      });\n",
       "    });\n",
       "}else{\n",
       "    // require.js not available: dynamically load d3 & LDAvis\n",
       "    LDAvis_load_lib(\"https://d3js.org/d3.v5.js\", function(){\n",
       "         LDAvis_load_lib(\"https://cdn.jsdelivr.net/gh/bmabey/pyLDAvis@3.3.1/pyLDAvis/js/ldavis.v3.0.0.js\", function(){\n",
       "                 new LDAvis(\"#\" + \"ldavis_el1941217956121776806813222987\", ldavis_el1941217956121776806813222987_data);\n",
       "            })\n",
       "         });\n",
       "}\n",
       "</script>"
      ]
     },
     "metadata": {},
     "execution_count": 94
    }
   ],
   "metadata": {}
  },
  {
   "cell_type": "code",
   "execution_count": 95,
   "source": [
    "def format_topics_sentences(ldamodel=None, corpus=corpus, texts=data):\r\n",
    "    # Init output\r\n",
    "    sent_topics_df = pd.DataFrame()\r\n",
    "\r\n",
    "    # Get main topic in each document\r\n",
    "    for i, row_list in enumerate(ldamodel[corpus]):\r\n",
    "        row = row_list[0] if ldamodel.per_word_topics else row_list            \r\n",
    "        # print(row)\r\n",
    "        row = sorted(row, key=lambda x: (x[1]), reverse=True)\r\n",
    "        # Get the Dominant topic, Perc Contribution and Keywords for each document\r\n",
    "        for j, (topic_num, prop_topic) in enumerate(row):\r\n",
    "            if j == 0:  # => dominant topic\r\n",
    "                wp = ldamodel.show_topic(topic_num)\r\n",
    "                topic_keywords = \", \".join([word for word, prop in wp])\r\n",
    "                sent_topics_df = sent_topics_df.append(pd.Series([int(topic_num), round(prop_topic,4), topic_keywords]), ignore_index=True)\r\n",
    "            else:\r\n",
    "                break\r\n",
    "    sent_topics_df.columns = ['Dominant_Topic', 'Perc_Contribution', 'Topic_Keywords']\r\n",
    "\r\n",
    "    # Add original text to the end of the output\r\n",
    "    contents = pd.Series(texts)\r\n",
    "    sent_topics_df = pd.concat([sent_topics_df, contents], axis=1)\r\n",
    "    return(sent_topics_df)\r\n",
    "\r\n",
    "\r\n",
    "df_topic_sents_keywords = format_topics_sentences(ldamodel=lda_model, corpus=corpus, texts=words)\r\n",
    "\r\n",
    "# Format\r\n",
    "df_dominant_topic = df_topic_sents_keywords.reset_index()\r\n",
    "df_dominant_topic.columns = ['Document_No', 'Dominant_Topic', 'Topic_Perc_Contrib', 'Keywords', 'Text']\r\n",
    "df_dominant_topic"
   ],
   "outputs": [
    {
     "output_type": "stream",
     "name": "stderr",
     "text": [
      "C:\\Users\\Annelie Schridde\\AppData\\Roaming\\Python\\Python38\\site-packages\\ipykernel\\ipkernel.py:283: DeprecationWarning: `should_run_async` will not call `transform_cell` automatically in the future. Please pass the result to `transformed_cell` argument and any exception that happen during thetransform in `preprocessing_exc_tuple` in IPython 7.17 and above.\n",
      "  and should_run_async(code)\n"
     ]
    },
    {
     "output_type": "execute_result",
     "data": {
      "text/plain": [
       "     Document_No  Dominant_Topic  Topic_Perc_Contrib  \\\n",
       "0              0             9.0              0.5014   \n",
       "1              1             4.0              0.8013   \n",
       "2              2             7.0              0.3419   \n",
       "3              3             2.0              0.4955   \n",
       "4              4             0.0              0.7745   \n",
       "..           ...             ...                 ...   \n",
       "995          995             8.0              0.3477   \n",
       "996          996             8.0              0.6658   \n",
       "997          997             8.0              0.7300   \n",
       "998          998             2.0              0.3997   \n",
       "999          999             8.0              0.4524   \n",
       "\n",
       "                                              Keywords  \\\n",
       "0    ecommerce, amazon, need, money, check, bad, ne...   \n",
       "1    fashion, stock, european, growth, europe, comp...   \n",
       "2    work, brand, woman, stay, website, black, body...   \n",
       "3    buy, support, legit, dress, shirt, ship, mean,...   \n",
       "4    good, sale, drop, plan, cop, hey, bit, idk, ra...   \n",
       "..                                                 ...   \n",
       "995  zalando, account, order, market, time, look, b...   \n",
       "996  zalando, account, order, market, time, look, b...   \n",
       "997  zalando, account, order, market, time, look, b...   \n",
       "998  buy, support, legit, dress, shirt, ship, mean,...   \n",
       "999  zalando, account, order, market, time, look, b...   \n",
       "\n",
       "                                                  Text  \n",
       "0                                         [money, owe]  \n",
       "1    [virtualstyle, try, increase, conversion, rate...  \n",
       "2                     [problem, start, adida, website]  \n",
       "3                     [welcome, world, sneer, disdain]  \n",
       "4    [hey, clothe, latex, plastic, latex, rubber, s...  \n",
       "..                                                 ...  \n",
       "995                             [zalando, drop, start]  \n",
       "996                                   [zalando, thank]  \n",
       "997                           [zalando, order, arrive]  \n",
       "998                             [idk, ship, worldwide]  \n",
       "999                   [restock, snipe, today, zalando]  \n",
       "\n",
       "[1000 rows x 5 columns]"
      ],
      "text/html": [
       "<div>\n",
       "<style scoped>\n",
       "    .dataframe tbody tr th:only-of-type {\n",
       "        vertical-align: middle;\n",
       "    }\n",
       "\n",
       "    .dataframe tbody tr th {\n",
       "        vertical-align: top;\n",
       "    }\n",
       "\n",
       "    .dataframe thead th {\n",
       "        text-align: right;\n",
       "    }\n",
       "</style>\n",
       "<table border=\"1\" class=\"dataframe\">\n",
       "  <thead>\n",
       "    <tr style=\"text-align: right;\">\n",
       "      <th></th>\n",
       "      <th>Document_No</th>\n",
       "      <th>Dominant_Topic</th>\n",
       "      <th>Topic_Perc_Contrib</th>\n",
       "      <th>Keywords</th>\n",
       "      <th>Text</th>\n",
       "    </tr>\n",
       "  </thead>\n",
       "  <tbody>\n",
       "    <tr>\n",
       "      <th>0</th>\n",
       "      <td>0</td>\n",
       "      <td>9.0</td>\n",
       "      <td>0.5014</td>\n",
       "      <td>ecommerce, amazon, need, money, check, bad, ne...</td>\n",
       "      <td>[money, owe]</td>\n",
       "    </tr>\n",
       "    <tr>\n",
       "      <th>1</th>\n",
       "      <td>1</td>\n",
       "      <td>4.0</td>\n",
       "      <td>0.8013</td>\n",
       "      <td>fashion, stock, european, growth, europe, comp...</td>\n",
       "      <td>[virtualstyle, try, increase, conversion, rate...</td>\n",
       "    </tr>\n",
       "    <tr>\n",
       "      <th>2</th>\n",
       "      <td>2</td>\n",
       "      <td>7.0</td>\n",
       "      <td>0.3419</td>\n",
       "      <td>work, brand, woman, stay, website, black, body...</td>\n",
       "      <td>[problem, start, adida, website]</td>\n",
       "    </tr>\n",
       "    <tr>\n",
       "      <th>3</th>\n",
       "      <td>3</td>\n",
       "      <td>2.0</td>\n",
       "      <td>0.4955</td>\n",
       "      <td>buy, support, legit, dress, shirt, ship, mean,...</td>\n",
       "      <td>[welcome, world, sneer, disdain]</td>\n",
       "    </tr>\n",
       "    <tr>\n",
       "      <th>4</th>\n",
       "      <td>4</td>\n",
       "      <td>0.0</td>\n",
       "      <td>0.7745</td>\n",
       "      <td>good, sale, drop, plan, cop, hey, bit, idk, ra...</td>\n",
       "      <td>[hey, clothe, latex, plastic, latex, rubber, s...</td>\n",
       "    </tr>\n",
       "    <tr>\n",
       "      <th>...</th>\n",
       "      <td>...</td>\n",
       "      <td>...</td>\n",
       "      <td>...</td>\n",
       "      <td>...</td>\n",
       "      <td>...</td>\n",
       "    </tr>\n",
       "    <tr>\n",
       "      <th>995</th>\n",
       "      <td>995</td>\n",
       "      <td>8.0</td>\n",
       "      <td>0.3477</td>\n",
       "      <td>zalando, account, order, market, time, look, b...</td>\n",
       "      <td>[zalando, drop, start]</td>\n",
       "    </tr>\n",
       "    <tr>\n",
       "      <th>996</th>\n",
       "      <td>996</td>\n",
       "      <td>8.0</td>\n",
       "      <td>0.6658</td>\n",
       "      <td>zalando, account, order, market, time, look, b...</td>\n",
       "      <td>[zalando, thank]</td>\n",
       "    </tr>\n",
       "    <tr>\n",
       "      <th>997</th>\n",
       "      <td>997</td>\n",
       "      <td>8.0</td>\n",
       "      <td>0.7300</td>\n",
       "      <td>zalando, account, order, market, time, look, b...</td>\n",
       "      <td>[zalando, order, arrive]</td>\n",
       "    </tr>\n",
       "    <tr>\n",
       "      <th>998</th>\n",
       "      <td>998</td>\n",
       "      <td>2.0</td>\n",
       "      <td>0.3997</td>\n",
       "      <td>buy, support, legit, dress, shirt, ship, mean,...</td>\n",
       "      <td>[idk, ship, worldwide]</td>\n",
       "    </tr>\n",
       "    <tr>\n",
       "      <th>999</th>\n",
       "      <td>999</td>\n",
       "      <td>8.0</td>\n",
       "      <td>0.4524</td>\n",
       "      <td>zalando, account, order, market, time, look, b...</td>\n",
       "      <td>[restock, snipe, today, zalando]</td>\n",
       "    </tr>\n",
       "  </tbody>\n",
       "</table>\n",
       "<p>1000 rows × 5 columns</p>\n",
       "</div>"
      ]
     },
     "metadata": {},
     "execution_count": 95
    }
   ],
   "metadata": {}
  },
  {
   "cell_type": "code",
   "execution_count": 96,
   "source": [
    "# Build topic column for test set\r\n",
    "Topics = df_dominant_topic['Dominant_Topic']\r\n",
    "data['Topics'] = Topics"
   ],
   "outputs": [
    {
     "output_type": "stream",
     "name": "stderr",
     "text": [
      "C:\\Users\\Annelie Schridde\\AppData\\Roaming\\Python\\Python38\\site-packages\\ipykernel\\ipkernel.py:283: DeprecationWarning: `should_run_async` will not call `transform_cell` automatically in the future. Please pass the result to `transformed_cell` argument and any exception that happen during thetransform in `preprocessing_exc_tuple` in IPython 7.17 and above.\n",
      "  and should_run_async(code)\n"
     ]
    }
   ],
   "metadata": {}
  },
  {
   "cell_type": "code",
   "execution_count": null,
   "source": [],
   "outputs": [],
   "metadata": {}
  },
  {
   "cell_type": "code",
   "execution_count": null,
   "source": [],
   "outputs": [],
   "metadata": {}
  }
 ]
}