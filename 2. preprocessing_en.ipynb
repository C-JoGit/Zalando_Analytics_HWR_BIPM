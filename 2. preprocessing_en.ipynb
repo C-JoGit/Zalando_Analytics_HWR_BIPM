{
 "metadata": {
  "language_info": {
   "codemirror_mode": {
    "name": "ipython",
    "version": 3
   },
   "file_extension": ".py",
   "mimetype": "text/x-python",
   "name": "python",
   "nbconvert_exporter": "python",
   "pygments_lexer": "ipython3",
   "version": "3.7.10"
  },
  "orig_nbformat": 2,
  "kernelspec": {
   "name": "python3710jvsc74a57bd022a63b945ad88ad6aa60a7f3f570c70abf6faa8a03284077614716ef20649993",
   "display_name": "Python 3.7.10 64-bit ('uni': conda)"
  }
 },
 "nbformat": 4,
 "nbformat_minor": 2,
 "cells": [
  {
   "cell_type": "code",
   "execution_count": 1,
   "metadata": {},
   "outputs": [
    {
     "output_type": "stream",
     "name": "stderr",
     "text": [
      "C:\\Anaconda\\envs\\uni\\lib\\site-packages\\gensim\\similarities\\__init__.py:15: UserWarning: The gensim.similarities.levenshtein submodule is disabled, because the optional Levenshtein package <https://pypi.org/project/python-Levenshtein/> is unavailable. Install Levenhstein (e.g. `pip install python-Levenshtein`) to suppress this warning.\n  warnings.warn(msg)\n"
     ]
    }
   ],
   "source": [
    "import pandas as pd\n",
    "import re \n",
    "from gensim.parsing.preprocessing import STOPWORDS, strip_tags, strip_numeric, strip_punctuation, strip_multiple_whitespaces, remove_stopwords, strip_short, stem_text\n",
    "import pickle\n",
    "import en_core_web_sm\n",
    "import nltk\n",
    "import os\n",
    "from nltk.tokenize import word_tokenize\n",
    "import emoji"
   ]
  },
  {
   "cell_type": "code",
   "execution_count": 2,
   "metadata": {},
   "outputs": [
    {
     "output_type": "stream",
     "name": "stdout",
     "text": [
      "Downloading emoji data ...\n",
      "[nltk_data] Downloading package stopwords to\n",
      "[nltk_data]     C:\\Users\\home\\AppData\\Roaming\\nltk_data...\n",
      "[nltk_data]   Package stopwords is already up-to-date!\n",
      "[nltk_data] Downloading package vader_lexicon to\n",
      "[nltk_data]     C:\\Users\\home\\AppData\\Roaming\\nltk_data...\n",
      "[nltk_data]   Package vader_lexicon is already up-to-date!\n",
      "[nltk_data] Downloading package punkt to\n",
      "[nltk_data]     C:\\Users\\home\\AppData\\Roaming\\nltk_data...\n",
      "[nltk_data]   Package punkt is already up-to-date!\n",
      "... OK (Got response in 0.46 seconds)\n",
      "Writing emoji data to C:\\Users\\home\\.demoji\\codes.json ...\n",
      "... OK\n",
      "Downloading emoji data ...\n",
      "[nltk_data] Downloading package stopwords to\n",
      "[nltk_data]     C:\\Users\\home\\AppData\\Roaming\\nltk_data...\n",
      "[nltk_data]   Package stopwords is already up-to-date!\n",
      "[nltk_data] Downloading package vader_lexicon to\n",
      "[nltk_data]     C:\\Users\\home\\AppData\\Roaming\\nltk_data...\n",
      "[nltk_data]   Package vader_lexicon is already up-to-date!\n",
      "[nltk_data] Downloading package punkt to\n",
      "[nltk_data]     C:\\Users\\home\\AppData\\Roaming\\nltk_data...\n",
      "[nltk_data]   Package punkt is already up-to-date!\n",
      "... OK (Got response in 0.43 seconds)\n",
      "Writing emoji data to C:\\Users\\home\\.demoji\\codes.json ...\n",
      "... OK\n",
      "Downloading emoji data ...\n",
      "... OK (Got response in 0.41 seconds)\n",
      "Writing emoji data to C:\\Users\\home\\.demoji\\codes.json ...\n",
      "... OK\n"
     ]
    }
   ],
   "source": [
    "import sys\n",
    "sys.path.append('../')\n",
    "import functions\n",
    "exec(open('./functions.py').read())\n",
    "\n",
    "demoji.download_codes()"
   ]
  },
  {
   "cell_type": "code",
   "execution_count": 3,
   "metadata": {},
   "outputs": [
    {
     "output_type": "execute_result",
     "data": {
      "text/plain": [
       "   index              user_id  user_statuses             name  \\\n",
       "0      0   819101311715131392             77      Ali09685762   \n",
       "1      1  1189512849472643072            105       Labellerr1   \n",
       "2      2           2837691996            270  puneetjindalisb   \n",
       "3      3  1125728513666048000           9604    DommeLineCoUk   \n",
       "4      4           2614256724          35470         medboyUK   \n",
       "\n",
       "                                               tweet  retweets  \\\n",
       "0            @Zalando give me my money you owe me!!!         0   \n",
       "1  #VirtualStyling and try-on increases the conve...         0   \n",
       "2  #VirtualStyling and try-on increases the conve...         0   \n",
       "3  @missbellalugosi @Zalando Problem starts at Ad...         0   \n",
       "4  @missbellalugosi @Zalando Welcome to my world ...         0   \n",
       "\n",
       "            location      created  followers  is_user_verified  \\\n",
       "0                     07-Mar-2021          6             False   \n",
       "1         chandigarh  06-Mar-2021         18             False   \n",
       "2  Chandigarh, India  06-Mar-2021        149             False   \n",
       "3                     06-Mar-2021       2193             False   \n",
       "4  West Midlands, UK  06-Mar-2021       2503             False   \n",
       "\n",
       "   favorite_count  in_reply_to_status_id  keyword language  \n",
       "0             0.0                    NaN  zalando       en  \n",
       "1             0.0                    NaN  zalando       en  \n",
       "2             0.0                    NaN  zalando       en  \n",
       "3             1.0           1.368196e+18  zalando       en  \n",
       "4             1.0           1.368196e+18  zalando       en  "
      ],
      "text/html": "<div>\n<style scoped>\n    .dataframe tbody tr th:only-of-type {\n        vertical-align: middle;\n    }\n\n    .dataframe tbody tr th {\n        vertical-align: top;\n    }\n\n    .dataframe thead th {\n        text-align: right;\n    }\n</style>\n<table border=\"1\" class=\"dataframe\">\n  <thead>\n    <tr style=\"text-align: right;\">\n      <th></th>\n      <th>index</th>\n      <th>user_id</th>\n      <th>user_statuses</th>\n      <th>name</th>\n      <th>tweet</th>\n      <th>retweets</th>\n      <th>location</th>\n      <th>created</th>\n      <th>followers</th>\n      <th>is_user_verified</th>\n      <th>favorite_count</th>\n      <th>in_reply_to_status_id</th>\n      <th>keyword</th>\n      <th>language</th>\n    </tr>\n  </thead>\n  <tbody>\n    <tr>\n      <th>0</th>\n      <td>0</td>\n      <td>819101311715131392</td>\n      <td>77</td>\n      <td>Ali09685762</td>\n      <td>@Zalando give me my money you owe me!!!</td>\n      <td>0</td>\n      <td></td>\n      <td>07-Mar-2021</td>\n      <td>6</td>\n      <td>False</td>\n      <td>0.0</td>\n      <td>NaN</td>\n      <td>zalando</td>\n      <td>en</td>\n    </tr>\n    <tr>\n      <th>1</th>\n      <td>1</td>\n      <td>1189512849472643072</td>\n      <td>105</td>\n      <td>Labellerr1</td>\n      <td>#VirtualStyling and try-on increases the conve...</td>\n      <td>0</td>\n      <td>chandigarh</td>\n      <td>06-Mar-2021</td>\n      <td>18</td>\n      <td>False</td>\n      <td>0.0</td>\n      <td>NaN</td>\n      <td>zalando</td>\n      <td>en</td>\n    </tr>\n    <tr>\n      <th>2</th>\n      <td>2</td>\n      <td>2837691996</td>\n      <td>270</td>\n      <td>puneetjindalisb</td>\n      <td>#VirtualStyling and try-on increases the conve...</td>\n      <td>0</td>\n      <td>Chandigarh, India</td>\n      <td>06-Mar-2021</td>\n      <td>149</td>\n      <td>False</td>\n      <td>0.0</td>\n      <td>NaN</td>\n      <td>zalando</td>\n      <td>en</td>\n    </tr>\n    <tr>\n      <th>3</th>\n      <td>3</td>\n      <td>1125728513666048000</td>\n      <td>9604</td>\n      <td>DommeLineCoUk</td>\n      <td>@missbellalugosi @Zalando Problem starts at Ad...</td>\n      <td>0</td>\n      <td></td>\n      <td>06-Mar-2021</td>\n      <td>2193</td>\n      <td>False</td>\n      <td>1.0</td>\n      <td>1.368196e+18</td>\n      <td>zalando</td>\n      <td>en</td>\n    </tr>\n    <tr>\n      <th>4</th>\n      <td>4</td>\n      <td>2614256724</td>\n      <td>35470</td>\n      <td>medboyUK</td>\n      <td>@missbellalugosi @Zalando Welcome to my world ...</td>\n      <td>0</td>\n      <td>West Midlands, UK</td>\n      <td>06-Mar-2021</td>\n      <td>2503</td>\n      <td>False</td>\n      <td>1.0</td>\n      <td>1.368196e+18</td>\n      <td>zalando</td>\n      <td>en</td>\n    </tr>\n  </tbody>\n</table>\n</div>"
     },
     "metadata": {},
     "execution_count": 3
    }
   ],
   "source": [
    "df = pickle.load(open('data_n_models/one_cleaned_df.pkl', \"rb\"))\n",
    "eng_df = df[df.language == 'en'].reset_index()\n",
    "eng_df.head()"
   ]
  },
  {
   "cell_type": "code",
   "execution_count": 65,
   "metadata": {},
   "outputs": [
    {
     "output_type": "stream",
     "name": "stdout",
     "text": [
      "2021-02-25 00:00:00\n",
      "2021-04-19 00:00:00\n"
     ]
    }
   ],
   "source": [
    "from datetime import datetime\n",
    "df['created_dt'] = [datetime.strptime(string, '%d-%b-%Y') for string in df.created]\n",
    "print(df.created_dt.min())\n",
    "print(df.created_dt.max())"
   ]
  },
  {
   "cell_type": "code",
   "execution_count": 4,
   "metadata": {},
   "outputs": [
    {
     "output_type": "stream",
     "name": "stdout",
     "text": [
      "{'above', \"couldn't\", 'himself', 'all', 'k', 'few', 'before', \"that's\", 'yourself', 'this', 'between', 'most', 'otherwise', 'more', \"he's\", 'or', 'our', 'should', 'the', \"wouldn't\", 'who', 'he', \"wasn't\", 'are', 'each', 'they', 'you', \"i'll\", 'does', \"i've\", 'in', 'my', 'did', 'their', 'and', \"hasn't\", 'i', 'therefore', 'below', 'him', 'during', 'her', 'under', \"there's\", 'if', 'with', \"here's\", 'how', 'its', 'myself', 'no', 'into', 'also', \"he'd\", 'have', 'an', \"we'd\", 'ought', 'his', 'at', \"won't\", \"she's\", 'hence', 'not', 'she', \"they're\", 'further', 'has', 'could', 'same', 'that', 'down', \"where's\", 'we', 'when', 'whom', \"he'll\", 'had', 'would', \"we've\", \"they've\", \"doesn't\", 'ever', \"isn't\", 'which', 'yours', 'than', \"it's\", \"when's\", 'off', 'very', 'while', \"aren't\", 'here', 'herself', 'http', 'just', 'again', 'by', 'as', 'up', 'where', 'themselves', \"who's\", 'your', 'out', 'what', 'nor', 'having', 'only', 'itself', \"you've\", 'since', 'hers', 'these', 'too', 'so', 'r', 'other', 'on', 'do', 'against', \"i'm\", \"let's\", \"i'd\", 'because', \"don't\", \"didn't\", \"can't\", \"you're\", 'to', 'been', 'however', 'over', \"mustn't\", 'own', 'ourselves', \"she'll\", 'com', \"she'd\", \"you'll\", 'cannot', \"hadn't\", \"weren't\", 'then', \"we're\", 'but', 'can', 'from', 'get', 'me', 'some', 'them', 'there', 'theirs', 'any', 'through', \"what's\", 'until', 'being', 'both', 'such', 'ours', \"why's\", \"shouldn't\", 'those', \"shan't\", 'once', 'www', \"we'll\", 'is', 'it', 'else', 'about', 'a', 'of', 'were', 'after', \"they'll\", 'yourselves', 'why', \"haven't\", \"you'd\", 'shall', 'for', 'be', 'like', 'was', 'doing', \"they'd\", 'am', \"how's\"}\n"
     ]
    }
   ],
   "source": [
    "print(STOPWORDS)"
   ]
  },
  {
   "source": [
    "# Filter out companies` tweets\n",
    "There are some tweets that posted by companies themselves. In order to not take them into account we have to filter them out"
   ],
   "cell_type": "markdown",
   "metadata": {}
  },
  {
   "cell_type": "code",
   "execution_count": 5,
   "metadata": {},
   "outputs": [
    {
     "output_type": "execute_result",
     "data": {
      "text/plain": [
       "['MidwestWeather3',\n",
       " 'ASOS',\n",
       " 'Asos_m115',\n",
       " 'asos_order',\n",
       " 'asos_assyla',\n",
       " 'asos_askari',\n",
       " 'ASOS_Careers',\n",
       " 'nauj_asos',\n",
       " 'zalando_uk',\n",
       " 'Zalando_NL',\n",
       " 'Zalando',\n",
       " 'ZalandoTech',\n",
       " 'Zalando_Press',\n",
       " 'Proxy4Sure',\n",
       " 'Asos_Julia',\n",
       " '__asoS',\n",
       " 'ASOS_NickB',\n",
       " 'ASOS_again',\n",
       " 'ZalandoA',\n",
       " 'ASOS_HeretoHelp',\n",
       " 'boohoo_cshelp',\n",
       " 'BooHoo_Lili',\n",
       " 'Boohoo_Cracker_',\n",
       " 'boohoo',\n",
       " 'BOOHOO_ABI',\n",
       " 'Boohoo_DAN',\n",
       " 'boohoo_zoo',\n",
       " 'cracker_boohoo',\n",
       " 'asos_zhanna',\n",
       " 'boohooMAN',\n",
       " 'boohoo_h',\n",
       " 'JAI_BOOHOO',\n",
       " 'ServiceZalando',\n",
       " 'boohooSam_',\n",
       " 'Carpet_asos',\n",
       " 'boohooUSA',\n",
       " 'kosto_asos',\n",
       " 'Asos_Rocky',\n",
       " 'KaraBoohoo',\n",
       " 'icy_boohoo',\n",
       " 'zalandofi',\n",
       " '____boohoo',\n",
       " 'boohoo_tear',\n",
       " 'karthik_asos',\n",
       " 'agent_asos',\n",
       " 'boohooAus']"
      ]
     },
     "metadata": {},
     "execution_count": 5
    }
   ],
   "source": [
    "#collect all the names related to companies as well as bots and scripts\n",
    "names = []\n",
    "pat = r'(zalando|asos|boohoo|MidwestWeather3|Proxy4Sure)'\n",
    "for name in eng_df.name.unique():\n",
    "    match = re.findall(pat, name, re.IGNORECASE) \n",
    "    if len(match) > 0:\n",
    "        names.append(name)\n",
    "names"
   ]
  },
  {
   "cell_type": "code",
   "execution_count": 6,
   "metadata": {},
   "outputs": [
    {
     "output_type": "stream",
     "name": "stdout",
     "text": [
      "(106575, 14)\n"
     ]
    },
    {
     "output_type": "execute_result",
     "data": {
      "text/plain": [
       "(100829, 14)"
      ]
     },
     "metadata": {},
     "execution_count": 6
    }
   ],
   "source": [
    "#check how much data left\n",
    "print(eng_df.shape)\n",
    "eng_df.drop(eng_df[eng_df.name.isin(names)].index).shape"
   ]
  },
  {
   "cell_type": "code",
   "execution_count": 7,
   "metadata": {},
   "outputs": [],
   "source": [
    "#filter out the dataframe\n",
    "eng_df = eng_df.drop(eng_df[eng_df.name.isin(names)].index)"
   ]
  },
  {
   "source": [
    "# Duplicated tweets\n",
    "Theoretically, people can post the same tweets multiple times and retweet others tweets (so that there is the same tweet text). In order to get rid of too much duplicates and to keep retweets, we keep only tweets with unique combination of text, date and account name"
   ],
   "cell_type": "markdown",
   "metadata": {}
  },
  {
   "source": [
    "#check for tweets duplicates\n",
    "eng_df.tweet.value_counts()"
   ],
   "cell_type": "code",
   "metadata": {},
   "execution_count": 8,
   "outputs": [
    {
     "output_type": "execute_result",
     "data": {
      "text/plain": [
       "Save up to 20% on ASOS https://t.co/FcTX4ytmzB #fashion                                                                                                                                                                                30\n",
       "@ASOS This account is all about positive vibes when in reality customers are being treated horribly. My parcel got delivered to wrong address and guess what, CS wished me a wonderful day after saying im not being refunded. Scam    28\n",
       "BOOHOO - - new clothes collection https://t.co/cRSIkKE0Ac                                                                                                                                                                              26\n",
       "boohoo cracker                                                                                                                                                                                                                         22\n",
       "Check out this listing I just added to my #Poshmark closet: ASOS leopard print pumps. https://t.co/aNiyKWLkzb #shopmycloset @poshmarkapp                                                                                               19\n",
       "                                                                                                                                                                                                                                       ..\n",
       "@sherdistheword @IFightRacism @gal_gadope @wandawhatsup @mtgreenee How about don’t ruin your body by eating a cake everyday and you’ll be fine? Some people have to try a little harder to not be fat. Boohoo not my problem            1\n",
       "@Rinnbtw @Valerunity Or what block boohoo                                                                                                                                                                                               1\n",
       "@Welsh34 @ASOS Aw Thankyou                                                                                                                                                                                                              1\n",
       "@boohoo #boohootreats This would have me Fresh and Clean for the whole 2021 x                                                                                                                                                           1\n",
       "Seth loves Boohoo https://t.co/1flsxTojId https://t.co/nmiCIs8Hnl                                                                                                                                                                       1\n",
       "Name: tweet, Length: 64432, dtype: int64"
      ]
     },
     "metadata": {},
     "execution_count": 8
    }
   ]
  },
  {
   "cell_type": "code",
   "execution_count": 9,
   "metadata": {},
   "outputs": [],
   "source": [
    "#filtering out tweets duplicates\n",
    "eng_df = eng_df.drop_duplicates(subset=['tweet','name','created'])"
   ]
  },
  {
   "cell_type": "code",
   "execution_count": 10,
   "metadata": {},
   "outputs": [
    {
     "output_type": "execute_result",
     "data": {
      "text/plain": [
       "Save up to 20% on ASOS https://t.co/FcTX4ytmzB #fashion                                                                                                          20\n",
       "BOOHOO - - new clothes collection https://t.co/cRSIkKE0Ac                                                                                                        19\n",
       "boohoo cracker                                                                                                                                                   15\n",
       "BOOHOO MEN - new clothes collection https://t.co/VjNBRtmxRO                                                                                                      14\n",
       "Check out this listing I just added to my #Poshmark closet: ASOS leopard print pumps. https://t.co/aNiyKWLkzb #shopmycloset @poshmarkapp                         12\n",
       "                                                                                                                                                                 ..\n",
       "MOJAVE,CA (MHV) ASOS reports gust of 50 knots (57.5 mph) from WNW @ 0540Z -- KMHV 160540Z AUTO 30029G50KT 10SM BKN120 02/M04 A2975 RMK A01                        1\n",
       "I don’t think ASOS knows how happy it makes me that they show different body types and not just toned, tanned size 6’s (which is beautiful too of course)         1\n",
       "#NationalPetDay WOOHOO BOOHOO! Everyone feels at home raiding the fridge - even Strippey the house rabbit! 😋🐰 https://t.co/s2EKilidT7 https://t.co/Ydnx4ZK8EG     1\n",
       "@ArtemisBots @BotInvestments release zalando first and not snkrs lmao                                                                                             1\n",
       "Seth loves Boohoo https://t.co/1flsxTojId https://t.co/nmiCIs8Hnl                                                                                                 1\n",
       "Name: tweet, Length: 64432, dtype: int64"
      ]
     },
     "metadata": {},
     "execution_count": 10
    }
   ],
   "source": [
    "#check for tweets duplicates\n",
    "eng_df.tweet.value_counts()"
   ]
  },
  {
   "cell_type": "code",
   "execution_count": 11,
   "metadata": {},
   "outputs": [
    {
     "output_type": "execute_result",
     "data": {
      "text/plain": [
       "       index     user_id  user_statuses             name  \\\n",
       "31873    234  3317203561           5176  searchshops_com   \n",
       "33041   1402  3317203561           5176  searchshops_com   \n",
       "38244      1  3317203561           5261  searchshops_com   \n",
       "39816   1573  3317203561           5261  searchshops_com   \n",
       "40965   2722  3317203561           5261  searchshops_com   \n",
       "44866      6  3317203561           5279  searchshops_com   \n",
       "58421    544  3317203561           5343  searchshops_com   \n",
       "59240   1363  3317203561           5343  searchshops_com   \n",
       "60168   2291  3317203561           5343  searchshops_com   \n",
       "65096    725  3317203561           5359  searchshops_com   \n",
       "72311   1473  3317203561           5374  searchshops_com   \n",
       "78854   1575  3317203561           5393  searchshops_com   \n",
       "84866   1141  3317203561           5476  searchshops_com   \n",
       "85440   1715  3317203561           5476  searchshops_com   \n",
       "86249   2524  3317203561           5476  searchshops_com   \n",
       "90486    339  3317203561           5526  searchshops_com   \n",
       "92216   2069  3317203561           5526  searchshops_com   \n",
       "92910   2763  3317203561           5526  searchshops_com   \n",
       "97479    888  3317203561           5581  searchshops_com   \n",
       "\n",
       "                                                   tweet  retweets  \\\n",
       "31873  BOOHOO - - new clothes collection https://t.co...         0   \n",
       "33041  BOOHOO - - new clothes collection https://t.co...         0   \n",
       "38244  BOOHOO - - new clothes collection https://t.co...         0   \n",
       "39816  BOOHOO - - new clothes collection https://t.co...         0   \n",
       "40965  BOOHOO - - new clothes collection https://t.co...         0   \n",
       "44866  BOOHOO - - new clothes collection https://t.co...         0   \n",
       "58421  BOOHOO - - new clothes collection https://t.co...         0   \n",
       "59240  BOOHOO - - new clothes collection https://t.co...         0   \n",
       "60168  BOOHOO - - new clothes collection https://t.co...         0   \n",
       "65096  BOOHOO - - new clothes collection https://t.co...         0   \n",
       "72311  BOOHOO - - new clothes collection https://t.co...         0   \n",
       "78854  BOOHOO - - new clothes collection https://t.co...         0   \n",
       "84866  BOOHOO - - new clothes collection https://t.co...         0   \n",
       "85440  BOOHOO - - new clothes collection https://t.co...         0   \n",
       "86249  BOOHOO - - new clothes collection https://t.co...         0   \n",
       "90486  BOOHOO - - new clothes collection https://t.co...         0   \n",
       "92216  BOOHOO - - new clothes collection https://t.co...         0   \n",
       "92910  BOOHOO - - new clothes collection https://t.co...         0   \n",
       "97479  BOOHOO - - new clothes collection https://t.co...         0   \n",
       "\n",
       "            location      created  followers  is_user_verified  \\\n",
       "31873  United States  18-Mar-2021         73             False   \n",
       "33041  United States  17-Mar-2021         73             False   \n",
       "38244  United States  24-Mar-2021         74             False   \n",
       "39816  United States  23-Mar-2021         74             False   \n",
       "40965  United States  21-Mar-2021         74             False   \n",
       "44866  United States  25-Mar-2021         73             False   \n",
       "58421  United States  28-Mar-2021         73             False   \n",
       "59240  United States  27-Mar-2021         73             False   \n",
       "60168  United States  26-Mar-2021         73             False   \n",
       "65096  United States  29-Mar-2021         73             False   \n",
       "72311  United States  30-Mar-2021         73             False   \n",
       "78854  United States  31-Mar-2021         73             False   \n",
       "84866  United States  04-Apr-2021         74             False   \n",
       "85440  United States  03-Apr-2021         74             False   \n",
       "86249  United States  02-Apr-2021         74             False   \n",
       "90486  United States  08-Apr-2021         74             False   \n",
       "92216  United States  07-Apr-2021         74             False   \n",
       "92910  United States  06-Apr-2021         74             False   \n",
       "97479  United States  11-Apr-2021         74             False   \n",
       "\n",
       "       favorite_count  in_reply_to_status_id keyword language  \n",
       "31873             0.0                    NaN  boohoo       en  \n",
       "33041             0.0                    NaN  boohoo       en  \n",
       "38244             0.0                    NaN  boohoo       en  \n",
       "39816             0.0                    NaN  boohoo       en  \n",
       "40965             0.0                    NaN  boohoo       en  \n",
       "44866             0.0                    NaN  boohoo       en  \n",
       "58421             0.0                    NaN  boohoo       en  \n",
       "59240             0.0                    NaN  boohoo       en  \n",
       "60168             0.0                    NaN  boohoo       en  \n",
       "65096             0.0                    NaN  boohoo       en  \n",
       "72311             0.0                    NaN  boohoo       en  \n",
       "78854             0.0                    NaN  boohoo       en  \n",
       "84866             0.0                    NaN  boohoo       en  \n",
       "85440             0.0                    NaN  boohoo       en  \n",
       "86249             0.0                    NaN  boohoo       en  \n",
       "90486             0.0                    NaN  boohoo       en  \n",
       "92216             0.0                    NaN  boohoo       en  \n",
       "92910             0.0                    NaN  boohoo       en  \n",
       "97479             0.0                    NaN  boohoo       en  "
      ],
      "text/html": "<div>\n<style scoped>\n    .dataframe tbody tr th:only-of-type {\n        vertical-align: middle;\n    }\n\n    .dataframe tbody tr th {\n        vertical-align: top;\n    }\n\n    .dataframe thead th {\n        text-align: right;\n    }\n</style>\n<table border=\"1\" class=\"dataframe\">\n  <thead>\n    <tr style=\"text-align: right;\">\n      <th></th>\n      <th>index</th>\n      <th>user_id</th>\n      <th>user_statuses</th>\n      <th>name</th>\n      <th>tweet</th>\n      <th>retweets</th>\n      <th>location</th>\n      <th>created</th>\n      <th>followers</th>\n      <th>is_user_verified</th>\n      <th>favorite_count</th>\n      <th>in_reply_to_status_id</th>\n      <th>keyword</th>\n      <th>language</th>\n    </tr>\n  </thead>\n  <tbody>\n    <tr>\n      <th>31873</th>\n      <td>234</td>\n      <td>3317203561</td>\n      <td>5176</td>\n      <td>searchshops_com</td>\n      <td>BOOHOO - - new clothes collection https://t.co...</td>\n      <td>0</td>\n      <td>United States</td>\n      <td>18-Mar-2021</td>\n      <td>73</td>\n      <td>False</td>\n      <td>0.0</td>\n      <td>NaN</td>\n      <td>boohoo</td>\n      <td>en</td>\n    </tr>\n    <tr>\n      <th>33041</th>\n      <td>1402</td>\n      <td>3317203561</td>\n      <td>5176</td>\n      <td>searchshops_com</td>\n      <td>BOOHOO - - new clothes collection https://t.co...</td>\n      <td>0</td>\n      <td>United States</td>\n      <td>17-Mar-2021</td>\n      <td>73</td>\n      <td>False</td>\n      <td>0.0</td>\n      <td>NaN</td>\n      <td>boohoo</td>\n      <td>en</td>\n    </tr>\n    <tr>\n      <th>38244</th>\n      <td>1</td>\n      <td>3317203561</td>\n      <td>5261</td>\n      <td>searchshops_com</td>\n      <td>BOOHOO - - new clothes collection https://t.co...</td>\n      <td>0</td>\n      <td>United States</td>\n      <td>24-Mar-2021</td>\n      <td>74</td>\n      <td>False</td>\n      <td>0.0</td>\n      <td>NaN</td>\n      <td>boohoo</td>\n      <td>en</td>\n    </tr>\n    <tr>\n      <th>39816</th>\n      <td>1573</td>\n      <td>3317203561</td>\n      <td>5261</td>\n      <td>searchshops_com</td>\n      <td>BOOHOO - - new clothes collection https://t.co...</td>\n      <td>0</td>\n      <td>United States</td>\n      <td>23-Mar-2021</td>\n      <td>74</td>\n      <td>False</td>\n      <td>0.0</td>\n      <td>NaN</td>\n      <td>boohoo</td>\n      <td>en</td>\n    </tr>\n    <tr>\n      <th>40965</th>\n      <td>2722</td>\n      <td>3317203561</td>\n      <td>5261</td>\n      <td>searchshops_com</td>\n      <td>BOOHOO - - new clothes collection https://t.co...</td>\n      <td>0</td>\n      <td>United States</td>\n      <td>21-Mar-2021</td>\n      <td>74</td>\n      <td>False</td>\n      <td>0.0</td>\n      <td>NaN</td>\n      <td>boohoo</td>\n      <td>en</td>\n    </tr>\n    <tr>\n      <th>44866</th>\n      <td>6</td>\n      <td>3317203561</td>\n      <td>5279</td>\n      <td>searchshops_com</td>\n      <td>BOOHOO - - new clothes collection https://t.co...</td>\n      <td>0</td>\n      <td>United States</td>\n      <td>25-Mar-2021</td>\n      <td>73</td>\n      <td>False</td>\n      <td>0.0</td>\n      <td>NaN</td>\n      <td>boohoo</td>\n      <td>en</td>\n    </tr>\n    <tr>\n      <th>58421</th>\n      <td>544</td>\n      <td>3317203561</td>\n      <td>5343</td>\n      <td>searchshops_com</td>\n      <td>BOOHOO - - new clothes collection https://t.co...</td>\n      <td>0</td>\n      <td>United States</td>\n      <td>28-Mar-2021</td>\n      <td>73</td>\n      <td>False</td>\n      <td>0.0</td>\n      <td>NaN</td>\n      <td>boohoo</td>\n      <td>en</td>\n    </tr>\n    <tr>\n      <th>59240</th>\n      <td>1363</td>\n      <td>3317203561</td>\n      <td>5343</td>\n      <td>searchshops_com</td>\n      <td>BOOHOO - - new clothes collection https://t.co...</td>\n      <td>0</td>\n      <td>United States</td>\n      <td>27-Mar-2021</td>\n      <td>73</td>\n      <td>False</td>\n      <td>0.0</td>\n      <td>NaN</td>\n      <td>boohoo</td>\n      <td>en</td>\n    </tr>\n    <tr>\n      <th>60168</th>\n      <td>2291</td>\n      <td>3317203561</td>\n      <td>5343</td>\n      <td>searchshops_com</td>\n      <td>BOOHOO - - new clothes collection https://t.co...</td>\n      <td>0</td>\n      <td>United States</td>\n      <td>26-Mar-2021</td>\n      <td>73</td>\n      <td>False</td>\n      <td>0.0</td>\n      <td>NaN</td>\n      <td>boohoo</td>\n      <td>en</td>\n    </tr>\n    <tr>\n      <th>65096</th>\n      <td>725</td>\n      <td>3317203561</td>\n      <td>5359</td>\n      <td>searchshops_com</td>\n      <td>BOOHOO - - new clothes collection https://t.co...</td>\n      <td>0</td>\n      <td>United States</td>\n      <td>29-Mar-2021</td>\n      <td>73</td>\n      <td>False</td>\n      <td>0.0</td>\n      <td>NaN</td>\n      <td>boohoo</td>\n      <td>en</td>\n    </tr>\n    <tr>\n      <th>72311</th>\n      <td>1473</td>\n      <td>3317203561</td>\n      <td>5374</td>\n      <td>searchshops_com</td>\n      <td>BOOHOO - - new clothes collection https://t.co...</td>\n      <td>0</td>\n      <td>United States</td>\n      <td>30-Mar-2021</td>\n      <td>73</td>\n      <td>False</td>\n      <td>0.0</td>\n      <td>NaN</td>\n      <td>boohoo</td>\n      <td>en</td>\n    </tr>\n    <tr>\n      <th>78854</th>\n      <td>1575</td>\n      <td>3317203561</td>\n      <td>5393</td>\n      <td>searchshops_com</td>\n      <td>BOOHOO - - new clothes collection https://t.co...</td>\n      <td>0</td>\n      <td>United States</td>\n      <td>31-Mar-2021</td>\n      <td>73</td>\n      <td>False</td>\n      <td>0.0</td>\n      <td>NaN</td>\n      <td>boohoo</td>\n      <td>en</td>\n    </tr>\n    <tr>\n      <th>84866</th>\n      <td>1141</td>\n      <td>3317203561</td>\n      <td>5476</td>\n      <td>searchshops_com</td>\n      <td>BOOHOO - - new clothes collection https://t.co...</td>\n      <td>0</td>\n      <td>United States</td>\n      <td>04-Apr-2021</td>\n      <td>74</td>\n      <td>False</td>\n      <td>0.0</td>\n      <td>NaN</td>\n      <td>boohoo</td>\n      <td>en</td>\n    </tr>\n    <tr>\n      <th>85440</th>\n      <td>1715</td>\n      <td>3317203561</td>\n      <td>5476</td>\n      <td>searchshops_com</td>\n      <td>BOOHOO - - new clothes collection https://t.co...</td>\n      <td>0</td>\n      <td>United States</td>\n      <td>03-Apr-2021</td>\n      <td>74</td>\n      <td>False</td>\n      <td>0.0</td>\n      <td>NaN</td>\n      <td>boohoo</td>\n      <td>en</td>\n    </tr>\n    <tr>\n      <th>86249</th>\n      <td>2524</td>\n      <td>3317203561</td>\n      <td>5476</td>\n      <td>searchshops_com</td>\n      <td>BOOHOO - - new clothes collection https://t.co...</td>\n      <td>0</td>\n      <td>United States</td>\n      <td>02-Apr-2021</td>\n      <td>74</td>\n      <td>False</td>\n      <td>0.0</td>\n      <td>NaN</td>\n      <td>boohoo</td>\n      <td>en</td>\n    </tr>\n    <tr>\n      <th>90486</th>\n      <td>339</td>\n      <td>3317203561</td>\n      <td>5526</td>\n      <td>searchshops_com</td>\n      <td>BOOHOO - - new clothes collection https://t.co...</td>\n      <td>0</td>\n      <td>United States</td>\n      <td>08-Apr-2021</td>\n      <td>74</td>\n      <td>False</td>\n      <td>0.0</td>\n      <td>NaN</td>\n      <td>boohoo</td>\n      <td>en</td>\n    </tr>\n    <tr>\n      <th>92216</th>\n      <td>2069</td>\n      <td>3317203561</td>\n      <td>5526</td>\n      <td>searchshops_com</td>\n      <td>BOOHOO - - new clothes collection https://t.co...</td>\n      <td>0</td>\n      <td>United States</td>\n      <td>07-Apr-2021</td>\n      <td>74</td>\n      <td>False</td>\n      <td>0.0</td>\n      <td>NaN</td>\n      <td>boohoo</td>\n      <td>en</td>\n    </tr>\n    <tr>\n      <th>92910</th>\n      <td>2763</td>\n      <td>3317203561</td>\n      <td>5526</td>\n      <td>searchshops_com</td>\n      <td>BOOHOO - - new clothes collection https://t.co...</td>\n      <td>0</td>\n      <td>United States</td>\n      <td>06-Apr-2021</td>\n      <td>74</td>\n      <td>False</td>\n      <td>0.0</td>\n      <td>NaN</td>\n      <td>boohoo</td>\n      <td>en</td>\n    </tr>\n    <tr>\n      <th>97479</th>\n      <td>888</td>\n      <td>3317203561</td>\n      <td>5581</td>\n      <td>searchshops_com</td>\n      <td>BOOHOO - - new clothes collection https://t.co...</td>\n      <td>0</td>\n      <td>United States</td>\n      <td>11-Apr-2021</td>\n      <td>74</td>\n      <td>False</td>\n      <td>0.0</td>\n      <td>NaN</td>\n      <td>boohoo</td>\n      <td>en</td>\n    </tr>\n  </tbody>\n</table>\n</div>"
     },
     "metadata": {},
     "execution_count": 11
    }
   ],
   "source": [
    "eng_df[eng_df.tweet == 'BOOHOO - - new clothes collection https://t.co/cRSIkKE0Ac']"
   ]
  },
  {
   "cell_type": "code",
   "execution_count": 12,
   "metadata": {},
   "outputs": [
    {
     "output_type": "execute_result",
     "data": {
      "text/plain": [
       "(65417, 14)"
      ]
     },
     "metadata": {},
     "execution_count": 12
    }
   ],
   "source": [
    "eng_df.shape"
   ]
  },
  {
   "source": [
    "# NB: Zalando is not discussed as much as other companies by english speakers"
   ],
   "cell_type": "markdown",
   "metadata": {}
  },
  {
   "cell_type": "code",
   "execution_count": 13,
   "metadata": {},
   "outputs": [
    {
     "output_type": "execute_result",
     "data": {
      "text/plain": [
       "asos       37409\n",
       "boohoo     25092\n",
       "zalando     2740\n",
       "bohoo        176\n",
       "Name: keyword, dtype: int64"
      ]
     },
     "metadata": {},
     "execution_count": 13
    }
   ],
   "source": [
    "eng_df.keyword.value_counts()"
   ]
  },
  {
   "cell_type": "code",
   "execution_count": 14,
   "metadata": {},
   "outputs": [
    {
     "output_type": "execute_result",
     "data": {
      "text/plain": [
       "<AxesSubplot:xlabel='keyword', ylabel='count'>"
      ]
     },
     "metadata": {},
     "execution_count": 14
    },
    {
     "output_type": "display_data",
     "data": {
      "text/plain": "<Figure size 432x288 with 1 Axes>",
      "image/svg+xml": "<?xml version=\"1.0\" encoding=\"utf-8\" standalone=\"no\"?>\r\n<!DOCTYPE svg PUBLIC \"-//W3C//DTD SVG 1.1//EN\"\r\n  \"http://www.w3.org/Graphics/SVG/1.1/DTD/svg11.dtd\">\r\n<svg height=\"262.19625pt\" version=\"1.1\" viewBox=\"0 0 401.690625 262.19625\" width=\"401.690625pt\" xmlns=\"http://www.w3.org/2000/svg\" xmlns:xlink=\"http://www.w3.org/1999/xlink\">\r\n <metadata>\r\n  <rdf:RDF xmlns:cc=\"http://creativecommons.org/ns#\" xmlns:dc=\"http://purl.org/dc/elements/1.1/\" xmlns:rdf=\"http://www.w3.org/1999/02/22-rdf-syntax-ns#\">\r\n   <cc:Work>\r\n    <dc:type rdf:resource=\"http://purl.org/dc/dcmitype/StillImage\"/>\r\n    <dc:date>2021-06-12T19:06:31.825595</dc:date>\r\n    <dc:format>image/svg+xml</dc:format>\r\n    <dc:creator>\r\n     <cc:Agent>\r\n      <dc:title>Matplotlib v3.4.1, https://matplotlib.org/</dc:title>\r\n     </cc:Agent>\r\n    </dc:creator>\r\n   </cc:Work>\r\n  </rdf:RDF>\r\n </metadata>\r\n <defs>\r\n  <style type=\"text/css\">*{stroke-linecap:butt;stroke-linejoin:round;}</style>\r\n </defs>\r\n <g id=\"figure_1\">\r\n  <g id=\"patch_1\">\r\n   <path d=\"M 0 262.19625 \r\nL 401.690625 262.19625 \r\nL 401.690625 0 \r\nL 0 0 \r\nz\r\n\" style=\"fill:none;\"/>\r\n  </g>\r\n  <g id=\"axes_1\">\r\n   <g id=\"patch_2\">\r\n    <path d=\"M 59.690625 224.64 \r\nL 394.490625 224.64 \r\nL 394.490625 7.2 \r\nL 59.690625 7.2 \r\nz\r\n\" style=\"fill:#ffffff;\"/>\r\n   </g>\r\n   <g id=\"patch_3\">\r\n    <path clip-path=\"url(#p80df6eb9dd)\" d=\"M 70.850625 224.64 \r\nL 160.130625 224.64 \r\nL 160.130625 17.554286 \r\nL 70.850625 17.554286 \r\nz\r\n\" style=\"fill:#3274a1;\"/>\r\n   </g>\r\n   <g id=\"patch_4\">\r\n    <path clip-path=\"url(#p80df6eb9dd)\" d=\"M 182.450625 224.64 \r\nL 271.730625 224.64 \r\nL 271.730625 85.737737 \r\nL 182.450625 85.737737 \r\nz\r\n\" style=\"fill:#e1812c;\"/>\r\n   </g>\r\n   <g id=\"patch_5\">\r\n    <path clip-path=\"url(#p80df6eb9dd)\" d=\"M 294.050625 224.64 \r\nL 383.330625 224.64 \r\nL 383.330625 209.47213 \r\nL 294.050625 209.47213 \r\nz\r\n\" style=\"fill:#3a923a;\"/>\r\n   </g>\r\n   <g id=\"matplotlib.axis_1\">\r\n    <g id=\"xtick_1\">\r\n     <g id=\"line2d_1\">\r\n      <defs>\r\n       <path d=\"M 0 0 \r\nL 0 3.5 \r\n\" id=\"meb5a46886d\" style=\"stroke:#000000;stroke-width:0.8;\"/>\r\n      </defs>\r\n      <g>\r\n       <use style=\"stroke:#000000;stroke-width:0.8;\" x=\"115.490625\" xlink:href=\"#meb5a46886d\" y=\"224.64\"/>\r\n      </g>\r\n     </g>\r\n     <g id=\"text_1\">\r\n      <!-- asos -->\r\n      <g transform=\"translate(104.157812 239.238438)scale(0.1 -0.1)\">\r\n       <defs>\r\n        <path d=\"M 2194 1759 \r\nQ 1497 1759 1228 1600 \r\nQ 959 1441 959 1056 \r\nQ 959 750 1161 570 \r\nQ 1363 391 1709 391 \r\nQ 2188 391 2477 730 \r\nQ 2766 1069 2766 1631 \r\nL 2766 1759 \r\nL 2194 1759 \r\nz\r\nM 3341 1997 \r\nL 3341 0 \r\nL 2766 0 \r\nL 2766 531 \r\nQ 2569 213 2275 61 \r\nQ 1981 -91 1556 -91 \r\nQ 1019 -91 701 211 \r\nQ 384 513 384 1019 \r\nQ 384 1609 779 1909 \r\nQ 1175 2209 1959 2209 \r\nL 2766 2209 \r\nL 2766 2266 \r\nQ 2766 2663 2505 2880 \r\nQ 2244 3097 1772 3097 \r\nQ 1472 3097 1187 3025 \r\nQ 903 2953 641 2809 \r\nL 641 3341 \r\nQ 956 3463 1253 3523 \r\nQ 1550 3584 1831 3584 \r\nQ 2591 3584 2966 3190 \r\nQ 3341 2797 3341 1997 \r\nz\r\n\" id=\"DejaVuSans-61\" transform=\"scale(0.015625)\"/>\r\n        <path d=\"M 2834 3397 \r\nL 2834 2853 \r\nQ 2591 2978 2328 3040 \r\nQ 2066 3103 1784 3103 \r\nQ 1356 3103 1142 2972 \r\nQ 928 2841 928 2578 \r\nQ 928 2378 1081 2264 \r\nQ 1234 2150 1697 2047 \r\nL 1894 2003 \r\nQ 2506 1872 2764 1633 \r\nQ 3022 1394 3022 966 \r\nQ 3022 478 2636 193 \r\nQ 2250 -91 1575 -91 \r\nQ 1294 -91 989 -36 \r\nQ 684 19 347 128 \r\nL 347 722 \r\nQ 666 556 975 473 \r\nQ 1284 391 1588 391 \r\nQ 1994 391 2212 530 \r\nQ 2431 669 2431 922 \r\nQ 2431 1156 2273 1281 \r\nQ 2116 1406 1581 1522 \r\nL 1381 1569 \r\nQ 847 1681 609 1914 \r\nQ 372 2147 372 2553 \r\nQ 372 3047 722 3315 \r\nQ 1072 3584 1716 3584 \r\nQ 2034 3584 2315 3537 \r\nQ 2597 3491 2834 3397 \r\nz\r\n\" id=\"DejaVuSans-73\" transform=\"scale(0.015625)\"/>\r\n        <path d=\"M 1959 3097 \r\nQ 1497 3097 1228 2736 \r\nQ 959 2375 959 1747 \r\nQ 959 1119 1226 758 \r\nQ 1494 397 1959 397 \r\nQ 2419 397 2687 759 \r\nQ 2956 1122 2956 1747 \r\nQ 2956 2369 2687 2733 \r\nQ 2419 3097 1959 3097 \r\nz\r\nM 1959 3584 \r\nQ 2709 3584 3137 3096 \r\nQ 3566 2609 3566 1747 \r\nQ 3566 888 3137 398 \r\nQ 2709 -91 1959 -91 \r\nQ 1206 -91 779 398 \r\nQ 353 888 353 1747 \r\nQ 353 2609 779 3096 \r\nQ 1206 3584 1959 3584 \r\nz\r\n\" id=\"DejaVuSans-6f\" transform=\"scale(0.015625)\"/>\r\n       </defs>\r\n       <use xlink:href=\"#DejaVuSans-61\"/>\r\n       <use x=\"61.279297\" xlink:href=\"#DejaVuSans-73\"/>\r\n       <use x=\"113.378906\" xlink:href=\"#DejaVuSans-6f\"/>\r\n       <use x=\"174.560547\" xlink:href=\"#DejaVuSans-73\"/>\r\n      </g>\r\n     </g>\r\n    </g>\r\n    <g id=\"xtick_2\">\r\n     <g id=\"line2d_2\">\r\n      <g>\r\n       <use style=\"stroke:#000000;stroke-width:0.8;\" x=\"227.090625\" xlink:href=\"#meb5a46886d\" y=\"224.64\"/>\r\n      </g>\r\n     </g>\r\n     <g id=\"text_2\">\r\n      <!-- boohoo -->\r\n      <g transform=\"translate(208.510156 239.238438)scale(0.1 -0.1)\">\r\n       <defs>\r\n        <path d=\"M 3116 1747 \r\nQ 3116 2381 2855 2742 \r\nQ 2594 3103 2138 3103 \r\nQ 1681 3103 1420 2742 \r\nQ 1159 2381 1159 1747 \r\nQ 1159 1113 1420 752 \r\nQ 1681 391 2138 391 \r\nQ 2594 391 2855 752 \r\nQ 3116 1113 3116 1747 \r\nz\r\nM 1159 2969 \r\nQ 1341 3281 1617 3432 \r\nQ 1894 3584 2278 3584 \r\nQ 2916 3584 3314 3078 \r\nQ 3713 2572 3713 1747 \r\nQ 3713 922 3314 415 \r\nQ 2916 -91 2278 -91 \r\nQ 1894 -91 1617 61 \r\nQ 1341 213 1159 525 \r\nL 1159 0 \r\nL 581 0 \r\nL 581 4863 \r\nL 1159 4863 \r\nL 1159 2969 \r\nz\r\n\" id=\"DejaVuSans-62\" transform=\"scale(0.015625)\"/>\r\n        <path d=\"M 3513 2113 \r\nL 3513 0 \r\nL 2938 0 \r\nL 2938 2094 \r\nQ 2938 2591 2744 2837 \r\nQ 2550 3084 2163 3084 \r\nQ 1697 3084 1428 2787 \r\nQ 1159 2491 1159 1978 \r\nL 1159 0 \r\nL 581 0 \r\nL 581 4863 \r\nL 1159 4863 \r\nL 1159 2956 \r\nQ 1366 3272 1645 3428 \r\nQ 1925 3584 2291 3584 \r\nQ 2894 3584 3203 3211 \r\nQ 3513 2838 3513 2113 \r\nz\r\n\" id=\"DejaVuSans-68\" transform=\"scale(0.015625)\"/>\r\n       </defs>\r\n       <use xlink:href=\"#DejaVuSans-62\"/>\r\n       <use x=\"63.476562\" xlink:href=\"#DejaVuSans-6f\"/>\r\n       <use x=\"124.658203\" xlink:href=\"#DejaVuSans-6f\"/>\r\n       <use x=\"185.839844\" xlink:href=\"#DejaVuSans-68\"/>\r\n       <use x=\"249.21875\" xlink:href=\"#DejaVuSans-6f\"/>\r\n       <use x=\"310.400391\" xlink:href=\"#DejaVuSans-6f\"/>\r\n      </g>\r\n     </g>\r\n    </g>\r\n    <g id=\"xtick_3\">\r\n     <g id=\"line2d_3\">\r\n      <g>\r\n       <use style=\"stroke:#000000;stroke-width:0.8;\" x=\"338.690625\" xlink:href=\"#meb5a46886d\" y=\"224.64\"/>\r\n      </g>\r\n     </g>\r\n     <g id=\"text_3\">\r\n      <!-- zalando -->\r\n      <g transform=\"translate(319.146875 239.238438)scale(0.1 -0.1)\">\r\n       <defs>\r\n        <path d=\"M 353 3500 \r\nL 3084 3500 \r\nL 3084 2975 \r\nL 922 459 \r\nL 3084 459 \r\nL 3084 0 \r\nL 275 0 \r\nL 275 525 \r\nL 2438 3041 \r\nL 353 3041 \r\nL 353 3500 \r\nz\r\n\" id=\"DejaVuSans-7a\" transform=\"scale(0.015625)\"/>\r\n        <path d=\"M 603 4863 \r\nL 1178 4863 \r\nL 1178 0 \r\nL 603 0 \r\nL 603 4863 \r\nz\r\n\" id=\"DejaVuSans-6c\" transform=\"scale(0.015625)\"/>\r\n        <path d=\"M 3513 2113 \r\nL 3513 0 \r\nL 2938 0 \r\nL 2938 2094 \r\nQ 2938 2591 2744 2837 \r\nQ 2550 3084 2163 3084 \r\nQ 1697 3084 1428 2787 \r\nQ 1159 2491 1159 1978 \r\nL 1159 0 \r\nL 581 0 \r\nL 581 3500 \r\nL 1159 3500 \r\nL 1159 2956 \r\nQ 1366 3272 1645 3428 \r\nQ 1925 3584 2291 3584 \r\nQ 2894 3584 3203 3211 \r\nQ 3513 2838 3513 2113 \r\nz\r\n\" id=\"DejaVuSans-6e\" transform=\"scale(0.015625)\"/>\r\n        <path d=\"M 2906 2969 \r\nL 2906 4863 \r\nL 3481 4863 \r\nL 3481 0 \r\nL 2906 0 \r\nL 2906 525 \r\nQ 2725 213 2448 61 \r\nQ 2172 -91 1784 -91 \r\nQ 1150 -91 751 415 \r\nQ 353 922 353 1747 \r\nQ 353 2572 751 3078 \r\nQ 1150 3584 1784 3584 \r\nQ 2172 3584 2448 3432 \r\nQ 2725 3281 2906 2969 \r\nz\r\nM 947 1747 \r\nQ 947 1113 1208 752 \r\nQ 1469 391 1925 391 \r\nQ 2381 391 2643 752 \r\nQ 2906 1113 2906 1747 \r\nQ 2906 2381 2643 2742 \r\nQ 2381 3103 1925 3103 \r\nQ 1469 3103 1208 2742 \r\nQ 947 2381 947 1747 \r\nz\r\n\" id=\"DejaVuSans-64\" transform=\"scale(0.015625)\"/>\r\n       </defs>\r\n       <use xlink:href=\"#DejaVuSans-7a\"/>\r\n       <use x=\"52.490234\" xlink:href=\"#DejaVuSans-61\"/>\r\n       <use x=\"113.769531\" xlink:href=\"#DejaVuSans-6c\"/>\r\n       <use x=\"141.552734\" xlink:href=\"#DejaVuSans-61\"/>\r\n       <use x=\"202.832031\" xlink:href=\"#DejaVuSans-6e\"/>\r\n       <use x=\"266.210938\" xlink:href=\"#DejaVuSans-64\"/>\r\n       <use x=\"329.6875\" xlink:href=\"#DejaVuSans-6f\"/>\r\n      </g>\r\n     </g>\r\n    </g>\r\n    <g id=\"text_4\">\r\n     <!-- keyword -->\r\n     <g transform=\"translate(206.05 252.916563)scale(0.1 -0.1)\">\r\n      <defs>\r\n       <path d=\"M 581 4863 \r\nL 1159 4863 \r\nL 1159 1991 \r\nL 2875 3500 \r\nL 3609 3500 \r\nL 1753 1863 \r\nL 3688 0 \r\nL 2938 0 \r\nL 1159 1709 \r\nL 1159 0 \r\nL 581 0 \r\nL 581 4863 \r\nz\r\n\" id=\"DejaVuSans-6b\" transform=\"scale(0.015625)\"/>\r\n       <path d=\"M 3597 1894 \r\nL 3597 1613 \r\nL 953 1613 \r\nQ 991 1019 1311 708 \r\nQ 1631 397 2203 397 \r\nQ 2534 397 2845 478 \r\nQ 3156 559 3463 722 \r\nL 3463 178 \r\nQ 3153 47 2828 -22 \r\nQ 2503 -91 2169 -91 \r\nQ 1331 -91 842 396 \r\nQ 353 884 353 1716 \r\nQ 353 2575 817 3079 \r\nQ 1281 3584 2069 3584 \r\nQ 2775 3584 3186 3129 \r\nQ 3597 2675 3597 1894 \r\nz\r\nM 3022 2063 \r\nQ 3016 2534 2758 2815 \r\nQ 2500 3097 2075 3097 \r\nQ 1594 3097 1305 2825 \r\nQ 1016 2553 972 2059 \r\nL 3022 2063 \r\nz\r\n\" id=\"DejaVuSans-65\" transform=\"scale(0.015625)\"/>\r\n       <path d=\"M 2059 -325 \r\nQ 1816 -950 1584 -1140 \r\nQ 1353 -1331 966 -1331 \r\nL 506 -1331 \r\nL 506 -850 \r\nL 844 -850 \r\nQ 1081 -850 1212 -737 \r\nQ 1344 -625 1503 -206 \r\nL 1606 56 \r\nL 191 3500 \r\nL 800 3500 \r\nL 1894 763 \r\nL 2988 3500 \r\nL 3597 3500 \r\nL 2059 -325 \r\nz\r\n\" id=\"DejaVuSans-79\" transform=\"scale(0.015625)\"/>\r\n       <path d=\"M 269 3500 \r\nL 844 3500 \r\nL 1563 769 \r\nL 2278 3500 \r\nL 2956 3500 \r\nL 3675 769 \r\nL 4391 3500 \r\nL 4966 3500 \r\nL 4050 0 \r\nL 3372 0 \r\nL 2619 2869 \r\nL 1863 0 \r\nL 1184 0 \r\nL 269 3500 \r\nz\r\n\" id=\"DejaVuSans-77\" transform=\"scale(0.015625)\"/>\r\n       <path d=\"M 2631 2963 \r\nQ 2534 3019 2420 3045 \r\nQ 2306 3072 2169 3072 \r\nQ 1681 3072 1420 2755 \r\nQ 1159 2438 1159 1844 \r\nL 1159 0 \r\nL 581 0 \r\nL 581 3500 \r\nL 1159 3500 \r\nL 1159 2956 \r\nQ 1341 3275 1631 3429 \r\nQ 1922 3584 2338 3584 \r\nQ 2397 3584 2469 3576 \r\nQ 2541 3569 2628 3553 \r\nL 2631 2963 \r\nz\r\n\" id=\"DejaVuSans-72\" transform=\"scale(0.015625)\"/>\r\n      </defs>\r\n      <use xlink:href=\"#DejaVuSans-6b\"/>\r\n      <use x=\"54.285156\" xlink:href=\"#DejaVuSans-65\"/>\r\n      <use x=\"115.808594\" xlink:href=\"#DejaVuSans-79\"/>\r\n      <use x=\"174.988281\" xlink:href=\"#DejaVuSans-77\"/>\r\n      <use x=\"256.775391\" xlink:href=\"#DejaVuSans-6f\"/>\r\n      <use x=\"317.957031\" xlink:href=\"#DejaVuSans-72\"/>\r\n      <use x=\"357.320312\" xlink:href=\"#DejaVuSans-64\"/>\r\n     </g>\r\n    </g>\r\n   </g>\r\n   <g id=\"matplotlib.axis_2\">\r\n    <g id=\"ytick_1\">\r\n     <g id=\"line2d_4\">\r\n      <defs>\r\n       <path d=\"M 0 0 \r\nL -3.5 0 \r\n\" id=\"mbfcb3438ea\" style=\"stroke:#000000;stroke-width:0.8;\"/>\r\n      </defs>\r\n      <g>\r\n       <use style=\"stroke:#000000;stroke-width:0.8;\" x=\"59.690625\" xlink:href=\"#mbfcb3438ea\" y=\"224.64\"/>\r\n      </g>\r\n     </g>\r\n     <g id=\"text_5\">\r\n      <!-- 0 -->\r\n      <g transform=\"translate(46.328125 228.439219)scale(0.1 -0.1)\">\r\n       <defs>\r\n        <path d=\"M 2034 4250 \r\nQ 1547 4250 1301 3770 \r\nQ 1056 3291 1056 2328 \r\nQ 1056 1369 1301 889 \r\nQ 1547 409 2034 409 \r\nQ 2525 409 2770 889 \r\nQ 3016 1369 3016 2328 \r\nQ 3016 3291 2770 3770 \r\nQ 2525 4250 2034 4250 \r\nz\r\nM 2034 4750 \r\nQ 2819 4750 3233 4129 \r\nQ 3647 3509 3647 2328 \r\nQ 3647 1150 3233 529 \r\nQ 2819 -91 2034 -91 \r\nQ 1250 -91 836 529 \r\nQ 422 1150 422 2328 \r\nQ 422 3509 836 4129 \r\nQ 1250 4750 2034 4750 \r\nz\r\n\" id=\"DejaVuSans-30\" transform=\"scale(0.015625)\"/>\r\n       </defs>\r\n       <use xlink:href=\"#DejaVuSans-30\"/>\r\n      </g>\r\n     </g>\r\n    </g>\r\n    <g id=\"ytick_2\">\r\n     <g id=\"line2d_5\">\r\n      <g>\r\n       <use style=\"stroke:#000000;stroke-width:0.8;\" x=\"59.690625\" xlink:href=\"#mbfcb3438ea\" y=\"196.961405\"/>\r\n      </g>\r\n     </g>\r\n     <g id=\"text_6\">\r\n      <!-- 5000 -->\r\n      <g transform=\"translate(27.240625 200.760623)scale(0.1 -0.1)\">\r\n       <defs>\r\n        <path d=\"M 691 4666 \r\nL 3169 4666 \r\nL 3169 4134 \r\nL 1269 4134 \r\nL 1269 2991 \r\nQ 1406 3038 1543 3061 \r\nQ 1681 3084 1819 3084 \r\nQ 2600 3084 3056 2656 \r\nQ 3513 2228 3513 1497 \r\nQ 3513 744 3044 326 \r\nQ 2575 -91 1722 -91 \r\nQ 1428 -91 1123 -41 \r\nQ 819 9 494 109 \r\nL 494 744 \r\nQ 775 591 1075 516 \r\nQ 1375 441 1709 441 \r\nQ 2250 441 2565 725 \r\nQ 2881 1009 2881 1497 \r\nQ 2881 1984 2565 2268 \r\nQ 2250 2553 1709 2553 \r\nQ 1456 2553 1204 2497 \r\nQ 953 2441 691 2322 \r\nL 691 4666 \r\nz\r\n\" id=\"DejaVuSans-35\" transform=\"scale(0.015625)\"/>\r\n       </defs>\r\n       <use xlink:href=\"#DejaVuSans-35\"/>\r\n       <use x=\"63.623047\" xlink:href=\"#DejaVuSans-30\"/>\r\n       <use x=\"127.246094\" xlink:href=\"#DejaVuSans-30\"/>\r\n       <use x=\"190.869141\" xlink:href=\"#DejaVuSans-30\"/>\r\n      </g>\r\n     </g>\r\n    </g>\r\n    <g id=\"ytick_3\">\r\n     <g id=\"line2d_6\">\r\n      <g>\r\n       <use style=\"stroke:#000000;stroke-width:0.8;\" x=\"59.690625\" xlink:href=\"#mbfcb3438ea\" y=\"169.282809\"/>\r\n      </g>\r\n     </g>\r\n     <g id=\"text_7\">\r\n      <!-- 10000 -->\r\n      <g transform=\"translate(20.878125 173.082028)scale(0.1 -0.1)\">\r\n       <defs>\r\n        <path d=\"M 794 531 \r\nL 1825 531 \r\nL 1825 4091 \r\nL 703 3866 \r\nL 703 4441 \r\nL 1819 4666 \r\nL 2450 4666 \r\nL 2450 531 \r\nL 3481 531 \r\nL 3481 0 \r\nL 794 0 \r\nL 794 531 \r\nz\r\n\" id=\"DejaVuSans-31\" transform=\"scale(0.015625)\"/>\r\n       </defs>\r\n       <use xlink:href=\"#DejaVuSans-31\"/>\r\n       <use x=\"63.623047\" xlink:href=\"#DejaVuSans-30\"/>\r\n       <use x=\"127.246094\" xlink:href=\"#DejaVuSans-30\"/>\r\n       <use x=\"190.869141\" xlink:href=\"#DejaVuSans-30\"/>\r\n       <use x=\"254.492188\" xlink:href=\"#DejaVuSans-30\"/>\r\n      </g>\r\n     </g>\r\n    </g>\r\n    <g id=\"ytick_4\">\r\n     <g id=\"line2d_7\">\r\n      <g>\r\n       <use style=\"stroke:#000000;stroke-width:0.8;\" x=\"59.690625\" xlink:href=\"#mbfcb3438ea\" y=\"141.604214\"/>\r\n      </g>\r\n     </g>\r\n     <g id=\"text_8\">\r\n      <!-- 15000 -->\r\n      <g transform=\"translate(20.878125 145.403433)scale(0.1 -0.1)\">\r\n       <use xlink:href=\"#DejaVuSans-31\"/>\r\n       <use x=\"63.623047\" xlink:href=\"#DejaVuSans-35\"/>\r\n       <use x=\"127.246094\" xlink:href=\"#DejaVuSans-30\"/>\r\n       <use x=\"190.869141\" xlink:href=\"#DejaVuSans-30\"/>\r\n       <use x=\"254.492188\" xlink:href=\"#DejaVuSans-30\"/>\r\n      </g>\r\n     </g>\r\n    </g>\r\n    <g id=\"ytick_5\">\r\n     <g id=\"line2d_8\">\r\n      <g>\r\n       <use style=\"stroke:#000000;stroke-width:0.8;\" x=\"59.690625\" xlink:href=\"#mbfcb3438ea\" y=\"113.925619\"/>\r\n      </g>\r\n     </g>\r\n     <g id=\"text_9\">\r\n      <!-- 20000 -->\r\n      <g transform=\"translate(20.878125 117.724838)scale(0.1 -0.1)\">\r\n       <defs>\r\n        <path d=\"M 1228 531 \r\nL 3431 531 \r\nL 3431 0 \r\nL 469 0 \r\nL 469 531 \r\nQ 828 903 1448 1529 \r\nQ 2069 2156 2228 2338 \r\nQ 2531 2678 2651 2914 \r\nQ 2772 3150 2772 3378 \r\nQ 2772 3750 2511 3984 \r\nQ 2250 4219 1831 4219 \r\nQ 1534 4219 1204 4116 \r\nQ 875 4013 500 3803 \r\nL 500 4441 \r\nQ 881 4594 1212 4672 \r\nQ 1544 4750 1819 4750 \r\nQ 2544 4750 2975 4387 \r\nQ 3406 4025 3406 3419 \r\nQ 3406 3131 3298 2873 \r\nQ 3191 2616 2906 2266 \r\nQ 2828 2175 2409 1742 \r\nQ 1991 1309 1228 531 \r\nz\r\n\" id=\"DejaVuSans-32\" transform=\"scale(0.015625)\"/>\r\n       </defs>\r\n       <use xlink:href=\"#DejaVuSans-32\"/>\r\n       <use x=\"63.623047\" xlink:href=\"#DejaVuSans-30\"/>\r\n       <use x=\"127.246094\" xlink:href=\"#DejaVuSans-30\"/>\r\n       <use x=\"190.869141\" xlink:href=\"#DejaVuSans-30\"/>\r\n       <use x=\"254.492188\" xlink:href=\"#DejaVuSans-30\"/>\r\n      </g>\r\n     </g>\r\n    </g>\r\n    <g id=\"ytick_6\">\r\n     <g id=\"line2d_9\">\r\n      <g>\r\n       <use style=\"stroke:#000000;stroke-width:0.8;\" x=\"59.690625\" xlink:href=\"#mbfcb3438ea\" y=\"86.247024\"/>\r\n      </g>\r\n     </g>\r\n     <g id=\"text_10\">\r\n      <!-- 25000 -->\r\n      <g transform=\"translate(20.878125 90.046242)scale(0.1 -0.1)\">\r\n       <use xlink:href=\"#DejaVuSans-32\"/>\r\n       <use x=\"63.623047\" xlink:href=\"#DejaVuSans-35\"/>\r\n       <use x=\"127.246094\" xlink:href=\"#DejaVuSans-30\"/>\r\n       <use x=\"190.869141\" xlink:href=\"#DejaVuSans-30\"/>\r\n       <use x=\"254.492188\" xlink:href=\"#DejaVuSans-30\"/>\r\n      </g>\r\n     </g>\r\n    </g>\r\n    <g id=\"ytick_7\">\r\n     <g id=\"line2d_10\">\r\n      <g>\r\n       <use style=\"stroke:#000000;stroke-width:0.8;\" x=\"59.690625\" xlink:href=\"#mbfcb3438ea\" y=\"58.568428\"/>\r\n      </g>\r\n     </g>\r\n     <g id=\"text_11\">\r\n      <!-- 30000 -->\r\n      <g transform=\"translate(20.878125 62.367647)scale(0.1 -0.1)\">\r\n       <defs>\r\n        <path d=\"M 2597 2516 \r\nQ 3050 2419 3304 2112 \r\nQ 3559 1806 3559 1356 \r\nQ 3559 666 3084 287 \r\nQ 2609 -91 1734 -91 \r\nQ 1441 -91 1130 -33 \r\nQ 819 25 488 141 \r\nL 488 750 \r\nQ 750 597 1062 519 \r\nQ 1375 441 1716 441 \r\nQ 2309 441 2620 675 \r\nQ 2931 909 2931 1356 \r\nQ 2931 1769 2642 2001 \r\nQ 2353 2234 1838 2234 \r\nL 1294 2234 \r\nL 1294 2753 \r\nL 1863 2753 \r\nQ 2328 2753 2575 2939 \r\nQ 2822 3125 2822 3475 \r\nQ 2822 3834 2567 4026 \r\nQ 2313 4219 1838 4219 \r\nQ 1578 4219 1281 4162 \r\nQ 984 4106 628 3988 \r\nL 628 4550 \r\nQ 988 4650 1302 4700 \r\nQ 1616 4750 1894 4750 \r\nQ 2613 4750 3031 4423 \r\nQ 3450 4097 3450 3541 \r\nQ 3450 3153 3228 2886 \r\nQ 3006 2619 2597 2516 \r\nz\r\n\" id=\"DejaVuSans-33\" transform=\"scale(0.015625)\"/>\r\n       </defs>\r\n       <use xlink:href=\"#DejaVuSans-33\"/>\r\n       <use x=\"63.623047\" xlink:href=\"#DejaVuSans-30\"/>\r\n       <use x=\"127.246094\" xlink:href=\"#DejaVuSans-30\"/>\r\n       <use x=\"190.869141\" xlink:href=\"#DejaVuSans-30\"/>\r\n       <use x=\"254.492188\" xlink:href=\"#DejaVuSans-30\"/>\r\n      </g>\r\n     </g>\r\n    </g>\r\n    <g id=\"ytick_8\">\r\n     <g id=\"line2d_11\">\r\n      <g>\r\n       <use style=\"stroke:#000000;stroke-width:0.8;\" x=\"59.690625\" xlink:href=\"#mbfcb3438ea\" y=\"30.889833\"/>\r\n      </g>\r\n     </g>\r\n     <g id=\"text_12\">\r\n      <!-- 35000 -->\r\n      <g transform=\"translate(20.878125 34.689052)scale(0.1 -0.1)\">\r\n       <use xlink:href=\"#DejaVuSans-33\"/>\r\n       <use x=\"63.623047\" xlink:href=\"#DejaVuSans-35\"/>\r\n       <use x=\"127.246094\" xlink:href=\"#DejaVuSans-30\"/>\r\n       <use x=\"190.869141\" xlink:href=\"#DejaVuSans-30\"/>\r\n       <use x=\"254.492188\" xlink:href=\"#DejaVuSans-30\"/>\r\n      </g>\r\n     </g>\r\n    </g>\r\n    <g id=\"text_13\">\r\n     <!-- count -->\r\n     <g transform=\"translate(14.798438 130.02625)rotate(-90)scale(0.1 -0.1)\">\r\n      <defs>\r\n       <path d=\"M 3122 3366 \r\nL 3122 2828 \r\nQ 2878 2963 2633 3030 \r\nQ 2388 3097 2138 3097 \r\nQ 1578 3097 1268 2742 \r\nQ 959 2388 959 1747 \r\nQ 959 1106 1268 751 \r\nQ 1578 397 2138 397 \r\nQ 2388 397 2633 464 \r\nQ 2878 531 3122 666 \r\nL 3122 134 \r\nQ 2881 22 2623 -34 \r\nQ 2366 -91 2075 -91 \r\nQ 1284 -91 818 406 \r\nQ 353 903 353 1747 \r\nQ 353 2603 823 3093 \r\nQ 1294 3584 2113 3584 \r\nQ 2378 3584 2631 3529 \r\nQ 2884 3475 3122 3366 \r\nz\r\n\" id=\"DejaVuSans-63\" transform=\"scale(0.015625)\"/>\r\n       <path d=\"M 544 1381 \r\nL 544 3500 \r\nL 1119 3500 \r\nL 1119 1403 \r\nQ 1119 906 1312 657 \r\nQ 1506 409 1894 409 \r\nQ 2359 409 2629 706 \r\nQ 2900 1003 2900 1516 \r\nL 2900 3500 \r\nL 3475 3500 \r\nL 3475 0 \r\nL 2900 0 \r\nL 2900 538 \r\nQ 2691 219 2414 64 \r\nQ 2138 -91 1772 -91 \r\nQ 1169 -91 856 284 \r\nQ 544 659 544 1381 \r\nz\r\nM 1991 3584 \r\nL 1991 3584 \r\nz\r\n\" id=\"DejaVuSans-75\" transform=\"scale(0.015625)\"/>\r\n       <path d=\"M 1172 4494 \r\nL 1172 3500 \r\nL 2356 3500 \r\nL 2356 3053 \r\nL 1172 3053 \r\nL 1172 1153 \r\nQ 1172 725 1289 603 \r\nQ 1406 481 1766 481 \r\nL 2356 481 \r\nL 2356 0 \r\nL 1766 0 \r\nQ 1100 0 847 248 \r\nQ 594 497 594 1153 \r\nL 594 3053 \r\nL 172 3053 \r\nL 172 3500 \r\nL 594 3500 \r\nL 594 4494 \r\nL 1172 4494 \r\nz\r\n\" id=\"DejaVuSans-74\" transform=\"scale(0.015625)\"/>\r\n      </defs>\r\n      <use xlink:href=\"#DejaVuSans-63\"/>\r\n      <use x=\"54.980469\" xlink:href=\"#DejaVuSans-6f\"/>\r\n      <use x=\"116.162109\" xlink:href=\"#DejaVuSans-75\"/>\r\n      <use x=\"179.541016\" xlink:href=\"#DejaVuSans-6e\"/>\r\n      <use x=\"242.919922\" xlink:href=\"#DejaVuSans-74\"/>\r\n     </g>\r\n    </g>\r\n   </g>\r\n   <g id=\"patch_6\">\r\n    <path d=\"M 59.690625 224.64 \r\nL 59.690625 7.2 \r\n\" style=\"fill:none;stroke:#000000;stroke-linecap:square;stroke-linejoin:miter;stroke-width:0.8;\"/>\r\n   </g>\r\n   <g id=\"patch_7\">\r\n    <path d=\"M 394.490625 224.64 \r\nL 394.490625 7.2 \r\n\" style=\"fill:none;stroke:#000000;stroke-linecap:square;stroke-linejoin:miter;stroke-width:0.8;\"/>\r\n   </g>\r\n   <g id=\"patch_8\">\r\n    <path d=\"M 59.690625 224.64 \r\nL 394.490625 224.64 \r\n\" style=\"fill:none;stroke:#000000;stroke-linecap:square;stroke-linejoin:miter;stroke-width:0.8;\"/>\r\n   </g>\r\n   <g id=\"patch_9\">\r\n    <path d=\"M 59.690625 7.2 \r\nL 394.490625 7.2 \r\n\" style=\"fill:none;stroke:#000000;stroke-linecap:square;stroke-linejoin:miter;stroke-width:0.8;\"/>\r\n   </g>\r\n  </g>\r\n </g>\r\n <defs>\r\n  <clipPath id=\"p80df6eb9dd\">\r\n   <rect height=\"217.44\" width=\"334.8\" x=\"59.690625\" y=\"7.2\"/>\r\n  </clipPath>\r\n </defs>\r\n</svg>\r\n",
      "image/png": "[encoded data removed]"
     },
     "metadata": {
      "needs_background": "light"
     }
    }
   ],
   "source": [
    "sns.countplot(x=\"keyword\", data=eng_df, order=['asos', 'boohoo', 'zalando'])"
   ]
  },
  {
   "source": [
    "# Functions for cleaning tweets"
   ],
   "cell_type": "markdown",
   "metadata": {}
  },
  {
   "cell_type": "code",
   "execution_count": 67,
   "metadata": {},
   "outputs": [],
   "source": [
    "def clean_complete(tweet):\n",
    "    \"\"\"\n",
    "    tweet: pandas series\n",
    "    prepares tweets complete cleaning for further lemmatization and dering embeddings\n",
    "    \"\"\"\n",
    "    pat = r\"(\\\\n)|(@\\w*)|((www\\.[^\\s]+)|(https?://[^\\s]+))\"\n",
    "    tweet = tweet.str.replace(pat, '')\n",
    "\n",
    "    #remove repeated charachters\n",
    "    \n",
    "    #replace emoticons with words\n",
    "    #SMILEYS = {\":-(\":\"sad\", \":‑)\":\"smiley\", \":-P\":\"playfullness\", \":-/\":'confused'}\n",
    "\n",
    "    tweet = tweet.str.replace(r':-\\)', ' smile')\n",
    "    tweet = tweet.str.replace(r':-\\(', ' sad')\n",
    "    tweet = tweet.str.replace(r':-\\/', ' confused')\n",
    "    tweet = tweet.str.replace(r':-P', ' playfullness')\n",
    "\n",
    "    #delete \\xa\n",
    "    tweet = tweet.str.replace('\\xa0', '')\n",
    "\n",
    "    tweet = tweet.str.replace('&amp', '')\n",
    "    tweet = tweet.str.replace('\\n', '')\n",
    "    tweet = tweet.str.replace('\"', '')\n",
    "    tweet = tweet.str.replace('ℐℓ٥ﻻﻉ√٥υ', '')\n",
    "    \n",
    "    #to lower case\n",
    "    tweet = tweet.str.lower()\n",
    "\n",
    "    #covert hashtags to the normal text\n",
    "    tweet = tweet.str.replace(r'#([^\\s]+)', r'\\1')\n",
    "\n",
    "    #delete numbers\n",
    "    tweet = [strip_numeric(c) for c in tweet]\n",
    "\n",
    "    #replacing emojies with descriptions '❤️-> red heart'\n",
    "    #tweet = [demoji.replace_with_desc(c, ' ') for c in tweet]\n",
    "\n",
    "    #replacing emojies with ''\n",
    "    tweet = [demoji.replace(c, ' ') for c in tweet]\n",
    "\n",
    "    #delete punctuation\n",
    "    tweet = [strip_punctuation(c) for c in tweet]\n",
    "\n",
    "    #remove stop words\n",
    "    tweet = [remove_stopwords(c) for c in tweet]\n",
    "\n",
    "    #remove short words\n",
    "    tweet = [strip_short(c) for c in tweet]\n",
    "\n",
    "    #remove mult whitespaces\n",
    "    tweet = [strip_multiple_whitespaces(c) for c in tweet]\n",
    "    return tweet\n"
   ]
  },
  {
   "cell_type": "code",
   "execution_count": 16,
   "metadata": {},
   "outputs": [],
   "source": [
    "def clean_vader(tweet):\n",
    "    \"\"\"\n",
    "    tweet: pandas series\n",
    "    prepares tweets for vader sentiment analysis\n",
    "    \"\"\"\n",
    "\n",
    "    pat = r\"(\\\\n)|(@\\w*)|((www\\.[^\\s]+)|(https?://[^\\s]+))\"\n",
    "    tweet = tweet.str.replace(pat, '')\n",
    "\n",
    "    #replace emoticons with words\n",
    "    #SMILEYS = {\":-(\":\"sad\", \":‑)\":\"smiley\", \":-P\":\"playfullness\", \":-/\":'confused'}\n",
    "\n",
    "    #tweet = tweet.str.replace(r':-\\)', ' smile')\n",
    "    #tweet = tweet.str.replace(r':-\\(', ' sad')\n",
    "    #tweet = tweet.str.replace(r':-\\/', ' confused')\n",
    "    #tweet = tweet.str.replace(r':-P', ' playfullness')\n",
    "\n",
    "    #delete \\xa\n",
    "    tweet = tweet.str.replace('\\xa0', '')\n",
    "\n",
    "    tweet = tweet.str.replace('&amp', '')\n",
    "    tweet = tweet.str.replace('\\n', '')\n",
    "\n",
    "    #to lower case\n",
    "    #tweet = tweet.str.lower()\n",
    "\n",
    "    #covert hashtags to the normal text\n",
    "    tweet = tweet.str.replace(r'#([^\\s]+)', r'\\1')\n",
    "\n",
    "    #delete numbers\n",
    "    tweet = [strip_numeric(c) for c in tweet]\n",
    "\n",
    "    #replacing emojies with descriptions '❤️-> red heart'\n",
    "    #tweet = [demoji.replace_with_desc(c, ' ') for c in tweet]\n",
    "\n",
    "    #delete punctuation\n",
    "    #tweet = [strip_punctuation(c) for c in tweet]\n",
    "\n",
    "    #remove stop words\n",
    "    #tweet = [remove_stopwords(c) for c in tweet]\n",
    "\n",
    "    #remove short words\n",
    "    tweet = [strip_short(c) for c in tweet]\n",
    "\n",
    "    #remove mult whitespaces\n",
    "    tweet = [strip_multiple_whitespaces(c) for c in tweet]\n",
    "    return tweet\n"
   ]
  },
  {
   "source": [
    "# Applying cleaning"
   ],
   "cell_type": "markdown",
   "metadata": {}
  },
  {
   "cell_type": "code",
   "execution_count": 68,
   "metadata": {},
   "outputs": [
    {
     "output_type": "stream",
     "name": "stderr",
     "text": [
      "C:\\Anaconda\\envs\\uni\\lib\\site-packages\\ipykernel_launcher.py:7: FutureWarning: The default value of regex will change from True to False in a future version.\n",
      "  import sys\n",
      "C:\\Anaconda\\envs\\uni\\lib\\site-packages\\ipykernel_launcher.py:14: FutureWarning: The default value of regex will change from True to False in a future version.\n",
      "  \n",
      "C:\\Anaconda\\envs\\uni\\lib\\site-packages\\ipykernel_launcher.py:15: FutureWarning: The default value of regex will change from True to False in a future version.\n",
      "  from ipykernel import kernelapp as app\n",
      "C:\\Anaconda\\envs\\uni\\lib\\site-packages\\ipykernel_launcher.py:16: FutureWarning: The default value of regex will change from True to False in a future version.\n",
      "  app.launch_new_instance()\n",
      "C:\\Anaconda\\envs\\uni\\lib\\site-packages\\ipykernel_launcher.py:31: FutureWarning: The default value of regex will change from True to False in a future version.\n"
     ]
    },
    {
     "output_type": "execute_result",
     "data": {
      "text/plain": [
       "   index              user_id  user_statuses             name  \\\n",
       "0      0   819101311715131392             77      Ali09685762   \n",
       "1      1  1189512849472643072            105       Labellerr1   \n",
       "2      2           2837691996            270  puneetjindalisb   \n",
       "3      3  1125728513666048000           9604    DommeLineCoUk   \n",
       "4      4           2614256724          35470         medboyUK   \n",
       "\n",
       "                                               tweet  retweets  \\\n",
       "0            @Zalando give me my money you owe me!!!         0   \n",
       "1  #VirtualStyling and try-on increases the conve...         0   \n",
       "2  #VirtualStyling and try-on increases the conve...         0   \n",
       "3  @missbellalugosi @Zalando Problem starts at Ad...         0   \n",
       "4  @missbellalugosi @Zalando Welcome to my world ...         0   \n",
       "\n",
       "            location      created  followers  is_user_verified  \\\n",
       "0                     07-Mar-2021          6             False   \n",
       "1         chandigarh  06-Mar-2021         18             False   \n",
       "2  Chandigarh, India  06-Mar-2021        149             False   \n",
       "3                     06-Mar-2021       2193             False   \n",
       "4  West Midlands, UK  06-Mar-2021       2503             False   \n",
       "\n",
       "   favorite_count  in_reply_to_status_id  keyword language  \\\n",
       "0             0.0                    NaN  zalando       en   \n",
       "1             0.0                    NaN  zalando       en   \n",
       "2             0.0                    NaN  zalando       en   \n",
       "3             1.0           1.368196e+18  zalando       en   \n",
       "4             1.0           1.368196e+18  zalando       en   \n",
       "\n",
       "                                               clean  \\\n",
       "0                                          money owe   \n",
       "1  virtualstyling try increases conversion rate l...   \n",
       "2  virtualstyling try increases conversion rate l...   \n",
       "3       problem starts adidas selling latex websites   \n",
       "4                     welcome world sneering disdain   \n",
       "\n",
       "                                         clean_vader  compound  \\\n",
       "0                           give money you owe me!!!    0.0000   \n",
       "1  VirtualStyling and try-on increases the conver...    0.7650   \n",
       "2  VirtualStyling and try-on increases the conver...    0.7650   \n",
       "3  Problem starts Adidas. They're selling latex t...   -0.4019   \n",
       "4                Welcome world sneering and disdain!   -0.1007   \n",
       "\n",
       "                                               lemma  \n",
       "0                                          money owe  \n",
       "1  virtualstyle try increase conversion rate larg...  \n",
       "2  virtualstyle try increase conversion rate larg...  \n",
       "3             problem start adida sell latex website  \n",
       "4                        welcome world sneer disdain  "
      ],
      "text/html": "<div>\n<style scoped>\n    .dataframe tbody tr th:only-of-type {\n        vertical-align: middle;\n    }\n\n    .dataframe tbody tr th {\n        vertical-align: top;\n    }\n\n    .dataframe thead th {\n        text-align: right;\n    }\n</style>\n<table border=\"1\" class=\"dataframe\">\n  <thead>\n    <tr style=\"text-align: right;\">\n      <th></th>\n      <th>index</th>\n      <th>user_id</th>\n      <th>user_statuses</th>\n      <th>name</th>\n      <th>tweet</th>\n      <th>retweets</th>\n      <th>location</th>\n      <th>created</th>\n      <th>followers</th>\n      <th>is_user_verified</th>\n      <th>favorite_count</th>\n      <th>in_reply_to_status_id</th>\n      <th>keyword</th>\n      <th>language</th>\n      <th>clean</th>\n      <th>clean_vader</th>\n      <th>compound</th>\n      <th>lemma</th>\n    </tr>\n  </thead>\n  <tbody>\n    <tr>\n      <th>0</th>\n      <td>0</td>\n      <td>819101311715131392</td>\n      <td>77</td>\n      <td>Ali09685762</td>\n      <td>@Zalando give me my money you owe me!!!</td>\n      <td>0</td>\n      <td></td>\n      <td>07-Mar-2021</td>\n      <td>6</td>\n      <td>False</td>\n      <td>0.0</td>\n      <td>NaN</td>\n      <td>zalando</td>\n      <td>en</td>\n      <td>money owe</td>\n      <td>give money you owe me!!!</td>\n      <td>0.0000</td>\n      <td>money owe</td>\n    </tr>\n    <tr>\n      <th>1</th>\n      <td>1</td>\n      <td>1189512849472643072</td>\n      <td>105</td>\n      <td>Labellerr1</td>\n      <td>#VirtualStyling and try-on increases the conve...</td>\n      <td>0</td>\n      <td>chandigarh</td>\n      <td>06-Mar-2021</td>\n      <td>18</td>\n      <td>False</td>\n      <td>0.0</td>\n      <td>NaN</td>\n      <td>zalando</td>\n      <td>en</td>\n      <td>virtualstyling try increases conversion rate l...</td>\n      <td>VirtualStyling and try-on increases the conver...</td>\n      <td>0.7650</td>\n      <td>virtualstyle try increase conversion rate larg...</td>\n    </tr>\n    <tr>\n      <th>2</th>\n      <td>2</td>\n      <td>2837691996</td>\n      <td>270</td>\n      <td>puneetjindalisb</td>\n      <td>#VirtualStyling and try-on increases the conve...</td>\n      <td>0</td>\n      <td>Chandigarh, India</td>\n      <td>06-Mar-2021</td>\n      <td>149</td>\n      <td>False</td>\n      <td>0.0</td>\n      <td>NaN</td>\n      <td>zalando</td>\n      <td>en</td>\n      <td>virtualstyling try increases conversion rate l...</td>\n      <td>VirtualStyling and try-on increases the conver...</td>\n      <td>0.7650</td>\n      <td>virtualstyle try increase conversion rate larg...</td>\n    </tr>\n    <tr>\n      <th>3</th>\n      <td>3</td>\n      <td>1125728513666048000</td>\n      <td>9604</td>\n      <td>DommeLineCoUk</td>\n      <td>@missbellalugosi @Zalando Problem starts at Ad...</td>\n      <td>0</td>\n      <td></td>\n      <td>06-Mar-2021</td>\n      <td>2193</td>\n      <td>False</td>\n      <td>1.0</td>\n      <td>1.368196e+18</td>\n      <td>zalando</td>\n      <td>en</td>\n      <td>problem starts adidas selling latex websites</td>\n      <td>Problem starts Adidas. They're selling latex t...</td>\n      <td>-0.4019</td>\n      <td>problem start adida sell latex website</td>\n    </tr>\n    <tr>\n      <th>4</th>\n      <td>4</td>\n      <td>2614256724</td>\n      <td>35470</td>\n      <td>medboyUK</td>\n      <td>@missbellalugosi @Zalando Welcome to my world ...</td>\n      <td>0</td>\n      <td>West Midlands, UK</td>\n      <td>06-Mar-2021</td>\n      <td>2503</td>\n      <td>False</td>\n      <td>1.0</td>\n      <td>1.368196e+18</td>\n      <td>zalando</td>\n      <td>en</td>\n      <td>welcome world sneering disdain</td>\n      <td>Welcome world sneering and disdain!</td>\n      <td>-0.1007</td>\n      <td>welcome world sneer disdain</td>\n    </tr>\n  </tbody>\n</table>\n</div>"
     },
     "metadata": {},
     "execution_count": 68
    }
   ],
   "source": [
    "eng_df['clean'] = clean_complete(eng_df.tweet)\n",
    "eng_df.head()"
   ]
  },
  {
   "cell_type": "code",
   "execution_count": 18,
   "metadata": {},
   "outputs": [
    {
     "output_type": "stream",
     "name": "stderr",
     "text": [
      "C:\\Anaconda\\envs\\uni\\lib\\site-packages\\ipykernel_launcher.py:8: FutureWarning: The default value of regex will change from True to False in a future version.\n",
      "  \n",
      "C:\\Anaconda\\envs\\uni\\lib\\site-packages\\ipykernel_launcher.py:28: FutureWarning: The default value of regex will change from True to False in a future version.\n"
     ]
    },
    {
     "output_type": "execute_result",
     "data": {
      "text/plain": [
       "   index              user_id  user_statuses             name  \\\n",
       "0      0   819101311715131392             77      Ali09685762   \n",
       "1      1  1189512849472643072            105       Labellerr1   \n",
       "2      2           2837691996            270  puneetjindalisb   \n",
       "3      3  1125728513666048000           9604    DommeLineCoUk   \n",
       "4      4           2614256724          35470         medboyUK   \n",
       "\n",
       "                                               tweet  retweets  \\\n",
       "0            @Zalando give me my money you owe me!!!         0   \n",
       "1  #VirtualStyling and try-on increases the conve...         0   \n",
       "2  #VirtualStyling and try-on increases the conve...         0   \n",
       "3  @missbellalugosi @Zalando Problem starts at Ad...         0   \n",
       "4  @missbellalugosi @Zalando Welcome to my world ...         0   \n",
       "\n",
       "            location      created  followers  is_user_verified  \\\n",
       "0                     07-Mar-2021          6             False   \n",
       "1         chandigarh  06-Mar-2021         18             False   \n",
       "2  Chandigarh, India  06-Mar-2021        149             False   \n",
       "3                     06-Mar-2021       2193             False   \n",
       "4  West Midlands, UK  06-Mar-2021       2503             False   \n",
       "\n",
       "   favorite_count  in_reply_to_status_id  keyword language  \\\n",
       "0             0.0                    NaN  zalando       en   \n",
       "1             0.0                    NaN  zalando       en   \n",
       "2             0.0                    NaN  zalando       en   \n",
       "3             1.0           1.368196e+18  zalando       en   \n",
       "4             1.0           1.368196e+18  zalando       en   \n",
       "\n",
       "                                               clean  \\\n",
       "0                                          money owe   \n",
       "1  virtualstyling try increases conversion rate l...   \n",
       "2  virtualstyling try increases conversion rate l...   \n",
       "3       problem starts adidas selling latex websites   \n",
       "4                     welcome world sneering disdain   \n",
       "\n",
       "                                         clean_vader  \n",
       "0                           give money you owe me!!!  \n",
       "1  VirtualStyling and try-on increases the conver...  \n",
       "2  VirtualStyling and try-on increases the conver...  \n",
       "3  Problem starts Adidas. They're selling latex t...  \n",
       "4                Welcome world sneering and disdain!  "
      ],
      "text/html": "<div>\n<style scoped>\n    .dataframe tbody tr th:only-of-type {\n        vertical-align: middle;\n    }\n\n    .dataframe tbody tr th {\n        vertical-align: top;\n    }\n\n    .dataframe thead th {\n        text-align: right;\n    }\n</style>\n<table border=\"1\" class=\"dataframe\">\n  <thead>\n    <tr style=\"text-align: right;\">\n      <th></th>\n      <th>index</th>\n      <th>user_id</th>\n      <th>user_statuses</th>\n      <th>name</th>\n      <th>tweet</th>\n      <th>retweets</th>\n      <th>location</th>\n      <th>created</th>\n      <th>followers</th>\n      <th>is_user_verified</th>\n      <th>favorite_count</th>\n      <th>in_reply_to_status_id</th>\n      <th>keyword</th>\n      <th>language</th>\n      <th>clean</th>\n      <th>clean_vader</th>\n    </tr>\n  </thead>\n  <tbody>\n    <tr>\n      <th>0</th>\n      <td>0</td>\n      <td>819101311715131392</td>\n      <td>77</td>\n      <td>Ali09685762</td>\n      <td>@Zalando give me my money you owe me!!!</td>\n      <td>0</td>\n      <td></td>\n      <td>07-Mar-2021</td>\n      <td>6</td>\n      <td>False</td>\n      <td>0.0</td>\n      <td>NaN</td>\n      <td>zalando</td>\n      <td>en</td>\n      <td>money owe</td>\n      <td>give money you owe me!!!</td>\n    </tr>\n    <tr>\n      <th>1</th>\n      <td>1</td>\n      <td>1189512849472643072</td>\n      <td>105</td>\n      <td>Labellerr1</td>\n      <td>#VirtualStyling and try-on increases the conve...</td>\n      <td>0</td>\n      <td>chandigarh</td>\n      <td>06-Mar-2021</td>\n      <td>18</td>\n      <td>False</td>\n      <td>0.0</td>\n      <td>NaN</td>\n      <td>zalando</td>\n      <td>en</td>\n      <td>virtualstyling try increases conversion rate l...</td>\n      <td>VirtualStyling and try-on increases the conver...</td>\n    </tr>\n    <tr>\n      <th>2</th>\n      <td>2</td>\n      <td>2837691996</td>\n      <td>270</td>\n      <td>puneetjindalisb</td>\n      <td>#VirtualStyling and try-on increases the conve...</td>\n      <td>0</td>\n      <td>Chandigarh, India</td>\n      <td>06-Mar-2021</td>\n      <td>149</td>\n      <td>False</td>\n      <td>0.0</td>\n      <td>NaN</td>\n      <td>zalando</td>\n      <td>en</td>\n      <td>virtualstyling try increases conversion rate l...</td>\n      <td>VirtualStyling and try-on increases the conver...</td>\n    </tr>\n    <tr>\n      <th>3</th>\n      <td>3</td>\n      <td>1125728513666048000</td>\n      <td>9604</td>\n      <td>DommeLineCoUk</td>\n      <td>@missbellalugosi @Zalando Problem starts at Ad...</td>\n      <td>0</td>\n      <td></td>\n      <td>06-Mar-2021</td>\n      <td>2193</td>\n      <td>False</td>\n      <td>1.0</td>\n      <td>1.368196e+18</td>\n      <td>zalando</td>\n      <td>en</td>\n      <td>problem starts adidas selling latex websites</td>\n      <td>Problem starts Adidas. They're selling latex t...</td>\n    </tr>\n    <tr>\n      <th>4</th>\n      <td>4</td>\n      <td>2614256724</td>\n      <td>35470</td>\n      <td>medboyUK</td>\n      <td>@missbellalugosi @Zalando Welcome to my world ...</td>\n      <td>0</td>\n      <td>West Midlands, UK</td>\n      <td>06-Mar-2021</td>\n      <td>2503</td>\n      <td>False</td>\n      <td>1.0</td>\n      <td>1.368196e+18</td>\n      <td>zalando</td>\n      <td>en</td>\n      <td>welcome world sneering disdain</td>\n      <td>Welcome world sneering and disdain!</td>\n    </tr>\n  </tbody>\n</table>\n</div>"
     },
     "metadata": {},
     "execution_count": 18
    }
   ],
   "source": [
    "eng_df['clean_vader'] = clean_vader(eng_df.tweet)\n",
    "eng_df.head()"
   ]
  },
  {
   "source": [
    "# get sentiment analysis"
   ],
   "cell_type": "markdown",
   "metadata": {}
  },
  {
   "cell_type": "code",
   "execution_count": 20,
   "metadata": {},
   "outputs": [],
   "source": [
    "#Vater sentiment analyzer\n",
    "#The Compound score is a metric that calculates the sum of all the lexicon ratings which have been normalized between -1(most extreme negative) and +1 (most extreme positive).\n",
    "sid_obj = SentimentIntensityAnalyzer()\n",
    "eng_df['compound'] = [sid_obj.polarity_scores(c)['compound'] for c in eng_df['clean_vader']]"
   ]
  },
  {
   "cell_type": "code",
   "execution_count": 21,
   "metadata": {},
   "outputs": [
    {
     "output_type": "stream",
     "name": "stdout",
     "text": [
      "           compound\n",
      "count  65417.000000\n",
      "mean       0.128237\n",
      "std        0.461275\n",
      "min       -0.999900\n",
      "25%        0.000000\n",
      "50%        0.000000\n",
      "75%        0.493900\n",
      "max        0.999900\n"
     ]
    }
   ],
   "source": [
    "print(eng_df[['clean_vader', 'compound']].describe())"
   ]
  },
  {
   "source": [
    "# Lemmatization"
   ],
   "cell_type": "markdown",
   "metadata": {}
  },
  {
   "cell_type": "code",
   "execution_count": 22,
   "metadata": {},
   "outputs": [],
   "source": [
    "def lemmatize(tweet):\n",
    "    '''\n",
    "    tweet: pandas series\n",
    "    should be applied on the cleaned tweets to transform words to their initial base form.\n",
    "    For example: suggests -> suggest, deliveries -> delivery\n",
    "    '''\n",
    "    nlp = spacy.load(\"en_core_web_sm\")\n",
    "    tweet = [nlp(c) for c in tweet]\n",
    "    tweet = [\" \".join([token.lemma_ for token in t]) for t in tweet]\n",
    "    return tweet"
   ]
  },
  {
   "cell_type": "code",
   "execution_count": 52,
   "metadata": {},
   "outputs": [],
   "source": [
    "eng_df['lemma'] = lemmatize(eng_df.clean)"
   ]
  },
  {
   "cell_type": "code",
   "execution_count": 36,
   "metadata": {},
   "outputs": [
    {
     "output_type": "execute_result",
     "data": {
      "text/plain": [
       "   index              user_id  user_statuses             name  \\\n",
       "0      0   819101311715131392             77      Ali09685762   \n",
       "1      1  1189512849472643072            105       Labellerr1   \n",
       "2      2           2837691996            270  puneetjindalisb   \n",
       "3      3  1125728513666048000           9604    DommeLineCoUk   \n",
       "4      4           2614256724          35470         medboyUK   \n",
       "\n",
       "                                               tweet  retweets  \\\n",
       "0            @Zalando give me my money you owe me!!!         0   \n",
       "1  #VirtualStyling and try-on increases the conve...         0   \n",
       "2  #VirtualStyling and try-on increases the conve...         0   \n",
       "3  @missbellalugosi @Zalando Problem starts at Ad...         0   \n",
       "4  @missbellalugosi @Zalando Welcome to my world ...         0   \n",
       "\n",
       "            location      created  followers  is_user_verified  \\\n",
       "0                     07-Mar-2021          6             False   \n",
       "1         chandigarh  06-Mar-2021         18             False   \n",
       "2  Chandigarh, India  06-Mar-2021        149             False   \n",
       "3                     06-Mar-2021       2193             False   \n",
       "4  West Midlands, UK  06-Mar-2021       2503             False   \n",
       "\n",
       "   favorite_count  in_reply_to_status_id  keyword language  \\\n",
       "0             0.0                    NaN  zalando       en   \n",
       "1             0.0                    NaN  zalando       en   \n",
       "2             0.0                    NaN  zalando       en   \n",
       "3             1.0           1.368196e+18  zalando       en   \n",
       "4             1.0           1.368196e+18  zalando       en   \n",
       "\n",
       "                                               clean  \\\n",
       "0                                          money owe   \n",
       "1  virtualstyling try increases conversion rate l...   \n",
       "2  virtualstyling try increases conversion rate l...   \n",
       "3       problem starts adidas selling latex websites   \n",
       "4                     welcome world sneering disdain   \n",
       "\n",
       "                                         clean_vader  compound  \\\n",
       "0                           give money you owe me!!!    0.0000   \n",
       "1  VirtualStyling and try-on increases the conver...    0.7650   \n",
       "2  VirtualStyling and try-on increases the conver...    0.7650   \n",
       "3  Problem starts Adidas. They're selling latex t...   -0.4019   \n",
       "4                Welcome world sneering and disdain!   -0.1007   \n",
       "\n",
       "                                               lemma  \n",
       "0                                          money owe  \n",
       "1  virtualstyle try increase conversion rate larg...  \n",
       "2  virtualstyle try increase conversion rate larg...  \n",
       "3             problem start adida sell latex website  \n",
       "4                        welcome world sneer disdain  "
      ],
      "text/html": "<div>\n<style scoped>\n    .dataframe tbody tr th:only-of-type {\n        vertical-align: middle;\n    }\n\n    .dataframe tbody tr th {\n        vertical-align: top;\n    }\n\n    .dataframe thead th {\n        text-align: right;\n    }\n</style>\n<table border=\"1\" class=\"dataframe\">\n  <thead>\n    <tr style=\"text-align: right;\">\n      <th></th>\n      <th>index</th>\n      <th>user_id</th>\n      <th>user_statuses</th>\n      <th>name</th>\n      <th>tweet</th>\n      <th>retweets</th>\n      <th>location</th>\n      <th>created</th>\n      <th>followers</th>\n      <th>is_user_verified</th>\n      <th>favorite_count</th>\n      <th>in_reply_to_status_id</th>\n      <th>keyword</th>\n      <th>language</th>\n      <th>clean</th>\n      <th>clean_vader</th>\n      <th>compound</th>\n      <th>lemma</th>\n    </tr>\n  </thead>\n  <tbody>\n    <tr>\n      <th>0</th>\n      <td>0</td>\n      <td>819101311715131392</td>\n      <td>77</td>\n      <td>Ali09685762</td>\n      <td>@Zalando give me my money you owe me!!!</td>\n      <td>0</td>\n      <td></td>\n      <td>07-Mar-2021</td>\n      <td>6</td>\n      <td>False</td>\n      <td>0.0</td>\n      <td>NaN</td>\n      <td>zalando</td>\n      <td>en</td>\n      <td>money owe</td>\n      <td>give money you owe me!!!</td>\n      <td>0.0000</td>\n      <td>money owe</td>\n    </tr>\n    <tr>\n      <th>1</th>\n      <td>1</td>\n      <td>1189512849472643072</td>\n      <td>105</td>\n      <td>Labellerr1</td>\n      <td>#VirtualStyling and try-on increases the conve...</td>\n      <td>0</td>\n      <td>chandigarh</td>\n      <td>06-Mar-2021</td>\n      <td>18</td>\n      <td>False</td>\n      <td>0.0</td>\n      <td>NaN</td>\n      <td>zalando</td>\n      <td>en</td>\n      <td>virtualstyling try increases conversion rate l...</td>\n      <td>VirtualStyling and try-on increases the conver...</td>\n      <td>0.7650</td>\n      <td>virtualstyle try increase conversion rate larg...</td>\n    </tr>\n    <tr>\n      <th>2</th>\n      <td>2</td>\n      <td>2837691996</td>\n      <td>270</td>\n      <td>puneetjindalisb</td>\n      <td>#VirtualStyling and try-on increases the conve...</td>\n      <td>0</td>\n      <td>Chandigarh, India</td>\n      <td>06-Mar-2021</td>\n      <td>149</td>\n      <td>False</td>\n      <td>0.0</td>\n      <td>NaN</td>\n      <td>zalando</td>\n      <td>en</td>\n      <td>virtualstyling try increases conversion rate l...</td>\n      <td>VirtualStyling and try-on increases the conver...</td>\n      <td>0.7650</td>\n      <td>virtualstyle try increase conversion rate larg...</td>\n    </tr>\n    <tr>\n      <th>3</th>\n      <td>3</td>\n      <td>1125728513666048000</td>\n      <td>9604</td>\n      <td>DommeLineCoUk</td>\n      <td>@missbellalugosi @Zalando Problem starts at Ad...</td>\n      <td>0</td>\n      <td></td>\n      <td>06-Mar-2021</td>\n      <td>2193</td>\n      <td>False</td>\n      <td>1.0</td>\n      <td>1.368196e+18</td>\n      <td>zalando</td>\n      <td>en</td>\n      <td>problem starts adidas selling latex websites</td>\n      <td>Problem starts Adidas. They're selling latex t...</td>\n      <td>-0.4019</td>\n      <td>problem start adida sell latex website</td>\n    </tr>\n    <tr>\n      <th>4</th>\n      <td>4</td>\n      <td>2614256724</td>\n      <td>35470</td>\n      <td>medboyUK</td>\n      <td>@missbellalugosi @Zalando Welcome to my world ...</td>\n      <td>0</td>\n      <td>West Midlands, UK</td>\n      <td>06-Mar-2021</td>\n      <td>2503</td>\n      <td>False</td>\n      <td>1.0</td>\n      <td>1.368196e+18</td>\n      <td>zalando</td>\n      <td>en</td>\n      <td>welcome world sneering disdain</td>\n      <td>Welcome world sneering and disdain!</td>\n      <td>-0.1007</td>\n      <td>welcome world sneer disdain</td>\n    </tr>\n  </tbody>\n</table>\n</div>"
     },
     "metadata": {},
     "execution_count": 36
    }
   ],
   "source": [
    "eng_df.head()"
   ]
  },
  {
   "cell_type": "code",
   "execution_count": 78,
   "metadata": {},
   "outputs": [
    {
     "output_type": "stream",
     "name": "stdout",
     "text": [
      "@jen_f16 Hi Jen, they're similar to Nike's Pegasus. Nike do free delivery &amp; returns if you log in, great website/app.\n",
      "Solereview a fantastic website for analysis, reviews, comparing ride, fit, etc. 👍\n",
      "Zalando also a good website for trainers, free del&amp; returns. I've used all of above 🙂\n",
      "jen similar nike pegasus nike free delivery return log great website app solereview fantastic website analysis review compare ride fit zalando good website trainer free del return\n",
      "Jen, they're similar Nike's Pegasus. Nike free delivery returns you log in, great website/app.Solereview fantastic website for analysis, reviews, comparing ride, fit, etc. 👍Zalando also good website for trainers, free del; returns. I've used all above\n"
     ]
    }
   ],
   "source": [
    "#check the results\n",
    "print(eng_df.tweet[28387])\n",
    "print(eng_df.lemma[28387])\n",
    "print(eng_df.clean_vader[28387])"
   ]
  },
  {
   "cell_type": "code",
   "execution_count": 85,
   "metadata": {},
   "outputs": [
    {
     "output_type": "stream",
     "name": "stdout",
     "text": [
      "index                                                                   88\n",
      "user_id                                                          159793672\n",
      "user_statuses                                                          284\n",
      "name                                                            hollys3012\n",
      "tweet                    @zalando_uk you are by far the WORST company I...\n",
      "retweets                                                                 0\n",
      "location                                                         sheffield\n",
      "created                                                        15-Mar-2021\n",
      "followers                                                              135\n",
      "is_user_verified                                                     False\n",
      "favorite_count                                                         0.0\n",
      "in_reply_to_status_id                                                  NaN\n",
      "keyword                                                            zalando\n",
      "language                                                                en\n",
      "clean                    far worst company dealt ordering clothes times...\n",
      "clean_vader              you are far the WORST company have ever dealt ...\n",
      "compound                                                           -0.8169\n",
      "lemma                    far bad company dealt order clothe time I ’ve ...\n",
      "Name: 20812, dtype: object\n"
     ]
    }
   ],
   "source": [
    "#check the results\n",
    "print(eng_df.loc[20812])\n",
    "\n"
   ]
  },
  {
   "cell_type": "code",
   "execution_count": 77,
   "metadata": {},
   "outputs": [
    {
     "output_type": "execute_result",
     "data": {
      "text/plain": [
       "'🧥TRENCHED🧥 \\n#trenchcoat #trench #beret #style @rayban #rayban @asos #asos #frankspencer #asseenonme #kurtgeiger @kurtgeiger #fashion #riverisland #imwearingri @riverisland @riverislandpr https://t.co/a4UqgkO7Mg'"
      ]
     },
     "metadata": {},
     "execution_count": 77
    }
   ],
   "source": []
  },
  {
   "source": [
    "# Data description\n",
    "- tweet: initial tweet as it was downloaded from API\n",
    "- clean: tweet cleaned completely from punctuation, emojies, emoticons, stopwords, special characters, users, hashtags, links\n",
    "- clean_vader: tweet partly cleaned, saving punctuation, emoticons, emojies for using library Vader to get the sentiment of the tweet\n",
    "- compouns: from -1 (negative) to 1 (positive), 0 - neutral, a tweet sentiment derived from Vader library\n",
    "- lemma: lemmatized words (sent -> send)"
   ],
   "cell_type": "markdown",
   "metadata": {}
  },
  {
   "source": [
    "# Save the dataframe"
   ],
   "cell_type": "markdown",
   "metadata": {}
  },
  {
   "cell_type": "code",
   "execution_count": 49,
   "metadata": {},
   "outputs": [],
   "source": [
    "pickle.dump(eng_df, open(r'.\\data_n_models\\eng_df_labelled.pkl', 'wb'))"
   ]
  }
 ]
}